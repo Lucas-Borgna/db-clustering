{
 "cells": [
  {
   "cell_type": "code",
   "execution_count": 1,
   "metadata": {},
   "outputs": [],
   "source": [
    "### Reloads modules properly\n",
    "%load_ext autoreload\n",
    "%autoreload 2"
   ]
  },
  {
   "cell_type": "code",
   "execution_count": 2,
   "metadata": {},
   "outputs": [],
   "source": [
    "import os\n",
    "os.sys.path.append('../')"
   ]
  },
  {
   "cell_type": "markdown",
   "metadata": {},
   "source": [
    "# DBSCAN and FastHisto Comparison"
   ]
  },
  {
   "cell_type": "code",
   "execution_count": 3,
   "metadata": {},
   "outputs": [],
   "source": [
    "import pandas as pd\n",
    "import uproot\n",
    "import numpy as np\n",
    "import matplotlib.pyplot as plt\n",
    "import seaborn as sns\n",
    "import mplhep as hep\n",
    "hep.style.use('CMS')\n",
    "from tqdm import tqdm"
   ]
  },
  {
   "cell_type": "code",
   "execution_count": 4,
   "metadata": {},
   "outputs": [],
   "source": [
    "from sklearn.cluster import DBSCAN"
   ]
  },
  {
   "cell_type": "code",
   "execution_count": 5,
   "metadata": {},
   "outputs": [],
   "source": [
    "# storage = '/mnt/storage/lborgna/track/l1_nnt/'\n",
    "storage = \"/Volumes/ExternalSSD/track/l1_nnt/\"\n",
    "tp = pd.read_pickle(storage + 'tp.pkl')\n",
    "trk = pd.read_pickle(storage + 'trk.pkl')\n",
    "mc = pd.read_pickle(storage + 'mc.pkl')"
   ]
  },
  {
   "cell_type": "markdown",
   "metadata": {},
   "source": [
    "## Pre-processing"
   ]
  },
  {
   "cell_type": "code",
   "execution_count": 6,
   "metadata": {},
   "outputs": [],
   "source": [
    "trk = trk.loc[trk['trk_pt'] !=np.inf].copy()"
   ]
  },
  {
   "cell_type": "code",
   "execution_count": 144,
   "metadata": {},
   "outputs": [
    {
     "data": {
      "text/plain": [
       "True     40058147\n",
       "False      722493\n",
       "Name: trk_fake, dtype: int64"
      ]
     },
     "execution_count": 144,
     "metadata": {},
     "output_type": "execute_result"
    }
   ],
   "source": [
    "(trk['trk_fake']>0.5).value_counts()"
   ]
  },
  {
   "cell_type": "code",
   "execution_count": 7,
   "metadata": {},
   "outputs": [],
   "source": [
    "trk['is_pv'] = 0\n",
    "trk.loc[trk['trk_fake']==1,'is_pv']=1"
   ]
  },
  {
   "cell_type": "code",
   "execution_count": 8,
   "metadata": {},
   "outputs": [
    {
     "data": {
      "text/html": [
       "<div>\n",
       "<style scoped>\n",
       "    .dataframe tbody tr th:only-of-type {\n",
       "        vertical-align: middle;\n",
       "    }\n",
       "\n",
       "    .dataframe tbody tr th {\n",
       "        vertical-align: top;\n",
       "    }\n",
       "\n",
       "    .dataframe thead th {\n",
       "        text-align: right;\n",
       "    }\n",
       "</style>\n",
       "<table border=\"1\" class=\"dataframe\">\n",
       "  <thead>\n",
       "    <tr style=\"text-align: right;\">\n",
       "      <th></th>\n",
       "      <th></th>\n",
       "      <th>trk_pt</th>\n",
       "      <th>trk_eta</th>\n",
       "      <th>trk_phi</th>\n",
       "      <th>trk_d0</th>\n",
       "      <th>trk_z0</th>\n",
       "      <th>trk_fake</th>\n",
       "      <th>is_pv</th>\n",
       "    </tr>\n",
       "    <tr>\n",
       "      <th>entry</th>\n",
       "      <th>subentry</th>\n",
       "      <th></th>\n",
       "      <th></th>\n",
       "      <th></th>\n",
       "      <th></th>\n",
       "      <th></th>\n",
       "      <th></th>\n",
       "      <th></th>\n",
       "    </tr>\n",
       "  </thead>\n",
       "  <tbody>\n",
       "    <tr>\n",
       "      <th rowspan=\"5\" valign=\"top\">0</th>\n",
       "      <th>0</th>\n",
       "      <td>2.623967</td>\n",
       "      <td>1.301414</td>\n",
       "      <td>-0.289234</td>\n",
       "      <td>999.0</td>\n",
       "      <td>-0.878906</td>\n",
       "      <td>2</td>\n",
       "      <td>0</td>\n",
       "    </tr>\n",
       "    <tr>\n",
       "      <th>1</th>\n",
       "      <td>3.435026</td>\n",
       "      <td>0.566814</td>\n",
       "      <td>-0.159267</td>\n",
       "      <td>999.0</td>\n",
       "      <td>3.339844</td>\n",
       "      <td>2</td>\n",
       "      <td>0</td>\n",
       "    </tr>\n",
       "    <tr>\n",
       "      <th>2</th>\n",
       "      <td>3.774908</td>\n",
       "      <td>1.815973</td>\n",
       "      <td>-0.240375</td>\n",
       "      <td>999.0</td>\n",
       "      <td>4.921875</td>\n",
       "      <td>1</td>\n",
       "      <td>1</td>\n",
       "    </tr>\n",
       "    <tr>\n",
       "      <th>3</th>\n",
       "      <td>2.641448</td>\n",
       "      <td>-1.435747</td>\n",
       "      <td>-0.128747</td>\n",
       "      <td>999.0</td>\n",
       "      <td>-0.468750</td>\n",
       "      <td>2</td>\n",
       "      <td>0</td>\n",
       "    </tr>\n",
       "    <tr>\n",
       "      <th>4</th>\n",
       "      <td>2.320653</td>\n",
       "      <td>1.837421</td>\n",
       "      <td>0.032604</td>\n",
       "      <td>999.0</td>\n",
       "      <td>4.980469</td>\n",
       "      <td>1</td>\n",
       "      <td>1</td>\n",
       "    </tr>\n",
       "    <tr>\n",
       "      <th>...</th>\n",
       "      <th>...</th>\n",
       "      <td>...</td>\n",
       "      <td>...</td>\n",
       "      <td>...</td>\n",
       "      <td>...</td>\n",
       "      <td>...</td>\n",
       "      <td>...</td>\n",
       "      <td>...</td>\n",
       "    </tr>\n",
       "    <tr>\n",
       "      <th rowspan=\"5\" valign=\"top\">222975</th>\n",
       "      <th>211</th>\n",
       "      <td>2.044568</td>\n",
       "      <td>-2.407456</td>\n",
       "      <td>-0.857553</td>\n",
       "      <td>999.0</td>\n",
       "      <td>1.113281</td>\n",
       "      <td>2</td>\n",
       "      <td>0</td>\n",
       "    </tr>\n",
       "    <tr>\n",
       "      <th>212</th>\n",
       "      <td>2.491473</td>\n",
       "      <td>-2.141478</td>\n",
       "      <td>-0.616329</td>\n",
       "      <td>999.0</td>\n",
       "      <td>8.847656</td>\n",
       "      <td>2</td>\n",
       "      <td>0</td>\n",
       "    </tr>\n",
       "    <tr>\n",
       "      <th>213</th>\n",
       "      <td>2.669393</td>\n",
       "      <td>2.230316</td>\n",
       "      <td>-0.748241</td>\n",
       "      <td>999.0</td>\n",
       "      <td>-0.234375</td>\n",
       "      <td>2</td>\n",
       "      <td>0</td>\n",
       "    </tr>\n",
       "    <tr>\n",
       "      <th>214</th>\n",
       "      <td>3.767222</td>\n",
       "      <td>-1.994298</td>\n",
       "      <td>-0.753691</td>\n",
       "      <td>999.0</td>\n",
       "      <td>-4.746094</td>\n",
       "      <td>2</td>\n",
       "      <td>0</td>\n",
       "    </tr>\n",
       "    <tr>\n",
       "      <th>215</th>\n",
       "      <td>1.988538</td>\n",
       "      <td>-2.052655</td>\n",
       "      <td>-0.790385</td>\n",
       "      <td>999.0</td>\n",
       "      <td>0.996094</td>\n",
       "      <td>2</td>\n",
       "      <td>0</td>\n",
       "    </tr>\n",
       "  </tbody>\n",
       "</table>\n",
       "<p>40780640 rows × 7 columns</p>\n",
       "</div>"
      ],
      "text/plain": [
       "                   trk_pt   trk_eta   trk_phi  trk_d0    trk_z0  trk_fake  \\\n",
       "entry  subentry                                                             \n",
       "0      0         2.623967  1.301414 -0.289234   999.0 -0.878906         2   \n",
       "       1         3.435026  0.566814 -0.159267   999.0  3.339844         2   \n",
       "       2         3.774908  1.815973 -0.240375   999.0  4.921875         1   \n",
       "       3         2.641448 -1.435747 -0.128747   999.0 -0.468750         2   \n",
       "       4         2.320653  1.837421  0.032604   999.0  4.980469         1   \n",
       "...                   ...       ...       ...     ...       ...       ...   \n",
       "222975 211       2.044568 -2.407456 -0.857553   999.0  1.113281         2   \n",
       "       212       2.491473 -2.141478 -0.616329   999.0  8.847656         2   \n",
       "       213       2.669393  2.230316 -0.748241   999.0 -0.234375         2   \n",
       "       214       3.767222 -1.994298 -0.753691   999.0 -4.746094         2   \n",
       "       215       1.988538 -2.052655 -0.790385   999.0  0.996094         2   \n",
       "\n",
       "                 is_pv  \n",
       "entry  subentry         \n",
       "0      0             0  \n",
       "       1             0  \n",
       "       2             1  \n",
       "       3             0  \n",
       "       4             1  \n",
       "...                ...  \n",
       "222975 211           0  \n",
       "       212           0  \n",
       "       213           0  \n",
       "       214           0  \n",
       "       215           0  \n",
       "\n",
       "[40780640 rows x 7 columns]"
      ]
     },
     "execution_count": 8,
     "metadata": {},
     "output_type": "execute_result"
    }
   ],
   "source": [
    "trk"
   ]
  },
  {
   "cell_type": "code",
   "execution_count": 37,
   "metadata": {},
   "outputs": [],
   "source": [
    "from pv_utils import (\n",
    "    truth_pv_z0,\n",
    "    # run_fast_histo,\n",
    "    run_dbscan,\n",
    "    primary_vertex_efficiency,\n",
    "    plot_pv_efficiency_z0,\n",
    "    plot_pv_resolution_z0,\n",
    "    run_pv_fast_histo,\n",
    "    run_pv_dbscan\n",
    ")"
   ]
  },
  {
   "cell_type": "code",
   "execution_count": 10,
   "metadata": {},
   "outputs": [],
   "source": [
    "z0_gen = truth_pv_z0(tp)"
   ]
  },
  {
   "cell_type": "code",
   "execution_count": 11,
   "metadata": {},
   "outputs": [],
   "source": [
    "z0_mc = mc['pv_MC'].xs(0, axis = 0, level = 1, drop_level=True)"
   ]
  },
  {
   "cell_type": "code",
   "execution_count": 117,
   "metadata": {},
   "outputs": [],
   "source": [
    "# be_fh = np.arange(-15, 15+0.15, 0.15)\n",
    "be_fh = np.linspace(-15, 15, 256)"
   ]
  },
  {
   "cell_type": "code",
   "execution_count": 118,
   "metadata": {},
   "outputs": [
    {
     "data": {
      "text/plain": [
       "256"
      ]
     },
     "execution_count": 118,
     "metadata": {},
     "output_type": "execute_result"
    }
   ],
   "source": [
    "be_fh.shape[0]"
   ]
  },
  {
   "cell_type": "code",
   "execution_count": 125,
   "metadata": {},
   "outputs": [
    {
     "data": {
      "text/plain": [
       "0.0588235294117645"
      ]
     },
     "execution_count": 125,
     "metadata": {},
     "output_type": "execute_result"
    }
   ],
   "source": [
    "halfbinwidth"
   ]
  },
  {
   "cell_type": "code",
   "execution_count": 161,
   "metadata": {},
   "outputs": [
    {
     "data": {
      "text/plain": [
       "0.05859375"
      ]
     },
     "execution_count": 161,
     "metadata": {},
     "output_type": "execute_result"
    }
   ],
   "source": [
    "0.5*30.0/256.0"
   ]
  },
  {
   "cell_type": "code",
   "execution_count": 177,
   "metadata": {},
   "outputs": [],
   "source": [
    "bin_width = be_fh[1]-be_fh[0]"
   ]
  },
  {
   "cell_type": "code",
   "execution_count": 178,
   "metadata": {},
   "outputs": [
    {
     "data": {
      "text/plain": [
       "0.117647058823529"
      ]
     },
     "execution_count": 178,
     "metadata": {},
     "output_type": "execute_result"
    }
   ],
   "source": [
    "bin_width"
   ]
  },
  {
   "cell_type": "code",
   "execution_count": 168,
   "metadata": {},
   "outputs": [],
   "source": [
    "i_test = 126\n",
    "halfbinwidth =0.5*(be_fh[1] - be_fh[0])\n",
    "z0_test1 = -15.0 + (30.0)*(126.0)/256.0 + halfbinwidth\n",
    "z0_test2 = be_fh[i_test+1] + halfbinwidth"
   ]
  },
  {
   "cell_type": "code",
   "execution_count": 14,
   "metadata": {},
   "outputs": [],
   "source": [
    "tqdm.pandas()"
   ]
  },
  {
   "cell_type": "markdown",
   "metadata": {},
   "source": [
    "**Corrected implementation of fast histo**"
   ]
  },
  {
   "cell_type": "code",
   "execution_count": 15,
   "metadata": {},
   "outputs": [],
   "source": [
    "# def fast_histo_event(z0: np.array, pt: np.array, bin_edges: np.array) -> pd.Series:\n",
    "#     \"Event-level Fast Histo implementation to return the reconstructed primary vertex\"\n",
    "\n",
    "#     histo = np.histogram(z0, bins=bin_edges, weights=pt)[0]\n",
    "    \n",
    "#     histo = np.convolve(histo, [1,1,1], mode='same')\n",
    "    \n",
    "#     labels = np.zeros(len(z0), dtype=int)\n",
    "    \n",
    "\n",
    "#     max_idx = np.argmax(histo)\n",
    "\n",
    "#     lower_bin_bound = bin_edges[max_idx]\n",
    "#     upper_bin_bound = bin_edges[max_idx + 1]\n",
    "\n",
    "#     in_max_bin_mask = (z0 > lower_bin_bound) & (z0 <= upper_bin_bound)\n",
    "#     labels[in_max_bin_mask] = 1\n",
    "\n",
    "#     return labels"
   ]
  },
  {
   "cell_type": "code",
   "execution_count": 16,
   "metadata": {},
   "outputs": [],
   "source": [
    "# def run_pv_fast_histo(\n",
    "#     df: pd.DataFrame,\n",
    "#     bin_edges: np.array,\n",
    "#     z0_column: str = \"trk_z0\",\n",
    "#     pt_column: str = \"trk_pt\",\n",
    "# ) -> np.array:\n",
    "#     \"\"\"Runs FastHisto over all of the events.\n",
    "\n",
    "#     Args:\n",
    "#         df (pd.DataFrame): Dataframe containing multiple events\n",
    "#         bin_edges (np.array): bin edges to be used for FastHisto\n",
    "#         z0_column (str, optional): column name containing track's z0 position. Defaults to \"trk_z0\".\n",
    "#         pt_column (str, optional): column name containing tracks pt. Defaults to \"trk_pt\".\n",
    "\n",
    "#     Returns:\n",
    "#         np.array: Binary labels indicating if the track belongs to the primary vertex.\n",
    "#     \"\"\"\n",
    "#     pv_fh = df.groupby(level=0).progress_apply(\n",
    "#         lambda x: fast_histo_event(x[z0_column], x[pt_column], bin_edges)\n",
    "#     )\n",
    "\n",
    "#     pv_fh = pd.DataFrame(pv_fh, columns=[\"fh_label\"])\n",
    "\n",
    "#     pv_fh = pv_fh.explode(\"fh_label\")\n",
    "\n",
    "#     return pv_fh.values"
   ]
  },
  {
   "cell_type": "code",
   "execution_count": 112,
   "metadata": {},
   "outputs": [],
   "source": [
    "def fast_histo_event(z0: np.array, pt: np.array, bin_edges: np.array, convolve:bool=True) -> pd.Series:\n",
    "    \"Event-level Fast Histo implementation to return the reconstructed primary vertex\"\n",
    "\n",
    "    histo = np.histogram(z0, bins=bin_edges, weights=pt)[0]\n",
    "\n",
    "    if convolve:\n",
    "        histo =np.convolve(histo, [1, 1, 1], mode=\"same\")\n",
    "\n",
    "    labels = np.zeros(len(z0), dtype=int)\n",
    "\n",
    "    max_idx = np.argmax(histo)\n",
    "\n",
    "    lower_bin_bound = bin_edges[max_idx]\n",
    "    upper_bin_bound = bin_edges[max_idx + 1]\n",
    "\n",
    "    # global max_idx_list\n",
    "    # global max_idx_list_c\n",
    "    # max_idx_list.append(max_idx)\n",
    "    # max_idx_list_c.append(max_idx_c)\n",
    "\n",
    "    in_max_bin_mask = (z0 > lower_bin_bound) & (z0 <= upper_bin_bound)\n",
    "    labels[in_max_bin_mask] = 1\n",
    "\n",
    "    return labels\n",
    "\n",
    "def fast_histo_z0(z0: np.array, pt:np.array, bin_edges:np.array, convolve:bool=True)->pd.Series:\n",
    "    \n",
    "    histo = np.histogram(z0, bins=bin_edges, weights=pt)[0]\n",
    "    \n",
    "    if convolve:\n",
    "        histo = np.convolve(histo, [1,1,1], mode='same')\n",
    "    z0_index = np.argmax(histo)\n",
    "    \n",
    "    halfBinWidth = 0.5 *(bin_edges[1] -bin_edges[0])\n",
    "    \n",
    "    nbins = bin_edges.shape[0]\n",
    "    \n",
    "    z0 = bin_edges[0] + (bin_edges[-1]-bin_edges[0])*z0_index/nbins + halfBinWidth\n",
    "    \n",
    "    return z0\n",
    "\n",
    "def run_pv_fast_histo(\n",
    "    df: pd.DataFrame,\n",
    "    bin_edges: np.array,\n",
    "    z0_column: str = \"trk_z0\",\n",
    "    pt_column: str = \"trk_pt\",\n",
    "    z0_only:bool=True,\n",
    "    convolve:bool=True\n",
    ") -> np.array:\n",
    "    \"\"\"Runs FastHisto over all of the events.\n",
    "\n",
    "    Args:\n",
    "        df (pd.DataFrame): Dataframe containing multiple events\n",
    "        bin_edges (np.array): bin edges to be used for FastHisto\n",
    "        z0_column (str, optional): column name containing track's z0 position. Defaults to \"trk_z0\".\n",
    "        pt_column (str, optional): column name containing tracks pt. Defaults to \"trk_pt\".\n",
    "\n",
    "    Returns:\n",
    "        np.array: Binary labels indicating if the track belongs to the primary vertex.\n",
    "    \"\"\"\n",
    "    if z0_only:\n",
    "        \n",
    "        pv_fh = df.groupby(level=0).progress_apply(\n",
    "            lambda x: fast_histo_z0(x[z0_column], x[pt_column], bin_edges, convolve)\n",
    "        )\n",
    "        return pv_fh\n",
    "    else:\n",
    "        \n",
    "        pv_fh = df.groupby(level=0).progress_apply(\n",
    "            lambda x: fast_histo_event(x[z0_column], x[pt_column], bin_edges, convolve)\n",
    "        )\n",
    "\n",
    "        pv_fh = pd.DataFrame(pv_fh, columns=[\"fh_label\"])\n",
    "\n",
    "        pv_fh = pv_fh.explode(\"fh_label\")\n",
    "\n",
    "        return pv_fh.values\n"
   ]
  },
  {
   "cell_type": "code",
   "execution_count": 111,
   "metadata": {},
   "outputs": [],
   "source": [
    "max_idx_list = [] \n",
    "max_idx_list_c = []"
   ]
  },
  {
   "cell_type": "code",
   "execution_count": 113,
   "metadata": {
    "tags": []
   },
   "outputs": [
    {
     "name": "stderr",
     "output_type": "stream",
     "text": [
      "100%|█████████████████████████████████████████████████████████████████████████████████████████████████████████████████████████████████████████████████████████████| 222976/222976 [01:12<00:00, 3082.76it/s]\n"
     ]
    }
   ],
   "source": [
    "trk['fh_label'] = run_pv_fast_histo(trk, bin_edges=be_fh, z0_only=False, convolve=False)"
   ]
  },
  {
   "cell_type": "code",
   "execution_count": 77,
   "metadata": {},
   "outputs": [
    {
     "name": "stderr",
     "output_type": "stream",
     "text": [
      "100%|████████████████████████████████████████████████████████████████████████████████████████████████████████████████████████████████████| 222976/222976 [00:37<00:00, 5888.46it/s]\n"
     ]
    }
   ],
   "source": [
    "z0_fh_t = run_pv_fast_histo(trk, bin_edges=be_fh, z0_only=True)"
   ]
  },
  {
   "cell_type": "code",
   "execution_count": 42,
   "metadata": {},
   "outputs": [],
   "source": [
    "dfd = pd.DataFrame({'max_idx':max_idx_list,'max_idx_c':max_idx_list_c,})"
   ]
  },
  {
   "cell_type": "code",
   "execution_count": 47,
   "metadata": {},
   "outputs": [],
   "source": [
    "dfd['diff'] = np.abs(dfd['max_idx']-dfd['max_idx_c'])"
   ]
  },
  {
   "cell_type": "code",
   "execution_count": 53,
   "metadata": {},
   "outputs": [],
   "source": [
    "bad_ones = list(dfd[dfd['diff'] > 6].index)"
   ]
  },
  {
   "cell_type": "code",
   "execution_count": 55,
   "metadata": {},
   "outputs": [],
   "source": [
    "bad_ones_6_samples = bad_ones[0:6]"
   ]
  },
  {
   "cell_type": "code",
   "execution_count": 56,
   "metadata": {},
   "outputs": [
    {
     "data": {
      "text/plain": [
       "[17, 81, 114, 318, 467, 486]"
      ]
     },
     "execution_count": 56,
     "metadata": {},
     "output_type": "execute_result"
    }
   ],
   "source": [
    "bad_ones_6_samples"
   ]
  },
  {
   "cell_type": "code",
   "execution_count": 72,
   "metadata": {},
   "outputs": [
    {
     "data": {
      "image/png": "[encoded data removed]",
      "text/plain": [
       "<Figure size 1152x1152 with 6 Axes>"
      ]
     },
     "metadata": {
      "needs_background": "light"
     },
     "output_type": "display_data"
    }
   ],
   "source": [
    "f, ax = plt.subplots(2,3, figsize = (16,16))\n",
    "ax = ax.ravel()\n",
    "\n",
    "for i, j in enumerate(bad_ones_6_samples):\n",
    "    e = trk.query(f\"entry=={j}\")\n",
    "    \n",
    "    histo = np.histogram(e.trk_z0, bins=be_fh, weights=e.trk_pt)[0]\n",
    "    \n",
    "    histo_c = np.convolve(histo, [1,1,1], mode='same')\n",
    "    \n",
    "    hep.histplot(histo, be_fh, label = 'original histogram', ax=ax[i])\n",
    "    hep.histplot(histo_c, be_fh, label = 'convolved histogram',ax=ax[i])\n",
    "    ax[i].set_xlabel('z0')\n",
    "    ax[i].set_xlim(-10,10)\n",
    "    ax[i].set_title(f\"Event {j}\")"
   ]
  },
  {
   "cell_type": "code",
   "execution_count": 99,
   "metadata": {},
   "outputs": [
    {
     "name": "stdout",
     "output_type": "stream",
     "text": [
      "55 37\n",
      "80 52\n",
      "93 38\n",
      "45 65\n",
      "83 57\n",
      "89 48\n"
     ]
    },
    {
     "data": {
      "image/png": "[encoded data removed]",
      "text/plain": [
       "<Figure size 1872x1152 with 6 Axes>"
      ]
     },
     "metadata": {
      "needs_background": "light"
     },
     "output_type": "display_data"
    }
   ],
   "source": [
    "f, ax = plt.subplots(2,3, figsize = (26,16))\n",
    "ax = ax.ravel()\n",
    "hbw = 0.5*(be_fh[1] - be_fh[0])\n",
    "for i, j in enumerate(bad_ones_6_samples):\n",
    "    e = trk.query(f\"entry=={j}\")\n",
    "    \n",
    "    histo = np.histogram(e.trk_z0, bins=be_fh, weights=e.trk_pt)[0]\n",
    "    idx_max =np.argmax(histo)\n",
    "    histo_c = np.convolve(histo, [1,1,1], mode='same')\n",
    "    idx_max_c = np.argmax(histo_c)\n",
    "    print(idx_max, idx_max_c)\n",
    "    \n",
    "    lower_bound =  be_fh[idx_max] - 5\n",
    "    upper_bound = be_fh[idx_max] + 5\n",
    "\n",
    "    \n",
    "    hep.histplot(histo, be_fh, label = 'original histogram', ax=ax[i], color= 'red')\n",
    "    hep.histplot(histo_c, be_fh, label = 'convolved histogram',ax=ax[i], color='green')\n",
    "    ax[i].axvline(be_fh[idx_max]+hbw, label = 'max original', color='red', ls='--')\n",
    "    ax[i].axvline(be_fh[idx_max_c]+hbw, label = 'max convolved', color='green',ls='--')\n",
    "    ax[i].set_xlabel('z0')\n",
    "    ax[i].set_xlim(-15,15)\n",
    "    ax[i].set_title(f\"Event {j}\")\n",
    "    ax[i].legend(fontsize = 10)\n",
    "plt.savefig('fast_histo_with_convolutions.pdf', dpi=600,bbox_inches='tight')"
   ]
  },
  {
   "cell_type": "code",
   "execution_count": 61,
   "metadata": {},
   "outputs": [
    {
     "name": "stdout",
     "output_type": "stream",
     "text": [
      "entry==17\n"
     ]
    },
    {
     "data": {
      "text/html": [
       "<div>\n",
       "<style scoped>\n",
       "    .dataframe tbody tr th:only-of-type {\n",
       "        vertical-align: middle;\n",
       "    }\n",
       "\n",
       "    .dataframe tbody tr th {\n",
       "        vertical-align: top;\n",
       "    }\n",
       "\n",
       "    .dataframe thead th {\n",
       "        text-align: right;\n",
       "    }\n",
       "</style>\n",
       "<table border=\"1\" class=\"dataframe\">\n",
       "  <thead>\n",
       "    <tr style=\"text-align: right;\">\n",
       "      <th></th>\n",
       "      <th></th>\n",
       "      <th>trk_pt</th>\n",
       "      <th>trk_eta</th>\n",
       "      <th>trk_phi</th>\n",
       "      <th>trk_d0</th>\n",
       "      <th>trk_z0</th>\n",
       "      <th>trk_fake</th>\n",
       "      <th>is_pv</th>\n",
       "      <th>fh_label</th>\n",
       "      <th>db_label</th>\n",
       "    </tr>\n",
       "    <tr>\n",
       "      <th>entry</th>\n",
       "      <th>subentry</th>\n",
       "      <th></th>\n",
       "      <th></th>\n",
       "      <th></th>\n",
       "      <th></th>\n",
       "      <th></th>\n",
       "      <th></th>\n",
       "      <th></th>\n",
       "      <th></th>\n",
       "      <th></th>\n",
       "    </tr>\n",
       "  </thead>\n",
       "  <tbody>\n",
       "    <tr>\n",
       "      <th rowspan=\"11\" valign=\"top\">17</th>\n",
       "      <th>0</th>\n",
       "      <td>2.511198</td>\n",
       "      <td>0.093613</td>\n",
       "      <td>-0.189864</td>\n",
       "      <td>999.0</td>\n",
       "      <td>2.988281</td>\n",
       "      <td>2</td>\n",
       "      <td>0</td>\n",
       "      <td>0</td>\n",
       "      <td>0</td>\n",
       "    </tr>\n",
       "    <tr>\n",
       "      <th>1</th>\n",
       "      <td>2.699247</td>\n",
       "      <td>1.138209</td>\n",
       "      <td>-0.145157</td>\n",
       "      <td>999.0</td>\n",
       "      <td>1.347656</td>\n",
       "      <td>2</td>\n",
       "      <td>0</td>\n",
       "      <td>0</td>\n",
       "      <td>0</td>\n",
       "    </tr>\n",
       "    <tr>\n",
       "      <th>2</th>\n",
       "      <td>2.055166</td>\n",
       "      <td>-0.570164</td>\n",
       "      <td>-0.272392</td>\n",
       "      <td>999.0</td>\n",
       "      <td>3.339844</td>\n",
       "      <td>2</td>\n",
       "      <td>0</td>\n",
       "      <td>0</td>\n",
       "      <td>0</td>\n",
       "    </tr>\n",
       "    <tr>\n",
       "      <th>3</th>\n",
       "      <td>2.637682</td>\n",
       "      <td>1.260110</td>\n",
       "      <td>-0.114267</td>\n",
       "      <td>999.0</td>\n",
       "      <td>-1.171875</td>\n",
       "      <td>2</td>\n",
       "      <td>0</td>\n",
       "      <td>0</td>\n",
       "      <td>0</td>\n",
       "    </tr>\n",
       "    <tr>\n",
       "      <th>4</th>\n",
       "      <td>4.131747</td>\n",
       "      <td>-1.802891</td>\n",
       "      <td>-0.125814</td>\n",
       "      <td>999.0</td>\n",
       "      <td>-5.449219</td>\n",
       "      <td>2</td>\n",
       "      <td>0</td>\n",
       "      <td>0</td>\n",
       "      <td>0</td>\n",
       "    </tr>\n",
       "    <tr>\n",
       "      <th>...</th>\n",
       "      <td>...</td>\n",
       "      <td>...</td>\n",
       "      <td>...</td>\n",
       "      <td>...</td>\n",
       "      <td>...</td>\n",
       "      <td>...</td>\n",
       "      <td>...</td>\n",
       "      <td>...</td>\n",
       "      <td>...</td>\n",
       "    </tr>\n",
       "    <tr>\n",
       "      <th>127</th>\n",
       "      <td>2.052506</td>\n",
       "      <td>-1.062151</td>\n",
       "      <td>-0.311750</td>\n",
       "      <td>999.0</td>\n",
       "      <td>-4.394531</td>\n",
       "      <td>2</td>\n",
       "      <td>0</td>\n",
       "      <td>0</td>\n",
       "      <td>0</td>\n",
       "    </tr>\n",
       "    <tr>\n",
       "      <th>128</th>\n",
       "      <td>2.342195</td>\n",
       "      <td>-1.327834</td>\n",
       "      <td>-0.263926</td>\n",
       "      <td>999.0</td>\n",
       "      <td>-2.636719</td>\n",
       "      <td>2</td>\n",
       "      <td>0</td>\n",
       "      <td>0</td>\n",
       "      <td>0</td>\n",
       "    </tr>\n",
       "    <tr>\n",
       "      <th>129</th>\n",
       "      <td>2.462734</td>\n",
       "      <td>1.289476</td>\n",
       "      <td>-0.768557</td>\n",
       "      <td>999.0</td>\n",
       "      <td>1.171875</td>\n",
       "      <td>2</td>\n",
       "      <td>0</td>\n",
       "      <td>0</td>\n",
       "      <td>0</td>\n",
       "    </tr>\n",
       "    <tr>\n",
       "      <th>130</th>\n",
       "      <td>2.259720</td>\n",
       "      <td>-2.107424</td>\n",
       "      <td>-0.865997</td>\n",
       "      <td>999.0</td>\n",
       "      <td>-4.570312</td>\n",
       "      <td>2</td>\n",
       "      <td>0</td>\n",
       "      <td>0</td>\n",
       "      <td>0</td>\n",
       "    </tr>\n",
       "    <tr>\n",
       "      <th>131</th>\n",
       "      <td>2.142417</td>\n",
       "      <td>2.254924</td>\n",
       "      <td>-0.774624</td>\n",
       "      <td>999.0</td>\n",
       "      <td>-1.523438</td>\n",
       "      <td>2</td>\n",
       "      <td>0</td>\n",
       "      <td>0</td>\n",
       "      <td>0</td>\n",
       "    </tr>\n",
       "  </tbody>\n",
       "</table>\n",
       "<p>132 rows × 9 columns</p>\n",
       "</div>"
      ],
      "text/plain": [
       "                  trk_pt   trk_eta   trk_phi  trk_d0    trk_z0  trk_fake  \\\n",
       "entry subentry                                                             \n",
       "17    0         2.511198  0.093613 -0.189864   999.0  2.988281         2   \n",
       "      1         2.699247  1.138209 -0.145157   999.0  1.347656         2   \n",
       "      2         2.055166 -0.570164 -0.272392   999.0  3.339844         2   \n",
       "      3         2.637682  1.260110 -0.114267   999.0 -1.171875         2   \n",
       "      4         4.131747 -1.802891 -0.125814   999.0 -5.449219         2   \n",
       "...                  ...       ...       ...     ...       ...       ...   \n",
       "      127       2.052506 -1.062151 -0.311750   999.0 -4.394531         2   \n",
       "      128       2.342195 -1.327834 -0.263926   999.0 -2.636719         2   \n",
       "      129       2.462734  1.289476 -0.768557   999.0  1.171875         2   \n",
       "      130       2.259720 -2.107424 -0.865997   999.0 -4.570312         2   \n",
       "      131       2.142417  2.254924 -0.774624   999.0 -1.523438         2   \n",
       "\n",
       "                is_pv fh_label  db_label  \n",
       "entry subentry                            \n",
       "17    0             0        0         0  \n",
       "      1             0        0         0  \n",
       "      2             0        0         0  \n",
       "      3             0        0         0  \n",
       "      4             0        0         0  \n",
       "...               ...      ...       ...  \n",
       "      127           0        0         0  \n",
       "      128           0        0         0  \n",
       "      129           0        0         0  \n",
       "      130           0        0         0  \n",
       "      131           0        0         0  \n",
       "\n",
       "[132 rows x 9 columns]"
      ]
     },
     "execution_count": 61,
     "metadata": {},
     "output_type": "execute_result"
    }
   ],
   "source": [
    "target = f\"entry=={bad_ones_6_samples[0]}\"\n",
    "print(target)\n",
    "trk.query(target)"
   ]
  },
  {
   "cell_type": "code",
   "execution_count": null,
   "metadata": {},
   "outputs": [],
   "source": []
  },
  {
   "cell_type": "code",
   "execution_count": 48,
   "metadata": {},
   "outputs": [
    {
     "data": {
      "text/plain": [
       "0     124592\n",
       "1      92329\n",
       "4        298\n",
       "5        277\n",
       "6        267\n",
       "       ...  \n",
       "79         1\n",
       "71         1\n",
       "89         1\n",
       "85         1\n",
       "80         1\n",
       "Name: diff, Length: 80, dtype: int64"
      ]
     },
     "execution_count": 48,
     "metadata": {},
     "output_type": "execute_result"
    }
   ],
   "source": [
    "dfd['diff'].value_counts()"
   ]
  },
  {
   "cell_type": "code",
   "execution_count": 41,
   "metadata": {
    "collapsed": true,
    "jupyter": {
     "outputs_hidden": true
    },
    "tags": []
   },
   "outputs": [
    {
     "data": {
      "text/plain": [
       "[66,\n",
       " 38,\n",
       " 49,\n",
       " 59,\n",
       " 45,\n",
       " 37,\n",
       " 49,\n",
       " 31,\n",
       " 55,\n",
       " 40,\n",
       " 79,\n",
       " 38,\n",
       " 49,\n",
       " 35,\n",
       " 33,\n",
       " 47,\n",
       " 55,\n",
       " 55,\n",
       " 33,\n",
       " 69,\n",
       " 53,\n",
       " 52,\n",
       " 67,\n",
       " 60,\n",
       " 42,\n",
       " 56,\n",
       " 45,\n",
       " 46,\n",
       " 54,\n",
       " 37,\n",
       " 49,\n",
       " 49,\n",
       " 52,\n",
       " 66,\n",
       " 38,\n",
       " 49,\n",
       " 59,\n",
       " 31,\n",
       " 56,\n",
       " 50,\n",
       " 49,\n",
       " 66,\n",
       " 49,\n",
       " 58,\n",
       " 40,\n",
       " 49,\n",
       " 45,\n",
       " 47,\n",
       " 49,\n",
       " 29,\n",
       " 56,\n",
       " 30,\n",
       " 50,\n",
       " 58,\n",
       " 36,\n",
       " 49,\n",
       " 29,\n",
       " 71,\n",
       " 31,\n",
       " 62,\n",
       " 50,\n",
       " 42,\n",
       " 54,\n",
       " 42,\n",
       " 46,\n",
       " 55,\n",
       " 17,\n",
       " 48,\n",
       " 49,\n",
       " 45,\n",
       " 38,\n",
       " 79,\n",
       " 63,\n",
       " 88,\n",
       " 61,\n",
       " 64,\n",
       " 33,\n",
       " 58,\n",
       " 60,\n",
       " 65,\n",
       " 58,\n",
       " 80,\n",
       " 65,\n",
       " 66,\n",
       " 86,\n",
       " 66,\n",
       " 43,\n",
       " 46,\n",
       " 31,\n",
       " 66,\n",
       " 66,\n",
       " 58,\n",
       " 41,\n",
       " 80,\n",
       " 63,\n",
       " 43,\n",
       " 64,\n",
       " 50,\n",
       " 52,\n",
       " 63,\n",
       " 22,\n",
       " 43,\n",
       " 47,\n",
       " 55,\n",
       " 50,\n",
       " 63,\n",
       " 47,\n",
       " 44,\n",
       " 56,\n",
       " 55,\n",
       " 24,\n",
       " 58,\n",
       " 33,\n",
       " 32,\n",
       " 93,\n",
       " 54,\n",
       " 59,\n",
       " 46,\n",
       " 35,\n",
       " 66,\n",
       " 56,\n",
       " 44,\n",
       " 60,\n",
       " 43,\n",
       " 45,\n",
       " 30,\n",
       " 43,\n",
       " 40,\n",
       " 43,\n",
       " 47,\n",
       " 48,\n",
       " 49,\n",
       " 45,\n",
       " 38,\n",
       " 33,\n",
       " 58,\n",
       " 55,\n",
       " 52,\n",
       " 30,\n",
       " 42,\n",
       " 39,\n",
       " 51,\n",
       " 65,\n",
       " 47,\n",
       " 69,\n",
       " 66,\n",
       " 42,\n",
       " 45,\n",
       " 59,\n",
       " 44,\n",
       " 54,\n",
       " 63,\n",
       " 49,\n",
       " 51,\n",
       " 49,\n",
       " 43,\n",
       " 29,\n",
       " 52,\n",
       " 79,\n",
       " 35,\n",
       " 68,\n",
       " 28,\n",
       " 50,\n",
       " 33,\n",
       " 37,\n",
       " 61,\n",
       " 47,\n",
       " 31,\n",
       " 74,\n",
       " 77,\n",
       " 30,\n",
       " 58,\n",
       " 48,\n",
       " 35,\n",
       " 51,\n",
       " 40,\n",
       " 45,\n",
       " 58,\n",
       " 34,\n",
       " 48,\n",
       " 46,\n",
       " 40,\n",
       " 76,\n",
       " 60,\n",
       " 50,\n",
       " 61,\n",
       " 58,\n",
       " 54,\n",
       " 61,\n",
       " 58,\n",
       " 74,\n",
       " 92,\n",
       " 56,\n",
       " 56,\n",
       " 59,\n",
       " 52,\n",
       " 63,\n",
       " 67,\n",
       " 45,\n",
       " 56,\n",
       " 69,\n",
       " 35,\n",
       " 44,\n",
       " 49,\n",
       " 50,\n",
       " 51,\n",
       " 48,\n",
       " 65,\n",
       " 37,\n",
       " 75,\n",
       " 33,\n",
       " 43,\n",
       " 54,\n",
       " 34,\n",
       " 56,\n",
       " 59,\n",
       " 60,\n",
       " 66,\n",
       " 67,\n",
       " 52,\n",
       " 64,\n",
       " 70,\n",
       " 40,\n",
       " 71,\n",
       " 52,\n",
       " 61,\n",
       " 39,\n",
       " 80,\n",
       " 72,\n",
       " 34,\n",
       " 68,\n",
       " 66,\n",
       " 40,\n",
       " 58,\n",
       " 50,\n",
       " 76,\n",
       " 61,\n",
       " 43,\n",
       " 39,\n",
       " 35,\n",
       " 46,\n",
       " 27,\n",
       " 42,\n",
       " 45,\n",
       " 19,\n",
       " 46,\n",
       " 77,\n",
       " 65,\n",
       " 45,\n",
       " 40,\n",
       " 49,\n",
       " 65,\n",
       " 25,\n",
       " 47,\n",
       " 32,\n",
       " 55,\n",
       " 41,\n",
       " 52,\n",
       " 34,\n",
       " 42,\n",
       " 23,\n",
       " 45,\n",
       " 41,\n",
       " 64,\n",
       " 37,\n",
       " 54,\n",
       " 49,\n",
       " 63,\n",
       " 45,\n",
       " 32,\n",
       " 31,\n",
       " 66,\n",
       " 62,\n",
       " 42,\n",
       " 52,\n",
       " 43,\n",
       " 28,\n",
       " 59,\n",
       " 48,\n",
       " 61,\n",
       " 60,\n",
       " 62,\n",
       " 56,\n",
       " 42,\n",
       " 50,\n",
       " 35,\n",
       " 43,\n",
       " 63,\n",
       " 50,\n",
       " 64,\n",
       " 49,\n",
       " 24,\n",
       " 53,\n",
       " 61,\n",
       " 22,\n",
       " 63,\n",
       " 41,\n",
       " 66,\n",
       " 64,\n",
       " 44,\n",
       " 75,\n",
       " 35,\n",
       " 56,\n",
       " 48,\n",
       " 56,\n",
       " 47,\n",
       " 86,\n",
       " 64,\n",
       " 49,\n",
       " 49,\n",
       " 44,\n",
       " 33,\n",
       " 66,\n",
       " 49,\n",
       " 58,\n",
       " 61,\n",
       " 56,\n",
       " 43,\n",
       " 45,\n",
       " 32,\n",
       " 59,\n",
       " 49,\n",
       " 36,\n",
       " 50,\n",
       " 61,\n",
       " 66,\n",
       " 59,\n",
       " 54,\n",
       " 47,\n",
       " 42,\n",
       " 74,\n",
       " 47,\n",
       " 54,\n",
       " 74,\n",
       " 39,\n",
       " 51,\n",
       " 58,\n",
       " 62,\n",
       " 61,\n",
       " 51,\n",
       " 54,\n",
       " 54,\n",
       " 69,\n",
       " 26,\n",
       " 51,\n",
       " 47,\n",
       " 65,\n",
       " 62,\n",
       " 30,\n",
       " 21,\n",
       " 53,\n",
       " 41,\n",
       " 40,\n",
       " 49,\n",
       " 50,\n",
       " 42,\n",
       " 58,\n",
       " 24,\n",
       " 42,\n",
       " 69,\n",
       " 69,\n",
       " 51,\n",
       " 62,\n",
       " 48,\n",
       " 29,\n",
       " 74,\n",
       " 53,\n",
       " 23,\n",
       " 54,\n",
       " 36,\n",
       " 72,\n",
       " 64,\n",
       " 42,\n",
       " 51,\n",
       " 68,\n",
       " 28,\n",
       " 25,\n",
       " 57,\n",
       " 53,\n",
       " 44,\n",
       " 51,\n",
       " 51,\n",
       " 66,\n",
       " 66,\n",
       " 58,\n",
       " 40,\n",
       " 39,\n",
       " 31,\n",
       " 36,\n",
       " 59,\n",
       " 46,\n",
       " 50,\n",
       " 80,\n",
       " 19,\n",
       " 16,\n",
       " 41,\n",
       " 32,\n",
       " 41,\n",
       " 44,\n",
       " 41,\n",
       " 66,\n",
       " 64,\n",
       " 48,\n",
       " 44,\n",
       " 53,\n",
       " 39,\n",
       " 49,\n",
       " 48,\n",
       " 61,\n",
       " 58,\n",
       " 52,\n",
       " 38,\n",
       " 34,\n",
       " 51,\n",
       " 52,\n",
       " 58,\n",
       " 44,\n",
       " 73,\n",
       " 57,\n",
       " 58,\n",
       " 38,\n",
       " 76,\n",
       " 37,\n",
       " 48,\n",
       " 76,\n",
       " 45,\n",
       " 14,\n",
       " 67,\n",
       " 52,\n",
       " 42,\n",
       " 66,\n",
       " 68,\n",
       " 47,\n",
       " 49,\n",
       " 60,\n",
       " 60,\n",
       " 32,\n",
       " 60,\n",
       " 31,\n",
       " 65,\n",
       " 48,\n",
       " 63,\n",
       " 38,\n",
       " 44,\n",
       " 37,\n",
       " 63,\n",
       " 18,\n",
       " 37,\n",
       " 18,\n",
       " 46,\n",
       " 63,\n",
       " 69,\n",
       " 58,\n",
       " 42,\n",
       " 55,\n",
       " 38,\n",
       " 24,\n",
       " 50,\n",
       " 60,\n",
       " 67,\n",
       " 60,\n",
       " 33,\n",
       " 42,\n",
       " 74,\n",
       " 72,\n",
       " 49,\n",
       " 57,\n",
       " 83,\n",
       " 55,\n",
       " 23,\n",
       " 72,\n",
       " 64,\n",
       " 58,\n",
       " 46,\n",
       " 68,\n",
       " 49,\n",
       " 56,\n",
       " 47,\n",
       " 62,\n",
       " 56,\n",
       " 25,\n",
       " 20,\n",
       " 46,\n",
       " 43,\n",
       " 54,\n",
       " 29,\n",
       " 89,\n",
       " 31,\n",
       " 49,\n",
       " 23,\n",
       " 52,\n",
       " 16,\n",
       " 46,\n",
       " 69,\n",
       " 72,\n",
       " 48,\n",
       " 43,\n",
       " 52,\n",
       " 60,\n",
       " 25,\n",
       " 33,\n",
       " 47,\n",
       " 66,\n",
       " 43,\n",
       " 57,\n",
       " 53,\n",
       " 52,\n",
       " 50,\n",
       " 56,\n",
       " 41,\n",
       " 46,\n",
       " 36,\n",
       " 65,\n",
       " 42,\n",
       " 55,\n",
       " 54,\n",
       " 60,\n",
       " 63,\n",
       " 83,\n",
       " 52,\n",
       " 38,\n",
       " 59,\n",
       " 42,\n",
       " 59,\n",
       " 58,\n",
       " 29,\n",
       " 74,\n",
       " 66,\n",
       " 47,\n",
       " 50,\n",
       " 35,\n",
       " 24,\n",
       " 61,\n",
       " 60,\n",
       " 42,\n",
       " 50,\n",
       " 33,\n",
       " 51,\n",
       " 62,\n",
       " 52,\n",
       " 45,\n",
       " 66,\n",
       " 66,\n",
       " 42,\n",
       " 39,\n",
       " 27,\n",
       " 57,\n",
       " 88,\n",
       " 24,\n",
       " 50,\n",
       " 33,\n",
       " 85,\n",
       " 50,\n",
       " 44,\n",
       " 43,\n",
       " 34,\n",
       " 44,\n",
       " 38,\n",
       " 58,\n",
       " 35,\n",
       " 50,\n",
       " 44,\n",
       " 74,\n",
       " 47,\n",
       " 29,\n",
       " 37,\n",
       " 47,\n",
       " 60,\n",
       " 58,\n",
       " 31,\n",
       " 36,\n",
       " 46,\n",
       " 50,\n",
       " 56,\n",
       " 50,\n",
       " 39,\n",
       " 37,\n",
       " 55,\n",
       " 63,\n",
       " 60,\n",
       " 39,\n",
       " 48,\n",
       " 45,\n",
       " 39,\n",
       " 59,\n",
       " 34,\n",
       " 24,\n",
       " 47,\n",
       " 52,\n",
       " 54,\n",
       " 71,\n",
       " 49,\n",
       " 37,\n",
       " 58,\n",
       " 34,\n",
       " 36,\n",
       " 31,\n",
       " 62,\n",
       " 45,\n",
       " 9,\n",
       " 60,\n",
       " 39,\n",
       " 49,\n",
       " 49,\n",
       " 55,\n",
       " 41,\n",
       " 46,\n",
       " 33,\n",
       " 33,\n",
       " 37,\n",
       " 38,\n",
       " 53,\n",
       " 66,\n",
       " 52,\n",
       " 5,\n",
       " 52,\n",
       " 50,\n",
       " 39,\n",
       " 52,\n",
       " 45,\n",
       " 48,\n",
       " 46,\n",
       " 28,\n",
       " 61,\n",
       " 63,\n",
       " 48,\n",
       " 62,\n",
       " 39,\n",
       " 35,\n",
       " 73,\n",
       " 48,\n",
       " 54,\n",
       " 63,\n",
       " 43,\n",
       " 39,\n",
       " 54,\n",
       " 32,\n",
       " 51,\n",
       " 34,\n",
       " 72,\n",
       " 40,\n",
       " 74,\n",
       " 45,\n",
       " 40,\n",
       " 41,\n",
       " 55,\n",
       " 24,\n",
       " 67,\n",
       " 69,\n",
       " 53,\n",
       " 49,\n",
       " 21,\n",
       " 48,\n",
       " 39,\n",
       " 56,\n",
       " 61,\n",
       " 44,\n",
       " 54,\n",
       " 55,\n",
       " 30,\n",
       " 54,\n",
       " 65,\n",
       " 58,\n",
       " 25,\n",
       " 27,\n",
       " 53,\n",
       " 49,\n",
       " 66,\n",
       " 57,\n",
       " 34,\n",
       " 59,\n",
       " 32,\n",
       " 46,\n",
       " 57,\n",
       " 40,\n",
       " 50,\n",
       " 72,\n",
       " 56,\n",
       " 74,\n",
       " 24,\n",
       " 57,\n",
       " 64,\n",
       " 46,\n",
       " 70,\n",
       " 54,\n",
       " 58,\n",
       " 31,\n",
       " 52,\n",
       " 39,\n",
       " 26,\n",
       " 46,\n",
       " 55,\n",
       " 49,\n",
       " 41,\n",
       " 73,\n",
       " 55,\n",
       " 41,\n",
       " 44,\n",
       " 58,\n",
       " 69,\n",
       " 33,\n",
       " 68,\n",
       " 60,\n",
       " 57,\n",
       " 52,\n",
       " 56,\n",
       " 54,\n",
       " 61,\n",
       " 50,\n",
       " 32,\n",
       " 19,\n",
       " 55,\n",
       " 43,\n",
       " 56,\n",
       " 65,\n",
       " 45,\n",
       " 48,\n",
       " 47,\n",
       " 52,\n",
       " 42,\n",
       " 76,\n",
       " 63,\n",
       " 47,\n",
       " 54,\n",
       " 27,\n",
       " 61,\n",
       " 42,\n",
       " 68,\n",
       " 51,\n",
       " 37,\n",
       " 53,\n",
       " 54,\n",
       " 62,\n",
       " 49,\n",
       " 60,\n",
       " 44,\n",
       " 47,\n",
       " 42,\n",
       " 51,\n",
       " 50,\n",
       " 70,\n",
       " 72,\n",
       " 45,\n",
       " 56,\n",
       " 29,\n",
       " 72,\n",
       " 42,\n",
       " 55,\n",
       " 50,\n",
       " 66,\n",
       " 37,\n",
       " 53,\n",
       " 70,\n",
       " 33,\n",
       " 25,\n",
       " 37,\n",
       " 54,\n",
       " 45,\n",
       " 67,\n",
       " 52,\n",
       " 87,\n",
       " 57,\n",
       " 49,\n",
       " 50,\n",
       " 56,\n",
       " 63,\n",
       " 41,\n",
       " 53,\n",
       " 29,\n",
       " 53,\n",
       " 57,\n",
       " 37,\n",
       " 28,\n",
       " 51,\n",
       " 33,\n",
       " 50,\n",
       " 57,\n",
       " 55,\n",
       " 37,\n",
       " 55,\n",
       " 54,\n",
       " 45,\n",
       " 48,\n",
       " 9,\n",
       " 56,\n",
       " 32,\n",
       " 63,\n",
       " 54,\n",
       " 60,\n",
       " 11,\n",
       " 78,\n",
       " 61,\n",
       " 57,\n",
       " 45,\n",
       " 8,\n",
       " 37,\n",
       " 57,\n",
       " 45,\n",
       " 30,\n",
       " 72,\n",
       " 57,\n",
       " 39,\n",
       " 43,\n",
       " 41,\n",
       " 42,\n",
       " 66,\n",
       " 34,\n",
       " 55,\n",
       " 49,\n",
       " 66,\n",
       " 68,\n",
       " 56,\n",
       " 55,\n",
       " 55,\n",
       " 38,\n",
       " 58,\n",
       " 43,\n",
       " 25,\n",
       " 44,\n",
       " 60,\n",
       " 55,\n",
       " 40,\n",
       " 66,\n",
       " 49,\n",
       " 68,\n",
       " 34,\n",
       " 64,\n",
       " 44,\n",
       " 56,\n",
       " 63,\n",
       " 23,\n",
       " 64,\n",
       " 17,\n",
       " 27,\n",
       " 35,\n",
       " 33,\n",
       " 36,\n",
       " 44,\n",
       " 2,\n",
       " 32,\n",
       " 58,\n",
       " 49,\n",
       " 42,\n",
       " 65,\n",
       " 46,\n",
       " 60,\n",
       " 49,\n",
       " 49,\n",
       " 52,\n",
       " 39,\n",
       " 56,\n",
       " 37,\n",
       " 35,\n",
       " 30,\n",
       " 70,\n",
       " 54,\n",
       " 64,\n",
       " 64,\n",
       " 36,\n",
       " 49,\n",
       " 61,\n",
       " 24,\n",
       " 23,\n",
       " 56,\n",
       " 49,\n",
       " 40,\n",
       " 43,\n",
       " 65,\n",
       " 71,\n",
       " 41,\n",
       " 52,\n",
       " 56,\n",
       " 36,\n",
       " 65,\n",
       " 51,\n",
       " 70,\n",
       " 27,\n",
       " 43,\n",
       " 39,\n",
       " 41,\n",
       " 41,\n",
       " 41,\n",
       " 52,\n",
       " 44,\n",
       " 53,\n",
       " 34,\n",
       " 54,\n",
       " 41,\n",
       " 53,\n",
       " 71,\n",
       " 55,\n",
       " 64,\n",
       " 34,\n",
       " 22,\n",
       " 64,\n",
       " 50,\n",
       " 70,\n",
       " 51,\n",
       " 46,\n",
       " 70,\n",
       " 44,\n",
       " 39,\n",
       " 41,\n",
       " 49,\n",
       " 47,\n",
       " 26,\n",
       " 39,\n",
       " 66,\n",
       " 33,\n",
       " 56,\n",
       " 47,\n",
       " 63,\n",
       " 56,\n",
       " 56,\n",
       " 62,\n",
       " 41,\n",
       " 39,\n",
       " 69,\n",
       " 48,\n",
       " 48,\n",
       " 71,\n",
       " 49,\n",
       " 50,\n",
       " 52,\n",
       " 67,\n",
       " 84,\n",
       " 39,\n",
       " 39,\n",
       " 47,\n",
       " 39,\n",
       " 36,\n",
       " 28,\n",
       " 50,\n",
       " 50,\n",
       " 53,\n",
       " 70,\n",
       " 52,\n",
       " 38,\n",
       " 83,\n",
       " 57,\n",
       " 18,\n",
       " 65,\n",
       " 46,\n",
       " 58,\n",
       " 51,\n",
       " 40,\n",
       " 62,\n",
       " 55,\n",
       " 55,\n",
       " 58,\n",
       " 43,\n",
       " 27,\n",
       " 54,\n",
       " 46,\n",
       " 28,\n",
       " 62,\n",
       " 43,\n",
       " 31,\n",
       " 30,\n",
       " 48,\n",
       " 53,\n",
       " 61,\n",
       " 56,\n",
       " 37,\n",
       " 41,\n",
       " 22,\n",
       " 23,\n",
       " 73,\n",
       " 44,\n",
       " 68,\n",
       " 74,\n",
       " 40,\n",
       " 24,\n",
       " 36,\n",
       " 56,\n",
       " 48,\n",
       " 61,\n",
       " 57,\n",
       " 34,\n",
       " 64,\n",
       " 38,\n",
       " 38,\n",
       " 49,\n",
       " 63,\n",
       " 45,\n",
       " 66,\n",
       " 61,\n",
       " 66,\n",
       " 60,\n",
       " 37,\n",
       " 74,\n",
       " 49,\n",
       " 46,\n",
       " 41,\n",
       " 71,\n",
       " 67,\n",
       " 49,\n",
       " 41,\n",
       " 68,\n",
       " 51,\n",
       " ...]"
      ]
     },
     "execution_count": 41,
     "metadata": {},
     "output_type": "execute_result"
    }
   ],
   "source": [
    "max_idx_list"
   ]
  },
  {
   "cell_type": "code",
   "execution_count": 18,
   "metadata": {},
   "outputs": [
    {
     "name": "stderr",
     "output_type": "stream",
     "text": [
      "100%|█████████████████████████████████████████████████████████████████████████████████████████████████████████████████████████████████████| 222976/222976 [11:10<00:00, 332.35it/s]\n"
     ]
    }
   ],
   "source": [
    "trk['db_label'] = run_pv_dbscan(trk)"
   ]
  },
  {
   "cell_type": "code",
   "execution_count": 26,
   "metadata": {},
   "outputs": [],
   "source": [
    "trk['fh_label'] = trk['fh_label'].astype(int)"
   ]
  },
  {
   "cell_type": "markdown",
   "metadata": {},
   "source": [
    "# Primary Vertex Efficiency"
   ]
  },
  {
   "cell_type": "code",
   "execution_count": 20,
   "metadata": {},
   "outputs": [],
   "source": [
    "from pv_utils import pv_z0_reco"
   ]
  },
  {
   "cell_type": "code",
   "execution_count": 114,
   "metadata": {},
   "outputs": [],
   "source": [
    "z0_fh = pv_z0_reco(trk, reco_label = 'fh_label', z0_label = 'trk_z0')"
   ]
  },
  {
   "cell_type": "code",
   "execution_count": 22,
   "metadata": {},
   "outputs": [],
   "source": [
    "z0_db = pv_z0_reco(trk, reco_label = 'db_label', z0_label='trk_z0')"
   ]
  },
  {
   "cell_type": "code",
   "execution_count": 79,
   "metadata": {},
   "outputs": [
    {
     "data": {
      "text/plain": [
       "(29.97004161882893, 0.19011654695798086, 0.19063734859168946)"
      ]
     },
     "execution_count": 79,
     "metadata": {},
     "output_type": "execute_result"
    }
   ],
   "source": [
    "primary_vertex_efficiency(z0_gen=z0_mc, z0_reco=z0_fh_t)"
   ]
  },
  {
   "cell_type": "code",
   "execution_count": 115,
   "metadata": {},
   "outputs": [
    {
     "data": {
      "text/plain": [
       "(222976, 2)"
      ]
     },
     "execution_count": 115,
     "metadata": {},
     "output_type": "execute_result"
    }
   ],
   "source": [
    "z0_fh.shape"
   ]
  },
  {
   "cell_type": "code",
   "execution_count": 104,
   "metadata": {},
   "outputs": [
    {
     "data": {
      "text/plain": [
       "(1.3194245120551091, 0.046952326089373164, 0.04822402014828975)"
      ]
     },
     "execution_count": 104,
     "metadata": {},
     "output_type": "execute_result"
    }
   ],
   "source": [
    "primary_vertex_efficiency(z0_gen=z0_mc, z0_reco=z0_fh['trk_z0'])"
   ]
  },
  {
   "cell_type": "code",
   "execution_count": 24,
   "metadata": {
    "tags": []
   },
   "outputs": [
    {
     "data": {
      "text/plain": [
       "(75.23679678530425, 0.17971013751598264, 0.1790538893312572)"
      ]
     },
     "execution_count": 24,
     "metadata": {},
     "output_type": "execute_result"
    }
   ],
   "source": [
    "primary_vertex_efficiency(z0_gen=z0_mc, z0_reco=z0_db['trk_z0'])"
   ]
  },
  {
   "cell_type": "code",
   "execution_count": 31,
   "metadata": {},
   "outputs": [
    {
     "data": {
      "text/plain": [
       "(222976, 2)"
      ]
     },
     "execution_count": 31,
     "metadata": {},
     "output_type": "execute_result"
    }
   ],
   "source": [
    "z0_fh.shape"
   ]
  },
  {
   "cell_type": "code",
   "execution_count": 32,
   "metadata": {},
   "outputs": [
    {
     "data": {
      "text/plain": [
       "(222976, 2)"
      ]
     },
     "execution_count": 32,
     "metadata": {},
     "output_type": "execute_result"
    }
   ],
   "source": [
    "z0_db.shape"
   ]
  },
  {
   "cell_type": "markdown",
   "metadata": {},
   "source": [
    "# Let's start over"
   ]
  },
  {
   "cell_type": "markdown",
   "metadata": {},
   "source": [
    "**Simple approach, forget about track to vertex association, just calculate z0**"
   ]
  },
  {
   "cell_type": "code",
   "execution_count": 179,
   "metadata": {},
   "outputs": [
    {
     "data": {
      "text/html": [
       "<div>\n",
       "<style scoped>\n",
       "    .dataframe tbody tr th:only-of-type {\n",
       "        vertical-align: middle;\n",
       "    }\n",
       "\n",
       "    .dataframe tbody tr th {\n",
       "        vertical-align: top;\n",
       "    }\n",
       "\n",
       "    .dataframe thead th {\n",
       "        text-align: right;\n",
       "    }\n",
       "</style>\n",
       "<table border=\"1\" class=\"dataframe\">\n",
       "  <thead>\n",
       "    <tr style=\"text-align: right;\">\n",
       "      <th></th>\n",
       "      <th></th>\n",
       "      <th>trk_pt</th>\n",
       "      <th>trk_eta</th>\n",
       "      <th>trk_phi</th>\n",
       "      <th>trk_d0</th>\n",
       "      <th>trk_z0</th>\n",
       "      <th>trk_fake</th>\n",
       "      <th>is_pv</th>\n",
       "      <th>fh_label</th>\n",
       "      <th>db_label</th>\n",
       "    </tr>\n",
       "    <tr>\n",
       "      <th>entry</th>\n",
       "      <th>subentry</th>\n",
       "      <th></th>\n",
       "      <th></th>\n",
       "      <th></th>\n",
       "      <th></th>\n",
       "      <th></th>\n",
       "      <th></th>\n",
       "      <th></th>\n",
       "      <th></th>\n",
       "      <th></th>\n",
       "    </tr>\n",
       "  </thead>\n",
       "  <tbody>\n",
       "    <tr>\n",
       "      <th rowspan=\"5\" valign=\"top\">0</th>\n",
       "      <th>0</th>\n",
       "      <td>2.623967</td>\n",
       "      <td>1.301414</td>\n",
       "      <td>-0.289234</td>\n",
       "      <td>999.0</td>\n",
       "      <td>-0.878906</td>\n",
       "      <td>2</td>\n",
       "      <td>0</td>\n",
       "      <td>0</td>\n",
       "      <td>0</td>\n",
       "    </tr>\n",
       "    <tr>\n",
       "      <th>1</th>\n",
       "      <td>3.435026</td>\n",
       "      <td>0.566814</td>\n",
       "      <td>-0.159267</td>\n",
       "      <td>999.0</td>\n",
       "      <td>3.339844</td>\n",
       "      <td>2</td>\n",
       "      <td>0</td>\n",
       "      <td>0</td>\n",
       "      <td>0</td>\n",
       "    </tr>\n",
       "    <tr>\n",
       "      <th>2</th>\n",
       "      <td>3.774908</td>\n",
       "      <td>1.815973</td>\n",
       "      <td>-0.240375</td>\n",
       "      <td>999.0</td>\n",
       "      <td>4.921875</td>\n",
       "      <td>1</td>\n",
       "      <td>1</td>\n",
       "      <td>0</td>\n",
       "      <td>1</td>\n",
       "    </tr>\n",
       "    <tr>\n",
       "      <th>3</th>\n",
       "      <td>2.641448</td>\n",
       "      <td>-1.435747</td>\n",
       "      <td>-0.128747</td>\n",
       "      <td>999.0</td>\n",
       "      <td>-0.468750</td>\n",
       "      <td>2</td>\n",
       "      <td>0</td>\n",
       "      <td>0</td>\n",
       "      <td>0</td>\n",
       "    </tr>\n",
       "    <tr>\n",
       "      <th>4</th>\n",
       "      <td>2.320653</td>\n",
       "      <td>1.837421</td>\n",
       "      <td>0.032604</td>\n",
       "      <td>999.0</td>\n",
       "      <td>4.980469</td>\n",
       "      <td>1</td>\n",
       "      <td>1</td>\n",
       "      <td>1</td>\n",
       "      <td>1</td>\n",
       "    </tr>\n",
       "    <tr>\n",
       "      <th>...</th>\n",
       "      <th>...</th>\n",
       "      <td>...</td>\n",
       "      <td>...</td>\n",
       "      <td>...</td>\n",
       "      <td>...</td>\n",
       "      <td>...</td>\n",
       "      <td>...</td>\n",
       "      <td>...</td>\n",
       "      <td>...</td>\n",
       "      <td>...</td>\n",
       "    </tr>\n",
       "    <tr>\n",
       "      <th rowspan=\"5\" valign=\"top\">222975</th>\n",
       "      <th>211</th>\n",
       "      <td>2.044568</td>\n",
       "      <td>-2.407456</td>\n",
       "      <td>-0.857553</td>\n",
       "      <td>999.0</td>\n",
       "      <td>1.113281</td>\n",
       "      <td>2</td>\n",
       "      <td>0</td>\n",
       "      <td>0</td>\n",
       "      <td>1</td>\n",
       "    </tr>\n",
       "    <tr>\n",
       "      <th>212</th>\n",
       "      <td>2.491473</td>\n",
       "      <td>-2.141478</td>\n",
       "      <td>-0.616329</td>\n",
       "      <td>999.0</td>\n",
       "      <td>8.847656</td>\n",
       "      <td>2</td>\n",
       "      <td>0</td>\n",
       "      <td>0</td>\n",
       "      <td>0</td>\n",
       "    </tr>\n",
       "    <tr>\n",
       "      <th>213</th>\n",
       "      <td>2.669393</td>\n",
       "      <td>2.230316</td>\n",
       "      <td>-0.748241</td>\n",
       "      <td>999.0</td>\n",
       "      <td>-0.234375</td>\n",
       "      <td>2</td>\n",
       "      <td>0</td>\n",
       "      <td>0</td>\n",
       "      <td>0</td>\n",
       "    </tr>\n",
       "    <tr>\n",
       "      <th>214</th>\n",
       "      <td>3.767222</td>\n",
       "      <td>-1.994298</td>\n",
       "      <td>-0.753691</td>\n",
       "      <td>999.0</td>\n",
       "      <td>-4.746094</td>\n",
       "      <td>2</td>\n",
       "      <td>0</td>\n",
       "      <td>0</td>\n",
       "      <td>0</td>\n",
       "    </tr>\n",
       "    <tr>\n",
       "      <th>215</th>\n",
       "      <td>1.988538</td>\n",
       "      <td>-2.052655</td>\n",
       "      <td>-0.790385</td>\n",
       "      <td>999.0</td>\n",
       "      <td>0.996094</td>\n",
       "      <td>2</td>\n",
       "      <td>0</td>\n",
       "      <td>0</td>\n",
       "      <td>1</td>\n",
       "    </tr>\n",
       "  </tbody>\n",
       "</table>\n",
       "<p>40780640 rows × 9 columns</p>\n",
       "</div>"
      ],
      "text/plain": [
       "                   trk_pt   trk_eta   trk_phi  trk_d0    trk_z0  trk_fake  \\\n",
       "entry  subentry                                                             \n",
       "0      0         2.623967  1.301414 -0.289234   999.0 -0.878906         2   \n",
       "       1         3.435026  0.566814 -0.159267   999.0  3.339844         2   \n",
       "       2         3.774908  1.815973 -0.240375   999.0  4.921875         1   \n",
       "       3         2.641448 -1.435747 -0.128747   999.0 -0.468750         2   \n",
       "       4         2.320653  1.837421  0.032604   999.0  4.980469         1   \n",
       "...                   ...       ...       ...     ...       ...       ...   \n",
       "222975 211       2.044568 -2.407456 -0.857553   999.0  1.113281         2   \n",
       "       212       2.491473 -2.141478 -0.616329   999.0  8.847656         2   \n",
       "       213       2.669393  2.230316 -0.748241   999.0 -0.234375         2   \n",
       "       214       3.767222 -1.994298 -0.753691   999.0 -4.746094         2   \n",
       "       215       1.988538 -2.052655 -0.790385   999.0  0.996094         2   \n",
       "\n",
       "                 is_pv fh_label  db_label  \n",
       "entry  subentry                            \n",
       "0      0             0        0         0  \n",
       "       1             0        0         0  \n",
       "       2             1        0         1  \n",
       "       3             0        0         0  \n",
       "       4             1        1         1  \n",
       "...                ...      ...       ...  \n",
       "222975 211           0        0         1  \n",
       "       212           0        0         0  \n",
       "       213           0        0         0  \n",
       "       214           0        0         0  \n",
       "       215           0        0         1  \n",
       "\n",
       "[40780640 rows x 9 columns]"
      ]
     },
     "execution_count": 179,
     "metadata": {},
     "output_type": "execute_result"
    }
   ],
   "source": [
    "trk"
   ]
  },
  {
   "cell_type": "code",
   "execution_count": 180,
   "metadata": {},
   "outputs": [
    {
     "data": {
      "text/html": [
       "<div>\n",
       "<style scoped>\n",
       "    .dataframe tbody tr th:only-of-type {\n",
       "        vertical-align: middle;\n",
       "    }\n",
       "\n",
       "    .dataframe tbody tr th {\n",
       "        vertical-align: top;\n",
       "    }\n",
       "\n",
       "    .dataframe thead th {\n",
       "        text-align: right;\n",
       "    }\n",
       "</style>\n",
       "<table border=\"1\" class=\"dataframe\">\n",
       "  <thead>\n",
       "    <tr style=\"text-align: right;\">\n",
       "      <th></th>\n",
       "      <th></th>\n",
       "      <th>pv_L1reco_z0</th>\n",
       "      <th>pv_L1reco_sum</th>\n",
       "      <th>pv_MC</th>\n",
       "    </tr>\n",
       "    <tr>\n",
       "      <th>entry</th>\n",
       "      <th>subentry</th>\n",
       "      <th></th>\n",
       "      <th></th>\n",
       "      <th></th>\n",
       "    </tr>\n",
       "  </thead>\n",
       "  <tbody>\n",
       "    <tr>\n",
       "      <th>0</th>\n",
       "      <th>0</th>\n",
       "      <td>5.026911</td>\n",
       "      <td>79.777252</td>\n",
       "      <td>5.055163</td>\n",
       "    </tr>\n",
       "    <tr>\n",
       "      <th>1</th>\n",
       "      <th>0</th>\n",
       "      <td>-2.021080</td>\n",
       "      <td>90.041313</td>\n",
       "      <td>-3.608661</td>\n",
       "    </tr>\n",
       "    <tr>\n",
       "      <th>2</th>\n",
       "      <th>0</th>\n",
       "      <td>-0.141508</td>\n",
       "      <td>202.421341</td>\n",
       "      <td>-0.261453</td>\n",
       "    </tr>\n",
       "    <tr>\n",
       "      <th>3</th>\n",
       "      <th>0</th>\n",
       "      <td>2.744174</td>\n",
       "      <td>303.983124</td>\n",
       "      <td>2.803285</td>\n",
       "    </tr>\n",
       "    <tr>\n",
       "      <th>4</th>\n",
       "      <th>0</th>\n",
       "      <td>-1.279072</td>\n",
       "      <td>218.012939</td>\n",
       "      <td>-1.400667</td>\n",
       "    </tr>\n",
       "    <tr>\n",
       "      <th>...</th>\n",
       "      <th>...</th>\n",
       "      <td>...</td>\n",
       "      <td>...</td>\n",
       "      <td>...</td>\n",
       "    </tr>\n",
       "    <tr>\n",
       "      <th>222971</th>\n",
       "      <th>0</th>\n",
       "      <td>-0.672085</td>\n",
       "      <td>223.375061</td>\n",
       "      <td>-0.698029</td>\n",
       "    </tr>\n",
       "    <tr>\n",
       "      <th>222972</th>\n",
       "      <th>0</th>\n",
       "      <td>0.576154</td>\n",
       "      <td>121.422821</td>\n",
       "      <td>0.520282</td>\n",
       "    </tr>\n",
       "    <tr>\n",
       "      <th>222973</th>\n",
       "      <th>0</th>\n",
       "      <td>-3.504717</td>\n",
       "      <td>167.360825</td>\n",
       "      <td>-3.604865</td>\n",
       "    </tr>\n",
       "    <tr>\n",
       "      <th>222974</th>\n",
       "      <th>0</th>\n",
       "      <td>-4.378545</td>\n",
       "      <td>251.187759</td>\n",
       "      <td>-4.483971</td>\n",
       "    </tr>\n",
       "    <tr>\n",
       "      <th>222975</th>\n",
       "      <th>0</th>\n",
       "      <td>1.315115</td>\n",
       "      <td>228.407059</td>\n",
       "      <td>1.365169</td>\n",
       "    </tr>\n",
       "  </tbody>\n",
       "</table>\n",
       "<p>222976 rows × 3 columns</p>\n",
       "</div>"
      ],
      "text/plain": [
       "                 pv_L1reco_z0  pv_L1reco_sum     pv_MC\n",
       "entry  subentry                                       \n",
       "0      0             5.026911      79.777252  5.055163\n",
       "1      0            -2.021080      90.041313 -3.608661\n",
       "2      0            -0.141508     202.421341 -0.261453\n",
       "3      0             2.744174     303.983124  2.803285\n",
       "4      0            -1.279072     218.012939 -1.400667\n",
       "...                       ...            ...       ...\n",
       "222971 0            -0.672085     223.375061 -0.698029\n",
       "222972 0             0.576154     121.422821  0.520282\n",
       "222973 0            -3.504717     167.360825 -3.604865\n",
       "222974 0            -4.378545     251.187759 -4.483971\n",
       "222975 0             1.315115     228.407059  1.365169\n",
       "\n",
       "[222976 rows x 3 columns]"
      ]
     },
     "execution_count": 180,
     "metadata": {},
     "output_type": "execute_result"
    }
   ],
   "source": [
    "mc"
   ]
  },
  {
   "cell_type": "code",
   "execution_count": 182,
   "metadata": {},
   "outputs": [],
   "source": [
    "def fast_histo_z0_simple(z0: np.array, pt:np.array, bin_edges:np.array, convolve:bool=True)->pd.Series:\n",
    "    \n",
    "    histo = np.histogram(z0, bins=bin_edges, weights=pt)[0]\n",
    "    \n",
    "    if convolve:\n",
    "        histo = np.convolve(histo, [1,1,1], mode='same')\n",
    "    z0_index = np.argmax(histo)\n",
    "    \n",
    "    halfBinWidth = 0.5 *(bin_edges[1] -bin_edges[0])\n",
    "    \n",
    "    nbins = bin_edges.shape[0]\n",
    "    \n",
    "    z0 = bin_edges[0] + (bin_edges[-1]-bin_edges[0])*z0_index/nbins + halfBinWidth\n",
    "    \n",
    "    return z0\n",
    "\n",
    "def run_pv_fast_histo_simple(\n",
    "    df: pd.DataFrame,\n",
    "    bin_edges: np.array,\n",
    "    z0_column: str = \"trk_z0\",\n",
    "    pt_column: str = \"trk_pt\",\n",
    "    z0_only:bool=True,\n",
    "    convolve:bool=True\n",
    ") -> np.array:\n",
    "    \"\"\"Runs FastHisto over all of the events.\n",
    "\n",
    "    Args:\n",
    "        df (pd.DataFrame): Dataframe containing multiple events\n",
    "        bin_edges (np.array): bin edges to be used for FastHisto\n",
    "        z0_column (str, optional): column name containing track's z0 position. Defaults to \"trk_z0\".\n",
    "        pt_column (str, optional): column name containing tracks pt. Defaults to \"trk_pt\".\n",
    "\n",
    "    Returns:\n",
    "        np.array: Binary labels indicating if the track belongs to the primary vertex.\n",
    "    \"\"\"\n",
    "        \n",
    "    pv_fh = df.groupby(level=0).progress_apply(\n",
    "        lambda x: fast_histo_z0_simple(x[z0_column], x[pt_column], bin_edges, convolve)\n",
    "    )\n",
    "    return pv_fh"
   ]
  },
  {
   "cell_type": "code",
   "execution_count": 183,
   "metadata": {},
   "outputs": [
    {
     "name": "stderr",
     "output_type": "stream",
     "text": [
      "100%|██████████████████████████████████████████████████████████████████████████████████████████████████████████████████████████████████████████████████████████| 222976/222976 [00:37<00:00, 5908.31it/s]\n"
     ]
    }
   ],
   "source": [
    "z0_reco_fh = run_pv_fast_histo_simple(trk, bin_edges=be_fh, z0_only=True, convolve=False)"
   ]
  },
  {
   "cell_type": "code",
   "execution_count": null,
   "metadata": {},
   "outputs": [],
   "source": []
  },
  {
   "cell_type": "code",
   "execution_count": 268,
   "metadata": {},
   "outputs": [
    {
     "data": {
      "text/plain": [
       "0.117647058823529"
      ]
     },
     "execution_count": 268,
     "metadata": {},
     "output_type": "execute_result"
    }
   ],
   "source": [
    "be_fh[1]-be_fh[0]"
   ]
  },
  {
   "cell_type": "code",
   "execution_count": 269,
   "metadata": {},
   "outputs": [],
   "source": [
    "bw = 0.2\n",
    "be_te = np.arange(-15, 15+bw, bw)"
   ]
  },
  {
   "cell_type": "code",
   "execution_count": 273,
   "metadata": {},
   "outputs": [
    {
     "name": "stderr",
     "output_type": "stream",
     "text": [
      "100%|██████████████████████████████████████████████████████████████████████████████████████████████████████████████████████████████████████████████████████████| 222976/222976 [00:36<00:00, 6074.60it/s]\n"
     ]
    }
   ],
   "source": [
    "z0_reco_fh_c = run_pv_fast_histo_simple(trk, bin_edges=be_fh, z0_only=True, convolve=True)"
   ]
  },
  {
   "cell_type": "code",
   "execution_count": 185,
   "metadata": {},
   "outputs": [
    {
     "data": {
      "text/plain": [
       "entry\n",
       "0         4.863511\n",
       "1        -3.573989\n",
       "2        -0.175551\n",
       "3         2.754136\n",
       "4        -1.464614\n",
       "            ...   \n",
       "222971   -0.644301\n",
       "222972    0.176011\n",
       "222973   -3.573989\n",
       "222974   -4.511489\n",
       "222975    1.347886\n",
       "Length: 222976, dtype: float64"
      ]
     },
     "execution_count": 185,
     "metadata": {},
     "output_type": "execute_result"
    }
   ],
   "source": [
    "z0_reco_fh_c"
   ]
  },
  {
   "cell_type": "code",
   "execution_count": 186,
   "metadata": {},
   "outputs": [
    {
     "data": {
      "text/plain": [
       "entry\n",
       "0         4.863511\n",
       "1        -3.456801\n",
       "2        -0.292739\n",
       "3         2.636949\n",
       "4        -1.347426\n",
       "            ...   \n",
       "222971   -0.644301\n",
       "222972    0.761949\n",
       "222973   -3.456801\n",
       "222974   -4.511489\n",
       "222975    1.465074\n",
       "Length: 222976, dtype: float64"
      ]
     },
     "execution_count": 186,
     "metadata": {},
     "output_type": "execute_result"
    }
   ],
   "source": [
    "z0_reco_fh"
   ]
  },
  {
   "cell_type": "code",
   "execution_count": 187,
   "metadata": {},
   "outputs": [
    {
     "data": {
      "text/plain": [
       "entry\n",
       "0         5.055163\n",
       "1        -3.608661\n",
       "2        -0.261453\n",
       "3         2.803285\n",
       "4        -1.400667\n",
       "            ...   \n",
       "222971   -0.698029\n",
       "222972    0.520282\n",
       "222973   -3.604865\n",
       "222974   -4.483971\n",
       "222975    1.365169\n",
       "Name: pv_MC, Length: 222976, dtype: float32"
      ]
     },
     "execution_count": 187,
     "metadata": {},
     "output_type": "execute_result"
    }
   ],
   "source": [
    "z0_mc"
   ]
  },
  {
   "cell_type": "code",
   "execution_count": 188,
   "metadata": {},
   "outputs": [
    {
     "data": {
      "text/plain": [
       "(48.51194747416762, 0.20764573326171387, 0.20768441928220227)"
      ]
     },
     "execution_count": 188,
     "metadata": {},
     "output_type": "execute_result"
    }
   ],
   "source": [
    "primary_vertex_efficiency(z0_gen=z0_mc, z0_reco=z0_reco_fh)"
   ]
  },
  {
   "cell_type": "code",
   "execution_count": 190,
   "metadata": {},
   "outputs": [
    {
     "data": {
      "text/plain": [
       "(56.31323550516647, 0.20617810860080255, 0.20601397688002976)"
      ]
     },
     "execution_count": 190,
     "metadata": {},
     "output_type": "execute_result"
    }
   ],
   "source": [
    "primary_vertex_efficiency(z0_gen=z0_mc, z0_reco=z0_reco_fh_c)"
   ]
  },
  {
   "cell_type": "markdown",
   "metadata": {},
   "source": [
    "**Resolution**"
   ]
  },
  {
   "cell_type": "code",
   "execution_count": 254,
   "metadata": {},
   "outputs": [
    {
     "data": {
      "image/png": "[encoded data removed]",
      "text/plain": [
       "<Figure size 1440x720 with 1 Axes>"
      ]
     },
     "metadata": {
      "needs_background": "light"
     },
     "output_type": "display_data"
    }
   ],
   "source": [
    "q = np.percentile((z0_mc-z0_reco_fh), [32, 50, 68])\n",
    "q_c = np.percentile((z0_mc-z0_reco_fh_c), [32, 50, 68])\n",
    "\n",
    "\n",
    "\n",
    "fig, ax = plt.subplots(1, 1, figsize=(20, 10))\n",
    "\n",
    "RMS_q = np.sqrt(np.mean((z0_mc-z0_reco_fh)**2))\n",
    "RMS_q_c = np.sqrt(np.mean((z0_mc-z0_reco_fh_c)**2))\n",
    "\n",
    "\n",
    "quartile_q= round(q[2] - q[0],3)\n",
    "quartile_q_c = round(q_c[2] - q_c[0],3)\n",
    "\n",
    "RMS_q = round(RMS_q,2)\n",
    "RMS_q_c = round(RMS_q_c,2)\n",
    "label_fh = \"RMS: \" + str(RMS_q)\n",
    "label_db = \"RMS: \" + str(RMS_q_c)\n",
    "\n",
    "mean = np.median(z0_mc-z0_reco_fh)\n",
    "mean_c = np.median(z0_mc-z0_reco_fh_c)\n",
    "\n",
    "ax.hist(\n",
    "    z0_mc - z0_reco_fh,\n",
    "    bins=50,\n",
    "    range=(-1, 1),\n",
    "    histtype=\"step\",\n",
    "    label='FH w/o convolution ' + label_fh + '\\nquartile width: ' + str(quartile_q)+f'\\n mean ={round(mean,3)}',\n",
    "    color=\"#9E37AD\",lw=2\n",
    ")\n",
    "\n",
    "\n",
    "ax.hist(\n",
    "    z0_mc - z0_reco_fh_c,\n",
    "    bins=50,\n",
    "    range=(-1, 1),\n",
    "    histtype=\"step\",\n",
    "    label='FH w/ convolution ' + label_db + '\\nquartile width: ' + str(quartile_q_c)+f'\\n mean ={round(mean_c,3)}',\n",
    "    color=\"#12A863\",lw=2\n",
    ")\n",
    "\n",
    "\n",
    "ax.legend()\n",
    "\n",
    "ax.grid(True)\n",
    "\n",
    "\n",
    "ax.set_xlabel('$z^{PV}_0$ Residual [cm]',ha=\"right\",x=1)\n",
    "ax.set_ylabel('Events',ha=\"right\",y=1)\n",
    "ax.set_title('Primary vertex resolution')\n",
    "ax.set_yscale('log')\n",
    "# plt.savefig('histogram_resolution.pdf', dpi=500, bbox_inches='tight')\n",
    "\n"
   ]
  },
  {
   "cell_type": "code",
   "execution_count": 274,
   "metadata": {},
   "outputs": [
    {
     "data": {
      "image/png": "[encoded data removed]",
      "text/plain": [
       "<Figure size 1440x720 with 1 Axes>"
      ]
     },
     "metadata": {
      "needs_background": "light"
     },
     "output_type": "display_data"
    }
   ],
   "source": [
    "q = np.percentile((z0_mc[z0_mc<0]-z0_reco_fh[z0_mc<0]), [32, 50, 68])\n",
    "q_c = np.percentile((z0_mc[z0_mc<0]-z0_reco_fh_c[z0_mc<0]), [32, 50, 68])\n",
    "\n",
    "\n",
    "\n",
    "fig, ax = plt.subplots(1, 1, figsize=(20, 10))\n",
    "\n",
    "RMS_q = np.sqrt(np.mean((z0_mc[z0_mc<0]-z0_reco_fh[z0_mc<0])**2))\n",
    "RMS_q_c = np.sqrt(np.mean((z0_mc[z0_mc<0]-z0_reco_fh_c[z0_mc<0])**2))\n",
    "\n",
    "\n",
    "quartile_q= round(q[2] - q[0],3)\n",
    "quartile_q_c = round(q_c[2] - q_c[0],3)\n",
    "\n",
    "RMS_q = round(RMS_q,2)\n",
    "RMS_q_c = round(RMS_q_c,2)\n",
    "label_fh = \"RMS: \" + str(RMS_q)\n",
    "label_db = \"RMS: \" + str(RMS_q_c)\n",
    "mean = np.median(z0_mc[z0_mc<0]-z0_reco_fh[z0_mc<0])\n",
    "mean_c = np.median(z0_mc[z0_mc<0]-z0_reco_fh_c[z0_mc<0])\n",
    "\n",
    "ax.hist(\n",
    "    z0_mc[z0_mc<0] - z0_reco_fh[z0_mc<0],\n",
    "    bins=50,\n",
    "    range=(-1, 1),\n",
    "    histtype=\"step\",\n",
    "    label='FH w/o convolution ' + label_fh + '\\nquartile width: ' + str(quartile_q)+f'\\n mean ={round(mean,3)}',\n",
    "    color=\"#9E37AD\",lw=2\n",
    ")\n",
    "\n",
    "\n",
    "ax.hist(\n",
    "    z0_mc[z0_mc<0] - z0_reco_fh_c[z0_mc<0],\n",
    "    bins=50,\n",
    "    range=(-1, 1),\n",
    "    histtype=\"step\",\n",
    "    label='FH w/ convolution ' + label_db + '\\nquartile width: ' + str(quartile_q_c) + f'\\n mean = {round(mean_c,3)}',\n",
    "    color=\"#12A863\",lw=2\n",
    ")\n",
    "\n",
    "\n",
    "ax.legend()\n",
    "\n",
    "ax.grid(True)\n",
    "\n",
    "\n",
    "ax.set_xlabel('$z^{PV}_0$ Residual [cm]',ha=\"right\",x=1)\n",
    "ax.set_ylabel('Events',ha=\"right\",y=1)\n",
    "ax.set_title('Primary vertex resolution ($z_0 < 0$)')\n",
    "ax.set_yscale('log')\n",
    "# plt.savefig('histogram_resolution.pdf', dpi=500, bbox_inches='tight')\n",
    "\n",
    "\n"
   ]
  },
  {
   "cell_type": "code",
   "execution_count": 275,
   "metadata": {},
   "outputs": [
    {
     "name": "stdout",
     "output_type": "stream",
     "text": [
      "0.21076045542897096\n",
      "0.1538713036953047\n"
     ]
    },
    {
     "data": {
      "image/png": "[encoded data removed]",
      "text/plain": [
       "<Figure size 1440x720 with 1 Axes>"
      ]
     },
     "metadata": {
      "needs_background": "light"
     },
     "output_type": "display_data"
    }
   ],
   "source": [
    "q = np.percentile((z0_mc[z0_mc>0]-z0_reco_fh[z0_mc>0]), [32, 50, 68])\n",
    "q_c = np.percentile((z0_mc[z0_mc>0]-z0_reco_fh_c[z0_mc>0]), [32, 50, 68])\n",
    "\n",
    "\n",
    "\n",
    "fig, ax = plt.subplots(1, 1, figsize=(20, 10))\n",
    "\n",
    "RMS_q = np.sqrt(np.mean((z0_mc[z0_mc>0]-z0_reco_fh[z0_mc>0])**2))\n",
    "RMS_q_c = np.sqrt(np.mean((z0_mc[z0_mc>0]-z0_reco_fh_c[z0_mc>0])**2))\n",
    "\n",
    "\n",
    "quartile_q= round(q[2] - q[0],3)\n",
    "quartile_q_c = round(q_c[2] - q_c[0],3)\n",
    "\n",
    "RMS_q = round(RMS_q,2)\n",
    "RMS_q_c = round(RMS_q_c,2)\n",
    "label_fh = \"RMS: \" + str(RMS_q)\n",
    "label_db = \"RMS: \" + str(RMS_q_c)\n",
    "\n",
    "mean = np.median(z0_mc[z0_mc>0]-z0_reco_fh[z0_mc>0])\n",
    "mean_c = np.median(z0_mc[z0_mc>0]-z0_reco_fh_c[z0_mc>0])\n",
    "\n",
    "ax.hist(\n",
    "    z0_mc[z0_mc>0] - z0_reco_fh[z0_mc>0],\n",
    "    bins=50,\n",
    "    range=(-1, 1),\n",
    "    histtype=\"step\",\n",
    "    label='FH w/o convolution ' + label_fh + '\\nquartile width: ' + str(quartile_q)+ f'\\n mean = {round(mean,3)}',\n",
    "    color=\"#9E37AD\",lw=2\n",
    ")\n",
    "\n",
    "\n",
    "ax.hist(\n",
    "    z0_mc[z0_mc>0] - z0_reco_fh_c[z0_mc>0],\n",
    "    bins=50,\n",
    "    range=(-1, 1),\n",
    "    histtype=\"step\",\n",
    "    label='FH w/ convolution ' + label_db + '\\nquartile width: ' + str(quartile_q_c)+ f'\\n mean = {round(mean_c,3)}',\n",
    "    color=\"#12A863\",lw=2\n",
    ")\n",
    "\n",
    "\n",
    "ax.legend()\n",
    "\n",
    "ax.grid(True)\n",
    "\n",
    "\n",
    "ax.set_xlabel('$z^{PV}_0$ Residual [cm]',ha=\"right\",x=1)\n",
    "ax.set_ylabel('Events',ha=\"right\",y=1)\n",
    "ax.set_title('Primary vertex resolution ($z_0 > 0$)')\n",
    "ax.set_yscale('log')\n",
    "# plt.savefig('histogram_resolution.pdf', dpi=500, bbox_inches='tight')\n",
    "\n",
    "\n",
    "\n",
    "print(np.mean(z0_mc[z0_mc>0] - z0_reco_fh[z0_mc>0]))\n",
    "print(np.mean(z0_mc[z0_mc>0] - z0_reco_fh_c[z0_mc>0]))"
   ]
  },
  {
   "cell_type": "code",
   "execution_count": 276,
   "metadata": {},
   "outputs": [
    {
     "data": {
      "text/plain": [
       "Text(0, 1, '$z_0^{PV} - z_0^{reco}$ [cm]')"
      ]
     },
     "execution_count": 276,
     "metadata": {},
     "output_type": "execute_result"
    },
    {
     "data": {
      "image/png": "[encoded data removed]",
      "text/plain": [
       "<Figure size 720x720 with 1 Axes>"
      ]
     },
     "metadata": {
      "needs_background": "light"
     },
     "output_type": "display_data"
    }
   ],
   "source": [
    "y = z0_mc - z0_reco_fh\n",
    "x = z0_mc\n",
    "_=plt.hist2d(x,y,bins=(50,50), range=((-15, 15), (-0.5, 0.5)))\n",
    "plt.xlabel(r\"$z_0^{PV}$ [cm]\")\n",
    "plt.ylabel(r\"$z_0^{PV} - z_0^{reco}$ [cm]\") "
   ]
  },
  {
   "cell_type": "code",
   "execution_count": 277,
   "metadata": {},
   "outputs": [
    {
     "data": {
      "text/plain": [
       "Text(0, 1, '$z_0^{PV} - z_0^{reco}$ [cm]')"
      ]
     },
     "execution_count": 277,
     "metadata": {},
     "output_type": "execute_result"
    },
    {
     "data": {
      "image/png": "[encoded data removed]",
      "text/plain": [
       "<Figure size 720x720 with 1 Axes>"
      ]
     },
     "metadata": {
      "needs_background": "light"
     },
     "output_type": "display_data"
    }
   ],
   "source": [
    "y = z0_mc - z0_reco_fh_c\n",
    "x = z0_mc\n",
    "_=plt.hist2d(x,y,bins=(50,50), range=((-15, 15), (-0.5, 0.5)))\n",
    "plt.axhline(0.119, ls = '--',color='white')\n",
    "plt.axhline(0, ls ='--',color='white')\n",
    "plt.xlabel(r\"$z_0^{PV}$ [cm]\")\n",
    "plt.ylabel(r\"$z_0^{PV} - z_0^{reco}$ [cm]\") "
   ]
  },
  {
   "cell_type": "code",
   "execution_count": 263,
   "metadata": {},
   "outputs": [],
   "source": [
    "def correct_mc_bias(z0_mc:np.array, z0_reco:np.array) -> np.array:\n",
    "    positive_mask = z0_mc >= 0\n",
    "    \n",
    "    shift = np.median(z0_mc[positive_mask] - z0_reco[positive_mask])\n",
    "    \n",
    "    z0_mc[positive_mask] = z0_mc[positive_mask] - shift\n",
    "    \n",
    "    return z0_mc\n",
    "    "
   ]
  },
  {
   "cell_type": "code",
   "execution_count": 264,
   "metadata": {},
   "outputs": [],
   "source": [
    "z0_mc_cor = correct_mc_bias(z0_mc, z0_reco_fh_c)"
   ]
  },
  {
   "cell_type": "code",
   "execution_count": 266,
   "metadata": {},
   "outputs": [
    {
     "data": {
      "text/plain": [
       "Text(0.5, 1.0, 'Corrected Resolution spectrum')"
      ]
     },
     "execution_count": 266,
     "metadata": {},
     "output_type": "execute_result"
    },
    {
     "data": {
      "image/png": "[encoded data removed]",
      "text/plain": [
       "<Figure size 720x720 with 1 Axes>"
      ]
     },
     "metadata": {
      "needs_background": "light"
     },
     "output_type": "display_data"
    }
   ],
   "source": [
    "y = z0_mc_cor - z0_reco_fh_c\n",
    "x = z0_mc_cor\n",
    "_=plt.hist2d(x,y,bins=(50,50), range=((-15, 15), (-0.5, 0.5)))\n",
    "plt.axhline(0.119, ls = '--',color='white')\n",
    "plt.axhline(0, ls ='--',color='white')\n",
    "plt.xlabel(r\"$z_0^{PV}$ [cm]\")\n",
    "plt.ylabel(r\"$z_0^{PV} - z_0^{reco}$ [cm]\") \n",
    "plt.title('Corrected Resolution spectrum')"
   ]
  },
  {
   "cell_type": "code",
   "execution_count": null,
   "metadata": {},
   "outputs": [],
   "source": []
  },
  {
   "cell_type": "code",
   "execution_count": 199,
   "metadata": {},
   "outputs": [],
   "source": [
    "be = np.arange(-15, 15, 1)"
   ]
  },
  {
   "cell_type": "code",
   "execution_count": 200,
   "metadata": {},
   "outputs": [
    {
     "data": {
      "image/png": "[encoded data removed]",
      "text/plain": [
       "<Figure size 720x720 with 1 Axes>"
      ]
     },
     "metadata": {
      "needs_background": "light"
     },
     "output_type": "display_data"
    }
   ],
   "source": [
    "fh_res = plot_pv_resolution_z0(z0_gen = z0_mc, z0_reco=z0_reco_fh, bins =be)"
   ]
  },
  {
   "cell_type": "code",
   "execution_count": 201,
   "metadata": {},
   "outputs": [
    {
     "data": {
      "image/png": "[encoded data removed]",
      "text/plain": [
       "<Figure size 720x720 with 1 Axes>"
      ]
     },
     "metadata": {
      "needs_background": "light"
     },
     "output_type": "display_data"
    }
   ],
   "source": [
    "fh_res = plot_pv_resolution_z0(z0_gen = z0_mc, z0_reco=z0_reco_fh_c, bins =be)"
   ]
  },
  {
   "cell_type": "code",
   "execution_count": null,
   "metadata": {},
   "outputs": [],
   "source": []
  },
  {
   "cell_type": "code",
   "execution_count": null,
   "metadata": {},
   "outputs": [],
   "source": []
  },
  {
   "cell_type": "code",
   "execution_count": null,
   "metadata": {},
   "outputs": [],
   "source": []
  },
  {
   "cell_type": "markdown",
   "metadata": {
    "tags": []
   },
   "source": [
    "# Primary Vertex Efficiency vs Z0"
   ]
  },
  {
   "cell_type": "code",
   "execution_count": 47,
   "metadata": {},
   "outputs": [],
   "source": [
    "from pv_utils import plot_pv_efficiency_z0"
   ]
  },
  {
   "cell_type": "code",
   "execution_count": 48,
   "metadata": {},
   "outputs": [
    {
     "name": "stdout",
     "output_type": "stream",
     "text": [
      "Help on function plot_pv_efficiency_z0 in module pv_utils:\n",
      "\n",
      "plot_pv_efficiency_z0(z0_gen: <built-in function array>, z0_reco: <built-in function array>, bin_edges: <built-in function array>, delta: float = 0.1, label: str = 'none', xlim: list = [-15, 15]) -> dict\n",
      "\n"
     ]
    }
   ],
   "source": [
    "help(plot_pv_efficiency_z0)"
   ]
  },
  {
   "cell_type": "code",
   "execution_count": 49,
   "metadata": {},
   "outputs": [],
   "source": [
    "be = np.arange(-15, 16, 1)"
   ]
  },
  {
   "cell_type": "code",
   "execution_count": 247,
   "metadata": {},
   "outputs": [
    {
     "data": {
      "image/png": "[encoded data removed]",
      "text/plain": [
       "<Figure size 720x720 with 1 Axes>"
      ]
     },
     "metadata": {
      "needs_background": "light"
     },
     "output_type": "display_data"
    }
   ],
   "source": [
    "fh_plot = plot_pv_efficiency_z0(z0_gen= z0_mc, z0_reco=z0_reco_fh, bin_edges=be)"
   ]
  },
  {
   "cell_type": "code",
   "execution_count": 251,
   "metadata": {},
   "outputs": [
    {
     "data": {
      "image/png": "[encoded data removed]",
      "text/plain": [
       "<Figure size 720x720 with 1 Axes>"
      ]
     },
     "metadata": {
      "needs_background": "light"
     },
     "output_type": "display_data"
    }
   ],
   "source": [
    "fh_c = plot_pv_efficiency_z0(z0_gen= z0_mc, z0_reco=z0_reco_fh_c, bin_edges=be)"
   ]
  },
  {
   "cell_type": "code",
   "execution_count": 249,
   "metadata": {},
   "outputs": [
    {
     "data": {
      "image/png": "[encoded data removed]",
      "text/plain": [
       "<Figure size 720x720 with 1 Axes>"
      ]
     },
     "metadata": {
      "needs_background": "light"
     },
     "output_type": "display_data"
    }
   ],
   "source": [
    "db_plot = plot_pv_efficiency_z0(z0_gen= z0_mc, z0_reco=z0_db['trk_z0'], bin_edges=be)"
   ]
  },
  {
   "cell_type": "code",
   "execution_count": 253,
   "metadata": {},
   "outputs": [
    {
     "data": {
      "image/png": "[encoded data removed]",
      "text/plain": [
       "<Figure size 720x720 with 1 Axes>"
      ]
     },
     "metadata": {
      "needs_background": "light"
     },
     "output_type": "display_data"
    }
   ],
   "source": [
    "plt.errorbar(\n",
    "    fh_c.x,\n",
    "    100 * fh_c.eff,\n",
    "    xerr=fh_c.error_x,\n",
    "    yerr=[100 * fh_c.lower_error, 100 * fh_c.upper_error],\n",
    "    ls=\"none\",\n",
    "    label=\"FH w/ convolution\",\n",
    "    color=\"#9E37AD\",\n",
    ")\n",
    "plt.errorbar(\n",
    "    db_plot.x,\n",
    "    100 * db_plot.eff,\n",
    "    xerr=db_plot.error_x,\n",
    "    yerr=[100 * db_plot.lower_error, 100 * db_plot.upper_error],\n",
    "    ls=\"none\",\n",
    "    label=\"DBSCAN\",\n",
    "    color=\"#12A863\",\n",
    ")\n",
    "plt.legend()\n",
    "plt.ylim(0, 110)\n",
    "plt.xlabel(r\"$z^{PV}_{gen}$ [cm]\")\n",
    "plt.ylabel(\"Efficiency [%]\")\n",
    "plt.title(\"Primary vertex efficiency\")\n",
    "plt.savefig('pv_eff.pdf', dpi=500, bbox_inches='tight')"
   ]
  },
  {
   "cell_type": "code",
   "execution_count": null,
   "metadata": {},
   "outputs": [],
   "source": []
  },
  {
   "cell_type": "markdown",
   "metadata": {},
   "source": [
    "### PROPOSED SOLUTION TO THE SHIFT"
   ]
  },
  {
   "cell_type": "markdown",
   "metadata": {},
   "source": [
    "Take the median value of the difference between $z_0^{PV} - z_0^{Reco}$ when $z_0^{PV} \\geq 0$ and then subtract this value from the original (positive) $z_0^{PV}$ "
   ]
  },
  {
   "cell_type": "code",
   "execution_count": null,
   "metadata": {},
   "outputs": [],
   "source": []
  },
  {
   "cell_type": "code",
   "execution_count": null,
   "metadata": {},
   "outputs": [],
   "source": []
  },
  {
   "cell_type": "markdown",
   "metadata": {
    "tags": []
   },
   "source": [
    "# DEBUG FAST HISTO"
   ]
  },
  {
   "cell_type": "markdown",
   "metadata": {},
   "source": [
    "**Select first event**"
   ]
  },
  {
   "cell_type": "code",
   "execution_count": 56,
   "metadata": {},
   "outputs": [],
   "source": [
    "e1 = trk[0:159].copy()"
   ]
  },
  {
   "cell_type": "code",
   "execution_count": 57,
   "metadata": {},
   "outputs": [
    {
     "data": {
      "text/html": [
       "<div>\n",
       "<style scoped>\n",
       "    .dataframe tbody tr th:only-of-type {\n",
       "        vertical-align: middle;\n",
       "    }\n",
       "\n",
       "    .dataframe tbody tr th {\n",
       "        vertical-align: top;\n",
       "    }\n",
       "\n",
       "    .dataframe thead th {\n",
       "        text-align: right;\n",
       "    }\n",
       "</style>\n",
       "<table border=\"1\" class=\"dataframe\">\n",
       "  <thead>\n",
       "    <tr style=\"text-align: right;\">\n",
       "      <th></th>\n",
       "      <th></th>\n",
       "      <th>trk_pt</th>\n",
       "      <th>trk_eta</th>\n",
       "      <th>trk_phi</th>\n",
       "      <th>trk_d0</th>\n",
       "      <th>trk_z0</th>\n",
       "      <th>trk_fake</th>\n",
       "      <th>is_pv</th>\n",
       "      <th>fh_label</th>\n",
       "      <th>db_label</th>\n",
       "    </tr>\n",
       "    <tr>\n",
       "      <th>entry</th>\n",
       "      <th>subentry</th>\n",
       "      <th></th>\n",
       "      <th></th>\n",
       "      <th></th>\n",
       "      <th></th>\n",
       "      <th></th>\n",
       "      <th></th>\n",
       "      <th></th>\n",
       "      <th></th>\n",
       "      <th></th>\n",
       "    </tr>\n",
       "  </thead>\n",
       "  <tbody>\n",
       "    <tr>\n",
       "      <th rowspan=\"11\" valign=\"top\">0</th>\n",
       "      <th>0</th>\n",
       "      <td>2.623967</td>\n",
       "      <td>1.301414</td>\n",
       "      <td>-0.289234</td>\n",
       "      <td>999.0</td>\n",
       "      <td>-0.878906</td>\n",
       "      <td>2</td>\n",
       "      <td>0</td>\n",
       "      <td>0</td>\n",
       "      <td>0</td>\n",
       "    </tr>\n",
       "    <tr>\n",
       "      <th>1</th>\n",
       "      <td>3.435026</td>\n",
       "      <td>0.566814</td>\n",
       "      <td>-0.159267</td>\n",
       "      <td>999.0</td>\n",
       "      <td>3.339844</td>\n",
       "      <td>2</td>\n",
       "      <td>0</td>\n",
       "      <td>0</td>\n",
       "      <td>0</td>\n",
       "    </tr>\n",
       "    <tr>\n",
       "      <th>2</th>\n",
       "      <td>3.774908</td>\n",
       "      <td>1.815973</td>\n",
       "      <td>-0.240375</td>\n",
       "      <td>999.0</td>\n",
       "      <td>4.921875</td>\n",
       "      <td>1</td>\n",
       "      <td>1</td>\n",
       "      <td>1</td>\n",
       "      <td>1</td>\n",
       "    </tr>\n",
       "    <tr>\n",
       "      <th>3</th>\n",
       "      <td>2.641448</td>\n",
       "      <td>-1.435747</td>\n",
       "      <td>-0.128747</td>\n",
       "      <td>999.0</td>\n",
       "      <td>-0.468750</td>\n",
       "      <td>2</td>\n",
       "      <td>0</td>\n",
       "      <td>0</td>\n",
       "      <td>0</td>\n",
       "    </tr>\n",
       "    <tr>\n",
       "      <th>4</th>\n",
       "      <td>2.320653</td>\n",
       "      <td>1.837421</td>\n",
       "      <td>0.032604</td>\n",
       "      <td>999.0</td>\n",
       "      <td>4.980469</td>\n",
       "      <td>1</td>\n",
       "      <td>1</td>\n",
       "      <td>1</td>\n",
       "      <td>1</td>\n",
       "    </tr>\n",
       "    <tr>\n",
       "      <th>...</th>\n",
       "      <td>...</td>\n",
       "      <td>...</td>\n",
       "      <td>...</td>\n",
       "      <td>...</td>\n",
       "      <td>...</td>\n",
       "      <td>...</td>\n",
       "      <td>...</td>\n",
       "      <td>...</td>\n",
       "      <td>...</td>\n",
       "    </tr>\n",
       "    <tr>\n",
       "      <th>154</th>\n",
       "      <td>2.026653</td>\n",
       "      <td>-2.021094</td>\n",
       "      <td>-1.062191</td>\n",
       "      <td>999.0</td>\n",
       "      <td>-0.410156</td>\n",
       "      <td>2</td>\n",
       "      <td>0</td>\n",
       "      <td>0</td>\n",
       "      <td>0</td>\n",
       "    </tr>\n",
       "    <tr>\n",
       "      <th>155</th>\n",
       "      <td>2.049097</td>\n",
       "      <td>-2.055119</td>\n",
       "      <td>-0.964472</td>\n",
       "      <td>999.0</td>\n",
       "      <td>-0.410156</td>\n",
       "      <td>2</td>\n",
       "      <td>0</td>\n",
       "      <td>0</td>\n",
       "      <td>0</td>\n",
       "    </tr>\n",
       "    <tr>\n",
       "      <th>156</th>\n",
       "      <td>2.222179</td>\n",
       "      <td>-2.426809</td>\n",
       "      <td>-0.693084</td>\n",
       "      <td>999.0</td>\n",
       "      <td>5.566406</td>\n",
       "      <td>2</td>\n",
       "      <td>0</td>\n",
       "      <td>0</td>\n",
       "      <td>0</td>\n",
       "    </tr>\n",
       "    <tr>\n",
       "      <th>157</th>\n",
       "      <td>2.563973</td>\n",
       "      <td>2.081842</td>\n",
       "      <td>-0.530004</td>\n",
       "      <td>999.0</td>\n",
       "      <td>-3.046875</td>\n",
       "      <td>2</td>\n",
       "      <td>0</td>\n",
       "      <td>0</td>\n",
       "      <td>0</td>\n",
       "    </tr>\n",
       "    <tr>\n",
       "      <th>158</th>\n",
       "      <td>2.303798</td>\n",
       "      <td>1.335547</td>\n",
       "      <td>-0.274176</td>\n",
       "      <td>999.0</td>\n",
       "      <td>4.804688</td>\n",
       "      <td>2</td>\n",
       "      <td>0</td>\n",
       "      <td>0</td>\n",
       "      <td>1</td>\n",
       "    </tr>\n",
       "  </tbody>\n",
       "</table>\n",
       "<p>159 rows × 9 columns</p>\n",
       "</div>"
      ],
      "text/plain": [
       "                  trk_pt   trk_eta   trk_phi  trk_d0    trk_z0  trk_fake  \\\n",
       "entry subentry                                                             \n",
       "0     0         2.623967  1.301414 -0.289234   999.0 -0.878906         2   \n",
       "      1         3.435026  0.566814 -0.159267   999.0  3.339844         2   \n",
       "      2         3.774908  1.815973 -0.240375   999.0  4.921875         1   \n",
       "      3         2.641448 -1.435747 -0.128747   999.0 -0.468750         2   \n",
       "      4         2.320653  1.837421  0.032604   999.0  4.980469         1   \n",
       "...                  ...       ...       ...     ...       ...       ...   \n",
       "      154       2.026653 -2.021094 -1.062191   999.0 -0.410156         2   \n",
       "      155       2.049097 -2.055119 -0.964472   999.0 -0.410156         2   \n",
       "      156       2.222179 -2.426809 -0.693084   999.0  5.566406         2   \n",
       "      157       2.563973  2.081842 -0.530004   999.0 -3.046875         2   \n",
       "      158       2.303798  1.335547 -0.274176   999.0  4.804688         2   \n",
       "\n",
       "                is_pv  fh_label  db_label  \n",
       "entry subentry                             \n",
       "0     0             0         0         0  \n",
       "      1             0         0         0  \n",
       "      2             1         1         1  \n",
       "      3             0         0         0  \n",
       "      4             1         1         1  \n",
       "...               ...       ...       ...  \n",
       "      154           0         0         0  \n",
       "      155           0         0         0  \n",
       "      156           0         0         0  \n",
       "      157           0         0         0  \n",
       "      158           0         0         1  \n",
       "\n",
       "[159 rows x 9 columns]"
      ]
     },
     "execution_count": 57,
     "metadata": {},
     "output_type": "execute_result"
    }
   ],
   "source": [
    "e1"
   ]
  },
  {
   "cell_type": "code",
   "execution_count": 58,
   "metadata": {},
   "outputs": [],
   "source": [
    "bin_edges = be_fh"
   ]
  },
  {
   "cell_type": "code",
   "execution_count": 59,
   "metadata": {},
   "outputs": [],
   "source": [
    "histo = np.histogram(e1.trk_z0, bins=bin_edges, weights=e1.trk_pt)[0]"
   ]
  },
  {
   "cell_type": "code",
   "execution_count": 65,
   "metadata": {},
   "outputs": [
    {
     "data": {
      "text/plain": [
       "Text(1, 0, 'z0')"
      ]
     },
     "execution_count": 65,
     "metadata": {},
     "output_type": "execute_result"
    },
    {
     "data": {
      "image/png": "[encoded data removed]",
      "text/plain": [
       "<Figure size 720x720 with 1 Axes>"
      ]
     },
     "metadata": {
      "needs_background": "light"
     },
     "output_type": "display_data"
    }
   ],
   "source": [
    "hep.histplot(histo, bin_edges)\n",
    "plt.xlabel('z0')"
   ]
  },
  {
   "cell_type": "code",
   "execution_count": 66,
   "metadata": {},
   "outputs": [
    {
     "data": {
      "text/plain": [
       "(255,)"
      ]
     },
     "execution_count": 66,
     "metadata": {},
     "output_type": "execute_result"
    }
   ],
   "source": [
    "histo.shape"
   ]
  },
  {
   "cell_type": "code",
   "execution_count": 67,
   "metadata": {},
   "outputs": [],
   "source": [
    "histo_conv = np.convolve(histo, [1,1,1], mode='same')"
   ]
  },
  {
   "cell_type": "code",
   "execution_count": 90,
   "metadata": {},
   "outputs": [],
   "source": [
    "z0_index = np.argmax(histo)"
   ]
  },
  {
   "cell_type": "code",
   "execution_count": 76,
   "metadata": {},
   "outputs": [],
   "source": [
    "z0_index_conv = np.argmax(histo_conv)"
   ]
  },
  {
   "cell_type": "code",
   "execution_count": 77,
   "metadata": {},
   "outputs": [
    {
     "data": {
      "text/plain": [
       "169"
      ]
     },
     "execution_count": 77,
     "metadata": {},
     "output_type": "execute_result"
    }
   ],
   "source": [
    "z0_index"
   ]
  },
  {
   "cell_type": "code",
   "execution_count": 78,
   "metadata": {},
   "outputs": [
    {
     "data": {
      "text/plain": [
       "169"
      ]
     },
     "execution_count": 78,
     "metadata": {},
     "output_type": "execute_result"
    }
   ],
   "source": [
    "z0_index_conv"
   ]
  },
  {
   "cell_type": "code",
   "execution_count": 79,
   "metadata": {},
   "outputs": [],
   "source": [
    "halfBinWidth = 0.5*30.0/256.0"
   ]
  },
  {
   "cell_type": "code",
   "execution_count": 80,
   "metadata": {},
   "outputs": [],
   "source": [
    "z0 = -15.0 + 30.0*z0_index_conv/256.0 + halfBinWidth"
   ]
  },
  {
   "cell_type": "code",
   "execution_count": 81,
   "metadata": {},
   "outputs": [
    {
     "data": {
      "text/plain": [
       "4.86328125"
      ]
     },
     "execution_count": 81,
     "metadata": {},
     "output_type": "execute_result"
    }
   ],
   "source": [
    "z0"
   ]
  },
  {
   "cell_type": "code",
   "execution_count": 84,
   "metadata": {},
   "outputs": [
    {
     "data": {
      "text/plain": [
       "80.37664794921875"
      ]
     },
     "execution_count": 84,
     "metadata": {},
     "output_type": "execute_result"
    }
   ],
   "source": [
    "histo_conv.max()"
   ]
  },
  {
   "cell_type": "code",
   "execution_count": 88,
   "metadata": {},
   "outputs": [
    {
     "data": {
      "text/plain": [
       "<matplotlib.legend.Legend at 0x7fe051470ac0>"
      ]
     },
     "execution_count": 88,
     "metadata": {},
     "output_type": "execute_result"
    },
    {
     "data": {
      "image/png": "[encoded data removed]",
      "text/plain": [
       "<Figure size 720x720 with 1 Axes>"
      ]
     },
     "metadata": {
      "needs_background": "light"
     },
     "output_type": "display_data"
    }
   ],
   "source": [
    "hep.histplot(histo, bin_edges, label = 'pre-conv')\n",
    "hep.histplot(histo_conv, bin_edges, label='conv')\n",
    "plt.xlabel('z0')\n",
    "plt.xlim(-10, 10)\n",
    "plt.plot(4.86328125, 80.3766479, '+',markersize=14, label = 'z0 cb (4.86)')\n",
    "plt.legend(loc='upper left')\n",
    "\n"
   ]
  },
  {
   "cell_type": "code",
   "execution_count": 91,
   "metadata": {},
   "outputs": [],
   "source": [
    "labels = np.zeros(len(e1.trk_z0), dtype=int)"
   ]
  },
  {
   "cell_type": "code",
   "execution_count": 92,
   "metadata": {},
   "outputs": [],
   "source": [
    "max_idx = np.argmax(histo)"
   ]
  },
  {
   "cell_type": "code",
   "execution_count": 93,
   "metadata": {},
   "outputs": [],
   "source": [
    "lower_bin_bound = bin_edges[max_idx]\n",
    "upper_bin_bound = bin_edges[max_idx + 1]"
   ]
  },
  {
   "cell_type": "code",
   "execution_count": 94,
   "metadata": {},
   "outputs": [],
   "source": [
    "in_max_bin_mask = (e1.trk_z0 > lower_bin_bound) & ( e1.trk_z0 <= upper_bin_bound)"
   ]
  },
  {
   "cell_type": "code",
   "execution_count": 95,
   "metadata": {},
   "outputs": [],
   "source": [
    "labels[in_max_bin_mask] = 1"
   ]
  },
  {
   "cell_type": "code",
   "execution_count": 96,
   "metadata": {},
   "outputs": [],
   "source": [
    "e1['labels'] = labels"
   ]
  },
  {
   "cell_type": "code",
   "execution_count": 97,
   "metadata": {},
   "outputs": [
    {
     "data": {
      "text/html": [
       "<div>\n",
       "<style scoped>\n",
       "    .dataframe tbody tr th:only-of-type {\n",
       "        vertical-align: middle;\n",
       "    }\n",
       "\n",
       "    .dataframe tbody tr th {\n",
       "        vertical-align: top;\n",
       "    }\n",
       "\n",
       "    .dataframe thead th {\n",
       "        text-align: right;\n",
       "    }\n",
       "</style>\n",
       "<table border=\"1\" class=\"dataframe\">\n",
       "  <thead>\n",
       "    <tr style=\"text-align: right;\">\n",
       "      <th></th>\n",
       "      <th></th>\n",
       "      <th>trk_pt</th>\n",
       "      <th>trk_eta</th>\n",
       "      <th>trk_phi</th>\n",
       "      <th>trk_d0</th>\n",
       "      <th>trk_z0</th>\n",
       "      <th>trk_fake</th>\n",
       "      <th>is_pv</th>\n",
       "      <th>fh_label</th>\n",
       "      <th>db_label</th>\n",
       "      <th>labels</th>\n",
       "    </tr>\n",
       "    <tr>\n",
       "      <th>entry</th>\n",
       "      <th>subentry</th>\n",
       "      <th></th>\n",
       "      <th></th>\n",
       "      <th></th>\n",
       "      <th></th>\n",
       "      <th></th>\n",
       "      <th></th>\n",
       "      <th></th>\n",
       "      <th></th>\n",
       "      <th></th>\n",
       "      <th></th>\n",
       "    </tr>\n",
       "  </thead>\n",
       "  <tbody>\n",
       "    <tr>\n",
       "      <th rowspan=\"11\" valign=\"top\">0</th>\n",
       "      <th>0</th>\n",
       "      <td>2.623967</td>\n",
       "      <td>1.301414</td>\n",
       "      <td>-0.289234</td>\n",
       "      <td>999.0</td>\n",
       "      <td>-0.878906</td>\n",
       "      <td>2</td>\n",
       "      <td>0</td>\n",
       "      <td>0</td>\n",
       "      <td>0</td>\n",
       "      <td>0</td>\n",
       "    </tr>\n",
       "    <tr>\n",
       "      <th>1</th>\n",
       "      <td>3.435026</td>\n",
       "      <td>0.566814</td>\n",
       "      <td>-0.159267</td>\n",
       "      <td>999.0</td>\n",
       "      <td>3.339844</td>\n",
       "      <td>2</td>\n",
       "      <td>0</td>\n",
       "      <td>0</td>\n",
       "      <td>0</td>\n",
       "      <td>0</td>\n",
       "    </tr>\n",
       "    <tr>\n",
       "      <th>2</th>\n",
       "      <td>3.774908</td>\n",
       "      <td>1.815973</td>\n",
       "      <td>-0.240375</td>\n",
       "      <td>999.0</td>\n",
       "      <td>4.921875</td>\n",
       "      <td>1</td>\n",
       "      <td>1</td>\n",
       "      <td>1</td>\n",
       "      <td>1</td>\n",
       "      <td>1</td>\n",
       "    </tr>\n",
       "    <tr>\n",
       "      <th>3</th>\n",
       "      <td>2.641448</td>\n",
       "      <td>-1.435747</td>\n",
       "      <td>-0.128747</td>\n",
       "      <td>999.0</td>\n",
       "      <td>-0.468750</td>\n",
       "      <td>2</td>\n",
       "      <td>0</td>\n",
       "      <td>0</td>\n",
       "      <td>0</td>\n",
       "      <td>0</td>\n",
       "    </tr>\n",
       "    <tr>\n",
       "      <th>4</th>\n",
       "      <td>2.320653</td>\n",
       "      <td>1.837421</td>\n",
       "      <td>0.032604</td>\n",
       "      <td>999.0</td>\n",
       "      <td>4.980469</td>\n",
       "      <td>1</td>\n",
       "      <td>1</td>\n",
       "      <td>1</td>\n",
       "      <td>1</td>\n",
       "      <td>1</td>\n",
       "    </tr>\n",
       "    <tr>\n",
       "      <th>...</th>\n",
       "      <td>...</td>\n",
       "      <td>...</td>\n",
       "      <td>...</td>\n",
       "      <td>...</td>\n",
       "      <td>...</td>\n",
       "      <td>...</td>\n",
       "      <td>...</td>\n",
       "      <td>...</td>\n",
       "      <td>...</td>\n",
       "      <td>...</td>\n",
       "    </tr>\n",
       "    <tr>\n",
       "      <th>154</th>\n",
       "      <td>2.026653</td>\n",
       "      <td>-2.021094</td>\n",
       "      <td>-1.062191</td>\n",
       "      <td>999.0</td>\n",
       "      <td>-0.410156</td>\n",
       "      <td>2</td>\n",
       "      <td>0</td>\n",
       "      <td>0</td>\n",
       "      <td>0</td>\n",
       "      <td>0</td>\n",
       "    </tr>\n",
       "    <tr>\n",
       "      <th>155</th>\n",
       "      <td>2.049097</td>\n",
       "      <td>-2.055119</td>\n",
       "      <td>-0.964472</td>\n",
       "      <td>999.0</td>\n",
       "      <td>-0.410156</td>\n",
       "      <td>2</td>\n",
       "      <td>0</td>\n",
       "      <td>0</td>\n",
       "      <td>0</td>\n",
       "      <td>0</td>\n",
       "    </tr>\n",
       "    <tr>\n",
       "      <th>156</th>\n",
       "      <td>2.222179</td>\n",
       "      <td>-2.426809</td>\n",
       "      <td>-0.693084</td>\n",
       "      <td>999.0</td>\n",
       "      <td>5.566406</td>\n",
       "      <td>2</td>\n",
       "      <td>0</td>\n",
       "      <td>0</td>\n",
       "      <td>0</td>\n",
       "      <td>0</td>\n",
       "    </tr>\n",
       "    <tr>\n",
       "      <th>157</th>\n",
       "      <td>2.563973</td>\n",
       "      <td>2.081842</td>\n",
       "      <td>-0.530004</td>\n",
       "      <td>999.0</td>\n",
       "      <td>-3.046875</td>\n",
       "      <td>2</td>\n",
       "      <td>0</td>\n",
       "      <td>0</td>\n",
       "      <td>0</td>\n",
       "      <td>0</td>\n",
       "    </tr>\n",
       "    <tr>\n",
       "      <th>158</th>\n",
       "      <td>2.303798</td>\n",
       "      <td>1.335547</td>\n",
       "      <td>-0.274176</td>\n",
       "      <td>999.0</td>\n",
       "      <td>4.804688</td>\n",
       "      <td>2</td>\n",
       "      <td>0</td>\n",
       "      <td>0</td>\n",
       "      <td>1</td>\n",
       "      <td>0</td>\n",
       "    </tr>\n",
       "  </tbody>\n",
       "</table>\n",
       "<p>159 rows × 10 columns</p>\n",
       "</div>"
      ],
      "text/plain": [
       "                  trk_pt   trk_eta   trk_phi  trk_d0    trk_z0  trk_fake  \\\n",
       "entry subentry                                                             \n",
       "0     0         2.623967  1.301414 -0.289234   999.0 -0.878906         2   \n",
       "      1         3.435026  0.566814 -0.159267   999.0  3.339844         2   \n",
       "      2         3.774908  1.815973 -0.240375   999.0  4.921875         1   \n",
       "      3         2.641448 -1.435747 -0.128747   999.0 -0.468750         2   \n",
       "      4         2.320653  1.837421  0.032604   999.0  4.980469         1   \n",
       "...                  ...       ...       ...     ...       ...       ...   \n",
       "      154       2.026653 -2.021094 -1.062191   999.0 -0.410156         2   \n",
       "      155       2.049097 -2.055119 -0.964472   999.0 -0.410156         2   \n",
       "      156       2.222179 -2.426809 -0.693084   999.0  5.566406         2   \n",
       "      157       2.563973  2.081842 -0.530004   999.0 -3.046875         2   \n",
       "      158       2.303798  1.335547 -0.274176   999.0  4.804688         2   \n",
       "\n",
       "                is_pv  fh_label  db_label  labels  \n",
       "entry subentry                                     \n",
       "0     0             0         0         0       0  \n",
       "      1             0         0         0       0  \n",
       "      2             1         1         1       1  \n",
       "      3             0         0         0       0  \n",
       "      4             1         1         1       1  \n",
       "...               ...       ...       ...     ...  \n",
       "      154           0         0         0       0  \n",
       "      155           0         0         0       0  \n",
       "      156           0         0         0       0  \n",
       "      157           0         0         0       0  \n",
       "      158           0         0         1       0  \n",
       "\n",
       "[159 rows x 10 columns]"
      ]
     },
     "execution_count": 97,
     "metadata": {},
     "output_type": "execute_result"
    }
   ],
   "source": [
    "e1"
   ]
  },
  {
   "cell_type": "code",
   "execution_count": 98,
   "metadata": {},
   "outputs": [
    {
     "data": {
      "text/html": [
       "<div>\n",
       "<style scoped>\n",
       "    .dataframe tbody tr th:only-of-type {\n",
       "        vertical-align: middle;\n",
       "    }\n",
       "\n",
       "    .dataframe tbody tr th {\n",
       "        vertical-align: top;\n",
       "    }\n",
       "\n",
       "    .dataframe thead th {\n",
       "        text-align: right;\n",
       "    }\n",
       "</style>\n",
       "<table border=\"1\" class=\"dataframe\">\n",
       "  <thead>\n",
       "    <tr style=\"text-align: right;\">\n",
       "      <th></th>\n",
       "      <th>entry</th>\n",
       "      <th>trk_z0</th>\n",
       "    </tr>\n",
       "  </thead>\n",
       "  <tbody>\n",
       "    <tr>\n",
       "      <th>0</th>\n",
       "      <td>0</td>\n",
       "      <td>4.980469</td>\n",
       "    </tr>\n",
       "  </tbody>\n",
       "</table>\n",
       "</div>"
      ],
      "text/plain": [
       "   entry    trk_z0\n",
       "0      0  4.980469"
      ]
     },
     "execution_count": 98,
     "metadata": {},
     "output_type": "execute_result"
    }
   ],
   "source": [
    "e1.loc[e1['labels']==1].groupby('entry')['trk_z0'].median().reset_index()"
   ]
  },
  {
   "cell_type": "code",
   "execution_count": null,
   "metadata": {},
   "outputs": [],
   "source": [
    "z0"
   ]
  },
  {
   "cell_type": "code",
   "execution_count": null,
   "metadata": {},
   "outputs": [],
   "source": [
    "def fast_histo_event(z0: np.array, pt: np.array, bin_edges: np.array) -> pd.Series:\n",
    "    \"Event-level Fast Histo implementation to return the reconstructed primary vertex\"\n",
    "\n",
    "    histo = np.histogram(z0, bins=bin_edges, weights=pt)[0]\n",
    "    \n",
    "    histo = np.convolve(histo, [1,1,1], mode='same')\n",
    "    \n",
    "    labels = np.zeros(len(z0), dtype=int)\n",
    "    \n",
    "\n",
    "    max_idx = np.argmax(histo)\n",
    "\n",
    "    lower_bin_bound = bin_edges[max_idx]\n",
    "    upper_bin_bound = bin_edges[max_idx + 1]\n",
    "\n",
    "    in_max_bin_mask = (z0 > lower_bin_bound) & (z0 <= upper_bin_bound)\n",
    "    labels[in_max_bin_mask] = 1\n",
    "\n",
    "    return labels"
   ]
  },
  {
   "cell_type": "code",
   "execution_count": null,
   "metadata": {},
   "outputs": [],
   "source": []
  },
  {
   "cell_type": "markdown",
   "metadata": {},
   "source": [
    "# DEBUG"
   ]
  },
  {
   "cell_type": "code",
   "execution_count": 232,
   "metadata": {},
   "outputs": [],
   "source": [
    "e1 = trk.query('entry==0').copy()"
   ]
  },
  {
   "cell_type": "code",
   "execution_count": 237,
   "metadata": {},
   "outputs": [],
   "source": [
    "e2 = trk.query('entry==1').copy()"
   ]
  },
  {
   "cell_type": "code",
   "execution_count": 246,
   "metadata": {},
   "outputs": [
    {
     "data": {
      "text/plain": [
       "Text(1, 0, '$\\\\eta$')"
      ]
     },
     "execution_count": 246,
     "metadata": {},
     "output_type": "execute_result"
    },
    {
     "data": {
      "image/png": "[encoded data removed]",
      "text/plain": [
       "<Figure size 720x720 with 1 Axes>"
      ]
     },
     "metadata": {
      "needs_background": "light"
     },
     "output_type": "display_data"
    }
   ],
   "source": [
    "e1['trk_eta'].hist(histtype='step',label='all')\n",
    "e1.loc[e1['is_pv']==1,'trk_eta'].hist(histtype='step',label='pv')\n",
    "plt.legend(loc='upper left')\n",
    "plt.xlabel(r'$\\eta$')"
   ]
  },
  {
   "cell_type": "code",
   "execution_count": 245,
   "metadata": {},
   "outputs": [
    {
     "data": {
      "text/plain": [
       "Text(1, 0, '$\\\\eta$')"
      ]
     },
     "execution_count": 245,
     "metadata": {},
     "output_type": "execute_result"
    },
    {
     "data": {
      "image/png": "[encoded data removed]",
      "text/plain": [
       "<Figure size 720x720 with 1 Axes>"
      ]
     },
     "metadata": {
      "needs_background": "light"
     },
     "output_type": "display_data"
    }
   ],
   "source": [
    "e2['trk_eta'].hist(histtype='step',label='all')\n",
    "e2.loc[e2['is_pv']==1,'trk_eta'].hist(histtype='step',label='pv')\n",
    "plt.legend(loc='upper left')\n",
    "plt.xlabel(r'$\\eta$')"
   ]
  },
  {
   "cell_type": "code",
   "execution_count": null,
   "metadata": {},
   "outputs": [],
   "source": []
  }
 ],
 "metadata": {
  "kernelspec": {
   "display_name": "db-clustering",
   "language": "python",
   "name": "db-clustering"
  },
  "language_info": {
   "codemirror_mode": {
    "name": "ipython",
    "version": 3
   },
   "file_extension": ".py",
   "mimetype": "text/x-python",
   "name": "python",
   "nbconvert_exporter": "python",
   "pygments_lexer": "ipython3",
   "version": "3.8.13"
  }
 },
 "nbformat": 4,
 "nbformat_minor": 4
}
