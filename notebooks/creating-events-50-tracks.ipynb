{
 "cells": [
  {
   "cell_type": "code",
   "execution_count": 4,
   "metadata": {},
   "outputs": [
    {
     "name": "stdout",
     "output_type": "stream",
     "text": [
      "The autoreload extension is already loaded. To reload it, use:\n",
      "  %reload_ext autoreload\n"
     ]
    },
    {
     "data": {
      "application/javascript": "\n            setTimeout(function() {\n                var nbb_cell_id = 4;\n                var nbb_unformatted_code = \"### Reloads modules properly\\n%load_ext autoreload\\n%autoreload 2\\n%load_ext lab_black\";\n                var nbb_formatted_code = \"### Reloads modules properly\\n%load_ext autoreload\\n%autoreload 2\\n%load_ext lab_black\";\n                var nbb_cells = Jupyter.notebook.get_cells();\n                for (var i = 0; i < nbb_cells.length; ++i) {\n                    if (nbb_cells[i].input_prompt_number == nbb_cell_id) {\n                        if (nbb_cells[i].get_text() == nbb_unformatted_code) {\n                             nbb_cells[i].set_text(nbb_formatted_code);\n                        }\n                        break;\n                    }\n                }\n            }, 500);\n            ",
      "text/plain": [
       "<IPython.core.display.Javascript object>"
      ]
     },
     "metadata": {},
     "output_type": "display_data"
    }
   ],
   "source": [
    "### Reloads modules properly\n",
    "%load_ext autoreload\n",
    "%autoreload 2\n",
    "%load_ext lab_black"
   ]
  },
  {
   "cell_type": "markdown",
   "metadata": {},
   "source": [
    "# Create events with only 50 tracks for small scale testing"
   ]
  },
  {
   "cell_type": "markdown",
   "metadata": {},
   "source": [
    "The simulation sorting only hardware uses 50 tracks only because it was faster to compile, so in here we will create a test set for this."
   ]
  },
  {
   "cell_type": "code",
   "execution_count": 6,
   "metadata": {},
   "outputs": [
    {
     "name": "stdout",
     "output_type": "stream",
     "text": [
      "0-0-reconVertices.bin\tb-48-trk-pt.bin\t\tb-87-trk-mc.bin\n",
      "0-1-reconVertices.bin\tb-48-trk-z0.bin\t\tb-87-trk-pt.bin\n",
      "b-0-recon-pt.bin\tb-49-recon-pt.bin\tb-87-trk-z0.bin\n",
      "b-0-reconVertices.bin\tb-49-reconVertices.bin\tb-88-recon-pt.bin\n",
      "b-0-recon-z0.bin\tb-49-recon-z0.bin\tb-88-reconVertices.bin\n",
      "b-0-trk-fake.bin\tb-49-trk-fake.bin\tb-88-recon-z0.bin\n",
      "b-0-trk-mc.bin\t\tb-49-trk-mc.bin\t\tb-88-trk-fake.bin\n",
      "b-0-trk-pt.bin\t\tb-49-trk-pt.bin\t\tb-88-trk-mc.bin\n",
      "b-0-trk-z0.bin\t\tb-49-trk-z0.bin\t\tb-88-trk-pt.bin\n",
      "b-10-recon-pt.bin\tb-4-recon-pt.bin\tb-88-trk-z0.bin\n",
      "b-10-reconVertices.bin\tb-4-reconVertices.bin\tb-89-recon-pt.bin\n",
      "b-10-recon-z0.bin\tb-4-recon-z0.bin\tb-89-reconVertices.bin\n",
      "b-10-trk-fake.bin\tb-4-trk-fake.bin\tb-89-recon-z0.bin\n",
      "b-10-trk-mc.bin\t\tb-4-trk-mc.bin\t\tb-89-trk-fake.bin\n",
      "b-10-trk-pt.bin\t\tb-4-trk-pt.bin\t\tb-89-trk-mc.bin\n",
      "b-10-trk-z0.bin\t\tb-4-trk-z0.bin\t\tb-89-trk-pt.bin\n",
      "b-11-recon-pt.bin\tb-50-recon-pt.bin\tb-89-trk-z0.bin\n",
      "b-11-reconVertices.bin\tb-50-reconVertices.bin\tb-8-recon-pt.bin\n",
      "b-11-recon-z0.bin\tb-50-recon-z0.bin\tb-8-reconVertices.bin\n",
      "b-11-trk-fake.bin\tb-50-trk-fake.bin\tb-8-recon-z0.bin\n",
      "b-11-trk-mc.bin\t\tb-50-trk-mc.bin\t\tb-8-trk-fake.bin\n",
      "b-11-trk-pt.bin\t\tb-50-trk-pt.bin\t\tb-8-trk-mc.bin\n",
      "b-11-trk-z0.bin\t\tb-50-trk-z0.bin\t\tb-8-trk-pt.bin\n",
      "b-12-recon-pt.bin\tb-51-recon-pt.bin\tb-8-trk-z0.bin\n",
      "b-12-reconVertices.bin\tb-51-reconVertices.bin\tb-90-recon-pt.bin\n",
      "b-12-recon-z0.bin\tb-51-recon-z0.bin\tb-90-reconVertices.bin\n",
      "b-12-trk-fake.bin\tb-51-trk-fake.bin\tb-90-recon-z0.bin\n",
      "b-12-trk-mc.bin\t\tb-51-trk-mc.bin\t\tb-90-trk-fake.bin\n",
      "b-12-trk-pt.bin\t\tb-51-trk-pt.bin\t\tb-90-trk-mc.bin\n",
      "b-12-trk-z0.bin\t\tb-51-trk-z0.bin\t\tb-90-trk-pt.bin\n",
      "b-13-recon-pt.bin\tb-52-recon-pt.bin\tb-90-trk-z0.bin\n",
      "b-13-reconVertices.bin\tb-52-reconVertices.bin\tb-91-recon-pt.bin\n",
      "b-13-recon-z0.bin\tb-52-recon-z0.bin\tb-91-reconVertices.bin\n",
      "b-13-trk-fake.bin\tb-52-trk-fake.bin\tb-91-recon-z0.bin\n",
      "b-13-trk-mc.bin\t\tb-52-trk-mc.bin\t\tb-91-trk-fake.bin\n",
      "b-13-trk-pt.bin\t\tb-52-trk-pt.bin\t\tb-91-trk-mc.bin\n",
      "b-13-trk-z0.bin\t\tb-52-trk-z0.bin\t\tb-91-trk-pt.bin\n",
      "b-14-recon-pt.bin\tb-53-recon-pt.bin\tb-91-trk-z0.bin\n",
      "b-14-reconVertices.bin\tb-53-reconVertices.bin\tb-92-recon-pt.bin\n",
      "b-14-recon-z0.bin\tb-53-recon-z0.bin\tb-92-reconVertices.bin\n",
      "b-14-trk-fake.bin\tb-53-trk-fake.bin\tb-92-recon-z0.bin\n",
      "b-14-trk-mc.bin\t\tb-53-trk-mc.bin\t\tb-92-trk-fake.bin\n",
      "b-14-trk-pt.bin\t\tb-53-trk-pt.bin\t\tb-92-trk-mc.bin\n",
      "b-14-trk-z0.bin\t\tb-53-trk-z0.bin\t\tb-92-trk-pt.bin\n",
      "b-15-recon-pt.bin\tb-54-recon-pt.bin\tb-92-trk-z0.bin\n",
      "b-15-reconVertices.bin\tb-54-reconVertices.bin\tb-93-recon-pt.bin\n",
      "b-15-recon-z0.bin\tb-54-recon-z0.bin\tb-93-reconVertices.bin\n",
      "b-15-trk-fake.bin\tb-54-trk-fake.bin\tb-93-recon-z0.bin\n",
      "b-15-trk-mc.bin\t\tb-54-trk-mc.bin\t\tb-93-trk-fake.bin\n",
      "b-15-trk-pt.bin\t\tb-54-trk-pt.bin\t\tb-93-trk-mc.bin\n",
      "b-15-trk-z0.bin\t\tb-54-trk-z0.bin\t\tb-93-trk-pt.bin\n",
      "b-16-recon-pt.bin\tb-55-recon-pt.bin\tb-93-trk-z0.bin\n",
      "b-16-reconVertices.bin\tb-55-reconVertices.bin\tb-94-recon-pt.bin\n",
      "b-16-recon-z0.bin\tb-55-recon-z0.bin\tb-94-reconVertices.bin\n",
      "b-16-trk-fake.bin\tb-55-trk-fake.bin\tb-94-recon-z0.bin\n",
      "b-16-trk-mc.bin\t\tb-55-trk-mc.bin\t\tb-94-trk-fake.bin\n",
      "b-16-trk-pt.bin\t\tb-55-trk-pt.bin\t\tb-94-trk-mc.bin\n",
      "b-16-trk-z0.bin\t\tb-55-trk-z0.bin\t\tb-94-trk-pt.bin\n",
      "b-17-recon-pt.bin\tb-56-recon-pt.bin\tb-94-trk-z0.bin\n",
      "b-17-reconVertices.bin\tb-56-reconVertices.bin\tb-95-recon-pt.bin\n",
      "b-17-recon-z0.bin\tb-56-recon-z0.bin\tb-95-reconVertices.bin\n",
      "b-17-trk-fake.bin\tb-56-trk-fake.bin\tb-95-recon-z0.bin\n",
      "b-17-trk-mc.bin\t\tb-56-trk-mc.bin\t\tb-95-trk-fake.bin\n",
      "b-17-trk-pt.bin\t\tb-56-trk-pt.bin\t\tb-95-trk-mc.bin\n",
      "b-17-trk-z0.bin\t\tb-56-trk-z0.bin\t\tb-95-trk-pt.bin\n",
      "b-18-recon-pt.bin\tb-57-recon-pt.bin\tb-95-trk-z0.bin\n",
      "b-18-reconVertices.bin\tb-57-reconVertices.bin\tb-96-recon-pt.bin\n",
      "b-18-recon-z0.bin\tb-57-recon-z0.bin\tb-96-reconVertices.bin\n",
      "b-18-trk-fake.bin\tb-57-trk-fake.bin\tb-96-recon-z0.bin\n",
      "b-18-trk-mc.bin\t\tb-57-trk-mc.bin\t\tb-96-trk-fake.bin\n",
      "b-18-trk-pt.bin\t\tb-57-trk-pt.bin\t\tb-96-trk-mc.bin\n",
      "b-18-trk-z0.bin\t\tb-57-trk-z0.bin\t\tb-96-trk-pt.bin\n",
      "b-19-recon-pt.bin\tb-58-recon-pt.bin\tb-96-trk-z0.bin\n",
      "b-19-reconVertices.bin\tb-58-reconVertices.bin\tb-97-recon-pt.bin\n",
      "b-19-recon-z0.bin\tb-58-recon-z0.bin\tb-97-reconVertices.bin\n",
      "b-19-trk-fake.bin\tb-58-trk-fake.bin\tb-97-recon-z0.bin\n",
      "b-19-trk-mc.bin\t\tb-58-trk-mc.bin\t\tb-97-trk-fake.bin\n",
      "b-19-trk-pt.bin\t\tb-58-trk-pt.bin\t\tb-97-trk-mc.bin\n",
      "b-19-trk-z0.bin\t\tb-58-trk-z0.bin\t\tb-97-trk-pt.bin\n",
      "b-1-recon-pt.bin\tb-59-recon-pt.bin\tb-97-trk-z0.bin\n",
      "b-1-reconVertices.bin\tb-59-reconVertices.bin\tb-98-recon-pt.bin\n",
      "b-1-recon-z0.bin\tb-59-recon-z0.bin\tb-98-reconVertices.bin\n",
      "b-1-trk-fake.bin\tb-59-trk-fake.bin\tb-98-recon-z0.bin\n",
      "b-1-trk-mc.bin\t\tb-59-trk-mc.bin\t\tb-98-trk-fake.bin\n",
      "b-1-trk-pt.bin\t\tb-59-trk-pt.bin\t\tb-98-trk-mc.bin\n",
      "b-1-trk-z0.bin\t\tb-59-trk-z0.bin\t\tb-98-trk-pt.bin\n",
      "b-20-recon-pt.bin\tb-5-recon-pt.bin\tb-98-trk-z0.bin\n",
      "b-20-reconVertices.bin\tb-5-reconVertices.bin\tb-99-recon-pt.bin\n",
      "b-20-recon-z0.bin\tb-5-recon-z0.bin\tb-99-reconVertices.bin\n",
      "b-20-trk-fake.bin\tb-5-trk-fake.bin\tb-99-recon-z0.bin\n",
      "b-20-trk-mc.bin\t\tb-5-trk-mc.bin\t\tb-99-trk-fake.bin\n",
      "b-20-trk-pt.bin\t\tb-5-trk-pt.bin\t\tb-99-trk-mc.bin\n",
      "b-20-trk-z0.bin\t\tb-5-trk-z0.bin\t\tb-99-trk-pt.bin\n",
      "b-21-recon-pt.bin\tb-60-recon-pt.bin\tb-99-trk-z0.bin\n",
      "b-21-reconVertices.bin\tb-60-reconVertices.bin\tb-9-recon-pt.bin\n",
      "b-21-recon-z0.bin\tb-60-recon-z0.bin\tb-9-reconVertices.bin\n",
      "b-21-trk-fake.bin\tb-60-trk-fake.bin\tb-9-recon-z0.bin\n",
      "b-21-trk-mc.bin\t\tb-60-trk-mc.bin\t\tb-9-trk-fake.bin\n",
      "b-21-trk-pt.bin\t\tb-60-trk-pt.bin\t\tb-9-trk-mc.bin\n",
      "b-21-trk-z0.bin\t\tb-60-trk-z0.bin\t\tb-9-trk-pt.bin\n",
      "b-22-recon-pt.bin\tb-61-recon-pt.bin\tb-9-trk-z0.bin\n",
      "b-22-reconVertices.bin\tb-61-reconVertices.bin\tskl-0-pt.txt\n",
      "b-22-recon-z0.bin\tb-61-recon-z0.bin\tskl-0-z0.txt\n",
      "b-22-trk-fake.bin\tb-61-trk-fake.bin\tskl-10-pt.txt\n",
      "b-22-trk-mc.bin\t\tb-61-trk-mc.bin\t\tskl-10-z0.txt\n",
      "b-22-trk-pt.bin\t\tb-61-trk-pt.bin\t\tskl-11-pt.txt\n",
      "b-22-trk-z0.bin\t\tb-61-trk-z0.bin\t\tskl-11-z0.txt\n",
      "b-23-recon-pt.bin\tb-62-recon-pt.bin\tskl-12-pt.txt\n",
      "b-23-reconVertices.bin\tb-62-reconVertices.bin\tskl-12-z0.txt\n",
      "b-23-recon-z0.bin\tb-62-recon-z0.bin\tskl-13-pt.txt\n",
      "b-23-trk-fake.bin\tb-62-trk-fake.bin\tskl-13-z0.txt\n",
      "b-23-trk-mc.bin\t\tb-62-trk-mc.bin\t\tskl-14-pt.txt\n",
      "b-23-trk-pt.bin\t\tb-62-trk-pt.bin\t\tskl-14-z0.txt\n",
      "b-23-trk-z0.bin\t\tb-62-trk-z0.bin\t\tskl-15-pt.txt\n",
      "b-24-recon-pt.bin\tb-63-recon-pt.bin\tskl-15-z0.txt\n",
      "b-24-reconVertices.bin\tb-63-reconVertices.bin\tskl-16-pt.txt\n",
      "b-24-recon-z0.bin\tb-63-recon-z0.bin\tskl-16-z0.txt\n",
      "b-24-trk-fake.bin\tb-63-trk-fake.bin\tskl-17-pt.txt\n",
      "b-24-trk-mc.bin\t\tb-63-trk-mc.bin\t\tskl-17-z0.txt\n",
      "b-24-trk-pt.bin\t\tb-63-trk-pt.bin\t\tskl-18-pt.txt\n",
      "b-24-trk-z0.bin\t\tb-63-trk-z0.bin\t\tskl-18-z0.txt\n",
      "b-25-recon-pt.bin\tb-64-recon-pt.bin\tskl-19-pt.txt\n",
      "b-25-reconVertices.bin\tb-64-reconVertices.bin\tskl-19-z0.txt\n",
      "b-25-recon-z0.bin\tb-64-recon-z0.bin\tskl-1-pt.txt\n",
      "b-25-trk-fake.bin\tb-64-trk-fake.bin\tskl-1-z0.txt\n",
      "b-25-trk-mc.bin\t\tb-64-trk-mc.bin\t\tskl-20-pt.txt\n",
      "b-25-trk-pt.bin\t\tb-64-trk-pt.bin\t\tskl-20-z0.txt\n",
      "b-25-trk-z0.bin\t\tb-64-trk-z0.bin\t\tskl-21-pt.txt\n",
      "b-26-recon-pt.bin\tb-65-recon-pt.bin\tskl-21-z0.txt\n",
      "b-26-reconVertices.bin\tb-65-reconVertices.bin\tskl-22-pt.txt\n",
      "b-26-recon-z0.bin\tb-65-recon-z0.bin\tskl-22-z0.txt\n",
      "b-26-trk-fake.bin\tb-65-trk-fake.bin\tskl-23-pt.txt\n",
      "b-26-trk-mc.bin\t\tb-65-trk-mc.bin\t\tskl-23-z0.txt\n",
      "b-26-trk-pt.bin\t\tb-65-trk-pt.bin\t\tskl-24-pt.txt\n",
      "b-26-trk-z0.bin\t\tb-65-trk-z0.bin\t\tskl-24-z0.txt\n",
      "b-27-recon-pt.bin\tb-66-recon-pt.bin\tskl-25-pt.txt\n",
      "b-27-reconVertices.bin\tb-66-reconVertices.bin\tskl-25-z0.txt\n",
      "b-27-recon-z0.bin\tb-66-recon-z0.bin\tskl-26-pt.txt\n",
      "b-27-trk-fake.bin\tb-66-trk-fake.bin\tskl-26-z0.txt\n",
      "b-27-trk-mc.bin\t\tb-66-trk-mc.bin\t\tskl-27-pt.txt\n",
      "b-27-trk-pt.bin\t\tb-66-trk-pt.bin\t\tskl-27-z0.txt\n",
      "b-27-trk-z0.bin\t\tb-66-trk-z0.bin\t\tskl-28-pt.txt\n",
      "b-28-recon-pt.bin\tb-67-recon-pt.bin\tskl-28-z0.txt\n",
      "b-28-reconVertices.bin\tb-67-reconVertices.bin\tskl-29-pt.txt\n",
      "b-28-recon-z0.bin\tb-67-recon-z0.bin\tskl-29-z0.txt\n",
      "b-28-trk-fake.bin\tb-67-trk-fake.bin\tskl-2-pt.txt\n",
      "b-28-trk-mc.bin\t\tb-67-trk-mc.bin\t\tskl-2-z0.txt\n",
      "b-28-trk-pt.bin\t\tb-67-trk-pt.bin\t\tskl-30-pt.txt\n",
      "b-28-trk-z0.bin\t\tb-67-trk-z0.bin\t\tskl-30-z0.txt\n",
      "b-29-recon-pt.bin\tb-68-recon-pt.bin\tskl-31-pt.txt\n",
      "b-29-reconVertices.bin\tb-68-reconVertices.bin\tskl-31-z0.txt\n",
      "b-29-recon-z0.bin\tb-68-recon-z0.bin\tskl-32-pt.txt\n",
      "b-29-trk-fake.bin\tb-68-trk-fake.bin\tskl-32-z0.txt\n",
      "b-29-trk-mc.bin\t\tb-68-trk-mc.bin\t\tskl-33-pt.txt\n",
      "b-29-trk-pt.bin\t\tb-68-trk-pt.bin\t\tskl-33-z0.txt\n",
      "b-29-trk-z0.bin\t\tb-68-trk-z0.bin\t\tskl-34-pt.txt\n",
      "b-2-recon-pt.bin\tb-69-recon-pt.bin\tskl-34-z0.txt\n",
      "b-2-reconVertices.bin\tb-69-reconVertices.bin\tskl-35-pt.txt\n",
      "b-2-recon-z0.bin\tb-69-recon-z0.bin\tskl-35-z0.txt\n",
      "b-2-trk-fake.bin\tb-69-trk-fake.bin\tskl-36-pt.txt\n",
      "b-2-trk-mc.bin\t\tb-69-trk-mc.bin\t\tskl-36-z0.txt\n",
      "b-2-trk-pt.bin\t\tb-69-trk-pt.bin\t\tskl-37-pt.txt\n",
      "b-2-trk-z0.bin\t\tb-69-trk-z0.bin\t\tskl-37-z0.txt\n",
      "b-30-recon-pt.bin\tb-6-recon-pt.bin\tskl-38-pt.txt\n",
      "b-30-reconVertices.bin\tb-6-reconVertices.bin\tskl-38-z0.txt\n",
      "b-30-recon-z0.bin\tb-6-recon-z0.bin\tskl-39-pt.txt\n",
      "b-30-trk-fake.bin\tb-6-trk-fake.bin\tskl-39-z0.txt\n",
      "b-30-trk-mc.bin\t\tb-6-trk-mc.bin\t\tskl-3-pt.txt\n",
      "b-30-trk-pt.bin\t\tb-6-trk-mc.txt\t\tskl-3-z0.txt\n",
      "b-30-trk-z0.bin\t\tb-6-trk-pt.bin\t\tskl-40-pt.txt\n",
      "b-31-recon-pt.bin\tb-6-trk-z0.bin\t\tskl-40-z0.txt\n",
      "b-31-reconVertices.bin\tb-70-recon-pt.bin\tskl-41-pt.txt\n",
      "b-31-recon-z0.bin\tb-70-reconVertices.bin\tskl-41-z0.txt\n",
      "b-31-trk-fake.bin\tb-70-recon-z0.bin\tskl-42-pt.txt\n",
      "b-31-trk-mc.bin\t\tb-70-trk-fake.bin\tskl-42-z0.txt\n",
      "b-31-trk-pt.bin\t\tb-70-trk-mc.bin\t\tskl-43-pt.txt\n",
      "b-31-trk-z0.bin\t\tb-70-trk-pt.bin\t\tskl-43-z0.txt\n",
      "b-32-recon-pt.bin\tb-70-trk-z0.bin\t\tskl-44-pt.txt\n",
      "b-32-reconVertices.bin\tb-71-recon-pt.bin\tskl-44-z0.txt\n",
      "b-32-recon-z0.bin\tb-71-reconVertices.bin\tskl-45-pt.txt\n",
      "b-32-trk-fake.bin\tb-71-recon-z0.bin\tskl-45-z0.txt\n",
      "b-32-trk-mc.bin\t\tb-71-trk-fake.bin\tskl-46-pt.txt\n",
      "b-32-trk-pt.bin\t\tb-71-trk-mc.bin\t\tskl-46-z0.txt\n",
      "b-32-trk-z0.bin\t\tb-71-trk-pt.bin\t\tskl-47-pt.txt\n",
      "b-33-recon-pt.bin\tb-71-trk-z0.bin\t\tskl-47-z0.txt\n",
      "b-33-reconVertices.bin\tb-72-recon-pt.bin\tskl-48-pt.txt\n",
      "b-33-recon-z0.bin\tb-72-reconVertices.bin\tskl-48-z0.txt\n",
      "b-33-trk-fake.bin\tb-72-recon-z0.bin\tskl-49-pt.txt\n",
      "b-33-trk-mc.bin\t\tb-72-trk-fake.bin\tskl-49-z0.txt\n",
      "b-33-trk-pt.bin\t\tb-72-trk-mc.bin\t\tskl-4-pt.txt\n",
      "b-33-trk-z0.bin\t\tb-72-trk-pt.bin\t\tskl-4-z0.txt\n",
      "b-34-recon-pt.bin\tb-72-trk-z0.bin\t\tskl-50-pt.txt\n",
      "b-34-reconVertices.bin\tb-73-recon-pt.bin\tskl-50-z0.txt\n",
      "b-34-recon-z0.bin\tb-73-reconVertices.bin\tskl-51-pt.txt\n",
      "b-34-trk-fake.bin\tb-73-recon-z0.bin\tskl-51-z0.txt\n",
      "b-34-trk-mc.bin\t\tb-73-trk-fake.bin\tskl-52-pt.txt\n",
      "b-34-trk-pt.bin\t\tb-73-trk-mc.bin\t\tskl-52-z0.txt\n",
      "b-34-trk-z0.bin\t\tb-73-trk-pt.bin\t\tskl-53-pt.txt\n",
      "b-35-recon-pt.bin\tb-73-trk-z0.bin\t\tskl-53-z0.txt\n",
      "b-35-reconVertices.bin\tb-74-recon-pt.bin\tskl-54-pt.txt\n",
      "b-35-recon-z0.bin\tb-74-reconVertices.bin\tskl-54-z0.txt\n",
      "b-35-trk-fake.bin\tb-74-recon-z0.bin\tskl-55-pt.txt\n",
      "b-35-trk-mc.bin\t\tb-74-trk-fake.bin\tskl-55-z0.txt\n",
      "b-35-trk-pt.bin\t\tb-74-trk-mc.bin\t\tskl-56-pt.txt\n",
      "b-35-trk-z0.bin\t\tb-74-trk-pt.bin\t\tskl-56-z0.txt\n",
      "b-36-recon-pt.bin\tb-74-trk-z0.bin\t\tskl-57-pt.txt\n",
      "b-36-reconVertices.bin\tb-75-recon-pt.bin\tskl-57-z0.txt\n",
      "b-36-recon-z0.bin\tb-75-reconVertices.bin\tskl-58-pt.txt\n",
      "b-36-trk-fake.bin\tb-75-recon-z0.bin\tskl-58-z0.txt\n",
      "b-36-trk-mc.bin\t\tb-75-trk-fake.bin\tskl-59-pt.txt\n",
      "b-36-trk-pt.bin\t\tb-75-trk-mc.bin\t\tskl-59-z0.txt\n",
      "b-36-trk-z0.bin\t\tb-75-trk-pt.bin\t\tskl-5-pt.txt\n",
      "b-37-recon-pt.bin\tb-75-trk-z0.bin\t\tskl-5-z0.txt\n",
      "b-37-reconVertices.bin\tb-76-recon-pt.bin\tskl-60-pt.txt\n",
      "b-37-recon-z0.bin\tb-76-reconVertices.bin\tskl-60-z0.txt\n",
      "b-37-trk-fake.bin\tb-76-recon-z0.bin\tskl-61-pt.txt\n",
      "b-37-trk-mc.bin\t\tb-76-trk-fake.bin\tskl-61-z0.txt\n",
      "b-37-trk-pt.bin\t\tb-76-trk-mc.bin\t\tskl-62-pt.txt\n",
      "b-37-trk-z0.bin\t\tb-76-trk-pt.bin\t\tskl-62-z0.txt\n",
      "b-38-recon-pt.bin\tb-76-trk-z0.bin\t\tskl-63-pt.txt\n",
      "b-38-reconVertices.bin\tb-77-recon-pt.bin\tskl-63-z0.txt\n",
      "b-38-recon-z0.bin\tb-77-reconVertices.bin\tskl-64-pt.txt\n",
      "b-38-trk-fake.bin\tb-77-recon-z0.bin\tskl-64-z0.txt\n",
      "b-38-trk-mc.bin\t\tb-77-trk-fake.bin\tskl-65-pt.txt\n",
      "b-38-trk-pt.bin\t\tb-77-trk-mc.bin\t\tskl-65-z0.txt\n",
      "b-38-trk-z0.bin\t\tb-77-trk-pt.bin\t\tskl-66-pt.txt\n",
      "b-39-recon-pt.bin\tb-77-trk-z0.bin\t\tskl-66-z0.txt\n",
      "b-39-reconVertices.bin\tb-78-recon-pt.bin\tskl-67-pt.txt\n",
      "b-39-recon-z0.bin\tb-78-reconVertices.bin\tskl-67-z0.txt\n",
      "b-39-trk-fake.bin\tb-78-recon-z0.bin\tskl-68-pt.txt\n",
      "b-39-trk-mc.bin\t\tb-78-trk-fake.bin\tskl-68-z0.txt\n",
      "b-39-trk-pt.bin\t\tb-78-trk-mc.bin\t\tskl-69-pt.txt\n",
      "b-39-trk-z0.bin\t\tb-78-trk-pt.bin\t\tskl-69-z0.txt\n",
      "b-3-recon-pt.bin\tb-78-trk-z0.bin\t\tskl-6-pt.txt\n",
      "b-3-reconVertices.bin\tb-79-recon-pt.bin\tskl-6-z0.txt\n",
      "b-3-recon-z0.bin\tb-79-reconVertices.bin\tskl-70-pt.txt\n",
      "b-3-trk-fake.bin\tb-79-recon-z0.bin\tskl-70-z0.txt\n",
      "b-3-trk-mc.bin\t\tb-79-trk-fake.bin\tskl-71-pt.txt\n",
      "b-3-trk-pt.bin\t\tb-79-trk-mc.bin\t\tskl-71-z0.txt\n",
      "b-3-trk-z0.bin\t\tb-79-trk-pt.bin\t\tskl-72-pt.txt\n",
      "b-40-recon-pt.bin\tb-79-trk-z0.bin\t\tskl-72-z0.txt\n",
      "b-40-reconVertices.bin\tb-7-recon-pt.bin\tskl-73-pt.txt\n",
      "b-40-recon-z0.bin\tb-7-reconVertices.bin\tskl-73-z0.txt\n",
      "b-40-trk-fake.bin\tb-7-recon-z0.bin\tskl-74-pt.txt\n",
      "b-40-trk-mc.bin\t\tb-7-trk-fake.bin\tskl-74-z0.txt\n",
      "b-40-trk-pt.bin\t\tb-7-trk-mc.bin\t\tskl-75-pt.txt\n",
      "b-40-trk-z0.bin\t\tb-7-trk-pt.bin\t\tskl-75-z0.txt\n",
      "b-41-recon-pt.bin\tb-7-trk-z0.bin\t\tskl-76-pt.txt\n",
      "b-41-reconVertices.bin\tb-80-recon-pt.bin\tskl-76-z0.txt\n",
      "b-41-recon-z0.bin\tb-80-reconVertices.bin\tskl-77-pt.txt\n",
      "b-41-trk-fake.bin\tb-80-recon-z0.bin\tskl-77-z0.txt\n",
      "b-41-trk-mc.bin\t\tb-80-trk-fake.bin\tskl-78-pt.txt\n",
      "b-41-trk-pt.bin\t\tb-80-trk-mc.bin\t\tskl-78-z0.txt\n",
      "b-41-trk-z0.bin\t\tb-80-trk-pt.bin\t\tskl-79-pt.txt\n",
      "b-42-recon-pt.bin\tb-80-trk-z0.bin\t\tskl-79-z0.txt\n",
      "b-42-reconVertices.bin\tb-81-recon-pt.bin\tskl-7-pt.txt\n",
      "b-42-recon-z0.bin\tb-81-reconVertices.bin\tskl-7-z0.txt\n",
      "b-42-trk-fake.bin\tb-81-recon-z0.bin\tskl-80-pt.txt\n",
      "b-42-trk-mc.bin\t\tb-81-trk-fake.bin\tskl-80-z0.txt\n",
      "b-42-trk-pt.bin\t\tb-81-trk-mc.bin\t\tskl-81-pt.txt\n",
      "b-42-trk-z0.bin\t\tb-81-trk-pt.bin\t\tskl-81-z0.txt\n",
      "b-43-recon-pt.bin\tb-81-trk-z0.bin\t\tskl-82-pt.txt\n",
      "b-43-reconVertices.bin\tb-82-recon-pt.bin\tskl-82-z0.txt\n",
      "b-43-recon-z0.bin\tb-82-reconVertices.bin\tskl-83-pt.txt\n",
      "b-43-trk-fake.bin\tb-82-recon-z0.bin\tskl-83-z0.txt\n",
      "b-43-trk-mc.bin\t\tb-82-trk-fake.bin\tskl-84-pt.txt\n",
      "b-43-trk-pt.bin\t\tb-82-trk-mc.bin\t\tskl-84-z0.txt\n",
      "b-43-trk-z0.bin\t\tb-82-trk-pt.bin\t\tskl-85-pt.txt\n",
      "b-44-recon-pt.bin\tb-82-trk-z0.bin\t\tskl-85-z0.txt\n",
      "b-44-reconVertices.bin\tb-83-recon-pt.bin\tskl-86-pt.txt\n",
      "b-44-recon-z0.bin\tb-83-reconVertices.bin\tskl-86-z0.txt\n",
      "b-44-trk-fake.bin\tb-83-recon-z0.bin\tskl-87-pt.txt\n",
      "b-44-trk-mc.bin\t\tb-83-trk-fake.bin\tskl-87-z0.txt\n",
      "b-44-trk-pt.bin\t\tb-83-trk-mc.bin\t\tskl-88-pt.txt\n",
      "b-44-trk-z0.bin\t\tb-83-trk-pt.bin\t\tskl-88-z0.txt\n",
      "b-45-recon-pt.bin\tb-83-trk-z0.bin\t\tskl-89-pt.txt\n",
      "b-45-reconVertices.bin\tb-84-recon-pt.bin\tskl-89-z0.txt\n",
      "b-45-recon-z0.bin\tb-84-reconVertices.bin\tskl-8-pt.txt\n",
      "b-45-trk-fake.bin\tb-84-recon-z0.bin\tskl-8-z0.txt\n",
      "b-45-trk-mc.bin\t\tb-84-trk-fake.bin\tskl-90-pt.txt\n",
      "b-45-trk-pt.bin\t\tb-84-trk-mc.bin\t\tskl-90-z0.txt\n",
      "b-45-trk-z0.bin\t\tb-84-trk-pt.bin\t\tskl-91-pt.txt\n",
      "b-46-recon-pt.bin\tb-84-trk-z0.bin\t\tskl-91-z0.txt\n",
      "b-46-reconVertices.bin\tb-85-recon-pt.bin\tskl-92-pt.txt\n",
      "b-46-recon-z0.bin\tb-85-reconVertices.bin\tskl-92-z0.txt\n",
      "b-46-trk-fake.bin\tb-85-recon-z0.bin\tskl-93-pt.txt\n",
      "b-46-trk-mc.bin\t\tb-85-trk-fake.bin\tskl-93-z0.txt\n",
      "b-46-trk-pt.bin\t\tb-85-trk-mc.bin\t\tskl-94-pt.txt\n",
      "b-46-trk-z0.bin\t\tb-85-trk-pt.bin\t\tskl-94-z0.txt\n",
      "b-47-recon-pt.bin\tb-85-trk-z0.bin\t\tskl-95-pt.txt\n",
      "b-47-reconVertices.bin\tb-86-recon-pt.bin\tskl-95-z0.txt\n",
      "b-47-recon-z0.bin\tb-86-reconVertices.bin\tskl-96-pt.txt\n",
      "b-47-trk-fake.bin\tb-86-recon-z0.bin\tskl-96-z0.txt\n",
      "b-47-trk-mc.bin\t\tb-86-trk-fake.bin\tskl-97-pt.txt\n",
      "b-47-trk-pt.bin\t\tb-86-trk-mc.bin\t\tskl-97-z0.txt\n",
      "b-47-trk-z0.bin\t\tb-86-trk-pt.bin\t\tskl-98-pt.txt\n",
      "b-48-recon-pt.bin\tb-86-trk-z0.bin\t\tskl-98-z0.txt\n",
      "b-48-reconVertices.bin\tb-87-recon-pt.bin\tskl-99-pt.txt\n",
      "b-48-recon-z0.bin\tb-87-reconVertices.bin\tskl-99-z0.txt\n",
      "b-48-trk-fake.bin\tb-87-recon-z0.bin\tskl-9-pt.txt\n",
      "b-48-trk-mc.bin\t\tb-87-trk-fake.bin\tskl-9-z0.txt\n"
     ]
    },
    {
     "data": {
      "application/javascript": "\n            setTimeout(function() {\n                var nbb_cell_id = 6;\n                var nbb_unformatted_code = \"!ls /home/raichu/data/data/binaries-trk-100/\";\n                var nbb_formatted_code = \"!ls /home/raichu/data/data/binaries-trk-100/\";\n                var nbb_cells = Jupyter.notebook.get_cells();\n                for (var i = 0; i < nbb_cells.length; ++i) {\n                    if (nbb_cells[i].input_prompt_number == nbb_cell_id) {\n                        if (nbb_cells[i].get_text() == nbb_unformatted_code) {\n                             nbb_cells[i].set_text(nbb_formatted_code);\n                        }\n                        break;\n                    }\n                }\n            }, 500);\n            ",
      "text/plain": [
       "<IPython.core.display.Javascript object>"
      ]
     },
     "metadata": {},
     "output_type": "display_data"
    }
   ],
   "source": [
    "!ls /home/raichu/data/data/binaries-trk-100/"
   ]
  },
  {
   "cell_type": "code",
   "execution_count": 7,
   "metadata": {},
   "outputs": [
    {
     "data": {
      "application/javascript": "\n            setTimeout(function() {\n                var nbb_cell_id = 7;\n                var nbb_unformatted_code = \"import numpy as np\\nimport pandas as pd\";\n                var nbb_formatted_code = \"import numpy as np\\nimport pandas as pd\";\n                var nbb_cells = Jupyter.notebook.get_cells();\n                for (var i = 0; i < nbb_cells.length; ++i) {\n                    if (nbb_cells[i].input_prompt_number == nbb_cell_id) {\n                        if (nbb_cells[i].get_text() == nbb_unformatted_code) {\n                             nbb_cells[i].set_text(nbb_formatted_code);\n                        }\n                        break;\n                    }\n                }\n            }, 500);\n            ",
      "text/plain": [
       "<IPython.core.display.Javascript object>"
      ]
     },
     "metadata": {},
     "output_type": "display_data"
    }
   ],
   "source": [
    "import numpy as np\n",
    "import pandas as pd"
   ]
  },
  {
   "cell_type": "code",
   "execution_count": 8,
   "metadata": {},
   "outputs": [
    {
     "data": {
      "application/javascript": "\n            setTimeout(function() {\n                var nbb_cell_id = 8;\n                var nbb_unformatted_code = \"storage = \\\"/home/raichu/data/data/binaries-trk-100/\\\"\";\n                var nbb_formatted_code = \"storage = \\\"/home/raichu/data/data/binaries-trk-100/\\\"\";\n                var nbb_cells = Jupyter.notebook.get_cells();\n                for (var i = 0; i < nbb_cells.length; ++i) {\n                    if (nbb_cells[i].input_prompt_number == nbb_cell_id) {\n                        if (nbb_cells[i].get_text() == nbb_unformatted_code) {\n                             nbb_cells[i].set_text(nbb_formatted_code);\n                        }\n                        break;\n                    }\n                }\n            }, 500);\n            ",
      "text/plain": [
       "<IPython.core.display.Javascript object>"
      ]
     },
     "metadata": {},
     "output_type": "display_data"
    }
   ],
   "source": [
    "storage = \"/home/raichu/data/data/binaries-trk-100/\""
   ]
  },
  {
   "cell_type": "code",
   "execution_count": 9,
   "metadata": {},
   "outputs": [
    {
     "data": {
      "application/javascript": "\n            setTimeout(function() {\n                var nbb_cell_id = 9;\n                var nbb_unformatted_code = \"z0 = np.fromfile(storage+\\\"b-0-trk-z0.bin\\\",dtype=np.float32)\";\n                var nbb_formatted_code = \"z0 = np.fromfile(storage + \\\"b-0-trk-z0.bin\\\", dtype=np.float32)\";\n                var nbb_cells = Jupyter.notebook.get_cells();\n                for (var i = 0; i < nbb_cells.length; ++i) {\n                    if (nbb_cells[i].input_prompt_number == nbb_cell_id) {\n                        if (nbb_cells[i].get_text() == nbb_unformatted_code) {\n                             nbb_cells[i].set_text(nbb_formatted_code);\n                        }\n                        break;\n                    }\n                }\n            }, 500);\n            ",
      "text/plain": [
       "<IPython.core.display.Javascript object>"
      ]
     },
     "metadata": {},
     "output_type": "display_data"
    }
   ],
   "source": [
    "z0 = np.fromfile(storage + \"b-0-trk-z0.bin\", dtype=np.float32)"
   ]
  },
  {
   "cell_type": "code",
   "execution_count": 10,
   "metadata": {},
   "outputs": [
    {
     "data": {
      "text/plain": [
       "array([-0.87890625,  3.3398438 ,  4.921875  , -0.46875   ,  4.9804688 ,\n",
       "       -0.41015625, -0.05859375,  2.7539062 , -3.6328125 , -1.640625  ,\n",
       "       -1.1132812 ,  5.5078125 , -1.875     , -1.1132812 , -2.2265625 ,\n",
       "        6.09375   , -0.52734375, -1.171875  ,  5.859375  , -1.9335938 ,\n",
       "        5.625     , -3.6328125 , -2.9882812 ,  2.7539062 ,  2.8125    ,\n",
       "        1.3476562 ,  0.64453125, -5.15625   , -1.9921875 , -4.8632812 ,\n",
       "       -1.6992188 ,  0.17578125,  0.99609375,  2.5195312 , -5.3320312 ,\n",
       "       -3.2226562 ,  4.21875   ,  7.8515625 , -0.3515625 , -0.46875   ,\n",
       "        0.17578125,  2.0507812 ,  2.6367188 , -6.1523438 ,  2.1679688 ,\n",
       "        2.578125  , -3.046875  ,  2.4609375 ,  2.34375   , -0.87890625,\n",
       "        4.8046875 , -5.2148438 ,  4.921875  ,  5.0976562 ,  4.1601562 ,\n",
       "       -0.46875   , -1.9921875 , -6.328125  , -2.4609375 , -1.0546875 ,\n",
       "       -4.1601562 , -3.046875  , -6.2695312 ,  5.15625   , -3.515625  ,\n",
       "        4.921875  , -3.1054688 , -7.4414062 ,  3.046875  , -1.875     ,\n",
       "       -2.8125    , -2.4609375 , -2.9882812 , -2.4023438 ,  3.2226562 ,\n",
       "        2.1679688 , -6.9726562 , -3.8085938 ,  6.5039062 ,  2.2265625 ,\n",
       "       -1.640625  , -5.0390625 , -1.7578125 , -4.1015625 , -4.0429688 ,\n",
       "       -0.9375    , -1.640625  , -3.5742188 ,  4.9804688 , -0.87890625,\n",
       "       -2.7539062 , -3.1640625 , -0.8203125 , -3.6914062 ,  5.0976562 ,\n",
       "        5.5664062 , -4.1601562 , -0.87890625, -1.2890625 , -0.99609375,\n",
       "        3.6914062 , -1.1132812 , -1.8164062 ,  3.046875  , -2.8710938 ,\n",
       "        4.9804688 ,  3.984375  ,  4.9804688 ,  5.0390625 ,  4.9804688 ,\n",
       "        4.9804688 ,  5.6835938 ,  2.4609375 , -1.2890625 , -1.8164062 ,\n",
       "       -4.921875  ,  5.7421875 ,  5.7421875 , -4.453125  , -6.5039062 ,\n",
       "       -1.9921875 , -1.9921875 , -2.7539062 , -2.0507812 ,  6.5625    ,\n",
       "       -3.75      , -4.9804688 , -0.52734375,  2.4023438 , -3.28125   ,\n",
       "        2.34375   , -1.7578125 , -1.3476562 , -0.5859375 , -2.1679688 ,\n",
       "       -6.328125  , -1.3476562 ,  4.3945312 ,  2.578125  , -1.9335938 ,\n",
       "       -7.4414062 , -0.99609375,  2.578125  , -3.75      ,  4.8632812 ,\n",
       "        7.6171875 ,  4.9804688 , -6.0351562 , -0.41015625, -4.21875   ,\n",
       "        2.4023438 ,  2.4023438 ,  3.2226562 , -6.5625    , -0.41015625,\n",
       "       -0.41015625,  5.5664062 , -3.046875  ,  4.8046875 ], dtype=float32)"
      ]
     },
     "execution_count": 10,
     "metadata": {},
     "output_type": "execute_result"
    },
    {
     "data": {
      "application/javascript": "\n            setTimeout(function() {\n                var nbb_cell_id = 10;\n                var nbb_unformatted_code = \"z0\";\n                var nbb_formatted_code = \"z0\";\n                var nbb_cells = Jupyter.notebook.get_cells();\n                for (var i = 0; i < nbb_cells.length; ++i) {\n                    if (nbb_cells[i].input_prompt_number == nbb_cell_id) {\n                        if (nbb_cells[i].get_text() == nbb_unformatted_code) {\n                             nbb_cells[i].set_text(nbb_formatted_code);\n                        }\n                        break;\n                    }\n                }\n            }, 500);\n            ",
      "text/plain": [
       "<IPython.core.display.Javascript object>"
      ]
     },
     "metadata": {},
     "output_type": "display_data"
    }
   ],
   "source": [
    "z0"
   ]
  },
  {
   "cell_type": "code",
   "execution_count": 17,
   "metadata": {},
   "outputs": [
    {
     "data": {
      "application/javascript": "\n            setTimeout(function() {\n                var nbb_cell_id = 17;\n                var nbb_unformatted_code = \"idx = np.random.choice(range(z0.shape[0]), 50, replace=False)\";\n                var nbb_formatted_code = \"idx = np.random.choice(range(z0.shape[0]), 50, replace=False)\";\n                var nbb_cells = Jupyter.notebook.get_cells();\n                for (var i = 0; i < nbb_cells.length; ++i) {\n                    if (nbb_cells[i].input_prompt_number == nbb_cell_id) {\n                        if (nbb_cells[i].get_text() == nbb_unformatted_code) {\n                             nbb_cells[i].set_text(nbb_formatted_code);\n                        }\n                        break;\n                    }\n                }\n            }, 500);\n            ",
      "text/plain": [
       "<IPython.core.display.Javascript object>"
      ]
     },
     "metadata": {},
     "output_type": "display_data"
    }
   ],
   "source": [
    "idx = np.random.choice(range(z0.shape[0]), 50, replace=False)"
   ]
  },
  {
   "cell_type": "code",
   "execution_count": 19,
   "metadata": {},
   "outputs": [
    {
     "data": {
      "text/plain": [
       "array([-4.1601562 , -2.4023438 ,  5.6835938 , -3.6914062 , -1.640625  ,\n",
       "       -6.2695312 ,  5.625     ,  0.17578125,  6.09375   , -3.046875  ,\n",
       "        4.1601562 , -3.515625  ,  2.578125  , -0.87890625, -3.75      ,\n",
       "        2.4023438 , -1.875     , -2.4609375 ,  2.6367188 , -3.28125   ,\n",
       "        0.64453125, -0.87890625, -1.2890625 , -1.875     ,  5.5664062 ,\n",
       "       -1.8164062 ,  2.4609375 , -1.7578125 ,  4.9804688 ,  4.9804688 ,\n",
       "        2.1679688 ,  2.4023438 , -4.9804688 , -6.328125  ,  5.7421875 ,\n",
       "       -6.0351562 , -1.1132812 , -1.0546875 ,  4.9804688 , -6.1523438 ,\n",
       "       -4.921875  ,  3.984375  ,  3.2226562 ,  5.859375  ,  6.5625    ,\n",
       "        2.4609375 , -4.0429688 ,  4.9804688 , -1.2890625 , -2.4609375 ],\n",
       "      dtype=float32)"
      ]
     },
     "execution_count": 19,
     "metadata": {},
     "output_type": "execute_result"
    },
    {
     "data": {
      "application/javascript": "\n            setTimeout(function() {\n                var nbb_cell_id = 19;\n                var nbb_unformatted_code = \"z0[idx]\";\n                var nbb_formatted_code = \"z0[idx]\";\n                var nbb_cells = Jupyter.notebook.get_cells();\n                for (var i = 0; i < nbb_cells.length; ++i) {\n                    if (nbb_cells[i].input_prompt_number == nbb_cell_id) {\n                        if (nbb_cells[i].get_text() == nbb_unformatted_code) {\n                             nbb_cells[i].set_text(nbb_formatted_code);\n                        }\n                        break;\n                    }\n                }\n            }, 500);\n            ",
      "text/plain": [
       "<IPython.core.display.Javascript object>"
      ]
     },
     "metadata": {},
     "output_type": "display_data"
    }
   ],
   "source": [
    "z0[idx]"
   ]
  },
  {
   "cell_type": "code",
   "execution_count": 20,
   "metadata": {},
   "outputs": [
    {
     "data": {
      "application/javascript": "\n            setTimeout(function() {\n                var nbb_cell_id = 20;\n                var nbb_unformatted_code = \"output_storage=\\\"/home/raichu/data/data/binaries-trk50-100/\\\"\\nfor i in range(100):\\n    z0 = np.fromfile(storage+f\\\"b-{i}-trk-z0.bin\\\", dtype=np.float32)\\n    pt = np.fromfile(storage+f\\\"b-{i}-trk-pt.bin\\\", dtype=np.float32)\\n    idx = np.random.choice(range(z0.shape[0]), 50)\\n\\n    _z0 = z0[idx]\\n    _pt = pt[idx]\\n\\n    f = open(output_storage + f\\\"b50-{i}-trk-z0.bin\\\",'wb')\\n    f.truncate(0)\\n    f.write(_z0)\\n    f.close()\\n\\n    f = open(output_storage + f\\\"b50-{i}-trk-pt.bin\\\",'wb')\\n    f.truncate(0)\\n    f.write(_pt)\\n    f.close()\\n    \";\n                var nbb_formatted_code = \"output_storage = \\\"/home/raichu/data/data/binaries-trk50-100/\\\"\\nfor i in range(100):\\n    z0 = np.fromfile(storage + f\\\"b-{i}-trk-z0.bin\\\", dtype=np.float32)\\n    pt = np.fromfile(storage + f\\\"b-{i}-trk-pt.bin\\\", dtype=np.float32)\\n    idx = np.random.choice(range(z0.shape[0]), 50)\\n\\n    _z0 = z0[idx]\\n    _pt = pt[idx]\\n\\n    f = open(output_storage + f\\\"b50-{i}-trk-z0.bin\\\", \\\"wb\\\")\\n    f.truncate(0)\\n    f.write(_z0)\\n    f.close()\\n\\n    f = open(output_storage + f\\\"b50-{i}-trk-pt.bin\\\", \\\"wb\\\")\\n    f.truncate(0)\\n    f.write(_pt)\\n    f.close()\";\n                var nbb_cells = Jupyter.notebook.get_cells();\n                for (var i = 0; i < nbb_cells.length; ++i) {\n                    if (nbb_cells[i].input_prompt_number == nbb_cell_id) {\n                        if (nbb_cells[i].get_text() == nbb_unformatted_code) {\n                             nbb_cells[i].set_text(nbb_formatted_code);\n                        }\n                        break;\n                    }\n                }\n            }, 500);\n            ",
      "text/plain": [
       "<IPython.core.display.Javascript object>"
      ]
     },
     "metadata": {},
     "output_type": "display_data"
    }
   ],
   "source": [
    "output_storage = \"/home/raichu/data/data/binaries-trk64-100/\"\n",
    "for i in range(100):\n",
    "    z0 = np.fromfile(storage + f\"b-{i}-trk-z0.bin\", dtype=np.float32)\n",
    "    pt = np.fromfile(storage + f\"b-{i}-trk-pt.bin\", dtype=np.float32)\n",
    "    idx = np.random.choice(range(z0.shape[0]), 64)\n",
    "\n",
    "    _z0 = z0[idx]\n",
    "    _pt = pt[idx]\n",
    "\n",
    "    f = open(output_storage + f\"b50-{i}-trk-z0.bin\", \"wb\")\n",
    "    f.truncate(0)\n",
    "    f.write(_z0)\n",
    "    f.close()\n",
    "\n",
    "    f = open(output_storage + f\"b50-{i}-trk-pt.bin\", \"wb\")\n",
    "    f.truncate(0)\n",
    "    f.write(_pt)\n",
    "    f.close()"
   ]
  },
  {
   "cell_type": "markdown",
   "metadata": {},
   "source": []
  }
 ],
 "metadata": {
  "kernelspec": {
   "display_name": "Python 3.9.13 ('db')",
   "language": "python",
   "name": "python3"
  },
  "language_info": {
   "codemirror_mode": {
    "name": "ipython",
    "version": 3
   },
   "file_extension": ".py",
   "mimetype": "text/x-python",
   "name": "python",
   "nbconvert_exporter": "python",
   "pygments_lexer": "ipython3",
   "version": "3.9.13"
  },
  "orig_nbformat": 4,
  "vscode": {
   "interpreter": {
    "hash": "fa5e3a8f87d54846944a9dfb66a1ebaed6a7fb9e50fa9ccd92d37003d44f3986"
   }
  }
 },
 "nbformat": 4,
 "nbformat_minor": 2
}
