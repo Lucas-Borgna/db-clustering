{
 "cells": [
  {
   "cell_type": "code",
   "execution_count": 1,
   "metadata": {},
   "outputs": [],
   "source": [
    "### Reloads modules properly\n",
    "%load_ext autoreload\n",
    "%autoreload 2\n"
   ]
  },
  {
   "cell_type": "code",
   "execution_count": 2,
   "metadata": {},
   "outputs": [],
   "source": [
    "import os\n",
    "os.sys.path.append('../')"
   ]
  },
  {
   "cell_type": "code",
   "execution_count": 23,
   "metadata": {},
   "outputs": [],
   "source": [
    "import pandas as pd\n",
    "import numpy as np\n",
    "import matplotlib.pyplot as plt\n",
    "import mplhep as hep\n",
    "hep.style.use('CMS')"
   ]
  },
  {
   "cell_type": "code",
   "execution_count": 74,
   "metadata": {},
   "outputs": [
    {
     "name": "stdout",
     "output_type": "stream",
     "text": [
      "still running?\n"
     ]
    }
   ],
   "source": [
    "print('still running?')"
   ]
  },
  {
   "cell_type": "markdown",
   "metadata": {},
   "source": [
    "# Data Quality Checks"
   ]
  },
  {
   "cell_type": "code",
   "execution_count": 4,
   "metadata": {},
   "outputs": [
    {
     "name": "stdout",
     "output_type": "stream",
     "text": [
      "-rw-r--r-- 1 lborgna users 493M Nov 10 15:34 /mnt/storage/lborgna/track/00.root\r\n",
      "-rw-r--r-- 1 lborgna users 498M Nov 10 15:34 /mnt/storage/lborgna/track/01.root\r\n",
      "-rw-r--r-- 1 lborgna users 498M Nov 10 15:35 /mnt/storage/lborgna/track/02.root\r\n",
      "-rw-r--r-- 1 lborgna users 498M Nov 10 15:35 /mnt/storage/lborgna/track/03.root\r\n",
      "-rw-r--r-- 1 lborgna users 498M Nov 10 15:36 /mnt/storage/lborgna/track/04.root\r\n",
      "-rw-r--r-- 1 lborgna users 498M Nov 10 15:36 /mnt/storage/lborgna/track/05.root\r\n",
      "-rw-r--r-- 1 lborgna users 498M Nov 10 15:37 /mnt/storage/lborgna/track/06.root\r\n",
      "-rw-r--r-- 1 lborgna users 498M Nov 10 15:37 /mnt/storage/lborgna/track/07.root\r\n",
      "-rw-r--r-- 1 lborgna users 498M Nov 10 15:38 /mnt/storage/lborgna/track/08.root\r\n",
      "-rw-r--r-- 1 lborgna users 498M Nov 10 15:38 /mnt/storage/lborgna/track/09.root\r\n",
      "-rw-r--r-- 1 lborgna users 498M Nov 10 15:40 /mnt/storage/lborgna/track/10.root\r\n",
      "-rw-r--r-- 1 lborgna users 498M Nov 10 15:41 /mnt/storage/lborgna/track/11.root\r\n",
      "-rw-r--r-- 1 lborgna users 498M Nov 10 15:42 /mnt/storage/lborgna/track/12.root\r\n",
      "-rw-r--r-- 1 lborgna users 483M Nov 10 15:43 /mnt/storage/lborgna/track/13.root\r\n",
      "-rw-r--r-- 1 lborgna users 498M Nov 10 15:44 /mnt/storage/lborgna/track/14.root\r\n",
      "-rw-r--r-- 1 lborgna users 498M Nov 10 15:45 /mnt/storage/lborgna/track/16.root\r\n",
      "-rw-r--r-- 1 lborgna users 498M Nov 10 15:46 /mnt/storage/lborgna/track/17.root\r\n",
      "-rw-r--r-- 1 lborgna users 498M Nov 10 15:47 /mnt/storage/lborgna/track/18.root\r\n",
      "-rw-r--r-- 1 lborgna users 498M Nov 10 15:48 /mnt/storage/lborgna/track/19.root\r\n",
      "-rw-r--r-- 1 lborgna users 498M Nov 10 16:48 /mnt/storage/lborgna/track/20.root\r\n",
      "-rw-r--r-- 1 lborgna users 498M Nov 10 16:48 /mnt/storage/lborgna/track/21.root\r\n",
      "-rw-r--r-- 1 lborgna users 498M Nov 10 16:49 /mnt/storage/lborgna/track/22.root\r\n",
      "-rw-r--r-- 1 lborgna users 498M Nov 10 16:50 /mnt/storage/lborgna/track/23.root\r\n",
      "-rw-r--r-- 1 lborgna users 498M Nov 10 16:50 /mnt/storage/lborgna/track/24.root\r\n",
      "-rw-r--r-- 1 lborgna users 498M Nov 10 16:51 /mnt/storage/lborgna/track/25.root\r\n",
      "-rw-r--r-- 1 lborgna users 498M Nov 10 16:52 /mnt/storage/lborgna/track/26.root\r\n",
      "-rw-r--r-- 1 lborgna users 498M Nov 10 16:53 /mnt/storage/lborgna/track/27.root\r\n",
      "-rw-r--r-- 1 lborgna users 498M Nov 10 16:53 /mnt/storage/lborgna/track/28.root\r\n",
      "-rw-r--r-- 1 lborgna users 498M Nov 10 16:54 /mnt/storage/lborgna/track/29.root\r\n",
      "-rw-r--r-- 1 lborgna users 498M Nov 10 16:51 /mnt/storage/lborgna/track/30.root\r\n",
      "-rw-r--r-- 1 lborgna users 498M Nov 10 16:51 /mnt/storage/lborgna/track/31.root\r\n",
      "-rw-r--r-- 1 lborgna users 498M Nov 10 16:52 /mnt/storage/lborgna/track/32.root\r\n",
      "-rw-r--r-- 1 lborgna users 498M Nov 10 16:53 /mnt/storage/lborgna/track/33.root\r\n",
      "-rw-r--r-- 1 lborgna users 498M Nov 10 16:53 /mnt/storage/lborgna/track/34.root\r\n",
      "-rw-r--r-- 1 lborgna users 498M Nov 10 16:54 /mnt/storage/lborgna/track/36.root\r\n",
      "-rw-r--r-- 1 lborgna users 498M Nov 10 16:54 /mnt/storage/lborgna/track/37.root\r\n",
      "-rw-r--r-- 1 lborgna users 493M Nov 10 16:55 /mnt/storage/lborgna/track/38.root\r\n",
      "-rw-r--r-- 1 lborgna users 428M Nov 10 16:55 /mnt/storage/lborgna/track/39.root\r\n",
      "-rw-r--r-- 1 lborgna users  19G Nov 10 15:17 /mnt/storage/lborgna/track/l1_trackntuple_1584639182.root\r\n"
     ]
    }
   ],
   "source": [
    "!ls -lh /mnt/storage/lborgna/track/*.root"
   ]
  },
  {
   "cell_type": "code",
   "execution_count": 5,
   "metadata": {},
   "outputs": [],
   "source": [
    "storage_path = '/mnt/storage/lborgna/track/'"
   ]
  },
  {
   "cell_type": "code",
   "execution_count": 6,
   "metadata": {},
   "outputs": [],
   "source": [
    "import glob"
   ]
  },
  {
   "cell_type": "code",
   "execution_count": 7,
   "metadata": {},
   "outputs": [],
   "source": [
    "list_of_files = list(glob.glob(storage_path + '??.root'))"
   ]
  },
  {
   "cell_type": "code",
   "execution_count": 8,
   "metadata": {},
   "outputs": [
    {
     "data": {
      "text/plain": [
       "['/mnt/storage/lborgna/track/04.root',\n",
       " '/mnt/storage/lborgna/track/11.root',\n",
       " '/mnt/storage/lborgna/track/01.root',\n",
       " '/mnt/storage/lborgna/track/37.root',\n",
       " '/mnt/storage/lborgna/track/33.root',\n",
       " '/mnt/storage/lborgna/track/05.root',\n",
       " '/mnt/storage/lborgna/track/16.root',\n",
       " '/mnt/storage/lborgna/track/18.root',\n",
       " '/mnt/storage/lborgna/track/30.root',\n",
       " '/mnt/storage/lborgna/track/21.root',\n",
       " '/mnt/storage/lborgna/track/08.root',\n",
       " '/mnt/storage/lborgna/track/34.root',\n",
       " '/mnt/storage/lborgna/track/24.root',\n",
       " '/mnt/storage/lborgna/track/10.root',\n",
       " '/mnt/storage/lborgna/track/02.root',\n",
       " '/mnt/storage/lborgna/track/14.root',\n",
       " '/mnt/storage/lborgna/track/00.root',\n",
       " '/mnt/storage/lborgna/track/29.root',\n",
       " '/mnt/storage/lborgna/track/22.root',\n",
       " '/mnt/storage/lborgna/track/26.root',\n",
       " '/mnt/storage/lborgna/track/28.root',\n",
       " '/mnt/storage/lborgna/track/32.root',\n",
       " '/mnt/storage/lborgna/track/03.root',\n",
       " '/mnt/storage/lborgna/track/31.root',\n",
       " '/mnt/storage/lborgna/track/38.root',\n",
       " '/mnt/storage/lborgna/track/09.root',\n",
       " '/mnt/storage/lborgna/track/13.root',\n",
       " '/mnt/storage/lborgna/track/20.root',\n",
       " '/mnt/storage/lborgna/track/39.root',\n",
       " '/mnt/storage/lborgna/track/23.root',\n",
       " '/mnt/storage/lborgna/track/12.root',\n",
       " '/mnt/storage/lborgna/track/17.root',\n",
       " '/mnt/storage/lborgna/track/27.root',\n",
       " '/mnt/storage/lborgna/track/19.root',\n",
       " '/mnt/storage/lborgna/track/07.root',\n",
       " '/mnt/storage/lborgna/track/36.root',\n",
       " '/mnt/storage/lborgna/track/25.root',\n",
       " '/mnt/storage/lborgna/track/06.root']"
      ]
     },
     "execution_count": 8,
     "metadata": {},
     "output_type": "execute_result"
    }
   ],
   "source": [
    "list_of_files"
   ]
  },
  {
   "cell_type": "code",
   "execution_count": null,
   "metadata": {},
   "outputs": [],
   "source": []
  },
  {
   "cell_type": "code",
   "execution_count": 9,
   "metadata": {},
   "outputs": [],
   "source": [
    "import uproot"
   ]
  },
  {
   "cell_type": "code",
   "execution_count": 10,
   "metadata": {},
   "outputs": [],
   "source": [
    "from pv_utils import load_data"
   ]
  },
  {
   "cell_type": "code",
   "execution_count": 13,
   "metadata": {},
   "outputs": [],
   "source": [
    "tp23 = load_data('/mnt/storage/lborgna/track/23.root', data_type='truth')"
   ]
  },
  {
   "cell_type": "code",
   "execution_count": 14,
   "metadata": {},
   "outputs": [],
   "source": [
    "from pv_utils import truth_pv_z0"
   ]
  },
  {
   "cell_type": "code",
   "execution_count": 16,
   "metadata": {},
   "outputs": [],
   "source": [
    "z0_gen = truth_pv_z0(tp23)"
   ]
  },
  {
   "cell_type": "code",
   "execution_count": 17,
   "metadata": {},
   "outputs": [
    {
     "data": {
      "text/plain": [
       "<AxesSubplot:>"
      ]
     },
     "execution_count": 17,
     "metadata": {},
     "output_type": "execute_result"
    },
    {
     "data": {
      "image/png": "[encoded data removed]",
      "text/plain": [
       "<Figure size 720x720 with 1 Axes>"
      ]
     },
     "metadata": {
      "needs_background": "light"
     },
     "output_type": "display_data"
    }
   ],
   "source": []
  },
  {
   "cell_type": "code",
   "execution_count": 18,
   "metadata": {},
   "outputs": [],
   "source": [
    "tp11 = load_data('/mnt/storage/lborgna/track/11.root', data_type='truth')"
   ]
  },
  {
   "cell_type": "code",
   "execution_count": 19,
   "metadata": {},
   "outputs": [],
   "source": [
    "z0_gen11 = truth_pv_z0(tp11)"
   ]
  },
  {
   "cell_type": "code",
   "execution_count": 26,
   "metadata": {},
   "outputs": [
    {
     "data": {
      "text/plain": [
       "<matplotlib.legend.Legend at 0x7f9dca82ca30>"
      ]
     },
     "execution_count": 26,
     "metadata": {},
     "output_type": "execute_result"
    },
    {
     "data": {
      "image/png": "[encoded data removed]",
      "text/plain": [
       "<Figure size 720x720 with 1 Axes>"
      ]
     },
     "metadata": {
      "needs_background": "light"
     },
     "output_type": "display_data"
    }
   ],
   "source": [
    "_, be, _ = plt.hist(z0_gen11, bins = 20, range=(-15, 15), label ='file 11.root')\n",
    "_= plt.hist(z0_gen, bins=be, label = 'file 23.root', histtype='step', lw = 3)\n",
    "plt.legend()"
   ]
  },
  {
   "cell_type": "code",
   "execution_count": 27,
   "metadata": {},
   "outputs": [],
   "source": [
    "tp27 = load_data('/mnt/storage/lborgna/track/27.root', data_type='truth')"
   ]
  },
  {
   "cell_type": "code",
   "execution_count": 28,
   "metadata": {},
   "outputs": [],
   "source": [
    "z0_gen27 = truth_pv_z0(tp27)"
   ]
  },
  {
   "cell_type": "code",
   "execution_count": 30,
   "metadata": {},
   "outputs": [
    {
     "data": {
      "text/plain": [
       "<matplotlib.legend.Legend at 0x7f9dd83517c0>"
      ]
     },
     "execution_count": 30,
     "metadata": {},
     "output_type": "execute_result"
    },
    {
     "data": {
      "image/png": "[encoded data removed]",
      "text/plain": [
       "<Figure size 720x720 with 1 Axes>"
      ]
     },
     "metadata": {
      "needs_background": "light"
     },
     "output_type": "display_data"
    }
   ],
   "source": [
    "_, be, _ = plt.hist(z0_gen11, bins = 20, range=(-15, 15), label ='file 11.root')\n",
    "_= plt.hist(z0_gen, bins=be, label = 'file 23.root', histtype='step', lw = 3)\n",
    "_= plt.hist(z0_gen27, bins=be, label = 'file 27.root', histtype='step', lw = 3, ls = '--')\n",
    "plt.legend()"
   ]
  },
  {
   "cell_type": "code",
   "execution_count": 32,
   "metadata": {},
   "outputs": [],
   "source": [
    "tp03 = load_data('/mnt/storage/lborgna/track/03.root', data_type='truth')"
   ]
  },
  {
   "cell_type": "code",
   "execution_count": 33,
   "metadata": {},
   "outputs": [],
   "source": [
    "z0_gen03 = truth_pv_z0(tp03)"
   ]
  },
  {
   "cell_type": "code",
   "execution_count": 34,
   "metadata": {},
   "outputs": [
    {
     "data": {
      "text/plain": [
       "<matplotlib.legend.Legend at 0x7f9dd6d0e490>"
      ]
     },
     "execution_count": 34,
     "metadata": {},
     "output_type": "execute_result"
    },
    {
     "data": {
      "image/png": "[encoded data removed]",
      "text/plain": [
       "<Figure size 720x720 with 1 Axes>"
      ]
     },
     "metadata": {
      "needs_background": "light"
     },
     "output_type": "display_data"
    }
   ],
   "source": [
    "_, be, _ = plt.hist(z0_gen11, bins = 20, range=(-15, 15), label ='file 11.root')\n",
    "_= plt.hist(z0_gen, bins=be, label = 'file 23.root', histtype='step', lw = 3)\n",
    "_= plt.hist(z0_gen27, bins=be, label = 'file 27.root', histtype='step', lw = 3, ls = '--')\n",
    "_ = plt.hist(z0_gen03, bins=be, label = 'file 03.root', histtype='step', lw = 3, ls = '-.')\n",
    "plt.legend()"
   ]
  },
  {
   "cell_type": "code",
   "execution_count": 35,
   "metadata": {},
   "outputs": [
    {
     "data": {
      "text/plain": [
       "(4466300, 43)"
      ]
     },
     "execution_count": 35,
     "metadata": {},
     "output_type": "execute_result"
    }
   ],
   "source": [
    "tp03.shape"
   ]
  },
  {
   "cell_type": "code",
   "execution_count": 42,
   "metadata": {},
   "outputs": [
    {
     "data": {
      "text/html": [
       "<div>\n",
       "<style scoped>\n",
       "    .dataframe tbody tr th:only-of-type {\n",
       "        vertical-align: middle;\n",
       "    }\n",
       "\n",
       "    .dataframe tbody tr th {\n",
       "        vertical-align: top;\n",
       "    }\n",
       "\n",
       "    .dataframe thead th {\n",
       "        text-align: right;\n",
       "    }\n",
       "</style>\n",
       "<table border=\"1\" class=\"dataframe\">\n",
       "  <thead>\n",
       "    <tr style=\"text-align: right;\">\n",
       "      <th></th>\n",
       "      <th>entry</th>\n",
       "      <th>tp_z0</th>\n",
       "    </tr>\n",
       "  </thead>\n",
       "  <tbody>\n",
       "    <tr>\n",
       "      <th>0</th>\n",
       "      <td>0</td>\n",
       "      <td>229</td>\n",
       "    </tr>\n",
       "    <tr>\n",
       "      <th>1</th>\n",
       "      <td>1</td>\n",
       "      <td>166</td>\n",
       "    </tr>\n",
       "    <tr>\n",
       "      <th>2</th>\n",
       "      <td>2</td>\n",
       "      <td>179</td>\n",
       "    </tr>\n",
       "    <tr>\n",
       "      <th>3</th>\n",
       "      <td>3</td>\n",
       "      <td>145</td>\n",
       "    </tr>\n",
       "    <tr>\n",
       "      <th>4</th>\n",
       "      <td>4</td>\n",
       "      <td>156</td>\n",
       "    </tr>\n",
       "    <tr>\n",
       "      <th>...</th>\n",
       "      <td>...</td>\n",
       "      <td>...</td>\n",
       "    </tr>\n",
       "    <tr>\n",
       "      <th>25195</th>\n",
       "      <td>25195</td>\n",
       "      <td>184</td>\n",
       "    </tr>\n",
       "    <tr>\n",
       "      <th>25196</th>\n",
       "      <td>25196</td>\n",
       "      <td>193</td>\n",
       "    </tr>\n",
       "    <tr>\n",
       "      <th>25197</th>\n",
       "      <td>25197</td>\n",
       "      <td>200</td>\n",
       "    </tr>\n",
       "    <tr>\n",
       "      <th>25198</th>\n",
       "      <td>25198</td>\n",
       "      <td>194</td>\n",
       "    </tr>\n",
       "    <tr>\n",
       "      <th>25199</th>\n",
       "      <td>25199</td>\n",
       "      <td>136</td>\n",
       "    </tr>\n",
       "  </tbody>\n",
       "</table>\n",
       "<p>25200 rows × 2 columns</p>\n",
       "</div>"
      ],
      "text/plain": [
       "       entry  tp_z0\n",
       "0          0    229\n",
       "1          1    166\n",
       "2          2    179\n",
       "3          3    145\n",
       "4          4    156\n",
       "...      ...    ...\n",
       "25195  25195    184\n",
       "25196  25196    193\n",
       "25197  25197    200\n",
       "25198  25198    194\n",
       "25199  25199    136\n",
       "\n",
       "[25200 rows x 2 columns]"
      ]
     },
     "execution_count": 42,
     "metadata": {},
     "output_type": "execute_result"
    }
   ],
   "source": [
    "tp03.groupby(level=0)['tp_z0'].count().reset_index()"
   ]
  },
  {
   "cell_type": "code",
   "execution_count": 43,
   "metadata": {},
   "outputs": [
    {
     "data": {
      "text/html": [
       "<div>\n",
       "<style scoped>\n",
       "    .dataframe tbody tr th:only-of-type {\n",
       "        vertical-align: middle;\n",
       "    }\n",
       "\n",
       "    .dataframe tbody tr th {\n",
       "        vertical-align: top;\n",
       "    }\n",
       "\n",
       "    .dataframe thead th {\n",
       "        text-align: right;\n",
       "    }\n",
       "</style>\n",
       "<table border=\"1\" class=\"dataframe\">\n",
       "  <thead>\n",
       "    <tr style=\"text-align: right;\">\n",
       "      <th></th>\n",
       "      <th>entry</th>\n",
       "      <th>tp_z0</th>\n",
       "    </tr>\n",
       "  </thead>\n",
       "  <tbody>\n",
       "    <tr>\n",
       "      <th>0</th>\n",
       "      <td>0</td>\n",
       "      <td>229</td>\n",
       "    </tr>\n",
       "    <tr>\n",
       "      <th>1</th>\n",
       "      <td>1</td>\n",
       "      <td>166</td>\n",
       "    </tr>\n",
       "    <tr>\n",
       "      <th>2</th>\n",
       "      <td>2</td>\n",
       "      <td>179</td>\n",
       "    </tr>\n",
       "    <tr>\n",
       "      <th>3</th>\n",
       "      <td>3</td>\n",
       "      <td>145</td>\n",
       "    </tr>\n",
       "    <tr>\n",
       "      <th>4</th>\n",
       "      <td>4</td>\n",
       "      <td>156</td>\n",
       "    </tr>\n",
       "    <tr>\n",
       "      <th>...</th>\n",
       "      <td>...</td>\n",
       "      <td>...</td>\n",
       "    </tr>\n",
       "    <tr>\n",
       "      <th>25195</th>\n",
       "      <td>25195</td>\n",
       "      <td>184</td>\n",
       "    </tr>\n",
       "    <tr>\n",
       "      <th>25196</th>\n",
       "      <td>25196</td>\n",
       "      <td>193</td>\n",
       "    </tr>\n",
       "    <tr>\n",
       "      <th>25197</th>\n",
       "      <td>25197</td>\n",
       "      <td>200</td>\n",
       "    </tr>\n",
       "    <tr>\n",
       "      <th>25198</th>\n",
       "      <td>25198</td>\n",
       "      <td>194</td>\n",
       "    </tr>\n",
       "    <tr>\n",
       "      <th>25199</th>\n",
       "      <td>25199</td>\n",
       "      <td>136</td>\n",
       "    </tr>\n",
       "  </tbody>\n",
       "</table>\n",
       "<p>25200 rows × 2 columns</p>\n",
       "</div>"
      ],
      "text/plain": [
       "       entry  tp_z0\n",
       "0          0    229\n",
       "1          1    166\n",
       "2          2    179\n",
       "3          3    145\n",
       "4          4    156\n",
       "...      ...    ...\n",
       "25195  25195    184\n",
       "25196  25196    193\n",
       "25197  25197    200\n",
       "25198  25198    194\n",
       "25199  25199    136\n",
       "\n",
       "[25200 rows x 2 columns]"
      ]
     },
     "execution_count": 43,
     "metadata": {},
     "output_type": "execute_result"
    }
   ],
   "source": [
    "tp11.groupby(level=0)['tp_z0'].count().reset_index()"
   ]
  },
  {
   "cell_type": "code",
   "execution_count": 44,
   "metadata": {},
   "outputs": [
    {
     "data": {
      "text/html": [
       "<div>\n",
       "<style scoped>\n",
       "    .dataframe tbody tr th:only-of-type {\n",
       "        vertical-align: middle;\n",
       "    }\n",
       "\n",
       "    .dataframe tbody tr th {\n",
       "        vertical-align: top;\n",
       "    }\n",
       "\n",
       "    .dataframe thead th {\n",
       "        text-align: right;\n",
       "    }\n",
       "</style>\n",
       "<table border=\"1\" class=\"dataframe\">\n",
       "  <thead>\n",
       "    <tr style=\"text-align: right;\">\n",
       "      <th></th>\n",
       "      <th>entry</th>\n",
       "      <th>tp_z0</th>\n",
       "    </tr>\n",
       "  </thead>\n",
       "  <tbody>\n",
       "    <tr>\n",
       "      <th>0</th>\n",
       "      <td>0</td>\n",
       "      <td>229</td>\n",
       "    </tr>\n",
       "    <tr>\n",
       "      <th>1</th>\n",
       "      <td>1</td>\n",
       "      <td>166</td>\n",
       "    </tr>\n",
       "    <tr>\n",
       "      <th>2</th>\n",
       "      <td>2</td>\n",
       "      <td>179</td>\n",
       "    </tr>\n",
       "    <tr>\n",
       "      <th>3</th>\n",
       "      <td>3</td>\n",
       "      <td>145</td>\n",
       "    </tr>\n",
       "    <tr>\n",
       "      <th>4</th>\n",
       "      <td>4</td>\n",
       "      <td>156</td>\n",
       "    </tr>\n",
       "    <tr>\n",
       "      <th>...</th>\n",
       "      <td>...</td>\n",
       "      <td>...</td>\n",
       "    </tr>\n",
       "    <tr>\n",
       "      <th>25195</th>\n",
       "      <td>25195</td>\n",
       "      <td>184</td>\n",
       "    </tr>\n",
       "    <tr>\n",
       "      <th>25196</th>\n",
       "      <td>25196</td>\n",
       "      <td>193</td>\n",
       "    </tr>\n",
       "    <tr>\n",
       "      <th>25197</th>\n",
       "      <td>25197</td>\n",
       "      <td>200</td>\n",
       "    </tr>\n",
       "    <tr>\n",
       "      <th>25198</th>\n",
       "      <td>25198</td>\n",
       "      <td>194</td>\n",
       "    </tr>\n",
       "    <tr>\n",
       "      <th>25199</th>\n",
       "      <td>25199</td>\n",
       "      <td>136</td>\n",
       "    </tr>\n",
       "  </tbody>\n",
       "</table>\n",
       "<p>25200 rows × 2 columns</p>\n",
       "</div>"
      ],
      "text/plain": [
       "       entry  tp_z0\n",
       "0          0    229\n",
       "1          1    166\n",
       "2          2    179\n",
       "3          3    145\n",
       "4          4    156\n",
       "...      ...    ...\n",
       "25195  25195    184\n",
       "25196  25196    193\n",
       "25197  25197    200\n",
       "25198  25198    194\n",
       "25199  25199    136\n",
       "\n",
       "[25200 rows x 2 columns]"
      ]
     },
     "execution_count": 44,
     "metadata": {},
     "output_type": "execute_result"
    }
   ],
   "source": [
    "tp23.groupby(level=0)['tp_z0'].count().reset_index()"
   ]
  },
  {
   "cell_type": "code",
   "execution_count": 46,
   "metadata": {},
   "outputs": [
    {
     "data": {
      "text/html": [
       "<div>\n",
       "<style scoped>\n",
       "    .dataframe tbody tr th:only-of-type {\n",
       "        vertical-align: middle;\n",
       "    }\n",
       "\n",
       "    .dataframe tbody tr th {\n",
       "        vertical-align: top;\n",
       "    }\n",
       "\n",
       "    .dataframe thead th {\n",
       "        text-align: right;\n",
       "    }\n",
       "</style>\n",
       "<table border=\"1\" class=\"dataframe\">\n",
       "  <thead>\n",
       "    <tr style=\"text-align: right;\">\n",
       "      <th></th>\n",
       "      <th>entry</th>\n",
       "      <th>tp_z0</th>\n",
       "    </tr>\n",
       "  </thead>\n",
       "  <tbody>\n",
       "    <tr>\n",
       "      <th>0</th>\n",
       "      <td>0</td>\n",
       "      <td>229</td>\n",
       "    </tr>\n",
       "    <tr>\n",
       "      <th>1</th>\n",
       "      <td>1</td>\n",
       "      <td>166</td>\n",
       "    </tr>\n",
       "    <tr>\n",
       "      <th>2</th>\n",
       "      <td>2</td>\n",
       "      <td>179</td>\n",
       "    </tr>\n",
       "    <tr>\n",
       "      <th>3</th>\n",
       "      <td>3</td>\n",
       "      <td>145</td>\n",
       "    </tr>\n",
       "    <tr>\n",
       "      <th>4</th>\n",
       "      <td>4</td>\n",
       "      <td>156</td>\n",
       "    </tr>\n",
       "    <tr>\n",
       "      <th>...</th>\n",
       "      <td>...</td>\n",
       "      <td>...</td>\n",
       "    </tr>\n",
       "    <tr>\n",
       "      <th>25195</th>\n",
       "      <td>25195</td>\n",
       "      <td>184</td>\n",
       "    </tr>\n",
       "    <tr>\n",
       "      <th>25196</th>\n",
       "      <td>25196</td>\n",
       "      <td>193</td>\n",
       "    </tr>\n",
       "    <tr>\n",
       "      <th>25197</th>\n",
       "      <td>25197</td>\n",
       "      <td>200</td>\n",
       "    </tr>\n",
       "    <tr>\n",
       "      <th>25198</th>\n",
       "      <td>25198</td>\n",
       "      <td>194</td>\n",
       "    </tr>\n",
       "    <tr>\n",
       "      <th>25199</th>\n",
       "      <td>25199</td>\n",
       "      <td>136</td>\n",
       "    </tr>\n",
       "  </tbody>\n",
       "</table>\n",
       "<p>25200 rows × 2 columns</p>\n",
       "</div>"
      ],
      "text/plain": [
       "       entry  tp_z0\n",
       "0          0    229\n",
       "1          1    166\n",
       "2          2    179\n",
       "3          3    145\n",
       "4          4    156\n",
       "...      ...    ...\n",
       "25195  25195    184\n",
       "25196  25196    193\n",
       "25197  25197    200\n",
       "25198  25198    194\n",
       "25199  25199    136\n",
       "\n",
       "[25200 rows x 2 columns]"
      ]
     },
     "execution_count": 46,
     "metadata": {},
     "output_type": "execute_result"
    }
   ],
   "source": [
    "tp27.groupby(level=0)['tp_z0'].count().reset_index()"
   ]
  },
  {
   "cell_type": "code",
   "execution_count": 72,
   "metadata": {},
   "outputs": [],
   "source": [
    "a = tp27.groupby(level=0)['tp_z0'].count()\n",
    "b = tp23.groupby(level=0)['tp_z0'].count()"
   ]
  },
  {
   "cell_type": "code",
   "execution_count": null,
   "metadata": {},
   "outputs": [],
   "source": [
    "a."
   ]
  },
  {
   "cell_type": "code",
   "execution_count": null,
   "metadata": {},
   "outputs": [],
   "source": []
  },
  {
   "cell_type": "code",
   "execution_count": 48,
   "metadata": {},
   "outputs": [
    {
     "data": {
      "text/plain": [
       "True"
      ]
     },
     "execution_count": 48,
     "metadata": {},
     "output_type": "execute_result"
    }
   ],
   "source": [
    "a.equals(b)"
   ]
  },
  {
   "cell_type": "code",
   "execution_count": 51,
   "metadata": {},
   "outputs": [
    {
     "data": {
      "text/plain": [
       "False"
      ]
     },
     "execution_count": 51,
     "metadata": {},
     "output_type": "execute_result"
    }
   ],
   "source": [
    "tp27.equals(tp11)"
   ]
  },
  {
   "cell_type": "code",
   "execution_count": 52,
   "metadata": {},
   "outputs": [
    {
     "data": {
      "text/html": [
       "<div>\n",
       "<style scoped>\n",
       "    .dataframe tbody tr th:only-of-type {\n",
       "        vertical-align: middle;\n",
       "    }\n",
       "\n",
       "    .dataframe tbody tr th {\n",
       "        vertical-align: top;\n",
       "    }\n",
       "\n",
       "    .dataframe thead th {\n",
       "        text-align: right;\n",
       "    }\n",
       "</style>\n",
       "<table border=\"1\" class=\"dataframe\">\n",
       "  <thead>\n",
       "    <tr style=\"text-align: right;\">\n",
       "      <th></th>\n",
       "      <th></th>\n",
       "      <th>tp_pt</th>\n",
       "      <th>tp_eta</th>\n",
       "      <th>tp_phi</th>\n",
       "      <th>tp_dxy</th>\n",
       "      <th>tp_d0</th>\n",
       "      <th>tp_z0</th>\n",
       "      <th>tp_d0_prod</th>\n",
       "      <th>tp_z0_prod</th>\n",
       "      <th>tp_pdgid</th>\n",
       "      <th>tp_nmatch</th>\n",
       "      <th>...</th>\n",
       "      <th>loosematchtrk_phi</th>\n",
       "      <th>loosematchtrk_z0</th>\n",
       "      <th>loosematchtrk_d0</th>\n",
       "      <th>loosematchtrk_chi2</th>\n",
       "      <th>loosematchtrk_bendchi2</th>\n",
       "      <th>loosematchtrk_nstub</th>\n",
       "      <th>loosematchtrk_seed</th>\n",
       "      <th>loosematchtrk_injet</th>\n",
       "      <th>loosematchtrk_injet_highpt</th>\n",
       "      <th>loosematchtrk_injet_vhighpt</th>\n",
       "    </tr>\n",
       "    <tr>\n",
       "      <th>entry</th>\n",
       "      <th>subentry</th>\n",
       "      <th></th>\n",
       "      <th></th>\n",
       "      <th></th>\n",
       "      <th></th>\n",
       "      <th></th>\n",
       "      <th></th>\n",
       "      <th></th>\n",
       "      <th></th>\n",
       "      <th></th>\n",
       "      <th></th>\n",
       "      <th></th>\n",
       "      <th></th>\n",
       "      <th></th>\n",
       "      <th></th>\n",
       "      <th></th>\n",
       "      <th></th>\n",
       "      <th></th>\n",
       "      <th></th>\n",
       "      <th></th>\n",
       "      <th></th>\n",
       "      <th></th>\n",
       "    </tr>\n",
       "  </thead>\n",
       "  <tbody>\n",
       "    <tr>\n",
       "      <th rowspan=\"5\" valign=\"top\">0</th>\n",
       "      <th>0</th>\n",
       "      <td>100.300301</td>\n",
       "      <td>-0.898876</td>\n",
       "      <td>0.061430</td>\n",
       "      <td>0.001250</td>\n",
       "      <td>0.000543</td>\n",
       "      <td>3.500762</td>\n",
       "      <td>-0.000073</td>\n",
       "      <td>3.499485</td>\n",
       "      <td>13</td>\n",
       "      <td>1</td>\n",
       "      <td>...</td>\n",
       "      <td>0.061580</td>\n",
       "      <td>3.574219</td>\n",
       "      <td>-999.0</td>\n",
       "      <td>7.661629</td>\n",
       "      <td>0.025519</td>\n",
       "      <td>6</td>\n",
       "      <td>0</td>\n",
       "      <td>1</td>\n",
       "      <td>1</td>\n",
       "      <td>0</td>\n",
       "    </tr>\n",
       "    <tr>\n",
       "      <th>1</th>\n",
       "      <td>2.052715</td>\n",
       "      <td>-1.650001</td>\n",
       "      <td>-2.781972</td>\n",
       "      <td>0.001250</td>\n",
       "      <td>0.000306</td>\n",
       "      <td>3.496469</td>\n",
       "      <td>-0.000297</td>\n",
       "      <td>3.499485</td>\n",
       "      <td>211</td>\n",
       "      <td>1</td>\n",
       "      <td>...</td>\n",
       "      <td>-2.782407</td>\n",
       "      <td>3.750000</td>\n",
       "      <td>-999.0</td>\n",
       "      <td>8.667765</td>\n",
       "      <td>1.376251</td>\n",
       "      <td>6</td>\n",
       "      <td>0</td>\n",
       "      <td>0</td>\n",
       "      <td>0</td>\n",
       "      <td>0</td>\n",
       "    </tr>\n",
       "    <tr>\n",
       "      <th>2</th>\n",
       "      <td>6.453084</td>\n",
       "      <td>-0.604645</td>\n",
       "      <td>-2.807965</td>\n",
       "      <td>0.001250</td>\n",
       "      <td>0.000281</td>\n",
       "      <td>3.498704</td>\n",
       "      <td>-0.000265</td>\n",
       "      <td>3.499485</td>\n",
       "      <td>2212</td>\n",
       "      <td>1</td>\n",
       "      <td>...</td>\n",
       "      <td>-2.808045</td>\n",
       "      <td>3.574219</td>\n",
       "      <td>-999.0</td>\n",
       "      <td>4.947954</td>\n",
       "      <td>1.358919</td>\n",
       "      <td>6</td>\n",
       "      <td>0</td>\n",
       "      <td>0</td>\n",
       "      <td>0</td>\n",
       "      <td>0</td>\n",
       "    </tr>\n",
       "    <tr>\n",
       "      <th>3</th>\n",
       "      <td>8.502528</td>\n",
       "      <td>-0.446424</td>\n",
       "      <td>-1.675735</td>\n",
       "      <td>0.001250</td>\n",
       "      <td>0.001191</td>\n",
       "      <td>3.499362</td>\n",
       "      <td>-0.001218</td>\n",
       "      <td>3.499485</td>\n",
       "      <td>-321</td>\n",
       "      <td>1</td>\n",
       "      <td>...</td>\n",
       "      <td>-1.675164</td>\n",
       "      <td>3.574219</td>\n",
       "      <td>-999.0</td>\n",
       "      <td>3.709781</td>\n",
       "      <td>0.449784</td>\n",
       "      <td>5</td>\n",
       "      <td>0</td>\n",
       "      <td>1</td>\n",
       "      <td>0</td>\n",
       "      <td>0</td>\n",
       "    </tr>\n",
       "    <tr>\n",
       "      <th>4</th>\n",
       "      <td>7.538472</td>\n",
       "      <td>-1.650967</td>\n",
       "      <td>-1.311853</td>\n",
       "      <td>0.001250</td>\n",
       "      <td>0.001264</td>\n",
       "      <td>3.499881</td>\n",
       "      <td>-0.001238</td>\n",
       "      <td>3.499485</td>\n",
       "      <td>-211</td>\n",
       "      <td>1</td>\n",
       "      <td>...</td>\n",
       "      <td>-1.310603</td>\n",
       "      <td>3.457031</td>\n",
       "      <td>-999.0</td>\n",
       "      <td>18.657181</td>\n",
       "      <td>0.499871</td>\n",
       "      <td>6</td>\n",
       "      <td>0</td>\n",
       "      <td>1</td>\n",
       "      <td>0</td>\n",
       "      <td>0</td>\n",
       "    </tr>\n",
       "    <tr>\n",
       "      <th>...</th>\n",
       "      <th>...</th>\n",
       "      <td>...</td>\n",
       "      <td>...</td>\n",
       "      <td>...</td>\n",
       "      <td>...</td>\n",
       "      <td>...</td>\n",
       "      <td>...</td>\n",
       "      <td>...</td>\n",
       "      <td>...</td>\n",
       "      <td>...</td>\n",
       "      <td>...</td>\n",
       "      <td>...</td>\n",
       "      <td>...</td>\n",
       "      <td>...</td>\n",
       "      <td>...</td>\n",
       "      <td>...</td>\n",
       "      <td>...</td>\n",
       "      <td>...</td>\n",
       "      <td>...</td>\n",
       "      <td>...</td>\n",
       "      <td>...</td>\n",
       "      <td>...</td>\n",
       "    </tr>\n",
       "    <tr>\n",
       "      <th rowspan=\"5\" valign=\"top\">25199</th>\n",
       "      <th>131</th>\n",
       "      <td>2.515927</td>\n",
       "      <td>-1.344955</td>\n",
       "      <td>2.283078</td>\n",
       "      <td>0.000222</td>\n",
       "      <td>-0.000221</td>\n",
       "      <td>7.912414</td>\n",
       "      <td>0.000219</td>\n",
       "      <td>7.912319</td>\n",
       "      <td>-2212</td>\n",
       "      <td>1</td>\n",
       "      <td>...</td>\n",
       "      <td>2.285152</td>\n",
       "      <td>8.144531</td>\n",
       "      <td>-999.0</td>\n",
       "      <td>7.074628</td>\n",
       "      <td>4.988648</td>\n",
       "      <td>5</td>\n",
       "      <td>0</td>\n",
       "      <td>0</td>\n",
       "      <td>0</td>\n",
       "      <td>0</td>\n",
       "    </tr>\n",
       "    <tr>\n",
       "      <th>132</th>\n",
       "      <td>2.869779</td>\n",
       "      <td>1.953141</td>\n",
       "      <td>-0.978675</td>\n",
       "      <td>0.000222</td>\n",
       "      <td>0.000216</td>\n",
       "      <td>7.912527</td>\n",
       "      <td>-0.000213</td>\n",
       "      <td>7.912319</td>\n",
       "      <td>211</td>\n",
       "      <td>1</td>\n",
       "      <td>...</td>\n",
       "      <td>-0.979100</td>\n",
       "      <td>7.558594</td>\n",
       "      <td>-999.0</td>\n",
       "      <td>4.337594</td>\n",
       "      <td>1.048164</td>\n",
       "      <td>6</td>\n",
       "      <td>5</td>\n",
       "      <td>0</td>\n",
       "      <td>0</td>\n",
       "      <td>0</td>\n",
       "    </tr>\n",
       "    <tr>\n",
       "      <th>133</th>\n",
       "      <td>2.205768</td>\n",
       "      <td>-1.469311</td>\n",
       "      <td>-0.762871</td>\n",
       "      <td>0.003592</td>\n",
       "      <td>0.000253</td>\n",
       "      <td>7.909946</td>\n",
       "      <td>-0.000266</td>\n",
       "      <td>7.902583</td>\n",
       "      <td>-321</td>\n",
       "      <td>1</td>\n",
       "      <td>...</td>\n",
       "      <td>-0.762705</td>\n",
       "      <td>8.261719</td>\n",
       "      <td>-999.0</td>\n",
       "      <td>3.615788</td>\n",
       "      <td>0.278036</td>\n",
       "      <td>6</td>\n",
       "      <td>0</td>\n",
       "      <td>0</td>\n",
       "      <td>0</td>\n",
       "      <td>0</td>\n",
       "    </tr>\n",
       "    <tr>\n",
       "      <th>134</th>\n",
       "      <td>2.010632</td>\n",
       "      <td>-1.296187</td>\n",
       "      <td>0.080920</td>\n",
       "      <td>0.001015</td>\n",
       "      <td>0.000989</td>\n",
       "      <td>-1.899230</td>\n",
       "      <td>-0.000991</td>\n",
       "      <td>-1.899601</td>\n",
       "      <td>211</td>\n",
       "      <td>0</td>\n",
       "      <td>...</td>\n",
       "      <td>-999.000000</td>\n",
       "      <td>-999.000000</td>\n",
       "      <td>-999.0</td>\n",
       "      <td>-999.000000</td>\n",
       "      <td>-999.000000</td>\n",
       "      <td>-999</td>\n",
       "      <td>-999</td>\n",
       "      <td>0</td>\n",
       "      <td>0</td>\n",
       "      <td>0</td>\n",
       "    </tr>\n",
       "    <tr>\n",
       "      <th>135</th>\n",
       "      <td>2.424364</td>\n",
       "      <td>-1.384162</td>\n",
       "      <td>0.262355</td>\n",
       "      <td>0.001015</td>\n",
       "      <td>0.000934</td>\n",
       "      <td>-1.898866</td>\n",
       "      <td>-0.000935</td>\n",
       "      <td>-1.899601</td>\n",
       "      <td>-211</td>\n",
       "      <td>1</td>\n",
       "      <td>...</td>\n",
       "      <td>0.264416</td>\n",
       "      <td>-1.933594</td>\n",
       "      <td>-999.0</td>\n",
       "      <td>6.649461</td>\n",
       "      <td>1.122369</td>\n",
       "      <td>6</td>\n",
       "      <td>0</td>\n",
       "      <td>0</td>\n",
       "      <td>0</td>\n",
       "      <td>0</td>\n",
       "    </tr>\n",
       "  </tbody>\n",
       "</table>\n",
       "<p>4466300 rows × 43 columns</p>\n",
       "</div>"
      ],
      "text/plain": [
       "                     tp_pt    tp_eta    tp_phi    tp_dxy     tp_d0     tp_z0  \\\n",
       "entry subentry                                                                 \n",
       "0     0         100.300301 -0.898876  0.061430  0.001250  0.000543  3.500762   \n",
       "      1           2.052715 -1.650001 -2.781972  0.001250  0.000306  3.496469   \n",
       "      2           6.453084 -0.604645 -2.807965  0.001250  0.000281  3.498704   \n",
       "      3           8.502528 -0.446424 -1.675735  0.001250  0.001191  3.499362   \n",
       "      4           7.538472 -1.650967 -1.311853  0.001250  0.001264  3.499881   \n",
       "...                    ...       ...       ...       ...       ...       ...   \n",
       "25199 131         2.515927 -1.344955  2.283078  0.000222 -0.000221  7.912414   \n",
       "      132         2.869779  1.953141 -0.978675  0.000222  0.000216  7.912527   \n",
       "      133         2.205768 -1.469311 -0.762871  0.003592  0.000253  7.909946   \n",
       "      134         2.010632 -1.296187  0.080920  0.001015  0.000989 -1.899230   \n",
       "      135         2.424364 -1.384162  0.262355  0.001015  0.000934 -1.898866   \n",
       "\n",
       "                tp_d0_prod  tp_z0_prod  tp_pdgid  tp_nmatch  ...  \\\n",
       "entry subentry                                               ...   \n",
       "0     0          -0.000073    3.499485        13          1  ...   \n",
       "      1          -0.000297    3.499485       211          1  ...   \n",
       "      2          -0.000265    3.499485      2212          1  ...   \n",
       "      3          -0.001218    3.499485      -321          1  ...   \n",
       "      4          -0.001238    3.499485      -211          1  ...   \n",
       "...                    ...         ...       ...        ...  ...   \n",
       "25199 131         0.000219    7.912319     -2212          1  ...   \n",
       "      132        -0.000213    7.912319       211          1  ...   \n",
       "      133        -0.000266    7.902583      -321          1  ...   \n",
       "      134        -0.000991   -1.899601       211          0  ...   \n",
       "      135        -0.000935   -1.899601      -211          1  ...   \n",
       "\n",
       "                loosematchtrk_phi  loosematchtrk_z0  loosematchtrk_d0  \\\n",
       "entry subentry                                                          \n",
       "0     0                  0.061580          3.574219            -999.0   \n",
       "      1                 -2.782407          3.750000            -999.0   \n",
       "      2                 -2.808045          3.574219            -999.0   \n",
       "      3                 -1.675164          3.574219            -999.0   \n",
       "      4                 -1.310603          3.457031            -999.0   \n",
       "...                           ...               ...               ...   \n",
       "25199 131                2.285152          8.144531            -999.0   \n",
       "      132               -0.979100          7.558594            -999.0   \n",
       "      133               -0.762705          8.261719            -999.0   \n",
       "      134             -999.000000       -999.000000            -999.0   \n",
       "      135                0.264416         -1.933594            -999.0   \n",
       "\n",
       "                loosematchtrk_chi2  loosematchtrk_bendchi2  \\\n",
       "entry subentry                                               \n",
       "0     0                   7.661629                0.025519   \n",
       "      1                   8.667765                1.376251   \n",
       "      2                   4.947954                1.358919   \n",
       "      3                   3.709781                0.449784   \n",
       "      4                  18.657181                0.499871   \n",
       "...                            ...                     ...   \n",
       "25199 131                 7.074628                4.988648   \n",
       "      132                 4.337594                1.048164   \n",
       "      133                 3.615788                0.278036   \n",
       "      134              -999.000000             -999.000000   \n",
       "      135                 6.649461                1.122369   \n",
       "\n",
       "                loosematchtrk_nstub  loosematchtrk_seed  loosematchtrk_injet  \\\n",
       "entry subentry                                                                 \n",
       "0     0                           6                   0                    1   \n",
       "      1                           6                   0                    0   \n",
       "      2                           6                   0                    0   \n",
       "      3                           5                   0                    1   \n",
       "      4                           6                   0                    1   \n",
       "...                             ...                 ...                  ...   \n",
       "25199 131                         5                   0                    0   \n",
       "      132                         6                   5                    0   \n",
       "      133                         6                   0                    0   \n",
       "      134                      -999                -999                    0   \n",
       "      135                         6                   0                    0   \n",
       "\n",
       "                loosematchtrk_injet_highpt  loosematchtrk_injet_vhighpt  \n",
       "entry subentry                                                           \n",
       "0     0                                  1                            0  \n",
       "      1                                  0                            0  \n",
       "      2                                  0                            0  \n",
       "      3                                  0                            0  \n",
       "      4                                  0                            0  \n",
       "...                                    ...                          ...  \n",
       "25199 131                                0                            0  \n",
       "      132                                0                            0  \n",
       "      133                                0                            0  \n",
       "      134                                0                            0  \n",
       "      135                                0                            0  \n",
       "\n",
       "[4466300 rows x 43 columns]"
      ]
     },
     "execution_count": 52,
     "metadata": {},
     "output_type": "execute_result"
    }
   ],
   "source": [
    "tp27"
   ]
  },
  {
   "cell_type": "code",
   "execution_count": 53,
   "metadata": {},
   "outputs": [
    {
     "data": {
      "text/html": [
       "<div>\n",
       "<style scoped>\n",
       "    .dataframe tbody tr th:only-of-type {\n",
       "        vertical-align: middle;\n",
       "    }\n",
       "\n",
       "    .dataframe tbody tr th {\n",
       "        vertical-align: top;\n",
       "    }\n",
       "\n",
       "    .dataframe thead th {\n",
       "        text-align: right;\n",
       "    }\n",
       "</style>\n",
       "<table border=\"1\" class=\"dataframe\">\n",
       "  <thead>\n",
       "    <tr style=\"text-align: right;\">\n",
       "      <th></th>\n",
       "      <th></th>\n",
       "      <th>tp_pt</th>\n",
       "      <th>tp_eta</th>\n",
       "      <th>tp_phi</th>\n",
       "      <th>tp_dxy</th>\n",
       "      <th>tp_d0</th>\n",
       "      <th>tp_z0</th>\n",
       "      <th>tp_d0_prod</th>\n",
       "      <th>tp_z0_prod</th>\n",
       "      <th>tp_pdgid</th>\n",
       "      <th>tp_nmatch</th>\n",
       "      <th>...</th>\n",
       "      <th>loosematchtrk_phi</th>\n",
       "      <th>loosematchtrk_z0</th>\n",
       "      <th>loosematchtrk_d0</th>\n",
       "      <th>loosematchtrk_chi2</th>\n",
       "      <th>loosematchtrk_bendchi2</th>\n",
       "      <th>loosematchtrk_nstub</th>\n",
       "      <th>loosematchtrk_seed</th>\n",
       "      <th>loosematchtrk_injet</th>\n",
       "      <th>loosematchtrk_injet_highpt</th>\n",
       "      <th>loosematchtrk_injet_vhighpt</th>\n",
       "    </tr>\n",
       "    <tr>\n",
       "      <th>entry</th>\n",
       "      <th>subentry</th>\n",
       "      <th></th>\n",
       "      <th></th>\n",
       "      <th></th>\n",
       "      <th></th>\n",
       "      <th></th>\n",
       "      <th></th>\n",
       "      <th></th>\n",
       "      <th></th>\n",
       "      <th></th>\n",
       "      <th></th>\n",
       "      <th></th>\n",
       "      <th></th>\n",
       "      <th></th>\n",
       "      <th></th>\n",
       "      <th></th>\n",
       "      <th></th>\n",
       "      <th></th>\n",
       "      <th></th>\n",
       "      <th></th>\n",
       "      <th></th>\n",
       "      <th></th>\n",
       "    </tr>\n",
       "  </thead>\n",
       "  <tbody>\n",
       "    <tr>\n",
       "      <th rowspan=\"5\" valign=\"top\">0</th>\n",
       "      <th>0</th>\n",
       "      <td>100.300301</td>\n",
       "      <td>-0.898876</td>\n",
       "      <td>0.061430</td>\n",
       "      <td>0.001250</td>\n",
       "      <td>0.000543</td>\n",
       "      <td>3.500762</td>\n",
       "      <td>-0.000073</td>\n",
       "      <td>3.499485</td>\n",
       "      <td>13</td>\n",
       "      <td>1</td>\n",
       "      <td>...</td>\n",
       "      <td>0.061580</td>\n",
       "      <td>3.574219</td>\n",
       "      <td>-999.0</td>\n",
       "      <td>7.661629</td>\n",
       "      <td>0.025519</td>\n",
       "      <td>6</td>\n",
       "      <td>0</td>\n",
       "      <td>1</td>\n",
       "      <td>1</td>\n",
       "      <td>0</td>\n",
       "    </tr>\n",
       "    <tr>\n",
       "      <th>1</th>\n",
       "      <td>2.052715</td>\n",
       "      <td>-1.650001</td>\n",
       "      <td>-2.781972</td>\n",
       "      <td>0.001250</td>\n",
       "      <td>0.000306</td>\n",
       "      <td>3.496469</td>\n",
       "      <td>-0.000297</td>\n",
       "      <td>3.499485</td>\n",
       "      <td>211</td>\n",
       "      <td>1</td>\n",
       "      <td>...</td>\n",
       "      <td>-2.782407</td>\n",
       "      <td>3.750000</td>\n",
       "      <td>-999.0</td>\n",
       "      <td>8.667765</td>\n",
       "      <td>1.376251</td>\n",
       "      <td>6</td>\n",
       "      <td>0</td>\n",
       "      <td>0</td>\n",
       "      <td>0</td>\n",
       "      <td>0</td>\n",
       "    </tr>\n",
       "    <tr>\n",
       "      <th>2</th>\n",
       "      <td>6.453084</td>\n",
       "      <td>-0.604645</td>\n",
       "      <td>-2.807965</td>\n",
       "      <td>0.001250</td>\n",
       "      <td>0.000281</td>\n",
       "      <td>3.498704</td>\n",
       "      <td>-0.000265</td>\n",
       "      <td>3.499485</td>\n",
       "      <td>2212</td>\n",
       "      <td>1</td>\n",
       "      <td>...</td>\n",
       "      <td>-2.808045</td>\n",
       "      <td>3.574219</td>\n",
       "      <td>-999.0</td>\n",
       "      <td>4.947954</td>\n",
       "      <td>1.358919</td>\n",
       "      <td>6</td>\n",
       "      <td>0</td>\n",
       "      <td>0</td>\n",
       "      <td>0</td>\n",
       "      <td>0</td>\n",
       "    </tr>\n",
       "    <tr>\n",
       "      <th>3</th>\n",
       "      <td>8.502528</td>\n",
       "      <td>-0.446424</td>\n",
       "      <td>-1.675735</td>\n",
       "      <td>0.001250</td>\n",
       "      <td>0.001191</td>\n",
       "      <td>3.499362</td>\n",
       "      <td>-0.001218</td>\n",
       "      <td>3.499485</td>\n",
       "      <td>-321</td>\n",
       "      <td>1</td>\n",
       "      <td>...</td>\n",
       "      <td>-1.675164</td>\n",
       "      <td>3.574219</td>\n",
       "      <td>-999.0</td>\n",
       "      <td>3.709781</td>\n",
       "      <td>0.449784</td>\n",
       "      <td>5</td>\n",
       "      <td>0</td>\n",
       "      <td>1</td>\n",
       "      <td>0</td>\n",
       "      <td>0</td>\n",
       "    </tr>\n",
       "    <tr>\n",
       "      <th>4</th>\n",
       "      <td>7.538472</td>\n",
       "      <td>-1.650967</td>\n",
       "      <td>-1.311853</td>\n",
       "      <td>0.001250</td>\n",
       "      <td>0.001264</td>\n",
       "      <td>3.499881</td>\n",
       "      <td>-0.001238</td>\n",
       "      <td>3.499485</td>\n",
       "      <td>-211</td>\n",
       "      <td>1</td>\n",
       "      <td>...</td>\n",
       "      <td>-1.310603</td>\n",
       "      <td>3.457031</td>\n",
       "      <td>-999.0</td>\n",
       "      <td>18.657181</td>\n",
       "      <td>0.499871</td>\n",
       "      <td>6</td>\n",
       "      <td>0</td>\n",
       "      <td>1</td>\n",
       "      <td>0</td>\n",
       "      <td>0</td>\n",
       "    </tr>\n",
       "    <tr>\n",
       "      <th>...</th>\n",
       "      <th>...</th>\n",
       "      <td>...</td>\n",
       "      <td>...</td>\n",
       "      <td>...</td>\n",
       "      <td>...</td>\n",
       "      <td>...</td>\n",
       "      <td>...</td>\n",
       "      <td>...</td>\n",
       "      <td>...</td>\n",
       "      <td>...</td>\n",
       "      <td>...</td>\n",
       "      <td>...</td>\n",
       "      <td>...</td>\n",
       "      <td>...</td>\n",
       "      <td>...</td>\n",
       "      <td>...</td>\n",
       "      <td>...</td>\n",
       "      <td>...</td>\n",
       "      <td>...</td>\n",
       "      <td>...</td>\n",
       "      <td>...</td>\n",
       "      <td>...</td>\n",
       "    </tr>\n",
       "    <tr>\n",
       "      <th rowspan=\"5\" valign=\"top\">25199</th>\n",
       "      <th>131</th>\n",
       "      <td>2.515927</td>\n",
       "      <td>-1.344955</td>\n",
       "      <td>2.283078</td>\n",
       "      <td>0.000222</td>\n",
       "      <td>-0.000221</td>\n",
       "      <td>7.912414</td>\n",
       "      <td>0.000219</td>\n",
       "      <td>7.912319</td>\n",
       "      <td>-2212</td>\n",
       "      <td>1</td>\n",
       "      <td>...</td>\n",
       "      <td>2.285152</td>\n",
       "      <td>8.144531</td>\n",
       "      <td>-999.0</td>\n",
       "      <td>7.074628</td>\n",
       "      <td>4.988648</td>\n",
       "      <td>5</td>\n",
       "      <td>0</td>\n",
       "      <td>0</td>\n",
       "      <td>0</td>\n",
       "      <td>0</td>\n",
       "    </tr>\n",
       "    <tr>\n",
       "      <th>132</th>\n",
       "      <td>2.869779</td>\n",
       "      <td>1.953141</td>\n",
       "      <td>-0.978675</td>\n",
       "      <td>0.000222</td>\n",
       "      <td>0.000216</td>\n",
       "      <td>7.912527</td>\n",
       "      <td>-0.000213</td>\n",
       "      <td>7.912319</td>\n",
       "      <td>211</td>\n",
       "      <td>1</td>\n",
       "      <td>...</td>\n",
       "      <td>-0.979100</td>\n",
       "      <td>7.558594</td>\n",
       "      <td>-999.0</td>\n",
       "      <td>4.337594</td>\n",
       "      <td>1.048164</td>\n",
       "      <td>6</td>\n",
       "      <td>5</td>\n",
       "      <td>0</td>\n",
       "      <td>0</td>\n",
       "      <td>0</td>\n",
       "    </tr>\n",
       "    <tr>\n",
       "      <th>133</th>\n",
       "      <td>2.205768</td>\n",
       "      <td>-1.469311</td>\n",
       "      <td>-0.762871</td>\n",
       "      <td>0.003592</td>\n",
       "      <td>0.000253</td>\n",
       "      <td>7.909946</td>\n",
       "      <td>-0.000266</td>\n",
       "      <td>7.902583</td>\n",
       "      <td>-321</td>\n",
       "      <td>1</td>\n",
       "      <td>...</td>\n",
       "      <td>-0.762705</td>\n",
       "      <td>8.261719</td>\n",
       "      <td>-999.0</td>\n",
       "      <td>3.615788</td>\n",
       "      <td>0.278036</td>\n",
       "      <td>6</td>\n",
       "      <td>0</td>\n",
       "      <td>0</td>\n",
       "      <td>0</td>\n",
       "      <td>0</td>\n",
       "    </tr>\n",
       "    <tr>\n",
       "      <th>134</th>\n",
       "      <td>2.010632</td>\n",
       "      <td>-1.296187</td>\n",
       "      <td>0.080920</td>\n",
       "      <td>0.001015</td>\n",
       "      <td>0.000989</td>\n",
       "      <td>-1.899230</td>\n",
       "      <td>-0.000991</td>\n",
       "      <td>-1.899601</td>\n",
       "      <td>211</td>\n",
       "      <td>0</td>\n",
       "      <td>...</td>\n",
       "      <td>-999.000000</td>\n",
       "      <td>-999.000000</td>\n",
       "      <td>-999.0</td>\n",
       "      <td>-999.000000</td>\n",
       "      <td>-999.000000</td>\n",
       "      <td>-999</td>\n",
       "      <td>-999</td>\n",
       "      <td>0</td>\n",
       "      <td>0</td>\n",
       "      <td>0</td>\n",
       "    </tr>\n",
       "    <tr>\n",
       "      <th>135</th>\n",
       "      <td>2.424364</td>\n",
       "      <td>-1.384162</td>\n",
       "      <td>0.262355</td>\n",
       "      <td>0.001015</td>\n",
       "      <td>0.000934</td>\n",
       "      <td>-1.898866</td>\n",
       "      <td>-0.000935</td>\n",
       "      <td>-1.899601</td>\n",
       "      <td>-211</td>\n",
       "      <td>1</td>\n",
       "      <td>...</td>\n",
       "      <td>0.264416</td>\n",
       "      <td>-1.933594</td>\n",
       "      <td>-999.0</td>\n",
       "      <td>6.649461</td>\n",
       "      <td>1.122369</td>\n",
       "      <td>6</td>\n",
       "      <td>0</td>\n",
       "      <td>0</td>\n",
       "      <td>0</td>\n",
       "      <td>0</td>\n",
       "    </tr>\n",
       "  </tbody>\n",
       "</table>\n",
       "<p>4466300 rows × 43 columns</p>\n",
       "</div>"
      ],
      "text/plain": [
       "                     tp_pt    tp_eta    tp_phi    tp_dxy     tp_d0     tp_z0  \\\n",
       "entry subentry                                                                 \n",
       "0     0         100.300301 -0.898876  0.061430  0.001250  0.000543  3.500762   \n",
       "      1           2.052715 -1.650001 -2.781972  0.001250  0.000306  3.496469   \n",
       "      2           6.453084 -0.604645 -2.807965  0.001250  0.000281  3.498704   \n",
       "      3           8.502528 -0.446424 -1.675735  0.001250  0.001191  3.499362   \n",
       "      4           7.538472 -1.650967 -1.311853  0.001250  0.001264  3.499881   \n",
       "...                    ...       ...       ...       ...       ...       ...   \n",
       "25199 131         2.515927 -1.344955  2.283078  0.000222 -0.000221  7.912414   \n",
       "      132         2.869779  1.953141 -0.978675  0.000222  0.000216  7.912527   \n",
       "      133         2.205768 -1.469311 -0.762871  0.003592  0.000253  7.909946   \n",
       "      134         2.010632 -1.296187  0.080920  0.001015  0.000989 -1.899230   \n",
       "      135         2.424364 -1.384162  0.262355  0.001015  0.000934 -1.898866   \n",
       "\n",
       "                tp_d0_prod  tp_z0_prod  tp_pdgid  tp_nmatch  ...  \\\n",
       "entry subentry                                               ...   \n",
       "0     0          -0.000073    3.499485        13          1  ...   \n",
       "      1          -0.000297    3.499485       211          1  ...   \n",
       "      2          -0.000265    3.499485      2212          1  ...   \n",
       "      3          -0.001218    3.499485      -321          1  ...   \n",
       "      4          -0.001238    3.499485      -211          1  ...   \n",
       "...                    ...         ...       ...        ...  ...   \n",
       "25199 131         0.000219    7.912319     -2212          1  ...   \n",
       "      132        -0.000213    7.912319       211          1  ...   \n",
       "      133        -0.000266    7.902583      -321          1  ...   \n",
       "      134        -0.000991   -1.899601       211          0  ...   \n",
       "      135        -0.000935   -1.899601      -211          1  ...   \n",
       "\n",
       "                loosematchtrk_phi  loosematchtrk_z0  loosematchtrk_d0  \\\n",
       "entry subentry                                                          \n",
       "0     0                  0.061580          3.574219            -999.0   \n",
       "      1                 -2.782407          3.750000            -999.0   \n",
       "      2                 -2.808045          3.574219            -999.0   \n",
       "      3                 -1.675164          3.574219            -999.0   \n",
       "      4                 -1.310603          3.457031            -999.0   \n",
       "...                           ...               ...               ...   \n",
       "25199 131                2.285152          8.144531            -999.0   \n",
       "      132               -0.979100          7.558594            -999.0   \n",
       "      133               -0.762705          8.261719            -999.0   \n",
       "      134             -999.000000       -999.000000            -999.0   \n",
       "      135                0.264416         -1.933594            -999.0   \n",
       "\n",
       "                loosematchtrk_chi2  loosematchtrk_bendchi2  \\\n",
       "entry subentry                                               \n",
       "0     0                   7.661629                0.025519   \n",
       "      1                   8.667765                1.376251   \n",
       "      2                   4.947954                1.358919   \n",
       "      3                   3.709781                0.449784   \n",
       "      4                  18.657181                0.499871   \n",
       "...                            ...                     ...   \n",
       "25199 131                 7.074628                4.988648   \n",
       "      132                 4.337594                1.048164   \n",
       "      133                 3.615788                0.278036   \n",
       "      134              -999.000000             -999.000000   \n",
       "      135                 6.649461                1.122369   \n",
       "\n",
       "                loosematchtrk_nstub  loosematchtrk_seed  loosematchtrk_injet  \\\n",
       "entry subentry                                                                 \n",
       "0     0                           6                   0                    1   \n",
       "      1                           6                   0                    0   \n",
       "      2                           6                   0                    0   \n",
       "      3                           5                   0                    1   \n",
       "      4                           6                   0                    1   \n",
       "...                             ...                 ...                  ...   \n",
       "25199 131                         5                   0                    0   \n",
       "      132                         6                   5                    0   \n",
       "      133                         6                   0                    0   \n",
       "      134                      -999                -999                    0   \n",
       "      135                         6                   0                    0   \n",
       "\n",
       "                loosematchtrk_injet_highpt  loosematchtrk_injet_vhighpt  \n",
       "entry subentry                                                           \n",
       "0     0                                  1                            0  \n",
       "      1                                  0                            0  \n",
       "      2                                  0                            0  \n",
       "      3                                  0                            0  \n",
       "      4                                  0                            0  \n",
       "...                                    ...                          ...  \n",
       "25199 131                                0                            0  \n",
       "      132                                0                            0  \n",
       "      133                                0                            0  \n",
       "      134                                0                            0  \n",
       "      135                                0                            0  \n",
       "\n",
       "[4466300 rows x 43 columns]"
      ]
     },
     "execution_count": 53,
     "metadata": {},
     "output_type": "execute_result"
    }
   ],
   "source": [
    "tp11"
   ]
  },
  {
   "cell_type": "code",
   "execution_count": 41,
   "metadata": {},
   "outputs": [],
   "source": [
    "columns = ['tp_pt','tp_z0','tp_d0','tp_eventid','trk_z0','trk_pt']"
   ]
  },
  {
   "cell_type": "code",
   "execution_count": 59,
   "metadata": {},
   "outputs": [],
   "source": [
    "import time"
   ]
  },
  {
   "cell_type": "code",
   "execution_count": 55,
   "metadata": {},
   "outputs": [],
   "source": [
    "from tqdm import tqdm"
   ]
  },
  {
   "cell_type": "code",
   "execution_count": 71,
   "metadata": {},
   "outputs": [
    {
     "data": {
      "text/html": [
       "<div>\n",
       "<style scoped>\n",
       "    .dataframe tbody tr th:only-of-type {\n",
       "        vertical-align: middle;\n",
       "    }\n",
       "\n",
       "    .dataframe tbody tr th {\n",
       "        vertical-align: top;\n",
       "    }\n",
       "\n",
       "    .dataframe thead th {\n",
       "        text-align: right;\n",
       "    }\n",
       "</style>\n",
       "<table border=\"1\" class=\"dataframe\">\n",
       "  <thead>\n",
       "    <tr style=\"text-align: right;\">\n",
       "      <th></th>\n",
       "      <th>entry</th>\n",
       "      <th>tp_z0</th>\n",
       "    </tr>\n",
       "  </thead>\n",
       "  <tbody>\n",
       "    <tr>\n",
       "      <th>0</th>\n",
       "      <td>0</td>\n",
       "      <td>229</td>\n",
       "    </tr>\n",
       "    <tr>\n",
       "      <th>1</th>\n",
       "      <td>1</td>\n",
       "      <td>166</td>\n",
       "    </tr>\n",
       "    <tr>\n",
       "      <th>2</th>\n",
       "      <td>2</td>\n",
       "      <td>179</td>\n",
       "    </tr>\n",
       "    <tr>\n",
       "      <th>3</th>\n",
       "      <td>3</td>\n",
       "      <td>145</td>\n",
       "    </tr>\n",
       "    <tr>\n",
       "      <th>4</th>\n",
       "      <td>4</td>\n",
       "      <td>156</td>\n",
       "    </tr>\n",
       "    <tr>\n",
       "      <th>...</th>\n",
       "      <td>...</td>\n",
       "      <td>...</td>\n",
       "    </tr>\n",
       "    <tr>\n",
       "      <th>25196</th>\n",
       "      <td>25196</td>\n",
       "      <td>193</td>\n",
       "    </tr>\n",
       "    <tr>\n",
       "      <th>25197</th>\n",
       "      <td>25197</td>\n",
       "      <td>200</td>\n",
       "    </tr>\n",
       "    <tr>\n",
       "      <th>25198</th>\n",
       "      <td>25198</td>\n",
       "      <td>194</td>\n",
       "    </tr>\n",
       "    <tr>\n",
       "      <th>25199</th>\n",
       "      <td>25199</td>\n",
       "      <td>136</td>\n",
       "    </tr>\n",
       "    <tr>\n",
       "      <th>25200</th>\n",
       "      <td>file_num</td>\n",
       "      <td>17</td>\n",
       "    </tr>\n",
       "  </tbody>\n",
       "</table>\n",
       "<p>25201 rows × 2 columns</p>\n",
       "</div>"
      ],
      "text/plain": [
       "          entry  tp_z0\n",
       "0             0    229\n",
       "1             1    166\n",
       "2             2    179\n",
       "3             3    145\n",
       "4             4    156\n",
       "...         ...    ...\n",
       "25196     25196    193\n",
       "25197     25197    200\n",
       "25198     25198    194\n",
       "25199     25199    136\n",
       "25200  file_num     17\n",
       "\n",
       "[25201 rows x 2 columns]"
      ]
     },
     "execution_count": 71,
     "metadata": {},
     "output_type": "execute_result"
    }
   ],
   "source": [
    "a.reset_index()"
   ]
  },
  {
   "cell_type": "code",
   "execution_count": 68,
   "metadata": {},
   "outputs": [],
   "source": [
    "b['file_num'] = 23"
   ]
  },
  {
   "cell_type": "code",
   "execution_count": 69,
   "metadata": {},
   "outputs": [
    {
     "data": {
      "text/plain": [
       "entry\n",
       "0           229\n",
       "1           166\n",
       "2           179\n",
       "3           145\n",
       "4           156\n",
       "           ... \n",
       "25196       193\n",
       "25197       200\n",
       "25198       194\n",
       "25199       136\n",
       "file_num     17\n",
       "Name: tp_z0, Length: 25201, dtype: int64"
      ]
     },
     "execution_count": 69,
     "metadata": {},
     "output_type": "execute_result"
    }
   ],
   "source": [
    "a"
   ]
  },
  {
   "cell_type": "code",
   "execution_count": 70,
   "metadata": {},
   "outputs": [
    {
     "data": {
      "text/plain": [
       "entry\n",
       "0           229\n",
       "1           166\n",
       "2           179\n",
       "3           145\n",
       "4           156\n",
       "           ... \n",
       "25196       193\n",
       "25197       200\n",
       "25198       194\n",
       "25199       136\n",
       "file_num     23\n",
       "Name: tp_z0, Length: 25201, dtype: int64"
      ]
     },
     "execution_count": 70,
     "metadata": {},
     "output_type": "execute_result"
    }
   ],
   "source": [
    "b"
   ]
  },
  {
   "cell_type": "code",
   "execution_count": null,
   "metadata": {},
   "outputs": [],
   "source": []
  },
  {
   "cell_type": "code",
   "execution_count": 64,
   "metadata": {},
   "outputs": [
    {
     "name": "stderr",
     "output_type": "stream",
     "text": [
      "  3%|█▋                                                               | 1/38 [00:00<00:03,  9.98it/s]"
     ]
    },
    {
     "name": "stdout",
     "output_type": "stream",
     "text": [
      "04\n",
      "11\n"
     ]
    },
    {
     "name": "stderr",
     "output_type": "stream",
     "text": [
      "  8%|█████▏                                                           | 3/38 [00:00<00:03,  9.87it/s]"
     ]
    },
    {
     "name": "stdout",
     "output_type": "stream",
     "text": [
      "01\n",
      "37\n"
     ]
    },
    {
     "name": "stderr",
     "output_type": "stream",
     "text": [
      " 13%|████████▌                                                        | 5/38 [00:00<00:03,  9.83it/s]"
     ]
    },
    {
     "name": "stdout",
     "output_type": "stream",
     "text": [
      "33\n",
      "05\n"
     ]
    },
    {
     "name": "stderr",
     "output_type": "stream",
     "text": [
      " 18%|███████████▉                                                     | 7/38 [00:00<00:03,  9.86it/s]"
     ]
    },
    {
     "name": "stdout",
     "output_type": "stream",
     "text": [
      "16\n",
      "18\n"
     ]
    },
    {
     "name": "stderr",
     "output_type": "stream",
     "text": [
      " 24%|███████████████▍                                                 | 9/38 [00:00<00:02,  9.87it/s]"
     ]
    },
    {
     "name": "stdout",
     "output_type": "stream",
     "text": [
      "30\n",
      "21\n"
     ]
    },
    {
     "name": "stderr",
     "output_type": "stream",
     "text": [
      " 29%|██████████████████▌                                             | 11/38 [00:01<00:02,  9.86it/s]"
     ]
    },
    {
     "name": "stdout",
     "output_type": "stream",
     "text": [
      "08\n",
      "34\n"
     ]
    },
    {
     "name": "stderr",
     "output_type": "stream",
     "text": [
      " 34%|█████████████████████▉                                          | 13/38 [00:01<00:02,  9.88it/s]"
     ]
    },
    {
     "name": "stdout",
     "output_type": "stream",
     "text": [
      "24\n",
      "10\n"
     ]
    },
    {
     "name": "stderr",
     "output_type": "stream",
     "text": [
      " 39%|█████████████████████████▎                                      | 15/38 [00:01<00:02,  9.88it/s]"
     ]
    },
    {
     "name": "stdout",
     "output_type": "stream",
     "text": [
      "02\n",
      "14\n"
     ]
    },
    {
     "name": "stderr",
     "output_type": "stream",
     "text": [
      " 45%|████████████████████████████▋                                   | 17/38 [00:01<00:02,  9.85it/s]"
     ]
    },
    {
     "name": "stdout",
     "output_type": "stream",
     "text": [
      "00\n",
      "29\n"
     ]
    },
    {
     "name": "stderr",
     "output_type": "stream",
     "text": [
      " 50%|████████████████████████████████                                | 19/38 [00:01<00:01,  9.88it/s]"
     ]
    },
    {
     "name": "stdout",
     "output_type": "stream",
     "text": [
      "22\n",
      "26\n"
     ]
    },
    {
     "name": "stderr",
     "output_type": "stream",
     "text": [
      " 55%|███████████████████████████████████▎                            | 21/38 [00:02<00:01,  9.89it/s]"
     ]
    },
    {
     "name": "stdout",
     "output_type": "stream",
     "text": [
      "28\n",
      "32\n"
     ]
    },
    {
     "name": "stderr",
     "output_type": "stream",
     "text": [
      " 61%|██████████████████████████████████████▋                         | 23/38 [00:02<00:01,  9.87it/s]"
     ]
    },
    {
     "name": "stdout",
     "output_type": "stream",
     "text": [
      "03\n",
      "31\n"
     ]
    },
    {
     "name": "stderr",
     "output_type": "stream",
     "text": [
      " 66%|██████████████████████████████████████████                      | 25/38 [00:02<00:01,  9.86it/s]"
     ]
    },
    {
     "name": "stdout",
     "output_type": "stream",
     "text": [
      "38\n",
      "09\n"
     ]
    },
    {
     "name": "stderr",
     "output_type": "stream",
     "text": [
      " 71%|█████████████████████████████████████████████▍                  | 27/38 [00:02<00:01,  9.82it/s]"
     ]
    },
    {
     "name": "stdout",
     "output_type": "stream",
     "text": [
      "13\n",
      "20\n"
     ]
    },
    {
     "name": "stderr",
     "output_type": "stream",
     "text": [
      " 76%|████████████████████████████████████████████████▊               | 29/38 [00:02<00:00,  9.83it/s]"
     ]
    },
    {
     "name": "stdout",
     "output_type": "stream",
     "text": [
      "39\n",
      "23\n"
     ]
    },
    {
     "name": "stderr",
     "output_type": "stream",
     "text": [
      " 82%|████████████████████████████████████████████████████▏           | 31/38 [00:03<00:00,  9.86it/s]"
     ]
    },
    {
     "name": "stdout",
     "output_type": "stream",
     "text": [
      "12\n",
      "17\n"
     ]
    },
    {
     "name": "stderr",
     "output_type": "stream",
     "text": [
      " 87%|███████████████████████████████████████████████████████▌        | 33/38 [00:03<00:00,  9.86it/s]"
     ]
    },
    {
     "name": "stdout",
     "output_type": "stream",
     "text": [
      "27\n",
      "19\n"
     ]
    },
    {
     "name": "stderr",
     "output_type": "stream",
     "text": [
      " 92%|██████████████████████████████████████████████████████████▉     | 35/38 [00:03<00:00,  9.83it/s]"
     ]
    },
    {
     "name": "stdout",
     "output_type": "stream",
     "text": [
      "07\n",
      "36\n"
     ]
    },
    {
     "name": "stderr",
     "output_type": "stream",
     "text": [
      " 95%|████████████████████████████████████████████████████████████▋   | 36/38 [00:03<00:00,  9.63it/s]"
     ]
    },
    {
     "name": "stdout",
     "output_type": "stream",
     "text": [
      "25\n"
     ]
    },
    {
     "name": "stderr",
     "output_type": "stream",
     "text": [
      "\n"
     ]
    },
    {
     "ename": "KeyboardInterrupt",
     "evalue": "",
     "output_type": "error",
     "traceback": [
      "\u001b[0;31m---------------------------------------------------------------------------\u001b[0m",
      "\u001b[0;31mKeyboardInterrupt\u001b[0m                         Traceback (most recent call last)",
      "\u001b[0;32m/tmp/ipykernel_15467/2390210133.py\u001b[0m in \u001b[0;36m<module>\u001b[0;34m\u001b[0m\n\u001b[1;32m      2\u001b[0m     \u001b[0mfile_num\u001b[0m \u001b[0;34m=\u001b[0m \u001b[0mfile\u001b[0m\u001b[0;34m[\u001b[0m\u001b[0;34m-\u001b[0m\u001b[0;36m7\u001b[0m\u001b[0;34m:\u001b[0m\u001b[0;34m-\u001b[0m\u001b[0;36m5\u001b[0m\u001b[0;34m]\u001b[0m\u001b[0;34m\u001b[0m\u001b[0;34m\u001b[0m\u001b[0m\n\u001b[1;32m      3\u001b[0m     \u001b[0mprint\u001b[0m\u001b[0;34m(\u001b[0m\u001b[0mfile_num\u001b[0m\u001b[0;34m)\u001b[0m\u001b[0;34m\u001b[0m\u001b[0;34m\u001b[0m\u001b[0m\n\u001b[0;32m----> 4\u001b[0;31m     \u001b[0mtime\u001b[0m\u001b[0;34m.\u001b[0m\u001b[0msleep\u001b[0m\u001b[0;34m(\u001b[0m\u001b[0;36m0.1\u001b[0m\u001b[0;34m)\u001b[0m\u001b[0;34m\u001b[0m\u001b[0;34m\u001b[0m\u001b[0m\n\u001b[0m\u001b[1;32m      5\u001b[0m \u001b[0;31m#     _f = uproot.open(file)\u001b[0m\u001b[0;34m\u001b[0m\u001b[0;34m\u001b[0m\u001b[0;34m\u001b[0m\u001b[0m\n\u001b[1;32m      6\u001b[0m \u001b[0;31m#     _t = _f[\"L1TrackNtuple/eventTree;1\"]\u001b[0m\u001b[0;34m\u001b[0m\u001b[0;34m\u001b[0m\u001b[0;34m\u001b[0m\u001b[0m\n",
      "\u001b[0;31mKeyboardInterrupt\u001b[0m: "
     ]
    }
   ],
   "source": [
    "\n",
    "for i, file in (enumerate(tqdm(list_of_files))):\n",
    "    file_num = file[-7:-5]\n",
    "\n",
    "    _f = uproot.open(file)\n",
    "    _t = _f[\"L1TrackNtuple/eventTree;1\"]\n",
    "    \n",
    "    dfs = _t.arrays(columns, library='pd')\n",
    "    \n",
    "    tp = dfs[1]\n",
    "    trk = dfs[0]\n",
    "    \n",
    "    tp.groupby(level=0).shape[0]\n",
    "    \n",
    "    \n",
    "    \n",
    "    \n",
    "    if i==2:\n",
    "        break"
   ]
  },
  {
   "cell_type": "code",
   "execution_count": 34,
   "metadata": {},
   "outputs": [
    {
     "name": "stdout",
     "output_type": "stream",
     "text": [
      "hello\n"
     ]
    }
   ],
   "source": [
    "print(\"hello\")"
   ]
  },
  {
   "cell_type": "code",
   "execution_count": null,
   "metadata": {},
   "outputs": [],
   "source": []
  }
 ],
 "metadata": {
  "kernelspec": {
   "display_name": "db-clustering",
   "language": "python",
   "name": "db-clustering"
  },
  "language_info": {
   "codemirror_mode": {
    "name": "ipython",
    "version": 3
   },
   "file_extension": ".py",
   "mimetype": "text/x-python",
   "name": "python",
   "nbconvert_exporter": "python",
   "pygments_lexer": "ipython3",
   "version": "3.8.12"
  }
 },
 "nbformat": 4,
 "nbformat_minor": 2
}
