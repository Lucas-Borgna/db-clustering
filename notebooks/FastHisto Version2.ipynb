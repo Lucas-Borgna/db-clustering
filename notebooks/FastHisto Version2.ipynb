{
 "cells": [
  {
   "cell_type": "code",
   "execution_count": 1,
   "metadata": {},
   "outputs": [],
   "source": [
    "### Reloads modules properly\n",
    "%load_ext autoreload\n",
    "%autoreload 2\n",
    "%load_ext lab_black"
   ]
  },
  {
   "cell_type": "code",
   "execution_count": 2,
   "metadata": {},
   "outputs": [],
   "source": [
    "import os\n",
    "\n",
    "os.sys.path.append(\"../\")"
   ]
  },
  {
   "cell_type": "markdown",
   "metadata": {},
   "source": [
    "# Implementation of Fast Histo Version 2"
   ]
  },
  {
   "cell_type": "code",
   "execution_count": 3,
   "metadata": {},
   "outputs": [],
   "source": [
    "import pandas as pd\n",
    "import uproot\n",
    "import numpy as np\n",
    "import matplotlib.pyplot as plt\n",
    "import seaborn as sns\n",
    "import mplhep as hep\n",
    "\n",
    "hep.style.use(\"CMS\")\n",
    "from tqdm import tqdm\n",
    "from sklearn.cluster import DBSCAN"
   ]
  },
  {
   "cell_type": "code",
   "execution_count": 92,
   "metadata": {},
   "outputs": [],
   "source": [
    "from statsmodels.stats.proportion import proportion_confint"
   ]
  },
  {
   "cell_type": "code",
   "execution_count": 4,
   "metadata": {},
   "outputs": [],
   "source": [
    "from statsmodels.stats.proportion import proportion_confint"
   ]
  },
  {
   "cell_type": "code",
   "execution_count": 259,
   "metadata": {},
   "outputs": [],
   "source": [
    "import copy"
   ]
  },
  {
   "cell_type": "code",
   "execution_count": 316,
   "metadata": {},
   "outputs": [],
   "source": [
    "import pickle"
   ]
  },
  {
   "cell_type": "code",
   "execution_count": 5,
   "metadata": {},
   "outputs": [],
   "source": [
    "tqdm.pandas()"
   ]
  },
  {
   "cell_type": "code",
   "execution_count": 183,
   "metadata": {},
   "outputs": [],
   "source": [
    "# storage = '/mnt/storage/lborgna/track/l1_nnt/'\n",
    "storage = \"/Volumes/ExternalSSD/track/l1_nnt/\"\n",
    "tp_original = pd.read_pickle(storage + \"tp.pkl\")\n",
    "trk_original = pd.read_pickle(storage + \"trk.pkl\")\n",
    "mc_original = pd.read_pickle(storage + \"mc.pkl\")"
   ]
  },
  {
   "cell_type": "code",
   "execution_count": 184,
   "metadata": {},
   "outputs": [],
   "source": [
    "tp = tp_original.copy()\n",
    "trk = trk_original.copy()\n",
    "mc = mc_original.copy()"
   ]
  },
  {
   "cell_type": "code",
   "execution_count": 185,
   "metadata": {},
   "outputs": [
    {
     "name": "stdout",
     "output_type": "stream",
     "text": [
      "<class 'pandas.core.frame.DataFrame'>\n",
      "MultiIndex: 39363835 entries, (0, 0) to (222975, 213)\n",
      "Data columns (total 6 columns):\n",
      " #   Column      Dtype  \n",
      "---  ------      -----  \n",
      " 0   tp_pt       float32\n",
      " 1   tp_eta      float32\n",
      " 2   tp_phi      float32\n",
      " 3   tp_d0       float32\n",
      " 4   tp_z0       float32\n",
      " 5   tp_eventid  int32  \n",
      "dtypes: float32(5), int32(1)\n",
      "memory usage: 1.1 GB\n"
     ]
    }
   ],
   "source": [
    "tp.info(memory_usage=\"deep\")"
   ]
  },
  {
   "cell_type": "markdown",
   "metadata": {},
   "source": [
    "# Data Pre-processing"
   ]
  },
  {
   "cell_type": "markdown",
   "metadata": {},
   "source": [
    "**EDA of missing and infinite values in the dataset**"
   ]
  },
  {
   "cell_type": "code",
   "execution_count": 186,
   "metadata": {},
   "outputs": [
    {
     "data": {
      "text/plain": [
       "False    40780722\n",
       "Name: trk_pt, dtype: int64"
      ]
     },
     "execution_count": 186,
     "metadata": {},
     "output_type": "execute_result"
    }
   ],
   "source": [
    "trk[\"trk_pt\"].isna().value_counts()"
   ]
  },
  {
   "cell_type": "code",
   "execution_count": 187,
   "metadata": {},
   "outputs": [
    {
     "data": {
      "text/plain": [
       "False    40780640\n",
       "True           82\n",
       "Name: trk_pt, dtype: int64"
      ]
     },
     "execution_count": 187,
     "metadata": {},
     "output_type": "execute_result"
    }
   ],
   "source": [
    "np.isinf(trk[\"trk_pt\"]).value_counts()"
   ]
  },
  {
   "cell_type": "code",
   "execution_count": 188,
   "metadata": {},
   "outputs": [
    {
     "name": "stdout",
     "output_type": "stream",
     "text": [
      "-----------------trk_pt---------------\n",
      "NAN? \n",
      " False    40780722\n",
      "Name: trk_pt, dtype: int64\n",
      "INF? \n",
      " False    40780640\n",
      "True           82\n",
      "Name: trk_pt, dtype: int64\n",
      "-----------------trk_eta---------------\n",
      "NAN? \n",
      " False    40780640\n",
      "True           82\n",
      "Name: trk_eta, dtype: int64\n",
      "INF? \n",
      " False    40780722\n",
      "Name: trk_eta, dtype: int64\n",
      "-----------------trk_phi---------------\n",
      "NAN? \n",
      " False    40780722\n",
      "Name: trk_phi, dtype: int64\n",
      "INF? \n",
      " False    40780722\n",
      "Name: trk_phi, dtype: int64\n",
      "-----------------trk_d0---------------\n",
      "NAN? \n",
      " False    40780722\n",
      "Name: trk_d0, dtype: int64\n",
      "INF? \n",
      " False    40780722\n",
      "Name: trk_d0, dtype: int64\n",
      "-----------------trk_z0---------------\n",
      "NAN? \n",
      " False    40780722\n",
      "Name: trk_z0, dtype: int64\n",
      "INF? \n",
      " False    40780722\n",
      "Name: trk_z0, dtype: int64\n",
      "-----------------trk_fake---------------\n",
      "NAN? \n",
      " False    40780722\n",
      "Name: trk_fake, dtype: int64\n",
      "INF? \n",
      " False    40780722\n",
      "Name: trk_fake, dtype: int64\n"
     ]
    }
   ],
   "source": [
    "for feature in trk.columns:\n",
    "    print(f\"-----------------{feature}---------------\")\n",
    "    print(\"NAN? \\n\", trk[feature].isna().value_counts())\n",
    "    print(\"INF? \\n\", np.isinf(trk[feature]).value_counts())"
   ]
  },
  {
   "cell_type": "code",
   "execution_count": 189,
   "metadata": {},
   "outputs": [],
   "source": [
    "pd.set_option(\"display.max_rows\", 100)"
   ]
  },
  {
   "cell_type": "markdown",
   "metadata": {},
   "source": [
    "**Conclusion of inf/nan eda: It seems that there are some cases where there is no $\\eta$ information available (NaN) as well as infinite values for the $p_T$. There doesn't seem to be a physical/ logical reason for this at the moment so lets drop these away**"
   ]
  },
  {
   "cell_type": "code",
   "execution_count": 190,
   "metadata": {},
   "outputs": [
    {
     "data": {
      "text/html": [
       "<div>\n",
       "<style scoped>\n",
       "    .dataframe tbody tr th:only-of-type {\n",
       "        vertical-align: middle;\n",
       "    }\n",
       "\n",
       "    .dataframe tbody tr th {\n",
       "        vertical-align: top;\n",
       "    }\n",
       "\n",
       "    .dataframe thead th {\n",
       "        text-align: right;\n",
       "    }\n",
       "</style>\n",
       "<table border=\"1\" class=\"dataframe\">\n",
       "  <thead>\n",
       "    <tr style=\"text-align: right;\">\n",
       "      <th></th>\n",
       "      <th></th>\n",
       "      <th>trk_pt</th>\n",
       "      <th>trk_eta</th>\n",
       "      <th>trk_phi</th>\n",
       "      <th>trk_d0</th>\n",
       "      <th>trk_z0</th>\n",
       "      <th>trk_fake</th>\n",
       "    </tr>\n",
       "    <tr>\n",
       "      <th>entry</th>\n",
       "      <th>subentry</th>\n",
       "      <th></th>\n",
       "      <th></th>\n",
       "      <th></th>\n",
       "      <th></th>\n",
       "      <th></th>\n",
       "      <th></th>\n",
       "    </tr>\n",
       "  </thead>\n",
       "  <tbody>\n",
       "    <tr>\n",
       "      <th rowspan=\"5\" valign=\"top\">0</th>\n",
       "      <th>0</th>\n",
       "      <td>2.623967</td>\n",
       "      <td>1.301414</td>\n",
       "      <td>-0.289234</td>\n",
       "      <td>999.0</td>\n",
       "      <td>-0.878906</td>\n",
       "      <td>2</td>\n",
       "    </tr>\n",
       "    <tr>\n",
       "      <th>1</th>\n",
       "      <td>3.435026</td>\n",
       "      <td>0.566814</td>\n",
       "      <td>-0.159267</td>\n",
       "      <td>999.0</td>\n",
       "      <td>3.339844</td>\n",
       "      <td>2</td>\n",
       "    </tr>\n",
       "    <tr>\n",
       "      <th>2</th>\n",
       "      <td>3.774908</td>\n",
       "      <td>1.815973</td>\n",
       "      <td>-0.240375</td>\n",
       "      <td>999.0</td>\n",
       "      <td>4.921875</td>\n",
       "      <td>1</td>\n",
       "    </tr>\n",
       "    <tr>\n",
       "      <th>3</th>\n",
       "      <td>2.641448</td>\n",
       "      <td>-1.435747</td>\n",
       "      <td>-0.128747</td>\n",
       "      <td>999.0</td>\n",
       "      <td>-0.468750</td>\n",
       "      <td>2</td>\n",
       "    </tr>\n",
       "    <tr>\n",
       "      <th>4</th>\n",
       "      <td>2.320653</td>\n",
       "      <td>1.837421</td>\n",
       "      <td>0.032604</td>\n",
       "      <td>999.0</td>\n",
       "      <td>4.980469</td>\n",
       "      <td>1</td>\n",
       "    </tr>\n",
       "    <tr>\n",
       "      <th>...</th>\n",
       "      <th>...</th>\n",
       "      <td>...</td>\n",
       "      <td>...</td>\n",
       "      <td>...</td>\n",
       "      <td>...</td>\n",
       "      <td>...</td>\n",
       "      <td>...</td>\n",
       "    </tr>\n",
       "    <tr>\n",
       "      <th rowspan=\"5\" valign=\"top\">222975</th>\n",
       "      <th>211</th>\n",
       "      <td>2.044568</td>\n",
       "      <td>-2.407456</td>\n",
       "      <td>-0.857553</td>\n",
       "      <td>999.0</td>\n",
       "      <td>1.113281</td>\n",
       "      <td>2</td>\n",
       "    </tr>\n",
       "    <tr>\n",
       "      <th>212</th>\n",
       "      <td>2.491473</td>\n",
       "      <td>-2.141478</td>\n",
       "      <td>-0.616329</td>\n",
       "      <td>999.0</td>\n",
       "      <td>8.847656</td>\n",
       "      <td>2</td>\n",
       "    </tr>\n",
       "    <tr>\n",
       "      <th>213</th>\n",
       "      <td>2.669393</td>\n",
       "      <td>2.230316</td>\n",
       "      <td>-0.748241</td>\n",
       "      <td>999.0</td>\n",
       "      <td>-0.234375</td>\n",
       "      <td>2</td>\n",
       "    </tr>\n",
       "    <tr>\n",
       "      <th>214</th>\n",
       "      <td>3.767222</td>\n",
       "      <td>-1.994298</td>\n",
       "      <td>-0.753691</td>\n",
       "      <td>999.0</td>\n",
       "      <td>-4.746094</td>\n",
       "      <td>2</td>\n",
       "    </tr>\n",
       "    <tr>\n",
       "      <th>215</th>\n",
       "      <td>1.988538</td>\n",
       "      <td>-2.052655</td>\n",
       "      <td>-0.790385</td>\n",
       "      <td>999.0</td>\n",
       "      <td>0.996094</td>\n",
       "      <td>2</td>\n",
       "    </tr>\n",
       "  </tbody>\n",
       "</table>\n",
       "<p>40780640 rows × 6 columns</p>\n",
       "</div>"
      ],
      "text/plain": [
       "                   trk_pt   trk_eta   trk_phi  trk_d0    trk_z0  trk_fake\n",
       "entry  subentry                                                          \n",
       "0      0         2.623967  1.301414 -0.289234   999.0 -0.878906         2\n",
       "       1         3.435026  0.566814 -0.159267   999.0  3.339844         2\n",
       "       2         3.774908  1.815973 -0.240375   999.0  4.921875         1\n",
       "       3         2.641448 -1.435747 -0.128747   999.0 -0.468750         2\n",
       "       4         2.320653  1.837421  0.032604   999.0  4.980469         1\n",
       "...                   ...       ...       ...     ...       ...       ...\n",
       "222975 211       2.044568 -2.407456 -0.857553   999.0  1.113281         2\n",
       "       212       2.491473 -2.141478 -0.616329   999.0  8.847656         2\n",
       "       213       2.669393  2.230316 -0.748241   999.0 -0.234375         2\n",
       "       214       3.767222 -1.994298 -0.753691   999.0 -4.746094         2\n",
       "       215       1.988538 -2.052655 -0.790385   999.0  0.996094         2\n",
       "\n",
       "[40780640 rows x 6 columns]"
      ]
     },
     "execution_count": 190,
     "metadata": {},
     "output_type": "execute_result"
    }
   ],
   "source": [
    "trk.loc[~trk[\"trk_eta\"].isna()]"
   ]
  },
  {
   "cell_type": "code",
   "execution_count": 191,
   "metadata": {},
   "outputs": [],
   "source": [
    "def remove_nans(df: pd.DataFrame, feature: str = \"trk_eta\") -> pd.DataFrame:\n",
    "    return df.loc[~df[feature].isna()]"
   ]
  },
  {
   "cell_type": "code",
   "execution_count": 192,
   "metadata": {},
   "outputs": [],
   "source": [
    "trk = remove_nans(trk, feature=\"trk_eta\")"
   ]
  },
  {
   "cell_type": "markdown",
   "metadata": {},
   "source": [
    "**Create truth labels of primary vertex**"
   ]
  },
  {
   "cell_type": "code",
   "execution_count": 193,
   "metadata": {},
   "outputs": [],
   "source": [
    "def create_pv_truth_labels(\n",
    "    df: pd.DataFrame, truth_label: str = \"trk_fake\", truth_label_out: str = \"is_pv\"\n",
    ") -> pd.DataFrame:\n",
    "\n",
    "    df[truth_label_out] = 0\n",
    "    df.loc[df[truth_label] == 1, truth_label_out] = 1\n",
    "\n",
    "    return df"
   ]
  },
  {
   "cell_type": "code",
   "execution_count": 194,
   "metadata": {},
   "outputs": [],
   "source": [
    "trk = create_pv_truth_labels(trk, truth_label=\"trk_fake\", truth_label_out=\"is_pv\")"
   ]
  },
  {
   "cell_type": "code",
   "execution_count": 19,
   "metadata": {},
   "outputs": [
    {
     "data": {
      "text/html": [
       "<div>\n",
       "<style scoped>\n",
       "    .dataframe tbody tr th:only-of-type {\n",
       "        vertical-align: middle;\n",
       "    }\n",
       "\n",
       "    .dataframe tbody tr th {\n",
       "        vertical-align: top;\n",
       "    }\n",
       "\n",
       "    .dataframe thead th {\n",
       "        text-align: right;\n",
       "    }\n",
       "</style>\n",
       "<table border=\"1\" class=\"dataframe\">\n",
       "  <thead>\n",
       "    <tr style=\"text-align: right;\">\n",
       "      <th></th>\n",
       "      <th></th>\n",
       "      <th>trk_pt</th>\n",
       "      <th>trk_eta</th>\n",
       "      <th>trk_phi</th>\n",
       "      <th>trk_d0</th>\n",
       "      <th>trk_z0</th>\n",
       "      <th>trk_fake</th>\n",
       "      <th>is_pv</th>\n",
       "    </tr>\n",
       "    <tr>\n",
       "      <th>entry</th>\n",
       "      <th>subentry</th>\n",
       "      <th></th>\n",
       "      <th></th>\n",
       "      <th></th>\n",
       "      <th></th>\n",
       "      <th></th>\n",
       "      <th></th>\n",
       "      <th></th>\n",
       "    </tr>\n",
       "  </thead>\n",
       "  <tbody>\n",
       "    <tr>\n",
       "      <th rowspan=\"5\" valign=\"top\">0</th>\n",
       "      <th>0</th>\n",
       "      <td>2.623967</td>\n",
       "      <td>1.301414</td>\n",
       "      <td>-0.289234</td>\n",
       "      <td>999.0</td>\n",
       "      <td>-0.878906</td>\n",
       "      <td>2</td>\n",
       "      <td>0</td>\n",
       "    </tr>\n",
       "    <tr>\n",
       "      <th>1</th>\n",
       "      <td>3.435026</td>\n",
       "      <td>0.566814</td>\n",
       "      <td>-0.159267</td>\n",
       "      <td>999.0</td>\n",
       "      <td>3.339844</td>\n",
       "      <td>2</td>\n",
       "      <td>0</td>\n",
       "    </tr>\n",
       "    <tr>\n",
       "      <th>2</th>\n",
       "      <td>3.774908</td>\n",
       "      <td>1.815973</td>\n",
       "      <td>-0.240375</td>\n",
       "      <td>999.0</td>\n",
       "      <td>4.921875</td>\n",
       "      <td>1</td>\n",
       "      <td>1</td>\n",
       "    </tr>\n",
       "    <tr>\n",
       "      <th>3</th>\n",
       "      <td>2.641448</td>\n",
       "      <td>-1.435747</td>\n",
       "      <td>-0.128747</td>\n",
       "      <td>999.0</td>\n",
       "      <td>-0.468750</td>\n",
       "      <td>2</td>\n",
       "      <td>0</td>\n",
       "    </tr>\n",
       "    <tr>\n",
       "      <th>4</th>\n",
       "      <td>2.320653</td>\n",
       "      <td>1.837421</td>\n",
       "      <td>0.032604</td>\n",
       "      <td>999.0</td>\n",
       "      <td>4.980469</td>\n",
       "      <td>1</td>\n",
       "      <td>1</td>\n",
       "    </tr>\n",
       "    <tr>\n",
       "      <th>...</th>\n",
       "      <th>...</th>\n",
       "      <td>...</td>\n",
       "      <td>...</td>\n",
       "      <td>...</td>\n",
       "      <td>...</td>\n",
       "      <td>...</td>\n",
       "      <td>...</td>\n",
       "      <td>...</td>\n",
       "    </tr>\n",
       "    <tr>\n",
       "      <th rowspan=\"5\" valign=\"top\">222975</th>\n",
       "      <th>211</th>\n",
       "      <td>2.044568</td>\n",
       "      <td>-2.407456</td>\n",
       "      <td>-0.857553</td>\n",
       "      <td>999.0</td>\n",
       "      <td>1.113281</td>\n",
       "      <td>2</td>\n",
       "      <td>0</td>\n",
       "    </tr>\n",
       "    <tr>\n",
       "      <th>212</th>\n",
       "      <td>2.491473</td>\n",
       "      <td>-2.141478</td>\n",
       "      <td>-0.616329</td>\n",
       "      <td>999.0</td>\n",
       "      <td>8.847656</td>\n",
       "      <td>2</td>\n",
       "      <td>0</td>\n",
       "    </tr>\n",
       "    <tr>\n",
       "      <th>213</th>\n",
       "      <td>2.669393</td>\n",
       "      <td>2.230316</td>\n",
       "      <td>-0.748241</td>\n",
       "      <td>999.0</td>\n",
       "      <td>-0.234375</td>\n",
       "      <td>2</td>\n",
       "      <td>0</td>\n",
       "    </tr>\n",
       "    <tr>\n",
       "      <th>214</th>\n",
       "      <td>3.767222</td>\n",
       "      <td>-1.994298</td>\n",
       "      <td>-0.753691</td>\n",
       "      <td>999.0</td>\n",
       "      <td>-4.746094</td>\n",
       "      <td>2</td>\n",
       "      <td>0</td>\n",
       "    </tr>\n",
       "    <tr>\n",
       "      <th>215</th>\n",
       "      <td>1.988538</td>\n",
       "      <td>-2.052655</td>\n",
       "      <td>-0.790385</td>\n",
       "      <td>999.0</td>\n",
       "      <td>0.996094</td>\n",
       "      <td>2</td>\n",
       "      <td>0</td>\n",
       "    </tr>\n",
       "  </tbody>\n",
       "</table>\n",
       "<p>40780640 rows × 7 columns</p>\n",
       "</div>"
      ],
      "text/plain": [
       "                   trk_pt   trk_eta   trk_phi  trk_d0    trk_z0  trk_fake  \\\n",
       "entry  subentry                                                             \n",
       "0      0         2.623967  1.301414 -0.289234   999.0 -0.878906         2   \n",
       "       1         3.435026  0.566814 -0.159267   999.0  3.339844         2   \n",
       "       2         3.774908  1.815973 -0.240375   999.0  4.921875         1   \n",
       "       3         2.641448 -1.435747 -0.128747   999.0 -0.468750         2   \n",
       "       4         2.320653  1.837421  0.032604   999.0  4.980469         1   \n",
       "...                   ...       ...       ...     ...       ...       ...   \n",
       "222975 211       2.044568 -2.407456 -0.857553   999.0  1.113281         2   \n",
       "       212       2.491473 -2.141478 -0.616329   999.0  8.847656         2   \n",
       "       213       2.669393  2.230316 -0.748241   999.0 -0.234375         2   \n",
       "       214       3.767222 -1.994298 -0.753691   999.0 -4.746094         2   \n",
       "       215       1.988538 -2.052655 -0.790385   999.0  0.996094         2   \n",
       "\n",
       "                 is_pv  \n",
       "entry  subentry         \n",
       "0      0             0  \n",
       "       1             0  \n",
       "       2             1  \n",
       "       3             0  \n",
       "       4             1  \n",
       "...                ...  \n",
       "222975 211           0  \n",
       "       212           0  \n",
       "       213           0  \n",
       "       214           0  \n",
       "       215           0  \n",
       "\n",
       "[40780640 rows x 7 columns]"
      ]
     },
     "execution_count": 19,
     "metadata": {},
     "output_type": "execute_result"
    }
   ],
   "source": [
    "trk"
   ]
  },
  {
   "cell_type": "markdown",
   "metadata": {},
   "source": [
    "# FastHisto Algorithm Development (Single Event)"
   ]
  },
  {
   "cell_type": "code",
   "execution_count": 20,
   "metadata": {},
   "outputs": [],
   "source": [
    "e1 = trk.query(\"entry==0\").copy()"
   ]
  },
  {
   "cell_type": "code",
   "execution_count": 21,
   "metadata": {},
   "outputs": [],
   "source": [
    "tp_e1 = tp.query(\"entry==0\").copy()"
   ]
  },
  {
   "cell_type": "code",
   "execution_count": 22,
   "metadata": {},
   "outputs": [
    {
     "data": {
      "text/plain": [
       "tp_pt      tp_eta     tp_phi     tp_d0      tp_z0      tp_eventid\n",
       "2.001049   -2.054922  -0.967860  -0.000764  -0.367673  153           1\n",
       "3.031496    1.188693   0.379719   0.000038  -1.915808  44            1\n",
       "2.898700    1.458428  -2.449849  -0.000067  -1.916268  44            1\n",
       "2.914866    1.954846  -1.833646   0.001749  -1.147969  78            1\n",
       "2.928734   -1.193379   0.240557   0.000811   2.722564  93            1\n",
       "                                                                    ..\n",
       "2.323342    1.872302  -2.434791  -0.000320   3.158887  73            1\n",
       "2.324431    1.153279  -0.342064   0.000384  -0.957170  180           1\n",
       "2.335640    2.006726  -1.436634   0.001297   5.206273  170           1\n",
       "2.340254    1.608032   1.363557  -0.000215  -2.971305  26            1\n",
       "30.443727  -1.433386   0.742923   0.330537   5.046057  0             1\n",
       "Length: 152, dtype: int64"
      ]
     },
     "execution_count": 22,
     "metadata": {},
     "output_type": "execute_result"
    }
   ],
   "source": [
    "tp_e1.value_counts()"
   ]
  },
  {
   "cell_type": "markdown",
   "metadata": {},
   "source": [
    "**Histogram level comparison**"
   ]
  },
  {
   "cell_type": "code",
   "execution_count": 23,
   "metadata": {},
   "outputs": [],
   "source": [
    "be = np.linspace(-15, 15, 256)"
   ]
  },
  {
   "cell_type": "code",
   "execution_count": 24,
   "metadata": {},
   "outputs": [],
   "source": [
    "bw = be[1] - be[0]"
   ]
  },
  {
   "cell_type": "code",
   "execution_count": 25,
   "metadata": {},
   "outputs": [
    {
     "data": {
      "text/plain": [
       "(-8.0, 8.0)"
      ]
     },
     "execution_count": 25,
     "metadata": {},
     "output_type": "execute_result"
    },
    {
     "data": {
      "image/png": "[encoded data removed]",
      "text/plain": [
       "<Figure size 1728x576 with 1 Axes>"
      ]
     },
     "metadata": {
      "needs_background": "light"
     },
     "output_type": "display_data"
    }
   ],
   "source": [
    "plt.subplots(figsize=(24, 8))\n",
    "htrk, be, _ = plt.hist(\n",
    "    e1.trk_z0, bins=be, weights=e1.trk_pt, label=\"track\", histtype=\"step\", lw=2\n",
    ")\n",
    "_ = plt.hist(\n",
    "    tp_e1.tp_z0,\n",
    "    bins=be,\n",
    "    weights=tp_e1.tp_pt,\n",
    "    label=\"truth\",\n",
    "    histtype=\"step\",\n",
    "    lw=2,\n",
    "    ls=\"--\",\n",
    "    zorder=1,\n",
    ")\n",
    "htrk_c = np.convolve(htrk, [1, 1, 1], mode=\"same\")\n",
    "hep.histplot(htrk_c, be, label=\"track (convolved)\")\n",
    "plt.legend(loc=\"upper left\")\n",
    "plt.xlim(-8, 8)"
   ]
  },
  {
   "cell_type": "code",
   "execution_count": 26,
   "metadata": {},
   "outputs": [],
   "source": [
    "max_index = np.argmax(htrk_c)"
   ]
  },
  {
   "cell_type": "code",
   "execution_count": 27,
   "metadata": {},
   "outputs": [
    {
     "data": {
      "text/plain": [
       "169"
      ]
     },
     "execution_count": 27,
     "metadata": {},
     "output_type": "execute_result"
    }
   ],
   "source": [
    "max_index"
   ]
  },
  {
   "cell_type": "code",
   "execution_count": 28,
   "metadata": {},
   "outputs": [
    {
     "data": {
      "text/plain": [
       "numpy.int64"
      ]
     },
     "execution_count": 28,
     "metadata": {},
     "output_type": "execute_result"
    }
   ],
   "source": [
    "type(max_index)"
   ]
  },
  {
   "cell_type": "code",
   "execution_count": 29,
   "metadata": {},
   "outputs": [],
   "source": [
    "def z0_fh(bin_edges: np.array, max_index: int) -> float:\n",
    "    half_bin_width = 0.5 * (bin_edges[1] - bin_edges[0])\n",
    "    lowest_bin = bin_edges[0]\n",
    "    highest_bin = bin_edges[-1]\n",
    "    nbins = bin_edges.shape[0]\n",
    "\n",
    "    z0 = lowest_bin + (highest_bin - lowest_bin) * (max_index / nbins) + half_bin_width\n",
    "\n",
    "    return z0"
   ]
  },
  {
   "cell_type": "code",
   "execution_count": 30,
   "metadata": {},
   "outputs": [],
   "source": [
    "z0_reco = z0_fh(be, max_index=max_index)"
   ]
  },
  {
   "cell_type": "code",
   "execution_count": 31,
   "metadata": {},
   "outputs": [
    {
     "data": {
      "text/plain": [
       "4.8635110294117645"
      ]
     },
     "execution_count": 31,
     "metadata": {},
     "output_type": "execute_result"
    }
   ],
   "source": [
    "z0_reco"
   ]
  },
  {
   "cell_type": "code",
   "execution_count": 32,
   "metadata": {},
   "outputs": [],
   "source": [
    "e1[\"z0_reco\"] = z0_reco"
   ]
  },
  {
   "cell_type": "code",
   "execution_count": 33,
   "metadata": {},
   "outputs": [
    {
     "data": {
      "text/html": [
       "<div>\n",
       "<style scoped>\n",
       "    .dataframe tbody tr th:only-of-type {\n",
       "        vertical-align: middle;\n",
       "    }\n",
       "\n",
       "    .dataframe tbody tr th {\n",
       "        vertical-align: top;\n",
       "    }\n",
       "\n",
       "    .dataframe thead th {\n",
       "        text-align: right;\n",
       "    }\n",
       "</style>\n",
       "<table border=\"1\" class=\"dataframe\">\n",
       "  <thead>\n",
       "    <tr style=\"text-align: right;\">\n",
       "      <th></th>\n",
       "      <th></th>\n",
       "      <th>trk_pt</th>\n",
       "      <th>trk_eta</th>\n",
       "      <th>trk_phi</th>\n",
       "      <th>trk_d0</th>\n",
       "      <th>trk_z0</th>\n",
       "      <th>trk_fake</th>\n",
       "      <th>is_pv</th>\n",
       "      <th>z0_reco</th>\n",
       "    </tr>\n",
       "    <tr>\n",
       "      <th>entry</th>\n",
       "      <th>subentry</th>\n",
       "      <th></th>\n",
       "      <th></th>\n",
       "      <th></th>\n",
       "      <th></th>\n",
       "      <th></th>\n",
       "      <th></th>\n",
       "      <th></th>\n",
       "      <th></th>\n",
       "    </tr>\n",
       "  </thead>\n",
       "  <tbody>\n",
       "    <tr>\n",
       "      <th rowspan=\"11\" valign=\"top\">0</th>\n",
       "      <th>0</th>\n",
       "      <td>2.623967</td>\n",
       "      <td>1.301414</td>\n",
       "      <td>-0.289234</td>\n",
       "      <td>999.0</td>\n",
       "      <td>-0.878906</td>\n",
       "      <td>2</td>\n",
       "      <td>0</td>\n",
       "      <td>4.863511</td>\n",
       "    </tr>\n",
       "    <tr>\n",
       "      <th>1</th>\n",
       "      <td>3.435026</td>\n",
       "      <td>0.566814</td>\n",
       "      <td>-0.159267</td>\n",
       "      <td>999.0</td>\n",
       "      <td>3.339844</td>\n",
       "      <td>2</td>\n",
       "      <td>0</td>\n",
       "      <td>4.863511</td>\n",
       "    </tr>\n",
       "    <tr>\n",
       "      <th>2</th>\n",
       "      <td>3.774908</td>\n",
       "      <td>1.815973</td>\n",
       "      <td>-0.240375</td>\n",
       "      <td>999.0</td>\n",
       "      <td>4.921875</td>\n",
       "      <td>1</td>\n",
       "      <td>1</td>\n",
       "      <td>4.863511</td>\n",
       "    </tr>\n",
       "    <tr>\n",
       "      <th>3</th>\n",
       "      <td>2.641448</td>\n",
       "      <td>-1.435747</td>\n",
       "      <td>-0.128747</td>\n",
       "      <td>999.0</td>\n",
       "      <td>-0.468750</td>\n",
       "      <td>2</td>\n",
       "      <td>0</td>\n",
       "      <td>4.863511</td>\n",
       "    </tr>\n",
       "    <tr>\n",
       "      <th>4</th>\n",
       "      <td>2.320653</td>\n",
       "      <td>1.837421</td>\n",
       "      <td>0.032604</td>\n",
       "      <td>999.0</td>\n",
       "      <td>4.980469</td>\n",
       "      <td>1</td>\n",
       "      <td>1</td>\n",
       "      <td>4.863511</td>\n",
       "    </tr>\n",
       "    <tr>\n",
       "      <th>...</th>\n",
       "      <td>...</td>\n",
       "      <td>...</td>\n",
       "      <td>...</td>\n",
       "      <td>...</td>\n",
       "      <td>...</td>\n",
       "      <td>...</td>\n",
       "      <td>...</td>\n",
       "      <td>...</td>\n",
       "    </tr>\n",
       "    <tr>\n",
       "      <th>154</th>\n",
       "      <td>2.026653</td>\n",
       "      <td>-2.021094</td>\n",
       "      <td>-1.062191</td>\n",
       "      <td>999.0</td>\n",
       "      <td>-0.410156</td>\n",
       "      <td>2</td>\n",
       "      <td>0</td>\n",
       "      <td>4.863511</td>\n",
       "    </tr>\n",
       "    <tr>\n",
       "      <th>155</th>\n",
       "      <td>2.049097</td>\n",
       "      <td>-2.055119</td>\n",
       "      <td>-0.964472</td>\n",
       "      <td>999.0</td>\n",
       "      <td>-0.410156</td>\n",
       "      <td>2</td>\n",
       "      <td>0</td>\n",
       "      <td>4.863511</td>\n",
       "    </tr>\n",
       "    <tr>\n",
       "      <th>156</th>\n",
       "      <td>2.222179</td>\n",
       "      <td>-2.426809</td>\n",
       "      <td>-0.693084</td>\n",
       "      <td>999.0</td>\n",
       "      <td>5.566406</td>\n",
       "      <td>2</td>\n",
       "      <td>0</td>\n",
       "      <td>4.863511</td>\n",
       "    </tr>\n",
       "    <tr>\n",
       "      <th>157</th>\n",
       "      <td>2.563973</td>\n",
       "      <td>2.081842</td>\n",
       "      <td>-0.530004</td>\n",
       "      <td>999.0</td>\n",
       "      <td>-3.046875</td>\n",
       "      <td>2</td>\n",
       "      <td>0</td>\n",
       "      <td>4.863511</td>\n",
       "    </tr>\n",
       "    <tr>\n",
       "      <th>158</th>\n",
       "      <td>2.303798</td>\n",
       "      <td>1.335547</td>\n",
       "      <td>-0.274176</td>\n",
       "      <td>999.0</td>\n",
       "      <td>4.804688</td>\n",
       "      <td>2</td>\n",
       "      <td>0</td>\n",
       "      <td>4.863511</td>\n",
       "    </tr>\n",
       "  </tbody>\n",
       "</table>\n",
       "<p>159 rows × 8 columns</p>\n",
       "</div>"
      ],
      "text/plain": [
       "                  trk_pt   trk_eta   trk_phi  trk_d0    trk_z0  trk_fake  \\\n",
       "entry subentry                                                             \n",
       "0     0         2.623967  1.301414 -0.289234   999.0 -0.878906         2   \n",
       "      1         3.435026  0.566814 -0.159267   999.0  3.339844         2   \n",
       "      2         3.774908  1.815973 -0.240375   999.0  4.921875         1   \n",
       "      3         2.641448 -1.435747 -0.128747   999.0 -0.468750         2   \n",
       "      4         2.320653  1.837421  0.032604   999.0  4.980469         1   \n",
       "...                  ...       ...       ...     ...       ...       ...   \n",
       "      154       2.026653 -2.021094 -1.062191   999.0 -0.410156         2   \n",
       "      155       2.049097 -2.055119 -0.964472   999.0 -0.410156         2   \n",
       "      156       2.222179 -2.426809 -0.693084   999.0  5.566406         2   \n",
       "      157       2.563973  2.081842 -0.530004   999.0 -3.046875         2   \n",
       "      158       2.303798  1.335547 -0.274176   999.0  4.804688         2   \n",
       "\n",
       "                is_pv   z0_reco  \n",
       "entry subentry                   \n",
       "0     0             0  4.863511  \n",
       "      1             0  4.863511  \n",
       "      2             1  4.863511  \n",
       "      3             0  4.863511  \n",
       "      4             1  4.863511  \n",
       "...               ...       ...  \n",
       "      154           0  4.863511  \n",
       "      155           0  4.863511  \n",
       "      156           0  4.863511  \n",
       "      157           0  4.863511  \n",
       "      158           0  4.863511  \n",
       "\n",
       "[159 rows x 8 columns]"
      ]
     },
     "execution_count": 33,
     "metadata": {},
     "output_type": "execute_result"
    }
   ],
   "source": [
    "e1"
   ]
  },
  {
   "cell_type": "code",
   "execution_count": 34,
   "metadata": {},
   "outputs": [
    {
     "data": {
      "text/plain": [
       "0.66709495"
      ]
     },
     "execution_count": 34,
     "metadata": {},
     "output_type": "execute_result"
    }
   ],
   "source": [
    "np.abs(tp_e1.loc[tp_e1[\"tp_eventid\"] == 0][\"tp_eta\"]).mean()"
   ]
  },
  {
   "cell_type": "code",
   "execution_count": 35,
   "metadata": {},
   "outputs": [],
   "source": [
    "eta_bins = np.array([0.0, 0.7, 1.0, 1.2, 1.6, 2.0, 2.4])\n",
    "deltaz_bins = np.array([0.0, 0.4, 0.6, 0.76, 1.0, 1.7, 2.2, 0.0])"
   ]
  },
  {
   "cell_type": "code",
   "execution_count": 36,
   "metadata": {},
   "outputs": [],
   "source": [
    "e1[\"resolution\"] = np.abs(e1[\"trk_z0\"] - e1[\"z0_reco\"])"
   ]
  },
  {
   "cell_type": "code",
   "execution_count": 37,
   "metadata": {},
   "outputs": [],
   "source": [
    "def fh_associate(resolution: np.array, eta: np.array) -> np.array(np.float32):\n",
    "    global eta_bins\n",
    "    global deltaz_bins\n",
    "\n",
    "    eta_bin = np.digitize(np.abs(eta), eta_bins)\n",
    "    assoc = resolution < deltaz_bins[eta_bin]\n",
    "\n",
    "    return np.array(assoc, dtype=np.float32)"
   ]
  },
  {
   "cell_type": "code",
   "execution_count": 38,
   "metadata": {},
   "outputs": [],
   "source": [
    "e1[\"assoc\"] = fh_associate(resolution=e1[\"resolution\"], eta=e1[\"trk_eta\"])"
   ]
  },
  {
   "cell_type": "code",
   "execution_count": 39,
   "metadata": {},
   "outputs": [
    {
     "data": {
      "text/html": [
       "<div>\n",
       "<style scoped>\n",
       "    .dataframe tbody tr th:only-of-type {\n",
       "        vertical-align: middle;\n",
       "    }\n",
       "\n",
       "    .dataframe tbody tr th {\n",
       "        vertical-align: top;\n",
       "    }\n",
       "\n",
       "    .dataframe thead th {\n",
       "        text-align: right;\n",
       "    }\n",
       "</style>\n",
       "<table border=\"1\" class=\"dataframe\">\n",
       "  <thead>\n",
       "    <tr style=\"text-align: right;\">\n",
       "      <th></th>\n",
       "      <th></th>\n",
       "      <th>trk_pt</th>\n",
       "      <th>trk_eta</th>\n",
       "      <th>trk_phi</th>\n",
       "      <th>trk_d0</th>\n",
       "      <th>trk_z0</th>\n",
       "      <th>trk_fake</th>\n",
       "      <th>is_pv</th>\n",
       "      <th>z0_reco</th>\n",
       "      <th>resolution</th>\n",
       "      <th>assoc</th>\n",
       "    </tr>\n",
       "    <tr>\n",
       "      <th>entry</th>\n",
       "      <th>subentry</th>\n",
       "      <th></th>\n",
       "      <th></th>\n",
       "      <th></th>\n",
       "      <th></th>\n",
       "      <th></th>\n",
       "      <th></th>\n",
       "      <th></th>\n",
       "      <th></th>\n",
       "      <th></th>\n",
       "      <th></th>\n",
       "    </tr>\n",
       "  </thead>\n",
       "  <tbody>\n",
       "    <tr>\n",
       "      <th rowspan=\"11\" valign=\"top\">0</th>\n",
       "      <th>0</th>\n",
       "      <td>2.623967</td>\n",
       "      <td>1.301414</td>\n",
       "      <td>-0.289234</td>\n",
       "      <td>999.0</td>\n",
       "      <td>-0.878906</td>\n",
       "      <td>2</td>\n",
       "      <td>0</td>\n",
       "      <td>4.863511</td>\n",
       "      <td>5.742417</td>\n",
       "      <td>0.0</td>\n",
       "    </tr>\n",
       "    <tr>\n",
       "      <th>1</th>\n",
       "      <td>3.435026</td>\n",
       "      <td>0.566814</td>\n",
       "      <td>-0.159267</td>\n",
       "      <td>999.0</td>\n",
       "      <td>3.339844</td>\n",
       "      <td>2</td>\n",
       "      <td>0</td>\n",
       "      <td>4.863511</td>\n",
       "      <td>1.523667</td>\n",
       "      <td>0.0</td>\n",
       "    </tr>\n",
       "    <tr>\n",
       "      <th>2</th>\n",
       "      <td>3.774908</td>\n",
       "      <td>1.815973</td>\n",
       "      <td>-0.240375</td>\n",
       "      <td>999.0</td>\n",
       "      <td>4.921875</td>\n",
       "      <td>1</td>\n",
       "      <td>1</td>\n",
       "      <td>4.863511</td>\n",
       "      <td>0.058364</td>\n",
       "      <td>1.0</td>\n",
       "    </tr>\n",
       "    <tr>\n",
       "      <th>3</th>\n",
       "      <td>2.641448</td>\n",
       "      <td>-1.435747</td>\n",
       "      <td>-0.128747</td>\n",
       "      <td>999.0</td>\n",
       "      <td>-0.468750</td>\n",
       "      <td>2</td>\n",
       "      <td>0</td>\n",
       "      <td>4.863511</td>\n",
       "      <td>5.332261</td>\n",
       "      <td>0.0</td>\n",
       "    </tr>\n",
       "    <tr>\n",
       "      <th>4</th>\n",
       "      <td>2.320653</td>\n",
       "      <td>1.837421</td>\n",
       "      <td>0.032604</td>\n",
       "      <td>999.0</td>\n",
       "      <td>4.980469</td>\n",
       "      <td>1</td>\n",
       "      <td>1</td>\n",
       "      <td>4.863511</td>\n",
       "      <td>0.116958</td>\n",
       "      <td>1.0</td>\n",
       "    </tr>\n",
       "    <tr>\n",
       "      <th>...</th>\n",
       "      <td>...</td>\n",
       "      <td>...</td>\n",
       "      <td>...</td>\n",
       "      <td>...</td>\n",
       "      <td>...</td>\n",
       "      <td>...</td>\n",
       "      <td>...</td>\n",
       "      <td>...</td>\n",
       "      <td>...</td>\n",
       "      <td>...</td>\n",
       "    </tr>\n",
       "    <tr>\n",
       "      <th>154</th>\n",
       "      <td>2.026653</td>\n",
       "      <td>-2.021094</td>\n",
       "      <td>-1.062191</td>\n",
       "      <td>999.0</td>\n",
       "      <td>-0.410156</td>\n",
       "      <td>2</td>\n",
       "      <td>0</td>\n",
       "      <td>4.863511</td>\n",
       "      <td>5.273667</td>\n",
       "      <td>0.0</td>\n",
       "    </tr>\n",
       "    <tr>\n",
       "      <th>155</th>\n",
       "      <td>2.049097</td>\n",
       "      <td>-2.055119</td>\n",
       "      <td>-0.964472</td>\n",
       "      <td>999.0</td>\n",
       "      <td>-0.410156</td>\n",
       "      <td>2</td>\n",
       "      <td>0</td>\n",
       "      <td>4.863511</td>\n",
       "      <td>5.273667</td>\n",
       "      <td>0.0</td>\n",
       "    </tr>\n",
       "    <tr>\n",
       "      <th>156</th>\n",
       "      <td>2.222179</td>\n",
       "      <td>-2.426809</td>\n",
       "      <td>-0.693084</td>\n",
       "      <td>999.0</td>\n",
       "      <td>5.566406</td>\n",
       "      <td>2</td>\n",
       "      <td>0</td>\n",
       "      <td>4.863511</td>\n",
       "      <td>0.702895</td>\n",
       "      <td>0.0</td>\n",
       "    </tr>\n",
       "    <tr>\n",
       "      <th>157</th>\n",
       "      <td>2.563973</td>\n",
       "      <td>2.081842</td>\n",
       "      <td>-0.530004</td>\n",
       "      <td>999.0</td>\n",
       "      <td>-3.046875</td>\n",
       "      <td>2</td>\n",
       "      <td>0</td>\n",
       "      <td>4.863511</td>\n",
       "      <td>7.910386</td>\n",
       "      <td>0.0</td>\n",
       "    </tr>\n",
       "    <tr>\n",
       "      <th>158</th>\n",
       "      <td>2.303798</td>\n",
       "      <td>1.335547</td>\n",
       "      <td>-0.274176</td>\n",
       "      <td>999.0</td>\n",
       "      <td>4.804688</td>\n",
       "      <td>2</td>\n",
       "      <td>0</td>\n",
       "      <td>4.863511</td>\n",
       "      <td>0.058824</td>\n",
       "      <td>1.0</td>\n",
       "    </tr>\n",
       "  </tbody>\n",
       "</table>\n",
       "<p>159 rows × 10 columns</p>\n",
       "</div>"
      ],
      "text/plain": [
       "                  trk_pt   trk_eta   trk_phi  trk_d0    trk_z0  trk_fake  \\\n",
       "entry subentry                                                             \n",
       "0     0         2.623967  1.301414 -0.289234   999.0 -0.878906         2   \n",
       "      1         3.435026  0.566814 -0.159267   999.0  3.339844         2   \n",
       "      2         3.774908  1.815973 -0.240375   999.0  4.921875         1   \n",
       "      3         2.641448 -1.435747 -0.128747   999.0 -0.468750         2   \n",
       "      4         2.320653  1.837421  0.032604   999.0  4.980469         1   \n",
       "...                  ...       ...       ...     ...       ...       ...   \n",
       "      154       2.026653 -2.021094 -1.062191   999.0 -0.410156         2   \n",
       "      155       2.049097 -2.055119 -0.964472   999.0 -0.410156         2   \n",
       "      156       2.222179 -2.426809 -0.693084   999.0  5.566406         2   \n",
       "      157       2.563973  2.081842 -0.530004   999.0 -3.046875         2   \n",
       "      158       2.303798  1.335547 -0.274176   999.0  4.804688         2   \n",
       "\n",
       "                is_pv   z0_reco  resolution  assoc  \n",
       "entry subentry                                      \n",
       "0     0             0  4.863511    5.742417    0.0  \n",
       "      1             0  4.863511    1.523667    0.0  \n",
       "      2             1  4.863511    0.058364    1.0  \n",
       "      3             0  4.863511    5.332261    0.0  \n",
       "      4             1  4.863511    0.116958    1.0  \n",
       "...               ...       ...         ...    ...  \n",
       "      154           0  4.863511    5.273667    0.0  \n",
       "      155           0  4.863511    5.273667    0.0  \n",
       "      156           0  4.863511    0.702895    0.0  \n",
       "      157           0  4.863511    7.910386    0.0  \n",
       "      158           0  4.863511    0.058824    1.0  \n",
       "\n",
       "[159 rows x 10 columns]"
      ]
     },
     "execution_count": 39,
     "metadata": {},
     "output_type": "execute_result"
    }
   ],
   "source": [
    "e1"
   ]
  },
  {
   "cell_type": "code",
   "execution_count": 40,
   "metadata": {},
   "outputs": [],
   "source": [
    "from sklearn.metrics import accuracy_score"
   ]
  },
  {
   "cell_type": "code",
   "execution_count": 41,
   "metadata": {},
   "outputs": [
    {
     "data": {
      "text/plain": [
       "0.9308176100628931"
      ]
     },
     "execution_count": 41,
     "metadata": {},
     "output_type": "execute_result"
    }
   ],
   "source": [
    "accuracy_score(e1[\"is_pv\"], e1[\"assoc\"])"
   ]
  },
  {
   "cell_type": "code",
   "execution_count": 42,
   "metadata": {},
   "outputs": [
    {
     "data": {
      "text/html": [
       "<div>\n",
       "<style scoped>\n",
       "    .dataframe tbody tr th:only-of-type {\n",
       "        vertical-align: middle;\n",
       "    }\n",
       "\n",
       "    .dataframe tbody tr th {\n",
       "        vertical-align: top;\n",
       "    }\n",
       "\n",
       "    .dataframe thead th {\n",
       "        text-align: right;\n",
       "    }\n",
       "</style>\n",
       "<table border=\"1\" class=\"dataframe\">\n",
       "  <thead>\n",
       "    <tr style=\"text-align: right;\">\n",
       "      <th></th>\n",
       "      <th></th>\n",
       "      <th>pv_L1reco_z0</th>\n",
       "      <th>pv_L1reco_sum</th>\n",
       "      <th>pv_MC</th>\n",
       "    </tr>\n",
       "    <tr>\n",
       "      <th>entry</th>\n",
       "      <th>subentry</th>\n",
       "      <th></th>\n",
       "      <th></th>\n",
       "      <th></th>\n",
       "    </tr>\n",
       "  </thead>\n",
       "  <tbody>\n",
       "    <tr>\n",
       "      <th>0</th>\n",
       "      <th>0</th>\n",
       "      <td>5.026911</td>\n",
       "      <td>79.777252</td>\n",
       "      <td>5.055163</td>\n",
       "    </tr>\n",
       "    <tr>\n",
       "      <th>1</th>\n",
       "      <th>0</th>\n",
       "      <td>-2.021080</td>\n",
       "      <td>90.041313</td>\n",
       "      <td>-3.608661</td>\n",
       "    </tr>\n",
       "    <tr>\n",
       "      <th>2</th>\n",
       "      <th>0</th>\n",
       "      <td>-0.141508</td>\n",
       "      <td>202.421341</td>\n",
       "      <td>-0.261453</td>\n",
       "    </tr>\n",
       "    <tr>\n",
       "      <th>3</th>\n",
       "      <th>0</th>\n",
       "      <td>2.744174</td>\n",
       "      <td>303.983124</td>\n",
       "      <td>2.803285</td>\n",
       "    </tr>\n",
       "    <tr>\n",
       "      <th>4</th>\n",
       "      <th>0</th>\n",
       "      <td>-1.279072</td>\n",
       "      <td>218.012939</td>\n",
       "      <td>-1.400667</td>\n",
       "    </tr>\n",
       "    <tr>\n",
       "      <th>...</th>\n",
       "      <th>...</th>\n",
       "      <td>...</td>\n",
       "      <td>...</td>\n",
       "      <td>...</td>\n",
       "    </tr>\n",
       "    <tr>\n",
       "      <th>222971</th>\n",
       "      <th>0</th>\n",
       "      <td>-0.672085</td>\n",
       "      <td>223.375061</td>\n",
       "      <td>-0.698029</td>\n",
       "    </tr>\n",
       "    <tr>\n",
       "      <th>222972</th>\n",
       "      <th>0</th>\n",
       "      <td>0.576154</td>\n",
       "      <td>121.422821</td>\n",
       "      <td>0.520282</td>\n",
       "    </tr>\n",
       "    <tr>\n",
       "      <th>222973</th>\n",
       "      <th>0</th>\n",
       "      <td>-3.504717</td>\n",
       "      <td>167.360825</td>\n",
       "      <td>-3.604865</td>\n",
       "    </tr>\n",
       "    <tr>\n",
       "      <th>222974</th>\n",
       "      <th>0</th>\n",
       "      <td>-4.378545</td>\n",
       "      <td>251.187759</td>\n",
       "      <td>-4.483971</td>\n",
       "    </tr>\n",
       "    <tr>\n",
       "      <th>222975</th>\n",
       "      <th>0</th>\n",
       "      <td>1.315115</td>\n",
       "      <td>228.407059</td>\n",
       "      <td>1.365169</td>\n",
       "    </tr>\n",
       "  </tbody>\n",
       "</table>\n",
       "<p>222976 rows × 3 columns</p>\n",
       "</div>"
      ],
      "text/plain": [
       "                 pv_L1reco_z0  pv_L1reco_sum     pv_MC\n",
       "entry  subentry                                       \n",
       "0      0             5.026911      79.777252  5.055163\n",
       "1      0            -2.021080      90.041313 -3.608661\n",
       "2      0            -0.141508     202.421341 -0.261453\n",
       "3      0             2.744174     303.983124  2.803285\n",
       "4      0            -1.279072     218.012939 -1.400667\n",
       "...                       ...            ...       ...\n",
       "222971 0            -0.672085     223.375061 -0.698029\n",
       "222972 0             0.576154     121.422821  0.520282\n",
       "222973 0            -3.504717     167.360825 -3.604865\n",
       "222974 0            -4.378545     251.187759 -4.483971\n",
       "222975 0             1.315115     228.407059  1.365169\n",
       "\n",
       "[222976 rows x 3 columns]"
      ]
     },
     "execution_count": 42,
     "metadata": {},
     "output_type": "execute_result"
    }
   ],
   "source": [
    "mc"
   ]
  },
  {
   "cell_type": "code",
   "execution_count": 43,
   "metadata": {},
   "outputs": [
    {
     "data": {
      "text/plain": [
       "subentry\n",
       "0   -0.191652\n",
       "Name: pv_MC, dtype: float32"
      ]
     },
     "execution_count": 43,
     "metadata": {},
     "output_type": "execute_result"
    }
   ],
   "source": [
    "z0_reco - mc[\"pv_MC\"][0]"
   ]
  },
  {
   "cell_type": "markdown",
   "metadata": {},
   "source": [
    "**Single Event Conclusion: The logic seems to work for a single event, we now need to expand this to all of the events**"
   ]
  },
  {
   "cell_type": "markdown",
   "metadata": {},
   "source": [
    "# Fast Histo Algorithm Development (all events)"
   ]
  },
  {
   "cell_type": "code",
   "execution_count": 44,
   "metadata": {},
   "outputs": [],
   "source": [
    "from matplotlib.colors import LogNorm"
   ]
  },
  {
   "cell_type": "code",
   "execution_count": 305,
   "metadata": {},
   "outputs": [],
   "source": [
    "class PrimaryVertexing(object):\n",
    "    def __init__(self, object):\n",
    "        self.fh_bins = object[\"fh_bins\"]\n",
    "        self.eta_bins = np.array([0.0, 0.7, 1.0, 1.2, 1.6, 2.0, 2.4])\n",
    "        self.deltaz_bins = np.array([0.0, 0.4, 0.6, 0.76, 1.0, 1.7, 2.2, 0.0])\n",
    "        self.test_run = object[\"test_run\"]\n",
    "        self.trk = object[\"track_data\"]\n",
    "        if self.test_run:\n",
    "            self.trk = self.trk.query(\"entry<=10\").copy()\n",
    "        self.mc = object[\"truth_data\"]\n",
    "        print(\"Initialized Primary Vertexing setup\")\n",
    "\n",
    "    def z0_reco_fh(self, max_index: int) -> float:\n",
    "        \"Function returns the reconstructed z0 value for fast histo based on the maximum bin\"\n",
    "        bin_edges = self.fh_bins\n",
    "        half_bin_width = 0.5 * (bin_edges[1] - bin_edges[0])\n",
    "        lowest_bin = bin_edges[0]\n",
    "        highest_bin = bin_edges[-1]\n",
    "        nbins = bin_edges.shape[0]\n",
    "\n",
    "        z0 = (\n",
    "            lowest_bin\n",
    "            + (highest_bin - lowest_bin) * (max_index / nbins)\n",
    "            + half_bin_width\n",
    "        )\n",
    "\n",
    "        return z0\n",
    "\n",
    "    def fh_pv_association(\n",
    "        self, distance_from_pv: np.array, eta: np.array\n",
    "    ) -> np.array(np.float32):\n",
    "\n",
    "        eta_bin = np.digitize(np.abs(eta), self.eta_bins)\n",
    "        assoc = distance_from_pv < self.deltaz_bins[eta_bin]\n",
    "\n",
    "        return np.array(assoc, dtype=np.float32)\n",
    "\n",
    "    def fh(\n",
    "        self, z0: np.array, pt: np.array, eta: np.array, bin_edges: np.array\n",
    "    ) -> pd.Series:\n",
    "        \"Runs fast histo on a single event\"\n",
    "\n",
    "        histo = np.histogram(z0, bins=bin_edges, weights=pt)[0]\n",
    "\n",
    "        histo = np.convolve(histo, [1, 1, 1], mode=\"same\")\n",
    "        max_index = np.argmax(histo)\n",
    "\n",
    "        z0_pv = self.z0_reco_fh(max_index)\n",
    "        z0_array = z0_pv * np.ones(z0.shape[0], dtype=np.float32)\n",
    "\n",
    "        return pd.Series(z0_array)\n",
    "\n",
    "    def run_fh(self):\n",
    "        \"Runs fast histo on all events\"\n",
    "        bin_edges = self.fh_bins\n",
    "        pv_fh = self.trk.groupby(level=0).progress_apply(\n",
    "            lambda x: self.fh(x[\"trk_z0\"], x[\"trk_pt\"], x[\"trk_eta\"], bin_edges)\n",
    "        )\n",
    "\n",
    "        self.trk[\"z0_reco_fh\"] = pv_fh\n",
    "\n",
    "        self.z0_reco_fh = self.trk.groupby(level=0)[\"z0_reco_fh\"].first().values\n",
    "\n",
    "        self.trk[\"distance_from_pv_fh\"] = np.abs(\n",
    "            self.trk[\"z0_reco_fh\"] - self.trk[\"trk_z0\"]\n",
    "        )\n",
    "\n",
    "        self.trk[\"trk_pv_assoc_fh\"] = self.fh_pv_association(\n",
    "            self.trk[\"distance_from_pv_fh\"], self.trk[\"trk_eta\"]\n",
    "        )\n",
    "        self.fh_classification_metrics = self.trk_vertex_association(\n",
    "            self.trk[\"is_pv\"].values, self.trk[\"trk_pv_assoc_fh\"].values\n",
    "        )\n",
    "\n",
    "        print(f\"Ran Fast Histo\")\n",
    "\n",
    "    def dbscan(\n",
    "        self, z0: np.array, pt: pd.Series, eps: float = 0.08, minPts: int = 2\n",
    "    ) -> pd.Series:\n",
    "\n",
    "        _df = pd.DataFrame({})\n",
    "        _df[\"z0\"] = z0\n",
    "        _df[\"pt\"] = pt\n",
    "\n",
    "        db_clustering = DBSCAN(eps=eps, min_samples=minPts).fit(\n",
    "            _df[\"z0\"].values.reshape(-1, 1)\n",
    "        )\n",
    "\n",
    "        _df[\"db_label\"] = db_clustering.labels_\n",
    "\n",
    "        # Negative labels correspond to noise points, so floor pt 0 so they don't become the PV\n",
    "        _df.loc[_df[\"db_label\"] < 0, \"pt\"] = 0\n",
    "\n",
    "        # Determine which DBSCAN label corresponds to the primary vertex.\n",
    "        pv_label = (\n",
    "            _df.groupby([\"db_label\"])[\"pt\"].sum().sort_values(ascending=False).index[0]\n",
    "        )\n",
    "\n",
    "        _df[\"db_pv_label\"] = 0\n",
    "\n",
    "        _df.loc[_df[\"db_label\"] == pv_label, \"db_pv_label\"] = 1\n",
    "\n",
    "        z0_reco = np.median(_df.loc[_df[\"db_pv_label\"] == 1, \"z0\"])\n",
    "        _df[\"z0_reco_db\"] = z0_reco\n",
    "\n",
    "        return _df[[\"db_pv_label\", \"z0_reco_db\"]]\n",
    "\n",
    "    def run_dbscan(self, eps: float = 0.08, minPts: int = 2):\n",
    "\n",
    "        pv_dbscan = self.trk.groupby(level=0).progress_apply(\n",
    "            lambda x: self.dbscan(x[\"trk_z0\"], x[\"trk_pt\"], eps, minPts)\n",
    "        )\n",
    "\n",
    "        self.trk[\"z0_reco_db\"] = pv_dbscan[\"z0_reco_db\"]\n",
    "\n",
    "        self.trk[\"trk_pv_assoc_db\"] = pv_dbscan[\"db_pv_label\"]\n",
    "\n",
    "        print(f\"Ran DBSCAN with eps: {eps}, minPts: {minPts}\")\n",
    "\n",
    "    def trk_vertex_association(self, y_true, y_pred) -> dict:\n",
    "        \"\"\"Calculates Binary Classification metrics\n",
    "        Returns:\n",
    "            dict: classification metrics\n",
    "        \"\"\"\n",
    "\n",
    "        tn, fp, fn, tp = confusion_matrix(y_true, y_pred).ravel()\n",
    "\n",
    "        TPR = tp / (tp + fn)\n",
    "\n",
    "        FPR = fp / (tn + fp)\n",
    "\n",
    "        AUC = roc_auc_score(y_true, y_pred)\n",
    "\n",
    "        return {\n",
    "            \"tn\": tn,\n",
    "            \"fp\": fp,\n",
    "            \"fn\": fn,\n",
    "            \"tp\": tp,\n",
    "            \"TPR\": TPR,\n",
    "            \"FPR\": FPR,\n",
    "            \"AUC\": AUC,\n",
    "        }"
   ]
  },
  {
   "cell_type": "code",
   "execution_count": 310,
   "metadata": {},
   "outputs": [],
   "source": [
    "pv_setup = {\n",
    "    \"fh_bins\": np.linspace(-15, 15, 256),\n",
    "    \"truth_data\": mc,\n",
    "    \"track_data\": trk,\n",
    "    \"test_run\": False,\n",
    "}"
   ]
  },
  {
   "cell_type": "code",
   "execution_count": 311,
   "metadata": {},
   "outputs": [
    {
     "name": "stdout",
     "output_type": "stream",
     "text": [
      "Initialized Primary Vertexing setup\n"
     ]
    }
   ],
   "source": [
    "pv = PrimaryVertexing(pv_setup)"
   ]
  },
  {
   "cell_type": "code",
   "execution_count": 312,
   "metadata": {},
   "outputs": [
    {
     "name": "stderr",
     "output_type": "stream",
     "text": [
      "100%|█████████████████████████████████| 222976/222976 [02:16<00:00, 1628.61it/s]\n"
     ]
    },
    {
     "name": "stdout",
     "output_type": "stream",
     "text": [
      "Ran Fast Histo\n"
     ]
    }
   ],
   "source": [
    "pv.run_fh()"
   ]
  },
  {
   "cell_type": "code",
   "execution_count": null,
   "metadata": {},
   "outputs": [
    {
     "name": "stderr",
     "output_type": "stream",
     "text": [
      " 80%|███████████████████████████▎      | 179281/222976 [09:36<02:16, 320.29it/s]"
     ]
    }
   ],
   "source": [
    "pv.run_dbscan()"
   ]
  },
  {
   "cell_type": "code",
   "execution_count": 317,
   "metadata": {},
   "outputs": [
    {
     "ename": "TypeError",
     "evalue": "write() argument must be str, not bytes",
     "output_type": "error",
     "traceback": [
      "\u001b[0;31m---------------------------------------------------------------------------\u001b[0m",
      "\u001b[0;31mTypeError\u001b[0m                                 Traceback (most recent call last)",
      "\u001b[0;32m/var/folders/6z/z5fs58w94yj6n956c8v6f_6r0000gn/T/ipykernel_16202/1120992815.py\u001b[0m in \u001b[0;36m<module>\u001b[0;34m\u001b[0m\n\u001b[1;32m      1\u001b[0m \u001b[0;32mwith\u001b[0m \u001b[0mopen\u001b[0m\u001b[0;34m(\u001b[0m\u001b[0;34m'/Volumes/ExternalSSD/track/l1_nnt/PV.pkl'\u001b[0m\u001b[0;34m,\u001b[0m\u001b[0;34m'w'\u001b[0m\u001b[0;34m)\u001b[0m \u001b[0;32mas\u001b[0m \u001b[0mf\u001b[0m\u001b[0;34m:\u001b[0m\u001b[0;34m\u001b[0m\u001b[0;34m\u001b[0m\u001b[0m\n\u001b[0;32m----> 2\u001b[0;31m     \u001b[0mpickle\u001b[0m\u001b[0;34m.\u001b[0m\u001b[0mdump\u001b[0m\u001b[0;34m(\u001b[0m\u001b[0mpv\u001b[0m\u001b[0;34m,\u001b[0m \u001b[0mf\u001b[0m\u001b[0;34m)\u001b[0m\u001b[0;34m\u001b[0m\u001b[0;34m\u001b[0m\u001b[0m\n\u001b[0m",
      "\u001b[0;31mTypeError\u001b[0m: write() argument must be str, not bytes"
     ]
    }
   ],
   "source": [
    "with open('/Volumes/ExternalSSD/track/l1_nnt/PV.pkl','w') as f:\n",
    "    pickle.dump(pv, f)"
   ]
  },
  {
   "cell_type": "code",
   "execution_count": 318,
   "metadata": {},
   "outputs": [],
   "source": [
    "picklefile = open(\"/Volumes/ExternalSSD/track/l1_nnt/PV.pickle\", \"wb\")"
   ]
  },
  {
   "cell_type": "code",
   "execution_count": 319,
   "metadata": {},
   "outputs": [],
   "source": [
    "pickle.dump(pv, picklefile)"
   ]
  },
  {
   "cell_type": "code",
   "execution_count": 284,
   "metadata": {
    "tags": []
   },
   "outputs": [],
   "source": [
    "class PerformanceMetrics(object):\n",
    "    def __init__(self, object):\n",
    "        self.trk = object.trk\n",
    "        self.z0_reco_fh = object.z0_reco_fh\n",
    "        self.mc = object.mc\n",
    "        self.z0_gen = self.mc[\"pv_MC\"].values\n",
    "        self.res_fh = self.z0_gen - self.z0_reco_fh\n",
    "        self.delta = 0.1\n",
    "        self.profile_bins = np.arange(-15, 16, 1)\n",
    "\n",
    "        self.correct_bias()\n",
    "\n",
    "    def correct_bias(self):\n",
    "        self.z0_gen_cor = self.z0_gen.copy()\n",
    "        bias = np.median(\n",
    "            (self.z0_gen[self.z0_gen > 0] - self.z0_reco_fh[self.z0_gen > 0])\n",
    "        )\n",
    "        print(bias)\n",
    "        self.z0_gen_cor[self.z0_gen_cor > 0] = (\n",
    "            self.z0_gen_cor[self.z0_gen_cor > 0] - bias\n",
    "        )\n",
    "\n",
    "    def bin_width_error(self, bin_edges):\n",
    "        \"\"\"\n",
    "        Determines the horizontal (x) error of a bin  by calculating half the bin size\n",
    "        :param bin_edges:\n",
    "        :return: xerr array containing the absolute magnitude of the error in x\n",
    "        \"\"\"\n",
    "        # determines the error in a bin by +/- half of the bin_width\n",
    "        xerr = []\n",
    "        for k in range(len(bin_edges)):\n",
    "            if k != (len(bin_edges) - 1):\n",
    "                x1 = bin_edges[k]\n",
    "                x2 = bin_edges[k + 1]\n",
    "                bin_error = (x2 - x1) / 2\n",
    "                xerr.append(bin_error)\n",
    "        xerr = np.asarray(xerr)\n",
    "        return xerr\n",
    "\n",
    "    def pv_efficiency(self, res: np.array, display=False):\n",
    "\n",
    "        diff = np.abs(res)\n",
    "\n",
    "        Npass = (diff <= self.delta).sum()\n",
    "        Ntotal = diff.shape[0]\n",
    "\n",
    "        self.pv_eff = 100 * Npass / Ntotal\n",
    "        if display:\n",
    "            print(f\"{round(self.pv_eff, 2)} %\")\n",
    "\n",
    "    def pv_resolution(\n",
    "        self,\n",
    "        z0_gen: np.array,\n",
    "        z0_reco: np.array,\n",
    "        title: str = \"Primary Vertex Resolution\",\n",
    "    ):\n",
    "\n",
    "        res = z0_gen - z0_reco\n",
    "\n",
    "        q = np.percentile((res), [32, 50, 68])\n",
    "        q_w = round(q[2] - q[0], 3)\n",
    "        RMS = round(np.sqrt(np.mean((res) ** 2)), 2)\n",
    "        median = round(np.median(res), 3)\n",
    "\n",
    "        fig, ax = plt.subplots(1, 1, figsize=(16, 8))\n",
    "\n",
    "        ax.hist(\n",
    "            res,\n",
    "            bins=50,\n",
    "            range=(-5, 5),\n",
    "            histtype=\"step\",\n",
    "            label=\"FH \"\n",
    "            + \"RMS: \"\n",
    "            + str(RMS)\n",
    "            + \"\\nquartile width: \"\n",
    "            + str(q_w)\n",
    "            + \"\\nmedian = \"\n",
    "            + str(median),\n",
    "            lw=2,\n",
    "        )\n",
    "        ax.axvline(median, ls=\"--\", lw=2, color=\"grey\", label=\"median\")\n",
    "        ax.legend()\n",
    "        ax.grid(True)\n",
    "        ax.set_xlabel(r\"$z_{0}^{PV, Gen} - z_{0}^{PV, Reco}$ [cm]\", ha=\"right\", x=1)\n",
    "        ax.set_ylabel(\"Events\", ha=\"right\", y=1)\n",
    "        ax.set_title(title)\n",
    "        ax.set_yscale(\"log\")\n",
    "\n",
    "    def res_vs_z0(\n",
    "        self,\n",
    "        res: np.array,\n",
    "        z0_gen: np.array,\n",
    "        bins: tuple = (50, 50),\n",
    "        hrange: tuple = ((-15, 15), (-5, 5)),\n",
    "        cmap: str = \"magma\",\n",
    "        dolog: bool = True,\n",
    "    ):\n",
    "        #         if res is None:\n",
    "        #             res = self.res_fh\n",
    "        #         if z0_gen is None:\n",
    "        #             z0_gen = self.z0_reco_fh\n",
    "\n",
    "        y = res\n",
    "        x = z0_gen\n",
    "        if dolog:\n",
    "            _ = plt.hist2d(x, y, bins=bins, range=hrange, norm=LogNorm(), cmap=cmap)\n",
    "        else:\n",
    "            _ = plt.hist2d(x, y, bins=bins, range=hrange, cmap=cmap)\n",
    "\n",
    "        plt.xlabel(r\"$z_0^{PV, Gen}$ [cm]\")\n",
    "        plt.ylabel(r\"$z_0^{PV, Gen} - z_0^{PV, Reco}$ [cm]\")\n",
    "        plt.colorbar()\n",
    "\n",
    "    def plot_pv_resolution_z0(\n",
    "        self, z0_reco: np.array = None, z0_gen: np.array = None, bins=None, label=None\n",
    "    ):\n",
    "        if bins is None:\n",
    "            bins = self.profile_bins\n",
    "        if z0_gen is None:\n",
    "            z0_gen = self.z0_gen\n",
    "        if z0_reco is None:\n",
    "            z0_reco = self.z0_reco_fh\n",
    "\n",
    "        n_bins = bins.shape[0] - 1\n",
    "        mean_resolution = np.zeros(n_bins)\n",
    "        error_resolution = np.zeros(n_bins)\n",
    "        correctly_reconstructed_mask = np.abs(z0_gen - z0_reco) < self.delta\n",
    "\n",
    "        for i, _ in enumerate(bins):\n",
    "            if i == n_bins:\n",
    "                break\n",
    "\n",
    "            in_bin_mask = pd.Series((z0_gen > bins[i]) & (z0_gen < bins[i + 1]))\n",
    "            mask = in_bin_mask & correctly_reconstructed_mask\n",
    "            resolution = np.abs(z0_gen[mask] - z0_reco[mask])\n",
    "            mean_resolution[i] = np.mean(resolution)\n",
    "            error_resolution[i] = np.std(resolution)\n",
    "\n",
    "        x = 0.5 * (bins[1:] + bins[:-1])\n",
    "        error_x = 0.5 * (bins[1:] - bins[:-1])\n",
    "\n",
    "        plt.errorbar(\n",
    "            x,\n",
    "            mean_resolution,\n",
    "            xerr=error_x,\n",
    "            yerr=error_resolution,\n",
    "            fmt=\"k+\",\n",
    "            label=label,\n",
    "        )\n",
    "        plt.xlabel(r\"$z_0^{PV, Gen}$ [cm] \")\n",
    "        plt.ylabel(r\"$|z_0^{PV, Gen} - z_0^{PV, Reco}|$ [cm]\")\n",
    "        plt.ylim([0.0, 0.1])\n",
    "        plt.legend()\n",
    "\n",
    "    def plot_pv_efficiency_z0(\n",
    "        self,\n",
    "        z0_gen: np.array = None,\n",
    "        z0_reco: np.array = None,\n",
    "        bins=None,\n",
    "        label=None,\n",
    "        xlim: list = [-15, 15],\n",
    "    ):\n",
    "\n",
    "        if bins is None:\n",
    "            bins = self.profile_bins\n",
    "        n_bins = bins.shape[0] - 1\n",
    "        if z0_gen is None:\n",
    "            z0_gen = self.z0_gen\n",
    "        if z0_reco is None:\n",
    "            z0_reco = self.z0_reco_fh\n",
    "\n",
    "        x = 0.5 * (bins[1:] + bins[:-1])\n",
    "        error_x = self.bin_width_error(bins)\n",
    "\n",
    "        results_df = pd.DataFrame({})\n",
    "\n",
    "        eff = np.zeros(n_bins)\n",
    "        error_eff = np.zeros((n_bins, 2))\n",
    "\n",
    "        reconstructed_pvs = np.zeros(n_bins)\n",
    "        total_pvs = np.zeros(n_bins)\n",
    "\n",
    "        for i, _ in enumerate(bins):\n",
    "            if i == n_bins:\n",
    "                break\n",
    "\n",
    "            bin_mask = (z0_gen > bins[i]) & (z0_gen < bins[i + 1])\n",
    "\n",
    "            pv_reconstructed_mask = np.abs(z0_gen - z0_reco) < self.delta\n",
    "\n",
    "            total_pv = z0_gen[bin_mask].shape[0]\n",
    "\n",
    "            reconstructed_pv = z0_gen[bin_mask & pv_reconstructed_mask].shape[0]\n",
    "            try:\n",
    "                eff[i] = reconstructed_pv / total_pv\n",
    "            except:\n",
    "                eff[i] = 1\n",
    "            reconstructed_pvs[i] = reconstructed_pv\n",
    "            total_pvs[i] = total_pv\n",
    "\n",
    "        ci_low, ci_upp = proportion_confint(reconstructed_pvs, total_pvs, method=\"beta\")\n",
    "\n",
    "        results_df[\"x\"] = x\n",
    "        results_df[\"error_x\"] = error_x\n",
    "        results_df[\"eff\"] = eff\n",
    "        results_df[\"ci_low\"] = ci_low\n",
    "        results_df[\"ci_upp\"] = ci_upp\n",
    "        results_df[\"lower_error\"] = results_df[\"eff\"] - results_df[\"ci_low\"]\n",
    "        results_df[\"upper_error\"] = results_df[\"ci_upp\"] - results_df[\"eff\"]\n",
    "\n",
    "        plt.errorbar(\n",
    "            x,\n",
    "            eff,\n",
    "            xerr=error_x,\n",
    "            yerr=[results_df[\"lower_error\"].values, results_df[\"upper_error\"].values],\n",
    "            ls=\"none\",\n",
    "            label=label,\n",
    "        )\n",
    "        plt.xlim(xlim)\n",
    "        plt.ylim(0, 1.1)\n",
    "        plt.ylabel(\"Efficiency\")\n",
    "        plt.xlabel(r\"$z_0^{PV, Gen}$ [cm]\")\n",
    "        plt.legend()"
   ]
  },
  {
   "cell_type": "code",
   "execution_count": 285,
   "metadata": {},
   "outputs": [
    {
     "name": "stdout",
     "output_type": "stream",
     "text": [
      "0.118798494\n"
     ]
    }
   ],
   "source": [
    "pm = PerformanceMetrics(pv)"
   ]
  },
  {
   "cell_type": "code",
   "execution_count": 273,
   "metadata": {},
   "outputs": [
    {
     "name": "stdout",
     "output_type": "stream",
     "text": [
      "74.95 %\n"
     ]
    }
   ],
   "source": [
    "pm.pv_efficiency((pm.z0_gen_cor - pm.z0_reco_fh), display=True)"
   ]
  },
  {
   "cell_type": "code",
   "execution_count": 281,
   "metadata": {},
   "outputs": [
    {
     "data": {
      "image/png": "[encoded data removed]",
      "text/plain": [
       "<Figure size 1152x576 with 1 Axes>"
      ]
     },
     "metadata": {
      "needs_background": "light"
     },
     "output_type": "display_data"
    }
   ],
   "source": [
    "pm.pv_resolution(z0_gen=pm.z0_gen_cor, z0_reco=pm.z0_reco_fh)"
   ]
  },
  {
   "cell_type": "code",
   "execution_count": 282,
   "metadata": {},
   "outputs": [
    {
     "data": {
      "image/png": "[encoded data removed]",
      "text/plain": [
       "<Figure size 720x720 with 2 Axes>"
      ]
     },
     "metadata": {
      "needs_background": "light"
     },
     "output_type": "display_data"
    }
   ],
   "source": [
    "pm.res_vs_z0(pm.res_fh, pm.z0_gen, hrange=((-15, 15), (-1, 1)), dolog=True)"
   ]
  },
  {
   "cell_type": "code",
   "execution_count": 275,
   "metadata": {},
   "outputs": [
    {
     "data": {
      "image/png": "[encoded data removed]",
      "text/plain": [
       "<Figure size 720x720 with 2 Axes>"
      ]
     },
     "metadata": {
      "needs_background": "light"
     },
     "output_type": "display_data"
    }
   ],
   "source": [
    "pm.res_vs_z0(\n",
    "    res=(pm.z0_gen_cor - pm.z0_reco_fh),\n",
    "    z0_gen=pm.z0_gen_cor,\n",
    "    hrange=((-15, 15), (-1, 1)),\n",
    "    dolog=True,\n",
    ")"
   ]
  },
  {
   "cell_type": "code",
   "execution_count": 277,
   "metadata": {},
   "outputs": [
    {
     "name": "stderr",
     "output_type": "stream",
     "text": [
      "WARNING:matplotlib.legend:No handles with labels found to put in legend.\n"
     ]
    },
    {
     "data": {
      "image/png": "[encoded data removed]",
      "text/plain": [
       "<Figure size 720x720 with 1 Axes>"
      ]
     },
     "metadata": {
      "needs_background": "light"
     },
     "output_type": "display_data"
    }
   ],
   "source": [
    "pm.plot_pv_resolution_z0(pm.z0_reco_fh)"
   ]
  },
  {
   "cell_type": "code",
   "execution_count": 286,
   "metadata": {},
   "outputs": [
    {
     "name": "stderr",
     "output_type": "stream",
     "text": [
      "WARNING:matplotlib.legend:No handles with labels found to put in legend.\n"
     ]
    },
    {
     "data": {
      "image/png": "[encoded data removed]",
      "text/plain": [
       "<Figure size 720x720 with 1 Axes>"
      ]
     },
     "metadata": {
      "needs_background": "light"
     },
     "output_type": "display_data"
    }
   ],
   "source": [
    "pm.plot_pv_resolution_z0(z0_gen=pm.z0_gen_cor, z0_reco=pm.z0_reco_fh)"
   ]
  },
  {
   "cell_type": "code",
   "execution_count": 279,
   "metadata": {},
   "outputs": [
    {
     "name": "stderr",
     "output_type": "stream",
     "text": [
      "WARNING:matplotlib.legend:No handles with labels found to put in legend.\n"
     ]
    },
    {
     "data": {
      "image/png": "[encoded data removed]",
      "text/plain": [
       "<Figure size 720x720 with 1 Axes>"
      ]
     },
     "metadata": {
      "needs_background": "light"
     },
     "output_type": "display_data"
    }
   ],
   "source": [
    "pm.plot_pv_efficiency_z0(pm.z0_gen, pm.z0_reco_fh)"
   ]
  },
  {
   "cell_type": "code",
   "execution_count": 280,
   "metadata": {},
   "outputs": [
    {
     "name": "stderr",
     "output_type": "stream",
     "text": [
      "WARNING:matplotlib.legend:No handles with labels found to put in legend.\n"
     ]
    },
    {
     "data": {
      "image/png": "[encoded data removed]",
      "text/plain": [
       "<Figure size 720x720 with 1 Axes>"
      ]
     },
     "metadata": {
      "needs_background": "light"
     },
     "output_type": "display_data"
    }
   ],
   "source": [
    "pm.plot_pv_efficiency_z0(z0_gen=pm.z0_gen_cor, z0_reco=pm.z0_reco_fh)"
   ]
  },
  {
   "cell_type": "code",
   "execution_count": 247,
   "metadata": {},
   "outputs": [
    {
     "data": {
      "text/plain": [
       "-0.059837304"
      ]
     },
     "execution_count": 247,
     "metadata": {},
     "output_type": "execute_result"
    }
   ],
   "source": [
    "np.median(pm.z0_gen_cor)"
   ]
  },
  {
   "cell_type": "code",
   "execution_count": 248,
   "metadata": {},
   "outputs": [
    {
     "data": {
      "text/plain": [
       "-0.00072641973"
      ]
     },
     "execution_count": 248,
     "metadata": {},
     "output_type": "execute_result"
    }
   ],
   "source": [
    "np.median(pm.z0_gen)"
   ]
  },
  {
   "cell_type": "code",
   "execution_count": 249,
   "metadata": {},
   "outputs": [
    {
     "data": {
      "text/plain": [
       "0.118798494"
      ]
     },
     "execution_count": 249,
     "metadata": {},
     "output_type": "execute_result"
    }
   ],
   "source": [
    "np.median(pm.z0_gen[pm.z0_gen > 0] - pm.z0_reco_fh[pm.z0_gen > 0])"
   ]
  },
  {
   "cell_type": "code",
   "execution_count": 252,
   "metadata": {},
   "outputs": [
    {
     "data": {
      "text/plain": [
       "-0.0019552708"
      ]
     },
     "execution_count": 252,
     "metadata": {},
     "output_type": "execute_result"
    }
   ],
   "source": [
    "np.median(pm.z0_gen[pm.z0_gen < 0] - pm.z0_reco_fh[pm.z0_gen < 0])"
   ]
  },
  {
   "cell_type": "code",
   "execution_count": 250,
   "metadata": {},
   "outputs": [
    {
     "data": {
      "text/plain": [
       "0.0011100769"
      ]
     },
     "execution_count": 250,
     "metadata": {},
     "output_type": "execute_result"
    }
   ],
   "source": [
    "np.median(pm.z0_gen_cor[pm.z0_gen_cor > 0] - pm.z0_reco_fh[pm.z0_gen_cor > 0])"
   ]
  },
  {
   "cell_type": "code",
   "execution_count": 251,
   "metadata": {},
   "outputs": [
    {
     "data": {
      "text/plain": [
       "-0.002947569"
      ]
     },
     "execution_count": 251,
     "metadata": {},
     "output_type": "execute_result"
    }
   ],
   "source": [
    "np.median(pm.z0_gen_cor[pm.z0_gen_cor < 0] - pm.z0_reco_fh[pm.z0_gen_cor < 0])"
   ]
  },
  {
   "cell_type": "code",
   "execution_count": 121,
   "metadata": {},
   "outputs": [
    {
     "data": {
      "text/plain": [
       "{'tn': 29615833,\n",
       " 'fp': 4968892,\n",
       " 'fn': 454632,\n",
       " 'tp': 5741283,\n",
       " 'TPR': 0.9266239126908616,\n",
       " 'FPR': 0.14367302327834036,\n",
       " 'AUC': 0.8914754447062607}"
      ]
     },
     "execution_count": 121,
     "metadata": {},
     "output_type": "execute_result"
    }
   ],
   "source": [
    "pv.fh_classification_metrics"
   ]
  },
  {
   "cell_type": "code",
   "execution_count": 122,
   "metadata": {},
   "outputs": [
    {
     "data": {
      "text/plain": [
       "0.8670073838958878"
      ]
     },
     "execution_count": 122,
     "metadata": {},
     "output_type": "execute_result"
    }
   ],
   "source": [
    "accuracy_score(pv.trk[\"is_pv\"], trk[\"trk_pv_assoc_fh\"])"
   ]
  },
  {
   "cell_type": "code",
   "execution_count": null,
   "metadata": {},
   "outputs": [],
   "source": []
  }
 ],
 "metadata": {
  "kernelspec": {
   "display_name": "db-clustering",
   "language": "python",
   "name": "db-clustering"
  },
  "language_info": {
   "codemirror_mode": {
    "name": "ipython",
    "version": 3
   },
   "file_extension": ".py",
   "mimetype": "text/x-python",
   "name": "python",
   "nbconvert_exporter": "python",
   "pygments_lexer": "ipython3",
   "version": "3.8.13"
  }
 },
 "nbformat": 4,
 "nbformat_minor": 4
}
