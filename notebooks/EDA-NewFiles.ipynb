{
 "cells": [
  {
   "cell_type": "code",
   "execution_count": 1,
   "metadata": {},
   "outputs": [],
   "source": [
    "### Reloads modules properly\n",
    "%load_ext autoreload\n",
    "%autoreload 2"
   ]
  },
  {
   "cell_type": "code",
   "execution_count": 2,
   "metadata": {},
   "outputs": [],
   "source": [
    "import os\n",
    "os.sys.path.append('../')"
   ]
  },
  {
   "cell_type": "code",
   "execution_count": 28,
   "metadata": {},
   "outputs": [],
   "source": [
    "import pandas as pd\n",
    "import numpy as np\n",
    "import matplotlib.pyplot as plt\n",
    "import seaborn as sns\n",
    "import mplhep as hep\n",
    "hep.style.use('CMS')"
   ]
  },
  {
   "cell_type": "markdown",
   "metadata": {},
   "source": [
    "# Discover the new file"
   ]
  },
  {
   "cell_type": "code",
   "execution_count": 133,
   "metadata": {},
   "outputs": [
    {
     "name": "stdout",
     "output_type": "stream",
     "text": [
      "-rw-r--r-- 1 lborgna users 4.9G Nov 24 17:09 /mnt/storage/lborgna/track/l1_nnt/OldKF_TTbar_170K_quality.root\r\n"
     ]
    }
   ],
   "source": [
    "!ls -lh /mnt/storage/lborgna/track/l1_nnt/OldKF_TTbar_170K_quality.root"
   ]
  },
  {
   "cell_type": "code",
   "execution_count": 4,
   "metadata": {},
   "outputs": [],
   "source": [
    "import uproot"
   ]
  },
  {
   "cell_type": "code",
   "execution_count": 5,
   "metadata": {},
   "outputs": [],
   "source": [
    "f = uproot.open('/mnt/storage/lborgna/track/l1_nnt/OldKF_TTbar_170K_quality.root')"
   ]
  },
  {
   "cell_type": "code",
   "execution_count": 6,
   "metadata": {},
   "outputs": [
    {
     "data": {
      "text/plain": [
       "['L1TrackNtuple;1', 'L1TrackNtuple/eventTree;1']"
      ]
     },
     "execution_count": 6,
     "metadata": {},
     "output_type": "execute_result"
    }
   ],
   "source": [
    "f.keys()"
   ]
  },
  {
   "cell_type": "code",
   "execution_count": 7,
   "metadata": {},
   "outputs": [],
   "source": [
    "t = f['L1TrackNtuple/eventTree;1']"
   ]
  },
  {
   "cell_type": "code",
   "execution_count": 8,
   "metadata": {},
   "outputs": [
    {
     "data": {
      "text/plain": [
       "['trk_pt',\n",
       " 'trk_eta',\n",
       " 'trk_phi',\n",
       " 'trk_d0',\n",
       " 'trk_z0',\n",
       " 'trk_chi2',\n",
       " 'trk_chi2dof',\n",
       " 'trk_chi2rphi',\n",
       " 'trk_chi2rz',\n",
       " 'trk_bendchi2',\n",
       " 'trk_nstub',\n",
       " 'trk_lhits',\n",
       " 'trk_dhits',\n",
       " 'trk_seed',\n",
       " 'trk_hitpattern',\n",
       " 'trk_phiSector',\n",
       " 'trk_genuine',\n",
       " 'trk_loose',\n",
       " 'trk_unknown',\n",
       " 'trk_combinatoric',\n",
       " 'trk_fake',\n",
       " 'trk_MVA1',\n",
       " 'trk_MVA2',\n",
       " 'trk_matchtp_pdgid',\n",
       " 'trk_matchtp_pt',\n",
       " 'trk_matchtp_eta',\n",
       " 'trk_matchtp_phi',\n",
       " 'trk_matchtp_z0',\n",
       " 'trk_matchtp_dxy',\n",
       " 'KFtrk_inv2R',\n",
       " 'KFtrk_cot',\n",
       " 'KFtrk_zT',\n",
       " 'KFtrk_phiT',\n",
       " 'KFtrk_match',\n",
       " 'KFtrk_etasector',\n",
       " 'KFtrk_phisector',\n",
       " 'KFtrk_r1',\n",
       " 'KFtrk_phi1',\n",
       " 'KFtrk_z1',\n",
       " 'KFtrk_dPhi1',\n",
       " 'KFtrk_dZ1',\n",
       " 'KFtrk_layer1',\n",
       " 'KFtrk_r2',\n",
       " 'KFtrk_phi2',\n",
       " 'KFtrk_z2',\n",
       " 'KFtrk_dPhi2',\n",
       " 'KFtrk_dZ2',\n",
       " 'KFtrk_layer2',\n",
       " 'KFtrk_r3',\n",
       " 'KFtrk_phi3',\n",
       " 'KFtrk_z3',\n",
       " 'KFtrk_dPhi3',\n",
       " 'KFtrk_dZ3',\n",
       " 'KFtrk_layer3',\n",
       " 'KFtrk_r4',\n",
       " 'KFtrk_phi4',\n",
       " 'KFtrk_z4',\n",
       " 'KFtrk_dPhi4',\n",
       " 'KFtrk_dZ4',\n",
       " 'KFtrk_layer4',\n",
       " 'tp_pt',\n",
       " 'tp_eta',\n",
       " 'tp_phi',\n",
       " 'tp_dxy',\n",
       " 'tp_d0',\n",
       " 'tp_z0',\n",
       " 'tp_d0_prod',\n",
       " 'tp_z0_prod',\n",
       " 'tp_pdgid',\n",
       " 'tp_nmatch',\n",
       " 'tp_nstub',\n",
       " 'tp_eventid',\n",
       " 'tp_charge',\n",
       " 'matchtrk_pt',\n",
       " 'matchtrk_eta',\n",
       " 'matchtrk_phi',\n",
       " 'matchtrk_z0',\n",
       " 'matchtrk_d0',\n",
       " 'matchtrk_chi2',\n",
       " 'matchtrk_chi2dof',\n",
       " 'matchtrk_chi2rphi',\n",
       " 'matchtrk_chi2rz',\n",
       " 'matchtrk_bendchi2',\n",
       " 'matchtrk_MVA1',\n",
       " 'matchtrk_MVA2',\n",
       " 'matchtrk_nstub',\n",
       " 'matchtrk_lhits',\n",
       " 'matchtrk_dhits',\n",
       " 'matchtrk_seed',\n",
       " 'matchtrk_hitpattern',\n",
       " 'pv_L1reco_z0',\n",
       " 'pv_L1reco_sum',\n",
       " 'pv_MC',\n",
       " 'pv_HepMC',\n",
       " 'pv_MC',\n",
       " '2ltrkjet_eta',\n",
       " '2ltrkjet_vz',\n",
       " '2ltrkjet_p',\n",
       " '2ltrkjet_pt',\n",
       " '2ltrkjet_phi',\n",
       " '2ltrkjet_ntracks',\n",
       " '2ltrkjet_nDisplaced',\n",
       " '2ltrkjet_nTight',\n",
       " '2ltrkjet_nTightDisplaced',\n",
       " 'trkjet_eta',\n",
       " 'trkjet_vz',\n",
       " 'trkjet_p',\n",
       " 'trkjet_pt',\n",
       " 'trkjet_phi',\n",
       " 'trkjet_ntracks',\n",
       " 'trkjet_truetp_sumpt',\n",
       " 'trueMET',\n",
       " 'trueMETPx',\n",
       " 'trueMETPy',\n",
       " 'trueMETPhi',\n",
       " 'genMET',\n",
       " 'genMETPx',\n",
       " 'genMETPy',\n",
       " 'genMETPhi',\n",
       " 'trkMET',\n",
       " 'trkMHT',\n",
       " 'trkHT']"
      ]
     },
     "execution_count": 8,
     "metadata": {},
     "output_type": "execute_result"
    }
   ],
   "source": [
    "t.keys()"
   ]
  },
  {
   "cell_type": "code",
   "execution_count": 17,
   "metadata": {},
   "outputs": [],
   "source": [
    "columns = ['trk_pt','trk_eta','trk_phi','trk_d0','trk_z0','tp_pt','tp_eta','tp_phi','tp_d0','tp_z0','tp_eventid']"
   ]
  },
  {
   "cell_type": "code",
   "execution_count": 19,
   "metadata": {},
   "outputs": [],
   "source": [
    "dfs = t.arrays(columns,library='pd')"
   ]
  },
  {
   "cell_type": "code",
   "execution_count": 86,
   "metadata": {},
   "outputs": [],
   "source": [
    "columns_gen = ['pv_L1reco_z0','pv_L1reco_sum','pv_MC', 'pv_HepMC','tp_pt','tp_d0','tp_z0','tp_eventid']"
   ]
  },
  {
   "cell_type": "code",
   "execution_count": 87,
   "metadata": {},
   "outputs": [],
   "source": [
    "dfs_gen = t.arrays(columns_gen, library='pd')"
   ]
  },
  {
   "cell_type": "code",
   "execution_count": 88,
   "metadata": {},
   "outputs": [
    {
     "data": {
      "text/plain": [
       "3"
      ]
     },
     "execution_count": 88,
     "metadata": {},
     "output_type": "execute_result"
    }
   ],
   "source": [
    "len(dfs_gen)"
   ]
  },
  {
   "cell_type": "code",
   "execution_count": 125,
   "metadata": {},
   "outputs": [],
   "source": [
    "dfs[0].to_pickle('/mnt/storage/lborgna/track/l1_nnt/trk.pkl')\n",
    "dfs[1].to_pickle('/mnt/storage/lborgna/track/l1_nnt/tp.pkl')"
   ]
  },
  {
   "cell_type": "code",
   "execution_count": 127,
   "metadata": {},
   "outputs": [],
   "source": [
    "dfs_gen[0].to_pickle('/mnt/storage/lborgna/track/l1_nnt/mc.pkl')"
   ]
  },
  {
   "cell_type": "code",
   "execution_count": 89,
   "metadata": {},
   "outputs": [
    {
     "data": {
      "text/html": [
       "<div>\n",
       "<style scoped>\n",
       "    .dataframe tbody tr th:only-of-type {\n",
       "        vertical-align: middle;\n",
       "    }\n",
       "\n",
       "    .dataframe tbody tr th {\n",
       "        vertical-align: top;\n",
       "    }\n",
       "\n",
       "    .dataframe thead th {\n",
       "        text-align: right;\n",
       "    }\n",
       "</style>\n",
       "<table border=\"1\" class=\"dataframe\">\n",
       "  <thead>\n",
       "    <tr style=\"text-align: right;\">\n",
       "      <th></th>\n",
       "      <th></th>\n",
       "      <th>pv_L1reco_z0</th>\n",
       "      <th>pv_L1reco_sum</th>\n",
       "      <th>pv_MC</th>\n",
       "    </tr>\n",
       "    <tr>\n",
       "      <th>entry</th>\n",
       "      <th>subentry</th>\n",
       "      <th></th>\n",
       "      <th></th>\n",
       "      <th></th>\n",
       "    </tr>\n",
       "  </thead>\n",
       "  <tbody>\n",
       "    <tr>\n",
       "      <th>0</th>\n",
       "      <th>0</th>\n",
       "      <td>5.026911</td>\n",
       "      <td>79.777252</td>\n",
       "      <td>5.055163</td>\n",
       "    </tr>\n",
       "    <tr>\n",
       "      <th>1</th>\n",
       "      <th>0</th>\n",
       "      <td>-2.021080</td>\n",
       "      <td>90.041313</td>\n",
       "      <td>-3.608661</td>\n",
       "    </tr>\n",
       "    <tr>\n",
       "      <th>2</th>\n",
       "      <th>0</th>\n",
       "      <td>-0.141508</td>\n",
       "      <td>202.421341</td>\n",
       "      <td>-0.261453</td>\n",
       "    </tr>\n",
       "    <tr>\n",
       "      <th>3</th>\n",
       "      <th>0</th>\n",
       "      <td>2.744174</td>\n",
       "      <td>303.983124</td>\n",
       "      <td>2.803285</td>\n",
       "    </tr>\n",
       "    <tr>\n",
       "      <th>4</th>\n",
       "      <th>0</th>\n",
       "      <td>-1.279072</td>\n",
       "      <td>218.012939</td>\n",
       "      <td>-1.400667</td>\n",
       "    </tr>\n",
       "  </tbody>\n",
       "</table>\n",
       "</div>"
      ],
      "text/plain": [
       "                pv_L1reco_z0  pv_L1reco_sum     pv_MC\n",
       "entry subentry                                       \n",
       "0     0             5.026911      79.777252  5.055163\n",
       "1     0            -2.021080      90.041313 -3.608661\n",
       "2     0            -0.141508     202.421341 -0.261453\n",
       "3     0             2.744174     303.983124  2.803285\n",
       "4     0            -1.279072     218.012939 -1.400667"
      ]
     },
     "execution_count": 89,
     "metadata": {},
     "output_type": "execute_result"
    }
   ],
   "source": [
    "dfs_gen[0].head()"
   ]
  },
  {
   "cell_type": "code",
   "execution_count": 129,
   "metadata": {},
   "outputs": [
    {
     "name": "stdout",
     "output_type": "stream",
     "text": [
      "<class 'pandas.core.frame.DataFrame'>\n",
      "MultiIndex: 40780722 entries, (0, 0) to (222975, 215)\n",
      "Data columns (total 5 columns):\n",
      " #   Column   Dtype  \n",
      "---  ------   -----  \n",
      " 0   trk_pt   float32\n",
      " 1   trk_eta  float32\n",
      " 2   trk_phi  float32\n",
      " 3   trk_d0   float32\n",
      " 4   trk_z0   float32\n",
      "dtypes: float32(5)\n",
      "memory usage: 1021.0 MB\n",
      "<class 'pandas.core.frame.DataFrame'>\n",
      "MultiIndex: 39363835 entries, (0, 0) to (222975, 213)\n",
      "Data columns (total 6 columns):\n",
      " #   Column      Dtype  \n",
      "---  ------      -----  \n",
      " 0   tp_pt       float32\n",
      " 1   tp_eta      float32\n",
      " 2   tp_phi      float32\n",
      " 3   tp_d0       float32\n",
      " 4   tp_z0       float32\n",
      " 5   tp_eventid  int32  \n",
      "dtypes: float32(5), int32(1)\n",
      "memory usage: 1.1 GB\n",
      "<class 'pandas.core.frame.DataFrame'>\n",
      "MultiIndex: 222976 entries, (0, 0) to (222975, 0)\n",
      "Data columns (total 3 columns):\n",
      " #   Column         Non-Null Count   Dtype  \n",
      "---  ------         --------------   -----  \n",
      " 0   pv_L1reco_z0   222968 non-null  float32\n",
      " 1   pv_L1reco_sum  222976 non-null  float32\n",
      " 2   pv_MC          222976 non-null  float32\n",
      "dtypes: float32(3)\n",
      "memory usage: 13.4 MB\n",
      "<class 'pandas.core.frame.DataFrame'>\n",
      "MultiIndex: 0 entries\n",
      "Data columns (total 1 columns):\n",
      " #   Column    Non-Null Count  Dtype  \n",
      "---  ------    --------------  -----  \n",
      " 0   pv_HepMC  0 non-null      float32\n",
      "dtypes: float32(1)\n",
      "memory usage: 327.0 bytes\n",
      "<class 'pandas.core.frame.DataFrame'>\n",
      "MultiIndex: 39363835 entries, (0, 0) to (222975, 213)\n",
      "Data columns (total 4 columns):\n",
      " #   Column      Dtype  \n",
      "---  ------      -----  \n",
      " 0   tp_pt       float32\n",
      " 1   tp_d0       float32\n",
      " 2   tp_z0       float32\n",
      " 3   tp_eventid  int32  \n",
      "dtypes: float32(3), int32(1)\n",
      "memory usage: 835.7 MB\n"
     ]
    }
   ],
   "source": [
    "dfs[0].info(memory_usage='deep')\n",
    "dfs[1].info(memory_usage='deep')\n",
    "dfs_gen[0].info(memory_usage='deep')\n",
    "dfs_gen[1].info(memory_usage='deep')\n",
    "dfs_gen[2].info(memory_usage='deep')"
   ]
  },
  {
   "cell_type": "code",
   "execution_count": 91,
   "metadata": {},
   "outputs": [
    {
     "data": {
      "text/html": [
       "<div>\n",
       "<style scoped>\n",
       "    .dataframe tbody tr th:only-of-type {\n",
       "        vertical-align: middle;\n",
       "    }\n",
       "\n",
       "    .dataframe tbody tr th {\n",
       "        vertical-align: top;\n",
       "    }\n",
       "\n",
       "    .dataframe thead th {\n",
       "        text-align: right;\n",
       "    }\n",
       "</style>\n",
       "<table border=\"1\" class=\"dataframe\">\n",
       "  <thead>\n",
       "    <tr style=\"text-align: right;\">\n",
       "      <th></th>\n",
       "      <th></th>\n",
       "      <th>tp_pt</th>\n",
       "      <th>tp_d0</th>\n",
       "      <th>tp_z0</th>\n",
       "      <th>tp_eventid</th>\n",
       "    </tr>\n",
       "    <tr>\n",
       "      <th>entry</th>\n",
       "      <th>subentry</th>\n",
       "      <th></th>\n",
       "      <th></th>\n",
       "      <th></th>\n",
       "      <th></th>\n",
       "    </tr>\n",
       "  </thead>\n",
       "  <tbody>\n",
       "    <tr>\n",
       "      <th rowspan=\"5\" valign=\"top\">0</th>\n",
       "      <th>0</th>\n",
       "      <td>2.139707</td>\n",
       "      <td>-0.000188</td>\n",
       "      <td>5.055195</td>\n",
       "      <td>0</td>\n",
       "    </tr>\n",
       "    <tr>\n",
       "      <th>1</th>\n",
       "      <td>3.263992</td>\n",
       "      <td>0.000119</td>\n",
       "      <td>5.055390</td>\n",
       "      <td>0</td>\n",
       "    </tr>\n",
       "    <tr>\n",
       "      <th>2</th>\n",
       "      <td>2.888089</td>\n",
       "      <td>-0.000731</td>\n",
       "      <td>5.055292</td>\n",
       "      <td>0</td>\n",
       "    </tr>\n",
       "    <tr>\n",
       "      <th>3</th>\n",
       "      <td>3.574382</td>\n",
       "      <td>0.000738</td>\n",
       "      <td>5.055151</td>\n",
       "      <td>0</td>\n",
       "    </tr>\n",
       "    <tr>\n",
       "      <th>4</th>\n",
       "      <td>18.492512</td>\n",
       "      <td>-0.000417</td>\n",
       "      <td>5.055228</td>\n",
       "      <td>0</td>\n",
       "    </tr>\n",
       "  </tbody>\n",
       "</table>\n",
       "</div>"
      ],
      "text/plain": [
       "                    tp_pt     tp_d0     tp_z0  tp_eventid\n",
       "entry subentry                                           \n",
       "0     0          2.139707 -0.000188  5.055195           0\n",
       "      1          3.263992  0.000119  5.055390           0\n",
       "      2          2.888089 -0.000731  5.055292           0\n",
       "      3          3.574382  0.000738  5.055151           0\n",
       "      4         18.492512 -0.000417  5.055228           0"
      ]
     },
     "execution_count": 91,
     "metadata": {},
     "output_type": "execute_result"
    }
   ],
   "source": [
    "dfs_gen[2].head()"
   ]
  },
  {
   "cell_type": "code",
   "execution_count": 94,
   "metadata": {},
   "outputs": [
    {
     "data": {
      "text/plain": [
       "Int64Index([     0,      1,      2,      3,      4,      5,      6,      7,\n",
       "                 8,      9,\n",
       "            ...\n",
       "            222966, 222967, 222968, 222969, 222970, 222971, 222972, 222973,\n",
       "            222974, 222975],\n",
       "           dtype='int64', name='entry', length=222941)"
      ]
     },
     "execution_count": 94,
     "metadata": {},
     "output_type": "execute_result"
    }
   ],
   "source": [
    "z0_gen.index"
   ]
  },
  {
   "cell_type": "code",
   "execution_count": 131,
   "metadata": {},
   "outputs": [
    {
     "data": {
      "text/plain": [
       "(222976, 3)"
      ]
     },
     "execution_count": 131,
     "metadata": {},
     "output_type": "execute_result"
    }
   ],
   "source": [
    "dfs_gen[0].shape"
   ]
  },
  {
   "cell_type": "code",
   "execution_count": 132,
   "metadata": {},
   "outputs": [
    {
     "data": {
      "text/plain": [
       "(222976, 5)"
      ]
     },
     "execution_count": 132,
     "metadata": {},
     "output_type": "execute_result"
    }
   ],
   "source": [
    "dfs_gen[0].reset_index().shape"
   ]
  },
  {
   "cell_type": "code",
   "execution_count": 96,
   "metadata": {},
   "outputs": [],
   "source": [
    "pv_MC = dfs_gen[0].groupby(level=0)['pv_MC'].first()"
   ]
  },
  {
   "cell_type": "code",
   "execution_count": 100,
   "metadata": {},
   "outputs": [],
   "source": [
    "results= pd.DataFrame({})\n",
    "results['pv_MC'] = pv_MC\n",
    "results['z0_gen'] = z0_gen\n",
    "results['diff'] = results['pv_MC'] - results['z0_gen']"
   ]
  },
  {
   "cell_type": "code",
   "execution_count": 107,
   "metadata": {},
   "outputs": [
    {
     "data": {
      "image/png": "[encoded data removed]",
      "text/plain": [
       "<Figure size 720x720 with 1 Axes>"
      ]
     },
     "metadata": {
      "needs_background": "light"
     },
     "output_type": "display_data"
    }
   ],
   "source": [
    "_ = plt.hist(results['diff'].values, bins =50, histtype='step') \n",
    "plt.yscale('log')"
   ]
  },
  {
   "cell_type": "code",
   "execution_count": 106,
   "metadata": {},
   "outputs": [
    {
     "data": {
      "image/png": "[encoded data removed]",
      "text/plain": [
       "<Figure size 720x720 with 1 Axes>"
      ]
     },
     "metadata": {
      "needs_background": "light"
     },
     "output_type": "display_data"
    }
   ],
   "source": [
    "_ = plt.hist(results['diff'].values, bins =50, histtype='step', range=(-0.1, 0.1))\n"
   ]
  },
  {
   "cell_type": "code",
   "execution_count": 83,
   "metadata": {},
   "outputs": [
    {
     "data": {
      "text/plain": [
       "entry\n",
       "0         5.054894\n",
       "1        -3.599295\n",
       "2        -0.261687\n",
       "3         2.803424\n",
       "4        -1.400962\n",
       "            ...   \n",
       "222971   -0.698044\n",
       "222972    0.516307\n",
       "222973   -3.605887\n",
       "222974   -4.491471\n",
       "222975    1.365055\n",
       "Name: tp_z0, Length: 222941, dtype: float32"
      ]
     },
     "execution_count": 83,
     "metadata": {},
     "output_type": "execute_result"
    }
   ],
   "source": [
    "z0_gen"
   ]
  },
  {
   "cell_type": "code",
   "execution_count": 77,
   "metadata": {},
   "outputs": [
    {
     "ename": "ValueError",
     "evalue": "Length of values (222941) does not match length of index (222976)",
     "output_type": "error",
     "traceback": [
      "\u001b[0;31m---------------------------------------------------------------------------\u001b[0m",
      "\u001b[0;31mValueError\u001b[0m                                Traceback (most recent call last)",
      "\u001b[0;32m/tmp/ipykernel_3357/3647276417.py\u001b[0m in \u001b[0;36m<module>\u001b[0;34m\u001b[0m\n\u001b[0;32m----> 1\u001b[0;31m \u001b[0mgen\u001b[0m\u001b[0;34m[\u001b[0m\u001b[0;34m'z0_gen'\u001b[0m\u001b[0;34m]\u001b[0m\u001b[0;34m=\u001b[0m\u001b[0mz0_gen\u001b[0m\u001b[0;34m.\u001b[0m\u001b[0mreset_index\u001b[0m\u001b[0;34m(\u001b[0m\u001b[0;34m)\u001b[0m\u001b[0;34m[\u001b[0m\u001b[0;34m'tp_z0'\u001b[0m\u001b[0;34m]\u001b[0m\u001b[0;34m.\u001b[0m\u001b[0mvalues\u001b[0m\u001b[0;34m\u001b[0m\u001b[0;34m\u001b[0m\u001b[0m\n\u001b[0m",
      "\u001b[0;32m/mnt/storage/lborgna/condaenv/db-clustering/lib/python3.8/site-packages/pandas/core/frame.py\u001b[0m in \u001b[0;36m__setitem__\u001b[0;34m(self, key, value)\u001b[0m\n\u001b[1;32m   3610\u001b[0m         \u001b[0;32melse\u001b[0m\u001b[0;34m:\u001b[0m\u001b[0;34m\u001b[0m\u001b[0;34m\u001b[0m\u001b[0m\n\u001b[1;32m   3611\u001b[0m             \u001b[0;31m# set column\u001b[0m\u001b[0;34m\u001b[0m\u001b[0;34m\u001b[0m\u001b[0;34m\u001b[0m\u001b[0m\n\u001b[0;32m-> 3612\u001b[0;31m             \u001b[0mself\u001b[0m\u001b[0;34m.\u001b[0m\u001b[0m_set_item\u001b[0m\u001b[0;34m(\u001b[0m\u001b[0mkey\u001b[0m\u001b[0;34m,\u001b[0m \u001b[0mvalue\u001b[0m\u001b[0;34m)\u001b[0m\u001b[0;34m\u001b[0m\u001b[0;34m\u001b[0m\u001b[0m\n\u001b[0m\u001b[1;32m   3613\u001b[0m \u001b[0;34m\u001b[0m\u001b[0m\n\u001b[1;32m   3614\u001b[0m     \u001b[0;32mdef\u001b[0m \u001b[0m_setitem_slice\u001b[0m\u001b[0;34m(\u001b[0m\u001b[0mself\u001b[0m\u001b[0;34m,\u001b[0m \u001b[0mkey\u001b[0m\u001b[0;34m:\u001b[0m \u001b[0mslice\u001b[0m\u001b[0;34m,\u001b[0m \u001b[0mvalue\u001b[0m\u001b[0;34m)\u001b[0m\u001b[0;34m:\u001b[0m\u001b[0;34m\u001b[0m\u001b[0;34m\u001b[0m\u001b[0m\n",
      "\u001b[0;32m/mnt/storage/lborgna/condaenv/db-clustering/lib/python3.8/site-packages/pandas/core/frame.py\u001b[0m in \u001b[0;36m_set_item\u001b[0;34m(self, key, value)\u001b[0m\n\u001b[1;32m   3782\u001b[0m         \u001b[0mensure\u001b[0m \u001b[0mhomogeneity\u001b[0m\u001b[0;34m.\u001b[0m\u001b[0;34m\u001b[0m\u001b[0;34m\u001b[0m\u001b[0m\n\u001b[1;32m   3783\u001b[0m         \"\"\"\n\u001b[0;32m-> 3784\u001b[0;31m         \u001b[0mvalue\u001b[0m \u001b[0;34m=\u001b[0m \u001b[0mself\u001b[0m\u001b[0;34m.\u001b[0m\u001b[0m_sanitize_column\u001b[0m\u001b[0;34m(\u001b[0m\u001b[0mvalue\u001b[0m\u001b[0;34m)\u001b[0m\u001b[0;34m\u001b[0m\u001b[0;34m\u001b[0m\u001b[0m\n\u001b[0m\u001b[1;32m   3785\u001b[0m \u001b[0;34m\u001b[0m\u001b[0m\n\u001b[1;32m   3786\u001b[0m         if (\n",
      "\u001b[0;32m/mnt/storage/lborgna/condaenv/db-clustering/lib/python3.8/site-packages/pandas/core/frame.py\u001b[0m in \u001b[0;36m_sanitize_column\u001b[0;34m(self, value)\u001b[0m\n\u001b[1;32m   4507\u001b[0m \u001b[0;34m\u001b[0m\u001b[0m\n\u001b[1;32m   4508\u001b[0m         \u001b[0;32mif\u001b[0m \u001b[0mis_list_like\u001b[0m\u001b[0;34m(\u001b[0m\u001b[0mvalue\u001b[0m\u001b[0;34m)\u001b[0m\u001b[0;34m:\u001b[0m\u001b[0;34m\u001b[0m\u001b[0;34m\u001b[0m\u001b[0m\n\u001b[0;32m-> 4509\u001b[0;31m             \u001b[0mcom\u001b[0m\u001b[0;34m.\u001b[0m\u001b[0mrequire_length_match\u001b[0m\u001b[0;34m(\u001b[0m\u001b[0mvalue\u001b[0m\u001b[0;34m,\u001b[0m \u001b[0mself\u001b[0m\u001b[0;34m.\u001b[0m\u001b[0mindex\u001b[0m\u001b[0;34m)\u001b[0m\u001b[0;34m\u001b[0m\u001b[0;34m\u001b[0m\u001b[0m\n\u001b[0m\u001b[1;32m   4510\u001b[0m         \u001b[0;32mreturn\u001b[0m \u001b[0msanitize_array\u001b[0m\u001b[0;34m(\u001b[0m\u001b[0mvalue\u001b[0m\u001b[0;34m,\u001b[0m \u001b[0mself\u001b[0m\u001b[0;34m.\u001b[0m\u001b[0mindex\u001b[0m\u001b[0;34m,\u001b[0m \u001b[0mcopy\u001b[0m\u001b[0;34m=\u001b[0m\u001b[0;32mTrue\u001b[0m\u001b[0;34m,\u001b[0m \u001b[0mallow_2d\u001b[0m\u001b[0;34m=\u001b[0m\u001b[0;32mTrue\u001b[0m\u001b[0;34m)\u001b[0m\u001b[0;34m\u001b[0m\u001b[0;34m\u001b[0m\u001b[0m\n\u001b[1;32m   4511\u001b[0m \u001b[0;34m\u001b[0m\u001b[0m\n",
      "\u001b[0;32m/mnt/storage/lborgna/condaenv/db-clustering/lib/python3.8/site-packages/pandas/core/common.py\u001b[0m in \u001b[0;36mrequire_length_match\u001b[0;34m(data, index)\u001b[0m\n\u001b[1;32m    529\u001b[0m     \"\"\"\n\u001b[1;32m    530\u001b[0m     \u001b[0;32mif\u001b[0m \u001b[0mlen\u001b[0m\u001b[0;34m(\u001b[0m\u001b[0mdata\u001b[0m\u001b[0;34m)\u001b[0m \u001b[0;34m!=\u001b[0m \u001b[0mlen\u001b[0m\u001b[0;34m(\u001b[0m\u001b[0mindex\u001b[0m\u001b[0;34m)\u001b[0m\u001b[0;34m:\u001b[0m\u001b[0;34m\u001b[0m\u001b[0;34m\u001b[0m\u001b[0m\n\u001b[0;32m--> 531\u001b[0;31m         raise ValueError(\n\u001b[0m\u001b[1;32m    532\u001b[0m             \u001b[0;34m\"Length of values \"\u001b[0m\u001b[0;34m\u001b[0m\u001b[0;34m\u001b[0m\u001b[0m\n\u001b[1;32m    533\u001b[0m             \u001b[0;34mf\"({len(data)}) \"\u001b[0m\u001b[0;34m\u001b[0m\u001b[0;34m\u001b[0m\u001b[0m\n",
      "\u001b[0;31mValueError\u001b[0m: Length of values (222941) does not match length of index (222976)"
     ]
    }
   ],
   "source": []
  },
  {
   "cell_type": "code",
   "execution_count": 85,
   "metadata": {},
   "outputs": [
    {
     "data": {
      "text/html": [
       "<div>\n",
       "<style scoped>\n",
       "    .dataframe tbody tr th:only-of-type {\n",
       "        vertical-align: middle;\n",
       "    }\n",
       "\n",
       "    .dataframe tbody tr th {\n",
       "        vertical-align: top;\n",
       "    }\n",
       "\n",
       "    .dataframe thead th {\n",
       "        text-align: right;\n",
       "    }\n",
       "</style>\n",
       "<table border=\"1\" class=\"dataframe\">\n",
       "  <thead>\n",
       "    <tr style=\"text-align: right;\">\n",
       "      <th></th>\n",
       "      <th></th>\n",
       "      <th>pv_L1reco_z0</th>\n",
       "      <th>pv_L1reco_sum</th>\n",
       "      <th>pv_MC</th>\n",
       "    </tr>\n",
       "    <tr>\n",
       "      <th>entry</th>\n",
       "      <th>subentry</th>\n",
       "      <th></th>\n",
       "      <th></th>\n",
       "      <th></th>\n",
       "    </tr>\n",
       "  </thead>\n",
       "  <tbody>\n",
       "    <tr>\n",
       "      <th>0</th>\n",
       "      <th>0</th>\n",
       "      <td>5.026911</td>\n",
       "      <td>79.777252</td>\n",
       "      <td>5.055163</td>\n",
       "    </tr>\n",
       "    <tr>\n",
       "      <th>1</th>\n",
       "      <th>0</th>\n",
       "      <td>-2.021080</td>\n",
       "      <td>90.041313</td>\n",
       "      <td>-3.608661</td>\n",
       "    </tr>\n",
       "    <tr>\n",
       "      <th>2</th>\n",
       "      <th>0</th>\n",
       "      <td>-0.141508</td>\n",
       "      <td>202.421341</td>\n",
       "      <td>-0.261453</td>\n",
       "    </tr>\n",
       "    <tr>\n",
       "      <th>3</th>\n",
       "      <th>0</th>\n",
       "      <td>2.744174</td>\n",
       "      <td>303.983124</td>\n",
       "      <td>2.803285</td>\n",
       "    </tr>\n",
       "    <tr>\n",
       "      <th>4</th>\n",
       "      <th>0</th>\n",
       "      <td>-1.279072</td>\n",
       "      <td>218.012939</td>\n",
       "      <td>-1.400667</td>\n",
       "    </tr>\n",
       "    <tr>\n",
       "      <th>...</th>\n",
       "      <th>...</th>\n",
       "      <td>...</td>\n",
       "      <td>...</td>\n",
       "      <td>...</td>\n",
       "    </tr>\n",
       "    <tr>\n",
       "      <th>222971</th>\n",
       "      <th>0</th>\n",
       "      <td>-0.672085</td>\n",
       "      <td>223.375061</td>\n",
       "      <td>-0.698029</td>\n",
       "    </tr>\n",
       "    <tr>\n",
       "      <th>222972</th>\n",
       "      <th>0</th>\n",
       "      <td>0.576154</td>\n",
       "      <td>121.422821</td>\n",
       "      <td>0.520282</td>\n",
       "    </tr>\n",
       "    <tr>\n",
       "      <th>222973</th>\n",
       "      <th>0</th>\n",
       "      <td>-3.504717</td>\n",
       "      <td>167.360825</td>\n",
       "      <td>-3.604865</td>\n",
       "    </tr>\n",
       "    <tr>\n",
       "      <th>222974</th>\n",
       "      <th>0</th>\n",
       "      <td>-4.378545</td>\n",
       "      <td>251.187759</td>\n",
       "      <td>-4.483971</td>\n",
       "    </tr>\n",
       "    <tr>\n",
       "      <th>222975</th>\n",
       "      <th>0</th>\n",
       "      <td>1.315115</td>\n",
       "      <td>228.407059</td>\n",
       "      <td>1.365169</td>\n",
       "    </tr>\n",
       "  </tbody>\n",
       "</table>\n",
       "<p>222976 rows × 3 columns</p>\n",
       "</div>"
      ],
      "text/plain": [
       "                 pv_L1reco_z0  pv_L1reco_sum     pv_MC\n",
       "entry  subentry                                       \n",
       "0      0             5.026911      79.777252  5.055163\n",
       "1      0            -2.021080      90.041313 -3.608661\n",
       "2      0            -0.141508     202.421341 -0.261453\n",
       "3      0             2.744174     303.983124  2.803285\n",
       "4      0            -1.279072     218.012939 -1.400667\n",
       "...                       ...            ...       ...\n",
       "222971 0            -0.672085     223.375061 -0.698029\n",
       "222972 0             0.576154     121.422821  0.520282\n",
       "222973 0            -3.504717     167.360825 -3.604865\n",
       "222974 0            -4.378545     251.187759 -4.483971\n",
       "222975 0             1.315115     228.407059  1.365169\n",
       "\n",
       "[222976 rows x 3 columns]"
      ]
     },
     "execution_count": 85,
     "metadata": {},
     "output_type": "execute_result"
    }
   ],
   "source": [
    "gen"
   ]
  },
  {
   "cell_type": "code",
   "execution_count": 22,
   "metadata": {},
   "outputs": [],
   "source": [
    "trk = dfs[0]\n",
    "tp = dfs[1]"
   ]
  },
  {
   "cell_type": "code",
   "execution_count": 23,
   "metadata": {},
   "outputs": [
    {
     "data": {
      "text/html": [
       "<div>\n",
       "<style scoped>\n",
       "    .dataframe tbody tr th:only-of-type {\n",
       "        vertical-align: middle;\n",
       "    }\n",
       "\n",
       "    .dataframe tbody tr th {\n",
       "        vertical-align: top;\n",
       "    }\n",
       "\n",
       "    .dataframe thead th {\n",
       "        text-align: right;\n",
       "    }\n",
       "</style>\n",
       "<table border=\"1\" class=\"dataframe\">\n",
       "  <thead>\n",
       "    <tr style=\"text-align: right;\">\n",
       "      <th></th>\n",
       "      <th></th>\n",
       "      <th>tp_pt</th>\n",
       "      <th>tp_eta</th>\n",
       "      <th>tp_phi</th>\n",
       "      <th>tp_d0</th>\n",
       "      <th>tp_z0</th>\n",
       "      <th>tp_eventid</th>\n",
       "    </tr>\n",
       "    <tr>\n",
       "      <th>entry</th>\n",
       "      <th>subentry</th>\n",
       "      <th></th>\n",
       "      <th></th>\n",
       "      <th></th>\n",
       "      <th></th>\n",
       "      <th></th>\n",
       "      <th></th>\n",
       "    </tr>\n",
       "  </thead>\n",
       "  <tbody>\n",
       "    <tr>\n",
       "      <th rowspan=\"5\" valign=\"top\">0</th>\n",
       "      <th>0</th>\n",
       "      <td>2.139707</td>\n",
       "      <td>-0.042819</td>\n",
       "      <td>-2.249776</td>\n",
       "      <td>-0.000188</td>\n",
       "      <td>5.055195</td>\n",
       "      <td>0</td>\n",
       "    </tr>\n",
       "    <tr>\n",
       "      <th>1</th>\n",
       "      <td>3.263992</td>\n",
       "      <td>-0.297909</td>\n",
       "      <td>-2.668668</td>\n",
       "      <td>0.000119</td>\n",
       "      <td>5.055390</td>\n",
       "      <td>0</td>\n",
       "    </tr>\n",
       "    <tr>\n",
       "      <th>2</th>\n",
       "      <td>2.888089</td>\n",
       "      <td>1.501334</td>\n",
       "      <td>-0.832884</td>\n",
       "      <td>-0.000731</td>\n",
       "      <td>5.055292</td>\n",
       "      <td>0</td>\n",
       "    </tr>\n",
       "    <tr>\n",
       "      <th>3</th>\n",
       "      <td>3.574382</td>\n",
       "      <td>-0.151156</td>\n",
       "      <td>2.117383</td>\n",
       "      <td>0.000738</td>\n",
       "      <td>5.055151</td>\n",
       "      <td>0</td>\n",
       "    </tr>\n",
       "    <tr>\n",
       "      <th>4</th>\n",
       "      <td>18.492512</td>\n",
       "      <td>-0.111532</td>\n",
       "      <td>-1.921995</td>\n",
       "      <td>-0.000417</td>\n",
       "      <td>5.055228</td>\n",
       "      <td>0</td>\n",
       "    </tr>\n",
       "  </tbody>\n",
       "</table>\n",
       "</div>"
      ],
      "text/plain": [
       "                    tp_pt    tp_eta    tp_phi     tp_d0     tp_z0  tp_eventid\n",
       "entry subentry                                                               \n",
       "0     0          2.139707 -0.042819 -2.249776 -0.000188  5.055195           0\n",
       "      1          3.263992 -0.297909 -2.668668  0.000119  5.055390           0\n",
       "      2          2.888089  1.501334 -0.832884 -0.000731  5.055292           0\n",
       "      3          3.574382 -0.151156  2.117383  0.000738  5.055151           0\n",
       "      4         18.492512 -0.111532 -1.921995 -0.000417  5.055228           0"
      ]
     },
     "execution_count": 23,
     "metadata": {},
     "output_type": "execute_result"
    }
   ],
   "source": [
    "tp.head()"
   ]
  },
  {
   "cell_type": "code",
   "execution_count": 24,
   "metadata": {},
   "outputs": [],
   "source": [
    "from pv_utils import truth_pv_z0"
   ]
  },
  {
   "cell_type": "code",
   "execution_count": 25,
   "metadata": {},
   "outputs": [],
   "source": [
    "z0_gen = truth_pv_z0(tp)"
   ]
  },
  {
   "cell_type": "code",
   "execution_count": 26,
   "metadata": {},
   "outputs": [
    {
     "data": {
      "text/plain": [
       "entry\n",
       "0         5.054894\n",
       "1        -3.599295\n",
       "2        -0.261687\n",
       "3         2.803424\n",
       "4        -1.400962\n",
       "            ...   \n",
       "222971   -0.698044\n",
       "222972    0.516307\n",
       "222973   -3.605887\n",
       "222974   -4.491471\n",
       "222975    1.365055\n",
       "Name: tp_z0, Length: 222941, dtype: float32"
      ]
     },
     "execution_count": 26,
     "metadata": {},
     "output_type": "execute_result"
    }
   ],
   "source": [
    "z0_gen"
   ]
  },
  {
   "cell_type": "code",
   "execution_count": 31,
   "metadata": {},
   "outputs": [
    {
     "data": {
      "text/plain": [
       "Text(1, 0, '$z_{gen}$')"
      ]
     },
     "execution_count": 31,
     "metadata": {},
     "output_type": "execute_result"
    },
    {
     "data": {
      "image/png": "[encoded data removed]",
      "text/plain": [
       "<Figure size 864x432 with 2 Axes>"
      ]
     },
     "metadata": {
      "needs_background": "light"
     },
     "output_type": "display_data"
    }
   ],
   "source": [
    "fig, ax = plt.subplots(1, 2, figsize=(12, 6))\n",
    "_ = ax[0].hist(z0_gen, bins = 50, histtype='step')\n",
    "_ = ax[1].hist(z0_gen, bins =50, histtype='step', range=(-5, 5))\n",
    "ax[0].set_xlabel(r'$z_{gen}$')\n",
    "ax[1].set_xlabel(r'$z_{gen}$')"
   ]
  },
  {
   "cell_type": "code",
   "execution_count": 41,
   "metadata": {},
   "outputs": [],
   "source": [
    "from pv_utils import run_fast_histo, run_dbscan, primary_vertex_efficiency"
   ]
  },
  {
   "cell_type": "code",
   "execution_count": 35,
   "metadata": {},
   "outputs": [
    {
     "name": "stdout",
     "output_type": "stream",
     "text": [
      "Help on function run_fast_histo in module pv_utils:\n",
      "\n",
      "run_fast_histo(df: pandas.core.frame.DataFrame, bin_edges: <built-in function array>, z0_column: str = 'trk_z0', pt_column: str = 'trk_pt') -> pandas.core.frame.DataFrame\n",
      "    Runs fast histo on all of the available events\n",
      "\n"
     ]
    }
   ],
   "source": [
    "help(run_fast_histo)"
   ]
  },
  {
   "cell_type": "code",
   "execution_count": 37,
   "metadata": {},
   "outputs": [],
   "source": [
    "bin_edges = np.arange(-15, 15+0.25, 0.25)"
   ]
  },
  {
   "cell_type": "code",
   "execution_count": 38,
   "metadata": {},
   "outputs": [
    {
     "name": "stderr",
     "output_type": "stream",
     "text": [
      "/mnt/storage/lborgna/condaenv/db-clustering/lib/python3.8/site-packages/numpy/lib/function_base.py:1292: RuntimeWarning: invalid value encountered in subtract\n",
      "  a = op(a[slice1], a[slice2])\n"
     ]
    }
   ],
   "source": [
    "fast_histo = run_fast_histo(trk, bin_edges, z0_column='trk_z0', pt_column='trk_pt')"
   ]
  },
  {
   "cell_type": "code",
   "execution_count": 42,
   "metadata": {},
   "outputs": [
    {
     "name": "stdout",
     "output_type": "stream",
     "text": [
      "Help on function primary_vertex_efficiency in module pv_utils:\n",
      "\n",
      "primary_vertex_efficiency(z0_gen: <built-in function array>, z0_reco: <built-in function array>, delta: float = 0.1) -> float\n",
      "    Returns the primary vertex reconstruction efficiency, which is dependent on the resolution (delta)\n",
      "\n"
     ]
    }
   ],
   "source": [
    "help(primary_vertex_efficiency)"
   ]
  },
  {
   "cell_type": "code",
   "execution_count": 43,
   "metadata": {},
   "outputs": [
    {
     "data": {
      "text/plain": [
       "63.052107956813686"
      ]
     },
     "execution_count": 43,
     "metadata": {},
     "output_type": "execute_result"
    }
   ],
   "source": [
    "primary_vertex_efficiency(z0_gen, z0_reco=fast_histo)"
   ]
  },
  {
   "cell_type": "code",
   "execution_count": 108,
   "metadata": {},
   "outputs": [
    {
     "data": {
      "text/plain": [
       "63.28483783008036"
      ]
     },
     "execution_count": 108,
     "metadata": {},
     "output_type": "execute_result"
    }
   ],
   "source": [
    "primary_vertex_efficiency(pv_MC, z0_reco=fast_histo)"
   ]
  },
  {
   "cell_type": "code",
   "execution_count": 44,
   "metadata": {},
   "outputs": [],
   "source": [
    "from pv_utils import plot_pv_efficiency_z0"
   ]
  },
  {
   "cell_type": "code",
   "execution_count": 47,
   "metadata": {},
   "outputs": [],
   "source": [
    "bin_edges_plot = np.arange(-15, 15+1, 1)"
   ]
  },
  {
   "cell_type": "code",
   "execution_count": 46,
   "metadata": {},
   "outputs": [
    {
     "name": "stdout",
     "output_type": "stream",
     "text": [
      "Help on function plot_pv_efficiency_z0 in module pv_utils:\n",
      "\n",
      "plot_pv_efficiency_z0(z0_gen: <built-in function array>, z0_reco: <built-in function array>, bin_edges: <built-in function array>, delta: float = 0.1) -> dict\n",
      "\n"
     ]
    }
   ],
   "source": [
    "help(plot_pv_efficiency_z0)"
   ]
  },
  {
   "cell_type": "code",
   "execution_count": 111,
   "metadata": {},
   "outputs": [
    {
     "data": {
      "text/html": [
       "<div>\n",
       "<style scoped>\n",
       "    .dataframe tbody tr th:only-of-type {\n",
       "        vertical-align: middle;\n",
       "    }\n",
       "\n",
       "    .dataframe tbody tr th {\n",
       "        vertical-align: top;\n",
       "    }\n",
       "\n",
       "    .dataframe thead th {\n",
       "        text-align: right;\n",
       "    }\n",
       "</style>\n",
       "<table border=\"1\" class=\"dataframe\">\n",
       "  <thead>\n",
       "    <tr style=\"text-align: right;\">\n",
       "      <th></th>\n",
       "      <th>x</th>\n",
       "      <th>error_x</th>\n",
       "      <th>eff</th>\n",
       "      <th>ci_low</th>\n",
       "      <th>ci_upp</th>\n",
       "      <th>lower_error</th>\n",
       "      <th>upper_error</th>\n",
       "    </tr>\n",
       "  </thead>\n",
       "  <tbody>\n",
       "    <tr>\n",
       "      <th>0</th>\n",
       "      <td>-14.5</td>\n",
       "      <td>0.5</td>\n",
       "      <td>0.644068</td>\n",
       "      <td>0.508684</td>\n",
       "      <td>0.764455</td>\n",
       "      <td>0.135384</td>\n",
       "      <td>0.120388</td>\n",
       "    </tr>\n",
       "    <tr>\n",
       "      <th>1</th>\n",
       "      <td>-13.5</td>\n",
       "      <td>0.5</td>\n",
       "      <td>0.661654</td>\n",
       "      <td>0.574558</td>\n",
       "      <td>0.741373</td>\n",
       "      <td>0.087097</td>\n",
       "      <td>0.079719</td>\n",
       "    </tr>\n",
       "    <tr>\n",
       "      <th>2</th>\n",
       "      <td>-12.5</td>\n",
       "      <td>0.5</td>\n",
       "      <td>0.625000</td>\n",
       "      <td>0.565425</td>\n",
       "      <td>0.681899</td>\n",
       "      <td>0.059575</td>\n",
       "      <td>0.056899</td>\n",
       "    </tr>\n",
       "    <tr>\n",
       "      <th>3</th>\n",
       "      <td>-11.5</td>\n",
       "      <td>0.5</td>\n",
       "      <td>0.604377</td>\n",
       "      <td>0.563773</td>\n",
       "      <td>0.643938</td>\n",
       "      <td>0.040604</td>\n",
       "      <td>0.039561</td>\n",
       "    </tr>\n",
       "    <tr>\n",
       "      <th>4</th>\n",
       "      <td>-10.5</td>\n",
       "      <td>0.5</td>\n",
       "      <td>0.648352</td>\n",
       "      <td>0.617870</td>\n",
       "      <td>0.677957</td>\n",
       "      <td>0.030481</td>\n",
       "      <td>0.029606</td>\n",
       "    </tr>\n",
       "    <tr>\n",
       "      <th>5</th>\n",
       "      <td>-9.5</td>\n",
       "      <td>0.5</td>\n",
       "      <td>0.642398</td>\n",
       "      <td>0.620185</td>\n",
       "      <td>0.664163</td>\n",
       "      <td>0.022213</td>\n",
       "      <td>0.021765</td>\n",
       "    </tr>\n",
       "    <tr>\n",
       "      <th>6</th>\n",
       "      <td>-8.5</td>\n",
       "      <td>0.5</td>\n",
       "      <td>0.646106</td>\n",
       "      <td>0.628396</td>\n",
       "      <td>0.663521</td>\n",
       "      <td>0.017710</td>\n",
       "      <td>0.017415</td>\n",
       "    </tr>\n",
       "    <tr>\n",
       "      <th>7</th>\n",
       "      <td>-7.5</td>\n",
       "      <td>0.5</td>\n",
       "      <td>0.614679</td>\n",
       "      <td>0.600227</td>\n",
       "      <td>0.628980</td>\n",
       "      <td>0.014452</td>\n",
       "      <td>0.014302</td>\n",
       "    </tr>\n",
       "    <tr>\n",
       "      <th>8</th>\n",
       "      <td>-6.5</td>\n",
       "      <td>0.5</td>\n",
       "      <td>0.648865</td>\n",
       "      <td>0.637219</td>\n",
       "      <td>0.660380</td>\n",
       "      <td>0.011646</td>\n",
       "      <td>0.011515</td>\n",
       "    </tr>\n",
       "    <tr>\n",
       "      <th>9</th>\n",
       "      <td>-5.5</td>\n",
       "      <td>0.5</td>\n",
       "      <td>0.633534</td>\n",
       "      <td>0.623552</td>\n",
       "      <td>0.643431</td>\n",
       "      <td>0.009982</td>\n",
       "      <td>0.009897</td>\n",
       "    </tr>\n",
       "    <tr>\n",
       "      <th>10</th>\n",
       "      <td>-4.5</td>\n",
       "      <td>0.5</td>\n",
       "      <td>0.629571</td>\n",
       "      <td>0.620860</td>\n",
       "      <td>0.638219</td>\n",
       "      <td>0.008711</td>\n",
       "      <td>0.008648</td>\n",
       "    </tr>\n",
       "    <tr>\n",
       "      <th>11</th>\n",
       "      <td>-3.5</td>\n",
       "      <td>0.5</td>\n",
       "      <td>0.602579</td>\n",
       "      <td>0.594645</td>\n",
       "      <td>0.610472</td>\n",
       "      <td>0.007934</td>\n",
       "      <td>0.007894</td>\n",
       "    </tr>\n",
       "    <tr>\n",
       "      <th>12</th>\n",
       "      <td>-2.5</td>\n",
       "      <td>0.5</td>\n",
       "      <td>0.627505</td>\n",
       "      <td>0.620264</td>\n",
       "      <td>0.634703</td>\n",
       "      <td>0.007241</td>\n",
       "      <td>0.007198</td>\n",
       "    </tr>\n",
       "    <tr>\n",
       "      <th>13</th>\n",
       "      <td>-1.5</td>\n",
       "      <td>0.5</td>\n",
       "      <td>0.626256</td>\n",
       "      <td>0.619405</td>\n",
       "      <td>0.633069</td>\n",
       "      <td>0.006851</td>\n",
       "      <td>0.006813</td>\n",
       "    </tr>\n",
       "    <tr>\n",
       "      <th>14</th>\n",
       "      <td>-0.5</td>\n",
       "      <td>0.5</td>\n",
       "      <td>0.619887</td>\n",
       "      <td>0.613254</td>\n",
       "      <td>0.626486</td>\n",
       "      <td>0.006633</td>\n",
       "      <td>0.006599</td>\n",
       "    </tr>\n",
       "    <tr>\n",
       "      <th>15</th>\n",
       "      <td>0.5</td>\n",
       "      <td>0.5</td>\n",
       "      <td>0.668468</td>\n",
       "      <td>0.662012</td>\n",
       "      <td>0.674876</td>\n",
       "      <td>0.006456</td>\n",
       "      <td>0.006408</td>\n",
       "    </tr>\n",
       "    <tr>\n",
       "      <th>16</th>\n",
       "      <td>1.5</td>\n",
       "      <td>0.5</td>\n",
       "      <td>0.624269</td>\n",
       "      <td>0.617426</td>\n",
       "      <td>0.631075</td>\n",
       "      <td>0.006843</td>\n",
       "      <td>0.006806</td>\n",
       "    </tr>\n",
       "    <tr>\n",
       "      <th>17</th>\n",
       "      <td>2.5</td>\n",
       "      <td>0.5</td>\n",
       "      <td>0.630560</td>\n",
       "      <td>0.623362</td>\n",
       "      <td>0.637715</td>\n",
       "      <td>0.007198</td>\n",
       "      <td>0.007155</td>\n",
       "    </tr>\n",
       "    <tr>\n",
       "      <th>18</th>\n",
       "      <td>3.5</td>\n",
       "      <td>0.5</td>\n",
       "      <td>0.622299</td>\n",
       "      <td>0.614421</td>\n",
       "      <td>0.630129</td>\n",
       "      <td>0.007878</td>\n",
       "      <td>0.007830</td>\n",
       "    </tr>\n",
       "    <tr>\n",
       "      <th>19</th>\n",
       "      <td>4.5</td>\n",
       "      <td>0.5</td>\n",
       "      <td>0.624292</td>\n",
       "      <td>0.615493</td>\n",
       "      <td>0.633030</td>\n",
       "      <td>0.008799</td>\n",
       "      <td>0.008738</td>\n",
       "    </tr>\n",
       "    <tr>\n",
       "      <th>20</th>\n",
       "      <td>5.5</td>\n",
       "      <td>0.5</td>\n",
       "      <td>0.631630</td>\n",
       "      <td>0.621710</td>\n",
       "      <td>0.641468</td>\n",
       "      <td>0.009920</td>\n",
       "      <td>0.009838</td>\n",
       "    </tr>\n",
       "    <tr>\n",
       "      <th>21</th>\n",
       "      <td>6.5</td>\n",
       "      <td>0.5</td>\n",
       "      <td>0.640460</td>\n",
       "      <td>0.628679</td>\n",
       "      <td>0.652115</td>\n",
       "      <td>0.011781</td>\n",
       "      <td>0.011655</td>\n",
       "    </tr>\n",
       "    <tr>\n",
       "      <th>22</th>\n",
       "      <td>7.5</td>\n",
       "      <td>0.5</td>\n",
       "      <td>0.634756</td>\n",
       "      <td>0.620529</td>\n",
       "      <td>0.648808</td>\n",
       "      <td>0.014226</td>\n",
       "      <td>0.014052</td>\n",
       "    </tr>\n",
       "    <tr>\n",
       "      <th>23</th>\n",
       "      <td>8.5</td>\n",
       "      <td>0.5</td>\n",
       "      <td>0.641166</td>\n",
       "      <td>0.623448</td>\n",
       "      <td>0.658601</td>\n",
       "      <td>0.017719</td>\n",
       "      <td>0.017435</td>\n",
       "    </tr>\n",
       "    <tr>\n",
       "      <th>24</th>\n",
       "      <td>9.5</td>\n",
       "      <td>0.5</td>\n",
       "      <td>0.651416</td>\n",
       "      <td>0.629118</td>\n",
       "      <td>0.673229</td>\n",
       "      <td>0.022298</td>\n",
       "      <td>0.021813</td>\n",
       "    </tr>\n",
       "    <tr>\n",
       "      <th>25</th>\n",
       "      <td>10.5</td>\n",
       "      <td>0.5</td>\n",
       "      <td>0.671016</td>\n",
       "      <td>0.641997</td>\n",
       "      <td>0.699093</td>\n",
       "      <td>0.029019</td>\n",
       "      <td>0.028077</td>\n",
       "    </tr>\n",
       "    <tr>\n",
       "      <th>26</th>\n",
       "      <td>11.5</td>\n",
       "      <td>0.5</td>\n",
       "      <td>0.625506</td>\n",
       "      <td>0.581165</td>\n",
       "      <td>0.668336</td>\n",
       "      <td>0.044341</td>\n",
       "      <td>0.042829</td>\n",
       "    </tr>\n",
       "    <tr>\n",
       "      <th>27</th>\n",
       "      <td>12.5</td>\n",
       "      <td>0.5</td>\n",
       "      <td>0.617424</td>\n",
       "      <td>0.555850</td>\n",
       "      <td>0.676331</td>\n",
       "      <td>0.061575</td>\n",
       "      <td>0.058906</td>\n",
       "    </tr>\n",
       "    <tr>\n",
       "      <th>28</th>\n",
       "      <td>13.5</td>\n",
       "      <td>0.5</td>\n",
       "      <td>0.645570</td>\n",
       "      <td>0.565630</td>\n",
       "      <td>0.719935</td>\n",
       "      <td>0.079939</td>\n",
       "      <td>0.074365</td>\n",
       "    </tr>\n",
       "    <tr>\n",
       "      <th>29</th>\n",
       "      <td>14.5</td>\n",
       "      <td>0.5</td>\n",
       "      <td>0.568182</td>\n",
       "      <td>0.410337</td>\n",
       "      <td>0.716506</td>\n",
       "      <td>0.157845</td>\n",
       "      <td>0.148324</td>\n",
       "    </tr>\n",
       "  </tbody>\n",
       "</table>\n",
       "</div>"
      ],
      "text/plain": [
       "       x  error_x       eff    ci_low    ci_upp  lower_error  upper_error\n",
       "0  -14.5      0.5  0.644068  0.508684  0.764455     0.135384     0.120388\n",
       "1  -13.5      0.5  0.661654  0.574558  0.741373     0.087097     0.079719\n",
       "2  -12.5      0.5  0.625000  0.565425  0.681899     0.059575     0.056899\n",
       "3  -11.5      0.5  0.604377  0.563773  0.643938     0.040604     0.039561\n",
       "4  -10.5      0.5  0.648352  0.617870  0.677957     0.030481     0.029606\n",
       "5   -9.5      0.5  0.642398  0.620185  0.664163     0.022213     0.021765\n",
       "6   -8.5      0.5  0.646106  0.628396  0.663521     0.017710     0.017415\n",
       "7   -7.5      0.5  0.614679  0.600227  0.628980     0.014452     0.014302\n",
       "8   -6.5      0.5  0.648865  0.637219  0.660380     0.011646     0.011515\n",
       "9   -5.5      0.5  0.633534  0.623552  0.643431     0.009982     0.009897\n",
       "10  -4.5      0.5  0.629571  0.620860  0.638219     0.008711     0.008648\n",
       "11  -3.5      0.5  0.602579  0.594645  0.610472     0.007934     0.007894\n",
       "12  -2.5      0.5  0.627505  0.620264  0.634703     0.007241     0.007198\n",
       "13  -1.5      0.5  0.626256  0.619405  0.633069     0.006851     0.006813\n",
       "14  -0.5      0.5  0.619887  0.613254  0.626486     0.006633     0.006599\n",
       "15   0.5      0.5  0.668468  0.662012  0.674876     0.006456     0.006408\n",
       "16   1.5      0.5  0.624269  0.617426  0.631075     0.006843     0.006806\n",
       "17   2.5      0.5  0.630560  0.623362  0.637715     0.007198     0.007155\n",
       "18   3.5      0.5  0.622299  0.614421  0.630129     0.007878     0.007830\n",
       "19   4.5      0.5  0.624292  0.615493  0.633030     0.008799     0.008738\n",
       "20   5.5      0.5  0.631630  0.621710  0.641468     0.009920     0.009838\n",
       "21   6.5      0.5  0.640460  0.628679  0.652115     0.011781     0.011655\n",
       "22   7.5      0.5  0.634756  0.620529  0.648808     0.014226     0.014052\n",
       "23   8.5      0.5  0.641166  0.623448  0.658601     0.017719     0.017435\n",
       "24   9.5      0.5  0.651416  0.629118  0.673229     0.022298     0.021813\n",
       "25  10.5      0.5  0.671016  0.641997  0.699093     0.029019     0.028077\n",
       "26  11.5      0.5  0.625506  0.581165  0.668336     0.044341     0.042829\n",
       "27  12.5      0.5  0.617424  0.555850  0.676331     0.061575     0.058906\n",
       "28  13.5      0.5  0.645570  0.565630  0.719935     0.079939     0.074365\n",
       "29  14.5      0.5  0.568182  0.410337  0.716506     0.157845     0.148324"
      ]
     },
     "execution_count": 111,
     "metadata": {},
     "output_type": "execute_result"
    }
   ],
   "source": [
    "pv_eff"
   ]
  },
  {
   "cell_type": "code",
   "execution_count": 112,
   "metadata": {},
   "outputs": [
    {
     "data": {
      "image/png": "[encoded data removed]",
      "text/plain": [
       "<Figure size 720x720 with 1 Axes>"
      ]
     },
     "metadata": {
      "needs_background": "light"
     },
     "output_type": "display_data"
    }
   ],
   "source": [
    "pv_eff = plot_pv_efficiency_z0(z0_gen, z0_reco=fast_histo, bin_edges=bin_edges_plot, delta=0.1)\n",
    "plt.title('Fast Histo Primary Vertex Efficiency')\n",
    "plt.savefig('fast_histo_pv_eff.pdf', dpi =500, bbox_inches='tight')"
   ]
  },
  {
   "cell_type": "code",
   "execution_count": 113,
   "metadata": {},
   "outputs": [
    {
     "data": {
      "image/png": "[encoded data removed]",
      "text/plain": [
       "<Figure size 720x720 with 1 Axes>"
      ]
     },
     "metadata": {
      "needs_background": "light"
     },
     "output_type": "display_data"
    }
   ],
   "source": [
    "pv_MC_eff = plot_pv_efficiency_z0(pv_MC, z0_reco=fast_histo, bin_edges=bin_edges_plot, delta=0.1)\n",
    "plt.title('Fast Histo Primary Vertex Efficiency')\n",
    "plt.savefig('fast_histo_pv_MC_eff.pdf', dpi =500, bbox_inches='tight')"
   ]
  },
  {
   "cell_type": "code",
   "execution_count": 121,
   "metadata": {},
   "outputs": [
    {
     "data": {
      "text/plain": [
       "Text(1, 59.0, '$z_{gen}$')"
      ]
     },
     "execution_count": 121,
     "metadata": {},
     "output_type": "execute_result"
    },
    {
     "data": {
      "image/png": "[encoded data removed]",
      "text/plain": [
       "<Figure size 720x720 with 1 Axes>"
      ]
     },
     "metadata": {
      "needs_background": "light"
     },
     "output_type": "display_data"
    }
   ],
   "source": [
    "plt.errorbar(\n",
    "    pv_MC_eff['x'],\n",
    "    pv_MC_eff['eff'],\n",
    "    xerr=pv_MC_eff['error_x'],\n",
    "    yerr=[pv_MC_eff[\"lower_error\"].values, pv_MC_eff[\"upper_error\"].values],\n",
    "    ls=\"none\",\n",
    "    label = \"pv_MC\"\n",
    ")\n",
    "plt.errorbar(\n",
    "    pv_eff['x'],\n",
    "    pv_eff['eff'],\n",
    "    xerr=pv_eff['error_x'],\n",
    "    yerr=[pv_eff[\"lower_error\"].values, pv_eff[\"upper_error\"].values],\n",
    "    ls=\"none\",\n",
    "    label = \"'my' z0_gen\"\n",
    ")\n",
    "plt.xlim(-10, 10)\n",
    "plt.ylim(0, 1.0)\n",
    "plt.legend()\n",
    "plt.title('Fast Histo Primary Vertex Efficiency')\n",
    "plt.savefig('fast_histo_pv_pv_MC_comparison_eff.pdf', dpi =500, bbox_inches='tight')\n",
    "plt.ylabel(\"Efficiency\")\n",
    "plt.xlabel(r\"$z_{gen}$\")"
   ]
  },
  {
   "cell_type": "markdown",
   "metadata": {},
   "source": [
    "# Fast Histo Resolution Profile"
   ]
  },
  {
   "cell_type": "code",
   "execution_count": 189,
   "metadata": {},
   "outputs": [],
   "source": [
    "from pv_utils import plot_pv_resolution_z0"
   ]
  },
  {
   "cell_type": "code",
   "execution_count": 170,
   "metadata": {},
   "outputs": [
    {
     "data": {
      "text/plain": [
       "entry\n",
       "0         4.930890\n",
       "1        -3.606179\n",
       "2        -0.169271\n",
       "3         2.815755\n",
       "4        -1.365234\n",
       "            ...   \n",
       "222971   -0.812322\n",
       "222972    0.344238\n",
       "222973   -3.597656\n",
       "222974   -4.376698\n",
       "222975    0.911865\n",
       "Length: 222976, dtype: float64"
      ]
     },
     "execution_count": 170,
     "metadata": {},
     "output_type": "execute_result"
    }
   ],
   "source": [
    "fast_histo"
   ]
  },
  {
   "cell_type": "code",
   "execution_count": 171,
   "metadata": {},
   "outputs": [
    {
     "ename": "NameError",
     "evalue": "name 'bins' is not defined",
     "output_type": "error",
     "traceback": [
      "\u001b[0;31m---------------------------------------------------------------------------\u001b[0m",
      "\u001b[0;31mNameError\u001b[0m                                 Traceback (most recent call last)",
      "\u001b[0;32m/tmp/ipykernel_3357/2402117036.py\u001b[0m in \u001b[0;36m<module>\u001b[0;34m\u001b[0m\n\u001b[0;32m----> 1\u001b[0;31m \u001b[0mbins\u001b[0m\u001b[0;34m\u001b[0m\u001b[0;34m\u001b[0m\u001b[0m\n\u001b[0m",
      "\u001b[0;31mNameError\u001b[0m: name 'bins' is not defined"
     ]
    }
   ],
   "source": [
    "bins"
   ]
  },
  {
   "cell_type": "code",
   "execution_count": 174,
   "metadata": {},
   "outputs": [],
   "source": [
    "bin_edges_resolution = np.arange(-15, 15+1, 1)"
   ]
  },
  {
   "cell_type": "code",
   "execution_count": 175,
   "metadata": {},
   "outputs": [
    {
     "data": {
      "image/png": "[encoded data removed]",
      "text/plain": [
       "<Figure size 720x720 with 1 Axes>"
      ]
     },
     "metadata": {
      "needs_background": "light"
     },
     "output_type": "display_data"
    }
   ],
   "source": [
    "r_res = plot_pv_resolution_z0(z0_gen=z0_gen, z0_reco=fast_histo, bins=bin_edges_resolution)"
   ]
  },
  {
   "cell_type": "markdown",
   "metadata": {},
   "source": [
    "# DBSCAN Test"
   ]
  },
  {
   "cell_type": "code",
   "execution_count": 176,
   "metadata": {},
   "outputs": [],
   "source": [
    "dbscan = run_dbscan(trk)"
   ]
  },
  {
   "cell_type": "code",
   "execution_count": 177,
   "metadata": {},
   "outputs": [
    {
     "data": {
      "text/html": [
       "<div>\n",
       "<style scoped>\n",
       "    .dataframe tbody tr th:only-of-type {\n",
       "        vertical-align: middle;\n",
       "    }\n",
       "\n",
       "    .dataframe tbody tr th {\n",
       "        vertical-align: top;\n",
       "    }\n",
       "\n",
       "    .dataframe thead th {\n",
       "        text-align: right;\n",
       "    }\n",
       "</style>\n",
       "<table border=\"1\" class=\"dataframe\">\n",
       "  <thead>\n",
       "    <tr style=\"text-align: right;\">\n",
       "      <th></th>\n",
       "      <th>dbscan_labels</th>\n",
       "      <th>z0</th>\n",
       "      <th>pt</th>\n",
       "    </tr>\n",
       "    <tr>\n",
       "      <th>entry</th>\n",
       "      <th></th>\n",
       "      <th></th>\n",
       "      <th></th>\n",
       "    </tr>\n",
       "  </thead>\n",
       "  <tbody>\n",
       "    <tr>\n",
       "      <th>0</th>\n",
       "      <td>17.0</td>\n",
       "      <td>4.980469</td>\n",
       "      <td>84.025032</td>\n",
       "    </tr>\n",
       "    <tr>\n",
       "      <th>1</th>\n",
       "      <td>16.0</td>\n",
       "      <td>-3.603516</td>\n",
       "      <td>104.907082</td>\n",
       "    </tr>\n",
       "    <tr>\n",
       "      <th>2</th>\n",
       "      <td>39.0</td>\n",
       "      <td>-0.175781</td>\n",
       "      <td>226.240372</td>\n",
       "    </tr>\n",
       "    <tr>\n",
       "      <th>3</th>\n",
       "      <td>28.0</td>\n",
       "      <td>2.753906</td>\n",
       "      <td>301.090637</td>\n",
       "    </tr>\n",
       "    <tr>\n",
       "      <th>4</th>\n",
       "      <td>67.0</td>\n",
       "      <td>-1.289062</td>\n",
       "      <td>270.321960</td>\n",
       "    </tr>\n",
       "    <tr>\n",
       "      <th>...</th>\n",
       "      <td>...</td>\n",
       "      <td>...</td>\n",
       "      <td>...</td>\n",
       "    </tr>\n",
       "    <tr>\n",
       "      <th>222971</th>\n",
       "      <td>46.0</td>\n",
       "      <td>-0.703125</td>\n",
       "      <td>256.535797</td>\n",
       "    </tr>\n",
       "    <tr>\n",
       "      <th>222972</th>\n",
       "      <td>26.0</td>\n",
       "      <td>-1.552734</td>\n",
       "      <td>98.283119</td>\n",
       "    </tr>\n",
       "    <tr>\n",
       "      <th>222973</th>\n",
       "      <td>29.0</td>\n",
       "      <td>-3.574219</td>\n",
       "      <td>174.343292</td>\n",
       "    </tr>\n",
       "    <tr>\n",
       "      <th>222974</th>\n",
       "      <td>40.0</td>\n",
       "      <td>-4.394531</td>\n",
       "      <td>259.831726</td>\n",
       "    </tr>\n",
       "    <tr>\n",
       "      <th>222975</th>\n",
       "      <td>57.0</td>\n",
       "      <td>1.113281</td>\n",
       "      <td>344.987152</td>\n",
       "    </tr>\n",
       "  </tbody>\n",
       "</table>\n",
       "<p>222976 rows × 3 columns</p>\n",
       "</div>"
      ],
      "text/plain": [
       "        dbscan_labels        z0          pt\n",
       "entry                                      \n",
       "0                17.0  4.980469   84.025032\n",
       "1                16.0 -3.603516  104.907082\n",
       "2                39.0 -0.175781  226.240372\n",
       "3                28.0  2.753906  301.090637\n",
       "4                67.0 -1.289062  270.321960\n",
       "...               ...       ...         ...\n",
       "222971           46.0 -0.703125  256.535797\n",
       "222972           26.0 -1.552734   98.283119\n",
       "222973           29.0 -3.574219  174.343292\n",
       "222974           40.0 -4.394531  259.831726\n",
       "222975           57.0  1.113281  344.987152\n",
       "\n",
       "[222976 rows x 3 columns]"
      ]
     },
     "execution_count": 177,
     "metadata": {},
     "output_type": "execute_result"
    }
   ],
   "source": [
    "dbscan"
   ]
  },
  {
   "cell_type": "code",
   "execution_count": 180,
   "metadata": {},
   "outputs": [
    {
     "data": {
      "text/plain": [
       "(222976, 3)"
      ]
     },
     "execution_count": 180,
     "metadata": {},
     "output_type": "execute_result"
    }
   ],
   "source": [
    "dbscan.shape"
   ]
  },
  {
   "cell_type": "code",
   "execution_count": 181,
   "metadata": {},
   "outputs": [
    {
     "data": {
      "text/plain": [
       "(222941,)"
      ]
     },
     "execution_count": 181,
     "metadata": {},
     "output_type": "execute_result"
    }
   ],
   "source": [
    "z0_gen.shape"
   ]
  },
  {
   "cell_type": "code",
   "execution_count": 182,
   "metadata": {},
   "outputs": [
    {
     "data": {
      "text/plain": [
       "(222976,)"
      ]
     },
     "execution_count": 182,
     "metadata": {},
     "output_type": "execute_result"
    }
   ],
   "source": [
    "pv_MC.shape"
   ]
  },
  {
   "cell_type": "code",
   "execution_count": 183,
   "metadata": {},
   "outputs": [
    {
     "data": {
      "text/plain": [
       "entry\n",
       "0         5.055163\n",
       "1        -3.608661\n",
       "2        -0.261453\n",
       "3         2.803285\n",
       "4        -1.400667\n",
       "            ...   \n",
       "222971   -0.698029\n",
       "222972    0.520282\n",
       "222973   -3.604865\n",
       "222974   -4.483971\n",
       "222975    1.365169\n",
       "Name: pv_MC, Length: 222976, dtype: float32"
      ]
     },
     "execution_count": 183,
     "metadata": {},
     "output_type": "execute_result"
    }
   ],
   "source": [
    "pv_MC"
   ]
  },
  {
   "cell_type": "code",
   "execution_count": 192,
   "metadata": {},
   "outputs": [
    {
     "data": {
      "text/plain": [
       "Text(0.5, 1.0, 'DBSCAN Primary Vertex Efficiency')"
      ]
     },
     "execution_count": 192,
     "metadata": {},
     "output_type": "execute_result"
    },
    {
     "data": {
      "image/png": "[encoded data removed]",
      "text/plain": [
       "<Figure size 720x720 with 1 Axes>"
      ]
     },
     "metadata": {
      "needs_background": "light"
     },
     "output_type": "display_data"
    }
   ],
   "source": [
    "dbscan_eff = plot_pv_efficiency_z0(\n",
    "    \n",
    "    pv_MC,\n",
    "    z0_reco=dbscan[\"z0\"].values,\n",
    "    bin_edges=bin_edges_plot,\n",
    "    delta=0.1,\n",
    "    label=\"DBSCAN\",\n",
    ")\n",
    "\n",
    "plt.title(\"DBSCAN Primary Vertex Efficiency\")\n",
    "# plt.savefig('DBSCAN_pv_eff.pdf', dpi =500, bbox_inches='tight')"
   ]
  },
  {
   "cell_type": "code",
   "execution_count": 237,
   "metadata": {},
   "outputs": [
    {
     "data": {
      "text/plain": [
       "Text(0, 1, 'Efficiency')"
      ]
     },
     "execution_count": 237,
     "metadata": {},
     "output_type": "execute_result"
    },
    {
     "data": {
      "image/png": "[encoded data removed]",
      "text/plain": [
       "<Figure size 720x720 with 1 Axes>"
      ]
     },
     "metadata": {
      "needs_background": "light"
     },
     "output_type": "display_data"
    }
   ],
   "source": [
    "plt.errorbar(\n",
    "    dbscan_eff[\"x\"],\n",
    "    dbscan_eff[\"eff\"],\n",
    "    xerr=dbscan_eff[\"error_x\"],\n",
    "    yerr=[dbscan_eff[\"lower_error\"].values, dbscan_eff[\"upper_error\"].values],\n",
    "    ls=\"none\",\n",
    "    label=\"DBSCAN, eps = 0.08, minPts=2\",\n",
    ")\n",
    "\n",
    "\n",
    "plt.errorbar(\n",
    "    pv_MC_eff[\"x\"],\n",
    "    pv_MC_eff[\"eff\"],\n",
    "    xerr=pv_MC_eff[\"error_x\"],\n",
    "    yerr=[pv_MC_eff[\"lower_error\"].values, pv_MC_eff[\"upper_error\"].values],\n",
    "    ls=\"none\",\n",
    "    label=\"FastHisto, bin width = 0.30 cm\",\n",
    ")\n",
    "\n",
    "plt.title(\"DBSCAN Primary Vertex Efficiency\")\n",
    "plt.ylim(0, 1)\n",
    "plt.legend()\n",
    "# plt.savefig('DBSCAN_pv_eff.pdf', dpi =500, bbox_inches='tight')\n",
    "plt.xlabel(r'$z_{gen}$ [cm]')\n",
    "plt.ylabel('Efficiency')"
   ]
  },
  {
   "cell_type": "code",
   "execution_count": null,
   "metadata": {},
   "outputs": [],
   "source": []
  },
  {
   "cell_type": "markdown",
   "metadata": {},
   "source": [
    "# Resolution"
   ]
  },
  {
   "cell_type": "code",
   "execution_count": 197,
   "metadata": {},
   "outputs": [],
   "source": [
    "res = pd.DataFrame({\"z0_gen\":pv_MC})"
   ]
  },
  {
   "cell_type": "code",
   "execution_count": 199,
   "metadata": {},
   "outputs": [],
   "source": [
    "res[\n",
    "    'fh'\n",
    "] = fast_histo"
   ]
  },
  {
   "cell_type": "code",
   "execution_count": 201,
   "metadata": {},
   "outputs": [],
   "source": [
    "res['db'] = dbscan['z0']"
   ]
  },
  {
   "cell_type": "code",
   "execution_count": 203,
   "metadata": {},
   "outputs": [],
   "source": [
    "res['res_fh'] = res['z0_gen'] - res['fh']\n",
    "res['res_db'] = res['z0_gen'] - res['db']"
   ]
  },
  {
   "cell_type": "code",
   "execution_count": 213,
   "metadata": {},
   "outputs": [],
   "source": [
    "res['abs_fh'] = np.abs(res['z0_gen'] - res['fh'])\n",
    "res['abs_db'] = np.abs(res['z0_gen'] - res['db'])"
   ]
  },
  {
   "cell_type": "code",
   "execution_count": 214,
   "metadata": {},
   "outputs": [
    {
     "data": {
      "image/png": "[encoded data removed]",
      "text/plain": [
       "<Figure size 720x720 with 1 Axes>"
      ]
     },
     "metadata": {
      "needs_background": "light"
     },
     "output_type": "display_data"
    }
   ],
   "source": [
    "h, be, _ = plt.hist(res.loc[np.abs(res['res_fh']) < 0.1, 'res_fh'], bins = 50,  histtype='step', label = 'Fast histo')\n",
    "_ = plt.hist(res.loc[np.abs(res['res_db']) < 0.1, 'res_db'], bins=be, histtype='step', label = 'DBSCAN')\n",
    "plt.legend()\n",
    "plt.yscale('log')"
   ]
  },
  {
   "cell_type": "code",
   "execution_count": 208,
   "metadata": {},
   "outputs": [
    {
     "data": {
      "image/png": "[encoded data removed]",
      "text/plain": [
       "<Figure size 720x720 with 1 Axes>"
      ]
     },
     "metadata": {
      "needs_background": "light"
     },
     "output_type": "display_data"
    }
   ],
   "source": [
    "plt.hist(res['res_fh'], histtype='step', label = 'Fast histo', range = (-0.15, 0.15))\n",
    "plt.hist(res['res_db'], histtype='step', label = 'DBSCAN', range = (-0.15, 0.15))\n",
    "plt.legend()\n",
    "plt.yscale('log')"
   ]
  },
  {
   "cell_type": "code",
   "execution_count": 239,
   "metadata": {},
   "outputs": [
    {
     "data": {
      "image/png": "[encoded data removed]",
      "text/plain": [
       "<Figure size 720x720 with 1 Axes>"
      ]
     },
     "metadata": {
      "needs_background": "light"
     },
     "output_type": "display_data"
    }
   ],
   "source": [
    "h, be, _ = plt.hist(res.loc[res['abs_fh'] < 0.1, 'abs_fh'], bins = 50,  histtype='step', label = 'Fast histo')\n",
    "_ = plt.hist(res.loc[res['abs_db'] < 0.1, 'abs_db'], bins=be, histtype='step', label = 'DBSCAN')\n",
    "plt.legend()\n",
    "plt.yscale('log')"
   ]
  },
  {
   "cell_type": "code",
   "execution_count": null,
   "metadata": {},
   "outputs": [],
   "source": []
  },
  {
   "cell_type": "code",
   "execution_count": null,
   "metadata": {},
   "outputs": [],
   "source": []
  },
  {
   "cell_type": "code",
   "execution_count": 221,
   "metadata": {},
   "outputs": [
    {
     "data": {
      "text/plain": [
       "False    222905\n",
       "True         71\n",
       "dtype: int64"
      ]
     },
     "execution_count": 221,
     "metadata": {},
     "output_type": "execute_result"
    }
   ],
   "source": [
    "fast_histo.isna().value_counts()"
   ]
  },
  {
   "cell_type": "code",
   "execution_count": 226,
   "metadata": {},
   "outputs": [
    {
     "data": {
      "image/png": "[encoded data removed]",
      "text/plain": [
       "<Figure size 720x720 with 1 Axes>"
      ]
     },
     "metadata": {
      "needs_background": "light"
     },
     "output_type": "display_data"
    }
   ],
   "source": [
    "_ = plt.hist2d(res['z0_gen'],res['res_fh'], bins = 50, range=((-15, 15), (-0.15, 0.15)))"
   ]
  },
  {
   "cell_type": "code",
   "execution_count": 234,
   "metadata": {},
   "outputs": [
    {
     "data": {
      "text/plain": [
       "Text(0.5, 1.0, 'Resolution with DBSCAN, eps =0.08, minPts=2')"
      ]
     },
     "execution_count": 234,
     "metadata": {},
     "output_type": "execute_result"
    },
    {
     "data": {
      "image/png": "[encoded data removed]",
      "text/plain": [
       "<Figure size 720x720 with 1 Axes>"
      ]
     },
     "metadata": {
      "needs_background": "light"
     },
     "output_type": "display_data"
    }
   ],
   "source": [
    "_ = plt.hist2d(res['z0_gen'],res['res_db'], bins = 50, range=((-15, 15), (-0.15, 0.15)))\n",
    "plt.xlabel(r'$z_{gen}$')\n",
    "plt.ylabel(r'$z_{gen} - z_{reco}$')\n",
    "plt.title('Resolution with DBSCAN, eps =0.08, minPts=2', fontsize= 22)"
   ]
  },
  {
   "cell_type": "code",
   "execution_count": null,
   "metadata": {},
   "outputs": [],
   "source": []
  },
  {
   "cell_type": "code",
   "execution_count": null,
   "metadata": {},
   "outputs": [],
   "source": []
  },
  {
   "cell_type": "code",
   "execution_count": null,
   "metadata": {},
   "outputs": [],
   "source": []
  },
  {
   "cell_type": "code",
   "execution_count": null,
   "metadata": {},
   "outputs": [],
   "source": []
  },
  {
   "cell_type": "code",
   "execution_count": null,
   "metadata": {},
   "outputs": [],
   "source": []
  },
  {
   "cell_type": "code",
   "execution_count": null,
   "metadata": {},
   "outputs": [],
   "source": []
  },
  {
   "cell_type": "code",
   "execution_count": null,
   "metadata": {},
   "outputs": [],
   "source": []
  }
 ],
 "metadata": {
  "kernelspec": {
   "display_name": "db-clustering",
   "language": "python",
   "name": "db-clustering"
  },
  "language_info": {
   "codemirror_mode": {
    "name": "ipython",
    "version": 3
   },
   "file_extension": ".py",
   "mimetype": "text/x-python",
   "name": "python",
   "nbconvert_exporter": "python",
   "pygments_lexer": "ipython3",
   "version": "3.8.12"
  }
 },
 "nbformat": 4,
 "nbformat_minor": 2
}
