{
 "cells": [
  {
   "cell_type": "code",
   "execution_count": 1,
   "metadata": {},
   "outputs": [],
   "source": [
    "### Reloads modules properly\n",
    "%load_ext autoreload\n",
    "%autoreload 2"
   ]
  },
  {
   "cell_type": "code",
   "execution_count": 2,
   "metadata": {},
   "outputs": [],
   "source": [
    "import os\n",
    "os.sys.path.append('../')"
   ]
  },
  {
   "cell_type": "code",
   "execution_count": 3,
   "metadata": {},
   "outputs": [
    {
     "name": "stdout",
     "output_type": "stream",
     "text": [
      "-rw-rw-r-- 1 lucas lucas  80 Apr  7 14:23 /media/lucas/MicroSD/binaries-trk/OldKF_TTbar_170K_quality-1-reconVertices.bin\n",
      "-rw-rw-r-- 1 lucas lucas 556 Mar  9 16:16 /media/lucas/MicroSD/binaries-trk/OldKF_TTbar_170K_quality-1-trk-pt.bin\n",
      "-rw-rw-r-- 1 lucas lucas 556 Mar  9 16:16 /media/lucas/MicroSD/binaries-trk/OldKF_TTbar_170K_quality-1-trk-z0.bin\n"
     ]
    }
   ],
   "source": [
    "!ls -lh /media/lucas/MicroSD/binaries-trk/*-1-*"
   ]
  },
  {
   "cell_type": "markdown",
   "metadata": {},
   "source": [
    "# Load binary data of example event"
   ]
  },
  {
   "cell_type": "code",
   "execution_count": 4,
   "metadata": {},
   "outputs": [],
   "source": [
    "z0_file = \"/media/lucas/MicroSD/binaries-trk/OldKF_TTbar_170K_quality-1-trk-z0.bin\"\n",
    "pt_file = \"/media/lucas/MicroSD/binaries-trk/OldKF_TTbar_170K_quality-1-trk-pt.bin\""
   ]
  },
  {
   "cell_type": "code",
   "execution_count": 5,
   "metadata": {},
   "outputs": [],
   "source": [
    "import numpy as np\n",
    "import pandas as pd"
   ]
  },
  {
   "cell_type": "code",
   "execution_count": 6,
   "metadata": {},
   "outputs": [],
   "source": [
    "import math"
   ]
  },
  {
   "cell_type": "code",
   "execution_count": 7,
   "metadata": {},
   "outputs": [],
   "source": [
    "z0 = np.fromfile(z0_file, dtype=np.float32)"
   ]
  },
  {
   "cell_type": "code",
   "execution_count": 8,
   "metadata": {},
   "outputs": [],
   "source": [
    "pt = np.fromfile(pt_file, dtype=np.float32)"
   ]
  },
  {
   "cell_type": "code",
   "execution_count": 9,
   "metadata": {},
   "outputs": [
    {
     "name": "stdout",
     "output_type": "stream",
     "text": [
      "/home/lucas/Documents/RA/db-clustering/notebooks\n"
     ]
    }
   ],
   "source": [
    "!pwd"
   ]
  },
  {
   "cell_type": "markdown",
   "metadata": {},
   "source": [
    "**\"Truth\" files**"
   ]
  },
  {
   "cell_type": "code",
   "execution_count": 10,
   "metadata": {},
   "outputs": [
    {
     "name": "stdout",
     "output_type": "stream",
     "text": [
      "-rw-rw-r-- 1 lucas lucas  908 Apr  6 15:49 boundaries_idx.txt\n",
      "-rw-rw-r-- 1 lucas lucas  711 Apr  6 15:49 boundaries_nextPts.txt\n",
      "-rw-rw-r-- 1 lucas lucas  712 Apr  6 15:49 boundaries_pred_nextPts.txt\n",
      "-rw-rw-r-- 1 lucas lucas  714 Apr  6 15:49 boundaries_pred_pts.txt\n",
      "-rw-rw-r-- 1 lucas lucas  904 Apr  6 15:49 boundaries_pred.txt\n",
      "-rw-rw-r-- 1 lucas lucas  713 Apr  6 15:49 boundaries_pts.txt\n",
      "-rw-rw-r-- 1 lucas lucas  908 Apr  6 15:49 boundaries_truth.txt\n",
      "-rw-rw-r-- 1 lucas lucas  16K Apr  6 15:49 CMakeCache.txt\n",
      "-rw-rw-r-- 1 lucas lucas  464 Apr  6 15:49 left_bound.txt\n",
      "-rw-rw-r-- 1 lucas lucas    9 Apr  6 15:49 pv_db2.txt\n",
      "-rw-rw-r-- 1 lucas lucas    9 Apr  6 15:49 pv_recon.txt\n",
      "-rw-rw-r-- 1 lucas lucas 2.0K Apr  6 15:49 rs_truth.txt\n"
     ]
    }
   ],
   "source": [
    "!ls -lh *.txt"
   ]
  },
  {
   "cell_type": "code",
   "execution_count": 11,
   "metadata": {},
   "outputs": [],
   "source": [
    "left_bound = np.loadtxt('left_bound.txt', dtype=int)"
   ]
  },
  {
   "cell_type": "code",
   "execution_count": 12,
   "metadata": {},
   "outputs": [
    {
     "data": {
      "text/plain": [
       "(232,)"
      ]
     },
     "execution_count": 12,
     "metadata": {},
     "output_type": "execute_result"
    }
   ],
   "source": [
    "left_bound.shape"
   ]
  },
  {
   "cell_type": "code",
   "execution_count": 13,
   "metadata": {},
   "outputs": [
    {
     "data": {
      "text/plain": [
       "(232,)"
      ]
     },
     "execution_count": 13,
     "metadata": {},
     "output_type": "execute_result"
    }
   ],
   "source": [
    "boundaries_idx_truth = np.loadtxt('boundaries_idx.txt',dtype=int)\n",
    "boundaries_idx_truth.shape"
   ]
  },
  {
   "cell_type": "code",
   "execution_count": 14,
   "metadata": {},
   "outputs": [
    {
     "data": {
      "text/plain": [
       "(232,)"
      ]
     },
     "execution_count": 14,
     "metadata": {},
     "output_type": "execute_result"
    }
   ],
   "source": [
    "boundaries_pts = np.loadtxt('boundaries_pts.txt',dtype=np.float32)\n",
    "boundaries_pts.shape"
   ]
  },
  {
   "cell_type": "code",
   "execution_count": 15,
   "metadata": {},
   "outputs": [
    {
     "data": {
      "text/plain": [
       "(232,)"
      ]
     },
     "execution_count": 15,
     "metadata": {},
     "output_type": "execute_result"
    }
   ],
   "source": [
    "boundaries_nextPts = np.loadtxt('boundaries_nextPts.txt',dtype=np.float32)\n",
    "boundaries_nextPts.shape"
   ]
  },
  {
   "cell_type": "code",
   "execution_count": 16,
   "metadata": {},
   "outputs": [],
   "source": [
    "pv_recon = np.loadtxt('pv_recon.txt', dtype=np.float32)"
   ]
  },
  {
   "cell_type": "code",
   "execution_count": 17,
   "metadata": {},
   "outputs": [
    {
     "data": {
      "text/plain": [
       "array(-2.22656, dtype=float32)"
      ]
     },
     "execution_count": 17,
     "metadata": {},
     "output_type": "execute_result"
    }
   ],
   "source": [
    "pv_recon"
   ]
  },
  {
   "cell_type": "code",
   "execution_count": 18,
   "metadata": {},
   "outputs": [],
   "source": [
    "rs_truth = np.loadtxt('rs_truth.txt', dtype=np.float32)"
   ]
  },
  {
   "cell_type": "code",
   "execution_count": 19,
   "metadata": {},
   "outputs": [
    {
     "data": {
      "text/plain": [
       "array([  0.     ,   2.82091,   5.48267,   7.71218,  12.5531 ,  15.693  ,\n",
       "        18.3994 ,  21.3012 ,  23.2656 ,  25.2293 ,  27.5862 ,  31.6842 ,\n",
       "        34.2923 ,  36.5098 ,  38.6355 ,  43.8726 ,  46.0138 ,  47.9971 ,\n",
       "        49.9804 ,  52.3141 ,  55.9682 ,  57.9274 ,  62.9564 ,  65.9414 ,\n",
       "        74.9862 ,  78.749  ,  85.868  ,  95.2166 , 128.854  , 139.116  ,\n",
       "       143.846  , 147.087  , 149.098  , 151.211  , 154.352  , 156.792  ,\n",
       "       158.773  , 161.187  , 163.257  , 165.348  , 167.814  , 171.287  ,\n",
       "       174.093  , 176.415  , 179.527  , 181.872  , 184.164  , 187.119  ,\n",
       "       191.368  , 196.209  , 198.435  , 201.263  , 208.984  , 211.138  ,\n",
       "       213.673  , 223.925  , 228.492  , 230.695  , 235.753  , 238.482  ,\n",
       "       240.946  , 242.908  , 247.569  , 250.044  , 260.719  , 263.669  ,\n",
       "       266.39   , 268.494  , 271.018  , 274.515  , 278.969  , 281.281  ,\n",
       "       283.815  , 286.281  , 288.49   , 291.542  , 294.446  , 296.542  ,\n",
       "       299.613  , 302.133  , 305.826  , 308.     , 312.11   , 314.267  ,\n",
       "       316.231  , 319.225  , 321.45   , 323.455  , 326.02   , 328.585  ,\n",
       "       330.565  , 332.75   , 334.822  , 338.507  , 341.151  , 345.021  ,\n",
       "       347.477  , 349.571  , 351.934  , 354.566  , 356.543  , 359.02   ,\n",
       "       363.431  , 365.858  , 368.472  , 370.578  , 375.462  , 377.654  ,\n",
       "       379.866  , 382.336  , 385.137  , 387.824  , 389.816  , 391.772  ,\n",
       "       396.588  , 398.794  , 402.036  , 406.241  , 409.438  , 412.428  ,\n",
       "       414.86   , 416.948  , 421.031  , 427.36   , 430.514  , 433.827  ,\n",
       "       438.125  , 440.306  , 444.567  , 447.323  , 449.873  , 451.91   ,\n",
       "       454.167  , 456.484  , 459.547  , 462.72   , 464.804  , 466.807  ,\n",
       "       468.888  , 470.955  , 470.955  , 470.955  , 470.955  , 470.955  ,\n",
       "       470.955  , 470.955  , 470.955  , 470.955  , 470.955  , 470.955  ,\n",
       "       470.955  , 470.955  , 470.955  , 470.955  , 470.955  , 470.955  ,\n",
       "       470.955  , 470.955  , 470.955  , 470.955  , 470.955  , 470.955  ,\n",
       "       470.955  , 470.955  , 470.955  , 470.955  , 470.955  , 470.955  ,\n",
       "       470.955  , 470.955  , 470.955  , 470.955  , 470.955  , 470.955  ,\n",
       "       470.955  , 470.955  , 470.955  , 470.955  , 470.955  , 470.955  ,\n",
       "       470.955  , 470.955  , 470.955  , 470.955  , 470.955  , 470.955  ,\n",
       "       470.955  , 470.955  , 470.955  , 470.955  , 470.955  , 470.955  ,\n",
       "       470.955  , 470.955  , 470.955  , 470.955  , 470.955  , 470.955  ,\n",
       "       470.955  , 470.955  , 470.955  , 470.955  , 470.955  , 470.955  ,\n",
       "       470.955  , 470.955  , 470.955  , 470.955  , 470.955  , 470.955  ,\n",
       "       470.955  , 470.955  , 470.955  , 470.955  , 470.955  , 470.955  ,\n",
       "       470.955  , 470.955  , 470.955  , 470.955  , 470.955  , 470.955  ,\n",
       "       470.955  , 470.955  , 470.955  , 470.955  , 470.955  , 470.955  ,\n",
       "       470.955  , 470.955  , 470.955  , 470.955  , 470.955  , 470.955  ,\n",
       "       470.955  , 470.955  , 470.955  , 470.955  , 470.955  , 470.955  ,\n",
       "       470.955  , 470.955  , 470.955  , 470.955  , 470.955  , 470.955  ,\n",
       "       470.955  , 470.955  , 470.955  , 470.955  , 470.955  , 470.955  ,\n",
       "       470.955  , 470.955  , 470.955  , 470.955  ], dtype=float32)"
      ]
     },
     "execution_count": 19,
     "metadata": {},
     "output_type": "execute_result"
    }
   ],
   "source": [
    "rs_truth"
   ]
  },
  {
   "cell_type": "code",
   "execution_count": 20,
   "metadata": {},
   "outputs": [],
   "source": [
    "truth = pd.DataFrame(\n",
    "    {\n",
    "        \"left_boundaries\": left_bound,\n",
    "        \"boundaries_idx\": boundaries_idx_truth,\n",
    "        \"boundaries_pts\": boundaries_pts,\n",
    "        \"boundaries_nextPts\": boundaries_nextPts,\n",
    "    }\n",
    ")"
   ]
  },
  {
   "cell_type": "code",
   "execution_count": 21,
   "metadata": {},
   "outputs": [],
   "source": [
    "z0_og = z0.copy()\n",
    "pt_og = pt.copy()"
   ]
  },
  {
   "cell_type": "markdown",
   "metadata": {},
   "source": [
    "# Standard Algorithm"
   ]
  },
  {
   "cell_type": "code",
   "execution_count": 22,
   "metadata": {},
   "outputs": [],
   "source": [
    "max_number_of_tracks = 232\n",
    "max_number_of_tracks_power_2 = 256\n",
    "max_number_of_tracks_log_2 = 8"
   ]
  },
  {
   "cell_type": "code",
   "execution_count": 23,
   "metadata": {},
   "outputs": [],
   "source": [
    "epsilon =0.15"
   ]
  },
  {
   "cell_type": "markdown",
   "metadata": {},
   "source": [
    "**Pad tracks to the maximum number of tracks**"
   ]
  },
  {
   "cell_type": "code",
   "execution_count": 24,
   "metadata": {},
   "outputs": [],
   "source": [
    "def add_padding(arr:np.array, value:float, max_number_of_tracks:int)->np.array:\n",
    "    \n",
    "    n_pad = max_number_of_tracks - arr.shape[0]\n",
    "    \n",
    "    to_pad = value * np.ones(n_pad)\n",
    "    \n",
    "    arr = np.append(arr, to_pad)\n",
    "    \n",
    "    return arr\n",
    "    "
   ]
  },
  {
   "cell_type": "code",
   "execution_count": 25,
   "metadata": {},
   "outputs": [],
   "source": [
    "z0 = add_padding(z0, 21, max_number_of_tracks)\n",
    "pt = add_padding(pt, 0, max_number_of_tracks)"
   ]
  },
  {
   "cell_type": "markdown",
   "metadata": {},
   "source": [
    "**Calculate oneOverR**"
   ]
  },
  {
   "cell_type": "code",
   "execution_count": 26,
   "metadata": {},
   "outputs": [],
   "source": [
    "def calc_oneOverR(pt:np.array)->np.array:\n",
    "    \n",
    "    denom = (0.3* 3.811) /100\n",
    "    oneOverR = np.divide(denom, pt, out=np.zeros_like(pt), where=pt!=0)\n",
    "    \n",
    "    return oneOverR"
   ]
  },
  {
   "cell_type": "code",
   "execution_count": 27,
   "metadata": {},
   "outputs": [],
   "source": [
    "oneOverR = calc_oneOverR(pt)"
   ]
  },
  {
   "cell_type": "code",
   "execution_count": 28,
   "metadata": {},
   "outputs": [],
   "source": [
    "tracks = pd.DataFrame({'z0':z0, 'pt':pt,'oneOverR':oneOverR})"
   ]
  },
  {
   "cell_type": "code",
   "execution_count": 29,
   "metadata": {},
   "outputs": [
    {
     "data": {
      "text/html": [
       "<div>\n",
       "<style scoped>\n",
       "    .dataframe tbody tr th:only-of-type {\n",
       "        vertical-align: middle;\n",
       "    }\n",
       "\n",
       "    .dataframe tbody tr th {\n",
       "        vertical-align: top;\n",
       "    }\n",
       "\n",
       "    .dataframe thead th {\n",
       "        text-align: right;\n",
       "    }\n",
       "</style>\n",
       "<table border=\"1\" class=\"dataframe\">\n",
       "  <thead>\n",
       "    <tr style=\"text-align: right;\">\n",
       "      <th></th>\n",
       "      <th>z0</th>\n",
       "      <th>pt</th>\n",
       "      <th>oneOverR</th>\n",
       "    </tr>\n",
       "  </thead>\n",
       "  <tbody>\n",
       "    <tr>\n",
       "      <th>0</th>\n",
       "      <td>-2.578125</td>\n",
       "      <td>2.085667</td>\n",
       "      <td>0.005482</td>\n",
       "    </tr>\n",
       "    <tr>\n",
       "      <th>1</th>\n",
       "      <td>2.812500</td>\n",
       "      <td>3.187484</td>\n",
       "      <td>0.003587</td>\n",
       "    </tr>\n",
       "    <tr>\n",
       "      <th>2</th>\n",
       "      <td>-4.042969</td>\n",
       "      <td>2.119512</td>\n",
       "      <td>0.005394</td>\n",
       "    </tr>\n",
       "    <tr>\n",
       "      <th>3</th>\n",
       "      <td>-0.410156</td>\n",
       "      <td>4.098193</td>\n",
       "      <td>0.002790</td>\n",
       "    </tr>\n",
       "    <tr>\n",
       "      <th>4</th>\n",
       "      <td>-4.218750</td>\n",
       "      <td>2.350128</td>\n",
       "      <td>0.004865</td>\n",
       "    </tr>\n",
       "  </tbody>\n",
       "</table>\n",
       "</div>"
      ],
      "text/plain": [
       "         z0        pt  oneOverR\n",
       "0 -2.578125  2.085667  0.005482\n",
       "1  2.812500  3.187484  0.003587\n",
       "2 -4.042969  2.119512  0.005394\n",
       "3 -0.410156  4.098193  0.002790\n",
       "4 -4.218750  2.350128  0.004865"
      ]
     },
     "execution_count": 29,
     "metadata": {},
     "output_type": "execute_result"
    }
   ],
   "source": [
    "tracks.head()"
   ]
  },
  {
   "cell_type": "markdown",
   "metadata": {},
   "source": [
    "**Sort tracks by z0**"
   ]
  },
  {
   "cell_type": "code",
   "execution_count": 30,
   "metadata": {},
   "outputs": [],
   "source": [
    "tracks.sort_values(by='z0',inplace=True)"
   ]
  },
  {
   "cell_type": "markdown",
   "metadata": {},
   "source": [
    "add to truth data for convenience (not part of the algorithm)"
   ]
  },
  {
   "cell_type": "code",
   "execution_count": 31,
   "metadata": {},
   "outputs": [],
   "source": [
    "truth['z0'] = tracks['z0']\n",
    "truth['pt'] = tracks['pt']"
   ]
  },
  {
   "cell_type": "markdown",
   "metadata": {},
   "source": [
    "**Estimate pt** (need for fpga implementation)"
   ]
  },
  {
   "cell_type": "code",
   "execution_count": 32,
   "metadata": {},
   "outputs": [],
   "source": [
    "tracks['pt_est'] = calc_oneOverR(tracks['oneOverR'])"
   ]
  },
  {
   "cell_type": "code",
   "execution_count": 33,
   "metadata": {},
   "outputs": [
    {
     "data": {
      "text/html": [
       "<div>\n",
       "<style scoped>\n",
       "    .dataframe tbody tr th:only-of-type {\n",
       "        vertical-align: middle;\n",
       "    }\n",
       "\n",
       "    .dataframe tbody tr th {\n",
       "        vertical-align: top;\n",
       "    }\n",
       "\n",
       "    .dataframe thead th {\n",
       "        text-align: right;\n",
       "    }\n",
       "</style>\n",
       "<table border=\"1\" class=\"dataframe\">\n",
       "  <thead>\n",
       "    <tr style=\"text-align: right;\">\n",
       "      <th></th>\n",
       "      <th>z0</th>\n",
       "      <th>pt</th>\n",
       "      <th>oneOverR</th>\n",
       "      <th>pt_est</th>\n",
       "    </tr>\n",
       "  </thead>\n",
       "  <tbody>\n",
       "    <tr>\n",
       "      <th>93</th>\n",
       "      <td>-9.199219</td>\n",
       "      <td>2.812771</td>\n",
       "      <td>0.004065</td>\n",
       "      <td>2.812771</td>\n",
       "    </tr>\n",
       "    <tr>\n",
       "      <th>129</th>\n",
       "      <td>-8.261719</td>\n",
       "      <td>2.654077</td>\n",
       "      <td>0.004308</td>\n",
       "      <td>2.654077</td>\n",
       "    </tr>\n",
       "    <tr>\n",
       "      <th>98</th>\n",
       "      <td>-6.093750</td>\n",
       "      <td>2.223069</td>\n",
       "      <td>0.005143</td>\n",
       "      <td>2.223069</td>\n",
       "    </tr>\n",
       "    <tr>\n",
       "      <th>16</th>\n",
       "      <td>-5.625000</td>\n",
       "      <td>4.826959</td>\n",
       "      <td>0.002369</td>\n",
       "      <td>4.826959</td>\n",
       "    </tr>\n",
       "    <tr>\n",
       "      <th>41</th>\n",
       "      <td>-5.507812</td>\n",
       "      <td>3.130853</td>\n",
       "      <td>0.003652</td>\n",
       "      <td>3.130853</td>\n",
       "    </tr>\n",
       "  </tbody>\n",
       "</table>\n",
       "</div>"
      ],
      "text/plain": [
       "           z0        pt  oneOverR    pt_est\n",
       "93  -9.199219  2.812771  0.004065  2.812771\n",
       "129 -8.261719  2.654077  0.004308  2.654077\n",
       "98  -6.093750  2.223069  0.005143  2.223069\n",
       "16  -5.625000  4.826959  0.002369  4.826959\n",
       "41  -5.507812  3.130853  0.003652  3.130853"
      ]
     },
     "execution_count": 33,
     "metadata": {},
     "output_type": "execute_result"
    }
   ],
   "source": [
    "tracks.head()"
   ]
  },
  {
   "cell_type": "markdown",
   "metadata": {},
   "source": [
    "**Prefix sum**"
   ]
  },
  {
   "cell_type": "code",
   "execution_count": 34,
   "metadata": {},
   "outputs": [],
   "source": [
    "def prefix_sum(arr):\n",
    "    size_log2 = int(np.log2(arr.shape[0]))\n",
    "    \n",
    "    #up-sweep\n",
    "    for d  in range(0, size_log2, 1):\n",
    "        step_size = 2**d\n",
    "        double_step_size = step_size * 2\n",
    "        \n",
    "        for i in range(0, arr.shape[0], double_step_size):\n",
    "            arr[i + double_step_size -1] += arr[i + step_size -1]\n",
    "     \n",
    "    #down-sweep\n",
    "    arr[arr.shape[0]-1] = 0\n",
    "    d = size_log2 - 1 \n",
    "    \n",
    "    while d >= 0:\n",
    "        step_size = 2**d\n",
    "        double_step_size = step_size * 2\n",
    "        for i in range(0, arr.shape[0], double_step_size):\n",
    "            tmp = arr[i + step_size - 1]\n",
    "            arr[i + step_size - 1] = arr[i + double_step_size - 1]\n",
    "            arr[i + double_step_size - 1] += tmp\n",
    "        d-=1\n",
    "            \n",
    "    return arr"
   ]
  },
  {
   "cell_type": "code",
   "execution_count": 35,
   "metadata": {},
   "outputs": [],
   "source": [
    "rs = tracks['pt_est']"
   ]
  },
  {
   "cell_type": "code",
   "execution_count": 36,
   "metadata": {},
   "outputs": [],
   "source": [
    "rs = add_padding(rs, 0, max_number_of_tracks_power_2)"
   ]
  },
  {
   "cell_type": "code",
   "execution_count": 37,
   "metadata": {},
   "outputs": [],
   "source": [
    "rs = prefix_sum(rs)"
   ]
  },
  {
   "cell_type": "code",
   "execution_count": 38,
   "metadata": {},
   "outputs": [],
   "source": [
    "compare_rs = pd.DataFrame({'rs':rs, 'rs_truth': rs_truth})"
   ]
  },
  {
   "cell_type": "code",
   "execution_count": 39,
   "metadata": {},
   "outputs": [],
   "source": [
    "percentage_deviation = 100 * np.abs(compare_rs['rs'] - compare_rs['rs_truth'])/compare_rs['rs_truth']"
   ]
  },
  {
   "cell_type": "code",
   "execution_count": 40,
   "metadata": {},
   "outputs": [
    {
     "data": {
      "text/plain": [
       "0.2887293346360379"
      ]
     },
     "execution_count": 40,
     "metadata": {},
     "output_type": "execute_result"
    }
   ],
   "source": [
    "percentage_deviation.median()"
   ]
  },
  {
   "cell_type": "markdown",
   "metadata": {},
   "source": [
    "The difference is pretty small, I'm going to say its gotta be due to some rounding errors in the type casting"
   ]
  },
  {
   "cell_type": "markdown",
   "metadata": {},
   "source": [
    "**find left boundaries**"
   ]
  },
  {
   "cell_type": "markdown",
   "metadata": {},
   "source": [
    "maybe convert the dataset into a list of tuples? \n",
    " [ (z0, pt_est, label), ... ]\n",
    " \n",
    "**Tuples are immutable, therefore they are not suitable for this**\n",
    "\n",
    "Try numpy array?"
   ]
  },
  {
   "cell_type": "code",
   "execution_count": 41,
   "metadata": {},
   "outputs": [],
   "source": [
    "tracks['label'] = 0"
   ]
  },
  {
   "cell_type": "code",
   "execution_count": 42,
   "metadata": {},
   "outputs": [
    {
     "data": {
      "text/plain": [
       "(232, 5)"
      ]
     },
     "execution_count": 42,
     "metadata": {},
     "output_type": "execute_result"
    }
   ],
   "source": [
    "tracks.shape"
   ]
  },
  {
   "cell_type": "code",
   "execution_count": 43,
   "metadata": {},
   "outputs": [],
   "source": [
    "trk = np.zeros((232, 3))"
   ]
  },
  {
   "cell_type": "code",
   "execution_count": 44,
   "metadata": {},
   "outputs": [
    {
     "data": {
      "text/plain": [
       "array([[0., 0., 0.],\n",
       "       [0., 0., 0.],\n",
       "       [0., 0., 0.]])"
      ]
     },
     "execution_count": 44,
     "metadata": {},
     "output_type": "execute_result"
    }
   ],
   "source": [
    "trk[0:3]"
   ]
  },
  {
   "cell_type": "code",
   "execution_count": 45,
   "metadata": {},
   "outputs": [],
   "source": [
    "i = 0\n",
    "for _, row in tracks.iterrows():\n",
    "    _e = (row['z0'], row['pt_est'], row['label'])\n",
    "    trk[i][0] = _e[0]\n",
    "    trk[i][1] = _e[1]\n",
    "    trk[i][2] = _e[2]\n",
    "    i += 1"
   ]
  },
  {
   "cell_type": "code",
   "execution_count": 46,
   "metadata": {},
   "outputs": [],
   "source": [
    "def find_left_boundaries(tracks:pd.DataFrame, rs:np.array, epsilon:float = 0.15)->np.array:\n",
    "    \n",
    "    is_left_boundaries = np.zeros(max_number_of_tracks, dtype=bool)\n",
    "    \n",
    "    is_left_boundaries[0]=1\n",
    "    \n",
    "    for i in range(1, max_number_of_tracks):\n",
    "        trk = tracks.iloc[i]\n",
    "        if (trk['z0'] - tracks.iloc[i-1]['z0'] > epsilon):\n",
    "            tracks.iloc[i]['label'] = -1\n",
    "            is_left_boundaries[i] =1\n",
    "        else:\n",
    "            is_left_boundaries[i] = 0 \n",
    "            \n",
    "    return is_left_boundaries\n"
   ]
  },
  {
   "cell_type": "code",
   "execution_count": 47,
   "metadata": {},
   "outputs": [],
   "source": [
    "def find_left_boundaries_np(tracks:np.array, rs:np.array, epsilon:float=0.15) -> np.array:\n",
    "    \n",
    "    is_left_boundaries = np.zeros(max_number_of_tracks, dtype=bool)\n",
    "    is_left_boundaries[0] = 1\n",
    "    \n",
    "    for i in range(1, max_number_of_tracks):\n",
    "        _t = tracks[i]\n",
    "        \n",
    "        if (_t[0] - tracks[i-1][0] > epsilon):\n",
    "            tracks[i][2] = -1\n",
    "            is_left_boundaries[i] = 1\n",
    "        else:\n",
    "            is_left_boundaries[i] = 0\n",
    "    \n",
    "    return is_left_boundaries\n",
    "    "
   ]
  },
  {
   "cell_type": "code",
   "execution_count": 48,
   "metadata": {},
   "outputs": [],
   "source": [
    "is_left_boundaries_np = find_left_boundaries_np(trk, rs, epsilon=0.15)"
   ]
  },
  {
   "cell_type": "code",
   "execution_count": 49,
   "metadata": {},
   "outputs": [
    {
     "name": "stderr",
     "output_type": "stream",
     "text": [
      "/tmp/ipykernel_33369/1408026568.py:10: SettingWithCopyWarning: \n",
      "A value is trying to be set on a copy of a slice from a DataFrame\n",
      "\n",
      "See the caveats in the documentation: https://pandas.pydata.org/pandas-docs/stable/user_guide/indexing.html#returning-a-view-versus-a-copy\n",
      "  tracks.iloc[i]['label'] = -1\n"
     ]
    }
   ],
   "source": [
    "is_left_boundaries = find_left_boundaries(tracks, rs, epsilon)"
   ]
  },
  {
   "cell_type": "code",
   "execution_count": 50,
   "metadata": {},
   "outputs": [],
   "source": [
    "truth_left_boundaries = truth['left_boundaries'].astype(bool).values"
   ]
  },
  {
   "cell_type": "code",
   "execution_count": 51,
   "metadata": {},
   "outputs": [
    {
     "data": {
      "text/plain": [
       "True"
      ]
     },
     "execution_count": 51,
     "metadata": {},
     "output_type": "execute_result"
    }
   ],
   "source": [
    "np.array_equal(truth_left_boundaries, is_left_boundaries_np)"
   ]
  },
  {
   "cell_type": "markdown",
   "metadata": {},
   "source": [
    "**find right boundaries**"
   ]
  },
  {
   "cell_type": "code",
   "execution_count": null,
   "metadata": {},
   "outputs": [],
   "source": []
  },
  {
   "cell_type": "code",
   "execution_count": 52,
   "metadata": {},
   "outputs": [],
   "source": [
    "def find_right_boundaries(left_boundaries:np.array, rs:np.array) -> np.array:\n",
    "    boundaries = np.zeros((max_number_of_tracks, 3))\n",
    "    \n",
    "    \n",
    "    for i in range(max_number_of_tracks-1):\n",
    "        \n",
    "        check1 = left_boundaries[i] and not(left_boundaries[i+1])\n",
    "        check2 = not(left_boundaries[i]) and left_boundaries[i+1]\n",
    "        \n",
    "        if check1 or check2:\n",
    "            boundaries[i][0] = i\n",
    "            boundaries[i][1] = rs[i]\n",
    "            boundaries[i][2] = rs[i+1]\n",
    "        else:\n",
    "            boundaries[i][0] = max_number_of_tracks\n",
    "            boundaries[i][1] = 0\n",
    "            boundaries[i][2] = 0\n",
    "    if left_boundaries[max_number_of_tracks-1]:\n",
    "        boundaries[max_number_of_tracks -1][0] = max_number_of_tracks\n",
    "        boundaries[max_number_of_tracks -1][1] = 0\n",
    "        boundaries[max_number_of_tracks -1][2] = 0\n",
    "    else: \n",
    "        boundaries[max_number_of_tracks -1][0] = max_number_of_tracks - 1\n",
    "        boundaries[max_number_of_tracks -1][1] = rs[max_number_of_tracks -1]\n",
    "        boundaries[max_number_of_tracks -1][2] = rs[max_number_of_tracks]\n",
    "            \n",
    "    return boundaries\n",
    "        "
   ]
  },
  {
   "cell_type": "code",
   "execution_count": 53,
   "metadata": {},
   "outputs": [],
   "source": [
    "boundaries = find_right_boundaries(is_left_boundaries_np, rs)"
   ]
  },
  {
   "cell_type": "code",
   "execution_count": 54,
   "metadata": {},
   "outputs": [],
   "source": [
    "boundaries_idx = np.zeros(232, dtype=int)\n",
    "for i in range(boundaries.shape[0]):\n",
    "    boundaries_idx[i] = boundaries[i][0]"
   ]
  },
  {
   "cell_type": "code",
   "execution_count": 55,
   "metadata": {},
   "outputs": [
    {
     "data": {
      "text/plain": [
       "array([232, 232, 232,   3,   4, 232,   6,   7, 232,   9, 232, 232, 232,\n",
       "        13,  14, 232, 232, 232, 232, 232, 232, 232, 232, 232, 232, 232,\n",
       "       232, 232, 232,  29,  30, 232, 232, 232, 232, 232, 232, 232, 232,\n",
       "       232, 232, 232, 232, 232, 232, 232, 232, 232, 232, 232, 232, 232,\n",
       "       232, 232, 232, 232, 232, 232, 232, 232, 232, 232, 232, 232, 232,\n",
       "       232, 232, 232, 232, 232, 232, 232,  72,  73, 232,  75, 232,  77,\n",
       "       232, 232, 232, 232,  82,  83, 232, 232, 232, 232, 232, 232, 232,\n",
       "       232, 232, 232, 232, 232, 232, 232, 232, 232, 232, 232, 102, 103,\n",
       "       104, 105, 232, 107, 108, 109, 110, 111, 112, 113, 232, 115, 116,\n",
       "       117, 232, 232, 232, 121, 122, 232, 232, 125, 126, 127, 232, 232,\n",
       "       130, 131, 132, 232, 134, 135, 232, 137, 232, 139, 232, 232, 232,\n",
       "       232, 232, 232, 232, 232, 232, 232, 232, 232, 232, 232, 232, 232,\n",
       "       232, 232, 232, 232, 232, 232, 232, 232, 232, 232, 232, 232, 232,\n",
       "       232, 232, 232, 232, 232, 232, 232, 232, 232, 232, 232, 232, 232,\n",
       "       232, 232, 232, 232, 232, 232, 232, 232, 232, 232, 232, 232, 232,\n",
       "       232, 232, 232, 232, 232, 232, 232, 232, 232, 232, 232, 232, 232,\n",
       "       232, 232, 232, 232, 232, 232, 232, 232, 232, 232, 232, 232, 232,\n",
       "       232, 232, 232, 232, 232, 232, 232, 232, 232, 232, 231])"
      ]
     },
     "execution_count": 55,
     "metadata": {},
     "output_type": "execute_result"
    }
   ],
   "source": [
    "boundaries_idx"
   ]
  },
  {
   "cell_type": "code",
   "execution_count": 56,
   "metadata": {},
   "outputs": [
    {
     "data": {
      "text/plain": [
       "True"
      ]
     },
     "execution_count": 56,
     "metadata": {},
     "output_type": "execute_result"
    }
   ],
   "source": [
    "np.array_equal(boundaries_idx, boundaries_idx_truth)"
   ]
  },
  {
   "cell_type": "markdown",
   "metadata": {},
   "source": [
    "**need to sort boundaries by idx**"
   ]
  },
  {
   "cell_type": "code",
   "execution_count": 57,
   "metadata": {},
   "outputs": [],
   "source": [
    "boundaries = boundaries[boundaries[:,0].argsort()]"
   ]
  },
  {
   "cell_type": "code",
   "execution_count": 58,
   "metadata": {},
   "outputs": [
    {
     "data": {
      "text/plain": [
       "array([[  3.        ,   7.68991637,  12.51687503],\n",
       "       [  4.        ,  12.51687503,  15.64772797],\n",
       "       [  6.        ,  18.34631944,  20.30503583],\n",
       "       [  7.        ,  20.30503583,  23.19844341],\n",
       "       [  9.        ,  25.15646911,  29.24259496],\n",
       "       [ 13.        ,  36.31284523,  38.52395964],\n",
       "       [ 14.        ,  38.52395964,  43.74597502],\n",
       "       [ 29.        , 138.71481097, 143.43104088],\n",
       "       [ 30.        , 143.43104088, 146.66212499],\n",
       "       [ 72.        , 282.99606824, 285.45443964],\n",
       "       [ 73.        , 285.45443964, 287.65721822],\n",
       "       [ 75.        , 290.70053101, 293.59620261],\n",
       "       [ 77.        , 295.68618846, 298.19909143],\n",
       "       [ 82.        , 311.20925546, 313.35955667],\n",
       "       [ 83.        , 313.35955667, 315.31827307],\n",
       "       [102.        , 362.38224423, 364.80203593],\n",
       "       [103.        , 364.80203593, 367.40875232],\n",
       "       [104.        , 367.40875232, 369.50862086],\n",
       "       [105.        , 369.50862086, 374.37792122],\n",
       "       [107.        , 376.56421602, 378.76918232],\n",
       "       [108.        , 378.76918232, 381.23246276],\n",
       "       [109.        , 381.23246276, 384.02542007],\n",
       "       [110.        , 384.02542007, 386.70447528],\n",
       "       [111.        , 386.70447528, 388.69052267],\n",
       "       [112.        , 388.69052267, 390.64132309],\n",
       "       [113.        , 390.64132309, 395.44322824],\n",
       "       [115.        , 397.64295173, 400.87591767],\n",
       "       [116.        , 400.87591767, 405.06851792],\n",
       "       [117.        , 405.06851792, 408.25600147],\n",
       "       [121.        , 415.74417925, 419.81532145],\n",
       "       [122.        , 419.81532145, 426.12686491],\n",
       "       [125.        , 432.57518625, 436.86002064],\n",
       "       [126.        , 436.86002064, 441.10877848],\n",
       "       [127.        , 441.10877848, 443.28393602],\n",
       "       [130.        , 448.57420659, 450.60530877],\n",
       "       [131.        , 450.60530877, 452.85632348],\n",
       "       [132.        , 452.85632348, 455.16683435],\n",
       "       [134.        , 458.22103095, 461.38489652],\n",
       "       [135.        , 461.38489652, 463.4627564 ],\n",
       "       [137.        , 465.45916069, 467.53507793],\n",
       "       [139.        , 469.59520137, 469.59520137],\n",
       "       [231.        , 469.59520137, 469.59520137],\n",
       "       [232.        ,   0.        ,   0.        ],\n",
       "       [232.        ,   0.        ,   0.        ],\n",
       "       [232.        ,   0.        ,   0.        ],\n",
       "       [232.        ,   0.        ,   0.        ],\n",
       "       [232.        ,   0.        ,   0.        ],\n",
       "       [232.        ,   0.        ,   0.        ],\n",
       "       [232.        ,   0.        ,   0.        ],\n",
       "       [232.        ,   0.        ,   0.        ],\n",
       "       [232.        ,   0.        ,   0.        ],\n",
       "       [232.        ,   0.        ,   0.        ],\n",
       "       [232.        ,   0.        ,   0.        ],\n",
       "       [232.        ,   0.        ,   0.        ],\n",
       "       [232.        ,   0.        ,   0.        ],\n",
       "       [232.        ,   0.        ,   0.        ],\n",
       "       [232.        ,   0.        ,   0.        ],\n",
       "       [232.        ,   0.        ,   0.        ],\n",
       "       [232.        ,   0.        ,   0.        ],\n",
       "       [232.        ,   0.        ,   0.        ],\n",
       "       [232.        ,   0.        ,   0.        ],\n",
       "       [232.        ,   0.        ,   0.        ],\n",
       "       [232.        ,   0.        ,   0.        ],\n",
       "       [232.        ,   0.        ,   0.        ],\n",
       "       [232.        ,   0.        ,   0.        ],\n",
       "       [232.        ,   0.        ,   0.        ],\n",
       "       [232.        ,   0.        ,   0.        ],\n",
       "       [232.        ,   0.        ,   0.        ],\n",
       "       [232.        ,   0.        ,   0.        ],\n",
       "       [232.        ,   0.        ,   0.        ],\n",
       "       [232.        ,   0.        ,   0.        ],\n",
       "       [232.        ,   0.        ,   0.        ],\n",
       "       [232.        ,   0.        ,   0.        ],\n",
       "       [232.        ,   0.        ,   0.        ],\n",
       "       [232.        ,   0.        ,   0.        ],\n",
       "       [232.        ,   0.        ,   0.        ],\n",
       "       [232.        ,   0.        ,   0.        ],\n",
       "       [232.        ,   0.        ,   0.        ],\n",
       "       [232.        ,   0.        ,   0.        ],\n",
       "       [232.        ,   0.        ,   0.        ],\n",
       "       [232.        ,   0.        ,   0.        ],\n",
       "       [232.        ,   0.        ,   0.        ],\n",
       "       [232.        ,   0.        ,   0.        ],\n",
       "       [232.        ,   0.        ,   0.        ],\n",
       "       [232.        ,   0.        ,   0.        ],\n",
       "       [232.        ,   0.        ,   0.        ],\n",
       "       [232.        ,   0.        ,   0.        ],\n",
       "       [232.        ,   0.        ,   0.        ],\n",
       "       [232.        ,   0.        ,   0.        ],\n",
       "       [232.        ,   0.        ,   0.        ],\n",
       "       [232.        ,   0.        ,   0.        ],\n",
       "       [232.        ,   0.        ,   0.        ],\n",
       "       [232.        ,   0.        ,   0.        ],\n",
       "       [232.        ,   0.        ,   0.        ],\n",
       "       [232.        ,   0.        ,   0.        ],\n",
       "       [232.        ,   0.        ,   0.        ],\n",
       "       [232.        ,   0.        ,   0.        ],\n",
       "       [232.        ,   0.        ,   0.        ],\n",
       "       [232.        ,   0.        ,   0.        ],\n",
       "       [232.        ,   0.        ,   0.        ],\n",
       "       [232.        ,   0.        ,   0.        ],\n",
       "       [232.        ,   0.        ,   0.        ],\n",
       "       [232.        ,   0.        ,   0.        ],\n",
       "       [232.        ,   0.        ,   0.        ],\n",
       "       [232.        ,   0.        ,   0.        ],\n",
       "       [232.        ,   0.        ,   0.        ],\n",
       "       [232.        ,   0.        ,   0.        ],\n",
       "       [232.        ,   0.        ,   0.        ],\n",
       "       [232.        ,   0.        ,   0.        ],\n",
       "       [232.        ,   0.        ,   0.        ],\n",
       "       [232.        ,   0.        ,   0.        ],\n",
       "       [232.        ,   0.        ,   0.        ],\n",
       "       [232.        ,   0.        ,   0.        ],\n",
       "       [232.        ,   0.        ,   0.        ],\n",
       "       [232.        ,   0.        ,   0.        ],\n",
       "       [232.        ,   0.        ,   0.        ],\n",
       "       [232.        ,   0.        ,   0.        ],\n",
       "       [232.        ,   0.        ,   0.        ],\n",
       "       [232.        ,   0.        ,   0.        ],\n",
       "       [232.        ,   0.        ,   0.        ],\n",
       "       [232.        ,   0.        ,   0.        ],\n",
       "       [232.        ,   0.        ,   0.        ],\n",
       "       [232.        ,   0.        ,   0.        ],\n",
       "       [232.        ,   0.        ,   0.        ],\n",
       "       [232.        ,   0.        ,   0.        ],\n",
       "       [232.        ,   0.        ,   0.        ],\n",
       "       [232.        ,   0.        ,   0.        ],\n",
       "       [232.        ,   0.        ,   0.        ],\n",
       "       [232.        ,   0.        ,   0.        ],\n",
       "       [232.        ,   0.        ,   0.        ],\n",
       "       [232.        ,   0.        ,   0.        ],\n",
       "       [232.        ,   0.        ,   0.        ],\n",
       "       [232.        ,   0.        ,   0.        ],\n",
       "       [232.        ,   0.        ,   0.        ],\n",
       "       [232.        ,   0.        ,   0.        ],\n",
       "       [232.        ,   0.        ,   0.        ],\n",
       "       [232.        ,   0.        ,   0.        ],\n",
       "       [232.        ,   0.        ,   0.        ],\n",
       "       [232.        ,   0.        ,   0.        ],\n",
       "       [232.        ,   0.        ,   0.        ],\n",
       "       [232.        ,   0.        ,   0.        ],\n",
       "       [232.        ,   0.        ,   0.        ],\n",
       "       [232.        ,   0.        ,   0.        ],\n",
       "       [232.        ,   0.        ,   0.        ],\n",
       "       [232.        ,   0.        ,   0.        ],\n",
       "       [232.        ,   0.        ,   0.        ],\n",
       "       [232.        ,   0.        ,   0.        ],\n",
       "       [232.        ,   0.        ,   0.        ],\n",
       "       [232.        ,   0.        ,   0.        ],\n",
       "       [232.        ,   0.        ,   0.        ],\n",
       "       [232.        ,   0.        ,   0.        ],\n",
       "       [232.        ,   0.        ,   0.        ],\n",
       "       [232.        ,   0.        ,   0.        ],\n",
       "       [232.        ,   0.        ,   0.        ],\n",
       "       [232.        ,   0.        ,   0.        ],\n",
       "       [232.        ,   0.        ,   0.        ],\n",
       "       [232.        ,   0.        ,   0.        ],\n",
       "       [232.        ,   0.        ,   0.        ],\n",
       "       [232.        ,   0.        ,   0.        ],\n",
       "       [232.        ,   0.        ,   0.        ],\n",
       "       [232.        ,   0.        ,   0.        ],\n",
       "       [232.        ,   0.        ,   0.        ],\n",
       "       [232.        ,   0.        ,   0.        ],\n",
       "       [232.        ,   0.        ,   0.        ],\n",
       "       [232.        ,   0.        ,   0.        ],\n",
       "       [232.        ,   0.        ,   0.        ],\n",
       "       [232.        ,   0.        ,   0.        ],\n",
       "       [232.        ,   0.        ,   0.        ],\n",
       "       [232.        ,   0.        ,   0.        ],\n",
       "       [232.        ,   0.        ,   0.        ],\n",
       "       [232.        ,   0.        ,   0.        ],\n",
       "       [232.        ,   0.        ,   0.        ],\n",
       "       [232.        ,   0.        ,   0.        ],\n",
       "       [232.        ,   0.        ,   0.        ],\n",
       "       [232.        ,   0.        ,   0.        ],\n",
       "       [232.        ,   0.        ,   0.        ],\n",
       "       [232.        ,   0.        ,   0.        ],\n",
       "       [232.        ,   0.        ,   0.        ],\n",
       "       [232.        ,   0.        ,   0.        ],\n",
       "       [232.        ,   0.        ,   0.        ],\n",
       "       [232.        ,   0.        ,   0.        ],\n",
       "       [232.        ,   0.        ,   0.        ],\n",
       "       [232.        ,   0.        ,   0.        ],\n",
       "       [232.        ,   0.        ,   0.        ],\n",
       "       [232.        ,   0.        ,   0.        ],\n",
       "       [232.        ,   0.        ,   0.        ],\n",
       "       [232.        ,   0.        ,   0.        ],\n",
       "       [232.        ,   0.        ,   0.        ],\n",
       "       [232.        ,   0.        ,   0.        ],\n",
       "       [232.        ,   0.        ,   0.        ],\n",
       "       [232.        ,   0.        ,   0.        ],\n",
       "       [232.        ,   0.        ,   0.        ],\n",
       "       [232.        ,   0.        ,   0.        ],\n",
       "       [232.        ,   0.        ,   0.        ],\n",
       "       [232.        ,   0.        ,   0.        ],\n",
       "       [232.        ,   0.        ,   0.        ],\n",
       "       [232.        ,   0.        ,   0.        ],\n",
       "       [232.        ,   0.        ,   0.        ],\n",
       "       [232.        ,   0.        ,   0.        ],\n",
       "       [232.        ,   0.        ,   0.        ],\n",
       "       [232.        ,   0.        ,   0.        ],\n",
       "       [232.        ,   0.        ,   0.        ],\n",
       "       [232.        ,   0.        ,   0.        ],\n",
       "       [232.        ,   0.        ,   0.        ],\n",
       "       [232.        ,   0.        ,   0.        ],\n",
       "       [232.        ,   0.        ,   0.        ],\n",
       "       [232.        ,   0.        ,   0.        ],\n",
       "       [232.        ,   0.        ,   0.        ],\n",
       "       [232.        ,   0.        ,   0.        ],\n",
       "       [232.        ,   0.        ,   0.        ],\n",
       "       [232.        ,   0.        ,   0.        ],\n",
       "       [232.        ,   0.        ,   0.        ],\n",
       "       [232.        ,   0.        ,   0.        ],\n",
       "       [232.        ,   0.        ,   0.        ],\n",
       "       [232.        ,   0.        ,   0.        ],\n",
       "       [232.        ,   0.        ,   0.        ],\n",
       "       [232.        ,   0.        ,   0.        ],\n",
       "       [232.        ,   0.        ,   0.        ],\n",
       "       [232.        ,   0.        ,   0.        ],\n",
       "       [232.        ,   0.        ,   0.        ],\n",
       "       [232.        ,   0.        ,   0.        ],\n",
       "       [232.        ,   0.        ,   0.        ],\n",
       "       [232.        ,   0.        ,   0.        ],\n",
       "       [232.        ,   0.        ,   0.        ],\n",
       "       [232.        ,   0.        ,   0.        ],\n",
       "       [232.        ,   0.        ,   0.        ],\n",
       "       [232.        ,   0.        ,   0.        ],\n",
       "       [232.        ,   0.        ,   0.        ],\n",
       "       [232.        ,   0.        ,   0.        ],\n",
       "       [232.        ,   0.        ,   0.        ],\n",
       "       [232.        ,   0.        ,   0.        ],\n",
       "       [232.        ,   0.        ,   0.        ]])"
      ]
     },
     "execution_count": 58,
     "metadata": {},
     "output_type": "execute_result"
    }
   ],
   "source": [
    "boundaries"
   ]
  },
  {
   "cell_type": "markdown",
   "metadata": {},
   "source": [
    "**find vertices**"
   ]
  },
  {
   "cell_type": "code",
   "execution_count": 59,
   "metadata": {},
   "outputs": [],
   "source": [
    "def get_vertex(tracks: np.array) -> float:\n",
    "\n",
    "    n_size = tracks.shape[0]\n",
    "    # median z0 as prediction (this is not quite right for even numbers)\n",
    "    z0_vertex = tracks[int(n_size / 2)][0]\n",
    "    return z0_vertex"
   ]
  },
  {
   "cell_type": "code",
   "execution_count": 60,
   "metadata": {},
   "outputs": [],
   "source": [
    "def find_vertex_and_label_clusters(\n",
    "    tracks: np.array, startIndex: int, endIndex: int, label: int\n",
    ") -> float:\n",
    "\n",
    "    tracks_cluster = tracks[startIndex : endIndex + 1]\n",
    "\n",
    "    z0_vertex = get_vertex(tracks_cluster)\n",
    "\n",
    "    return z0_vertex"
   ]
  },
  {
   "cell_type": "code",
   "execution_count": 61,
   "metadata": {},
   "outputs": [],
   "source": [
    "def find_vertices(tracks: np.array, boundaries: np.array) -> np.array:\n",
    "    label = 0\n",
    "    vertices = np.zeros((int(max_number_of_tracks / 2), 2))\n",
    "\n",
    "    for i in range(0, max_number_of_tracks, 2):\n",
    "        left_boundary = boundaries[i]\n",
    "        right_boundary = boundaries[i + 1]\n",
    "        \n",
    "        if left_boundary[0] != right_boundary[0]:\n",
    "            label += 1\n",
    "            z0_vertex = find_vertex_and_label_clusters(\n",
    "                tracks, int(left_boundary[0]), int(right_boundary[0]), label\n",
    "            )\n",
    "            \n",
    "            vertices[int(i / 2)][0] = z0_vertex\n",
    "            vertices[int(i / 2)][1] = right_boundary[2] - left_boundary[1]\n",
    "    return vertices"
   ]
  },
  {
   "cell_type": "code",
   "execution_count": 62,
   "metadata": {},
   "outputs": [],
   "source": [
    "vertices = find_vertices(trk, boundaries)"
   ]
  },
  {
   "cell_type": "markdown",
   "metadata": {},
   "source": [
    "**Sort the vertices by pT**"
   ]
  },
  {
   "cell_type": "code",
   "execution_count": 63,
   "metadata": {},
   "outputs": [],
   "source": [
    "#Argsort sorts in increasing order (add argsort[::-1][:n] for descending order)\n",
    "vertices = vertices[vertices[:,1].argsort()[::-1][:vertices.shape[0]]]"
   ]
  },
  {
   "cell_type": "code",
   "execution_count": 64,
   "metadata": {},
   "outputs": [],
   "source": [
    "result = vertices[0][0]"
   ]
  },
  {
   "cell_type": "code",
   "execution_count": 65,
   "metadata": {},
   "outputs": [
    {
     "data": {
      "text/plain": [
       "-2.2265625"
      ]
     },
     "execution_count": 65,
     "metadata": {},
     "output_type": "execute_result"
    }
   ],
   "source": [
    "result"
   ]
  },
  {
   "cell_type": "code",
   "execution_count": 66,
   "metadata": {},
   "outputs": [
    {
     "data": {
      "text/plain": [
       "array(-2.22656, dtype=float32)"
      ]
     },
     "execution_count": 66,
     "metadata": {},
     "output_type": "execute_result"
    }
   ],
   "source": [
    "pv_recon"
   ]
  },
  {
   "cell_type": "markdown",
   "metadata": {},
   "source": [
    "BOOOM!"
   ]
  },
  {
   "cell_type": "markdown",
   "metadata": {},
   "source": [
    "I think this needs to be object oriented to be less messy."
   ]
  },
  {
   "cell_type": "code",
   "execution_count": 67,
   "metadata": {},
   "outputs": [
    {
     "data": {
      "text/plain": [
       "array([[-9.19921875,  2.81277061,  0.        ],\n",
       "       [-8.26171875,  2.65407705, -1.        ],\n",
       "       [-6.09375   ,  2.22306871, -1.        ],\n",
       "       [-5.625     ,  4.82695866, -1.        ],\n",
       "       [-5.5078125 ,  3.13085294,  0.        ],\n",
       "       [-5.09765625,  2.69859147, -1.        ],\n",
       "       [-4.921875  ,  1.95871639, -1.        ],\n",
       "       [-4.921875  ,  2.89340758,  0.        ],\n",
       "       [-4.6875    ,  1.95802569, -1.        ],\n",
       "       [-4.21875   ,  4.08612585, -1.        ],\n",
       "       [-4.21875   ,  2.35012794,  0.        ],\n",
       "       [-4.16015625,  2.60061026,  0.        ],\n",
       "       [-4.04296875,  2.11951208,  0.        ],\n",
       "       [-4.04296875,  2.21111441,  0.        ],\n",
       "       [-3.80859375,  5.22201538, -1.        ],\n",
       "       [-3.75      ,  2.13500094,  0.        ],\n",
       "       [-3.69140625,  1.97755694,  0.        ],\n",
       "       [-3.69140625,  1.97755694,  0.        ],\n",
       "       [-3.69140625,  2.32697654,  0.        ],\n",
       "       [-3.6328125 ,  1.9535464 ,  0.        ],\n",
       "       [-3.6328125 ,  5.0144558 ,  0.        ],\n",
       "       [-3.6328125 ,  3.64358568,  0.        ],\n",
       "       [-3.57421875,  2.97640848,  0.        ],\n",
       "       [-3.57421875,  9.0186882 ,  0.        ],\n",
       "       [-3.515625  ,  9.32158279,  0.        ],\n",
       "       [-3.515625  ,  3.75194478,  0.        ],\n",
       "       [-3.515625  ,  7.09846878,  0.        ],\n",
       "       [-3.45703125, 10.23226166,  0.        ],\n",
       "       [-3.45703125, 33.540802  ,  0.        ],\n",
       "       [-3.3984375 ,  4.71622992,  0.        ],\n",
       "       [-3.1640625 ,  3.23108411, -1.        ],\n",
       "       [-3.10546875,  2.00505781,  0.        ],\n",
       "       [-3.046875  ,  2.10784221,  0.        ],\n",
       "       [-2.9296875 ,  2.43304944,  0.        ],\n",
       "       [-2.9296875 ,  3.13173628,  0.        ],\n",
       "       [-2.9296875 ,  1.97474289,  0.        ],\n",
       "       [-2.8125    ,  2.40719962,  0.        ],\n",
       "       [-2.6953125 ,  2.06356978,  0.        ],\n",
       "       [-2.578125  ,  2.08566713,  0.        ],\n",
       "       [-2.51953125,  2.45891571,  0.        ],\n",
       "       [-2.4609375 ,  3.46288371,  0.        ],\n",
       "       [-2.40234375,  2.79788423,  0.        ],\n",
       "       [-2.34375   ,  2.31532955,  0.        ],\n",
       "       [-2.34375   ,  2.3377564 ,  0.        ],\n",
       "       [-2.34375   ,  3.10285211,  0.        ],\n",
       "       [-2.28515625,  2.28624463,  0.        ],\n",
       "       [-2.28515625,  2.94561028,  0.        ],\n",
       "       [-2.2265625 ,  7.69903231,  0.        ],\n",
       "       [-2.2265625 ,  2.81991482,  0.        ],\n",
       "       [-2.2265625 ,  4.82695866,  0.        ],\n",
       "       [-2.2265625 ,  2.21951318,  0.        ],\n",
       "       [-2.2265625 ,  4.23740625,  0.        ],\n",
       "       [-2.16796875,  2.14738965,  0.        ],\n",
       "       [-2.109375  ,  2.52720356,  0.        ],\n",
       "       [-2.05078125, 10.22284031,  0.        ],\n",
       "       [-2.05078125,  4.5537343 ,  0.        ],\n",
       "       [-1.9921875 ,  2.72107959,  0.        ],\n",
       "       [-1.9921875 ,  5.0440731 ,  0.        ],\n",
       "       [-1.9921875 ,  2.19624209,  0.        ],\n",
       "       [-1.875     ,  2.45619583,  0.        ],\n",
       "       [-1.81640625,  4.64713478,  0.        ],\n",
       "       [-1.81640625,  1.95699012,  0.        ],\n",
       "       [-1.7578125 ,  2.46766067,  0.        ],\n",
       "       [-1.7578125 ,  2.94170761,  0.        ],\n",
       "       [-1.7578125 , 10.64429951,  0.        ],\n",
       "       [-1.69921875,  2.71309996,  0.        ],\n",
       "       [-1.69921875,  2.09828091,  0.        ],\n",
       "       [-1.69921875,  2.51689076,  0.        ],\n",
       "       [-1.58203125,  3.48681068,  0.        ],\n",
       "       [-1.46484375,  4.4408021 ,  0.        ],\n",
       "       [-1.46484375,  2.30571222,  0.        ],\n",
       "       [-1.40625   ,  2.52662849,  0.        ],\n",
       "       [-1.40625   ,  2.4583714 ,  0.        ],\n",
       "       [-1.0546875 ,  2.20277858, -1.        ],\n",
       "       [-0.99609375,  3.04331279,  0.        ],\n",
       "       [-0.9375    ,  2.89567161,  0.        ],\n",
       "       [-0.76171875,  2.08998585, -1.        ],\n",
       "       [-0.5859375 ,  2.51290298, -1.        ],\n",
       "       [-0.5859375 ,  3.06177735,  0.        ],\n",
       "       [-0.52734375,  3.68225718,  0.        ],\n",
       "       [-0.41015625,  4.09819269,  0.        ],\n",
       "       [-0.41015625,  2.1679368 ,  0.        ],\n",
       "       [-0.29296875,  2.15030122,  0.        ],\n",
       "       [-0.1171875 ,  1.95871639, -1.        ],\n",
       "       [-0.05859375,  2.21862602,  0.        ],\n",
       "       [-0.05859375,  2.98521233,  0.        ],\n",
       "       [-0.05859375,  1.99928057,  0.        ],\n",
       "       [ 0.05859375,  2.55747628,  0.        ],\n",
       "       [ 0.05859375,  2.55747628,  0.        ],\n",
       "       [ 0.05859375,  1.97474289,  0.        ],\n",
       "       [ 0.1171875 ,  2.17857242,  0.        ],\n",
       "       [ 0.234375  ,  2.06548929,  0.        ],\n",
       "       [ 0.234375  ,  3.67494369,  0.        ],\n",
       "       [ 0.29296875,  2.6358037 ,  0.        ],\n",
       "       [ 0.29296875,  2.08841324,  0.        ],\n",
       "       [ 0.29296875,  2.44915175,  0.        ],\n",
       "       [ 0.29296875,  3.85888243,  0.        ],\n",
       "       [ 0.3515625 ,  2.3561132 ,  0.        ],\n",
       "       [ 0.3515625 ,  1.97193694,  0.        ],\n",
       "       [ 0.3515625 ,  4.39857578,  0.        ],\n",
       "       [ 0.3515625 ,  2.46930718,  0.        ],\n",
       "       [ 0.3515625 ,  2.62396717,  0.        ],\n",
       "       [ 0.41015625,  2.4197917 ,  0.        ],\n",
       "       [ 0.5859375 ,  2.60671639, -1.        ],\n",
       "       [ 0.64453125,  2.09986854,  0.        ],\n",
       "       [ 0.87890625,  4.86930037, -1.        ],\n",
       "       [ 0.99609375,  2.18629479,  0.        ],\n",
       "       [ 1.0546875 ,  2.20496631,  0.        ],\n",
       "       [ 1.2890625 ,  2.46328044, -1.        ],\n",
       "       [ 1.34765625,  2.79295731,  0.        ],\n",
       "       [ 1.640625  ,  2.67905521, -1.        ],\n",
       "       [ 1.69921875,  1.98604739,  0.        ],\n",
       "       [ 1.9921875 ,  1.95080042, -1.        ],\n",
       "       [ 2.109375  ,  4.80190516,  0.        ],\n",
       "       [ 2.28515625,  2.19972348, -1.        ],\n",
       "       [ 2.4609375 ,  3.23296595, -1.        ],\n",
       "       [ 2.51953125,  4.19260025,  0.        ],\n",
       "       [ 2.8125    ,  3.18748355, -1.        ],\n",
       "       [ 2.9296875 ,  2.98120451,  0.        ],\n",
       "       [ 2.98828125,  2.08136582,  0.        ],\n",
       "       [ 2.98828125,  2.42560744,  0.        ],\n",
       "       [ 3.10546875,  4.0711422 ,  0.        ],\n",
       "       [ 3.45703125,  6.31154346, -1.        ],\n",
       "       [ 3.57421875,  3.14415312,  0.        ],\n",
       "       [ 3.57421875,  3.30416822,  0.        ],\n",
       "       [ 3.6328125 ,  4.28483438,  0.        ],\n",
       "       [ 3.8671875 ,  4.24875784, -1.        ],\n",
       "       [ 3.8671875 ,  2.17515755,  0.        ],\n",
       "       [ 4.04296875,  2.74802089, -1.        ],\n",
       "       [ 5.09765625,  2.54224968, -1.        ],\n",
       "       [ 5.2734375 ,  2.03110218, -1.        ],\n",
       "       [ 5.390625  ,  2.25101471,  0.        ],\n",
       "       [ 5.7421875 ,  2.31051087, -1.        ],\n",
       "       [ 5.80078125,  3.0541966 ,  0.        ],\n",
       "       [ 5.859375  ,  3.16386557,  0.        ],\n",
       "       [ 6.50390625,  2.07785988, -1.        ],\n",
       "       [ 6.5625    ,  1.99640429,  0.        ],\n",
       "       [ 6.62109375,  2.07591724,  0.        ],\n",
       "       [ 7.03125   ,  2.06012344, -1.        ],\n",
       "       [21.        ,  0.        , -1.        ],\n",
       "       [21.        ,  0.        ,  0.        ],\n",
       "       [21.        ,  0.        ,  0.        ],\n",
       "       [21.        ,  0.        ,  0.        ],\n",
       "       [21.        ,  0.        ,  0.        ],\n",
       "       [21.        ,  0.        ,  0.        ],\n",
       "       [21.        ,  0.        ,  0.        ],\n",
       "       [21.        ,  0.        ,  0.        ],\n",
       "       [21.        ,  0.        ,  0.        ],\n",
       "       [21.        ,  0.        ,  0.        ],\n",
       "       [21.        ,  0.        ,  0.        ],\n",
       "       [21.        ,  0.        ,  0.        ],\n",
       "       [21.        ,  0.        ,  0.        ],\n",
       "       [21.        ,  0.        ,  0.        ],\n",
       "       [21.        ,  0.        ,  0.        ],\n",
       "       [21.        ,  0.        ,  0.        ],\n",
       "       [21.        ,  0.        ,  0.        ],\n",
       "       [21.        ,  0.        ,  0.        ],\n",
       "       [21.        ,  0.        ,  0.        ],\n",
       "       [21.        ,  0.        ,  0.        ],\n",
       "       [21.        ,  0.        ,  0.        ],\n",
       "       [21.        ,  0.        ,  0.        ],\n",
       "       [21.        ,  0.        ,  0.        ],\n",
       "       [21.        ,  0.        ,  0.        ],\n",
       "       [21.        ,  0.        ,  0.        ],\n",
       "       [21.        ,  0.        ,  0.        ],\n",
       "       [21.        ,  0.        ,  0.        ],\n",
       "       [21.        ,  0.        ,  0.        ],\n",
       "       [21.        ,  0.        ,  0.        ],\n",
       "       [21.        ,  0.        ,  0.        ],\n",
       "       [21.        ,  0.        ,  0.        ],\n",
       "       [21.        ,  0.        ,  0.        ],\n",
       "       [21.        ,  0.        ,  0.        ],\n",
       "       [21.        ,  0.        ,  0.        ],\n",
       "       [21.        ,  0.        ,  0.        ],\n",
       "       [21.        ,  0.        ,  0.        ],\n",
       "       [21.        ,  0.        ,  0.        ],\n",
       "       [21.        ,  0.        ,  0.        ],\n",
       "       [21.        ,  0.        ,  0.        ],\n",
       "       [21.        ,  0.        ,  0.        ],\n",
       "       [21.        ,  0.        ,  0.        ],\n",
       "       [21.        ,  0.        ,  0.        ],\n",
       "       [21.        ,  0.        ,  0.        ],\n",
       "       [21.        ,  0.        ,  0.        ],\n",
       "       [21.        ,  0.        ,  0.        ],\n",
       "       [21.        ,  0.        ,  0.        ],\n",
       "       [21.        ,  0.        ,  0.        ],\n",
       "       [21.        ,  0.        ,  0.        ],\n",
       "       [21.        ,  0.        ,  0.        ],\n",
       "       [21.        ,  0.        ,  0.        ],\n",
       "       [21.        ,  0.        ,  0.        ],\n",
       "       [21.        ,  0.        ,  0.        ],\n",
       "       [21.        ,  0.        ,  0.        ],\n",
       "       [21.        ,  0.        ,  0.        ],\n",
       "       [21.        ,  0.        ,  0.        ],\n",
       "       [21.        ,  0.        ,  0.        ],\n",
       "       [21.        ,  0.        ,  0.        ],\n",
       "       [21.        ,  0.        ,  0.        ],\n",
       "       [21.        ,  0.        ,  0.        ],\n",
       "       [21.        ,  0.        ,  0.        ],\n",
       "       [21.        ,  0.        ,  0.        ],\n",
       "       [21.        ,  0.        ,  0.        ],\n",
       "       [21.        ,  0.        ,  0.        ],\n",
       "       [21.        ,  0.        ,  0.        ],\n",
       "       [21.        ,  0.        ,  0.        ],\n",
       "       [21.        ,  0.        ,  0.        ],\n",
       "       [21.        ,  0.        ,  0.        ],\n",
       "       [21.        ,  0.        ,  0.        ],\n",
       "       [21.        ,  0.        ,  0.        ],\n",
       "       [21.        ,  0.        ,  0.        ],\n",
       "       [21.        ,  0.        ,  0.        ],\n",
       "       [21.        ,  0.        ,  0.        ],\n",
       "       [21.        ,  0.        ,  0.        ],\n",
       "       [21.        ,  0.        ,  0.        ],\n",
       "       [21.        ,  0.        ,  0.        ],\n",
       "       [21.        ,  0.        ,  0.        ],\n",
       "       [21.        ,  0.        ,  0.        ],\n",
       "       [21.        ,  0.        ,  0.        ],\n",
       "       [21.        ,  0.        ,  0.        ],\n",
       "       [21.        ,  0.        ,  0.        ],\n",
       "       [21.        ,  0.        ,  0.        ],\n",
       "       [21.        ,  0.        ,  0.        ],\n",
       "       [21.        ,  0.        ,  0.        ],\n",
       "       [21.        ,  0.        ,  0.        ],\n",
       "       [21.        ,  0.        ,  0.        ],\n",
       "       [21.        ,  0.        ,  0.        ],\n",
       "       [21.        ,  0.        ,  0.        ],\n",
       "       [21.        ,  0.        ,  0.        ],\n",
       "       [21.        ,  0.        ,  0.        ],\n",
       "       [21.        ,  0.        ,  0.        ],\n",
       "       [21.        ,  0.        ,  0.        ],\n",
       "       [21.        ,  0.        ,  0.        ],\n",
       "       [21.        ,  0.        ,  0.        ]])"
      ]
     },
     "execution_count": 67,
     "metadata": {},
     "output_type": "execute_result"
    }
   ],
   "source": [
    "trk"
   ]
  },
  {
   "cell_type": "markdown",
   "metadata": {},
   "source": [
    "## Object oriented Accelerated DBSCAN"
   ]
  },
  {
   "cell_type": "code",
   "execution_count": 68,
   "metadata": {},
   "outputs": [],
   "source": [
    "class AccDBSCAN:\n",
    "    def __init__(self, z0, pt, eps, max_number_of_tracks, verbose: bool = False):\n",
    "        self.z0 = z0\n",
    "        self.pt = pt\n",
    "        self.eps = eps\n",
    "        self.verbose = verbose\n",
    "        self.n_tracks = z0.shape[0]\n",
    "        self.rs = pt  # variable to contain the sum of pt\n",
    "        self.max_number_of_tracks = int(max_number_of_tracks)\n",
    "        self.max_number_of_tracks_power_2 = 1 << (max_number_of_tracks - 1).bit_length()\n",
    "        self.max_number_of_tracks_log_2 = np.log2(self.max_number_of_tracks_power_2)\n",
    "\n",
    "    def add_padding(self):\n",
    "        \"\"\"pads array to match the maximum number of tracks\"\"\"\n",
    "\n",
    "        n_pad = self.max_number_of_tracks - self.n_tracks\n",
    "\n",
    "        # 21 cm is like out of bounds of the tracker\n",
    "        to_pad_z0 = 21 * np.ones(n_pad)\n",
    "        self.z0 = np.append(self.z0, to_pad_z0)\n",
    "\n",
    "        # 0 GeV padding for pT\n",
    "        to_pad_pt = np.zeros(n_pad)\n",
    "        self.pt = np.append(self.pt, to_pad_pt)\n",
    "\n",
    "        # 0 GeV padding to nearesr power of 2 for prefix sum of pT\n",
    "        n_pad_rs = self.max_number_of_tracks_power_2 - self.n_tracks\n",
    "        to_pad_rs = np.zeros(n_pad_rs)\n",
    "        self.rs = np.append(self.rs, to_pad_rs)\n",
    "\n",
    "    def build_tracks(self):\n",
    "        \"\"\"\n",
    "        builds tracks by putting together the [z0, pt, label] information.\n",
    "        labels are initialized to 0 first\n",
    "        \"\"\"\n",
    "        self.tracks = np.zeros((max_number_of_tracks, 3))\n",
    "\n",
    "        self.tracks[:, 0] = self.z0\n",
    "        self.tracks[:, 1] = self.pt\n",
    "\n",
    "        # sort the tracks by z0\n",
    "        self.tracks = self.tracks[self.tracks[:, 0].argsort()]\n",
    "\n",
    "    def initialize_data(self):\n",
    "\n",
    "        # pad z0 and pt\n",
    "        self.add_padding()\n",
    "        if self.verbose:\n",
    "            print(\"data padded\")\n",
    "\n",
    "        # build tracks\n",
    "        self.build_tracks()\n",
    "        if self.verbose:\n",
    "            print(\"tracks built\")\n",
    "\n",
    "        self.prefix_sum()\n",
    "        if self.verbose:\n",
    "            print(\"prefix sum done\")\n",
    "\n",
    "    def fit(self):\n",
    "\n",
    "        # setup tracks and sorting\n",
    "        self.initialize_data()\n",
    "        if self.verbose:\n",
    "            print(\"data initialized...\")\n",
    "\n",
    "        # find left boundaries\n",
    "        self.find_left_boundaries()\n",
    "        if self.verbose:\n",
    "            print(\"left boundaries found...\")\n",
    "\n",
    "        # find right boundaries\n",
    "        self.find_right_boundaries()\n",
    "        if self.verbose:\n",
    "            print(\"right boundaries found...\")\n",
    "        # find vertices\n",
    "        self.find_vertices()\n",
    "        if self.verbose:\n",
    "            print(\"vertices found...\")\n",
    "\n",
    "        # record z0 of primary vertex\n",
    "        self.pv_z0 = self.vertices[0][0]\n",
    "        if self.verbose:\n",
    "            print(\"scan complete.\")\n",
    "\n",
    "    def find_left_boundaries(self):\n",
    "\n",
    "        left_boundaries = np.zeros(self.max_number_of_tracks, dtype=bool)\n",
    "\n",
    "        # first value is always a left boundary\n",
    "        left_boundaries[0] = 1\n",
    "\n",
    "        for i in range(1, self.max_number_of_tracks):\n",
    "            _t = self.tracks[i]\n",
    "\n",
    "            if _t[0] - self.tracks[i - 1][0] > self.eps:\n",
    "                self.tracks[i][2] = -1\n",
    "                left_boundaries[i] = 1\n",
    "            else:\n",
    "                left_boundaries[i] = 0\n",
    "\n",
    "        self.left_boundaries = left_boundaries\n",
    "\n",
    "    def find_right_boundaries(self):\n",
    "\n",
    "        max_tracks = self.max_number_of_tracks\n",
    "\n",
    "        boundaries = np.zeros((max_tracks, 3))\n",
    "\n",
    "        for i in range(max_tracks - 1):\n",
    "\n",
    "            check1 = self.left_boundaries[i] and not (self.left_boundaries[i + 1])\n",
    "            check2 = not (self.left_boundaries[i]) and self.left_boundaries[i + 1]\n",
    "\n",
    "            if check1 or check2:\n",
    "                boundaries[i][0] = i\n",
    "                boundaries[i][1] = self.rs[i]\n",
    "                boundaries[i][2] = self.rs[i + 1]\n",
    "            else:\n",
    "                boundaries[i][0] = max_tracks\n",
    "                boundaries[i][1] = 0\n",
    "                boundaries[i][2] = 0\n",
    "\n",
    "        # Check for the last boundary\n",
    "        if self.left_boundaries[max_tracks - 1]:\n",
    "            boundaries[max_tracks - 1][0] = max_tracks\n",
    "            boundaries[max_tracks - 1][1] = 0\n",
    "            boundaries[max_tracks - 1][2] = 0\n",
    "        else:\n",
    "            boundaries[max_tracks - 1][0] = max_tracks - 1\n",
    "            boundaries[max_tracks - 1][1] = self.rs[max_tracks - 1]\n",
    "            boundaries[max_tracks - 1][2] = self.rs[max_tracks]\n",
    "\n",
    "        # Sort boundaries by the index\n",
    "        boundaries = boundaries[boundaries[:, 0].argsort()]\n",
    "\n",
    "        self.boundaries = boundaries\n",
    "\n",
    "    def find_vertices(self) -> np.array:\n",
    "        label = 0\n",
    "        max_tracks = self.max_number_of_tracks\n",
    "        max_vertices = math.ceil(max_tracks / 2)\n",
    "\n",
    "        vertices = np.zeros((max_vertices, 2))\n",
    "\n",
    "        for i in range(0, max_tracks, 2):\n",
    "            left_boundary = self.boundaries[i]\n",
    "            right_boundary = self.boundaries[i + 1]\n",
    "\n",
    "            if left_boundary[0] != right_boundary[0]:\n",
    "                label += 1\n",
    "                z0_vertex = self.find_vertex_and_label_clusters(\n",
    "                    self.tracks, left_boundary[0], right_boundary[0], label\n",
    "                )\n",
    "                # print(z0_vertex)\n",
    "                vertices[i // 2][0] = z0_vertex\n",
    "                vertices[i // 2][1] = right_boundary[2] - left_boundary[1]\n",
    "\n",
    "        # Argsort sorts in increasing order (add argsort[::-1][:n] for descending order)\n",
    "\n",
    "        vertices = vertices[vertices[:, 1].argsort()[::-1][: vertices.shape[0]]]\n",
    "\n",
    "        self.vertices = vertices\n",
    "\n",
    "    def prefix_sum(self):\n",
    "        arr = self.rs\n",
    "        size_log2 = int(np.log2(arr.shape[0]))\n",
    "\n",
    "        # up-sweep\n",
    "        for d in range(0, size_log2, 1):\n",
    "            step_size = 2 ** d\n",
    "            double_step_size = step_size * 2\n",
    "\n",
    "            for i in range(0, arr.shape[0], double_step_size):\n",
    "                arr[i + double_step_size - 1] += arr[i + step_size - 1]\n",
    "\n",
    "        # down-sweep\n",
    "        arr[arr.shape[0] - 1] = 0\n",
    "        d = size_log2 - 1\n",
    "\n",
    "        while d >= 0:\n",
    "            step_size = 2 ** d\n",
    "            double_step_size = step_size * 2\n",
    "            for i in range(0, arr.shape[0], double_step_size):\n",
    "                tmp = arr[i + step_size - 1]\n",
    "                arr[i + step_size - 1] = arr[i + double_step_size - 1]\n",
    "                arr[i + double_step_size - 1] += tmp\n",
    "            d -= 1\n",
    "\n",
    "    def get_vertex(self, cluster_of_tracks: np.array) -> float:\n",
    "        \"\"\"\n",
    "        Calculates the median z0 of the cluster of tracks\n",
    "        \"\"\"\n",
    "\n",
    "        n_size = cluster_of_tracks.shape[0]\n",
    "\n",
    "        if n_size % 2 == 0:\n",
    "            return 0.5 * (\n",
    "                cluster_of_tracks[n_size // 2][0]\n",
    "                + cluster_of_tracks[n_size // 2 - 1][0]\n",
    "            )\n",
    "        else:\n",
    "            return cluster_of_tracks[n_size // 2][0]\n",
    "\n",
    "    def find_vertex_and_label_clusters(\n",
    "        self, tracks: np.array, startIndex: int, endIndex: int, label: int\n",
    "    ) -> float:\n",
    "\n",
    "        tracks_cluster = tracks[int(startIndex) : int(endIndex) + 1]\n",
    "\n",
    "        z0_vertex = self.get_vertex(tracks_cluster)\n",
    "\n",
    "        return z0_vertex"
   ]
  },
  {
   "cell_type": "code",
   "execution_count": 69,
   "metadata": {},
   "outputs": [],
   "source": [
    "db = AccDBSCAN(z0_og, pt_og, 0.15, 232, True)\n"
   ]
  },
  {
   "cell_type": "code",
   "execution_count": 70,
   "metadata": {},
   "outputs": [
    {
     "name": "stdout",
     "output_type": "stream",
     "text": [
      "data padded\n",
      "tracks built\n",
      "prefix sum done\n",
      "data initialized...\n",
      "left boundaries found...\n",
      "right boundaries found...\n",
      "vertices found...\n",
      "scan complete.\n"
     ]
    }
   ],
   "source": [
    "db.fit()"
   ]
  },
  {
   "cell_type": "code",
   "execution_count": null,
   "metadata": {},
   "outputs": [],
   "source": []
  }
 ],
 "metadata": {
  "kernelspec": {
   "display_name": "db-clustering",
   "language": "python",
   "name": "db-clustering"
  },
  "language_info": {
   "codemirror_mode": {
    "name": "ipython",
    "version": 3
   },
   "file_extension": ".py",
   "mimetype": "text/x-python",
   "name": "python",
   "nbconvert_exporter": "python",
   "pygments_lexer": "ipython3",
   "version": "3.8.13"
  }
 },
 "nbformat": 4,
 "nbformat_minor": 4
}
