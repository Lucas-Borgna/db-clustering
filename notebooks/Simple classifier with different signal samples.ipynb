{
 "cells": [
  {
   "cell_type": "code",
   "execution_count": 16,
   "metadata": {},
   "outputs": [],
   "source": [
    "### Reloads modules properly\n",
    "%load_ext autoreload\n",
    "%autoreload 2\n",
    "%load_ext lab_black"
   ]
  },
  {
   "cell_type": "code",
   "execution_count": 17,
   "metadata": {},
   "outputs": [],
   "source": [
    "import os\n",
    "\n",
    "os.sys.path.append(\"../\")"
   ]
  },
  {
   "cell_type": "markdown",
   "metadata": {},
   "source": [
    "# Simple classifier with different signal samples"
   ]
  },
  {
   "cell_type": "markdown",
   "metadata": {},
   "source": [
    "We want to see how well a simple $p_T$ based classifier does in the different signals."
   ]
  },
  {
   "cell_type": "code",
   "execution_count": 1,
   "metadata": {},
   "outputs": [],
   "source": [
    "import pandas as pd\n",
    "import numpy as np\n",
    "import matplotlib.pyplot as plt\n",
    "import mplhep as hep\n",
    "import seaborn as sns\n",
    "\n",
    "hep.style.use(\"CMS\")"
   ]
  },
  {
   "cell_type": "code",
   "execution_count": 2,
   "metadata": {},
   "outputs": [
    {
     "name": "stdout",
     "output_type": "stream",
     "text": [
      "total 31G\n",
      "-rw-rw-r-- 1 lucas lucas 299M Jan 17 17:11 DY_50k.parquet\n",
      "-rw-rw-r-- 1 lucas lucas 672M Jan 17 17:11 DY_50k.pkl\n",
      "-rw-rw-r-- 1 lucas lucas 884K Jan 17 17:11 DY_mc_50k.parquet\n",
      "-rw-rw-r-- 1 lucas lucas 1.4M Jan 17 17:11 DY_mc_50k.pkl\n",
      "-rw-rw-r-- 1 lucas lucas 3.2M Jan 17 17:11 DY_mc.parquet\n",
      "-rw-rw-r-- 1 lucas lucas 5.8M Jan 17 17:11 DY_mc.pkl\n",
      "-rw-rw-r-- 1 lucas lucas 1.8G Jan 17 17:11 DY.parquet\n",
      "-rw-rw-r-- 1 lucas lucas 4.0G Jan 17 17:11 DY.pkl\n",
      "-rw-r--r-- 1 lucas lucas 5.2G Jan 17 14:57 GTT_TrackNtuple_DY.root\n",
      "-rw-r--r-- 1 lucas lucas 5.9G Jan 17 15:29 GTT_TrackNtuple_TT.root\n",
      "-rw-r--r-- 1 lucas lucas 1.8G Jan 17 15:13 GTT_TrackNtuple_Zp.root\n",
      "-rw-rw-r-- 1 lucas lucas 1.8K Jan 17 17:12 process_dataset.py\n",
      "-rw-rw-r-- 1 lucas lucas  556 Oct  3 12:11 trk1-pt.bin\n",
      "-rw-rw-r-- 1 lucas lucas  556 Oct  3 12:11 trk1-z0.bin\n",
      "-rw-r--r-- 1 lucas lucas 168M Oct  3 12:01 trk_processed_25k.pkl\n",
      "-rw-rw-r-- 1 lucas lucas 377M Jan 17 16:42 ttbar_50k.parquet\n",
      "-rw-rw-r-- 1 lucas lucas 803M Jan 17 16:42 ttbar_50k.pkl\n",
      "-rw-rw-r-- 1 lucas lucas 883K Jan 17 16:43 ttbar_mc_50k.parquet\n",
      "-rw-rw-r-- 1 lucas lucas 1.4M Jan 17 16:43 ttbar_mc_50k.pkl\n",
      "-rw-rw-r-- 1 lucas lucas 3.2M Jan 17 16:42 ttbar_mc.parquet\n",
      "-rw-rw-r-- 1 lucas lucas 5.7M Jan 17 16:42 ttbar_mc.pkl\n",
      "-rw-rw-r-- 1 lucas lucas 2.2G Jan 17 16:39 ttbar.parquet\n",
      "-rw-rw-r-- 1 lucas lucas 4.7G Jan 17 16:39 ttbar.pkl\n",
      "-rw-rw-r-- 1 lucas lucas 305M Jan 17 17:14 Zp_50k.parquet\n",
      "-rw-rw-r-- 1 lucas lucas 685M Jan 17 17:14 Zp_50k.pkl\n",
      "-rw-rw-r-- 1 lucas lucas 883K Jan 17 17:14 Zp_mc_50k.parquet\n",
      "-rw-rw-r-- 1 lucas lucas 1.4M Jan 17 17:14 Zp_mc_50k.pkl\n",
      "-rw-rw-r-- 1 lucas lucas 1.2M Jan 17 17:14 Zp_mc.parquet\n",
      "-rw-rw-r-- 1 lucas lucas 2.0M Jan 17 17:14 Zp_mc.pkl\n",
      "-rw-rw-r-- 1 lucas lucas 607M Jan 17 17:14 Zp.parquet\n",
      "-rw-rw-r-- 1 lucas lucas 1.4G Jan 17 17:14 Zp.pkl\n"
     ]
    }
   ],
   "source": [
    "!ls -lh /home/lucas/Documents/RA/data/"
   ]
  },
  {
   "cell_type": "code",
   "execution_count": 3,
   "metadata": {},
   "outputs": [],
   "source": [
    "storage = \"/home/lucas/Documents/RA/data/\"\n",
    "dy = pd.read_parquet(storage + \"DY_50k.parquet\")\n",
    "dy_mc = pd.read_parquet(storage + \"DY_mc_50k.parquet\")"
   ]
  },
  {
   "cell_type": "code",
   "execution_count": 4,
   "metadata": {},
   "outputs": [],
   "source": [
    "tt = pd.read_parquet(storage + \"ttbar_50k.parquet\")\n",
    "tt_mc = pd.read_parquet(storage + \"ttbar_mc_50k.parquet\")"
   ]
  },
  {
   "cell_type": "code",
   "execution_count": 5,
   "metadata": {},
   "outputs": [
    {
     "data": {
      "text/html": [
       "<div>\n",
       "<style scoped>\n",
       "    .dataframe tbody tr th:only-of-type {\n",
       "        vertical-align: middle;\n",
       "    }\n",
       "\n",
       "    .dataframe tbody tr th {\n",
       "        vertical-align: top;\n",
       "    }\n",
       "\n",
       "    .dataframe thead th {\n",
       "        text-align: right;\n",
       "    }\n",
       "</style>\n",
       "<table border=\"1\" class=\"dataframe\">\n",
       "  <thead>\n",
       "    <tr style=\"text-align: right;\">\n",
       "      <th></th>\n",
       "      <th>event_number</th>\n",
       "      <th>track_number</th>\n",
       "      <th>trk_pt</th>\n",
       "      <th>trk_eta</th>\n",
       "      <th>trk_z0</th>\n",
       "      <th>trk_phi</th>\n",
       "      <th>trk_fake</th>\n",
       "      <th>trk_MVA1</th>\n",
       "      <th>trk_chi2_x</th>\n",
       "      <th>trk_chi2_y</th>\n",
       "      <th>trk_chi2dof</th>\n",
       "      <th>trk_chi2rphi</th>\n",
       "      <th>trk_chi2rz</th>\n",
       "      <th>trk_bendchi2</th>\n",
       "      <th>trk_MVA2</th>\n",
       "      <th>trk_nstub</th>\n",
       "      <th>trk_lhits</th>\n",
       "      <th>trk_dhits</th>\n",
       "      <th>trk_seed</th>\n",
       "    </tr>\n",
       "  </thead>\n",
       "  <tbody>\n",
       "    <tr>\n",
       "      <th>0</th>\n",
       "      <td>0</td>\n",
       "      <td>0</td>\n",
       "      <td>3.321735</td>\n",
       "      <td>1.508114</td>\n",
       "      <td>2.285156</td>\n",
       "      <td>-0.322148</td>\n",
       "      <td>2</td>\n",
       "      <td>0.999705</td>\n",
       "      <td>3.449683</td>\n",
       "      <td>3.449683</td>\n",
       "      <td>0.431210</td>\n",
       "      <td>1.824624</td>\n",
       "      <td>1.625059</td>\n",
       "      <td>0.650641</td>\n",
       "      <td>0.0</td>\n",
       "      <td>6</td>\n",
       "      <td>111</td>\n",
       "      <td>1011</td>\n",
       "      <td>0</td>\n",
       "    </tr>\n",
       "    <tr>\n",
       "      <th>1</th>\n",
       "      <td>0</td>\n",
       "      <td>1</td>\n",
       "      <td>2.802182</td>\n",
       "      <td>1.816592</td>\n",
       "      <td>-10.957031</td>\n",
       "      <td>-0.262414</td>\n",
       "      <td>2</td>\n",
       "      <td>0.996890</td>\n",
       "      <td>4.947418</td>\n",
       "      <td>4.947418</td>\n",
       "      <td>0.618427</td>\n",
       "      <td>1.406616</td>\n",
       "      <td>3.540802</td>\n",
       "      <td>1.399517</td>\n",
       "      <td>0.0</td>\n",
       "      <td>6</td>\n",
       "      <td>11</td>\n",
       "      <td>1111</td>\n",
       "      <td>0</td>\n",
       "    </tr>\n",
       "    <tr>\n",
       "      <th>2</th>\n",
       "      <td>0</td>\n",
       "      <td>2</td>\n",
       "      <td>2.178730</td>\n",
       "      <td>0.647218</td>\n",
       "      <td>-3.632812</td>\n",
       "      <td>-0.083509</td>\n",
       "      <td>2</td>\n",
       "      <td>0.990228</td>\n",
       "      <td>11.213161</td>\n",
       "      <td>11.213161</td>\n",
       "      <td>1.401645</td>\n",
       "      <td>10.229476</td>\n",
       "      <td>0.983685</td>\n",
       "      <td>1.053935</td>\n",
       "      <td>0.0</td>\n",
       "      <td>6</td>\n",
       "      <td>111111</td>\n",
       "      <td>0</td>\n",
       "      <td>0</td>\n",
       "    </tr>\n",
       "    <tr>\n",
       "      <th>3</th>\n",
       "      <td>0</td>\n",
       "      <td>3</td>\n",
       "      <td>1.971232</td>\n",
       "      <td>1.026682</td>\n",
       "      <td>-1.406250</td>\n",
       "      <td>0.047079</td>\n",
       "      <td>2</td>\n",
       "      <td>0.996147</td>\n",
       "      <td>3.593802</td>\n",
       "      <td>3.593802</td>\n",
       "      <td>0.598967</td>\n",
       "      <td>1.705098</td>\n",
       "      <td>1.888704</td>\n",
       "      <td>0.702030</td>\n",
       "      <td>0.0</td>\n",
       "      <td>5</td>\n",
       "      <td>11111</td>\n",
       "      <td>0</td>\n",
       "      <td>0</td>\n",
       "    </tr>\n",
       "    <tr>\n",
       "      <th>4</th>\n",
       "      <td>0</td>\n",
       "      <td>4</td>\n",
       "      <td>1.974080</td>\n",
       "      <td>-1.409943</td>\n",
       "      <td>-1.582031</td>\n",
       "      <td>0.263590</td>\n",
       "      <td>2</td>\n",
       "      <td>0.998664</td>\n",
       "      <td>12.148260</td>\n",
       "      <td>12.148260</td>\n",
       "      <td>1.518533</td>\n",
       "      <td>6.264452</td>\n",
       "      <td>5.883808</td>\n",
       "      <td>1.077325</td>\n",
       "      <td>0.0</td>\n",
       "      <td>6</td>\n",
       "      <td>111</td>\n",
       "      <td>111</td>\n",
       "      <td>0</td>\n",
       "    </tr>\n",
       "  </tbody>\n",
       "</table>\n",
       "</div>"
      ],
      "text/plain": [
       "   event_number  track_number    trk_pt   trk_eta     trk_z0   trk_phi  \\\n",
       "0             0             0  3.321735  1.508114   2.285156 -0.322148   \n",
       "1             0             1  2.802182  1.816592 -10.957031 -0.262414   \n",
       "2             0             2  2.178730  0.647218  -3.632812 -0.083509   \n",
       "3             0             3  1.971232  1.026682  -1.406250  0.047079   \n",
       "4             0             4  1.974080 -1.409943  -1.582031  0.263590   \n",
       "\n",
       "   trk_fake  trk_MVA1  trk_chi2_x  trk_chi2_y  trk_chi2dof  trk_chi2rphi  \\\n",
       "0         2  0.999705    3.449683    3.449683     0.431210      1.824624   \n",
       "1         2  0.996890    4.947418    4.947418     0.618427      1.406616   \n",
       "2         2  0.990228   11.213161   11.213161     1.401645     10.229476   \n",
       "3         2  0.996147    3.593802    3.593802     0.598967      1.705098   \n",
       "4         2  0.998664   12.148260   12.148260     1.518533      6.264452   \n",
       "\n",
       "   trk_chi2rz  trk_bendchi2  trk_MVA2  trk_nstub  trk_lhits  trk_dhits  \\\n",
       "0    1.625059      0.650641       0.0          6        111       1011   \n",
       "1    3.540802      1.399517       0.0          6         11       1111   \n",
       "2    0.983685      1.053935       0.0          6     111111          0   \n",
       "3    1.888704      0.702030       0.0          5      11111          0   \n",
       "4    5.883808      1.077325       0.0          6        111        111   \n",
       "\n",
       "   trk_seed  \n",
       "0         0  \n",
       "1         0  \n",
       "2         0  \n",
       "3         0  \n",
       "4         0  "
      ]
     },
     "execution_count": 5,
     "metadata": {},
     "output_type": "execute_result"
    }
   ],
   "source": [
    "tt.head()"
   ]
  },
  {
   "cell_type": "code",
   "execution_count": 6,
   "metadata": {},
   "outputs": [],
   "source": [
    "tt.drop(columns=\"trk_chi2_y\", inplace=True)"
   ]
  },
  {
   "cell_type": "code",
   "execution_count": 7,
   "metadata": {},
   "outputs": [],
   "source": [
    "tt.rename(columns={\"trk_chi2_x\": \"trk_chi2\"}, inplace=True)"
   ]
  },
  {
   "cell_type": "code",
   "execution_count": 8,
   "metadata": {},
   "outputs": [],
   "source": [
    "zp = pd.read_parquet(storage + \"Zp_50k.parquet\")\n",
    "zp_mc = pd.read_parquet(storage + \"Zp_mc_50k.parquet\")"
   ]
  },
  {
   "cell_type": "code",
   "execution_count": 9,
   "metadata": {},
   "outputs": [
    {
     "data": {
      "text/html": [
       "<div>\n",
       "<style scoped>\n",
       "    .dataframe tbody tr th:only-of-type {\n",
       "        vertical-align: middle;\n",
       "    }\n",
       "\n",
       "    .dataframe tbody tr th {\n",
       "        vertical-align: top;\n",
       "    }\n",
       "\n",
       "    .dataframe thead th {\n",
       "        text-align: right;\n",
       "    }\n",
       "</style>\n",
       "<table border=\"1\" class=\"dataframe\">\n",
       "  <thead>\n",
       "    <tr style=\"text-align: right;\">\n",
       "      <th></th>\n",
       "      <th>event_number</th>\n",
       "      <th>track_number</th>\n",
       "      <th>pv_MC</th>\n",
       "    </tr>\n",
       "  </thead>\n",
       "  <tbody>\n",
       "    <tr>\n",
       "      <th>0</th>\n",
       "      <td>0</td>\n",
       "      <td>0</td>\n",
       "      <td>-0.603286</td>\n",
       "    </tr>\n",
       "    <tr>\n",
       "      <th>1</th>\n",
       "      <td>1</td>\n",
       "      <td>0</td>\n",
       "      <td>0.597292</td>\n",
       "    </tr>\n",
       "    <tr>\n",
       "      <th>2</th>\n",
       "      <td>2</td>\n",
       "      <td>0</td>\n",
       "      <td>0.854938</td>\n",
       "    </tr>\n",
       "    <tr>\n",
       "      <th>3</th>\n",
       "      <td>3</td>\n",
       "      <td>0</td>\n",
       "      <td>5.964469</td>\n",
       "    </tr>\n",
       "    <tr>\n",
       "      <th>4</th>\n",
       "      <td>4</td>\n",
       "      <td>0</td>\n",
       "      <td>7.255724</td>\n",
       "    </tr>\n",
       "  </tbody>\n",
       "</table>\n",
       "</div>"
      ],
      "text/plain": [
       "   event_number  track_number     pv_MC\n",
       "0             0             0 -0.603286\n",
       "1             1             0  0.597292\n",
       "2             2             0  0.854938\n",
       "3             3             0  5.964469\n",
       "4             4             0  7.255724"
      ]
     },
     "execution_count": 9,
     "metadata": {},
     "output_type": "execute_result"
    }
   ],
   "source": [
    "zp_mc.head()"
   ]
  },
  {
   "cell_type": "code",
   "execution_count": 10,
   "metadata": {},
   "outputs": [],
   "source": [
    "dy.dropna(inplace=True)\n",
    "zp.dropna(inplace=True)\n",
    "tt.dropna(inplace=True)"
   ]
  },
  {
   "cell_type": "code",
   "execution_count": 11,
   "metadata": {},
   "outputs": [],
   "source": [
    "tt['is_pv']=0\n",
    "dy['is_pv']=0\n",
    "zp['is_pv']=0\n",
    "\n",
    "tt.loc[tt['trk_fake']==1, 'is_pv']=1\n",
    "dy.loc[dy['trk_fake']==1,'is_pv']=1\n",
    "zp.loc[zp['trk_fake']==1,'is_pv']=1"
   ]
  },
  {
   "cell_type": "code",
   "execution_count": 12,
   "metadata": {},
   "outputs": [],
   "source": [
    "from primaryvertexingtools import generate_roc_curve, test_feature_discrimination"
   ]
  },
  {
   "cell_type": "markdown",
   "metadata": {},
   "source": [
    "## ttbar logistic regression"
   ]
  },
  {
   "cell_type": "code",
   "execution_count": 19,
   "metadata": {},
   "outputs": [],
   "source": [
    "from sklearn.linear_model import LogisticRegression"
   ]
  },
  {
   "cell_type": "code",
   "execution_count": 13,
   "metadata": {},
   "outputs": [],
   "source": [
    "from sklearn.model_selection import train_test_split"
   ]
  },
  {
   "cell_type": "code",
   "execution_count": 23,
   "metadata": {},
   "outputs": [],
   "source": [
    "from sklearn.metrics import confusion_matrix, ConfusionMatrixDisplay, RocCurveDisplay"
   ]
  },
  {
   "cell_type": "code",
   "execution_count": 18,
   "metadata": {},
   "outputs": [],
   "source": [
    "ttx_train, ttx_test, tty_train, tty_test = train_test_split(\n",
    "    tt[\"trk_pt\"].values, tt[\"is_pv\"].values, test_size=0.5, stratify=tt[\"is_pv\"].values\n",
    ")"
   ]
  },
  {
   "cell_type": "code",
   "execution_count": 20,
   "metadata": {},
   "outputs": [],
   "source": [
    "tt_clf = LogisticRegression(class_weight=\"balanced\").fit(\n",
    "    ttx_train.reshape(-1, 1), tty_train\n",
    ")"
   ]
  },
  {
   "cell_type": "code",
   "execution_count": 30,
   "metadata": {},
   "outputs": [],
   "source": [
    "tt_pred = tt_clf.predict(ttx_test.reshape(-1, 1))\n",
    "tt_pred_prob = tt_clf.predict_proba(ttx_test.reshape(-1, 1))[:, 1]"
   ]
  },
  {
   "cell_type": "code",
   "execution_count": 31,
   "metadata": {},
   "outputs": [
    {
     "data": {
      "text/plain": [
       "array([0, 0, 0, ..., 0, 0, 0])"
      ]
     },
     "execution_count": 31,
     "metadata": {},
     "output_type": "execute_result"
    }
   ],
   "source": [
    "tt_pred"
   ]
  },
  {
   "cell_type": "code",
   "execution_count": 32,
   "metadata": {},
   "outputs": [],
   "source": [
    "cm_tt = confusion_matrix(tty_test, tt_pred, normalize=\"true\")"
   ]
  },
  {
   "cell_type": "code",
   "execution_count": 34,
   "metadata": {},
   "outputs": [
    {
     "data": {
      "text/plain": [
       "Text(0.5, 1.0, 'ttbar $p_T$ LR classifier')"
      ]
     },
     "execution_count": 34,
     "metadata": {},
     "output_type": "execute_result"
    },
    {
     "data": {
      "image/png": "[encoded data removed]",
      "text/plain": [
       "<Figure size 576x576 with 2 Axes>"
      ]
     },
     "metadata": {
      "needs_background": "light"
     },
     "output_type": "display_data"
    }
   ],
   "source": [
    "fig, ax = plt.subplots(figsize=(8, 8))\n",
    "disp = ConfusionMatrixDisplay.from_predictions(\n",
    "    tt_pred,\n",
    "    tty_test,\n",
    "    display_labels=[\"Not Primary Vertex\", \"Primary Vertex\"],\n",
    "    cmap=\"Blues\",\n",
    "    normalize=\"true\",\n",
    "    ax=ax,\n",
    ")\n",
    "ax.tick_params(axis=\"both\", which=\"major\", labelsize=16)\n",
    "plt.title(\"ttbar $p_T$ LR classifier\", fontsize=16)"
   ]
  },
  {
   "cell_type": "code",
   "execution_count": 48,
   "metadata": {},
   "outputs": [
    {
     "data": {
      "text/plain": [
       "Text(0.5, 1.0, 'ttbar classifier based on $p_T$')"
      ]
     },
     "execution_count": 48,
     "metadata": {},
     "output_type": "execute_result"
    },
    {
     "data": {
      "image/png": "[encoded data removed]",
      "text/plain": [
       "<Figure size 576x576 with 1 Axes>"
      ]
     },
     "metadata": {
      "needs_background": "light"
     },
     "output_type": "display_data"
    }
   ],
   "source": [
    "fig, ax = plt.subplots(figsize=(8, 8))\n",
    "RocCurveDisplay.from_estimator(\n",
    "    tt_clf, ttx_test.reshape(-1, 1), tty_test, color=\"darkorange\", ax=ax\n",
    ")\n",
    "plt.plot([0, 1], [0, 1], \"k--\")\n",
    "plt.axis(\"square\")\n",
    "plt.xlabel(\"False Positive Rate\", fontsize=16)\n",
    "plt.ylabel(\"True Positive Rate\", fontsize=16)\n",
    "plt.legend(fontsize=16)\n",
    "ax.tick_params(axis=\"both\", which=\"major\", labelsize=16)\n",
    "ax.set_title(\"ttbar classifier based on $p_T$\", fontsize=16)"
   ]
  },
  {
   "cell_type": "markdown",
   "metadata": {},
   "source": [
    "## Drell Yan LR classifier"
   ]
  },
  {
   "cell_type": "code",
   "execution_count": 37,
   "metadata": {},
   "outputs": [],
   "source": [
    "dyx_train, dyx_test, dyy_train, dyy_test = train_test_split(\n",
    "    dy[\"trk_pt\"].values, dy[\"is_pv\"].values, test_size=0.5, stratify=dy[\"is_pv\"].values\n",
    ")"
   ]
  },
  {
   "cell_type": "code",
   "execution_count": 38,
   "metadata": {},
   "outputs": [],
   "source": [
    "dy_clf = LogisticRegression(class_weight=\"balanced\").fit(\n",
    "    dyx_train.reshape(-1, 1), dyy_train\n",
    ")"
   ]
  },
  {
   "cell_type": "code",
   "execution_count": 40,
   "metadata": {},
   "outputs": [],
   "source": [
    "dy_pred = dy_clf.predict(dyx_test.reshape(-1, 1))\n",
    "dy_pred_prob = dy_clf.predict_proba(dyx_test.reshape(-1, 1))[:, 1]"
   ]
  },
  {
   "cell_type": "code",
   "execution_count": 51,
   "metadata": {},
   "outputs": [
    {
     "data": {
      "text/plain": [
       "Text(0.5, 1.0, 'DY $p_T$ LR classifier')"
      ]
     },
     "execution_count": 51,
     "metadata": {},
     "output_type": "execute_result"
    },
    {
     "data": {
      "image/png": "[encoded data removed]",
      "text/plain": [
       "<Figure size 576x576 with 2 Axes>"
      ]
     },
     "metadata": {
      "needs_background": "light"
     },
     "output_type": "display_data"
    }
   ],
   "source": [
    "fig, ax = plt.subplots(figsize=(8, 8))\n",
    "disp = ConfusionMatrixDisplay.from_predictions(\n",
    "    dy_pred,\n",
    "    dyy_test,\n",
    "    display_labels=[\"Not Primary Vertex\", \"Primary Vertex\"],\n",
    "    cmap=\"Blues\",\n",
    "    normalize=\"true\",\n",
    "    ax=ax,\n",
    ")\n",
    "ax.tick_params(axis=\"both\", which=\"major\", labelsize=16)\n",
    "plt.title(\"DY $p_T$ LR classifier\", fontsize=16)"
   ]
  },
  {
   "cell_type": "code",
   "execution_count": 49,
   "metadata": {},
   "outputs": [
    {
     "data": {
      "text/plain": [
       "Text(0.5, 1.0, 'Drell-Yann classifier based on $p_T$')"
      ]
     },
     "execution_count": 49,
     "metadata": {},
     "output_type": "execute_result"
    },
    {
     "data": {
      "image/png": "[encoded data removed]",
      "text/plain": [
       "<Figure size 576x576 with 1 Axes>"
      ]
     },
     "metadata": {
      "needs_background": "light"
     },
     "output_type": "display_data"
    }
   ],
   "source": [
    "fig, ax = plt.subplots(figsize=(8, 8))\n",
    "RocCurveDisplay.from_estimator(\n",
    "    dy_clf, dyx_test.reshape(-1, 1), dyy_test, color=\"darkorange\", ax=ax\n",
    ")\n",
    "plt.plot([0, 1], [0, 1], \"k--\")\n",
    "plt.axis(\"square\")\n",
    "plt.xlabel(\"False Positive Rate\", fontsize=16)\n",
    "plt.ylabel(\"True Positive Rate\", fontsize=16)\n",
    "plt.legend(fontsize=16)\n",
    "ax.tick_params(axis=\"both\", which=\"major\", labelsize=16)\n",
    "ax.set_title(\"Drell-Yann classifier based on $p_T$\", fontsize=16)"
   ]
  },
  {
   "cell_type": "markdown",
   "metadata": {},
   "source": [
    "## Z' $\\rightarrow$ $\\mu\\bar{\\mu}$ Logisitc regression classifier"
   ]
  },
  {
   "cell_type": "code",
   "execution_count": 43,
   "metadata": {},
   "outputs": [],
   "source": [
    "zpx_train, zpx_test, zpy_train, zpy_test = train_test_split(\n",
    "    zp[\"trk_pt\"].values, zp[\"is_pv\"].values, test_size=0.5, stratify=zp[\"is_pv\"].values\n",
    ")"
   ]
  },
  {
   "cell_type": "code",
   "execution_count": 44,
   "metadata": {},
   "outputs": [],
   "source": [
    "zp_clf = LogisticRegression(class_weight=\"balanced\").fit(\n",
    "    zpx_train.reshape(-1, 1), zpy_train\n",
    ")"
   ]
  },
  {
   "cell_type": "code",
   "execution_count": 45,
   "metadata": {},
   "outputs": [],
   "source": [
    "zp_pred = zp_clf.predict(zpx_test.reshape(-1, 1))\n",
    "zp_pred_prob = zp_clf.predict_proba(zpx_test.reshape(-1, 1))[:, 1]"
   ]
  },
  {
   "cell_type": "code",
   "execution_count": 46,
   "metadata": {},
   "outputs": [
    {
     "data": {
      "text/plain": [
       "Text(0.5, 1.0, \"Z' $p_T$ LR classifier\")"
      ]
     },
     "execution_count": 46,
     "metadata": {},
     "output_type": "execute_result"
    },
    {
     "data": {
      "image/png": "[encoded data removed]",
      "text/plain": [
       "<Figure size 576x576 with 2 Axes>"
      ]
     },
     "metadata": {
      "needs_background": "light"
     },
     "output_type": "display_data"
    }
   ],
   "source": [
    "fig, ax = plt.subplots(figsize=(8, 8))\n",
    "disp = ConfusionMatrixDisplay.from_predictions(\n",
    "    zp_pred,\n",
    "    zpy_test,\n",
    "    display_labels=[\"Not Primary Vertex\", \"Primary Vertex\"],\n",
    "    cmap=\"Blues\",\n",
    "    normalize=\"true\",\n",
    "    ax=ax,\n",
    ")\n",
    "ax.tick_params(axis=\"both\", which=\"major\", labelsize=16)\n",
    "plt.title(\"Z' $p_T$ LR classifier\", fontsize=16)"
   ]
  },
  {
   "cell_type": "code",
   "execution_count": 50,
   "metadata": {},
   "outputs": [
    {
     "data": {
      "text/plain": [
       "Text(0.5, 1.0, \"Z' classifier based on $p_T$\")"
      ]
     },
     "execution_count": 50,
     "metadata": {},
     "output_type": "execute_result"
    },
    {
     "data": {
      "image/png": "[encoded data removed]",
      "text/plain": [
       "<Figure size 576x576 with 1 Axes>"
      ]
     },
     "metadata": {
      "needs_background": "light"
     },
     "output_type": "display_data"
    }
   ],
   "source": [
    "fig, ax = plt.subplots(figsize=(8, 8))\n",
    "RocCurveDisplay.from_estimator(\n",
    "    zp_clf, zpx_test.reshape(-1, 1), zpy_test, color=\"darkorange\", ax=ax\n",
    ")\n",
    "plt.plot([0, 1], [0, 1], \"k--\")\n",
    "plt.axis(\"square\")\n",
    "plt.xlabel(\"False Positive Rate\", fontsize=16)\n",
    "plt.ylabel(\"True Positive Rate\", fontsize=16)\n",
    "plt.legend(fontsize=16)\n",
    "ax.tick_params(axis=\"both\", which=\"major\", labelsize=16)\n",
    "ax.set_title(\"Z' classifier based on $p_T$\", fontsize=16)"
   ]
  },
  {
   "cell_type": "code",
   "execution_count": null,
   "metadata": {},
   "outputs": [],
   "source": []
  },
  {
   "cell_type": "code",
   "execution_count": 13,
   "metadata": {},
   "outputs": [],
   "source": [
    "tt.dropna(inplace=True)"
   ]
  },
  {
   "cell_type": "code",
   "execution_count": 14,
   "metadata": {},
   "outputs": [],
   "source": [
    "tt[\"is_pv\"] = 0"
   ]
  },
  {
   "cell_type": "code",
   "execution_count": 15,
   "metadata": {},
   "outputs": [],
   "source": [
    "tt.loc[tt[\"trk_fake\"] == 1, \"is_pv\"] = 1"
   ]
  },
  {
   "cell_type": "code",
   "execution_count": 16,
   "metadata": {},
   "outputs": [],
   "source": [
    "X = tt[\"trk_pt\"]"
   ]
  },
  {
   "cell_type": "code",
   "execution_count": 17,
   "metadata": {},
   "outputs": [],
   "source": [
    "y = tt[\"is_pv\"]"
   ]
  },
  {
   "cell_type": "code",
   "execution_count": 18,
   "metadata": {},
   "outputs": [
    {
     "data": {
      "text/plain": [
       "array([3.32, 2.8 , 2.18, ..., 2.65, 2.24, 2.15], dtype=float32)"
      ]
     },
     "execution_count": 18,
     "metadata": {},
     "output_type": "execute_result"
    }
   ],
   "source": [
    "X.values"
   ]
  },
  {
   "cell_type": "code",
   "execution_count": 19,
   "metadata": {},
   "outputs": [
    {
     "data": {
      "text/plain": [
       "array([0, 0, 0, ..., 0, 0, 0])"
      ]
     },
     "execution_count": 19,
     "metadata": {},
     "output_type": "execute_result"
    }
   ],
   "source": [
    "y.values"
   ]
  },
  {
   "cell_type": "code",
   "execution_count": 20,
   "metadata": {},
   "outputs": [
    {
     "data": {
      "text/html": [
       "<div>\n",
       "<style scoped>\n",
       "    .dataframe tbody tr th:only-of-type {\n",
       "        vertical-align: middle;\n",
       "    }\n",
       "\n",
       "    .dataframe tbody tr th {\n",
       "        vertical-align: top;\n",
       "    }\n",
       "\n",
       "    .dataframe thead th {\n",
       "        text-align: right;\n",
       "    }\n",
       "</style>\n",
       "<table border=\"1\" class=\"dataframe\">\n",
       "  <thead>\n",
       "    <tr style=\"text-align: right;\">\n",
       "      <th></th>\n",
       "      <th>event_number</th>\n",
       "      <th>track_number</th>\n",
       "      <th>trk_pt</th>\n",
       "      <th>trk_eta</th>\n",
       "      <th>trk_z0</th>\n",
       "      <th>trk_phi</th>\n",
       "      <th>trk_fake</th>\n",
       "      <th>trk_MVA1</th>\n",
       "      <th>trk_chi2</th>\n",
       "      <th>trk_chi2dof</th>\n",
       "      <th>trk_chi2rphi</th>\n",
       "      <th>trk_chi2rz</th>\n",
       "      <th>trk_bendchi2</th>\n",
       "      <th>trk_MVA2</th>\n",
       "      <th>trk_nstub</th>\n",
       "      <th>trk_lhits</th>\n",
       "      <th>trk_dhits</th>\n",
       "      <th>trk_seed</th>\n",
       "      <th>is_pv</th>\n",
       "    </tr>\n",
       "  </thead>\n",
       "  <tbody>\n",
       "    <tr>\n",
       "      <th>0</th>\n",
       "      <td>0</td>\n",
       "      <td>0</td>\n",
       "      <td>3.321735</td>\n",
       "      <td>1.508114</td>\n",
       "      <td>2.285156</td>\n",
       "      <td>-0.322148</td>\n",
       "      <td>2</td>\n",
       "      <td>0.999705</td>\n",
       "      <td>3.449683</td>\n",
       "      <td>0.431210</td>\n",
       "      <td>1.824624</td>\n",
       "      <td>1.625059</td>\n",
       "      <td>0.650641</td>\n",
       "      <td>0.0</td>\n",
       "      <td>6</td>\n",
       "      <td>111</td>\n",
       "      <td>1011</td>\n",
       "      <td>0</td>\n",
       "      <td>0</td>\n",
       "    </tr>\n",
       "    <tr>\n",
       "      <th>1</th>\n",
       "      <td>0</td>\n",
       "      <td>1</td>\n",
       "      <td>2.802182</td>\n",
       "      <td>1.816592</td>\n",
       "      <td>-10.957031</td>\n",
       "      <td>-0.262414</td>\n",
       "      <td>2</td>\n",
       "      <td>0.996890</td>\n",
       "      <td>4.947418</td>\n",
       "      <td>0.618427</td>\n",
       "      <td>1.406616</td>\n",
       "      <td>3.540802</td>\n",
       "      <td>1.399517</td>\n",
       "      <td>0.0</td>\n",
       "      <td>6</td>\n",
       "      <td>11</td>\n",
       "      <td>1111</td>\n",
       "      <td>0</td>\n",
       "      <td>0</td>\n",
       "    </tr>\n",
       "    <tr>\n",
       "      <th>2</th>\n",
       "      <td>0</td>\n",
       "      <td>2</td>\n",
       "      <td>2.178730</td>\n",
       "      <td>0.647218</td>\n",
       "      <td>-3.632812</td>\n",
       "      <td>-0.083509</td>\n",
       "      <td>2</td>\n",
       "      <td>0.990228</td>\n",
       "      <td>11.213161</td>\n",
       "      <td>1.401645</td>\n",
       "      <td>10.229476</td>\n",
       "      <td>0.983685</td>\n",
       "      <td>1.053935</td>\n",
       "      <td>0.0</td>\n",
       "      <td>6</td>\n",
       "      <td>111111</td>\n",
       "      <td>0</td>\n",
       "      <td>0</td>\n",
       "      <td>0</td>\n",
       "    </tr>\n",
       "    <tr>\n",
       "      <th>3</th>\n",
       "      <td>0</td>\n",
       "      <td>3</td>\n",
       "      <td>1.971232</td>\n",
       "      <td>1.026682</td>\n",
       "      <td>-1.406250</td>\n",
       "      <td>0.047079</td>\n",
       "      <td>2</td>\n",
       "      <td>0.996147</td>\n",
       "      <td>3.593802</td>\n",
       "      <td>0.598967</td>\n",
       "      <td>1.705098</td>\n",
       "      <td>1.888704</td>\n",
       "      <td>0.702030</td>\n",
       "      <td>0.0</td>\n",
       "      <td>5</td>\n",
       "      <td>11111</td>\n",
       "      <td>0</td>\n",
       "      <td>0</td>\n",
       "      <td>0</td>\n",
       "    </tr>\n",
       "    <tr>\n",
       "      <th>4</th>\n",
       "      <td>0</td>\n",
       "      <td>4</td>\n",
       "      <td>1.974080</td>\n",
       "      <td>-1.409943</td>\n",
       "      <td>-1.582031</td>\n",
       "      <td>0.263590</td>\n",
       "      <td>2</td>\n",
       "      <td>0.998664</td>\n",
       "      <td>12.148260</td>\n",
       "      <td>1.518533</td>\n",
       "      <td>6.264452</td>\n",
       "      <td>5.883808</td>\n",
       "      <td>1.077325</td>\n",
       "      <td>0.0</td>\n",
       "      <td>6</td>\n",
       "      <td>111</td>\n",
       "      <td>111</td>\n",
       "      <td>0</td>\n",
       "      <td>0</td>\n",
       "    </tr>\n",
       "    <tr>\n",
       "      <th>...</th>\n",
       "      <td>...</td>\n",
       "      <td>...</td>\n",
       "      <td>...</td>\n",
       "      <td>...</td>\n",
       "      <td>...</td>\n",
       "      <td>...</td>\n",
       "      <td>...</td>\n",
       "      <td>...</td>\n",
       "      <td>...</td>\n",
       "      <td>...</td>\n",
       "      <td>...</td>\n",
       "      <td>...</td>\n",
       "      <td>...</td>\n",
       "      <td>...</td>\n",
       "      <td>...</td>\n",
       "      <td>...</td>\n",
       "      <td>...</td>\n",
       "      <td>...</td>\n",
       "      <td>...</td>\n",
       "    </tr>\n",
       "    <tr>\n",
       "      <th>9144230</th>\n",
       "      <td>49999</td>\n",
       "      <td>213</td>\n",
       "      <td>1.956761</td>\n",
       "      <td>-0.794572</td>\n",
       "      <td>-8.847656</td>\n",
       "      <td>-0.658581</td>\n",
       "      <td>2</td>\n",
       "      <td>0.583963</td>\n",
       "      <td>6.410769</td>\n",
       "      <td>1.602692</td>\n",
       "      <td>2.490247</td>\n",
       "      <td>3.920522</td>\n",
       "      <td>1.206160</td>\n",
       "      <td>0.0</td>\n",
       "      <td>4</td>\n",
       "      <td>101110</td>\n",
       "      <td>0</td>\n",
       "      <td>2</td>\n",
       "      <td>0</td>\n",
       "    </tr>\n",
       "    <tr>\n",
       "      <th>9144231</th>\n",
       "      <td>49999</td>\n",
       "      <td>214</td>\n",
       "      <td>1.974437</td>\n",
       "      <td>2.042241</td>\n",
       "      <td>5.625000</td>\n",
       "      <td>-0.868537</td>\n",
       "      <td>2</td>\n",
       "      <td>0.957060</td>\n",
       "      <td>8.334285</td>\n",
       "      <td>2.083571</td>\n",
       "      <td>2.325773</td>\n",
       "      <td>6.008512</td>\n",
       "      <td>0.926740</td>\n",
       "      <td>0.0</td>\n",
       "      <td>4</td>\n",
       "      <td>1</td>\n",
       "      <td>111</td>\n",
       "      <td>4</td>\n",
       "      <td>0</td>\n",
       "    </tr>\n",
       "    <tr>\n",
       "      <th>9144232</th>\n",
       "      <td>49999</td>\n",
       "      <td>215</td>\n",
       "      <td>2.653839</td>\n",
       "      <td>2.266208</td>\n",
       "      <td>-3.515625</td>\n",
       "      <td>-1.143152</td>\n",
       "      <td>2</td>\n",
       "      <td>0.999723</td>\n",
       "      <td>5.724111</td>\n",
       "      <td>0.715514</td>\n",
       "      <td>1.885870</td>\n",
       "      <td>3.838240</td>\n",
       "      <td>0.750637</td>\n",
       "      <td>0.0</td>\n",
       "      <td>6</td>\n",
       "      <td>1</td>\n",
       "      <td>11111</td>\n",
       "      <td>5</td>\n",
       "      <td>0</td>\n",
       "    </tr>\n",
       "    <tr>\n",
       "      <th>9144233</th>\n",
       "      <td>49999</td>\n",
       "      <td>216</td>\n",
       "      <td>2.244047</td>\n",
       "      <td>-2.199556</td>\n",
       "      <td>7.792969</td>\n",
       "      <td>-0.692157</td>\n",
       "      <td>2</td>\n",
       "      <td>0.999751</td>\n",
       "      <td>4.317169</td>\n",
       "      <td>0.539646</td>\n",
       "      <td>0.965626</td>\n",
       "      <td>3.351543</td>\n",
       "      <td>1.397967</td>\n",
       "      <td>0.0</td>\n",
       "      <td>6</td>\n",
       "      <td>1</td>\n",
       "      <td>11111</td>\n",
       "      <td>5</td>\n",
       "      <td>0</td>\n",
       "    </tr>\n",
       "    <tr>\n",
       "      <th>9144234</th>\n",
       "      <td>49999</td>\n",
       "      <td>217</td>\n",
       "      <td>2.153401</td>\n",
       "      <td>-2.408502</td>\n",
       "      <td>3.281250</td>\n",
       "      <td>-0.510852</td>\n",
       "      <td>2</td>\n",
       "      <td>0.980298</td>\n",
       "      <td>66.373398</td>\n",
       "      <td>11.062232</td>\n",
       "      <td>62.841984</td>\n",
       "      <td>3.531411</td>\n",
       "      <td>1.705260</td>\n",
       "      <td>0.0</td>\n",
       "      <td>5</td>\n",
       "      <td>0</td>\n",
       "      <td>11111</td>\n",
       "      <td>5</td>\n",
       "      <td>0</td>\n",
       "    </tr>\n",
       "  </tbody>\n",
       "</table>\n",
       "<p>9144227 rows × 19 columns</p>\n",
       "</div>"
      ],
      "text/plain": [
       "         event_number  track_number    trk_pt   trk_eta     trk_z0   trk_phi  \\\n",
       "0                   0             0  3.321735  1.508114   2.285156 -0.322148   \n",
       "1                   0             1  2.802182  1.816592 -10.957031 -0.262414   \n",
       "2                   0             2  2.178730  0.647218  -3.632812 -0.083509   \n",
       "3                   0             3  1.971232  1.026682  -1.406250  0.047079   \n",
       "4                   0             4  1.974080 -1.409943  -1.582031  0.263590   \n",
       "...               ...           ...       ...       ...        ...       ...   \n",
       "9144230         49999           213  1.956761 -0.794572  -8.847656 -0.658581   \n",
       "9144231         49999           214  1.974437  2.042241   5.625000 -0.868537   \n",
       "9144232         49999           215  2.653839  2.266208  -3.515625 -1.143152   \n",
       "9144233         49999           216  2.244047 -2.199556   7.792969 -0.692157   \n",
       "9144234         49999           217  2.153401 -2.408502   3.281250 -0.510852   \n",
       "\n",
       "         trk_fake  trk_MVA1   trk_chi2  trk_chi2dof  trk_chi2rphi  trk_chi2rz  \\\n",
       "0               2  0.999705   3.449683     0.431210      1.824624    1.625059   \n",
       "1               2  0.996890   4.947418     0.618427      1.406616    3.540802   \n",
       "2               2  0.990228  11.213161     1.401645     10.229476    0.983685   \n",
       "3               2  0.996147   3.593802     0.598967      1.705098    1.888704   \n",
       "4               2  0.998664  12.148260     1.518533      6.264452    5.883808   \n",
       "...           ...       ...        ...          ...           ...         ...   \n",
       "9144230         2  0.583963   6.410769     1.602692      2.490247    3.920522   \n",
       "9144231         2  0.957060   8.334285     2.083571      2.325773    6.008512   \n",
       "9144232         2  0.999723   5.724111     0.715514      1.885870    3.838240   \n",
       "9144233         2  0.999751   4.317169     0.539646      0.965626    3.351543   \n",
       "9144234         2  0.980298  66.373398    11.062232     62.841984    3.531411   \n",
       "\n",
       "         trk_bendchi2  trk_MVA2  trk_nstub  trk_lhits  trk_dhits  trk_seed  \\\n",
       "0            0.650641       0.0          6        111       1011         0   \n",
       "1            1.399517       0.0          6         11       1111         0   \n",
       "2            1.053935       0.0          6     111111          0         0   \n",
       "3            0.702030       0.0          5      11111          0         0   \n",
       "4            1.077325       0.0          6        111        111         0   \n",
       "...               ...       ...        ...        ...        ...       ...   \n",
       "9144230      1.206160       0.0          4     101110          0         2   \n",
       "9144231      0.926740       0.0          4          1        111         4   \n",
       "9144232      0.750637       0.0          6          1      11111         5   \n",
       "9144233      1.397967       0.0          6          1      11111         5   \n",
       "9144234      1.705260       0.0          5          0      11111         5   \n",
       "\n",
       "         is_pv  \n",
       "0            0  \n",
       "1            0  \n",
       "2            0  \n",
       "3            0  \n",
       "4            0  \n",
       "...        ...  \n",
       "9144230      0  \n",
       "9144231      0  \n",
       "9144232      0  \n",
       "9144233      0  \n",
       "9144234      0  \n",
       "\n",
       "[9144227 rows x 19 columns]"
      ]
     },
     "execution_count": 20,
     "metadata": {},
     "output_type": "execute_result"
    }
   ],
   "source": [
    "tt"
   ]
  },
  {
   "cell_type": "code",
   "execution_count": 21,
   "metadata": {},
   "outputs": [],
   "source": [
    "AUC = test_feature_discrimination(X.values.reshape(-1, 1), y.values)"
   ]
  },
  {
   "cell_type": "code",
   "execution_count": 22,
   "metadata": {},
   "outputs": [
    {
     "data": {
      "text/plain": [
       "0.7765284172514538"
      ]
     },
     "execution_count": 22,
     "metadata": {},
     "output_type": "execute_result"
    }
   ],
   "source": [
    "AUC"
   ]
  },
  {
   "cell_type": "markdown",
   "metadata": {},
   "source": [
    "## Discriminating features"
   ]
  },
  {
   "cell_type": "markdown",
   "metadata": {},
   "source": [
    "### ttbar signal"
   ]
  },
  {
   "cell_type": "code",
   "execution_count": 23,
   "metadata": {},
   "outputs": [
    {
     "data": {
      "text/html": [
       "<div>\n",
       "<style scoped>\n",
       "    .dataframe tbody tr th:only-of-type {\n",
       "        vertical-align: middle;\n",
       "    }\n",
       "\n",
       "    .dataframe tbody tr th {\n",
       "        vertical-align: top;\n",
       "    }\n",
       "\n",
       "    .dataframe thead th {\n",
       "        text-align: right;\n",
       "    }\n",
       "</style>\n",
       "<table border=\"1\" class=\"dataframe\">\n",
       "  <thead>\n",
       "    <tr style=\"text-align: right;\">\n",
       "      <th></th>\n",
       "      <th>event_number</th>\n",
       "      <th>track_number</th>\n",
       "      <th>trk_pt</th>\n",
       "      <th>trk_eta</th>\n",
       "      <th>trk_z0</th>\n",
       "      <th>trk_phi</th>\n",
       "      <th>trk_fake</th>\n",
       "      <th>trk_MVA1</th>\n",
       "      <th>trk_chi2</th>\n",
       "      <th>trk_chi2dof</th>\n",
       "      <th>trk_chi2rphi</th>\n",
       "      <th>trk_chi2rz</th>\n",
       "      <th>trk_bendchi2</th>\n",
       "      <th>trk_MVA2</th>\n",
       "      <th>trk_nstub</th>\n",
       "      <th>trk_lhits</th>\n",
       "      <th>trk_dhits</th>\n",
       "      <th>trk_seed</th>\n",
       "      <th>is_pv</th>\n",
       "    </tr>\n",
       "  </thead>\n",
       "  <tbody>\n",
       "    <tr>\n",
       "      <th>0</th>\n",
       "      <td>0</td>\n",
       "      <td>0</td>\n",
       "      <td>3.321735</td>\n",
       "      <td>1.508114</td>\n",
       "      <td>2.285156</td>\n",
       "      <td>-0.322148</td>\n",
       "      <td>2</td>\n",
       "      <td>0.999705</td>\n",
       "      <td>3.449683</td>\n",
       "      <td>0.431210</td>\n",
       "      <td>1.824624</td>\n",
       "      <td>1.625059</td>\n",
       "      <td>0.650641</td>\n",
       "      <td>0.0</td>\n",
       "      <td>6</td>\n",
       "      <td>111</td>\n",
       "      <td>1011</td>\n",
       "      <td>0</td>\n",
       "      <td>0</td>\n",
       "    </tr>\n",
       "    <tr>\n",
       "      <th>1</th>\n",
       "      <td>0</td>\n",
       "      <td>1</td>\n",
       "      <td>2.802182</td>\n",
       "      <td>1.816592</td>\n",
       "      <td>-10.957031</td>\n",
       "      <td>-0.262414</td>\n",
       "      <td>2</td>\n",
       "      <td>0.996890</td>\n",
       "      <td>4.947418</td>\n",
       "      <td>0.618427</td>\n",
       "      <td>1.406616</td>\n",
       "      <td>3.540802</td>\n",
       "      <td>1.399517</td>\n",
       "      <td>0.0</td>\n",
       "      <td>6</td>\n",
       "      <td>11</td>\n",
       "      <td>1111</td>\n",
       "      <td>0</td>\n",
       "      <td>0</td>\n",
       "    </tr>\n",
       "    <tr>\n",
       "      <th>2</th>\n",
       "      <td>0</td>\n",
       "      <td>2</td>\n",
       "      <td>2.178730</td>\n",
       "      <td>0.647218</td>\n",
       "      <td>-3.632812</td>\n",
       "      <td>-0.083509</td>\n",
       "      <td>2</td>\n",
       "      <td>0.990228</td>\n",
       "      <td>11.213161</td>\n",
       "      <td>1.401645</td>\n",
       "      <td>10.229476</td>\n",
       "      <td>0.983685</td>\n",
       "      <td>1.053935</td>\n",
       "      <td>0.0</td>\n",
       "      <td>6</td>\n",
       "      <td>111111</td>\n",
       "      <td>0</td>\n",
       "      <td>0</td>\n",
       "      <td>0</td>\n",
       "    </tr>\n",
       "    <tr>\n",
       "      <th>3</th>\n",
       "      <td>0</td>\n",
       "      <td>3</td>\n",
       "      <td>1.971232</td>\n",
       "      <td>1.026682</td>\n",
       "      <td>-1.406250</td>\n",
       "      <td>0.047079</td>\n",
       "      <td>2</td>\n",
       "      <td>0.996147</td>\n",
       "      <td>3.593802</td>\n",
       "      <td>0.598967</td>\n",
       "      <td>1.705098</td>\n",
       "      <td>1.888704</td>\n",
       "      <td>0.702030</td>\n",
       "      <td>0.0</td>\n",
       "      <td>5</td>\n",
       "      <td>11111</td>\n",
       "      <td>0</td>\n",
       "      <td>0</td>\n",
       "      <td>0</td>\n",
       "    </tr>\n",
       "    <tr>\n",
       "      <th>4</th>\n",
       "      <td>0</td>\n",
       "      <td>4</td>\n",
       "      <td>1.974080</td>\n",
       "      <td>-1.409943</td>\n",
       "      <td>-1.582031</td>\n",
       "      <td>0.263590</td>\n",
       "      <td>2</td>\n",
       "      <td>0.998664</td>\n",
       "      <td>12.148260</td>\n",
       "      <td>1.518533</td>\n",
       "      <td>6.264452</td>\n",
       "      <td>5.883808</td>\n",
       "      <td>1.077325</td>\n",
       "      <td>0.0</td>\n",
       "      <td>6</td>\n",
       "      <td>111</td>\n",
       "      <td>111</td>\n",
       "      <td>0</td>\n",
       "      <td>0</td>\n",
       "    </tr>\n",
       "  </tbody>\n",
       "</table>\n",
       "</div>"
      ],
      "text/plain": [
       "   event_number  track_number    trk_pt   trk_eta     trk_z0   trk_phi  \\\n",
       "0             0             0  3.321735  1.508114   2.285156 -0.322148   \n",
       "1             0             1  2.802182  1.816592 -10.957031 -0.262414   \n",
       "2             0             2  2.178730  0.647218  -3.632812 -0.083509   \n",
       "3             0             3  1.971232  1.026682  -1.406250  0.047079   \n",
       "4             0             4  1.974080 -1.409943  -1.582031  0.263590   \n",
       "\n",
       "   trk_fake  trk_MVA1   trk_chi2  trk_chi2dof  trk_chi2rphi  trk_chi2rz  \\\n",
       "0         2  0.999705   3.449683     0.431210      1.824624    1.625059   \n",
       "1         2  0.996890   4.947418     0.618427      1.406616    3.540802   \n",
       "2         2  0.990228  11.213161     1.401645     10.229476    0.983685   \n",
       "3         2  0.996147   3.593802     0.598967      1.705098    1.888704   \n",
       "4         2  0.998664  12.148260     1.518533      6.264452    5.883808   \n",
       "\n",
       "   trk_bendchi2  trk_MVA2  trk_nstub  trk_lhits  trk_dhits  trk_seed  is_pv  \n",
       "0      0.650641       0.0          6        111       1011         0      0  \n",
       "1      1.399517       0.0          6         11       1111         0      0  \n",
       "2      1.053935       0.0          6     111111          0         0      0  \n",
       "3      0.702030       0.0          5      11111          0         0      0  \n",
       "4      1.077325       0.0          6        111        111         0      0  "
      ]
     },
     "execution_count": 23,
     "metadata": {},
     "output_type": "execute_result"
    }
   ],
   "source": [
    "tt.head()"
   ]
  },
  {
   "cell_type": "code",
   "execution_count": 24,
   "metadata": {},
   "outputs": [],
   "source": [
    "features_to_test = [\n",
    "    \"trk_pt\",\n",
    "    \"trk_eta\",\n",
    "    \"trk_phi\",\n",
    "    \"trk_MVA1\",\n",
    "    \"trk_chi2\",\n",
    "    \"trk_chi2dof\",\n",
    "    \"trk_chi2rphi\",\n",
    "    \"trk_chi2rz\",\n",
    "    \"trk_bendchi2\",\n",
    "    \"trk_nstub\",\n",
    "]"
   ]
  },
  {
   "cell_type": "code",
   "execution_count": 25,
   "metadata": {},
   "outputs": [
    {
     "name": "stdout",
     "output_type": "stream",
     "text": [
      "{'trk_pt': 0.7762355740683966, 'trk_eta': 0.5001663438856434, 'trk_phi': 0.49970591610168325, 'trk_MVA1': 0.5425445415216297, 'trk_chi2': 0.555773422085414, 'trk_chi2dof': 0.5530190870632156, 'trk_chi2rphi': 0.5635392444291911, 'trk_chi2rz': 0.49261362271348824, 'trk_bendchi2': 0.510224874553916, 'trk_nstub': 0.5125598607992086}\n"
     ]
    }
   ],
   "source": [
    "y = tt[\"is_pv\"].values\n",
    "results = {}\n",
    "for feature in features_to_test:\n",
    "\n",
    "    X = tt[feature].values\n",
    "    AUC = test_feature_discrimination(X.reshape(-1, 1), y)\n",
    "\n",
    "    results[feature] = AUC\n",
    "print(results)"
   ]
  },
  {
   "cell_type": "code",
   "execution_count": 26,
   "metadata": {},
   "outputs": [
    {
     "name": "stdout",
     "output_type": "stream",
     "text": [
      "trk_pt 0.7762355740683966\n",
      "trk_eta 0.5001663438856434\n",
      "trk_phi 0.49970591610168325\n",
      "trk_MVA1 0.5425445415216297\n",
      "trk_chi2 0.555773422085414\n",
      "trk_chi2dof 0.5530190870632156\n",
      "trk_chi2rphi 0.5635392444291911\n",
      "trk_chi2rz 0.49261362271348824\n",
      "trk_bendchi2 0.510224874553916\n",
      "trk_nstub 0.5125598607992086\n"
     ]
    }
   ],
   "source": [
    "for k, v in results.items():\n",
    "    print(k, v)"
   ]
  },
  {
   "cell_type": "markdown",
   "metadata": {},
   "source": [
    "### Drell-Yann signal"
   ]
  },
  {
   "cell_type": "code",
   "execution_count": 27,
   "metadata": {},
   "outputs": [
    {
     "data": {
      "text/html": [
       "<div>\n",
       "<style scoped>\n",
       "    .dataframe tbody tr th:only-of-type {\n",
       "        vertical-align: middle;\n",
       "    }\n",
       "\n",
       "    .dataframe tbody tr th {\n",
       "        vertical-align: top;\n",
       "    }\n",
       "\n",
       "    .dataframe thead th {\n",
       "        text-align: right;\n",
       "    }\n",
       "</style>\n",
       "<table border=\"1\" class=\"dataframe\">\n",
       "  <thead>\n",
       "    <tr style=\"text-align: right;\">\n",
       "      <th></th>\n",
       "      <th>event_number</th>\n",
       "      <th>track_number</th>\n",
       "      <th>trk_pt</th>\n",
       "      <th>trk_eta</th>\n",
       "      <th>trk_z0</th>\n",
       "      <th>trk_phi</th>\n",
       "      <th>trk_fake</th>\n",
       "      <th>trk_MVA1</th>\n",
       "      <th>trk_chi2</th>\n",
       "      <th>trk_chi2dof</th>\n",
       "      <th>trk_chi2rphi</th>\n",
       "      <th>trk_chi2rz</th>\n",
       "      <th>trk_bendchi2</th>\n",
       "      <th>trk_MVA2</th>\n",
       "      <th>trk_nstub</th>\n",
       "      <th>trk_lhits</th>\n",
       "      <th>trk_dhits</th>\n",
       "      <th>trk_seed</th>\n",
       "    </tr>\n",
       "  </thead>\n",
       "  <tbody>\n",
       "    <tr>\n",
       "      <th>0</th>\n",
       "      <td>0</td>\n",
       "      <td>0</td>\n",
       "      <td>2.866870</td>\n",
       "      <td>0.113040</td>\n",
       "      <td>9.550781</td>\n",
       "      <td>-0.421606</td>\n",
       "      <td>2</td>\n",
       "      <td>0.999381</td>\n",
       "      <td>4.637965</td>\n",
       "      <td>0.579746</td>\n",
       "      <td>2.702988</td>\n",
       "      <td>1.934977</td>\n",
       "      <td>0.686679</td>\n",
       "      <td>0.0</td>\n",
       "      <td>6</td>\n",
       "      <td>111111</td>\n",
       "      <td>0</td>\n",
       "      <td>0</td>\n",
       "    </tr>\n",
       "    <tr>\n",
       "      <th>1</th>\n",
       "      <td>0</td>\n",
       "      <td>1</td>\n",
       "      <td>2.486012</td>\n",
       "      <td>1.845880</td>\n",
       "      <td>0.000000</td>\n",
       "      <td>-0.316801</td>\n",
       "      <td>2</td>\n",
       "      <td>0.215835</td>\n",
       "      <td>137.081711</td>\n",
       "      <td>22.846952</td>\n",
       "      <td>127.351372</td>\n",
       "      <td>9.730344</td>\n",
       "      <td>2.440569</td>\n",
       "      <td>0.0</td>\n",
       "      <td>5</td>\n",
       "      <td>11</td>\n",
       "      <td>1011</td>\n",
       "      <td>0</td>\n",
       "    </tr>\n",
       "    <tr>\n",
       "      <th>2</th>\n",
       "      <td>0</td>\n",
       "      <td>2</td>\n",
       "      <td>2.361389</td>\n",
       "      <td>0.307625</td>\n",
       "      <td>3.339844</td>\n",
       "      <td>-0.308614</td>\n",
       "      <td>2</td>\n",
       "      <td>0.997092</td>\n",
       "      <td>3.353733</td>\n",
       "      <td>0.558955</td>\n",
       "      <td>0.709916</td>\n",
       "      <td>2.643817</td>\n",
       "      <td>0.726506</td>\n",
       "      <td>0.0</td>\n",
       "      <td>5</td>\n",
       "      <td>11111</td>\n",
       "      <td>0</td>\n",
       "      <td>0</td>\n",
       "    </tr>\n",
       "    <tr>\n",
       "      <th>3</th>\n",
       "      <td>0</td>\n",
       "      <td>3</td>\n",
       "      <td>3.423718</td>\n",
       "      <td>0.095558</td>\n",
       "      <td>9.492188</td>\n",
       "      <td>-0.121366</td>\n",
       "      <td>2</td>\n",
       "      <td>0.999124</td>\n",
       "      <td>5.060819</td>\n",
       "      <td>0.632602</td>\n",
       "      <td>0.270905</td>\n",
       "      <td>4.789914</td>\n",
       "      <td>0.765052</td>\n",
       "      <td>0.0</td>\n",
       "      <td>6</td>\n",
       "      <td>111111</td>\n",
       "      <td>0</td>\n",
       "      <td>0</td>\n",
       "    </tr>\n",
       "    <tr>\n",
       "      <th>4</th>\n",
       "      <td>0</td>\n",
       "      <td>4</td>\n",
       "      <td>2.778670</td>\n",
       "      <td>-1.833775</td>\n",
       "      <td>2.636719</td>\n",
       "      <td>-0.068203</td>\n",
       "      <td>2</td>\n",
       "      <td>0.999369</td>\n",
       "      <td>0.922418</td>\n",
       "      <td>0.115302</td>\n",
       "      <td>0.751318</td>\n",
       "      <td>0.171101</td>\n",
       "      <td>1.982557</td>\n",
       "      <td>0.0</td>\n",
       "      <td>6</td>\n",
       "      <td>10</td>\n",
       "      <td>11111</td>\n",
       "      <td>0</td>\n",
       "    </tr>\n",
       "    <tr>\n",
       "      <th>...</th>\n",
       "      <td>...</td>\n",
       "      <td>...</td>\n",
       "      <td>...</td>\n",
       "      <td>...</td>\n",
       "      <td>...</td>\n",
       "      <td>...</td>\n",
       "      <td>...</td>\n",
       "      <td>...</td>\n",
       "      <td>...</td>\n",
       "      <td>...</td>\n",
       "      <td>...</td>\n",
       "      <td>...</td>\n",
       "      <td>...</td>\n",
       "      <td>...</td>\n",
       "      <td>...</td>\n",
       "      <td>...</td>\n",
       "      <td>...</td>\n",
       "      <td>...</td>\n",
       "    </tr>\n",
       "    <tr>\n",
       "      <th>7999639</th>\n",
       "      <td>49999</td>\n",
       "      <td>147</td>\n",
       "      <td>2.000825</td>\n",
       "      <td>-2.058559</td>\n",
       "      <td>6.621094</td>\n",
       "      <td>-1.140925</td>\n",
       "      <td>2</td>\n",
       "      <td>0.999376</td>\n",
       "      <td>1.251186</td>\n",
       "      <td>0.156398</td>\n",
       "      <td>0.897767</td>\n",
       "      <td>0.353420</td>\n",
       "      <td>0.642494</td>\n",
       "      <td>0.0</td>\n",
       "      <td>6</td>\n",
       "      <td>1</td>\n",
       "      <td>11111</td>\n",
       "      <td>5</td>\n",
       "    </tr>\n",
       "    <tr>\n",
       "      <th>7999640</th>\n",
       "      <td>49999</td>\n",
       "      <td>148</td>\n",
       "      <td>4.460616</td>\n",
       "      <td>-2.361785</td>\n",
       "      <td>-4.570312</td>\n",
       "      <td>-0.836780</td>\n",
       "      <td>2</td>\n",
       "      <td>0.999363</td>\n",
       "      <td>2.357267</td>\n",
       "      <td>0.392878</td>\n",
       "      <td>1.111936</td>\n",
       "      <td>1.245331</td>\n",
       "      <td>1.784898</td>\n",
       "      <td>0.0</td>\n",
       "      <td>5</td>\n",
       "      <td>0</td>\n",
       "      <td>11111</td>\n",
       "      <td>5</td>\n",
       "    </tr>\n",
       "    <tr>\n",
       "      <th>7999641</th>\n",
       "      <td>49999</td>\n",
       "      <td>149</td>\n",
       "      <td>2.576263</td>\n",
       "      <td>2.420629</td>\n",
       "      <td>-4.277344</td>\n",
       "      <td>-0.706036</td>\n",
       "      <td>2</td>\n",
       "      <td>0.999110</td>\n",
       "      <td>4.582842</td>\n",
       "      <td>0.763807</td>\n",
       "      <td>0.157715</td>\n",
       "      <td>4.425127</td>\n",
       "      <td>0.746230</td>\n",
       "      <td>0.0</td>\n",
       "      <td>5</td>\n",
       "      <td>0</td>\n",
       "      <td>11111</td>\n",
       "      <td>5</td>\n",
       "    </tr>\n",
       "    <tr>\n",
       "      <th>7999642</th>\n",
       "      <td>49999</td>\n",
       "      <td>150</td>\n",
       "      <td>2.010026</td>\n",
       "      <td>-2.218207</td>\n",
       "      <td>3.281250</td>\n",
       "      <td>-0.750119</td>\n",
       "      <td>2</td>\n",
       "      <td>0.999431</td>\n",
       "      <td>10.751022</td>\n",
       "      <td>1.343878</td>\n",
       "      <td>0.940324</td>\n",
       "      <td>9.810699</td>\n",
       "      <td>0.409269</td>\n",
       "      <td>0.0</td>\n",
       "      <td>6</td>\n",
       "      <td>1</td>\n",
       "      <td>11111</td>\n",
       "      <td>5</td>\n",
       "    </tr>\n",
       "    <tr>\n",
       "      <th>7999643</th>\n",
       "      <td>49999</td>\n",
       "      <td>151</td>\n",
       "      <td>2.119160</td>\n",
       "      <td>2.046717</td>\n",
       "      <td>0.996094</td>\n",
       "      <td>-0.268057</td>\n",
       "      <td>2</td>\n",
       "      <td>0.998819</td>\n",
       "      <td>8.986534</td>\n",
       "      <td>1.123317</td>\n",
       "      <td>8.189752</td>\n",
       "      <td>0.796783</td>\n",
       "      <td>1.667897</td>\n",
       "      <td>0.0</td>\n",
       "      <td>6</td>\n",
       "      <td>1</td>\n",
       "      <td>11111</td>\n",
       "      <td>5</td>\n",
       "    </tr>\n",
       "  </tbody>\n",
       "</table>\n",
       "<p>7999644 rows × 18 columns</p>\n",
       "</div>"
      ],
      "text/plain": [
       "         event_number  track_number    trk_pt   trk_eta    trk_z0   trk_phi  \\\n",
       "0                   0             0  2.866870  0.113040  9.550781 -0.421606   \n",
       "1                   0             1  2.486012  1.845880  0.000000 -0.316801   \n",
       "2                   0             2  2.361389  0.307625  3.339844 -0.308614   \n",
       "3                   0             3  3.423718  0.095558  9.492188 -0.121366   \n",
       "4                   0             4  2.778670 -1.833775  2.636719 -0.068203   \n",
       "...               ...           ...       ...       ...       ...       ...   \n",
       "7999639         49999           147  2.000825 -2.058559  6.621094 -1.140925   \n",
       "7999640         49999           148  4.460616 -2.361785 -4.570312 -0.836780   \n",
       "7999641         49999           149  2.576263  2.420629 -4.277344 -0.706036   \n",
       "7999642         49999           150  2.010026 -2.218207  3.281250 -0.750119   \n",
       "7999643         49999           151  2.119160  2.046717  0.996094 -0.268057   \n",
       "\n",
       "         trk_fake  trk_MVA1    trk_chi2  trk_chi2dof  trk_chi2rphi  \\\n",
       "0               2  0.999381    4.637965     0.579746      2.702988   \n",
       "1               2  0.215835  137.081711    22.846952    127.351372   \n",
       "2               2  0.997092    3.353733     0.558955      0.709916   \n",
       "3               2  0.999124    5.060819     0.632602      0.270905   \n",
       "4               2  0.999369    0.922418     0.115302      0.751318   \n",
       "...           ...       ...         ...          ...           ...   \n",
       "7999639         2  0.999376    1.251186     0.156398      0.897767   \n",
       "7999640         2  0.999363    2.357267     0.392878      1.111936   \n",
       "7999641         2  0.999110    4.582842     0.763807      0.157715   \n",
       "7999642         2  0.999431   10.751022     1.343878      0.940324   \n",
       "7999643         2  0.998819    8.986534     1.123317      8.189752   \n",
       "\n",
       "         trk_chi2rz  trk_bendchi2  trk_MVA2  trk_nstub  trk_lhits  trk_dhits  \\\n",
       "0          1.934977      0.686679       0.0          6     111111          0   \n",
       "1          9.730344      2.440569       0.0          5         11       1011   \n",
       "2          2.643817      0.726506       0.0          5      11111          0   \n",
       "3          4.789914      0.765052       0.0          6     111111          0   \n",
       "4          0.171101      1.982557       0.0          6         10      11111   \n",
       "...             ...           ...       ...        ...        ...        ...   \n",
       "7999639    0.353420      0.642494       0.0          6          1      11111   \n",
       "7999640    1.245331      1.784898       0.0          5          0      11111   \n",
       "7999641    4.425127      0.746230       0.0          5          0      11111   \n",
       "7999642    9.810699      0.409269       0.0          6          1      11111   \n",
       "7999643    0.796783      1.667897       0.0          6          1      11111   \n",
       "\n",
       "         trk_seed  \n",
       "0               0  \n",
       "1               0  \n",
       "2               0  \n",
       "3               0  \n",
       "4               0  \n",
       "...           ...  \n",
       "7999639         5  \n",
       "7999640         5  \n",
       "7999641         5  \n",
       "7999642         5  \n",
       "7999643         5  \n",
       "\n",
       "[7999644 rows x 18 columns]"
      ]
     },
     "execution_count": 27,
     "metadata": {},
     "output_type": "execute_result"
    }
   ],
   "source": [
    "dy"
   ]
  },
  {
   "cell_type": "code",
   "execution_count": 28,
   "metadata": {},
   "outputs": [],
   "source": [
    "dy[\"is_pv\"] = 0\n",
    "dy.loc[dy[\"trk_fake\"] == 1, \"is_pv\"] = 1"
   ]
  },
  {
   "cell_type": "code",
   "execution_count": 29,
   "metadata": {},
   "outputs": [],
   "source": [
    "dy.dropna(inplace=True)"
   ]
  },
  {
   "cell_type": "code",
   "execution_count": 30,
   "metadata": {},
   "outputs": [
    {
     "name": "stdout",
     "output_type": "stream",
     "text": [
      "trk_pt 0.6754841434007948\n",
      "trk_eta 0.5007164462021292\n",
      "trk_phi 0.5004212513224963\n",
      "trk_MVA1 0.5238567974224253\n",
      "trk_chi2 0.5474562792359684\n",
      "trk_chi2dof 0.5459341194350281\n",
      "trk_chi2rphi 0.5554756134762769\n",
      "trk_chi2rz 0.49774856284599733\n",
      "trk_bendchi2 0.5088504647567398\n",
      "trk_nstub 0.5109184492064659\n"
     ]
    }
   ],
   "source": [
    "y = dy[\"is_pv\"].values\n",
    "results_dy = {}\n",
    "for feature in features_to_test:\n",
    "\n",
    "    X = dy[feature].values\n",
    "    AUC = test_feature_discrimination(X.reshape(-1, 1), y)\n",
    "\n",
    "    results_dy[feature] = AUC\n",
    "    print(feature, AUC)"
   ]
  },
  {
   "cell_type": "markdown",
   "metadata": {},
   "source": [
    "### Z' $\\rightarrow$ $\\mu$ $\\mu$ signal"
   ]
  },
  {
   "cell_type": "code",
   "execution_count": 31,
   "metadata": {},
   "outputs": [],
   "source": [
    "zp[\"is_pv\"] = 0\n",
    "zp.loc[zp[\"trk_fake\"] == 1, \"is_pv\"] = 1\n",
    "zp.dropna(inplace=True)"
   ]
  },
  {
   "cell_type": "code",
   "execution_count": 32,
   "metadata": {},
   "outputs": [
    {
     "name": "stdout",
     "output_type": "stream",
     "text": [
      "trk_pt 0.744\n",
      "trk_eta 0.501\n",
      "trk_phi 0.499\n",
      "trk_MVA1 0.473\n",
      "trk_chi2 0.544\n",
      "trk_chi2dof 0.542\n",
      "trk_chi2rphi 0.556\n",
      "trk_chi2rz 0.496\n",
      "trk_bendchi2 0.514\n",
      "trk_nstub 0.513\n"
     ]
    }
   ],
   "source": [
    "y = zp[\"is_pv\"].values\n",
    "results_zp = {}\n",
    "for feature in features_to_test:\n",
    "    X = zp[feature].values\n",
    "    AUC = test_feature_discrimination(X.reshape(-1, 1), y)\n",
    "    results_zp[feature] = AUC\n",
    "    print(feature, round(AUC, 3))"
   ]
  },
  {
   "cell_type": "code",
   "execution_count": 33,
   "metadata": {},
   "outputs": [
    {
     "data": {
      "text/plain": [
       "<AxesSubplot:xlabel='trk_MVA1', ylabel='Density'>"
      ]
     },
     "execution_count": 33,
     "metadata": {},
     "output_type": "execute_result"
    },
    {
     "data": {
      "image/png": "[encoded data removed]",
      "text/plain": [
       "<Figure size 432x288 with 1 Axes>"
      ]
     },
     "metadata": {
      "needs_background": "light"
     },
     "output_type": "display_data"
    }
   ],
   "source": [
    "sns.histplot(data=zp, x=\"trk_MVA1\", hue=\"is_pv\", common_norm=True, stat=\"density\")"
   ]
  },
  {
   "cell_type": "code",
   "execution_count": 34,
   "metadata": {},
   "outputs": [],
   "source": [
    "bkg = zp.loc[zp.is_pv == 0, \"trk_MVA1\"]\n",
    "sig = zp.loc[zp.is_pv == 1, \"trk_MVA1\"]"
   ]
  },
  {
   "cell_type": "code",
   "execution_count": 35,
   "metadata": {},
   "outputs": [
    {
     "data": {
      "text/plain": [
       "<matplotlib.legend.Legend at 0x7f0649bd9bb0>"
      ]
     },
     "execution_count": 35,
     "metadata": {},
     "output_type": "execute_result"
    },
    {
     "data": {
      "image/png": "[encoded data removed]",
      "text/plain": [
       "<Figure size 720x720 with 1 Axes>"
      ]
     },
     "metadata": {
      "needs_background": "light"
     },
     "output_type": "display_data"
    }
   ],
   "source": [
    "plt.figure(figsize=(10, 10))\n",
    "_, be, _ = plt.hist(bkg, bins=50, histtype=\"step\", density=True, label=\"Not PV\")\n",
    "_ = plt.hist(sig, bins=be, histtype=\"step\", density=True, label=\"PV\")\n",
    "plt.legend()"
   ]
  },
  {
   "cell_type": "markdown",
   "metadata": {},
   "source": [
    "## Multidimension classifier"
   ]
  },
  {
   "cell_type": "code",
   "execution_count": 36,
   "metadata": {},
   "outputs": [],
   "source": [
    "from primaryvertexingtools import test_xgb_clf"
   ]
  },
  {
   "cell_type": "code",
   "execution_count": 39,
   "metadata": {},
   "outputs": [
    {
     "name": "stdout",
     "output_type": "stream",
     "text": [
      "Fitting 3 folds for each of 18 candidates, totalling 54 fits\n",
      "[CV 1/3] END learning_rate=0.05, max_depth=6, n_estimators=50;, score=0.807 total time=  30.8s\n",
      "[CV 2/3] END learning_rate=0.05, max_depth=6, n_estimators=50;, score=0.809 total time=  30.7s\n",
      "[CV 3/3] END learning_rate=0.05, max_depth=6, n_estimators=50;, score=0.809 total time=  31.0s\n",
      "[CV 1/3] END learning_rate=0.05, max_depth=6, n_estimators=150;, score=0.806 total time= 1.5min\n",
      "[CV 2/3] END learning_rate=0.05, max_depth=6, n_estimators=150;, score=0.807 total time= 1.5min\n",
      "[CV 3/3] END learning_rate=0.05, max_depth=6, n_estimators=150;, score=0.808 total time= 1.5min\n",
      "[CV 1/3] END learning_rate=0.05, max_depth=6, n_estimators=300;, score=0.806 total time= 2.8min\n",
      "[CV 2/3] END learning_rate=0.05, max_depth=6, n_estimators=300;, score=0.807 total time= 2.8min\n",
      "[CV 3/3] END learning_rate=0.05, max_depth=6, n_estimators=300;, score=0.808 total time= 2.9min\n",
      "[CV 1/3] END learning_rate=0.05, max_depth=10, n_estimators=50;, score=0.806 total time=  41.0s\n",
      "[CV 2/3] END learning_rate=0.05, max_depth=10, n_estimators=50;, score=0.808 total time=  40.7s\n",
      "[CV 3/3] END learning_rate=0.05, max_depth=10, n_estimators=50;, score=0.809 total time=  41.1s\n",
      "[CV 1/3] END learning_rate=0.05, max_depth=10, n_estimators=150;, score=0.807 total time= 1.9min\n",
      "[CV 2/3] END learning_rate=0.05, max_depth=10, n_estimators=150;, score=0.808 total time= 1.9min\n",
      "[CV 3/3] END learning_rate=0.05, max_depth=10, n_estimators=150;, score=0.809 total time= 1.9min\n",
      "[CV 1/3] END learning_rate=0.05, max_depth=10, n_estimators=300;, score=0.808 total time= 3.7min\n",
      "[CV 2/3] END learning_rate=0.05, max_depth=10, n_estimators=300;, score=0.809 total time= 3.5min\n",
      "[CV 3/3] END learning_rate=0.05, max_depth=10, n_estimators=300;, score=0.810 total time= 3.6min\n",
      "[CV 1/3] END learning_rate=0.05, max_depth=14, n_estimators=50;, score=0.812 total time= 1.0min\n",
      "[CV 2/3] END learning_rate=0.05, max_depth=14, n_estimators=50;, score=0.812 total time= 1.0min\n",
      "[CV 3/3] END learning_rate=0.05, max_depth=14, n_estimators=50;, score=0.814 total time= 1.0min\n",
      "[CV 1/3] END learning_rate=0.05, max_depth=14, n_estimators=150;, score=0.816 total time= 2.8min\n",
      "[CV 2/3] END learning_rate=0.05, max_depth=14, n_estimators=150;, score=0.816 total time= 2.8min\n",
      "[CV 3/3] END learning_rate=0.05, max_depth=14, n_estimators=150;, score=0.817 total time= 2.7min\n",
      "[CV 1/3] END learning_rate=0.05, max_depth=14, n_estimators=300;, score=0.820 total time= 5.0min\n",
      "[CV 2/3] END learning_rate=0.05, max_depth=14, n_estimators=300;, score=0.820 total time= 4.9min\n",
      "[CV 3/3] END learning_rate=0.05, max_depth=14, n_estimators=300;, score=0.821 total time= 5.0min\n",
      "[CV 1/3] END learning_rate=0.1, max_depth=6, n_estimators=50;, score=0.807 total time=  29.0s\n",
      "[CV 2/3] END learning_rate=0.1, max_depth=6, n_estimators=50;, score=0.809 total time=  30.1s\n",
      "[CV 3/3] END learning_rate=0.1, max_depth=6, n_estimators=50;, score=0.809 total time=  30.4s\n",
      "[CV 1/3] END learning_rate=0.1, max_depth=6, n_estimators=150;, score=0.807 total time= 1.4min\n",
      "[CV 2/3] END learning_rate=0.1, max_depth=6, n_estimators=150;, score=0.807 total time= 1.4min\n",
      "[CV 3/3] END learning_rate=0.1, max_depth=6, n_estimators=150;, score=0.808 total time= 1.4min\n",
      "[CV 1/3] END learning_rate=0.1, max_depth=6, n_estimators=300;, score=0.807 total time= 2.8min\n",
      "[CV 2/3] END learning_rate=0.1, max_depth=6, n_estimators=300;, score=0.807 total time= 2.7min\n",
      "[CV 3/3] END learning_rate=0.1, max_depth=6, n_estimators=300;, score=0.808 total time= 2.8min\n",
      "[CV 1/3] END learning_rate=0.1, max_depth=10, n_estimators=50;, score=0.807 total time=  39.2s\n",
      "[CV 2/3] END learning_rate=0.1, max_depth=10, n_estimators=50;, score=0.808 total time=  39.4s\n",
      "[CV 3/3] END learning_rate=0.1, max_depth=10, n_estimators=50;, score=0.809 total time=  39.6s\n",
      "[CV 1/3] END learning_rate=0.1, max_depth=10, n_estimators=150;, score=0.808 total time= 1.8min\n",
      "[CV 2/3] END learning_rate=0.1, max_depth=10, n_estimators=150;, score=0.809 total time= 1.8min\n",
      "[CV 3/3] END learning_rate=0.1, max_depth=10, n_estimators=150;, score=0.810 total time= 1.8min\n",
      "[CV 1/3] END learning_rate=0.1, max_depth=10, n_estimators=300;, score=0.810 total time= 3.4min\n",
      "[CV 2/3] END learning_rate=0.1, max_depth=10, n_estimators=300;, score=0.811 total time= 3.6min\n",
      "[CV 3/3] END learning_rate=0.1, max_depth=10, n_estimators=300;, score=0.811 total time= 3.5min\n",
      "[CV 1/3] END learning_rate=0.1, max_depth=14, n_estimators=50;, score=0.814 total time= 1.0min\n",
      "[CV 2/3] END learning_rate=0.1, max_depth=14, n_estimators=50;, score=0.814 total time=  60.0s\n",
      "[CV 3/3] END learning_rate=0.1, max_depth=14, n_estimators=50;, score=0.815 total time= 1.0min\n",
      "[CV 1/3] END learning_rate=0.1, max_depth=14, n_estimators=150;, score=0.819 total time= 2.5min\n",
      "[CV 2/3] END learning_rate=0.1, max_depth=14, n_estimators=150;, score=0.819 total time= 2.5min\n",
      "[CV 3/3] END learning_rate=0.1, max_depth=14, n_estimators=150;, score=0.820 total time= 2.5min\n",
      "[CV 1/3] END learning_rate=0.1, max_depth=14, n_estimators=300;, score=0.825 total time= 4.7min\n",
      "[CV 2/3] END learning_rate=0.1, max_depth=14, n_estimators=300;, score=0.826 total time= 4.7min\n",
      "[CV 3/3] END learning_rate=0.1, max_depth=14, n_estimators=300;, score=0.827 total time= 4.8min\n"
     ]
    }
   ],
   "source": [
    "ttbar_auc, ttbar_clf = test_xgb_clf(tt, features_to_test, label_name=\"is_pv\")"
   ]
  },
  {
   "cell_type": "code",
   "execution_count": 40,
   "metadata": {},
   "outputs": [
    {
     "data": {
      "text/plain": [
       "0.7794276451012123"
      ]
     },
     "execution_count": 40,
     "metadata": {},
     "output_type": "execute_result"
    }
   ],
   "source": [
    "ttbar_auc"
   ]
  },
  {
   "cell_type": "code",
   "execution_count": 52,
   "metadata": {},
   "outputs": [],
   "source": [
    "features_to_test = [\n",
    "    \"trk_pt\",\n",
    "    \"trk_eta\",\n",
    "    \"trk_phi\",\n",
    "    \"trk_MVA1\",\n",
    "    \"trk_chi2\",\n",
    "    \"trk_chi2dof\",\n",
    "    \"trk_chi2rphi\",\n",
    "    \"trk_chi2rz\",\n",
    "    \"trk_bendchi2\",\n",
    "    \"trk_nstub\",\n",
    "]"
   ]
  },
  {
   "cell_type": "code",
   "execution_count": null,
   "metadata": {},
   "outputs": [],
   "source": []
  },
  {
   "cell_type": "code",
   "execution_count": 53,
   "metadata": {},
   "outputs": [],
   "source": [
    "x_train, x_test, y_train, y_test = train_test_split(\n",
    "    tt[features_to_test].values,\n",
    "    tt[\"is_pv\"].values,\n",
    "    test_size=0.2,\n",
    "    random_state=42,\n",
    "    stratify=tt[\"is_pv\"].values,\n",
    ")"
   ]
  },
  {
   "cell_type": "code",
   "execution_count": 54,
   "metadata": {},
   "outputs": [
    {
     "ename": "ValueError",
     "evalue": "X has 10 features, but LogisticRegression is expecting 1 features as input.",
     "output_type": "error",
     "traceback": [
      "\u001b[0;31m---------------------------------------------------------------------------\u001b[0m",
      "\u001b[0;31mValueError\u001b[0m                                Traceback (most recent call last)",
      "Input \u001b[0;32mIn [54]\u001b[0m, in \u001b[0;36m<cell line: 2>\u001b[0;34m()\u001b[0m\n\u001b[1;32m      1\u001b[0m fig, ax \u001b[38;5;241m=\u001b[39m plt\u001b[38;5;241m.\u001b[39msubplots(figsize\u001b[38;5;241m=\u001b[39m(\u001b[38;5;241m8\u001b[39m,\u001b[38;5;241m8\u001b[39m))\n\u001b[0;32m----> 2\u001b[0m \u001b[43mRocCurveDisplay\u001b[49m\u001b[38;5;241;43m.\u001b[39;49m\u001b[43mfrom_estimator\u001b[49m\u001b[43m(\u001b[49m\n\u001b[1;32m      3\u001b[0m \u001b[43m    \u001b[49m\u001b[43mtt_clf\u001b[49m\u001b[43m,\u001b[49m\n\u001b[1;32m      4\u001b[0m \u001b[43m    \u001b[49m\u001b[43mx_test\u001b[49m\u001b[43m,\u001b[49m\n\u001b[1;32m      5\u001b[0m \u001b[43m    \u001b[49m\u001b[43my_test\u001b[49m\u001b[43m,\u001b[49m\n\u001b[1;32m      6\u001b[0m \u001b[43m    \u001b[49m\u001b[43mcolor\u001b[49m\u001b[38;5;241;43m=\u001b[39;49m\u001b[38;5;124;43m'\u001b[39;49m\u001b[38;5;124;43mdarkorange\u001b[39;49m\u001b[38;5;124;43m'\u001b[39;49m\u001b[43m,\u001b[49m\n\u001b[1;32m      7\u001b[0m \u001b[43m    \u001b[49m\u001b[43max\u001b[49m\u001b[38;5;241;43m=\u001b[39;49m\u001b[43max\u001b[49m\n\u001b[1;32m      8\u001b[0m \u001b[43m)\u001b[49m\n\u001b[1;32m      9\u001b[0m plt\u001b[38;5;241m.\u001b[39mplot([\u001b[38;5;241m0\u001b[39m, \u001b[38;5;241m1\u001b[39m], [\u001b[38;5;241m0\u001b[39m, \u001b[38;5;241m1\u001b[39m], \u001b[38;5;124m\"\u001b[39m\u001b[38;5;124mk--\u001b[39m\u001b[38;5;124m\"\u001b[39m)\n\u001b[1;32m     10\u001b[0m plt\u001b[38;5;241m.\u001b[39maxis(\u001b[38;5;124m\"\u001b[39m\u001b[38;5;124msquare\u001b[39m\u001b[38;5;124m\"\u001b[39m)\n",
      "File \u001b[0;32m~/miniconda3/envs/db-clustering/lib/python3.8/site-packages/sklearn/metrics/_plot/roc_curve.py:231\u001b[0m, in \u001b[0;36mRocCurveDisplay.from_estimator\u001b[0;34m(cls, estimator, X, y, sample_weight, drop_intermediate, response_method, pos_label, name, ax, **kwargs)\u001b[0m\n\u001b[1;32m    227\u001b[0m check_matplotlib_support(\u001b[38;5;124mf\u001b[39m\u001b[38;5;124m\"\u001b[39m\u001b[38;5;132;01m{\u001b[39;00m\u001b[38;5;28mcls\u001b[39m\u001b[38;5;241m.\u001b[39m\u001b[38;5;18m__name__\u001b[39m\u001b[38;5;132;01m}\u001b[39;00m\u001b[38;5;124m.from_estimator\u001b[39m\u001b[38;5;124m\"\u001b[39m)\n\u001b[1;32m    229\u001b[0m name \u001b[38;5;241m=\u001b[39m estimator\u001b[38;5;241m.\u001b[39m\u001b[38;5;18m__class__\u001b[39m\u001b[38;5;241m.\u001b[39m\u001b[38;5;18m__name__\u001b[39m \u001b[38;5;28;01mif\u001b[39;00m name \u001b[38;5;129;01mis\u001b[39;00m \u001b[38;5;28;01mNone\u001b[39;00m \u001b[38;5;28;01melse\u001b[39;00m name\n\u001b[0;32m--> 231\u001b[0m y_pred, pos_label \u001b[38;5;241m=\u001b[39m \u001b[43m_get_response\u001b[49m\u001b[43m(\u001b[49m\n\u001b[1;32m    232\u001b[0m \u001b[43m    \u001b[49m\u001b[43mX\u001b[49m\u001b[43m,\u001b[49m\n\u001b[1;32m    233\u001b[0m \u001b[43m    \u001b[49m\u001b[43mestimator\u001b[49m\u001b[43m,\u001b[49m\n\u001b[1;32m    234\u001b[0m \u001b[43m    \u001b[49m\u001b[43mresponse_method\u001b[49m\u001b[38;5;241;43m=\u001b[39;49m\u001b[43mresponse_method\u001b[49m\u001b[43m,\u001b[49m\n\u001b[1;32m    235\u001b[0m \u001b[43m    \u001b[49m\u001b[43mpos_label\u001b[49m\u001b[38;5;241;43m=\u001b[39;49m\u001b[43mpos_label\u001b[49m\u001b[43m,\u001b[49m\n\u001b[1;32m    236\u001b[0m \u001b[43m\u001b[49m\u001b[43m)\u001b[49m\n\u001b[1;32m    238\u001b[0m \u001b[38;5;28;01mreturn\u001b[39;00m \u001b[38;5;28mcls\u001b[39m\u001b[38;5;241m.\u001b[39mfrom_predictions(\n\u001b[1;32m    239\u001b[0m     y_true\u001b[38;5;241m=\u001b[39my,\n\u001b[1;32m    240\u001b[0m     y_pred\u001b[38;5;241m=\u001b[39my_pred,\n\u001b[0;32m   (...)\u001b[0m\n\u001b[1;32m    246\u001b[0m     \u001b[38;5;241m*\u001b[39m\u001b[38;5;241m*\u001b[39mkwargs,\n\u001b[1;32m    247\u001b[0m )\n",
      "File \u001b[0;32m~/miniconda3/envs/db-clustering/lib/python3.8/site-packages/sklearn/metrics/_plot/base.py:92\u001b[0m, in \u001b[0;36m_get_response\u001b[0;34m(X, estimator, response_method, pos_label)\u001b[0m\n\u001b[1;32m     89\u001b[0m     \u001b[38;5;28;01mraise\u001b[39;00m \u001b[38;5;167;01mValueError\u001b[39;00m(classification_error)\n\u001b[1;32m     91\u001b[0m prediction_method \u001b[38;5;241m=\u001b[39m _check_classifier_response_method(estimator, response_method)\n\u001b[0;32m---> 92\u001b[0m y_pred \u001b[38;5;241m=\u001b[39m \u001b[43mprediction_method\u001b[49m\u001b[43m(\u001b[49m\u001b[43mX\u001b[49m\u001b[43m)\u001b[49m\n\u001b[1;32m     93\u001b[0m \u001b[38;5;28;01mif\u001b[39;00m pos_label \u001b[38;5;129;01mis\u001b[39;00m \u001b[38;5;129;01mnot\u001b[39;00m \u001b[38;5;28;01mNone\u001b[39;00m:\n\u001b[1;32m     94\u001b[0m     \u001b[38;5;28;01mtry\u001b[39;00m:\n",
      "File \u001b[0;32m~/miniconda3/envs/db-clustering/lib/python3.8/site-packages/sklearn/linear_model/_logistic.py:1311\u001b[0m, in \u001b[0;36mLogisticRegression.predict_proba\u001b[0;34m(self, X)\u001b[0m\n\u001b[1;32m   1306\u001b[0m ovr \u001b[38;5;241m=\u001b[39m \u001b[38;5;28mself\u001b[39m\u001b[38;5;241m.\u001b[39mmulti_class \u001b[38;5;129;01min\u001b[39;00m [\u001b[38;5;124m\"\u001b[39m\u001b[38;5;124movr\u001b[39m\u001b[38;5;124m\"\u001b[39m, \u001b[38;5;124m\"\u001b[39m\u001b[38;5;124mwarn\u001b[39m\u001b[38;5;124m\"\u001b[39m] \u001b[38;5;129;01mor\u001b[39;00m (\n\u001b[1;32m   1307\u001b[0m     \u001b[38;5;28mself\u001b[39m\u001b[38;5;241m.\u001b[39mmulti_class \u001b[38;5;241m==\u001b[39m \u001b[38;5;124m\"\u001b[39m\u001b[38;5;124mauto\u001b[39m\u001b[38;5;124m\"\u001b[39m\n\u001b[1;32m   1308\u001b[0m     \u001b[38;5;129;01mand\u001b[39;00m (\u001b[38;5;28mself\u001b[39m\u001b[38;5;241m.\u001b[39mclasses_\u001b[38;5;241m.\u001b[39msize \u001b[38;5;241m<\u001b[39m\u001b[38;5;241m=\u001b[39m \u001b[38;5;241m2\u001b[39m \u001b[38;5;129;01mor\u001b[39;00m \u001b[38;5;28mself\u001b[39m\u001b[38;5;241m.\u001b[39msolver \u001b[38;5;241m==\u001b[39m \u001b[38;5;124m\"\u001b[39m\u001b[38;5;124mliblinear\u001b[39m\u001b[38;5;124m\"\u001b[39m)\n\u001b[1;32m   1309\u001b[0m )\n\u001b[1;32m   1310\u001b[0m \u001b[38;5;28;01mif\u001b[39;00m ovr:\n\u001b[0;32m-> 1311\u001b[0m     \u001b[38;5;28;01mreturn\u001b[39;00m \u001b[38;5;28;43msuper\u001b[39;49m\u001b[43m(\u001b[49m\u001b[43m)\u001b[49m\u001b[38;5;241;43m.\u001b[39;49m\u001b[43m_predict_proba_lr\u001b[49m\u001b[43m(\u001b[49m\u001b[43mX\u001b[49m\u001b[43m)\u001b[49m\n\u001b[1;32m   1312\u001b[0m \u001b[38;5;28;01melse\u001b[39;00m:\n\u001b[1;32m   1313\u001b[0m     decision \u001b[38;5;241m=\u001b[39m \u001b[38;5;28mself\u001b[39m\u001b[38;5;241m.\u001b[39mdecision_function(X)\n",
      "File \u001b[0;32m~/miniconda3/envs/db-clustering/lib/python3.8/site-packages/sklearn/linear_model/_base.py:461\u001b[0m, in \u001b[0;36mLinearClassifierMixin._predict_proba_lr\u001b[0;34m(self, X)\u001b[0m\n\u001b[1;32m    454\u001b[0m \u001b[38;5;28;01mdef\u001b[39;00m \u001b[38;5;21m_predict_proba_lr\u001b[39m(\u001b[38;5;28mself\u001b[39m, X):\n\u001b[1;32m    455\u001b[0m     \u001b[38;5;124;03m\"\"\"Probability estimation for OvR logistic regression.\u001b[39;00m\n\u001b[1;32m    456\u001b[0m \n\u001b[1;32m    457\u001b[0m \u001b[38;5;124;03m    Positive class probabilities are computed as\u001b[39;00m\n\u001b[1;32m    458\u001b[0m \u001b[38;5;124;03m    1. / (1. + np.exp(-self.decision_function(X)));\u001b[39;00m\n\u001b[1;32m    459\u001b[0m \u001b[38;5;124;03m    multiclass is handled by normalizing that over all classes.\u001b[39;00m\n\u001b[1;32m    460\u001b[0m \u001b[38;5;124;03m    \"\"\"\u001b[39;00m\n\u001b[0;32m--> 461\u001b[0m     prob \u001b[38;5;241m=\u001b[39m \u001b[38;5;28;43mself\u001b[39;49m\u001b[38;5;241;43m.\u001b[39;49m\u001b[43mdecision_function\u001b[49m\u001b[43m(\u001b[49m\u001b[43mX\u001b[49m\u001b[43m)\u001b[49m\n\u001b[1;32m    462\u001b[0m     expit(prob, out\u001b[38;5;241m=\u001b[39mprob)\n\u001b[1;32m    463\u001b[0m     \u001b[38;5;28;01mif\u001b[39;00m prob\u001b[38;5;241m.\u001b[39mndim \u001b[38;5;241m==\u001b[39m \u001b[38;5;241m1\u001b[39m:\n",
      "File \u001b[0;32m~/miniconda3/envs/db-clustering/lib/python3.8/site-packages/sklearn/linear_model/_base.py:429\u001b[0m, in \u001b[0;36mLinearClassifierMixin.decision_function\u001b[0;34m(self, X)\u001b[0m\n\u001b[1;32m    409\u001b[0m \u001b[38;5;124;03m\"\"\"\u001b[39;00m\n\u001b[1;32m    410\u001b[0m \u001b[38;5;124;03mPredict confidence scores for samples.\u001b[39;00m\n\u001b[1;32m    411\u001b[0m \n\u001b[0;32m   (...)\u001b[0m\n\u001b[1;32m    425\u001b[0m \u001b[38;5;124;03m    this class would be predicted.\u001b[39;00m\n\u001b[1;32m    426\u001b[0m \u001b[38;5;124;03m\"\"\"\u001b[39;00m\n\u001b[1;32m    427\u001b[0m check_is_fitted(\u001b[38;5;28mself\u001b[39m)\n\u001b[0;32m--> 429\u001b[0m X \u001b[38;5;241m=\u001b[39m \u001b[38;5;28;43mself\u001b[39;49m\u001b[38;5;241;43m.\u001b[39;49m\u001b[43m_validate_data\u001b[49m\u001b[43m(\u001b[49m\u001b[43mX\u001b[49m\u001b[43m,\u001b[49m\u001b[43m \u001b[49m\u001b[43maccept_sparse\u001b[49m\u001b[38;5;241;43m=\u001b[39;49m\u001b[38;5;124;43m\"\u001b[39;49m\u001b[38;5;124;43mcsr\u001b[39;49m\u001b[38;5;124;43m\"\u001b[39;49m\u001b[43m,\u001b[49m\u001b[43m \u001b[49m\u001b[43mreset\u001b[49m\u001b[38;5;241;43m=\u001b[39;49m\u001b[38;5;28;43;01mFalse\u001b[39;49;00m\u001b[43m)\u001b[49m\n\u001b[1;32m    430\u001b[0m scores \u001b[38;5;241m=\u001b[39m safe_sparse_dot(X, \u001b[38;5;28mself\u001b[39m\u001b[38;5;241m.\u001b[39mcoef_\u001b[38;5;241m.\u001b[39mT, dense_output\u001b[38;5;241m=\u001b[39m\u001b[38;5;28;01mTrue\u001b[39;00m) \u001b[38;5;241m+\u001b[39m \u001b[38;5;28mself\u001b[39m\u001b[38;5;241m.\u001b[39mintercept_\n\u001b[1;32m    431\u001b[0m \u001b[38;5;28;01mreturn\u001b[39;00m scores\u001b[38;5;241m.\u001b[39mravel() \u001b[38;5;28;01mif\u001b[39;00m scores\u001b[38;5;241m.\u001b[39mshape[\u001b[38;5;241m1\u001b[39m] \u001b[38;5;241m==\u001b[39m \u001b[38;5;241m1\u001b[39m \u001b[38;5;28;01melse\u001b[39;00m scores\n",
      "File \u001b[0;32m~/miniconda3/envs/db-clustering/lib/python3.8/site-packages/sklearn/base.py:600\u001b[0m, in \u001b[0;36mBaseEstimator._validate_data\u001b[0;34m(self, X, y, reset, validate_separately, **check_params)\u001b[0m\n\u001b[1;32m    597\u001b[0m     out \u001b[38;5;241m=\u001b[39m X, y\n\u001b[1;32m    599\u001b[0m \u001b[38;5;28;01mif\u001b[39;00m \u001b[38;5;129;01mnot\u001b[39;00m no_val_X \u001b[38;5;129;01mand\u001b[39;00m check_params\u001b[38;5;241m.\u001b[39mget(\u001b[38;5;124m\"\u001b[39m\u001b[38;5;124mensure_2d\u001b[39m\u001b[38;5;124m\"\u001b[39m, \u001b[38;5;28;01mTrue\u001b[39;00m):\n\u001b[0;32m--> 600\u001b[0m     \u001b[38;5;28;43mself\u001b[39;49m\u001b[38;5;241;43m.\u001b[39;49m\u001b[43m_check_n_features\u001b[49m\u001b[43m(\u001b[49m\u001b[43mX\u001b[49m\u001b[43m,\u001b[49m\u001b[43m \u001b[49m\u001b[43mreset\u001b[49m\u001b[38;5;241;43m=\u001b[39;49m\u001b[43mreset\u001b[49m\u001b[43m)\u001b[49m\n\u001b[1;32m    602\u001b[0m \u001b[38;5;28;01mreturn\u001b[39;00m out\n",
      "File \u001b[0;32m~/miniconda3/envs/db-clustering/lib/python3.8/site-packages/sklearn/base.py:400\u001b[0m, in \u001b[0;36mBaseEstimator._check_n_features\u001b[0;34m(self, X, reset)\u001b[0m\n\u001b[1;32m    397\u001b[0m     \u001b[38;5;28;01mreturn\u001b[39;00m\n\u001b[1;32m    399\u001b[0m \u001b[38;5;28;01mif\u001b[39;00m n_features \u001b[38;5;241m!=\u001b[39m \u001b[38;5;28mself\u001b[39m\u001b[38;5;241m.\u001b[39mn_features_in_:\n\u001b[0;32m--> 400\u001b[0m     \u001b[38;5;28;01mraise\u001b[39;00m \u001b[38;5;167;01mValueError\u001b[39;00m(\n\u001b[1;32m    401\u001b[0m         \u001b[38;5;124mf\u001b[39m\u001b[38;5;124m\"\u001b[39m\u001b[38;5;124mX has \u001b[39m\u001b[38;5;132;01m{\u001b[39;00mn_features\u001b[38;5;132;01m}\u001b[39;00m\u001b[38;5;124m features, but \u001b[39m\u001b[38;5;132;01m{\u001b[39;00m\u001b[38;5;28mself\u001b[39m\u001b[38;5;241m.\u001b[39m\u001b[38;5;18m__class__\u001b[39m\u001b[38;5;241m.\u001b[39m\u001b[38;5;18m__name__\u001b[39m\u001b[38;5;132;01m}\u001b[39;00m\u001b[38;5;124m \u001b[39m\u001b[38;5;124m\"\u001b[39m\n\u001b[1;32m    402\u001b[0m         \u001b[38;5;124mf\u001b[39m\u001b[38;5;124m\"\u001b[39m\u001b[38;5;124mis expecting \u001b[39m\u001b[38;5;132;01m{\u001b[39;00m\u001b[38;5;28mself\u001b[39m\u001b[38;5;241m.\u001b[39mn_features_in_\u001b[38;5;132;01m}\u001b[39;00m\u001b[38;5;124m features as input.\u001b[39m\u001b[38;5;124m\"\u001b[39m\n\u001b[1;32m    403\u001b[0m     )\n",
      "\u001b[0;31mValueError\u001b[0m: X has 10 features, but LogisticRegression is expecting 1 features as input."
     ]
    },
    {
     "data": {
      "image/png": "[encoded data removed]",
      "text/plain": [
       "<Figure size 576x576 with 1 Axes>"
      ]
     },
     "metadata": {
      "needs_background": "light"
     },
     "output_type": "display_data"
    }
   ],
   "source": [
    "fig, ax = plt.subplots(figsize=(8,8))\n",
    "RocCurveDisplay.from_estimator(\n",
    "    tt_clf,\n",
    "    x_test,\n",
    "    y_test,\n",
    "    color='darkorange',\n",
    "    ax=ax\n",
    ")\n",
    "plt.plot([0, 1], [0, 1], \"k--\")\n",
    "plt.axis(\"square\")\n",
    "plt.xlabel(\"False Positive Rate\", fontsize=16)\n",
    "plt.ylabel(\"True Positive Rate\", fontsize=16)\n",
    "plt.legend(fontsize=16)\n",
    "ax.tick_params(axis=\"both\", which=\"major\", labelsize=16)\n",
    "ax.set_title(\"Classifier based on $p_T$\", fontsize=16)"
   ]
  },
  {
   "cell_type": "code",
   "execution_count": null,
   "metadata": {},
   "outputs": [],
   "source": []
  },
  {
   "cell_type": "code",
   "execution_count": null,
   "metadata": {},
   "outputs": [],
   "source": []
  },
  {
   "cell_type": "code",
   "execution_count": null,
   "metadata": {},
   "outputs": [],
   "source": []
  },
  {
   "cell_type": "code",
   "execution_count": null,
   "metadata": {},
   "outputs": [
    {
     "name": "stdout",
     "output_type": "stream",
     "text": [
      "Fitting 3 folds for each of 18 candidates, totalling 54 fits\n",
      "[CV 1/3] END learning_rate=0.05, max_depth=6, n_estimators=50;, score=0.886 total time=  25.9s\n",
      "[CV 2/3] END learning_rate=0.05, max_depth=6, n_estimators=50;, score=0.887 total time=  25.9s\n",
      "[CV 3/3] END learning_rate=0.05, max_depth=6, n_estimators=50;, score=0.885 total time=  25.6s\n",
      "[CV 1/3] END learning_rate=0.05, max_depth=6, n_estimators=150;, score=0.885 total time= 1.2min\n",
      "[CV 2/3] END learning_rate=0.05, max_depth=6, n_estimators=150;, score=0.886 total time= 1.2min\n",
      "[CV 3/3] END learning_rate=0.05, max_depth=6, n_estimators=150;, score=0.885 total time= 1.2min\n",
      "[CV 1/3] END learning_rate=0.05, max_depth=6, n_estimators=300;, score=0.885 total time= 2.4min\n",
      "[CV 2/3] END learning_rate=0.05, max_depth=6, n_estimators=300;, score=0.886 total time= 2.5min\n",
      "[CV 3/3] END learning_rate=0.05, max_depth=6, n_estimators=300;, score=0.885 total time= 2.4min\n",
      "[CV 1/3] END learning_rate=0.05, max_depth=10, n_estimators=50;, score=0.890 total time=  32.6s\n",
      "[CV 2/3] END learning_rate=0.05, max_depth=10, n_estimators=50;, score=0.891 total time=  32.8s\n",
      "[CV 3/3] END learning_rate=0.05, max_depth=10, n_estimators=50;, score=0.890 total time=  32.5s\n",
      "[CV 1/3] END learning_rate=0.05, max_depth=10, n_estimators=150;, score=0.892 total time= 1.5min\n",
      "[CV 2/3] END learning_rate=0.05, max_depth=10, n_estimators=150;, score=0.894 total time= 1.5min\n",
      "[CV 3/3] END learning_rate=0.05, max_depth=10, n_estimators=150;, score=0.894 total time= 1.5min\n",
      "[CV 1/3] END learning_rate=0.05, max_depth=10, n_estimators=300;, score=0.896 total time= 3.0min\n",
      "[CV 2/3] END learning_rate=0.05, max_depth=10, n_estimators=300;, score=0.898 total time= 3.0min\n",
      "[CV 3/3] END learning_rate=0.05, max_depth=10, n_estimators=300;, score=0.898 total time= 3.0min\n",
      "[CV 1/3] END learning_rate=0.05, max_depth=14, n_estimators=50;, score=0.907 total time=  43.8s\n",
      "[CV 2/3] END learning_rate=0.05, max_depth=14, n_estimators=50;, score=0.908 total time=  43.8s\n",
      "[CV 3/3] END learning_rate=0.05, max_depth=14, n_estimators=50;, score=0.908 total time=  43.4s\n",
      "[CV 1/3] END learning_rate=0.05, max_depth=14, n_estimators=150;, score=0.918 total time= 2.0min\n",
      "[CV 2/3] END learning_rate=0.05, max_depth=14, n_estimators=150;, score=0.920 total time= 2.0min\n",
      "[CV 3/3] END learning_rate=0.05, max_depth=14, n_estimators=150;, score=0.918 total time= 2.0min\n",
      "[CV 1/3] END learning_rate=0.05, max_depth=14, n_estimators=300;, score=0.930 total time= 4.0min\n"
     ]
    }
   ],
   "source": [
    "dy_auc, dy_clf = test_xgb_clf(dy, features_to_test, label_name=\"is_pv\")"
   ]
  },
  {
   "cell_type": "code",
   "execution_count": 42,
   "metadata": {},
   "outputs": [
    {
     "data": {
      "text/plain": [
       "0.6545116990916323"
      ]
     },
     "execution_count": 42,
     "metadata": {},
     "output_type": "execute_result"
    }
   ],
   "source": [
    "dy_auc"
   ]
  },
  {
   "cell_type": "code",
   "execution_count": null,
   "metadata": {},
   "outputs": [
    {
     "name": "stdout",
     "output_type": "stream",
     "text": [
      "Fitting 3 folds for each of 18 candidates, totalling 54 fits\n",
      "[CV 1/3] END learning_rate=0.05, max_depth=6, n_estimators=50;, score=0.870 total time=  26.1s\n",
      "[CV 2/3] END learning_rate=0.05, max_depth=6, n_estimators=50;, score=0.874 total time=  26.9s\n",
      "[CV 3/3] END learning_rate=0.05, max_depth=6, n_estimators=50;, score=0.869 total time=  26.6s\n"
     ]
    }
   ],
   "source": [
    "zp_auc, zp_clf = test_xgb_clf(zp, features_to_test, label_name=\"is_pv\")"
   ]
  },
  {
   "cell_type": "code",
   "execution_count": null,
   "metadata": {},
   "outputs": [],
   "source": []
  }
 ],
 "metadata": {
  "kernelspec": {
   "display_name": "Python 3 (ipykernel)",
   "language": "python",
   "name": "python3"
  },
  "language_info": {
   "codemirror_mode": {
    "name": "ipython",
    "version": 3
   },
   "file_extension": ".py",
   "mimetype": "text/x-python",
   "name": "python",
   "nbconvert_exporter": "python",
   "pygments_lexer": "ipython3",
   "version": "3.8.13"
  }
 },
 "nbformat": 4,
 "nbformat_minor": 4
}
