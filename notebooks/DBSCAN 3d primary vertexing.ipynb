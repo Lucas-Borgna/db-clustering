{
 "cells": [
  {
   "cell_type": "code",
   "execution_count": 1,
   "id": "84b88091-2a8f-40d7-9666-d6dc33bd043f",
   "metadata": {},
   "outputs": [],
   "source": [
    "### Reloads modules properly\n",
    "%load_ext autoreload\n",
    "%autoreload 2\n",
    "%load_ext lab_black"
   ]
  },
  {
   "cell_type": "code",
   "execution_count": 2,
   "id": "e34dd4ed-7aeb-4ad1-a687-9db539e95340",
   "metadata": {},
   "outputs": [],
   "source": [
    "import os\n",
    "\n",
    "os.sys.path.append(\"../\")"
   ]
  },
  {
   "cell_type": "markdown",
   "id": "4296e31f-82bc-470e-b9b0-6bd4aec63f25",
   "metadata": {},
   "source": [
    "# DBSCAN Primary vertexing in 3 Dimensions!"
   ]
  },
  {
   "cell_type": "code",
   "execution_count": 3,
   "id": "5734b809-5b2e-40f0-8b6c-f40295db44c6",
   "metadata": {},
   "outputs": [],
   "source": [
    "import pandas as pd\n",
    "import numpy as np\n",
    "import matplotlib.pyplot as plt\n",
    "import mplhep as hep\n",
    "import seaborn as sns\n",
    "\n",
    "hep.style.use(\"CMS\")"
   ]
  },
  {
   "cell_type": "code",
   "execution_count": 4,
   "id": "d7cf11d4-a59f-44ed-8219-4ba9798c5d72",
   "metadata": {},
   "outputs": [],
   "source": [
    "from primaryvertexingtools import PrimaryVertexing, PerformanceMetrics"
   ]
  },
  {
   "cell_type": "code",
   "execution_count": 5,
   "id": "091d25ad-d4a0-4f73-80fe-5e0b13676167",
   "metadata": {},
   "outputs": [],
   "source": [
    "storage = \"/home/lucas/Documents/RA/data/\"\n",
    "tt = pd.read_parquet(storage + \"ttbar_50k.parquet\")\n",
    "tt_mc = pd.read_parquet(storage + \"ttbar_mc_50k.parquet\")"
   ]
  },
  {
   "cell_type": "code",
   "execution_count": 7,
   "id": "f6ac0f69-8c3b-4da5-b2c3-a97a6b060742",
   "metadata": {},
   "outputs": [],
   "source": [
    "tt[\"entry\"] = tt[\"event_number\"]\n",
    "tt[\"subentry\"] = tt[\"track_number\"]\n",
    "tt.set_index([\"entry\", \"subentry\"], inplace=True)\n",
    "tt_mc[\"entry\"] = tt_mc[\"event_number\"]\n",
    "tt_mc[\"subentry\"] = tt_mc[\"track_number\"]\n",
    "tt_mc.set_index([\"entry\", \"subentry\"], inplace=True)\n",
    "tt[\"is_pv\"] = 0\n",
    "tt.loc[tt[\"trk_fake\"] == 1, \"is_pv\"] = 1\n",
    "tt.dropna(inplace=True)"
   ]
  },
  {
   "cell_type": "code",
   "execution_count": 27,
   "id": "681be54f-97e5-472f-bc6b-fdabd8ccc7d7",
   "metadata": {},
   "outputs": [],
   "source": [
    "from sklearn.preprocessing import StandardScaler"
   ]
  },
  {
   "cell_type": "code",
   "execution_count": 28,
   "id": "2fb07bc0-a5fd-4b75-b360-abf7cd000f73",
   "metadata": {},
   "outputs": [],
   "source": [
    "sc = StandardScaler()"
   ]
  },
  {
   "cell_type": "code",
   "execution_count": 29,
   "id": "0ccc715b-6a33-422c-b775-c7f0ef567b63",
   "metadata": {},
   "outputs": [],
   "source": [
    "X_sc = sc.fit_transform(tt[[\"trk_z0\", \"trk_eta\", \"trk_phi\"]])"
   ]
  },
  {
   "cell_type": "code",
   "execution_count": 30,
   "id": "5fb68d40-1564-4be1-9065-392755808a64",
   "metadata": {},
   "outputs": [
    {
     "data": {
      "text/plain": [
       "array([[ 0.52,  1.09, -0.18],\n",
       "       [-2.5 ,  1.31, -0.14],\n",
       "       [-0.83,  0.46, -0.05],\n",
       "       ...,\n",
       "       [-0.8 ,  1.63, -0.63],\n",
       "       [ 1.78, -1.59, -0.38],\n",
       "       [ 0.75, -1.74, -0.28]], dtype=float32)"
      ]
     },
     "execution_count": 30,
     "metadata": {},
     "output_type": "execute_result"
    }
   ],
   "source": [
    "X_sc"
   ]
  },
  {
   "cell_type": "code",
   "execution_count": 31,
   "id": "dccf73d0-a0c0-4f7d-bdf1-e793aa8f15bd",
   "metadata": {},
   "outputs": [
    {
     "data": {
      "text/plain": [
       "array([ 0.52, -2.5 , -0.83, ..., -0.8 ,  1.78,  0.75], dtype=float32)"
      ]
     },
     "execution_count": 31,
     "metadata": {},
     "output_type": "execute_result"
    }
   ],
   "source": [
    "X_sc[:, 0]"
   ]
  },
  {
   "cell_type": "code",
   "execution_count": 32,
   "id": "11e0fb77-8597-4ed6-9cf5-ae401341d30a",
   "metadata": {},
   "outputs": [],
   "source": [
    "tt[\"trk_z0_sc\"] = X_sc[:, 0]\n",
    "tt[\"trk_eta_sc\"] = X_sc[:, 1]\n",
    "tt[\"trk_phi_sc\"] = X_sc[:, 2]"
   ]
  },
  {
   "cell_type": "code",
   "execution_count": null,
   "id": "9896af9d-3688-4101-9440-fe4a11901c14",
   "metadata": {},
   "outputs": [],
   "source": [
    "tts_mc"
   ]
  },
  {
   "cell_type": "code",
   "execution_count": 50,
   "id": "1ea24790-9fbd-4716-b810-1af7aad88a15",
   "metadata": {},
   "outputs": [
    {
     "data": {
      "text/html": [
       "<div>\n",
       "<style scoped>\n",
       "    .dataframe tbody tr th:only-of-type {\n",
       "        vertical-align: middle;\n",
       "    }\n",
       "\n",
       "    .dataframe tbody tr th {\n",
       "        vertical-align: top;\n",
       "    }\n",
       "\n",
       "    .dataframe thead th {\n",
       "        text-align: right;\n",
       "    }\n",
       "</style>\n",
       "<table border=\"1\" class=\"dataframe\">\n",
       "  <thead>\n",
       "    <tr style=\"text-align: right;\">\n",
       "      <th></th>\n",
       "      <th></th>\n",
       "      <th>event_number</th>\n",
       "      <th>track_number</th>\n",
       "      <th>trk_pt</th>\n",
       "      <th>trk_eta</th>\n",
       "      <th>trk_z0</th>\n",
       "      <th>trk_phi</th>\n",
       "      <th>trk_fake</th>\n",
       "      <th>trk_MVA1</th>\n",
       "      <th>trk_chi2_x</th>\n",
       "      <th>trk_chi2_y</th>\n",
       "      <th>...</th>\n",
       "      <th>trk_bendchi2</th>\n",
       "      <th>trk_MVA2</th>\n",
       "      <th>trk_nstub</th>\n",
       "      <th>trk_lhits</th>\n",
       "      <th>trk_dhits</th>\n",
       "      <th>trk_seed</th>\n",
       "      <th>is_pv</th>\n",
       "      <th>trk_z0_sc</th>\n",
       "      <th>trk_eta_sc</th>\n",
       "      <th>trk_phi_sc</th>\n",
       "    </tr>\n",
       "    <tr>\n",
       "      <th>entry</th>\n",
       "      <th>subentry</th>\n",
       "      <th></th>\n",
       "      <th></th>\n",
       "      <th></th>\n",
       "      <th></th>\n",
       "      <th></th>\n",
       "      <th></th>\n",
       "      <th></th>\n",
       "      <th></th>\n",
       "      <th></th>\n",
       "      <th></th>\n",
       "      <th></th>\n",
       "      <th></th>\n",
       "      <th></th>\n",
       "      <th></th>\n",
       "      <th></th>\n",
       "      <th></th>\n",
       "      <th></th>\n",
       "      <th></th>\n",
       "      <th></th>\n",
       "      <th></th>\n",
       "      <th></th>\n",
       "    </tr>\n",
       "  </thead>\n",
       "  <tbody>\n",
       "    <tr>\n",
       "      <th rowspan=\"5\" valign=\"top\">0</th>\n",
       "      <th>0</th>\n",
       "      <td>0</td>\n",
       "      <td>0</td>\n",
       "      <td>3.321735</td>\n",
       "      <td>1.508114</td>\n",
       "      <td>2.285156</td>\n",
       "      <td>-0.322148</td>\n",
       "      <td>2</td>\n",
       "      <td>0.999705</td>\n",
       "      <td>3.449683</td>\n",
       "      <td>3.449683</td>\n",
       "      <td>...</td>\n",
       "      <td>0.650641</td>\n",
       "      <td>0.0</td>\n",
       "      <td>6</td>\n",
       "      <td>111</td>\n",
       "      <td>1011</td>\n",
       "      <td>0</td>\n",
       "      <td>0</td>\n",
       "      <td>0.520197</td>\n",
       "      <td>1.086518</td>\n",
       "      <td>-0.176605</td>\n",
       "    </tr>\n",
       "    <tr>\n",
       "      <th>1</th>\n",
       "      <td>0</td>\n",
       "      <td>1</td>\n",
       "      <td>2.802182</td>\n",
       "      <td>1.816592</td>\n",
       "      <td>-10.957031</td>\n",
       "      <td>-0.262414</td>\n",
       "      <td>2</td>\n",
       "      <td>0.996890</td>\n",
       "      <td>4.947418</td>\n",
       "      <td>4.947418</td>\n",
       "      <td>...</td>\n",
       "      <td>1.399517</td>\n",
       "      <td>0.0</td>\n",
       "      <td>6</td>\n",
       "      <td>11</td>\n",
       "      <td>1111</td>\n",
       "      <td>0</td>\n",
       "      <td>0</td>\n",
       "      <td>-2.500710</td>\n",
       "      <td>1.309374</td>\n",
       "      <td>-0.143670</td>\n",
       "    </tr>\n",
       "    <tr>\n",
       "      <th>2</th>\n",
       "      <td>0</td>\n",
       "      <td>2</td>\n",
       "      <td>2.178730</td>\n",
       "      <td>0.647218</td>\n",
       "      <td>-3.632812</td>\n",
       "      <td>-0.083509</td>\n",
       "      <td>2</td>\n",
       "      <td>0.990228</td>\n",
       "      <td>11.213161</td>\n",
       "      <td>11.213161</td>\n",
       "      <td>...</td>\n",
       "      <td>1.053935</td>\n",
       "      <td>0.0</td>\n",
       "      <td>6</td>\n",
       "      <td>111111</td>\n",
       "      <td>0</td>\n",
       "      <td>0</td>\n",
       "      <td>0</td>\n",
       "      <td>-0.829855</td>\n",
       "      <td>0.464573</td>\n",
       "      <td>-0.045030</td>\n",
       "    </tr>\n",
       "    <tr>\n",
       "      <th>3</th>\n",
       "      <td>0</td>\n",
       "      <td>3</td>\n",
       "      <td>1.971232</td>\n",
       "      <td>1.026682</td>\n",
       "      <td>-1.406250</td>\n",
       "      <td>0.047079</td>\n",
       "      <td>2</td>\n",
       "      <td>0.996147</td>\n",
       "      <td>3.593802</td>\n",
       "      <td>3.593802</td>\n",
       "      <td>...</td>\n",
       "      <td>0.702030</td>\n",
       "      <td>0.0</td>\n",
       "      <td>5</td>\n",
       "      <td>11111</td>\n",
       "      <td>0</td>\n",
       "      <td>0</td>\n",
       "      <td>0</td>\n",
       "      <td>-0.321914</td>\n",
       "      <td>0.738712</td>\n",
       "      <td>0.026970</td>\n",
       "    </tr>\n",
       "    <tr>\n",
       "      <th>4</th>\n",
       "      <td>0</td>\n",
       "      <td>4</td>\n",
       "      <td>1.974080</td>\n",
       "      <td>-1.409943</td>\n",
       "      <td>-1.582031</td>\n",
       "      <td>0.263590</td>\n",
       "      <td>2</td>\n",
       "      <td>0.998664</td>\n",
       "      <td>12.148260</td>\n",
       "      <td>12.148260</td>\n",
       "      <td>...</td>\n",
       "      <td>1.077325</td>\n",
       "      <td>0.0</td>\n",
       "      <td>6</td>\n",
       "      <td>111</td>\n",
       "      <td>111</td>\n",
       "      <td>0</td>\n",
       "      <td>0</td>\n",
       "      <td>-0.362015</td>\n",
       "      <td>-1.021599</td>\n",
       "      <td>0.146345</td>\n",
       "    </tr>\n",
       "  </tbody>\n",
       "</table>\n",
       "<p>5 rows × 23 columns</p>\n",
       "</div>"
      ],
      "text/plain": [
       "                event_number  track_number    trk_pt   trk_eta     trk_z0  \\\n",
       "entry subentry                                                              \n",
       "0     0                    0             0  3.321735  1.508114   2.285156   \n",
       "      1                    0             1  2.802182  1.816592 -10.957031   \n",
       "      2                    0             2  2.178730  0.647218  -3.632812   \n",
       "      3                    0             3  1.971232  1.026682  -1.406250   \n",
       "      4                    0             4  1.974080 -1.409943  -1.582031   \n",
       "\n",
       "                 trk_phi  trk_fake  trk_MVA1  trk_chi2_x  trk_chi2_y  ...  \\\n",
       "entry subentry                                                        ...   \n",
       "0     0        -0.322148         2  0.999705    3.449683    3.449683  ...   \n",
       "      1        -0.262414         2  0.996890    4.947418    4.947418  ...   \n",
       "      2        -0.083509         2  0.990228   11.213161   11.213161  ...   \n",
       "      3         0.047079         2  0.996147    3.593802    3.593802  ...   \n",
       "      4         0.263590         2  0.998664   12.148260   12.148260  ...   \n",
       "\n",
       "                trk_bendchi2  trk_MVA2  trk_nstub  trk_lhits  trk_dhits  \\\n",
       "entry subentry                                                            \n",
       "0     0             0.650641       0.0          6        111       1011   \n",
       "      1             1.399517       0.0          6         11       1111   \n",
       "      2             1.053935       0.0          6     111111          0   \n",
       "      3             0.702030       0.0          5      11111          0   \n",
       "      4             1.077325       0.0          6        111        111   \n",
       "\n",
       "                trk_seed  is_pv  trk_z0_sc  trk_eta_sc  trk_phi_sc  \n",
       "entry subentry                                                      \n",
       "0     0                0      0   0.520197    1.086518   -0.176605  \n",
       "      1                0      0  -2.500710    1.309374   -0.143670  \n",
       "      2                0      0  -0.829855    0.464573   -0.045030  \n",
       "      3                0      0  -0.321914    0.738712    0.026970  \n",
       "      4                0      0  -0.362015   -1.021599    0.146345  \n",
       "\n",
       "[5 rows x 23 columns]"
      ]
     },
     "execution_count": 50,
     "metadata": {},
     "output_type": "execute_result"
    }
   ],
   "source": [
    "tt.head()"
   ]
  },
  {
   "cell_type": "code",
   "execution_count": 51,
   "id": "1e54448f-cf09-4898-b5d5-6579d37e0801",
   "metadata": {},
   "outputs": [
    {
     "name": "stdout",
     "output_type": "stream",
     "text": [
      "Initialized Primary Vertexing setup\n"
     ]
    }
   ],
   "source": [
    "tt_pv = PrimaryVertexing(\n",
    "    {\n",
    "        \"track_data\": tt,\n",
    "        \"truth_data\": tt_mc,\n",
    "        \"fh_bins\": np.linspace(-15, 15, 256),\n",
    "        \"test_run\": True,\n",
    "        \"nevents_test\": 2000,\n",
    "        \"rank_by_pt\": False,\n",
    "    }\n",
    ")"
   ]
  },
  {
   "cell_type": "code",
   "execution_count": 52,
   "id": "90a33927-4a15-489d-827a-892225d5bd33",
   "metadata": {},
   "outputs": [
    {
     "name": "stderr",
     "output_type": "stream",
     "text": [
      "100%|████████████████████████████████████████████████████████████████████████████████████████████████████████████████████████████████████| 2001/2001 [00:00<00:00, 4077.17it/s]\n"
     ]
    },
    {
     "name": "stdout",
     "output_type": "stream",
     "text": [
      "Ran Fast Histo\n"
     ]
    }
   ],
   "source": [
    "tt_pv.run_fh()"
   ]
  },
  {
   "cell_type": "code",
   "execution_count": 53,
   "id": "783c0d18-df7c-4f84-906d-c65bd9b23542",
   "metadata": {},
   "outputs": [
    {
     "data": {
      "text/plain": [
       "array([1., 1., 1.], dtype=float32)"
      ]
     },
     "execution_count": 53,
     "metadata": {},
     "output_type": "execute_result"
    }
   ],
   "source": [
    "X_sc.std(axis=0)"
   ]
  },
  {
   "cell_type": "code",
   "execution_count": 58,
   "id": "ea08ae3a-f948-4eac-85ec-a1669f1fc4d0",
   "metadata": {},
   "outputs": [
    {
     "name": "stderr",
     "output_type": "stream",
     "text": [
      "100%|█████████████████████████████████████████████████████████████████████████████████████████████████████████████████████████████████████| 2001/2001 [00:08<00:00, 237.70it/s]"
     ]
    },
    {
     "name": "stdout",
     "output_type": "stream",
     "text": [
      "Ran DBSCAN with eps: 0.1, minPts: 2\n"
     ]
    },
    {
     "name": "stderr",
     "output_type": "stream",
     "text": [
      "\n"
     ]
    }
   ],
   "source": [
    "tt_pv.run_dbscan(stat=\"median\", is_3d=True, norm=True, eps=0.1)"
   ]
  },
  {
   "cell_type": "code",
   "execution_count": 59,
   "id": "86252da4-2180-4c64-824c-2a5c2eb7e3d4",
   "metadata": {},
   "outputs": [
    {
     "name": "stdout",
     "output_type": "stream",
     "text": [
      "0.124622345\n",
      "positive bias 0.03300488\n",
      "negative bias -0.03620684\n"
     ]
    }
   ],
   "source": [
    "tt_pm = PerformanceMetrics(tt_pv)"
   ]
  },
  {
   "cell_type": "code",
   "execution_count": 60,
   "id": "8d32c9f6-62d8-4fe5-9b13-bd77b49864cb",
   "metadata": {},
   "outputs": [
    {
     "name": "stdout",
     "output_type": "stream",
     "text": [
      "72.81 %\n"
     ]
    }
   ],
   "source": [
    "tt_pm.pv_efficiency((tt_pm.z0_gen - tt_pm.z0_reco_fh_cor), display=True)"
   ]
  },
  {
   "cell_type": "code",
   "execution_count": 63,
   "id": "0a4fda78-cc1a-49a9-b8ba-b8074bc9f71b",
   "metadata": {},
   "outputs": [
    {
     "name": "stdout",
     "output_type": "stream",
     "text": [
      "62.87 %\n"
     ]
    }
   ],
   "source": [
    "tt_pm.pv_efficiency((tt_pm.z0_gen - tt_pm.z0_reco_db_cor), display=True)"
   ]
  },
  {
   "cell_type": "code",
   "execution_count": 65,
   "id": "bbd55df2-15bd-44e5-bfeb-3249db4c1740",
   "metadata": {},
   "outputs": [
    {
     "name": "stderr",
     "output_type": "stream",
     "text": [
      "100%|█████████████████████████████████████████████████████████████████████████████████████████████████████████████████████████████████████| 2001/2001 [00:08<00:00, 234.95it/s]\n"
     ]
    },
    {
     "name": "stdout",
     "output_type": "stream",
     "text": [
      "Ran DBSCAN with eps: 0.01, minPts: 2\n",
      "0.124622345\n",
      "positive bias 0.39746094\n",
      "negative bias -0.29221517\n",
      "0.01 None\n"
     ]
    },
    {
     "name": "stderr",
     "output_type": "stream",
     "text": [
      "100%|█████████████████████████████████████████████████████████████████████████████████████████████████████████████████████████████████████| 2001/2001 [00:08<00:00, 240.46it/s]\n"
     ]
    },
    {
     "name": "stdout",
     "output_type": "stream",
     "text": [
      "Ran DBSCAN with eps: 0.05, minPts: 2\n",
      "0.124622345\n",
      "positive bias 0.03425932\n",
      "negative bias -0.04210107\n",
      "0.05 None\n"
     ]
    },
    {
     "name": "stderr",
     "output_type": "stream",
     "text": [
      "100%|█████████████████████████████████████████████████████████████████████████████████████████████████████████████████████████████████████| 2001/2001 [00:08<00:00, 236.19it/s]\n"
     ]
    },
    {
     "name": "stdout",
     "output_type": "stream",
     "text": [
      "Ran DBSCAN with eps: 0.1, minPts: 2\n",
      "0.124622345\n",
      "positive bias 0.03300488\n",
      "negative bias -0.03620684\n",
      "0.1 None\n"
     ]
    },
    {
     "name": "stderr",
     "output_type": "stream",
     "text": [
      "100%|█████████████████████████████████████████████████████████████████████████████████████████████████████████████████████████████████████| 2001/2001 [00:08<00:00, 236.91it/s]\n"
     ]
    },
    {
     "name": "stdout",
     "output_type": "stream",
     "text": [
      "Ran DBSCAN with eps: 0.2, minPts: 2\n",
      "0.124622345\n",
      "positive bias 0.037662983\n",
      "negative bias -0.035886526\n",
      "0.2 None\n"
     ]
    },
    {
     "name": "stderr",
     "output_type": "stream",
     "text": [
      "100%|█████████████████████████████████████████████████████████████████████████████████████████████████████████████████████████████████████| 2001/2001 [00:08<00:00, 236.08it/s]\n"
     ]
    },
    {
     "name": "stdout",
     "output_type": "stream",
     "text": [
      "Ran DBSCAN with eps: 0.3, minPts: 2\n",
      "0.124622345\n",
      "positive bias 0.03758669\n",
      "negative bias -0.03559065\n",
      "0.3 None\n"
     ]
    },
    {
     "name": "stderr",
     "output_type": "stream",
     "text": [
      "100%|█████████████████████████████████████████████████████████████████████████████████████████████████████████████████████████████████████| 2001/2001 [00:08<00:00, 235.13it/s]\n"
     ]
    },
    {
     "name": "stdout",
     "output_type": "stream",
     "text": [
      "Ran DBSCAN with eps: 0.4, minPts: 2\n",
      "0.124622345\n",
      "positive bias 0.0554986\n",
      "negative bias -0.05383995\n",
      "0.4 None\n"
     ]
    },
    {
     "name": "stderr",
     "output_type": "stream",
     "text": [
      "100%|█████████████████████████████████████████████████████████████████████████████████████████████████████████████████████████████████████| 2001/2001 [00:08<00:00, 237.68it/s]\n"
     ]
    },
    {
     "name": "stdout",
     "output_type": "stream",
     "text": [
      "Ran DBSCAN with eps: 0.5, minPts: 2\n",
      "0.124622345\n",
      "positive bias 0.21835661\n",
      "negative bias -0.18350601\n",
      "0.5 None\n"
     ]
    }
   ],
   "source": [
    "eps_values = [0.01, 0.05, 0.1, 0.2, 0.3, 0.4, 0.5]\n",
    "effs = []\n",
    "for eps in eps_values:\n",
    "    tt_pv.run_dbscan(stat=\"median\", is_3d=True, norm=True, eps=eps)\n",
    "    tt_pm = PerformanceMetrics(tt_pv)\n",
    "    eff = tt_pm.pv_efficiency((tt_pm.z0_gen - tt_pm.z0_reco_db_cor), display=False)\n",
    "    effs.append(tt_pm.pv_eff)\n",
    "    print(eps, eff)"
   ]
  },
  {
   "cell_type": "code",
   "execution_count": 66,
   "id": "38f8706f-f898-4e9c-90ea-5fb3b7a48208",
   "metadata": {},
   "outputs": [
    {
     "data": {
      "text/plain": [
       "[3.4982508745627188,\n",
       " 55.2223888055972,\n",
       " 62.86856571714143,\n",
       " 62.21889055472264,\n",
       " 59.72013993003498,\n",
       " 50.4247876061969,\n",
       " 16.541729135432284]"
      ]
     },
     "execution_count": 66,
     "metadata": {},
     "output_type": "execute_result"
    }
   ],
   "source": [
    "effs"
   ]
  },
  {
   "cell_type": "code",
   "execution_count": 67,
   "id": "32b670fb-29b0-4b12-8448-52731550ae14",
   "metadata": {},
   "outputs": [
    {
     "data": {
      "text/plain": [
       "(array([  33271.,  157000.,  586496., 1441282., 2298672., 2366957.,\n",
       "        1465007.,  597224.,  162297.,   36021.]),\n",
       " array([-14.94, -11.95,  -8.96,  -5.98,  -2.99,   0.  ,   2.99,   5.98,\n",
       "          8.96,  11.95,  14.94], dtype=float32),\n",
       " <BarContainer object of 10 artists>)"
      ]
     },
     "execution_count": 67,
     "metadata": {},
     "output_type": "execute_result"
    },
    {
     "data": {
      "image/png": "[encoded data removed]",
      "text/plain": [
       "<Figure size 432x288 with 1 Axes>"
      ]
     },
     "metadata": {
      "needs_background": "light"
     },
     "output_type": "display_data"
    }
   ],
   "source": [
    "plt.hist(tt[\"trk_z0\"])"
   ]
  },
  {
   "cell_type": "code",
   "execution_count": 68,
   "id": "c99e4933-6d50-4cc3-a1a2-7951ecd56e71",
   "metadata": {},
   "outputs": [
    {
     "data": {
      "text/plain": [
       "(array([  33271.,  157000.,  605595., 1459866., 2358090., 2307900.,\n",
       "        1445691.,  578496.,  162297.,   36021.]),\n",
       " array([-3.41, -2.73, -2.05, -1.36, -0.68, -0.  ,  0.68,  1.36,  2.04,\n",
       "         2.73,  3.41], dtype=float32),\n",
       " <BarContainer object of 10 artists>)"
      ]
     },
     "execution_count": 68,
     "metadata": {},
     "output_type": "execute_result"
    },
    {
     "data": {
      "image/png": "[encoded data removed]",
      "text/plain": [
       "<Figure size 432x288 with 1 Axes>"
      ]
     },
     "metadata": {
      "needs_background": "light"
     },
     "output_type": "display_data"
    }
   ],
   "source": [
    "plt.hist(tt[\"trk_z0_sc\"])"
   ]
  },
  {
   "cell_type": "code",
   "execution_count": 69,
   "id": "2dc967cd-d620-4097-b874-15f70ac537ce",
   "metadata": {},
   "outputs": [
    {
     "data": {
      "text/plain": [
       "(array([759667., 932195., 962842., 940474., 965078., 964033., 948652.,\n",
       "        974777., 940670., 755839.]),\n",
       " array([-2.5, -2. , -1.5, -1. , -0.5,  0. ,  0.5,  1. ,  1.5,  2. ,  2.5],\n",
       "       dtype=float32),\n",
       " <BarContainer object of 10 artists>)"
      ]
     },
     "execution_count": 69,
     "metadata": {},
     "output_type": "execute_result"
    },
    {
     "data": {
      "image/png": "[encoded data removed]",
      "text/plain": [
       "<Figure size 432x288 with 1 Axes>"
      ]
     },
     "metadata": {
      "needs_background": "light"
     },
     "output_type": "display_data"
    }
   ],
   "source": [
    "plt.hist(tt[\"trk_eta\"])"
   ]
  },
  {
   "cell_type": "code",
   "execution_count": 71,
   "id": "b9e2751d-d1dc-401f-9a86-15f1508c1b29",
   "metadata": {},
   "outputs": [
    {
     "data": {
      "text/plain": [
       "(array([759667., 932195., 962842., 940474., 965078., 964033., 948652.,\n",
       "        974777., 940670., 755839.]),\n",
       " array([-1.81, -1.45, -1.09, -0.73, -0.36, -0.  ,  0.36,  0.72,  1.08,\n",
       "         1.44,  1.81], dtype=float32),\n",
       " <BarContainer object of 10 artists>)"
      ]
     },
     "execution_count": 71,
     "metadata": {},
     "output_type": "execute_result"
    },
    {
     "data": {
      "image/png": "[encoded data removed]",
      "text/plain": [
       "<Figure size 432x288 with 1 Axes>"
      ]
     },
     "metadata": {
      "needs_background": "light"
     },
     "output_type": "display_data"
    }
   ],
   "source": [
    "plt.hist(tt[\"trk_eta_sc\"])"
   ]
  },
  {
   "cell_type": "code",
   "execution_count": 72,
   "id": "47e56340-17c8-4e42-a6a0-ed770aeca600",
   "metadata": {},
   "outputs": [
    {
     "data": {
      "text/plain": [
       "(array([917266., 910858., 915770., 914825., 915190., 917984., 915818.,\n",
       "        915536., 909055., 911925.]),\n",
       " array([-1.73, -1.38, -1.04, -0.69, -0.35,  0.  ,  0.35,  0.69,  1.04,\n",
       "         1.39,  1.73], dtype=float32),\n",
       " <BarContainer object of 10 artists>)"
      ]
     },
     "execution_count": 72,
     "metadata": {},
     "output_type": "execute_result"
    },
    {
     "data": {
      "image/png": "[encoded data removed]",
      "text/plain": [
       "<Figure size 432x288 with 1 Axes>"
      ]
     },
     "metadata": {
      "needs_background": "light"
     },
     "output_type": "display_data"
    }
   ],
   "source": [
    "plt.hist(tt[\"trk_phi_sc\"])"
   ]
  },
  {
   "cell_type": "code",
   "execution_count": null,
   "id": "8bcf2e1e-048c-4abd-b45c-83b9833fe6b9",
   "metadata": {},
   "outputs": [],
   "source": []
  }
 ],
 "metadata": {
  "kernelspec": {
   "display_name": "db-clustering",
   "language": "python",
   "name": "db-clustering"
  },
  "language_info": {
   "codemirror_mode": {
    "name": "ipython",
    "version": 3
   },
   "file_extension": ".py",
   "mimetype": "text/x-python",
   "name": "python",
   "nbconvert_exporter": "python",
   "pygments_lexer": "ipython3",
   "version": "3.8.13"
  }
 },
 "nbformat": 4,
 "nbformat_minor": 5
}
