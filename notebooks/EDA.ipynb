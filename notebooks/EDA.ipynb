{
 "cells": [
  {
   "cell_type": "code",
   "execution_count": 1,
   "metadata": {},
   "outputs": [],
   "source": [
    "%load_ext lab_black"
   ]
  },
  {
   "cell_type": "code",
   "execution_count": 2,
   "metadata": {},
   "outputs": [],
   "source": [
    "### Reloads modules properly\n",
    "%load_ext autoreload\n",
    "%autoreload 2"
   ]
  },
  {
   "cell_type": "code",
   "execution_count": 3,
   "metadata": {},
   "outputs": [],
   "source": [
    "import os\n",
    "\n",
    "os.sys.path.append(\"../\")"
   ]
  },
  {
   "cell_type": "code",
   "execution_count": 4,
   "metadata": {},
   "outputs": [],
   "source": [
    "import numpy as np"
   ]
  },
  {
   "cell_type": "code",
   "execution_count": 5,
   "metadata": {},
   "outputs": [],
   "source": [
    "import pandas as pd\n",
    "\n",
    "# Show all the columns and rows in pandas df\n",
    "pd.set_option(\"display.max_columns\", None)\n",
    "pd.set_option(\"display.max_rows\", None)"
   ]
  },
  {
   "cell_type": "code",
   "execution_count": 6,
   "metadata": {},
   "outputs": [],
   "source": [
    "import matplotlib.pyplot as plt"
   ]
  },
  {
   "cell_type": "code",
   "execution_count": 7,
   "metadata": {},
   "outputs": [],
   "source": [
    "import mplhep\n",
    "\n",
    "mplhep.style.use(\"CMS\")"
   ]
  },
  {
   "cell_type": "markdown",
   "metadata": {},
   "source": [
    "The examples use uproot3 so let's stick to using this"
   ]
  },
  {
   "cell_type": "code",
   "execution_count": 8,
   "metadata": {},
   "outputs": [],
   "source": [
    "import uproot3"
   ]
  },
  {
   "cell_type": "code",
   "execution_count": 9,
   "metadata": {},
   "outputs": [
    {
     "data": {
      "text/plain": [
       "'3.14.4'"
      ]
     },
     "execution_count": 9,
     "metadata": {},
     "output_type": "execute_result"
    }
   ],
   "source": [
    "uproot3.__version__"
   ]
  },
  {
   "cell_type": "code",
   "execution_count": 10,
   "metadata": {},
   "outputs": [],
   "source": [
    "file = uproot3.open(\"../0.root\")"
   ]
  },
  {
   "cell_type": "code",
   "execution_count": 11,
   "metadata": {},
   "outputs": [],
   "source": [
    "events = file[\"L1TrackNtuple/eventTree\"]"
   ]
  },
  {
   "cell_type": "code",
   "execution_count": 12,
   "metadata": {},
   "outputs": [
    {
     "name": "stdout",
     "output_type": "stream",
     "text": [
      "trk_pt                     TStreamerSTL               asjagged(asdtype('>f4'), 10)\n",
      "trk_eta                    TStreamerSTL               asjagged(asdtype('>f4'), 10)\n",
      "trk_phi                    TStreamerSTL               asjagged(asdtype('>f4'), 10)\n",
      "trk_d0                     TStreamerSTL               asjagged(asdtype('>f4'), 10)\n",
      "trk_z0                     TStreamerSTL               asjagged(asdtype('>f4'), 10)\n",
      "trk_chi2                   TStreamerSTL               asjagged(asdtype('>f4'), 10)\n",
      "trk_bendchi2               TStreamerSTL               asjagged(asdtype('>f4'), 10)\n",
      "trk_nstub                  TStreamerSTL               asjagged(asdtype('>i4'), 10)\n",
      "trk_lhits                  TStreamerSTL               asjagged(asdtype('>i4'), 10)\n",
      "trk_dhits                  TStreamerSTL               asjagged(asdtype('>i4'), 10)\n",
      "trk_seed                   TStreamerSTL               asjagged(asdtype('>i4'), 10)\n",
      "trk_genuine                TStreamerSTL               asjagged(asdtype('>i4'), 10)\n",
      "trk_loose                  TStreamerSTL               asjagged(asdtype('>i4'), 10)\n",
      "trk_unknown                TStreamerSTL               asjagged(asdtype('>i4'), 10)\n",
      "trk_combinatoric           TStreamerSTL               asjagged(asdtype('>i4'), 10)\n",
      "trk_fake                   TStreamerSTL               asjagged(asdtype('>i4'), 10)\n",
      "trk_matchtp_pdgid          TStreamerSTL               asjagged(asdtype('>i4'), 10)\n",
      "trk_matchtp_pt             TStreamerSTL               asjagged(asdtype('>f4'), 10)\n",
      "trk_matchtp_eta            TStreamerSTL               asjagged(asdtype('>f4'), 10)\n",
      "trk_matchtp_phi            TStreamerSTL               asjagged(asdtype('>f4'), 10)\n",
      "trk_matchtp_z0             TStreamerSTL               asjagged(asdtype('>f4'), 10)\n",
      "trk_matchtp_dxy            TStreamerSTL               asjagged(asdtype('>f4'), 10)\n",
      "trk_injet                  TStreamerSTL               asjagged(asdtype('>i4'), 10)\n",
      "trk_injet_highpt           TStreamerSTL               asjagged(asdtype('>i4'), 10)\n",
      "trk_injet_vhighpt          TStreamerSTL               asjagged(asdtype('>i4'), 10)\n",
      "tp_pt                      TStreamerSTL               asjagged(asdtype('>f4'), 10)\n",
      "tp_eta                     TStreamerSTL               asjagged(asdtype('>f4'), 10)\n",
      "tp_phi                     TStreamerSTL               asjagged(asdtype('>f4'), 10)\n",
      "tp_dxy                     TStreamerSTL               asjagged(asdtype('>f4'), 10)\n",
      "tp_d0                      TStreamerSTL               asjagged(asdtype('>f4'), 10)\n",
      "tp_z0                      TStreamerSTL               asjagged(asdtype('>f4'), 10)\n",
      "tp_d0_prod                 TStreamerSTL               asjagged(asdtype('>f4'), 10)\n",
      "tp_z0_prod                 TStreamerSTL               asjagged(asdtype('>f4'), 10)\n",
      "tp_pdgid                   TStreamerSTL               asjagged(asdtype('>i4'), 10)\n",
      "tp_nmatch                  TStreamerSTL               asjagged(asdtype('>i4'), 10)\n",
      "tp_nloosematch             TStreamerSTL               asjagged(asdtype('>i4'), 10)\n",
      "tp_nstub                   TStreamerSTL               asjagged(asdtype('>i4'), 10)\n",
      "tp_eventid                 TStreamerSTL               asjagged(asdtype('>i4'), 10)\n",
      "tp_charge                  TStreamerSTL               asjagged(asdtype('>i4'), 10)\n",
      "tp_injet                   TStreamerSTL               asjagged(asdtype('>i4'), 10)\n",
      "tp_injet_highpt            TStreamerSTL               asjagged(asdtype('>i4'), 10)\n",
      "tp_injet_vhighpt           TStreamerSTL               asjagged(asdtype('>i4'), 10)\n",
      "matchtrk_pt                TStreamerSTL               asjagged(asdtype('>f4'), 10)\n",
      "matchtrk_eta               TStreamerSTL               asjagged(asdtype('>f4'), 10)\n",
      "matchtrk_phi               TStreamerSTL               asjagged(asdtype('>f4'), 10)\n",
      "matchtrk_z0                TStreamerSTL               asjagged(asdtype('>f4'), 10)\n",
      "matchtrk_d0                TStreamerSTL               asjagged(asdtype('>f4'), 10)\n",
      "matchtrk_chi2              TStreamerSTL               asjagged(asdtype('>f4'), 10)\n",
      "matchtrk_bendchi2          TStreamerSTL               asjagged(asdtype('>f4'), 10)\n",
      "matchtrk_nstub             TStreamerSTL               asjagged(asdtype('>i4'), 10)\n",
      "matchtrk_lhits             TStreamerSTL               asjagged(asdtype('>i4'), 10)\n",
      "matchtrk_dhits             TStreamerSTL               asjagged(asdtype('>i4'), 10)\n",
      "matchtrk_seed              TStreamerSTL               asjagged(asdtype('>i4'), 10)\n",
      "matchtrk_injet             TStreamerSTL               asjagged(asdtype('>i4'), 10)\n",
      "matchtrk_injet_highpt      TStreamerSTL               asjagged(asdtype('>i4'), 10)\n",
      "matchtrk_injet_vhighpt     TStreamerSTL               asjagged(asdtype('>i4'), 10)\n",
      "loosematchtrk_pt           TStreamerSTL               asjagged(asdtype('>f4'), 10)\n",
      "loosematchtrk_eta          TStreamerSTL               asjagged(asdtype('>f4'), 10)\n",
      "loosematchtrk_phi          TStreamerSTL               asjagged(asdtype('>f4'), 10)\n",
      "loosematchtrk_z0           TStreamerSTL               asjagged(asdtype('>f4'), 10)\n",
      "loosematchtrk_d0           TStreamerSTL               asjagged(asdtype('>f4'), 10)\n",
      "loosematchtrk_chi2         TStreamerSTL               asjagged(asdtype('>f4'), 10)\n",
      "loosematchtrk_bendchi2     TStreamerSTL               asjagged(asdtype('>f4'), 10)\n",
      "loosematchtrk_nstub        TStreamerSTL               asjagged(asdtype('>i4'), 10)\n",
      "loosematchtrk_seed         TStreamerSTL               asjagged(asdtype('>i4'), 10)\n",
      "loosematchtrk_injet        TStreamerSTL               asjagged(asdtype('>i4'), 10)\n",
      "loosematchtrk_injet_highpt TStreamerSTL               asjagged(asdtype('>i4'), 10)\n",
      "loosematchtrk_injet_vhighpt\n",
      "                           TStreamerSTL               asjagged(asdtype('>i4'), 10)\n",
      "jet_eta                    TStreamerSTL               asjagged(asdtype('>f4'), 10)\n",
      "jet_phi                    TStreamerSTL               asjagged(asdtype('>f4'), 10)\n",
      "jet_pt                     TStreamerSTL               asjagged(asdtype('>f4'), 10)\n",
      "jet_tp_sumpt               TStreamerSTL               asjagged(asdtype('>f4'), 10)\n",
      "jet_trk_sumpt              TStreamerSTL               asjagged(asdtype('>f4'), 10)\n",
      "jet_matchtrk_sumpt         TStreamerSTL               asjagged(asdtype('>f4'), 10)\n",
      "jet_loosematchtrk_sumpt    TStreamerSTL               asjagged(asdtype('>f4'), 10)\n",
      "None\n"
     ]
    }
   ],
   "source": [
    "print(events.show())"
   ]
  },
  {
   "cell_type": "code",
   "execution_count": 13,
   "metadata": {},
   "outputs": [
    {
     "name": "stdout",
     "output_type": "stream",
     "text": [
      "Number of TPs in 1st event:  229\n"
     ]
    }
   ],
   "source": [
    "print(\"Number of TPs in 1st event: \", len(events[\"tp_eventid\"].array()[0]))"
   ]
  },
  {
   "cell_type": "code",
   "execution_count": 14,
   "metadata": {},
   "outputs": [
    {
     "data": {
      "text/plain": [
       "array([  0,   0,   0,   0,   0,   0,   0,   0,   0,   0,   0,   0,   0,\n",
       "         0,   0,   1,   1,   8,   8,   8,   9,  12,  12,  12,  12,  20,\n",
       "        20,  20,  20,  20,  20,  20,  20,  20,  23,  23,  23,  25,  25,\n",
       "        25,  25,  25,  25,  25,  25,  25,  25,  25,  25,  31,  31,  31,\n",
       "        31,  31,  31,  33,  33,  34,  34,  34,  34,  36,  36,  36,  36,\n",
       "        36,  37,  37,  37,  57,  59,  59,  59,  73,  75,  75,  84,  84,\n",
       "        84,  85,  85,  85,  85,  85,  85,  87,  89,  91,  95,  95,  96,\n",
       "        98,  98,  98, 100, 100, 100, 100, 100, 100, 100, 113, 119, 126,\n",
       "       129, 134, 142, 142, 142, 142, 142, 142, 142, 142, 142, 142, 142,\n",
       "       145, 145, 150, 150, 150, 150, 150, 151, 156, 156, 156, 156, 156,\n",
       "       156, 156, 156, 156, 156, 156, 156, 156, 160, 160, 160, 161, 162,\n",
       "       162, 166, 166, 166, 166, 166, 168, 168, 170, 170, 170, 170, 170,\n",
       "       176, 178, 190, 192, 196, 196, 196, 197, 197, 199, 199, 199, 199],\n",
       "      dtype=int32)"
      ]
     },
     "execution_count": 14,
     "metadata": {},
     "output_type": "execute_result"
    }
   ],
   "source": [
    "events[\"tp_eventid\"].array()[6]"
   ]
  },
  {
   "cell_type": "code",
   "execution_count": 15,
   "metadata": {},
   "outputs": [
    {
     "name": "stdout",
     "output_type": "stream",
     "text": [
      "List of \"tp_eventid\" values: 0,  0,  0,  0,  0,  0,  0,  0,  0,  0,  0,  0,  0,  0,  0,  0,  0,  0,  0,  0,  0,  0,  0,  0,  0,  0,  0,  6,  6,  7,  8,  8,  8,  8,  19,  20,  21,  21,  21,  21,  21,  22,  22,  22,  22,  26,  26,  26,  42,  42,  42,  42,  42,  43,  43,  43,  45,  46,  46,  46,  46,  46,  46,  46,  46,  46,  46,  46,  46,  60,  60,  60,  60,  60,  60,  61,  61,  61,  61,  61,  61,  68,  71,  71,  73,  78,  87,  88,  92,  93,  93,  93,  93,  93,  107,  114,  114,  114,  114,  114,  114,  114,  114,  114,  114,  114,  114,  116,  119,  126,  126,  126,  126,  126,  126,  127,  138,  138,  138,  138,  138,  138,  138,  139,  139,  139,  139,  139,  139,  139,  139,  139,  139,  142,  142,  148,  148,  155,  156,  156,  157,  161,  162,  166,  166,  166,  166,  166,  170,  170,  170,  170,  170,  170,  170,  170,  170,  170,  170,  170,  170,  170,  170,  172,  172,  173,  173,  173,  173,  173,  173,  173,  173,  173,  173,  173,  173,  173,  173,  173,  173,  173,  173,  173,  173,  175,  175,  175,  175,  175,  175,  175,  182,  182,  182,  182,  182,  184,  187,  187,  188,  192,  192,  192,  192,  192,  192,  192,  192,  192,  192,  194,  198,  198,  198,  198,  199,  199,  199,  199,  199,  199,  199,  199,  202,  207,  211,  211,  211, \n"
     ]
    }
   ],
   "source": [
    "print(\n",
    "    'List of \"tp_eventid\" values:',\n",
    "    \" \".join([\"{:.0f}, \".format(x) for x in events[\"tp_eventid\"].array()[0]]),\n",
    ")"
   ]
  },
  {
   "cell_type": "code",
   "execution_count": 16,
   "metadata": {},
   "outputs": [
    {
     "name": "stdout",
     "output_type": "stream",
     "text": [
      "Kinematic variables (truth and measured) from the slice [0,:10]\n",
      "tp_pt        100.30   2.05   6.45   8.50   7.54   6.82   5.55   3.45   2.42  11.48\n"
     ]
    }
   ],
   "source": [
    "print(\"Kinematic variables (truth and measured) from the slice [0,:10]\")\n",
    "print(\n",
    "    \"tp_pt       \",\n",
    "    \" \".join([\"{:6.2f}\".format(x) for x in events[\"tp_pt\"].array()[0, :10]]),\n",
    ")"
   ]
  },
  {
   "cell_type": "code",
   "execution_count": 17,
   "metadata": {},
   "outputs": [
    {
     "name": "stdout",
     "output_type": "stream",
     "text": [
      "matchtrk_pt  102.94   2.03   6.48   8.51   7.59   6.89   5.54   3.44   2.51  11.44\n"
     ]
    }
   ],
   "source": [
    "print(\n",
    "    \"matchtrk_pt \",\n",
    "    \" \".join([\"{:6.2f}\".format(x) for x in events[\"matchtrk_pt\"].array()[0, :10]]),\n",
    ")"
   ]
  },
  {
   "cell_type": "code",
   "execution_count": 18,
   "metadata": {},
   "outputs": [
    {
     "name": "stdout",
     "output_type": "stream",
     "text": [
      "tp_eta        -0.90  -1.65  -0.60  -0.45  -1.65  -1.60  -1.58   0.76   0.64   0.75\n"
     ]
    }
   ],
   "source": [
    "print(\n",
    "    \"tp_eta      \",\n",
    "    \" \".join([\"{:6.2f}\".format(x) for x in events[\"tp_eta\"].array()[0, :10]]),\n",
    ")"
   ]
  },
  {
   "cell_type": "code",
   "execution_count": 19,
   "metadata": {},
   "outputs": [
    {
     "name": "stdout",
     "output_type": "stream",
     "text": [
      "matchtrk_eta  -0.90  -1.65  -0.60  -0.45  -1.65  -1.61  -1.59   0.76   0.64   0.75\n"
     ]
    }
   ],
   "source": [
    "print(\n",
    "    \"matchtrk_eta\",\n",
    "    \" \".join([\"{:6.2f}\".format(x) for x in events[\"matchtrk_eta\"].array()[0, :10]]),\n",
    ")"
   ]
  },
  {
   "cell_type": "code",
   "execution_count": 20,
   "metadata": {},
   "outputs": [
    {
     "name": "stdout",
     "output_type": "stream",
     "text": [
      "tp_phi         0.06  -2.78  -2.81  -1.68  -1.31  -1.20  -1.30   1.56   1.80   1.86\n",
      "matchtrk_phi   0.06  -2.78  -2.81  -1.68  -1.31  -1.20  -1.30   1.56   1.80   1.86\n",
      "tp_z0          3.50   3.50   3.50   3.50   3.50   3.50   3.50   3.50   3.50   3.50\n",
      "matchtrk_z0    3.57   3.75   3.57   3.57   3.46   3.93   3.69   3.40   3.63   3.40\n"
     ]
    }
   ],
   "source": [
    "print(\n",
    "    \"tp_phi      \",\n",
    "    \" \".join([\"{:6.2f}\".format(x) for x in events[\"tp_phi\"].array()[0, :10]]),\n",
    ")\n",
    "print(\n",
    "    \"matchtrk_phi\",\n",
    "    \" \".join([\"{:6.2f}\".format(x) for x in events[\"matchtrk_phi\"].array()[0, :10]]),\n",
    ")\n",
    "print(\n",
    "    \"tp_z0       \",\n",
    "    \" \".join([\"{:6.2f}\".format(x) for x in events[\"tp_z0\"].array()[0, :10]]),\n",
    ")\n",
    "print(\n",
    "    \"matchtrk_z0 \",\n",
    "    \" \".join([\"{:6.2f}\".format(x) for x in events[\"matchtrk_z0\"].array()[0, :10]]),\n",
    ")"
   ]
  },
  {
   "cell_type": "code",
   "execution_count": 21,
   "metadata": {},
   "outputs": [
    {
     "name": "stdout",
     "output_type": "stream",
     "text": [
      "\n",
      "Variables from the slice [0,20:40]\n",
      "tp_eventid      0      0      0      0      0      0      0      6      6      7      8      8      8      8     19     20     21     21     21     21\n",
      "tp_z0        3.50   3.50   3.50   3.53   1.92   3.54   3.51   1.48   1.48   1.91   0.09   0.10   0.10   0.08  -1.01   5.03   3.83   3.84   3.84   3.84\n",
      "tp_d0       -0.00  -0.00   0.00   0.02   0.42   1.06   0.01   0.00  -0.00  -0.00  -0.00   0.00  -0.00  -0.02  -0.00   0.00  -0.00  -0.00   0.00   0.00\n",
      "tp_pt        3.02   3.47   9.84   3.51   4.42   7.65   3.05   3.93   3.12   2.49   2.08   2.19   2.33   2.09   2.87   2.01   2.57   2.17   2.36   2.32\n",
      "tp_eta       0.79   0.82  -0.16  -1.50  -1.32   0.86  -0.28  -0.97   2.25   0.98   0.91   1.73   1.78   2.27  -2.18   1.61  -0.92  -0.36  -0.21  -0.57\n",
      "tp_phi       2.00   1.88  -3.08   2.02   2.27  -2.90  -1.71   1.65  -2.93   0.66  -1.63   1.36   0.04  -0.60  -1.83  -0.88   2.41   2.41  -2.52  -2.32\n",
      "tp_pdgid      211   -211    -13   -211   -211     11   -211    211   -211    211    211  -2212   2212   2212  -2212   2212    211   -211    321   -321\n"
     ]
    }
   ],
   "source": [
    "print()\n",
    "print(\"Variables from the slice [0,20:40]\")\n",
    "print(\n",
    "    \"tp_eventid\",\n",
    "    \" \".join([\"{:6.0f}\".format(x) for x in events[\"tp_eventid\"].array()[0, 20:40]]),\n",
    ")\n",
    "print(\n",
    "    \"tp_z0     \",\n",
    "    \" \".join([\"{:6.2f}\".format(x) for x in events[\"tp_z0\"].array()[0, 20:40]]),\n",
    ")\n",
    "print(\n",
    "    \"tp_d0     \",\n",
    "    \" \".join([\"{:6.2f}\".format(x) for x in events[\"tp_d0\"].array()[0, 20:40]]),\n",
    ")\n",
    "print(\n",
    "    \"tp_pt     \",\n",
    "    \" \".join([\"{:6.2f}\".format(x) for x in events[\"tp_pt\"].array()[0, 20:40]]),\n",
    ")\n",
    "print(\n",
    "    \"tp_eta    \",\n",
    "    \" \".join([\"{:6.2f}\".format(x) for x in events[\"tp_eta\"].array()[0, 20:40]]),\n",
    ")\n",
    "print(\n",
    "    \"tp_phi    \",\n",
    "    \" \".join([\"{:6.2f}\".format(x) for x in events[\"tp_phi\"].array()[0, 20:40]]),\n",
    ")\n",
    "print(\n",
    "    \"tp_pdgid  \",\n",
    "    \" \".join([\"{:6.0f}\".format(x) for x in events[\"tp_pdgid\"].array()[0, 20:40]]),\n",
    ")"
   ]
  },
  {
   "cell_type": "code",
   "execution_count": null,
   "metadata": {},
   "outputs": [],
   "source": []
  },
  {
   "cell_type": "code",
   "execution_count": null,
   "metadata": {},
   "outputs": [],
   "source": []
  },
  {
   "cell_type": "code",
   "execution_count": null,
   "metadata": {},
   "outputs": [],
   "source": []
  },
  {
   "cell_type": "markdown",
   "metadata": {},
   "source": [
    "# Histograms"
   ]
  },
  {
   "cell_type": "code",
   "execution_count": 22,
   "metadata": {},
   "outputs": [],
   "source": [
    "tp_vertex_id = events[\"tp_eventid\"].array()"
   ]
  },
  {
   "cell_type": "code",
   "execution_count": 23,
   "metadata": {},
   "outputs": [
    {
     "data": {
      "text/plain": [
       "<JaggedArray [[0 0 0 ... 211 211 211] [0 0 0 ... 177 185 187] [0 0 0 ... 227 227 227] ... [0 0 0 ... 218 222 222] [0 0 0 ... 212 212 212] [0 0 0 ... 149 155 155]] at 0x7fd052379220>"
      ]
     },
     "execution_count": 23,
     "metadata": {},
     "output_type": "execute_result"
    }
   ],
   "source": [
    "tp_vertex_id"
   ]
  },
  {
   "cell_type": "code",
   "execution_count": 24,
   "metadata": {},
   "outputs": [],
   "source": [
    "tp_z0 = events[\"tp_z0\"].array()\n",
    "tp_d0 = events[\"tp_d0\"].array()\n",
    "trk_z0 = events[\"trk_z0\"].array()\n",
    "trk_pt = events[\"trk_pt\"].array()"
   ]
  },
  {
   "cell_type": "code",
   "execution_count": 29,
   "metadata": {},
   "outputs": [
    {
     "data": {
      "text/plain": [
       "252"
      ]
     },
     "execution_count": 29,
     "metadata": {},
     "output_type": "execute_result"
    }
   ],
   "source": []
  },
  {
   "cell_type": "code",
   "execution_count": 25,
   "metadata": {},
   "outputs": [
    {
     "data": {
      "text/plain": [
       "(229,)"
      ]
     },
     "execution_count": 25,
     "metadata": {},
     "output_type": "execute_result"
    }
   ],
   "source": [
    "tp_z0[0].shape"
   ]
  },
  {
   "cell_type": "code",
   "execution_count": 27,
   "metadata": {},
   "outputs": [
    {
     "data": {
      "text/plain": [
       "(239,)"
      ]
     },
     "execution_count": 27,
     "metadata": {},
     "output_type": "execute_result"
    }
   ],
   "source": [
    "trk_z0[0].shape"
   ]
  },
  {
   "cell_type": "code",
   "execution_count": 28,
   "metadata": {
    "tags": []
   },
   "outputs": [
    {
     "data": {
      "text/plain": [
       "<matplotlib.legend.Legend at 0x7fbea8725f70>"
      ]
     },
     "execution_count": 28,
     "metadata": {},
     "output_type": "execute_result"
    },
    {
     "data": {
      "image/png": "[encoded data removed]",
      "text/plain": [
       "<Figure size 720x288 with 1 Axes>"
      ]
     },
     "metadata": {
      "needs_background": "light"
     },
     "output_type": "display_data"
    }
   ],
   "source": [
    "fig = plt.figure(figsize=(10, 4))\n",
    "ax = fig.add_subplot(111)\n",
    "\n",
    "ax.plot(tp_z0[0], np.ones(len(tp_z0[0])), \"xr\", ms=12, mfc=\"r\", label=\"truth\")\n",
    "ax.plot(trk_z0[0], 1.5 * np.ones(len(trk_z0[0])), \"g+\", ms=12, mfc=\"r\", label=\"track\")\n",
    "plt.axis()\n",
    "plt.ylim(0, 2)\n",
    "\n",
    "plt.legend()"
   ]
  },
  {
   "cell_type": "markdown",
   "metadata": {},
   "source": [
    "This mask gets the tracks associated to the primary vertex cluster"
   ]
  },
  {
   "cell_type": "code",
   "execution_count": 30,
   "metadata": {},
   "outputs": [],
   "source": [
    "mask = tp_vertex_id == 0"
   ]
  },
  {
   "cell_type": "code",
   "execution_count": 31,
   "metadata": {},
   "outputs": [
    {
     "data": {
      "text/plain": [
       "<JaggedArray [[True True True ... False False False] [True True True ... False False False] [True True True ... False False False] ... [True True True ... False False False] [True True True ... False False False] [True True True ... False False False]] at 0x7fd0523c5970>"
      ]
     },
     "execution_count": 31,
     "metadata": {},
     "output_type": "execute_result"
    }
   ],
   "source": [
    "mask"
   ]
  },
  {
   "cell_type": "markdown",
   "metadata": {},
   "source": [
    "This mask gets rid of clusters that belong to the secondary vertex"
   ]
  },
  {
   "cell_type": "code",
   "execution_count": 34,
   "metadata": {},
   "outputs": [],
   "source": [
    "mask_no_sv = np.abs(tp_d0) < 0.01"
   ]
  },
  {
   "cell_type": "code",
   "execution_count": 40,
   "metadata": {},
   "outputs": [
    {
     "data": {
      "text/plain": [
       "252"
      ]
     },
     "execution_count": 40,
     "metadata": {},
     "output_type": "execute_result"
    }
   ],
   "source": [
    "len(tp_z0)"
   ]
  },
  {
   "cell_type": "code",
   "execution_count": 39,
   "metadata": {},
   "outputs": [
    {
     "data": {
      "text/plain": [
       "(252,)"
      ]
     },
     "execution_count": 39,
     "metadata": {},
     "output_type": "execute_result"
    }
   ],
   "source": [
    "tp_z0[mask & mask_no_sv].mean().s"
   ]
  },
  {
   "cell_type": "code",
   "execution_count": 42,
   "metadata": {},
   "outputs": [],
   "source": [
    "true_z0 = tp_z0[mask & mask_no_sv].mean()"
   ]
  },
  {
   "cell_type": "code",
   "execution_count": 47,
   "metadata": {},
   "outputs": [
    {
     "data": {
      "text/plain": [
       "(252,)"
      ]
     },
     "execution_count": 47,
     "metadata": {},
     "output_type": "execute_result"
    }
   ],
   "source": [
    "true_z0.shape"
   ]
  },
  {
   "cell_type": "code",
   "execution_count": 46,
   "metadata": {},
   "outputs": [
    {
     "data": {
      "text/plain": [
       "(252,)"
      ]
     },
     "execution_count": 46,
     "metadata": {},
     "output_type": "execute_result"
    }
   ],
   "source": [
    "true_z0.flatten().shape"
   ]
  },
  {
   "cell_type": "code",
   "execution_count": 33,
   "metadata": {},
   "outputs": [],
   "source": [
    "matchtrk_z0 = events[\"matchtrk_z0\"].array()"
   ]
  },
  {
   "cell_type": "code",
   "execution_count": 34,
   "metadata": {},
   "outputs": [
    {
     "data": {
      "text/plain": [
       "<JaggedArray [[3.5742188 3.75 3.5742188 ... 0.29296875 0.41015625 1.171875] [0.1171875 0.703125 0.8203125 ... -5.390625 2.9882812 0.05859375] [-2.8710938 -2.6367188 -2.7539062 ... -1.0546875 -999.0 -1.2304688] ... [-2.34375 -2.2265625 -2.2265625 ... -5.9179688 0.0 0.234375] [-4.9804688 -4.0429688 -4.7460938 ... -1.3476562 -1.2304688 -1.3476562] [0.41015625 0.46875 0.234375 ... 8.261719 -999.0 -1.9335938]] at 0x7fbe9828a250>"
      ]
     },
     "execution_count": 34,
     "metadata": {},
     "output_type": "execute_result"
    }
   ],
   "source": [
    "matchtrk_z0"
   ]
  },
  {
   "cell_type": "code",
   "execution_count": 41,
   "metadata": {},
   "outputs": [
    {
     "ename": "NameError",
     "evalue": "name 'true_z0' is not defined",
     "output_type": "error",
     "traceback": [
      "\u001b[0;31m---------------------------------------------------------------------------\u001b[0m",
      "\u001b[0;31mNameError\u001b[0m                                 Traceback (most recent call last)",
      "\u001b[0;32m/var/folders/6z/z5fs58w94yj6n956c8v6f_6r0000gn/T/ipykernel_20980/2023801335.py\u001b[0m in \u001b[0;36m<module>\u001b[0;34m\u001b[0m\n\u001b[0;32m----> 1\u001b[0;31m \u001b[0mtrue_z0\u001b[0m\u001b[0;34m.\u001b[0m\u001b[0mflatten\u001b[0m\u001b[0;34m(\u001b[0m\u001b[0;34m)\u001b[0m\u001b[0;34m\u001b[0m\u001b[0;34m\u001b[0m\u001b[0m\n\u001b[0m",
      "\u001b[0;31mNameError\u001b[0m: name 'true_z0' is not defined"
     ]
    }
   ],
   "source": [
    "true_z0.flatten()"
   ]
  },
  {
   "cell_type": "markdown",
   "metadata": {
    "tags": []
   },
   "source": [
    "### Track pT distribution"
   ]
  },
  {
   "cell_type": "code",
   "execution_count": 36,
   "metadata": {},
   "outputs": [
    {
     "data": {
      "text/plain": [
       "array([3.2941947, 3.2990823, 4.282707 , ..., 2.1959128, 2.5165024,\n",
       "       2.3176792], dtype=float32)"
      ]
     },
     "execution_count": 36,
     "metadata": {},
     "output_type": "execute_result"
    }
   ],
   "source": [
    "trk_pt.flatten()"
   ]
  },
  {
   "cell_type": "code",
   "execution_count": 37,
   "metadata": {},
   "outputs": [],
   "source": [
    "h, be = np.histogram(trk_pt.flatten(), bins=75, range=(0.0, 150.0))"
   ]
  },
  {
   "cell_type": "code",
   "execution_count": 38,
   "metadata": {},
   "outputs": [
    {
     "data": {
      "text/plain": [
       "Text(0, 1, 'Counts/bin')"
      ]
     },
     "execution_count": 38,
     "metadata": {},
     "output_type": "execute_result"
    },
    {
     "data": {
      "image/png": "[encoded data removed]",
      "text/plain": [
       "<Figure size 720x720 with 1 Axes>"
      ]
     },
     "metadata": {
      "needs_background": "light"
     },
     "output_type": "display_data"
    }
   ],
   "source": [
    "plt.step(x=be, y=np.append(h, 0), where=\"post\")\n",
    "plt.xlim(be[0], be[-1])\n",
    "plt.yscale(\"log\")\n",
    "plt.ylim(0.5, h.max() * 2.0)\n",
    "plt.xlabel(\"Track transverse momentum (GeV)\")\n",
    "plt.ylabel(\"Counts/bin\")"
   ]
  },
  {
   "cell_type": "markdown",
   "metadata": {},
   "source": [
    "### Track z0 distribution"
   ]
  },
  {
   "cell_type": "code",
   "execution_count": 39,
   "metadata": {},
   "outputs": [],
   "source": [
    "h, be = np.histogram(trk_z0.flatten(), bins=20, range=(-5.0, 5.0))"
   ]
  },
  {
   "cell_type": "code",
   "execution_count": 40,
   "metadata": {},
   "outputs": [
    {
     "data": {
      "text/plain": [
       "Text(0, 1, 'Counts/bin')"
      ]
     },
     "execution_count": 40,
     "metadata": {},
     "output_type": "execute_result"
    },
    {
     "data": {
      "image/png": "[encoded data removed]",
      "text/plain": [
       "<Figure size 720x720 with 1 Axes>"
      ]
     },
     "metadata": {
      "needs_background": "light"
     },
     "output_type": "display_data"
    }
   ],
   "source": [
    "plt.step(x=be, y=np.append(h, 0), where=\"post\")\n",
    "plt.xlim(be[0], be[-1])\n",
    "plt.yscale(\"linear\")\n",
    "plt.ylim(0, h.max() * 2)\n",
    "plt.xlabel(\"Track z0 position (cm)\")\n",
    "plt.ylabel(\"Counts/bin\")"
   ]
  },
  {
   "cell_type": "markdown",
   "metadata": {},
   "source": [
    "### tp_z0 distribution"
   ]
  },
  {
   "cell_type": "code",
   "execution_count": 41,
   "metadata": {},
   "outputs": [
    {
     "data": {
      "text/plain": [
       "Text(0, 1, 'Counts/bin')"
      ]
     },
     "execution_count": 41,
     "metadata": {},
     "output_type": "execute_result"
    },
    {
     "data": {
      "image/png": "[encoded data removed]",
      "text/plain": [
       "<Figure size 720x720 with 1 Axes>"
      ]
     },
     "metadata": {
      "needs_background": "light"
     },
     "output_type": "display_data"
    }
   ],
   "source": [
    "counts, edges = np.histogram(tp_z0.flatten(), bins=20, range=(-5.0, 5.0))\n",
    "plt.step(x=edges, y=np.append(counts, 0), where=\"post\")\n",
    "plt.xlim(edges[0], edges[-1])\n",
    "plt.yscale(\"linear\")\n",
    "plt.ylim(0.0, counts.max() * 2.0)\n",
    "plt.xlabel(\"TP z0 position (cm)\")\n",
    "plt.ylabel(\"Counts/bin\")"
   ]
  },
  {
   "cell_type": "markdown",
   "metadata": {},
   "source": [
    "# True z0 distribution"
   ]
  },
  {
   "cell_type": "code",
   "execution_count": 42,
   "metadata": {},
   "outputs": [
    {
     "data": {
      "text/plain": [
       "Text(0, 1, 'Counts/bin')"
      ]
     },
     "execution_count": 42,
     "metadata": {},
     "output_type": "execute_result"
    },
    {
     "data": {
      "image/png": "[encoded data removed]",
      "text/plain": [
       "<Figure size 720x720 with 1 Axes>"
      ]
     },
     "metadata": {
      "needs_background": "light"
     },
     "output_type": "display_data"
    }
   ],
   "source": [
    "counts, edges = np.histogram(true_z0.flatten(), bins=10, range=(-5.0, 5.0))\n",
    "plt.step(x=edges, y=np.append(counts, 0), where=\"post\")\n",
    "plt.xlim(edges[0], edges[-1])\n",
    "plt.yscale(\"linear\")\n",
    "plt.ylim(0.0, counts.max() * 2.0)\n",
    "plt.xlabel(\"True primary vertex z0 position (cm)\")\n",
    "plt.ylabel(\"Counts/bin\")"
   ]
  },
  {
   "cell_type": "markdown",
   "metadata": {},
   "source": [
    "### Residuals"
   ]
  },
  {
   "cell_type": "code",
   "execution_count": 43,
   "metadata": {},
   "outputs": [
    {
     "data": {
      "text/plain": [
       "Text(0, 1, 'Counts/bin')"
      ]
     },
     "execution_count": 43,
     "metadata": {},
     "output_type": "execute_result"
    },
    {
     "data": {
      "image/png": "[encoded data removed]",
      "text/plain": [
       "<Figure size 720x720 with 1 Axes>"
      ]
     },
     "metadata": {
      "needs_background": "light"
     },
     "output_type": "display_data"
    }
   ],
   "source": [
    "residuals = trk_z0 - true_z0\n",
    "counts, edges = np.histogram(residuals.flatten(), bins=100, range=(-5.0, 5.0))\n",
    "plt.step(x=edges, y=np.append(counts, 0), where=\"post\")\n",
    "plt.xlim(edges[0], edges[-1])\n",
    "plt.yscale(\"linear\")\n",
    "plt.ylim(0.0, counts.max() * 1.2)\n",
    "plt.xlabel(\"Track z0 position - (true) primary vertex z0 position (cm)\")\n",
    "plt.ylabel(\"Counts/bin\")"
   ]
  },
  {
   "cell_type": "code",
   "execution_count": null,
   "metadata": {},
   "outputs": [],
   "source": []
  },
  {
   "cell_type": "code",
   "execution_count": 44,
   "metadata": {},
   "outputs": [
    {
     "data": {
      "text/plain": [
       "Text(0, 1, 'Counts/bin')"
      ]
     },
     "execution_count": 44,
     "metadata": {},
     "output_type": "execute_result"
    },
    {
     "data": {
      "image/png": "[encoded data removed]",
      "text/plain": [
       "<Figure size 720x720 with 1 Axes>"
      ]
     },
     "metadata": {
      "needs_background": "light"
     },
     "output_type": "display_data"
    }
   ],
   "source": [
    "residuals = matchtrk_z0 - tp_z0\n",
    "counts, edges = np.histogram(residuals.flatten(), bins=100, range=(-5.0, 5.0))\n",
    "plt.step(x=edges, y=np.append(counts, 0), where=\"post\")\n",
    "plt.xlim(edges[0], edges[-1])\n",
    "plt.yscale(\"linear\")\n",
    "plt.ylim(0.0, counts.max() * 1.2)\n",
    "plt.xlabel(\"Matched track z0 position - (true) primary vertex z0 position (cm)\")\n",
    "plt.ylabel(\"Counts/bin\")"
   ]
  },
  {
   "cell_type": "markdown",
   "metadata": {},
   "source": [
    "# Read as dataframe"
   ]
  },
  {
   "cell_type": "markdown",
   "metadata": {},
   "source": [
    "Let's use uproot 4 for this"
   ]
  },
  {
   "cell_type": "code",
   "execution_count": 8,
   "metadata": {},
   "outputs": [],
   "source": [
    "import uproot"
   ]
  },
  {
   "cell_type": "code",
   "execution_count": 9,
   "metadata": {},
   "outputs": [
    {
     "data": {
      "text/plain": [
       "'4.1.7'"
      ]
     },
     "execution_count": 9,
     "metadata": {},
     "output_type": "execute_result"
    }
   ],
   "source": [
    "uproot.__version__"
   ]
  },
  {
   "cell_type": "code",
   "execution_count": 10,
   "metadata": {},
   "outputs": [],
   "source": [
    "f4 = uproot.open(\"../0.root\")"
   ]
  },
  {
   "cell_type": "code",
   "execution_count": 11,
   "metadata": {},
   "outputs": [],
   "source": [
    "df = f4[\"L1TrackNtuple/eventTree;1\"].arrays(library=\"pd\")"
   ]
  },
  {
   "cell_type": "code",
   "execution_count": 12,
   "metadata": {},
   "outputs": [],
   "source": [
    "trk = df[0]"
   ]
  },
  {
   "cell_type": "code",
   "execution_count": 13,
   "metadata": {},
   "outputs": [],
   "source": [
    "tp = df[1]"
   ]
  },
  {
   "cell_type": "code",
   "execution_count": 14,
   "metadata": {},
   "outputs": [
    {
     "data": {
      "text/html": [
       "<div>\n",
       "<style scoped>\n",
       "    .dataframe tbody tr th:only-of-type {\n",
       "        vertical-align: middle;\n",
       "    }\n",
       "\n",
       "    .dataframe tbody tr th {\n",
       "        vertical-align: top;\n",
       "    }\n",
       "\n",
       "    .dataframe thead th {\n",
       "        text-align: right;\n",
       "    }\n",
       "</style>\n",
       "<table border=\"1\" class=\"dataframe\">\n",
       "  <thead>\n",
       "    <tr style=\"text-align: right;\">\n",
       "      <th></th>\n",
       "      <th></th>\n",
       "      <th>trk_pt</th>\n",
       "      <th>trk_eta</th>\n",
       "      <th>trk_phi</th>\n",
       "      <th>trk_d0</th>\n",
       "      <th>trk_z0</th>\n",
       "      <th>trk_chi2</th>\n",
       "      <th>trk_bendchi2</th>\n",
       "      <th>trk_nstub</th>\n",
       "      <th>trk_lhits</th>\n",
       "      <th>trk_dhits</th>\n",
       "      <th>trk_seed</th>\n",
       "      <th>trk_genuine</th>\n",
       "      <th>trk_loose</th>\n",
       "      <th>trk_unknown</th>\n",
       "      <th>trk_combinatoric</th>\n",
       "      <th>trk_fake</th>\n",
       "      <th>trk_matchtp_pdgid</th>\n",
       "      <th>trk_matchtp_pt</th>\n",
       "      <th>trk_matchtp_eta</th>\n",
       "      <th>trk_matchtp_phi</th>\n",
       "      <th>trk_matchtp_z0</th>\n",
       "      <th>trk_matchtp_dxy</th>\n",
       "      <th>trk_injet</th>\n",
       "      <th>trk_injet_highpt</th>\n",
       "      <th>trk_injet_vhighpt</th>\n",
       "    </tr>\n",
       "    <tr>\n",
       "      <th>entry</th>\n",
       "      <th>subentry</th>\n",
       "      <th></th>\n",
       "      <th></th>\n",
       "      <th></th>\n",
       "      <th></th>\n",
       "      <th></th>\n",
       "      <th></th>\n",
       "      <th></th>\n",
       "      <th></th>\n",
       "      <th></th>\n",
       "      <th></th>\n",
       "      <th></th>\n",
       "      <th></th>\n",
       "      <th></th>\n",
       "      <th></th>\n",
       "      <th></th>\n",
       "      <th></th>\n",
       "      <th></th>\n",
       "      <th></th>\n",
       "      <th></th>\n",
       "      <th></th>\n",
       "      <th></th>\n",
       "      <th></th>\n",
       "      <th></th>\n",
       "      <th></th>\n",
       "      <th></th>\n",
       "    </tr>\n",
       "  </thead>\n",
       "  <tbody>\n",
       "    <tr>\n",
       "      <th rowspan=\"5\" valign=\"top\">0</th>\n",
       "      <th>0</th>\n",
       "      <td>3.294195</td>\n",
       "      <td>0.672711</td>\n",
       "      <td>-0.235986</td>\n",
       "      <td>999.0</td>\n",
       "      <td>-7.207031</td>\n",
       "      <td>3.886195</td>\n",
       "      <td>0.565463</td>\n",
       "      <td>6</td>\n",
       "      <td>111111</td>\n",
       "      <td>0</td>\n",
       "      <td>0</td>\n",
       "      <td>1</td>\n",
       "      <td>1</td>\n",
       "      <td>0</td>\n",
       "      <td>0</td>\n",
       "      <td>2</td>\n",
       "      <td>211</td>\n",
       "      <td>3.307104</td>\n",
       "      <td>0.678369</td>\n",
       "      <td>-0.236771</td>\n",
       "      <td>-7.436831</td>\n",
       "      <td>0.001133</td>\n",
       "      <td>0</td>\n",
       "      <td>0</td>\n",
       "      <td>0</td>\n",
       "    </tr>\n",
       "    <tr>\n",
       "      <th>1</th>\n",
       "      <td>3.299082</td>\n",
       "      <td>0.070255</td>\n",
       "      <td>-0.303737</td>\n",
       "      <td>999.0</td>\n",
       "      <td>5.800781</td>\n",
       "      <td>3.457583</td>\n",
       "      <td>1.158106</td>\n",
       "      <td>6</td>\n",
       "      <td>111111</td>\n",
       "      <td>0</td>\n",
       "      <td>0</td>\n",
       "      <td>1</td>\n",
       "      <td>1</td>\n",
       "      <td>0</td>\n",
       "      <td>0</td>\n",
       "      <td>2</td>\n",
       "      <td>-211</td>\n",
       "      <td>3.333383</td>\n",
       "      <td>0.069476</td>\n",
       "      <td>-0.302832</td>\n",
       "      <td>5.946478</td>\n",
       "      <td>0.000195</td>\n",
       "      <td>0</td>\n",
       "      <td>0</td>\n",
       "      <td>0</td>\n",
       "    </tr>\n",
       "    <tr>\n",
       "      <th>2</th>\n",
       "      <td>4.282707</td>\n",
       "      <td>1.931356</td>\n",
       "      <td>-0.272299</td>\n",
       "      <td>999.0</td>\n",
       "      <td>-7.558594</td>\n",
       "      <td>2.652499</td>\n",
       "      <td>1.138293</td>\n",
       "      <td>6</td>\n",
       "      <td>11</td>\n",
       "      <td>1111</td>\n",
       "      <td>0</td>\n",
       "      <td>1</td>\n",
       "      <td>1</td>\n",
       "      <td>0</td>\n",
       "      <td>0</td>\n",
       "      <td>2</td>\n",
       "      <td>-211</td>\n",
       "      <td>4.196679</td>\n",
       "      <td>1.933154</td>\n",
       "      <td>-0.270587</td>\n",
       "      <td>-7.436831</td>\n",
       "      <td>0.001133</td>\n",
       "      <td>0</td>\n",
       "      <td>0</td>\n",
       "      <td>0</td>\n",
       "    </tr>\n",
       "    <tr>\n",
       "      <th>3</th>\n",
       "      <td>2.730331</td>\n",
       "      <td>-1.494013</td>\n",
       "      <td>-0.168791</td>\n",
       "      <td>999.0</td>\n",
       "      <td>0.000000</td>\n",
       "      <td>3.931520</td>\n",
       "      <td>0.562027</td>\n",
       "      <td>5</td>\n",
       "      <td>111</td>\n",
       "      <td>110</td>\n",
       "      <td>0</td>\n",
       "      <td>1</td>\n",
       "      <td>1</td>\n",
       "      <td>0</td>\n",
       "      <td>0</td>\n",
       "      <td>2</td>\n",
       "      <td>211</td>\n",
       "      <td>2.740556</td>\n",
       "      <td>-1.497854</td>\n",
       "      <td>-0.169511</td>\n",
       "      <td>0.002524</td>\n",
       "      <td>0.000285</td>\n",
       "      <td>0</td>\n",
       "      <td>0</td>\n",
       "      <td>0</td>\n",
       "    </tr>\n",
       "    <tr>\n",
       "      <th>4</th>\n",
       "      <td>2.346045</td>\n",
       "      <td>1.780082</td>\n",
       "      <td>0.038812</td>\n",
       "      <td>999.0</td>\n",
       "      <td>0.117188</td>\n",
       "      <td>25.375839</td>\n",
       "      <td>0.787909</td>\n",
       "      <td>6</td>\n",
       "      <td>11</td>\n",
       "      <td>10111</td>\n",
       "      <td>0</td>\n",
       "      <td>1</td>\n",
       "      <td>1</td>\n",
       "      <td>0</td>\n",
       "      <td>0</td>\n",
       "      <td>2</td>\n",
       "      <td>2212</td>\n",
       "      <td>2.332434</td>\n",
       "      <td>1.780198</td>\n",
       "      <td>0.041637</td>\n",
       "      <td>0.094147</td>\n",
       "      <td>0.001353</td>\n",
       "      <td>0</td>\n",
       "      <td>0</td>\n",
       "      <td>0</td>\n",
       "    </tr>\n",
       "  </tbody>\n",
       "</table>\n",
       "</div>"
      ],
      "text/plain": [
       "                  trk_pt   trk_eta   trk_phi  trk_d0    trk_z0   trk_chi2  \\\n",
       "entry subentry                                                              \n",
       "0     0         3.294195  0.672711 -0.235986   999.0 -7.207031   3.886195   \n",
       "      1         3.299082  0.070255 -0.303737   999.0  5.800781   3.457583   \n",
       "      2         4.282707  1.931356 -0.272299   999.0 -7.558594   2.652499   \n",
       "      3         2.730331 -1.494013 -0.168791   999.0  0.000000   3.931520   \n",
       "      4         2.346045  1.780082  0.038812   999.0  0.117188  25.375839   \n",
       "\n",
       "                trk_bendchi2  trk_nstub  trk_lhits  trk_dhits  trk_seed  \\\n",
       "entry subentry                                                            \n",
       "0     0             0.565463          6     111111          0         0   \n",
       "      1             1.158106          6     111111          0         0   \n",
       "      2             1.138293          6         11       1111         0   \n",
       "      3             0.562027          5        111        110         0   \n",
       "      4             0.787909          6         11      10111         0   \n",
       "\n",
       "                trk_genuine  trk_loose  trk_unknown  trk_combinatoric  \\\n",
       "entry subentry                                                          \n",
       "0     0                   1          1            0                 0   \n",
       "      1                   1          1            0                 0   \n",
       "      2                   1          1            0                 0   \n",
       "      3                   1          1            0                 0   \n",
       "      4                   1          1            0                 0   \n",
       "\n",
       "                trk_fake  trk_matchtp_pdgid  trk_matchtp_pt  trk_matchtp_eta  \\\n",
       "entry subentry                                                                 \n",
       "0     0                2                211        3.307104         0.678369   \n",
       "      1                2               -211        3.333383         0.069476   \n",
       "      2                2               -211        4.196679         1.933154   \n",
       "      3                2                211        2.740556        -1.497854   \n",
       "      4                2               2212        2.332434         1.780198   \n",
       "\n",
       "                trk_matchtp_phi  trk_matchtp_z0  trk_matchtp_dxy  trk_injet  \\\n",
       "entry subentry                                                                \n",
       "0     0               -0.236771       -7.436831         0.001133          0   \n",
       "      1               -0.302832        5.946478         0.000195          0   \n",
       "      2               -0.270587       -7.436831         0.001133          0   \n",
       "      3               -0.169511        0.002524         0.000285          0   \n",
       "      4                0.041637        0.094147         0.001353          0   \n",
       "\n",
       "                trk_injet_highpt  trk_injet_vhighpt  \n",
       "entry subentry                                       \n",
       "0     0                        0                  0  \n",
       "      1                        0                  0  \n",
       "      2                        0                  0  \n",
       "      3                        0                  0  \n",
       "      4                        0                  0  "
      ]
     },
     "execution_count": 14,
     "metadata": {},
     "output_type": "execute_result"
    }
   ],
   "source": [
    "trk.head()"
   ]
  },
  {
   "cell_type": "code",
   "execution_count": 15,
   "metadata": {},
   "outputs": [
    {
     "data": {
      "text/plain": [
       "(44663, 43)"
      ]
     },
     "execution_count": 15,
     "metadata": {},
     "output_type": "execute_result"
    }
   ],
   "source": [
    "tp.shape"
   ]
  },
  {
   "cell_type": "code",
   "execution_count": null,
   "metadata": {},
   "outputs": [],
   "source": []
  },
  {
   "cell_type": "code",
   "execution_count": 18,
   "metadata": {},
   "outputs": [
    {
     "data": {
      "text/plain": [
       "3.4658437"
      ]
     },
     "execution_count": 18,
     "metadata": {},
     "output_type": "execute_result"
    }
   ],
   "source": [
    "tp.groupby([\"entry\"])[\"tp_pt\"].mean()[1]"
   ]
  },
  {
   "cell_type": "code",
   "execution_count": 19,
   "metadata": {},
   "outputs": [],
   "source": [
    "import matplotlib"
   ]
  },
  {
   "cell_type": "code",
   "execution_count": 21,
   "metadata": {},
   "outputs": [],
   "source": [
    "event1 = tp.loc[0, :]"
   ]
  },
  {
   "cell_type": "code",
   "execution_count": 30,
   "metadata": {},
   "outputs": [],
   "source": [
    "colors = [matplotlib.cm.Spectral(float(i) / 100) for i in event1[\"tp_eventid\"]]"
   ]
  },
  {
   "cell_type": "code",
   "execution_count": 43,
   "metadata": {
    "tags": []
   },
   "outputs": [],
   "source": [
    "test = event1.groupby([\"tp_eventid\"]).agg({\"tp_eventid\": \"count\", \"tp_z0\": \"mean\"})"
   ]
  },
  {
   "cell_type": "code",
   "execution_count": 48,
   "metadata": {},
   "outputs": [
    {
     "data": {
      "text/plain": [
       "<matplotlib.collections.PathCollection at 0x7ff9f2f9aa00>"
      ]
     },
     "execution_count": 48,
     "metadata": {},
     "output_type": "execute_result"
    },
    {
     "data": {
      "image/png": "[encoded data removed]",
      "text/plain": [
       "<Figure size 720x720 with 1 Axes>"
      ]
     },
     "metadata": {
      "needs_background": "light"
     },
     "output_type": "display_data"
    }
   ],
   "source": [
    "plt.scatter(test[\"tp_z0\"], len(test) * [1], s=test[\"tp_eventid\"] * 20)"
   ]
  },
  {
   "cell_type": "markdown",
   "metadata": {},
   "source": [
    "# Testing dbscan"
   ]
  },
  {
   "cell_type": "code",
   "execution_count": 49,
   "metadata": {},
   "outputs": [
    {
     "ename": "ModuleNotFoundError",
     "evalue": "No module named 'sklearn'",
     "output_type": "error",
     "traceback": [
      "\u001b[0;31m---------------------------------------------------------------------------\u001b[0m",
      "\u001b[0;31mModuleNotFoundError\u001b[0m                       Traceback (most recent call last)",
      "\u001b[0;32m/var/folders/6z/z5fs58w94yj6n956c8v6f_6r0000gn/T/ipykernel_2285/1774474364.py\u001b[0m in \u001b[0;36m<module>\u001b[0;34m\u001b[0m\n\u001b[0;32m----> 1\u001b[0;31m \u001b[0;32mfrom\u001b[0m \u001b[0msklearn\u001b[0m\u001b[0;34m.\u001b[0m\u001b[0mcluster\u001b[0m \u001b[0;32mimport\u001b[0m \u001b[0mDBSCAN\u001b[0m\u001b[0;34m\u001b[0m\u001b[0;34m\u001b[0m\u001b[0m\n\u001b[0m",
      "\u001b[0;31mModuleNotFoundError\u001b[0m: No module named 'sklearn'"
     ]
    }
   ],
   "source": [
    "from sklearn.cluster import DBSCAN"
   ]
  },
  {
   "cell_type": "code",
   "execution_count": null,
   "metadata": {},
   "outputs": [],
   "source": []
  },
  {
   "cell_type": "code",
   "execution_count": 51,
   "metadata": {},
   "outputs": [
    {
     "data": {
      "text/plain": [
       "27"
      ]
     },
     "execution_count": 51,
     "metadata": {},
     "output_type": "execute_result"
    }
   ],
   "source": [
    "mask[0].sum()"
   ]
  },
  {
   "cell_type": "code",
   "execution_count": 52,
   "metadata": {},
   "outputs": [
    {
     "data": {
      "text/plain": [
       "23"
      ]
     },
     "execution_count": 52,
     "metadata": {},
     "output_type": "execute_result"
    }
   ],
   "source": [
    "(mask[0] & mask_no_sv[0]).sum()"
   ]
  },
  {
   "cell_type": "code",
   "execution_count": null,
   "metadata": {},
   "outputs": [],
   "source": []
  },
  {
   "cell_type": "code",
   "execution_count": null,
   "metadata": {},
   "outputs": [],
   "source": []
  },
  {
   "cell_type": "code",
   "execution_count": null,
   "metadata": {},
   "outputs": [],
   "source": []
  },
  {
   "cell_type": "code",
   "execution_count": null,
   "metadata": {},
   "outputs": [],
   "source": []
  }
 ],
 "metadata": {
  "kernelspec": {
   "display_name": "db-clustering",
   "language": "python",
   "name": "db-clustering"
  },
  "language_info": {
   "codemirror_mode": {
    "name": "ipython",
    "version": 3
   },
   "file_extension": ".py",
   "mimetype": "text/x-python",
   "name": "python",
   "nbconvert_exporter": "python",
   "pygments_lexer": "ipython3",
   "version": "3.8.12"
  }
 },
 "nbformat": 4,
 "nbformat_minor": 4
}
