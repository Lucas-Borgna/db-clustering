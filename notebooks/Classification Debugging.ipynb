{
 "cells": [
  {
   "cell_type": "code",
   "execution_count": 1,
   "metadata": {},
   "outputs": [],
   "source": [
    "### Reloads modules properly\n",
    "%load_ext autoreload\n",
    "%autoreload 2"
   ]
  },
  {
   "cell_type": "code",
   "execution_count": 2,
   "metadata": {},
   "outputs": [],
   "source": [
    "import os\n",
    "os.sys.path.append('../')"
   ]
  },
  {
   "cell_type": "markdown",
   "metadata": {},
   "source": [
    "# Classification Debugging"
   ]
  },
  {
   "cell_type": "code",
   "execution_count": 5,
   "metadata": {},
   "outputs": [],
   "source": [
    "import pandas as pd\n",
    "import uproot\n",
    "import numpy as np\n",
    "import matplotlib.pyplot as plt\n",
    "import seaborn as sns\n",
    "import mplhep as hep\n",
    "hep.style.use('CMS')"
   ]
  },
  {
   "cell_type": "code",
   "execution_count": 41,
   "metadata": {},
   "outputs": [],
   "source": [
    "from sklearn.cluster import DBSCAN"
   ]
  },
  {
   "cell_type": "markdown",
   "metadata": {},
   "source": [
    "Using small scale test files as an example (25k PV's)"
   ]
  },
  {
   "cell_type": "code",
   "execution_count": 6,
   "metadata": {},
   "outputs": [
    {
     "name": "stdout",
     "output_type": "stream",
     "text": [
      "total 7.2G\r\n",
      "-rw-r--r-- 1 lborgna users  2.2M Dec  6 15:00 mc_25k.pkl\r\n",
      "-rw-r--r-- 1 lborgna users  5.4M Nov 25 15:32 mc.pkl\r\n",
      "-rw-r--r-- 1 lborgna users  4.9G Nov 24 17:09 OldKF_TTbar_170K_quality.root\r\n",
      "-rw-r--r-- 1 lborgna users  128M Dec  6 14:59 tp_25k.pkl\r\n",
      "-rw-r--r-- 1 lborgna users  1.2G Nov 25 15:31 tp.pkl\r\n",
      "-rw-r--r-- 1 lborgna users  115M Dec  6 14:59 trk_25k.pkl\r\n",
      "-rw-r--r-- 1 lborgna users 1013M Nov 25 15:31 trk.pkl\r\n"
     ]
    }
   ],
   "source": [
    "!ls -lh /mnt/storage/lborgna/track/l1_nnt"
   ]
  },
  {
   "cell_type": "code",
   "execution_count": null,
   "metadata": {},
   "outputs": [],
   "source": []
  },
  {
   "cell_type": "code",
   "execution_count": 7,
   "metadata": {},
   "outputs": [],
   "source": [
    "storage = '/mnt/storage/lborgna/track/l1_nnt/'\n",
    "tp = pd.read_pickle(storage + 'tp_25k.pkl')\n",
    "trk = pd.read_pickle(storage + 'trk_25k.pkl')\n",
    "mc = pd.read_pickle(storage + 'mc_25k.pkl')"
   ]
  },
  {
   "cell_type": "markdown",
   "metadata": {},
   "source": [
    "## Pre-processing"
   ]
  },
  {
   "cell_type": "code",
   "execution_count": 274,
   "metadata": {},
   "outputs": [],
   "source": [
    "trk = trk.loc[trk['trk_pt'] !=np.inf].copy()"
   ]
  },
  {
   "cell_type": "code",
   "execution_count": 79,
   "metadata": {},
   "outputs": [],
   "source": [
    "# f = uproot.open(storage+'OldKF_TTbar_170K_quality.root')"
   ]
  },
  {
   "cell_type": "code",
   "execution_count": 84,
   "metadata": {},
   "outputs": [],
   "source": [
    "# fake_label = f['L1TrackNtuple/eventTree;1'].arrays(['trk_fake'], library='pd')"
   ]
  },
  {
   "cell_type": "code",
   "execution_count": 85,
   "metadata": {},
   "outputs": [],
   "source": [
    "# fake_label = fake_label.query('entry < 25000')"
   ]
  },
  {
   "cell_type": "code",
   "execution_count": 87,
   "metadata": {},
   "outputs": [],
   "source": [
    "# trk['trk_fake'] = fake_label.values"
   ]
  },
  {
   "cell_type": "code",
   "execution_count": 90,
   "metadata": {},
   "outputs": [],
   "source": [
    "# trk.drop(columns=['db_label']).to_pickle(storage+'trk_25k.pkl')"
   ]
  },
  {
   "cell_type": "code",
   "execution_count": 10,
   "metadata": {},
   "outputs": [],
   "source": [
    "from pv_utils import (\n",
    "    truth_pv_z0,\n",
    "    run_fast_histo,\n",
    "    run_dbscan,\n",
    "    primary_vertex_efficiency,\n",
    "    plot_pv_efficiency_z0,\n",
    "    plot_pv_resolution_z0,\n",
    ")"
   ]
  },
  {
   "cell_type": "code",
   "execution_count": 11,
   "metadata": {},
   "outputs": [],
   "source": [
    "z0_gen = truth_pv_z0(tp)"
   ]
  },
  {
   "cell_type": "code",
   "execution_count": 17,
   "metadata": {},
   "outputs": [],
   "source": [
    "z0_mc = mc['pv_MC'].xs(0, axis = 0, level = 1, drop_level=True)"
   ]
  },
  {
   "cell_type": "code",
   "execution_count": 18,
   "metadata": {},
   "outputs": [
    {
     "name": "stdout",
     "output_type": "stream",
     "text": [
      "Help on function run_dbscan in module pv_utils:\n",
      "\n",
      "run_dbscan(df: pandas.core.frame.DataFrame, z0_column: str = 'trk_z0', pt_column: str = 'trk_pt', eps: float = 0.08, minPts: int = 2, remove_noise: bool = False) -> pandas.core.frame.DataFrame\n",
      "    run dbscan\n",
      "\n"
     ]
    }
   ],
   "source": [
    "help(run_dbscan)"
   ]
  },
  {
   "cell_type": "code",
   "execution_count": 19,
   "metadata": {},
   "outputs": [],
   "source": [
    "z0_db_old = run_dbscan(trk, remove_noise=True)"
   ]
  },
  {
   "cell_type": "code",
   "execution_count": 53,
   "metadata": {},
   "outputs": [],
   "source": [
    "z0_db_old_wnoise = run_dbscan(trk, remove_noise=False)"
   ]
  },
  {
   "cell_type": "code",
   "execution_count": 23,
   "metadata": {},
   "outputs": [
    {
     "data": {
      "text/html": [
       "<div>\n",
       "<style scoped>\n",
       "    .dataframe tbody tr th:only-of-type {\n",
       "        vertical-align: middle;\n",
       "    }\n",
       "\n",
       "    .dataframe tbody tr th {\n",
       "        vertical-align: top;\n",
       "    }\n",
       "\n",
       "    .dataframe thead th {\n",
       "        text-align: right;\n",
       "    }\n",
       "</style>\n",
       "<table border=\"1\" class=\"dataframe\">\n",
       "  <thead>\n",
       "    <tr style=\"text-align: right;\">\n",
       "      <th></th>\n",
       "      <th>dbscan_labels</th>\n",
       "      <th>z0</th>\n",
       "      <th>pt</th>\n",
       "    </tr>\n",
       "    <tr>\n",
       "      <th>entry</th>\n",
       "      <th></th>\n",
       "      <th></th>\n",
       "      <th></th>\n",
       "    </tr>\n",
       "  </thead>\n",
       "  <tbody>\n",
       "    <tr>\n",
       "      <th>0</th>\n",
       "      <td>17.0</td>\n",
       "      <td>4.980469</td>\n",
       "      <td>84.025032</td>\n",
       "    </tr>\n",
       "    <tr>\n",
       "      <th>1</th>\n",
       "      <td>16.0</td>\n",
       "      <td>-3.603516</td>\n",
       "      <td>104.907082</td>\n",
       "    </tr>\n",
       "    <tr>\n",
       "      <th>2</th>\n",
       "      <td>39.0</td>\n",
       "      <td>-0.175781</td>\n",
       "      <td>226.240372</td>\n",
       "    </tr>\n",
       "    <tr>\n",
       "      <th>3</th>\n",
       "      <td>28.0</td>\n",
       "      <td>2.753906</td>\n",
       "      <td>301.090637</td>\n",
       "    </tr>\n",
       "    <tr>\n",
       "      <th>4</th>\n",
       "      <td>67.0</td>\n",
       "      <td>-1.289062</td>\n",
       "      <td>270.321960</td>\n",
       "    </tr>\n",
       "  </tbody>\n",
       "</table>\n",
       "</div>"
      ],
      "text/plain": [
       "       dbscan_labels        z0          pt\n",
       "entry                                     \n",
       "0               17.0  4.980469   84.025032\n",
       "1               16.0 -3.603516  104.907082\n",
       "2               39.0 -0.175781  226.240372\n",
       "3               28.0  2.753906  301.090637\n",
       "4               67.0 -1.289062  270.321960"
      ]
     },
     "execution_count": 23,
     "metadata": {},
     "output_type": "execute_result"
    }
   ],
   "source": [
    "z0_db_old.head()"
   ]
  },
  {
   "cell_type": "code",
   "execution_count": 24,
   "metadata": {},
   "outputs": [
    {
     "data": {
      "text/plain": [
       "(74.73296795615474, 0.5435442043590797, 0.5377888957577568)"
      ]
     },
     "execution_count": 24,
     "metadata": {},
     "output_type": "execute_result"
    }
   ],
   "source": [
    "primary_vertex_efficiency(z0_gen=z0_gen, z0_reco=z0_db_old['z0'])"
   ]
  },
  {
   "cell_type": "code",
   "execution_count": 54,
   "metadata": {},
   "outputs": [
    {
     "data": {
      "text/plain": [
       "(70.00440052806337, 0.5723640217773891, 0.5677102163357972)"
      ]
     },
     "execution_count": 54,
     "metadata": {},
     "output_type": "execute_result"
    }
   ],
   "source": [
    "primary_vertex_efficiency(z0_gen=z0_gen, z0_reco=z0_db_old_wnoise['z0'])"
   ]
  },
  {
   "cell_type": "code",
   "execution_count": 26,
   "metadata": {},
   "outputs": [],
   "source": [
    "be = np.arange(-15, 16, 1)"
   ]
  },
  {
   "cell_type": "code",
   "execution_count": 30,
   "metadata": {},
   "outputs": [
    {
     "data": {
      "image/png": "[encoded data removed]",
      "text/plain": [
       "<Figure size 720x720 with 1 Axes>"
      ]
     },
     "metadata": {
      "needs_background": "light"
     },
     "output_type": "display_data"
    }
   ],
   "source": [
    "_ = plot_pv_efficiency_z0(z0_gen=z0_gen, z0_reco=z0_db_old['z0'], bin_edges=be, xlim=[-15, 15], label = 'DBSCAN (old, noise removed)')"
   ]
  },
  {
   "cell_type": "code",
   "execution_count": 37,
   "metadata": {},
   "outputs": [
    {
     "data": {
      "image/png": "[encoded data removed]",
      "text/plain": [
       "<Figure size 720x720 with 1 Axes>"
      ]
     },
     "metadata": {
      "needs_background": "light"
     },
     "output_type": "display_data"
    }
   ],
   "source": [
    "_= plot_pv_resolution_z0(z0_gen=z0_gen, z0_reco=z0_db_old['z0'], bins = be, label = 'DBSCAN (old, noise removed)')"
   ]
  },
  {
   "cell_type": "markdown",
   "metadata": {},
   "source": [
    "# New way to DBSCAN (Allows for classification accuracy)"
   ]
  },
  {
   "cell_type": "code",
   "execution_count": 38,
   "metadata": {},
   "outputs": [],
   "source": [
    "def pv_dbscan_event(z0: pd.Series, pt: pd.Series, eps:float=0.08, minPts:int=2)->pd.Series:\n",
    "    \n",
    "    _df = pd.DataFrame({})\n",
    "    _df['z0'] = z0\n",
    "    _df['pt'] = pt\n",
    "    \n",
    "    db_clustering = DBSCAN(eps = eps, min_samples = minPts).fit(_df['z0'].values.reshape(-1, 1))\n",
    "    \n",
    "    _df['db_label'] = db_clustering.labels_\n",
    "    \n",
    "    _df.loc[_df['db_label']==-1, 'pt'] = 0\n",
    "    \n",
    "    pv_label = _df.groupby(['db_label'])['pt'].sum().sort_values(ascending=False).index[0]\n",
    "    \n",
    "    _df['db_pv_label'] = 0 \n",
    "    \n",
    "    _df.loc[_df['db_label']==pv_label, 'db_pv_label' ] = 1\n",
    "    \n",
    "    return _df['db_pv_label'] "
   ]
  },
  {
   "cell_type": "code",
   "execution_count": 62,
   "metadata": {},
   "outputs": [],
   "source": [
    "def run_new_dbscan(\n",
    "    df: pd.DataFrame,\n",
    "    z0_column: str = \"trk_z0\",\n",
    "    pt_column: str = \"trk_pt\",\n",
    "    eps: float = 0.08,\n",
    "    minPts: int = 2,\n",
    ") -> pd.DataFrame:\n",
    "\n",
    "    pv_dbscan = df.groupby(level=0).apply(\n",
    "        lambda x: pv_dbscan_event(x[z0_column], x[pt_column], eps, minPts)\n",
    "    )\n",
    "    \n",
    "    return pv_dbscan.values \n"
   ]
  },
  {
   "cell_type": "code",
   "execution_count": 63,
   "metadata": {},
   "outputs": [],
   "source": [
    "trk['db_label'] = run_new_dbscan(trk)"
   ]
  },
  {
   "cell_type": "code",
   "execution_count": 44,
   "metadata": {},
   "outputs": [],
   "source": [
    "trk['db_label'] = new_dbscan.values"
   ]
  },
  {
   "cell_type": "code",
   "execution_count": 64,
   "metadata": {},
   "outputs": [],
   "source": [
    "z0_db_new = trk.loc[trk['db_label']==1].groupby(['entry'])['trk_z0'].median().reset_index()"
   ]
  },
  {
   "cell_type": "code",
   "execution_count": 65,
   "metadata": {},
   "outputs": [
    {
     "data": {
      "text/html": [
       "<div>\n",
       "<style scoped>\n",
       "    .dataframe tbody tr th:only-of-type {\n",
       "        vertical-align: middle;\n",
       "    }\n",
       "\n",
       "    .dataframe tbody tr th {\n",
       "        vertical-align: top;\n",
       "    }\n",
       "\n",
       "    .dataframe thead th {\n",
       "        text-align: right;\n",
       "    }\n",
       "</style>\n",
       "<table border=\"1\" class=\"dataframe\">\n",
       "  <thead>\n",
       "    <tr style=\"text-align: right;\">\n",
       "      <th></th>\n",
       "      <th>entry</th>\n",
       "      <th>trk_z0</th>\n",
       "    </tr>\n",
       "  </thead>\n",
       "  <tbody>\n",
       "    <tr>\n",
       "      <th>0</th>\n",
       "      <td>0</td>\n",
       "      <td>4.980469</td>\n",
       "    </tr>\n",
       "    <tr>\n",
       "      <th>1</th>\n",
       "      <td>1</td>\n",
       "      <td>-3.603516</td>\n",
       "    </tr>\n",
       "    <tr>\n",
       "      <th>2</th>\n",
       "      <td>2</td>\n",
       "      <td>-0.175781</td>\n",
       "    </tr>\n",
       "    <tr>\n",
       "      <th>3</th>\n",
       "      <td>3</td>\n",
       "      <td>2.753906</td>\n",
       "    </tr>\n",
       "    <tr>\n",
       "      <th>4</th>\n",
       "      <td>4</td>\n",
       "      <td>-1.289062</td>\n",
       "    </tr>\n",
       "    <tr>\n",
       "      <th>...</th>\n",
       "      <td>...</td>\n",
       "      <td>...</td>\n",
       "    </tr>\n",
       "    <tr>\n",
       "      <th>24995</th>\n",
       "      <td>24995</td>\n",
       "      <td>0.000000</td>\n",
       "    </tr>\n",
       "    <tr>\n",
       "      <th>24996</th>\n",
       "      <td>24996</td>\n",
       "      <td>-1.933594</td>\n",
       "    </tr>\n",
       "    <tr>\n",
       "      <th>24997</th>\n",
       "      <td>24997</td>\n",
       "      <td>8.085938</td>\n",
       "    </tr>\n",
       "    <tr>\n",
       "      <th>24998</th>\n",
       "      <td>24998</td>\n",
       "      <td>-4.804688</td>\n",
       "    </tr>\n",
       "    <tr>\n",
       "      <th>24999</th>\n",
       "      <td>24999</td>\n",
       "      <td>2.402344</td>\n",
       "    </tr>\n",
       "  </tbody>\n",
       "</table>\n",
       "<p>25000 rows × 2 columns</p>\n",
       "</div>"
      ],
      "text/plain": [
       "       entry    trk_z0\n",
       "0          0  4.980469\n",
       "1          1 -3.603516\n",
       "2          2 -0.175781\n",
       "3          3  2.753906\n",
       "4          4 -1.289062\n",
       "...      ...       ...\n",
       "24995  24995  0.000000\n",
       "24996  24996 -1.933594\n",
       "24997  24997  8.085938\n",
       "24998  24998 -4.804688\n",
       "24999  24999  2.402344\n",
       "\n",
       "[25000 rows x 2 columns]"
      ]
     },
     "execution_count": 65,
     "metadata": {},
     "output_type": "execute_result"
    }
   ],
   "source": [
    "z0_db_new"
   ]
  },
  {
   "cell_type": "code",
   "execution_count": 66,
   "metadata": {},
   "outputs": [
    {
     "data": {
      "text/plain": [
       "(74.73296795615474, 0.5435442043590797, 0.5377888957577568)"
      ]
     },
     "execution_count": 66,
     "metadata": {},
     "output_type": "execute_result"
    }
   ],
   "source": [
    "primary_vertex_efficiency(z0_gen=z0_gen, z0_reco=z0_db_new['trk_z0'])"
   ]
  },
  {
   "cell_type": "code",
   "execution_count": 59,
   "metadata": {},
   "outputs": [
    {
     "data": {
      "image/png": "[encoded data removed]",
      "text/plain": [
       "<Figure size 720x720 with 1 Axes>"
      ]
     },
     "metadata": {
      "needs_background": "light"
     },
     "output_type": "display_data"
    }
   ],
   "source": [
    "_ = plot_pv_efficiency_z0(z0_gen=z0_gen, z0_reco=z0_db_new['trk_z0'], bin_edges=be, xlim=[-15, 15], label = 'DBSCAN (new, noise removed)')"
   ]
  },
  {
   "cell_type": "code",
   "execution_count": 61,
   "metadata": {},
   "outputs": [
    {
     "data": {
      "image/png": "[encoded data removed]",
      "text/plain": [
       "<Figure size 720x720 with 1 Axes>"
      ]
     },
     "metadata": {
      "needs_background": "light"
     },
     "output_type": "display_data"
    }
   ],
   "source": [
    "_= plot_pv_resolution_z0(z0_gen=z0_gen, z0_reco=z0_db_new['trk_z0'], bins = be, label = 'DBSCAN (new, noise removed)')"
   ]
  },
  {
   "cell_type": "markdown",
   "metadata": {},
   "source": [
    "# Classification Accuracy"
   ]
  },
  {
   "cell_type": "code",
   "execution_count": 91,
   "metadata": {},
   "outputs": [],
   "source": [
    "from pv_utils import run_pv_fast_histo, run_pv_dbscan"
   ]
  },
  {
   "cell_type": "code",
   "execution_count": 94,
   "metadata": {},
   "outputs": [
    {
     "name": "stderr",
     "output_type": "stream",
     "text": [
      "100%|█████████████████████████████████████████████████████████| 25000/25000 [01:47<00:00, 232.81it/s]\n"
     ]
    }
   ],
   "source": [
    "trk['db_label'] = run_pv_dbscan(trk)"
   ]
  },
  {
   "cell_type": "code",
   "execution_count": 96,
   "metadata": {},
   "outputs": [],
   "source": [
    "be_fh = np.arange(-15, 15+0.3, 0.3)"
   ]
  },
  {
   "cell_type": "code",
   "execution_count": 97,
   "metadata": {},
   "outputs": [
    {
     "data": {
      "text/plain": [
       "array([-1.50000000e+01, -1.47000000e+01, -1.44000000e+01, -1.41000000e+01,\n",
       "       -1.38000000e+01, -1.35000000e+01, -1.32000000e+01, -1.29000000e+01,\n",
       "       -1.26000000e+01, -1.23000000e+01, -1.20000000e+01, -1.17000000e+01,\n",
       "       -1.14000000e+01, -1.11000000e+01, -1.08000000e+01, -1.05000000e+01,\n",
       "       -1.02000000e+01, -9.90000000e+00, -9.60000000e+00, -9.30000000e+00,\n",
       "       -9.00000000e+00, -8.70000000e+00, -8.40000000e+00, -8.10000000e+00,\n",
       "       -7.80000000e+00, -7.50000000e+00, -7.20000000e+00, -6.90000000e+00,\n",
       "       -6.60000000e+00, -6.30000000e+00, -6.00000000e+00, -5.70000000e+00,\n",
       "       -5.40000000e+00, -5.10000000e+00, -4.80000000e+00, -4.50000000e+00,\n",
       "       -4.20000000e+00, -3.90000000e+00, -3.60000000e+00, -3.30000000e+00,\n",
       "       -3.00000000e+00, -2.70000000e+00, -2.40000000e+00, -2.10000000e+00,\n",
       "       -1.80000000e+00, -1.50000000e+00, -1.20000000e+00, -9.00000000e-01,\n",
       "       -6.00000000e-01, -3.00000000e-01,  3.55271368e-14,  3.00000000e-01,\n",
       "        6.00000000e-01,  9.00000000e-01,  1.20000000e+00,  1.50000000e+00,\n",
       "        1.80000000e+00,  2.10000000e+00,  2.40000000e+00,  2.70000000e+00,\n",
       "        3.00000000e+00,  3.30000000e+00,  3.60000000e+00,  3.90000000e+00,\n",
       "        4.20000000e+00,  4.50000000e+00,  4.80000000e+00,  5.10000000e+00,\n",
       "        5.40000000e+00,  5.70000000e+00,  6.00000000e+00,  6.30000000e+00,\n",
       "        6.60000000e+00,  6.90000000e+00,  7.20000000e+00,  7.50000000e+00,\n",
       "        7.80000000e+00,  8.10000000e+00,  8.40000000e+00,  8.70000000e+00,\n",
       "        9.00000000e+00,  9.30000000e+00,  9.60000000e+00,  9.90000000e+00,\n",
       "        1.02000000e+01,  1.05000000e+01,  1.08000000e+01,  1.11000000e+01,\n",
       "        1.14000000e+01,  1.17000000e+01,  1.20000000e+01,  1.23000000e+01,\n",
       "        1.26000000e+01,  1.29000000e+01,  1.32000000e+01,  1.35000000e+01,\n",
       "        1.38000000e+01,  1.41000000e+01,  1.44000000e+01,  1.47000000e+01,\n",
       "        1.50000000e+01])"
      ]
     },
     "execution_count": 97,
     "metadata": {},
     "output_type": "execute_result"
    }
   ],
   "source": [
    "be_fh"
   ]
  },
  {
   "cell_type": "code",
   "execution_count": 275,
   "metadata": {},
   "outputs": [
    {
     "name": "stderr",
     "output_type": "stream",
     "text": [
      "100%|████████████████████████████████████████████████████████| 25000/25000 [00:13<00:00, 1823.02it/s]\n"
     ]
    }
   ],
   "source": [
    "trk['fh_label'] = run_pv_fast_histo(trk, bin_edges=be_fh)"
   ]
  },
  {
   "cell_type": "code",
   "execution_count": 276,
   "metadata": {},
   "outputs": [],
   "source": [
    "trk['fh_label'] = trk['fh_label'].astype(int)"
   ]
  },
  {
   "cell_type": "code",
   "execution_count": 101,
   "metadata": {},
   "outputs": [],
   "source": [
    "from sklearn.metrics import confusion_matrix, roc_auc_score, classification_report"
   ]
  },
  {
   "cell_type": "code",
   "execution_count": 109,
   "metadata": {},
   "outputs": [],
   "source": [
    "def trk_vertex_association(\n",
    "    df: pd.DataFrame, true_label: str = \"trk_fake\", pred_label: str = \"fh_label\"\n",
    ") -> dict:\n",
    "\n",
    "    tn, fp, fn, tp = confusion_matrix(\n",
    "        df[true_label].values, df[pred_label].values\n",
    "    ).ravel()\n",
    "\n",
    "    TPR = tp / (tp + fn)\n",
    "\n",
    "    FPR = fp / (tn + fp)\n",
    "\n",
    "    AUC = roc_auc_score(df[true_label].values, df[pred_label].values)\n",
    "\n",
    "    return {\"tn\": tn, \"fp\": fp, \"fn\": fn, \"tp\": tp, \"TPR\": TPR, \"FPR\": FPR, \"AUC\": AUC}"
   ]
  },
  {
   "cell_type": "code",
   "execution_count": 102,
   "metadata": {},
   "outputs": [],
   "source": [
    "trk['is_pv'] = 0\n",
    "trk.loc[trk['trk_fake']==1, 'is_pv']=1"
   ]
  },
  {
   "cell_type": "code",
   "execution_count": 106,
   "metadata": {},
   "outputs": [
    {
     "data": {
      "text/plain": [
       "is_pv       int64\n",
       "fh_label    int64\n",
       "dtype: object"
      ]
     },
     "execution_count": 106,
     "metadata": {},
     "output_type": "execute_result"
    }
   ],
   "source": [
    "trk[[\n",
    "    'is_pv', 'fh_label'\n",
    "]].dtypes"
   ]
  },
  {
   "cell_type": "code",
   "execution_count": 277,
   "metadata": {},
   "outputs": [
    {
     "data": {
      "text/plain": [
       "{'tn': 3779528,\n",
       " 'fp': 89442,\n",
       " 'fn': 349686,\n",
       " 'tp': 343880,\n",
       " 'TPR': 0.4958143853649112,\n",
       " 'FPR': 0.023117780701323608,\n",
       " 'AUC': 0.7363483023317938}"
      ]
     },
     "execution_count": 277,
     "metadata": {},
     "output_type": "execute_result"
    }
   ],
   "source": [
    "trk_vertex_association(trk, true_label='is_pv', pred_label='fh_label')"
   ]
  },
  {
   "cell_type": "code",
   "execution_count": 111,
   "metadata": {},
   "outputs": [
    {
     "data": {
      "text/plain": [
       "{'tn': 3632715,\n",
       " 'fp': 236260,\n",
       " 'fn': 148224,\n",
       " 'tp': 545342,\n",
       " 'TPR': 0.7862871017322072,\n",
       " 'FPR': 0.06106526922505315,\n",
       " 'AUC': 0.862610916253577}"
      ]
     },
     "execution_count": 111,
     "metadata": {},
     "output_type": "execute_result"
    }
   ],
   "source": [
    "trk_vertex_association(trk, true_label='is_pv', pred_label='db_label')"
   ]
  },
  {
   "cell_type": "code",
   "execution_count": 112,
   "metadata": {},
   "outputs": [
    {
     "name": "stdout",
     "output_type": "stream",
     "text": [
      "              precision    recall  f1-score   support\n",
      "\n",
      "      not PV       0.92      0.98      0.95   3868975\n",
      "          PV       0.79      0.49      0.61    693566\n",
      "\n",
      "    accuracy                           0.90   4562541\n",
      "   macro avg       0.85      0.74      0.78   4562541\n",
      "weighted avg       0.90      0.90      0.89   4562541\n",
      "\n"
     ]
    }
   ],
   "source": [
    "print(\n",
    "    classification_report(\n",
    "        trk[\"is_pv\"].values, trk[\"fh_label\"].values, target_names=[\"not PV\", \"PV\"]\n",
    "    )\n",
    ")"
   ]
  },
  {
   "cell_type": "code",
   "execution_count": 113,
   "metadata": {},
   "outputs": [
    {
     "name": "stdout",
     "output_type": "stream",
     "text": [
      "              precision    recall  f1-score   support\n",
      "\n",
      "      not PV       0.96      0.94      0.95   3868975\n",
      "          PV       0.70      0.79      0.74    693566\n",
      "\n",
      "    accuracy                           0.92   4562541\n",
      "   macro avg       0.83      0.86      0.84   4562541\n",
      "weighted avg       0.92      0.92      0.92   4562541\n",
      "\n"
     ]
    }
   ],
   "source": [
    "print(\n",
    "    classification_report(\n",
    "        trk[\"is_pv\"].values, trk[\"db_label\"].values, target_names=[\"not PV\", \"PV\"]\n",
    "    )\n",
    ")"
   ]
  },
  {
   "cell_type": "code",
   "execution_count": null,
   "metadata": {},
   "outputs": [],
   "source": []
  },
  {
   "cell_type": "code",
   "execution_count": null,
   "metadata": {},
   "outputs": [],
   "source": []
  },
  {
   "cell_type": "markdown",
   "metadata": {},
   "source": [
    "# plotting residuals"
   ]
  },
  {
   "cell_type": "code",
   "execution_count": 278,
   "metadata": {},
   "outputs": [],
   "source": [
    "def pv_z0_reco(df:pd.DataFrame, reco_label:str='fh_label', z0_label:str='trk_z0') -> pd.DataFrame:\n",
    "    \n",
    "    return df.loc[df[reco_label]==1].groupby(['entry'])[z0_label].median().reset_index()"
   ]
  },
  {
   "cell_type": "code",
   "execution_count": 279,
   "metadata": {},
   "outputs": [],
   "source": [
    "fh_z0 = pv_z0_reco(trk, reco_label='fh_label')"
   ]
  },
  {
   "cell_type": "code",
   "execution_count": 280,
   "metadata": {},
   "outputs": [
    {
     "data": {
      "text/plain": [
       "(25000, 2)"
      ]
     },
     "execution_count": 280,
     "metadata": {},
     "output_type": "execute_result"
    }
   ],
   "source": [
    "fh_z0.shape"
   ]
  },
  {
   "cell_type": "code",
   "execution_count": 281,
   "metadata": {},
   "outputs": [],
   "source": [
    "db_z0 = pv_z0_reco(trk, reco_label='db_label')"
   ]
  },
  {
   "cell_type": "code",
   "execution_count": 289,
   "metadata": {},
   "outputs": [
    {
     "data": {
      "text/plain": [
       "entry\n",
       "0        0.074694\n",
       "1       -0.093036\n",
       "2       -0.056375\n",
       "3        0.020082\n",
       "4       -0.053011\n",
       "           ...   \n",
       "24995   -0.025390\n",
       "24996    0.054977\n",
       "24997    0.147245\n",
       "24998    0.231633\n",
       "24999    0.040424\n",
       "Length: 25000, dtype: float32"
      ]
     },
     "execution_count": 289,
     "metadata": {},
     "output_type": "execute_result"
    }
   ],
   "source": [
    "z0_mc - fh_z0['trk_z0']"
   ]
  },
  {
   "cell_type": "code",
   "execution_count": 292,
   "metadata": {},
   "outputs": [],
   "source": [
    "q_fh = np.percentile((z0_mc-fh_z0['trk_z0']), [32, 50, 68])"
   ]
  },
  {
   "cell_type": "code",
   "execution_count": 293,
   "metadata": {},
   "outputs": [
    {
     "data": {
      "text/plain": [
       "array([-4.63794661e-02, -7.28964806e-05,  4.76794958e-02])"
      ]
     },
     "execution_count": 293,
     "metadata": {},
     "output_type": "execute_result"
    }
   ],
   "source": [
    "q_fh"
   ]
  },
  {
   "cell_type": "code",
   "execution_count": 294,
   "metadata": {},
   "outputs": [],
   "source": [
    "q_db = np.percentile((z0_mc-db_z0['trk_z0']), [32, 50, 68])"
   ]
  },
  {
   "cell_type": "code",
   "execution_count": 295,
   "metadata": {},
   "outputs": [
    {
     "data": {
      "text/plain": [
       "array([-3.67418814e-02, -4.06503677e-05,  3.66637611e-02])"
      ]
     },
     "execution_count": 295,
     "metadata": {},
     "output_type": "execute_result"
    }
   ],
   "source": [
    "q_db"
   ]
  },
  {
   "cell_type": "code",
   "execution_count": 303,
   "metadata": {},
   "outputs": [
    {
     "data": {
      "text/plain": [
       "1.65"
      ]
     },
     "execution_count": 303,
     "metadata": {},
     "output_type": "execute_result"
    }
   ],
   "source": [
    "RMS"
   ]
  },
  {
   "cell_type": "code",
   "execution_count": 324,
   "metadata": {},
   "outputs": [
    {
     "data": {
      "text/plain": [
       "Text(0, 1, 'Events')"
      ]
     },
     "execution_count": 324,
     "metadata": {},
     "output_type": "execute_result"
    },
    {
     "data": {
      "image/png": "[encoded data removed]",
      "text/plain": [
       "<Figure size 1440x720 with 1 Axes>"
      ]
     },
     "metadata": {
      "needs_background": "light"
     },
     "output_type": "display_data"
    }
   ],
   "source": [
    "fig, ax = plt.subplots(1, 1, figsize=(20, 10))\n",
    "\n",
    "RMS_fh = np.sqrt(np.mean((z0_mc-fh_z0['trk_z0'])**2))\n",
    "RMS_db = np.sqrt(np.mean((z0_mc-db_z0['trk_z0'])**2))\n",
    "\n",
    "\n",
    "quartile_fh = round(q_fh[2] - q_fh[0],3)\n",
    "quartile_db = round(q_db[2] - q_db[0],3)\n",
    "\n",
    "RMS_fh = round(RMS_fh,2)\n",
    "RMS_db = round(RMS_db,2)\n",
    "label_fh = \"RMS: \" + str(RMS_fh)\n",
    "label_db = \"RMS: \" + str(RMS_db)\n",
    "\n",
    "ax.hist(\n",
    "    z0_mc - fh_z0[\"trk_z0\"],\n",
    "    bins=50,\n",
    "    range=(-15, 15),\n",
    "    histtype=\"step\",\n",
    "    label='FastHisto ' + label_fh + '\\nquartile width: ' + str(quartile_fh)\n",
    ")\n",
    "\n",
    "\n",
    "ax.hist(\n",
    "    z0_mc - db_z0[\"trk_z0\"],\n",
    "    bins=50,\n",
    "    range=(-15, 15),\n",
    "    histtype=\"step\",\n",
    "    label='DBSCAN ' + label_db + '\\nquartile width: ' + str(quartile_db)\n",
    ")\n",
    "\n",
    "\n",
    "ax.legend()\n",
    "\n",
    "ax.grid(True)\n",
    "ax.grid(True)\n",
    "ax.set_yscale('log')\n",
    "\n",
    "\n",
    "ax.set_xlabel('$z^{PV}_0$ Residual [cm]',ha=\"right\",x=1)\n",
    "ax.set_ylabel('Events',ha=\"right\",y=1)\n",
    "\n",
    "\n",
    "\n",
    "\n",
    "\n",
    "\n",
    "\n"
   ]
  },
  {
   "cell_type": "code",
   "execution_count": 326,
   "metadata": {},
   "outputs": [
    {
     "data": {
      "text/plain": [
       "Text(0, 1, 'Events')"
      ]
     },
     "execution_count": 326,
     "metadata": {},
     "output_type": "execute_result"
    },
    {
     "data": {
      "image/png": "[encoded data removed]",
      "text/plain": [
       "<Figure size 1440x720 with 1 Axes>"
      ]
     },
     "metadata": {
      "needs_background": "light"
     },
     "output_type": "display_data"
    }
   ],
   "source": [
    "fig, ax = plt.subplots(1, 1, figsize=(20, 10))\n",
    "\n",
    "RMS_fh = np.sqrt(np.mean((z0_mc-fh_z0['trk_z0'])**2))\n",
    "RMS_db = np.sqrt(np.mean((z0_mc-db_z0['trk_z0'])**2))\n",
    "\n",
    "\n",
    "quartile_fh = round(q_fh[2] - q_fh[0],3)\n",
    "quartile_db = round(q_db[2] - q_db[0],3)\n",
    "\n",
    "RMS_fh = round(RMS_fh,2)\n",
    "RMS_db = round(RMS_db,2)\n",
    "label_fh = \"RMS: \" + str(RMS_fh)\n",
    "label_db = \"RMS: \" + str(RMS_db)\n",
    "\n",
    "ax.hist(\n",
    "    z0_mc - fh_z0[\"trk_z0\"],\n",
    "    bins=50,\n",
    "    range=(-1, 1),\n",
    "    histtype=\"step\",\n",
    "    label='FastHisto ' + label_fh + '\\nquartile width: ' + str(quartile_fh)\n",
    ")\n",
    "\n",
    "\n",
    "ax.hist(\n",
    "    z0_mc - db_z0[\"trk_z0\"],\n",
    "    bins=50,\n",
    "    range=(-1, 1),\n",
    "    histtype=\"step\",\n",
    "    label='DBSCAN ' + label_db + '\\nquartile width: ' + str(quartile_db)\n",
    ")\n",
    "\n",
    "\n",
    "ax.legend()\n",
    "\n",
    "ax.grid(True)\n",
    "\n",
    "\n",
    "ax.set_xlabel('$z^{PV}_0$ Residual [cm]',ha=\"right\",x=1)\n",
    "ax.set_ylabel('Events',ha=\"right\",y=1)\n",
    "\n",
    "\n",
    "\n",
    "\n",
    "\n",
    "\n",
    "\n",
    "\n"
   ]
  },
  {
   "cell_type": "code",
   "execution_count": 327,
   "metadata": {},
   "outputs": [
    {
     "data": {
      "text/plain": [
       "Text(0, 1, 'Events')"
      ]
     },
     "execution_count": 327,
     "metadata": {},
     "output_type": "execute_result"
    },
    {
     "data": {
      "image/png": "[encoded data removed]",
      "text/plain": [
       "<Figure size 1440x720 with 1 Axes>"
      ]
     },
     "metadata": {
      "needs_background": "light"
     },
     "output_type": "display_data"
    }
   ],
   "source": [
    "fig, ax = plt.subplots(1, 1, figsize=(20, 10))\n",
    "\n",
    "RMS_fh = np.sqrt(np.mean((z0_mc-fh_z0['trk_z0'])**2))\n",
    "RMS_db = np.sqrt(np.mean((z0_mc-db_z0['trk_z0'])**2))\n",
    "\n",
    "\n",
    "quartile_fh = round(q_fh[2] - q_fh[0],3)\n",
    "quartile_db = round(q_db[2] - q_db[0],3)\n",
    "\n",
    "RMS_fh = round(RMS_fh,2)\n",
    "RMS_db = round(RMS_db,2)\n",
    "label_fh = \"RMS: \" + str(RMS_fh)\n",
    "label_db = \"RMS: \" + str(RMS_db)\n",
    "\n",
    "ax.hist(\n",
    "    z0_mc - fh_z0[\"trk_z0\"],\n",
    "    bins=50,\n",
    "    range=(-0.5, 0.5),\n",
    "    histtype=\"step\",\n",
    "    label='FastHisto ' + label_fh + '\\nquartile width: ' + str(quartile_fh)\n",
    ")\n",
    "\n",
    "\n",
    "ax.hist(\n",
    "    z0_mc - db_z0[\"trk_z0\"],\n",
    "    bins=50,\n",
    "    range=(-0.5, 0.5),\n",
    "    histtype=\"step\",\n",
    "    label='DBSCAN ' + label_db + '\\nquartile width: ' + str(quartile_db)\n",
    ")\n",
    "\n",
    "\n",
    "ax.legend()\n",
    "\n",
    "ax.grid(True)\n",
    "\n",
    "\n",
    "ax.set_xlabel('$z^{PV}_0$ Residual [cm]',ha=\"right\",x=1)\n",
    "ax.set_ylabel('Events',ha=\"right\",y=1)\n",
    "\n",
    "\n",
    "\n",
    "\n",
    "\n",
    "\n",
    "\n",
    "\n",
    "\n"
   ]
  },
  {
   "cell_type": "code",
   "execution_count": null,
   "metadata": {},
   "outputs": [],
   "source": []
  },
  {
   "cell_type": "code",
   "execution_count": null,
   "metadata": {},
   "outputs": [],
   "source": []
  },
  {
   "cell_type": "code",
   "execution_count": null,
   "metadata": {},
   "outputs": [],
   "source": []
  },
  {
   "cell_type": "code",
   "execution_count": null,
   "metadata": {},
   "outputs": [],
   "source": []
  },
  {
   "cell_type": "code",
   "execution_count": null,
   "metadata": {},
   "outputs": [],
   "source": []
  },
  {
   "cell_type": "code",
   "execution_count": 284,
   "metadata": {},
   "outputs": [
    {
     "data": {
      "text/html": [
       "<div>\n",
       "<style scoped>\n",
       "    .dataframe tbody tr th:only-of-type {\n",
       "        vertical-align: middle;\n",
       "    }\n",
       "\n",
       "    .dataframe tbody tr th {\n",
       "        vertical-align: top;\n",
       "    }\n",
       "\n",
       "    .dataframe thead th {\n",
       "        text-align: right;\n",
       "    }\n",
       "</style>\n",
       "<table border=\"1\" class=\"dataframe\">\n",
       "  <thead>\n",
       "    <tr style=\"text-align: right;\">\n",
       "      <th></th>\n",
       "      <th>entry</th>\n",
       "      <th>trk_z0</th>\n",
       "    </tr>\n",
       "  </thead>\n",
       "  <tbody>\n",
       "    <tr>\n",
       "      <th>0</th>\n",
       "      <td>0</td>\n",
       "      <td>4.980469</td>\n",
       "    </tr>\n",
       "    <tr>\n",
       "      <th>1</th>\n",
       "      <td>1</td>\n",
       "      <td>-3.515625</td>\n",
       "    </tr>\n",
       "    <tr>\n",
       "      <th>2</th>\n",
       "      <td>2</td>\n",
       "      <td>-0.205078</td>\n",
       "    </tr>\n",
       "    <tr>\n",
       "      <th>3</th>\n",
       "      <td>3</td>\n",
       "      <td>2.783203</td>\n",
       "    </tr>\n",
       "    <tr>\n",
       "      <th>4</th>\n",
       "      <td>4</td>\n",
       "      <td>-1.347656</td>\n",
       "    </tr>\n",
       "    <tr>\n",
       "      <th>...</th>\n",
       "      <td>...</td>\n",
       "      <td>...</td>\n",
       "    </tr>\n",
       "    <tr>\n",
       "      <th>24995</th>\n",
       "      <td>24995</td>\n",
       "      <td>-0.117188</td>\n",
       "    </tr>\n",
       "    <tr>\n",
       "      <th>24996</th>\n",
       "      <td>24996</td>\n",
       "      <td>-1.933594</td>\n",
       "    </tr>\n",
       "    <tr>\n",
       "      <th>24997</th>\n",
       "      <td>24997</td>\n",
       "      <td>8.027344</td>\n",
       "    </tr>\n",
       "    <tr>\n",
       "      <th>24998</th>\n",
       "      <td>24998</td>\n",
       "      <td>-4.980469</td>\n",
       "    </tr>\n",
       "    <tr>\n",
       "      <th>24999</th>\n",
       "      <td>24999</td>\n",
       "      <td>2.314453</td>\n",
       "    </tr>\n",
       "  </tbody>\n",
       "</table>\n",
       "<p>25000 rows × 2 columns</p>\n",
       "</div>"
      ],
      "text/plain": [
       "       entry    trk_z0\n",
       "0          0  4.980469\n",
       "1          1 -3.515625\n",
       "2          2 -0.205078\n",
       "3          3  2.783203\n",
       "4          4 -1.347656\n",
       "...      ...       ...\n",
       "24995  24995 -0.117188\n",
       "24996  24996 -1.933594\n",
       "24997  24997  8.027344\n",
       "24998  24998 -4.980469\n",
       "24999  24999  2.314453\n",
       "\n",
       "[25000 rows x 2 columns]"
      ]
     },
     "execution_count": 284,
     "metadata": {},
     "output_type": "execute_result"
    }
   ],
   "source": [
    "fh_z0"
   ]
  },
  {
   "cell_type": "markdown",
   "metadata": {},
   "source": [
    "# "
   ]
  },
  {
   "cell_type": "code",
   "execution_count": 99,
   "metadata": {},
   "outputs": [
    {
     "data": {
      "text/html": [
       "<div>\n",
       "<style scoped>\n",
       "    .dataframe tbody tr th:only-of-type {\n",
       "        vertical-align: middle;\n",
       "    }\n",
       "\n",
       "    .dataframe tbody tr th {\n",
       "        vertical-align: top;\n",
       "    }\n",
       "\n",
       "    .dataframe thead th {\n",
       "        text-align: right;\n",
       "    }\n",
       "</style>\n",
       "<table border=\"1\" class=\"dataframe\">\n",
       "  <thead>\n",
       "    <tr style=\"text-align: right;\">\n",
       "      <th></th>\n",
       "      <th></th>\n",
       "      <th>trk_pt</th>\n",
       "      <th>trk_eta</th>\n",
       "      <th>trk_phi</th>\n",
       "      <th>trk_d0</th>\n",
       "      <th>trk_z0</th>\n",
       "      <th>db_label</th>\n",
       "      <th>trk_fake</th>\n",
       "      <th>fh_label</th>\n",
       "    </tr>\n",
       "    <tr>\n",
       "      <th>entry</th>\n",
       "      <th>subentry</th>\n",
       "      <th></th>\n",
       "      <th></th>\n",
       "      <th></th>\n",
       "      <th></th>\n",
       "      <th></th>\n",
       "      <th></th>\n",
       "      <th></th>\n",
       "      <th></th>\n",
       "    </tr>\n",
       "  </thead>\n",
       "  <tbody>\n",
       "    <tr>\n",
       "      <th rowspan=\"5\" valign=\"top\">0</th>\n",
       "      <th>0</th>\n",
       "      <td>2.623967</td>\n",
       "      <td>1.301414</td>\n",
       "      <td>-0.289234</td>\n",
       "      <td>999.0</td>\n",
       "      <td>-0.878906</td>\n",
       "      <td>0</td>\n",
       "      <td>2</td>\n",
       "      <td>0</td>\n",
       "    </tr>\n",
       "    <tr>\n",
       "      <th>1</th>\n",
       "      <td>3.435026</td>\n",
       "      <td>0.566814</td>\n",
       "      <td>-0.159267</td>\n",
       "      <td>999.0</td>\n",
       "      <td>3.339844</td>\n",
       "      <td>0</td>\n",
       "      <td>2</td>\n",
       "      <td>0</td>\n",
       "    </tr>\n",
       "    <tr>\n",
       "      <th>2</th>\n",
       "      <td>3.774908</td>\n",
       "      <td>1.815973</td>\n",
       "      <td>-0.240375</td>\n",
       "      <td>999.0</td>\n",
       "      <td>4.921875</td>\n",
       "      <td>1</td>\n",
       "      <td>1</td>\n",
       "      <td>1</td>\n",
       "    </tr>\n",
       "    <tr>\n",
       "      <th>3</th>\n",
       "      <td>2.641448</td>\n",
       "      <td>-1.435747</td>\n",
       "      <td>-0.128747</td>\n",
       "      <td>999.0</td>\n",
       "      <td>-0.468750</td>\n",
       "      <td>0</td>\n",
       "      <td>2</td>\n",
       "      <td>0</td>\n",
       "    </tr>\n",
       "    <tr>\n",
       "      <th>4</th>\n",
       "      <td>2.320653</td>\n",
       "      <td>1.837421</td>\n",
       "      <td>0.032604</td>\n",
       "      <td>999.0</td>\n",
       "      <td>4.980469</td>\n",
       "      <td>1</td>\n",
       "      <td>1</td>\n",
       "      <td>1</td>\n",
       "    </tr>\n",
       "    <tr>\n",
       "      <th>...</th>\n",
       "      <th>...</th>\n",
       "      <td>...</td>\n",
       "      <td>...</td>\n",
       "      <td>...</td>\n",
       "      <td>...</td>\n",
       "      <td>...</td>\n",
       "      <td>...</td>\n",
       "      <td>...</td>\n",
       "      <td>...</td>\n",
       "    </tr>\n",
       "    <tr>\n",
       "      <th rowspan=\"5\" valign=\"top\">24999</th>\n",
       "      <th>194</th>\n",
       "      <td>2.807081</td>\n",
       "      <td>-2.373757</td>\n",
       "      <td>-0.638281</td>\n",
       "      <td>999.0</td>\n",
       "      <td>-0.058594</td>\n",
       "      <td>0</td>\n",
       "      <td>2</td>\n",
       "      <td>0</td>\n",
       "    </tr>\n",
       "    <tr>\n",
       "      <th>195</th>\n",
       "      <td>2.472056</td>\n",
       "      <td>-2.244333</td>\n",
       "      <td>-0.792948</td>\n",
       "      <td>999.0</td>\n",
       "      <td>6.328125</td>\n",
       "      <td>0</td>\n",
       "      <td>2</td>\n",
       "      <td>0</td>\n",
       "    </tr>\n",
       "    <tr>\n",
       "      <th>196</th>\n",
       "      <td>2.391643</td>\n",
       "      <td>-2.093290</td>\n",
       "      <td>-0.658689</td>\n",
       "      <td>999.0</td>\n",
       "      <td>-0.410156</td>\n",
       "      <td>0</td>\n",
       "      <td>2</td>\n",
       "      <td>0</td>\n",
       "    </tr>\n",
       "    <tr>\n",
       "      <th>197</th>\n",
       "      <td>6.140490</td>\n",
       "      <td>2.403961</td>\n",
       "      <td>-0.539389</td>\n",
       "      <td>999.0</td>\n",
       "      <td>-7.441406</td>\n",
       "      <td>0</td>\n",
       "      <td>2</td>\n",
       "      <td>0</td>\n",
       "    </tr>\n",
       "    <tr>\n",
       "      <th>198</th>\n",
       "      <td>5.962409</td>\n",
       "      <td>-2.311289</td>\n",
       "      <td>-0.428627</td>\n",
       "      <td>999.0</td>\n",
       "      <td>1.640625</td>\n",
       "      <td>0</td>\n",
       "      <td>2</td>\n",
       "      <td>0</td>\n",
       "    </tr>\n",
       "  </tbody>\n",
       "</table>\n",
       "<p>4562541 rows × 8 columns</p>\n",
       "</div>"
      ],
      "text/plain": [
       "                  trk_pt   trk_eta   trk_phi  trk_d0    trk_z0  db_label  \\\n",
       "entry subentry                                                             \n",
       "0     0         2.623967  1.301414 -0.289234   999.0 -0.878906         0   \n",
       "      1         3.435026  0.566814 -0.159267   999.0  3.339844         0   \n",
       "      2         3.774908  1.815973 -0.240375   999.0  4.921875         1   \n",
       "      3         2.641448 -1.435747 -0.128747   999.0 -0.468750         0   \n",
       "      4         2.320653  1.837421  0.032604   999.0  4.980469         1   \n",
       "...                  ...       ...       ...     ...       ...       ...   \n",
       "24999 194       2.807081 -2.373757 -0.638281   999.0 -0.058594         0   \n",
       "      195       2.472056 -2.244333 -0.792948   999.0  6.328125         0   \n",
       "      196       2.391643 -2.093290 -0.658689   999.0 -0.410156         0   \n",
       "      197       6.140490  2.403961 -0.539389   999.0 -7.441406         0   \n",
       "      198       5.962409 -2.311289 -0.428627   999.0  1.640625         0   \n",
       "\n",
       "                trk_fake fh_label  \n",
       "entry subentry                     \n",
       "0     0                2        0  \n",
       "      1                2        0  \n",
       "      2                1        1  \n",
       "      3                2        0  \n",
       "      4                1        1  \n",
       "...                  ...      ...  \n",
       "24999 194              2        0  \n",
       "      195              2        0  \n",
       "      196              2        0  \n",
       "      197              2        0  \n",
       "      198              2        0  \n",
       "\n",
       "[4562541 rows x 8 columns]"
      ]
     },
     "execution_count": 99,
     "metadata": {},
     "output_type": "execute_result"
    }
   ],
   "source": [
    "trk"
   ]
  },
  {
   "cell_type": "code",
   "execution_count": null,
   "metadata": {},
   "outputs": [],
   "source": []
  },
  {
   "cell_type": "code",
   "execution_count": null,
   "metadata": {},
   "outputs": [],
   "source": []
  },
  {
   "cell_type": "code",
   "execution_count": null,
   "metadata": {},
   "outputs": [],
   "source": []
  },
  {
   "cell_type": "code",
   "execution_count": 46,
   "metadata": {},
   "outputs": [
    {
     "data": {
      "text/html": [
       "<div>\n",
       "<style scoped>\n",
       "    .dataframe tbody tr th:only-of-type {\n",
       "        vertical-align: middle;\n",
       "    }\n",
       "\n",
       "    .dataframe tbody tr th {\n",
       "        vertical-align: top;\n",
       "    }\n",
       "\n",
       "    .dataframe thead th {\n",
       "        text-align: right;\n",
       "    }\n",
       "</style>\n",
       "<table border=\"1\" class=\"dataframe\">\n",
       "  <thead>\n",
       "    <tr style=\"text-align: right;\">\n",
       "      <th></th>\n",
       "      <th>entry</th>\n",
       "      <th>db_label</th>\n",
       "      <th>trk_z0</th>\n",
       "    </tr>\n",
       "  </thead>\n",
       "  <tbody>\n",
       "    <tr>\n",
       "      <th>0</th>\n",
       "      <td>0</td>\n",
       "      <td>0</td>\n",
       "      <td>-0.670527</td>\n",
       "    </tr>\n",
       "    <tr>\n",
       "      <th>1</th>\n",
       "      <td>0</td>\n",
       "      <td>1</td>\n",
       "      <td>4.970129</td>\n",
       "    </tr>\n",
       "    <tr>\n",
       "      <th>2</th>\n",
       "      <td>1</td>\n",
       "      <td>0</td>\n",
       "      <td>-0.401582</td>\n",
       "    </tr>\n",
       "    <tr>\n",
       "      <th>3</th>\n",
       "      <td>1</td>\n",
       "      <td>1</td>\n",
       "      <td>-3.596191</td>\n",
       "    </tr>\n",
       "    <tr>\n",
       "      <th>4</th>\n",
       "      <td>2</td>\n",
       "      <td>0</td>\n",
       "      <td>2.257422</td>\n",
       "    </tr>\n",
       "    <tr>\n",
       "      <th>...</th>\n",
       "      <td>...</td>\n",
       "      <td>...</td>\n",
       "      <td>...</td>\n",
       "    </tr>\n",
       "    <tr>\n",
       "      <th>49995</th>\n",
       "      <td>24997</td>\n",
       "      <td>1</td>\n",
       "      <td>8.104581</td>\n",
       "    </tr>\n",
       "    <tr>\n",
       "      <th>49996</th>\n",
       "      <td>24998</td>\n",
       "      <td>0</td>\n",
       "      <td>0.402878</td>\n",
       "    </tr>\n",
       "    <tr>\n",
       "      <th>49997</th>\n",
       "      <td>24998</td>\n",
       "      <td>1</td>\n",
       "      <td>-4.828933</td>\n",
       "    </tr>\n",
       "    <tr>\n",
       "      <th>49998</th>\n",
       "      <td>24999</td>\n",
       "      <td>0</td>\n",
       "      <td>1.871745</td>\n",
       "    </tr>\n",
       "    <tr>\n",
       "      <th>49999</th>\n",
       "      <td>24999</td>\n",
       "      <td>1</td>\n",
       "      <td>2.383340</td>\n",
       "    </tr>\n",
       "  </tbody>\n",
       "</table>\n",
       "<p>50000 rows × 3 columns</p>\n",
       "</div>"
      ],
      "text/plain": [
       "       entry  db_label    trk_z0\n",
       "0          0         0 -0.670527\n",
       "1          0         1  4.970129\n",
       "2          1         0 -0.401582\n",
       "3          1         1 -3.596191\n",
       "4          2         0  2.257422\n",
       "...      ...       ...       ...\n",
       "49995  24997         1  8.104581\n",
       "49996  24998         0  0.402878\n",
       "49997  24998         1 -4.828933\n",
       "49998  24999         0  1.871745\n",
       "49999  24999         1  2.383340\n",
       "\n",
       "[50000 rows x 3 columns]"
      ]
     },
     "execution_count": 46,
     "metadata": {},
     "output_type": "execute_result"
    }
   ],
   "source": [
    "trk.groupby(['entry','db_label'])['trk_z0'].mean().reset_index()"
   ]
  },
  {
   "cell_type": "code",
   "execution_count": null,
   "metadata": {},
   "outputs": [],
   "source": []
  },
  {
   "cell_type": "code",
   "execution_count": null,
   "metadata": {},
   "outputs": [],
   "source": []
  },
  {
   "cell_type": "code",
   "execution_count": 32,
   "metadata": {},
   "outputs": [
    {
     "name": "stdout",
     "output_type": "stream",
     "text": [
      "Help on function plot_pv_resolution_z0 in module pv_utils:\n",
      "\n",
      "plot_pv_resolution_z0(z0_gen: <built-in function array>, z0_reco: <built-in function array>, bins: <built-in function array>, ylim: list = [0.0, 0.1], delta: float = 0.1, label: str = 'None') -> dict\n",
      "\n"
     ]
    }
   ],
   "source": [
    "help(plot_pv_resolution_z0)"
   ]
  },
  {
   "cell_type": "code",
   "execution_count": null,
   "metadata": {},
   "outputs": [],
   "source": []
  },
  {
   "cell_type": "code",
   "execution_count": 21,
   "metadata": {},
   "outputs": [
    {
     "name": "stdout",
     "output_type": "stream",
     "text": [
      "Help on function primary_vertex_efficiency in module pv_utils:\n",
      "\n",
      "primary_vertex_efficiency(z0_gen: <built-in function array>, z0_reco: <built-in function array>, delta: float = 0.1, include_errors: bool = True) -> float\n",
      "    Returns the primary vertex reconstruction efficiency, which is dependent on the resolution (delta)\n",
      "\n"
     ]
    }
   ],
   "source": [
    "help(primary_vertex_efficiency)"
   ]
  },
  {
   "cell_type": "markdown",
   "metadata": {},
   "source": [
    "# Tqdm test6\n"
   ]
  },
  {
   "cell_type": "code",
   "execution_count": 73,
   "metadata": {},
   "outputs": [],
   "source": [
    "from tqdm import tqdm"
   ]
  },
  {
   "cell_type": "code",
   "execution_count": 72,
   "metadata": {},
   "outputs": [
    {
     "data": {
      "text/plain": [
       "'4.62.3'"
      ]
     },
     "execution_count": 72,
     "metadata": {},
     "output_type": "execute_result"
    }
   ],
   "source": [
    "tqdm.__version__"
   ]
  },
  {
   "cell_type": "code",
   "execution_count": 74,
   "metadata": {},
   "outputs": [
    {
     "name": "stderr",
     "output_type": "stream",
     "text": [
      "100%|██████████████████████████████████████████████████████████| 9999/9999 [00:02<00:00, 4422.29it/s]\n"
     ]
    },
    {
     "data": {
      "text/html": [
       "<div>\n",
       "<style scoped>\n",
       "    .dataframe tbody tr th:only-of-type {\n",
       "        vertical-align: middle;\n",
       "    }\n",
       "\n",
       "    .dataframe tbody tr th {\n",
       "        vertical-align: top;\n",
       "    }\n",
       "\n",
       "    .dataframe thead th {\n",
       "        text-align: right;\n",
       "    }\n",
       "</style>\n",
       "<table border=\"1\" class=\"dataframe\">\n",
       "  <thead>\n",
       "    <tr style=\"text-align: right;\">\n",
       "      <th></th>\n",
       "      <th>0</th>\n",
       "      <th>1</th>\n",
       "      <th>2</th>\n",
       "      <th>3</th>\n",
       "      <th>4</th>\n",
       "      <th>5</th>\n",
       "      <th>6</th>\n",
       "      <th>7</th>\n",
       "      <th>8</th>\n",
       "      <th>9</th>\n",
       "      <th>...</th>\n",
       "      <th>990</th>\n",
       "      <th>991</th>\n",
       "      <th>992</th>\n",
       "      <th>993</th>\n",
       "      <th>994</th>\n",
       "      <th>995</th>\n",
       "      <th>996</th>\n",
       "      <th>997</th>\n",
       "      <th>998</th>\n",
       "      <th>999</th>\n",
       "    </tr>\n",
       "  </thead>\n",
       "  <tbody>\n",
       "    <tr>\n",
       "      <th>0</th>\n",
       "      <td>6957838507768281</td>\n",
       "      <td>222091642756</td>\n",
       "      <td>104384514331876</td>\n",
       "      <td>4820095693294281</td>\n",
       "      <td>5454152319086289</td>\n",
       "      <td>1204912460998801</td>\n",
       "      <td>6312581213676516</td>\n",
       "      <td>8660837739758884</td>\n",
       "      <td>1168315877364496</td>\n",
       "      <td>5649398249425441</td>\n",
       "      <td>...</td>\n",
       "      <td>1652730641364100</td>\n",
       "      <td>56923282741504</td>\n",
       "      <td>3024440785847056</td>\n",
       "      <td>9511793097810084</td>\n",
       "      <td>1092028532681025</td>\n",
       "      <td>81641977004025</td>\n",
       "      <td>7344941645943225</td>\n",
       "      <td>8691119891582976</td>\n",
       "      <td>1946086816296676</td>\n",
       "      <td>471903240075556</td>\n",
       "    </tr>\n",
       "    <tr>\n",
       "      <th>1</th>\n",
       "      <td>9184264807084900</td>\n",
       "      <td>2256890915508516</td>\n",
       "      <td>9182067451841025</td>\n",
       "      <td>9942559722388225</td>\n",
       "      <td>9753247050243841</td>\n",
       "      <td>1684259192234529</td>\n",
       "      <td>3920234744321284</td>\n",
       "      <td>894196645540641</td>\n",
       "      <td>7700680272390400</td>\n",
       "      <td>2735376609485584</td>\n",
       "      <td>...</td>\n",
       "      <td>2241896077282225</td>\n",
       "      <td>2167319887397289</td>\n",
       "      <td>4779107466325921</td>\n",
       "      <td>724788538078609</td>\n",
       "      <td>9072749571964324</td>\n",
       "      <td>3222565291775449</td>\n",
       "      <td>58738321512649</td>\n",
       "      <td>2954127946572100</td>\n",
       "      <td>1228898622249</td>\n",
       "      <td>610553756496996</td>\n",
       "    </tr>\n",
       "    <tr>\n",
       "      <th>2</th>\n",
       "      <td>3996843252830464</td>\n",
       "      <td>273876649509961</td>\n",
       "      <td>166364517708169</td>\n",
       "      <td>702300350902500</td>\n",
       "      <td>3033990149662224</td>\n",
       "      <td>5260564054824516</td>\n",
       "      <td>4929462214196641</td>\n",
       "      <td>5700357361505521</td>\n",
       "      <td>832578707713600</td>\n",
       "      <td>2955869420296464</td>\n",
       "      <td>...</td>\n",
       "      <td>2313301785465616</td>\n",
       "      <td>6251246710410276</td>\n",
       "      <td>458245991435761</td>\n",
       "      <td>3354490669741225</td>\n",
       "      <td>65591662881424</td>\n",
       "      <td>870741244305625</td>\n",
       "      <td>2996732000032225</td>\n",
       "      <td>6323647491463225</td>\n",
       "      <td>322456398899041</td>\n",
       "      <td>640835352455076</td>\n",
       "    </tr>\n",
       "    <tr>\n",
       "      <th>3</th>\n",
       "      <td>8095822558750521</td>\n",
       "      <td>410311207699600</td>\n",
       "      <td>485166966568036</td>\n",
       "      <td>97025967230976</td>\n",
       "      <td>740180419950049</td>\n",
       "      <td>359895995355625</td>\n",
       "      <td>814426062498801</td>\n",
       "      <td>2613886894906596</td>\n",
       "      <td>3690017228142144</td>\n",
       "      <td>644514239671225</td>\n",
       "      <td>...</td>\n",
       "      <td>375297243308100</td>\n",
       "      <td>4427314892401041</td>\n",
       "      <td>9798442798823056</td>\n",
       "      <td>7607073545294521</td>\n",
       "      <td>71511952512676</td>\n",
       "      <td>8166385725955249</td>\n",
       "      <td>1964643747787204</td>\n",
       "      <td>3847908729132196</td>\n",
       "      <td>5568376172131809</td>\n",
       "      <td>81113277576681</td>\n",
       "    </tr>\n",
       "    <tr>\n",
       "      <th>4</th>\n",
       "      <td>203353902968841</td>\n",
       "      <td>86790408602769</td>\n",
       "      <td>157361243785641</td>\n",
       "      <td>16116796372329</td>\n",
       "      <td>3565076909310225</td>\n",
       "      <td>639965884217209</td>\n",
       "      <td>6076085263765504</td>\n",
       "      <td>3768959983124736</td>\n",
       "      <td>2538516419550864</td>\n",
       "      <td>5079835539891225</td>\n",
       "      <td>...</td>\n",
       "      <td>2654769256949209</td>\n",
       "      <td>756736718287104</td>\n",
       "      <td>7256153199865249</td>\n",
       "      <td>6048589598837041</td>\n",
       "      <td>5225580967712400</td>\n",
       "      <td>2108621603272900</td>\n",
       "      <td>9111132793680516</td>\n",
       "      <td>7978970631607056</td>\n",
       "      <td>148823237671969</td>\n",
       "      <td>4862669811259716</td>\n",
       "    </tr>\n",
       "    <tr>\n",
       "      <th>...</th>\n",
       "      <td>...</td>\n",
       "      <td>...</td>\n",
       "      <td>...</td>\n",
       "      <td>...</td>\n",
       "      <td>...</td>\n",
       "      <td>...</td>\n",
       "      <td>...</td>\n",
       "      <td>...</td>\n",
       "      <td>...</td>\n",
       "      <td>...</td>\n",
       "      <td>...</td>\n",
       "      <td>...</td>\n",
       "      <td>...</td>\n",
       "      <td>...</td>\n",
       "      <td>...</td>\n",
       "      <td>...</td>\n",
       "      <td>...</td>\n",
       "      <td>...</td>\n",
       "      <td>...</td>\n",
       "      <td>...</td>\n",
       "      <td>...</td>\n",
       "    </tr>\n",
       "    <tr>\n",
       "      <th>9995</th>\n",
       "      <td>7538604905104</td>\n",
       "      <td>7045360877475904</td>\n",
       "      <td>1106311882445289</td>\n",
       "      <td>1373465094884100</td>\n",
       "      <td>2164269594367521</td>\n",
       "      <td>4648068831502009</td>\n",
       "      <td>1594338696747241</td>\n",
       "      <td>234231913701769</td>\n",
       "      <td>1570971451456</td>\n",
       "      <td>119521349186724</td>\n",
       "      <td>...</td>\n",
       "      <td>6683507717914729</td>\n",
       "      <td>6575149086067849</td>\n",
       "      <td>1200161560649104</td>\n",
       "      <td>2933937464583889</td>\n",
       "      <td>2589999226441225</td>\n",
       "      <td>969115314800689</td>\n",
       "      <td>3195719024937481</td>\n",
       "      <td>9108509381897121</td>\n",
       "      <td>2929060884398401</td>\n",
       "      <td>1455507194232100</td>\n",
       "    </tr>\n",
       "    <tr>\n",
       "      <th>9996</th>\n",
       "      <td>5789718992581209</td>\n",
       "      <td>339609796535025</td>\n",
       "      <td>3545481028899364</td>\n",
       "      <td>85202997919209</td>\n",
       "      <td>4650149545920025</td>\n",
       "      <td>993699465954001</td>\n",
       "      <td>1299916730792164</td>\n",
       "      <td>7193599830968464</td>\n",
       "      <td>8980766472812836</td>\n",
       "      <td>765579980221456</td>\n",
       "      <td>...</td>\n",
       "      <td>183213414853225</td>\n",
       "      <td>2134528427715849</td>\n",
       "      <td>7757455760016400</td>\n",
       "      <td>1900040674375936</td>\n",
       "      <td>7051201560073489</td>\n",
       "      <td>9880223027274721</td>\n",
       "      <td>12293277155329</td>\n",
       "      <td>7992012058986916</td>\n",
       "      <td>5588407206922500</td>\n",
       "      <td>1227304012344201</td>\n",
       "    </tr>\n",
       "    <tr>\n",
       "      <th>9997</th>\n",
       "      <td>7668100682206864</td>\n",
       "      <td>1945942035285889</td>\n",
       "      <td>1614188918380900</td>\n",
       "      <td>1811990353550400</td>\n",
       "      <td>8622131066195761</td>\n",
       "      <td>840282519091129</td>\n",
       "      <td>236634135428889</td>\n",
       "      <td>7078226740311204</td>\n",
       "      <td>7849483870819969</td>\n",
       "      <td>4672931279580964</td>\n",
       "      <td>...</td>\n",
       "      <td>9828197509954756</td>\n",
       "      <td>1208434604402116</td>\n",
       "      <td>892157041524004</td>\n",
       "      <td>882890953137361</td>\n",
       "      <td>9942031054350756</td>\n",
       "      <td>434220868693089</td>\n",
       "      <td>1838375472390961</td>\n",
       "      <td>1100806691057649</td>\n",
       "      <td>679478792110596</td>\n",
       "      <td>3042792185480100</td>\n",
       "    </tr>\n",
       "    <tr>\n",
       "      <th>9998</th>\n",
       "      <td>1437664384737025</td>\n",
       "      <td>4256582240430144</td>\n",
       "      <td>3384578920453956</td>\n",
       "      <td>4478861528944209</td>\n",
       "      <td>841486284274689</td>\n",
       "      <td>6822188419971600</td>\n",
       "      <td>3647354670848889</td>\n",
       "      <td>564640723108900</td>\n",
       "      <td>3816867619324809</td>\n",
       "      <td>5206273024722064</td>\n",
       "      <td>...</td>\n",
       "      <td>9738661132469025</td>\n",
       "      <td>1355707466124489</td>\n",
       "      <td>2202091334190916</td>\n",
       "      <td>18911626562500</td>\n",
       "      <td>6281222194322244</td>\n",
       "      <td>2181095391435601</td>\n",
       "      <td>685174861464025</td>\n",
       "      <td>1838067462090721</td>\n",
       "      <td>749644303214689</td>\n",
       "      <td>8318966393223424</td>\n",
       "    </tr>\n",
       "    <tr>\n",
       "      <th>9999</th>\n",
       "      <td>874793723455744</td>\n",
       "      <td>933831517643649</td>\n",
       "      <td>477172481341284</td>\n",
       "      <td>5736463983344704</td>\n",
       "      <td>7696900841112289</td>\n",
       "      <td>6278006472112384</td>\n",
       "      <td>1554661576064809</td>\n",
       "      <td>482952722704</td>\n",
       "      <td>25577749928025</td>\n",
       "      <td>4229409059684649</td>\n",
       "      <td>...</td>\n",
       "      <td>2962544888440225</td>\n",
       "      <td>9377974753923136</td>\n",
       "      <td>6090045409020049</td>\n",
       "      <td>2655182293028521</td>\n",
       "      <td>324656360077729</td>\n",
       "      <td>164667820631616</td>\n",
       "      <td>2251278181476</td>\n",
       "      <td>2539723252374889</td>\n",
       "      <td>494049753472900</td>\n",
       "      <td>1013159531247889</td>\n",
       "    </tr>\n",
       "  </tbody>\n",
       "</table>\n",
       "<p>10000 rows × 1000 columns</p>\n",
       "</div>"
      ],
      "text/plain": [
       "                   0                 1                 2                 3    \\\n",
       "0     6957838507768281      222091642756   104384514331876  4820095693294281   \n",
       "1     9184264807084900  2256890915508516  9182067451841025  9942559722388225   \n",
       "2     3996843252830464   273876649509961   166364517708169   702300350902500   \n",
       "3     8095822558750521   410311207699600   485166966568036    97025967230976   \n",
       "4      203353902968841    86790408602769   157361243785641    16116796372329   \n",
       "...                ...               ...               ...               ...   \n",
       "9995     7538604905104  7045360877475904  1106311882445289  1373465094884100   \n",
       "9996  5789718992581209   339609796535025  3545481028899364    85202997919209   \n",
       "9997  7668100682206864  1945942035285889  1614188918380900  1811990353550400   \n",
       "9998  1437664384737025  4256582240430144  3384578920453956  4478861528944209   \n",
       "9999   874793723455744   933831517643649   477172481341284  5736463983344704   \n",
       "\n",
       "                   4                 5                 6                 7    \\\n",
       "0     5454152319086289  1204912460998801  6312581213676516  8660837739758884   \n",
       "1     9753247050243841  1684259192234529  3920234744321284   894196645540641   \n",
       "2     3033990149662224  5260564054824516  4929462214196641  5700357361505521   \n",
       "3      740180419950049   359895995355625   814426062498801  2613886894906596   \n",
       "4     3565076909310225   639965884217209  6076085263765504  3768959983124736   \n",
       "...                ...               ...               ...               ...   \n",
       "9995  2164269594367521  4648068831502009  1594338696747241   234231913701769   \n",
       "9996  4650149545920025   993699465954001  1299916730792164  7193599830968464   \n",
       "9997  8622131066195761   840282519091129   236634135428889  7078226740311204   \n",
       "9998   841486284274689  6822188419971600  3647354670848889   564640723108900   \n",
       "9999  7696900841112289  6278006472112384  1554661576064809      482952722704   \n",
       "\n",
       "                   8                 9    ...               990  \\\n",
       "0     1168315877364496  5649398249425441  ...  1652730641364100   \n",
       "1     7700680272390400  2735376609485584  ...  2241896077282225   \n",
       "2      832578707713600  2955869420296464  ...  2313301785465616   \n",
       "3     3690017228142144   644514239671225  ...   375297243308100   \n",
       "4     2538516419550864  5079835539891225  ...  2654769256949209   \n",
       "...                ...               ...  ...               ...   \n",
       "9995     1570971451456   119521349186724  ...  6683507717914729   \n",
       "9996  8980766472812836   765579980221456  ...   183213414853225   \n",
       "9997  7849483870819969  4672931279580964  ...  9828197509954756   \n",
       "9998  3816867619324809  5206273024722064  ...  9738661132469025   \n",
       "9999    25577749928025  4229409059684649  ...  2962544888440225   \n",
       "\n",
       "                   991               992               993               994  \\\n",
       "0       56923282741504  3024440785847056  9511793097810084  1092028532681025   \n",
       "1     2167319887397289  4779107466325921   724788538078609  9072749571964324   \n",
       "2     6251246710410276   458245991435761  3354490669741225    65591662881424   \n",
       "3     4427314892401041  9798442798823056  7607073545294521    71511952512676   \n",
       "4      756736718287104  7256153199865249  6048589598837041  5225580967712400   \n",
       "...                ...               ...               ...               ...   \n",
       "9995  6575149086067849  1200161560649104  2933937464583889  2589999226441225   \n",
       "9996  2134528427715849  7757455760016400  1900040674375936  7051201560073489   \n",
       "9997  1208434604402116   892157041524004   882890953137361  9942031054350756   \n",
       "9998  1355707466124489  2202091334190916    18911626562500  6281222194322244   \n",
       "9999  9377974753923136  6090045409020049  2655182293028521   324656360077729   \n",
       "\n",
       "                   995               996               997               998  \\\n",
       "0       81641977004025  7344941645943225  8691119891582976  1946086816296676   \n",
       "1     3222565291775449    58738321512649  2954127946572100     1228898622249   \n",
       "2      870741244305625  2996732000032225  6323647491463225   322456398899041   \n",
       "3     8166385725955249  1964643747787204  3847908729132196  5568376172131809   \n",
       "4     2108621603272900  9111132793680516  7978970631607056   148823237671969   \n",
       "...                ...               ...               ...               ...   \n",
       "9995   969115314800689  3195719024937481  9108509381897121  2929060884398401   \n",
       "9996  9880223027274721    12293277155329  7992012058986916  5588407206922500   \n",
       "9997   434220868693089  1838375472390961  1100806691057649   679478792110596   \n",
       "9998  2181095391435601   685174861464025  1838067462090721   749644303214689   \n",
       "9999   164667820631616     2251278181476  2539723252374889   494049753472900   \n",
       "\n",
       "                   999  \n",
       "0      471903240075556  \n",
       "1      610553756496996  \n",
       "2      640835352455076  \n",
       "3       81113277576681  \n",
       "4     4862669811259716  \n",
       "...                ...  \n",
       "9995  1455507194232100  \n",
       "9996  1227304012344201  \n",
       "9997  3042792185480100  \n",
       "9998  8318966393223424  \n",
       "9999  1013159531247889  \n",
       "\n",
       "[10000 rows x 1000 columns]"
      ]
     },
     "execution_count": 74,
     "metadata": {},
     "output_type": "execute_result"
    }
   ],
   "source": [
    "tqdm.pandas()\n",
    "\n",
    "df = pd.DataFrame(np.random.randint(0, int(1e8), (10000, 1000)))\n",
    "# Now you can use `progress_apply` instead of `apply`\n",
    "df.groupby(0).progress_apply(lambda x: x**2)"
   ]
  },
  {
   "cell_type": "code",
   "execution_count": 75,
   "metadata": {},
   "outputs": [],
   "source": [
    "def run_new_dbscan_prog(\n",
    "    df: pd.DataFrame,\n",
    "    z0_column: str = \"trk_z0\",\n",
    "    pt_column: str = \"trk_pt\",\n",
    "    eps: float = 0.08,\n",
    "    minPts: int = 2,\n",
    ") -> pd.DataFrame:\n",
    "\n",
    "    pv_dbscan = df.groupby(level=0).progress_apply(\n",
    "        lambda x: pv_dbscan_event(x[z0_column], x[pt_column], eps, minPts)\n",
    "    )\n",
    "    \n",
    "    return pv_dbscan.values \n",
    "\n"
   ]
  },
  {
   "cell_type": "code",
   "execution_count": 76,
   "metadata": {},
   "outputs": [
    {
     "name": "stderr",
     "output_type": "stream",
     "text": [
      "100%|█████████████████████████████████████████████████████████| 25000/25000 [01:47<00:00, 232.05it/s]\n"
     ]
    },
    {
     "data": {
      "text/plain": [
       "array([0, 0, 1, ..., 0, 0, 0])"
      ]
     },
     "execution_count": 76,
     "metadata": {},
     "output_type": "execute_result"
    }
   ],
   "source": [
    "run_new_dbscan_prog(trk)"
   ]
  },
  {
   "cell_type": "code",
   "execution_count": 77,
   "metadata": {},
   "outputs": [],
   "source": [
    "from pv_utils import run_pv_dbscan"
   ]
  },
  {
   "cell_type": "code",
   "execution_count": 78,
   "metadata": {},
   "outputs": [
    {
     "name": "stderr",
     "output_type": "stream",
     "text": [
      " 70%|████████████████████████████████████████                 | 17558/25000 [01:08<00:29, 255.94it/s]\n"
     ]
    },
    {
     "ename": "KeyboardInterrupt",
     "evalue": "",
     "output_type": "error",
     "traceback": [
      "\u001b[0;31m---------------------------------------------------------------------------\u001b[0m",
      "\u001b[0;31mKeyboardInterrupt\u001b[0m                         Traceback (most recent call last)",
      "\u001b[0;32m/tmp/ipykernel_30551/300506831.py\u001b[0m in \u001b[0;36m<module>\u001b[0;34m\u001b[0m\n\u001b[0;32m----> 1\u001b[0;31m \u001b[0mrun_pv_dbscan\u001b[0m\u001b[0;34m(\u001b[0m\u001b[0mtrk\u001b[0m\u001b[0;34m)\u001b[0m\u001b[0;34m\u001b[0m\u001b[0;34m\u001b[0m\u001b[0m\n\u001b[0m",
      "\u001b[0;32m~/db-clustering/notebooks/pv_utils.py\u001b[0m in \u001b[0;36mrun_pv_dbscan\u001b[0;34m(df, z0_column, pt_column, eps, minPts)\u001b[0m\n\u001b[1;32m    310\u001b[0m ) -> pd.DataFrame:\n\u001b[1;32m    311\u001b[0m \u001b[0;34m\u001b[0m\u001b[0m\n\u001b[0;32m--> 312\u001b[0;31m     pv_dbscan = df.groupby(level=0).progress_apply(\n\u001b[0m\u001b[1;32m    313\u001b[0m         \u001b[0;32mlambda\u001b[0m \u001b[0mx\u001b[0m\u001b[0;34m:\u001b[0m \u001b[0mpv_dbscan_event\u001b[0m\u001b[0;34m(\u001b[0m\u001b[0mx\u001b[0m\u001b[0;34m[\u001b[0m\u001b[0mz0_column\u001b[0m\u001b[0;34m]\u001b[0m\u001b[0;34m,\u001b[0m \u001b[0mx\u001b[0m\u001b[0;34m[\u001b[0m\u001b[0mpt_column\u001b[0m\u001b[0;34m]\u001b[0m\u001b[0;34m,\u001b[0m \u001b[0meps\u001b[0m\u001b[0;34m,\u001b[0m \u001b[0mminPts\u001b[0m\u001b[0;34m)\u001b[0m\u001b[0;34m\u001b[0m\u001b[0;34m\u001b[0m\u001b[0m\n\u001b[1;32m    314\u001b[0m     )\n",
      "\u001b[0;32m/mnt/storage/lborgna/condaenv/db-clustering/lib/python3.8/site-packages/tqdm/std.py\u001b[0m in \u001b[0;36minner\u001b[0;34m(df, func, *args, **kwargs)\u001b[0m\n\u001b[1;32m    812\u001b[0m                 \u001b[0;31m# on the df using our wrapper (which provides bar updating)\u001b[0m\u001b[0;34m\u001b[0m\u001b[0;34m\u001b[0m\u001b[0;34m\u001b[0m\u001b[0m\n\u001b[1;32m    813\u001b[0m                 \u001b[0;32mtry\u001b[0m\u001b[0;34m:\u001b[0m\u001b[0;34m\u001b[0m\u001b[0;34m\u001b[0m\u001b[0m\n\u001b[0;32m--> 814\u001b[0;31m                     \u001b[0;32mreturn\u001b[0m \u001b[0mgetattr\u001b[0m\u001b[0;34m(\u001b[0m\u001b[0mdf\u001b[0m\u001b[0;34m,\u001b[0m \u001b[0mdf_function\u001b[0m\u001b[0;34m)\u001b[0m\u001b[0;34m(\u001b[0m\u001b[0mwrapper\u001b[0m\u001b[0;34m,\u001b[0m \u001b[0;34m**\u001b[0m\u001b[0mkwargs\u001b[0m\u001b[0;34m)\u001b[0m\u001b[0;34m\u001b[0m\u001b[0;34m\u001b[0m\u001b[0m\n\u001b[0m\u001b[1;32m    815\u001b[0m                 \u001b[0;32mfinally\u001b[0m\u001b[0;34m:\u001b[0m\u001b[0;34m\u001b[0m\u001b[0;34m\u001b[0m\u001b[0m\n\u001b[1;32m    816\u001b[0m                     \u001b[0mt\u001b[0m\u001b[0;34m.\u001b[0m\u001b[0mclose\u001b[0m\u001b[0;34m(\u001b[0m\u001b[0;34m)\u001b[0m\u001b[0;34m\u001b[0m\u001b[0;34m\u001b[0m\u001b[0m\n",
      "\u001b[0;32m/mnt/storage/lborgna/condaenv/db-clustering/lib/python3.8/site-packages/pandas/core/groupby/groupby.py\u001b[0m in \u001b[0;36mapply\u001b[0;34m(self, func, *args, **kwargs)\u001b[0m\n\u001b[1;32m   1273\u001b[0m         \u001b[0;32mwith\u001b[0m \u001b[0moption_context\u001b[0m\u001b[0;34m(\u001b[0m\u001b[0;34m\"mode.chained_assignment\"\u001b[0m\u001b[0;34m,\u001b[0m \u001b[0;32mNone\u001b[0m\u001b[0;34m)\u001b[0m\u001b[0;34m:\u001b[0m\u001b[0;34m\u001b[0m\u001b[0;34m\u001b[0m\u001b[0m\n\u001b[1;32m   1274\u001b[0m             \u001b[0;32mtry\u001b[0m\u001b[0;34m:\u001b[0m\u001b[0;34m\u001b[0m\u001b[0;34m\u001b[0m\u001b[0m\n\u001b[0;32m-> 1275\u001b[0;31m                 \u001b[0mresult\u001b[0m \u001b[0;34m=\u001b[0m \u001b[0mself\u001b[0m\u001b[0;34m.\u001b[0m\u001b[0m_python_apply_general\u001b[0m\u001b[0;34m(\u001b[0m\u001b[0mf\u001b[0m\u001b[0;34m,\u001b[0m \u001b[0mself\u001b[0m\u001b[0;34m.\u001b[0m\u001b[0m_selected_obj\u001b[0m\u001b[0;34m)\u001b[0m\u001b[0;34m\u001b[0m\u001b[0;34m\u001b[0m\u001b[0m\n\u001b[0m\u001b[1;32m   1276\u001b[0m             \u001b[0;32mexcept\u001b[0m \u001b[0mTypeError\u001b[0m\u001b[0;34m:\u001b[0m\u001b[0;34m\u001b[0m\u001b[0;34m\u001b[0m\u001b[0m\n\u001b[1;32m   1277\u001b[0m                 \u001b[0;31m# gh-20949\u001b[0m\u001b[0;34m\u001b[0m\u001b[0;34m\u001b[0m\u001b[0;34m\u001b[0m\u001b[0m\n",
      "\u001b[0;32m/mnt/storage/lborgna/condaenv/db-clustering/lib/python3.8/site-packages/pandas/core/groupby/groupby.py\u001b[0m in \u001b[0;36m_python_apply_general\u001b[0;34m(self, f, data)\u001b[0m\n\u001b[1;32m   1307\u001b[0m             \u001b[0mdata\u001b[0m \u001b[0mafter\u001b[0m \u001b[0mapplying\u001b[0m \u001b[0mf\u001b[0m\u001b[0;34m\u001b[0m\u001b[0;34m\u001b[0m\u001b[0m\n\u001b[1;32m   1308\u001b[0m         \"\"\"\n\u001b[0;32m-> 1309\u001b[0;31m         \u001b[0mkeys\u001b[0m\u001b[0;34m,\u001b[0m \u001b[0mvalues\u001b[0m\u001b[0;34m,\u001b[0m \u001b[0mmutated\u001b[0m \u001b[0;34m=\u001b[0m \u001b[0mself\u001b[0m\u001b[0;34m.\u001b[0m\u001b[0mgrouper\u001b[0m\u001b[0;34m.\u001b[0m\u001b[0mapply\u001b[0m\u001b[0;34m(\u001b[0m\u001b[0mf\u001b[0m\u001b[0;34m,\u001b[0m \u001b[0mdata\u001b[0m\u001b[0;34m,\u001b[0m \u001b[0mself\u001b[0m\u001b[0;34m.\u001b[0m\u001b[0maxis\u001b[0m\u001b[0;34m)\u001b[0m\u001b[0;34m\u001b[0m\u001b[0;34m\u001b[0m\u001b[0m\n\u001b[0m\u001b[1;32m   1310\u001b[0m \u001b[0;34m\u001b[0m\u001b[0m\n\u001b[1;32m   1311\u001b[0m         return self._wrap_applied_output(\n",
      "\u001b[0;32m/mnt/storage/lborgna/condaenv/db-clustering/lib/python3.8/site-packages/pandas/core/groupby/ops.py\u001b[0m in \u001b[0;36mapply\u001b[0;34m(self, f, data, axis)\u001b[0m\n\u001b[1;32m    839\u001b[0m             \u001b[0;31m# group might be modified\u001b[0m\u001b[0;34m\u001b[0m\u001b[0;34m\u001b[0m\u001b[0;34m\u001b[0m\u001b[0m\n\u001b[1;32m    840\u001b[0m             \u001b[0mgroup_axes\u001b[0m \u001b[0;34m=\u001b[0m \u001b[0mgroup\u001b[0m\u001b[0;34m.\u001b[0m\u001b[0maxes\u001b[0m\u001b[0;34m\u001b[0m\u001b[0;34m\u001b[0m\u001b[0m\n\u001b[0;32m--> 841\u001b[0;31m             \u001b[0mres\u001b[0m \u001b[0;34m=\u001b[0m \u001b[0mf\u001b[0m\u001b[0;34m(\u001b[0m\u001b[0mgroup\u001b[0m\u001b[0;34m)\u001b[0m\u001b[0;34m\u001b[0m\u001b[0;34m\u001b[0m\u001b[0m\n\u001b[0m\u001b[1;32m    842\u001b[0m             \u001b[0;32mif\u001b[0m \u001b[0;32mnot\u001b[0m \u001b[0m_is_indexed_like\u001b[0m\u001b[0;34m(\u001b[0m\u001b[0mres\u001b[0m\u001b[0;34m,\u001b[0m \u001b[0mgroup_axes\u001b[0m\u001b[0;34m,\u001b[0m \u001b[0maxis\u001b[0m\u001b[0;34m)\u001b[0m\u001b[0;34m:\u001b[0m\u001b[0;34m\u001b[0m\u001b[0;34m\u001b[0m\u001b[0m\n\u001b[1;32m    843\u001b[0m                 \u001b[0mmutated\u001b[0m \u001b[0;34m=\u001b[0m \u001b[0;32mTrue\u001b[0m\u001b[0;34m\u001b[0m\u001b[0;34m\u001b[0m\u001b[0m\n",
      "\u001b[0;32m/mnt/storage/lborgna/condaenv/db-clustering/lib/python3.8/site-packages/tqdm/std.py\u001b[0m in \u001b[0;36mwrapper\u001b[0;34m(*args, **kwargs)\u001b[0m\n\u001b[1;32m    807\u001b[0m                     \u001b[0;31m# take a fast or slow code path; so stop when t.total==t.n\u001b[0m\u001b[0;34m\u001b[0m\u001b[0;34m\u001b[0m\u001b[0;34m\u001b[0m\u001b[0m\n\u001b[1;32m    808\u001b[0m                     \u001b[0mt\u001b[0m\u001b[0;34m.\u001b[0m\u001b[0mupdate\u001b[0m\u001b[0;34m(\u001b[0m\u001b[0mn\u001b[0m\u001b[0;34m=\u001b[0m\u001b[0;36m1\u001b[0m \u001b[0;32mif\u001b[0m \u001b[0;32mnot\u001b[0m \u001b[0mt\u001b[0m\u001b[0;34m.\u001b[0m\u001b[0mtotal\u001b[0m \u001b[0;32mor\u001b[0m \u001b[0mt\u001b[0m\u001b[0;34m.\u001b[0m\u001b[0mn\u001b[0m \u001b[0;34m<\u001b[0m \u001b[0mt\u001b[0m\u001b[0;34m.\u001b[0m\u001b[0mtotal\u001b[0m \u001b[0;32melse\u001b[0m \u001b[0;36m0\u001b[0m\u001b[0;34m)\u001b[0m\u001b[0;34m\u001b[0m\u001b[0;34m\u001b[0m\u001b[0m\n\u001b[0;32m--> 809\u001b[0;31m                     \u001b[0;32mreturn\u001b[0m \u001b[0mfunc\u001b[0m\u001b[0;34m(\u001b[0m\u001b[0;34m*\u001b[0m\u001b[0margs\u001b[0m\u001b[0;34m,\u001b[0m \u001b[0;34m**\u001b[0m\u001b[0mkwargs\u001b[0m\u001b[0;34m)\u001b[0m\u001b[0;34m\u001b[0m\u001b[0;34m\u001b[0m\u001b[0m\n\u001b[0m\u001b[1;32m    810\u001b[0m \u001b[0;34m\u001b[0m\u001b[0m\n\u001b[1;32m    811\u001b[0m                 \u001b[0;31m# Apply the provided function (in **kwargs)\u001b[0m\u001b[0;34m\u001b[0m\u001b[0;34m\u001b[0m\u001b[0;34m\u001b[0m\u001b[0m\n",
      "\u001b[0;32m~/db-clustering/notebooks/pv_utils.py\u001b[0m in \u001b[0;36m<lambda>\u001b[0;34m(x)\u001b[0m\n\u001b[1;32m    311\u001b[0m \u001b[0;34m\u001b[0m\u001b[0m\n\u001b[1;32m    312\u001b[0m     pv_dbscan = df.groupby(level=0).progress_apply(\n\u001b[0;32m--> 313\u001b[0;31m         \u001b[0;32mlambda\u001b[0m \u001b[0mx\u001b[0m\u001b[0;34m:\u001b[0m \u001b[0mpv_dbscan_event\u001b[0m\u001b[0;34m(\u001b[0m\u001b[0mx\u001b[0m\u001b[0;34m[\u001b[0m\u001b[0mz0_column\u001b[0m\u001b[0;34m]\u001b[0m\u001b[0;34m,\u001b[0m \u001b[0mx\u001b[0m\u001b[0;34m[\u001b[0m\u001b[0mpt_column\u001b[0m\u001b[0;34m]\u001b[0m\u001b[0;34m,\u001b[0m \u001b[0meps\u001b[0m\u001b[0;34m,\u001b[0m \u001b[0mminPts\u001b[0m\u001b[0;34m)\u001b[0m\u001b[0;34m\u001b[0m\u001b[0;34m\u001b[0m\u001b[0m\n\u001b[0m\u001b[1;32m    314\u001b[0m     )\n\u001b[1;32m    315\u001b[0m \u001b[0;34m\u001b[0m\u001b[0m\n",
      "\u001b[0;32m~/db-clustering/notebooks/pv_utils.py\u001b[0m in \u001b[0;36mpv_dbscan_event\u001b[0;34m(z0, pt, eps, minPts)\u001b[0m\n\u001b[1;32m    283\u001b[0m     \u001b[0m_df\u001b[0m\u001b[0;34m[\u001b[0m\u001b[0;34m\"pt\"\u001b[0m\u001b[0;34m]\u001b[0m \u001b[0;34m=\u001b[0m \u001b[0mpt\u001b[0m\u001b[0;34m\u001b[0m\u001b[0;34m\u001b[0m\u001b[0m\n\u001b[1;32m    284\u001b[0m \u001b[0;34m\u001b[0m\u001b[0m\n\u001b[0;32m--> 285\u001b[0;31m     db_clustering = DBSCAN(eps=eps, min_samples=minPts).fit(\n\u001b[0m\u001b[1;32m    286\u001b[0m         \u001b[0m_df\u001b[0m\u001b[0;34m[\u001b[0m\u001b[0;34m\"z0\"\u001b[0m\u001b[0;34m]\u001b[0m\u001b[0;34m.\u001b[0m\u001b[0mvalues\u001b[0m\u001b[0;34m.\u001b[0m\u001b[0mreshape\u001b[0m\u001b[0;34m(\u001b[0m\u001b[0;34m-\u001b[0m\u001b[0;36m1\u001b[0m\u001b[0;34m,\u001b[0m \u001b[0;36m1\u001b[0m\u001b[0;34m)\u001b[0m\u001b[0;34m\u001b[0m\u001b[0;34m\u001b[0m\u001b[0m\n\u001b[1;32m    287\u001b[0m     )\n",
      "\u001b[0;32m/mnt/storage/lborgna/condaenv/db-clustering/lib/python3.8/site-packages/sklearn/cluster/_dbscan.py\u001b[0m in \u001b[0;36mfit\u001b[0;34m(self, X, y, sample_weight)\u001b[0m\n\u001b[1;32m    373\u001b[0m         \u001b[0mneighbors_model\u001b[0m\u001b[0;34m.\u001b[0m\u001b[0mfit\u001b[0m\u001b[0;34m(\u001b[0m\u001b[0mX\u001b[0m\u001b[0;34m)\u001b[0m\u001b[0;34m\u001b[0m\u001b[0;34m\u001b[0m\u001b[0m\n\u001b[1;32m    374\u001b[0m         \u001b[0;31m# This has worst case O(n^2) memory complexity\u001b[0m\u001b[0;34m\u001b[0m\u001b[0;34m\u001b[0m\u001b[0;34m\u001b[0m\u001b[0m\n\u001b[0;32m--> 375\u001b[0;31m         \u001b[0mneighborhoods\u001b[0m \u001b[0;34m=\u001b[0m \u001b[0mneighbors_model\u001b[0m\u001b[0;34m.\u001b[0m\u001b[0mradius_neighbors\u001b[0m\u001b[0;34m(\u001b[0m\u001b[0mX\u001b[0m\u001b[0;34m,\u001b[0m \u001b[0mreturn_distance\u001b[0m\u001b[0;34m=\u001b[0m\u001b[0;32mFalse\u001b[0m\u001b[0;34m)\u001b[0m\u001b[0;34m\u001b[0m\u001b[0;34m\u001b[0m\u001b[0m\n\u001b[0m\u001b[1;32m    376\u001b[0m \u001b[0;34m\u001b[0m\u001b[0m\n\u001b[1;32m    377\u001b[0m         \u001b[0;32mif\u001b[0m \u001b[0msample_weight\u001b[0m \u001b[0;32mis\u001b[0m \u001b[0;32mNone\u001b[0m\u001b[0;34m:\u001b[0m\u001b[0;34m\u001b[0m\u001b[0;34m\u001b[0m\u001b[0m\n",
      "\u001b[0;32m/mnt/storage/lborgna/condaenv/db-clustering/lib/python3.8/site-packages/sklearn/neighbors/_base.py\u001b[0m in \u001b[0;36mradius_neighbors\u001b[0;34m(self, X, radius, return_distance, sort_results)\u001b[0m\n\u001b[1;32m   1109\u001b[0m                 \u001b[0mparallel_kwargs\u001b[0m \u001b[0;34m=\u001b[0m \u001b[0;34m{\u001b[0m\u001b[0;34m\"prefer\"\u001b[0m\u001b[0;34m:\u001b[0m \u001b[0;34m\"threads\"\u001b[0m\u001b[0;34m}\u001b[0m\u001b[0;34m\u001b[0m\u001b[0;34m\u001b[0m\u001b[0m\n\u001b[1;32m   1110\u001b[0m \u001b[0;34m\u001b[0m\u001b[0m\n\u001b[0;32m-> 1111\u001b[0;31m             chunked_results = Parallel(n_jobs, **parallel_kwargs)(\n\u001b[0m\u001b[1;32m   1112\u001b[0m                 delayed_query(\n\u001b[1;32m   1113\u001b[0m                     \u001b[0mself\u001b[0m\u001b[0;34m.\u001b[0m\u001b[0m_tree\u001b[0m\u001b[0;34m,\u001b[0m \u001b[0mX\u001b[0m\u001b[0;34m[\u001b[0m\u001b[0ms\u001b[0m\u001b[0;34m]\u001b[0m\u001b[0;34m,\u001b[0m \u001b[0mradius\u001b[0m\u001b[0;34m,\u001b[0m \u001b[0mreturn_distance\u001b[0m\u001b[0;34m,\u001b[0m \u001b[0msort_results\u001b[0m\u001b[0;34m=\u001b[0m\u001b[0msort_results\u001b[0m\u001b[0;34m\u001b[0m\u001b[0;34m\u001b[0m\u001b[0m\n",
      "\u001b[0;32m/mnt/storage/lborgna/condaenv/db-clustering/lib/python3.8/site-packages/joblib/parallel.py\u001b[0m in \u001b[0;36m__call__\u001b[0;34m(self, iterable)\u001b[0m\n\u001b[1;32m   1041\u001b[0m             \u001b[0;31m# remaining jobs.\u001b[0m\u001b[0;34m\u001b[0m\u001b[0;34m\u001b[0m\u001b[0;34m\u001b[0m\u001b[0m\n\u001b[1;32m   1042\u001b[0m             \u001b[0mself\u001b[0m\u001b[0;34m.\u001b[0m\u001b[0m_iterating\u001b[0m \u001b[0;34m=\u001b[0m \u001b[0;32mFalse\u001b[0m\u001b[0;34m\u001b[0m\u001b[0;34m\u001b[0m\u001b[0m\n\u001b[0;32m-> 1043\u001b[0;31m             \u001b[0;32mif\u001b[0m \u001b[0mself\u001b[0m\u001b[0;34m.\u001b[0m\u001b[0mdispatch_one_batch\u001b[0m\u001b[0;34m(\u001b[0m\u001b[0miterator\u001b[0m\u001b[0;34m)\u001b[0m\u001b[0;34m:\u001b[0m\u001b[0;34m\u001b[0m\u001b[0;34m\u001b[0m\u001b[0m\n\u001b[0m\u001b[1;32m   1044\u001b[0m                 \u001b[0mself\u001b[0m\u001b[0;34m.\u001b[0m\u001b[0m_iterating\u001b[0m \u001b[0;34m=\u001b[0m \u001b[0mself\u001b[0m\u001b[0;34m.\u001b[0m\u001b[0m_original_iterator\u001b[0m \u001b[0;32mis\u001b[0m \u001b[0;32mnot\u001b[0m \u001b[0;32mNone\u001b[0m\u001b[0;34m\u001b[0m\u001b[0;34m\u001b[0m\u001b[0m\n\u001b[1;32m   1045\u001b[0m \u001b[0;34m\u001b[0m\u001b[0m\n",
      "\u001b[0;32m/mnt/storage/lborgna/condaenv/db-clustering/lib/python3.8/site-packages/joblib/parallel.py\u001b[0m in \u001b[0;36mdispatch_one_batch\u001b[0;34m(self, iterator)\u001b[0m\n\u001b[1;32m    859\u001b[0m                 \u001b[0;32mreturn\u001b[0m \u001b[0;32mFalse\u001b[0m\u001b[0;34m\u001b[0m\u001b[0;34m\u001b[0m\u001b[0m\n\u001b[1;32m    860\u001b[0m             \u001b[0;32melse\u001b[0m\u001b[0;34m:\u001b[0m\u001b[0;34m\u001b[0m\u001b[0;34m\u001b[0m\u001b[0m\n\u001b[0;32m--> 861\u001b[0;31m                 \u001b[0mself\u001b[0m\u001b[0;34m.\u001b[0m\u001b[0m_dispatch\u001b[0m\u001b[0;34m(\u001b[0m\u001b[0mtasks\u001b[0m\u001b[0;34m)\u001b[0m\u001b[0;34m\u001b[0m\u001b[0;34m\u001b[0m\u001b[0m\n\u001b[0m\u001b[1;32m    862\u001b[0m                 \u001b[0;32mreturn\u001b[0m \u001b[0;32mTrue\u001b[0m\u001b[0;34m\u001b[0m\u001b[0;34m\u001b[0m\u001b[0m\n\u001b[1;32m    863\u001b[0m \u001b[0;34m\u001b[0m\u001b[0m\n",
      "\u001b[0;32m/mnt/storage/lborgna/condaenv/db-clustering/lib/python3.8/site-packages/joblib/parallel.py\u001b[0m in \u001b[0;36m_dispatch\u001b[0;34m(self, batch)\u001b[0m\n\u001b[1;32m    777\u001b[0m         \u001b[0;32mwith\u001b[0m \u001b[0mself\u001b[0m\u001b[0;34m.\u001b[0m\u001b[0m_lock\u001b[0m\u001b[0;34m:\u001b[0m\u001b[0;34m\u001b[0m\u001b[0;34m\u001b[0m\u001b[0m\n\u001b[1;32m    778\u001b[0m             \u001b[0mjob_idx\u001b[0m \u001b[0;34m=\u001b[0m \u001b[0mlen\u001b[0m\u001b[0;34m(\u001b[0m\u001b[0mself\u001b[0m\u001b[0;34m.\u001b[0m\u001b[0m_jobs\u001b[0m\u001b[0;34m)\u001b[0m\u001b[0;34m\u001b[0m\u001b[0;34m\u001b[0m\u001b[0m\n\u001b[0;32m--> 779\u001b[0;31m             \u001b[0mjob\u001b[0m \u001b[0;34m=\u001b[0m \u001b[0mself\u001b[0m\u001b[0;34m.\u001b[0m\u001b[0m_backend\u001b[0m\u001b[0;34m.\u001b[0m\u001b[0mapply_async\u001b[0m\u001b[0;34m(\u001b[0m\u001b[0mbatch\u001b[0m\u001b[0;34m,\u001b[0m \u001b[0mcallback\u001b[0m\u001b[0;34m=\u001b[0m\u001b[0mcb\u001b[0m\u001b[0;34m)\u001b[0m\u001b[0;34m\u001b[0m\u001b[0;34m\u001b[0m\u001b[0m\n\u001b[0m\u001b[1;32m    780\u001b[0m             \u001b[0;31m# A job can complete so quickly than its callback is\u001b[0m\u001b[0;34m\u001b[0m\u001b[0;34m\u001b[0m\u001b[0;34m\u001b[0m\u001b[0m\n\u001b[1;32m    781\u001b[0m             \u001b[0;31m# called before we get here, causing self._jobs to\u001b[0m\u001b[0;34m\u001b[0m\u001b[0;34m\u001b[0m\u001b[0;34m\u001b[0m\u001b[0m\n",
      "\u001b[0;32m/mnt/storage/lborgna/condaenv/db-clustering/lib/python3.8/site-packages/joblib/_parallel_backends.py\u001b[0m in \u001b[0;36mapply_async\u001b[0;34m(self, func, callback)\u001b[0m\n\u001b[1;32m    206\u001b[0m     \u001b[0;32mdef\u001b[0m \u001b[0mapply_async\u001b[0m\u001b[0;34m(\u001b[0m\u001b[0mself\u001b[0m\u001b[0;34m,\u001b[0m \u001b[0mfunc\u001b[0m\u001b[0;34m,\u001b[0m \u001b[0mcallback\u001b[0m\u001b[0;34m=\u001b[0m\u001b[0;32mNone\u001b[0m\u001b[0;34m)\u001b[0m\u001b[0;34m:\u001b[0m\u001b[0;34m\u001b[0m\u001b[0;34m\u001b[0m\u001b[0m\n\u001b[1;32m    207\u001b[0m         \u001b[0;34m\"\"\"Schedule a func to be run\"\"\"\u001b[0m\u001b[0;34m\u001b[0m\u001b[0;34m\u001b[0m\u001b[0m\n\u001b[0;32m--> 208\u001b[0;31m         \u001b[0mresult\u001b[0m \u001b[0;34m=\u001b[0m \u001b[0mImmediateResult\u001b[0m\u001b[0;34m(\u001b[0m\u001b[0mfunc\u001b[0m\u001b[0;34m)\u001b[0m\u001b[0;34m\u001b[0m\u001b[0;34m\u001b[0m\u001b[0m\n\u001b[0m\u001b[1;32m    209\u001b[0m         \u001b[0;32mif\u001b[0m \u001b[0mcallback\u001b[0m\u001b[0;34m:\u001b[0m\u001b[0;34m\u001b[0m\u001b[0;34m\u001b[0m\u001b[0m\n\u001b[1;32m    210\u001b[0m             \u001b[0mcallback\u001b[0m\u001b[0;34m(\u001b[0m\u001b[0mresult\u001b[0m\u001b[0;34m)\u001b[0m\u001b[0;34m\u001b[0m\u001b[0;34m\u001b[0m\u001b[0m\n",
      "\u001b[0;32m/mnt/storage/lborgna/condaenv/db-clustering/lib/python3.8/site-packages/joblib/_parallel_backends.py\u001b[0m in \u001b[0;36m__init__\u001b[0;34m(self, batch)\u001b[0m\n\u001b[1;32m    570\u001b[0m         \u001b[0;31m# Don't delay the application, to avoid keeping the input\u001b[0m\u001b[0;34m\u001b[0m\u001b[0;34m\u001b[0m\u001b[0;34m\u001b[0m\u001b[0m\n\u001b[1;32m    571\u001b[0m         \u001b[0;31m# arguments in memory\u001b[0m\u001b[0;34m\u001b[0m\u001b[0;34m\u001b[0m\u001b[0;34m\u001b[0m\u001b[0m\n\u001b[0;32m--> 572\u001b[0;31m         \u001b[0mself\u001b[0m\u001b[0;34m.\u001b[0m\u001b[0mresults\u001b[0m \u001b[0;34m=\u001b[0m \u001b[0mbatch\u001b[0m\u001b[0;34m(\u001b[0m\u001b[0;34m)\u001b[0m\u001b[0;34m\u001b[0m\u001b[0;34m\u001b[0m\u001b[0m\n\u001b[0m\u001b[1;32m    573\u001b[0m \u001b[0;34m\u001b[0m\u001b[0m\n\u001b[1;32m    574\u001b[0m     \u001b[0;32mdef\u001b[0m \u001b[0mget\u001b[0m\u001b[0;34m(\u001b[0m\u001b[0mself\u001b[0m\u001b[0;34m)\u001b[0m\u001b[0;34m:\u001b[0m\u001b[0;34m\u001b[0m\u001b[0;34m\u001b[0m\u001b[0m\n",
      "\u001b[0;32m/mnt/storage/lborgna/condaenv/db-clustering/lib/python3.8/site-packages/joblib/parallel.py\u001b[0m in \u001b[0;36m__call__\u001b[0;34m(self)\u001b[0m\n\u001b[1;32m    260\u001b[0m         \u001b[0;31m# change the default number of processes to -1\u001b[0m\u001b[0;34m\u001b[0m\u001b[0;34m\u001b[0m\u001b[0;34m\u001b[0m\u001b[0m\n\u001b[1;32m    261\u001b[0m         \u001b[0;32mwith\u001b[0m \u001b[0mparallel_backend\u001b[0m\u001b[0;34m(\u001b[0m\u001b[0mself\u001b[0m\u001b[0;34m.\u001b[0m\u001b[0m_backend\u001b[0m\u001b[0;34m,\u001b[0m \u001b[0mn_jobs\u001b[0m\u001b[0;34m=\u001b[0m\u001b[0mself\u001b[0m\u001b[0;34m.\u001b[0m\u001b[0m_n_jobs\u001b[0m\u001b[0;34m)\u001b[0m\u001b[0;34m:\u001b[0m\u001b[0;34m\u001b[0m\u001b[0;34m\u001b[0m\u001b[0m\n\u001b[0;32m--> 262\u001b[0;31m             return [func(*args, **kwargs)\n\u001b[0m\u001b[1;32m    263\u001b[0m                     for func, args, kwargs in self.items]\n\u001b[1;32m    264\u001b[0m \u001b[0;34m\u001b[0m\u001b[0m\n",
      "\u001b[0;32m/mnt/storage/lborgna/condaenv/db-clustering/lib/python3.8/site-packages/joblib/parallel.py\u001b[0m in \u001b[0;36m<listcomp>\u001b[0;34m(.0)\u001b[0m\n\u001b[1;32m    260\u001b[0m         \u001b[0;31m# change the default number of processes to -1\u001b[0m\u001b[0;34m\u001b[0m\u001b[0;34m\u001b[0m\u001b[0;34m\u001b[0m\u001b[0m\n\u001b[1;32m    261\u001b[0m         \u001b[0;32mwith\u001b[0m \u001b[0mparallel_backend\u001b[0m\u001b[0;34m(\u001b[0m\u001b[0mself\u001b[0m\u001b[0;34m.\u001b[0m\u001b[0m_backend\u001b[0m\u001b[0;34m,\u001b[0m \u001b[0mn_jobs\u001b[0m\u001b[0;34m=\u001b[0m\u001b[0mself\u001b[0m\u001b[0;34m.\u001b[0m\u001b[0m_n_jobs\u001b[0m\u001b[0;34m)\u001b[0m\u001b[0;34m:\u001b[0m\u001b[0;34m\u001b[0m\u001b[0;34m\u001b[0m\u001b[0m\n\u001b[0;32m--> 262\u001b[0;31m             return [func(*args, **kwargs)\n\u001b[0m\u001b[1;32m    263\u001b[0m                     for func, args, kwargs in self.items]\n\u001b[1;32m    264\u001b[0m \u001b[0;34m\u001b[0m\u001b[0m\n",
      "\u001b[0;32m/mnt/storage/lborgna/condaenv/db-clustering/lib/python3.8/site-packages/sklearn/utils/fixes.py\u001b[0m in \u001b[0;36m__call__\u001b[0;34m(self, *args, **kwargs)\u001b[0m\n\u001b[1;32m    209\u001b[0m     \u001b[0;32mdef\u001b[0m \u001b[0m__call__\u001b[0m\u001b[0;34m(\u001b[0m\u001b[0mself\u001b[0m\u001b[0;34m,\u001b[0m \u001b[0;34m*\u001b[0m\u001b[0margs\u001b[0m\u001b[0;34m,\u001b[0m \u001b[0;34m**\u001b[0m\u001b[0mkwargs\u001b[0m\u001b[0;34m)\u001b[0m\u001b[0;34m:\u001b[0m\u001b[0;34m\u001b[0m\u001b[0;34m\u001b[0m\u001b[0m\n\u001b[1;32m    210\u001b[0m         \u001b[0;32mwith\u001b[0m \u001b[0mconfig_context\u001b[0m\u001b[0;34m(\u001b[0m\u001b[0;34m**\u001b[0m\u001b[0mself\u001b[0m\u001b[0;34m.\u001b[0m\u001b[0mconfig\u001b[0m\u001b[0;34m)\u001b[0m\u001b[0;34m:\u001b[0m\u001b[0;34m\u001b[0m\u001b[0;34m\u001b[0m\u001b[0m\n\u001b[0;32m--> 211\u001b[0;31m             \u001b[0;32mreturn\u001b[0m \u001b[0mself\u001b[0m\u001b[0;34m.\u001b[0m\u001b[0mfunction\u001b[0m\u001b[0;34m(\u001b[0m\u001b[0;34m*\u001b[0m\u001b[0margs\u001b[0m\u001b[0;34m,\u001b[0m \u001b[0;34m**\u001b[0m\u001b[0mkwargs\u001b[0m\u001b[0;34m)\u001b[0m\u001b[0;34m\u001b[0m\u001b[0;34m\u001b[0m\u001b[0m\n\u001b[0m\u001b[1;32m    212\u001b[0m \u001b[0;34m\u001b[0m\u001b[0m\n\u001b[1;32m    213\u001b[0m \u001b[0;34m\u001b[0m\u001b[0m\n",
      "\u001b[0;32m/mnt/storage/lborgna/condaenv/db-clustering/lib/python3.8/site-packages/sklearn/neighbors/_base.py\u001b[0m in \u001b[0;36m_tree_query_radius_parallel_helper\u001b[0;34m(tree, *args, **kwargs)\u001b[0m\n\u001b[1;32m    908\u001b[0m     \u001b[0mcloudpickle\u001b[0m \u001b[0munder\u001b[0m \u001b[0mPyPy\u001b[0m\u001b[0;34m.\u001b[0m\u001b[0;34m\u001b[0m\u001b[0;34m\u001b[0m\u001b[0m\n\u001b[1;32m    909\u001b[0m     \"\"\"\n\u001b[0;32m--> 910\u001b[0;31m     \u001b[0;32mreturn\u001b[0m \u001b[0mtree\u001b[0m\u001b[0;34m.\u001b[0m\u001b[0mquery_radius\u001b[0m\u001b[0;34m(\u001b[0m\u001b[0;34m*\u001b[0m\u001b[0margs\u001b[0m\u001b[0;34m,\u001b[0m \u001b[0;34m**\u001b[0m\u001b[0mkwargs\u001b[0m\u001b[0;34m)\u001b[0m\u001b[0;34m\u001b[0m\u001b[0;34m\u001b[0m\u001b[0m\n\u001b[0m\u001b[1;32m    911\u001b[0m \u001b[0;34m\u001b[0m\u001b[0m\n\u001b[1;32m    912\u001b[0m \u001b[0;34m\u001b[0m\u001b[0m\n",
      "\u001b[0;32msklearn/neighbors/_binary_tree.pxi\u001b[0m in \u001b[0;36msklearn.neighbors._kd_tree.BinaryTree.query_radius\u001b[0;34m()\u001b[0m\n",
      "\u001b[0;32m/mnt/storage/lborgna/condaenv/db-clustering/lib/python3.8/site-packages/sklearn/utils/validation.py\u001b[0m in \u001b[0;36mcheck_array\u001b[0;34m(array, accept_sparse, accept_large_sparse, dtype, order, copy, force_all_finite, ensure_2d, allow_nd, ensure_min_samples, ensure_min_features, estimator)\u001b[0m\n\u001b[1;32m    790\u001b[0m \u001b[0;34m\u001b[0m\u001b[0m\n\u001b[1;32m    791\u001b[0m         \u001b[0;32mif\u001b[0m \u001b[0mforce_all_finite\u001b[0m\u001b[0;34m:\u001b[0m\u001b[0;34m\u001b[0m\u001b[0;34m\u001b[0m\u001b[0m\n\u001b[0;32m--> 792\u001b[0;31m             \u001b[0m_assert_all_finite\u001b[0m\u001b[0;34m(\u001b[0m\u001b[0marray\u001b[0m\u001b[0;34m,\u001b[0m \u001b[0mallow_nan\u001b[0m\u001b[0;34m=\u001b[0m\u001b[0mforce_all_finite\u001b[0m \u001b[0;34m==\u001b[0m \u001b[0;34m\"allow-nan\"\u001b[0m\u001b[0;34m)\u001b[0m\u001b[0;34m\u001b[0m\u001b[0;34m\u001b[0m\u001b[0m\n\u001b[0m\u001b[1;32m    793\u001b[0m \u001b[0;34m\u001b[0m\u001b[0m\n\u001b[1;32m    794\u001b[0m     \u001b[0;32mif\u001b[0m \u001b[0mensure_min_samples\u001b[0m \u001b[0;34m>\u001b[0m \u001b[0;36m0\u001b[0m\u001b[0;34m:\u001b[0m\u001b[0;34m\u001b[0m\u001b[0;34m\u001b[0m\u001b[0m\n",
      "\u001b[0;32m/mnt/storage/lborgna/condaenv/db-clustering/lib/python3.8/site-packages/sklearn/utils/validation.py\u001b[0m in \u001b[0;36m_assert_all_finite\u001b[0;34m(X, allow_nan, msg_dtype)\u001b[0m\n\u001b[1;32m    101\u001b[0m     \u001b[0;31m# safely to reduce dtype induced overflows.\u001b[0m\u001b[0;34m\u001b[0m\u001b[0;34m\u001b[0m\u001b[0;34m\u001b[0m\u001b[0m\n\u001b[1;32m    102\u001b[0m     \u001b[0mis_float\u001b[0m \u001b[0;34m=\u001b[0m \u001b[0mX\u001b[0m\u001b[0;34m.\u001b[0m\u001b[0mdtype\u001b[0m\u001b[0;34m.\u001b[0m\u001b[0mkind\u001b[0m \u001b[0;32min\u001b[0m \u001b[0;34m\"fc\"\u001b[0m\u001b[0;34m\u001b[0m\u001b[0;34m\u001b[0m\u001b[0m\n\u001b[0;32m--> 103\u001b[0;31m     \u001b[0;32mif\u001b[0m \u001b[0mis_float\u001b[0m \u001b[0;32mand\u001b[0m \u001b[0;34m(\u001b[0m\u001b[0mnp\u001b[0m\u001b[0;34m.\u001b[0m\u001b[0misfinite\u001b[0m\u001b[0;34m(\u001b[0m\u001b[0m_safe_accumulator_op\u001b[0m\u001b[0;34m(\u001b[0m\u001b[0mnp\u001b[0m\u001b[0;34m.\u001b[0m\u001b[0msum\u001b[0m\u001b[0;34m,\u001b[0m \u001b[0mX\u001b[0m\u001b[0;34m)\u001b[0m\u001b[0;34m)\u001b[0m\u001b[0;34m)\u001b[0m\u001b[0;34m:\u001b[0m\u001b[0;34m\u001b[0m\u001b[0;34m\u001b[0m\u001b[0m\n\u001b[0m\u001b[1;32m    104\u001b[0m         \u001b[0;32mpass\u001b[0m\u001b[0;34m\u001b[0m\u001b[0;34m\u001b[0m\u001b[0m\n\u001b[1;32m    105\u001b[0m     \u001b[0;32melif\u001b[0m \u001b[0mis_float\u001b[0m\u001b[0;34m:\u001b[0m\u001b[0;34m\u001b[0m\u001b[0;34m\u001b[0m\u001b[0m\n",
      "\u001b[0;32m/mnt/storage/lborgna/condaenv/db-clustering/lib/python3.8/site-packages/sklearn/utils/extmath.py\u001b[0m in \u001b[0;36m_safe_accumulator_op\u001b[0;34m(op, x, *args, **kwargs)\u001b[0m\n\u001b[1;32m    891\u001b[0m         \u001b[0mThe\u001b[0m \u001b[0moutput\u001b[0m \u001b[0mof\u001b[0m \u001b[0mthe\u001b[0m \u001b[0maccumulator\u001b[0m \u001b[0mfunction\u001b[0m \u001b[0mpassed\u001b[0m \u001b[0mto\u001b[0m \u001b[0mthis\u001b[0m \u001b[0mfunction\u001b[0m\u001b[0;34m.\u001b[0m\u001b[0;34m\u001b[0m\u001b[0;34m\u001b[0m\u001b[0m\n\u001b[1;32m    892\u001b[0m     \"\"\"\n\u001b[0;32m--> 893\u001b[0;31m     \u001b[0;32mif\u001b[0m \u001b[0mnp\u001b[0m\u001b[0;34m.\u001b[0m\u001b[0missubdtype\u001b[0m\u001b[0;34m(\u001b[0m\u001b[0mx\u001b[0m\u001b[0;34m.\u001b[0m\u001b[0mdtype\u001b[0m\u001b[0;34m,\u001b[0m \u001b[0mnp\u001b[0m\u001b[0;34m.\u001b[0m\u001b[0mfloating\u001b[0m\u001b[0;34m)\u001b[0m \u001b[0;32mand\u001b[0m \u001b[0mx\u001b[0m\u001b[0;34m.\u001b[0m\u001b[0mdtype\u001b[0m\u001b[0;34m.\u001b[0m\u001b[0mitemsize\u001b[0m \u001b[0;34m<\u001b[0m \u001b[0;36m8\u001b[0m\u001b[0;34m:\u001b[0m\u001b[0;34m\u001b[0m\u001b[0;34m\u001b[0m\u001b[0m\n\u001b[0m\u001b[1;32m    894\u001b[0m         \u001b[0mresult\u001b[0m \u001b[0;34m=\u001b[0m \u001b[0mop\u001b[0m\u001b[0;34m(\u001b[0m\u001b[0mx\u001b[0m\u001b[0;34m,\u001b[0m \u001b[0;34m*\u001b[0m\u001b[0margs\u001b[0m\u001b[0;34m,\u001b[0m \u001b[0;34m**\u001b[0m\u001b[0mkwargs\u001b[0m\u001b[0;34m,\u001b[0m \u001b[0mdtype\u001b[0m\u001b[0;34m=\u001b[0m\u001b[0mnp\u001b[0m\u001b[0;34m.\u001b[0m\u001b[0mfloat64\u001b[0m\u001b[0;34m)\u001b[0m\u001b[0;34m\u001b[0m\u001b[0;34m\u001b[0m\u001b[0m\n\u001b[1;32m    895\u001b[0m     \u001b[0;32melse\u001b[0m\u001b[0;34m:\u001b[0m\u001b[0;34m\u001b[0m\u001b[0;34m\u001b[0m\u001b[0m\n",
      "\u001b[0;32m/mnt/storage/lborgna/condaenv/db-clustering/lib/python3.8/site-packages/numpy/core/numerictypes.py\u001b[0m in \u001b[0;36missubdtype\u001b[0;34m(arg1, arg2)\u001b[0m\n\u001b[1;32m    417\u001b[0m     \u001b[0;32mif\u001b[0m \u001b[0;32mnot\u001b[0m \u001b[0missubclass_\u001b[0m\u001b[0;34m(\u001b[0m\u001b[0marg1\u001b[0m\u001b[0;34m,\u001b[0m \u001b[0mgeneric\u001b[0m\u001b[0;34m)\u001b[0m\u001b[0;34m:\u001b[0m\u001b[0;34m\u001b[0m\u001b[0;34m\u001b[0m\u001b[0m\n\u001b[1;32m    418\u001b[0m         \u001b[0marg1\u001b[0m \u001b[0;34m=\u001b[0m \u001b[0mdtype\u001b[0m\u001b[0;34m(\u001b[0m\u001b[0marg1\u001b[0m\u001b[0;34m)\u001b[0m\u001b[0;34m.\u001b[0m\u001b[0mtype\u001b[0m\u001b[0;34m\u001b[0m\u001b[0;34m\u001b[0m\u001b[0m\n\u001b[0;32m--> 419\u001b[0;31m     \u001b[0;32mif\u001b[0m \u001b[0;32mnot\u001b[0m \u001b[0missubclass_\u001b[0m\u001b[0;34m(\u001b[0m\u001b[0marg2\u001b[0m\u001b[0;34m,\u001b[0m \u001b[0mgeneric\u001b[0m\u001b[0;34m)\u001b[0m\u001b[0;34m:\u001b[0m\u001b[0;34m\u001b[0m\u001b[0;34m\u001b[0m\u001b[0m\n\u001b[0m\u001b[1;32m    420\u001b[0m         \u001b[0marg2\u001b[0m \u001b[0;34m=\u001b[0m \u001b[0mdtype\u001b[0m\u001b[0;34m(\u001b[0m\u001b[0marg2\u001b[0m\u001b[0;34m)\u001b[0m\u001b[0;34m.\u001b[0m\u001b[0mtype\u001b[0m\u001b[0;34m\u001b[0m\u001b[0;34m\u001b[0m\u001b[0m\n\u001b[1;32m    421\u001b[0m \u001b[0;34m\u001b[0m\u001b[0m\n",
      "\u001b[0;31mKeyboardInterrupt\u001b[0m: "
     ]
    }
   ],
   "source": [
    "run_pv_dbscan(trk) "
   ]
  },
  {
   "cell_type": "markdown",
   "metadata": {},
   "source": [
    "# DEBUG FastHisto"
   ]
  },
  {
   "cell_type": "code",
   "execution_count": 122,
   "metadata": {},
   "outputs": [
    {
     "data": {
      "text/plain": [
       "False    4562541\n",
       "Name: trk_z0, dtype: int64"
      ]
     },
     "execution_count": 122,
     "metadata": {},
     "output_type": "execute_result"
    }
   ],
   "source": [
    "trk['trk_z0'].isna().value_counts()"
   ]
  },
  {
   "cell_type": "code",
   "execution_count": 123,
   "metadata": {},
   "outputs": [
    {
     "data": {
      "text/plain": [
       "False    4562541\n",
       "Name: fh_label, dtype: int64"
      ]
     },
     "execution_count": 123,
     "metadata": {},
     "output_type": "execute_result"
    }
   ],
   "source": [
    "trk['fh_label'].isna().value_counts()"
   ]
  },
  {
   "cell_type": "code",
   "execution_count": 125,
   "metadata": {},
   "outputs": [
    {
     "data": {
      "text/plain": [
       "(25000,)"
      ]
     },
     "execution_count": 125,
     "metadata": {},
     "output_type": "execute_result"
    }
   ],
   "source": [
    "trk.groupby(level=0)['trk_z0'].first().shape"
   ]
  },
  {
   "cell_type": "code",
   "execution_count": 126,
   "metadata": {},
   "outputs": [
    {
     "data": {
      "text/plain": [
       "(24997,)"
      ]
     },
     "execution_count": 126,
     "metadata": {},
     "output_type": "execute_result"
    }
   ],
   "source": [
    "trk.loc[trk['fh_label']==1].groupby(level=0)['trk_z0'].first().shape"
   ]
  },
  {
   "cell_type": "code",
   "execution_count": 136,
   "metadata": {},
   "outputs": [],
   "source": [
    "test = trk.groupby(['entry','fh_label'])['trk_z0'].median()"
   ]
  },
  {
   "cell_type": "code",
   "execution_count": 174,
   "metadata": {},
   "outputs": [],
   "source": [
    "test_array = np.array([0, 1, 0, 1,1,1,1,1])"
   ]
  },
  {
   "cell_type": "code",
   "execution_count": 175,
   "metadata": {},
   "outputs": [
    {
     "data": {
      "text/plain": [
       "6"
      ]
     },
     "execution_count": 175,
     "metadata": {},
     "output_type": "execute_result"
    }
   ],
   "source": [
    "test_array.sum()"
   ]
  },
  {
   "cell_type": "code",
   "execution_count": 180,
   "metadata": {},
   "outputs": [
    {
     "data": {
      "text/plain": [
       "0"
      ]
     },
     "execution_count": 180,
     "metadata": {},
     "output_type": "execute_result"
    }
   ],
   "source": [
    "np.array([0,0,0,0]).sum()"
   ]
  },
  {
   "cell_type": "code",
   "execution_count": 181,
   "metadata": {},
   "outputs": [],
   "source": [
    "def my_value_counts(x):\n",
    "    \n",
    "    total = x.shape[0]\n",
    "\n",
    "    count_one=x.sum()\n",
    "    \n",
    "    count_zero = total - count_one\n",
    "\n",
    "    return count_zero, count_one\n",
    "    "
   ]
  },
  {
   "cell_type": "code",
   "execution_count": 166,
   "metadata": {},
   "outputs": [],
   "source": [
    "test2 = trk.groupby(level=0)['fh_label'].value_counts()"
   ]
  },
  {
   "cell_type": "code",
   "execution_count": 182,
   "metadata": {},
   "outputs": [],
   "source": [
    "test3 =trk.groupby(level=0)['fh_label'].apply(lambda x: my_value_counts(x))"
   ]
  },
  {
   "cell_type": "code",
   "execution_count": 152,
   "metadata": {},
   "outputs": [],
   "source": [
    "test2= pd.DataFrame(test2)"
   ]
  },
  {
   "cell_type": "code",
   "execution_count": 155,
   "metadata": {},
   "outputs": [],
   "source": [
    "test2.columns = ['fh_count']"
   ]
  },
  {
   "cell_type": "code",
   "execution_count": 160,
   "metadata": {},
   "outputs": [
    {
     "data": {
      "text/html": [
       "<div>\n",
       "<style scoped>\n",
       "    .dataframe tbody tr th:only-of-type {\n",
       "        vertical-align: middle;\n",
       "    }\n",
       "\n",
       "    .dataframe tbody tr th {\n",
       "        vertical-align: top;\n",
       "    }\n",
       "\n",
       "    .dataframe thead th {\n",
       "        text-align: right;\n",
       "    }\n",
       "</style>\n",
       "<table border=\"1\" class=\"dataframe\">\n",
       "  <thead>\n",
       "    <tr style=\"text-align: right;\">\n",
       "      <th></th>\n",
       "      <th></th>\n",
       "      <th>fh_count</th>\n",
       "    </tr>\n",
       "    <tr>\n",
       "      <th>entry</th>\n",
       "      <th>fh_label</th>\n",
       "      <th></th>\n",
       "    </tr>\n",
       "  </thead>\n",
       "  <tbody>\n",
       "    <tr>\n",
       "      <th>0</th>\n",
       "      <th>0</th>\n",
       "      <td>143</td>\n",
       "    </tr>\n",
       "    <tr>\n",
       "      <th>1</th>\n",
       "      <th>0</th>\n",
       "      <td>131</td>\n",
       "    </tr>\n",
       "    <tr>\n",
       "      <th>2</th>\n",
       "      <th>0</th>\n",
       "      <td>159</td>\n",
       "    </tr>\n",
       "    <tr>\n",
       "      <th>3</th>\n",
       "      <th>0</th>\n",
       "      <td>121</td>\n",
       "    </tr>\n",
       "    <tr>\n",
       "      <th>4</th>\n",
       "      <th>0</th>\n",
       "      <td>203</td>\n",
       "    </tr>\n",
       "    <tr>\n",
       "      <th>...</th>\n",
       "      <th>...</th>\n",
       "      <td>...</td>\n",
       "    </tr>\n",
       "    <tr>\n",
       "      <th>24995</th>\n",
       "      <th>0</th>\n",
       "      <td>171</td>\n",
       "    </tr>\n",
       "    <tr>\n",
       "      <th>24996</th>\n",
       "      <th>0</th>\n",
       "      <td>193</td>\n",
       "    </tr>\n",
       "    <tr>\n",
       "      <th>24997</th>\n",
       "      <th>0</th>\n",
       "      <td>162</td>\n",
       "    </tr>\n",
       "    <tr>\n",
       "      <th>24998</th>\n",
       "      <th>0</th>\n",
       "      <td>175</td>\n",
       "    </tr>\n",
       "    <tr>\n",
       "      <th>24999</th>\n",
       "      <th>0</th>\n",
       "      <td>183</td>\n",
       "    </tr>\n",
       "  </tbody>\n",
       "</table>\n",
       "<p>25000 rows × 1 columns</p>\n",
       "</div>"
      ],
      "text/plain": [
       "                fh_count\n",
       "entry fh_label          \n",
       "0     0              143\n",
       "1     0              131\n",
       "2     0              159\n",
       "3     0              121\n",
       "4     0              203\n",
       "...                  ...\n",
       "24995 0              171\n",
       "24996 0              193\n",
       "24997 0              162\n",
       "24998 0              175\n",
       "24999 0              183\n",
       "\n",
       "[25000 rows x 1 columns]"
      ]
     },
     "execution_count": 160,
     "metadata": {},
     "output_type": "execute_result"
    }
   ],
   "source": [
    "test2.query('(fh_label==0)& (fh_label!=1)')"
   ]
  },
  {
   "cell_type": "code",
   "execution_count": 135,
   "metadata": {},
   "outputs": [
    {
     "data": {
      "text/plain": [
       "0       -1.113281\n",
       "1        4.980469\n",
       "2       -1.054688\n",
       "3       -3.515625\n",
       "4        1.230469\n",
       "           ...   \n",
       "49992    8.027344\n",
       "49993   -0.175781\n",
       "49994   -4.980469\n",
       "49995    1.347656\n",
       "49996    2.314453\n",
       "Name: trk_z0, Length: 49997, dtype: float32"
      ]
     },
     "execution_count": 135,
     "metadata": {},
     "output_type": "execute_result"
    }
   ],
   "source": [
    "test"
   ]
  },
  {
   "cell_type": "code",
   "execution_count": 127,
   "metadata": {},
   "outputs": [
    {
     "data": {
      "text/plain": [
       "0    4130148\n",
       "1     432393\n",
       "Name: fh_label, dtype: int64"
      ]
     },
     "execution_count": 127,
     "metadata": {},
     "output_type": "execute_result"
    }
   ],
   "source": [
    "trk['fh_label'].value_counts()"
   ]
  },
  {
   "cell_type": "code",
   "execution_count": 186,
   "metadata": {},
   "outputs": [],
   "source": [
    "lmao  = test3.reset_index().explode('fh_label')"
   ]
  },
  {
   "cell_type": "code",
   "execution_count": 188,
   "metadata": {},
   "outputs": [
    {
     "data": {
      "text/html": [
       "<div>\n",
       "<style scoped>\n",
       "    .dataframe tbody tr th:only-of-type {\n",
       "        vertical-align: middle;\n",
       "    }\n",
       "\n",
       "    .dataframe tbody tr th {\n",
       "        vertical-align: top;\n",
       "    }\n",
       "\n",
       "    .dataframe thead th {\n",
       "        text-align: right;\n",
       "    }\n",
       "</style>\n",
       "<table border=\"1\" class=\"dataframe\">\n",
       "  <thead>\n",
       "    <tr style=\"text-align: right;\">\n",
       "      <th></th>\n",
       "      <th>entry</th>\n",
       "      <th>fh_label</th>\n",
       "    </tr>\n",
       "  </thead>\n",
       "  <tbody>\n",
       "    <tr>\n",
       "      <th>11055</th>\n",
       "      <td>11055</td>\n",
       "      <td>0</td>\n",
       "    </tr>\n",
       "    <tr>\n",
       "      <th>21068</th>\n",
       "      <td>21068</td>\n",
       "      <td>0</td>\n",
       "    </tr>\n",
       "    <tr>\n",
       "      <th>22490</th>\n",
       "      <td>22490</td>\n",
       "      <td>0</td>\n",
       "    </tr>\n",
       "  </tbody>\n",
       "</table>\n",
       "</div>"
      ],
      "text/plain": [
       "       entry fh_label\n",
       "11055  11055        0\n",
       "21068  21068        0\n",
       "22490  22490        0"
      ]
     },
     "execution_count": 188,
     "metadata": {},
     "output_type": "execute_result"
    }
   ],
   "source": [
    "lmao[lmao['fh_label']==0]"
   ]
  },
  {
   "cell_type": "code",
   "execution_count": 190,
   "metadata": {},
   "outputs": [],
   "source": [
    "event11055 = trk.query('entry ==11055')"
   ]
  },
  {
   "cell_type": "code",
   "execution_count": 191,
   "metadata": {},
   "outputs": [
    {
     "data": {
      "text/plain": [
       "Text(1, 0, '$z_0$ [cm]')"
      ]
     },
     "execution_count": 191,
     "metadata": {},
     "output_type": "execute_result"
    },
    {
     "data": {
      "image/png": "[encoded data removed]",
      "text/plain": [
       "<Figure size 720x720 with 1 Axes>"
      ]
     },
     "metadata": {
      "needs_background": "light"
     },
     "output_type": "display_data"
    }
   ],
   "source": [
    "h, be, _ = plt.hist(\n",
    "    event11055[\"trk_z0\"].values, bins=be_fh, histtype=\"step\", weights=event11055[\"trk_pt\"]\n",
    ")\n",
    "plt.xlabel(r\"$z_0$ [cm]\")"
   ]
  },
  {
   "cell_type": "code",
   "execution_count": 198,
   "metadata": {},
   "outputs": [],
   "source": [
    "histo = np.histogram(event11055.trk_z0.values, bins=be_fh, weights=event11055.trk_pt.values)[0]"
   ]
  },
  {
   "cell_type": "code",
   "execution_count": 201,
   "metadata": {},
   "outputs": [],
   "source": [
    "labels = np.zeros(len(event11055.trk_z0.values), dtype=int)"
   ]
  },
  {
   "cell_type": "code",
   "execution_count": 203,
   "metadata": {},
   "outputs": [],
   "source": [
    "max_idx = np.argmax(histo)"
   ]
  },
  {
   "cell_type": "code",
   "execution_count": 204,
   "metadata": {},
   "outputs": [
    {
     "data": {
      "text/plain": [
       "24"
      ]
     },
     "execution_count": 204,
     "metadata": {},
     "output_type": "execute_result"
    }
   ],
   "source": [
    "max_idx"
   ]
  },
  {
   "cell_type": "code",
   "execution_count": 209,
   "metadata": {},
   "outputs": [],
   "source": [
    "lower_bin_bound = be_fh[max_idx]\n",
    "upper_bin_bound = be_fh[max_idx + 1]"
   ]
  },
  {
   "cell_type": "code",
   "execution_count": 211,
   "metadata": {},
   "outputs": [
    {
     "data": {
      "text/plain": [
       "-7.799999999999983"
      ]
     },
     "execution_count": 211,
     "metadata": {},
     "output_type": "execute_result"
    }
   ],
   "source": [
    "lower_bin_bound"
   ]
  },
  {
   "cell_type": "code",
   "execution_count": 238,
   "metadata": {},
   "outputs": [],
   "source": [
    "in_max_bin_mask =(event11055.trk_z0.values > lower_bin_bound) & (event11055.trk_z0.values <= upper_bin_bound)"
   ]
  },
  {
   "cell_type": "code",
   "execution_count": 239,
   "metadata": {},
   "outputs": [
    {
     "data": {
      "text/plain": [
       "array([False, False, False, False, False, False, False, False, False,\n",
       "       False, False, False, False, False, False, False, False, False,\n",
       "       False, False, False, False, False, False, False, False, False,\n",
       "       False, False, False, False, False, False, False, False, False,\n",
       "       False, False, False, False, False, False, False, False, False,\n",
       "       False, False, False, False, False, False, False, False, False,\n",
       "       False, False, False, False, False, False, False, False, False,\n",
       "       False, False, False, False, False, False, False, False,  True,\n",
       "       False, False, False, False, False, False, False, False, False,\n",
       "       False, False, False, False, False, False, False, False, False,\n",
       "       False, False, False, False, False, False, False, False, False,\n",
       "       False, False, False, False, False, False, False, False, False,\n",
       "       False, False, False, False, False, False, False, False, False,\n",
       "       False, False, False, False, False, False, False, False, False,\n",
       "       False, False, False, False, False, False, False, False, False,\n",
       "       False, False, False, False, False, False, False, False, False,\n",
       "       False, False, False, False, False, False, False, False, False,\n",
       "       False, False, False, False, False, False, False, False, False,\n",
       "       False, False, False, False, False, False, False, False, False,\n",
       "       False, False, False, False, False, False, False, False, False,\n",
       "       False, False, False, False, False, False, False, False, False,\n",
       "       False, False, False, False, False])"
      ]
     },
     "execution_count": 239,
     "metadata": {},
     "output_type": "execute_result"
    }
   ],
   "source": [
    "in_max_bin_mask"
   ]
  },
  {
   "cell_type": "code",
   "execution_count": 221,
   "metadata": {},
   "outputs": [],
   "source": [
    "labels[in_max_bin_mask] = 1"
   ]
  },
  {
   "cell_type": "code",
   "execution_count": 222,
   "metadata": {},
   "outputs": [
    {
     "data": {
      "text/plain": [
       "array([0, 0, 0, 0, 0, 0, 0, 0, 0, 0, 0, 0, 0, 0, 0, 0, 0, 0, 0, 0, 0, 0,\n",
       "       0, 0, 0, 0, 0, 0, 0, 0, 0, 0, 0, 0, 0, 0, 0, 0, 0, 0, 0, 0, 0, 0,\n",
       "       0, 0, 0, 0, 0, 0, 0, 0, 0, 0, 0, 0, 0, 0, 0, 0, 0, 0, 0, 0, 0, 0,\n",
       "       0, 0, 0, 0, 0, 1, 0, 0, 0, 0, 0, 0, 0, 0, 0, 0, 0, 0, 0, 0, 0, 0,\n",
       "       0, 0, 0, 0, 0, 0, 0, 0, 0, 0, 0, 0, 0, 0, 0, 0, 0, 0, 0, 0, 0, 0,\n",
       "       0, 0, 0, 0, 0, 0, 0, 0, 0, 0, 0, 0, 0, 0, 0, 0, 0, 0, 0, 0, 0, 0,\n",
       "       0, 0, 0, 0, 0, 0, 0, 0, 0, 0, 0, 0, 0, 0, 0, 0, 0, 0, 0, 0, 0, 0,\n",
       "       0, 0, 0, 0, 0, 0, 0, 0, 0, 0, 0, 0, 0, 0, 0, 0, 0, 0, 0, 0, 0, 0,\n",
       "       0, 0, 0, 0, 0, 0, 0, 0, 0, 0, 0, 0, 0, 0, 0, 0, 0, 0])"
      ]
     },
     "execution_count": 222,
     "metadata": {},
     "output_type": "execute_result"
    }
   ],
   "source": [
    "labels"
   ]
  },
  {
   "cell_type": "code",
   "execution_count": 223,
   "metadata": {},
   "outputs": [
    {
     "data": {
      "text/plain": [
       "(-7.799999999999983, -7.499999999999982)"
      ]
     },
     "execution_count": 223,
     "metadata": {},
     "output_type": "execute_result"
    },
    {
     "data": {
      "image/png": "[encoded data removed]",
      "text/plain": [
       "<Figure size 720x720 with 1 Axes>"
      ]
     },
     "metadata": {
      "needs_background": "light"
     },
     "output_type": "display_data"
    }
   ],
   "source": [
    "h, be, _ = plt.hist(\n",
    "    event11055[\"trk_z0\"].values, bins=be_fh, histtype=\"step\", weights=event11055[\"trk_pt\"]\n",
    ")\n",
    "plt.xlabel(r\"$z_0$ [cm]\")\n",
    "plt.xlim(lower_bin_bound, upper_bin_bound)"
   ]
  },
  {
   "cell_type": "code",
   "execution_count": null,
   "metadata": {},
   "outputs": [],
   "source": []
  },
  {
   "cell_type": "code",
   "execution_count": 192,
   "metadata": {},
   "outputs": [],
   "source": [
    "event21068 = trk.query('entry ==21068')"
   ]
  },
  {
   "cell_type": "code",
   "execution_count": 248,
   "metadata": {},
   "outputs": [
    {
     "data": {
      "text/plain": [
       "entry  subentry\n",
       "21068  0            1.973339\n",
       "       1            2.546916\n",
       "       2           23.722233\n",
       "       3            2.723082\n",
       "       4            3.334937\n",
       "                     ...    \n",
       "       162          3.785204\n",
       "       163          2.736506\n",
       "       164          2.013787\n",
       "       165          2.277802\n",
       "       166          3.495594\n",
       "Name: trk_pt, Length: 167, dtype: float32"
      ]
     },
     "execution_count": 248,
     "metadata": {},
     "output_type": "execute_result"
    }
   ],
   "source": [
    "event21068.trk_pt"
   ]
  },
  {
   "cell_type": "code",
   "execution_count": 196,
   "metadata": {},
   "outputs": [
    {
     "data": {
      "text/html": [
       "<div>\n",
       "<style scoped>\n",
       "    .dataframe tbody tr th:only-of-type {\n",
       "        vertical-align: middle;\n",
       "    }\n",
       "\n",
       "    .dataframe tbody tr th {\n",
       "        vertical-align: top;\n",
       "    }\n",
       "\n",
       "    .dataframe thead th {\n",
       "        text-align: right;\n",
       "    }\n",
       "</style>\n",
       "<table border=\"1\" class=\"dataframe\">\n",
       "  <thead>\n",
       "    <tr style=\"text-align: right;\">\n",
       "      <th></th>\n",
       "      <th></th>\n",
       "      <th>trk_pt</th>\n",
       "      <th>trk_eta</th>\n",
       "      <th>trk_phi</th>\n",
       "      <th>trk_d0</th>\n",
       "      <th>trk_z0</th>\n",
       "      <th>db_label</th>\n",
       "      <th>trk_fake</th>\n",
       "      <th>fh_label</th>\n",
       "      <th>is_pv</th>\n",
       "    </tr>\n",
       "    <tr>\n",
       "      <th>entry</th>\n",
       "      <th>subentry</th>\n",
       "      <th></th>\n",
       "      <th></th>\n",
       "      <th></th>\n",
       "      <th></th>\n",
       "      <th></th>\n",
       "      <th></th>\n",
       "      <th></th>\n",
       "      <th></th>\n",
       "      <th></th>\n",
       "    </tr>\n",
       "  </thead>\n",
       "  <tbody>\n",
       "    <tr>\n",
       "      <th rowspan=\"11\" valign=\"top\">22490</th>\n",
       "      <th>0</th>\n",
       "      <td>1.973690</td>\n",
       "      <td>-0.816397</td>\n",
       "      <td>-0.379882</td>\n",
       "      <td>999.0</td>\n",
       "      <td>0.878906</td>\n",
       "      <td>0</td>\n",
       "      <td>2</td>\n",
       "      <td>0</td>\n",
       "      <td>0</td>\n",
       "    </tr>\n",
       "    <tr>\n",
       "      <th>1</th>\n",
       "      <td>3.441415</td>\n",
       "      <td>-1.090775</td>\n",
       "      <td>-0.193600</td>\n",
       "      <td>999.0</td>\n",
       "      <td>1.289062</td>\n",
       "      <td>0</td>\n",
       "      <td>2</td>\n",
       "      <td>0</td>\n",
       "      <td>0</td>\n",
       "    </tr>\n",
       "    <tr>\n",
       "      <th>2</th>\n",
       "      <td>2.734484</td>\n",
       "      <td>-1.016723</td>\n",
       "      <td>-0.268425</td>\n",
       "      <td>999.0</td>\n",
       "      <td>5.742188</td>\n",
       "      <td>0</td>\n",
       "      <td>2</td>\n",
       "      <td>0</td>\n",
       "      <td>0</td>\n",
       "    </tr>\n",
       "    <tr>\n",
       "      <th>3</th>\n",
       "      <td>3.095067</td>\n",
       "      <td>-0.461914</td>\n",
       "      <td>-0.111828</td>\n",
       "      <td>999.0</td>\n",
       "      <td>8.554688</td>\n",
       "      <td>0</td>\n",
       "      <td>2</td>\n",
       "      <td>0</td>\n",
       "      <td>0</td>\n",
       "    </tr>\n",
       "    <tr>\n",
       "      <th>4</th>\n",
       "      <td>2.986015</td>\n",
       "      <td>-1.260110</td>\n",
       "      <td>-0.178101</td>\n",
       "      <td>999.0</td>\n",
       "      <td>3.164062</td>\n",
       "      <td>0</td>\n",
       "      <td>2</td>\n",
       "      <td>0</td>\n",
       "      <td>0</td>\n",
       "    </tr>\n",
       "    <tr>\n",
       "      <th>...</th>\n",
       "      <td>...</td>\n",
       "      <td>...</td>\n",
       "      <td>...</td>\n",
       "      <td>...</td>\n",
       "      <td>...</td>\n",
       "      <td>...</td>\n",
       "      <td>...</td>\n",
       "      <td>...</td>\n",
       "      <td>...</td>\n",
       "    </tr>\n",
       "    <tr>\n",
       "      <th>162</th>\n",
       "      <td>2.294751</td>\n",
       "      <td>0.985103</td>\n",
       "      <td>-0.304124</td>\n",
       "      <td>999.0</td>\n",
       "      <td>5.390625</td>\n",
       "      <td>0</td>\n",
       "      <td>2</td>\n",
       "      <td>0</td>\n",
       "      <td>0</td>\n",
       "    </tr>\n",
       "    <tr>\n",
       "      <th>163</th>\n",
       "      <td>2.469857</td>\n",
       "      <td>0.042956</td>\n",
       "      <td>-0.927577</td>\n",
       "      <td>999.0</td>\n",
       "      <td>4.570312</td>\n",
       "      <td>0</td>\n",
       "      <td>2</td>\n",
       "      <td>0</td>\n",
       "      <td>0</td>\n",
       "    </tr>\n",
       "    <tr>\n",
       "      <th>164</th>\n",
       "      <td>4.503856</td>\n",
       "      <td>-1.993254</td>\n",
       "      <td>-1.077890</td>\n",
       "      <td>999.0</td>\n",
       "      <td>1.113281</td>\n",
       "      <td>0</td>\n",
       "      <td>2</td>\n",
       "      <td>0</td>\n",
       "      <td>0</td>\n",
       "    </tr>\n",
       "    <tr>\n",
       "      <th>165</th>\n",
       "      <td>2.399396</td>\n",
       "      <td>2.343373</td>\n",
       "      <td>-0.606635</td>\n",
       "      <td>999.0</td>\n",
       "      <td>-1.347656</td>\n",
       "      <td>0</td>\n",
       "      <td>2</td>\n",
       "      <td>0</td>\n",
       "      <td>0</td>\n",
       "    </tr>\n",
       "    <tr>\n",
       "      <th>166</th>\n",
       "      <td>2.040810</td>\n",
       "      <td>-2.173125</td>\n",
       "      <td>-0.539606</td>\n",
       "      <td>999.0</td>\n",
       "      <td>-0.468750</td>\n",
       "      <td>0</td>\n",
       "      <td>2</td>\n",
       "      <td>0</td>\n",
       "      <td>0</td>\n",
       "    </tr>\n",
       "  </tbody>\n",
       "</table>\n",
       "<p>167 rows × 9 columns</p>\n",
       "</div>"
      ],
      "text/plain": [
       "                  trk_pt   trk_eta   trk_phi  trk_d0    trk_z0  db_label  \\\n",
       "entry subentry                                                             \n",
       "22490 0         1.973690 -0.816397 -0.379882   999.0  0.878906         0   \n",
       "      1         3.441415 -1.090775 -0.193600   999.0  1.289062         0   \n",
       "      2         2.734484 -1.016723 -0.268425   999.0  5.742188         0   \n",
       "      3         3.095067 -0.461914 -0.111828   999.0  8.554688         0   \n",
       "      4         2.986015 -1.260110 -0.178101   999.0  3.164062         0   \n",
       "...                  ...       ...       ...     ...       ...       ...   \n",
       "      162       2.294751  0.985103 -0.304124   999.0  5.390625         0   \n",
       "      163       2.469857  0.042956 -0.927577   999.0  4.570312         0   \n",
       "      164       4.503856 -1.993254 -1.077890   999.0  1.113281         0   \n",
       "      165       2.399396  2.343373 -0.606635   999.0 -1.347656         0   \n",
       "      166       2.040810 -2.173125 -0.539606   999.0 -0.468750         0   \n",
       "\n",
       "                trk_fake  fh_label  is_pv  \n",
       "entry subentry                             \n",
       "22490 0                2         0      0  \n",
       "      1                2         0      0  \n",
       "      2                2         0      0  \n",
       "      3                2         0      0  \n",
       "      4                2         0      0  \n",
       "...                  ...       ...    ...  \n",
       "      162              2         0      0  \n",
       "      163              2         0      0  \n",
       "      164              2         0      0  \n",
       "      165              2         0      0  \n",
       "      166              2         0      0  \n",
       "\n",
       "[167 rows x 9 columns]"
      ]
     },
     "execution_count": 196,
     "metadata": {},
     "output_type": "execute_result"
    }
   ],
   "source": [
    "event22490 = trk.query('entry ==22490')\n",
    "event22490"
   ]
  },
  {
   "cell_type": "code",
   "execution_count": 231,
   "metadata": {},
   "outputs": [
    {
     "data": {
      "text/plain": [
       "<AxesSubplot:>"
      ]
     },
     "execution_count": 231,
     "metadata": {},
     "output_type": "execute_result"
    },
    {
     "data": {
      "image/png": "[encoded data removed]",
      "text/plain": [
       "<Figure size 720x720 with 1 Axes>"
      ]
     },
     "metadata": {
      "needs_background": "light"
     },
     "output_type": "display_data"
    }
   ],
   "source": [
    "event21068['trk_pt'].hist(range = (0, 50))"
   ]
  },
  {
   "cell_type": "code",
   "execution_count": 232,
   "metadata": {},
   "outputs": [],
   "source": [
    "from pv_utils import fast_histo_event"
   ]
  },
  {
   "cell_type": "code",
   "execution_count": 233,
   "metadata": {},
   "outputs": [
    {
     "data": {
      "text/plain": [
       "array([0, 0, 0, 0, 0, 0, 0, 0, 0, 0, 0, 0, 0, 0, 0, 0, 0, 0, 0, 0, 0, 0,\n",
       "       0, 0, 0, 0, 0, 0, 0, 0, 0, 0, 0, 0, 0, 1, 0, 0, 0, 0, 0, 0, 0, 0,\n",
       "       0, 0, 1, 0, 0, 0, 1, 0, 0, 0, 0, 0, 0, 0, 1, 0, 0, 0, 0, 0, 0, 0,\n",
       "       0, 0, 0, 0, 0, 0, 0, 0, 0, 0, 0, 0, 0, 0, 0, 0, 0, 0, 0, 0, 0, 0,\n",
       "       0, 0, 0, 0, 1, 0, 0, 0, 0, 0, 0, 0, 0, 0, 0, 0, 0, 0, 1, 0, 0, 0,\n",
       "       0, 0, 0, 0, 0, 0, 0, 0, 0, 0, 1, 0, 0, 0, 0, 0, 0, 0, 0, 0, 0, 0,\n",
       "       0, 0, 0, 1, 0, 0, 0, 0, 0, 0, 0, 0, 0, 0, 0, 0, 0, 0, 0, 0, 0, 0,\n",
       "       0, 0, 0, 0, 0, 0, 0, 0, 0, 0, 0, 0, 0])"
      ]
     },
     "execution_count": 233,
     "metadata": {},
     "output_type": "execute_result"
    }
   ],
   "source": [
    "fast_histo_event(event21068.trk_z0.values, event21068.trk_z0.values, bin_edges=be_fh)"
   ]
  },
  {
   "cell_type": "code",
   "execution_count": 262,
   "metadata": {},
   "outputs": [
    {
     "data": {
      "text/html": [
       "<div>\n",
       "<style scoped>\n",
       "    .dataframe tbody tr th:only-of-type {\n",
       "        vertical-align: middle;\n",
       "    }\n",
       "\n",
       "    .dataframe tbody tr th {\n",
       "        vertical-align: top;\n",
       "    }\n",
       "\n",
       "    .dataframe thead th {\n",
       "        text-align: right;\n",
       "    }\n",
       "</style>\n",
       "<table border=\"1\" class=\"dataframe\">\n",
       "  <thead>\n",
       "    <tr style=\"text-align: right;\">\n",
       "      <th></th>\n",
       "      <th></th>\n",
       "      <th>trk_pt</th>\n",
       "      <th>trk_eta</th>\n",
       "      <th>trk_phi</th>\n",
       "      <th>trk_d0</th>\n",
       "      <th>trk_z0</th>\n",
       "      <th>db_label</th>\n",
       "      <th>trk_fake</th>\n",
       "      <th>fh_label</th>\n",
       "      <th>is_pv</th>\n",
       "    </tr>\n",
       "    <tr>\n",
       "      <th>entry</th>\n",
       "      <th>subentry</th>\n",
       "      <th></th>\n",
       "      <th></th>\n",
       "      <th></th>\n",
       "      <th></th>\n",
       "      <th></th>\n",
       "      <th></th>\n",
       "      <th></th>\n",
       "      <th></th>\n",
       "      <th></th>\n",
       "    </tr>\n",
       "  </thead>\n",
       "  <tbody>\n",
       "    <tr>\n",
       "      <th>9773</th>\n",
       "      <th>67</th>\n",
       "      <td>inf</td>\n",
       "      <td>NaN</td>\n",
       "      <td>0.785398</td>\n",
       "      <td>999.0</td>\n",
       "      <td>8.203125</td>\n",
       "      <td>0</td>\n",
       "      <td>0</td>\n",
       "      <td>0</td>\n",
       "      <td>0</td>\n",
       "    </tr>\n",
       "    <tr>\n",
       "      <th>10450</th>\n",
       "      <th>29</th>\n",
       "      <td>inf</td>\n",
       "      <td>NaN</td>\n",
       "      <td>-0.785398</td>\n",
       "      <td>999.0</td>\n",
       "      <td>4.511719</td>\n",
       "      <td>0</td>\n",
       "      <td>0</td>\n",
       "      <td>0</td>\n",
       "      <td>0</td>\n",
       "    </tr>\n",
       "    <tr>\n",
       "      <th>21068</th>\n",
       "      <th>84</th>\n",
       "      <td>inf</td>\n",
       "      <td>NaN</td>\n",
       "      <td>2.356194</td>\n",
       "      <td>999.0</td>\n",
       "      <td>-13.535156</td>\n",
       "      <td>0</td>\n",
       "      <td>0</td>\n",
       "      <td>0</td>\n",
       "      <td>0</td>\n",
       "    </tr>\n",
       "    <tr>\n",
       "      <th>21270</th>\n",
       "      <th>77</th>\n",
       "      <td>inf</td>\n",
       "      <td>NaN</td>\n",
       "      <td>0.785398</td>\n",
       "      <td>999.0</td>\n",
       "      <td>-11.777344</td>\n",
       "      <td>0</td>\n",
       "      <td>0</td>\n",
       "      <td>0</td>\n",
       "      <td>0</td>\n",
       "    </tr>\n",
       "    <tr>\n",
       "      <th>22776</th>\n",
       "      <th>133</th>\n",
       "      <td>inf</td>\n",
       "      <td>NaN</td>\n",
       "      <td>-2.356194</td>\n",
       "      <td>999.0</td>\n",
       "      <td>-0.937500</td>\n",
       "      <td>0</td>\n",
       "      <td>0</td>\n",
       "      <td>0</td>\n",
       "      <td>0</td>\n",
       "    </tr>\n",
       "  </tbody>\n",
       "</table>\n",
       "</div>"
      ],
      "text/plain": [
       "                trk_pt  trk_eta   trk_phi  trk_d0     trk_z0  db_label  \\\n",
       "entry subentry                                                           \n",
       "9773  67           inf      NaN  0.785398   999.0   8.203125         0   \n",
       "10450 29           inf      NaN -0.785398   999.0   4.511719         0   \n",
       "21068 84           inf      NaN  2.356194   999.0 -13.535156         0   \n",
       "21270 77           inf      NaN  0.785398   999.0 -11.777344         0   \n",
       "22776 133          inf      NaN -2.356194   999.0  -0.937500         0   \n",
       "\n",
       "                trk_fake fh_label  is_pv  \n",
       "entry subentry                            \n",
       "9773  67               0        0      0  \n",
       "10450 29               0        0      0  \n",
       "21068 84               0        0      0  \n",
       "21270 77               0        0      0  \n",
       "22776 133              0        0      0  "
      ]
     },
     "execution_count": 262,
     "metadata": {},
     "output_type": "execute_result"
    }
   ],
   "source": [
    "trk[trk['trk_pt']==np.inf]"
   ]
  },
  {
   "cell_type": "code",
   "execution_count": 265,
   "metadata": {},
   "outputs": [
    {
     "data": {
      "text/html": [
       "<div>\n",
       "<style scoped>\n",
       "    .dataframe tbody tr th:only-of-type {\n",
       "        vertical-align: middle;\n",
       "    }\n",
       "\n",
       "    .dataframe tbody tr th {\n",
       "        vertical-align: top;\n",
       "    }\n",
       "\n",
       "    .dataframe thead th {\n",
       "        text-align: right;\n",
       "    }\n",
       "</style>\n",
       "<table border=\"1\" class=\"dataframe\">\n",
       "  <thead>\n",
       "    <tr style=\"text-align: right;\">\n",
       "      <th></th>\n",
       "      <th></th>\n",
       "      <th>pv_L1reco_z0</th>\n",
       "      <th>pv_L1reco_sum</th>\n",
       "      <th>pv_MC</th>\n",
       "    </tr>\n",
       "    <tr>\n",
       "      <th>entry</th>\n",
       "      <th>subentry</th>\n",
       "      <th></th>\n",
       "      <th></th>\n",
       "      <th></th>\n",
       "    </tr>\n",
       "  </thead>\n",
       "  <tbody>\n",
       "    <tr>\n",
       "      <th>9773</th>\n",
       "      <th>0</th>\n",
       "      <td>-6.331171</td>\n",
       "      <td>257.690857</td>\n",
       "      <td>-6.231975</td>\n",
       "    </tr>\n",
       "    <tr>\n",
       "      <th>10450</th>\n",
       "      <th>0</th>\n",
       "      <td>1.498646</td>\n",
       "      <td>227.127701</td>\n",
       "      <td>1.521915</td>\n",
       "    </tr>\n",
       "    <tr>\n",
       "      <th>21068</th>\n",
       "      <th>0</th>\n",
       "      <td>-5.236532</td>\n",
       "      <td>144.172363</td>\n",
       "      <td>-5.383003</td>\n",
       "    </tr>\n",
       "    <tr>\n",
       "      <th>21270</th>\n",
       "      <th>0</th>\n",
       "      <td>-11.897167</td>\n",
       "      <td>363.781281</td>\n",
       "      <td>-11.918439</td>\n",
       "    </tr>\n",
       "    <tr>\n",
       "      <th>22776</th>\n",
       "      <th>0</th>\n",
       "      <td>-0.460405</td>\n",
       "      <td>169.392410</td>\n",
       "      <td>-0.594745</td>\n",
       "    </tr>\n",
       "  </tbody>\n",
       "</table>\n",
       "</div>"
      ],
      "text/plain": [
       "                pv_L1reco_z0  pv_L1reco_sum      pv_MC\n",
       "entry subentry                                        \n",
       "9773  0            -6.331171     257.690857  -6.231975\n",
       "10450 0             1.498646     227.127701   1.521915\n",
       "21068 0            -5.236532     144.172363  -5.383003\n",
       "21270 0           -11.897167     363.781281 -11.918439\n",
       "22776 0            -0.460405     169.392410  -0.594745"
      ]
     },
     "execution_count": 265,
     "metadata": {},
     "output_type": "execute_result"
    }
   ],
   "source": [
    "mc.query('(entry==9773) | (entry==10450) | (entry==21068) | (entry==21270) | (entry==22776)')"
   ]
  },
  {
   "cell_type": "code",
   "execution_count": null,
   "metadata": {},
   "outputs": [],
   "source": []
  },
  {
   "cell_type": "code",
   "execution_count": null,
   "metadata": {},
   "outputs": [],
   "source": []
  },
  {
   "cell_type": "code",
   "execution_count": 250,
   "metadata": {},
   "outputs": [
    {
     "name": "stderr",
     "output_type": "stream",
     "text": [
      "/mnt/storage/lborgna/condaenv/db-clustering/lib/python3.8/site-packages/numpy/lib/function_base.py:1292: RuntimeWarning: invalid value encountered in subtract\n",
      "  a = op(a[slice1], a[slice2])\n"
     ]
    },
    {
     "data": {
      "text/plain": [
       "Text(1, 0, '$z_0$ [cm]')"
      ]
     },
     "execution_count": 250,
     "metadata": {},
     "output_type": "execute_result"
    },
    {
     "data": {
      "image/png": "[encoded data removed]",
      "text/plain": [
       "<Figure size 720x720 with 1 Axes>"
      ]
     },
     "metadata": {
      "needs_background": "light"
     },
     "output_type": "display_data"
    }
   ],
   "source": [
    "h, be, _ = plt.hist(\n",
    "    event21068[\"trk_z0\"].values, bins=be_fh, histtype=\"step\", weights=event21068[\"trk_pt\"].values\n",
    ")\n",
    "plt.xlabel(r\"$z_0$ [cm]\")"
   ]
  },
  {
   "cell_type": "code",
   "execution_count": 197,
   "metadata": {},
   "outputs": [
    {
     "data": {
      "text/plain": [
       "Text(1, 0, '$z_0$ [cm]')"
      ]
     },
     "execution_count": 197,
     "metadata": {},
     "output_type": "execute_result"
    },
    {
     "data": {
      "image/png": "[encoded data removed]",
      "text/plain": [
       "<Figure size 720x720 with 1 Axes>"
      ]
     },
     "metadata": {
      "needs_background": "light"
     },
     "output_type": "display_data"
    }
   ],
   "source": [
    "h, be, _ = plt.hist(\n",
    "    event22490[\"trk_z0\"].values, bins=be_fh, histtype=\"step\", weights=event22490[\"trk_pt\"]\n",
    ")\n",
    "plt.xlabel(r\"$z_0$ [cm]\")"
   ]
  },
  {
   "cell_type": "code",
   "execution_count": 241,
   "metadata": {},
   "outputs": [
    {
     "data": {
      "text/plain": [
       "array([0, 0, 0, 0, 0, 1, 0, 0, 0, 0, 0, 0, 0, 0, 0, 0, 0, 0, 0, 0, 0, 0,\n",
       "       0, 0, 0, 0, 0, 0, 0, 0, 0, 0, 0, 1, 0, 0, 0, 0, 0, 0, 0, 0, 0, 0,\n",
       "       0, 0, 0, 0, 0, 0, 0, 0, 0, 0, 0, 0, 0, 0, 0, 0, 0, 0, 0, 0, 0, 0,\n",
       "       0, 0, 0, 0, 0, 0, 0, 0, 0, 0, 0, 0, 0, 0, 0, 0, 0, 0, 0, 0, 0, 0,\n",
       "       0, 0, 0, 0, 0, 0, 0, 0, 0, 0, 0, 0, 0, 0, 0, 0, 0, 0, 0, 0, 0, 0,\n",
       "       0, 0, 0, 0, 0, 0, 0, 1, 0, 0, 1, 0, 0, 0, 0, 0, 0, 0, 0, 0, 0, 0,\n",
       "       0, 0, 0, 0, 0, 0, 0, 0, 0, 0, 0, 0, 0, 0, 0, 0, 0, 0, 0, 0, 0, 0,\n",
       "       0, 0, 0, 0, 0, 1, 0, 0, 0, 0, 0, 0, 0])"
      ]
     },
     "execution_count": 241,
     "metadata": {},
     "output_type": "execute_result"
    }
   ],
   "source": [
    "fast_histo_event(event22490.trk_z0.values, event22490.trk_z0.values, bin_edges=be_fh)"
   ]
  },
  {
   "cell_type": "code",
   "execution_count": null,
   "metadata": {},
   "outputs": [],
   "source": []
  }
 ],
 "metadata": {
  "kernelspec": {
   "display_name": "db-clustering",
   "language": "python",
   "name": "db-clustering"
  },
  "language_info": {
   "codemirror_mode": {
    "name": "ipython",
    "version": 3
   },
   "file_extension": ".py",
   "mimetype": "text/x-python",
   "name": "python",
   "nbconvert_exporter": "python",
   "pygments_lexer": "ipython3",
   "version": "3.8.12"
  }
 },
 "nbformat": 4,
 "nbformat_minor": 2
}
