{
 "cells": [
  {
   "cell_type": "code",
   "execution_count": 2,
   "metadata": {},
   "outputs": [],
   "source": [
    "%load_ext lab_black"
   ]
  },
  {
   "cell_type": "code",
   "execution_count": 3,
   "metadata": {},
   "outputs": [],
   "source": [
    "### Reloads modules properly\n",
    "%load_ext autoreload\n",
    "%autoreload 2"
   ]
  },
  {
   "cell_type": "code",
   "execution_count": 4,
   "metadata": {},
   "outputs": [],
   "source": [
    "import os\n",
    "\n",
    "os.sys.path.append(\"../\")"
   ]
  },
  {
   "cell_type": "code",
   "execution_count": 5,
   "metadata": {},
   "outputs": [],
   "source": [
    "import numpy as np"
   ]
  },
  {
   "cell_type": "code",
   "execution_count": 6,
   "metadata": {},
   "outputs": [],
   "source": [
    "import pandas as pd\n",
    "\n",
    "# Show all the columns and rows in pandas df\n",
    "pd.set_option(\"display.max_columns\", None)\n",
    "pd.set_option(\"display.max_rows\", 500)"
   ]
  },
  {
   "cell_type": "code",
   "execution_count": 7,
   "metadata": {},
   "outputs": [],
   "source": [
    "import matplotlib.pyplot as plt"
   ]
  },
  {
   "cell_type": "code",
   "execution_count": 9,
   "metadata": {},
   "outputs": [],
   "source": [
    "import mplhep\n",
    "\n",
    "mplhep.style.use(\"CMS\")"
   ]
  },
  {
   "cell_type": "markdown",
   "metadata": {},
   "source": [
    "The examples use uproot3 so let's stick to using this"
   ]
  },
  {
   "cell_type": "code",
   "execution_count": 10,
   "metadata": {},
   "outputs": [],
   "source": [
    "import uproot3"
   ]
  },
  {
   "cell_type": "markdown",
   "metadata": {},
   "source": [
    "# Read as dataframe"
   ]
  },
  {
   "cell_type": "markdown",
   "metadata": {},
   "source": [
    "Let's use uproot 4 for this"
   ]
  },
  {
   "cell_type": "code",
   "execution_count": 11,
   "metadata": {},
   "outputs": [],
   "source": [
    "import uproot"
   ]
  },
  {
   "cell_type": "code",
   "execution_count": 12,
   "metadata": {},
   "outputs": [
    {
     "data": {
      "text/plain": [
       "'4.1.7'"
      ]
     },
     "execution_count": 12,
     "metadata": {},
     "output_type": "execute_result"
    }
   ],
   "source": [
    "uproot.__version__"
   ]
  },
  {
   "cell_type": "code",
   "execution_count": 13,
   "metadata": {},
   "outputs": [
    {
     "name": "stdout",
     "output_type": "stream",
     "text": [
      "-rw-r--r--  1 lucas  staff   493M  8 Nov 09:50 ../00.root\n"
     ]
    }
   ],
   "source": [
    "!ls -lh ../00.root"
   ]
  },
  {
   "cell_type": "code",
   "execution_count": 14,
   "metadata": {},
   "outputs": [],
   "source": [
    "f4 = uproot.open(\"../00.root\")"
   ]
  },
  {
   "cell_type": "code",
   "execution_count": 15,
   "metadata": {},
   "outputs": [],
   "source": [
    "df = f4[\"L1TrackNtuple/eventTree;1\"].arrays(library=\"pd\")"
   ]
  },
  {
   "cell_type": "code",
   "execution_count": 16,
   "metadata": {},
   "outputs": [],
   "source": [
    "trk = df[0]"
   ]
  },
  {
   "cell_type": "code",
   "execution_count": 17,
   "metadata": {},
   "outputs": [],
   "source": [
    "tp = df[1]"
   ]
  },
  {
   "cell_type": "code",
   "execution_count": 18,
   "metadata": {},
   "outputs": [
    {
     "data": {
      "text/html": [
       "<div>\n",
       "<style scoped>\n",
       "    .dataframe tbody tr th:only-of-type {\n",
       "        vertical-align: middle;\n",
       "    }\n",
       "\n",
       "    .dataframe tbody tr th {\n",
       "        vertical-align: top;\n",
       "    }\n",
       "\n",
       "    .dataframe thead th {\n",
       "        text-align: right;\n",
       "    }\n",
       "</style>\n",
       "<table border=\"1\" class=\"dataframe\">\n",
       "  <thead>\n",
       "    <tr style=\"text-align: right;\">\n",
       "      <th></th>\n",
       "      <th></th>\n",
       "      <th>tp_pt</th>\n",
       "      <th>tp_eta</th>\n",
       "      <th>tp_phi</th>\n",
       "      <th>tp_dxy</th>\n",
       "      <th>tp_d0</th>\n",
       "      <th>tp_z0</th>\n",
       "      <th>tp_d0_prod</th>\n",
       "      <th>tp_z0_prod</th>\n",
       "      <th>tp_pdgid</th>\n",
       "      <th>tp_nmatch</th>\n",
       "      <th>tp_nloosematch</th>\n",
       "      <th>tp_nstub</th>\n",
       "      <th>tp_eventid</th>\n",
       "      <th>tp_charge</th>\n",
       "      <th>tp_injet</th>\n",
       "      <th>tp_injet_highpt</th>\n",
       "      <th>tp_injet_vhighpt</th>\n",
       "      <th>matchtrk_pt</th>\n",
       "      <th>matchtrk_eta</th>\n",
       "      <th>matchtrk_phi</th>\n",
       "      <th>matchtrk_z0</th>\n",
       "      <th>matchtrk_d0</th>\n",
       "      <th>matchtrk_chi2</th>\n",
       "      <th>matchtrk_bendchi2</th>\n",
       "      <th>matchtrk_nstub</th>\n",
       "      <th>matchtrk_lhits</th>\n",
       "      <th>matchtrk_dhits</th>\n",
       "      <th>matchtrk_seed</th>\n",
       "      <th>matchtrk_injet</th>\n",
       "      <th>matchtrk_injet_highpt</th>\n",
       "      <th>matchtrk_injet_vhighpt</th>\n",
       "      <th>loosematchtrk_pt</th>\n",
       "      <th>loosematchtrk_eta</th>\n",
       "      <th>loosematchtrk_phi</th>\n",
       "      <th>loosematchtrk_z0</th>\n",
       "      <th>loosematchtrk_d0</th>\n",
       "      <th>loosematchtrk_chi2</th>\n",
       "      <th>loosematchtrk_bendchi2</th>\n",
       "      <th>loosematchtrk_nstub</th>\n",
       "      <th>loosematchtrk_seed</th>\n",
       "      <th>loosematchtrk_injet</th>\n",
       "      <th>loosematchtrk_injet_highpt</th>\n",
       "      <th>loosematchtrk_injet_vhighpt</th>\n",
       "    </tr>\n",
       "    <tr>\n",
       "      <th>entry</th>\n",
       "      <th>subentry</th>\n",
       "      <th></th>\n",
       "      <th></th>\n",
       "      <th></th>\n",
       "      <th></th>\n",
       "      <th></th>\n",
       "      <th></th>\n",
       "      <th></th>\n",
       "      <th></th>\n",
       "      <th></th>\n",
       "      <th></th>\n",
       "      <th></th>\n",
       "      <th></th>\n",
       "      <th></th>\n",
       "      <th></th>\n",
       "      <th></th>\n",
       "      <th></th>\n",
       "      <th></th>\n",
       "      <th></th>\n",
       "      <th></th>\n",
       "      <th></th>\n",
       "      <th></th>\n",
       "      <th></th>\n",
       "      <th></th>\n",
       "      <th></th>\n",
       "      <th></th>\n",
       "      <th></th>\n",
       "      <th></th>\n",
       "      <th></th>\n",
       "      <th></th>\n",
       "      <th></th>\n",
       "      <th></th>\n",
       "      <th></th>\n",
       "      <th></th>\n",
       "      <th></th>\n",
       "      <th></th>\n",
       "      <th></th>\n",
       "      <th></th>\n",
       "      <th></th>\n",
       "      <th></th>\n",
       "      <th></th>\n",
       "      <th></th>\n",
       "      <th></th>\n",
       "      <th></th>\n",
       "    </tr>\n",
       "  </thead>\n",
       "  <tbody>\n",
       "    <tr>\n",
       "      <th rowspan=\"5\" valign=\"top\">0</th>\n",
       "      <th>0</th>\n",
       "      <td>100.300301</td>\n",
       "      <td>-0.898876</td>\n",
       "      <td>0.061430</td>\n",
       "      <td>0.00125</td>\n",
       "      <td>0.000543</td>\n",
       "      <td>3.500762</td>\n",
       "      <td>-0.000073</td>\n",
       "      <td>3.499485</td>\n",
       "      <td>13</td>\n",
       "      <td>1</td>\n",
       "      <td>1</td>\n",
       "      <td>8</td>\n",
       "      <td>0</td>\n",
       "      <td>-1</td>\n",
       "      <td>1</td>\n",
       "      <td>1</td>\n",
       "      <td>0</td>\n",
       "      <td>102.943588</td>\n",
       "      <td>-0.900577</td>\n",
       "      <td>0.061580</td>\n",
       "      <td>3.574219</td>\n",
       "      <td>-999.0</td>\n",
       "      <td>7.661629</td>\n",
       "      <td>0.025519</td>\n",
       "      <td>6</td>\n",
       "      <td>111111</td>\n",
       "      <td>0</td>\n",
       "      <td>0</td>\n",
       "      <td>1</td>\n",
       "      <td>1</td>\n",
       "      <td>0</td>\n",
       "      <td>102.943588</td>\n",
       "      <td>-0.900577</td>\n",
       "      <td>0.061580</td>\n",
       "      <td>3.574219</td>\n",
       "      <td>-999.0</td>\n",
       "      <td>7.661629</td>\n",
       "      <td>0.025519</td>\n",
       "      <td>6</td>\n",
       "      <td>0</td>\n",
       "      <td>1</td>\n",
       "      <td>1</td>\n",
       "      <td>0</td>\n",
       "    </tr>\n",
       "    <tr>\n",
       "      <th>1</th>\n",
       "      <td>2.052715</td>\n",
       "      <td>-1.650001</td>\n",
       "      <td>-2.781972</td>\n",
       "      <td>0.00125</td>\n",
       "      <td>0.000306</td>\n",
       "      <td>3.496469</td>\n",
       "      <td>-0.000297</td>\n",
       "      <td>3.499485</td>\n",
       "      <td>211</td>\n",
       "      <td>1</td>\n",
       "      <td>1</td>\n",
       "      <td>9</td>\n",
       "      <td>0</td>\n",
       "      <td>1</td>\n",
       "      <td>0</td>\n",
       "      <td>0</td>\n",
       "      <td>0</td>\n",
       "      <td>2.034012</td>\n",
       "      <td>-1.651574</td>\n",
       "      <td>-2.782407</td>\n",
       "      <td>3.750000</td>\n",
       "      <td>-999.0</td>\n",
       "      <td>8.667765</td>\n",
       "      <td>1.376251</td>\n",
       "      <td>6</td>\n",
       "      <td>11</td>\n",
       "      <td>1111</td>\n",
       "      <td>0</td>\n",
       "      <td>0</td>\n",
       "      <td>0</td>\n",
       "      <td>0</td>\n",
       "      <td>2.034012</td>\n",
       "      <td>-1.651574</td>\n",
       "      <td>-2.782407</td>\n",
       "      <td>3.750000</td>\n",
       "      <td>-999.0</td>\n",
       "      <td>8.667765</td>\n",
       "      <td>1.376251</td>\n",
       "      <td>6</td>\n",
       "      <td>0</td>\n",
       "      <td>0</td>\n",
       "      <td>0</td>\n",
       "      <td>0</td>\n",
       "    </tr>\n",
       "    <tr>\n",
       "      <th>2</th>\n",
       "      <td>6.453084</td>\n",
       "      <td>-0.604645</td>\n",
       "      <td>-2.807965</td>\n",
       "      <td>0.00125</td>\n",
       "      <td>0.000281</td>\n",
       "      <td>3.498704</td>\n",
       "      <td>-0.000265</td>\n",
       "      <td>3.499485</td>\n",
       "      <td>2212</td>\n",
       "      <td>1</td>\n",
       "      <td>1</td>\n",
       "      <td>8</td>\n",
       "      <td>0</td>\n",
       "      <td>1</td>\n",
       "      <td>0</td>\n",
       "      <td>0</td>\n",
       "      <td>0</td>\n",
       "      <td>6.475194</td>\n",
       "      <td>-0.604991</td>\n",
       "      <td>-2.808045</td>\n",
       "      <td>3.574219</td>\n",
       "      <td>-999.0</td>\n",
       "      <td>4.947954</td>\n",
       "      <td>1.358919</td>\n",
       "      <td>6</td>\n",
       "      <td>111111</td>\n",
       "      <td>0</td>\n",
       "      <td>0</td>\n",
       "      <td>0</td>\n",
       "      <td>0</td>\n",
       "      <td>0</td>\n",
       "      <td>6.475194</td>\n",
       "      <td>-0.604991</td>\n",
       "      <td>-2.808045</td>\n",
       "      <td>3.574219</td>\n",
       "      <td>-999.0</td>\n",
       "      <td>4.947954</td>\n",
       "      <td>1.358919</td>\n",
       "      <td>6</td>\n",
       "      <td>0</td>\n",
       "      <td>0</td>\n",
       "      <td>0</td>\n",
       "      <td>0</td>\n",
       "    </tr>\n",
       "    <tr>\n",
       "      <th>3</th>\n",
       "      <td>8.502528</td>\n",
       "      <td>-0.446424</td>\n",
       "      <td>-1.675735</td>\n",
       "      <td>0.00125</td>\n",
       "      <td>0.001191</td>\n",
       "      <td>3.499362</td>\n",
       "      <td>-0.001218</td>\n",
       "      <td>3.499485</td>\n",
       "      <td>-321</td>\n",
       "      <td>1</td>\n",
       "      <td>1</td>\n",
       "      <td>5</td>\n",
       "      <td>0</td>\n",
       "      <td>-1</td>\n",
       "      <td>1</td>\n",
       "      <td>0</td>\n",
       "      <td>0</td>\n",
       "      <td>8.506432</td>\n",
       "      <td>-0.449548</td>\n",
       "      <td>-1.675164</td>\n",
       "      <td>3.574219</td>\n",
       "      <td>-999.0</td>\n",
       "      <td>3.709781</td>\n",
       "      <td>0.449784</td>\n",
       "      <td>5</td>\n",
       "      <td>111011</td>\n",
       "      <td>0</td>\n",
       "      <td>0</td>\n",
       "      <td>1</td>\n",
       "      <td>0</td>\n",
       "      <td>0</td>\n",
       "      <td>8.506432</td>\n",
       "      <td>-0.449548</td>\n",
       "      <td>-1.675164</td>\n",
       "      <td>3.574219</td>\n",
       "      <td>-999.0</td>\n",
       "      <td>3.709781</td>\n",
       "      <td>0.449784</td>\n",
       "      <td>5</td>\n",
       "      <td>0</td>\n",
       "      <td>1</td>\n",
       "      <td>0</td>\n",
       "      <td>0</td>\n",
       "    </tr>\n",
       "    <tr>\n",
       "      <th>4</th>\n",
       "      <td>7.538472</td>\n",
       "      <td>-1.650967</td>\n",
       "      <td>-1.311853</td>\n",
       "      <td>0.00125</td>\n",
       "      <td>0.001264</td>\n",
       "      <td>3.499881</td>\n",
       "      <td>-0.001238</td>\n",
       "      <td>3.499485</td>\n",
       "      <td>-211</td>\n",
       "      <td>1</td>\n",
       "      <td>1</td>\n",
       "      <td>7</td>\n",
       "      <td>0</td>\n",
       "      <td>-1</td>\n",
       "      <td>1</td>\n",
       "      <td>0</td>\n",
       "      <td>0</td>\n",
       "      <td>7.589015</td>\n",
       "      <td>-1.650129</td>\n",
       "      <td>-1.310603</td>\n",
       "      <td>3.457031</td>\n",
       "      <td>-999.0</td>\n",
       "      <td>18.657181</td>\n",
       "      <td>0.499871</td>\n",
       "      <td>6</td>\n",
       "      <td>11</td>\n",
       "      <td>1111</td>\n",
       "      <td>0</td>\n",
       "      <td>1</td>\n",
       "      <td>0</td>\n",
       "      <td>0</td>\n",
       "      <td>7.589015</td>\n",
       "      <td>-1.650129</td>\n",
       "      <td>-1.310603</td>\n",
       "      <td>3.457031</td>\n",
       "      <td>-999.0</td>\n",
       "      <td>18.657181</td>\n",
       "      <td>0.499871</td>\n",
       "      <td>6</td>\n",
       "      <td>0</td>\n",
       "      <td>1</td>\n",
       "      <td>0</td>\n",
       "      <td>0</td>\n",
       "    </tr>\n",
       "  </tbody>\n",
       "</table>\n",
       "</div>"
      ],
      "text/plain": [
       "                     tp_pt    tp_eta    tp_phi   tp_dxy     tp_d0     tp_z0  \\\n",
       "entry subentry                                                                \n",
       "0     0         100.300301 -0.898876  0.061430  0.00125  0.000543  3.500762   \n",
       "      1           2.052715 -1.650001 -2.781972  0.00125  0.000306  3.496469   \n",
       "      2           6.453084 -0.604645 -2.807965  0.00125  0.000281  3.498704   \n",
       "      3           8.502528 -0.446424 -1.675735  0.00125  0.001191  3.499362   \n",
       "      4           7.538472 -1.650967 -1.311853  0.00125  0.001264  3.499881   \n",
       "\n",
       "                tp_d0_prod  tp_z0_prod  tp_pdgid  tp_nmatch  tp_nloosematch  \\\n",
       "entry subentry                                                                \n",
       "0     0          -0.000073    3.499485        13          1               1   \n",
       "      1          -0.000297    3.499485       211          1               1   \n",
       "      2          -0.000265    3.499485      2212          1               1   \n",
       "      3          -0.001218    3.499485      -321          1               1   \n",
       "      4          -0.001238    3.499485      -211          1               1   \n",
       "\n",
       "                tp_nstub  tp_eventid  tp_charge  tp_injet  tp_injet_highpt  \\\n",
       "entry subentry                                                               \n",
       "0     0                8           0         -1         1                1   \n",
       "      1                9           0          1         0                0   \n",
       "      2                8           0          1         0                0   \n",
       "      3                5           0         -1         1                0   \n",
       "      4                7           0         -1         1                0   \n",
       "\n",
       "                tp_injet_vhighpt  matchtrk_pt  matchtrk_eta  matchtrk_phi  \\\n",
       "entry subentry                                                              \n",
       "0     0                        0   102.943588     -0.900577      0.061580   \n",
       "      1                        0     2.034012     -1.651574     -2.782407   \n",
       "      2                        0     6.475194     -0.604991     -2.808045   \n",
       "      3                        0     8.506432     -0.449548     -1.675164   \n",
       "      4                        0     7.589015     -1.650129     -1.310603   \n",
       "\n",
       "                matchtrk_z0  matchtrk_d0  matchtrk_chi2  matchtrk_bendchi2  \\\n",
       "entry subentry                                                               \n",
       "0     0            3.574219       -999.0       7.661629           0.025519   \n",
       "      1            3.750000       -999.0       8.667765           1.376251   \n",
       "      2            3.574219       -999.0       4.947954           1.358919   \n",
       "      3            3.574219       -999.0       3.709781           0.449784   \n",
       "      4            3.457031       -999.0      18.657181           0.499871   \n",
       "\n",
       "                matchtrk_nstub  matchtrk_lhits  matchtrk_dhits  matchtrk_seed  \\\n",
       "entry subentry                                                                  \n",
       "0     0                      6          111111               0              0   \n",
       "      1                      6              11            1111              0   \n",
       "      2                      6          111111               0              0   \n",
       "      3                      5          111011               0              0   \n",
       "      4                      6              11            1111              0   \n",
       "\n",
       "                matchtrk_injet  matchtrk_injet_highpt  matchtrk_injet_vhighpt  \\\n",
       "entry subentry                                                                  \n",
       "0     0                      1                      1                       0   \n",
       "      1                      0                      0                       0   \n",
       "      2                      0                      0                       0   \n",
       "      3                      1                      0                       0   \n",
       "      4                      1                      0                       0   \n",
       "\n",
       "                loosematchtrk_pt  loosematchtrk_eta  loosematchtrk_phi  \\\n",
       "entry subentry                                                           \n",
       "0     0               102.943588          -0.900577           0.061580   \n",
       "      1                 2.034012          -1.651574          -2.782407   \n",
       "      2                 6.475194          -0.604991          -2.808045   \n",
       "      3                 8.506432          -0.449548          -1.675164   \n",
       "      4                 7.589015          -1.650129          -1.310603   \n",
       "\n",
       "                loosematchtrk_z0  loosematchtrk_d0  loosematchtrk_chi2  \\\n",
       "entry subentry                                                           \n",
       "0     0                 3.574219            -999.0            7.661629   \n",
       "      1                 3.750000            -999.0            8.667765   \n",
       "      2                 3.574219            -999.0            4.947954   \n",
       "      3                 3.574219            -999.0            3.709781   \n",
       "      4                 3.457031            -999.0           18.657181   \n",
       "\n",
       "                loosematchtrk_bendchi2  loosematchtrk_nstub  \\\n",
       "entry subentry                                                \n",
       "0     0                       0.025519                    6   \n",
       "      1                       1.376251                    6   \n",
       "      2                       1.358919                    6   \n",
       "      3                       0.449784                    5   \n",
       "      4                       0.499871                    6   \n",
       "\n",
       "                loosematchtrk_seed  loosematchtrk_injet  \\\n",
       "entry subentry                                            \n",
       "0     0                          0                    1   \n",
       "      1                          0                    0   \n",
       "      2                          0                    0   \n",
       "      3                          0                    1   \n",
       "      4                          0                    1   \n",
       "\n",
       "                loosematchtrk_injet_highpt  loosematchtrk_injet_vhighpt  \n",
       "entry subentry                                                           \n",
       "0     0                                  1                            0  \n",
       "      1                                  0                            0  \n",
       "      2                                  0                            0  \n",
       "      3                                  0                            0  \n",
       "      4                                  0                            0  "
      ]
     },
     "execution_count": 18,
     "metadata": {},
     "output_type": "execute_result"
    }
   ],
   "source": [
    "tp.head()"
   ]
  },
  {
   "cell_type": "markdown",
   "metadata": {},
   "source": [
    "uproot read this data into a multi-indexed pandas dataframe. The main index 'entry' represents the event number and then second level index. 'subentry' is the entry for each track in the event. This is better than uproot3 that reads each event with a list of tp parameters that are difficult to access."
   ]
  },
  {
   "cell_type": "markdown",
   "metadata": {},
   "source": [
    "**Assume we only care about the \"truth\" tracking parameters for the clustering**"
   ]
  },
  {
   "cell_type": "code",
   "execution_count": 19,
   "metadata": {},
   "outputs": [
    {
     "data": {
      "text/plain": [
       "3.4658437"
      ]
     },
     "execution_count": 19,
     "metadata": {},
     "output_type": "execute_result"
    }
   ],
   "source": [
    "tp.groupby([\"entry\"])[\"tp_pt\"].mean()[1]"
   ]
  },
  {
   "cell_type": "markdown",
   "metadata": {},
   "source": [
    "Let's see what the first event looks like"
   ]
  },
  {
   "cell_type": "code",
   "execution_count": 20,
   "metadata": {},
   "outputs": [],
   "source": [
    "event1 = tp.loc[0, :]"
   ]
  },
  {
   "cell_type": "code",
   "execution_count": 21,
   "metadata": {},
   "outputs": [],
   "source": [
    "import matplotlib"
   ]
  },
  {
   "cell_type": "code",
   "execution_count": 22,
   "metadata": {},
   "outputs": [],
   "source": [
    "import random"
   ]
  },
  {
   "cell_type": "code",
   "execution_count": 24,
   "metadata": {},
   "outputs": [
    {
     "data": {
      "text/plain": [
       "0.28542652595065376"
      ]
     },
     "execution_count": 24,
     "metadata": {},
     "output_type": "execute_result"
    }
   ],
   "source": [
    "random.random()"
   ]
  },
  {
   "cell_type": "markdown",
   "metadata": {},
   "source": [
    "for plotting purposes lets find out the mean z0 for each cluster and count the number of tracks belong to each cluster so we can size them accordingly."
   ]
  },
  {
   "cell_type": "code",
   "execution_count": 25,
   "metadata": {
    "tags": []
   },
   "outputs": [],
   "source": [
    "mean_z0 = event1.groupby([\"tp_eventid\"]).agg({\"tp_eventid\": \"count\", \"tp_z0\": \"mean\"})"
   ]
  },
  {
   "cell_type": "code",
   "execution_count": 26,
   "metadata": {},
   "outputs": [],
   "source": [
    "colors = [\n",
    "    matplotlib.cm.Spectral(float(i) / 10 * random.random()) for i in range(len(mean_z0))\n",
    "]"
   ]
  },
  {
   "cell_type": "code",
   "execution_count": 27,
   "metadata": {},
   "outputs": [
    {
     "data": {
      "text/plain": [
       "3.444006"
      ]
     },
     "execution_count": 27,
     "metadata": {},
     "output_type": "execute_result"
    }
   ],
   "source": [
    "mean_z0[\"tp_z0\"][0]"
   ]
  },
  {
   "cell_type": "code",
   "execution_count": 28,
   "metadata": {},
   "outputs": [
    {
     "data": {
      "text/plain": [
       "0.9867714462474566"
      ]
     },
     "execution_count": 28,
     "metadata": {},
     "output_type": "execute_result"
    }
   ],
   "source": [
    "random.uniform(0.950, 1.050)"
   ]
  },
  {
   "cell_type": "code",
   "execution_count": 29,
   "metadata": {},
   "outputs": [
    {
     "data": {
      "text/plain": [
       "array([  0,   6,   7,   8,  19,  20,  21,  22,  26,  42,  43,  45,  46,\n",
       "        60,  61,  68,  71,  73,  78,  87,  88,  92,  93, 107, 114, 116,\n",
       "       119, 126, 127, 138, 139, 142, 148, 155, 156, 157, 161, 162, 166,\n",
       "       170, 172, 173, 175, 182, 184, 187, 188, 192, 194, 198, 199, 202,\n",
       "       207, 211])"
      ]
     },
     "execution_count": 29,
     "metadata": {},
     "output_type": "execute_result"
    }
   ],
   "source": [
    "mean_z0.index.values"
   ]
  },
  {
   "cell_type": "code",
   "execution_count": 93,
   "metadata": {
    "jupyter": {
     "source_hidden": true
    },
    "tags": []
   },
   "outputs": [
    {
     "ename": "ValueError",
     "evalue": "'c' argument has 22 elements, which is inconsistent with 'x' and 'y' with size 54.",
     "output_type": "error",
     "traceback": [
      "\u001b[0;31m---------------------------------------------------------------------------\u001b[0m",
      "\u001b[0;31mValueError\u001b[0m                                Traceback (most recent call last)",
      "\u001b[0;32m/var/folders/6z/z5fs58w94yj6n956c8v6f_6r0000gn/T/ipykernel_50618/1163583727.py\u001b[0m in \u001b[0;36m<module>\u001b[0;34m\u001b[0m\n\u001b[1;32m      1\u001b[0m \u001b[0mfig\u001b[0m\u001b[0;34m,\u001b[0m \u001b[0max\u001b[0m \u001b[0;34m=\u001b[0m \u001b[0mplt\u001b[0m\u001b[0;34m.\u001b[0m\u001b[0msubplots\u001b[0m\u001b[0;34m(\u001b[0m\u001b[0mfigsize\u001b[0m\u001b[0;34m=\u001b[0m\u001b[0;34m(\u001b[0m\u001b[0;36m24\u001b[0m\u001b[0;34m,\u001b[0m \u001b[0;36m4\u001b[0m\u001b[0;34m)\u001b[0m\u001b[0;34m)\u001b[0m\u001b[0;34m\u001b[0m\u001b[0;34m\u001b[0m\u001b[0m\n\u001b[0;32m----> 2\u001b[0;31m ax.scatter(\n\u001b[0m\u001b[1;32m      3\u001b[0m     \u001b[0mmean_z0\u001b[0m\u001b[0;34m[\u001b[0m\u001b[0;34m\"tp_z0\"\u001b[0m\u001b[0;34m]\u001b[0m\u001b[0;34m,\u001b[0m \u001b[0mlen\u001b[0m\u001b[0;34m(\u001b[0m\u001b[0mmean_z0\u001b[0m\u001b[0;34m)\u001b[0m \u001b[0;34m*\u001b[0m \u001b[0;34m[\u001b[0m\u001b[0;36m1\u001b[0m\u001b[0;34m]\u001b[0m\u001b[0;34m,\u001b[0m \u001b[0ms\u001b[0m\u001b[0;34m=\u001b[0m\u001b[0mmean_z0\u001b[0m\u001b[0;34m[\u001b[0m\u001b[0;34m\"tp_eventid\"\u001b[0m\u001b[0;34m]\u001b[0m \u001b[0;34m*\u001b[0m \u001b[0;36m20\u001b[0m\u001b[0;34m,\u001b[0m \u001b[0mcolor\u001b[0m\u001b[0;34m=\u001b[0m\u001b[0mcolors\u001b[0m\u001b[0;34m\u001b[0m\u001b[0;34m\u001b[0m\u001b[0m\n\u001b[1;32m      4\u001b[0m )\n\u001b[1;32m      5\u001b[0m \u001b[0max\u001b[0m\u001b[0;34m.\u001b[0m\u001b[0mset_xlabel\u001b[0m\u001b[0;34m(\u001b[0m\u001b[0;34mr\"$z_{0}$ [cm]\"\u001b[0m\u001b[0;34m,\u001b[0m \u001b[0mfontsize\u001b[0m\u001b[0;34m=\u001b[0m\u001b[0;36m32\u001b[0m\u001b[0;34m)\u001b[0m\u001b[0;34m\u001b[0m\u001b[0;34m\u001b[0m\u001b[0m\n",
      "\u001b[0;32m~/opt/anaconda3/envs/db-clustering/lib/python3.8/site-packages/matplotlib/__init__.py\u001b[0m in \u001b[0;36minner\u001b[0;34m(ax, data, *args, **kwargs)\u001b[0m\n\u001b[1;32m   1359\u001b[0m     \u001b[0;32mdef\u001b[0m \u001b[0minner\u001b[0m\u001b[0;34m(\u001b[0m\u001b[0max\u001b[0m\u001b[0;34m,\u001b[0m \u001b[0;34m*\u001b[0m\u001b[0margs\u001b[0m\u001b[0;34m,\u001b[0m \u001b[0mdata\u001b[0m\u001b[0;34m=\u001b[0m\u001b[0;32mNone\u001b[0m\u001b[0;34m,\u001b[0m \u001b[0;34m**\u001b[0m\u001b[0mkwargs\u001b[0m\u001b[0;34m)\u001b[0m\u001b[0;34m:\u001b[0m\u001b[0;34m\u001b[0m\u001b[0;34m\u001b[0m\u001b[0m\n\u001b[1;32m   1360\u001b[0m         \u001b[0;32mif\u001b[0m \u001b[0mdata\u001b[0m \u001b[0;32mis\u001b[0m \u001b[0;32mNone\u001b[0m\u001b[0;34m:\u001b[0m\u001b[0;34m\u001b[0m\u001b[0;34m\u001b[0m\u001b[0m\n\u001b[0;32m-> 1361\u001b[0;31m             \u001b[0;32mreturn\u001b[0m \u001b[0mfunc\u001b[0m\u001b[0;34m(\u001b[0m\u001b[0max\u001b[0m\u001b[0;34m,\u001b[0m \u001b[0;34m*\u001b[0m\u001b[0mmap\u001b[0m\u001b[0;34m(\u001b[0m\u001b[0msanitize_sequence\u001b[0m\u001b[0;34m,\u001b[0m \u001b[0margs\u001b[0m\u001b[0;34m)\u001b[0m\u001b[0;34m,\u001b[0m \u001b[0;34m**\u001b[0m\u001b[0mkwargs\u001b[0m\u001b[0;34m)\u001b[0m\u001b[0;34m\u001b[0m\u001b[0;34m\u001b[0m\u001b[0m\n\u001b[0m\u001b[1;32m   1362\u001b[0m \u001b[0;34m\u001b[0m\u001b[0m\n\u001b[1;32m   1363\u001b[0m         \u001b[0mbound\u001b[0m \u001b[0;34m=\u001b[0m \u001b[0mnew_sig\u001b[0m\u001b[0;34m.\u001b[0m\u001b[0mbind\u001b[0m\u001b[0;34m(\u001b[0m\u001b[0max\u001b[0m\u001b[0;34m,\u001b[0m \u001b[0;34m*\u001b[0m\u001b[0margs\u001b[0m\u001b[0;34m,\u001b[0m \u001b[0;34m**\u001b[0m\u001b[0mkwargs\u001b[0m\u001b[0;34m)\u001b[0m\u001b[0;34m\u001b[0m\u001b[0;34m\u001b[0m\u001b[0m\n",
      "\u001b[0;32m~/opt/anaconda3/envs/db-clustering/lib/python3.8/site-packages/matplotlib/axes/_axes.py\u001b[0m in \u001b[0;36mscatter\u001b[0;34m(self, x, y, s, c, marker, cmap, norm, vmin, vmax, alpha, linewidths, edgecolors, plotnonfinite, **kwargs)\u001b[0m\n\u001b[1;32m   4514\u001b[0m             \u001b[0morig_edgecolor\u001b[0m \u001b[0;34m=\u001b[0m \u001b[0mkwargs\u001b[0m\u001b[0;34m.\u001b[0m\u001b[0mget\u001b[0m\u001b[0;34m(\u001b[0m\u001b[0;34m'edgecolor'\u001b[0m\u001b[0;34m,\u001b[0m \u001b[0;32mNone\u001b[0m\u001b[0;34m)\u001b[0m\u001b[0;34m\u001b[0m\u001b[0;34m\u001b[0m\u001b[0m\n\u001b[1;32m   4515\u001b[0m         \u001b[0mc\u001b[0m\u001b[0;34m,\u001b[0m \u001b[0mcolors\u001b[0m\u001b[0;34m,\u001b[0m \u001b[0medgecolors\u001b[0m \u001b[0;34m=\u001b[0m\u001b[0;31m \u001b[0m\u001b[0;31m\\\u001b[0m\u001b[0;34m\u001b[0m\u001b[0;34m\u001b[0m\u001b[0m\n\u001b[0;32m-> 4516\u001b[0;31m             self._parse_scatter_color_args(\n\u001b[0m\u001b[1;32m   4517\u001b[0m                 \u001b[0mc\u001b[0m\u001b[0;34m,\u001b[0m \u001b[0medgecolors\u001b[0m\u001b[0;34m,\u001b[0m \u001b[0mkwargs\u001b[0m\u001b[0;34m,\u001b[0m \u001b[0mx\u001b[0m\u001b[0;34m.\u001b[0m\u001b[0msize\u001b[0m\u001b[0;34m,\u001b[0m\u001b[0;34m\u001b[0m\u001b[0;34m\u001b[0m\u001b[0m\n\u001b[1;32m   4518\u001b[0m                 get_next_color_func=self._get_patches_for_fill.get_next_color)\n",
      "\u001b[0;32m~/opt/anaconda3/envs/db-clustering/lib/python3.8/site-packages/matplotlib/axes/_axes.py\u001b[0m in \u001b[0;36m_parse_scatter_color_args\u001b[0;34m(c, edgecolors, kwargs, xsize, get_next_color_func)\u001b[0m\n\u001b[1;32m   4364\u001b[0m                     \u001b[0;31m# NB: remember that a single color is also acceptable.\u001b[0m\u001b[0;34m\u001b[0m\u001b[0;34m\u001b[0m\u001b[0;34m\u001b[0m\u001b[0m\n\u001b[1;32m   4365\u001b[0m                     \u001b[0;31m# Besides *colors* will be an empty array if c == 'none'.\u001b[0m\u001b[0;34m\u001b[0m\u001b[0;34m\u001b[0m\u001b[0;34m\u001b[0m\u001b[0m\n\u001b[0;32m-> 4366\u001b[0;31m                     \u001b[0;32mraise\u001b[0m \u001b[0minvalid_shape_exception\u001b[0m\u001b[0;34m(\u001b[0m\u001b[0mlen\u001b[0m\u001b[0;34m(\u001b[0m\u001b[0mcolors\u001b[0m\u001b[0;34m)\u001b[0m\u001b[0;34m,\u001b[0m \u001b[0mxsize\u001b[0m\u001b[0;34m)\u001b[0m\u001b[0;34m\u001b[0m\u001b[0;34m\u001b[0m\u001b[0m\n\u001b[0m\u001b[1;32m   4367\u001b[0m         \u001b[0;32melse\u001b[0m\u001b[0;34m:\u001b[0m\u001b[0;34m\u001b[0m\u001b[0;34m\u001b[0m\u001b[0m\n\u001b[1;32m   4368\u001b[0m             \u001b[0mcolors\u001b[0m \u001b[0;34m=\u001b[0m \u001b[0;32mNone\u001b[0m  \u001b[0;31m# use cmap, norm after collection is created\u001b[0m\u001b[0;34m\u001b[0m\u001b[0;34m\u001b[0m\u001b[0m\n",
      "\u001b[0;31mValueError\u001b[0m: 'c' argument has 22 elements, which is inconsistent with 'x' and 'y' with size 54."
     ]
    },
    {
     "data": {
      "image/png": "[encoded data removed]",
      "text/plain": [
       "<Figure size 1728x288 with 1 Axes>"
      ]
     },
     "metadata": {
      "needs_background": "light"
     },
     "output_type": "display_data"
    }
   ],
   "source": [
    "fig, ax = plt.subplots(figsize=(24, 4))\n",
    "ax.scatter(\n",
    "    mean_z0[\"tp_z0\"], len(mean_z0) * [1], s=mean_z0[\"tp_eventid\"] * 20, color=colors\n",
    ")\n",
    "ax.set_xlabel(r\"$z_{0}$ [cm]\", fontsize=32)\n",
    "y = 1\n",
    "for i, (txt, x) in enumerate(zip(mean_z0.index.values, mean_z0[\"tp_z0\"].values)):\n",
    "    #     if y == 0:\n",
    "    #         y = 1.025\n",
    "    #     else:\n",
    "    #         y = 0.975\n",
    "\n",
    "    ax.annotate(txt, (x, y + random.uniform(-0.050, 0.050)), fontsize=10)\n",
    "ax.plot(\n",
    "    mean_z0[\"tp_z0\"][0],\n",
    "    [1],\n",
    "    marker=\"*\",\n",
    "    markerfacecolor=\"None\",\n",
    "    markersize=32,\n",
    "    markeredgecolor=\"gold\",\n",
    "    label=\"primary vertex\",\n",
    ")\n",
    "ax.legend()\n",
    "_ = ax.set_yticklabels([])"
   ]
  },
  {
   "cell_type": "markdown",
   "metadata": {},
   "source": [
    "I don't want to spend more time making this plot prettier (it should just be made with plotly instead, but its currently breaking my other installs).  However we can see some of the identifying features of the primary vertex reconstruction"
   ]
  },
  {
   "cell_type": "markdown",
   "metadata": {},
   "source": [
    "# True Primary Vertex $z_0$"
   ]
  },
  {
   "cell_type": "markdown",
   "metadata": {},
   "source": [
    "Before we can actually quantify anything about the different algorithms we use, we need to first find out what the \"truth\" z0 of the primary vertex actually is. To do this we will use the following procedure.\n",
    "- For each event, find all the truth tracks that belong to the primary vertex by using the `tp_eventid == 0` mask\n",
    "- Remove any instance of a secondary vertex by setting that $|d_0| < 0.01$ cm (Unclear as to why this is needed given the mask above)\n",
    "- Take the mean of all the remaining tracks in the event and this corresponds to the \"truth\" or true primary vertex $z_0$."
   ]
  },
  {
   "cell_type": "code",
   "execution_count": 31,
   "metadata": {},
   "outputs": [],
   "source": [
    "mask_pv_me = tp[\"tp_eventid\"] == 0"
   ]
  },
  {
   "cell_type": "code",
   "execution_count": 32,
   "metadata": {},
   "outputs": [],
   "source": [
    "mask_no_sv_me = (tp[\"tp_d0\"].abs()) < 0.01"
   ]
  },
  {
   "cell_type": "code",
   "execution_count": 33,
   "metadata": {},
   "outputs": [
    {
     "data": {
      "text/html": [
       "<div>\n",
       "<style scoped>\n",
       "    .dataframe tbody tr th:only-of-type {\n",
       "        vertical-align: middle;\n",
       "    }\n",
       "\n",
       "    .dataframe tbody tr th {\n",
       "        vertical-align: top;\n",
       "    }\n",
       "\n",
       "    .dataframe thead th {\n",
       "        text-align: right;\n",
       "    }\n",
       "</style>\n",
       "<table border=\"1\" class=\"dataframe\">\n",
       "  <thead>\n",
       "    <tr style=\"text-align: right;\">\n",
       "      <th></th>\n",
       "      <th></th>\n",
       "      <th>tp_pt</th>\n",
       "      <th>tp_eta</th>\n",
       "      <th>tp_phi</th>\n",
       "      <th>tp_dxy</th>\n",
       "      <th>tp_d0</th>\n",
       "      <th>tp_z0</th>\n",
       "      <th>tp_d0_prod</th>\n",
       "      <th>tp_z0_prod</th>\n",
       "      <th>tp_pdgid</th>\n",
       "      <th>tp_nmatch</th>\n",
       "      <th>tp_nloosematch</th>\n",
       "      <th>tp_nstub</th>\n",
       "      <th>tp_eventid</th>\n",
       "      <th>tp_charge</th>\n",
       "      <th>tp_injet</th>\n",
       "      <th>tp_injet_highpt</th>\n",
       "      <th>tp_injet_vhighpt</th>\n",
       "      <th>matchtrk_pt</th>\n",
       "      <th>matchtrk_eta</th>\n",
       "      <th>matchtrk_phi</th>\n",
       "      <th>matchtrk_z0</th>\n",
       "      <th>matchtrk_d0</th>\n",
       "      <th>matchtrk_chi2</th>\n",
       "      <th>matchtrk_bendchi2</th>\n",
       "      <th>matchtrk_nstub</th>\n",
       "      <th>matchtrk_lhits</th>\n",
       "      <th>matchtrk_dhits</th>\n",
       "      <th>matchtrk_seed</th>\n",
       "      <th>matchtrk_injet</th>\n",
       "      <th>matchtrk_injet_highpt</th>\n",
       "      <th>matchtrk_injet_vhighpt</th>\n",
       "      <th>loosematchtrk_pt</th>\n",
       "      <th>loosematchtrk_eta</th>\n",
       "      <th>loosematchtrk_phi</th>\n",
       "      <th>loosematchtrk_z0</th>\n",
       "      <th>loosematchtrk_d0</th>\n",
       "      <th>loosematchtrk_chi2</th>\n",
       "      <th>loosematchtrk_bendchi2</th>\n",
       "      <th>loosematchtrk_nstub</th>\n",
       "      <th>loosematchtrk_seed</th>\n",
       "      <th>loosematchtrk_injet</th>\n",
       "      <th>loosematchtrk_injet_highpt</th>\n",
       "      <th>loosematchtrk_injet_vhighpt</th>\n",
       "    </tr>\n",
       "    <tr>\n",
       "      <th>entry</th>\n",
       "      <th>subentry</th>\n",
       "      <th></th>\n",
       "      <th></th>\n",
       "      <th></th>\n",
       "      <th></th>\n",
       "      <th></th>\n",
       "      <th></th>\n",
       "      <th></th>\n",
       "      <th></th>\n",
       "      <th></th>\n",
       "      <th></th>\n",
       "      <th></th>\n",
       "      <th></th>\n",
       "      <th></th>\n",
       "      <th></th>\n",
       "      <th></th>\n",
       "      <th></th>\n",
       "      <th></th>\n",
       "      <th></th>\n",
       "      <th></th>\n",
       "      <th></th>\n",
       "      <th></th>\n",
       "      <th></th>\n",
       "      <th></th>\n",
       "      <th></th>\n",
       "      <th></th>\n",
       "      <th></th>\n",
       "      <th></th>\n",
       "      <th></th>\n",
       "      <th></th>\n",
       "      <th></th>\n",
       "      <th></th>\n",
       "      <th></th>\n",
       "      <th></th>\n",
       "      <th></th>\n",
       "      <th></th>\n",
       "      <th></th>\n",
       "      <th></th>\n",
       "      <th></th>\n",
       "      <th></th>\n",
       "      <th></th>\n",
       "      <th></th>\n",
       "      <th></th>\n",
       "      <th></th>\n",
       "    </tr>\n",
       "  </thead>\n",
       "  <tbody>\n",
       "    <tr>\n",
       "      <th rowspan=\"5\" valign=\"top\">0</th>\n",
       "      <th>0</th>\n",
       "      <td>100.300301</td>\n",
       "      <td>-0.898876</td>\n",
       "      <td>0.061430</td>\n",
       "      <td>0.001250</td>\n",
       "      <td>0.000543</td>\n",
       "      <td>3.500762</td>\n",
       "      <td>-0.000073</td>\n",
       "      <td>3.499485</td>\n",
       "      <td>13</td>\n",
       "      <td>1</td>\n",
       "      <td>1</td>\n",
       "      <td>8</td>\n",
       "      <td>0</td>\n",
       "      <td>-1</td>\n",
       "      <td>1</td>\n",
       "      <td>1</td>\n",
       "      <td>0</td>\n",
       "      <td>102.943588</td>\n",
       "      <td>-0.900577</td>\n",
       "      <td>0.061580</td>\n",
       "      <td>3.574219</td>\n",
       "      <td>-999.0</td>\n",
       "      <td>7.661629</td>\n",
       "      <td>0.025519</td>\n",
       "      <td>6</td>\n",
       "      <td>111111</td>\n",
       "      <td>0</td>\n",
       "      <td>0</td>\n",
       "      <td>1</td>\n",
       "      <td>1</td>\n",
       "      <td>0</td>\n",
       "      <td>102.943588</td>\n",
       "      <td>-0.900577</td>\n",
       "      <td>0.061580</td>\n",
       "      <td>3.574219</td>\n",
       "      <td>-999.0</td>\n",
       "      <td>7.661629</td>\n",
       "      <td>0.025519</td>\n",
       "      <td>6</td>\n",
       "      <td>0</td>\n",
       "      <td>1</td>\n",
       "      <td>1</td>\n",
       "      <td>0</td>\n",
       "    </tr>\n",
       "    <tr>\n",
       "      <th>1</th>\n",
       "      <td>2.052715</td>\n",
       "      <td>-1.650001</td>\n",
       "      <td>-2.781972</td>\n",
       "      <td>0.001250</td>\n",
       "      <td>0.000306</td>\n",
       "      <td>3.496469</td>\n",
       "      <td>-0.000297</td>\n",
       "      <td>3.499485</td>\n",
       "      <td>211</td>\n",
       "      <td>1</td>\n",
       "      <td>1</td>\n",
       "      <td>9</td>\n",
       "      <td>0</td>\n",
       "      <td>1</td>\n",
       "      <td>0</td>\n",
       "      <td>0</td>\n",
       "      <td>0</td>\n",
       "      <td>2.034012</td>\n",
       "      <td>-1.651574</td>\n",
       "      <td>-2.782407</td>\n",
       "      <td>3.750000</td>\n",
       "      <td>-999.0</td>\n",
       "      <td>8.667765</td>\n",
       "      <td>1.376251</td>\n",
       "      <td>6</td>\n",
       "      <td>11</td>\n",
       "      <td>1111</td>\n",
       "      <td>0</td>\n",
       "      <td>0</td>\n",
       "      <td>0</td>\n",
       "      <td>0</td>\n",
       "      <td>2.034012</td>\n",
       "      <td>-1.651574</td>\n",
       "      <td>-2.782407</td>\n",
       "      <td>3.750000</td>\n",
       "      <td>-999.0</td>\n",
       "      <td>8.667765</td>\n",
       "      <td>1.376251</td>\n",
       "      <td>6</td>\n",
       "      <td>0</td>\n",
       "      <td>0</td>\n",
       "      <td>0</td>\n",
       "      <td>0</td>\n",
       "    </tr>\n",
       "    <tr>\n",
       "      <th>2</th>\n",
       "      <td>6.453084</td>\n",
       "      <td>-0.604645</td>\n",
       "      <td>-2.807965</td>\n",
       "      <td>0.001250</td>\n",
       "      <td>0.000281</td>\n",
       "      <td>3.498704</td>\n",
       "      <td>-0.000265</td>\n",
       "      <td>3.499485</td>\n",
       "      <td>2212</td>\n",
       "      <td>1</td>\n",
       "      <td>1</td>\n",
       "      <td>8</td>\n",
       "      <td>0</td>\n",
       "      <td>1</td>\n",
       "      <td>0</td>\n",
       "      <td>0</td>\n",
       "      <td>0</td>\n",
       "      <td>6.475194</td>\n",
       "      <td>-0.604991</td>\n",
       "      <td>-2.808045</td>\n",
       "      <td>3.574219</td>\n",
       "      <td>-999.0</td>\n",
       "      <td>4.947954</td>\n",
       "      <td>1.358919</td>\n",
       "      <td>6</td>\n",
       "      <td>111111</td>\n",
       "      <td>0</td>\n",
       "      <td>0</td>\n",
       "      <td>0</td>\n",
       "      <td>0</td>\n",
       "      <td>0</td>\n",
       "      <td>6.475194</td>\n",
       "      <td>-0.604991</td>\n",
       "      <td>-2.808045</td>\n",
       "      <td>3.574219</td>\n",
       "      <td>-999.0</td>\n",
       "      <td>4.947954</td>\n",
       "      <td>1.358919</td>\n",
       "      <td>6</td>\n",
       "      <td>0</td>\n",
       "      <td>0</td>\n",
       "      <td>0</td>\n",
       "      <td>0</td>\n",
       "    </tr>\n",
       "    <tr>\n",
       "      <th>3</th>\n",
       "      <td>8.502528</td>\n",
       "      <td>-0.446424</td>\n",
       "      <td>-1.675735</td>\n",
       "      <td>0.001250</td>\n",
       "      <td>0.001191</td>\n",
       "      <td>3.499362</td>\n",
       "      <td>-0.001218</td>\n",
       "      <td>3.499485</td>\n",
       "      <td>-321</td>\n",
       "      <td>1</td>\n",
       "      <td>1</td>\n",
       "      <td>5</td>\n",
       "      <td>0</td>\n",
       "      <td>-1</td>\n",
       "      <td>1</td>\n",
       "      <td>0</td>\n",
       "      <td>0</td>\n",
       "      <td>8.506432</td>\n",
       "      <td>-0.449548</td>\n",
       "      <td>-1.675164</td>\n",
       "      <td>3.574219</td>\n",
       "      <td>-999.0</td>\n",
       "      <td>3.709781</td>\n",
       "      <td>0.449784</td>\n",
       "      <td>5</td>\n",
       "      <td>111011</td>\n",
       "      <td>0</td>\n",
       "      <td>0</td>\n",
       "      <td>1</td>\n",
       "      <td>0</td>\n",
       "      <td>0</td>\n",
       "      <td>8.506432</td>\n",
       "      <td>-0.449548</td>\n",
       "      <td>-1.675164</td>\n",
       "      <td>3.574219</td>\n",
       "      <td>-999.0</td>\n",
       "      <td>3.709781</td>\n",
       "      <td>0.449784</td>\n",
       "      <td>5</td>\n",
       "      <td>0</td>\n",
       "      <td>1</td>\n",
       "      <td>0</td>\n",
       "      <td>0</td>\n",
       "    </tr>\n",
       "    <tr>\n",
       "      <th>4</th>\n",
       "      <td>7.538472</td>\n",
       "      <td>-1.650967</td>\n",
       "      <td>-1.311853</td>\n",
       "      <td>0.001250</td>\n",
       "      <td>0.001264</td>\n",
       "      <td>3.499881</td>\n",
       "      <td>-0.001238</td>\n",
       "      <td>3.499485</td>\n",
       "      <td>-211</td>\n",
       "      <td>1</td>\n",
       "      <td>1</td>\n",
       "      <td>7</td>\n",
       "      <td>0</td>\n",
       "      <td>-1</td>\n",
       "      <td>1</td>\n",
       "      <td>0</td>\n",
       "      <td>0</td>\n",
       "      <td>7.589015</td>\n",
       "      <td>-1.650129</td>\n",
       "      <td>-1.310603</td>\n",
       "      <td>3.457031</td>\n",
       "      <td>-999.0</td>\n",
       "      <td>18.657181</td>\n",
       "      <td>0.499871</td>\n",
       "      <td>6</td>\n",
       "      <td>11</td>\n",
       "      <td>1111</td>\n",
       "      <td>0</td>\n",
       "      <td>1</td>\n",
       "      <td>0</td>\n",
       "      <td>0</td>\n",
       "      <td>7.589015</td>\n",
       "      <td>-1.650129</td>\n",
       "      <td>-1.310603</td>\n",
       "      <td>3.457031</td>\n",
       "      <td>-999.0</td>\n",
       "      <td>18.657181</td>\n",
       "      <td>0.499871</td>\n",
       "      <td>6</td>\n",
       "      <td>0</td>\n",
       "      <td>1</td>\n",
       "      <td>0</td>\n",
       "      <td>0</td>\n",
       "    </tr>\n",
       "    <tr>\n",
       "      <th>...</th>\n",
       "      <th>...</th>\n",
       "      <td>...</td>\n",
       "      <td>...</td>\n",
       "      <td>...</td>\n",
       "      <td>...</td>\n",
       "      <td>...</td>\n",
       "      <td>...</td>\n",
       "      <td>...</td>\n",
       "      <td>...</td>\n",
       "      <td>...</td>\n",
       "      <td>...</td>\n",
       "      <td>...</td>\n",
       "      <td>...</td>\n",
       "      <td>...</td>\n",
       "      <td>...</td>\n",
       "      <td>...</td>\n",
       "      <td>...</td>\n",
       "      <td>...</td>\n",
       "      <td>...</td>\n",
       "      <td>...</td>\n",
       "      <td>...</td>\n",
       "      <td>...</td>\n",
       "      <td>...</td>\n",
       "      <td>...</td>\n",
       "      <td>...</td>\n",
       "      <td>...</td>\n",
       "      <td>...</td>\n",
       "      <td>...</td>\n",
       "      <td>...</td>\n",
       "      <td>...</td>\n",
       "      <td>...</td>\n",
       "      <td>...</td>\n",
       "      <td>...</td>\n",
       "      <td>...</td>\n",
       "      <td>...</td>\n",
       "      <td>...</td>\n",
       "      <td>...</td>\n",
       "      <td>...</td>\n",
       "      <td>...</td>\n",
       "      <td>...</td>\n",
       "      <td>...</td>\n",
       "      <td>...</td>\n",
       "      <td>...</td>\n",
       "      <td>...</td>\n",
       "    </tr>\n",
       "    <tr>\n",
       "      <th rowspan=\"5\" valign=\"top\">24947</th>\n",
       "      <th>6</th>\n",
       "      <td>37.316452</td>\n",
       "      <td>-0.756630</td>\n",
       "      <td>-2.015774</td>\n",
       "      <td>0.184507</td>\n",
       "      <td>0.000236</td>\n",
       "      <td>0.304796</td>\n",
       "      <td>-0.000308</td>\n",
       "      <td>0.150999</td>\n",
       "      <td>-321</td>\n",
       "      <td>1</td>\n",
       "      <td>1</td>\n",
       "      <td>8</td>\n",
       "      <td>0</td>\n",
       "      <td>-1</td>\n",
       "      <td>1</td>\n",
       "      <td>1</td>\n",
       "      <td>0</td>\n",
       "      <td>37.687820</td>\n",
       "      <td>-0.754480</td>\n",
       "      <td>-2.015893</td>\n",
       "      <td>0.234375</td>\n",
       "      <td>-999.0</td>\n",
       "      <td>8.742746</td>\n",
       "      <td>0.581782</td>\n",
       "      <td>6</td>\n",
       "      <td>111111</td>\n",
       "      <td>0</td>\n",
       "      <td>0</td>\n",
       "      <td>1</td>\n",
       "      <td>1</td>\n",
       "      <td>0</td>\n",
       "      <td>37.687820</td>\n",
       "      <td>-0.754480</td>\n",
       "      <td>-2.015893</td>\n",
       "      <td>0.234375</td>\n",
       "      <td>-999.0</td>\n",
       "      <td>8.742746</td>\n",
       "      <td>0.581782</td>\n",
       "      <td>6</td>\n",
       "      <td>0</td>\n",
       "      <td>1</td>\n",
       "      <td>1</td>\n",
       "      <td>0</td>\n",
       "    </tr>\n",
       "    <tr>\n",
       "      <th>7</th>\n",
       "      <td>17.461126</td>\n",
       "      <td>-0.740513</td>\n",
       "      <td>-2.011680</td>\n",
       "      <td>0.184507</td>\n",
       "      <td>-0.000417</td>\n",
       "      <td>0.300494</td>\n",
       "      <td>0.000447</td>\n",
       "      <td>0.150999</td>\n",
       "      <td>211</td>\n",
       "      <td>1</td>\n",
       "      <td>1</td>\n",
       "      <td>9</td>\n",
       "      <td>0</td>\n",
       "      <td>1</td>\n",
       "      <td>1</td>\n",
       "      <td>1</td>\n",
       "      <td>0</td>\n",
       "      <td>17.344629</td>\n",
       "      <td>-0.740883</td>\n",
       "      <td>-2.011434</td>\n",
       "      <td>0.292969</td>\n",
       "      <td>-999.0</td>\n",
       "      <td>6.024677</td>\n",
       "      <td>0.826107</td>\n",
       "      <td>6</td>\n",
       "      <td>111111</td>\n",
       "      <td>0</td>\n",
       "      <td>0</td>\n",
       "      <td>1</td>\n",
       "      <td>1</td>\n",
       "      <td>0</td>\n",
       "      <td>17.344629</td>\n",
       "      <td>-0.740883</td>\n",
       "      <td>-2.011434</td>\n",
       "      <td>0.292969</td>\n",
       "      <td>-999.0</td>\n",
       "      <td>6.024677</td>\n",
       "      <td>0.826107</td>\n",
       "      <td>6</td>\n",
       "      <td>0</td>\n",
       "      <td>1</td>\n",
       "      <td>1</td>\n",
       "      <td>0</td>\n",
       "    </tr>\n",
       "    <tr>\n",
       "      <th>8</th>\n",
       "      <td>12.040825</td>\n",
       "      <td>-1.560167</td>\n",
       "      <td>1.599031</td>\n",
       "      <td>0.052139</td>\n",
       "      <td>-0.000663</td>\n",
       "      <td>0.309680</td>\n",
       "      <td>0.000682</td>\n",
       "      <td>0.191020</td>\n",
       "      <td>321</td>\n",
       "      <td>1</td>\n",
       "      <td>1</td>\n",
       "      <td>11</td>\n",
       "      <td>0</td>\n",
       "      <td>1</td>\n",
       "      <td>1</td>\n",
       "      <td>0</td>\n",
       "      <td>0</td>\n",
       "      <td>12.137454</td>\n",
       "      <td>-1.559636</td>\n",
       "      <td>1.598343</td>\n",
       "      <td>0.410156</td>\n",
       "      <td>-999.0</td>\n",
       "      <td>2.551064</td>\n",
       "      <td>0.315315</td>\n",
       "      <td>5</td>\n",
       "      <td>111</td>\n",
       "      <td>110</td>\n",
       "      <td>0</td>\n",
       "      <td>1</td>\n",
       "      <td>0</td>\n",
       "      <td>0</td>\n",
       "      <td>12.137454</td>\n",
       "      <td>-1.559636</td>\n",
       "      <td>1.598343</td>\n",
       "      <td>0.410156</td>\n",
       "      <td>-999.0</td>\n",
       "      <td>2.551064</td>\n",
       "      <td>0.315315</td>\n",
       "      <td>5</td>\n",
       "      <td>0</td>\n",
       "      <td>1</td>\n",
       "      <td>0</td>\n",
       "      <td>0</td>\n",
       "    </tr>\n",
       "    <tr>\n",
       "      <th>9</th>\n",
       "      <td>3.084901</td>\n",
       "      <td>1.153923</td>\n",
       "      <td>2.541652</td>\n",
       "      <td>0.015098</td>\n",
       "      <td>-0.000248</td>\n",
       "      <td>0.300785</td>\n",
       "      <td>0.000255</td>\n",
       "      <td>0.322353</td>\n",
       "      <td>-211</td>\n",
       "      <td>1</td>\n",
       "      <td>1</td>\n",
       "      <td>7</td>\n",
       "      <td>0</td>\n",
       "      <td>-1</td>\n",
       "      <td>0</td>\n",
       "      <td>0</td>\n",
       "      <td>0</td>\n",
       "      <td>3.093463</td>\n",
       "      <td>1.155117</td>\n",
       "      <td>2.541423</td>\n",
       "      <td>0.117188</td>\n",
       "      <td>-999.0</td>\n",
       "      <td>2.737119</td>\n",
       "      <td>0.621771</td>\n",
       "      <td>5</td>\n",
       "      <td>1111</td>\n",
       "      <td>10</td>\n",
       "      <td>0</td>\n",
       "      <td>0</td>\n",
       "      <td>0</td>\n",
       "      <td>0</td>\n",
       "      <td>3.093463</td>\n",
       "      <td>1.155117</td>\n",
       "      <td>2.541423</td>\n",
       "      <td>0.117188</td>\n",
       "      <td>-999.0</td>\n",
       "      <td>2.737119</td>\n",
       "      <td>0.621771</td>\n",
       "      <td>5</td>\n",
       "      <td>0</td>\n",
       "      <td>0</td>\n",
       "      <td>0</td>\n",
       "      <td>0</td>\n",
       "    </tr>\n",
       "    <tr>\n",
       "      <th>10</th>\n",
       "      <td>4.724505</td>\n",
       "      <td>-1.555800</td>\n",
       "      <td>1.565668</td>\n",
       "      <td>0.052139</td>\n",
       "      <td>0.001023</td>\n",
       "      <td>0.308990</td>\n",
       "      <td>-0.001057</td>\n",
       "      <td>0.191020</td>\n",
       "      <td>-211</td>\n",
       "      <td>2</td>\n",
       "      <td>2</td>\n",
       "      <td>10</td>\n",
       "      <td>0</td>\n",
       "      <td>-1</td>\n",
       "      <td>1</td>\n",
       "      <td>0</td>\n",
       "      <td>0</td>\n",
       "      <td>4.699030</td>\n",
       "      <td>-1.556486</td>\n",
       "      <td>1.567291</td>\n",
       "      <td>0.292969</td>\n",
       "      <td>-999.0</td>\n",
       "      <td>2.539167</td>\n",
       "      <td>1.027179</td>\n",
       "      <td>5</td>\n",
       "      <td>11</td>\n",
       "      <td>111</td>\n",
       "      <td>0</td>\n",
       "      <td>1</td>\n",
       "      <td>0</td>\n",
       "      <td>0</td>\n",
       "      <td>4.699030</td>\n",
       "      <td>-1.556486</td>\n",
       "      <td>1.567291</td>\n",
       "      <td>0.292969</td>\n",
       "      <td>-999.0</td>\n",
       "      <td>2.539167</td>\n",
       "      <td>1.027179</td>\n",
       "      <td>5</td>\n",
       "      <td>0</td>\n",
       "      <td>1</td>\n",
       "      <td>0</td>\n",
       "      <td>0</td>\n",
       "    </tr>\n",
       "  </tbody>\n",
       "</table>\n",
       "<p>510147 rows × 43 columns</p>\n",
       "</div>"
      ],
      "text/plain": [
       "                     tp_pt    tp_eta    tp_phi    tp_dxy     tp_d0     tp_z0  \\\n",
       "entry subentry                                                                 \n",
       "0     0         100.300301 -0.898876  0.061430  0.001250  0.000543  3.500762   \n",
       "      1           2.052715 -1.650001 -2.781972  0.001250  0.000306  3.496469   \n",
       "      2           6.453084 -0.604645 -2.807965  0.001250  0.000281  3.498704   \n",
       "      3           8.502528 -0.446424 -1.675735  0.001250  0.001191  3.499362   \n",
       "      4           7.538472 -1.650967 -1.311853  0.001250  0.001264  3.499881   \n",
       "...                    ...       ...       ...       ...       ...       ...   \n",
       "24947 6          37.316452 -0.756630 -2.015774  0.184507  0.000236  0.304796   \n",
       "      7          17.461126 -0.740513 -2.011680  0.184507 -0.000417  0.300494   \n",
       "      8          12.040825 -1.560167  1.599031  0.052139 -0.000663  0.309680   \n",
       "      9           3.084901  1.153923  2.541652  0.015098 -0.000248  0.300785   \n",
       "      10          4.724505 -1.555800  1.565668  0.052139  0.001023  0.308990   \n",
       "\n",
       "                tp_d0_prod  tp_z0_prod  tp_pdgid  tp_nmatch  tp_nloosematch  \\\n",
       "entry subentry                                                                \n",
       "0     0          -0.000073    3.499485        13          1               1   \n",
       "      1          -0.000297    3.499485       211          1               1   \n",
       "      2          -0.000265    3.499485      2212          1               1   \n",
       "      3          -0.001218    3.499485      -321          1               1   \n",
       "      4          -0.001238    3.499485      -211          1               1   \n",
       "...                    ...         ...       ...        ...             ...   \n",
       "24947 6          -0.000308    0.150999      -321          1               1   \n",
       "      7           0.000447    0.150999       211          1               1   \n",
       "      8           0.000682    0.191020       321          1               1   \n",
       "      9           0.000255    0.322353      -211          1               1   \n",
       "      10         -0.001057    0.191020      -211          2               2   \n",
       "\n",
       "                tp_nstub  tp_eventid  tp_charge  tp_injet  tp_injet_highpt  \\\n",
       "entry subentry                                                               \n",
       "0     0                8           0         -1         1                1   \n",
       "      1                9           0          1         0                0   \n",
       "      2                8           0          1         0                0   \n",
       "      3                5           0         -1         1                0   \n",
       "      4                7           0         -1         1                0   \n",
       "...                  ...         ...        ...       ...              ...   \n",
       "24947 6                8           0         -1         1                1   \n",
       "      7                9           0          1         1                1   \n",
       "      8               11           0          1         1                0   \n",
       "      9                7           0         -1         0                0   \n",
       "      10              10           0         -1         1                0   \n",
       "\n",
       "                tp_injet_vhighpt  matchtrk_pt  matchtrk_eta  matchtrk_phi  \\\n",
       "entry subentry                                                              \n",
       "0     0                        0   102.943588     -0.900577      0.061580   \n",
       "      1                        0     2.034012     -1.651574     -2.782407   \n",
       "      2                        0     6.475194     -0.604991     -2.808045   \n",
       "      3                        0     8.506432     -0.449548     -1.675164   \n",
       "      4                        0     7.589015     -1.650129     -1.310603   \n",
       "...                          ...          ...           ...           ...   \n",
       "24947 6                        0    37.687820     -0.754480     -2.015893   \n",
       "      7                        0    17.344629     -0.740883     -2.011434   \n",
       "      8                        0    12.137454     -1.559636      1.598343   \n",
       "      9                        0     3.093463      1.155117      2.541423   \n",
       "      10                       0     4.699030     -1.556486      1.567291   \n",
       "\n",
       "                matchtrk_z0  matchtrk_d0  matchtrk_chi2  matchtrk_bendchi2  \\\n",
       "entry subentry                                                               \n",
       "0     0            3.574219       -999.0       7.661629           0.025519   \n",
       "      1            3.750000       -999.0       8.667765           1.376251   \n",
       "      2            3.574219       -999.0       4.947954           1.358919   \n",
       "      3            3.574219       -999.0       3.709781           0.449784   \n",
       "      4            3.457031       -999.0      18.657181           0.499871   \n",
       "...                     ...          ...            ...                ...   \n",
       "24947 6            0.234375       -999.0       8.742746           0.581782   \n",
       "      7            0.292969       -999.0       6.024677           0.826107   \n",
       "      8            0.410156       -999.0       2.551064           0.315315   \n",
       "      9            0.117188       -999.0       2.737119           0.621771   \n",
       "      10           0.292969       -999.0       2.539167           1.027179   \n",
       "\n",
       "                matchtrk_nstub  matchtrk_lhits  matchtrk_dhits  matchtrk_seed  \\\n",
       "entry subentry                                                                  \n",
       "0     0                      6          111111               0              0   \n",
       "      1                      6              11            1111              0   \n",
       "      2                      6          111111               0              0   \n",
       "      3                      5          111011               0              0   \n",
       "      4                      6              11            1111              0   \n",
       "...                        ...             ...             ...            ...   \n",
       "24947 6                      6          111111               0              0   \n",
       "      7                      6          111111               0              0   \n",
       "      8                      5             111             110              0   \n",
       "      9                      5            1111              10              0   \n",
       "      10                     5              11             111              0   \n",
       "\n",
       "                matchtrk_injet  matchtrk_injet_highpt  matchtrk_injet_vhighpt  \\\n",
       "entry subentry                                                                  \n",
       "0     0                      1                      1                       0   \n",
       "      1                      0                      0                       0   \n",
       "      2                      0                      0                       0   \n",
       "      3                      1                      0                       0   \n",
       "      4                      1                      0                       0   \n",
       "...                        ...                    ...                     ...   \n",
       "24947 6                      1                      1                       0   \n",
       "      7                      1                      1                       0   \n",
       "      8                      1                      0                       0   \n",
       "      9                      0                      0                       0   \n",
       "      10                     1                      0                       0   \n",
       "\n",
       "                loosematchtrk_pt  loosematchtrk_eta  loosematchtrk_phi  \\\n",
       "entry subentry                                                           \n",
       "0     0               102.943588          -0.900577           0.061580   \n",
       "      1                 2.034012          -1.651574          -2.782407   \n",
       "      2                 6.475194          -0.604991          -2.808045   \n",
       "      3                 8.506432          -0.449548          -1.675164   \n",
       "      4                 7.589015          -1.650129          -1.310603   \n",
       "...                          ...                ...                ...   \n",
       "24947 6                37.687820          -0.754480          -2.015893   \n",
       "      7                17.344629          -0.740883          -2.011434   \n",
       "      8                12.137454          -1.559636           1.598343   \n",
       "      9                 3.093463           1.155117           2.541423   \n",
       "      10                4.699030          -1.556486           1.567291   \n",
       "\n",
       "                loosematchtrk_z0  loosematchtrk_d0  loosematchtrk_chi2  \\\n",
       "entry subentry                                                           \n",
       "0     0                 3.574219            -999.0            7.661629   \n",
       "      1                 3.750000            -999.0            8.667765   \n",
       "      2                 3.574219            -999.0            4.947954   \n",
       "      3                 3.574219            -999.0            3.709781   \n",
       "      4                 3.457031            -999.0           18.657181   \n",
       "...                          ...               ...                 ...   \n",
       "24947 6                 0.234375            -999.0            8.742746   \n",
       "      7                 0.292969            -999.0            6.024677   \n",
       "      8                 0.410156            -999.0            2.551064   \n",
       "      9                 0.117188            -999.0            2.737119   \n",
       "      10                0.292969            -999.0            2.539167   \n",
       "\n",
       "                loosematchtrk_bendchi2  loosematchtrk_nstub  \\\n",
       "entry subentry                                                \n",
       "0     0                       0.025519                    6   \n",
       "      1                       1.376251                    6   \n",
       "      2                       1.358919                    6   \n",
       "      3                       0.449784                    5   \n",
       "      4                       0.499871                    6   \n",
       "...                                ...                  ...   \n",
       "24947 6                       0.581782                    6   \n",
       "      7                       0.826107                    6   \n",
       "      8                       0.315315                    5   \n",
       "      9                       0.621771                    5   \n",
       "      10                      1.027179                    5   \n",
       "\n",
       "                loosematchtrk_seed  loosematchtrk_injet  \\\n",
       "entry subentry                                            \n",
       "0     0                          0                    1   \n",
       "      1                          0                    0   \n",
       "      2                          0                    0   \n",
       "      3                          0                    1   \n",
       "      4                          0                    1   \n",
       "...                            ...                  ...   \n",
       "24947 6                          0                    1   \n",
       "      7                          0                    1   \n",
       "      8                          0                    1   \n",
       "      9                          0                    0   \n",
       "      10                         0                    1   \n",
       "\n",
       "                loosematchtrk_injet_highpt  loosematchtrk_injet_vhighpt  \n",
       "entry subentry                                                           \n",
       "0     0                                  1                            0  \n",
       "      1                                  0                            0  \n",
       "      2                                  0                            0  \n",
       "      3                                  0                            0  \n",
       "      4                                  0                            0  \n",
       "...                                    ...                          ...  \n",
       "24947 6                                  1                            0  \n",
       "      7                                  1                            0  \n",
       "      8                                  0                            0  \n",
       "      9                                  0                            0  \n",
       "      10                                 0                            0  \n",
       "\n",
       "[510147 rows x 43 columns]"
      ]
     },
     "execution_count": 33,
     "metadata": {},
     "output_type": "execute_result"
    }
   ],
   "source": [
    "tp.loc[mask_pv_me & mask_no_sv_me]"
   ]
  },
  {
   "cell_type": "code",
   "execution_count": 34,
   "metadata": {},
   "outputs": [
    {
     "data": {
      "text/html": [
       "<div>\n",
       "<style scoped>\n",
       "    .dataframe tbody tr th:only-of-type {\n",
       "        vertical-align: middle;\n",
       "    }\n",
       "\n",
       "    .dataframe tbody tr th {\n",
       "        vertical-align: top;\n",
       "    }\n",
       "\n",
       "    .dataframe thead th {\n",
       "        text-align: right;\n",
       "    }\n",
       "</style>\n",
       "<table border=\"1\" class=\"dataframe\">\n",
       "  <thead>\n",
       "    <tr style=\"text-align: right;\">\n",
       "      <th></th>\n",
       "      <th></th>\n",
       "      <th>tp_pt</th>\n",
       "      <th>tp_eta</th>\n",
       "      <th>tp_phi</th>\n",
       "      <th>tp_dxy</th>\n",
       "      <th>tp_d0</th>\n",
       "      <th>tp_z0</th>\n",
       "      <th>tp_d0_prod</th>\n",
       "      <th>tp_z0_prod</th>\n",
       "      <th>tp_pdgid</th>\n",
       "      <th>tp_nmatch</th>\n",
       "      <th>tp_nloosematch</th>\n",
       "      <th>tp_nstub</th>\n",
       "      <th>tp_eventid</th>\n",
       "      <th>tp_charge</th>\n",
       "      <th>tp_injet</th>\n",
       "      <th>tp_injet_highpt</th>\n",
       "      <th>tp_injet_vhighpt</th>\n",
       "      <th>matchtrk_pt</th>\n",
       "      <th>matchtrk_eta</th>\n",
       "      <th>matchtrk_phi</th>\n",
       "      <th>matchtrk_z0</th>\n",
       "      <th>matchtrk_d0</th>\n",
       "      <th>matchtrk_chi2</th>\n",
       "      <th>matchtrk_bendchi2</th>\n",
       "      <th>matchtrk_nstub</th>\n",
       "      <th>matchtrk_lhits</th>\n",
       "      <th>matchtrk_dhits</th>\n",
       "      <th>matchtrk_seed</th>\n",
       "      <th>matchtrk_injet</th>\n",
       "      <th>matchtrk_injet_highpt</th>\n",
       "      <th>matchtrk_injet_vhighpt</th>\n",
       "      <th>loosematchtrk_pt</th>\n",
       "      <th>loosematchtrk_eta</th>\n",
       "      <th>loosematchtrk_phi</th>\n",
       "      <th>loosematchtrk_z0</th>\n",
       "      <th>loosematchtrk_d0</th>\n",
       "      <th>loosematchtrk_chi2</th>\n",
       "      <th>loosematchtrk_bendchi2</th>\n",
       "      <th>loosematchtrk_nstub</th>\n",
       "      <th>loosematchtrk_seed</th>\n",
       "      <th>loosematchtrk_injet</th>\n",
       "      <th>loosematchtrk_injet_highpt</th>\n",
       "      <th>loosematchtrk_injet_vhighpt</th>\n",
       "    </tr>\n",
       "    <tr>\n",
       "      <th>entry</th>\n",
       "      <th>subentry</th>\n",
       "      <th></th>\n",
       "      <th></th>\n",
       "      <th></th>\n",
       "      <th></th>\n",
       "      <th></th>\n",
       "      <th></th>\n",
       "      <th></th>\n",
       "      <th></th>\n",
       "      <th></th>\n",
       "      <th></th>\n",
       "      <th></th>\n",
       "      <th></th>\n",
       "      <th></th>\n",
       "      <th></th>\n",
       "      <th></th>\n",
       "      <th></th>\n",
       "      <th></th>\n",
       "      <th></th>\n",
       "      <th></th>\n",
       "      <th></th>\n",
       "      <th></th>\n",
       "      <th></th>\n",
       "      <th></th>\n",
       "      <th></th>\n",
       "      <th></th>\n",
       "      <th></th>\n",
       "      <th></th>\n",
       "      <th></th>\n",
       "      <th></th>\n",
       "      <th></th>\n",
       "      <th></th>\n",
       "      <th></th>\n",
       "      <th></th>\n",
       "      <th></th>\n",
       "      <th></th>\n",
       "      <th></th>\n",
       "      <th></th>\n",
       "      <th></th>\n",
       "      <th></th>\n",
       "      <th></th>\n",
       "      <th></th>\n",
       "      <th></th>\n",
       "      <th></th>\n",
       "    </tr>\n",
       "  </thead>\n",
       "  <tbody>\n",
       "    <tr>\n",
       "      <th rowspan=\"5\" valign=\"top\">0</th>\n",
       "      <th>0</th>\n",
       "      <td>100.300301</td>\n",
       "      <td>-0.898876</td>\n",
       "      <td>0.061430</td>\n",
       "      <td>0.001250</td>\n",
       "      <td>0.000543</td>\n",
       "      <td>3.500762</td>\n",
       "      <td>-0.000073</td>\n",
       "      <td>3.499485</td>\n",
       "      <td>13</td>\n",
       "      <td>1</td>\n",
       "      <td>1</td>\n",
       "      <td>8</td>\n",
       "      <td>0</td>\n",
       "      <td>-1</td>\n",
       "      <td>1</td>\n",
       "      <td>1</td>\n",
       "      <td>0</td>\n",
       "      <td>102.943588</td>\n",
       "      <td>-0.900577</td>\n",
       "      <td>0.061580</td>\n",
       "      <td>3.574219</td>\n",
       "      <td>-999.0</td>\n",
       "      <td>7.661629</td>\n",
       "      <td>0.025519</td>\n",
       "      <td>6</td>\n",
       "      <td>111111</td>\n",
       "      <td>0</td>\n",
       "      <td>0</td>\n",
       "      <td>1</td>\n",
       "      <td>1</td>\n",
       "      <td>0</td>\n",
       "      <td>102.943588</td>\n",
       "      <td>-0.900577</td>\n",
       "      <td>0.061580</td>\n",
       "      <td>3.574219</td>\n",
       "      <td>-999.0</td>\n",
       "      <td>7.661629</td>\n",
       "      <td>0.025519</td>\n",
       "      <td>6</td>\n",
       "      <td>0</td>\n",
       "      <td>1</td>\n",
       "      <td>1</td>\n",
       "      <td>0</td>\n",
       "    </tr>\n",
       "    <tr>\n",
       "      <th>1</th>\n",
       "      <td>2.052715</td>\n",
       "      <td>-1.650001</td>\n",
       "      <td>-2.781972</td>\n",
       "      <td>0.001250</td>\n",
       "      <td>0.000306</td>\n",
       "      <td>3.496469</td>\n",
       "      <td>-0.000297</td>\n",
       "      <td>3.499485</td>\n",
       "      <td>211</td>\n",
       "      <td>1</td>\n",
       "      <td>1</td>\n",
       "      <td>9</td>\n",
       "      <td>0</td>\n",
       "      <td>1</td>\n",
       "      <td>0</td>\n",
       "      <td>0</td>\n",
       "      <td>0</td>\n",
       "      <td>2.034012</td>\n",
       "      <td>-1.651574</td>\n",
       "      <td>-2.782407</td>\n",
       "      <td>3.750000</td>\n",
       "      <td>-999.0</td>\n",
       "      <td>8.667765</td>\n",
       "      <td>1.376251</td>\n",
       "      <td>6</td>\n",
       "      <td>11</td>\n",
       "      <td>1111</td>\n",
       "      <td>0</td>\n",
       "      <td>0</td>\n",
       "      <td>0</td>\n",
       "      <td>0</td>\n",
       "      <td>2.034012</td>\n",
       "      <td>-1.651574</td>\n",
       "      <td>-2.782407</td>\n",
       "      <td>3.750000</td>\n",
       "      <td>-999.0</td>\n",
       "      <td>8.667765</td>\n",
       "      <td>1.376251</td>\n",
       "      <td>6</td>\n",
       "      <td>0</td>\n",
       "      <td>0</td>\n",
       "      <td>0</td>\n",
       "      <td>0</td>\n",
       "    </tr>\n",
       "    <tr>\n",
       "      <th>2</th>\n",
       "      <td>6.453084</td>\n",
       "      <td>-0.604645</td>\n",
       "      <td>-2.807965</td>\n",
       "      <td>0.001250</td>\n",
       "      <td>0.000281</td>\n",
       "      <td>3.498704</td>\n",
       "      <td>-0.000265</td>\n",
       "      <td>3.499485</td>\n",
       "      <td>2212</td>\n",
       "      <td>1</td>\n",
       "      <td>1</td>\n",
       "      <td>8</td>\n",
       "      <td>0</td>\n",
       "      <td>1</td>\n",
       "      <td>0</td>\n",
       "      <td>0</td>\n",
       "      <td>0</td>\n",
       "      <td>6.475194</td>\n",
       "      <td>-0.604991</td>\n",
       "      <td>-2.808045</td>\n",
       "      <td>3.574219</td>\n",
       "      <td>-999.0</td>\n",
       "      <td>4.947954</td>\n",
       "      <td>1.358919</td>\n",
       "      <td>6</td>\n",
       "      <td>111111</td>\n",
       "      <td>0</td>\n",
       "      <td>0</td>\n",
       "      <td>0</td>\n",
       "      <td>0</td>\n",
       "      <td>0</td>\n",
       "      <td>6.475194</td>\n",
       "      <td>-0.604991</td>\n",
       "      <td>-2.808045</td>\n",
       "      <td>3.574219</td>\n",
       "      <td>-999.0</td>\n",
       "      <td>4.947954</td>\n",
       "      <td>1.358919</td>\n",
       "      <td>6</td>\n",
       "      <td>0</td>\n",
       "      <td>0</td>\n",
       "      <td>0</td>\n",
       "      <td>0</td>\n",
       "    </tr>\n",
       "    <tr>\n",
       "      <th>3</th>\n",
       "      <td>8.502528</td>\n",
       "      <td>-0.446424</td>\n",
       "      <td>-1.675735</td>\n",
       "      <td>0.001250</td>\n",
       "      <td>0.001191</td>\n",
       "      <td>3.499362</td>\n",
       "      <td>-0.001218</td>\n",
       "      <td>3.499485</td>\n",
       "      <td>-321</td>\n",
       "      <td>1</td>\n",
       "      <td>1</td>\n",
       "      <td>5</td>\n",
       "      <td>0</td>\n",
       "      <td>-1</td>\n",
       "      <td>1</td>\n",
       "      <td>0</td>\n",
       "      <td>0</td>\n",
       "      <td>8.506432</td>\n",
       "      <td>-0.449548</td>\n",
       "      <td>-1.675164</td>\n",
       "      <td>3.574219</td>\n",
       "      <td>-999.0</td>\n",
       "      <td>3.709781</td>\n",
       "      <td>0.449784</td>\n",
       "      <td>5</td>\n",
       "      <td>111011</td>\n",
       "      <td>0</td>\n",
       "      <td>0</td>\n",
       "      <td>1</td>\n",
       "      <td>0</td>\n",
       "      <td>0</td>\n",
       "      <td>8.506432</td>\n",
       "      <td>-0.449548</td>\n",
       "      <td>-1.675164</td>\n",
       "      <td>3.574219</td>\n",
       "      <td>-999.0</td>\n",
       "      <td>3.709781</td>\n",
       "      <td>0.449784</td>\n",
       "      <td>5</td>\n",
       "      <td>0</td>\n",
       "      <td>1</td>\n",
       "      <td>0</td>\n",
       "      <td>0</td>\n",
       "    </tr>\n",
       "    <tr>\n",
       "      <th>4</th>\n",
       "      <td>7.538472</td>\n",
       "      <td>-1.650967</td>\n",
       "      <td>-1.311853</td>\n",
       "      <td>0.001250</td>\n",
       "      <td>0.001264</td>\n",
       "      <td>3.499881</td>\n",
       "      <td>-0.001238</td>\n",
       "      <td>3.499485</td>\n",
       "      <td>-211</td>\n",
       "      <td>1</td>\n",
       "      <td>1</td>\n",
       "      <td>7</td>\n",
       "      <td>0</td>\n",
       "      <td>-1</td>\n",
       "      <td>1</td>\n",
       "      <td>0</td>\n",
       "      <td>0</td>\n",
       "      <td>7.589015</td>\n",
       "      <td>-1.650129</td>\n",
       "      <td>-1.310603</td>\n",
       "      <td>3.457031</td>\n",
       "      <td>-999.0</td>\n",
       "      <td>18.657181</td>\n",
       "      <td>0.499871</td>\n",
       "      <td>6</td>\n",
       "      <td>11</td>\n",
       "      <td>1111</td>\n",
       "      <td>0</td>\n",
       "      <td>1</td>\n",
       "      <td>0</td>\n",
       "      <td>0</td>\n",
       "      <td>7.589015</td>\n",
       "      <td>-1.650129</td>\n",
       "      <td>-1.310603</td>\n",
       "      <td>3.457031</td>\n",
       "      <td>-999.0</td>\n",
       "      <td>18.657181</td>\n",
       "      <td>0.499871</td>\n",
       "      <td>6</td>\n",
       "      <td>0</td>\n",
       "      <td>1</td>\n",
       "      <td>0</td>\n",
       "      <td>0</td>\n",
       "    </tr>\n",
       "    <tr>\n",
       "      <th>...</th>\n",
       "      <th>...</th>\n",
       "      <td>...</td>\n",
       "      <td>...</td>\n",
       "      <td>...</td>\n",
       "      <td>...</td>\n",
       "      <td>...</td>\n",
       "      <td>...</td>\n",
       "      <td>...</td>\n",
       "      <td>...</td>\n",
       "      <td>...</td>\n",
       "      <td>...</td>\n",
       "      <td>...</td>\n",
       "      <td>...</td>\n",
       "      <td>...</td>\n",
       "      <td>...</td>\n",
       "      <td>...</td>\n",
       "      <td>...</td>\n",
       "      <td>...</td>\n",
       "      <td>...</td>\n",
       "      <td>...</td>\n",
       "      <td>...</td>\n",
       "      <td>...</td>\n",
       "      <td>...</td>\n",
       "      <td>...</td>\n",
       "      <td>...</td>\n",
       "      <td>...</td>\n",
       "      <td>...</td>\n",
       "      <td>...</td>\n",
       "      <td>...</td>\n",
       "      <td>...</td>\n",
       "      <td>...</td>\n",
       "      <td>...</td>\n",
       "      <td>...</td>\n",
       "      <td>...</td>\n",
       "      <td>...</td>\n",
       "      <td>...</td>\n",
       "      <td>...</td>\n",
       "      <td>...</td>\n",
       "      <td>...</td>\n",
       "      <td>...</td>\n",
       "      <td>...</td>\n",
       "      <td>...</td>\n",
       "      <td>...</td>\n",
       "      <td>...</td>\n",
       "    </tr>\n",
       "    <tr>\n",
       "      <th rowspan=\"5\" valign=\"top\">24947</th>\n",
       "      <th>131</th>\n",
       "      <td>2.515927</td>\n",
       "      <td>-1.344955</td>\n",
       "      <td>2.283078</td>\n",
       "      <td>0.000222</td>\n",
       "      <td>-0.000221</td>\n",
       "      <td>7.912414</td>\n",
       "      <td>0.000219</td>\n",
       "      <td>7.912319</td>\n",
       "      <td>-2212</td>\n",
       "      <td>1</td>\n",
       "      <td>1</td>\n",
       "      <td>7</td>\n",
       "      <td>149</td>\n",
       "      <td>-1</td>\n",
       "      <td>0</td>\n",
       "      <td>0</td>\n",
       "      <td>0</td>\n",
       "      <td>2.499530</td>\n",
       "      <td>-1.347972</td>\n",
       "      <td>2.285152</td>\n",
       "      <td>8.144531</td>\n",
       "      <td>-999.0</td>\n",
       "      <td>7.074628</td>\n",
       "      <td>4.988648</td>\n",
       "      <td>5</td>\n",
       "      <td>1111</td>\n",
       "      <td>10</td>\n",
       "      <td>0</td>\n",
       "      <td>0</td>\n",
       "      <td>0</td>\n",
       "      <td>0</td>\n",
       "      <td>2.499530</td>\n",
       "      <td>-1.347972</td>\n",
       "      <td>2.285152</td>\n",
       "      <td>8.144531</td>\n",
       "      <td>-999.0</td>\n",
       "      <td>7.074628</td>\n",
       "      <td>4.988648</td>\n",
       "      <td>5</td>\n",
       "      <td>0</td>\n",
       "      <td>0</td>\n",
       "      <td>0</td>\n",
       "      <td>0</td>\n",
       "    </tr>\n",
       "    <tr>\n",
       "      <th>132</th>\n",
       "      <td>2.869779</td>\n",
       "      <td>1.953141</td>\n",
       "      <td>-0.978675</td>\n",
       "      <td>0.000222</td>\n",
       "      <td>0.000216</td>\n",
       "      <td>7.912527</td>\n",
       "      <td>-0.000213</td>\n",
       "      <td>7.912319</td>\n",
       "      <td>211</td>\n",
       "      <td>1</td>\n",
       "      <td>1</td>\n",
       "      <td>8</td>\n",
       "      <td>149</td>\n",
       "      <td>1</td>\n",
       "      <td>0</td>\n",
       "      <td>0</td>\n",
       "      <td>0</td>\n",
       "      <td>2.931165</td>\n",
       "      <td>1.954933</td>\n",
       "      <td>-0.979100</td>\n",
       "      <td>7.558594</td>\n",
       "      <td>-999.0</td>\n",
       "      <td>4.337594</td>\n",
       "      <td>1.048164</td>\n",
       "      <td>6</td>\n",
       "      <td>1</td>\n",
       "      <td>11111</td>\n",
       "      <td>5</td>\n",
       "      <td>0</td>\n",
       "      <td>0</td>\n",
       "      <td>0</td>\n",
       "      <td>2.931165</td>\n",
       "      <td>1.954933</td>\n",
       "      <td>-0.979100</td>\n",
       "      <td>7.558594</td>\n",
       "      <td>-999.0</td>\n",
       "      <td>4.337594</td>\n",
       "      <td>1.048164</td>\n",
       "      <td>6</td>\n",
       "      <td>5</td>\n",
       "      <td>0</td>\n",
       "      <td>0</td>\n",
       "      <td>0</td>\n",
       "    </tr>\n",
       "    <tr>\n",
       "      <th>133</th>\n",
       "      <td>2.205768</td>\n",
       "      <td>-1.469311</td>\n",
       "      <td>-0.762871</td>\n",
       "      <td>0.003592</td>\n",
       "      <td>0.000253</td>\n",
       "      <td>7.909946</td>\n",
       "      <td>-0.000266</td>\n",
       "      <td>7.902583</td>\n",
       "      <td>-321</td>\n",
       "      <td>1</td>\n",
       "      <td>1</td>\n",
       "      <td>9</td>\n",
       "      <td>149</td>\n",
       "      <td>-1</td>\n",
       "      <td>0</td>\n",
       "      <td>0</td>\n",
       "      <td>0</td>\n",
       "      <td>2.195913</td>\n",
       "      <td>-1.472945</td>\n",
       "      <td>-0.762705</td>\n",
       "      <td>8.261719</td>\n",
       "      <td>-999.0</td>\n",
       "      <td>3.615788</td>\n",
       "      <td>0.278036</td>\n",
       "      <td>6</td>\n",
       "      <td>111</td>\n",
       "      <td>111</td>\n",
       "      <td>0</td>\n",
       "      <td>0</td>\n",
       "      <td>0</td>\n",
       "      <td>0</td>\n",
       "      <td>2.195913</td>\n",
       "      <td>-1.472945</td>\n",
       "      <td>-0.762705</td>\n",
       "      <td>8.261719</td>\n",
       "      <td>-999.0</td>\n",
       "      <td>3.615788</td>\n",
       "      <td>0.278036</td>\n",
       "      <td>6</td>\n",
       "      <td>0</td>\n",
       "      <td>0</td>\n",
       "      <td>0</td>\n",
       "      <td>0</td>\n",
       "    </tr>\n",
       "    <tr>\n",
       "      <th>134</th>\n",
       "      <td>2.010632</td>\n",
       "      <td>-1.296187</td>\n",
       "      <td>0.080920</td>\n",
       "      <td>0.001015</td>\n",
       "      <td>0.000989</td>\n",
       "      <td>-1.899230</td>\n",
       "      <td>-0.000991</td>\n",
       "      <td>-1.899601</td>\n",
       "      <td>211</td>\n",
       "      <td>0</td>\n",
       "      <td>0</td>\n",
       "      <td>6</td>\n",
       "      <td>155</td>\n",
       "      <td>1</td>\n",
       "      <td>0</td>\n",
       "      <td>0</td>\n",
       "      <td>0</td>\n",
       "      <td>-999.000000</td>\n",
       "      <td>-999.000000</td>\n",
       "      <td>-999.000000</td>\n",
       "      <td>-999.000000</td>\n",
       "      <td>-999.0</td>\n",
       "      <td>-999.000000</td>\n",
       "      <td>-999.000000</td>\n",
       "      <td>-999</td>\n",
       "      <td>-999</td>\n",
       "      <td>-999</td>\n",
       "      <td>-999</td>\n",
       "      <td>0</td>\n",
       "      <td>0</td>\n",
       "      <td>0</td>\n",
       "      <td>-999.000000</td>\n",
       "      <td>-999.000000</td>\n",
       "      <td>-999.000000</td>\n",
       "      <td>-999.000000</td>\n",
       "      <td>-999.0</td>\n",
       "      <td>-999.000000</td>\n",
       "      <td>-999.000000</td>\n",
       "      <td>-999</td>\n",
       "      <td>-999</td>\n",
       "      <td>0</td>\n",
       "      <td>0</td>\n",
       "      <td>0</td>\n",
       "    </tr>\n",
       "    <tr>\n",
       "      <th>135</th>\n",
       "      <td>2.424364</td>\n",
       "      <td>-1.384162</td>\n",
       "      <td>0.262355</td>\n",
       "      <td>0.001015</td>\n",
       "      <td>0.000934</td>\n",
       "      <td>-1.898866</td>\n",
       "      <td>-0.000935</td>\n",
       "      <td>-1.899601</td>\n",
       "      <td>-211</td>\n",
       "      <td>1</td>\n",
       "      <td>1</td>\n",
       "      <td>6</td>\n",
       "      <td>155</td>\n",
       "      <td>-1</td>\n",
       "      <td>0</td>\n",
       "      <td>0</td>\n",
       "      <td>0</td>\n",
       "      <td>2.466262</td>\n",
       "      <td>-1.382612</td>\n",
       "      <td>0.264416</td>\n",
       "      <td>-1.933594</td>\n",
       "      <td>-999.0</td>\n",
       "      <td>6.649461</td>\n",
       "      <td>1.122369</td>\n",
       "      <td>6</td>\n",
       "      <td>111</td>\n",
       "      <td>111</td>\n",
       "      <td>0</td>\n",
       "      <td>0</td>\n",
       "      <td>0</td>\n",
       "      <td>0</td>\n",
       "      <td>2.466262</td>\n",
       "      <td>-1.382612</td>\n",
       "      <td>0.264416</td>\n",
       "      <td>-1.933594</td>\n",
       "      <td>-999.0</td>\n",
       "      <td>6.649461</td>\n",
       "      <td>1.122369</td>\n",
       "      <td>6</td>\n",
       "      <td>0</td>\n",
       "      <td>0</td>\n",
       "      <td>0</td>\n",
       "      <td>0</td>\n",
       "    </tr>\n",
       "  </tbody>\n",
       "</table>\n",
       "<p>4421637 rows × 43 columns</p>\n",
       "</div>"
      ],
      "text/plain": [
       "                     tp_pt    tp_eta    tp_phi    tp_dxy     tp_d0     tp_z0  \\\n",
       "entry subentry                                                                 \n",
       "0     0         100.300301 -0.898876  0.061430  0.001250  0.000543  3.500762   \n",
       "      1           2.052715 -1.650001 -2.781972  0.001250  0.000306  3.496469   \n",
       "      2           6.453084 -0.604645 -2.807965  0.001250  0.000281  3.498704   \n",
       "      3           8.502528 -0.446424 -1.675735  0.001250  0.001191  3.499362   \n",
       "      4           7.538472 -1.650967 -1.311853  0.001250  0.001264  3.499881   \n",
       "...                    ...       ...       ...       ...       ...       ...   \n",
       "24947 131         2.515927 -1.344955  2.283078  0.000222 -0.000221  7.912414   \n",
       "      132         2.869779  1.953141 -0.978675  0.000222  0.000216  7.912527   \n",
       "      133         2.205768 -1.469311 -0.762871  0.003592  0.000253  7.909946   \n",
       "      134         2.010632 -1.296187  0.080920  0.001015  0.000989 -1.899230   \n",
       "      135         2.424364 -1.384162  0.262355  0.001015  0.000934 -1.898866   \n",
       "\n",
       "                tp_d0_prod  tp_z0_prod  tp_pdgid  tp_nmatch  tp_nloosematch  \\\n",
       "entry subentry                                                                \n",
       "0     0          -0.000073    3.499485        13          1               1   \n",
       "      1          -0.000297    3.499485       211          1               1   \n",
       "      2          -0.000265    3.499485      2212          1               1   \n",
       "      3          -0.001218    3.499485      -321          1               1   \n",
       "      4          -0.001238    3.499485      -211          1               1   \n",
       "...                    ...         ...       ...        ...             ...   \n",
       "24947 131         0.000219    7.912319     -2212          1               1   \n",
       "      132        -0.000213    7.912319       211          1               1   \n",
       "      133        -0.000266    7.902583      -321          1               1   \n",
       "      134        -0.000991   -1.899601       211          0               0   \n",
       "      135        -0.000935   -1.899601      -211          1               1   \n",
       "\n",
       "                tp_nstub  tp_eventid  tp_charge  tp_injet  tp_injet_highpt  \\\n",
       "entry subentry                                                               \n",
       "0     0                8           0         -1         1                1   \n",
       "      1                9           0          1         0                0   \n",
       "      2                8           0          1         0                0   \n",
       "      3                5           0         -1         1                0   \n",
       "      4                7           0         -1         1                0   \n",
       "...                  ...         ...        ...       ...              ...   \n",
       "24947 131              7         149         -1         0                0   \n",
       "      132              8         149          1         0                0   \n",
       "      133              9         149         -1         0                0   \n",
       "      134              6         155          1         0                0   \n",
       "      135              6         155         -1         0                0   \n",
       "\n",
       "                tp_injet_vhighpt  matchtrk_pt  matchtrk_eta  matchtrk_phi  \\\n",
       "entry subentry                                                              \n",
       "0     0                        0   102.943588     -0.900577      0.061580   \n",
       "      1                        0     2.034012     -1.651574     -2.782407   \n",
       "      2                        0     6.475194     -0.604991     -2.808045   \n",
       "      3                        0     8.506432     -0.449548     -1.675164   \n",
       "      4                        0     7.589015     -1.650129     -1.310603   \n",
       "...                          ...          ...           ...           ...   \n",
       "24947 131                      0     2.499530     -1.347972      2.285152   \n",
       "      132                      0     2.931165      1.954933     -0.979100   \n",
       "      133                      0     2.195913     -1.472945     -0.762705   \n",
       "      134                      0  -999.000000   -999.000000   -999.000000   \n",
       "      135                      0     2.466262     -1.382612      0.264416   \n",
       "\n",
       "                matchtrk_z0  matchtrk_d0  matchtrk_chi2  matchtrk_bendchi2  \\\n",
       "entry subentry                                                               \n",
       "0     0            3.574219       -999.0       7.661629           0.025519   \n",
       "      1            3.750000       -999.0       8.667765           1.376251   \n",
       "      2            3.574219       -999.0       4.947954           1.358919   \n",
       "      3            3.574219       -999.0       3.709781           0.449784   \n",
       "      4            3.457031       -999.0      18.657181           0.499871   \n",
       "...                     ...          ...            ...                ...   \n",
       "24947 131          8.144531       -999.0       7.074628           4.988648   \n",
       "      132          7.558594       -999.0       4.337594           1.048164   \n",
       "      133          8.261719       -999.0       3.615788           0.278036   \n",
       "      134       -999.000000       -999.0    -999.000000        -999.000000   \n",
       "      135         -1.933594       -999.0       6.649461           1.122369   \n",
       "\n",
       "                matchtrk_nstub  matchtrk_lhits  matchtrk_dhits  matchtrk_seed  \\\n",
       "entry subentry                                                                  \n",
       "0     0                      6          111111               0              0   \n",
       "      1                      6              11            1111              0   \n",
       "      2                      6          111111               0              0   \n",
       "      3                      5          111011               0              0   \n",
       "      4                      6              11            1111              0   \n",
       "...                        ...             ...             ...            ...   \n",
       "24947 131                    5            1111              10              0   \n",
       "      132                    6               1           11111              5   \n",
       "      133                    6             111             111              0   \n",
       "      134                 -999            -999            -999           -999   \n",
       "      135                    6             111             111              0   \n",
       "\n",
       "                matchtrk_injet  matchtrk_injet_highpt  matchtrk_injet_vhighpt  \\\n",
       "entry subentry                                                                  \n",
       "0     0                      1                      1                       0   \n",
       "      1                      0                      0                       0   \n",
       "      2                      0                      0                       0   \n",
       "      3                      1                      0                       0   \n",
       "      4                      1                      0                       0   \n",
       "...                        ...                    ...                     ...   \n",
       "24947 131                    0                      0                       0   \n",
       "      132                    0                      0                       0   \n",
       "      133                    0                      0                       0   \n",
       "      134                    0                      0                       0   \n",
       "      135                    0                      0                       0   \n",
       "\n",
       "                loosematchtrk_pt  loosematchtrk_eta  loosematchtrk_phi  \\\n",
       "entry subentry                                                           \n",
       "0     0               102.943588          -0.900577           0.061580   \n",
       "      1                 2.034012          -1.651574          -2.782407   \n",
       "      2                 6.475194          -0.604991          -2.808045   \n",
       "      3                 8.506432          -0.449548          -1.675164   \n",
       "      4                 7.589015          -1.650129          -1.310603   \n",
       "...                          ...                ...                ...   \n",
       "24947 131               2.499530          -1.347972           2.285152   \n",
       "      132               2.931165           1.954933          -0.979100   \n",
       "      133               2.195913          -1.472945          -0.762705   \n",
       "      134            -999.000000        -999.000000        -999.000000   \n",
       "      135               2.466262          -1.382612           0.264416   \n",
       "\n",
       "                loosematchtrk_z0  loosematchtrk_d0  loosematchtrk_chi2  \\\n",
       "entry subentry                                                           \n",
       "0     0                 3.574219            -999.0            7.661629   \n",
       "      1                 3.750000            -999.0            8.667765   \n",
       "      2                 3.574219            -999.0            4.947954   \n",
       "      3                 3.574219            -999.0            3.709781   \n",
       "      4                 3.457031            -999.0           18.657181   \n",
       "...                          ...               ...                 ...   \n",
       "24947 131               8.144531            -999.0            7.074628   \n",
       "      132               7.558594            -999.0            4.337594   \n",
       "      133               8.261719            -999.0            3.615788   \n",
       "      134            -999.000000            -999.0         -999.000000   \n",
       "      135              -1.933594            -999.0            6.649461   \n",
       "\n",
       "                loosematchtrk_bendchi2  loosematchtrk_nstub  \\\n",
       "entry subentry                                                \n",
       "0     0                       0.025519                    6   \n",
       "      1                       1.376251                    6   \n",
       "      2                       1.358919                    6   \n",
       "      3                       0.449784                    5   \n",
       "      4                       0.499871                    6   \n",
       "...                                ...                  ...   \n",
       "24947 131                     4.988648                    5   \n",
       "      132                     1.048164                    6   \n",
       "      133                     0.278036                    6   \n",
       "      134                  -999.000000                 -999   \n",
       "      135                     1.122369                    6   \n",
       "\n",
       "                loosematchtrk_seed  loosematchtrk_injet  \\\n",
       "entry subentry                                            \n",
       "0     0                          0                    1   \n",
       "      1                          0                    0   \n",
       "      2                          0                    0   \n",
       "      3                          0                    1   \n",
       "      4                          0                    1   \n",
       "...                            ...                  ...   \n",
       "24947 131                        0                    0   \n",
       "      132                        5                    0   \n",
       "      133                        0                    0   \n",
       "      134                     -999                    0   \n",
       "      135                        0                    0   \n",
       "\n",
       "                loosematchtrk_injet_highpt  loosematchtrk_injet_vhighpt  \n",
       "entry subentry                                                           \n",
       "0     0                                  1                            0  \n",
       "      1                                  0                            0  \n",
       "      2                                  0                            0  \n",
       "      3                                  0                            0  \n",
       "      4                                  0                            0  \n",
       "...                                    ...                          ...  \n",
       "24947 131                                0                            0  \n",
       "      132                                0                            0  \n",
       "      133                                0                            0  \n",
       "      134                                0                            0  \n",
       "      135                                0                            0  \n",
       "\n",
       "[4421637 rows x 43 columns]"
      ]
     },
     "execution_count": 34,
     "metadata": {},
     "output_type": "execute_result"
    }
   ],
   "source": [
    "tp"
   ]
  },
  {
   "cell_type": "code",
   "execution_count": 35,
   "metadata": {},
   "outputs": [
    {
     "data": {
      "image/png": "[encoded data removed]",
      "text/plain": [
       "<Figure size 720x720 with 1 Axes>"
      ]
     },
     "metadata": {
      "needs_background": "light"
     },
     "output_type": "display_data"
    }
   ],
   "source": [
    "tp.loc[mask_pv_me & mask_no_sv_me].groupby(level=0)[\"tp_z0\"].mean().hist(\n",
    "    bins=10, range=(-5.0, 5.0), histtype=\"step\"\n",
    ")\n",
    "true_z0_me = tp.loc[mask_pv_me & mask_no_sv_me].groupby(level=0)[\"tp_z0\"].mean()"
   ]
  },
  {
   "cell_type": "markdown",
   "metadata": {},
   "source": [
    "let's compare this with the solution from Rob (making sure to use uproot 3)"
   ]
  },
  {
   "cell_type": "code",
   "execution_count": 36,
   "metadata": {},
   "outputs": [],
   "source": [
    "import uproot3"
   ]
  },
  {
   "cell_type": "code",
   "execution_count": 41,
   "metadata": {},
   "outputs": [],
   "source": [
    "f3 = uproot3.open(\"../00.root\")\n",
    "events3 = f3[\"L1TrackNtuple/eventTree\"]"
   ]
  },
  {
   "cell_type": "code",
   "execution_count": 42,
   "metadata": {},
   "outputs": [],
   "source": [
    "tp_vertex_id = events3[\"tp_eventid\"].array()\n",
    "tp_z0 = events3[\"tp_z0\"].array()\n",
    "tp_d0 = events3[\"tp_d0\"].array()\n",
    "trk_z0 = events3[\"trk_z0\"].array()\n",
    "trk_pt = events3[\"trk_pt\"].array()\n",
    "mask = tp_vertex_id == 0\n",
    "mask_no_sv = np.abs(tp_d0) < 0.01\n",
    "true_z0 = tp_z0[mask & mask_no_sv].mean()\n",
    "matchtrk_z0 = events3[\"matchtrk_z0\"].array()"
   ]
  },
  {
   "cell_type": "code",
   "execution_count": 43,
   "metadata": {},
   "outputs": [],
   "source": [
    "be = np.linspace(-5, 5, 11)"
   ]
  },
  {
   "cell_type": "code",
   "execution_count": 44,
   "metadata": {},
   "outputs": [
    {
     "data": {
      "text/plain": [
       "Text(0.5, 1.0, 'Comparing the two methods of getting the $z_0$')"
      ]
     },
     "execution_count": 44,
     "metadata": {},
     "output_type": "execute_result"
    },
    {
     "data": {
      "image/png": "[encoded data removed]",
      "text/plain": [
       "<Figure size 576x432 with 1 Axes>"
      ]
     },
     "metadata": {
      "needs_background": "light"
     },
     "output_type": "display_data"
    }
   ],
   "source": [
    "fig, ax = plt.subplots(figsize=(8, 6))\n",
    "\n",
    "h_rob, _, _ = ax.hist(true_z0, bins=be, histtype=\"step\", label=\"rob\", lw=3)\n",
    "h_me, _, _ = ax.hist(true_z0_me, bins=be, label=\"me\", lw=0)\n",
    "ax.legend()\n",
    "ax.set_ylabel(\"Frequency\")\n",
    "ax.set_xlabel(r\"True $z_0$\")\n",
    "ax.set_title(\"Comparing the two methods of getting the $z_0$\", fontsize=24)"
   ]
  },
  {
   "cell_type": "markdown",
   "metadata": {},
   "source": [
    "This compares the method I use to get the True $z_0$ which is based on reading the data as a multiindexed pandas df by using uproot 4, versus the jaggedArray that uproot 3 interprets the data as. \n",
    "With this we can now define a function to return a dataframe of all the true $z_0$ values"
   ]
  },
  {
   "cell_type": "code",
   "execution_count": 45,
   "metadata": {},
   "outputs": [],
   "source": [
    "def true_z0(df: pd.DataFrame) -> pd.DataFrame:\n",
    "\n",
    "    mask_pv = df[\"tp_eventid\"] == 0\n",
    "    mask_no_sv = np.abs(df[\"tp_d0\"]) < 0.01\n",
    "\n",
    "    z0 = df.loc[mask_pv & mask_no_sv].groupby(level=0)[\"tp_z0\"].mean()\n",
    "    return z0"
   ]
  },
  {
   "cell_type": "code",
   "execution_count": 46,
   "metadata": {},
   "outputs": [],
   "source": [
    "z0 = true_z0(tp)"
   ]
  },
  {
   "cell_type": "code",
   "execution_count": 47,
   "metadata": {},
   "outputs": [
    {
     "data": {
      "text/plain": [
       "entry\n",
       "0        3.499750\n",
       "1        0.338214\n",
       "2       -2.649157\n",
       "3        1.543104\n",
       "4        2.421834\n",
       "           ...   \n",
       "24943    1.910414\n",
       "24944   -2.066012\n",
       "24945   -2.285170\n",
       "24946   -4.809160\n",
       "24947    0.305602\n",
       "Name: tp_z0, Length: 24948, dtype: float32"
      ]
     },
     "execution_count": 47,
     "metadata": {},
     "output_type": "execute_result"
    }
   ],
   "source": [
    "z0"
   ]
  },
  {
   "cell_type": "markdown",
   "metadata": {},
   "source": [
    "# Primary Vertex Benchmarks"
   ]
  },
  {
   "cell_type": "markdown",
   "metadata": {},
   "source": [
    "To quantify how well the primary vertices have been reconstructed the efficiencies can be utilized. The equation below describes the efficiency of the reconstructed primary vertices with respect to the truth primary vertices. Result should be a scalar quantity, but it can be binned as a function of $z_0$"
   ]
  },
  {
   "cell_type": "markdown",
   "metadata": {},
   "source": [
    "$$ \\varepsilon = \\frac{N_{reco, Vx}}{N_{truth, Vx}} $$ "
   ]
  },
  {
   "cell_type": "markdown",
   "metadata": {},
   "source": [
    "The primary vertex is reconstructed correctly by the clustering algorithm if the $z_0$ is within the accepted resolution window ($\\delta$), which is taken to be $\\delta = 0.1$ cm"
   ]
  },
  {
   "cell_type": "markdown",
   "metadata": {},
   "source": [
    "$$ |z_{truth} - z_{reco} | < \\delta $$ "
   ]
  },
  {
   "cell_type": "markdown",
   "metadata": {},
   "source": [
    "In each clustering algorithm, the primary vertex is obtained by the this highest scalar sum of $p_T$ of the tracks pertaining to that cluster\n",
    "$$ \\sum_{tracks} p_{T}^{tracks}$$"
   ]
  },
  {
   "cell_type": "markdown",
   "metadata": {},
   "source": [
    "# FastHisto - baseline"
   ]
  },
  {
   "cell_type": "markdown",
   "metadata": {},
   "source": [
    "From what I understand this algorithm creates a histogram of the $z_0$ that gets weighted by the $p_T$ of the each track. From Davide Cieri's thesis, the optional bin-width of FastHisto was $\\varepsilon = 0.15$ cm. This can then be used to find the Primary vertices"
   ]
  },
  {
   "cell_type": "code",
   "execution_count": 48,
   "metadata": {},
   "outputs": [],
   "source": [
    "be = np.arange(-15, 15.15, 0.15)  # z_0 in [-15, 15]"
   ]
  },
  {
   "cell_type": "code",
   "execution_count": 49,
   "metadata": {},
   "outputs": [
    {
     "data": {
      "text/plain": [
       "Text(1, 0, '$z_0$ [cm]')"
      ]
     },
     "execution_count": 49,
     "metadata": {},
     "output_type": "execute_result"
    },
    {
     "data": {
      "image/png": "[encoded data removed]",
      "text/plain": [
       "<Figure size 720x720 with 1 Axes>"
      ]
     },
     "metadata": {
      "needs_background": "light"
     },
     "output_type": "display_data"
    }
   ],
   "source": [
    "h, be, _ = plt.hist(\n",
    "    event1[\"tp_z0\"].values, bins=be, histtype=\"step\", weights=event1[\"tp_pt\"]\n",
    ")\n",
    "plt.xlabel(r\"$z_0$ [cm]\")"
   ]
  },
  {
   "cell_type": "markdown",
   "metadata": {},
   "source": [
    "Quite clearly we can see where the primary vertex is."
   ]
  },
  {
   "cell_type": "code",
   "execution_count": 50,
   "metadata": {},
   "outputs": [
    {
     "data": {
      "text/plain": [
       "123"
      ]
     },
     "execution_count": 50,
     "metadata": {},
     "output_type": "execute_result"
    }
   ],
   "source": [
    "np.argmax(h)"
   ]
  },
  {
   "cell_type": "markdown",
   "metadata": {},
   "source": [
    "To find the \"reco\" $z_0$ from fast histo, we will find all of the tracks that fall within the bin with the highest peak and then calculate the mean. "
   ]
  },
  {
   "cell_type": "code",
   "execution_count": 51,
   "metadata": {},
   "outputs": [],
   "source": [
    "mask = (event1[\"tp_z0\"] > be[123]) & (event1[\"tp_z0\"] < be[124])"
   ]
  },
  {
   "cell_type": "code",
   "execution_count": 52,
   "metadata": {},
   "outputs": [
    {
     "name": "stdout",
     "output_type": "stream",
     "text": [
      "3.5027883\n"
     ]
    }
   ],
   "source": [
    "fast_histo1 = event1.loc[mask, \"tp_z0\"].mean()\n",
    "print(fast_histo1)"
   ]
  },
  {
   "cell_type": "code",
   "execution_count": 53,
   "metadata": {},
   "outputs": [
    {
     "data": {
      "text/plain": [
       "3.4997501"
      ]
     },
     "execution_count": 53,
     "metadata": {},
     "output_type": "execute_result"
    }
   ],
   "source": [
    "z0[0]"
   ]
  },
  {
   "cell_type": "code",
   "execution_count": 54,
   "metadata": {},
   "outputs": [
    {
     "name": "stdout",
     "output_type": "stream",
     "text": [
      "The primary vertex has been reconstructed within the tolerance level of 0.1 cm\n"
     ]
    }
   ],
   "source": [
    "if np.abs(fast_histo1 - z0[0]) < 0.1:\n",
    "    print(\n",
    "        \"The primary vertex has been reconstructed within the tolerance level of 0.1 cm\"\n",
    "    )\n",
    "else:\n",
    "    print(\n",
    "        \"The primary vertex has NOT been reconstructed within the tolerance level of 0.1 cm\"\n",
    "    )"
   ]
  },
  {
   "cell_type": "code",
   "execution_count": 105,
   "metadata": {},
   "outputs": [
    {
     "data": {
      "text/plain": [
       "Text(0.5, 1.0, 'FastHisto Single Event Example')"
      ]
     },
     "execution_count": 105,
     "metadata": {},
     "output_type": "execute_result"
    },
    {
     "data": {
      "image/png": "[encoded data removed]",
      "text/plain": [
       "<Figure size 720x720 with 1 Axes>"
      ]
     },
     "metadata": {
      "needs_background": "light"
     },
     "output_type": "display_data"
    }
   ],
   "source": [
    "h, be, _ = plt.hist(\n",
    "    event1[\"tp_z0\"].values, bins=be, histtype=\"step\", weights=event1[\"tp_pt\"]\n",
    ")\n",
    "plt.plot(fast_histo1, h[123], \"+\", markersize=24, label=\"primary vertex\")\n",
    "plt.legend()\n",
    "plt.xlabel(r\"$z_0$ [cm]\")\n",
    "plt.title(\"FastHisto Single Event Example\")"
   ]
  },
  {
   "cell_type": "markdown",
   "metadata": {},
   "source": [
    "This serves as a check that we understand how fast histo should be used to reconstruct primary vertices. We should now wrap this into a function that does it for all of the events."
   ]
  },
  {
   "cell_type": "code",
   "execution_count": 56,
   "metadata": {},
   "outputs": [
    {
     "data": {
      "text/plain": [
       "3.5075552"
      ]
     },
     "execution_count": 56,
     "metadata": {},
     "output_type": "execute_result"
    }
   ],
   "source": [
    "event1.tp_z0.values[\n",
    "    np.where((event1.tp_z0.values < 3.65) & (event1.tp_z0.values > 3.50))\n",
    "].mean()"
   ]
  },
  {
   "cell_type": "code",
   "execution_count": 57,
   "metadata": {},
   "outputs": [],
   "source": [
    "def fastHisto(z0, pt, be):\n",
    "\n",
    "    h = np.histogram(z0, bins=be, weights=pt)[0]\n",
    "    max_idx = np.argmax(h)\n",
    "    bin_lower = be[max_idx]\n",
    "    bin_upper = be[max_idx + 1]\n",
    "    mask = (z0 > bin_lower) & (z0 < bin_upper)\n",
    "    z0_reco = z0[mask].mean()\n",
    "\n",
    "    return z0_reco"
   ]
  },
  {
   "cell_type": "code",
   "execution_count": 58,
   "metadata": {},
   "outputs": [],
   "source": [
    "z0_fastHisto = tp.groupby(level=0).apply(\n",
    "    lambda x: fastHisto(x[\"tp_z0\"], x[\"tp_pt\"], be)\n",
    ")"
   ]
  },
  {
   "cell_type": "code",
   "execution_count": 59,
   "metadata": {},
   "outputs": [],
   "source": [
    "reco = pd.concat([z0, z0_fastHisto], axis=1)"
   ]
  },
  {
   "cell_type": "code",
   "execution_count": 60,
   "metadata": {},
   "outputs": [],
   "source": [
    "reco.columns = [\"z0_gen\", \"z0_fastHisto\"]"
   ]
  },
  {
   "cell_type": "code",
   "execution_count": 61,
   "metadata": {},
   "outputs": [],
   "source": [
    "def primary_vertex_efficiency(\n",
    "    z0_gen: np.array, z0_reco: np.array, delta: float = 0.1\n",
    ") -> pd.DataFrame:\n",
    "    mask = np.abs(z0_gen - z0_reco) < delta\n",
    "\n",
    "    total = z0_gen.shape[0]\n",
    "\n",
    "    reconstructed = z0_gen[mask].shape[0]\n",
    "\n",
    "    return 100 * (reconstructed / total)"
   ]
  },
  {
   "cell_type": "code",
   "execution_count": 62,
   "metadata": {},
   "outputs": [
    {
     "data": {
      "text/plain": [
       "98.01587301587301"
      ]
     },
     "execution_count": 62,
     "metadata": {},
     "output_type": "execute_result"
    }
   ],
   "source": [
    "primary_vertex_efficiency(reco[\"z0_gen\"].values, reco[\"z0_fastHisto\"].values)"
   ]
  },
  {
   "cell_type": "markdown",
   "metadata": {},
   "source": [
    "Fast Histo seems to get a 98 \\% Primary vertex reconstruction efficiency, which is pretty crazy, but this is perhaps either because it is the small subset file to test on or because it is the \"truth\" values that we are using to train on instead of the \"track\" parameters."
   ]
  },
  {
   "cell_type": "markdown",
   "metadata": {},
   "source": [
    "## Efficiency as a function of $z_{0}$"
   ]
  },
  {
   "cell_type": "code",
   "execution_count": 63,
   "metadata": {},
   "outputs": [],
   "source": [
    "start, stop, step = -15, 15, 0.5\n",
    "be_eff = np.arange(start, stop + step, step)"
   ]
  },
  {
   "cell_type": "code",
   "execution_count": 64,
   "metadata": {},
   "outputs": [
    {
     "data": {
      "text/plain": [
       "array([-15. , -14.5, -14. , -13.5, -13. , -12.5, -12. , -11.5, -11. ,\n",
       "       -10.5, -10. ,  -9.5,  -9. ,  -8.5,  -8. ,  -7.5,  -7. ,  -6.5,\n",
       "        -6. ,  -5.5,  -5. ,  -4.5,  -4. ,  -3.5,  -3. ,  -2.5,  -2. ,\n",
       "        -1.5,  -1. ,  -0.5,   0. ,   0.5,   1. ,   1.5,   2. ,   2.5,\n",
       "         3. ,   3.5,   4. ,   4.5,   5. ,   5.5,   6. ,   6.5,   7. ,\n",
       "         7.5,   8. ,   8.5,   9. ,   9.5,  10. ,  10.5,  11. ,  11.5,\n",
       "        12. ,  12.5,  13. ,  13.5,  14. ,  14.5,  15. ])"
      ]
     },
     "execution_count": 64,
     "metadata": {},
     "output_type": "execute_result"
    }
   ],
   "source": [
    "be_eff"
   ]
  },
  {
   "cell_type": "code",
   "execution_count": 65,
   "metadata": {},
   "outputs": [
    {
     "data": {
      "text/plain": [
       "61"
      ]
     },
     "execution_count": 65,
     "metadata": {},
     "output_type": "execute_result"
    }
   ],
   "source": [
    "len(be_eff)"
   ]
  },
  {
   "cell_type": "code",
   "execution_count": 66,
   "metadata": {},
   "outputs": [],
   "source": [
    "def binominal_error(k, n):\n",
    "    yerr = (1 / n) * np.sqrt(k * (1 - (k / n)))\n",
    "    return yerr"
   ]
  },
  {
   "cell_type": "code",
   "execution_count": 67,
   "metadata": {},
   "outputs": [],
   "source": [
    "def bin_width_error(bin_edges):\n",
    "    \"\"\"\n",
    "    Determines the horizontal (x) error of a bin  by calculating half the bin size\n",
    "    :param bin_edges:\n",
    "    :return: xerr array containing the absolute magnitude of the error in x\n",
    "    \"\"\"\n",
    "    # determines the error in a bin by +/- half of the bin_width\n",
    "    xerr = []\n",
    "    for k in range(len(bin_edges)):\n",
    "        if k != (len(bin_edges) - 1):\n",
    "            x1 = bin_edges[k]\n",
    "            x2 = bin_edges[k + 1]\n",
    "            bin_error = (x2 - x1) / 2\n",
    "            xerr.append(bin_error)\n",
    "    xerr = np.asarray(xerr)\n",
    "    return xerr"
   ]
  },
  {
   "cell_type": "code",
   "execution_count": 68,
   "metadata": {},
   "outputs": [],
   "source": [
    "eff = []\n",
    "error_y = []\n",
    "for i in range(len(be_eff)):\n",
    "    if i == len(be_eff) - 1:\n",
    "        break\n",
    "    mask = (reco[\"z0_gen\"] > be_eff[i]) & (reco[\"z0_gen\"] < be_eff[i + 1])\n",
    "\n",
    "    mask_true = np.abs(reco[\"z0_gen\"] - reco[\"z0_fastHisto\"]) < 0.1\n",
    "\n",
    "    total_bin = reco[mask].shape[0]\n",
    "    reco_bin = reco[mask & mask_true].shape[0]\n",
    "\n",
    "    error_y.append(binominal_error(reco_bin, total_bin + 0.0000001))\n",
    "\n",
    "    eff.append(reco_bin / (total_bin + 0.000001))"
   ]
  },
  {
   "cell_type": "code",
   "execution_count": 69,
   "metadata": {},
   "outputs": [],
   "source": [
    "error_x = bin_width_error(be_eff)"
   ]
  },
  {
   "cell_type": "code",
   "execution_count": 70,
   "metadata": {},
   "outputs": [],
   "source": [
    "bin_midpoint = 0.5 * (be_eff[:-1] + be_eff[1:])"
   ]
  },
  {
   "cell_type": "code",
   "execution_count": 71,
   "metadata": {},
   "outputs": [
    {
     "data": {
      "text/plain": [
       "array([-14.75, -14.25, -13.75, -13.25, -12.75, -12.25, -11.75, -11.25,\n",
       "       -10.75, -10.25,  -9.75,  -9.25,  -8.75,  -8.25,  -7.75,  -7.25,\n",
       "        -6.75,  -6.25,  -5.75,  -5.25,  -4.75,  -4.25,  -3.75,  -3.25,\n",
       "        -2.75,  -2.25,  -1.75,  -1.25,  -0.75,  -0.25,   0.25,   0.75,\n",
       "         1.25,   1.75,   2.25,   2.75,   3.25,   3.75,   4.25,   4.75,\n",
       "         5.25,   5.75,   6.25,   6.75,   7.25,   7.75,   8.25,   8.75,\n",
       "         9.25,   9.75,  10.25,  10.75,  11.25,  11.75,  12.25,  12.75,\n",
       "        13.25,  13.75,  14.25,  14.75])"
      ]
     },
     "execution_count": 71,
     "metadata": {},
     "output_type": "execute_result"
    }
   ],
   "source": [
    "bin_midpoint"
   ]
  },
  {
   "cell_type": "code",
   "execution_count": 72,
   "metadata": {},
   "outputs": [
    {
     "data": {
      "text/plain": [
       "Text(0, 1, 'Primary Vertex Reconstruction efficiency [%]')"
      ]
     },
     "execution_count": 72,
     "metadata": {},
     "output_type": "execute_result"
    },
    {
     "data": {
      "image/png": "[encoded data removed]",
      "text/plain": [
       "<Figure size 720x720 with 1 Axes>"
      ]
     },
     "metadata": {
      "needs_background": "light"
     },
     "output_type": "display_data"
    }
   ],
   "source": [
    "plt.errorbar(\n",
    "    bin_midpoint,\n",
    "    100 * np.array(eff),\n",
    "    xerr=error_x,\n",
    "    yerr=100 * np.array(error_y),\n",
    "    fmt=\"k+\",\n",
    ")\n",
    "plt.xlabel(r\"$z_0$\")\n",
    "plt.ylabel(\"Primary Vertex Reconstruction efficiency [%]\", fontsize=18)"
   ]
  },
  {
   "cell_type": "markdown",
   "metadata": {},
   "source": [
    "Ok this is weird, but it could be an effect of the low stats that we have (~250 events) its also good to see that some bins seem to give reasonable values"
   ]
  },
  {
   "cell_type": "markdown",
   "metadata": {},
   "source": [
    "lets wrap this around a function"
   ]
  },
  {
   "cell_type": "code",
   "execution_count": 73,
   "metadata": {},
   "outputs": [],
   "source": [
    "def poissonian_error(k, n):\n",
    "\n",
    "    yerr = (1 / n) * np.sqrt(k)\n",
    "\n",
    "    return yerr"
   ]
  },
  {
   "cell_type": "code",
   "execution_count": 74,
   "metadata": {},
   "outputs": [
    {
     "data": {
      "text/plain": [
       "(array([], dtype=int64),)"
      ]
     },
     "execution_count": 74,
     "metadata": {},
     "output_type": "execute_result"
    }
   ],
   "source": [
    "np.where((reco[\"z0_gen\"].values > be_eff[0]) & (reco[\"z0_gen\"].values < be_eff[1]))"
   ]
  },
  {
   "cell_type": "code",
   "execution_count": 75,
   "metadata": {},
   "outputs": [
    {
     "data": {
      "text/plain": [
       "(array([    0,     1,     2, ..., 24945, 24946, 24947]),)"
      ]
     },
     "execution_count": 75,
     "metadata": {},
     "output_type": "execute_result"
    }
   ],
   "source": [
    "np.where((reco[\"z0_gen\"].values > be_eff[0]))"
   ]
  },
  {
   "cell_type": "code",
   "execution_count": 76,
   "metadata": {},
   "outputs": [
    {
     "data": {
      "text/plain": [
       "(array([], dtype=int64),)"
      ]
     },
     "execution_count": 76,
     "metadata": {},
     "output_type": "execute_result"
    }
   ],
   "source": [
    "np.where((reco[\"z0_gen\"].values) < be_eff[1])"
   ]
  },
  {
   "cell_type": "code",
   "execution_count": 77,
   "metadata": {},
   "outputs": [],
   "source": [
    "def plot_pv_efficiency_z0(z0_gen: np.array, z0_reco: np.array, bins: np.array):\n",
    "\n",
    "    eff = np.zeros(bins.shape[0] - 1)\n",
    "    error_y = np.zeros(bins.shape[0] - 1)\n",
    "\n",
    "    for i, _ in enumerate(bins):\n",
    "        if i == bins.shape[0] - 1:\n",
    "            break\n",
    "        mask = (z0_gen > bins[i]) & (z0_gen < bins[i + 1])\n",
    "        mask_true = np.abs(z0_gen - z0_reco) < 0.1\n",
    "        n = z0_gen[mask].shape[0]\n",
    "\n",
    "        k = z0_gen[mask & mask_true].shape[0]\n",
    "        eff[i] = k / (n + 0.0001)\n",
    "        error_y[i] = binominal_error(k, (n + 0.0001))\n",
    "\n",
    "    x = 0.5 * (bins[1:] + bins[:-1])\n",
    "    error_x = 0.5 * (bins[1:] - bins[:-1])\n",
    "\n",
    "    plt.errorbar(\n",
    "        x,\n",
    "        100 * eff,\n",
    "        xerr=error_x,\n",
    "        yerr=100 * error_y,\n",
    "        fmt=\"k+\",\n",
    "    )\n",
    "    plt.xlabel(r\"$z_0$\")\n",
    "    plt.ylabel(\"Primary Vertex Reconstruction efficiency [%]\", fontsize=18)"
   ]
  },
  {
   "cell_type": "code",
   "execution_count": 78,
   "metadata": {
    "tags": []
   },
   "outputs": [
    {
     "data": {
      "image/png": "[encoded data removed]",
      "text/plain": [
       "<Figure size 720x720 with 1 Axes>"
      ]
     },
     "metadata": {
      "needs_background": "light"
     },
     "output_type": "display_data"
    }
   ],
   "source": [
    "plot_pv_efficiency_z0(reco[\"z0_gen\"].values, reco[\"z0_fastHisto\"].values, bins=be_eff)"
   ]
  },
  {
   "cell_type": "code",
   "execution_count": 79,
   "metadata": {},
   "outputs": [],
   "source": [
    "def plot_pv_resolution_z0(z0_gen: np.array, z0_reco: np.array, bins: np.array):\n",
    "\n",
    "    mean_resolution = np.zeros(bins.shape[0] - 1)\n",
    "    error_resolution = np.zeros(bins.shape[0] - 1)\n",
    "    mask_true = np.abs(z0_gen - z0_reco) < 0.1\n",
    "    for i, _ in enumerate(bins):\n",
    "        if i == bins.shape[0] - 1:\n",
    "            break\n",
    "        mask = (z0_gen > bins[i]) & (z0_gen < bins[i + 1])\n",
    "        resolution = np.abs(z0_gen[mask & mask_true] - z0_reco[mask & mask_true])\n",
    "\n",
    "        mean_resolution[i] = np.mean(resolution)\n",
    "        error_resolution[i] = np.std(resolution)\n",
    "\n",
    "    x = 0.5 * (bins[1:] + bins[:-1])\n",
    "    error_x = 0.5 * (bins[1:] - bins[:-1])\n",
    "\n",
    "    plt.errorbar(\n",
    "        x,\n",
    "        mean_resolution,\n",
    "        xerr=error_x,\n",
    "        yerr=error_resolution,\n",
    "        fmt=\"k+\",\n",
    "    )\n",
    "    plt.xlabel(r\"$z_0$\")\n",
    "    plt.ylabel(r\"$|z_{Gen} - z_{reco}|$ [cm]\", fontsize=18)\n",
    "    plt.ylim(0, 0.05)"
   ]
  },
  {
   "cell_type": "code",
   "execution_count": 80,
   "metadata": {},
   "outputs": [
    {
     "name": "stderr",
     "output_type": "stream",
     "text": [
      "/Users/lucas/opt/anaconda3/envs/db-clustering/lib/python3.8/site-packages/numpy/core/fromnumeric.py:3440: RuntimeWarning: Mean of empty slice.\n",
      "  return _methods._mean(a, axis=axis, dtype=dtype,\n",
      "/Users/lucas/opt/anaconda3/envs/db-clustering/lib/python3.8/site-packages/numpy/core/_methods.py:189: RuntimeWarning: invalid value encountered in true_divide\n",
      "  ret = ret.dtype.type(ret / rcount)\n",
      "/Users/lucas/opt/anaconda3/envs/db-clustering/lib/python3.8/site-packages/numpy/core/_methods.py:262: RuntimeWarning: Degrees of freedom <= 0 for slice\n",
      "  ret = _var(a, axis=axis, dtype=dtype, out=out, ddof=ddof,\n",
      "/Users/lucas/opt/anaconda3/envs/db-clustering/lib/python3.8/site-packages/numpy/core/_methods.py:222: RuntimeWarning: invalid value encountered in true_divide\n",
      "  arrmean = um.true_divide(arrmean, div, out=arrmean, casting='unsafe',\n",
      "/Users/lucas/opt/anaconda3/envs/db-clustering/lib/python3.8/site-packages/numpy/core/_methods.py:254: RuntimeWarning: invalid value encountered in true_divide\n",
      "  ret = ret.dtype.type(ret / rcount)\n"
     ]
    },
    {
     "data": {
      "image/png": "[encoded data removed]",
      "text/plain": [
       "<Figure size 720x720 with 1 Axes>"
      ]
     },
     "metadata": {
      "needs_background": "light"
     },
     "output_type": "display_data"
    }
   ],
   "source": [
    "plot_pv_resolution_z0(reco[\"z0_gen\"].values, reco[\"z0_fastHisto\"].values, bins=be_eff)"
   ]
  },
  {
   "cell_type": "code",
   "execution_count": null,
   "metadata": {},
   "outputs": [],
   "source": []
  },
  {
   "cell_type": "code",
   "execution_count": null,
   "metadata": {},
   "outputs": [],
   "source": []
  },
  {
   "cell_type": "code",
   "execution_count": null,
   "metadata": {},
   "outputs": [],
   "source": []
  },
  {
   "cell_type": "markdown",
   "metadata": {},
   "source": [
    "# Testing dbscan"
   ]
  },
  {
   "cell_type": "markdown",
   "metadata": {},
   "source": [
    "Lets test how dbscan works for this single event. The most optimal results were obtained with DBSCAN parameters:\n",
    "- minPts = 2 \n",
    "- $\\varepsilon$ = 0.15 cm \n",
    "(from Davide Cierri)"
   ]
  },
  {
   "cell_type": "code",
   "execution_count": 81,
   "metadata": {},
   "outputs": [],
   "source": [
    "from sklearn.cluster import DBSCAN"
   ]
  },
  {
   "cell_type": "code",
   "execution_count": 82,
   "metadata": {},
   "outputs": [],
   "source": [
    "z0 = event1[\"tp_z0\"].values"
   ]
  },
  {
   "cell_type": "code",
   "execution_count": 83,
   "metadata": {},
   "outputs": [],
   "source": [
    "db_clustering = DBSCAN(eps=0.15, min_samples=2).fit(z0.reshape(-1, 1))"
   ]
  },
  {
   "cell_type": "code",
   "execution_count": 84,
   "metadata": {},
   "outputs": [
    {
     "data": {
      "text/plain": [
       "array([ 0,  0,  0,  0,  0,  0,  0,  0,  0,  0,  0,  0,  0,  0,  0,  0,  0,\n",
       "        0,  0,  0,  0,  0,  0,  0,  1,  0,  0,  2,  2,  1,  3,  3,  3,  3,\n",
       "        4, -1,  5,  5,  5,  5,  5,  4,  4,  4,  4,  6,  6,  6,  4,  4,  4,\n",
       "        4,  4,  4,  4,  4,  5,  7,  7,  7,  7,  7,  7,  7,  7,  7,  7,  7,\n",
       "        7,  6,  6,  6,  6,  6, -1,  3,  3,  3,  3,  3,  3,  3,  8,  8,  3,\n",
       "        9,  3, -1,  3, 10, 10, 10, 10, 10,  2, 11, 11, 11, 11, 11, 11, 11,\n",
       "       11, 11, 11, 11, -1,  3,  3, 12, 12, 12, 12, 12,  3, -1, 13, 13, 13,\n",
       "       13, 13, 13, 13,  2,  2,  2,  2,  2,  2,  2,  2,  2,  2,  6, -1,  9,\n",
       "        9,  6, 14, 14, 13, 10, -1, 15, 15, 15, 15, 15,  4,  4,  4,  4,  4,\n",
       "        4,  4,  4,  4,  4,  4,  4,  4,  4,  4,  3,  3, 16, 16, 16, 16, 16,\n",
       "       16, 16, 16, 16, 16, 16, 16, 16, 16, 16, 16, 16, 16, 16, 17,  3,  3,\n",
       "        3,  3,  3,  3,  3, 18, 18, 18, 18, 18, -1, 17, 17,  2,  4,  4,  4,\n",
       "        4,  4,  4,  4,  4,  4, -1, -1, 19, 19, 19, 19, 20, 20, 20, 20, 20,\n",
       "       20, 20, 20, -1, -1,  3,  3,  3])"
      ]
     },
     "execution_count": 84,
     "metadata": {},
     "output_type": "execute_result"
    }
   ],
   "source": [
    "db_clustering.labels_"
   ]
  },
  {
   "cell_type": "code",
   "execution_count": 85,
   "metadata": {},
   "outputs": [
    {
     "data": {
      "text/plain": [
       "229"
      ]
     },
     "execution_count": 85,
     "metadata": {},
     "output_type": "execute_result"
    }
   ],
   "source": [
    "len(db_clustering.labels_)"
   ]
  },
  {
   "cell_type": "code",
   "execution_count": 86,
   "metadata": {},
   "outputs": [
    {
     "name": "stderr",
     "output_type": "stream",
     "text": [
      "/var/folders/6z/z5fs58w94yj6n956c8v6f_6r0000gn/T/ipykernel_50618/199606235.py:1: SettingWithCopyWarning: \n",
      "A value is trying to be set on a copy of a slice from a DataFrame.\n",
      "Try using .loc[row_indexer,col_indexer] = value instead\n",
      "\n",
      "See the caveats in the documentation: https://pandas.pydata.org/pandas-docs/stable/user_guide/indexing.html#returning-a-view-versus-a-copy\n",
      "  event1[\"dbscan_labels\"] = db_clustering.labels_\n"
     ]
    }
   ],
   "source": [
    "event1[\"dbscan_labels\"] = db_clustering.labels_"
   ]
  },
  {
   "cell_type": "code",
   "execution_count": 87,
   "metadata": {},
   "outputs": [],
   "source": [
    "mean_z0_dbscan = event1.groupby([\"dbscan_labels\"]).agg(\n",
    "    {\"dbscan_labels\": \"count\", \"tp_z0\": \"mean\"}\n",
    ")"
   ]
  },
  {
   "cell_type": "code",
   "execution_count": 88,
   "metadata": {},
   "outputs": [
    {
     "data": {
      "text/html": [
       "<div>\n",
       "<style scoped>\n",
       "    .dataframe tbody tr th:only-of-type {\n",
       "        vertical-align: middle;\n",
       "    }\n",
       "\n",
       "    .dataframe tbody tr th {\n",
       "        vertical-align: top;\n",
       "    }\n",
       "\n",
       "    .dataframe thead th {\n",
       "        text-align: right;\n",
       "    }\n",
       "</style>\n",
       "<table border=\"1\" class=\"dataframe\">\n",
       "  <thead>\n",
       "    <tr style=\"text-align: right;\">\n",
       "      <th></th>\n",
       "      <th>dbscan_labels</th>\n",
       "      <th>tp_z0</th>\n",
       "    </tr>\n",
       "    <tr>\n",
       "      <th>dbscan_labels</th>\n",
       "      <th></th>\n",
       "      <th></th>\n",
       "    </tr>\n",
       "  </thead>\n",
       "  <tbody>\n",
       "    <tr>\n",
       "      <th>-1</th>\n",
       "      <td>12</td>\n",
       "      <td>0.521203</td>\n",
       "    </tr>\n",
       "    <tr>\n",
       "      <th>0</th>\n",
       "      <td>26</td>\n",
       "      <td>3.502788</td>\n",
       "    </tr>\n",
       "    <tr>\n",
       "      <th>1</th>\n",
       "      <td>2</td>\n",
       "      <td>1.914725</td>\n",
       "    </tr>\n",
       "    <tr>\n",
       "      <th>2</th>\n",
       "      <td>14</td>\n",
       "      <td>1.473794</td>\n",
       "    </tr>\n",
       "    <tr>\n",
       "      <th>3</th>\n",
       "      <td>29</td>\n",
       "      <td>0.628901</td>\n",
       "    </tr>\n",
       "  </tbody>\n",
       "</table>\n",
       "</div>"
      ],
      "text/plain": [
       "               dbscan_labels     tp_z0\n",
       "dbscan_labels                         \n",
       "-1                        12  0.521203\n",
       " 0                        26  3.502788\n",
       " 1                         2  1.914725\n",
       " 2                        14  1.473794\n",
       " 3                        29  0.628901"
      ]
     },
     "execution_count": 88,
     "metadata": {},
     "output_type": "execute_result"
    }
   ],
   "source": [
    "mean_z0_dbscan.head()"
   ]
  },
  {
   "cell_type": "code",
   "execution_count": 89,
   "metadata": {},
   "outputs": [
    {
     "data": {
      "image/png": "[encoded data removed]",
      "text/plain": [
       "<Figure size 1728x288 with 1 Axes>"
      ]
     },
     "metadata": {
      "needs_background": "light"
     },
     "output_type": "display_data"
    }
   ],
   "source": [
    "fig, ax = plt.subplots(figsize=(24, 4))\n",
    "colors = [\n",
    "    matplotlib.cm.Spectral(float(i) / 10 * random.random())\n",
    "    for i in range(len(mean_z0_dbscan))\n",
    "]\n",
    "ax.scatter(\n",
    "    mean_z0_dbscan[\"tp_z0\"],\n",
    "    len(mean_z0_dbscan) * [1],\n",
    "    s=mean_z0_dbscan[\"dbscan_labels\"] * 20,\n",
    "    color=colors,\n",
    ")\n",
    "ax.set_xlabel(r\"$z_{0}$ [cm]\", fontsize=32)\n",
    "y = 1\n",
    "# for i, (txt, x) in enumerate(zip(mean_z0.index.values, mean_z0[\"tp_z0\"].values)):\n",
    "#     #     if y == 0:\n",
    "#     #         y = 1.025\n",
    "#     #     else:\n",
    "#     #         y = 0.975\n",
    "\n",
    "#     ax.annotate(txt, (x, y + random.uniform(-0.050, 0.050)), fontsize=10)\n",
    "ax.plot(\n",
    "    mean_z0_dbscan[\"tp_z0\"][0],\n",
    "    [1],\n",
    "    linestyle=\"None\",\n",
    "    marker=\"*\",\n",
    "    markerfacecolor=\"None\",\n",
    "    markersize=32,\n",
    "    markeredgewidth=5,\n",
    "    markeredgecolor=\"gold\",\n",
    "    label=\"primary vertex\",\n",
    ")\n",
    "ax.legend()\n",
    "_ = ax.set_yticklabels([])"
   ]
  },
  {
   "cell_type": "code",
   "execution_count": 90,
   "metadata": {},
   "outputs": [
    {
     "data": {
      "text/html": [
       "<div>\n",
       "<style scoped>\n",
       "    .dataframe tbody tr th:only-of-type {\n",
       "        vertical-align: middle;\n",
       "    }\n",
       "\n",
       "    .dataframe tbody tr th {\n",
       "        vertical-align: top;\n",
       "    }\n",
       "\n",
       "    .dataframe thead th {\n",
       "        text-align: right;\n",
       "    }\n",
       "</style>\n",
       "<table border=\"1\" class=\"dataframe\">\n",
       "  <thead>\n",
       "    <tr style=\"text-align: right;\">\n",
       "      <th></th>\n",
       "      <th>tp_eventid</th>\n",
       "      <th>tp_z0</th>\n",
       "    </tr>\n",
       "    <tr>\n",
       "      <th>tp_eventid</th>\n",
       "      <th></th>\n",
       "      <th></th>\n",
       "    </tr>\n",
       "  </thead>\n",
       "  <tbody>\n",
       "    <tr>\n",
       "      <th>0</th>\n",
       "      <td>27</td>\n",
       "      <td>3.444006</td>\n",
       "    </tr>\n",
       "    <tr>\n",
       "      <th>6</th>\n",
       "      <td>2</td>\n",
       "      <td>1.481491</td>\n",
       "    </tr>\n",
       "    <tr>\n",
       "      <th>7</th>\n",
       "      <td>1</td>\n",
       "      <td>1.913787</td>\n",
       "    </tr>\n",
       "    <tr>\n",
       "      <th>8</th>\n",
       "      <td>4</td>\n",
       "      <td>0.092146</td>\n",
       "    </tr>\n",
       "    <tr>\n",
       "      <th>19</th>\n",
       "      <td>1</td>\n",
       "      <td>-1.009509</td>\n",
       "    </tr>\n",
       "  </tbody>\n",
       "</table>\n",
       "</div>"
      ],
      "text/plain": [
       "            tp_eventid     tp_z0\n",
       "tp_eventid                      \n",
       "0                   27  3.444006\n",
       "6                    2  1.481491\n",
       "7                    1  1.913787\n",
       "8                    4  0.092146\n",
       "19                   1 -1.009509"
      ]
     },
     "execution_count": 90,
     "metadata": {},
     "output_type": "execute_result"
    }
   ],
   "source": [
    "mean_z0.head()"
   ]
  },
  {
   "cell_type": "markdown",
   "metadata": {},
   "source": [
    "The big question here is how to compare the performance of the dbscan with the generated data ?"
   ]
  },
  {
   "cell_type": "code",
   "execution_count": 99,
   "metadata": {},
   "outputs": [
    {
     "data": {
      "text/plain": [
       "entry\n",
       "0        100.300301\n",
       "1          2.806677\n",
       "2         39.352680\n",
       "3          2.047890\n",
       "4         45.843182\n",
       "            ...    \n",
       "24943     45.743790\n",
       "24944      4.743241\n",
       "24945      2.080068\n",
       "24946      7.707239\n",
       "24947      2.467850\n",
       "Name: tp_pt, Length: 24948, dtype: float32"
      ]
     },
     "execution_count": 99,
     "metadata": {},
     "output_type": "execute_result"
    }
   ],
   "source": [
    "tp.groupby(level=0)[\"tp_pt\"].first()"
   ]
  },
  {
   "cell_type": "code",
   "execution_count": 100,
   "metadata": {},
   "outputs": [
    {
     "data": {
      "text/plain": [
       "MultiIndex([(    0,   0),\n",
       "            (    0,   1),\n",
       "            (    0,   2),\n",
       "            (    0,   3),\n",
       "            (    0,   4),\n",
       "            (    0,   5),\n",
       "            (    0,   6),\n",
       "            (    0,   7),\n",
       "            (    0,   8),\n",
       "            (    0,   9),\n",
       "            ...\n",
       "            (24947, 126),\n",
       "            (24947, 127),\n",
       "            (24947, 128),\n",
       "            (24947, 129),\n",
       "            (24947, 130),\n",
       "            (24947, 131),\n",
       "            (24947, 132),\n",
       "            (24947, 133),\n",
       "            (24947, 134),\n",
       "            (24947, 135)],\n",
       "           names=['entry', 'subentry'], length=4421637)"
      ]
     },
     "execution_count": 100,
     "metadata": {},
     "output_type": "execute_result"
    }
   ],
   "source": [
    "tp.index"
   ]
  },
  {
   "cell_type": "code",
   "execution_count": 103,
   "metadata": {},
   "outputs": [
    {
     "data": {
      "text/plain": [
       "177.0"
      ]
     },
     "execution_count": 103,
     "metadata": {},
     "output_type": "execute_result"
    }
   ],
   "source": [
    "tp.groupby(level=0)[\"tp_pt\"].count().median()"
   ]
  },
  {
   "cell_type": "code",
   "execution_count": null,
   "metadata": {},
   "outputs": [],
   "source": []
  }
 ],
 "metadata": {
  "kernelspec": {
   "display_name": "db-clustering",
   "language": "python",
   "name": "db-clustering"
  },
  "language_info": {
   "codemirror_mode": {
    "name": "ipython",
    "version": 3
   },
   "file_extension": ".py",
   "mimetype": "text/x-python",
   "name": "python",
   "nbconvert_exporter": "python",
   "pygments_lexer": "ipython3",
   "version": "3.8.0"
  }
 },
 "nbformat": 4,
 "nbformat_minor": 4
}
