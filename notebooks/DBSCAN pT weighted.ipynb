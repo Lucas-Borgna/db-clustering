{
 "cells": [
  {
   "cell_type": "code",
   "execution_count": 1,
   "id": "24e35efa-1842-4b14-9ea5-595cf7a840d3",
   "metadata": {},
   "outputs": [],
   "source": [
    "%load_ext lab_black"
   ]
  },
  {
   "cell_type": "code",
   "execution_count": 2,
   "id": "00cb7140-b80c-4616-8e29-fe581de6e728",
   "metadata": {},
   "outputs": [],
   "source": [
    "import numpy as np\n",
    "import pandas as pd\n",
    "import matplotlib.pyplot as plt\n",
    "import seaborn as sns"
   ]
  },
  {
   "cell_type": "markdown",
   "id": "b827efbf-cfce-4369-98c4-c37a8276aed6",
   "metadata": {},
   "source": [
    "# DBSCAN pT weighted"
   ]
  },
  {
   "cell_type": "markdown",
   "id": "fd19e924-c832-41a6-8d8e-2456799d8f9a",
   "metadata": {},
   "source": [
    "Lets see what happens to the results of DBSCAN if I weight the clustering by pT"
   ]
  },
  {
   "cell_type": "markdown",
   "id": "863000e5-8858-4217-be57-911f5c5b145d",
   "metadata": {},
   "source": [
    "**Load_data**"
   ]
  },
  {
   "cell_type": "code",
   "execution_count": 3,
   "id": "143ff9ee-93e4-48eb-95bf-fe40e4e11446",
   "metadata": {},
   "outputs": [],
   "source": [
    "trk = pd.read_pickle(\"/media/lucas/QS/l1_nnt/trk_25k.pkl\")\n",
    "mc = pd.read_pickle(\"/media/lucas/QS/l1_nnt/mc_25k.pkl\")"
   ]
  },
  {
   "cell_type": "code",
   "execution_count": 4,
   "id": "0e15cb58-2236-496e-9b84-5d942b694162",
   "metadata": {},
   "outputs": [],
   "source": [
    "trk.dropna(inplace=True)"
   ]
  },
  {
   "cell_type": "markdown",
   "id": "4a409ff6-cb18-4b45-8516-832b4b489dd6",
   "metadata": {},
   "source": [
    "**Run the standard stuff first**"
   ]
  },
  {
   "cell_type": "code",
   "execution_count": 5,
   "id": "f5ea8928-1adf-4156-b5b8-8561b3bf3eb9",
   "metadata": {},
   "outputs": [],
   "source": [
    "from primaryvertexingtools import create_pv_truth_labels"
   ]
  },
  {
   "cell_type": "code",
   "execution_count": 6,
   "id": "5f1c43e5-c912-429c-a2ae-cf05a345ee34",
   "metadata": {},
   "outputs": [],
   "source": [
    "trk = create_pv_truth_labels(trk)"
   ]
  },
  {
   "cell_type": "code",
   "execution_count": 7,
   "id": "e9891eaa-1bfb-42c0-a070-83f906933532",
   "metadata": {},
   "outputs": [],
   "source": [
    "from primaryvertexingtools import PrimaryVertexing"
   ]
  },
  {
   "cell_type": "code",
   "execution_count": 8,
   "id": "245cb6fc-f80b-46ac-8034-2ac833c50b46",
   "metadata": {},
   "outputs": [],
   "source": [
    "fh_bins = np.linspace(-15, 15, 256)"
   ]
  },
  {
   "cell_type": "code",
   "execution_count": 9,
   "id": "33677a40-e76f-4c02-94df-bd2deddc2d12",
   "metadata": {},
   "outputs": [],
   "source": [
    "mydict = {\"track_data\": trk, \"truth_data\": mc, \"fh_bins\": fh_bins, \"test_run\": False}"
   ]
  },
  {
   "cell_type": "code",
   "execution_count": 10,
   "id": "9d197001-5776-4188-ba87-656392479099",
   "metadata": {},
   "outputs": [
    {
     "name": "stdout",
     "output_type": "stream",
     "text": [
      "Initialized Primary Vertexing setup\n"
     ]
    }
   ],
   "source": [
    "PV = PrimaryVertexing(mydict)"
   ]
  },
  {
   "cell_type": "code",
   "execution_count": 11,
   "id": "debbb9fa-5a85-4967-9d9e-e64dedd4fe06",
   "metadata": {},
   "outputs": [
    {
     "name": "stderr",
     "output_type": "stream",
     "text": [
      "100%|███████████████████████████████████| 25000/25000 [00:05<00:00, 4213.16it/s]\n"
     ]
    },
    {
     "name": "stdout",
     "output_type": "stream",
     "text": [
      "Ran Fast Histo\n"
     ]
    }
   ],
   "source": [
    "PV.run_fh()"
   ]
  },
  {
   "cell_type": "code",
   "execution_count": 12,
   "id": "539f033f-94c1-48c9-97f2-bf4def026a2d",
   "metadata": {},
   "outputs": [
    {
     "name": "stderr",
     "output_type": "stream",
     "text": [
      "100%|████████████████████████████████████| 25000/25000 [01:14<00:00, 336.85it/s]\n"
     ]
    },
    {
     "name": "stdout",
     "output_type": "stream",
     "text": [
      "Ran DBSCAN with eps: 0.08, minPts: 2\n"
     ]
    }
   ],
   "source": [
    "PV.run_dbscan()"
   ]
  },
  {
   "cell_type": "markdown",
   "id": "bc479ce1-005d-44c6-9d91-476d88c14fc1",
   "metadata": {},
   "source": [
    "# PT weighted DBSCAN"
   ]
  },
  {
   "cell_type": "markdown",
   "id": "729f4801-2c16-4ed8-b6a0-32b648c304f8",
   "metadata": {},
   "source": [
    "**Test on first event**"
   ]
  },
  {
   "cell_type": "code",
   "execution_count": 13,
   "id": "cd208288-bdd3-431f-a0e9-db0de94b42c0",
   "metadata": {},
   "outputs": [],
   "source": [
    "e0 = trk.query(\"entry==0\").copy()"
   ]
  },
  {
   "cell_type": "code",
   "execution_count": 14,
   "id": "8d0f10a2-418f-4aa2-aa92-6eebf03b162d",
   "metadata": {},
   "outputs": [
    {
     "data": {
      "text/html": [
       "<div>\n",
       "<style scoped>\n",
       "    .dataframe tbody tr th:only-of-type {\n",
       "        vertical-align: middle;\n",
       "    }\n",
       "\n",
       "    .dataframe tbody tr th {\n",
       "        vertical-align: top;\n",
       "    }\n",
       "\n",
       "    .dataframe thead th {\n",
       "        text-align: right;\n",
       "    }\n",
       "</style>\n",
       "<table border=\"1\" class=\"dataframe\">\n",
       "  <thead>\n",
       "    <tr style=\"text-align: right;\">\n",
       "      <th></th>\n",
       "      <th></th>\n",
       "      <th>trk_pt</th>\n",
       "      <th>trk_eta</th>\n",
       "      <th>trk_phi</th>\n",
       "      <th>trk_d0</th>\n",
       "      <th>trk_z0</th>\n",
       "      <th>trk_fake</th>\n",
       "      <th>is_pv</th>\n",
       "      <th>z0_reco_fh</th>\n",
       "      <th>distance_from_pv_fh</th>\n",
       "      <th>trk_pv_assoc_fh</th>\n",
       "      <th>z0_reco_db</th>\n",
       "      <th>trk_pv_assoc_db</th>\n",
       "    </tr>\n",
       "    <tr>\n",
       "      <th>entry</th>\n",
       "      <th>subentry</th>\n",
       "      <th></th>\n",
       "      <th></th>\n",
       "      <th></th>\n",
       "      <th></th>\n",
       "      <th></th>\n",
       "      <th></th>\n",
       "      <th></th>\n",
       "      <th></th>\n",
       "      <th></th>\n",
       "      <th></th>\n",
       "      <th></th>\n",
       "      <th></th>\n",
       "    </tr>\n",
       "  </thead>\n",
       "  <tbody>\n",
       "    <tr>\n",
       "      <th rowspan=\"11\" valign=\"top\">0</th>\n",
       "      <th>0</th>\n",
       "      <td>2.623967</td>\n",
       "      <td>1.301414</td>\n",
       "      <td>-0.289234</td>\n",
       "      <td>999.0</td>\n",
       "      <td>-0.878906</td>\n",
       "      <td>2</td>\n",
       "      <td>0</td>\n",
       "      <td>4.863511</td>\n",
       "      <td>5.742417</td>\n",
       "      <td>0.0</td>\n",
       "      <td>4.980469</td>\n",
       "      <td>0</td>\n",
       "    </tr>\n",
       "    <tr>\n",
       "      <th>1</th>\n",
       "      <td>3.435026</td>\n",
       "      <td>0.566814</td>\n",
       "      <td>-0.159267</td>\n",
       "      <td>999.0</td>\n",
       "      <td>3.339844</td>\n",
       "      <td>2</td>\n",
       "      <td>0</td>\n",
       "      <td>4.863511</td>\n",
       "      <td>1.523667</td>\n",
       "      <td>0.0</td>\n",
       "      <td>4.980469</td>\n",
       "      <td>0</td>\n",
       "    </tr>\n",
       "    <tr>\n",
       "      <th>2</th>\n",
       "      <td>3.774908</td>\n",
       "      <td>1.815973</td>\n",
       "      <td>-0.240375</td>\n",
       "      <td>999.0</td>\n",
       "      <td>4.921875</td>\n",
       "      <td>1</td>\n",
       "      <td>1</td>\n",
       "      <td>4.863511</td>\n",
       "      <td>0.058364</td>\n",
       "      <td>1.0</td>\n",
       "      <td>4.980469</td>\n",
       "      <td>1</td>\n",
       "    </tr>\n",
       "    <tr>\n",
       "      <th>3</th>\n",
       "      <td>2.641448</td>\n",
       "      <td>-1.435747</td>\n",
       "      <td>-0.128747</td>\n",
       "      <td>999.0</td>\n",
       "      <td>-0.468750</td>\n",
       "      <td>2</td>\n",
       "      <td>0</td>\n",
       "      <td>4.863511</td>\n",
       "      <td>5.332261</td>\n",
       "      <td>0.0</td>\n",
       "      <td>4.980469</td>\n",
       "      <td>0</td>\n",
       "    </tr>\n",
       "    <tr>\n",
       "      <th>4</th>\n",
       "      <td>2.320653</td>\n",
       "      <td>1.837421</td>\n",
       "      <td>0.032604</td>\n",
       "      <td>999.0</td>\n",
       "      <td>4.980469</td>\n",
       "      <td>1</td>\n",
       "      <td>1</td>\n",
       "      <td>4.863511</td>\n",
       "      <td>0.116958</td>\n",
       "      <td>1.0</td>\n",
       "      <td>4.980469</td>\n",
       "      <td>1</td>\n",
       "    </tr>\n",
       "    <tr>\n",
       "      <th>...</th>\n",
       "      <td>...</td>\n",
       "      <td>...</td>\n",
       "      <td>...</td>\n",
       "      <td>...</td>\n",
       "      <td>...</td>\n",
       "      <td>...</td>\n",
       "      <td>...</td>\n",
       "      <td>...</td>\n",
       "      <td>...</td>\n",
       "      <td>...</td>\n",
       "      <td>...</td>\n",
       "      <td>...</td>\n",
       "    </tr>\n",
       "    <tr>\n",
       "      <th>154</th>\n",
       "      <td>2.026653</td>\n",
       "      <td>-2.021094</td>\n",
       "      <td>-1.062191</td>\n",
       "      <td>999.0</td>\n",
       "      <td>-0.410156</td>\n",
       "      <td>2</td>\n",
       "      <td>0</td>\n",
       "      <td>4.863511</td>\n",
       "      <td>5.273667</td>\n",
       "      <td>0.0</td>\n",
       "      <td>4.980469</td>\n",
       "      <td>0</td>\n",
       "    </tr>\n",
       "    <tr>\n",
       "      <th>155</th>\n",
       "      <td>2.049097</td>\n",
       "      <td>-2.055119</td>\n",
       "      <td>-0.964472</td>\n",
       "      <td>999.0</td>\n",
       "      <td>-0.410156</td>\n",
       "      <td>2</td>\n",
       "      <td>0</td>\n",
       "      <td>4.863511</td>\n",
       "      <td>5.273667</td>\n",
       "      <td>0.0</td>\n",
       "      <td>4.980469</td>\n",
       "      <td>0</td>\n",
       "    </tr>\n",
       "    <tr>\n",
       "      <th>156</th>\n",
       "      <td>2.222179</td>\n",
       "      <td>-2.426809</td>\n",
       "      <td>-0.693084</td>\n",
       "      <td>999.0</td>\n",
       "      <td>5.566406</td>\n",
       "      <td>2</td>\n",
       "      <td>0</td>\n",
       "      <td>4.863511</td>\n",
       "      <td>0.702895</td>\n",
       "      <td>0.0</td>\n",
       "      <td>4.980469</td>\n",
       "      <td>0</td>\n",
       "    </tr>\n",
       "    <tr>\n",
       "      <th>157</th>\n",
       "      <td>2.563973</td>\n",
       "      <td>2.081842</td>\n",
       "      <td>-0.530004</td>\n",
       "      <td>999.0</td>\n",
       "      <td>-3.046875</td>\n",
       "      <td>2</td>\n",
       "      <td>0</td>\n",
       "      <td>4.863511</td>\n",
       "      <td>7.910386</td>\n",
       "      <td>0.0</td>\n",
       "      <td>4.980469</td>\n",
       "      <td>0</td>\n",
       "    </tr>\n",
       "    <tr>\n",
       "      <th>158</th>\n",
       "      <td>2.303798</td>\n",
       "      <td>1.335547</td>\n",
       "      <td>-0.274176</td>\n",
       "      <td>999.0</td>\n",
       "      <td>4.804688</td>\n",
       "      <td>2</td>\n",
       "      <td>0</td>\n",
       "      <td>4.863511</td>\n",
       "      <td>0.058824</td>\n",
       "      <td>1.0</td>\n",
       "      <td>4.980469</td>\n",
       "      <td>1</td>\n",
       "    </tr>\n",
       "  </tbody>\n",
       "</table>\n",
       "<p>159 rows × 12 columns</p>\n",
       "</div>"
      ],
      "text/plain": [
       "                  trk_pt   trk_eta   trk_phi  trk_d0    trk_z0  trk_fake  \\\n",
       "entry subentry                                                             \n",
       "0     0         2.623967  1.301414 -0.289234   999.0 -0.878906         2   \n",
       "      1         3.435026  0.566814 -0.159267   999.0  3.339844         2   \n",
       "      2         3.774908  1.815973 -0.240375   999.0  4.921875         1   \n",
       "      3         2.641448 -1.435747 -0.128747   999.0 -0.468750         2   \n",
       "      4         2.320653  1.837421  0.032604   999.0  4.980469         1   \n",
       "...                  ...       ...       ...     ...       ...       ...   \n",
       "      154       2.026653 -2.021094 -1.062191   999.0 -0.410156         2   \n",
       "      155       2.049097 -2.055119 -0.964472   999.0 -0.410156         2   \n",
       "      156       2.222179 -2.426809 -0.693084   999.0  5.566406         2   \n",
       "      157       2.563973  2.081842 -0.530004   999.0 -3.046875         2   \n",
       "      158       2.303798  1.335547 -0.274176   999.0  4.804688         2   \n",
       "\n",
       "                is_pv  z0_reco_fh  distance_from_pv_fh  trk_pv_assoc_fh  \\\n",
       "entry subentry                                                            \n",
       "0     0             0    4.863511             5.742417              0.0   \n",
       "      1             0    4.863511             1.523667              0.0   \n",
       "      2             1    4.863511             0.058364              1.0   \n",
       "      3             0    4.863511             5.332261              0.0   \n",
       "      4             1    4.863511             0.116958              1.0   \n",
       "...               ...         ...                  ...              ...   \n",
       "      154           0    4.863511             5.273667              0.0   \n",
       "      155           0    4.863511             5.273667              0.0   \n",
       "      156           0    4.863511             0.702895              0.0   \n",
       "      157           0    4.863511             7.910386              0.0   \n",
       "      158           0    4.863511             0.058824              1.0   \n",
       "\n",
       "                z0_reco_db  trk_pv_assoc_db  \n",
       "entry subentry                               \n",
       "0     0           4.980469                0  \n",
       "      1           4.980469                0  \n",
       "      2           4.980469                1  \n",
       "      3           4.980469                0  \n",
       "      4           4.980469                1  \n",
       "...                    ...              ...  \n",
       "      154         4.980469                0  \n",
       "      155         4.980469                0  \n",
       "      156         4.980469                0  \n",
       "      157         4.980469                0  \n",
       "      158         4.980469                1  \n",
       "\n",
       "[159 rows x 12 columns]"
      ]
     },
     "execution_count": 14,
     "metadata": {},
     "output_type": "execute_result"
    }
   ],
   "source": [
    "e0"
   ]
  },
  {
   "cell_type": "code",
   "execution_count": 15,
   "id": "971a3e8a-5c96-4347-9cc6-b7348db493c0",
   "metadata": {},
   "outputs": [],
   "source": [
    "from sklearn.cluster import DBSCAN"
   ]
  },
  {
   "cell_type": "code",
   "execution_count": 16,
   "id": "6f60ff2d-1066-43d0-b236-92b76a3397a6",
   "metadata": {},
   "outputs": [],
   "source": [
    "db_clustering = DBSCAN(eps=0.15, min_samples=2).fit(\n",
    "    e0[\"trk_z0\"].values.reshape(-1, 1), sample_weight=e0[\"trk_pt\"].values\n",
    ")"
   ]
  },
  {
   "cell_type": "code",
   "execution_count": 17,
   "id": "761ab097-5d04-4dfc-817c-27bbe9561219",
   "metadata": {},
   "outputs": [],
   "source": [
    "e0[\"db_pt_label\"] = db_clustering.labels_"
   ]
  },
  {
   "cell_type": "code",
   "execution_count": 18,
   "id": "ac0a459b-6e0e-4e4a-a831-5a93fa2783f7",
   "metadata": {},
   "outputs": [],
   "source": [
    "e0.loc[e0[\"db_pt_label\"] < 0, \"pt\"] = 0"
   ]
  },
  {
   "cell_type": "code",
   "execution_count": 19,
   "id": "77e50a49-a6b8-4f80-a3e3-90bad1c7aeb2",
   "metadata": {},
   "outputs": [],
   "source": [
    "pv_label = (\n",
    "    e0.groupby([\"db_pt_label\"])[\"trk_pt\"].sum().sort_values(ascending=False).index[0]\n",
    ")"
   ]
  },
  {
   "cell_type": "code",
   "execution_count": 20,
   "id": "4e7a4d25-eb73-46d0-92df-67546577d965",
   "metadata": {},
   "outputs": [],
   "source": [
    "e0[\"db_pt_pv_label\"] = 0"
   ]
  },
  {
   "cell_type": "code",
   "execution_count": 21,
   "id": "2dac37f5-5f88-4788-841d-9a33bbd8704d",
   "metadata": {},
   "outputs": [],
   "source": [
    "e0.loc[e0[\"db_pt_label\"] == pv_label, \"db_pt_pv_label\"] = 1"
   ]
  },
  {
   "cell_type": "code",
   "execution_count": 22,
   "id": "dc28d719-e3f7-4b80-a7fe-68d21bcb10ee",
   "metadata": {},
   "outputs": [],
   "source": [
    "z0_reco = np.median(e0.loc[e0[\"db_pt_pv_label\"] == 1, \"trk_z0\"])"
   ]
  },
  {
   "cell_type": "code",
   "execution_count": 23,
   "id": "db37c108-cb87-46ba-9182-0792b1357e81",
   "metadata": {},
   "outputs": [
    {
     "data": {
      "text/plain": [
       "4.9804688"
      ]
     },
     "execution_count": 23,
     "metadata": {},
     "output_type": "execute_result"
    }
   ],
   "source": [
    "z0_reco"
   ]
  },
  {
   "cell_type": "markdown",
   "id": "804234b3-eb15-4e5c-ad1b-b328eaec121d",
   "metadata": {},
   "source": [
    "# PT weighted has been implemented in class"
   ]
  },
  {
   "cell_type": "code",
   "execution_count": 24,
   "id": "4ead1a88-4036-4d6f-b333-1fe43372d114",
   "metadata": {},
   "outputs": [],
   "source": [
    "from primaryvertexingtools import PrimaryVertexing"
   ]
  },
  {
   "cell_type": "code",
   "execution_count": 25,
   "id": "9e85772b-7915-41fa-8608-d1e8076396f9",
   "metadata": {},
   "outputs": [],
   "source": [
    "mydict = {\n",
    "    \"track_data\": trk,\n",
    "    \"truth_data\": mc,\n",
    "    \"fh_bins\": fh_bins,\n",
    "    \"test_run\": False,\n",
    "}"
   ]
  },
  {
   "cell_type": "code",
   "execution_count": 26,
   "id": "f1953a9f-13e1-4bf4-952b-24cd5671a4e2",
   "metadata": {},
   "outputs": [
    {
     "name": "stdout",
     "output_type": "stream",
     "text": [
      "Initialized Primary Vertexing setup\n"
     ]
    }
   ],
   "source": [
    "PVpt = PrimaryVertexing(mydict)"
   ]
  },
  {
   "cell_type": "code",
   "execution_count": 27,
   "id": "3519ca39-712f-4e34-8fe4-088e83be1272",
   "metadata": {},
   "outputs": [
    {
     "name": "stderr",
     "output_type": "stream",
     "text": [
      "100%|███████████████████████████████████| 25000/25000 [00:05<00:00, 4351.07it/s]\n"
     ]
    },
    {
     "name": "stdout",
     "output_type": "stream",
     "text": [
      "Ran Fast Histo\n"
     ]
    }
   ],
   "source": [
    "PVpt.run_fh()"
   ]
  },
  {
   "cell_type": "code",
   "execution_count": 28,
   "id": "892f6af7-c160-4d1b-aa38-efea3e890913",
   "metadata": {},
   "outputs": [
    {
     "name": "stderr",
     "output_type": "stream",
     "text": [
      "100%|████████████████████████████████████| 25000/25000 [01:26<00:00, 290.44it/s]\n"
     ]
    },
    {
     "name": "stdout",
     "output_type": "stream",
     "text": [
      "Ran DBSCAN with eps: 0.08, minPts: 2\n"
     ]
    }
   ],
   "source": [
    "PVpt.run_dbscan(pt_weighted=True)"
   ]
  },
  {
   "cell_type": "code",
   "execution_count": null,
   "id": "316f6fc2-ff50-4aee-9c0f-b31fb9523d35",
   "metadata": {},
   "outputs": [],
   "source": []
  }
 ],
 "metadata": {
  "kernelspec": {
   "display_name": "db-clustering",
   "language": "python",
   "name": "db-clustering"
  },
  "language_info": {
   "codemirror_mode": {
    "name": "ipython",
    "version": 3
   },
   "file_extension": ".py",
   "mimetype": "text/x-python",
   "name": "python",
   "nbconvert_exporter": "python",
   "pygments_lexer": "ipython3",
   "version": "3.8.13"
  }
 },
 "nbformat": 4,
 "nbformat_minor": 5
}
