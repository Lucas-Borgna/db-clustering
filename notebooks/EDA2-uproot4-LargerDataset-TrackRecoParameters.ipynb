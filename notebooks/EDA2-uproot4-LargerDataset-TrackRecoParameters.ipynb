{
 "cells": [
  {
   "cell_type": "code",
   "execution_count": 195,
   "metadata": {},
   "outputs": [
    {
     "name": "stdout",
     "output_type": "stream",
     "text": [
      "The lab_black extension is already loaded. To reload it, use:\n",
      "  %reload_ext lab_black\n"
     ]
    }
   ],
   "source": [
    "%load_ext lab_black"
   ]
  },
  {
   "cell_type": "code",
   "execution_count": 196,
   "metadata": {},
   "outputs": [
    {
     "name": "stdout",
     "output_type": "stream",
     "text": [
      "The autoreload extension is already loaded. To reload it, use:\n",
      "  %reload_ext autoreload\n"
     ]
    }
   ],
   "source": [
    "### Reloads modules properly\n",
    "%load_ext autoreload\n",
    "%autoreload 2"
   ]
  },
  {
   "cell_type": "code",
   "execution_count": 197,
   "metadata": {},
   "outputs": [],
   "source": [
    "import os\n",
    "\n",
    "os.sys.path.append(\"../\")"
   ]
  },
  {
   "cell_type": "code",
   "execution_count": 198,
   "metadata": {},
   "outputs": [],
   "source": [
    "import numpy as np"
   ]
  },
  {
   "cell_type": "code",
   "execution_count": 199,
   "metadata": {},
   "outputs": [],
   "source": [
    "import pandas as pd\n",
    "\n",
    "# Show all the columns and rows in pandas df\n",
    "pd.set_option(\"display.max_columns\", None)\n",
    "pd.set_option(\"display.max_rows\", 500)"
   ]
  },
  {
   "cell_type": "code",
   "execution_count": 6,
   "metadata": {},
   "outputs": [],
   "source": [
    "import matplotlib.pyplot as plt"
   ]
  },
  {
   "cell_type": "code",
   "execution_count": 7,
   "metadata": {},
   "outputs": [],
   "source": [
    "import mplhep\n",
    "\n",
    "mplhep.style.use(\"CMS\")"
   ]
  },
  {
   "cell_type": "markdown",
   "metadata": {},
   "source": [
    "# Read as dataframe"
   ]
  },
  {
   "cell_type": "markdown",
   "metadata": {},
   "source": [
    "Let's use uproot 4 for this"
   ]
  },
  {
   "cell_type": "code",
   "execution_count": 8,
   "metadata": {},
   "outputs": [],
   "source": [
    "import uproot"
   ]
  },
  {
   "cell_type": "code",
   "execution_count": 9,
   "metadata": {},
   "outputs": [
    {
     "data": {
      "text/plain": [
       "'4.1.7'"
      ]
     },
     "execution_count": 9,
     "metadata": {},
     "output_type": "execute_result"
    }
   ],
   "source": [
    "uproot.__version__"
   ]
  },
  {
   "cell_type": "code",
   "execution_count": 10,
   "metadata": {},
   "outputs": [
    {
     "name": "stdout",
     "output_type": "stream",
     "text": [
      "-rw-r--r--  1 lucas  staff   493M  8 Nov 09:50 ../00.root\n"
     ]
    }
   ],
   "source": [
    "!ls -lh ../00.root"
   ]
  },
  {
   "cell_type": "code",
   "execution_count": 11,
   "metadata": {},
   "outputs": [],
   "source": [
    "f4 = uproot.open(\"../00.root\")"
   ]
  },
  {
   "cell_type": "code",
   "execution_count": 12,
   "metadata": {},
   "outputs": [],
   "source": [
    "df = f4[\"L1TrackNtuple/eventTree;1\"].arrays(library=\"pd\")"
   ]
  },
  {
   "cell_type": "code",
   "execution_count": 13,
   "metadata": {},
   "outputs": [],
   "source": [
    "trk = df[0]"
   ]
  },
  {
   "cell_type": "code",
   "execution_count": 14,
   "metadata": {},
   "outputs": [],
   "source": [
    "tp = df[1]"
   ]
  },
  {
   "cell_type": "code",
   "execution_count": 18,
   "metadata": {},
   "outputs": [
    {
     "data": {
      "text/html": [
       "<div>\n",
       "<style scoped>\n",
       "    .dataframe tbody tr th:only-of-type {\n",
       "        vertical-align: middle;\n",
       "    }\n",
       "\n",
       "    .dataframe tbody tr th {\n",
       "        vertical-align: top;\n",
       "    }\n",
       "\n",
       "    .dataframe thead th {\n",
       "        text-align: right;\n",
       "    }\n",
       "</style>\n",
       "<table border=\"1\" class=\"dataframe\">\n",
       "  <thead>\n",
       "    <tr style=\"text-align: right;\">\n",
       "      <th></th>\n",
       "      <th></th>\n",
       "      <th>tp_pt</th>\n",
       "      <th>tp_eta</th>\n",
       "      <th>tp_phi</th>\n",
       "      <th>tp_dxy</th>\n",
       "      <th>tp_d0</th>\n",
       "      <th>tp_z0</th>\n",
       "      <th>tp_d0_prod</th>\n",
       "      <th>tp_z0_prod</th>\n",
       "      <th>tp_pdgid</th>\n",
       "      <th>tp_nmatch</th>\n",
       "      <th>tp_nloosematch</th>\n",
       "      <th>tp_nstub</th>\n",
       "      <th>tp_eventid</th>\n",
       "      <th>tp_charge</th>\n",
       "      <th>tp_injet</th>\n",
       "      <th>tp_injet_highpt</th>\n",
       "      <th>tp_injet_vhighpt</th>\n",
       "      <th>matchtrk_pt</th>\n",
       "      <th>matchtrk_eta</th>\n",
       "      <th>matchtrk_phi</th>\n",
       "      <th>matchtrk_z0</th>\n",
       "      <th>matchtrk_d0</th>\n",
       "      <th>matchtrk_chi2</th>\n",
       "      <th>matchtrk_bendchi2</th>\n",
       "      <th>matchtrk_nstub</th>\n",
       "      <th>matchtrk_lhits</th>\n",
       "      <th>matchtrk_dhits</th>\n",
       "      <th>matchtrk_seed</th>\n",
       "      <th>matchtrk_injet</th>\n",
       "      <th>matchtrk_injet_highpt</th>\n",
       "      <th>matchtrk_injet_vhighpt</th>\n",
       "      <th>loosematchtrk_pt</th>\n",
       "      <th>loosematchtrk_eta</th>\n",
       "      <th>loosematchtrk_phi</th>\n",
       "      <th>loosematchtrk_z0</th>\n",
       "      <th>loosematchtrk_d0</th>\n",
       "      <th>loosematchtrk_chi2</th>\n",
       "      <th>loosematchtrk_bendchi2</th>\n",
       "      <th>loosematchtrk_nstub</th>\n",
       "      <th>loosematchtrk_seed</th>\n",
       "      <th>loosematchtrk_injet</th>\n",
       "      <th>loosematchtrk_injet_highpt</th>\n",
       "      <th>loosematchtrk_injet_vhighpt</th>\n",
       "    </tr>\n",
       "    <tr>\n",
       "      <th>entry</th>\n",
       "      <th>subentry</th>\n",
       "      <th></th>\n",
       "      <th></th>\n",
       "      <th></th>\n",
       "      <th></th>\n",
       "      <th></th>\n",
       "      <th></th>\n",
       "      <th></th>\n",
       "      <th></th>\n",
       "      <th></th>\n",
       "      <th></th>\n",
       "      <th></th>\n",
       "      <th></th>\n",
       "      <th></th>\n",
       "      <th></th>\n",
       "      <th></th>\n",
       "      <th></th>\n",
       "      <th></th>\n",
       "      <th></th>\n",
       "      <th></th>\n",
       "      <th></th>\n",
       "      <th></th>\n",
       "      <th></th>\n",
       "      <th></th>\n",
       "      <th></th>\n",
       "      <th></th>\n",
       "      <th></th>\n",
       "      <th></th>\n",
       "      <th></th>\n",
       "      <th></th>\n",
       "      <th></th>\n",
       "      <th></th>\n",
       "      <th></th>\n",
       "      <th></th>\n",
       "      <th></th>\n",
       "      <th></th>\n",
       "      <th></th>\n",
       "      <th></th>\n",
       "      <th></th>\n",
       "      <th></th>\n",
       "      <th></th>\n",
       "      <th></th>\n",
       "      <th></th>\n",
       "      <th></th>\n",
       "    </tr>\n",
       "  </thead>\n",
       "  <tbody>\n",
       "    <tr>\n",
       "      <th rowspan=\"5\" valign=\"top\">0</th>\n",
       "      <th>0</th>\n",
       "      <td>100.300301</td>\n",
       "      <td>-0.898876</td>\n",
       "      <td>0.061430</td>\n",
       "      <td>0.00125</td>\n",
       "      <td>0.000543</td>\n",
       "      <td>3.500762</td>\n",
       "      <td>-0.000073</td>\n",
       "      <td>3.499485</td>\n",
       "      <td>13</td>\n",
       "      <td>1</td>\n",
       "      <td>1</td>\n",
       "      <td>8</td>\n",
       "      <td>0</td>\n",
       "      <td>-1</td>\n",
       "      <td>1</td>\n",
       "      <td>1</td>\n",
       "      <td>0</td>\n",
       "      <td>102.943588</td>\n",
       "      <td>-0.900577</td>\n",
       "      <td>0.061580</td>\n",
       "      <td>3.574219</td>\n",
       "      <td>-999.0</td>\n",
       "      <td>7.661629</td>\n",
       "      <td>0.025519</td>\n",
       "      <td>6</td>\n",
       "      <td>111111</td>\n",
       "      <td>0</td>\n",
       "      <td>0</td>\n",
       "      <td>1</td>\n",
       "      <td>1</td>\n",
       "      <td>0</td>\n",
       "      <td>102.943588</td>\n",
       "      <td>-0.900577</td>\n",
       "      <td>0.061580</td>\n",
       "      <td>3.574219</td>\n",
       "      <td>-999.0</td>\n",
       "      <td>7.661629</td>\n",
       "      <td>0.025519</td>\n",
       "      <td>6</td>\n",
       "      <td>0</td>\n",
       "      <td>1</td>\n",
       "      <td>1</td>\n",
       "      <td>0</td>\n",
       "    </tr>\n",
       "    <tr>\n",
       "      <th>1</th>\n",
       "      <td>2.052715</td>\n",
       "      <td>-1.650001</td>\n",
       "      <td>-2.781972</td>\n",
       "      <td>0.00125</td>\n",
       "      <td>0.000306</td>\n",
       "      <td>3.496469</td>\n",
       "      <td>-0.000297</td>\n",
       "      <td>3.499485</td>\n",
       "      <td>211</td>\n",
       "      <td>1</td>\n",
       "      <td>1</td>\n",
       "      <td>9</td>\n",
       "      <td>0</td>\n",
       "      <td>1</td>\n",
       "      <td>0</td>\n",
       "      <td>0</td>\n",
       "      <td>0</td>\n",
       "      <td>2.034012</td>\n",
       "      <td>-1.651574</td>\n",
       "      <td>-2.782407</td>\n",
       "      <td>3.750000</td>\n",
       "      <td>-999.0</td>\n",
       "      <td>8.667765</td>\n",
       "      <td>1.376251</td>\n",
       "      <td>6</td>\n",
       "      <td>11</td>\n",
       "      <td>1111</td>\n",
       "      <td>0</td>\n",
       "      <td>0</td>\n",
       "      <td>0</td>\n",
       "      <td>0</td>\n",
       "      <td>2.034012</td>\n",
       "      <td>-1.651574</td>\n",
       "      <td>-2.782407</td>\n",
       "      <td>3.750000</td>\n",
       "      <td>-999.0</td>\n",
       "      <td>8.667765</td>\n",
       "      <td>1.376251</td>\n",
       "      <td>6</td>\n",
       "      <td>0</td>\n",
       "      <td>0</td>\n",
       "      <td>0</td>\n",
       "      <td>0</td>\n",
       "    </tr>\n",
       "    <tr>\n",
       "      <th>2</th>\n",
       "      <td>6.453084</td>\n",
       "      <td>-0.604645</td>\n",
       "      <td>-2.807965</td>\n",
       "      <td>0.00125</td>\n",
       "      <td>0.000281</td>\n",
       "      <td>3.498704</td>\n",
       "      <td>-0.000265</td>\n",
       "      <td>3.499485</td>\n",
       "      <td>2212</td>\n",
       "      <td>1</td>\n",
       "      <td>1</td>\n",
       "      <td>8</td>\n",
       "      <td>0</td>\n",
       "      <td>1</td>\n",
       "      <td>0</td>\n",
       "      <td>0</td>\n",
       "      <td>0</td>\n",
       "      <td>6.475194</td>\n",
       "      <td>-0.604991</td>\n",
       "      <td>-2.808045</td>\n",
       "      <td>3.574219</td>\n",
       "      <td>-999.0</td>\n",
       "      <td>4.947954</td>\n",
       "      <td>1.358919</td>\n",
       "      <td>6</td>\n",
       "      <td>111111</td>\n",
       "      <td>0</td>\n",
       "      <td>0</td>\n",
       "      <td>0</td>\n",
       "      <td>0</td>\n",
       "      <td>0</td>\n",
       "      <td>6.475194</td>\n",
       "      <td>-0.604991</td>\n",
       "      <td>-2.808045</td>\n",
       "      <td>3.574219</td>\n",
       "      <td>-999.0</td>\n",
       "      <td>4.947954</td>\n",
       "      <td>1.358919</td>\n",
       "      <td>6</td>\n",
       "      <td>0</td>\n",
       "      <td>0</td>\n",
       "      <td>0</td>\n",
       "      <td>0</td>\n",
       "    </tr>\n",
       "    <tr>\n",
       "      <th>3</th>\n",
       "      <td>8.502528</td>\n",
       "      <td>-0.446424</td>\n",
       "      <td>-1.675735</td>\n",
       "      <td>0.00125</td>\n",
       "      <td>0.001191</td>\n",
       "      <td>3.499362</td>\n",
       "      <td>-0.001218</td>\n",
       "      <td>3.499485</td>\n",
       "      <td>-321</td>\n",
       "      <td>1</td>\n",
       "      <td>1</td>\n",
       "      <td>5</td>\n",
       "      <td>0</td>\n",
       "      <td>-1</td>\n",
       "      <td>1</td>\n",
       "      <td>0</td>\n",
       "      <td>0</td>\n",
       "      <td>8.506432</td>\n",
       "      <td>-0.449548</td>\n",
       "      <td>-1.675164</td>\n",
       "      <td>3.574219</td>\n",
       "      <td>-999.0</td>\n",
       "      <td>3.709781</td>\n",
       "      <td>0.449784</td>\n",
       "      <td>5</td>\n",
       "      <td>111011</td>\n",
       "      <td>0</td>\n",
       "      <td>0</td>\n",
       "      <td>1</td>\n",
       "      <td>0</td>\n",
       "      <td>0</td>\n",
       "      <td>8.506432</td>\n",
       "      <td>-0.449548</td>\n",
       "      <td>-1.675164</td>\n",
       "      <td>3.574219</td>\n",
       "      <td>-999.0</td>\n",
       "      <td>3.709781</td>\n",
       "      <td>0.449784</td>\n",
       "      <td>5</td>\n",
       "      <td>0</td>\n",
       "      <td>1</td>\n",
       "      <td>0</td>\n",
       "      <td>0</td>\n",
       "    </tr>\n",
       "    <tr>\n",
       "      <th>4</th>\n",
       "      <td>7.538472</td>\n",
       "      <td>-1.650967</td>\n",
       "      <td>-1.311853</td>\n",
       "      <td>0.00125</td>\n",
       "      <td>0.001264</td>\n",
       "      <td>3.499881</td>\n",
       "      <td>-0.001238</td>\n",
       "      <td>3.499485</td>\n",
       "      <td>-211</td>\n",
       "      <td>1</td>\n",
       "      <td>1</td>\n",
       "      <td>7</td>\n",
       "      <td>0</td>\n",
       "      <td>-1</td>\n",
       "      <td>1</td>\n",
       "      <td>0</td>\n",
       "      <td>0</td>\n",
       "      <td>7.589015</td>\n",
       "      <td>-1.650129</td>\n",
       "      <td>-1.310603</td>\n",
       "      <td>3.457031</td>\n",
       "      <td>-999.0</td>\n",
       "      <td>18.657181</td>\n",
       "      <td>0.499871</td>\n",
       "      <td>6</td>\n",
       "      <td>11</td>\n",
       "      <td>1111</td>\n",
       "      <td>0</td>\n",
       "      <td>1</td>\n",
       "      <td>0</td>\n",
       "      <td>0</td>\n",
       "      <td>7.589015</td>\n",
       "      <td>-1.650129</td>\n",
       "      <td>-1.310603</td>\n",
       "      <td>3.457031</td>\n",
       "      <td>-999.0</td>\n",
       "      <td>18.657181</td>\n",
       "      <td>0.499871</td>\n",
       "      <td>6</td>\n",
       "      <td>0</td>\n",
       "      <td>1</td>\n",
       "      <td>0</td>\n",
       "      <td>0</td>\n",
       "    </tr>\n",
       "  </tbody>\n",
       "</table>\n",
       "</div>"
      ],
      "text/plain": [
       "                     tp_pt    tp_eta    tp_phi   tp_dxy     tp_d0     tp_z0  \\\n",
       "entry subentry                                                                \n",
       "0     0         100.300301 -0.898876  0.061430  0.00125  0.000543  3.500762   \n",
       "      1           2.052715 -1.650001 -2.781972  0.00125  0.000306  3.496469   \n",
       "      2           6.453084 -0.604645 -2.807965  0.00125  0.000281  3.498704   \n",
       "      3           8.502528 -0.446424 -1.675735  0.00125  0.001191  3.499362   \n",
       "      4           7.538472 -1.650967 -1.311853  0.00125  0.001264  3.499881   \n",
       "\n",
       "                tp_d0_prod  tp_z0_prod  tp_pdgid  tp_nmatch  tp_nloosematch  \\\n",
       "entry subentry                                                                \n",
       "0     0          -0.000073    3.499485        13          1               1   \n",
       "      1          -0.000297    3.499485       211          1               1   \n",
       "      2          -0.000265    3.499485      2212          1               1   \n",
       "      3          -0.001218    3.499485      -321          1               1   \n",
       "      4          -0.001238    3.499485      -211          1               1   \n",
       "\n",
       "                tp_nstub  tp_eventid  tp_charge  tp_injet  tp_injet_highpt  \\\n",
       "entry subentry                                                               \n",
       "0     0                8           0         -1         1                1   \n",
       "      1                9           0          1         0                0   \n",
       "      2                8           0          1         0                0   \n",
       "      3                5           0         -1         1                0   \n",
       "      4                7           0         -1         1                0   \n",
       "\n",
       "                tp_injet_vhighpt  matchtrk_pt  matchtrk_eta  matchtrk_phi  \\\n",
       "entry subentry                                                              \n",
       "0     0                        0   102.943588     -0.900577      0.061580   \n",
       "      1                        0     2.034012     -1.651574     -2.782407   \n",
       "      2                        0     6.475194     -0.604991     -2.808045   \n",
       "      3                        0     8.506432     -0.449548     -1.675164   \n",
       "      4                        0     7.589015     -1.650129     -1.310603   \n",
       "\n",
       "                matchtrk_z0  matchtrk_d0  matchtrk_chi2  matchtrk_bendchi2  \\\n",
       "entry subentry                                                               \n",
       "0     0            3.574219       -999.0       7.661629           0.025519   \n",
       "      1            3.750000       -999.0       8.667765           1.376251   \n",
       "      2            3.574219       -999.0       4.947954           1.358919   \n",
       "      3            3.574219       -999.0       3.709781           0.449784   \n",
       "      4            3.457031       -999.0      18.657181           0.499871   \n",
       "\n",
       "                matchtrk_nstub  matchtrk_lhits  matchtrk_dhits  matchtrk_seed  \\\n",
       "entry subentry                                                                  \n",
       "0     0                      6          111111               0              0   \n",
       "      1                      6              11            1111              0   \n",
       "      2                      6          111111               0              0   \n",
       "      3                      5          111011               0              0   \n",
       "      4                      6              11            1111              0   \n",
       "\n",
       "                matchtrk_injet  matchtrk_injet_highpt  matchtrk_injet_vhighpt  \\\n",
       "entry subentry                                                                  \n",
       "0     0                      1                      1                       0   \n",
       "      1                      0                      0                       0   \n",
       "      2                      0                      0                       0   \n",
       "      3                      1                      0                       0   \n",
       "      4                      1                      0                       0   \n",
       "\n",
       "                loosematchtrk_pt  loosematchtrk_eta  loosematchtrk_phi  \\\n",
       "entry subentry                                                           \n",
       "0     0               102.943588          -0.900577           0.061580   \n",
       "      1                 2.034012          -1.651574          -2.782407   \n",
       "      2                 6.475194          -0.604991          -2.808045   \n",
       "      3                 8.506432          -0.449548          -1.675164   \n",
       "      4                 7.589015          -1.650129          -1.310603   \n",
       "\n",
       "                loosematchtrk_z0  loosematchtrk_d0  loosematchtrk_chi2  \\\n",
       "entry subentry                                                           \n",
       "0     0                 3.574219            -999.0            7.661629   \n",
       "      1                 3.750000            -999.0            8.667765   \n",
       "      2                 3.574219            -999.0            4.947954   \n",
       "      3                 3.574219            -999.0            3.709781   \n",
       "      4                 3.457031            -999.0           18.657181   \n",
       "\n",
       "                loosematchtrk_bendchi2  loosematchtrk_nstub  \\\n",
       "entry subentry                                                \n",
       "0     0                       0.025519                    6   \n",
       "      1                       1.376251                    6   \n",
       "      2                       1.358919                    6   \n",
       "      3                       0.449784                    5   \n",
       "      4                       0.499871                    6   \n",
       "\n",
       "                loosematchtrk_seed  loosematchtrk_injet  \\\n",
       "entry subentry                                            \n",
       "0     0                          0                    1   \n",
       "      1                          0                    0   \n",
       "      2                          0                    0   \n",
       "      3                          0                    1   \n",
       "      4                          0                    1   \n",
       "\n",
       "                loosematchtrk_injet_highpt  loosematchtrk_injet_vhighpt  \n",
       "entry subentry                                                           \n",
       "0     0                                  1                            0  \n",
       "      1                                  0                            0  \n",
       "      2                                  0                            0  \n",
       "      3                                  0                            0  \n",
       "      4                                  0                            0  "
      ]
     },
     "execution_count": 18,
     "metadata": {},
     "output_type": "execute_result"
    }
   ],
   "source": [
    "tp.head()"
   ]
  },
  {
   "cell_type": "markdown",
   "metadata": {},
   "source": [
    "uproot read this data into a multi-indexed pandas dataframe. The main index 'entry' represents the event number and then second level index. 'subentry' is the entry for each track in the event. This is better than uproot3 that reads each event with a list of tp parameters that are difficult to access."
   ]
  },
  {
   "cell_type": "markdown",
   "metadata": {},
   "source": [
    "**We are gonna switch to using the reconstructed tracks now**"
   ]
  },
  {
   "cell_type": "markdown",
   "metadata": {},
   "source": [
    "Lets play around trying to understand these trk parameters better"
   ]
  },
  {
   "cell_type": "code",
   "execution_count": 19,
   "metadata": {},
   "outputs": [
    {
     "data": {
      "text/plain": [
       "3.4658437"
      ]
     },
     "execution_count": 19,
     "metadata": {},
     "output_type": "execute_result"
    }
   ],
   "source": [
    "tp.groupby([\"entry\"])[\"tp_pt\"].mean()[1]"
   ]
  },
  {
   "cell_type": "code",
   "execution_count": 15,
   "metadata": {},
   "outputs": [
    {
     "data": {
      "text/plain": [
       "3.4372349"
      ]
     },
     "execution_count": 15,
     "metadata": {},
     "output_type": "execute_result"
    }
   ],
   "source": [
    "trk.groupby([\"entry\"])[\"trk_pt\"].mean()[1]"
   ]
  },
  {
   "cell_type": "code",
   "execution_count": 18,
   "metadata": {},
   "outputs": [
    {
     "data": {
      "text/plain": [
       "entry\n",
       "0        229\n",
       "1        166\n",
       "2        180\n",
       "3        145\n",
       "4        156\n",
       "        ... \n",
       "24943    184\n",
       "24944    193\n",
       "24945    201\n",
       "24946    194\n",
       "24947    136\n",
       "Name: tp_pt, Length: 24948, dtype: int64"
      ]
     },
     "execution_count": 18,
     "metadata": {},
     "output_type": "execute_result"
    }
   ],
   "source": [
    "tp.groupby(level=0)[\"tp_pt\"].count()"
   ]
  },
  {
   "cell_type": "code",
   "execution_count": 19,
   "metadata": {},
   "outputs": [
    {
     "data": {
      "text/plain": [
       "entry\n",
       "0        239\n",
       "1        173\n",
       "2        175\n",
       "3        153\n",
       "4        166\n",
       "        ... \n",
       "24943    191\n",
       "24944    192\n",
       "24945    225\n",
       "24946    209\n",
       "24947    139\n",
       "Name: trk_pt, Length: 24948, dtype: int64"
      ]
     },
     "execution_count": 19,
     "metadata": {},
     "output_type": "execute_result"
    }
   ],
   "source": [
    "trk.groupby(level=0)[\"trk_pt\"].count()"
   ]
  },
  {
   "cell_type": "code",
   "execution_count": 20,
   "metadata": {},
   "outputs": [],
   "source": [
    "diff = np.abs(\n",
    "    trk.groupby(level=0)[\"trk_pt\"].count() - tp.groupby(level=0)[\"tp_pt\"].count()\n",
    ")"
   ]
  },
  {
   "cell_type": "code",
   "execution_count": 22,
   "metadata": {},
   "outputs": [
    {
     "data": {
      "text/plain": [
       "<AxesSubplot:>"
      ]
     },
     "execution_count": 22,
     "metadata": {},
     "output_type": "execute_result"
    },
    {
     "data": {
      "image/png": "[encoded data removed]",
      "text/plain": [
       "<Figure size 720x720 with 1 Axes>"
      ]
     },
     "metadata": {
      "needs_background": "light"
     },
     "output_type": "display_data"
    }
   ],
   "source": [
    "diff.hist(histtype=\"step\")"
   ]
  },
  {
   "cell_type": "code",
   "execution_count": 16,
   "metadata": {},
   "outputs": [
    {
     "data": {
      "text/html": [
       "<div>\n",
       "<style scoped>\n",
       "    .dataframe tbody tr th:only-of-type {\n",
       "        vertical-align: middle;\n",
       "    }\n",
       "\n",
       "    .dataframe tbody tr th {\n",
       "        vertical-align: top;\n",
       "    }\n",
       "\n",
       "    .dataframe thead th {\n",
       "        text-align: right;\n",
       "    }\n",
       "</style>\n",
       "<table border=\"1\" class=\"dataframe\">\n",
       "  <thead>\n",
       "    <tr style=\"text-align: right;\">\n",
       "      <th></th>\n",
       "      <th></th>\n",
       "      <th>trk_pt</th>\n",
       "      <th>trk_eta</th>\n",
       "      <th>trk_phi</th>\n",
       "      <th>trk_d0</th>\n",
       "      <th>trk_z0</th>\n",
       "      <th>trk_chi2</th>\n",
       "      <th>trk_bendchi2</th>\n",
       "      <th>trk_nstub</th>\n",
       "      <th>trk_lhits</th>\n",
       "      <th>trk_dhits</th>\n",
       "      <th>trk_seed</th>\n",
       "      <th>trk_genuine</th>\n",
       "      <th>trk_loose</th>\n",
       "      <th>trk_unknown</th>\n",
       "      <th>trk_combinatoric</th>\n",
       "      <th>trk_fake</th>\n",
       "      <th>trk_matchtp_pdgid</th>\n",
       "      <th>trk_matchtp_pt</th>\n",
       "      <th>trk_matchtp_eta</th>\n",
       "      <th>trk_matchtp_phi</th>\n",
       "      <th>trk_matchtp_z0</th>\n",
       "      <th>trk_matchtp_dxy</th>\n",
       "      <th>trk_injet</th>\n",
       "      <th>trk_injet_highpt</th>\n",
       "      <th>trk_injet_vhighpt</th>\n",
       "    </tr>\n",
       "    <tr>\n",
       "      <th>entry</th>\n",
       "      <th>subentry</th>\n",
       "      <th></th>\n",
       "      <th></th>\n",
       "      <th></th>\n",
       "      <th></th>\n",
       "      <th></th>\n",
       "      <th></th>\n",
       "      <th></th>\n",
       "      <th></th>\n",
       "      <th></th>\n",
       "      <th></th>\n",
       "      <th></th>\n",
       "      <th></th>\n",
       "      <th></th>\n",
       "      <th></th>\n",
       "      <th></th>\n",
       "      <th></th>\n",
       "      <th></th>\n",
       "      <th></th>\n",
       "      <th></th>\n",
       "      <th></th>\n",
       "      <th></th>\n",
       "      <th></th>\n",
       "      <th></th>\n",
       "      <th></th>\n",
       "      <th></th>\n",
       "    </tr>\n",
       "  </thead>\n",
       "  <tbody>\n",
       "    <tr>\n",
       "      <th rowspan=\"5\" valign=\"top\">0</th>\n",
       "      <th>0</th>\n",
       "      <td>3.294195</td>\n",
       "      <td>0.672711</td>\n",
       "      <td>-0.235986</td>\n",
       "      <td>999.0</td>\n",
       "      <td>-7.207031</td>\n",
       "      <td>3.886195</td>\n",
       "      <td>0.565463</td>\n",
       "      <td>6</td>\n",
       "      <td>111111</td>\n",
       "      <td>0</td>\n",
       "      <td>0</td>\n",
       "      <td>1</td>\n",
       "      <td>1</td>\n",
       "      <td>0</td>\n",
       "      <td>0</td>\n",
       "      <td>2</td>\n",
       "      <td>211</td>\n",
       "      <td>3.307104</td>\n",
       "      <td>0.678369</td>\n",
       "      <td>-0.236771</td>\n",
       "      <td>-7.436831</td>\n",
       "      <td>0.001133</td>\n",
       "      <td>0</td>\n",
       "      <td>0</td>\n",
       "      <td>0</td>\n",
       "    </tr>\n",
       "    <tr>\n",
       "      <th>1</th>\n",
       "      <td>3.299082</td>\n",
       "      <td>0.070255</td>\n",
       "      <td>-0.303737</td>\n",
       "      <td>999.0</td>\n",
       "      <td>5.800781</td>\n",
       "      <td>3.457583</td>\n",
       "      <td>1.158106</td>\n",
       "      <td>6</td>\n",
       "      <td>111111</td>\n",
       "      <td>0</td>\n",
       "      <td>0</td>\n",
       "      <td>1</td>\n",
       "      <td>1</td>\n",
       "      <td>0</td>\n",
       "      <td>0</td>\n",
       "      <td>2</td>\n",
       "      <td>-211</td>\n",
       "      <td>3.333383</td>\n",
       "      <td>0.069476</td>\n",
       "      <td>-0.302832</td>\n",
       "      <td>5.946478</td>\n",
       "      <td>0.000195</td>\n",
       "      <td>0</td>\n",
       "      <td>0</td>\n",
       "      <td>0</td>\n",
       "    </tr>\n",
       "    <tr>\n",
       "      <th>2</th>\n",
       "      <td>4.282707</td>\n",
       "      <td>1.931356</td>\n",
       "      <td>-0.272299</td>\n",
       "      <td>999.0</td>\n",
       "      <td>-7.558594</td>\n",
       "      <td>2.652499</td>\n",
       "      <td>1.138293</td>\n",
       "      <td>6</td>\n",
       "      <td>11</td>\n",
       "      <td>1111</td>\n",
       "      <td>0</td>\n",
       "      <td>1</td>\n",
       "      <td>1</td>\n",
       "      <td>0</td>\n",
       "      <td>0</td>\n",
       "      <td>2</td>\n",
       "      <td>-211</td>\n",
       "      <td>4.196679</td>\n",
       "      <td>1.933154</td>\n",
       "      <td>-0.270587</td>\n",
       "      <td>-7.436831</td>\n",
       "      <td>0.001133</td>\n",
       "      <td>0</td>\n",
       "      <td>0</td>\n",
       "      <td>0</td>\n",
       "    </tr>\n",
       "    <tr>\n",
       "      <th>3</th>\n",
       "      <td>2.730331</td>\n",
       "      <td>-1.494013</td>\n",
       "      <td>-0.168791</td>\n",
       "      <td>999.0</td>\n",
       "      <td>0.000000</td>\n",
       "      <td>3.931520</td>\n",
       "      <td>0.562027</td>\n",
       "      <td>5</td>\n",
       "      <td>111</td>\n",
       "      <td>110</td>\n",
       "      <td>0</td>\n",
       "      <td>1</td>\n",
       "      <td>1</td>\n",
       "      <td>0</td>\n",
       "      <td>0</td>\n",
       "      <td>2</td>\n",
       "      <td>211</td>\n",
       "      <td>2.740556</td>\n",
       "      <td>-1.497854</td>\n",
       "      <td>-0.169511</td>\n",
       "      <td>0.002524</td>\n",
       "      <td>0.000285</td>\n",
       "      <td>0</td>\n",
       "      <td>0</td>\n",
       "      <td>0</td>\n",
       "    </tr>\n",
       "    <tr>\n",
       "      <th>4</th>\n",
       "      <td>2.346045</td>\n",
       "      <td>1.780082</td>\n",
       "      <td>0.038812</td>\n",
       "      <td>999.0</td>\n",
       "      <td>0.117188</td>\n",
       "      <td>25.375839</td>\n",
       "      <td>0.787909</td>\n",
       "      <td>6</td>\n",
       "      <td>11</td>\n",
       "      <td>10111</td>\n",
       "      <td>0</td>\n",
       "      <td>1</td>\n",
       "      <td>1</td>\n",
       "      <td>0</td>\n",
       "      <td>0</td>\n",
       "      <td>2</td>\n",
       "      <td>2212</td>\n",
       "      <td>2.332434</td>\n",
       "      <td>1.780198</td>\n",
       "      <td>0.041637</td>\n",
       "      <td>0.094147</td>\n",
       "      <td>0.001353</td>\n",
       "      <td>0</td>\n",
       "      <td>0</td>\n",
       "      <td>0</td>\n",
       "    </tr>\n",
       "    <tr>\n",
       "      <th>...</th>\n",
       "      <th>...</th>\n",
       "      <td>...</td>\n",
       "      <td>...</td>\n",
       "      <td>...</td>\n",
       "      <td>...</td>\n",
       "      <td>...</td>\n",
       "      <td>...</td>\n",
       "      <td>...</td>\n",
       "      <td>...</td>\n",
       "      <td>...</td>\n",
       "      <td>...</td>\n",
       "      <td>...</td>\n",
       "      <td>...</td>\n",
       "      <td>...</td>\n",
       "      <td>...</td>\n",
       "      <td>...</td>\n",
       "      <td>...</td>\n",
       "      <td>...</td>\n",
       "      <td>...</td>\n",
       "      <td>...</td>\n",
       "      <td>...</td>\n",
       "      <td>...</td>\n",
       "      <td>...</td>\n",
       "      <td>...</td>\n",
       "      <td>...</td>\n",
       "      <td>...</td>\n",
       "    </tr>\n",
       "    <tr>\n",
       "      <th rowspan=\"5\" valign=\"top\">24947</th>\n",
       "      <th>134</th>\n",
       "      <td>2.178273</td>\n",
       "      <td>-1.970004</td>\n",
       "      <td>-1.128330</td>\n",
       "      <td>999.0</td>\n",
       "      <td>4.160156</td>\n",
       "      <td>6.256404</td>\n",
       "      <td>1.619150</td>\n",
       "      <td>6</td>\n",
       "      <td>11</td>\n",
       "      <td>1111</td>\n",
       "      <td>0</td>\n",
       "      <td>1</td>\n",
       "      <td>1</td>\n",
       "      <td>0</td>\n",
       "      <td>0</td>\n",
       "      <td>2</td>\n",
       "      <td>-211</td>\n",
       "      <td>2.198662</td>\n",
       "      <td>-1.968237</td>\n",
       "      <td>-1.126952</td>\n",
       "      <td>4.718006</td>\n",
       "      <td>0.000750</td>\n",
       "      <td>0</td>\n",
       "      <td>0</td>\n",
       "      <td>0</td>\n",
       "    </tr>\n",
       "    <tr>\n",
       "      <th>135</th>\n",
       "      <td>2.364003</td>\n",
       "      <td>0.895117</td>\n",
       "      <td>-0.621172</td>\n",
       "      <td>999.0</td>\n",
       "      <td>8.554688</td>\n",
       "      <td>2.396245</td>\n",
       "      <td>2.362869</td>\n",
       "      <td>5</td>\n",
       "      <td>11111</td>\n",
       "      <td>0</td>\n",
       "      <td>0</td>\n",
       "      <td>1</td>\n",
       "      <td>1</td>\n",
       "      <td>0</td>\n",
       "      <td>0</td>\n",
       "      <td>2</td>\n",
       "      <td>211</td>\n",
       "      <td>2.396504</td>\n",
       "      <td>0.890380</td>\n",
       "      <td>-0.620746</td>\n",
       "      <td>8.725403</td>\n",
       "      <td>0.001624</td>\n",
       "      <td>0</td>\n",
       "      <td>0</td>\n",
       "      <td>0</td>\n",
       "    </tr>\n",
       "    <tr>\n",
       "      <th>136</th>\n",
       "      <td>2.195913</td>\n",
       "      <td>-1.472945</td>\n",
       "      <td>-0.762705</td>\n",
       "      <td>999.0</td>\n",
       "      <td>8.261719</td>\n",
       "      <td>3.615788</td>\n",
       "      <td>0.278036</td>\n",
       "      <td>6</td>\n",
       "      <td>111</td>\n",
       "      <td>111</td>\n",
       "      <td>0</td>\n",
       "      <td>1</td>\n",
       "      <td>1</td>\n",
       "      <td>0</td>\n",
       "      <td>0</td>\n",
       "      <td>2</td>\n",
       "      <td>-321</td>\n",
       "      <td>2.205768</td>\n",
       "      <td>-1.469311</td>\n",
       "      <td>-0.762871</td>\n",
       "      <td>7.902583</td>\n",
       "      <td>0.003592</td>\n",
       "      <td>0</td>\n",
       "      <td>0</td>\n",
       "      <td>0</td>\n",
       "    </tr>\n",
       "    <tr>\n",
       "      <th>137</th>\n",
       "      <td>2.516502</td>\n",
       "      <td>-1.896394</td>\n",
       "      <td>-0.741756</td>\n",
       "      <td>999.0</td>\n",
       "      <td>5.917969</td>\n",
       "      <td>20.023378</td>\n",
       "      <td>0.897107</td>\n",
       "      <td>6</td>\n",
       "      <td>11</td>\n",
       "      <td>1111</td>\n",
       "      <td>0</td>\n",
       "      <td>1</td>\n",
       "      <td>1</td>\n",
       "      <td>0</td>\n",
       "      <td>0</td>\n",
       "      <td>2</td>\n",
       "      <td>-211</td>\n",
       "      <td>2.740320</td>\n",
       "      <td>-1.867672</td>\n",
       "      <td>-0.741082</td>\n",
       "      <td>4.255000</td>\n",
       "      <td>0.002025</td>\n",
       "      <td>0</td>\n",
       "      <td>0</td>\n",
       "      <td>0</td>\n",
       "    </tr>\n",
       "    <tr>\n",
       "      <th>138</th>\n",
       "      <td>2.317679</td>\n",
       "      <td>-0.433555</td>\n",
       "      <td>-0.270725</td>\n",
       "      <td>999.0</td>\n",
       "      <td>4.160156</td>\n",
       "      <td>8.480442</td>\n",
       "      <td>1.150294</td>\n",
       "      <td>6</td>\n",
       "      <td>111111</td>\n",
       "      <td>0</td>\n",
       "      <td>0</td>\n",
       "      <td>1</td>\n",
       "      <td>1</td>\n",
       "      <td>0</td>\n",
       "      <td>0</td>\n",
       "      <td>2</td>\n",
       "      <td>211</td>\n",
       "      <td>2.319110</td>\n",
       "      <td>-0.436025</td>\n",
       "      <td>-0.270723</td>\n",
       "      <td>4.255000</td>\n",
       "      <td>0.002025</td>\n",
       "      <td>0</td>\n",
       "      <td>0</td>\n",
       "      <td>0</td>\n",
       "    </tr>\n",
       "  </tbody>\n",
       "</table>\n",
       "<p>4594796 rows × 25 columns</p>\n",
       "</div>"
      ],
      "text/plain": [
       "                  trk_pt   trk_eta   trk_phi  trk_d0    trk_z0   trk_chi2  \\\n",
       "entry subentry                                                              \n",
       "0     0         3.294195  0.672711 -0.235986   999.0 -7.207031   3.886195   \n",
       "      1         3.299082  0.070255 -0.303737   999.0  5.800781   3.457583   \n",
       "      2         4.282707  1.931356 -0.272299   999.0 -7.558594   2.652499   \n",
       "      3         2.730331 -1.494013 -0.168791   999.0  0.000000   3.931520   \n",
       "      4         2.346045  1.780082  0.038812   999.0  0.117188  25.375839   \n",
       "...                  ...       ...       ...     ...       ...        ...   \n",
       "24947 134       2.178273 -1.970004 -1.128330   999.0  4.160156   6.256404   \n",
       "      135       2.364003  0.895117 -0.621172   999.0  8.554688   2.396245   \n",
       "      136       2.195913 -1.472945 -0.762705   999.0  8.261719   3.615788   \n",
       "      137       2.516502 -1.896394 -0.741756   999.0  5.917969  20.023378   \n",
       "      138       2.317679 -0.433555 -0.270725   999.0  4.160156   8.480442   \n",
       "\n",
       "                trk_bendchi2  trk_nstub  trk_lhits  trk_dhits  trk_seed  \\\n",
       "entry subentry                                                            \n",
       "0     0             0.565463          6     111111          0         0   \n",
       "      1             1.158106          6     111111          0         0   \n",
       "      2             1.138293          6         11       1111         0   \n",
       "      3             0.562027          5        111        110         0   \n",
       "      4             0.787909          6         11      10111         0   \n",
       "...                      ...        ...        ...        ...       ...   \n",
       "24947 134           1.619150          6         11       1111         0   \n",
       "      135           2.362869          5      11111          0         0   \n",
       "      136           0.278036          6        111        111         0   \n",
       "      137           0.897107          6         11       1111         0   \n",
       "      138           1.150294          6     111111          0         0   \n",
       "\n",
       "                trk_genuine  trk_loose  trk_unknown  trk_combinatoric  \\\n",
       "entry subentry                                                          \n",
       "0     0                   1          1            0                 0   \n",
       "      1                   1          1            0                 0   \n",
       "      2                   1          1            0                 0   \n",
       "      3                   1          1            0                 0   \n",
       "      4                   1          1            0                 0   \n",
       "...                     ...        ...          ...               ...   \n",
       "24947 134                 1          1            0                 0   \n",
       "      135                 1          1            0                 0   \n",
       "      136                 1          1            0                 0   \n",
       "      137                 1          1            0                 0   \n",
       "      138                 1          1            0                 0   \n",
       "\n",
       "                trk_fake  trk_matchtp_pdgid  trk_matchtp_pt  trk_matchtp_eta  \\\n",
       "entry subentry                                                                 \n",
       "0     0                2                211        3.307104         0.678369   \n",
       "      1                2               -211        3.333383         0.069476   \n",
       "      2                2               -211        4.196679         1.933154   \n",
       "      3                2                211        2.740556        -1.497854   \n",
       "      4                2               2212        2.332434         1.780198   \n",
       "...                  ...                ...             ...              ...   \n",
       "24947 134              2               -211        2.198662        -1.968237   \n",
       "      135              2                211        2.396504         0.890380   \n",
       "      136              2               -321        2.205768        -1.469311   \n",
       "      137              2               -211        2.740320        -1.867672   \n",
       "      138              2                211        2.319110        -0.436025   \n",
       "\n",
       "                trk_matchtp_phi  trk_matchtp_z0  trk_matchtp_dxy  trk_injet  \\\n",
       "entry subentry                                                                \n",
       "0     0               -0.236771       -7.436831         0.001133          0   \n",
       "      1               -0.302832        5.946478         0.000195          0   \n",
       "      2               -0.270587       -7.436831         0.001133          0   \n",
       "      3               -0.169511        0.002524         0.000285          0   \n",
       "      4                0.041637        0.094147         0.001353          0   \n",
       "...                         ...             ...              ...        ...   \n",
       "24947 134             -1.126952        4.718006         0.000750          0   \n",
       "      135             -0.620746        8.725403         0.001624          0   \n",
       "      136             -0.762871        7.902583         0.003592          0   \n",
       "      137             -0.741082        4.255000         0.002025          0   \n",
       "      138             -0.270723        4.255000         0.002025          0   \n",
       "\n",
       "                trk_injet_highpt  trk_injet_vhighpt  \n",
       "entry subentry                                       \n",
       "0     0                        0                  0  \n",
       "      1                        0                  0  \n",
       "      2                        0                  0  \n",
       "      3                        0                  0  \n",
       "      4                        0                  0  \n",
       "...                          ...                ...  \n",
       "24947 134                      0                  0  \n",
       "      135                      0                  0  \n",
       "      136                      0                  0  \n",
       "      137                      0                  0  \n",
       "      138                      0                  0  \n",
       "\n",
       "[4594796 rows x 25 columns]"
      ]
     },
     "execution_count": 16,
     "metadata": {},
     "output_type": "execute_result"
    }
   ],
   "source": [
    "trk"
   ]
  },
  {
   "cell_type": "markdown",
   "metadata": {},
   "source": [
    "Let's see what the first event looks like"
   ]
  },
  {
   "cell_type": "code",
   "execution_count": 72,
   "metadata": {},
   "outputs": [],
   "source": [
    "event1 = trk.loc[0, :]\n",
    "event1_tp = tp.loc[0, :]"
   ]
  },
  {
   "cell_type": "code",
   "execution_count": 24,
   "metadata": {},
   "outputs": [],
   "source": [
    "import matplotlib"
   ]
  },
  {
   "cell_type": "code",
   "execution_count": 25,
   "metadata": {},
   "outputs": [],
   "source": [
    "import random"
   ]
  },
  {
   "cell_type": "code",
   "execution_count": 26,
   "metadata": {},
   "outputs": [
    {
     "data": {
      "text/plain": [
       "0.029900641596372735"
      ]
     },
     "execution_count": 26,
     "metadata": {},
     "output_type": "execute_result"
    }
   ],
   "source": [
    "random.random()"
   ]
  },
  {
   "cell_type": "code",
   "execution_count": 74,
   "metadata": {},
   "outputs": [],
   "source": [
    "n = len(event1)\n",
    "n_tp = len(event1_tp)"
   ]
  },
  {
   "cell_type": "code",
   "execution_count": 79,
   "metadata": {},
   "outputs": [
    {
     "data": {
      "text/plain": [
       "<matplotlib.legend.Legend at 0x7f9e01ee9df0>"
      ]
     },
     "execution_count": 79,
     "metadata": {},
     "output_type": "execute_result"
    },
    {
     "data": {
      "image/png": "[encoded data removed]",
      "text/plain": [
       "<Figure size 1728x288 with 1 Axes>"
      ]
     },
     "metadata": {
      "needs_background": "light"
     },
     "output_type": "display_data"
    }
   ],
   "source": [
    "fig, ax = plt.subplots(figsize=(24, 4))\n",
    "\n",
    "\n",
    "plt.scatter(event1.trk_z0, n * [1], color=\"red\", label=\"track\")\n",
    "plt.scatter(event1_tp.tp_z0, n_tp * [0.975], color=\"green\", label=\"truth\")\n",
    "plt.ylim(0.950, 1.050)\n",
    "plt.legend()"
   ]
  },
  {
   "cell_type": "markdown",
   "metadata": {},
   "source": [
    "Thinks look fine, I can't colour code and scale the size of these because i don't have the id of the cluster that they belong to like in the truth parameters"
   ]
  },
  {
   "cell_type": "markdown",
   "metadata": {},
   "source": [
    "**ASSUMPTION! - The truth parameters (tp) and track reco parameters (trk) are reconstructed in the same index!**"
   ]
  },
  {
   "cell_type": "markdown",
   "metadata": {},
   "source": [
    "# True Primary Vertex $z_{0}$"
   ]
  },
  {
   "cell_type": "markdown",
   "metadata": {},
   "source": [
    "Before we can actually quantify anything about the different algorithms we use, we need to first find out what the \"truth\" z0 of the primary vertex actually is. To do this we will use the following procedure.\n",
    "- For each event, find all the truth tracks that belong to the primary vertex by using the `tp_eventid == 0` mask\n",
    "- Remove any instance of a secondary vertex by setting that $|d_0| < 0.01$ cm (Unclear as to why this is needed given the mask above)\n",
    "- Take the mean of all the remaining tracks in the event and this corresponds to the \"truth\" or true primary vertex $z_0$."
   ]
  },
  {
   "cell_type": "code",
   "execution_count": 34,
   "metadata": {},
   "outputs": [],
   "source": [
    "mask_pv_me = tp[\"tp_eventid\"] == 0"
   ]
  },
  {
   "cell_type": "code",
   "execution_count": 35,
   "metadata": {},
   "outputs": [],
   "source": [
    "mask_no_sv_me = (tp[\"tp_d0\"].abs()) < 0.01"
   ]
  },
  {
   "cell_type": "code",
   "execution_count": 36,
   "metadata": {},
   "outputs": [
    {
     "data": {
      "text/html": [
       "<div>\n",
       "<style scoped>\n",
       "    .dataframe tbody tr th:only-of-type {\n",
       "        vertical-align: middle;\n",
       "    }\n",
       "\n",
       "    .dataframe tbody tr th {\n",
       "        vertical-align: top;\n",
       "    }\n",
       "\n",
       "    .dataframe thead th {\n",
       "        text-align: right;\n",
       "    }\n",
       "</style>\n",
       "<table border=\"1\" class=\"dataframe\">\n",
       "  <thead>\n",
       "    <tr style=\"text-align: right;\">\n",
       "      <th></th>\n",
       "      <th></th>\n",
       "      <th>tp_pt</th>\n",
       "      <th>tp_eta</th>\n",
       "      <th>tp_phi</th>\n",
       "      <th>tp_dxy</th>\n",
       "      <th>tp_d0</th>\n",
       "      <th>tp_z0</th>\n",
       "      <th>tp_d0_prod</th>\n",
       "      <th>tp_z0_prod</th>\n",
       "      <th>tp_pdgid</th>\n",
       "      <th>tp_nmatch</th>\n",
       "      <th>tp_nloosematch</th>\n",
       "      <th>tp_nstub</th>\n",
       "      <th>tp_eventid</th>\n",
       "      <th>tp_charge</th>\n",
       "      <th>tp_injet</th>\n",
       "      <th>tp_injet_highpt</th>\n",
       "      <th>tp_injet_vhighpt</th>\n",
       "      <th>matchtrk_pt</th>\n",
       "      <th>matchtrk_eta</th>\n",
       "      <th>matchtrk_phi</th>\n",
       "      <th>matchtrk_z0</th>\n",
       "      <th>matchtrk_d0</th>\n",
       "      <th>matchtrk_chi2</th>\n",
       "      <th>matchtrk_bendchi2</th>\n",
       "      <th>matchtrk_nstub</th>\n",
       "      <th>matchtrk_lhits</th>\n",
       "      <th>matchtrk_dhits</th>\n",
       "      <th>matchtrk_seed</th>\n",
       "      <th>matchtrk_injet</th>\n",
       "      <th>matchtrk_injet_highpt</th>\n",
       "      <th>matchtrk_injet_vhighpt</th>\n",
       "      <th>loosematchtrk_pt</th>\n",
       "      <th>loosematchtrk_eta</th>\n",
       "      <th>loosematchtrk_phi</th>\n",
       "      <th>loosematchtrk_z0</th>\n",
       "      <th>loosematchtrk_d0</th>\n",
       "      <th>loosematchtrk_chi2</th>\n",
       "      <th>loosematchtrk_bendchi2</th>\n",
       "      <th>loosematchtrk_nstub</th>\n",
       "      <th>loosematchtrk_seed</th>\n",
       "      <th>loosematchtrk_injet</th>\n",
       "      <th>loosematchtrk_injet_highpt</th>\n",
       "      <th>loosematchtrk_injet_vhighpt</th>\n",
       "    </tr>\n",
       "    <tr>\n",
       "      <th>entry</th>\n",
       "      <th>subentry</th>\n",
       "      <th></th>\n",
       "      <th></th>\n",
       "      <th></th>\n",
       "      <th></th>\n",
       "      <th></th>\n",
       "      <th></th>\n",
       "      <th></th>\n",
       "      <th></th>\n",
       "      <th></th>\n",
       "      <th></th>\n",
       "      <th></th>\n",
       "      <th></th>\n",
       "      <th></th>\n",
       "      <th></th>\n",
       "      <th></th>\n",
       "      <th></th>\n",
       "      <th></th>\n",
       "      <th></th>\n",
       "      <th></th>\n",
       "      <th></th>\n",
       "      <th></th>\n",
       "      <th></th>\n",
       "      <th></th>\n",
       "      <th></th>\n",
       "      <th></th>\n",
       "      <th></th>\n",
       "      <th></th>\n",
       "      <th></th>\n",
       "      <th></th>\n",
       "      <th></th>\n",
       "      <th></th>\n",
       "      <th></th>\n",
       "      <th></th>\n",
       "      <th></th>\n",
       "      <th></th>\n",
       "      <th></th>\n",
       "      <th></th>\n",
       "      <th></th>\n",
       "      <th></th>\n",
       "      <th></th>\n",
       "      <th></th>\n",
       "      <th></th>\n",
       "      <th></th>\n",
       "    </tr>\n",
       "  </thead>\n",
       "  <tbody>\n",
       "    <tr>\n",
       "      <th rowspan=\"5\" valign=\"top\">0</th>\n",
       "      <th>0</th>\n",
       "      <td>100.300301</td>\n",
       "      <td>-0.898876</td>\n",
       "      <td>0.061430</td>\n",
       "      <td>0.001250</td>\n",
       "      <td>0.000543</td>\n",
       "      <td>3.500762</td>\n",
       "      <td>-0.000073</td>\n",
       "      <td>3.499485</td>\n",
       "      <td>13</td>\n",
       "      <td>1</td>\n",
       "      <td>1</td>\n",
       "      <td>8</td>\n",
       "      <td>0</td>\n",
       "      <td>-1</td>\n",
       "      <td>1</td>\n",
       "      <td>1</td>\n",
       "      <td>0</td>\n",
       "      <td>102.943588</td>\n",
       "      <td>-0.900577</td>\n",
       "      <td>0.061580</td>\n",
       "      <td>3.574219</td>\n",
       "      <td>-999.0</td>\n",
       "      <td>7.661629</td>\n",
       "      <td>0.025519</td>\n",
       "      <td>6</td>\n",
       "      <td>111111</td>\n",
       "      <td>0</td>\n",
       "      <td>0</td>\n",
       "      <td>1</td>\n",
       "      <td>1</td>\n",
       "      <td>0</td>\n",
       "      <td>102.943588</td>\n",
       "      <td>-0.900577</td>\n",
       "      <td>0.061580</td>\n",
       "      <td>3.574219</td>\n",
       "      <td>-999.0</td>\n",
       "      <td>7.661629</td>\n",
       "      <td>0.025519</td>\n",
       "      <td>6</td>\n",
       "      <td>0</td>\n",
       "      <td>1</td>\n",
       "      <td>1</td>\n",
       "      <td>0</td>\n",
       "    </tr>\n",
       "    <tr>\n",
       "      <th>1</th>\n",
       "      <td>2.052715</td>\n",
       "      <td>-1.650001</td>\n",
       "      <td>-2.781972</td>\n",
       "      <td>0.001250</td>\n",
       "      <td>0.000306</td>\n",
       "      <td>3.496469</td>\n",
       "      <td>-0.000297</td>\n",
       "      <td>3.499485</td>\n",
       "      <td>211</td>\n",
       "      <td>1</td>\n",
       "      <td>1</td>\n",
       "      <td>9</td>\n",
       "      <td>0</td>\n",
       "      <td>1</td>\n",
       "      <td>0</td>\n",
       "      <td>0</td>\n",
       "      <td>0</td>\n",
       "      <td>2.034012</td>\n",
       "      <td>-1.651574</td>\n",
       "      <td>-2.782407</td>\n",
       "      <td>3.750000</td>\n",
       "      <td>-999.0</td>\n",
       "      <td>8.667765</td>\n",
       "      <td>1.376251</td>\n",
       "      <td>6</td>\n",
       "      <td>11</td>\n",
       "      <td>1111</td>\n",
       "      <td>0</td>\n",
       "      <td>0</td>\n",
       "      <td>0</td>\n",
       "      <td>0</td>\n",
       "      <td>2.034012</td>\n",
       "      <td>-1.651574</td>\n",
       "      <td>-2.782407</td>\n",
       "      <td>3.750000</td>\n",
       "      <td>-999.0</td>\n",
       "      <td>8.667765</td>\n",
       "      <td>1.376251</td>\n",
       "      <td>6</td>\n",
       "      <td>0</td>\n",
       "      <td>0</td>\n",
       "      <td>0</td>\n",
       "      <td>0</td>\n",
       "    </tr>\n",
       "    <tr>\n",
       "      <th>2</th>\n",
       "      <td>6.453084</td>\n",
       "      <td>-0.604645</td>\n",
       "      <td>-2.807965</td>\n",
       "      <td>0.001250</td>\n",
       "      <td>0.000281</td>\n",
       "      <td>3.498704</td>\n",
       "      <td>-0.000265</td>\n",
       "      <td>3.499485</td>\n",
       "      <td>2212</td>\n",
       "      <td>1</td>\n",
       "      <td>1</td>\n",
       "      <td>8</td>\n",
       "      <td>0</td>\n",
       "      <td>1</td>\n",
       "      <td>0</td>\n",
       "      <td>0</td>\n",
       "      <td>0</td>\n",
       "      <td>6.475194</td>\n",
       "      <td>-0.604991</td>\n",
       "      <td>-2.808045</td>\n",
       "      <td>3.574219</td>\n",
       "      <td>-999.0</td>\n",
       "      <td>4.947954</td>\n",
       "      <td>1.358919</td>\n",
       "      <td>6</td>\n",
       "      <td>111111</td>\n",
       "      <td>0</td>\n",
       "      <td>0</td>\n",
       "      <td>0</td>\n",
       "      <td>0</td>\n",
       "      <td>0</td>\n",
       "      <td>6.475194</td>\n",
       "      <td>-0.604991</td>\n",
       "      <td>-2.808045</td>\n",
       "      <td>3.574219</td>\n",
       "      <td>-999.0</td>\n",
       "      <td>4.947954</td>\n",
       "      <td>1.358919</td>\n",
       "      <td>6</td>\n",
       "      <td>0</td>\n",
       "      <td>0</td>\n",
       "      <td>0</td>\n",
       "      <td>0</td>\n",
       "    </tr>\n",
       "    <tr>\n",
       "      <th>3</th>\n",
       "      <td>8.502528</td>\n",
       "      <td>-0.446424</td>\n",
       "      <td>-1.675735</td>\n",
       "      <td>0.001250</td>\n",
       "      <td>0.001191</td>\n",
       "      <td>3.499362</td>\n",
       "      <td>-0.001218</td>\n",
       "      <td>3.499485</td>\n",
       "      <td>-321</td>\n",
       "      <td>1</td>\n",
       "      <td>1</td>\n",
       "      <td>5</td>\n",
       "      <td>0</td>\n",
       "      <td>-1</td>\n",
       "      <td>1</td>\n",
       "      <td>0</td>\n",
       "      <td>0</td>\n",
       "      <td>8.506432</td>\n",
       "      <td>-0.449548</td>\n",
       "      <td>-1.675164</td>\n",
       "      <td>3.574219</td>\n",
       "      <td>-999.0</td>\n",
       "      <td>3.709781</td>\n",
       "      <td>0.449784</td>\n",
       "      <td>5</td>\n",
       "      <td>111011</td>\n",
       "      <td>0</td>\n",
       "      <td>0</td>\n",
       "      <td>1</td>\n",
       "      <td>0</td>\n",
       "      <td>0</td>\n",
       "      <td>8.506432</td>\n",
       "      <td>-0.449548</td>\n",
       "      <td>-1.675164</td>\n",
       "      <td>3.574219</td>\n",
       "      <td>-999.0</td>\n",
       "      <td>3.709781</td>\n",
       "      <td>0.449784</td>\n",
       "      <td>5</td>\n",
       "      <td>0</td>\n",
       "      <td>1</td>\n",
       "      <td>0</td>\n",
       "      <td>0</td>\n",
       "    </tr>\n",
       "    <tr>\n",
       "      <th>4</th>\n",
       "      <td>7.538472</td>\n",
       "      <td>-1.650967</td>\n",
       "      <td>-1.311853</td>\n",
       "      <td>0.001250</td>\n",
       "      <td>0.001264</td>\n",
       "      <td>3.499881</td>\n",
       "      <td>-0.001238</td>\n",
       "      <td>3.499485</td>\n",
       "      <td>-211</td>\n",
       "      <td>1</td>\n",
       "      <td>1</td>\n",
       "      <td>7</td>\n",
       "      <td>0</td>\n",
       "      <td>-1</td>\n",
       "      <td>1</td>\n",
       "      <td>0</td>\n",
       "      <td>0</td>\n",
       "      <td>7.589015</td>\n",
       "      <td>-1.650129</td>\n",
       "      <td>-1.310603</td>\n",
       "      <td>3.457031</td>\n",
       "      <td>-999.0</td>\n",
       "      <td>18.657181</td>\n",
       "      <td>0.499871</td>\n",
       "      <td>6</td>\n",
       "      <td>11</td>\n",
       "      <td>1111</td>\n",
       "      <td>0</td>\n",
       "      <td>1</td>\n",
       "      <td>0</td>\n",
       "      <td>0</td>\n",
       "      <td>7.589015</td>\n",
       "      <td>-1.650129</td>\n",
       "      <td>-1.310603</td>\n",
       "      <td>3.457031</td>\n",
       "      <td>-999.0</td>\n",
       "      <td>18.657181</td>\n",
       "      <td>0.499871</td>\n",
       "      <td>6</td>\n",
       "      <td>0</td>\n",
       "      <td>1</td>\n",
       "      <td>0</td>\n",
       "      <td>0</td>\n",
       "    </tr>\n",
       "    <tr>\n",
       "      <th>...</th>\n",
       "      <th>...</th>\n",
       "      <td>...</td>\n",
       "      <td>...</td>\n",
       "      <td>...</td>\n",
       "      <td>...</td>\n",
       "      <td>...</td>\n",
       "      <td>...</td>\n",
       "      <td>...</td>\n",
       "      <td>...</td>\n",
       "      <td>...</td>\n",
       "      <td>...</td>\n",
       "      <td>...</td>\n",
       "      <td>...</td>\n",
       "      <td>...</td>\n",
       "      <td>...</td>\n",
       "      <td>...</td>\n",
       "      <td>...</td>\n",
       "      <td>...</td>\n",
       "      <td>...</td>\n",
       "      <td>...</td>\n",
       "      <td>...</td>\n",
       "      <td>...</td>\n",
       "      <td>...</td>\n",
       "      <td>...</td>\n",
       "      <td>...</td>\n",
       "      <td>...</td>\n",
       "      <td>...</td>\n",
       "      <td>...</td>\n",
       "      <td>...</td>\n",
       "      <td>...</td>\n",
       "      <td>...</td>\n",
       "      <td>...</td>\n",
       "      <td>...</td>\n",
       "      <td>...</td>\n",
       "      <td>...</td>\n",
       "      <td>...</td>\n",
       "      <td>...</td>\n",
       "      <td>...</td>\n",
       "      <td>...</td>\n",
       "      <td>...</td>\n",
       "      <td>...</td>\n",
       "      <td>...</td>\n",
       "      <td>...</td>\n",
       "      <td>...</td>\n",
       "    </tr>\n",
       "    <tr>\n",
       "      <th rowspan=\"5\" valign=\"top\">24947</th>\n",
       "      <th>6</th>\n",
       "      <td>37.316452</td>\n",
       "      <td>-0.756630</td>\n",
       "      <td>-2.015774</td>\n",
       "      <td>0.184507</td>\n",
       "      <td>0.000236</td>\n",
       "      <td>0.304796</td>\n",
       "      <td>-0.000308</td>\n",
       "      <td>0.150999</td>\n",
       "      <td>-321</td>\n",
       "      <td>1</td>\n",
       "      <td>1</td>\n",
       "      <td>8</td>\n",
       "      <td>0</td>\n",
       "      <td>-1</td>\n",
       "      <td>1</td>\n",
       "      <td>1</td>\n",
       "      <td>0</td>\n",
       "      <td>37.687820</td>\n",
       "      <td>-0.754480</td>\n",
       "      <td>-2.015893</td>\n",
       "      <td>0.234375</td>\n",
       "      <td>-999.0</td>\n",
       "      <td>8.742746</td>\n",
       "      <td>0.581782</td>\n",
       "      <td>6</td>\n",
       "      <td>111111</td>\n",
       "      <td>0</td>\n",
       "      <td>0</td>\n",
       "      <td>1</td>\n",
       "      <td>1</td>\n",
       "      <td>0</td>\n",
       "      <td>37.687820</td>\n",
       "      <td>-0.754480</td>\n",
       "      <td>-2.015893</td>\n",
       "      <td>0.234375</td>\n",
       "      <td>-999.0</td>\n",
       "      <td>8.742746</td>\n",
       "      <td>0.581782</td>\n",
       "      <td>6</td>\n",
       "      <td>0</td>\n",
       "      <td>1</td>\n",
       "      <td>1</td>\n",
       "      <td>0</td>\n",
       "    </tr>\n",
       "    <tr>\n",
       "      <th>7</th>\n",
       "      <td>17.461126</td>\n",
       "      <td>-0.740513</td>\n",
       "      <td>-2.011680</td>\n",
       "      <td>0.184507</td>\n",
       "      <td>-0.000417</td>\n",
       "      <td>0.300494</td>\n",
       "      <td>0.000447</td>\n",
       "      <td>0.150999</td>\n",
       "      <td>211</td>\n",
       "      <td>1</td>\n",
       "      <td>1</td>\n",
       "      <td>9</td>\n",
       "      <td>0</td>\n",
       "      <td>1</td>\n",
       "      <td>1</td>\n",
       "      <td>1</td>\n",
       "      <td>0</td>\n",
       "      <td>17.344629</td>\n",
       "      <td>-0.740883</td>\n",
       "      <td>-2.011434</td>\n",
       "      <td>0.292969</td>\n",
       "      <td>-999.0</td>\n",
       "      <td>6.024677</td>\n",
       "      <td>0.826107</td>\n",
       "      <td>6</td>\n",
       "      <td>111111</td>\n",
       "      <td>0</td>\n",
       "      <td>0</td>\n",
       "      <td>1</td>\n",
       "      <td>1</td>\n",
       "      <td>0</td>\n",
       "      <td>17.344629</td>\n",
       "      <td>-0.740883</td>\n",
       "      <td>-2.011434</td>\n",
       "      <td>0.292969</td>\n",
       "      <td>-999.0</td>\n",
       "      <td>6.024677</td>\n",
       "      <td>0.826107</td>\n",
       "      <td>6</td>\n",
       "      <td>0</td>\n",
       "      <td>1</td>\n",
       "      <td>1</td>\n",
       "      <td>0</td>\n",
       "    </tr>\n",
       "    <tr>\n",
       "      <th>8</th>\n",
       "      <td>12.040825</td>\n",
       "      <td>-1.560167</td>\n",
       "      <td>1.599031</td>\n",
       "      <td>0.052139</td>\n",
       "      <td>-0.000663</td>\n",
       "      <td>0.309680</td>\n",
       "      <td>0.000682</td>\n",
       "      <td>0.191020</td>\n",
       "      <td>321</td>\n",
       "      <td>1</td>\n",
       "      <td>1</td>\n",
       "      <td>11</td>\n",
       "      <td>0</td>\n",
       "      <td>1</td>\n",
       "      <td>1</td>\n",
       "      <td>0</td>\n",
       "      <td>0</td>\n",
       "      <td>12.137454</td>\n",
       "      <td>-1.559636</td>\n",
       "      <td>1.598343</td>\n",
       "      <td>0.410156</td>\n",
       "      <td>-999.0</td>\n",
       "      <td>2.551064</td>\n",
       "      <td>0.315315</td>\n",
       "      <td>5</td>\n",
       "      <td>111</td>\n",
       "      <td>110</td>\n",
       "      <td>0</td>\n",
       "      <td>1</td>\n",
       "      <td>0</td>\n",
       "      <td>0</td>\n",
       "      <td>12.137454</td>\n",
       "      <td>-1.559636</td>\n",
       "      <td>1.598343</td>\n",
       "      <td>0.410156</td>\n",
       "      <td>-999.0</td>\n",
       "      <td>2.551064</td>\n",
       "      <td>0.315315</td>\n",
       "      <td>5</td>\n",
       "      <td>0</td>\n",
       "      <td>1</td>\n",
       "      <td>0</td>\n",
       "      <td>0</td>\n",
       "    </tr>\n",
       "    <tr>\n",
       "      <th>9</th>\n",
       "      <td>3.084901</td>\n",
       "      <td>1.153923</td>\n",
       "      <td>2.541652</td>\n",
       "      <td>0.015098</td>\n",
       "      <td>-0.000248</td>\n",
       "      <td>0.300785</td>\n",
       "      <td>0.000255</td>\n",
       "      <td>0.322353</td>\n",
       "      <td>-211</td>\n",
       "      <td>1</td>\n",
       "      <td>1</td>\n",
       "      <td>7</td>\n",
       "      <td>0</td>\n",
       "      <td>-1</td>\n",
       "      <td>0</td>\n",
       "      <td>0</td>\n",
       "      <td>0</td>\n",
       "      <td>3.093463</td>\n",
       "      <td>1.155117</td>\n",
       "      <td>2.541423</td>\n",
       "      <td>0.117188</td>\n",
       "      <td>-999.0</td>\n",
       "      <td>2.737119</td>\n",
       "      <td>0.621771</td>\n",
       "      <td>5</td>\n",
       "      <td>1111</td>\n",
       "      <td>10</td>\n",
       "      <td>0</td>\n",
       "      <td>0</td>\n",
       "      <td>0</td>\n",
       "      <td>0</td>\n",
       "      <td>3.093463</td>\n",
       "      <td>1.155117</td>\n",
       "      <td>2.541423</td>\n",
       "      <td>0.117188</td>\n",
       "      <td>-999.0</td>\n",
       "      <td>2.737119</td>\n",
       "      <td>0.621771</td>\n",
       "      <td>5</td>\n",
       "      <td>0</td>\n",
       "      <td>0</td>\n",
       "      <td>0</td>\n",
       "      <td>0</td>\n",
       "    </tr>\n",
       "    <tr>\n",
       "      <th>10</th>\n",
       "      <td>4.724505</td>\n",
       "      <td>-1.555800</td>\n",
       "      <td>1.565668</td>\n",
       "      <td>0.052139</td>\n",
       "      <td>0.001023</td>\n",
       "      <td>0.308990</td>\n",
       "      <td>-0.001057</td>\n",
       "      <td>0.191020</td>\n",
       "      <td>-211</td>\n",
       "      <td>2</td>\n",
       "      <td>2</td>\n",
       "      <td>10</td>\n",
       "      <td>0</td>\n",
       "      <td>-1</td>\n",
       "      <td>1</td>\n",
       "      <td>0</td>\n",
       "      <td>0</td>\n",
       "      <td>4.699030</td>\n",
       "      <td>-1.556486</td>\n",
       "      <td>1.567291</td>\n",
       "      <td>0.292969</td>\n",
       "      <td>-999.0</td>\n",
       "      <td>2.539167</td>\n",
       "      <td>1.027179</td>\n",
       "      <td>5</td>\n",
       "      <td>11</td>\n",
       "      <td>111</td>\n",
       "      <td>0</td>\n",
       "      <td>1</td>\n",
       "      <td>0</td>\n",
       "      <td>0</td>\n",
       "      <td>4.699030</td>\n",
       "      <td>-1.556486</td>\n",
       "      <td>1.567291</td>\n",
       "      <td>0.292969</td>\n",
       "      <td>-999.0</td>\n",
       "      <td>2.539167</td>\n",
       "      <td>1.027179</td>\n",
       "      <td>5</td>\n",
       "      <td>0</td>\n",
       "      <td>1</td>\n",
       "      <td>0</td>\n",
       "      <td>0</td>\n",
       "    </tr>\n",
       "  </tbody>\n",
       "</table>\n",
       "<p>510147 rows × 43 columns</p>\n",
       "</div>"
      ],
      "text/plain": [
       "                     tp_pt    tp_eta    tp_phi    tp_dxy     tp_d0     tp_z0  \\\n",
       "entry subentry                                                                 \n",
       "0     0         100.300301 -0.898876  0.061430  0.001250  0.000543  3.500762   \n",
       "      1           2.052715 -1.650001 -2.781972  0.001250  0.000306  3.496469   \n",
       "      2           6.453084 -0.604645 -2.807965  0.001250  0.000281  3.498704   \n",
       "      3           8.502528 -0.446424 -1.675735  0.001250  0.001191  3.499362   \n",
       "      4           7.538472 -1.650967 -1.311853  0.001250  0.001264  3.499881   \n",
       "...                    ...       ...       ...       ...       ...       ...   \n",
       "24947 6          37.316452 -0.756630 -2.015774  0.184507  0.000236  0.304796   \n",
       "      7          17.461126 -0.740513 -2.011680  0.184507 -0.000417  0.300494   \n",
       "      8          12.040825 -1.560167  1.599031  0.052139 -0.000663  0.309680   \n",
       "      9           3.084901  1.153923  2.541652  0.015098 -0.000248  0.300785   \n",
       "      10          4.724505 -1.555800  1.565668  0.052139  0.001023  0.308990   \n",
       "\n",
       "                tp_d0_prod  tp_z0_prod  tp_pdgid  tp_nmatch  tp_nloosematch  \\\n",
       "entry subentry                                                                \n",
       "0     0          -0.000073    3.499485        13          1               1   \n",
       "      1          -0.000297    3.499485       211          1               1   \n",
       "      2          -0.000265    3.499485      2212          1               1   \n",
       "      3          -0.001218    3.499485      -321          1               1   \n",
       "      4          -0.001238    3.499485      -211          1               1   \n",
       "...                    ...         ...       ...        ...             ...   \n",
       "24947 6          -0.000308    0.150999      -321          1               1   \n",
       "      7           0.000447    0.150999       211          1               1   \n",
       "      8           0.000682    0.191020       321          1               1   \n",
       "      9           0.000255    0.322353      -211          1               1   \n",
       "      10         -0.001057    0.191020      -211          2               2   \n",
       "\n",
       "                tp_nstub  tp_eventid  tp_charge  tp_injet  tp_injet_highpt  \\\n",
       "entry subentry                                                               \n",
       "0     0                8           0         -1         1                1   \n",
       "      1                9           0          1         0                0   \n",
       "      2                8           0          1         0                0   \n",
       "      3                5           0         -1         1                0   \n",
       "      4                7           0         -1         1                0   \n",
       "...                  ...         ...        ...       ...              ...   \n",
       "24947 6                8           0         -1         1                1   \n",
       "      7                9           0          1         1                1   \n",
       "      8               11           0          1         1                0   \n",
       "      9                7           0         -1         0                0   \n",
       "      10              10           0         -1         1                0   \n",
       "\n",
       "                tp_injet_vhighpt  matchtrk_pt  matchtrk_eta  matchtrk_phi  \\\n",
       "entry subentry                                                              \n",
       "0     0                        0   102.943588     -0.900577      0.061580   \n",
       "      1                        0     2.034012     -1.651574     -2.782407   \n",
       "      2                        0     6.475194     -0.604991     -2.808045   \n",
       "      3                        0     8.506432     -0.449548     -1.675164   \n",
       "      4                        0     7.589015     -1.650129     -1.310603   \n",
       "...                          ...          ...           ...           ...   \n",
       "24947 6                        0    37.687820     -0.754480     -2.015893   \n",
       "      7                        0    17.344629     -0.740883     -2.011434   \n",
       "      8                        0    12.137454     -1.559636      1.598343   \n",
       "      9                        0     3.093463      1.155117      2.541423   \n",
       "      10                       0     4.699030     -1.556486      1.567291   \n",
       "\n",
       "                matchtrk_z0  matchtrk_d0  matchtrk_chi2  matchtrk_bendchi2  \\\n",
       "entry subentry                                                               \n",
       "0     0            3.574219       -999.0       7.661629           0.025519   \n",
       "      1            3.750000       -999.0       8.667765           1.376251   \n",
       "      2            3.574219       -999.0       4.947954           1.358919   \n",
       "      3            3.574219       -999.0       3.709781           0.449784   \n",
       "      4            3.457031       -999.0      18.657181           0.499871   \n",
       "...                     ...          ...            ...                ...   \n",
       "24947 6            0.234375       -999.0       8.742746           0.581782   \n",
       "      7            0.292969       -999.0       6.024677           0.826107   \n",
       "      8            0.410156       -999.0       2.551064           0.315315   \n",
       "      9            0.117188       -999.0       2.737119           0.621771   \n",
       "      10           0.292969       -999.0       2.539167           1.027179   \n",
       "\n",
       "                matchtrk_nstub  matchtrk_lhits  matchtrk_dhits  matchtrk_seed  \\\n",
       "entry subentry                                                                  \n",
       "0     0                      6          111111               0              0   \n",
       "      1                      6              11            1111              0   \n",
       "      2                      6          111111               0              0   \n",
       "      3                      5          111011               0              0   \n",
       "      4                      6              11            1111              0   \n",
       "...                        ...             ...             ...            ...   \n",
       "24947 6                      6          111111               0              0   \n",
       "      7                      6          111111               0              0   \n",
       "      8                      5             111             110              0   \n",
       "      9                      5            1111              10              0   \n",
       "      10                     5              11             111              0   \n",
       "\n",
       "                matchtrk_injet  matchtrk_injet_highpt  matchtrk_injet_vhighpt  \\\n",
       "entry subentry                                                                  \n",
       "0     0                      1                      1                       0   \n",
       "      1                      0                      0                       0   \n",
       "      2                      0                      0                       0   \n",
       "      3                      1                      0                       0   \n",
       "      4                      1                      0                       0   \n",
       "...                        ...                    ...                     ...   \n",
       "24947 6                      1                      1                       0   \n",
       "      7                      1                      1                       0   \n",
       "      8                      1                      0                       0   \n",
       "      9                      0                      0                       0   \n",
       "      10                     1                      0                       0   \n",
       "\n",
       "                loosematchtrk_pt  loosematchtrk_eta  loosematchtrk_phi  \\\n",
       "entry subentry                                                           \n",
       "0     0               102.943588          -0.900577           0.061580   \n",
       "      1                 2.034012          -1.651574          -2.782407   \n",
       "      2                 6.475194          -0.604991          -2.808045   \n",
       "      3                 8.506432          -0.449548          -1.675164   \n",
       "      4                 7.589015          -1.650129          -1.310603   \n",
       "...                          ...                ...                ...   \n",
       "24947 6                37.687820          -0.754480          -2.015893   \n",
       "      7                17.344629          -0.740883          -2.011434   \n",
       "      8                12.137454          -1.559636           1.598343   \n",
       "      9                 3.093463           1.155117           2.541423   \n",
       "      10                4.699030          -1.556486           1.567291   \n",
       "\n",
       "                loosematchtrk_z0  loosematchtrk_d0  loosematchtrk_chi2  \\\n",
       "entry subentry                                                           \n",
       "0     0                 3.574219            -999.0            7.661629   \n",
       "      1                 3.750000            -999.0            8.667765   \n",
       "      2                 3.574219            -999.0            4.947954   \n",
       "      3                 3.574219            -999.0            3.709781   \n",
       "      4                 3.457031            -999.0           18.657181   \n",
       "...                          ...               ...                 ...   \n",
       "24947 6                 0.234375            -999.0            8.742746   \n",
       "      7                 0.292969            -999.0            6.024677   \n",
       "      8                 0.410156            -999.0            2.551064   \n",
       "      9                 0.117188            -999.0            2.737119   \n",
       "      10                0.292969            -999.0            2.539167   \n",
       "\n",
       "                loosematchtrk_bendchi2  loosematchtrk_nstub  \\\n",
       "entry subentry                                                \n",
       "0     0                       0.025519                    6   \n",
       "      1                       1.376251                    6   \n",
       "      2                       1.358919                    6   \n",
       "      3                       0.449784                    5   \n",
       "      4                       0.499871                    6   \n",
       "...                                ...                  ...   \n",
       "24947 6                       0.581782                    6   \n",
       "      7                       0.826107                    6   \n",
       "      8                       0.315315                    5   \n",
       "      9                       0.621771                    5   \n",
       "      10                      1.027179                    5   \n",
       "\n",
       "                loosematchtrk_seed  loosematchtrk_injet  \\\n",
       "entry subentry                                            \n",
       "0     0                          0                    1   \n",
       "      1                          0                    0   \n",
       "      2                          0                    0   \n",
       "      3                          0                    1   \n",
       "      4                          0                    1   \n",
       "...                            ...                  ...   \n",
       "24947 6                          0                    1   \n",
       "      7                          0                    1   \n",
       "      8                          0                    1   \n",
       "      9                          0                    0   \n",
       "      10                         0                    1   \n",
       "\n",
       "                loosematchtrk_injet_highpt  loosematchtrk_injet_vhighpt  \n",
       "entry subentry                                                           \n",
       "0     0                                  1                            0  \n",
       "      1                                  0                            0  \n",
       "      2                                  0                            0  \n",
       "      3                                  0                            0  \n",
       "      4                                  0                            0  \n",
       "...                                    ...                          ...  \n",
       "24947 6                                  1                            0  \n",
       "      7                                  1                            0  \n",
       "      8                                  0                            0  \n",
       "      9                                  0                            0  \n",
       "      10                                 0                            0  \n",
       "\n",
       "[510147 rows x 43 columns]"
      ]
     },
     "execution_count": 36,
     "metadata": {},
     "output_type": "execute_result"
    }
   ],
   "source": [
    "tp.loc[mask_pv_me & mask_no_sv_me]"
   ]
  },
  {
   "cell_type": "code",
   "execution_count": 37,
   "metadata": {},
   "outputs": [
    {
     "data": {
      "text/html": [
       "<div>\n",
       "<style scoped>\n",
       "    .dataframe tbody tr th:only-of-type {\n",
       "        vertical-align: middle;\n",
       "    }\n",
       "\n",
       "    .dataframe tbody tr th {\n",
       "        vertical-align: top;\n",
       "    }\n",
       "\n",
       "    .dataframe thead th {\n",
       "        text-align: right;\n",
       "    }\n",
       "</style>\n",
       "<table border=\"1\" class=\"dataframe\">\n",
       "  <thead>\n",
       "    <tr style=\"text-align: right;\">\n",
       "      <th></th>\n",
       "      <th></th>\n",
       "      <th>tp_pt</th>\n",
       "      <th>tp_eta</th>\n",
       "      <th>tp_phi</th>\n",
       "      <th>tp_dxy</th>\n",
       "      <th>tp_d0</th>\n",
       "      <th>tp_z0</th>\n",
       "      <th>tp_d0_prod</th>\n",
       "      <th>tp_z0_prod</th>\n",
       "      <th>tp_pdgid</th>\n",
       "      <th>tp_nmatch</th>\n",
       "      <th>tp_nloosematch</th>\n",
       "      <th>tp_nstub</th>\n",
       "      <th>tp_eventid</th>\n",
       "      <th>tp_charge</th>\n",
       "      <th>tp_injet</th>\n",
       "      <th>tp_injet_highpt</th>\n",
       "      <th>tp_injet_vhighpt</th>\n",
       "      <th>matchtrk_pt</th>\n",
       "      <th>matchtrk_eta</th>\n",
       "      <th>matchtrk_phi</th>\n",
       "      <th>matchtrk_z0</th>\n",
       "      <th>matchtrk_d0</th>\n",
       "      <th>matchtrk_chi2</th>\n",
       "      <th>matchtrk_bendchi2</th>\n",
       "      <th>matchtrk_nstub</th>\n",
       "      <th>matchtrk_lhits</th>\n",
       "      <th>matchtrk_dhits</th>\n",
       "      <th>matchtrk_seed</th>\n",
       "      <th>matchtrk_injet</th>\n",
       "      <th>matchtrk_injet_highpt</th>\n",
       "      <th>matchtrk_injet_vhighpt</th>\n",
       "      <th>loosematchtrk_pt</th>\n",
       "      <th>loosematchtrk_eta</th>\n",
       "      <th>loosematchtrk_phi</th>\n",
       "      <th>loosematchtrk_z0</th>\n",
       "      <th>loosematchtrk_d0</th>\n",
       "      <th>loosematchtrk_chi2</th>\n",
       "      <th>loosematchtrk_bendchi2</th>\n",
       "      <th>loosematchtrk_nstub</th>\n",
       "      <th>loosematchtrk_seed</th>\n",
       "      <th>loosematchtrk_injet</th>\n",
       "      <th>loosematchtrk_injet_highpt</th>\n",
       "      <th>loosematchtrk_injet_vhighpt</th>\n",
       "    </tr>\n",
       "    <tr>\n",
       "      <th>entry</th>\n",
       "      <th>subentry</th>\n",
       "      <th></th>\n",
       "      <th></th>\n",
       "      <th></th>\n",
       "      <th></th>\n",
       "      <th></th>\n",
       "      <th></th>\n",
       "      <th></th>\n",
       "      <th></th>\n",
       "      <th></th>\n",
       "      <th></th>\n",
       "      <th></th>\n",
       "      <th></th>\n",
       "      <th></th>\n",
       "      <th></th>\n",
       "      <th></th>\n",
       "      <th></th>\n",
       "      <th></th>\n",
       "      <th></th>\n",
       "      <th></th>\n",
       "      <th></th>\n",
       "      <th></th>\n",
       "      <th></th>\n",
       "      <th></th>\n",
       "      <th></th>\n",
       "      <th></th>\n",
       "      <th></th>\n",
       "      <th></th>\n",
       "      <th></th>\n",
       "      <th></th>\n",
       "      <th></th>\n",
       "      <th></th>\n",
       "      <th></th>\n",
       "      <th></th>\n",
       "      <th></th>\n",
       "      <th></th>\n",
       "      <th></th>\n",
       "      <th></th>\n",
       "      <th></th>\n",
       "      <th></th>\n",
       "      <th></th>\n",
       "      <th></th>\n",
       "      <th></th>\n",
       "      <th></th>\n",
       "    </tr>\n",
       "  </thead>\n",
       "  <tbody>\n",
       "    <tr>\n",
       "      <th rowspan=\"5\" valign=\"top\">0</th>\n",
       "      <th>0</th>\n",
       "      <td>100.300301</td>\n",
       "      <td>-0.898876</td>\n",
       "      <td>0.061430</td>\n",
       "      <td>0.001250</td>\n",
       "      <td>0.000543</td>\n",
       "      <td>3.500762</td>\n",
       "      <td>-0.000073</td>\n",
       "      <td>3.499485</td>\n",
       "      <td>13</td>\n",
       "      <td>1</td>\n",
       "      <td>1</td>\n",
       "      <td>8</td>\n",
       "      <td>0</td>\n",
       "      <td>-1</td>\n",
       "      <td>1</td>\n",
       "      <td>1</td>\n",
       "      <td>0</td>\n",
       "      <td>102.943588</td>\n",
       "      <td>-0.900577</td>\n",
       "      <td>0.061580</td>\n",
       "      <td>3.574219</td>\n",
       "      <td>-999.0</td>\n",
       "      <td>7.661629</td>\n",
       "      <td>0.025519</td>\n",
       "      <td>6</td>\n",
       "      <td>111111</td>\n",
       "      <td>0</td>\n",
       "      <td>0</td>\n",
       "      <td>1</td>\n",
       "      <td>1</td>\n",
       "      <td>0</td>\n",
       "      <td>102.943588</td>\n",
       "      <td>-0.900577</td>\n",
       "      <td>0.061580</td>\n",
       "      <td>3.574219</td>\n",
       "      <td>-999.0</td>\n",
       "      <td>7.661629</td>\n",
       "      <td>0.025519</td>\n",
       "      <td>6</td>\n",
       "      <td>0</td>\n",
       "      <td>1</td>\n",
       "      <td>1</td>\n",
       "      <td>0</td>\n",
       "    </tr>\n",
       "    <tr>\n",
       "      <th>1</th>\n",
       "      <td>2.052715</td>\n",
       "      <td>-1.650001</td>\n",
       "      <td>-2.781972</td>\n",
       "      <td>0.001250</td>\n",
       "      <td>0.000306</td>\n",
       "      <td>3.496469</td>\n",
       "      <td>-0.000297</td>\n",
       "      <td>3.499485</td>\n",
       "      <td>211</td>\n",
       "      <td>1</td>\n",
       "      <td>1</td>\n",
       "      <td>9</td>\n",
       "      <td>0</td>\n",
       "      <td>1</td>\n",
       "      <td>0</td>\n",
       "      <td>0</td>\n",
       "      <td>0</td>\n",
       "      <td>2.034012</td>\n",
       "      <td>-1.651574</td>\n",
       "      <td>-2.782407</td>\n",
       "      <td>3.750000</td>\n",
       "      <td>-999.0</td>\n",
       "      <td>8.667765</td>\n",
       "      <td>1.376251</td>\n",
       "      <td>6</td>\n",
       "      <td>11</td>\n",
       "      <td>1111</td>\n",
       "      <td>0</td>\n",
       "      <td>0</td>\n",
       "      <td>0</td>\n",
       "      <td>0</td>\n",
       "      <td>2.034012</td>\n",
       "      <td>-1.651574</td>\n",
       "      <td>-2.782407</td>\n",
       "      <td>3.750000</td>\n",
       "      <td>-999.0</td>\n",
       "      <td>8.667765</td>\n",
       "      <td>1.376251</td>\n",
       "      <td>6</td>\n",
       "      <td>0</td>\n",
       "      <td>0</td>\n",
       "      <td>0</td>\n",
       "      <td>0</td>\n",
       "    </tr>\n",
       "    <tr>\n",
       "      <th>2</th>\n",
       "      <td>6.453084</td>\n",
       "      <td>-0.604645</td>\n",
       "      <td>-2.807965</td>\n",
       "      <td>0.001250</td>\n",
       "      <td>0.000281</td>\n",
       "      <td>3.498704</td>\n",
       "      <td>-0.000265</td>\n",
       "      <td>3.499485</td>\n",
       "      <td>2212</td>\n",
       "      <td>1</td>\n",
       "      <td>1</td>\n",
       "      <td>8</td>\n",
       "      <td>0</td>\n",
       "      <td>1</td>\n",
       "      <td>0</td>\n",
       "      <td>0</td>\n",
       "      <td>0</td>\n",
       "      <td>6.475194</td>\n",
       "      <td>-0.604991</td>\n",
       "      <td>-2.808045</td>\n",
       "      <td>3.574219</td>\n",
       "      <td>-999.0</td>\n",
       "      <td>4.947954</td>\n",
       "      <td>1.358919</td>\n",
       "      <td>6</td>\n",
       "      <td>111111</td>\n",
       "      <td>0</td>\n",
       "      <td>0</td>\n",
       "      <td>0</td>\n",
       "      <td>0</td>\n",
       "      <td>0</td>\n",
       "      <td>6.475194</td>\n",
       "      <td>-0.604991</td>\n",
       "      <td>-2.808045</td>\n",
       "      <td>3.574219</td>\n",
       "      <td>-999.0</td>\n",
       "      <td>4.947954</td>\n",
       "      <td>1.358919</td>\n",
       "      <td>6</td>\n",
       "      <td>0</td>\n",
       "      <td>0</td>\n",
       "      <td>0</td>\n",
       "      <td>0</td>\n",
       "    </tr>\n",
       "    <tr>\n",
       "      <th>3</th>\n",
       "      <td>8.502528</td>\n",
       "      <td>-0.446424</td>\n",
       "      <td>-1.675735</td>\n",
       "      <td>0.001250</td>\n",
       "      <td>0.001191</td>\n",
       "      <td>3.499362</td>\n",
       "      <td>-0.001218</td>\n",
       "      <td>3.499485</td>\n",
       "      <td>-321</td>\n",
       "      <td>1</td>\n",
       "      <td>1</td>\n",
       "      <td>5</td>\n",
       "      <td>0</td>\n",
       "      <td>-1</td>\n",
       "      <td>1</td>\n",
       "      <td>0</td>\n",
       "      <td>0</td>\n",
       "      <td>8.506432</td>\n",
       "      <td>-0.449548</td>\n",
       "      <td>-1.675164</td>\n",
       "      <td>3.574219</td>\n",
       "      <td>-999.0</td>\n",
       "      <td>3.709781</td>\n",
       "      <td>0.449784</td>\n",
       "      <td>5</td>\n",
       "      <td>111011</td>\n",
       "      <td>0</td>\n",
       "      <td>0</td>\n",
       "      <td>1</td>\n",
       "      <td>0</td>\n",
       "      <td>0</td>\n",
       "      <td>8.506432</td>\n",
       "      <td>-0.449548</td>\n",
       "      <td>-1.675164</td>\n",
       "      <td>3.574219</td>\n",
       "      <td>-999.0</td>\n",
       "      <td>3.709781</td>\n",
       "      <td>0.449784</td>\n",
       "      <td>5</td>\n",
       "      <td>0</td>\n",
       "      <td>1</td>\n",
       "      <td>0</td>\n",
       "      <td>0</td>\n",
       "    </tr>\n",
       "    <tr>\n",
       "      <th>4</th>\n",
       "      <td>7.538472</td>\n",
       "      <td>-1.650967</td>\n",
       "      <td>-1.311853</td>\n",
       "      <td>0.001250</td>\n",
       "      <td>0.001264</td>\n",
       "      <td>3.499881</td>\n",
       "      <td>-0.001238</td>\n",
       "      <td>3.499485</td>\n",
       "      <td>-211</td>\n",
       "      <td>1</td>\n",
       "      <td>1</td>\n",
       "      <td>7</td>\n",
       "      <td>0</td>\n",
       "      <td>-1</td>\n",
       "      <td>1</td>\n",
       "      <td>0</td>\n",
       "      <td>0</td>\n",
       "      <td>7.589015</td>\n",
       "      <td>-1.650129</td>\n",
       "      <td>-1.310603</td>\n",
       "      <td>3.457031</td>\n",
       "      <td>-999.0</td>\n",
       "      <td>18.657181</td>\n",
       "      <td>0.499871</td>\n",
       "      <td>6</td>\n",
       "      <td>11</td>\n",
       "      <td>1111</td>\n",
       "      <td>0</td>\n",
       "      <td>1</td>\n",
       "      <td>0</td>\n",
       "      <td>0</td>\n",
       "      <td>7.589015</td>\n",
       "      <td>-1.650129</td>\n",
       "      <td>-1.310603</td>\n",
       "      <td>3.457031</td>\n",
       "      <td>-999.0</td>\n",
       "      <td>18.657181</td>\n",
       "      <td>0.499871</td>\n",
       "      <td>6</td>\n",
       "      <td>0</td>\n",
       "      <td>1</td>\n",
       "      <td>0</td>\n",
       "      <td>0</td>\n",
       "    </tr>\n",
       "    <tr>\n",
       "      <th>...</th>\n",
       "      <th>...</th>\n",
       "      <td>...</td>\n",
       "      <td>...</td>\n",
       "      <td>...</td>\n",
       "      <td>...</td>\n",
       "      <td>...</td>\n",
       "      <td>...</td>\n",
       "      <td>...</td>\n",
       "      <td>...</td>\n",
       "      <td>...</td>\n",
       "      <td>...</td>\n",
       "      <td>...</td>\n",
       "      <td>...</td>\n",
       "      <td>...</td>\n",
       "      <td>...</td>\n",
       "      <td>...</td>\n",
       "      <td>...</td>\n",
       "      <td>...</td>\n",
       "      <td>...</td>\n",
       "      <td>...</td>\n",
       "      <td>...</td>\n",
       "      <td>...</td>\n",
       "      <td>...</td>\n",
       "      <td>...</td>\n",
       "      <td>...</td>\n",
       "      <td>...</td>\n",
       "      <td>...</td>\n",
       "      <td>...</td>\n",
       "      <td>...</td>\n",
       "      <td>...</td>\n",
       "      <td>...</td>\n",
       "      <td>...</td>\n",
       "      <td>...</td>\n",
       "      <td>...</td>\n",
       "      <td>...</td>\n",
       "      <td>...</td>\n",
       "      <td>...</td>\n",
       "      <td>...</td>\n",
       "      <td>...</td>\n",
       "      <td>...</td>\n",
       "      <td>...</td>\n",
       "      <td>...</td>\n",
       "      <td>...</td>\n",
       "      <td>...</td>\n",
       "    </tr>\n",
       "    <tr>\n",
       "      <th rowspan=\"5\" valign=\"top\">24947</th>\n",
       "      <th>131</th>\n",
       "      <td>2.515927</td>\n",
       "      <td>-1.344955</td>\n",
       "      <td>2.283078</td>\n",
       "      <td>0.000222</td>\n",
       "      <td>-0.000221</td>\n",
       "      <td>7.912414</td>\n",
       "      <td>0.000219</td>\n",
       "      <td>7.912319</td>\n",
       "      <td>-2212</td>\n",
       "      <td>1</td>\n",
       "      <td>1</td>\n",
       "      <td>7</td>\n",
       "      <td>149</td>\n",
       "      <td>-1</td>\n",
       "      <td>0</td>\n",
       "      <td>0</td>\n",
       "      <td>0</td>\n",
       "      <td>2.499530</td>\n",
       "      <td>-1.347972</td>\n",
       "      <td>2.285152</td>\n",
       "      <td>8.144531</td>\n",
       "      <td>-999.0</td>\n",
       "      <td>7.074628</td>\n",
       "      <td>4.988648</td>\n",
       "      <td>5</td>\n",
       "      <td>1111</td>\n",
       "      <td>10</td>\n",
       "      <td>0</td>\n",
       "      <td>0</td>\n",
       "      <td>0</td>\n",
       "      <td>0</td>\n",
       "      <td>2.499530</td>\n",
       "      <td>-1.347972</td>\n",
       "      <td>2.285152</td>\n",
       "      <td>8.144531</td>\n",
       "      <td>-999.0</td>\n",
       "      <td>7.074628</td>\n",
       "      <td>4.988648</td>\n",
       "      <td>5</td>\n",
       "      <td>0</td>\n",
       "      <td>0</td>\n",
       "      <td>0</td>\n",
       "      <td>0</td>\n",
       "    </tr>\n",
       "    <tr>\n",
       "      <th>132</th>\n",
       "      <td>2.869779</td>\n",
       "      <td>1.953141</td>\n",
       "      <td>-0.978675</td>\n",
       "      <td>0.000222</td>\n",
       "      <td>0.000216</td>\n",
       "      <td>7.912527</td>\n",
       "      <td>-0.000213</td>\n",
       "      <td>7.912319</td>\n",
       "      <td>211</td>\n",
       "      <td>1</td>\n",
       "      <td>1</td>\n",
       "      <td>8</td>\n",
       "      <td>149</td>\n",
       "      <td>1</td>\n",
       "      <td>0</td>\n",
       "      <td>0</td>\n",
       "      <td>0</td>\n",
       "      <td>2.931165</td>\n",
       "      <td>1.954933</td>\n",
       "      <td>-0.979100</td>\n",
       "      <td>7.558594</td>\n",
       "      <td>-999.0</td>\n",
       "      <td>4.337594</td>\n",
       "      <td>1.048164</td>\n",
       "      <td>6</td>\n",
       "      <td>1</td>\n",
       "      <td>11111</td>\n",
       "      <td>5</td>\n",
       "      <td>0</td>\n",
       "      <td>0</td>\n",
       "      <td>0</td>\n",
       "      <td>2.931165</td>\n",
       "      <td>1.954933</td>\n",
       "      <td>-0.979100</td>\n",
       "      <td>7.558594</td>\n",
       "      <td>-999.0</td>\n",
       "      <td>4.337594</td>\n",
       "      <td>1.048164</td>\n",
       "      <td>6</td>\n",
       "      <td>5</td>\n",
       "      <td>0</td>\n",
       "      <td>0</td>\n",
       "      <td>0</td>\n",
       "    </tr>\n",
       "    <tr>\n",
       "      <th>133</th>\n",
       "      <td>2.205768</td>\n",
       "      <td>-1.469311</td>\n",
       "      <td>-0.762871</td>\n",
       "      <td>0.003592</td>\n",
       "      <td>0.000253</td>\n",
       "      <td>7.909946</td>\n",
       "      <td>-0.000266</td>\n",
       "      <td>7.902583</td>\n",
       "      <td>-321</td>\n",
       "      <td>1</td>\n",
       "      <td>1</td>\n",
       "      <td>9</td>\n",
       "      <td>149</td>\n",
       "      <td>-1</td>\n",
       "      <td>0</td>\n",
       "      <td>0</td>\n",
       "      <td>0</td>\n",
       "      <td>2.195913</td>\n",
       "      <td>-1.472945</td>\n",
       "      <td>-0.762705</td>\n",
       "      <td>8.261719</td>\n",
       "      <td>-999.0</td>\n",
       "      <td>3.615788</td>\n",
       "      <td>0.278036</td>\n",
       "      <td>6</td>\n",
       "      <td>111</td>\n",
       "      <td>111</td>\n",
       "      <td>0</td>\n",
       "      <td>0</td>\n",
       "      <td>0</td>\n",
       "      <td>0</td>\n",
       "      <td>2.195913</td>\n",
       "      <td>-1.472945</td>\n",
       "      <td>-0.762705</td>\n",
       "      <td>8.261719</td>\n",
       "      <td>-999.0</td>\n",
       "      <td>3.615788</td>\n",
       "      <td>0.278036</td>\n",
       "      <td>6</td>\n",
       "      <td>0</td>\n",
       "      <td>0</td>\n",
       "      <td>0</td>\n",
       "      <td>0</td>\n",
       "    </tr>\n",
       "    <tr>\n",
       "      <th>134</th>\n",
       "      <td>2.010632</td>\n",
       "      <td>-1.296187</td>\n",
       "      <td>0.080920</td>\n",
       "      <td>0.001015</td>\n",
       "      <td>0.000989</td>\n",
       "      <td>-1.899230</td>\n",
       "      <td>-0.000991</td>\n",
       "      <td>-1.899601</td>\n",
       "      <td>211</td>\n",
       "      <td>0</td>\n",
       "      <td>0</td>\n",
       "      <td>6</td>\n",
       "      <td>155</td>\n",
       "      <td>1</td>\n",
       "      <td>0</td>\n",
       "      <td>0</td>\n",
       "      <td>0</td>\n",
       "      <td>-999.000000</td>\n",
       "      <td>-999.000000</td>\n",
       "      <td>-999.000000</td>\n",
       "      <td>-999.000000</td>\n",
       "      <td>-999.0</td>\n",
       "      <td>-999.000000</td>\n",
       "      <td>-999.000000</td>\n",
       "      <td>-999</td>\n",
       "      <td>-999</td>\n",
       "      <td>-999</td>\n",
       "      <td>-999</td>\n",
       "      <td>0</td>\n",
       "      <td>0</td>\n",
       "      <td>0</td>\n",
       "      <td>-999.000000</td>\n",
       "      <td>-999.000000</td>\n",
       "      <td>-999.000000</td>\n",
       "      <td>-999.000000</td>\n",
       "      <td>-999.0</td>\n",
       "      <td>-999.000000</td>\n",
       "      <td>-999.000000</td>\n",
       "      <td>-999</td>\n",
       "      <td>-999</td>\n",
       "      <td>0</td>\n",
       "      <td>0</td>\n",
       "      <td>0</td>\n",
       "    </tr>\n",
       "    <tr>\n",
       "      <th>135</th>\n",
       "      <td>2.424364</td>\n",
       "      <td>-1.384162</td>\n",
       "      <td>0.262355</td>\n",
       "      <td>0.001015</td>\n",
       "      <td>0.000934</td>\n",
       "      <td>-1.898866</td>\n",
       "      <td>-0.000935</td>\n",
       "      <td>-1.899601</td>\n",
       "      <td>-211</td>\n",
       "      <td>1</td>\n",
       "      <td>1</td>\n",
       "      <td>6</td>\n",
       "      <td>155</td>\n",
       "      <td>-1</td>\n",
       "      <td>0</td>\n",
       "      <td>0</td>\n",
       "      <td>0</td>\n",
       "      <td>2.466262</td>\n",
       "      <td>-1.382612</td>\n",
       "      <td>0.264416</td>\n",
       "      <td>-1.933594</td>\n",
       "      <td>-999.0</td>\n",
       "      <td>6.649461</td>\n",
       "      <td>1.122369</td>\n",
       "      <td>6</td>\n",
       "      <td>111</td>\n",
       "      <td>111</td>\n",
       "      <td>0</td>\n",
       "      <td>0</td>\n",
       "      <td>0</td>\n",
       "      <td>0</td>\n",
       "      <td>2.466262</td>\n",
       "      <td>-1.382612</td>\n",
       "      <td>0.264416</td>\n",
       "      <td>-1.933594</td>\n",
       "      <td>-999.0</td>\n",
       "      <td>6.649461</td>\n",
       "      <td>1.122369</td>\n",
       "      <td>6</td>\n",
       "      <td>0</td>\n",
       "      <td>0</td>\n",
       "      <td>0</td>\n",
       "      <td>0</td>\n",
       "    </tr>\n",
       "  </tbody>\n",
       "</table>\n",
       "<p>4421637 rows × 43 columns</p>\n",
       "</div>"
      ],
      "text/plain": [
       "                     tp_pt    tp_eta    tp_phi    tp_dxy     tp_d0     tp_z0  \\\n",
       "entry subentry                                                                 \n",
       "0     0         100.300301 -0.898876  0.061430  0.001250  0.000543  3.500762   \n",
       "      1           2.052715 -1.650001 -2.781972  0.001250  0.000306  3.496469   \n",
       "      2           6.453084 -0.604645 -2.807965  0.001250  0.000281  3.498704   \n",
       "      3           8.502528 -0.446424 -1.675735  0.001250  0.001191  3.499362   \n",
       "      4           7.538472 -1.650967 -1.311853  0.001250  0.001264  3.499881   \n",
       "...                    ...       ...       ...       ...       ...       ...   \n",
       "24947 131         2.515927 -1.344955  2.283078  0.000222 -0.000221  7.912414   \n",
       "      132         2.869779  1.953141 -0.978675  0.000222  0.000216  7.912527   \n",
       "      133         2.205768 -1.469311 -0.762871  0.003592  0.000253  7.909946   \n",
       "      134         2.010632 -1.296187  0.080920  0.001015  0.000989 -1.899230   \n",
       "      135         2.424364 -1.384162  0.262355  0.001015  0.000934 -1.898866   \n",
       "\n",
       "                tp_d0_prod  tp_z0_prod  tp_pdgid  tp_nmatch  tp_nloosematch  \\\n",
       "entry subentry                                                                \n",
       "0     0          -0.000073    3.499485        13          1               1   \n",
       "      1          -0.000297    3.499485       211          1               1   \n",
       "      2          -0.000265    3.499485      2212          1               1   \n",
       "      3          -0.001218    3.499485      -321          1               1   \n",
       "      4          -0.001238    3.499485      -211          1               1   \n",
       "...                    ...         ...       ...        ...             ...   \n",
       "24947 131         0.000219    7.912319     -2212          1               1   \n",
       "      132        -0.000213    7.912319       211          1               1   \n",
       "      133        -0.000266    7.902583      -321          1               1   \n",
       "      134        -0.000991   -1.899601       211          0               0   \n",
       "      135        -0.000935   -1.899601      -211          1               1   \n",
       "\n",
       "                tp_nstub  tp_eventid  tp_charge  tp_injet  tp_injet_highpt  \\\n",
       "entry subentry                                                               \n",
       "0     0                8           0         -1         1                1   \n",
       "      1                9           0          1         0                0   \n",
       "      2                8           0          1         0                0   \n",
       "      3                5           0         -1         1                0   \n",
       "      4                7           0         -1         1                0   \n",
       "...                  ...         ...        ...       ...              ...   \n",
       "24947 131              7         149         -1         0                0   \n",
       "      132              8         149          1         0                0   \n",
       "      133              9         149         -1         0                0   \n",
       "      134              6         155          1         0                0   \n",
       "      135              6         155         -1         0                0   \n",
       "\n",
       "                tp_injet_vhighpt  matchtrk_pt  matchtrk_eta  matchtrk_phi  \\\n",
       "entry subentry                                                              \n",
       "0     0                        0   102.943588     -0.900577      0.061580   \n",
       "      1                        0     2.034012     -1.651574     -2.782407   \n",
       "      2                        0     6.475194     -0.604991     -2.808045   \n",
       "      3                        0     8.506432     -0.449548     -1.675164   \n",
       "      4                        0     7.589015     -1.650129     -1.310603   \n",
       "...                          ...          ...           ...           ...   \n",
       "24947 131                      0     2.499530     -1.347972      2.285152   \n",
       "      132                      0     2.931165      1.954933     -0.979100   \n",
       "      133                      0     2.195913     -1.472945     -0.762705   \n",
       "      134                      0  -999.000000   -999.000000   -999.000000   \n",
       "      135                      0     2.466262     -1.382612      0.264416   \n",
       "\n",
       "                matchtrk_z0  matchtrk_d0  matchtrk_chi2  matchtrk_bendchi2  \\\n",
       "entry subentry                                                               \n",
       "0     0            3.574219       -999.0       7.661629           0.025519   \n",
       "      1            3.750000       -999.0       8.667765           1.376251   \n",
       "      2            3.574219       -999.0       4.947954           1.358919   \n",
       "      3            3.574219       -999.0       3.709781           0.449784   \n",
       "      4            3.457031       -999.0      18.657181           0.499871   \n",
       "...                     ...          ...            ...                ...   \n",
       "24947 131          8.144531       -999.0       7.074628           4.988648   \n",
       "      132          7.558594       -999.0       4.337594           1.048164   \n",
       "      133          8.261719       -999.0       3.615788           0.278036   \n",
       "      134       -999.000000       -999.0    -999.000000        -999.000000   \n",
       "      135         -1.933594       -999.0       6.649461           1.122369   \n",
       "\n",
       "                matchtrk_nstub  matchtrk_lhits  matchtrk_dhits  matchtrk_seed  \\\n",
       "entry subentry                                                                  \n",
       "0     0                      6          111111               0              0   \n",
       "      1                      6              11            1111              0   \n",
       "      2                      6          111111               0              0   \n",
       "      3                      5          111011               0              0   \n",
       "      4                      6              11            1111              0   \n",
       "...                        ...             ...             ...            ...   \n",
       "24947 131                    5            1111              10              0   \n",
       "      132                    6               1           11111              5   \n",
       "      133                    6             111             111              0   \n",
       "      134                 -999            -999            -999           -999   \n",
       "      135                    6             111             111              0   \n",
       "\n",
       "                matchtrk_injet  matchtrk_injet_highpt  matchtrk_injet_vhighpt  \\\n",
       "entry subentry                                                                  \n",
       "0     0                      1                      1                       0   \n",
       "      1                      0                      0                       0   \n",
       "      2                      0                      0                       0   \n",
       "      3                      1                      0                       0   \n",
       "      4                      1                      0                       0   \n",
       "...                        ...                    ...                     ...   \n",
       "24947 131                    0                      0                       0   \n",
       "      132                    0                      0                       0   \n",
       "      133                    0                      0                       0   \n",
       "      134                    0                      0                       0   \n",
       "      135                    0                      0                       0   \n",
       "\n",
       "                loosematchtrk_pt  loosematchtrk_eta  loosematchtrk_phi  \\\n",
       "entry subentry                                                           \n",
       "0     0               102.943588          -0.900577           0.061580   \n",
       "      1                 2.034012          -1.651574          -2.782407   \n",
       "      2                 6.475194          -0.604991          -2.808045   \n",
       "      3                 8.506432          -0.449548          -1.675164   \n",
       "      4                 7.589015          -1.650129          -1.310603   \n",
       "...                          ...                ...                ...   \n",
       "24947 131               2.499530          -1.347972           2.285152   \n",
       "      132               2.931165           1.954933          -0.979100   \n",
       "      133               2.195913          -1.472945          -0.762705   \n",
       "      134            -999.000000        -999.000000        -999.000000   \n",
       "      135               2.466262          -1.382612           0.264416   \n",
       "\n",
       "                loosematchtrk_z0  loosematchtrk_d0  loosematchtrk_chi2  \\\n",
       "entry subentry                                                           \n",
       "0     0                 3.574219            -999.0            7.661629   \n",
       "      1                 3.750000            -999.0            8.667765   \n",
       "      2                 3.574219            -999.0            4.947954   \n",
       "      3                 3.574219            -999.0            3.709781   \n",
       "      4                 3.457031            -999.0           18.657181   \n",
       "...                          ...               ...                 ...   \n",
       "24947 131               8.144531            -999.0            7.074628   \n",
       "      132               7.558594            -999.0            4.337594   \n",
       "      133               8.261719            -999.0            3.615788   \n",
       "      134            -999.000000            -999.0         -999.000000   \n",
       "      135              -1.933594            -999.0            6.649461   \n",
       "\n",
       "                loosematchtrk_bendchi2  loosematchtrk_nstub  \\\n",
       "entry subentry                                                \n",
       "0     0                       0.025519                    6   \n",
       "      1                       1.376251                    6   \n",
       "      2                       1.358919                    6   \n",
       "      3                       0.449784                    5   \n",
       "      4                       0.499871                    6   \n",
       "...                                ...                  ...   \n",
       "24947 131                     4.988648                    5   \n",
       "      132                     1.048164                    6   \n",
       "      133                     0.278036                    6   \n",
       "      134                  -999.000000                 -999   \n",
       "      135                     1.122369                    6   \n",
       "\n",
       "                loosematchtrk_seed  loosematchtrk_injet  \\\n",
       "entry subentry                                            \n",
       "0     0                          0                    1   \n",
       "      1                          0                    0   \n",
       "      2                          0                    0   \n",
       "      3                          0                    1   \n",
       "      4                          0                    1   \n",
       "...                            ...                  ...   \n",
       "24947 131                        0                    0   \n",
       "      132                        5                    0   \n",
       "      133                        0                    0   \n",
       "      134                     -999                    0   \n",
       "      135                        0                    0   \n",
       "\n",
       "                loosematchtrk_injet_highpt  loosematchtrk_injet_vhighpt  \n",
       "entry subentry                                                           \n",
       "0     0                                  1                            0  \n",
       "      1                                  0                            0  \n",
       "      2                                  0                            0  \n",
       "      3                                  0                            0  \n",
       "      4                                  0                            0  \n",
       "...                                    ...                          ...  \n",
       "24947 131                                0                            0  \n",
       "      132                                0                            0  \n",
       "      133                                0                            0  \n",
       "      134                                0                            0  \n",
       "      135                                0                            0  \n",
       "\n",
       "[4421637 rows x 43 columns]"
      ]
     },
     "execution_count": 37,
     "metadata": {},
     "output_type": "execute_result"
    }
   ],
   "source": [
    "tp"
   ]
  },
  {
   "cell_type": "code",
   "execution_count": 38,
   "metadata": {},
   "outputs": [
    {
     "data": {
      "image/png": "[encoded data removed]",
      "text/plain": [
       "<Figure size 720x720 with 1 Axes>"
      ]
     },
     "metadata": {
      "needs_background": "light"
     },
     "output_type": "display_data"
    }
   ],
   "source": [
    "tp.loc[mask_pv_me & mask_no_sv_me].groupby(level=0)[\"tp_z0\"].mean().hist(\n",
    "    bins=10, range=(-5.0, 5.0), histtype=\"step\"\n",
    ")\n",
    "true_z0_me = tp.loc[mask_pv_me & mask_no_sv_me].groupby(level=0)[\"tp_z0\"].mean()"
   ]
  },
  {
   "cell_type": "markdown",
   "metadata": {},
   "source": [
    "let's compare this with the solution from Rob (making sure to use uproot 3)"
   ]
  },
  {
   "cell_type": "code",
   "execution_count": 39,
   "metadata": {},
   "outputs": [],
   "source": [
    "import uproot3"
   ]
  },
  {
   "cell_type": "code",
   "execution_count": 40,
   "metadata": {},
   "outputs": [],
   "source": [
    "f3 = uproot3.open(\"../00.root\")\n",
    "events3 = f3[\"L1TrackNtuple/eventTree\"]"
   ]
  },
  {
   "cell_type": "code",
   "execution_count": 41,
   "metadata": {},
   "outputs": [],
   "source": [
    "tp_vertex_id = events3[\"tp_eventid\"].array()\n",
    "tp_z0 = events3[\"tp_z0\"].array()\n",
    "tp_d0 = events3[\"tp_d0\"].array()\n",
    "trk_z0 = events3[\"trk_z0\"].array()\n",
    "trk_pt = events3[\"trk_pt\"].array()\n",
    "mask = tp_vertex_id == 0\n",
    "mask_no_sv = np.abs(tp_d0) < 0.01\n",
    "true_z0 = tp_z0[mask & mask_no_sv].mean()\n",
    "matchtrk_z0 = events3[\"matchtrk_z0\"].array()"
   ]
  },
  {
   "cell_type": "code",
   "execution_count": 42,
   "metadata": {},
   "outputs": [],
   "source": [
    "be = np.linspace(-5, 5, 11)"
   ]
  },
  {
   "cell_type": "code",
   "execution_count": 43,
   "metadata": {},
   "outputs": [
    {
     "data": {
      "text/plain": [
       "Text(0.5, 1.0, 'Comparing the two methods of getting the $z_0$')"
      ]
     },
     "execution_count": 43,
     "metadata": {},
     "output_type": "execute_result"
    },
    {
     "data": {
      "image/png": "[encoded data removed]",
      "text/plain": [
       "<Figure size 576x432 with 1 Axes>"
      ]
     },
     "metadata": {
      "needs_background": "light"
     },
     "output_type": "display_data"
    }
   ],
   "source": [
    "fig, ax = plt.subplots(figsize=(8, 6))\n",
    "\n",
    "h_rob, _, _ = ax.hist(true_z0, bins=be, histtype=\"step\", label=\"rob\", lw=3)\n",
    "h_me, _, _ = ax.hist(true_z0_me, bins=be, label=\"me\", lw=0)\n",
    "ax.legend()\n",
    "ax.set_ylabel(\"Frequency\")\n",
    "ax.set_xlabel(r\"True $z_0$\")\n",
    "ax.set_title(\"Comparing the two methods of getting the $z_0$\", fontsize=24)"
   ]
  },
  {
   "cell_type": "markdown",
   "metadata": {},
   "source": [
    "This compares the method I use to get the True $z_0$ which is based on reading the data as a multiindexed pandas df by using uproot 4, versus the jaggedArray that uproot 3 interprets the data as. \n",
    "With this we can now define a function to return a dataframe of all the true $z_0$ values"
   ]
  },
  {
   "cell_type": "code",
   "execution_count": 44,
   "metadata": {},
   "outputs": [],
   "source": [
    "def true_z0(df: pd.DataFrame) -> pd.DataFrame:\n",
    "\n",
    "    mask_pv = df[\"tp_eventid\"] == 0\n",
    "    mask_no_sv = np.abs(df[\"tp_d0\"]) < 0.01\n",
    "\n",
    "    z0 = df.loc[mask_pv & mask_no_sv].groupby(level=0)[\"tp_z0\"].mean()\n",
    "    return z0"
   ]
  },
  {
   "cell_type": "code",
   "execution_count": 47,
   "metadata": {},
   "outputs": [],
   "source": [
    "z0_gen = true_z0(tp)"
   ]
  },
  {
   "cell_type": "code",
   "execution_count": 48,
   "metadata": {},
   "outputs": [
    {
     "data": {
      "text/plain": [
       "entry\n",
       "0        3.499750\n",
       "1        0.338214\n",
       "2       -2.649157\n",
       "3        1.543104\n",
       "4        2.421834\n",
       "           ...   \n",
       "24943    1.910414\n",
       "24944   -2.066012\n",
       "24945   -2.285170\n",
       "24946   -4.809160\n",
       "24947    0.305602\n",
       "Name: tp_z0, Length: 24948, dtype: float32"
      ]
     },
     "execution_count": 48,
     "metadata": {},
     "output_type": "execute_result"
    }
   ],
   "source": [
    "z0_gen"
   ]
  },
  {
   "cell_type": "markdown",
   "metadata": {},
   "source": [
    "# Primary Vertex Benchmarks"
   ]
  },
  {
   "cell_type": "markdown",
   "metadata": {},
   "source": [
    "To quantify how well the primary vertices have been reconstructed the efficiencies can be utilized. The equation below describes the efficiency of the reconstructed primary vertices with respect to the truth primary vertices. Result should be a scalar quantity, but it can be binned as a function of $z_0$"
   ]
  },
  {
   "cell_type": "markdown",
   "metadata": {},
   "source": [
    "$$ \\varepsilon = \\frac{N_{reco, Vx}}{N_{truth, Vx}} $$ "
   ]
  },
  {
   "cell_type": "markdown",
   "metadata": {},
   "source": [
    "The primary vertex is reconstructed correctly by the clustering algorithm if the $z_0$ is within the accepted resolution window ($\\delta$), which is taken to be $\\delta = 0.1$ cm"
   ]
  },
  {
   "cell_type": "markdown",
   "metadata": {},
   "source": [
    "$$ |z_{truth} - z_{reco} | < \\delta $$ "
   ]
  },
  {
   "cell_type": "markdown",
   "metadata": {},
   "source": [
    "In each clustering algorithm, the primary vertex is obtained by the this highest scalar sum of $p_T$ of the tracks pertaining to that cluster\n",
    "$$ \\sum_{tracks} p_{T}^{tracks}$$"
   ]
  },
  {
   "cell_type": "markdown",
   "metadata": {},
   "source": [
    "# FastHisto - baseline"
   ]
  },
  {
   "cell_type": "markdown",
   "metadata": {},
   "source": [
    "From what I understand this algorithm creates a histogram of the $z_0$ that gets weighted by the $p_T$ of the each track. From Davide Cieri's thesis, the optional bin-width of FastHisto was $\\varepsilon = 0.15$ cm. This can then be used to find the Primary vertices"
   ]
  },
  {
   "cell_type": "code",
   "execution_count": 49,
   "metadata": {},
   "outputs": [],
   "source": [
    "be = np.arange(-15, 15.15, 0.15)  # z_0 in [-15, 15]"
   ]
  },
  {
   "cell_type": "code",
   "execution_count": 50,
   "metadata": {},
   "outputs": [
    {
     "data": {
      "text/plain": [
       "Text(1, 0, '$z_0$ [cm]')"
      ]
     },
     "execution_count": 50,
     "metadata": {},
     "output_type": "execute_result"
    },
    {
     "data": {
      "image/png": "[encoded data removed]",
      "text/plain": [
       "<Figure size 720x720 with 1 Axes>"
      ]
     },
     "metadata": {
      "needs_background": "light"
     },
     "output_type": "display_data"
    }
   ],
   "source": [
    "h, be, _ = plt.hist(\n",
    "    event1[\"trk_z0\"].values, bins=be, histtype=\"step\", weights=event1[\"trk_pt\"]\n",
    ")\n",
    "plt.xlabel(r\"$z_0$ [cm]\")"
   ]
  },
  {
   "cell_type": "markdown",
   "metadata": {},
   "source": [
    "Quite clearly we can see where the primary vertex is."
   ]
  },
  {
   "cell_type": "code",
   "execution_count": 52,
   "metadata": {},
   "outputs": [
    {
     "data": {
      "text/plain": [
       "123"
      ]
     },
     "execution_count": 52,
     "metadata": {},
     "output_type": "execute_result"
    }
   ],
   "source": [
    "np.argmax(h)"
   ]
  },
  {
   "cell_type": "markdown",
   "metadata": {},
   "source": [
    "To find the \"reco\" $z_0$ from fast histo, we will find all of the tracks that fall within the bin with the highest peak and then calculate the mean. "
   ]
  },
  {
   "cell_type": "code",
   "execution_count": 56,
   "metadata": {},
   "outputs": [],
   "source": [
    "mask = (event1[\"trk_z0\"] > be[123]) & (event1[\"trk_z0\"] < be[124])"
   ]
  },
  {
   "cell_type": "code",
   "execution_count": 57,
   "metadata": {},
   "outputs": [
    {
     "name": "stdout",
     "output_type": "stream",
     "text": [
      "3.5078125\n"
     ]
    }
   ],
   "source": [
    "fast_histo1 = event1.loc[mask, \"trk_z0\"].mean()\n",
    "print(fast_histo1)"
   ]
  },
  {
   "cell_type": "code",
   "execution_count": 59,
   "metadata": {},
   "outputs": [
    {
     "data": {
      "text/plain": [
       "3.4997501"
      ]
     },
     "execution_count": 59,
     "metadata": {},
     "output_type": "execute_result"
    }
   ],
   "source": [
    "z0_gen[0]"
   ]
  },
  {
   "cell_type": "code",
   "execution_count": 61,
   "metadata": {},
   "outputs": [
    {
     "name": "stdout",
     "output_type": "stream",
     "text": [
      "The primary vertex has been reconstructed within the tolerance level of 0.1 cm\n"
     ]
    }
   ],
   "source": [
    "if np.abs(fast_histo1 - z0_gen[0]) < 0.1:\n",
    "    print(\n",
    "        \"The primary vertex has been reconstructed within the tolerance level of 0.1 cm\"\n",
    "    )\n",
    "else:\n",
    "    print(\n",
    "        \"The primary vertex has NOT been reconstructed within the tolerance level of 0.1 cm\"\n",
    "    )"
   ]
  },
  {
   "cell_type": "code",
   "execution_count": 83,
   "metadata": {},
   "outputs": [
    {
     "data": {
      "text/plain": [
       "Text(0.5, 1.0, 'FastHisto Single Event Example')"
      ]
     },
     "execution_count": 83,
     "metadata": {},
     "output_type": "execute_result"
    },
    {
     "data": {
      "image/png": "[encoded data removed]",
      "text/plain": [
       "<Figure size 720x720 with 1 Axes>"
      ]
     },
     "metadata": {
      "needs_background": "light"
     },
     "output_type": "display_data"
    }
   ],
   "source": [
    "h, be, _ = plt.hist(\n",
    "    event1[\"trk_z0\"].values,\n",
    "    bins=be,\n",
    "    histtype=\"step\",\n",
    "    weights=event1[\"trk_pt\"],\n",
    "    label=\"reco\",\n",
    ")\n",
    "h_tp, _, _ = plt.hist(\n",
    "    event1_tp[\"tp_z0\"].values,\n",
    "    bins=be,\n",
    "    histtype=\"step\",\n",
    "    weights=event1_tp[\"tp_pt\"],\n",
    "    label=\"truth\",\n",
    "    ls=\"--\",\n",
    "    alpha=0.5,\n",
    ")\n",
    "plt.plot(fast_histo1, h[123], \"+\", markersize=24, label=\"primary vertex\")\n",
    "plt.legend()\n",
    "plt.xlabel(r\"$z_0$ [cm]\")\n",
    "plt.title(\"FastHisto Single Event Example\")"
   ]
  },
  {
   "cell_type": "code",
   "execution_count": 88,
   "metadata": {},
   "outputs": [],
   "source": [
    "x = 0.5 * (be[1:] + be[:-1])"
   ]
  },
  {
   "cell_type": "code",
   "execution_count": 96,
   "metadata": {},
   "outputs": [
    {
     "data": {
      "text/plain": [
       "[<matplotlib.lines.Line2D at 0x7f9e02e3ed00>]"
      ]
     },
     "execution_count": 96,
     "metadata": {},
     "output_type": "execute_result"
    },
    {
     "data": {
      "image/png": "[encoded data removed]",
      "text/plain": [
       "<Figure size 720x720 with 1 Axes>"
      ]
     },
     "metadata": {
      "needs_background": "light"
     },
     "output_type": "display_data"
    }
   ],
   "source": [
    "plt.plot(x, (h - h_tp), \"r+\")"
   ]
  },
  {
   "cell_type": "markdown",
   "metadata": {},
   "source": [
    "This serves as a check that we understand how fast histo should be used to reconstruct primary vertices. We should now wrap this into a function that does it for all of the events."
   ]
  },
  {
   "cell_type": "code",
   "execution_count": 64,
   "metadata": {},
   "outputs": [
    {
     "data": {
      "text/plain": [
       "3.5791016"
      ]
     },
     "execution_count": 64,
     "metadata": {},
     "output_type": "execute_result"
    }
   ],
   "source": [
    "event1.trk_z0.values[\n",
    "    np.where((event1.trk_z0.values < 3.65) & (event1.trk_z0.values > 3.50))\n",
    "].mean()"
   ]
  },
  {
   "cell_type": "code",
   "execution_count": 65,
   "metadata": {},
   "outputs": [],
   "source": [
    "def fastHisto(z0, pt, be):\n",
    "\n",
    "    h = np.histogram(z0, bins=be, weights=pt)[0]\n",
    "    max_idx = np.argmax(h)\n",
    "    bin_lower = be[max_idx]\n",
    "    bin_upper = be[max_idx + 1]\n",
    "    mask = (z0 > bin_lower) & (z0 < bin_upper)\n",
    "    z0_reco = z0[mask].mean()\n",
    "\n",
    "    return z0_reco"
   ]
  },
  {
   "cell_type": "code",
   "execution_count": 67,
   "metadata": {},
   "outputs": [],
   "source": [
    "z0_fastHisto = trk.groupby(level=0).apply(\n",
    "    lambda x: fastHisto(x[\"trk_z0\"], x[\"trk_pt\"], be)\n",
    ")"
   ]
  },
  {
   "cell_type": "code",
   "execution_count": 68,
   "metadata": {},
   "outputs": [],
   "source": [
    "reco = pd.concat([z0_gen, z0_fastHisto], axis=1)"
   ]
  },
  {
   "cell_type": "code",
   "execution_count": 69,
   "metadata": {},
   "outputs": [],
   "source": [
    "reco.columns = [\"z0_gen\", \"z0_fastHisto\"]"
   ]
  },
  {
   "cell_type": "code",
   "execution_count": 70,
   "metadata": {},
   "outputs": [],
   "source": [
    "def primary_vertex_efficiency(\n",
    "    z0_gen: np.array, z0_reco: np.array, delta: float = 0.1\n",
    ") -> pd.DataFrame:\n",
    "    mask = np.abs(z0_gen - z0_reco) < delta\n",
    "\n",
    "    total = z0_gen.shape[0]\n",
    "\n",
    "    reconstructed = z0_gen[mask].shape[0]\n",
    "\n",
    "    return 100 * (reconstructed / total)"
   ]
  },
  {
   "cell_type": "code",
   "execution_count": 71,
   "metadata": {},
   "outputs": [
    {
     "data": {
      "text/plain": [
       "65.92111592111593"
      ]
     },
     "execution_count": 71,
     "metadata": {},
     "output_type": "execute_result"
    }
   ],
   "source": [
    "primary_vertex_efficiency(reco[\"z0_gen\"].values, reco[\"z0_fastHisto\"].values)"
   ]
  },
  {
   "cell_type": "markdown",
   "metadata": {},
   "source": [
    "Fast Histo seems to get a 98 \\% Primary vertex reconstruction efficiency, which is pretty crazy, but this is perhaps either because it is the small subset file to test on or because it is the \"truth\" values that we are using to train on instead of the \"track\" parameters."
   ]
  },
  {
   "cell_type": "markdown",
   "metadata": {},
   "source": [
    "## Efficiency as a function of $z_{0}$"
   ]
  },
  {
   "cell_type": "code",
   "execution_count": 97,
   "metadata": {},
   "outputs": [],
   "source": [
    "start, stop, step = -15, 15, 0.5\n",
    "be_eff = np.arange(start, stop + step, step)"
   ]
  },
  {
   "cell_type": "code",
   "execution_count": 98,
   "metadata": {},
   "outputs": [
    {
     "data": {
      "text/plain": [
       "array([-15. , -14.5, -14. , -13.5, -13. , -12.5, -12. , -11.5, -11. ,\n",
       "       -10.5, -10. ,  -9.5,  -9. ,  -8.5,  -8. ,  -7.5,  -7. ,  -6.5,\n",
       "        -6. ,  -5.5,  -5. ,  -4.5,  -4. ,  -3.5,  -3. ,  -2.5,  -2. ,\n",
       "        -1.5,  -1. ,  -0.5,   0. ,   0.5,   1. ,   1.5,   2. ,   2.5,\n",
       "         3. ,   3.5,   4. ,   4.5,   5. ,   5.5,   6. ,   6.5,   7. ,\n",
       "         7.5,   8. ,   8.5,   9. ,   9.5,  10. ,  10.5,  11. ,  11.5,\n",
       "        12. ,  12.5,  13. ,  13.5,  14. ,  14.5,  15. ])"
      ]
     },
     "execution_count": 98,
     "metadata": {},
     "output_type": "execute_result"
    }
   ],
   "source": [
    "be_eff"
   ]
  },
  {
   "cell_type": "code",
   "execution_count": 99,
   "metadata": {},
   "outputs": [
    {
     "data": {
      "text/plain": [
       "61"
      ]
     },
     "execution_count": 99,
     "metadata": {},
     "output_type": "execute_result"
    }
   ],
   "source": [
    "len(be_eff)"
   ]
  },
  {
   "cell_type": "code",
   "execution_count": 108,
   "metadata": {},
   "outputs": [],
   "source": [
    "def binominal_error(k, n):\n",
    "    yerr = (1 / n) * np.sqrt(k * (1 - (k / n)))\n",
    "    return yerr"
   ]
  },
  {
   "cell_type": "code",
   "execution_count": 109,
   "metadata": {},
   "outputs": [],
   "source": [
    "def poissonian_error(k, n):\n",
    "\n",
    "    yerr = (1 / n) * np.sqrt(k)\n",
    "\n",
    "    return yerr"
   ]
  },
  {
   "cell_type": "code",
   "execution_count": 110,
   "metadata": {},
   "outputs": [],
   "source": [
    "def bayesian_error(k, n):\n",
    "\n",
    "    V = (((k + 1) * (k + 2)) / ((n + 2) * (n + 3))) - (((k + 1) ** 2) / ((n + 2) ** 2))\n",
    "    yerr = np.sqrt(V)\n",
    "    return yerr"
   ]
  },
  {
   "cell_type": "code",
   "execution_count": 101,
   "metadata": {},
   "outputs": [],
   "source": [
    "def bin_width_error(bin_edges):\n",
    "    \"\"\"\n",
    "    Determines the horizontal (x) error of a bin  by calculating half the bin size\n",
    "    :param bin_edges:\n",
    "    :return: xerr array containing the absolute magnitude of the error in x\n",
    "    \"\"\"\n",
    "    # determines the error in a bin by +/- half of the bin_width\n",
    "    xerr = []\n",
    "    for k in range(len(bin_edges)):\n",
    "        if k != (len(bin_edges) - 1):\n",
    "            x1 = bin_edges[k]\n",
    "            x2 = bin_edges[k + 1]\n",
    "            bin_error = (x2 - x1) / 2\n",
    "            xerr.append(bin_error)\n",
    "    xerr = np.asarray(xerr)\n",
    "    return xerr"
   ]
  },
  {
   "cell_type": "code",
   "execution_count": 116,
   "metadata": {},
   "outputs": [],
   "source": [
    "eff = []\n",
    "error_y = []\n",
    "for i in range(len(be_eff)):\n",
    "    if i == len(be_eff) - 1:\n",
    "        break\n",
    "    mask = (reco[\"z0_gen\"] > be_eff[i]) & (reco[\"z0_gen\"] < be_eff[i + 1])\n",
    "\n",
    "    mask_true = np.abs(reco[\"z0_gen\"] - reco[\"z0_fastHisto\"]) < 0.1\n",
    "\n",
    "    total_bin = reco[mask].shape[0]\n",
    "    reco_bin = reco[mask & mask_true].shape[0]\n",
    "\n",
    "    error_y.append(binominal_error(reco_bin, total_bin + 0.0000001))\n",
    "\n",
    "    eff.append(reco_bin / (total_bin + 0.000001))"
   ]
  },
  {
   "cell_type": "code",
   "execution_count": 117,
   "metadata": {},
   "outputs": [],
   "source": [
    "error_x = bin_width_error(be_eff)"
   ]
  },
  {
   "cell_type": "code",
   "execution_count": 118,
   "metadata": {},
   "outputs": [],
   "source": [
    "bin_midpoint = 0.5 * (be_eff[:-1] + be_eff[1:])"
   ]
  },
  {
   "cell_type": "code",
   "execution_count": 119,
   "metadata": {},
   "outputs": [
    {
     "data": {
      "text/plain": [
       "array([-14.75, -14.25, -13.75, -13.25, -12.75, -12.25, -11.75, -11.25,\n",
       "       -10.75, -10.25,  -9.75,  -9.25,  -8.75,  -8.25,  -7.75,  -7.25,\n",
       "        -6.75,  -6.25,  -5.75,  -5.25,  -4.75,  -4.25,  -3.75,  -3.25,\n",
       "        -2.75,  -2.25,  -1.75,  -1.25,  -0.75,  -0.25,   0.25,   0.75,\n",
       "         1.25,   1.75,   2.25,   2.75,   3.25,   3.75,   4.25,   4.75,\n",
       "         5.25,   5.75,   6.25,   6.75,   7.25,   7.75,   8.25,   8.75,\n",
       "         9.25,   9.75,  10.25,  10.75,  11.25,  11.75,  12.25,  12.75,\n",
       "        13.25,  13.75,  14.25,  14.75])"
      ]
     },
     "execution_count": 119,
     "metadata": {},
     "output_type": "execute_result"
    }
   ],
   "source": [
    "bin_midpoint"
   ]
  },
  {
   "cell_type": "code",
   "execution_count": 121,
   "metadata": {},
   "outputs": [
    {
     "data": {
      "text/plain": [
       "Text(0, 1, 'Primary Vertex Reconstruction efficiency [%]')"
      ]
     },
     "execution_count": 121,
     "metadata": {},
     "output_type": "execute_result"
    },
    {
     "data": {
      "image/png": "[encoded data removed]",
      "text/plain": [
       "<Figure size 720x720 with 1 Axes>"
      ]
     },
     "metadata": {
      "needs_background": "light"
     },
     "output_type": "display_data"
    }
   ],
   "source": [
    "plt.errorbar(\n",
    "    bin_midpoint,\n",
    "    100 * np.array(eff),\n",
    "    xerr=error_x,\n",
    "    yerr=100 * np.array(error_y),\n",
    "    fmt=\"k+\",\n",
    ")\n",
    "plt.xlabel(r\"$z_0$\")\n",
    "plt.ylabel(\"Primary Vertex Reconstruction efficiency [%]\", fontsize=18)"
   ]
  },
  {
   "cell_type": "markdown",
   "metadata": {},
   "source": [
    "Ok this is weird, but it could be an effect of the low stats that we have (~250 events) its also good to see that some bins seem to give reasonable values"
   ]
  },
  {
   "cell_type": "code",
   "execution_count": 122,
   "metadata": {},
   "outputs": [],
   "source": [
    "def plot_pv_efficiency_z0(z0_gen: np.array, z0_reco: np.array, bins: np.array):\n",
    "\n",
    "    eff = np.zeros(bins.shape[0] - 1)\n",
    "    error_y = np.zeros(bins.shape[0] - 1)\n",
    "\n",
    "    for i, _ in enumerate(bins):\n",
    "        if i == bins.shape[0] - 1:\n",
    "            break\n",
    "        mask = (z0_gen > bins[i]) & (z0_gen < bins[i + 1])\n",
    "        mask_true = np.abs(z0_gen - z0_reco) < 0.1\n",
    "        n = z0_gen[mask].shape[0]\n",
    "\n",
    "        k = z0_gen[mask & mask_true].shape[0]\n",
    "        eff[i] = k / (n + 0.0001)\n",
    "        error_y[i] = binominal_error(k, (n + 0.0001))\n",
    "\n",
    "    x = 0.5 * (bins[1:] + bins[:-1])\n",
    "    error_x = 0.5 * (bins[1:] - bins[:-1])\n",
    "\n",
    "    plt.errorbar(\n",
    "        x,\n",
    "        100 * eff,\n",
    "        xerr=error_x,\n",
    "        yerr=100 * error_y,\n",
    "        fmt=\"k+\",\n",
    "    )\n",
    "    plt.xlabel(r\"$z_0$\")\n",
    "    plt.ylabel(\"Primary Vertex Reconstruction efficiency [%]\", fontsize=18)"
   ]
  },
  {
   "cell_type": "code",
   "execution_count": 123,
   "metadata": {
    "tags": []
   },
   "outputs": [
    {
     "data": {
      "image/png": "[encoded data removed]",
      "text/plain": [
       "<Figure size 720x720 with 1 Axes>"
      ]
     },
     "metadata": {
      "needs_background": "light"
     },
     "output_type": "display_data"
    }
   ],
   "source": [
    "plot_pv_efficiency_z0(reco[\"z0_gen\"].values, reco[\"z0_fastHisto\"].values, bins=be_eff)"
   ]
  },
  {
   "cell_type": "code",
   "execution_count": 126,
   "metadata": {},
   "outputs": [],
   "source": [
    "def plot_pv_resolution_z0(\n",
    "    z0_gen: np.array, z0_reco: np.array, bins: np.array, ylim: list = [0, 0.5]\n",
    "):\n",
    "\n",
    "    mean_resolution = np.zeros(bins.shape[0] - 1)\n",
    "    error_resolution = np.zeros(bins.shape[0] - 1)\n",
    "    mask_true = np.abs(z0_gen - z0_reco) < 0.1\n",
    "    for i, _ in enumerate(bins):\n",
    "        if i == bins.shape[0] - 1:\n",
    "            break\n",
    "        mask = (z0_gen > bins[i]) & (z0_gen < bins[i + 1])\n",
    "        resolution = np.abs(z0_gen[mask & mask_true] - z0_reco[mask & mask_true])\n",
    "\n",
    "        mean_resolution[i] = np.mean(resolution)\n",
    "        error_resolution[i] = np.std(resolution)\n",
    "\n",
    "    x = 0.5 * (bins[1:] + bins[:-1])\n",
    "    error_x = 0.5 * (bins[1:] - bins[:-1])\n",
    "\n",
    "    plt.errorbar(\n",
    "        x,\n",
    "        mean_resolution,\n",
    "        xerr=error_x,\n",
    "        yerr=error_resolution,\n",
    "        fmt=\"k+\",\n",
    "    )\n",
    "    plt.xlabel(r\"$z_0$\")\n",
    "    plt.ylabel(r\"$|z_{Gen} - z_{reco}|$ [cm]\", fontsize=18)\n",
    "    plt.ylim(ylim)"
   ]
  },
  {
   "cell_type": "code",
   "execution_count": 127,
   "metadata": {},
   "outputs": [
    {
     "name": "stderr",
     "output_type": "stream",
     "text": [
      "/Users/lucas/opt/anaconda3/envs/db-clustering/lib/python3.8/site-packages/numpy/core/fromnumeric.py:3440: RuntimeWarning: Mean of empty slice.\n",
      "  return _methods._mean(a, axis=axis, dtype=dtype,\n",
      "/Users/lucas/opt/anaconda3/envs/db-clustering/lib/python3.8/site-packages/numpy/core/_methods.py:189: RuntimeWarning: invalid value encountered in true_divide\n",
      "  ret = ret.dtype.type(ret / rcount)\n",
      "/Users/lucas/opt/anaconda3/envs/db-clustering/lib/python3.8/site-packages/numpy/core/_methods.py:262: RuntimeWarning: Degrees of freedom <= 0 for slice\n",
      "  ret = _var(a, axis=axis, dtype=dtype, out=out, ddof=ddof,\n",
      "/Users/lucas/opt/anaconda3/envs/db-clustering/lib/python3.8/site-packages/numpy/core/_methods.py:222: RuntimeWarning: invalid value encountered in true_divide\n",
      "  arrmean = um.true_divide(arrmean, div, out=arrmean, casting='unsafe',\n",
      "/Users/lucas/opt/anaconda3/envs/db-clustering/lib/python3.8/site-packages/numpy/core/_methods.py:254: RuntimeWarning: invalid value encountered in true_divide\n",
      "  ret = ret.dtype.type(ret / rcount)\n"
     ]
    },
    {
     "data": {
      "image/png": "[encoded data removed]",
      "text/plain": [
       "<Figure size 720x720 with 1 Axes>"
      ]
     },
     "metadata": {
      "needs_background": "light"
     },
     "output_type": "display_data"
    }
   ],
   "source": [
    "plot_pv_resolution_z0(\n",
    "    reco[\"z0_gen\"].values, reco[\"z0_fastHisto\"].values, bins=be_eff, ylim=[0, 0.1]\n",
    ")"
   ]
  },
  {
   "cell_type": "markdown",
   "metadata": {},
   "source": [
    "I think this looks more comparable with davide Cieris' thesis now"
   ]
  },
  {
   "cell_type": "markdown",
   "metadata": {},
   "source": [
    "Statistical uncertainty can be reduced by including more statistics"
   ]
  },
  {
   "cell_type": "code",
   "execution_count": null,
   "metadata": {},
   "outputs": [],
   "source": []
  },
  {
   "cell_type": "markdown",
   "metadata": {},
   "source": [
    "# Testing dbscan"
   ]
  },
  {
   "cell_type": "markdown",
   "metadata": {},
   "source": [
    "Lets test how dbscan works for this single event. The most optimal results were obtained with DBSCAN parameters:\n",
    "- minPts = 2 \n",
    "- $\\varepsilon$ = 0.15 cm \n",
    "(from Davide Cierri)"
   ]
  },
  {
   "cell_type": "code",
   "execution_count": 128,
   "metadata": {},
   "outputs": [],
   "source": [
    "from sklearn.cluster import DBSCAN"
   ]
  },
  {
   "cell_type": "code",
   "execution_count": null,
   "metadata": {},
   "outputs": [],
   "source": []
  },
  {
   "cell_type": "code",
   "execution_count": 129,
   "metadata": {},
   "outputs": [],
   "source": [
    "z0 = event1[\"trk_z0\"].values"
   ]
  },
  {
   "cell_type": "code",
   "execution_count": 130,
   "metadata": {},
   "outputs": [],
   "source": [
    "db_clustering = DBSCAN(eps=0.15, min_samples=2).fit(z0.reshape(-1, 1))"
   ]
  },
  {
   "cell_type": "code",
   "execution_count": 131,
   "metadata": {},
   "outputs": [
    {
     "data": {
      "text/plain": [
       "array([ 0,  1,  0,  2,  2, -1,  3,  2,  4,  2,  2,  4,  3,  2,  4,  4,  2,\n",
       "        2,  5,  5,  5,  2,  5,  2,  5,  5,  5,  2,  2,  6,  2, -1,  5,  2,\n",
       "        4,  1,  7,  7,  3,  3,  2,  8,  2,  6,  4,  2,  2,  7,  0,  7,  6,\n",
       "        2,  5,  7,  7,  9,  6,  2,  3,  2,  3,  2,  2,  2,  4, 10,  5,  5,\n",
       "        0,  2,  0,  7,  5,  7,  3,  6, -1,  3,  2,  0,  3,  3,  3,  5,  6,\n",
       "        3,  3, 11,  4,  6,  4,  2,  4,  3,  2,  3,  3,  5,  7,  5,  4,  5,\n",
       "        2,  9,  5,  6,  6,  3,  5,  5,  2,  0,  2,  6,  3,  2,  6,  7, 12,\n",
       "        6,  3,  7,  3,  2,  3,  3,  5,  3,  3, -1,  2,  4,  3,  3,  4,  7,\n",
       "        3,  3,  2,  3,  3,  4,  3,  3, -1,  7, -1,  5,  5,  5,  0,  4,  3,\n",
       "        5,  5,  5,  5,  3,  5,  3, -1,  2,  0,  2,  5,  7, -1,  5,  2,  3,\n",
       "        2,  3,  4,  2,  3,  2,  0,  3,  7,  5, -1, -1,  3,  2,  4,  7,  7,\n",
       "       11,  5,  3,  3,  4,  2,  4,  2,  0,  2,  0, -1,  2,  2,  2,  4,  2,\n",
       "        0,  3,  3,  3,  3,  3,  5, 12, 13, 10,  4,  5,  2,  6,  6,  6, 13,\n",
       "        6,  4,  6,  5,  5,  3,  5,  5,  5,  5,  0,  8,  5,  7, -1,  4,  6,\n",
       "        2])"
      ]
     },
     "execution_count": 131,
     "metadata": {},
     "output_type": "execute_result"
    }
   ],
   "source": [
    "db_clustering.labels_"
   ]
  },
  {
   "cell_type": "code",
   "execution_count": 132,
   "metadata": {},
   "outputs": [
    {
     "data": {
      "text/plain": [
       "239"
      ]
     },
     "execution_count": 132,
     "metadata": {},
     "output_type": "execute_result"
    }
   ],
   "source": [
    "len(db_clustering.labels_)"
   ]
  },
  {
   "cell_type": "code",
   "execution_count": 133,
   "metadata": {},
   "outputs": [
    {
     "name": "stderr",
     "output_type": "stream",
     "text": [
      "/var/folders/6z/z5fs58w94yj6n956c8v6f_6r0000gn/T/ipykernel_11472/199606235.py:1: SettingWithCopyWarning: \n",
      "A value is trying to be set on a copy of a slice from a DataFrame.\n",
      "Try using .loc[row_indexer,col_indexer] = value instead\n",
      "\n",
      "See the caveats in the documentation: https://pandas.pydata.org/pandas-docs/stable/user_guide/indexing.html#returning-a-view-versus-a-copy\n",
      "  event1[\"dbscan_labels\"] = db_clustering.labels_\n"
     ]
    }
   ],
   "source": [
    "event1[\"dbscan_labels\"] = db_clustering.labels_"
   ]
  },
  {
   "cell_type": "code",
   "execution_count": 144,
   "metadata": {},
   "outputs": [],
   "source": [
    "mean_z0_dbscan = event1.groupby([\"dbscan_labels\"]).agg(\n",
    "    {\"dbscan_labels\": \"count\", \"trk_z0\": \"median\", \"trk_pt\": \"sum\"}\n",
    ")"
   ]
  },
  {
   "cell_type": "code",
   "execution_count": 159,
   "metadata": {},
   "outputs": [
    {
     "data": {
      "text/plain": [
       "dbscan_labels     48.000000\n",
       "trk_z0             3.457031\n",
       "trk_pt           307.070190\n",
       "Name: 3, dtype: float64"
      ]
     },
     "execution_count": 159,
     "metadata": {},
     "output_type": "execute_result"
    }
   ],
   "source": [
    "mean_z0_dbscan.sort_values(by=[\"trk_pt\"], ascending=False).iloc[0, :]"
   ]
  },
  {
   "cell_type": "code",
   "execution_count": 146,
   "metadata": {},
   "outputs": [
    {
     "data": {
      "image/png": "[encoded data removed]",
      "text/plain": [
       "<Figure size 1728x288 with 1 Axes>"
      ]
     },
     "metadata": {
      "needs_background": "light"
     },
     "output_type": "display_data"
    }
   ],
   "source": [
    "fig, ax = plt.subplots(figsize=(24, 4))\n",
    "colors = [\n",
    "    matplotlib.cm.Spectral(float(i) / 10 * random.random())\n",
    "    for i in range(len(mean_z0_dbscan))\n",
    "]\n",
    "ax.scatter(\n",
    "    mean_z0_dbscan[\"trk_z0\"],\n",
    "    len(mean_z0_dbscan) * [1],\n",
    "    s=mean_z0_dbscan[\"dbscan_labels\"] * 20,\n",
    "    color=colors,\n",
    ")\n",
    "ax.set_xlabel(r\"$z_{0}$ [cm]\", fontsize=32)\n",
    "y = 1\n",
    "# for i, (txt, x) in enumerate(zip(mean_z0.index.values, mean_z0[\"tp_z0\"].values)):\n",
    "#     #     if y == 0:\n",
    "#     #         y = 1.025\n",
    "#     #     else:\n",
    "#     #         y = 0.975\n",
    "\n",
    "#     ax.annotate(txt, (x, y + random.uniform(-0.050, 0.050)), fontsize=10)\n",
    "ax.plot(\n",
    "    mean_z0_dbscan[\"trk_z0\"][3],\n",
    "    [1],\n",
    "    linestyle=\"None\",\n",
    "    marker=\"*\",\n",
    "    markerfacecolor=\"None\",\n",
    "    markersize=32,\n",
    "    markeredgewidth=5,\n",
    "    markeredgecolor=\"gold\",\n",
    "    label=\"primary vertex\",\n",
    ")\n",
    "ax.legend()\n",
    "_ = ax.set_yticklabels([])"
   ]
  },
  {
   "cell_type": "markdown",
   "metadata": {},
   "source": [
    "## DBSCAN For All events"
   ]
  },
  {
   "cell_type": "code",
   "execution_count": null,
   "metadata": {},
   "outputs": [],
   "source": []
  },
  {
   "cell_type": "code",
   "execution_count": 184,
   "metadata": {},
   "outputs": [],
   "source": [
    "def pv_dbscan(z0, pt):\n",
    "\n",
    "    results = pd.DataFrame({})\n",
    "\n",
    "    results[\"trk_z0\"] = z0\n",
    "    results[\"trk_pt\"] = pt\n",
    "\n",
    "    db_clustering = DBSCAN(eps=0.08, min_samples=2).fit(z0.values.reshape(-1, 1))\n",
    "\n",
    "    results[\"dbscan_labels\"] = db_clustering.labels_\n",
    "\n",
    "    mean_z0_dbscan = results.groupby([\"dbscan_labels\"]).agg(\n",
    "        {\"dbscan_labels\": \"count\", \"trk_z0\": \"median\", \"trk_pt\": \"sum\"}\n",
    "    )\n",
    "\n",
    "    return mean_z0_dbscan.sort_values(by=[\"trk_pt\"], ascending=False).iloc[0, :]"
   ]
  },
  {
   "cell_type": "code",
   "execution_count": 185,
   "metadata": {},
   "outputs": [],
   "source": [
    "z0_dbscan = trk.groupby(level=0).apply(lambda x: pv_dbscan(x[\"trk_z0\"], x[\"trk_pt\"]))"
   ]
  },
  {
   "cell_type": "code",
   "execution_count": 186,
   "metadata": {},
   "outputs": [
    {
     "data": {
      "text/html": [
       "<div>\n",
       "<style scoped>\n",
       "    .dataframe tbody tr th:only-of-type {\n",
       "        vertical-align: middle;\n",
       "    }\n",
       "\n",
       "    .dataframe tbody tr th {\n",
       "        vertical-align: top;\n",
       "    }\n",
       "\n",
       "    .dataframe thead th {\n",
       "        text-align: right;\n",
       "    }\n",
       "</style>\n",
       "<table border=\"1\" class=\"dataframe\">\n",
       "  <thead>\n",
       "    <tr style=\"text-align: right;\">\n",
       "      <th></th>\n",
       "      <th>dbscan_labels</th>\n",
       "      <th>trk_z0</th>\n",
       "      <th>trk_pt</th>\n",
       "    </tr>\n",
       "    <tr>\n",
       "      <th>entry</th>\n",
       "      <th></th>\n",
       "      <th></th>\n",
       "      <th></th>\n",
       "    </tr>\n",
       "  </thead>\n",
       "  <tbody>\n",
       "    <tr>\n",
       "      <th>0</th>\n",
       "      <td>34.0</td>\n",
       "      <td>3.515625</td>\n",
       "      <td>261.538940</td>\n",
       "    </tr>\n",
       "    <tr>\n",
       "      <th>1</th>\n",
       "      <td>18.0</td>\n",
       "      <td>0.205078</td>\n",
       "      <td>138.669434</td>\n",
       "    </tr>\n",
       "    <tr>\n",
       "      <th>2</th>\n",
       "      <td>16.0</td>\n",
       "      <td>-2.578125</td>\n",
       "      <td>153.659012</td>\n",
       "    </tr>\n",
       "    <tr>\n",
       "      <th>3</th>\n",
       "      <td>22.0</td>\n",
       "      <td>1.464844</td>\n",
       "      <td>100.312935</td>\n",
       "    </tr>\n",
       "    <tr>\n",
       "      <th>4</th>\n",
       "      <td>24.0</td>\n",
       "      <td>-3.750000</td>\n",
       "      <td>70.215225</td>\n",
       "    </tr>\n",
       "    <tr>\n",
       "      <th>...</th>\n",
       "      <td>...</td>\n",
       "      <td>...</td>\n",
       "      <td>...</td>\n",
       "    </tr>\n",
       "    <tr>\n",
       "      <th>24943</th>\n",
       "      <td>30.0</td>\n",
       "      <td>-0.410156</td>\n",
       "      <td>80.503448</td>\n",
       "    </tr>\n",
       "    <tr>\n",
       "      <th>24944</th>\n",
       "      <td>33.0</td>\n",
       "      <td>-2.050781</td>\n",
       "      <td>221.086456</td>\n",
       "    </tr>\n",
       "    <tr>\n",
       "      <th>24945</th>\n",
       "      <td>34.0</td>\n",
       "      <td>-2.285156</td>\n",
       "      <td>211.943390</td>\n",
       "    </tr>\n",
       "    <tr>\n",
       "      <th>24946</th>\n",
       "      <td>24.0</td>\n",
       "      <td>-4.863281</td>\n",
       "      <td>149.823471</td>\n",
       "    </tr>\n",
       "    <tr>\n",
       "      <th>24947</th>\n",
       "      <td>18.0</td>\n",
       "      <td>0.234375</td>\n",
       "      <td>123.895996</td>\n",
       "    </tr>\n",
       "  </tbody>\n",
       "</table>\n",
       "<p>24948 rows × 3 columns</p>\n",
       "</div>"
      ],
      "text/plain": [
       "       dbscan_labels    trk_z0      trk_pt\n",
       "entry                                     \n",
       "0               34.0  3.515625  261.538940\n",
       "1               18.0  0.205078  138.669434\n",
       "2               16.0 -2.578125  153.659012\n",
       "3               22.0  1.464844  100.312935\n",
       "4               24.0 -3.750000   70.215225\n",
       "...              ...       ...         ...\n",
       "24943           30.0 -0.410156   80.503448\n",
       "24944           33.0 -2.050781  221.086456\n",
       "24945           34.0 -2.285156  211.943390\n",
       "24946           24.0 -4.863281  149.823471\n",
       "24947           18.0  0.234375  123.895996\n",
       "\n",
       "[24948 rows x 3 columns]"
      ]
     },
     "execution_count": 186,
     "metadata": {},
     "output_type": "execute_result"
    }
   ],
   "source": [
    "z0_dbscan"
   ]
  },
  {
   "cell_type": "code",
   "execution_count": 187,
   "metadata": {},
   "outputs": [
    {
     "data": {
      "text/html": [
       "<div>\n",
       "<style scoped>\n",
       "    .dataframe tbody tr th:only-of-type {\n",
       "        vertical-align: middle;\n",
       "    }\n",
       "\n",
       "    .dataframe tbody tr th {\n",
       "        vertical-align: top;\n",
       "    }\n",
       "\n",
       "    .dataframe thead th {\n",
       "        text-align: right;\n",
       "    }\n",
       "</style>\n",
       "<table border=\"1\" class=\"dataframe\">\n",
       "  <thead>\n",
       "    <tr style=\"text-align: right;\">\n",
       "      <th></th>\n",
       "      <th>z0_gen</th>\n",
       "      <th>z0_fastHisto</th>\n",
       "      <th>z0_dbscan</th>\n",
       "    </tr>\n",
       "    <tr>\n",
       "      <th>entry</th>\n",
       "      <th></th>\n",
       "      <th></th>\n",
       "      <th></th>\n",
       "    </tr>\n",
       "  </thead>\n",
       "  <tbody>\n",
       "    <tr>\n",
       "      <th>0</th>\n",
       "      <td>3.499750</td>\n",
       "      <td>3.507812</td>\n",
       "      <td>2.050781</td>\n",
       "    </tr>\n",
       "    <tr>\n",
       "      <th>1</th>\n",
       "      <td>0.338214</td>\n",
       "      <td>0.234375</td>\n",
       "      <td>0.878906</td>\n",
       "    </tr>\n",
       "    <tr>\n",
       "      <th>2</th>\n",
       "      <td>-2.649157</td>\n",
       "      <td>-2.607422</td>\n",
       "      <td>-0.439453</td>\n",
       "    </tr>\n",
       "    <tr>\n",
       "      <th>3</th>\n",
       "      <td>1.543104</td>\n",
       "      <td>1.582031</td>\n",
       "      <td>1.406250</td>\n",
       "    </tr>\n",
       "    <tr>\n",
       "      <th>4</th>\n",
       "      <td>2.421834</td>\n",
       "      <td>2.333984</td>\n",
       "      <td>-0.878906</td>\n",
       "    </tr>\n",
       "    <tr>\n",
       "      <th>...</th>\n",
       "      <td>...</td>\n",
       "      <td>...</td>\n",
       "      <td>...</td>\n",
       "    </tr>\n",
       "    <tr>\n",
       "      <th>24943</th>\n",
       "      <td>1.910414</td>\n",
       "      <td>1.851562</td>\n",
       "      <td>0.468750</td>\n",
       "    </tr>\n",
       "    <tr>\n",
       "      <th>24944</th>\n",
       "      <td>-2.066012</td>\n",
       "      <td>-2.024740</td>\n",
       "      <td>-1.933594</td>\n",
       "    </tr>\n",
       "    <tr>\n",
       "      <th>24945</th>\n",
       "      <td>-2.285170</td>\n",
       "      <td>-2.316406</td>\n",
       "      <td>0.761719</td>\n",
       "    </tr>\n",
       "    <tr>\n",
       "      <th>24946</th>\n",
       "      <td>-4.809160</td>\n",
       "      <td>-4.712612</td>\n",
       "      <td>1.816406</td>\n",
       "    </tr>\n",
       "    <tr>\n",
       "      <th>24947</th>\n",
       "      <td>0.305602</td>\n",
       "      <td>0.251116</td>\n",
       "      <td>0.644531</td>\n",
       "    </tr>\n",
       "  </tbody>\n",
       "</table>\n",
       "<p>24948 rows × 3 columns</p>\n",
       "</div>"
      ],
      "text/plain": [
       "         z0_gen  z0_fastHisto  z0_dbscan\n",
       "entry                                   \n",
       "0      3.499750      3.507812   2.050781\n",
       "1      0.338214      0.234375   0.878906\n",
       "2     -2.649157     -2.607422  -0.439453\n",
       "3      1.543104      1.582031   1.406250\n",
       "4      2.421834      2.333984  -0.878906\n",
       "...         ...           ...        ...\n",
       "24943  1.910414      1.851562   0.468750\n",
       "24944 -2.066012     -2.024740  -1.933594\n",
       "24945 -2.285170     -2.316406   0.761719\n",
       "24946 -4.809160     -4.712612   1.816406\n",
       "24947  0.305602      0.251116   0.644531\n",
       "\n",
       "[24948 rows x 3 columns]"
      ]
     },
     "execution_count": 187,
     "metadata": {},
     "output_type": "execute_result"
    }
   ],
   "source": [
    "reco"
   ]
  },
  {
   "cell_type": "code",
   "execution_count": 188,
   "metadata": {},
   "outputs": [],
   "source": [
    "reco[\"z0_dbscan\"] = z0_dbscan[\"trk_z0\"]"
   ]
  },
  {
   "cell_type": "code",
   "execution_count": 189,
   "metadata": {},
   "outputs": [
    {
     "data": {
      "text/plain": [
       "65.92111592111593"
      ]
     },
     "execution_count": 189,
     "metadata": {},
     "output_type": "execute_result"
    }
   ],
   "source": [
    "primary_vertex_efficiency(reco[\"z0_gen\"].values, reco[\"z0_fastHisto\"].values)"
   ]
  },
  {
   "cell_type": "code",
   "execution_count": 190,
   "metadata": {},
   "outputs": [
    {
     "data": {
      "text/plain": [
       "74.58313291646625"
      ]
     },
     "execution_count": 190,
     "metadata": {},
     "output_type": "execute_result"
    }
   ],
   "source": [
    "primary_vertex_efficiency(reco[\"z0_gen\"].values, reco[\"z0_dbscan\"].values)"
   ]
  },
  {
   "cell_type": "code",
   "execution_count": 191,
   "metadata": {},
   "outputs": [
    {
     "data": {
      "image/png": "[encoded data removed]",
      "text/plain": [
       "<Figure size 720x720 with 1 Axes>"
      ]
     },
     "metadata": {
      "needs_background": "light"
     },
     "output_type": "display_data"
    }
   ],
   "source": [
    "plot_pv_efficiency_z0(reco[\"z0_gen\"].values, reco[\"z0_dbscan\"].values, bins=be_eff)"
   ]
  },
  {
   "cell_type": "markdown",
   "metadata": {},
   "source": [
    "# HDBSCAN test"
   ]
  },
  {
   "cell_type": "code",
   "execution_count": 211,
   "metadata": {},
   "outputs": [],
   "source": [
    "from hdbscan import HDBSCAN"
   ]
  },
  {
   "cell_type": "code",
   "execution_count": 227,
   "metadata": {},
   "outputs": [],
   "source": [
    "def pv_hdbscan(z0, pt):\n",
    "\n",
    "    results = pd.DataFrame({})\n",
    "\n",
    "    results[\"trk_z0\"] = z0\n",
    "    results[\"trk_pt\"] = pt\n",
    "\n",
    "    clustering = HDBSCAN(min_samples=4).fit(z0.values.reshape(-1, 1))\n",
    "\n",
    "    results[\"hdbscan_labels\"] = clustering.labels_\n",
    "\n",
    "    mean_z0_dbscan = results.groupby([\"hdbscan_labels\"]).agg(\n",
    "        {\"hdbscan_labels\": \"count\", \"trk_z0\": \"median\", \"trk_pt\": \"sum\"}\n",
    "    )\n",
    "\n",
    "    return mean_z0_dbscan.sort_values(by=[\"trk_pt\"], ascending=False).iloc[0, :]"
   ]
  },
  {
   "cell_type": "code",
   "execution_count": 228,
   "metadata": {},
   "outputs": [],
   "source": [
    "z0_hdbscan = trk.groupby(level=0).apply(lambda x: pv_hdbscan(x[\"trk_z0\"], x[\"trk_pt\"]))"
   ]
  },
  {
   "cell_type": "code",
   "execution_count": 229,
   "metadata": {},
   "outputs": [],
   "source": [
    "reco[\"z0_hdbscan\"] = z0_hdbscan[\"trk_z0\"]"
   ]
  },
  {
   "cell_type": "code",
   "execution_count": 230,
   "metadata": {},
   "outputs": [
    {
     "data": {
      "text/plain": [
       "29.801988135321466"
      ]
     },
     "execution_count": 230,
     "metadata": {},
     "output_type": "execute_result"
    }
   ],
   "source": [
    "primary_vertex_efficiency(reco[\"z0_gen\"].values, reco[\"z0_hdbscan\"].values)"
   ]
  },
  {
   "cell_type": "code",
   "execution_count": null,
   "metadata": {},
   "outputs": [],
   "source": []
  },
  {
   "cell_type": "code",
   "execution_count": 231,
   "metadata": {},
   "outputs": [
    {
     "data": {
      "image/png": "[encoded data removed]",
      "text/plain": [
       "<Figure size 720x720 with 1 Axes>"
      ]
     },
     "metadata": {
      "needs_background": "light"
     },
     "output_type": "display_data"
    }
   ],
   "source": [
    "plot_pv_efficiency_z0(reco[\"z0_gen\"].values, reco[\"z0_hdbscan\"].values, bins=be_eff)"
   ]
  },
  {
   "cell_type": "code",
   "execution_count": 232,
   "metadata": {},
   "outputs": [
    {
     "name": "stderr",
     "output_type": "stream",
     "text": [
      "/Users/lucas/opt/anaconda3/envs/db-clustering/lib/python3.8/site-packages/numpy/core/fromnumeric.py:3440: RuntimeWarning: Mean of empty slice.\n",
      "  return _methods._mean(a, axis=axis, dtype=dtype,\n",
      "/Users/lucas/opt/anaconda3/envs/db-clustering/lib/python3.8/site-packages/numpy/core/_methods.py:189: RuntimeWarning: invalid value encountered in double_scalars\n",
      "  ret = ret.dtype.type(ret / rcount)\n",
      "/Users/lucas/opt/anaconda3/envs/db-clustering/lib/python3.8/site-packages/numpy/core/_methods.py:262: RuntimeWarning: Degrees of freedom <= 0 for slice\n",
      "  ret = _var(a, axis=axis, dtype=dtype, out=out, ddof=ddof,\n",
      "/Users/lucas/opt/anaconda3/envs/db-clustering/lib/python3.8/site-packages/numpy/core/_methods.py:222: RuntimeWarning: invalid value encountered in true_divide\n",
      "  arrmean = um.true_divide(arrmean, div, out=arrmean, casting='unsafe',\n",
      "/Users/lucas/opt/anaconda3/envs/db-clustering/lib/python3.8/site-packages/numpy/core/_methods.py:254: RuntimeWarning: invalid value encountered in double_scalars\n",
      "  ret = ret.dtype.type(ret / rcount)\n"
     ]
    },
    {
     "data": {
      "image/png": "[encoded data removed]",
      "text/plain": [
       "<Figure size 720x720 with 1 Axes>"
      ]
     },
     "metadata": {
      "needs_background": "light"
     },
     "output_type": "display_data"
    }
   ],
   "source": [
    "plot_pv_resolution_z0(\n",
    "    reco[\"z0_gen\"].values, reco[\"z0_hdbscan\"].values, bins=be_eff, ylim=[0, 0.1]\n",
    ")"
   ]
  },
  {
   "cell_type": "markdown",
   "metadata": {},
   "source": [
    "**Quite surprisingly, HDBSCAN, does not perform well at all. Primary vertex efficiency is below 40% for everything**"
   ]
  },
  {
   "cell_type": "markdown",
   "metadata": {},
   "source": [
    "# Hyper Parameter scan"
   ]
  },
  {
   "cell_type": "markdown",
   "metadata": {},
   "source": [
    "It is clear that we should look into how the performance of both dbscan, hdbscan and fastHisto vary with the different hyperparameters"
   ]
  },
  {
   "cell_type": "markdown",
   "metadata": {},
   "source": [
    "## FastHisto Bin widths scan"
   ]
  },
  {
   "cell_type": "code",
   "execution_count": 218,
   "metadata": {},
   "outputs": [],
   "source": [
    "bin_widths = [0.05, 0.1, 0.15, 0.20, 0.25, 0.30, 0.35]"
   ]
  },
  {
   "cell_type": "code",
   "execution_count": 240,
   "metadata": {},
   "outputs": [
    {
     "name": "stdout",
     "output_type": "stream",
     "text": [
      "0.05\n",
      "0.1\n",
      "0.15\n",
      "0.2\n",
      "0.25\n",
      "0.3\n",
      "0.35\n"
     ]
    }
   ],
   "source": [
    "for bin_width in bin_widths:\n",
    "    print(bin_width)\n",
    "    be = np.arange(-15, 15 + bin_width, bin_width)\n",
    "\n",
    "    _z0_fastHisto = trk.groupby(level=0).apply(\n",
    "        lambda x: fastHisto(x[\"trk_z0\"], x[\"trk_pt\"], be)\n",
    "    )\n",
    "\n",
    "    reco[f\"z0_fastHisto_{bin_width}\"] = _z0_fastHisto"
   ]
  },
  {
   "cell_type": "code",
   "execution_count": 245,
   "metadata": {},
   "outputs": [],
   "source": [
    "fast_histo_eff = []\n",
    "for bin_width in bin_widths:\n",
    "\n",
    "    fast_histo_eff.append(\n",
    "        primary_vertex_efficiency(\n",
    "            reco[\"z0_gen\"].values, reco[f\"z0_fastHisto_{bin_width}\"]\n",
    "        )\n",
    "    )"
   ]
  },
  {
   "cell_type": "code",
   "execution_count": 259,
   "metadata": {},
   "outputs": [
    {
     "data": {
      "text/plain": [
       "Text(0.05, 69, 'Max Efficiency 69.26 (%)')"
      ]
     },
     "execution_count": 259,
     "metadata": {},
     "output_type": "execute_result"
    },
    {
     "data": {
      "image/png": "[encoded data removed]",
      "text/plain": [
       "<Figure size 720x720 with 1 Axes>"
      ]
     },
     "metadata": {
      "needs_background": "light"
     },
     "output_type": "display_data"
    }
   ],
   "source": [
    "plt.plot(bin_widths, fast_histo_eff, \"+-\", lw=2, color=\"dodgerblue\")\n",
    "plt.ylabel(\"Primary Vertex Reconstruction Efficiency (%)\")\n",
    "plt.xlabel(\"FastHisto bin width\")\n",
    "plt.text(\n",
    "    0.05,\n",
    "    69,\n",
    "    f\"Max Efficiency {round(max(fast_histo_eff),2)} (%)\",\n",
    ")"
   ]
  },
  {
   "cell_type": "markdown",
   "metadata": {},
   "source": [
    "## DBSCAN Optimization"
   ]
  },
  {
   "cell_type": "code",
   "execution_count": 263,
   "metadata": {},
   "outputs": [],
   "source": [
    "def pv_dbscan(z0, pt, eps, min_samples):\n",
    "\n",
    "    results = pd.DataFrame({})\n",
    "\n",
    "    results[\"trk_z0\"] = z0\n",
    "    results[\"trk_pt\"] = pt\n",
    "\n",
    "    db_clustering = DBSCAN(eps=eps, min_samples=min_samples).fit(\n",
    "        z0.values.reshape(-1, 1)\n",
    "    )\n",
    "\n",
    "    results[\"dbscan_labels\"] = db_clustering.labels_\n",
    "\n",
    "    mean_z0_dbscan = results.groupby([\"dbscan_labels\"]).agg(\n",
    "        {\"dbscan_labels\": \"count\", \"trk_z0\": \"median\", \"trk_pt\": \"sum\"}\n",
    "    )\n",
    "\n",
    "    return mean_z0_dbscan.sort_values(by=[\"trk_pt\"], ascending=False).iloc[0, :]"
   ]
  },
  {
   "cell_type": "code",
   "execution_count": 260,
   "metadata": {},
   "outputs": [],
   "source": [
    "eps_values = [0.01, 0.05, 0.08, 0.1, 0.15, 0.20, 0.25]\n",
    "min_pts = [2, 3, 4, 5, 6]"
   ]
  },
  {
   "cell_type": "code",
   "execution_count": 265,
   "metadata": {},
   "outputs": [
    {
     "name": "stdout",
     "output_type": "stream",
     "text": [
      "0.01 2\n",
      "0.01 3\n",
      "0.01 4\n",
      "0.01 5\n",
      "0.01 6\n",
      "0.05 2\n",
      "0.05 3\n",
      "0.05 4\n",
      "0.05 5\n",
      "0.05 6\n",
      "0.08 2\n",
      "0.08 3\n",
      "0.08 4\n",
      "0.08 5\n",
      "0.08 6\n",
      "0.1 2\n",
      "0.1 3\n",
      "0.1 4\n",
      "0.1 5\n",
      "0.1 6\n",
      "0.15 2\n",
      "0.15 3\n",
      "0.15 4\n",
      "0.15 5\n",
      "0.15 6\n",
      "0.2 2\n",
      "0.2 3\n",
      "0.2 4\n",
      "0.2 5\n",
      "0.2 6\n",
      "0.25 2\n",
      "0.25 3\n",
      "0.25 4\n",
      "0.25 5\n",
      "0.25 6\n"
     ]
    }
   ],
   "source": [
    "for eps in eps_values:\n",
    "    for min_samples in min_pts:\n",
    "        print(eps, min_samples)\n",
    "        z0_dbscan = trk.groupby(level=0).apply(\n",
    "            lambda x: pv_dbscan(x[\"trk_z0\"], x[\"trk_pt\"], eps, min_samples)\n",
    "        )\n",
    "\n",
    "        reco[f\"z0_dbscan_e{eps}_min_{min_samples}\"] = z0_dbscan[\"trk_z0\"]"
   ]
  },
  {
   "cell_type": "code",
   "execution_count": 265,
   "metadata": {},
   "outputs": [
    {
     "ename": "TypeError",
     "evalue": "isinstance() arg 2 must be a type or tuple of types",
     "output_type": "error",
     "traceback": [
      "\u001b[0;31m---------------------------------------------------------------------------\u001b[0m",
      "\u001b[0;31mTypeError\u001b[0m                                 Traceback (most recent call last)",
      "\u001b[0;32m~/opt/anaconda3/envs/db-clustering/lib/python3.8/site-packages/IPython/core/async_helpers.py\u001b[0m in \u001b[0;36m_pseudo_sync_runner\u001b[0;34m(coro)\u001b[0m\n\u001b[1;32m     66\u001b[0m     \"\"\"\n\u001b[1;32m     67\u001b[0m     \u001b[0;32mtry\u001b[0m\u001b[0;34m:\u001b[0m\u001b[0;34m\u001b[0m\u001b[0;34m\u001b[0m\u001b[0m\n\u001b[0;32m---> 68\u001b[0;31m         \u001b[0mcoro\u001b[0m\u001b[0;34m.\u001b[0m\u001b[0msend\u001b[0m\u001b[0;34m(\u001b[0m\u001b[0;32mNone\u001b[0m\u001b[0;34m)\u001b[0m\u001b[0;34m\u001b[0m\u001b[0;34m\u001b[0m\u001b[0m\n\u001b[0m\u001b[1;32m     69\u001b[0m     \u001b[0;32mexcept\u001b[0m \u001b[0mStopIteration\u001b[0m \u001b[0;32mas\u001b[0m \u001b[0mexc\u001b[0m\u001b[0;34m:\u001b[0m\u001b[0;34m\u001b[0m\u001b[0;34m\u001b[0m\u001b[0m\n\u001b[1;32m     70\u001b[0m         \u001b[0;32mreturn\u001b[0m \u001b[0mexc\u001b[0m\u001b[0;34m.\u001b[0m\u001b[0mvalue\u001b[0m\u001b[0;34m\u001b[0m\u001b[0;34m\u001b[0m\u001b[0m\n",
      "\u001b[0;32m~/opt/anaconda3/envs/db-clustering/lib/python3.8/site-packages/IPython/core/interactiveshell.py\u001b[0m in \u001b[0;36mrun_cell_async\u001b[0;34m(self, raw_cell, store_history, silent, shell_futures, transformed_cell, preprocessing_exc_tuple)\u001b[0m\n\u001b[1;32m   3163\u001b[0m                 \u001b[0;31m# Give the displayhook a reference to our ExecutionResult so it\u001b[0m\u001b[0;34m\u001b[0m\u001b[0;34m\u001b[0m\u001b[0;34m\u001b[0m\u001b[0m\n\u001b[1;32m   3164\u001b[0m                 \u001b[0;31m# can fill in the output value.\u001b[0m\u001b[0;34m\u001b[0m\u001b[0;34m\u001b[0m\u001b[0;34m\u001b[0m\u001b[0m\n\u001b[0;32m-> 3165\u001b[0;31m                 \u001b[0mself\u001b[0m\u001b[0;34m.\u001b[0m\u001b[0mdisplayhook\u001b[0m\u001b[0;34m.\u001b[0m\u001b[0mexec_result\u001b[0m \u001b[0;34m=\u001b[0m \u001b[0mresult\u001b[0m\u001b[0;34m\u001b[0m\u001b[0;34m\u001b[0m\u001b[0m\n\u001b[0m\u001b[1;32m   3166\u001b[0m \u001b[0;34m\u001b[0m\u001b[0m\n\u001b[1;32m   3167\u001b[0m                 \u001b[0;31m# Execute the user code\u001b[0m\u001b[0;34m\u001b[0m\u001b[0;34m\u001b[0m\u001b[0;34m\u001b[0m\u001b[0m\n",
      "\u001b[0;32m~/opt/anaconda3/envs/db-clustering/lib/python3.8/site-packages/traitlets/traitlets.py\u001b[0m in \u001b[0;36m__set__\u001b[0;34m(self, obj, value)\u001b[0m\n\u001b[1;32m    604\u001b[0m             \u001b[0;32mraise\u001b[0m \u001b[0mTraitError\u001b[0m\u001b[0;34m(\u001b[0m\u001b[0;34m'The \"%s\" trait is read-only.'\u001b[0m \u001b[0;34m%\u001b[0m \u001b[0mself\u001b[0m\u001b[0;34m.\u001b[0m\u001b[0mname\u001b[0m\u001b[0;34m)\u001b[0m\u001b[0;34m\u001b[0m\u001b[0;34m\u001b[0m\u001b[0m\n\u001b[1;32m    605\u001b[0m         \u001b[0;32melse\u001b[0m\u001b[0;34m:\u001b[0m\u001b[0;34m\u001b[0m\u001b[0;34m\u001b[0m\u001b[0m\n\u001b[0;32m--> 606\u001b[0;31m             \u001b[0mself\u001b[0m\u001b[0;34m.\u001b[0m\u001b[0mset\u001b[0m\u001b[0;34m(\u001b[0m\u001b[0mobj\u001b[0m\u001b[0;34m,\u001b[0m \u001b[0mvalue\u001b[0m\u001b[0;34m)\u001b[0m\u001b[0;34m\u001b[0m\u001b[0;34m\u001b[0m\u001b[0m\n\u001b[0m\u001b[1;32m    607\u001b[0m \u001b[0;34m\u001b[0m\u001b[0m\n\u001b[1;32m    608\u001b[0m     \u001b[0;32mdef\u001b[0m \u001b[0m_validate\u001b[0m\u001b[0;34m(\u001b[0m\u001b[0mself\u001b[0m\u001b[0;34m,\u001b[0m \u001b[0mobj\u001b[0m\u001b[0;34m,\u001b[0m \u001b[0mvalue\u001b[0m\u001b[0;34m)\u001b[0m\u001b[0;34m:\u001b[0m\u001b[0;34m\u001b[0m\u001b[0;34m\u001b[0m\u001b[0m\n",
      "\u001b[0;32m~/opt/anaconda3/envs/db-clustering/lib/python3.8/site-packages/traitlets/traitlets.py\u001b[0m in \u001b[0;36mset\u001b[0;34m(self, obj, value)\u001b[0m\n\u001b[1;32m    578\u001b[0m \u001b[0;34m\u001b[0m\u001b[0m\n\u001b[1;32m    579\u001b[0m     \u001b[0;32mdef\u001b[0m \u001b[0mset\u001b[0m\u001b[0;34m(\u001b[0m\u001b[0mself\u001b[0m\u001b[0;34m,\u001b[0m \u001b[0mobj\u001b[0m\u001b[0;34m,\u001b[0m \u001b[0mvalue\u001b[0m\u001b[0;34m)\u001b[0m\u001b[0;34m:\u001b[0m\u001b[0;34m\u001b[0m\u001b[0;34m\u001b[0m\u001b[0m\n\u001b[0;32m--> 580\u001b[0;31m         \u001b[0mnew_value\u001b[0m \u001b[0;34m=\u001b[0m \u001b[0mself\u001b[0m\u001b[0;34m.\u001b[0m\u001b[0m_validate\u001b[0m\u001b[0;34m(\u001b[0m\u001b[0mobj\u001b[0m\u001b[0;34m,\u001b[0m \u001b[0mvalue\u001b[0m\u001b[0;34m)\u001b[0m\u001b[0;34m\u001b[0m\u001b[0;34m\u001b[0m\u001b[0m\n\u001b[0m\u001b[1;32m    581\u001b[0m         \u001b[0;32mtry\u001b[0m\u001b[0;34m:\u001b[0m\u001b[0;34m\u001b[0m\u001b[0;34m\u001b[0m\u001b[0m\n\u001b[1;32m    582\u001b[0m             \u001b[0mold_value\u001b[0m \u001b[0;34m=\u001b[0m \u001b[0mobj\u001b[0m\u001b[0;34m.\u001b[0m\u001b[0m_trait_values\u001b[0m\u001b[0;34m[\u001b[0m\u001b[0mself\u001b[0m\u001b[0;34m.\u001b[0m\u001b[0mname\u001b[0m\u001b[0;34m]\u001b[0m\u001b[0;34m\u001b[0m\u001b[0;34m\u001b[0m\u001b[0m\n",
      "\u001b[0;32m~/opt/anaconda3/envs/db-clustering/lib/python3.8/site-packages/traitlets/traitlets.py\u001b[0m in \u001b[0;36m_validate\u001b[0;34m(self, obj, value)\u001b[0m\n\u001b[1;32m    610\u001b[0m             \u001b[0;32mreturn\u001b[0m \u001b[0mvalue\u001b[0m\u001b[0;34m\u001b[0m\u001b[0;34m\u001b[0m\u001b[0m\n\u001b[1;32m    611\u001b[0m         \u001b[0;32mif\u001b[0m \u001b[0mhasattr\u001b[0m\u001b[0;34m(\u001b[0m\u001b[0mself\u001b[0m\u001b[0;34m,\u001b[0m \u001b[0;34m'validate'\u001b[0m\u001b[0;34m)\u001b[0m\u001b[0;34m:\u001b[0m\u001b[0;34m\u001b[0m\u001b[0;34m\u001b[0m\u001b[0m\n\u001b[0;32m--> 612\u001b[0;31m             \u001b[0mvalue\u001b[0m \u001b[0;34m=\u001b[0m \u001b[0mself\u001b[0m\u001b[0;34m.\u001b[0m\u001b[0mvalidate\u001b[0m\u001b[0;34m(\u001b[0m\u001b[0mobj\u001b[0m\u001b[0;34m,\u001b[0m \u001b[0mvalue\u001b[0m\u001b[0;34m)\u001b[0m\u001b[0;34m\u001b[0m\u001b[0;34m\u001b[0m\u001b[0m\n\u001b[0m\u001b[1;32m    613\u001b[0m         \u001b[0;32mif\u001b[0m \u001b[0mobj\u001b[0m\u001b[0;34m.\u001b[0m\u001b[0m_cross_validation_lock\u001b[0m \u001b[0;32mis\u001b[0m \u001b[0;32mFalse\u001b[0m\u001b[0;34m:\u001b[0m\u001b[0;34m\u001b[0m\u001b[0;34m\u001b[0m\u001b[0m\n\u001b[1;32m    614\u001b[0m             \u001b[0mvalue\u001b[0m \u001b[0;34m=\u001b[0m \u001b[0mself\u001b[0m\u001b[0;34m.\u001b[0m\u001b[0m_cross_validate\u001b[0m\u001b[0;34m(\u001b[0m\u001b[0mobj\u001b[0m\u001b[0;34m,\u001b[0m \u001b[0mvalue\u001b[0m\u001b[0;34m)\u001b[0m\u001b[0;34m\u001b[0m\u001b[0;34m\u001b[0m\u001b[0m\n",
      "\u001b[0;32m~/opt/anaconda3/envs/db-clustering/lib/python3.8/site-packages/traitlets/traitlets.py\u001b[0m in \u001b[0;36mvalidate\u001b[0;34m(self, obj, value)\u001b[0m\n\u001b[1;32m   1846\u001b[0m \u001b[0;34m\u001b[0m\u001b[0m\n\u001b[1;32m   1847\u001b[0m     \u001b[0;32mdef\u001b[0m \u001b[0mvalidate\u001b[0m\u001b[0;34m(\u001b[0m\u001b[0mself\u001b[0m\u001b[0;34m,\u001b[0m \u001b[0mobj\u001b[0m\u001b[0;34m,\u001b[0m \u001b[0mvalue\u001b[0m\u001b[0;34m)\u001b[0m\u001b[0;34m:\u001b[0m\u001b[0;34m\u001b[0m\u001b[0;34m\u001b[0m\u001b[0m\n\u001b[0;32m-> 1848\u001b[0;31m         \u001b[0;32mif\u001b[0m \u001b[0misinstance\u001b[0m\u001b[0;34m(\u001b[0m\u001b[0mvalue\u001b[0m\u001b[0;34m,\u001b[0m \u001b[0mself\u001b[0m\u001b[0;34m.\u001b[0m\u001b[0mklass\u001b[0m\u001b[0;34m)\u001b[0m\u001b[0;34m:\u001b[0m\u001b[0;34m\u001b[0m\u001b[0;34m\u001b[0m\u001b[0m\n\u001b[0m\u001b[1;32m   1849\u001b[0m             \u001b[0;32mreturn\u001b[0m \u001b[0mvalue\u001b[0m\u001b[0;34m\u001b[0m\u001b[0;34m\u001b[0m\u001b[0m\n\u001b[1;32m   1850\u001b[0m         \u001b[0;32melse\u001b[0m\u001b[0;34m:\u001b[0m\u001b[0;34m\u001b[0m\u001b[0;34m\u001b[0m\u001b[0m\n",
      "\u001b[0;31mTypeError\u001b[0m: isinstance() arg 2 must be a type or tuple of types"
     ]
    },
    {
     "name": "stdout",
     "output_type": "stream",
     "text": [
      "Error in callback <bound method BlackFormatter.format_cell of <lab_black.BlackFormatter object at 0x7f9e30e4f640>> (for post_run_cell):\n"
     ]
    },
    {
     "ename": "KeyError",
     "evalue": "'_i272'",
     "output_type": "error",
     "traceback": [
      "\u001b[0;31m---------------------------------------------------------------------------\u001b[0m",
      "\u001b[0;31mKeyError\u001b[0m                                  Traceback (most recent call last)",
      "\u001b[0;32m~/opt/anaconda3/envs/db-clustering/lib/python3.8/site-packages/lab_black.py\u001b[0m in \u001b[0;36mformat_cell\u001b[0;34m(self, *args, **kwargs)\u001b[0m\n\u001b[1;32m    206\u001b[0m             \u001b[0mcell_id\u001b[0m \u001b[0;34m=\u001b[0m \u001b[0mlen\u001b[0m\u001b[0;34m(\u001b[0m\u001b[0mself\u001b[0m\u001b[0;34m.\u001b[0m\u001b[0mshell\u001b[0m\u001b[0;34m.\u001b[0m\u001b[0muser_ns\u001b[0m\u001b[0;34m[\u001b[0m\u001b[0;34m\"In\"\u001b[0m\u001b[0;34m]\u001b[0m\u001b[0;34m)\u001b[0m \u001b[0;34m-\u001b[0m \u001b[0;36m1\u001b[0m\u001b[0;34m\u001b[0m\u001b[0;34m\u001b[0m\u001b[0m\n\u001b[1;32m    207\u001b[0m             \u001b[0;32mif\u001b[0m \u001b[0mcell_id\u001b[0m \u001b[0;34m>\u001b[0m \u001b[0;36m0\u001b[0m\u001b[0;34m:\u001b[0m\u001b[0;34m\u001b[0m\u001b[0;34m\u001b[0m\u001b[0m\n\u001b[0;32m--> 208\u001b[0;31m                 \u001b[0munformatted_cell\u001b[0m \u001b[0;34m=\u001b[0m \u001b[0mself\u001b[0m\u001b[0;34m.\u001b[0m\u001b[0mshell\u001b[0m\u001b[0;34m.\u001b[0m\u001b[0muser_ns\u001b[0m\u001b[0;34m[\u001b[0m\u001b[0;34m\"_i\"\u001b[0m \u001b[0;34m+\u001b[0m \u001b[0mstr\u001b[0m\u001b[0;34m(\u001b[0m\u001b[0mcell_id\u001b[0m\u001b[0;34m)\u001b[0m\u001b[0;34m]\u001b[0m\u001b[0;34m\u001b[0m\u001b[0;34m\u001b[0m\u001b[0m\n\u001b[0m\u001b[1;32m    209\u001b[0m \u001b[0;34m\u001b[0m\u001b[0m\n\u001b[1;32m    210\u001b[0m                 \u001b[0;32mif\u001b[0m \u001b[0mre\u001b[0m\u001b[0;34m.\u001b[0m\u001b[0msearch\u001b[0m\u001b[0;34m(\u001b[0m\u001b[0;34mr\"^\\s*%load(py)? \"\u001b[0m\u001b[0;34m,\u001b[0m \u001b[0munformatted_cell\u001b[0m\u001b[0;34m,\u001b[0m \u001b[0mflags\u001b[0m\u001b[0;34m=\u001b[0m\u001b[0mre\u001b[0m\u001b[0;34m.\u001b[0m\u001b[0mM\u001b[0m\u001b[0;34m)\u001b[0m\u001b[0;34m:\u001b[0m\u001b[0;34m\u001b[0m\u001b[0;34m\u001b[0m\u001b[0m\n",
      "\u001b[0;31mKeyError\u001b[0m: '_i272'"
     ]
    },
    {
     "name": "stdout",
     "output_type": "stream",
     "text": [
      "ERROR! Session/line number was not unique in database. History logging moved to new session 297\n"
     ]
    }
   ],
   "source": [
    "reco.iloc[0,0]"
   ]
  },
  {
   "cell_type": "code",
   "execution_count": 265,
   "metadata": {},
   "outputs": [
    {
     "ename": "TypeError",
     "evalue": "isinstance() arg 2 must be a type or tuple of types",
     "output_type": "error",
     "traceback": [
      "\u001b[0;31m---------------------------------------------------------------------------\u001b[0m",
      "\u001b[0;31mTypeError\u001b[0m                                 Traceback (most recent call last)",
      "\u001b[0;32m~/opt/anaconda3/envs/db-clustering/lib/python3.8/site-packages/IPython/core/async_helpers.py\u001b[0m in \u001b[0;36m_pseudo_sync_runner\u001b[0;34m(coro)\u001b[0m\n\u001b[1;32m     66\u001b[0m     \"\"\"\n\u001b[1;32m     67\u001b[0m     \u001b[0;32mtry\u001b[0m\u001b[0;34m:\u001b[0m\u001b[0;34m\u001b[0m\u001b[0;34m\u001b[0m\u001b[0m\n\u001b[0;32m---> 68\u001b[0;31m         \u001b[0mcoro\u001b[0m\u001b[0;34m.\u001b[0m\u001b[0msend\u001b[0m\u001b[0;34m(\u001b[0m\u001b[0;32mNone\u001b[0m\u001b[0;34m)\u001b[0m\u001b[0;34m\u001b[0m\u001b[0;34m\u001b[0m\u001b[0m\n\u001b[0m\u001b[1;32m     69\u001b[0m     \u001b[0;32mexcept\u001b[0m \u001b[0mStopIteration\u001b[0m \u001b[0;32mas\u001b[0m \u001b[0mexc\u001b[0m\u001b[0;34m:\u001b[0m\u001b[0;34m\u001b[0m\u001b[0;34m\u001b[0m\u001b[0m\n\u001b[1;32m     70\u001b[0m         \u001b[0;32mreturn\u001b[0m \u001b[0mexc\u001b[0m\u001b[0;34m.\u001b[0m\u001b[0mvalue\u001b[0m\u001b[0;34m\u001b[0m\u001b[0;34m\u001b[0m\u001b[0m\n",
      "\u001b[0;32m~/opt/anaconda3/envs/db-clustering/lib/python3.8/site-packages/IPython/core/interactiveshell.py\u001b[0m in \u001b[0;36mrun_cell_async\u001b[0;34m(self, raw_cell, store_history, silent, shell_futures, transformed_cell, preprocessing_exc_tuple)\u001b[0m\n\u001b[1;32m   3163\u001b[0m                 \u001b[0;31m# Give the displayhook a reference to our ExecutionResult so it\u001b[0m\u001b[0;34m\u001b[0m\u001b[0;34m\u001b[0m\u001b[0;34m\u001b[0m\u001b[0m\n\u001b[1;32m   3164\u001b[0m                 \u001b[0;31m# can fill in the output value.\u001b[0m\u001b[0;34m\u001b[0m\u001b[0;34m\u001b[0m\u001b[0;34m\u001b[0m\u001b[0m\n\u001b[0;32m-> 3165\u001b[0;31m                 \u001b[0mself\u001b[0m\u001b[0;34m.\u001b[0m\u001b[0mdisplayhook\u001b[0m\u001b[0;34m.\u001b[0m\u001b[0mexec_result\u001b[0m \u001b[0;34m=\u001b[0m \u001b[0mresult\u001b[0m\u001b[0;34m\u001b[0m\u001b[0;34m\u001b[0m\u001b[0m\n\u001b[0m\u001b[1;32m   3166\u001b[0m \u001b[0;34m\u001b[0m\u001b[0m\n\u001b[1;32m   3167\u001b[0m                 \u001b[0;31m# Execute the user code\u001b[0m\u001b[0;34m\u001b[0m\u001b[0;34m\u001b[0m\u001b[0;34m\u001b[0m\u001b[0m\n",
      "\u001b[0;32m~/opt/anaconda3/envs/db-clustering/lib/python3.8/site-packages/traitlets/traitlets.py\u001b[0m in \u001b[0;36m__set__\u001b[0;34m(self, obj, value)\u001b[0m\n\u001b[1;32m    604\u001b[0m             \u001b[0;32mraise\u001b[0m \u001b[0mTraitError\u001b[0m\u001b[0;34m(\u001b[0m\u001b[0;34m'The \"%s\" trait is read-only.'\u001b[0m \u001b[0;34m%\u001b[0m \u001b[0mself\u001b[0m\u001b[0;34m.\u001b[0m\u001b[0mname\u001b[0m\u001b[0;34m)\u001b[0m\u001b[0;34m\u001b[0m\u001b[0;34m\u001b[0m\u001b[0m\n\u001b[1;32m    605\u001b[0m         \u001b[0;32melse\u001b[0m\u001b[0;34m:\u001b[0m\u001b[0;34m\u001b[0m\u001b[0;34m\u001b[0m\u001b[0m\n\u001b[0;32m--> 606\u001b[0;31m             \u001b[0mself\u001b[0m\u001b[0;34m.\u001b[0m\u001b[0mset\u001b[0m\u001b[0;34m(\u001b[0m\u001b[0mobj\u001b[0m\u001b[0;34m,\u001b[0m \u001b[0mvalue\u001b[0m\u001b[0;34m)\u001b[0m\u001b[0;34m\u001b[0m\u001b[0;34m\u001b[0m\u001b[0m\n\u001b[0m\u001b[1;32m    607\u001b[0m \u001b[0;34m\u001b[0m\u001b[0m\n\u001b[1;32m    608\u001b[0m     \u001b[0;32mdef\u001b[0m \u001b[0m_validate\u001b[0m\u001b[0;34m(\u001b[0m\u001b[0mself\u001b[0m\u001b[0;34m,\u001b[0m \u001b[0mobj\u001b[0m\u001b[0;34m,\u001b[0m \u001b[0mvalue\u001b[0m\u001b[0;34m)\u001b[0m\u001b[0;34m:\u001b[0m\u001b[0;34m\u001b[0m\u001b[0;34m\u001b[0m\u001b[0m\n",
      "\u001b[0;32m~/opt/anaconda3/envs/db-clustering/lib/python3.8/site-packages/traitlets/traitlets.py\u001b[0m in \u001b[0;36mset\u001b[0;34m(self, obj, value)\u001b[0m\n\u001b[1;32m    578\u001b[0m \u001b[0;34m\u001b[0m\u001b[0m\n\u001b[1;32m    579\u001b[0m     \u001b[0;32mdef\u001b[0m \u001b[0mset\u001b[0m\u001b[0;34m(\u001b[0m\u001b[0mself\u001b[0m\u001b[0;34m,\u001b[0m \u001b[0mobj\u001b[0m\u001b[0;34m,\u001b[0m \u001b[0mvalue\u001b[0m\u001b[0;34m)\u001b[0m\u001b[0;34m:\u001b[0m\u001b[0;34m\u001b[0m\u001b[0;34m\u001b[0m\u001b[0m\n\u001b[0;32m--> 580\u001b[0;31m         \u001b[0mnew_value\u001b[0m \u001b[0;34m=\u001b[0m \u001b[0mself\u001b[0m\u001b[0;34m.\u001b[0m\u001b[0m_validate\u001b[0m\u001b[0;34m(\u001b[0m\u001b[0mobj\u001b[0m\u001b[0;34m,\u001b[0m \u001b[0mvalue\u001b[0m\u001b[0;34m)\u001b[0m\u001b[0;34m\u001b[0m\u001b[0;34m\u001b[0m\u001b[0m\n\u001b[0m\u001b[1;32m    581\u001b[0m         \u001b[0;32mtry\u001b[0m\u001b[0;34m:\u001b[0m\u001b[0;34m\u001b[0m\u001b[0;34m\u001b[0m\u001b[0m\n\u001b[1;32m    582\u001b[0m             \u001b[0mold_value\u001b[0m \u001b[0;34m=\u001b[0m \u001b[0mobj\u001b[0m\u001b[0;34m.\u001b[0m\u001b[0m_trait_values\u001b[0m\u001b[0;34m[\u001b[0m\u001b[0mself\u001b[0m\u001b[0;34m.\u001b[0m\u001b[0mname\u001b[0m\u001b[0;34m]\u001b[0m\u001b[0;34m\u001b[0m\u001b[0;34m\u001b[0m\u001b[0m\n",
      "\u001b[0;32m~/opt/anaconda3/envs/db-clustering/lib/python3.8/site-packages/traitlets/traitlets.py\u001b[0m in \u001b[0;36m_validate\u001b[0;34m(self, obj, value)\u001b[0m\n\u001b[1;32m    610\u001b[0m             \u001b[0;32mreturn\u001b[0m \u001b[0mvalue\u001b[0m\u001b[0;34m\u001b[0m\u001b[0;34m\u001b[0m\u001b[0m\n\u001b[1;32m    611\u001b[0m         \u001b[0;32mif\u001b[0m \u001b[0mhasattr\u001b[0m\u001b[0;34m(\u001b[0m\u001b[0mself\u001b[0m\u001b[0;34m,\u001b[0m \u001b[0;34m'validate'\u001b[0m\u001b[0;34m)\u001b[0m\u001b[0;34m:\u001b[0m\u001b[0;34m\u001b[0m\u001b[0;34m\u001b[0m\u001b[0m\n\u001b[0;32m--> 612\u001b[0;31m             \u001b[0mvalue\u001b[0m \u001b[0;34m=\u001b[0m \u001b[0mself\u001b[0m\u001b[0;34m.\u001b[0m\u001b[0mvalidate\u001b[0m\u001b[0;34m(\u001b[0m\u001b[0mobj\u001b[0m\u001b[0;34m,\u001b[0m \u001b[0mvalue\u001b[0m\u001b[0;34m)\u001b[0m\u001b[0;34m\u001b[0m\u001b[0;34m\u001b[0m\u001b[0m\n\u001b[0m\u001b[1;32m    613\u001b[0m         \u001b[0;32mif\u001b[0m \u001b[0mobj\u001b[0m\u001b[0;34m.\u001b[0m\u001b[0m_cross_validation_lock\u001b[0m \u001b[0;32mis\u001b[0m \u001b[0;32mFalse\u001b[0m\u001b[0;34m:\u001b[0m\u001b[0;34m\u001b[0m\u001b[0;34m\u001b[0m\u001b[0m\n\u001b[1;32m    614\u001b[0m             \u001b[0mvalue\u001b[0m \u001b[0;34m=\u001b[0m \u001b[0mself\u001b[0m\u001b[0;34m.\u001b[0m\u001b[0m_cross_validate\u001b[0m\u001b[0;34m(\u001b[0m\u001b[0mobj\u001b[0m\u001b[0;34m,\u001b[0m \u001b[0mvalue\u001b[0m\u001b[0;34m)\u001b[0m\u001b[0;34m\u001b[0m\u001b[0;34m\u001b[0m\u001b[0m\n",
      "\u001b[0;32m~/opt/anaconda3/envs/db-clustering/lib/python3.8/site-packages/traitlets/traitlets.py\u001b[0m in \u001b[0;36mvalidate\u001b[0;34m(self, obj, value)\u001b[0m\n\u001b[1;32m   1846\u001b[0m \u001b[0;34m\u001b[0m\u001b[0m\n\u001b[1;32m   1847\u001b[0m     \u001b[0;32mdef\u001b[0m \u001b[0mvalidate\u001b[0m\u001b[0;34m(\u001b[0m\u001b[0mself\u001b[0m\u001b[0;34m,\u001b[0m \u001b[0mobj\u001b[0m\u001b[0;34m,\u001b[0m \u001b[0mvalue\u001b[0m\u001b[0;34m)\u001b[0m\u001b[0;34m:\u001b[0m\u001b[0;34m\u001b[0m\u001b[0;34m\u001b[0m\u001b[0m\n\u001b[0;32m-> 1848\u001b[0;31m         \u001b[0;32mif\u001b[0m \u001b[0misinstance\u001b[0m\u001b[0;34m(\u001b[0m\u001b[0mvalue\u001b[0m\u001b[0;34m,\u001b[0m \u001b[0mself\u001b[0m\u001b[0;34m.\u001b[0m\u001b[0mklass\u001b[0m\u001b[0;34m)\u001b[0m\u001b[0;34m:\u001b[0m\u001b[0;34m\u001b[0m\u001b[0;34m\u001b[0m\u001b[0m\n\u001b[0m\u001b[1;32m   1849\u001b[0m             \u001b[0;32mreturn\u001b[0m \u001b[0mvalue\u001b[0m\u001b[0;34m\u001b[0m\u001b[0;34m\u001b[0m\u001b[0m\n\u001b[1;32m   1850\u001b[0m         \u001b[0;32melse\u001b[0m\u001b[0;34m:\u001b[0m\u001b[0;34m\u001b[0m\u001b[0;34m\u001b[0m\u001b[0m\n",
      "\u001b[0;31mTypeError\u001b[0m: isinstance() arg 2 must be a type or tuple of types"
     ]
    },
    {
     "name": "stdout",
     "output_type": "stream",
     "text": [
      "Error in callback <bound method BlackFormatter.format_cell of <lab_black.BlackFormatter object at 0x7f9e30e4f640>> (for post_run_cell):\n"
     ]
    },
    {
     "ename": "KeyError",
     "evalue": "'_i270'",
     "output_type": "error",
     "traceback": [
      "\u001b[0;31m---------------------------------------------------------------------------\u001b[0m",
      "\u001b[0;31mKeyError\u001b[0m                                  Traceback (most recent call last)",
      "\u001b[0;32m~/opt/anaconda3/envs/db-clustering/lib/python3.8/site-packages/lab_black.py\u001b[0m in \u001b[0;36mformat_cell\u001b[0;34m(self, *args, **kwargs)\u001b[0m\n\u001b[1;32m    206\u001b[0m             \u001b[0mcell_id\u001b[0m \u001b[0;34m=\u001b[0m \u001b[0mlen\u001b[0m\u001b[0;34m(\u001b[0m\u001b[0mself\u001b[0m\u001b[0;34m.\u001b[0m\u001b[0mshell\u001b[0m\u001b[0;34m.\u001b[0m\u001b[0muser_ns\u001b[0m\u001b[0;34m[\u001b[0m\u001b[0;34m\"In\"\u001b[0m\u001b[0;34m]\u001b[0m\u001b[0;34m)\u001b[0m \u001b[0;34m-\u001b[0m \u001b[0;36m1\u001b[0m\u001b[0;34m\u001b[0m\u001b[0;34m\u001b[0m\u001b[0m\n\u001b[1;32m    207\u001b[0m             \u001b[0;32mif\u001b[0m \u001b[0mcell_id\u001b[0m \u001b[0;34m>\u001b[0m \u001b[0;36m0\u001b[0m\u001b[0;34m:\u001b[0m\u001b[0;34m\u001b[0m\u001b[0;34m\u001b[0m\u001b[0m\n\u001b[0;32m--> 208\u001b[0;31m                 \u001b[0munformatted_cell\u001b[0m \u001b[0;34m=\u001b[0m \u001b[0mself\u001b[0m\u001b[0;34m.\u001b[0m\u001b[0mshell\u001b[0m\u001b[0;34m.\u001b[0m\u001b[0muser_ns\u001b[0m\u001b[0;34m[\u001b[0m\u001b[0;34m\"_i\"\u001b[0m \u001b[0;34m+\u001b[0m \u001b[0mstr\u001b[0m\u001b[0;34m(\u001b[0m\u001b[0mcell_id\u001b[0m\u001b[0;34m)\u001b[0m\u001b[0;34m]\u001b[0m\u001b[0;34m\u001b[0m\u001b[0;34m\u001b[0m\u001b[0m\n\u001b[0m\u001b[1;32m    209\u001b[0m \u001b[0;34m\u001b[0m\u001b[0m\n\u001b[1;32m    210\u001b[0m                 \u001b[0;32mif\u001b[0m \u001b[0mre\u001b[0m\u001b[0;34m.\u001b[0m\u001b[0msearch\u001b[0m\u001b[0;34m(\u001b[0m\u001b[0;34mr\"^\\s*%load(py)? \"\u001b[0m\u001b[0;34m,\u001b[0m \u001b[0munformatted_cell\u001b[0m\u001b[0;34m,\u001b[0m \u001b[0mflags\u001b[0m\u001b[0;34m=\u001b[0m\u001b[0mre\u001b[0m\u001b[0;34m.\u001b[0m\u001b[0mM\u001b[0m\u001b[0;34m)\u001b[0m\u001b[0;34m:\u001b[0m\u001b[0;34m\u001b[0m\u001b[0;34m\u001b[0m\u001b[0m\n",
      "\u001b[0;31mKeyError\u001b[0m: '_i270'"
     ]
    },
    {
     "name": "stdout",
     "output_type": "stream",
     "text": [
      "ERROR! Session/line number was not unique in database. History logging moved to new session 295\n"
     ]
    }
   ],
   "source": [
    "print(\"hello\")"
   ]
  },
  {
   "cell_type": "code",
   "execution_count": null,
   "metadata": {},
   "outputs": [],
   "source": [
    "\n",
    "\n",
    "plot_pv_efficiency_z0(reco[\"z0_gen\"].values, reco[\"z0_hdbscan\"].values, bins=be_eff)"
   ]
  },
  {
   "cell_type": "code",
   "execution_count": null,
   "metadata": {},
   "outputs": [],
   "source": []
  },
  {
   "cell_type": "code",
   "execution_count": null,
   "metadata": {},
   "outputs": [],
   "source": []
  },
  {
   "cell_type": "code",
   "execution_count": null,
   "metadata": {},
   "outputs": [],
   "source": []
  },
  {
   "cell_type": "code",
   "execution_count": null,
   "metadata": {},
   "outputs": [],
   "source": []
  },
  {
   "cell_type": "code",
   "execution_count": null,
   "metadata": {},
   "outputs": [],
   "source": []
  },
  {
   "cell_type": "code",
   "execution_count": 253,
   "metadata": {},
   "outputs": [
    {
     "data": {
      "text/plain": [
       "69.26406926406926"
      ]
     },
     "execution_count": 253,
     "metadata": {},
     "output_type": "execute_result"
    }
   ],
   "source": []
  },
  {
   "cell_type": "code",
   "execution_count": null,
   "metadata": {},
   "outputs": [],
   "source": []
  },
  {
   "cell_type": "code",
   "execution_count": 233,
   "metadata": {},
   "outputs": [
    {
     "name": "stdout",
     "output_type": "stream",
     "text": [
      "fastHisto_0.05\n",
      "fastHisto_0.1\n",
      "fastHisto_0.15\n",
      "fastHisto_0.2\n",
      "fastHisto_0.25\n",
      "fastHisto_0.3\n",
      "fastHisto_0.35\n"
     ]
    }
   ],
   "source": [
    "for bin_width in bin_widths:\n",
    "    print(f\"fastHisto_{bin_width}\")"
   ]
  },
  {
   "cell_type": "code",
   "execution_count": null,
   "metadata": {},
   "outputs": [],
   "source": []
  },
  {
   "cell_type": "code",
   "execution_count": null,
   "metadata": {},
   "outputs": [],
   "source": [
    "be = np.arange(-15, 15.15, 0.15)  # z_0 in [-15, 15]"
   ]
  },
  {
   "cell_type": "code",
   "execution_count": null,
   "metadata": {},
   "outputs": [],
   "source": [
    "def fastHisto(z0, pt, be):\n",
    "\n",
    "    h = np.histogram(z0, bins=be, weights=pt)[0]\n",
    "    max_idx = np.argmax(h)\n",
    "    bin_lower = be[max_idx]\n",
    "    bin_upper = be[max_idx + 1]\n",
    "    mask = (z0 > bin_lower) & (z0 < bin_upper)\n",
    "    z0_reco = z0[mask].mean()\n",
    "\n",
    "    return z0_reco"
   ]
  },
  {
   "cell_type": "code",
   "execution_count": null,
   "metadata": {},
   "outputs": [],
   "source": [
    "z0_fastHisto = trk.groupby(level=0).apply(\n",
    "    lambda x: fastHisto(x[\"trk_z0\"], x[\"trk_pt\"], be)\n",
    ")"
   ]
  },
  {
   "cell_type": "code",
   "execution_count": 236,
   "metadata": {},
   "outputs": [],
   "source": [
    "test = pd.DataFrame({})"
   ]
  },
  {
   "cell_type": "code",
   "execution_count": 237,
   "metadata": {},
   "outputs": [],
   "source": [
    "test[\"z0_fastHisto\"] = z0_fastHisto"
   ]
  },
  {
   "cell_type": "code",
   "execution_count": 239,
   "metadata": {},
   "outputs": [
    {
     "data": {
      "text/plain": [
       "Index(['z0_fastHisto'], dtype='object')"
      ]
     },
     "execution_count": 239,
     "metadata": {},
     "output_type": "execute_result"
    }
   ],
   "source": [
    "test.columns"
   ]
  },
  {
   "cell_type": "code",
   "execution_count": null,
   "metadata": {},
   "outputs": [],
   "source": []
  },
  {
   "cell_type": "code",
   "execution_count": null,
   "metadata": {},
   "outputs": [],
   "source": []
  },
  {
   "cell_type": "code",
   "execution_count": null,
   "metadata": {},
   "outputs": [],
   "source": []
  },
  {
   "cell_type": "code",
   "execution_count": null,
   "metadata": {},
   "outputs": [],
   "source": []
  },
  {
   "cell_type": "code",
   "execution_count": null,
   "metadata": {},
   "outputs": [],
   "source": []
  },
  {
   "cell_type": "markdown",
   "metadata": {},
   "source": [
    "The big question here is how to compare the performance of the dbscan with the generated data ?"
   ]
  },
  {
   "cell_type": "code",
   "execution_count": 99,
   "metadata": {},
   "outputs": [
    {
     "data": {
      "text/plain": [
       "entry\n",
       "0        100.300301\n",
       "1          2.806677\n",
       "2         39.352680\n",
       "3          2.047890\n",
       "4         45.843182\n",
       "            ...    \n",
       "24943     45.743790\n",
       "24944      4.743241\n",
       "24945      2.080068\n",
       "24946      7.707239\n",
       "24947      2.467850\n",
       "Name: tp_pt, Length: 24948, dtype: float32"
      ]
     },
     "execution_count": 99,
     "metadata": {},
     "output_type": "execute_result"
    }
   ],
   "source": [
    "tp.groupby(level=0)[\"tp_pt\"].first()"
   ]
  },
  {
   "cell_type": "code",
   "execution_count": 100,
   "metadata": {},
   "outputs": [
    {
     "data": {
      "text/plain": [
       "MultiIndex([(    0,   0),\n",
       "            (    0,   1),\n",
       "            (    0,   2),\n",
       "            (    0,   3),\n",
       "            (    0,   4),\n",
       "            (    0,   5),\n",
       "            (    0,   6),\n",
       "            (    0,   7),\n",
       "            (    0,   8),\n",
       "            (    0,   9),\n",
       "            ...\n",
       "            (24947, 126),\n",
       "            (24947, 127),\n",
       "            (24947, 128),\n",
       "            (24947, 129),\n",
       "            (24947, 130),\n",
       "            (24947, 131),\n",
       "            (24947, 132),\n",
       "            (24947, 133),\n",
       "            (24947, 134),\n",
       "            (24947, 135)],\n",
       "           names=['entry', 'subentry'], length=4421637)"
      ]
     },
     "execution_count": 100,
     "metadata": {},
     "output_type": "execute_result"
    }
   ],
   "source": [
    "tp.index"
   ]
  },
  {
   "cell_type": "code",
   "execution_count": 103,
   "metadata": {},
   "outputs": [
    {
     "data": {
      "text/plain": [
       "177.0"
      ]
     },
     "execution_count": 103,
     "metadata": {},
     "output_type": "execute_result"
    }
   ],
   "source": [
    "tp.groupby(level=0)[\"tp_pt\"].count().median()"
   ]
  },
  {
   "cell_type": "code",
   "execution_count": null,
   "metadata": {},
   "outputs": [],
   "source": []
  }
 ],
 "metadata": {
  "kernelspec": {
   "display_name": "db-clustering",
   "language": "python",
   "name": "db-clustering"
  },
  "language_info": {
   "codemirror_mode": {
    "name": "ipython",
    "version": 3
   },
   "file_extension": ".py",
   "mimetype": "text/x-python",
   "name": "python",
   "nbconvert_exporter": "python",
   "pygments_lexer": "ipython3",
   "version": "3.8.0"
  }
 },
 "nbformat": 4,
 "nbformat_minor": 4
}
