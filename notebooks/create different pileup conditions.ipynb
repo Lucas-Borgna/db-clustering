{
 "cells": [
  {
   "cell_type": "code",
   "execution_count": 1,
   "metadata": {},
   "outputs": [],
   "source": [
    "### Reloads modules properly\n",
    "%load_ext autoreload\n",
    "%autoreload 2"
   ]
  },
  {
   "cell_type": "code",
   "execution_count": 2,
   "metadata": {},
   "outputs": [],
   "source": [
    "import os\n",
    "os.sys.path.append('../')"
   ]
  },
  {
   "cell_type": "code",
   "execution_count": 3,
   "metadata": {},
   "outputs": [],
   "source": [
    "import pandas as pd\n",
    "import numpy as np\n",
    "import matplotlib.pyplot as plt\n"
   ]
  },
  {
   "cell_type": "code",
   "execution_count": 5,
   "metadata": {},
   "outputs": [],
   "source": [
    "import mplhep as hep\n",
    "hep.style.use(\"CMS\")"
   ]
  },
  {
   "cell_type": "markdown",
   "metadata": {},
   "source": [
    "# Different pileup results"
   ]
  },
  {
   "cell_type": "code",
   "execution_count": 5,
   "metadata": {},
   "outputs": [
    {
     "name": "stdout",
     "output_type": "stream",
     "text": [
      "total 9.7G\n",
      "-rw-r--r-- 1 lucas lucas 2.2M Jan 12 16:09 mc_25k.pkl\n",
      "-rw-r--r-- 1 lucas lucas 5.4M Jan 12 16:09 mc.pkl\n",
      "-rw-rw-r-- 1 lucas lucas 6.2K Jan 26 11:28 n_tracks.pdf\n",
      "-rw-r--r-- 1 lucas lucas 4.9G Jan 12 16:09 OldKF_TTbar_170K_quality.root\n",
      "-rwxrwxr-x 1 lucas lucas 2.4G Jan 24 14:13 PV.pickle\n",
      "-rw-r--r-- 1 lucas lucas 128M Jan 12 16:12 tp_25k.pkl\n",
      "-rw-r--r-- 1 lucas lucas 1.2G Jan 12 16:11 tp.pkl\n",
      "-rw-r--r-- 1 lucas lucas 133M Jan 12 16:14 trk_25k.pkl\n",
      "-rw-r--r-- 1 lucas lucas 1.2G Jan 12 16:14 trk.pkl\n"
     ]
    }
   ],
   "source": [
    "!ls -lh /media/lucas/MicroSD/l1_nnt/"
   ]
  },
  {
   "cell_type": "code",
   "execution_count": 43,
   "metadata": {},
   "outputs": [],
   "source": [
    "storage = \"/media/lucas/MicroSD/l1_nnt/\"\n",
    "trk = pd.read_pickle(storage+\"trk.pkl\")\n",
    "tp = pd.read_pickle(storage+\"tp.pkl\")\n",
    "mc = pd.read_pickle(storage+\"mc.pkl\")"
   ]
  },
  {
   "cell_type": "code",
   "execution_count": 44,
   "metadata": {},
   "outputs": [],
   "source": [
    "from primaryvertexingtools import create_pv_truth_labels, remove_nans"
   ]
  },
  {
   "cell_type": "code",
   "execution_count": 45,
   "metadata": {},
   "outputs": [],
   "source": [
    "trk = remove_nans(trk, feature=\"trk_eta\")\n",
    "trk = create_pv_truth_labels(trk, truth_label=\"trk_fake\", truth_label_out = \"is_pv\")"
   ]
  },
  {
   "cell_type": "markdown",
   "metadata": {},
   "source": [
    "from prim"
   ]
  },
  {
   "cell_type": "code",
   "execution_count": 46,
   "metadata": {},
   "outputs": [],
   "source": [
    "trk['event_number'] = trk.index.get_level_values(0).values"
   ]
  },
  {
   "cell_type": "code",
   "execution_count": 47,
   "metadata": {},
   "outputs": [],
   "source": [
    "tp['event_number'] = tp.index.get_level_values(0).values"
   ]
  },
  {
   "cell_type": "code",
   "execution_count": 48,
   "metadata": {},
   "outputs": [],
   "source": [
    "n_tracks = trk.groupby(level=0)['trk_pt'].count()"
   ]
  },
  {
   "cell_type": "code",
   "execution_count": 49,
   "metadata": {},
   "outputs": [],
   "source": [
    "bin1_event_numbers = n_tracks[n_tracks <= 160].index.values\n",
    "bin2_event_numbers = n_tracks[(n_tracks > 160) & (n_tracks <= 200)].index.values\n",
    "bin3_event_numbers = n_tracks[(n_tracks > 200)].index.values"
   ]
  },
  {
   "cell_type": "code",
   "execution_count": 50,
   "metadata": {},
   "outputs": [],
   "source": [
    "trk_bin1 = trk.loc[trk['event_number'].isin(bin1_event_numbers)]\n",
    "trk_bin2 = trk.loc[trk['event_number'].isin(bin2_event_numbers)]\n",
    "trk_bin3 = trk.loc[trk['event_number'].isin(bin3_event_numbers)]"
   ]
  },
  {
   "cell_type": "code",
   "execution_count": 51,
   "metadata": {},
   "outputs": [
    {
     "data": {
      "text/plain": [
       "144.4284502742127"
      ]
     },
     "execution_count": 51,
     "metadata": {},
     "output_type": "execute_result"
    }
   ],
   "source": [
    "n_tracks[n_tracks<=160].mean()\n"
   ]
  },
  {
   "cell_type": "code",
   "execution_count": 52,
   "metadata": {},
   "outputs": [
    {
     "data": {
      "text/plain": [
       "180.331932734393"
      ]
     },
     "execution_count": 52,
     "metadata": {},
     "output_type": "execute_result"
    }
   ],
   "source": [
    "n_tracks[(n_tracks>160) &(n_tracks <= 200)].mean()"
   ]
  },
  {
   "cell_type": "code",
   "execution_count": 53,
   "metadata": {},
   "outputs": [
    {
     "data": {
      "text/plain": [
       "220.66458706629743"
      ]
     },
     "execution_count": 53,
     "metadata": {},
     "output_type": "execute_result"
    }
   ],
   "source": [
    "n_tracks[n_tracks>200].mean()"
   ]
  },
  {
   "cell_type": "code",
   "execution_count": 64,
   "metadata": {},
   "outputs": [],
   "source": [
    "tp_bin1 = tp.loc[tp['event_number'].isin(bin1_event_numbers)].copy()\n",
    "tp_bin2 = tp.loc[tp['event_number'].isin(bin2_event_numbers)].copy()\n",
    "tp_bin3 = tp.loc[tp['event_number'].isin(bin3_event_numbers)].copy()"
   ]
  },
  {
   "cell_type": "code",
   "execution_count": 65,
   "metadata": {},
   "outputs": [],
   "source": [
    "mc['event_number'] = mc.index.get_level_values(0).values"
   ]
  },
  {
   "cell_type": "code",
   "execution_count": 66,
   "metadata": {},
   "outputs": [],
   "source": [
    "mc_bin1 = mc.loc[mc['event_number'].isin(bin1_event_numbers)].copy()\n",
    "mc_bin2 = mc.loc[mc['event_number'].isin(bin2_event_numbers)].copy()\n",
    "mc_bin3 = mc.loc[mc['event_number'].isin(bin3_event_numbers)].copy()"
   ]
  },
  {
   "cell_type": "code",
   "execution_count": 67,
   "metadata": {},
   "outputs": [],
   "source": [
    "tp_bin1.to_pickle(storage+\"tp_bin1.pkl\")\n",
    "tp_bin2.to_pickle(storage+\"tp_bin2.pkl\")\n",
    "tp_bin3.to_pickle(storage+\"tp_bin3.pkl\")\n",
    "trk_bin1.to_pickle(storage+\"trk_bin1.pkl\")\n",
    "trk_bin2.to_pickle(storage+\"trk_bin2.pkl\")\n",
    "trk_bin3.to_pickle(storage+\"trk_bin3.pkl\")\n",
    "mc_bin1.to_pickle(storage+\"mc_bin1.pkl\")\n",
    "mc_bin2.to_pickle(storage+\"mc_bin2.pkl\")\n",
    "mc_bin3.to_pickle(storage+\"mc_bin3.pkl\")"
   ]
  },
  {
   "cell_type": "markdown",
   "metadata": {},
   "source": [
    "# Instatiating classes "
   ]
  },
  {
   "cell_type": "code",
   "execution_count": 68,
   "metadata": {},
   "outputs": [],
   "source": [
    "from primaryvertexingtools import PrimaryVertexing, PerformanceMetrics"
   ]
  },
  {
   "cell_type": "code",
   "execution_count": 69,
   "metadata": {},
   "outputs": [],
   "source": [
    "pv_setup1 = {\n",
    "    \"fh_bins\": np.linspace(-15, 15, 256),\n",
    "    \"truth_data\": mc_bin1,\n",
    "    \"track_data\": trk_bin1,\n",
    "    \"test_run\": False\n",
    "}\n",
    "pv_setup2 = {\n",
    "    \"fh_bins\": np.linspace(-15, 15, 256),\n",
    "    \"truth_data\": mc_bin2,\n",
    "    \"track_data\": trk_bin2,\n",
    "    \"test_run\": False\n",
    "}\n",
    "pv_setup3 = {\n",
    "    \"fh_bins\": np.linspace(-15, 15, 256),\n",
    "    \"truth_data\": mc_bin3,\n",
    "    \"track_data\": trk_bin3,\n",
    "    \"test_run\": False\n",
    "}"
   ]
  },
  {
   "cell_type": "code",
   "execution_count": 70,
   "metadata": {},
   "outputs": [
    {
     "name": "stdout",
     "output_type": "stream",
     "text": [
      "Initialized Primary Vertexing setup\n",
      "Initialized Primary Vertexing setup\n",
      "Initialized Primary Vertexing setup\n"
     ]
    }
   ],
   "source": [
    "pv1 = PrimaryVertexing(pv_setup1)\n",
    "pv2 = PrimaryVertexing(pv_setup2)\n",
    "pv3 = PrimaryVertexing(pv_setup3)"
   ]
  },
  {
   "cell_type": "markdown",
   "metadata": {},
   "source": [
    "# Run fast histos"
   ]
  },
  {
   "cell_type": "code",
   "execution_count": 71,
   "metadata": {},
   "outputs": [
    {
     "name": "stderr",
     "output_type": "stream",
     "text": [
      "100%|█████████████████████████████████████████████████████████████████████████████████████████████████████████████████████████████████████████████████████████████████████████████████████████████████████████████████████████████████████████████████████████████████████████████████████████████████████████████████████████████| 53061/53061 [00:20<00:00, 2645.54it/s]\n",
      "/home/lucas/Documents/RA/db-clustering/notebooks/primaryvertexingtools.py:88: SettingWithCopyWarning: \n",
      "A value is trying to be set on a copy of a slice from a DataFrame.\n",
      "Try using .loc[row_indexer,col_indexer] = value instead\n",
      "\n",
      "See the caveats in the documentation: https://pandas.pydata.org/pandas-docs/stable/user_guide/indexing.html#returning-a-view-versus-a-copy\n",
      "  self.trk[\"z0_reco_fh\"] = pv_fh\n",
      "/home/lucas/Documents/RA/db-clustering/notebooks/primaryvertexingtools.py:92: SettingWithCopyWarning: \n",
      "A value is trying to be set on a copy of a slice from a DataFrame.\n",
      "Try using .loc[row_indexer,col_indexer] = value instead\n",
      "\n",
      "See the caveats in the documentation: https://pandas.pydata.org/pandas-docs/stable/user_guide/indexing.html#returning-a-view-versus-a-copy\n",
      "  self.trk[\"distance_from_pv_fh\"] = np.abs(\n",
      "/home/lucas/Documents/RA/db-clustering/notebooks/primaryvertexingtools.py:96: SettingWithCopyWarning: \n",
      "A value is trying to be set on a copy of a slice from a DataFrame.\n",
      "Try using .loc[row_indexer,col_indexer] = value instead\n",
      "\n",
      "See the caveats in the documentation: https://pandas.pydata.org/pandas-docs/stable/user_guide/indexing.html#returning-a-view-versus-a-copy\n",
      "  self.trk[\"trk_pv_assoc_fh\"] = self.fh_pv_association(\n"
     ]
    },
    {
     "name": "stdout",
     "output_type": "stream",
     "text": [
      "Ran Fast Histo\n"
     ]
    }
   ],
   "source": [
    "pv1.run_fh()"
   ]
  },
  {
   "cell_type": "code",
   "execution_count": 72,
   "metadata": {},
   "outputs": [
    {
     "name": "stderr",
     "output_type": "stream",
     "text": [
      "100%|███████████████████████████████████████████████████████████████████████████████████████████████████████████████████████████████████████████████████████████████████████████████████████████████████████████████████████████████████████████████████████████████████████████████████████████████████████████████████████████| 108525/108525 [00:52<00:00, 2077.79it/s]\n",
      "/home/lucas/Documents/RA/db-clustering/notebooks/primaryvertexingtools.py:88: SettingWithCopyWarning: \n",
      "A value is trying to be set on a copy of a slice from a DataFrame.\n",
      "Try using .loc[row_indexer,col_indexer] = value instead\n",
      "\n",
      "See the caveats in the documentation: https://pandas.pydata.org/pandas-docs/stable/user_guide/indexing.html#returning-a-view-versus-a-copy\n",
      "  self.trk[\"z0_reco_fh\"] = pv_fh\n",
      "/home/lucas/Documents/RA/db-clustering/notebooks/primaryvertexingtools.py:92: SettingWithCopyWarning: \n",
      "A value is trying to be set on a copy of a slice from a DataFrame.\n",
      "Try using .loc[row_indexer,col_indexer] = value instead\n",
      "\n",
      "See the caveats in the documentation: https://pandas.pydata.org/pandas-docs/stable/user_guide/indexing.html#returning-a-view-versus-a-copy\n",
      "  self.trk[\"distance_from_pv_fh\"] = np.abs(\n",
      "/home/lucas/Documents/RA/db-clustering/notebooks/primaryvertexingtools.py:96: SettingWithCopyWarning: \n",
      "A value is trying to be set on a copy of a slice from a DataFrame.\n",
      "Try using .loc[row_indexer,col_indexer] = value instead\n",
      "\n",
      "See the caveats in the documentation: https://pandas.pydata.org/pandas-docs/stable/user_guide/indexing.html#returning-a-view-versus-a-copy\n",
      "  self.trk[\"trk_pv_assoc_fh\"] = self.fh_pv_association(\n"
     ]
    },
    {
     "name": "stdout",
     "output_type": "stream",
     "text": [
      "Ran Fast Histo\n"
     ]
    }
   ],
   "source": [
    "pv2.run_fh()"
   ]
  },
  {
   "cell_type": "code",
   "execution_count": 73,
   "metadata": {},
   "outputs": [
    {
     "name": "stderr",
     "output_type": "stream",
     "text": [
      "100%|█████████████████████████████████████████████████████████████████████████████████████████████████████████████████████████████████████████████████████████████████████████████████████████████████████████████████████████████████████████████████████████████████████████████████████████████████████████████████████████████| 61390/61390 [00:25<00:00, 2446.94it/s]\n",
      "/home/lucas/Documents/RA/db-clustering/notebooks/primaryvertexingtools.py:88: SettingWithCopyWarning: \n",
      "A value is trying to be set on a copy of a slice from a DataFrame.\n",
      "Try using .loc[row_indexer,col_indexer] = value instead\n",
      "\n",
      "See the caveats in the documentation: https://pandas.pydata.org/pandas-docs/stable/user_guide/indexing.html#returning-a-view-versus-a-copy\n",
      "  self.trk[\"z0_reco_fh\"] = pv_fh\n",
      "/home/lucas/Documents/RA/db-clustering/notebooks/primaryvertexingtools.py:92: SettingWithCopyWarning: \n",
      "A value is trying to be set on a copy of a slice from a DataFrame.\n",
      "Try using .loc[row_indexer,col_indexer] = value instead\n",
      "\n",
      "See the caveats in the documentation: https://pandas.pydata.org/pandas-docs/stable/user_guide/indexing.html#returning-a-view-versus-a-copy\n",
      "  self.trk[\"distance_from_pv_fh\"] = np.abs(\n",
      "/home/lucas/Documents/RA/db-clustering/notebooks/primaryvertexingtools.py:96: SettingWithCopyWarning: \n",
      "A value is trying to be set on a copy of a slice from a DataFrame.\n",
      "Try using .loc[row_indexer,col_indexer] = value instead\n",
      "\n",
      "See the caveats in the documentation: https://pandas.pydata.org/pandas-docs/stable/user_guide/indexing.html#returning-a-view-versus-a-copy\n",
      "  self.trk[\"trk_pv_assoc_fh\"] = self.fh_pv_association(\n"
     ]
    },
    {
     "name": "stdout",
     "output_type": "stream",
     "text": [
      "Ran Fast Histo\n"
     ]
    }
   ],
   "source": [
    "pv3.run_fh()"
   ]
  },
  {
   "cell_type": "code",
   "execution_count": 75,
   "metadata": {},
   "outputs": [
    {
     "data": {
      "text/html": [
       "<div>\n",
       "<style scoped>\n",
       "    .dataframe tbody tr th:only-of-type {\n",
       "        vertical-align: middle;\n",
       "    }\n",
       "\n",
       "    .dataframe tbody tr th {\n",
       "        vertical-align: top;\n",
       "    }\n",
       "\n",
       "    .dataframe thead th {\n",
       "        text-align: right;\n",
       "    }\n",
       "</style>\n",
       "<table border=\"1\" class=\"dataframe\">\n",
       "  <thead>\n",
       "    <tr style=\"text-align: right;\">\n",
       "      <th></th>\n",
       "      <th></th>\n",
       "      <th>trk_pt</th>\n",
       "      <th>trk_eta</th>\n",
       "      <th>trk_phi</th>\n",
       "      <th>trk_d0</th>\n",
       "      <th>trk_z0</th>\n",
       "      <th>trk_fake</th>\n",
       "      <th>is_pv</th>\n",
       "      <th>event_number</th>\n",
       "      <th>z0_reco_fh</th>\n",
       "      <th>distance_from_pv_fh</th>\n",
       "      <th>trk_pv_assoc_fh</th>\n",
       "    </tr>\n",
       "    <tr>\n",
       "      <th>entry</th>\n",
       "      <th>subentry</th>\n",
       "      <th></th>\n",
       "      <th></th>\n",
       "      <th></th>\n",
       "      <th></th>\n",
       "      <th></th>\n",
       "      <th></th>\n",
       "      <th></th>\n",
       "      <th></th>\n",
       "      <th></th>\n",
       "      <th></th>\n",
       "      <th></th>\n",
       "    </tr>\n",
       "  </thead>\n",
       "  <tbody>\n",
       "    <tr>\n",
       "      <th rowspan=\"5\" valign=\"top\">0</th>\n",
       "      <th>0</th>\n",
       "      <td>2.623967</td>\n",
       "      <td>1.301414</td>\n",
       "      <td>-0.289234</td>\n",
       "      <td>999.0</td>\n",
       "      <td>-0.878906</td>\n",
       "      <td>2</td>\n",
       "      <td>0</td>\n",
       "      <td>0</td>\n",
       "      <td>4.863511</td>\n",
       "      <td>5.742417</td>\n",
       "      <td>0.0</td>\n",
       "    </tr>\n",
       "    <tr>\n",
       "      <th>1</th>\n",
       "      <td>3.435026</td>\n",
       "      <td>0.566814</td>\n",
       "      <td>-0.159267</td>\n",
       "      <td>999.0</td>\n",
       "      <td>3.339844</td>\n",
       "      <td>2</td>\n",
       "      <td>0</td>\n",
       "      <td>0</td>\n",
       "      <td>4.863511</td>\n",
       "      <td>1.523667</td>\n",
       "      <td>0.0</td>\n",
       "    </tr>\n",
       "    <tr>\n",
       "      <th>2</th>\n",
       "      <td>3.774908</td>\n",
       "      <td>1.815973</td>\n",
       "      <td>-0.240375</td>\n",
       "      <td>999.0</td>\n",
       "      <td>4.921875</td>\n",
       "      <td>1</td>\n",
       "      <td>1</td>\n",
       "      <td>0</td>\n",
       "      <td>4.863511</td>\n",
       "      <td>0.058364</td>\n",
       "      <td>1.0</td>\n",
       "    </tr>\n",
       "    <tr>\n",
       "      <th>3</th>\n",
       "      <td>2.641448</td>\n",
       "      <td>-1.435747</td>\n",
       "      <td>-0.128747</td>\n",
       "      <td>999.0</td>\n",
       "      <td>-0.468750</td>\n",
       "      <td>2</td>\n",
       "      <td>0</td>\n",
       "      <td>0</td>\n",
       "      <td>4.863511</td>\n",
       "      <td>5.332261</td>\n",
       "      <td>0.0</td>\n",
       "    </tr>\n",
       "    <tr>\n",
       "      <th>4</th>\n",
       "      <td>2.320653</td>\n",
       "      <td>1.837421</td>\n",
       "      <td>0.032604</td>\n",
       "      <td>999.0</td>\n",
       "      <td>4.980469</td>\n",
       "      <td>1</td>\n",
       "      <td>1</td>\n",
       "      <td>0</td>\n",
       "      <td>4.863511</td>\n",
       "      <td>0.116958</td>\n",
       "      <td>1.0</td>\n",
       "    </tr>\n",
       "    <tr>\n",
       "      <th>...</th>\n",
       "      <th>...</th>\n",
       "      <td>...</td>\n",
       "      <td>...</td>\n",
       "      <td>...</td>\n",
       "      <td>...</td>\n",
       "      <td>...</td>\n",
       "      <td>...</td>\n",
       "      <td>...</td>\n",
       "      <td>...</td>\n",
       "      <td>...</td>\n",
       "      <td>...</td>\n",
       "      <td>...</td>\n",
       "    </tr>\n",
       "    <tr>\n",
       "      <th rowspan=\"5\" valign=\"top\">222973</th>\n",
       "      <th>153</th>\n",
       "      <td>2.327952</td>\n",
       "      <td>1.944034</td>\n",
       "      <td>-0.237651</td>\n",
       "      <td>999.0</td>\n",
       "      <td>-0.585938</td>\n",
       "      <td>2</td>\n",
       "      <td>0</td>\n",
       "      <td>222973</td>\n",
       "      <td>-3.573989</td>\n",
       "      <td>2.988051</td>\n",
       "      <td>0.0</td>\n",
       "    </tr>\n",
       "    <tr>\n",
       "      <th>154</th>\n",
       "      <td>2.006145</td>\n",
       "      <td>-2.219047</td>\n",
       "      <td>-0.908713</td>\n",
       "      <td>999.0</td>\n",
       "      <td>10.195312</td>\n",
       "      <td>2</td>\n",
       "      <td>0</td>\n",
       "      <td>222973</td>\n",
       "      <td>-3.573989</td>\n",
       "      <td>13.769301</td>\n",
       "      <td>0.0</td>\n",
       "    </tr>\n",
       "    <tr>\n",
       "      <th>155</th>\n",
       "      <td>5.391940</td>\n",
       "      <td>2.357763</td>\n",
       "      <td>-0.499422</td>\n",
       "      <td>999.0</td>\n",
       "      <td>-1.523438</td>\n",
       "      <td>2</td>\n",
       "      <td>0</td>\n",
       "      <td>222973</td>\n",
       "      <td>-3.573989</td>\n",
       "      <td>2.050551</td>\n",
       "      <td>1.0</td>\n",
       "    </tr>\n",
       "    <tr>\n",
       "      <th>156</th>\n",
       "      <td>1.952859</td>\n",
       "      <td>-2.199984</td>\n",
       "      <td>-0.324764</td>\n",
       "      <td>999.0</td>\n",
       "      <td>-3.632812</td>\n",
       "      <td>2</td>\n",
       "      <td>0</td>\n",
       "      <td>222973</td>\n",
       "      <td>-3.573989</td>\n",
       "      <td>0.058824</td>\n",
       "      <td>1.0</td>\n",
       "    </tr>\n",
       "    <tr>\n",
       "      <th>157</th>\n",
       "      <td>3.152188</td>\n",
       "      <td>2.307447</td>\n",
       "      <td>-0.330013</td>\n",
       "      <td>999.0</td>\n",
       "      <td>-3.632812</td>\n",
       "      <td>2</td>\n",
       "      <td>0</td>\n",
       "      <td>222973</td>\n",
       "      <td>-3.573989</td>\n",
       "      <td>0.058824</td>\n",
       "      <td>1.0</td>\n",
       "    </tr>\n",
       "  </tbody>\n",
       "</table>\n",
       "<p>7663518 rows × 11 columns</p>\n",
       "</div>"
      ],
      "text/plain": [
       "                   trk_pt   trk_eta   trk_phi  trk_d0     trk_z0  trk_fake  \\\n",
       "entry  subentry                                                              \n",
       "0      0         2.623967  1.301414 -0.289234   999.0  -0.878906         2   \n",
       "       1         3.435026  0.566814 -0.159267   999.0   3.339844         2   \n",
       "       2         3.774908  1.815973 -0.240375   999.0   4.921875         1   \n",
       "       3         2.641448 -1.435747 -0.128747   999.0  -0.468750         2   \n",
       "       4         2.320653  1.837421  0.032604   999.0   4.980469         1   \n",
       "...                   ...       ...       ...     ...        ...       ...   \n",
       "222973 153       2.327952  1.944034 -0.237651   999.0  -0.585938         2   \n",
       "       154       2.006145 -2.219047 -0.908713   999.0  10.195312         2   \n",
       "       155       5.391940  2.357763 -0.499422   999.0  -1.523438         2   \n",
       "       156       1.952859 -2.199984 -0.324764   999.0  -3.632812         2   \n",
       "       157       3.152188  2.307447 -0.330013   999.0  -3.632812         2   \n",
       "\n",
       "                 is_pv  event_number  z0_reco_fh  distance_from_pv_fh  \\\n",
       "entry  subentry                                                         \n",
       "0      0             0             0    4.863511             5.742417   \n",
       "       1             0             0    4.863511             1.523667   \n",
       "       2             1             0    4.863511             0.058364   \n",
       "       3             0             0    4.863511             5.332261   \n",
       "       4             1             0    4.863511             0.116958   \n",
       "...                ...           ...         ...                  ...   \n",
       "222973 153           0        222973   -3.573989             2.988051   \n",
       "       154           0        222973   -3.573989            13.769301   \n",
       "       155           0        222973   -3.573989             2.050551   \n",
       "       156           0        222973   -3.573989             0.058824   \n",
       "       157           0        222973   -3.573989             0.058824   \n",
       "\n",
       "                 trk_pv_assoc_fh  \n",
       "entry  subentry                   \n",
       "0      0                     0.0  \n",
       "       1                     0.0  \n",
       "       2                     1.0  \n",
       "       3                     0.0  \n",
       "       4                     1.0  \n",
       "...                          ...  \n",
       "222973 153                   0.0  \n",
       "       154                   0.0  \n",
       "       155                   1.0  \n",
       "       156                   1.0  \n",
       "       157                   1.0  \n",
       "\n",
       "[7663518 rows x 11 columns]"
      ]
     },
     "execution_count": 75,
     "metadata": {},
     "output_type": "execute_result"
    }
   ],
   "source": [
    "pv1.trk"
   ]
  },
  {
   "cell_type": "code",
   "execution_count": 74,
   "metadata": {},
   "outputs": [
    {
     "data": {
      "text/html": [
       "<div>\n",
       "<style scoped>\n",
       "    .dataframe tbody tr th:only-of-type {\n",
       "        vertical-align: middle;\n",
       "    }\n",
       "\n",
       "    .dataframe tbody tr th {\n",
       "        vertical-align: top;\n",
       "    }\n",
       "\n",
       "    .dataframe thead th {\n",
       "        text-align: right;\n",
       "    }\n",
       "</style>\n",
       "<table border=\"1\" class=\"dataframe\">\n",
       "  <thead>\n",
       "    <tr style=\"text-align: right;\">\n",
       "      <th></th>\n",
       "      <th></th>\n",
       "      <th>trk_pt</th>\n",
       "      <th>trk_eta</th>\n",
       "      <th>trk_phi</th>\n",
       "      <th>trk_d0</th>\n",
       "      <th>trk_z0</th>\n",
       "      <th>trk_fake</th>\n",
       "      <th>is_pv</th>\n",
       "      <th>event_number</th>\n",
       "      <th>z0_reco_fh</th>\n",
       "      <th>distance_from_pv_fh</th>\n",
       "      <th>trk_pv_assoc_fh</th>\n",
       "    </tr>\n",
       "    <tr>\n",
       "      <th>entry</th>\n",
       "      <th>subentry</th>\n",
       "      <th></th>\n",
       "      <th></th>\n",
       "      <th></th>\n",
       "      <th></th>\n",
       "      <th></th>\n",
       "      <th></th>\n",
       "      <th></th>\n",
       "      <th></th>\n",
       "      <th></th>\n",
       "      <th></th>\n",
       "      <th></th>\n",
       "    </tr>\n",
       "  </thead>\n",
       "  <tbody>\n",
       "    <tr>\n",
       "      <th rowspan=\"5\" valign=\"top\">4</th>\n",
       "      <th>0</th>\n",
       "      <td>2.609780</td>\n",
       "      <td>0.285181</td>\n",
       "      <td>-0.442419</td>\n",
       "      <td>999.0</td>\n",
       "      <td>-1.171875</td>\n",
       "      <td>2</td>\n",
       "      <td>0</td>\n",
       "      <td>4</td>\n",
       "      <td>-1.464614</td>\n",
       "      <td>0.292739</td>\n",
       "      <td>1.0</td>\n",
       "    </tr>\n",
       "    <tr>\n",
       "      <th>1</th>\n",
       "      <td>2.323567</td>\n",
       "      <td>-1.534982</td>\n",
       "      <td>-0.354673</td>\n",
       "      <td>999.0</td>\n",
       "      <td>3.046875</td>\n",
       "      <td>2</td>\n",
       "      <td>0</td>\n",
       "      <td>4</td>\n",
       "      <td>-1.464614</td>\n",
       "      <td>4.511489</td>\n",
       "      <td>0.0</td>\n",
       "    </tr>\n",
       "    <tr>\n",
       "      <th>2</th>\n",
       "      <td>2.467112</td>\n",
       "      <td>0.730226</td>\n",
       "      <td>-0.341335</td>\n",
       "      <td>999.0</td>\n",
       "      <td>0.761719</td>\n",
       "      <td>2</td>\n",
       "      <td>0</td>\n",
       "      <td>4</td>\n",
       "      <td>-1.464614</td>\n",
       "      <td>2.226333</td>\n",
       "      <td>0.0</td>\n",
       "    </tr>\n",
       "    <tr>\n",
       "      <th>3</th>\n",
       "      <td>2.074366</td>\n",
       "      <td>1.806646</td>\n",
       "      <td>-0.294020</td>\n",
       "      <td>999.0</td>\n",
       "      <td>9.667969</td>\n",
       "      <td>2</td>\n",
       "      <td>0</td>\n",
       "      <td>4</td>\n",
       "      <td>-1.464614</td>\n",
       "      <td>11.132583</td>\n",
       "      <td>0.0</td>\n",
       "    </tr>\n",
       "    <tr>\n",
       "      <th>4</th>\n",
       "      <td>2.914677</td>\n",
       "      <td>0.320649</td>\n",
       "      <td>0.037127</td>\n",
       "      <td>999.0</td>\n",
       "      <td>-3.222656</td>\n",
       "      <td>2</td>\n",
       "      <td>0</td>\n",
       "      <td>4</td>\n",
       "      <td>-1.464614</td>\n",
       "      <td>1.758042</td>\n",
       "      <td>0.0</td>\n",
       "    </tr>\n",
       "    <tr>\n",
       "      <th>...</th>\n",
       "      <th>...</th>\n",
       "      <td>...</td>\n",
       "      <td>...</td>\n",
       "      <td>...</td>\n",
       "      <td>...</td>\n",
       "      <td>...</td>\n",
       "      <td>...</td>\n",
       "      <td>...</td>\n",
       "      <td>...</td>\n",
       "      <td>...</td>\n",
       "      <td>...</td>\n",
       "      <td>...</td>\n",
       "    </tr>\n",
       "    <tr>\n",
       "      <th rowspan=\"5\" valign=\"top\">222975</th>\n",
       "      <th>211</th>\n",
       "      <td>2.044568</td>\n",
       "      <td>-2.407456</td>\n",
       "      <td>-0.857553</td>\n",
       "      <td>999.0</td>\n",
       "      <td>1.113281</td>\n",
       "      <td>2</td>\n",
       "      <td>0</td>\n",
       "      <td>222975</td>\n",
       "      <td>1.347886</td>\n",
       "      <td>0.234605</td>\n",
       "      <td>0.0</td>\n",
       "    </tr>\n",
       "    <tr>\n",
       "      <th>212</th>\n",
       "      <td>2.491473</td>\n",
       "      <td>-2.141478</td>\n",
       "      <td>-0.616329</td>\n",
       "      <td>999.0</td>\n",
       "      <td>8.847656</td>\n",
       "      <td>2</td>\n",
       "      <td>0</td>\n",
       "      <td>222975</td>\n",
       "      <td>1.347886</td>\n",
       "      <td>7.499770</td>\n",
       "      <td>0.0</td>\n",
       "    </tr>\n",
       "    <tr>\n",
       "      <th>213</th>\n",
       "      <td>2.669393</td>\n",
       "      <td>2.230316</td>\n",
       "      <td>-0.748241</td>\n",
       "      <td>999.0</td>\n",
       "      <td>-0.234375</td>\n",
       "      <td>2</td>\n",
       "      <td>0</td>\n",
       "      <td>222975</td>\n",
       "      <td>1.347886</td>\n",
       "      <td>1.582261</td>\n",
       "      <td>1.0</td>\n",
       "    </tr>\n",
       "    <tr>\n",
       "      <th>214</th>\n",
       "      <td>3.767222</td>\n",
       "      <td>-1.994298</td>\n",
       "      <td>-0.753691</td>\n",
       "      <td>999.0</td>\n",
       "      <td>-4.746094</td>\n",
       "      <td>2</td>\n",
       "      <td>0</td>\n",
       "      <td>222975</td>\n",
       "      <td>1.347886</td>\n",
       "      <td>6.093980</td>\n",
       "      <td>0.0</td>\n",
       "    </tr>\n",
       "    <tr>\n",
       "      <th>215</th>\n",
       "      <td>1.988538</td>\n",
       "      <td>-2.052655</td>\n",
       "      <td>-0.790385</td>\n",
       "      <td>999.0</td>\n",
       "      <td>0.996094</td>\n",
       "      <td>2</td>\n",
       "      <td>0</td>\n",
       "      <td>222975</td>\n",
       "      <td>1.347886</td>\n",
       "      <td>0.351792</td>\n",
       "      <td>1.0</td>\n",
       "    </tr>\n",
       "  </tbody>\n",
       "</table>\n",
       "<p>13546599 rows × 11 columns</p>\n",
       "</div>"
      ],
      "text/plain": [
       "                   trk_pt   trk_eta   trk_phi  trk_d0    trk_z0  trk_fake  \\\n",
       "entry  subentry                                                             \n",
       "4      0         2.609780  0.285181 -0.442419   999.0 -1.171875         2   \n",
       "       1         2.323567 -1.534982 -0.354673   999.0  3.046875         2   \n",
       "       2         2.467112  0.730226 -0.341335   999.0  0.761719         2   \n",
       "       3         2.074366  1.806646 -0.294020   999.0  9.667969         2   \n",
       "       4         2.914677  0.320649  0.037127   999.0 -3.222656         2   \n",
       "...                   ...       ...       ...     ...       ...       ...   \n",
       "222975 211       2.044568 -2.407456 -0.857553   999.0  1.113281         2   \n",
       "       212       2.491473 -2.141478 -0.616329   999.0  8.847656         2   \n",
       "       213       2.669393  2.230316 -0.748241   999.0 -0.234375         2   \n",
       "       214       3.767222 -1.994298 -0.753691   999.0 -4.746094         2   \n",
       "       215       1.988538 -2.052655 -0.790385   999.0  0.996094         2   \n",
       "\n",
       "                 is_pv  event_number  z0_reco_fh  distance_from_pv_fh  \\\n",
       "entry  subentry                                                         \n",
       "4      0             0             4   -1.464614             0.292739   \n",
       "       1             0             4   -1.464614             4.511489   \n",
       "       2             0             4   -1.464614             2.226333   \n",
       "       3             0             4   -1.464614            11.132583   \n",
       "       4             0             4   -1.464614             1.758042   \n",
       "...                ...           ...         ...                  ...   \n",
       "222975 211           0        222975    1.347886             0.234605   \n",
       "       212           0        222975    1.347886             7.499770   \n",
       "       213           0        222975    1.347886             1.582261   \n",
       "       214           0        222975    1.347886             6.093980   \n",
       "       215           0        222975    1.347886             0.351792   \n",
       "\n",
       "                 trk_pv_assoc_fh  \n",
       "entry  subentry                   \n",
       "4      0                     1.0  \n",
       "       1                     0.0  \n",
       "       2                     0.0  \n",
       "       3                     0.0  \n",
       "       4                     0.0  \n",
       "...                          ...  \n",
       "222975 211                   0.0  \n",
       "       212                   0.0  \n",
       "       213                   1.0  \n",
       "       214                   0.0  \n",
       "       215                   1.0  \n",
       "\n",
       "[13546599 rows x 11 columns]"
      ]
     },
     "execution_count": 74,
     "metadata": {},
     "output_type": "execute_result"
    }
   ],
   "source": [
    "pv3.trk"
   ]
  },
  {
   "cell_type": "markdown",
   "metadata": {},
   "source": [
    "# Run DBSCAN"
   ]
  },
  {
   "cell_type": "code",
   "execution_count": 76,
   "metadata": {},
   "outputs": [
    {
     "name": "stderr",
     "output_type": "stream",
     "text": [
      "100%|██████████████████████████████████████████████████████████████████████████████████████████████████████████████████████████████████████████████████████████████████████████████████████████████████████████████████████████████████████████████████████████████████████████████████████████████████████████████████████████████| 53061/53061 [03:39<00:00, 241.41it/s]\n",
      "/home/lucas/Documents/RA/db-clustering/notebooks/primaryvertexingtools.py:142: SettingWithCopyWarning: \n",
      "A value is trying to be set on a copy of a slice from a DataFrame.\n",
      "Try using .loc[row_indexer,col_indexer] = value instead\n",
      "\n",
      "See the caveats in the documentation: https://pandas.pydata.org/pandas-docs/stable/user_guide/indexing.html#returning-a-view-versus-a-copy\n",
      "  self.trk[\"z0_reco_db\"] = pv_dbscan[\"z0_reco_db\"]\n"
     ]
    },
    {
     "name": "stdout",
     "output_type": "stream",
     "text": [
      "Ran DBSCAN with eps: 0.08, minPts: 2\n"
     ]
    },
    {
     "name": "stderr",
     "output_type": "stream",
     "text": [
      "/home/lucas/Documents/RA/db-clustering/notebooks/primaryvertexingtools.py:145: SettingWithCopyWarning: \n",
      "A value is trying to be set on a copy of a slice from a DataFrame.\n",
      "Try using .loc[row_indexer,col_indexer] = value instead\n",
      "\n",
      "See the caveats in the documentation: https://pandas.pydata.org/pandas-docs/stable/user_guide/indexing.html#returning-a-view-versus-a-copy\n",
      "  self.trk[\"trk_pv_assoc_db\"] = pv_dbscan[\"db_pv_label\"]\n"
     ]
    }
   ],
   "source": [
    "pv1.run_dbscan()"
   ]
  },
  {
   "cell_type": "code",
   "execution_count": 77,
   "metadata": {},
   "outputs": [
    {
     "name": "stderr",
     "output_type": "stream",
     "text": [
      "100%|████████████████████████████████████████████████████████████████████████████████████████████████████████████████████████████████████████████████████████████████████████████████████████████████████████████████████████████████████████████████████████████████████████████████████████████████████████████████████████████| 108525/108525 [07:48<00:00, 231.66it/s]\n",
      "/home/lucas/Documents/RA/db-clustering/notebooks/primaryvertexingtools.py:142: SettingWithCopyWarning: \n",
      "A value is trying to be set on a copy of a slice from a DataFrame.\n",
      "Try using .loc[row_indexer,col_indexer] = value instead\n",
      "\n",
      "See the caveats in the documentation: https://pandas.pydata.org/pandas-docs/stable/user_guide/indexing.html#returning-a-view-versus-a-copy\n",
      "  self.trk[\"z0_reco_db\"] = pv_dbscan[\"z0_reco_db\"]\n"
     ]
    },
    {
     "name": "stdout",
     "output_type": "stream",
     "text": [
      "Ran DBSCAN with eps: 0.08, minPts: 2\n"
     ]
    },
    {
     "name": "stderr",
     "output_type": "stream",
     "text": [
      "/home/lucas/Documents/RA/db-clustering/notebooks/primaryvertexingtools.py:145: SettingWithCopyWarning: \n",
      "A value is trying to be set on a copy of a slice from a DataFrame.\n",
      "Try using .loc[row_indexer,col_indexer] = value instead\n",
      "\n",
      "See the caveats in the documentation: https://pandas.pydata.org/pandas-docs/stable/user_guide/indexing.html#returning-a-view-versus-a-copy\n",
      "  self.trk[\"trk_pv_assoc_db\"] = pv_dbscan[\"db_pv_label\"]\n"
     ]
    }
   ],
   "source": [
    "pv2.run_dbscan()\n"
   ]
  },
  {
   "cell_type": "code",
   "execution_count": 78,
   "metadata": {},
   "outputs": [
    {
     "name": "stderr",
     "output_type": "stream",
     "text": [
      "100%|██████████████████████████████████████████████████████████████████████████████████████████████████████████████████████████████████████████████████████████████████████████████████████████████████████████████████████████████████████████████████████████████████████████████████████████████████████████████████████████████| 61390/61390 [04:33<00:00, 224.70it/s]\n",
      "/home/lucas/Documents/RA/db-clustering/notebooks/primaryvertexingtools.py:142: SettingWithCopyWarning: \n",
      "A value is trying to be set on a copy of a slice from a DataFrame.\n",
      "Try using .loc[row_indexer,col_indexer] = value instead\n",
      "\n",
      "See the caveats in the documentation: https://pandas.pydata.org/pandas-docs/stable/user_guide/indexing.html#returning-a-view-versus-a-copy\n",
      "  self.trk[\"z0_reco_db\"] = pv_dbscan[\"z0_reco_db\"]\n"
     ]
    },
    {
     "name": "stdout",
     "output_type": "stream",
     "text": [
      "Ran DBSCAN with eps: 0.08, minPts: 2\n"
     ]
    },
    {
     "name": "stderr",
     "output_type": "stream",
     "text": [
      "/home/lucas/Documents/RA/db-clustering/notebooks/primaryvertexingtools.py:145: SettingWithCopyWarning: \n",
      "A value is trying to be set on a copy of a slice from a DataFrame.\n",
      "Try using .loc[row_indexer,col_indexer] = value instead\n",
      "\n",
      "See the caveats in the documentation: https://pandas.pydata.org/pandas-docs/stable/user_guide/indexing.html#returning-a-view-versus-a-copy\n",
      "  self.trk[\"trk_pv_assoc_db\"] = pv_dbscan[\"db_pv_label\"]\n"
     ]
    }
   ],
   "source": [
    "pv3.run_dbscan()"
   ]
  },
  {
   "cell_type": "markdown",
   "metadata": {},
   "source": [
    "# Performance metrics"
   ]
  },
  {
   "cell_type": "code",
   "execution_count": 130,
   "metadata": {},
   "outputs": [
    {
     "data": {
      "text/html": [
       "<div>\n",
       "<style scoped>\n",
       "    .dataframe tbody tr th:only-of-type {\n",
       "        vertical-align: middle;\n",
       "    }\n",
       "\n",
       "    .dataframe tbody tr th {\n",
       "        vertical-align: top;\n",
       "    }\n",
       "\n",
       "    .dataframe thead th {\n",
       "        text-align: right;\n",
       "    }\n",
       "</style>\n",
       "<table border=\"1\" class=\"dataframe\">\n",
       "  <thead>\n",
       "    <tr style=\"text-align: right;\">\n",
       "      <th></th>\n",
       "      <th></th>\n",
       "      <th>trk_pt</th>\n",
       "      <th>trk_eta</th>\n",
       "      <th>trk_phi</th>\n",
       "      <th>trk_d0</th>\n",
       "      <th>trk_z0</th>\n",
       "      <th>trk_fake</th>\n",
       "      <th>is_pv</th>\n",
       "      <th>event_number</th>\n",
       "      <th>z0_reco_fh</th>\n",
       "      <th>distance_from_pv_fh</th>\n",
       "      <th>trk_pv_assoc_fh</th>\n",
       "      <th>z0_reco_db</th>\n",
       "      <th>trk_pv_assoc_db</th>\n",
       "      <th>z0_reco_fh_cor</th>\n",
       "      <th>z0_reco_db_cor</th>\n",
       "    </tr>\n",
       "    <tr>\n",
       "      <th>entry</th>\n",
       "      <th>subentry</th>\n",
       "      <th></th>\n",
       "      <th></th>\n",
       "      <th></th>\n",
       "      <th></th>\n",
       "      <th></th>\n",
       "      <th></th>\n",
       "      <th></th>\n",
       "      <th></th>\n",
       "      <th></th>\n",
       "      <th></th>\n",
       "      <th></th>\n",
       "      <th></th>\n",
       "      <th></th>\n",
       "      <th></th>\n",
       "      <th></th>\n",
       "    </tr>\n",
       "  </thead>\n",
       "  <tbody>\n",
       "    <tr>\n",
       "      <th rowspan=\"5\" valign=\"top\">0</th>\n",
       "      <th>0</th>\n",
       "      <td>2.623967</td>\n",
       "      <td>1.301414</td>\n",
       "      <td>-0.289234</td>\n",
       "      <td>999.0</td>\n",
       "      <td>-0.878906</td>\n",
       "      <td>2</td>\n",
       "      <td>0</td>\n",
       "      <td>0</td>\n",
       "      <td>4.863511</td>\n",
       "      <td>5.742417</td>\n",
       "      <td>0.0</td>\n",
       "      <td>4.980469</td>\n",
       "      <td>0</td>\n",
       "      <td>4.982426</td>\n",
       "      <td>5.014663</td>\n",
       "    </tr>\n",
       "    <tr>\n",
       "      <th>1</th>\n",
       "      <td>3.435026</td>\n",
       "      <td>0.566814</td>\n",
       "      <td>-0.159267</td>\n",
       "      <td>999.0</td>\n",
       "      <td>3.339844</td>\n",
       "      <td>2</td>\n",
       "      <td>0</td>\n",
       "      <td>0</td>\n",
       "      <td>4.863511</td>\n",
       "      <td>1.523667</td>\n",
       "      <td>0.0</td>\n",
       "      <td>4.980469</td>\n",
       "      <td>0</td>\n",
       "      <td>4.982426</td>\n",
       "      <td>5.014663</td>\n",
       "    </tr>\n",
       "    <tr>\n",
       "      <th>2</th>\n",
       "      <td>3.774908</td>\n",
       "      <td>1.815973</td>\n",
       "      <td>-0.240375</td>\n",
       "      <td>999.0</td>\n",
       "      <td>4.921875</td>\n",
       "      <td>1</td>\n",
       "      <td>1</td>\n",
       "      <td>0</td>\n",
       "      <td>4.863511</td>\n",
       "      <td>0.058364</td>\n",
       "      <td>1.0</td>\n",
       "      <td>4.980469</td>\n",
       "      <td>1</td>\n",
       "      <td>4.982426</td>\n",
       "      <td>5.014663</td>\n",
       "    </tr>\n",
       "    <tr>\n",
       "      <th>3</th>\n",
       "      <td>2.641448</td>\n",
       "      <td>-1.435747</td>\n",
       "      <td>-0.128747</td>\n",
       "      <td>999.0</td>\n",
       "      <td>-0.468750</td>\n",
       "      <td>2</td>\n",
       "      <td>0</td>\n",
       "      <td>0</td>\n",
       "      <td>4.863511</td>\n",
       "      <td>5.332261</td>\n",
       "      <td>0.0</td>\n",
       "      <td>4.980469</td>\n",
       "      <td>0</td>\n",
       "      <td>4.982426</td>\n",
       "      <td>5.014663</td>\n",
       "    </tr>\n",
       "    <tr>\n",
       "      <th>4</th>\n",
       "      <td>2.320653</td>\n",
       "      <td>1.837421</td>\n",
       "      <td>0.032604</td>\n",
       "      <td>999.0</td>\n",
       "      <td>4.980469</td>\n",
       "      <td>1</td>\n",
       "      <td>1</td>\n",
       "      <td>0</td>\n",
       "      <td>4.863511</td>\n",
       "      <td>0.116958</td>\n",
       "      <td>1.0</td>\n",
       "      <td>4.980469</td>\n",
       "      <td>1</td>\n",
       "      <td>4.982426</td>\n",
       "      <td>5.014663</td>\n",
       "    </tr>\n",
       "    <tr>\n",
       "      <th>...</th>\n",
       "      <th>...</th>\n",
       "      <td>...</td>\n",
       "      <td>...</td>\n",
       "      <td>...</td>\n",
       "      <td>...</td>\n",
       "      <td>...</td>\n",
       "      <td>...</td>\n",
       "      <td>...</td>\n",
       "      <td>...</td>\n",
       "      <td>...</td>\n",
       "      <td>...</td>\n",
       "      <td>...</td>\n",
       "      <td>...</td>\n",
       "      <td>...</td>\n",
       "      <td>...</td>\n",
       "      <td>...</td>\n",
       "    </tr>\n",
       "    <tr>\n",
       "      <th rowspan=\"5\" valign=\"top\">222973</th>\n",
       "      <th>153</th>\n",
       "      <td>2.327952</td>\n",
       "      <td>1.944034</td>\n",
       "      <td>-0.237651</td>\n",
       "      <td>999.0</td>\n",
       "      <td>-0.585938</td>\n",
       "      <td>2</td>\n",
       "      <td>0</td>\n",
       "      <td>222973</td>\n",
       "      <td>-3.573989</td>\n",
       "      <td>2.988051</td>\n",
       "      <td>0.0</td>\n",
       "      <td>-3.574219</td>\n",
       "      <td>0</td>\n",
       "      <td>-3.455074</td>\n",
       "      <td>-3.607869</td>\n",
       "    </tr>\n",
       "    <tr>\n",
       "      <th>154</th>\n",
       "      <td>2.006145</td>\n",
       "      <td>-2.219047</td>\n",
       "      <td>-0.908713</td>\n",
       "      <td>999.0</td>\n",
       "      <td>10.195312</td>\n",
       "      <td>2</td>\n",
       "      <td>0</td>\n",
       "      <td>222973</td>\n",
       "      <td>-3.573989</td>\n",
       "      <td>13.769301</td>\n",
       "      <td>0.0</td>\n",
       "      <td>-3.574219</td>\n",
       "      <td>0</td>\n",
       "      <td>-3.455074</td>\n",
       "      <td>-3.607869</td>\n",
       "    </tr>\n",
       "    <tr>\n",
       "      <th>155</th>\n",
       "      <td>5.391940</td>\n",
       "      <td>2.357763</td>\n",
       "      <td>-0.499422</td>\n",
       "      <td>999.0</td>\n",
       "      <td>-1.523438</td>\n",
       "      <td>2</td>\n",
       "      <td>0</td>\n",
       "      <td>222973</td>\n",
       "      <td>-3.573989</td>\n",
       "      <td>2.050551</td>\n",
       "      <td>1.0</td>\n",
       "      <td>-3.574219</td>\n",
       "      <td>0</td>\n",
       "      <td>-3.455074</td>\n",
       "      <td>-3.607869</td>\n",
       "    </tr>\n",
       "    <tr>\n",
       "      <th>156</th>\n",
       "      <td>1.952859</td>\n",
       "      <td>-2.199984</td>\n",
       "      <td>-0.324764</td>\n",
       "      <td>999.0</td>\n",
       "      <td>-3.632812</td>\n",
       "      <td>2</td>\n",
       "      <td>0</td>\n",
       "      <td>222973</td>\n",
       "      <td>-3.573989</td>\n",
       "      <td>0.058824</td>\n",
       "      <td>1.0</td>\n",
       "      <td>-3.574219</td>\n",
       "      <td>1</td>\n",
       "      <td>-3.455074</td>\n",
       "      <td>-3.607869</td>\n",
       "    </tr>\n",
       "    <tr>\n",
       "      <th>157</th>\n",
       "      <td>3.152188</td>\n",
       "      <td>2.307447</td>\n",
       "      <td>-0.330013</td>\n",
       "      <td>999.0</td>\n",
       "      <td>-3.632812</td>\n",
       "      <td>2</td>\n",
       "      <td>0</td>\n",
       "      <td>222973</td>\n",
       "      <td>-3.573989</td>\n",
       "      <td>0.058824</td>\n",
       "      <td>1.0</td>\n",
       "      <td>-3.574219</td>\n",
       "      <td>1</td>\n",
       "      <td>-3.455074</td>\n",
       "      <td>-3.607869</td>\n",
       "    </tr>\n",
       "  </tbody>\n",
       "</table>\n",
       "<p>7663518 rows × 15 columns</p>\n",
       "</div>"
      ],
      "text/plain": [
       "                   trk_pt   trk_eta   trk_phi  trk_d0     trk_z0  trk_fake  \\\n",
       "entry  subentry                                                              \n",
       "0      0         2.623967  1.301414 -0.289234   999.0  -0.878906         2   \n",
       "       1         3.435026  0.566814 -0.159267   999.0   3.339844         2   \n",
       "       2         3.774908  1.815973 -0.240375   999.0   4.921875         1   \n",
       "       3         2.641448 -1.435747 -0.128747   999.0  -0.468750         2   \n",
       "       4         2.320653  1.837421  0.032604   999.0   4.980469         1   \n",
       "...                   ...       ...       ...     ...        ...       ...   \n",
       "222973 153       2.327952  1.944034 -0.237651   999.0  -0.585938         2   \n",
       "       154       2.006145 -2.219047 -0.908713   999.0  10.195312         2   \n",
       "       155       5.391940  2.357763 -0.499422   999.0  -1.523438         2   \n",
       "       156       1.952859 -2.199984 -0.324764   999.0  -3.632812         2   \n",
       "       157       3.152188  2.307447 -0.330013   999.0  -3.632812         2   \n",
       "\n",
       "                 is_pv  event_number  z0_reco_fh  distance_from_pv_fh  \\\n",
       "entry  subentry                                                         \n",
       "0      0             0             0    4.863511             5.742417   \n",
       "       1             0             0    4.863511             1.523667   \n",
       "       2             1             0    4.863511             0.058364   \n",
       "       3             0             0    4.863511             5.332261   \n",
       "       4             1             0    4.863511             0.116958   \n",
       "...                ...           ...         ...                  ...   \n",
       "222973 153           0        222973   -3.573989             2.988051   \n",
       "       154           0        222973   -3.573989            13.769301   \n",
       "       155           0        222973   -3.573989             2.050551   \n",
       "       156           0        222973   -3.573989             0.058824   \n",
       "       157           0        222973   -3.573989             0.058824   \n",
       "\n",
       "                 trk_pv_assoc_fh  z0_reco_db  trk_pv_assoc_db  z0_reco_fh_cor  \\\n",
       "entry  subentry                                                                 \n",
       "0      0                     0.0    4.980469                0        4.982426   \n",
       "       1                     0.0    4.980469                0        4.982426   \n",
       "       2                     1.0    4.980469                1        4.982426   \n",
       "       3                     0.0    4.980469                0        4.982426   \n",
       "       4                     1.0    4.980469                1        4.982426   \n",
       "...                          ...         ...              ...             ...   \n",
       "222973 153                   0.0   -3.574219                0       -3.455074   \n",
       "       154                   0.0   -3.574219                0       -3.455074   \n",
       "       155                   1.0   -3.574219                0       -3.455074   \n",
       "       156                   1.0   -3.574219                1       -3.455074   \n",
       "       157                   1.0   -3.574219                1       -3.455074   \n",
       "\n",
       "                 z0_reco_db_cor  \n",
       "entry  subentry                  \n",
       "0      0               5.014663  \n",
       "       1               5.014663  \n",
       "       2               5.014663  \n",
       "       3               5.014663  \n",
       "       4               5.014663  \n",
       "...                         ...  \n",
       "222973 153            -3.607869  \n",
       "       154            -3.607869  \n",
       "       155            -3.607869  \n",
       "       156            -3.607869  \n",
       "       157            -3.607869  \n",
       "\n",
       "[7663518 rows x 15 columns]"
      ]
     },
     "execution_count": 130,
     "metadata": {},
     "output_type": "execute_result"
    }
   ],
   "source": [
    "pm1.trk"
   ]
  },
  {
   "cell_type": "code",
   "execution_count": 132,
   "metadata": {},
   "outputs": [
    {
     "name": "stderr",
     "output_type": "stream",
     "text": [
      "/tmp/ipykernel_219969/1694927131.py:4: SettingWithCopyWarning: \n",
      "A value is trying to be set on a copy of a slice from a DataFrame.\n",
      "Try using .loc[row_indexer,col_indexer] = value instead\n",
      "\n",
      "See the caveats in the documentation: https://pandas.pydata.org/pandas-docs/stable/user_guide/indexing.html#returning-a-view-versus-a-copy\n",
      "  _pv.trk['distance_from_pv_fh'] = np.abs(_pv.trk['z0_reco_fh_cor'] - _pv.trk['trk_z0'])\n",
      "/tmp/ipykernel_219969/1694927131.py:5: SettingWithCopyWarning: \n",
      "A value is trying to be set on a copy of a slice from a DataFrame.\n",
      "Try using .loc[row_indexer,col_indexer] = value instead\n",
      "\n",
      "See the caveats in the documentation: https://pandas.pydata.org/pandas-docs/stable/user_guide/indexing.html#returning-a-view-versus-a-copy\n",
      "  _pv.trk[\"trk_pv_assoc_fh\"] = _pv.fh_pv_association(_pv.trk[\"distance_from_pv_fh\"], _pv.trk[\"trk_eta\"])\n"
     ]
    },
    {
     "name": "stdout",
     "output_type": "stream",
     "text": [
      "Fast Histo:  {'tn': 5514003, 'fp': 927996, 'fn': 84426, 'tp': 1137093, 'TPR': 0.9308844152239957, 'FPR': 0.14405404285222645, 'AUC': 0.8934151861858847}\n"
     ]
    },
    {
     "name": "stderr",
     "output_type": "stream",
     "text": [
      "/tmp/ipykernel_219969/1694927131.py:12: SettingWithCopyWarning: \n",
      "A value is trying to be set on a copy of a slice from a DataFrame.\n",
      "Try using .loc[row_indexer,col_indexer] = value instead\n",
      "\n",
      "See the caveats in the documentation: https://pandas.pydata.org/pandas-docs/stable/user_guide/indexing.html#returning-a-view-versus-a-copy\n",
      "  _pv.trk[\"distance_from_pv_db\"] = np.abs(_pv.trk[\"z0_reco_db_cor\"]-_pv.trk[\"trk_z0\"])\n",
      "/tmp/ipykernel_219969/1694927131.py:13: SettingWithCopyWarning: \n",
      "A value is trying to be set on a copy of a slice from a DataFrame.\n",
      "Try using .loc[row_indexer,col_indexer] = value instead\n",
      "\n",
      "See the caveats in the documentation: https://pandas.pydata.org/pandas-docs/stable/user_guide/indexing.html#returning-a-view-versus-a-copy\n",
      "  _pv.trk[\"trk_pv_assoc_db\"] = _pv.fh_pv_association(_pv.trk[\"distance_from_pv_db\"], _pv.trk[\"trk_eta\"])\n"
     ]
    },
    {
     "name": "stdout",
     "output_type": "stream",
     "text": [
      "DBSCAN:  {'tn': 5485658, 'fp': 956341, 'fn': 85929, 'tp': 1135590, 'TPR': 0.9296539800035857, 'FPR': 0.148454074581508, 'AUC': 0.8905999527110389}\n"
     ]
    },
    {
     "name": "stderr",
     "output_type": "stream",
     "text": [
      "/tmp/ipykernel_219969/1694927131.py:4: SettingWithCopyWarning: \n",
      "A value is trying to be set on a copy of a slice from a DataFrame.\n",
      "Try using .loc[row_indexer,col_indexer] = value instead\n",
      "\n",
      "See the caveats in the documentation: https://pandas.pydata.org/pandas-docs/stable/user_guide/indexing.html#returning-a-view-versus-a-copy\n",
      "  _pv.trk['distance_from_pv_fh'] = np.abs(_pv.trk['z0_reco_fh_cor'] - _pv.trk['trk_z0'])\n",
      "/tmp/ipykernel_219969/1694927131.py:5: SettingWithCopyWarning: \n",
      "A value is trying to be set on a copy of a slice from a DataFrame.\n",
      "Try using .loc[row_indexer,col_indexer] = value instead\n",
      "\n",
      "See the caveats in the documentation: https://pandas.pydata.org/pandas-docs/stable/user_guide/indexing.html#returning-a-view-versus-a-copy\n",
      "  _pv.trk[\"trk_pv_assoc_fh\"] = _pv.fh_pv_association(_pv.trk[\"distance_from_pv_fh\"], _pv.trk[\"trk_eta\"])\n"
     ]
    },
    {
     "name": "stdout",
     "output_type": "stream",
     "text": [
      "Fast Histo:  {'tn': 14208941, 'fp': 2380340, 'fn': 216451, 'tp': 2764791, 'TPR': 0.9273956961561658, 'FPR': 0.14348662850427332, 'AUC': 0.8919545338259462}\n"
     ]
    },
    {
     "name": "stderr",
     "output_type": "stream",
     "text": [
      "/tmp/ipykernel_219969/1694927131.py:12: SettingWithCopyWarning: \n",
      "A value is trying to be set on a copy of a slice from a DataFrame.\n",
      "Try using .loc[row_indexer,col_indexer] = value instead\n",
      "\n",
      "See the caveats in the documentation: https://pandas.pydata.org/pandas-docs/stable/user_guide/indexing.html#returning-a-view-versus-a-copy\n",
      "  _pv.trk[\"distance_from_pv_db\"] = np.abs(_pv.trk[\"z0_reco_db_cor\"]-_pv.trk[\"trk_z0\"])\n",
      "/tmp/ipykernel_219969/1694927131.py:13: SettingWithCopyWarning: \n",
      "A value is trying to be set on a copy of a slice from a DataFrame.\n",
      "Try using .loc[row_indexer,col_indexer] = value instead\n",
      "\n",
      "See the caveats in the documentation: https://pandas.pydata.org/pandas-docs/stable/user_guide/indexing.html#returning-a-view-versus-a-copy\n",
      "  _pv.trk[\"trk_pv_assoc_db\"] = _pv.fh_pv_association(_pv.trk[\"distance_from_pv_db\"], _pv.trk[\"trk_eta\"])\n"
     ]
    },
    {
     "name": "stdout",
     "output_type": "stream",
     "text": [
      "DBSCAN:  {'tn': 14119874, 'fp': 2469407, 'fn': 217637, 'tp': 2763605, 'TPR': 0.9269978753821394, 'FPR': 0.14885557728511561, 'AUC': 0.8890711490485118}\n"
     ]
    },
    {
     "name": "stderr",
     "output_type": "stream",
     "text": [
      "/tmp/ipykernel_219969/1694927131.py:4: SettingWithCopyWarning: \n",
      "A value is trying to be set on a copy of a slice from a DataFrame.\n",
      "Try using .loc[row_indexer,col_indexer] = value instead\n",
      "\n",
      "See the caveats in the documentation: https://pandas.pydata.org/pandas-docs/stable/user_guide/indexing.html#returning-a-view-versus-a-copy\n",
      "  _pv.trk['distance_from_pv_fh'] = np.abs(_pv.trk['z0_reco_fh_cor'] - _pv.trk['trk_z0'])\n",
      "/tmp/ipykernel_219969/1694927131.py:5: SettingWithCopyWarning: \n",
      "A value is trying to be set on a copy of a slice from a DataFrame.\n",
      "Try using .loc[row_indexer,col_indexer] = value instead\n",
      "\n",
      "See the caveats in the documentation: https://pandas.pydata.org/pandas-docs/stable/user_guide/indexing.html#returning-a-view-versus-a-copy\n",
      "  _pv.trk[\"trk_pv_assoc_fh\"] = _pv.fh_pv_association(_pv.trk[\"distance_from_pv_fh\"], _pv.trk[\"trk_eta\"])\n"
     ]
    },
    {
     "name": "stdout",
     "output_type": "stream",
     "text": [
      "Fast Histo:  {'tn': 9907842, 'fp': 1645603, 'fn': 153874, 'tp': 1839280, 'TPR': 0.9227987400873189, 'FPR': 0.14243396666535393, 'AUC': 0.8901823867109825}\n"
     ]
    },
    {
     "name": "stderr",
     "output_type": "stream",
     "text": [
      "/tmp/ipykernel_219969/1694927131.py:12: SettingWithCopyWarning: \n",
      "A value is trying to be set on a copy of a slice from a DataFrame.\n",
      "Try using .loc[row_indexer,col_indexer] = value instead\n",
      "\n",
      "See the caveats in the documentation: https://pandas.pydata.org/pandas-docs/stable/user_guide/indexing.html#returning-a-view-versus-a-copy\n",
      "  _pv.trk[\"distance_from_pv_db\"] = np.abs(_pv.trk[\"z0_reco_db_cor\"]-_pv.trk[\"trk_z0\"])\n",
      "/tmp/ipykernel_219969/1694927131.py:13: SettingWithCopyWarning: \n",
      "A value is trying to be set on a copy of a slice from a DataFrame.\n",
      "Try using .loc[row_indexer,col_indexer] = value instead\n",
      "\n",
      "See the caveats in the documentation: https://pandas.pydata.org/pandas-docs/stable/user_guide/indexing.html#returning-a-view-versus-a-copy\n",
      "  _pv.trk[\"trk_pv_assoc_db\"] = _pv.fh_pv_association(_pv.trk[\"distance_from_pv_db\"], _pv.trk[\"trk_eta\"])\n"
     ]
    },
    {
     "name": "stdout",
     "output_type": "stream",
     "text": [
      "DBSCAN:  {'tn': 9834687, 'fp': 1718758, 'fn': 154007, 'tp': 1839147, 'TPR': 0.9227320116759669, 'FPR': 0.14876584430012002, 'AUC': 0.8869830836879233}\n"
     ]
    }
   ],
   "source": [
    "fh_metrics = []\n",
    "db_metrics = []\n",
    "for _pv in [pv1, pv2, pv3]:\n",
    "    _pv.trk['distance_from_pv_fh'] = np.abs(_pv.trk['z0_reco_fh_cor'] - _pv.trk['trk_z0'])\n",
    "    _pv.trk[\"trk_pv_assoc_fh\"] = _pv.fh_pv_association(_pv.trk[\"distance_from_pv_fh\"], _pv.trk[\"trk_eta\"])\n",
    "    fh_metric = _pv.trk_vertex_association(\n",
    "    _pv.trk['is_pv'].values, _pv.trk[\"trk_pv_assoc_fh\"].values)\n",
    "    fh_metrics.append(fh_metric)\n",
    "    \n",
    "    print(\"Fast Histo: \", fh_metric)\n",
    "    \n",
    "    _pv.trk[\"distance_from_pv_db\"] = np.abs(_pv.trk[\"z0_reco_db_cor\"]-_pv.trk[\"trk_z0\"])\n",
    "    _pv.trk[\"trk_pv_assoc_db\"] = _pv.fh_pv_association(_pv.trk[\"distance_from_pv_db\"], _pv.trk[\"trk_eta\"])\n",
    "    \n",
    "    db_metric = _pv.trk_vertex_association(\n",
    "    _pv.trk[\"is_pv\"].values, _pv.trk[\"trk_pv_assoc_db\"].values)\n",
    "    \n",
    "    db_metrics.append(db_metric)\n",
    "    print(\"DBSCAN: \",  db_metric)\n",
    "    "
   ]
  },
  {
   "cell_type": "code",
   "execution_count": 79,
   "metadata": {},
   "outputs": [
    {
     "name": "stderr",
     "output_type": "stream",
     "text": [
      "/home/lucas/Documents/RA/db-clustering/notebooks/primaryvertexingtools.py:192: SettingWithCopyWarning: \n",
      "A value is trying to be set on a copy of a slice from a DataFrame.\n",
      "Try using .loc[row_indexer,col_indexer] = value instead\n",
      "\n",
      "See the caveats in the documentation: https://pandas.pydata.org/pandas-docs/stable/user_guide/indexing.html#returning-a-view-versus-a-copy\n",
      "  self.trk[\"event_number\"] = self.trk.index.get_level_values(0).values\n",
      "/home/lucas/Documents/RA/db-clustering/notebooks/primaryvertexingtools.py:204: SettingWithCopyWarning: \n",
      "A value is trying to be set on a copy of a slice from a DataFrame.\n",
      "Try using .loc[row_indexer,col_indexer] = value instead\n",
      "\n",
      "See the caveats in the documentation: https://pandas.pydata.org/pandas-docs/stable/user_guide/indexing.html#returning-a-view-versus-a-copy\n",
      "  self.trk[\"z0_reco_fh_cor\"] = self.trk[\"z0_reco_fh\"] + bias\n",
      "/home/lucas/Documents/RA/db-clustering/notebooks/primaryvertexingtools.py:208: SettingWithCopyWarning: \n",
      "A value is trying to be set on a copy of a slice from a DataFrame.\n",
      "Try using .loc[row_indexer,col_indexer] = value instead\n",
      "\n",
      "See the caveats in the documentation: https://pandas.pydata.org/pandas-docs/stable/user_guide/indexing.html#returning-a-view-versus-a-copy\n",
      "  self.trk[\"z0_reco_db_cor\"] = self.trk[\"z0_reco_db\"]\n"
     ]
    },
    {
     "name": "stdout",
     "output_type": "stream",
     "text": [
      "0.118915215\n",
      "positive bias 0.034193933\n",
      "negative bias -0.03364992\n"
     ]
    },
    {
     "name": "stderr",
     "output_type": "stream",
     "text": [
      "/home/lucas/Documents/RA/db-clustering/notebooks/primaryvertexingtools.py:192: SettingWithCopyWarning: \n",
      "A value is trying to be set on a copy of a slice from a DataFrame.\n",
      "Try using .loc[row_indexer,col_indexer] = value instead\n",
      "\n",
      "See the caveats in the documentation: https://pandas.pydata.org/pandas-docs/stable/user_guide/indexing.html#returning-a-view-versus-a-copy\n",
      "  self.trk[\"event_number\"] = self.trk.index.get_level_values(0).values\n",
      "/home/lucas/Documents/RA/db-clustering/notebooks/primaryvertexingtools.py:204: SettingWithCopyWarning: \n",
      "A value is trying to be set on a copy of a slice from a DataFrame.\n",
      "Try using .loc[row_indexer,col_indexer] = value instead\n",
      "\n",
      "See the caveats in the documentation: https://pandas.pydata.org/pandas-docs/stable/user_guide/indexing.html#returning-a-view-versus-a-copy\n",
      "  self.trk[\"z0_reco_fh_cor\"] = self.trk[\"z0_reco_fh\"] + bias\n",
      "/home/lucas/Documents/RA/db-clustering/notebooks/primaryvertexingtools.py:208: SettingWithCopyWarning: \n",
      "A value is trying to be set on a copy of a slice from a DataFrame.\n",
      "Try using .loc[row_indexer,col_indexer] = value instead\n",
      "\n",
      "See the caveats in the documentation: https://pandas.pydata.org/pandas-docs/stable/user_guide/indexing.html#returning-a-view-versus-a-copy\n",
      "  self.trk[\"z0_reco_db_cor\"] = self.trk[\"z0_reco_db\"]\n"
     ]
    },
    {
     "name": "stdout",
     "output_type": "stream",
     "text": [
      "0.118837714\n",
      "positive bias 0.03460121\n",
      "negative bias -0.034811676\n"
     ]
    },
    {
     "name": "stderr",
     "output_type": "stream",
     "text": [
      "/home/lucas/Documents/RA/db-clustering/notebooks/primaryvertexingtools.py:192: SettingWithCopyWarning: \n",
      "A value is trying to be set on a copy of a slice from a DataFrame.\n",
      "Try using .loc[row_indexer,col_indexer] = value instead\n",
      "\n",
      "See the caveats in the documentation: https://pandas.pydata.org/pandas-docs/stable/user_guide/indexing.html#returning-a-view-versus-a-copy\n",
      "  self.trk[\"event_number\"] = self.trk.index.get_level_values(0).values\n",
      "/home/lucas/Documents/RA/db-clustering/notebooks/primaryvertexingtools.py:204: SettingWithCopyWarning: \n",
      "A value is trying to be set on a copy of a slice from a DataFrame.\n",
      "Try using .loc[row_indexer,col_indexer] = value instead\n",
      "\n",
      "See the caveats in the documentation: https://pandas.pydata.org/pandas-docs/stable/user_guide/indexing.html#returning-a-view-versus-a-copy\n",
      "  self.trk[\"z0_reco_fh_cor\"] = self.trk[\"z0_reco_fh\"] + bias\n",
      "/home/lucas/Documents/RA/db-clustering/notebooks/primaryvertexingtools.py:208: SettingWithCopyWarning: \n",
      "A value is trying to be set on a copy of a slice from a DataFrame.\n",
      "Try using .loc[row_indexer,col_indexer] = value instead\n",
      "\n",
      "See the caveats in the documentation: https://pandas.pydata.org/pandas-docs/stable/user_guide/indexing.html#returning-a-view-versus-a-copy\n",
      "  self.trk[\"z0_reco_db_cor\"] = self.trk[\"z0_reco_db\"]\n"
     ]
    },
    {
     "name": "stdout",
     "output_type": "stream",
     "text": [
      "0.118644714\n",
      "positive bias 0.0342772\n",
      "negative bias -0.03402424\n"
     ]
    }
   ],
   "source": [
    "pm1 = PerformanceMetrics(pv1)\n",
    "pm2 = PerformanceMetrics(pv2)\n",
    "pm3 = PerformanceMetrics(pv3)"
   ]
  },
  {
   "cell_type": "code",
   "execution_count": 81,
   "metadata": {},
   "outputs": [
    {
     "name": "stdout",
     "output_type": "stream",
     "text": [
      "Help on method pv_efficiency in module primaryvertexingtools:\n",
      "\n",
      "pv_efficiency(res: <built-in function array>, display=False) method of primaryvertexingtools.PerformanceMetrics instance\n",
      "\n"
     ]
    }
   ],
   "source": [
    "help(pm1.pv_efficiency)"
   ]
  },
  {
   "cell_type": "code",
   "execution_count": 82,
   "metadata": {},
   "outputs": [
    {
     "name": "stdout",
     "output_type": "stream",
     "text": [
      "76.27 %\n"
     ]
    }
   ],
   "source": [
    "pm1.pv_efficiency((pm1.z0_gen-pm1.z0_reco_db_cor), display=True)"
   ]
  },
  {
   "cell_type": "code",
   "execution_count": 83,
   "metadata": {},
   "outputs": [
    {
     "name": "stdout",
     "output_type": "stream",
     "text": [
      "78.46 %\n"
     ]
    }
   ],
   "source": [
    "pm2.pv_efficiency((pm2.z0_gen-pm2.z0_reco_db_cor), display=True)"
   ]
  },
  {
   "cell_type": "code",
   "execution_count": 84,
   "metadata": {},
   "outputs": [
    {
     "name": "stdout",
     "output_type": "stream",
     "text": [
      "79.26 %\n"
     ]
    }
   ],
   "source": [
    "pm3.pv_efficiency((pm3.z0_gen-pm3.z0_reco_db_cor), display=True)"
   ]
  },
  {
   "cell_type": "code",
   "execution_count": 115,
   "metadata": {},
   "outputs": [
    {
     "name": "stdout",
     "output_type": "stream",
     "text": [
      "72.72 %\n",
      "75.06 %\n",
      "76.71 %\n"
     ]
    }
   ],
   "source": [
    "pm1.pv_efficiency((pm1.z0_gen-pm1.z0_reco_fh_cor), display=True)\n",
    "pm2.pv_efficiency((pm2.z0_gen-pm2.z0_reco_fh_cor), display=True)\n",
    "pm3.pv_efficiency((pm3.z0_gen-pm3.z0_reco_fh_cor),  display=True)"
   ]
  },
  {
   "cell_type": "code",
   "execution_count": 88,
   "metadata": {},
   "outputs": [
    {
     "name": "stderr",
     "output_type": "stream",
     "text": [
      "No artists with labels found to put in legend.  Note that artists whose label start with an underscore are ignored when legend() is called with no argument.\n"
     ]
    },
    {
     "data": {
      "image/png": "[encoded data removed]",
      "text/plain": [
       "<Figure size 720x720 with 1 Axes>"
      ]
     },
     "metadata": {
      "needs_background": "light"
     },
     "output_type": "display_data"
    }
   ],
   "source": [
    "db1 = pm1.plot_pv_efficiency_z0(z0_gen=pm1.z0_gen, z0_reco=pm1.z0_reco_db_cor)"
   ]
  },
  {
   "cell_type": "code",
   "execution_count": 89,
   "metadata": {},
   "outputs": [
    {
     "name": "stderr",
     "output_type": "stream",
     "text": [
      "No artists with labels found to put in legend.  Note that artists whose label start with an underscore are ignored when legend() is called with no argument.\n"
     ]
    },
    {
     "data": {
      "image/png": "[encoded data removed]",
      "text/plain": [
       "<Figure size 720x720 with 1 Axes>"
      ]
     },
     "metadata": {
      "needs_background": "light"
     },
     "output_type": "display_data"
    }
   ],
   "source": [
    "db2 = pm2.plot_pv_efficiency_z0(z0_gen=pm2.z0_gen, z0_reco=pm2.z0_reco_db_cor)"
   ]
  },
  {
   "cell_type": "code",
   "execution_count": 90,
   "metadata": {},
   "outputs": [
    {
     "name": "stderr",
     "output_type": "stream",
     "text": [
      "No artists with labels found to put in legend.  Note that artists whose label start with an underscore are ignored when legend() is called with no argument.\n"
     ]
    },
    {
     "data": {
      "image/png": "[encoded data removed]",
      "text/plain": [
       "<Figure size 720x720 with 1 Axes>"
      ]
     },
     "metadata": {
      "needs_background": "light"
     },
     "output_type": "display_data"
    }
   ],
   "source": [
    "db3 = pm3.plot_pv_efficiency_z0(z0_gen=pm3.z0_gen, z0_reco=pm3.z0_reco_db_cor)"
   ]
  },
  {
   "cell_type": "code",
   "execution_count": 92,
   "metadata": {},
   "outputs": [
    {
     "name": "stderr",
     "output_type": "stream",
     "text": [
      "No artists with labels found to put in legend.  Note that artists whose label start with an underscore are ignored when legend() is called with no argument.\n"
     ]
    },
    {
     "data": {
      "image/png": "[encoded data removed]",
      "text/plain": [
       "<Figure size 720x720 with 1 Axes>"
      ]
     },
     "metadata": {
      "needs_background": "light"
     },
     "output_type": "display_data"
    }
   ],
   "source": [
    "fh1 = pm1.plot_pv_efficiency_z0(z0_gen=pm1.z0_gen, z0_reco=pm1.z0_reco_fh_cor)"
   ]
  },
  {
   "cell_type": "code",
   "execution_count": 93,
   "metadata": {},
   "outputs": [
    {
     "name": "stderr",
     "output_type": "stream",
     "text": [
      "No artists with labels found to put in legend.  Note that artists whose label start with an underscore are ignored when legend() is called with no argument.\n"
     ]
    },
    {
     "data": {
      "image/png": "[encoded data removed]",
      "text/plain": [
       "<Figure size 720x720 with 1 Axes>"
      ]
     },
     "metadata": {
      "needs_background": "light"
     },
     "output_type": "display_data"
    }
   ],
   "source": [
    "fh2 = pm2.plot_pv_efficiency_z0(z0_gen=pm2.z0_gen, z0_reco=pm2.z0_reco_fh_cor)"
   ]
  },
  {
   "cell_type": "code",
   "execution_count": 94,
   "metadata": {},
   "outputs": [
    {
     "name": "stderr",
     "output_type": "stream",
     "text": [
      "No artists with labels found to put in legend.  Note that artists whose label start with an underscore are ignored when legend() is called with no argument.\n"
     ]
    },
    {
     "data": {
      "image/png": "[encoded data removed]",
      "text/plain": [
       "<Figure size 720x720 with 1 Axes>"
      ]
     },
     "metadata": {
      "needs_background": "light"
     },
     "output_type": "display_data"
    }
   ],
   "source": [
    "fh3 = pm3.plot_pv_efficiency_z0(z0_gen=pm3.z0_gen, z0_reco=pm3.z0_reco_fh_cor)"
   ]
  },
  {
   "cell_type": "code",
   "execution_count": 129,
   "metadata": {},
   "outputs": [
    {
     "data": {
      "text/plain": [
       "Text(0, 1, 'Efficiency')"
      ]
     },
     "execution_count": 129,
     "metadata": {},
     "output_type": "execute_result"
    },
    {
     "data": {
      "image/png": "[encoded data removed]",
      "text/plain": [
       "<Figure size 1152x576 with 2 Axes>"
      ]
     },
     "metadata": {
      "needs_background": "light"
     },
     "output_type": "display_data"
    }
   ],
   "source": [
    "f, ax = plt.subplots(1, 2, figsize=(16,8), sharey=True, sharex=True)\n",
    "ax[0].errorbar(fh1['x'], fh1['eff'], xerr=fh1['error_x'],yerr=[fh1['lower_error'], fh1['upper_error']], ls = 'none', label = 'bin1')\n",
    "ax[0].errorbar(fh2['x'], fh2['eff'], xerr=fh2['error_x'],yerr=[fh2['lower_error'], fh2['upper_error']], ls = 'none', label = 'bin2')\n",
    "ax[0].errorbar(fh3['x'], fh3['eff'], xerr=fh3['error_x'],yerr=[fh3['lower_error'], fh3['upper_error']], ls = 'none', label = 'bin3')\n",
    "\n",
    "ax[1].errorbar(db1['x'], fh1['eff'], xerr=db1['error_x'],yerr=[db1['lower_error'], db1['upper_error']], ls = 'none', label = 'bin1')\n",
    "ax[1].errorbar(db2['x'], fh2['eff'], xerr=db2['error_x'],yerr=[db2['lower_error'], db2['upper_error']], ls = 'none', label = 'bin2')\n",
    "ax[1].errorbar(db3['x'], fh3['eff'], xerr=db3['error_x'],yerr=[db3['lower_error'], db3['upper_error']], ls = 'none', label = 'bin3')\n",
    "\n",
    "\n",
    "\n",
    "\n",
    "ax[0].legend(ncol= 3)\n",
    "ax[1].legend(ncol=3)\n",
    "plt.subplots_adjust(wspace=0)\n",
    "ax[0].set_ylim(0.5, 1.0)\n",
    "ax[0].set_title('Fast Histo')\n",
    "ax[1].set_title('DBSCAN')\n",
    "ax[0].set_xlabel(r'$z_{0}^{PV, Gen}$ [cm]')\n",
    "ax[1].set_xlabel(r'$z_{0}^{PV, Gen}$ [cm]')\n",
    "ax[0].set_ylabel(r'Efficiency')"
   ]
  },
  {
   "cell_type": "code",
   "execution_count": 114,
   "metadata": {},
   "outputs": [],
   "source": [
    "bins_mid = [144.4284, 180.3319, 220.6647]"
   ]
  },
  {
   "cell_type": "code",
   "execution_count": 116,
   "metadata": {},
   "outputs": [],
   "source": [
    "fh_p = [72.72, 75.06, 76.71]\n",
    "db_p = [76.27, 78.46, 79.26]"
   ]
  },
  {
   "cell_type": "code",
   "execution_count": 128,
   "metadata": {},
   "outputs": [
    {
     "data": {
      "text/plain": [
       "<matplotlib.legend.Legend at 0x7f8e5f130eb0>"
      ]
     },
     "execution_count": 128,
     "metadata": {},
     "output_type": "execute_result"
    },
    {
     "data": {
      "image/png": "[encoded data removed]",
      "text/plain": [
       "<Figure size 720x720 with 1 Axes>"
      ]
     },
     "metadata": {
      "needs_background": "light"
     },
     "output_type": "display_data"
    }
   ],
   "source": [
    "plt.plot(bins_mid, fh_p ,'o', label ='Fast histo', ms=12,)\n",
    "plt.plot(bins_mid, db_p,'o', label = 'DBSCAN', ms=12)\n",
    "plt.xlabel('Mean number of tracks')\n",
    "plt.ylabel('Efficiency [%]')\n",
    "plt.legend()"
   ]
  },
  {
   "cell_type": "code",
   "execution_count": 173,
   "metadata": {},
   "outputs": [
    {
     "data": {
      "text/plain": [
       "[{'tn': 5485658,\n",
       "  'fp': 956341,\n",
       "  'fn': 85929,\n",
       "  'tp': 1135590,\n",
       "  'TPR': 0.9296539800035857,\n",
       "  'FPR': 0.148454074581508,\n",
       "  'AUC': 0.8905999527110389},\n",
       " {'tn': 14119874,\n",
       "  'fp': 2469407,\n",
       "  'fn': 217637,\n",
       "  'tp': 2763605,\n",
       "  'TPR': 0.9269978753821394,\n",
       "  'FPR': 0.14885557728511561,\n",
       "  'AUC': 0.8890711490485118},\n",
       " {'tn': 9834687,\n",
       "  'fp': 1718758,\n",
       "  'fn': 154007,\n",
       "  'tp': 1839147,\n",
       "  'TPR': 0.9227320116759669,\n",
       "  'FPR': 0.14876584430012002,\n",
       "  'AUC': 0.8869830836879233}]"
      ]
     },
     "execution_count": 173,
     "metadata": {},
     "output_type": "execute_result"
    }
   ],
   "source": [
    "db_metrics"
   ]
  },
  {
   "cell_type": "code",
   "execution_count": 144,
   "metadata": {},
   "outputs": [],
   "source": [
    "db_FPR = [0.14845, 0.14885, 0.14876]\n",
    "db_TPR = [0.92965, 0.92699, 0.92273]\n",
    "fh_FPR = [0.14405, 0.14348, 0.14243]\n",
    "fh_TPR = [0.93088, 0.92739, 0.92289]"
   ]
  },
  {
   "cell_type": "code",
   "execution_count": 174,
   "metadata": {},
   "outputs": [],
   "source": [
    "fh_AUC = [0.89341, 0.89195, 0.890182] \n",
    "db_AUC = [0.89059, 0.88907, 0.88698]"
   ]
  },
  {
   "cell_type": "code",
   "execution_count": 155,
   "metadata": {},
   "outputs": [
    {
     "data": {
      "text/plain": [
       "(0.14, 0.15)"
      ]
     },
     "execution_count": 155,
     "metadata": {},
     "output_type": "execute_result"
    },
    {
     "data": {
      "image/png": "[encoded data removed]",
      "text/plain": [
       "<Figure size 720x720 with 1 Axes>"
      ]
     },
     "metadata": {
      "needs_background": "light"
     },
     "output_type": "display_data"
    }
   ],
   "source": [
    "plt.plot(bins_mid, db_FPR, 'o', label ='DBSCAN', ms=12)\n",
    "plt.plot(bins_mid, fh_FPR,'o', label ='FastHisto', ms=12)\n",
    "plt.legend()\n",
    "plt.xlabel('Mean number of tracks')\n",
    "plt.ylabel(\"False Positive Rate\")\n",
    "plt.ylim(0.14, 0.15)"
   ]
  },
  {
   "cell_type": "code",
   "execution_count": 159,
   "metadata": {},
   "outputs": [
    {
     "data": {
      "text/plain": [
       "(0.92, 0.935)"
      ]
     },
     "execution_count": 159,
     "metadata": {},
     "output_type": "execute_result"
    },
    {
     "data": {
      "image/png": "[encoded data removed]",
      "text/plain": [
       "<Figure size 720x720 with 1 Axes>"
      ]
     },
     "metadata": {
      "needs_background": "light"
     },
     "output_type": "display_data"
    }
   ],
   "source": [
    "plt.plot(bins_mid, db_TPR, 'o', label ='DBSCAN', ms=12)\n",
    "plt.plot(bins_mid, fh_TPR,'o', label ='FastHisto', ms=12)\n",
    "plt.legend()\n",
    "plt.xlabel('Mean number of tracks')\n",
    "plt.ylabel(\"True Positive Rate\")\n",
    "plt.ylim(0.92, 0.935)"
   ]
  },
  {
   "cell_type": "code",
   "execution_count": 172,
   "metadata": {},
   "outputs": [
    {
     "data": {
      "text/plain": [
       "<matplotlib.legend.Legend at 0x7f8f2cfd8430>"
      ]
     },
     "execution_count": 172,
     "metadata": {},
     "output_type": "execute_result"
    },
    {
     "data": {
      "image/png": "[encoded data removed]",
      "text/plain": [
       "<Figure size 720x720 with 1 Axes>"
      ]
     },
     "metadata": {
      "needs_background": "light"
     },
     "output_type": "display_data"
    }
   ],
   "source": [
    "plt.plot(db_FPR[0], db_TPR[0], 'o', label = 'DB: low PU',ms=12, color=\"#9E37AD\")\n",
    "plt.plot(db_FPR[1], db_TPR[1], 'o', label= 'DB: mid PU',ms=12, color=\"#12A863\")\n",
    "plt.plot(db_FPR[2], db_TPR[2], 'o', label = 'DB: high PU',ms=12, color= 'blue')\n",
    "plt.plot(fh_FPR[0], fh_TPR[0], '*', label = 'FH: low PU',ms=14, color=\"#9E37AD\")\n",
    "plt.plot(fh_FPR[1], fh_TPR[1],'*', label = 'FH: mid PU',ms=14,color=\"#12A863\")\n",
    "plt.plot(fh_FPR[2], fh_TPR[2], '*', label = 'FH: high PU',ms=14, color='blue')\n",
    "plt.legend()"
   ]
  },
  {
   "cell_type": "code",
   "execution_count": 177,
   "metadata": {},
   "outputs": [
    {
     "data": {
      "text/plain": [
       "Text(0, 1, 'AUC')"
      ]
     },
     "execution_count": 177,
     "metadata": {},
     "output_type": "execute_result"
    },
    {
     "data": {
      "image/png": "[encoded data removed]",
      "text/plain": [
       "<Figure size 720x720 with 1 Axes>"
      ]
     },
     "metadata": {
      "needs_background": "light"
     },
     "output_type": "display_data"
    }
   ],
   "source": [
    "plt.plot(bins_mid, db_AUC, 'o', label ='DBSCAN', ms=12)\n",
    "plt.plot(bins_mid, fh_AUC,'o', label ='FastHisto', ms=12)\n",
    "plt.legend()\n",
    "plt.xlabel('Mean number of tracks')\n",
    "plt.ylabel(\"AUC\")\n"
   ]
  },
  {
   "cell_type": "code",
   "execution_count": 178,
   "metadata": {},
   "outputs": [
    {
     "data": {
      "text/html": [
       "<div>\n",
       "<style scoped>\n",
       "    .dataframe tbody tr th:only-of-type {\n",
       "        vertical-align: middle;\n",
       "    }\n",
       "\n",
       "    .dataframe tbody tr th {\n",
       "        vertical-align: top;\n",
       "    }\n",
       "\n",
       "    .dataframe thead th {\n",
       "        text-align: right;\n",
       "    }\n",
       "</style>\n",
       "<table border=\"1\" class=\"dataframe\">\n",
       "  <thead>\n",
       "    <tr style=\"text-align: right;\">\n",
       "      <th></th>\n",
       "      <th></th>\n",
       "      <th>trk_pt</th>\n",
       "      <th>trk_eta</th>\n",
       "      <th>trk_phi</th>\n",
       "      <th>trk_d0</th>\n",
       "      <th>trk_z0</th>\n",
       "      <th>trk_fake</th>\n",
       "      <th>is_pv</th>\n",
       "      <th>event_number</th>\n",
       "      <th>z0_reco_fh</th>\n",
       "      <th>distance_from_pv_fh</th>\n",
       "      <th>trk_pv_assoc_fh</th>\n",
       "      <th>z0_reco_db</th>\n",
       "      <th>trk_pv_assoc_db</th>\n",
       "      <th>z0_reco_fh_cor</th>\n",
       "      <th>z0_reco_db_cor</th>\n",
       "      <th>distance_from_pv_db</th>\n",
       "    </tr>\n",
       "    <tr>\n",
       "      <th>entry</th>\n",
       "      <th>subentry</th>\n",
       "      <th></th>\n",
       "      <th></th>\n",
       "      <th></th>\n",
       "      <th></th>\n",
       "      <th></th>\n",
       "      <th></th>\n",
       "      <th></th>\n",
       "      <th></th>\n",
       "      <th></th>\n",
       "      <th></th>\n",
       "      <th></th>\n",
       "      <th></th>\n",
       "      <th></th>\n",
       "      <th></th>\n",
       "      <th></th>\n",
       "      <th></th>\n",
       "    </tr>\n",
       "  </thead>\n",
       "  <tbody>\n",
       "    <tr>\n",
       "      <th rowspan=\"5\" valign=\"top\">0</th>\n",
       "      <th>0</th>\n",
       "      <td>2.623967</td>\n",
       "      <td>1.301414</td>\n",
       "      <td>-0.289234</td>\n",
       "      <td>999.0</td>\n",
       "      <td>-0.878906</td>\n",
       "      <td>2</td>\n",
       "      <td>0</td>\n",
       "      <td>0</td>\n",
       "      <td>4.863511</td>\n",
       "      <td>5.861332</td>\n",
       "      <td>0.0</td>\n",
       "      <td>4.980469</td>\n",
       "      <td>0.0</td>\n",
       "      <td>4.982426</td>\n",
       "      <td>5.014663</td>\n",
       "      <td>5.893569</td>\n",
       "    </tr>\n",
       "    <tr>\n",
       "      <th>1</th>\n",
       "      <td>3.435026</td>\n",
       "      <td>0.566814</td>\n",
       "      <td>-0.159267</td>\n",
       "      <td>999.0</td>\n",
       "      <td>3.339844</td>\n",
       "      <td>2</td>\n",
       "      <td>0</td>\n",
       "      <td>0</td>\n",
       "      <td>4.863511</td>\n",
       "      <td>1.642582</td>\n",
       "      <td>0.0</td>\n",
       "      <td>4.980469</td>\n",
       "      <td>0.0</td>\n",
       "      <td>4.982426</td>\n",
       "      <td>5.014663</td>\n",
       "      <td>1.674819</td>\n",
       "    </tr>\n",
       "    <tr>\n",
       "      <th>2</th>\n",
       "      <td>3.774908</td>\n",
       "      <td>1.815973</td>\n",
       "      <td>-0.240375</td>\n",
       "      <td>999.0</td>\n",
       "      <td>4.921875</td>\n",
       "      <td>1</td>\n",
       "      <td>1</td>\n",
       "      <td>0</td>\n",
       "      <td>4.863511</td>\n",
       "      <td>0.060551</td>\n",
       "      <td>1.0</td>\n",
       "      <td>4.980469</td>\n",
       "      <td>1.0</td>\n",
       "      <td>4.982426</td>\n",
       "      <td>5.014663</td>\n",
       "      <td>0.092788</td>\n",
       "    </tr>\n",
       "    <tr>\n",
       "      <th>3</th>\n",
       "      <td>2.641448</td>\n",
       "      <td>-1.435747</td>\n",
       "      <td>-0.128747</td>\n",
       "      <td>999.0</td>\n",
       "      <td>-0.468750</td>\n",
       "      <td>2</td>\n",
       "      <td>0</td>\n",
       "      <td>0</td>\n",
       "      <td>4.863511</td>\n",
       "      <td>5.451176</td>\n",
       "      <td>0.0</td>\n",
       "      <td>4.980469</td>\n",
       "      <td>0.0</td>\n",
       "      <td>4.982426</td>\n",
       "      <td>5.014663</td>\n",
       "      <td>5.483413</td>\n",
       "    </tr>\n",
       "    <tr>\n",
       "      <th>4</th>\n",
       "      <td>2.320653</td>\n",
       "      <td>1.837421</td>\n",
       "      <td>0.032604</td>\n",
       "      <td>999.0</td>\n",
       "      <td>4.980469</td>\n",
       "      <td>1</td>\n",
       "      <td>1</td>\n",
       "      <td>0</td>\n",
       "      <td>4.863511</td>\n",
       "      <td>0.001957</td>\n",
       "      <td>1.0</td>\n",
       "      <td>4.980469</td>\n",
       "      <td>1.0</td>\n",
       "      <td>4.982426</td>\n",
       "      <td>5.014663</td>\n",
       "      <td>0.034194</td>\n",
       "    </tr>\n",
       "    <tr>\n",
       "      <th>...</th>\n",
       "      <th>...</th>\n",
       "      <td>...</td>\n",
       "      <td>...</td>\n",
       "      <td>...</td>\n",
       "      <td>...</td>\n",
       "      <td>...</td>\n",
       "      <td>...</td>\n",
       "      <td>...</td>\n",
       "      <td>...</td>\n",
       "      <td>...</td>\n",
       "      <td>...</td>\n",
       "      <td>...</td>\n",
       "      <td>...</td>\n",
       "      <td>...</td>\n",
       "      <td>...</td>\n",
       "      <td>...</td>\n",
       "      <td>...</td>\n",
       "    </tr>\n",
       "    <tr>\n",
       "      <th rowspan=\"5\" valign=\"top\">222973</th>\n",
       "      <th>153</th>\n",
       "      <td>2.327952</td>\n",
       "      <td>1.944034</td>\n",
       "      <td>-0.237651</td>\n",
       "      <td>999.0</td>\n",
       "      <td>-0.585938</td>\n",
       "      <td>2</td>\n",
       "      <td>0</td>\n",
       "      <td>222973</td>\n",
       "      <td>-3.573989</td>\n",
       "      <td>2.869136</td>\n",
       "      <td>0.0</td>\n",
       "      <td>-3.574219</td>\n",
       "      <td>0.0</td>\n",
       "      <td>-3.455074</td>\n",
       "      <td>-3.607869</td>\n",
       "      <td>3.021931</td>\n",
       "    </tr>\n",
       "    <tr>\n",
       "      <th>154</th>\n",
       "      <td>2.006145</td>\n",
       "      <td>-2.219047</td>\n",
       "      <td>-0.908713</td>\n",
       "      <td>999.0</td>\n",
       "      <td>10.195312</td>\n",
       "      <td>2</td>\n",
       "      <td>0</td>\n",
       "      <td>222973</td>\n",
       "      <td>-3.573989</td>\n",
       "      <td>13.650386</td>\n",
       "      <td>0.0</td>\n",
       "      <td>-3.574219</td>\n",
       "      <td>0.0</td>\n",
       "      <td>-3.455074</td>\n",
       "      <td>-3.607869</td>\n",
       "      <td>13.803181</td>\n",
       "    </tr>\n",
       "    <tr>\n",
       "      <th>155</th>\n",
       "      <td>5.391940</td>\n",
       "      <td>2.357763</td>\n",
       "      <td>-0.499422</td>\n",
       "      <td>999.0</td>\n",
       "      <td>-1.523438</td>\n",
       "      <td>2</td>\n",
       "      <td>0</td>\n",
       "      <td>222973</td>\n",
       "      <td>-3.573989</td>\n",
       "      <td>1.931636</td>\n",
       "      <td>1.0</td>\n",
       "      <td>-3.574219</td>\n",
       "      <td>1.0</td>\n",
       "      <td>-3.455074</td>\n",
       "      <td>-3.607869</td>\n",
       "      <td>2.084431</td>\n",
       "    </tr>\n",
       "    <tr>\n",
       "      <th>156</th>\n",
       "      <td>1.952859</td>\n",
       "      <td>-2.199984</td>\n",
       "      <td>-0.324764</td>\n",
       "      <td>999.0</td>\n",
       "      <td>-3.632812</td>\n",
       "      <td>2</td>\n",
       "      <td>0</td>\n",
       "      <td>222973</td>\n",
       "      <td>-3.573989</td>\n",
       "      <td>0.177739</td>\n",
       "      <td>1.0</td>\n",
       "      <td>-3.574219</td>\n",
       "      <td>1.0</td>\n",
       "      <td>-3.455074</td>\n",
       "      <td>-3.607869</td>\n",
       "      <td>0.024944</td>\n",
       "    </tr>\n",
       "    <tr>\n",
       "      <th>157</th>\n",
       "      <td>3.152188</td>\n",
       "      <td>2.307447</td>\n",
       "      <td>-0.330013</td>\n",
       "      <td>999.0</td>\n",
       "      <td>-3.632812</td>\n",
       "      <td>2</td>\n",
       "      <td>0</td>\n",
       "      <td>222973</td>\n",
       "      <td>-3.573989</td>\n",
       "      <td>0.177739</td>\n",
       "      <td>1.0</td>\n",
       "      <td>-3.574219</td>\n",
       "      <td>1.0</td>\n",
       "      <td>-3.455074</td>\n",
       "      <td>-3.607869</td>\n",
       "      <td>0.024944</td>\n",
       "    </tr>\n",
       "  </tbody>\n",
       "</table>\n",
       "<p>7663518 rows × 16 columns</p>\n",
       "</div>"
      ],
      "text/plain": [
       "                   trk_pt   trk_eta   trk_phi  trk_d0     trk_z0  trk_fake  \\\n",
       "entry  subentry                                                              \n",
       "0      0         2.623967  1.301414 -0.289234   999.0  -0.878906         2   \n",
       "       1         3.435026  0.566814 -0.159267   999.0   3.339844         2   \n",
       "       2         3.774908  1.815973 -0.240375   999.0   4.921875         1   \n",
       "       3         2.641448 -1.435747 -0.128747   999.0  -0.468750         2   \n",
       "       4         2.320653  1.837421  0.032604   999.0   4.980469         1   \n",
       "...                   ...       ...       ...     ...        ...       ...   \n",
       "222973 153       2.327952  1.944034 -0.237651   999.0  -0.585938         2   \n",
       "       154       2.006145 -2.219047 -0.908713   999.0  10.195312         2   \n",
       "       155       5.391940  2.357763 -0.499422   999.0  -1.523438         2   \n",
       "       156       1.952859 -2.199984 -0.324764   999.0  -3.632812         2   \n",
       "       157       3.152188  2.307447 -0.330013   999.0  -3.632812         2   \n",
       "\n",
       "                 is_pv  event_number  z0_reco_fh  distance_from_pv_fh  \\\n",
       "entry  subentry                                                         \n",
       "0      0             0             0    4.863511             5.861332   \n",
       "       1             0             0    4.863511             1.642582   \n",
       "       2             1             0    4.863511             0.060551   \n",
       "       3             0             0    4.863511             5.451176   \n",
       "       4             1             0    4.863511             0.001957   \n",
       "...                ...           ...         ...                  ...   \n",
       "222973 153           0        222973   -3.573989             2.869136   \n",
       "       154           0        222973   -3.573989            13.650386   \n",
       "       155           0        222973   -3.573989             1.931636   \n",
       "       156           0        222973   -3.573989             0.177739   \n",
       "       157           0        222973   -3.573989             0.177739   \n",
       "\n",
       "                 trk_pv_assoc_fh  z0_reco_db  trk_pv_assoc_db  z0_reco_fh_cor  \\\n",
       "entry  subentry                                                                 \n",
       "0      0                     0.0    4.980469              0.0        4.982426   \n",
       "       1                     0.0    4.980469              0.0        4.982426   \n",
       "       2                     1.0    4.980469              1.0        4.982426   \n",
       "       3                     0.0    4.980469              0.0        4.982426   \n",
       "       4                     1.0    4.980469              1.0        4.982426   \n",
       "...                          ...         ...              ...             ...   \n",
       "222973 153                   0.0   -3.574219              0.0       -3.455074   \n",
       "       154                   0.0   -3.574219              0.0       -3.455074   \n",
       "       155                   1.0   -3.574219              1.0       -3.455074   \n",
       "       156                   1.0   -3.574219              1.0       -3.455074   \n",
       "       157                   1.0   -3.574219              1.0       -3.455074   \n",
       "\n",
       "                 z0_reco_db_cor  distance_from_pv_db  \n",
       "entry  subentry                                       \n",
       "0      0               5.014663             5.893569  \n",
       "       1               5.014663             1.674819  \n",
       "       2               5.014663             0.092788  \n",
       "       3               5.014663             5.483413  \n",
       "       4               5.014663             0.034194  \n",
       "...                         ...                  ...  \n",
       "222973 153            -3.607869             3.021931  \n",
       "       154            -3.607869            13.803181  \n",
       "       155            -3.607869             2.084431  \n",
       "       156            -3.607869             0.024944  \n",
       "       157            -3.607869             0.024944  \n",
       "\n",
       "[7663518 rows x 16 columns]"
      ]
     },
     "execution_count": 178,
     "metadata": {},
     "output_type": "execute_result"
    }
   ],
   "source": [
    "pv1.trk"
   ]
  },
  {
   "cell_type": "code",
   "execution_count": null,
   "metadata": {},
   "outputs": [],
   "source": []
  }
 ],
 "metadata": {
  "kernelspec": {
   "display_name": "db-clustering",
   "language": "python",
   "name": "db-clustering"
  },
  "language_info": {
   "codemirror_mode": {
    "name": "ipython",
    "version": 3
   },
   "file_extension": ".py",
   "mimetype": "text/x-python",
   "name": "python",
   "nbconvert_exporter": "python",
   "pygments_lexer": "ipython3",
   "version": "3.8.12"
  }
 },
 "nbformat": 4,
 "nbformat_minor": 4
}
