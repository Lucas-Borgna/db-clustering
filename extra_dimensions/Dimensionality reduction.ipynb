{
 "cells": [
  {
   "cell_type": "code",
   "execution_count": 2,
   "id": "60f52281",
   "metadata": {},
   "outputs": [
    {
     "data": {
      "application/javascript": [
       "\n",
       "            setTimeout(function() {\n",
       "                var nbb_cell_id = 2;\n",
       "                var nbb_unformatted_code = \"# loads black auto-formatting in the notebook. Needs black and nb_black installed via pip\\n%load_ext nb_black\\n# Allows for libraries to be reloaded on-the-fly.\\n%load_ext autoreload\\n%autoreload 2\";\n",
       "                var nbb_formatted_code = \"# loads black auto-formatting in the notebook. Needs black and nb_black installed via pip\\n%load_ext nb_black\\n# Allows for libraries to be reloaded on-the-fly.\\n%load_ext autoreload\\n%autoreload 2\";\n",
       "                var nbb_cells = Jupyter.notebook.get_cells();\n",
       "                for (var i = 0; i < nbb_cells.length; ++i) {\n",
       "                    if (nbb_cells[i].input_prompt_number == nbb_cell_id) {\n",
       "                        if (nbb_cells[i].get_text() == nbb_unformatted_code) {\n",
       "                             nbb_cells[i].set_text(nbb_formatted_code);\n",
       "                        }\n",
       "                        break;\n",
       "                    }\n",
       "                }\n",
       "            }, 500);\n",
       "            "
      ],
      "text/plain": [
       "<IPython.core.display.Javascript object>"
      ]
     },
     "metadata": {},
     "output_type": "display_data"
    }
   ],
   "source": [
    "# loads black auto-formatting in the notebook. Needs black and nb_black installed via pip\n",
    "%load_ext nb_black\n",
    "# Allows for libraries to be reloaded on-the-fly.\n",
    "%load_ext autoreload\n",
    "%autoreload 2"
   ]
  },
  {
   "cell_type": "markdown",
   "id": "798b3b7a",
   "metadata": {},
   "source": [
    "# Dimensionality reduction "
   ]
  },
  {
   "cell_type": "markdown",
   "id": "657e4cdc",
   "metadata": {},
   "source": [
    "The idea here is that we can try dimensionality reduction techniques to boil down a N-Dimensional clustering problem to a 1D clustering problem where the accelerated DBSCAN can then be used."
   ]
  },
  {
   "cell_type": "code",
   "execution_count": 3,
   "id": "3c868dbc",
   "metadata": {},
   "outputs": [
    {
     "data": {
      "application/javascript": [
       "\n",
       "            setTimeout(function() {\n",
       "                var nbb_cell_id = 3;\n",
       "                var nbb_unformatted_code = \"import pandas as pd\\nimport numpy as np\\nimport matplotlib.pyplot as plt\\nimport seaborn as sns\";\n",
       "                var nbb_formatted_code = \"import pandas as pd\\nimport numpy as np\\nimport matplotlib.pyplot as plt\\nimport seaborn as sns\";\n",
       "                var nbb_cells = Jupyter.notebook.get_cells();\n",
       "                for (var i = 0; i < nbb_cells.length; ++i) {\n",
       "                    if (nbb_cells[i].input_prompt_number == nbb_cell_id) {\n",
       "                        if (nbb_cells[i].get_text() == nbb_unformatted_code) {\n",
       "                             nbb_cells[i].set_text(nbb_formatted_code);\n",
       "                        }\n",
       "                        break;\n",
       "                    }\n",
       "                }\n",
       "            }, 500);\n",
       "            "
      ],
      "text/plain": [
       "<IPython.core.display.Javascript object>"
      ]
     },
     "metadata": {},
     "output_type": "display_data"
    }
   ],
   "source": [
    "import pandas as pd\n",
    "import numpy as np\n",
    "import matplotlib.pyplot as plt\n",
    "import seaborn as sns"
   ]
  },
  {
   "cell_type": "code",
   "execution_count": 4,
   "id": "d96a358a",
   "metadata": {},
   "outputs": [
    {
     "data": {
      "application/javascript": [
       "\n",
       "            setTimeout(function() {\n",
       "                var nbb_cell_id = 4;\n",
       "                var nbb_unformatted_code = \"from tqdm import tqdm\\n\\ntqdm.pandas()\";\n",
       "                var nbb_formatted_code = \"from tqdm import tqdm\\n\\ntqdm.pandas()\";\n",
       "                var nbb_cells = Jupyter.notebook.get_cells();\n",
       "                for (var i = 0; i < nbb_cells.length; ++i) {\n",
       "                    if (nbb_cells[i].input_prompt_number == nbb_cell_id) {\n",
       "                        if (nbb_cells[i].get_text() == nbb_unformatted_code) {\n",
       "                             nbb_cells[i].set_text(nbb_formatted_code);\n",
       "                        }\n",
       "                        break;\n",
       "                    }\n",
       "                }\n",
       "            }, 500);\n",
       "            "
      ],
      "text/plain": [
       "<IPython.core.display.Javascript object>"
      ]
     },
     "metadata": {},
     "output_type": "display_data"
    }
   ],
   "source": [
    "from tqdm import tqdm\n",
    "\n",
    "tqdm.pandas()"
   ]
  },
  {
   "cell_type": "code",
   "execution_count": 5,
   "id": "4f6914a9",
   "metadata": {},
   "outputs": [
    {
     "name": "stdout",
     "output_type": "stream",
     "text": [
      "data  mc_25k.pkl  trk_processed_25k.pkl\n"
     ]
    },
    {
     "data": {
      "application/javascript": [
       "\n",
       "            setTimeout(function() {\n",
       "                var nbb_cell_id = 5;\n",
       "                var nbb_unformatted_code = \"!ls /home/raichu/data/\";\n",
       "                var nbb_formatted_code = \"!ls /home/raichu/data/\";\n",
       "                var nbb_cells = Jupyter.notebook.get_cells();\n",
       "                for (var i = 0; i < nbb_cells.length; ++i) {\n",
       "                    if (nbb_cells[i].input_prompt_number == nbb_cell_id) {\n",
       "                        if (nbb_cells[i].get_text() == nbb_unformatted_code) {\n",
       "                             nbb_cells[i].set_text(nbb_formatted_code);\n",
       "                        }\n",
       "                        break;\n",
       "                    }\n",
       "                }\n",
       "            }, 500);\n",
       "            "
      ],
      "text/plain": [
       "<IPython.core.display.Javascript object>"
      ]
     },
     "metadata": {},
     "output_type": "display_data"
    }
   ],
   "source": [
    "!ls /home/raichu/data/"
   ]
  },
  {
   "cell_type": "code",
   "execution_count": 6,
   "id": "db7e126a",
   "metadata": {},
   "outputs": [
    {
     "data": {
      "application/javascript": [
       "\n",
       "            setTimeout(function() {\n",
       "                var nbb_cell_id = 6;\n",
       "                var nbb_unformatted_code = \"storage_path = \\\"/home/raichu/data/\\\"\\ntrk = pd.read_pickle(storage_path + \\\"trk_processed_25k.pkl\\\")\";\n",
       "                var nbb_formatted_code = \"storage_path = \\\"/home/raichu/data/\\\"\\ntrk = pd.read_pickle(storage_path + \\\"trk_processed_25k.pkl\\\")\";\n",
       "                var nbb_cells = Jupyter.notebook.get_cells();\n",
       "                for (var i = 0; i < nbb_cells.length; ++i) {\n",
       "                    if (nbb_cells[i].input_prompt_number == nbb_cell_id) {\n",
       "                        if (nbb_cells[i].get_text() == nbb_unformatted_code) {\n",
       "                             nbb_cells[i].set_text(nbb_formatted_code);\n",
       "                        }\n",
       "                        break;\n",
       "                    }\n",
       "                }\n",
       "            }, 500);\n",
       "            "
      ],
      "text/plain": [
       "<IPython.core.display.Javascript object>"
      ]
     },
     "metadata": {},
     "output_type": "display_data"
    }
   ],
   "source": [
    "storage_path = \"/home/raichu/data/\"\n",
    "trk = pd.read_pickle(storage_path + \"trk_processed_25k.pkl\")"
   ]
  },
  {
   "cell_type": "code",
   "execution_count": 7,
   "id": "236c47b4",
   "metadata": {},
   "outputs": [
    {
     "data": {
      "application/javascript": [
       "\n",
       "            setTimeout(function() {\n",
       "                var nbb_cell_id = 7;\n",
       "                var nbb_unformatted_code = \"mc = pd.read_pickle(storage_path + \\\"mc_25k.pkl\\\")\";\n",
       "                var nbb_formatted_code = \"mc = pd.read_pickle(storage_path + \\\"mc_25k.pkl\\\")\";\n",
       "                var nbb_cells = Jupyter.notebook.get_cells();\n",
       "                for (var i = 0; i < nbb_cells.length; ++i) {\n",
       "                    if (nbb_cells[i].input_prompt_number == nbb_cell_id) {\n",
       "                        if (nbb_cells[i].get_text() == nbb_unformatted_code) {\n",
       "                             nbb_cells[i].set_text(nbb_formatted_code);\n",
       "                        }\n",
       "                        break;\n",
       "                    }\n",
       "                }\n",
       "            }, 500);\n",
       "            "
      ],
      "text/plain": [
       "<IPython.core.display.Javascript object>"
      ]
     },
     "metadata": {},
     "output_type": "display_data"
    }
   ],
   "source": [
    "mc = pd.read_pickle(storage_path + \"mc_25k.pkl\")"
   ]
  },
  {
   "cell_type": "code",
   "execution_count": 8,
   "id": "6344814a",
   "metadata": {},
   "outputs": [
    {
     "data": {
      "text/html": [
       "<div>\n",
       "<style scoped>\n",
       "    .dataframe tbody tr th:only-of-type {\n",
       "        vertical-align: middle;\n",
       "    }\n",
       "\n",
       "    .dataframe tbody tr th {\n",
       "        vertical-align: top;\n",
       "    }\n",
       "\n",
       "    .dataframe thead th {\n",
       "        text-align: right;\n",
       "    }\n",
       "</style>\n",
       "<table border=\"1\" class=\"dataframe\">\n",
       "  <thead>\n",
       "    <tr style=\"text-align: right;\">\n",
       "      <th></th>\n",
       "      <th></th>\n",
       "      <th>trk_pt</th>\n",
       "      <th>trk_eta</th>\n",
       "      <th>trk_phi</th>\n",
       "      <th>trk_d0</th>\n",
       "      <th>trk_z0</th>\n",
       "      <th>trk_fake</th>\n",
       "      <th>is_pv</th>\n",
       "    </tr>\n",
       "    <tr>\n",
       "      <th>entry</th>\n",
       "      <th>subentry</th>\n",
       "      <th></th>\n",
       "      <th></th>\n",
       "      <th></th>\n",
       "      <th></th>\n",
       "      <th></th>\n",
       "      <th></th>\n",
       "      <th></th>\n",
       "    </tr>\n",
       "  </thead>\n",
       "  <tbody>\n",
       "    <tr>\n",
       "      <th rowspan=\"5\" valign=\"top\">0</th>\n",
       "      <th>0</th>\n",
       "      <td>2.623967</td>\n",
       "      <td>1.301414</td>\n",
       "      <td>-0.289234</td>\n",
       "      <td>999.0</td>\n",
       "      <td>-0.878906</td>\n",
       "      <td>2</td>\n",
       "      <td>0</td>\n",
       "    </tr>\n",
       "    <tr>\n",
       "      <th>1</th>\n",
       "      <td>3.435026</td>\n",
       "      <td>0.566814</td>\n",
       "      <td>-0.159267</td>\n",
       "      <td>999.0</td>\n",
       "      <td>3.339844</td>\n",
       "      <td>2</td>\n",
       "      <td>0</td>\n",
       "    </tr>\n",
       "    <tr>\n",
       "      <th>2</th>\n",
       "      <td>3.774908</td>\n",
       "      <td>1.815973</td>\n",
       "      <td>-0.240375</td>\n",
       "      <td>999.0</td>\n",
       "      <td>4.921875</td>\n",
       "      <td>1</td>\n",
       "      <td>1</td>\n",
       "    </tr>\n",
       "    <tr>\n",
       "      <th>3</th>\n",
       "      <td>2.641448</td>\n",
       "      <td>-1.435747</td>\n",
       "      <td>-0.128747</td>\n",
       "      <td>999.0</td>\n",
       "      <td>-0.468750</td>\n",
       "      <td>2</td>\n",
       "      <td>0</td>\n",
       "    </tr>\n",
       "    <tr>\n",
       "      <th>4</th>\n",
       "      <td>2.320653</td>\n",
       "      <td>1.837421</td>\n",
       "      <td>0.032604</td>\n",
       "      <td>999.0</td>\n",
       "      <td>4.980469</td>\n",
       "      <td>1</td>\n",
       "      <td>1</td>\n",
       "    </tr>\n",
       "  </tbody>\n",
       "</table>\n",
       "</div>"
      ],
      "text/plain": [
       "                  trk_pt   trk_eta   trk_phi  trk_d0    trk_z0  trk_fake  \\\n",
       "entry subentry                                                             \n",
       "0     0         2.623967  1.301414 -0.289234   999.0 -0.878906         2   \n",
       "      1         3.435026  0.566814 -0.159267   999.0  3.339844         2   \n",
       "      2         3.774908  1.815973 -0.240375   999.0  4.921875         1   \n",
       "      3         2.641448 -1.435747 -0.128747   999.0 -0.468750         2   \n",
       "      4         2.320653  1.837421  0.032604   999.0  4.980469         1   \n",
       "\n",
       "                is_pv  \n",
       "entry subentry         \n",
       "0     0             0  \n",
       "      1             0  \n",
       "      2             1  \n",
       "      3             0  \n",
       "      4             1  "
      ]
     },
     "execution_count": 8,
     "metadata": {},
     "output_type": "execute_result"
    },
    {
     "data": {
      "application/javascript": [
       "\n",
       "            setTimeout(function() {\n",
       "                var nbb_cell_id = 8;\n",
       "                var nbb_unformatted_code = \"trk.head()\";\n",
       "                var nbb_formatted_code = \"trk.head()\";\n",
       "                var nbb_cells = Jupyter.notebook.get_cells();\n",
       "                for (var i = 0; i < nbb_cells.length; ++i) {\n",
       "                    if (nbb_cells[i].input_prompt_number == nbb_cell_id) {\n",
       "                        if (nbb_cells[i].get_text() == nbb_unformatted_code) {\n",
       "                             nbb_cells[i].set_text(nbb_formatted_code);\n",
       "                        }\n",
       "                        break;\n",
       "                    }\n",
       "                }\n",
       "            }, 500);\n",
       "            "
      ],
      "text/plain": [
       "<IPython.core.display.Javascript object>"
      ]
     },
     "metadata": {},
     "output_type": "display_data"
    }
   ],
   "source": [
    "trk.head()"
   ]
  },
  {
   "cell_type": "code",
   "execution_count": 9,
   "id": "19861ebb",
   "metadata": {},
   "outputs": [
    {
     "data": {
      "application/javascript": [
       "\n",
       "            setTimeout(function() {\n",
       "                var nbb_cell_id = 9;\n",
       "                var nbb_unformatted_code = \"def plot_cluster_2d(\\n    df: pd.DataFrame, x: str = \\\"trk_z0\\\", y: str = \\\"trk_phi\\\", entry_num: int = 0\\n):\\n    _df = df.query(f\\\"entry == {entry_num}\\\")\\n    sns.scatterplot(data=_df, x=x, y=y, hue=\\\"is_pv\\\")\";\n",
       "                var nbb_formatted_code = \"def plot_cluster_2d(\\n    df: pd.DataFrame, x: str = \\\"trk_z0\\\", y: str = \\\"trk_phi\\\", entry_num: int = 0\\n):\\n    _df = df.query(f\\\"entry == {entry_num}\\\")\\n    sns.scatterplot(data=_df, x=x, y=y, hue=\\\"is_pv\\\")\";\n",
       "                var nbb_cells = Jupyter.notebook.get_cells();\n",
       "                for (var i = 0; i < nbb_cells.length; ++i) {\n",
       "                    if (nbb_cells[i].input_prompt_number == nbb_cell_id) {\n",
       "                        if (nbb_cells[i].get_text() == nbb_unformatted_code) {\n",
       "                             nbb_cells[i].set_text(nbb_formatted_code);\n",
       "                        }\n",
       "                        break;\n",
       "                    }\n",
       "                }\n",
       "            }, 500);\n",
       "            "
      ],
      "text/plain": [
       "<IPython.core.display.Javascript object>"
      ]
     },
     "metadata": {},
     "output_type": "display_data"
    }
   ],
   "source": [
    "def plot_cluster_2d(\n",
    "    df: pd.DataFrame, x: str = \"trk_z0\", y: str = \"trk_phi\", entry_num: int = 0\n",
    "):\n",
    "    _df = df.query(f\"entry == {entry_num}\")\n",
    "    sns.scatterplot(data=_df, x=x, y=y, hue=\"is_pv\")"
   ]
  },
  {
   "cell_type": "code",
   "execution_count": 10,
   "id": "7710d6a2",
   "metadata": {},
   "outputs": [
    {
     "data": {
      "image/png": "[encoded data removed]",
      "text/plain": [
       "<Figure size 640x480 with 1 Axes>"
      ]
     },
     "metadata": {},
     "output_type": "display_data"
    },
    {
     "data": {
      "application/javascript": [
       "\n",
       "            setTimeout(function() {\n",
       "                var nbb_cell_id = 10;\n",
       "                var nbb_unformatted_code = \"plot_cluster_2d(trk, x=\\\"trk_z0\\\", y=\\\"trk_eta\\\", entry_num=6)\";\n",
       "                var nbb_formatted_code = \"plot_cluster_2d(trk, x=\\\"trk_z0\\\", y=\\\"trk_eta\\\", entry_num=6)\";\n",
       "                var nbb_cells = Jupyter.notebook.get_cells();\n",
       "                for (var i = 0; i < nbb_cells.length; ++i) {\n",
       "                    if (nbb_cells[i].input_prompt_number == nbb_cell_id) {\n",
       "                        if (nbb_cells[i].get_text() == nbb_unformatted_code) {\n",
       "                             nbb_cells[i].set_text(nbb_formatted_code);\n",
       "                        }\n",
       "                        break;\n",
       "                    }\n",
       "                }\n",
       "            }, 500);\n",
       "            "
      ],
      "text/plain": [
       "<IPython.core.display.Javascript object>"
      ]
     },
     "metadata": {},
     "output_type": "display_data"
    }
   ],
   "source": [
    "plot_cluster_2d(trk, x=\"trk_z0\", y=\"trk_eta\", entry_num=6)"
   ]
  },
  {
   "cell_type": "markdown",
   "id": "a3ba2e9d",
   "metadata": {},
   "source": [
    "### Let's create a training and testing dataset to make it fair"
   ]
  },
  {
   "cell_type": "code",
   "execution_count": 11,
   "id": "0203acbe",
   "metadata": {},
   "outputs": [
    {
     "data": {
      "application/javascript": [
       "\n",
       "            setTimeout(function() {\n",
       "                var nbb_cell_id = 11;\n",
       "                var nbb_unformatted_code = \"trk = trk.reset_index()\";\n",
       "                var nbb_formatted_code = \"trk = trk.reset_index()\";\n",
       "                var nbb_cells = Jupyter.notebook.get_cells();\n",
       "                for (var i = 0; i < nbb_cells.length; ++i) {\n",
       "                    if (nbb_cells[i].input_prompt_number == nbb_cell_id) {\n",
       "                        if (nbb_cells[i].get_text() == nbb_unformatted_code) {\n",
       "                             nbb_cells[i].set_text(nbb_formatted_code);\n",
       "                        }\n",
       "                        break;\n",
       "                    }\n",
       "                }\n",
       "            }, 500);\n",
       "            "
      ],
      "text/plain": [
       "<IPython.core.display.Javascript object>"
      ]
     },
     "metadata": {},
     "output_type": "display_data"
    }
   ],
   "source": [
    "trk = trk.reset_index()"
   ]
  },
  {
   "cell_type": "code",
   "execution_count": 12,
   "id": "f737dc45",
   "metadata": {},
   "outputs": [
    {
     "data": {
      "application/javascript": [
       "\n",
       "            setTimeout(function() {\n",
       "                var nbb_cell_id = 12;\n",
       "                var nbb_unformatted_code = \"trk = trk.rename(columns={\\\"entry\\\": \\\"event_number\\\", \\\"subentry\\\": \\\"track_number\\\"})\";\n",
       "                var nbb_formatted_code = \"trk = trk.rename(columns={\\\"entry\\\": \\\"event_number\\\", \\\"subentry\\\": \\\"track_number\\\"})\";\n",
       "                var nbb_cells = Jupyter.notebook.get_cells();\n",
       "                for (var i = 0; i < nbb_cells.length; ++i) {\n",
       "                    if (nbb_cells[i].input_prompt_number == nbb_cell_id) {\n",
       "                        if (nbb_cells[i].get_text() == nbb_unformatted_code) {\n",
       "                             nbb_cells[i].set_text(nbb_formatted_code);\n",
       "                        }\n",
       "                        break;\n",
       "                    }\n",
       "                }\n",
       "            }, 500);\n",
       "            "
      ],
      "text/plain": [
       "<IPython.core.display.Javascript object>"
      ]
     },
     "metadata": {},
     "output_type": "display_data"
    }
   ],
   "source": [
    "trk = trk.rename(columns={\"entry\": \"event_number\", \"subentry\": \"track_number\"})"
   ]
  },
  {
   "cell_type": "code",
   "execution_count": 13,
   "id": "0c106990",
   "metadata": {},
   "outputs": [
    {
     "data": {
      "application/javascript": [
       "\n",
       "            setTimeout(function() {\n",
       "                var nbb_cell_id = 13;\n",
       "                var nbb_unformatted_code = \"import random\";\n",
       "                var nbb_formatted_code = \"import random\";\n",
       "                var nbb_cells = Jupyter.notebook.get_cells();\n",
       "                for (var i = 0; i < nbb_cells.length; ++i) {\n",
       "                    if (nbb_cells[i].input_prompt_number == nbb_cell_id) {\n",
       "                        if (nbb_cells[i].get_text() == nbb_unformatted_code) {\n",
       "                             nbb_cells[i].set_text(nbb_formatted_code);\n",
       "                        }\n",
       "                        break;\n",
       "                    }\n",
       "                }\n",
       "            }, 500);\n",
       "            "
      ],
      "text/plain": [
       "<IPython.core.display.Javascript object>"
      ]
     },
     "metadata": {},
     "output_type": "display_data"
    }
   ],
   "source": [
    "import random"
   ]
  },
  {
   "cell_type": "code",
   "execution_count": 14,
   "id": "44b945f2",
   "metadata": {},
   "outputs": [
    {
     "data": {
      "application/javascript": [
       "\n",
       "            setTimeout(function() {\n",
       "                var nbb_cell_id = 14;\n",
       "                var nbb_unformatted_code = \"rng = np.random.default_rng()\";\n",
       "                var nbb_formatted_code = \"rng = np.random.default_rng()\";\n",
       "                var nbb_cells = Jupyter.notebook.get_cells();\n",
       "                for (var i = 0; i < nbb_cells.length; ++i) {\n",
       "                    if (nbb_cells[i].input_prompt_number == nbb_cell_id) {\n",
       "                        if (nbb_cells[i].get_text() == nbb_unformatted_code) {\n",
       "                             nbb_cells[i].set_text(nbb_formatted_code);\n",
       "                        }\n",
       "                        break;\n",
       "                    }\n",
       "                }\n",
       "            }, 500);\n",
       "            "
      ],
      "text/plain": [
       "<IPython.core.display.Javascript object>"
      ]
     },
     "metadata": {},
     "output_type": "display_data"
    }
   ],
   "source": [
    "rng = np.random.default_rng()"
   ]
  },
  {
   "cell_type": "code",
   "execution_count": 15,
   "id": "ecaebdc9",
   "metadata": {},
   "outputs": [
    {
     "data": {
      "text/html": [
       "<div>\n",
       "<style scoped>\n",
       "    .dataframe tbody tr th:only-of-type {\n",
       "        vertical-align: middle;\n",
       "    }\n",
       "\n",
       "    .dataframe tbody tr th {\n",
       "        vertical-align: top;\n",
       "    }\n",
       "\n",
       "    .dataframe thead th {\n",
       "        text-align: right;\n",
       "    }\n",
       "</style>\n",
       "<table border=\"1\" class=\"dataframe\">\n",
       "  <thead>\n",
       "    <tr style=\"text-align: right;\">\n",
       "      <th></th>\n",
       "      <th>event_number</th>\n",
       "      <th>track_number</th>\n",
       "      <th>trk_pt</th>\n",
       "      <th>trk_eta</th>\n",
       "      <th>trk_phi</th>\n",
       "      <th>trk_d0</th>\n",
       "      <th>trk_z0</th>\n",
       "      <th>trk_fake</th>\n",
       "      <th>is_pv</th>\n",
       "    </tr>\n",
       "  </thead>\n",
       "  <tbody>\n",
       "    <tr>\n",
       "      <th>4562531</th>\n",
       "      <td>24999</td>\n",
       "      <td>194</td>\n",
       "      <td>2.807081</td>\n",
       "      <td>-2.373757</td>\n",
       "      <td>-0.638281</td>\n",
       "      <td>999.0</td>\n",
       "      <td>-0.058594</td>\n",
       "      <td>2</td>\n",
       "      <td>0</td>\n",
       "    </tr>\n",
       "    <tr>\n",
       "      <th>4562532</th>\n",
       "      <td>24999</td>\n",
       "      <td>195</td>\n",
       "      <td>2.472056</td>\n",
       "      <td>-2.244333</td>\n",
       "      <td>-0.792948</td>\n",
       "      <td>999.0</td>\n",
       "      <td>6.328125</td>\n",
       "      <td>2</td>\n",
       "      <td>0</td>\n",
       "    </tr>\n",
       "    <tr>\n",
       "      <th>4562533</th>\n",
       "      <td>24999</td>\n",
       "      <td>196</td>\n",
       "      <td>2.391643</td>\n",
       "      <td>-2.093290</td>\n",
       "      <td>-0.658689</td>\n",
       "      <td>999.0</td>\n",
       "      <td>-0.410156</td>\n",
       "      <td>2</td>\n",
       "      <td>0</td>\n",
       "    </tr>\n",
       "    <tr>\n",
       "      <th>4562534</th>\n",
       "      <td>24999</td>\n",
       "      <td>197</td>\n",
       "      <td>6.140490</td>\n",
       "      <td>2.403961</td>\n",
       "      <td>-0.539389</td>\n",
       "      <td>999.0</td>\n",
       "      <td>-7.441406</td>\n",
       "      <td>2</td>\n",
       "      <td>0</td>\n",
       "    </tr>\n",
       "    <tr>\n",
       "      <th>4562535</th>\n",
       "      <td>24999</td>\n",
       "      <td>198</td>\n",
       "      <td>5.962409</td>\n",
       "      <td>-2.311289</td>\n",
       "      <td>-0.428627</td>\n",
       "      <td>999.0</td>\n",
       "      <td>1.640625</td>\n",
       "      <td>2</td>\n",
       "      <td>0</td>\n",
       "    </tr>\n",
       "  </tbody>\n",
       "</table>\n",
       "</div>"
      ],
      "text/plain": [
       "         event_number  track_number    trk_pt   trk_eta   trk_phi  trk_d0  \\\n",
       "4562531         24999           194  2.807081 -2.373757 -0.638281   999.0   \n",
       "4562532         24999           195  2.472056 -2.244333 -0.792948   999.0   \n",
       "4562533         24999           196  2.391643 -2.093290 -0.658689   999.0   \n",
       "4562534         24999           197  6.140490  2.403961 -0.539389   999.0   \n",
       "4562535         24999           198  5.962409 -2.311289 -0.428627   999.0   \n",
       "\n",
       "           trk_z0  trk_fake  is_pv  \n",
       "4562531 -0.058594         2      0  \n",
       "4562532  6.328125         2      0  \n",
       "4562533 -0.410156         2      0  \n",
       "4562534 -7.441406         2      0  \n",
       "4562535  1.640625         2      0  "
      ]
     },
     "execution_count": 15,
     "metadata": {},
     "output_type": "execute_result"
    },
    {
     "data": {
      "application/javascript": [
       "\n",
       "            setTimeout(function() {\n",
       "                var nbb_cell_id = 15;\n",
       "                var nbb_unformatted_code = \"trk.tail()\";\n",
       "                var nbb_formatted_code = \"trk.tail()\";\n",
       "                var nbb_cells = Jupyter.notebook.get_cells();\n",
       "                for (var i = 0; i < nbb_cells.length; ++i) {\n",
       "                    if (nbb_cells[i].input_prompt_number == nbb_cell_id) {\n",
       "                        if (nbb_cells[i].get_text() == nbb_unformatted_code) {\n",
       "                             nbb_cells[i].set_text(nbb_formatted_code);\n",
       "                        }\n",
       "                        break;\n",
       "                    }\n",
       "                }\n",
       "            }, 500);\n",
       "            "
      ],
      "text/plain": [
       "<IPython.core.display.Javascript object>"
      ]
     },
     "metadata": {},
     "output_type": "display_data"
    }
   ],
   "source": [
    "trk.tail()"
   ]
  },
  {
   "cell_type": "code",
   "execution_count": 16,
   "id": "cd8a154e",
   "metadata": {},
   "outputs": [
    {
     "data": {
      "application/javascript": [
       "\n",
       "            setTimeout(function() {\n",
       "                var nbb_cell_id = 16;\n",
       "                var nbb_unformatted_code = \"idx = np.arange(0, 25000)\";\n",
       "                var nbb_formatted_code = \"idx = np.arange(0, 25000)\";\n",
       "                var nbb_cells = Jupyter.notebook.get_cells();\n",
       "                for (var i = 0; i < nbb_cells.length; ++i) {\n",
       "                    if (nbb_cells[i].input_prompt_number == nbb_cell_id) {\n",
       "                        if (nbb_cells[i].get_text() == nbb_unformatted_code) {\n",
       "                             nbb_cells[i].set_text(nbb_formatted_code);\n",
       "                        }\n",
       "                        break;\n",
       "                    }\n",
       "                }\n",
       "            }, 500);\n",
       "            "
      ],
      "text/plain": [
       "<IPython.core.display.Javascript object>"
      ]
     },
     "metadata": {},
     "output_type": "display_data"
    }
   ],
   "source": [
    "idx = np.arange(0, 25000)"
   ]
  },
  {
   "cell_type": "code",
   "execution_count": 17,
   "id": "80e6b341",
   "metadata": {},
   "outputs": [
    {
     "data": {
      "application/javascript": [
       "\n",
       "            setTimeout(function() {\n",
       "                var nbb_cell_id = 17;\n",
       "                var nbb_unformatted_code = \"np.random.shuffle(idx)\";\n",
       "                var nbb_formatted_code = \"np.random.shuffle(idx)\";\n",
       "                var nbb_cells = Jupyter.notebook.get_cells();\n",
       "                for (var i = 0; i < nbb_cells.length; ++i) {\n",
       "                    if (nbb_cells[i].input_prompt_number == nbb_cell_id) {\n",
       "                        if (nbb_cells[i].get_text() == nbb_unformatted_code) {\n",
       "                             nbb_cells[i].set_text(nbb_formatted_code);\n",
       "                        }\n",
       "                        break;\n",
       "                    }\n",
       "                }\n",
       "            }, 500);\n",
       "            "
      ],
      "text/plain": [
       "<IPython.core.display.Javascript object>"
      ]
     },
     "metadata": {},
     "output_type": "display_data"
    }
   ],
   "source": [
    "np.random.shuffle(idx)"
   ]
  },
  {
   "cell_type": "code",
   "execution_count": 18,
   "id": "6d66aafe",
   "metadata": {},
   "outputs": [
    {
     "data": {
      "application/javascript": [
       "\n",
       "            setTimeout(function() {\n",
       "                var nbb_cell_id = 18;\n",
       "                var nbb_unformatted_code = \"idx_train = idx[:12500]\\nidx_test = idx[12500:]\";\n",
       "                var nbb_formatted_code = \"idx_train = idx[:12500]\\nidx_test = idx[12500:]\";\n",
       "                var nbb_cells = Jupyter.notebook.get_cells();\n",
       "                for (var i = 0; i < nbb_cells.length; ++i) {\n",
       "                    if (nbb_cells[i].input_prompt_number == nbb_cell_id) {\n",
       "                        if (nbb_cells[i].get_text() == nbb_unformatted_code) {\n",
       "                             nbb_cells[i].set_text(nbb_formatted_code);\n",
       "                        }\n",
       "                        break;\n",
       "                    }\n",
       "                }\n",
       "            }, 500);\n",
       "            "
      ],
      "text/plain": [
       "<IPython.core.display.Javascript object>"
      ]
     },
     "metadata": {},
     "output_type": "display_data"
    }
   ],
   "source": [
    "idx_train = idx[:12500]\n",
    "idx_test = idx[12500:]"
   ]
  },
  {
   "cell_type": "code",
   "execution_count": 19,
   "id": "e210124b",
   "metadata": {},
   "outputs": [
    {
     "data": {
      "text/plain": [
       "array([19251, 22222, 18495, ...,  9820,  7560, 21274])"
      ]
     },
     "execution_count": 19,
     "metadata": {},
     "output_type": "execute_result"
    },
    {
     "data": {
      "application/javascript": [
       "\n",
       "            setTimeout(function() {\n",
       "                var nbb_cell_id = 19;\n",
       "                var nbb_unformatted_code = \"idx_train\";\n",
       "                var nbb_formatted_code = \"idx_train\";\n",
       "                var nbb_cells = Jupyter.notebook.get_cells();\n",
       "                for (var i = 0; i < nbb_cells.length; ++i) {\n",
       "                    if (nbb_cells[i].input_prompt_number == nbb_cell_id) {\n",
       "                        if (nbb_cells[i].get_text() == nbb_unformatted_code) {\n",
       "                             nbb_cells[i].set_text(nbb_formatted_code);\n",
       "                        }\n",
       "                        break;\n",
       "                    }\n",
       "                }\n",
       "            }, 500);\n",
       "            "
      ],
      "text/plain": [
       "<IPython.core.display.Javascript object>"
      ]
     },
     "metadata": {},
     "output_type": "display_data"
    }
   ],
   "source": [
    "idx_train"
   ]
  },
  {
   "cell_type": "code",
   "execution_count": 20,
   "id": "e14f50bb",
   "metadata": {},
   "outputs": [
    {
     "data": {
      "text/plain": [
       "array([24419, 15875,  3440, ...,  7816, 15872, 11456])"
      ]
     },
     "execution_count": 20,
     "metadata": {},
     "output_type": "execute_result"
    },
    {
     "data": {
      "application/javascript": [
       "\n",
       "            setTimeout(function() {\n",
       "                var nbb_cell_id = 20;\n",
       "                var nbb_unformatted_code = \"idx_test\";\n",
       "                var nbb_formatted_code = \"idx_test\";\n",
       "                var nbb_cells = Jupyter.notebook.get_cells();\n",
       "                for (var i = 0; i < nbb_cells.length; ++i) {\n",
       "                    if (nbb_cells[i].input_prompt_number == nbb_cell_id) {\n",
       "                        if (nbb_cells[i].get_text() == nbb_unformatted_code) {\n",
       "                             nbb_cells[i].set_text(nbb_formatted_code);\n",
       "                        }\n",
       "                        break;\n",
       "                    }\n",
       "                }\n",
       "            }, 500);\n",
       "            "
      ],
      "text/plain": [
       "<IPython.core.display.Javascript object>"
      ]
     },
     "metadata": {},
     "output_type": "display_data"
    }
   ],
   "source": [
    "idx_test"
   ]
  },
  {
   "cell_type": "code",
   "execution_count": 21,
   "id": "81c1fdb4",
   "metadata": {},
   "outputs": [
    {
     "data": {
      "application/javascript": [
       "\n",
       "            setTimeout(function() {\n",
       "                var nbb_cell_id = 21;\n",
       "                var nbb_unformatted_code = \"trk_train = trk.loc[trk.event_number.isin(idx_train)].copy()\";\n",
       "                var nbb_formatted_code = \"trk_train = trk.loc[trk.event_number.isin(idx_train)].copy()\";\n",
       "                var nbb_cells = Jupyter.notebook.get_cells();\n",
       "                for (var i = 0; i < nbb_cells.length; ++i) {\n",
       "                    if (nbb_cells[i].input_prompt_number == nbb_cell_id) {\n",
       "                        if (nbb_cells[i].get_text() == nbb_unformatted_code) {\n",
       "                             nbb_cells[i].set_text(nbb_formatted_code);\n",
       "                        }\n",
       "                        break;\n",
       "                    }\n",
       "                }\n",
       "            }, 500);\n",
       "            "
      ],
      "text/plain": [
       "<IPython.core.display.Javascript object>"
      ]
     },
     "metadata": {},
     "output_type": "display_data"
    }
   ],
   "source": [
    "trk_train = trk.loc[trk.event_number.isin(idx_train)].copy()"
   ]
  },
  {
   "cell_type": "code",
   "execution_count": 22,
   "id": "f8ba8472",
   "metadata": {},
   "outputs": [
    {
     "data": {
      "application/javascript": [
       "\n",
       "            setTimeout(function() {\n",
       "                var nbb_cell_id = 22;\n",
       "                var nbb_unformatted_code = \"trk_test = trk.loc[trk.event_number.isin(idx_test)].copy()\";\n",
       "                var nbb_formatted_code = \"trk_test = trk.loc[trk.event_number.isin(idx_test)].copy()\";\n",
       "                var nbb_cells = Jupyter.notebook.get_cells();\n",
       "                for (var i = 0; i < nbb_cells.length; ++i) {\n",
       "                    if (nbb_cells[i].input_prompt_number == nbb_cell_id) {\n",
       "                        if (nbb_cells[i].get_text() == nbb_unformatted_code) {\n",
       "                             nbb_cells[i].set_text(nbb_formatted_code);\n",
       "                        }\n",
       "                        break;\n",
       "                    }\n",
       "                }\n",
       "            }, 500);\n",
       "            "
      ],
      "text/plain": [
       "<IPython.core.display.Javascript object>"
      ]
     },
     "metadata": {},
     "output_type": "display_data"
    }
   ],
   "source": [
    "trk_test = trk.loc[trk.event_number.isin(idx_test)].copy()"
   ]
  },
  {
   "cell_type": "markdown",
   "id": "b5f22dac",
   "metadata": {},
   "source": [
    "## Train the u-map transform (consumes too much memory!)"
   ]
  },
  {
   "cell_type": "markdown",
   "id": "8b683e43",
   "metadata": {},
   "source": [
    "Let's use the three spatial coordinates, `trk_z0`, `trk_eta`, `trk_phi` to train the umap transform"
   ]
  },
  {
   "cell_type": "code",
   "execution_count": 21,
   "id": "72e893ea",
   "metadata": {},
   "outputs": [
    {
     "data": {
      "application/javascript": [
       "\n",
       "            setTimeout(function() {\n",
       "                var nbb_cell_id = 21;\n",
       "                var nbb_unformatted_code = \"# import umap\";\n",
       "                var nbb_formatted_code = \"# import umap\";\n",
       "                var nbb_cells = Jupyter.notebook.get_cells();\n",
       "                for (var i = 0; i < nbb_cells.length; ++i) {\n",
       "                    if (nbb_cells[i].input_prompt_number == nbb_cell_id) {\n",
       "                        if (nbb_cells[i].get_text() == nbb_unformatted_code) {\n",
       "                             nbb_cells[i].set_text(nbb_formatted_code);\n",
       "                        }\n",
       "                        break;\n",
       "                    }\n",
       "                }\n",
       "            }, 500);\n",
       "            "
      ],
      "text/plain": [
       "<IPython.core.display.Javascript object>"
      ]
     },
     "metadata": {},
     "output_type": "display_data"
    }
   ],
   "source": [
    "# import umap"
   ]
  },
  {
   "cell_type": "code",
   "execution_count": 22,
   "id": "b38e3e12",
   "metadata": {},
   "outputs": [
    {
     "data": {
      "application/javascript": [
       "\n",
       "            setTimeout(function() {\n",
       "                var nbb_cell_id = 22;\n",
       "                var nbb_unformatted_code = \"# fit = umap.UMAP(n_components=1)\";\n",
       "                var nbb_formatted_code = \"# fit = umap.UMAP(n_components=1)\";\n",
       "                var nbb_cells = Jupyter.notebook.get_cells();\n",
       "                for (var i = 0; i < nbb_cells.length; ++i) {\n",
       "                    if (nbb_cells[i].input_prompt_number == nbb_cell_id) {\n",
       "                        if (nbb_cells[i].get_text() == nbb_unformatted_code) {\n",
       "                             nbb_cells[i].set_text(nbb_formatted_code);\n",
       "                        }\n",
       "                        break;\n",
       "                    }\n",
       "                }\n",
       "            }, 500);\n",
       "            "
      ],
      "text/plain": [
       "<IPython.core.display.Javascript object>"
      ]
     },
     "metadata": {},
     "output_type": "display_data"
    }
   ],
   "source": [
    "# fit = umap.UMAP(n_components=1)"
   ]
  },
  {
   "cell_type": "code",
   "execution_count": 23,
   "id": "0e33d670",
   "metadata": {},
   "outputs": [
    {
     "data": {
      "application/javascript": [
       "\n",
       "            setTimeout(function() {\n",
       "                var nbb_cell_id = 23;\n",
       "                var nbb_unformatted_code = \"# u = fit.fit_transform(trk_train[['trk_z0','trk_eta','trk_phi']].values)\";\n",
       "                var nbb_formatted_code = \"# u = fit.fit_transform(trk_train[['trk_z0','trk_eta','trk_phi']].values)\";\n",
       "                var nbb_cells = Jupyter.notebook.get_cells();\n",
       "                for (var i = 0; i < nbb_cells.length; ++i) {\n",
       "                    if (nbb_cells[i].input_prompt_number == nbb_cell_id) {\n",
       "                        if (nbb_cells[i].get_text() == nbb_unformatted_code) {\n",
       "                             nbb_cells[i].set_text(nbb_formatted_code);\n",
       "                        }\n",
       "                        break;\n",
       "                    }\n",
       "                }\n",
       "            }, 500);\n",
       "            "
      ],
      "text/plain": [
       "<IPython.core.display.Javascript object>"
      ]
     },
     "metadata": {},
     "output_type": "display_data"
    }
   ],
   "source": [
    "# u = fit.fit_transform(trk_train[['trk_z0','trk_eta','trk_phi']].values)"
   ]
  },
  {
   "cell_type": "markdown",
   "id": "8a221efa",
   "metadata": {},
   "source": [
    "# Train a PCA transform"
   ]
  },
  {
   "cell_type": "code",
   "execution_count": 23,
   "id": "256cf614",
   "metadata": {},
   "outputs": [
    {
     "data": {
      "application/javascript": [
       "\n",
       "            setTimeout(function() {\n",
       "                var nbb_cell_id = 23;\n",
       "                var nbb_unformatted_code = \"from sklearn.decomposition import PCA\";\n",
       "                var nbb_formatted_code = \"from sklearn.decomposition import PCA\";\n",
       "                var nbb_cells = Jupyter.notebook.get_cells();\n",
       "                for (var i = 0; i < nbb_cells.length; ++i) {\n",
       "                    if (nbb_cells[i].input_prompt_number == nbb_cell_id) {\n",
       "                        if (nbb_cells[i].get_text() == nbb_unformatted_code) {\n",
       "                             nbb_cells[i].set_text(nbb_formatted_code);\n",
       "                        }\n",
       "                        break;\n",
       "                    }\n",
       "                }\n",
       "            }, 500);\n",
       "            "
      ],
      "text/plain": [
       "<IPython.core.display.Javascript object>"
      ]
     },
     "metadata": {},
     "output_type": "display_data"
    }
   ],
   "source": [
    "from sklearn.decomposition import PCA"
   ]
  },
  {
   "cell_type": "code",
   "execution_count": 24,
   "id": "24d79115",
   "metadata": {},
   "outputs": [
    {
     "data": {
      "application/javascript": [
       "\n",
       "            setTimeout(function() {\n",
       "                var nbb_cell_id = 24;\n",
       "                var nbb_unformatted_code = \"pca = PCA(n_components=1)\";\n",
       "                var nbb_formatted_code = \"pca = PCA(n_components=1)\";\n",
       "                var nbb_cells = Jupyter.notebook.get_cells();\n",
       "                for (var i = 0; i < nbb_cells.length; ++i) {\n",
       "                    if (nbb_cells[i].input_prompt_number == nbb_cell_id) {\n",
       "                        if (nbb_cells[i].get_text() == nbb_unformatted_code) {\n",
       "                             nbb_cells[i].set_text(nbb_formatted_code);\n",
       "                        }\n",
       "                        break;\n",
       "                    }\n",
       "                }\n",
       "            }, 500);\n",
       "            "
      ],
      "text/plain": [
       "<IPython.core.display.Javascript object>"
      ]
     },
     "metadata": {},
     "output_type": "display_data"
    }
   ],
   "source": [
    "pca = PCA(n_components=1)"
   ]
  },
  {
   "cell_type": "code",
   "execution_count": 25,
   "id": "f0ad05be",
   "metadata": {},
   "outputs": [
    {
     "data": {
      "text/plain": [
       "PCA(n_components=1)"
      ]
     },
     "execution_count": 25,
     "metadata": {},
     "output_type": "execute_result"
    },
    {
     "data": {
      "application/javascript": [
       "\n",
       "            setTimeout(function() {\n",
       "                var nbb_cell_id = 25;\n",
       "                var nbb_unformatted_code = \"pca.fit(trk_train[[\\\"trk_z0\\\", \\\"trk_eta\\\", \\\"trk_phi\\\"]].values)\";\n",
       "                var nbb_formatted_code = \"pca.fit(trk_train[[\\\"trk_z0\\\", \\\"trk_eta\\\", \\\"trk_phi\\\"]].values)\";\n",
       "                var nbb_cells = Jupyter.notebook.get_cells();\n",
       "                for (var i = 0; i < nbb_cells.length; ++i) {\n",
       "                    if (nbb_cells[i].input_prompt_number == nbb_cell_id) {\n",
       "                        if (nbb_cells[i].get_text() == nbb_unformatted_code) {\n",
       "                             nbb_cells[i].set_text(nbb_formatted_code);\n",
       "                        }\n",
       "                        break;\n",
       "                    }\n",
       "                }\n",
       "            }, 500);\n",
       "            "
      ],
      "text/plain": [
       "<IPython.core.display.Javascript object>"
      ]
     },
     "metadata": {},
     "output_type": "display_data"
    }
   ],
   "source": [
    "pca.fit(trk_train[[\"trk_z0\", \"trk_eta\", \"trk_phi\"]].values)"
   ]
  },
  {
   "cell_type": "code",
   "execution_count": 26,
   "id": "59acf138",
   "metadata": {},
   "outputs": [
    {
     "data": {
      "application/javascript": [
       "\n",
       "            setTimeout(function() {\n",
       "                var nbb_cell_id = 26;\n",
       "                var nbb_unformatted_code = \"y_train = pca.transform(trk_train[[\\\"trk_z0\\\", \\\"trk_eta\\\", \\\"trk_phi\\\"]].values)\";\n",
       "                var nbb_formatted_code = \"y_train = pca.transform(trk_train[[\\\"trk_z0\\\", \\\"trk_eta\\\", \\\"trk_phi\\\"]].values)\";\n",
       "                var nbb_cells = Jupyter.notebook.get_cells();\n",
       "                for (var i = 0; i < nbb_cells.length; ++i) {\n",
       "                    if (nbb_cells[i].input_prompt_number == nbb_cell_id) {\n",
       "                        if (nbb_cells[i].get_text() == nbb_unformatted_code) {\n",
       "                             nbb_cells[i].set_text(nbb_formatted_code);\n",
       "                        }\n",
       "                        break;\n",
       "                    }\n",
       "                }\n",
       "            }, 500);\n",
       "            "
      ],
      "text/plain": [
       "<IPython.core.display.Javascript object>"
      ]
     },
     "metadata": {},
     "output_type": "display_data"
    }
   ],
   "source": [
    "y_train = pca.transform(trk_train[[\"trk_z0\", \"trk_eta\", \"trk_phi\"]].values)"
   ]
  },
  {
   "cell_type": "code",
   "execution_count": 27,
   "id": "b86c0b5b",
   "metadata": {},
   "outputs": [
    {
     "data": {
      "application/javascript": [
       "\n",
       "            setTimeout(function() {\n",
       "                var nbb_cell_id = 27;\n",
       "                var nbb_unformatted_code = \"trk_train[\\\"pca_1\\\"] = y_train\";\n",
       "                var nbb_formatted_code = \"trk_train[\\\"pca_1\\\"] = y_train\";\n",
       "                var nbb_cells = Jupyter.notebook.get_cells();\n",
       "                for (var i = 0; i < nbb_cells.length; ++i) {\n",
       "                    if (nbb_cells[i].input_prompt_number == nbb_cell_id) {\n",
       "                        if (nbb_cells[i].get_text() == nbb_unformatted_code) {\n",
       "                             nbb_cells[i].set_text(nbb_formatted_code);\n",
       "                        }\n",
       "                        break;\n",
       "                    }\n",
       "                }\n",
       "            }, 500);\n",
       "            "
      ],
      "text/plain": [
       "<IPython.core.display.Javascript object>"
      ]
     },
     "metadata": {},
     "output_type": "display_data"
    }
   ],
   "source": [
    "trk_train[\"pca_1\"] = y_train"
   ]
  },
  {
   "cell_type": "code",
   "execution_count": 28,
   "id": "c9bb9796",
   "metadata": {},
   "outputs": [
    {
     "data": {
      "text/html": [
       "<div>\n",
       "<style scoped>\n",
       "    .dataframe tbody tr th:only-of-type {\n",
       "        vertical-align: middle;\n",
       "    }\n",
       "\n",
       "    .dataframe tbody tr th {\n",
       "        vertical-align: top;\n",
       "    }\n",
       "\n",
       "    .dataframe thead th {\n",
       "        text-align: right;\n",
       "    }\n",
       "</style>\n",
       "<table border=\"1\" class=\"dataframe\">\n",
       "  <thead>\n",
       "    <tr style=\"text-align: right;\">\n",
       "      <th></th>\n",
       "      <th>event_number</th>\n",
       "      <th>track_number</th>\n",
       "      <th>trk_pt</th>\n",
       "      <th>trk_eta</th>\n",
       "      <th>trk_phi</th>\n",
       "      <th>trk_d0</th>\n",
       "      <th>trk_z0</th>\n",
       "      <th>trk_fake</th>\n",
       "      <th>is_pv</th>\n",
       "      <th>pca_1</th>\n",
       "    </tr>\n",
       "  </thead>\n",
       "  <tbody>\n",
       "    <tr>\n",
       "      <th>0</th>\n",
       "      <td>0</td>\n",
       "      <td>0</td>\n",
       "      <td>2.623967</td>\n",
       "      <td>1.301414</td>\n",
       "      <td>-0.289234</td>\n",
       "      <td>999.0</td>\n",
       "      <td>-0.878906</td>\n",
       "      <td>2</td>\n",
       "      <td>0</td>\n",
       "      <td>0.891175</td>\n",
       "    </tr>\n",
       "    <tr>\n",
       "      <th>1</th>\n",
       "      <td>0</td>\n",
       "      <td>1</td>\n",
       "      <td>3.435026</td>\n",
       "      <td>0.566814</td>\n",
       "      <td>-0.159267</td>\n",
       "      <td>999.0</td>\n",
       "      <td>3.339844</td>\n",
       "      <td>2</td>\n",
       "      <td>0</td>\n",
       "      <td>-3.331016</td>\n",
       "    </tr>\n",
       "    <tr>\n",
       "      <th>2</th>\n",
       "      <td>0</td>\n",
       "      <td>2</td>\n",
       "      <td>3.774908</td>\n",
       "      <td>1.815973</td>\n",
       "      <td>-0.240375</td>\n",
       "      <td>999.0</td>\n",
       "      <td>4.921875</td>\n",
       "      <td>1</td>\n",
       "      <td>1</td>\n",
       "      <td>-4.907138</td>\n",
       "    </tr>\n",
       "    <tr>\n",
       "      <th>3</th>\n",
       "      <td>0</td>\n",
       "      <td>3</td>\n",
       "      <td>2.641448</td>\n",
       "      <td>-1.435747</td>\n",
       "      <td>-0.128747</td>\n",
       "      <td>999.0</td>\n",
       "      <td>-0.468750</td>\n",
       "      <td>2</td>\n",
       "      <td>0</td>\n",
       "      <td>0.468118</td>\n",
       "    </tr>\n",
       "    <tr>\n",
       "      <th>4</th>\n",
       "      <td>0</td>\n",
       "      <td>4</td>\n",
       "      <td>2.320653</td>\n",
       "      <td>1.837421</td>\n",
       "      <td>0.032604</td>\n",
       "      <td>999.0</td>\n",
       "      <td>4.980469</td>\n",
       "      <td>1</td>\n",
       "      <td>1</td>\n",
       "      <td>-4.965705</td>\n",
       "    </tr>\n",
       "    <tr>\n",
       "      <th>...</th>\n",
       "      <td>...</td>\n",
       "      <td>...</td>\n",
       "      <td>...</td>\n",
       "      <td>...</td>\n",
       "      <td>...</td>\n",
       "      <td>...</td>\n",
       "      <td>...</td>\n",
       "      <td>...</td>\n",
       "      <td>...</td>\n",
       "      <td>...</td>\n",
       "    </tr>\n",
       "    <tr>\n",
       "      <th>4562531</th>\n",
       "      <td>24999</td>\n",
       "      <td>194</td>\n",
       "      <td>2.807081</td>\n",
       "      <td>-2.373757</td>\n",
       "      <td>-0.638281</td>\n",
       "      <td>999.0</td>\n",
       "      <td>-0.058594</td>\n",
       "      <td>2</td>\n",
       "      <td>0</td>\n",
       "      <td>0.053701</td>\n",
       "    </tr>\n",
       "    <tr>\n",
       "      <th>4562532</th>\n",
       "      <td>24999</td>\n",
       "      <td>195</td>\n",
       "      <td>2.472056</td>\n",
       "      <td>-2.244333</td>\n",
       "      <td>-0.792948</td>\n",
       "      <td>999.0</td>\n",
       "      <td>6.328125</td>\n",
       "      <td>2</td>\n",
       "      <td>0</td>\n",
       "      <td>-6.332296</td>\n",
       "    </tr>\n",
       "    <tr>\n",
       "      <th>4562533</th>\n",
       "      <td>24999</td>\n",
       "      <td>196</td>\n",
       "      <td>2.391643</td>\n",
       "      <td>-2.093290</td>\n",
       "      <td>-0.658689</td>\n",
       "      <td>999.0</td>\n",
       "      <td>-0.410156</td>\n",
       "      <td>2</td>\n",
       "      <td>0</td>\n",
       "      <td>0.406583</td>\n",
       "    </tr>\n",
       "    <tr>\n",
       "      <th>4562534</th>\n",
       "      <td>24999</td>\n",
       "      <td>197</td>\n",
       "      <td>6.140490</td>\n",
       "      <td>2.403961</td>\n",
       "      <td>-0.539389</td>\n",
       "      <td>999.0</td>\n",
       "      <td>-7.441406</td>\n",
       "      <td>2</td>\n",
       "      <td>0</td>\n",
       "      <td>7.458853</td>\n",
       "    </tr>\n",
       "    <tr>\n",
       "      <th>4562535</th>\n",
       "      <td>24999</td>\n",
       "      <td>198</td>\n",
       "      <td>5.962409</td>\n",
       "      <td>-2.311289</td>\n",
       "      <td>-0.428627</td>\n",
       "      <td>999.0</td>\n",
       "      <td>1.640625</td>\n",
       "      <td>2</td>\n",
       "      <td>0</td>\n",
       "      <td>-1.645264</td>\n",
       "    </tr>\n",
       "  </tbody>\n",
       "</table>\n",
       "<p>2276586 rows × 10 columns</p>\n",
       "</div>"
      ],
      "text/plain": [
       "         event_number  track_number    trk_pt   trk_eta   trk_phi  trk_d0  \\\n",
       "0                   0             0  2.623967  1.301414 -0.289234   999.0   \n",
       "1                   0             1  3.435026  0.566814 -0.159267   999.0   \n",
       "2                   0             2  3.774908  1.815973 -0.240375   999.0   \n",
       "3                   0             3  2.641448 -1.435747 -0.128747   999.0   \n",
       "4                   0             4  2.320653  1.837421  0.032604   999.0   \n",
       "...               ...           ...       ...       ...       ...     ...   \n",
       "4562531         24999           194  2.807081 -2.373757 -0.638281   999.0   \n",
       "4562532         24999           195  2.472056 -2.244333 -0.792948   999.0   \n",
       "4562533         24999           196  2.391643 -2.093290 -0.658689   999.0   \n",
       "4562534         24999           197  6.140490  2.403961 -0.539389   999.0   \n",
       "4562535         24999           198  5.962409 -2.311289 -0.428627   999.0   \n",
       "\n",
       "           trk_z0  trk_fake  is_pv     pca_1  \n",
       "0       -0.878906         2      0  0.891175  \n",
       "1        3.339844         2      0 -3.331016  \n",
       "2        4.921875         1      1 -4.907138  \n",
       "3       -0.468750         2      0  0.468118  \n",
       "4        4.980469         1      1 -4.965705  \n",
       "...           ...       ...    ...       ...  \n",
       "4562531 -0.058594         2      0  0.053701  \n",
       "4562532  6.328125         2      0 -6.332296  \n",
       "4562533 -0.410156         2      0  0.406583  \n",
       "4562534 -7.441406         2      0  7.458853  \n",
       "4562535  1.640625         2      0 -1.645264  \n",
       "\n",
       "[2276586 rows x 10 columns]"
      ]
     },
     "execution_count": 28,
     "metadata": {},
     "output_type": "execute_result"
    },
    {
     "data": {
      "application/javascript": [
       "\n",
       "            setTimeout(function() {\n",
       "                var nbb_cell_id = 28;\n",
       "                var nbb_unformatted_code = \"trk_train\";\n",
       "                var nbb_formatted_code = \"trk_train\";\n",
       "                var nbb_cells = Jupyter.notebook.get_cells();\n",
       "                for (var i = 0; i < nbb_cells.length; ++i) {\n",
       "                    if (nbb_cells[i].input_prompt_number == nbb_cell_id) {\n",
       "                        if (nbb_cells[i].get_text() == nbb_unformatted_code) {\n",
       "                             nbb_cells[i].set_text(nbb_formatted_code);\n",
       "                        }\n",
       "                        break;\n",
       "                    }\n",
       "                }\n",
       "            }, 500);\n",
       "            "
      ],
      "text/plain": [
       "<IPython.core.display.Javascript object>"
      ]
     },
     "metadata": {},
     "output_type": "display_data"
    }
   ],
   "source": [
    "trk_train"
   ]
  },
  {
   "cell_type": "code",
   "execution_count": 29,
   "id": "feccc4dc",
   "metadata": {},
   "outputs": [
    {
     "data": {
      "application/javascript": [
       "\n",
       "            setTimeout(function() {\n",
       "                var nbb_cell_id = 29;\n",
       "                var nbb_unformatted_code = \"trk_test[\\\"pca_1\\\"] = pca.transform(trk_test[[\\\"trk_z0\\\", \\\"trk_eta\\\", \\\"trk_phi\\\"]].values)\";\n",
       "                var nbb_formatted_code = \"trk_test[\\\"pca_1\\\"] = pca.transform(trk_test[[\\\"trk_z0\\\", \\\"trk_eta\\\", \\\"trk_phi\\\"]].values)\";\n",
       "                var nbb_cells = Jupyter.notebook.get_cells();\n",
       "                for (var i = 0; i < nbb_cells.length; ++i) {\n",
       "                    if (nbb_cells[i].input_prompt_number == nbb_cell_id) {\n",
       "                        if (nbb_cells[i].get_text() == nbb_unformatted_code) {\n",
       "                             nbb_cells[i].set_text(nbb_formatted_code);\n",
       "                        }\n",
       "                        break;\n",
       "                    }\n",
       "                }\n",
       "            }, 500);\n",
       "            "
      ],
      "text/plain": [
       "<IPython.core.display.Javascript object>"
      ]
     },
     "metadata": {},
     "output_type": "display_data"
    }
   ],
   "source": [
    "trk_test[\"pca_1\"] = pca.transform(trk_test[[\"trk_z0\", \"trk_eta\", \"trk_phi\"]].values)"
   ]
  },
  {
   "cell_type": "code",
   "execution_count": 30,
   "id": "2d746895",
   "metadata": {},
   "outputs": [
    {
     "data": {
      "text/html": [
       "<div>\n",
       "<style scoped>\n",
       "    .dataframe tbody tr th:only-of-type {\n",
       "        vertical-align: middle;\n",
       "    }\n",
       "\n",
       "    .dataframe tbody tr th {\n",
       "        vertical-align: top;\n",
       "    }\n",
       "\n",
       "    .dataframe thead th {\n",
       "        text-align: right;\n",
       "    }\n",
       "</style>\n",
       "<table border=\"1\" class=\"dataframe\">\n",
       "  <thead>\n",
       "    <tr style=\"text-align: right;\">\n",
       "      <th></th>\n",
       "      <th>event_number</th>\n",
       "      <th>track_number</th>\n",
       "      <th>trk_pt</th>\n",
       "      <th>trk_eta</th>\n",
       "      <th>trk_phi</th>\n",
       "      <th>trk_d0</th>\n",
       "      <th>trk_z0</th>\n",
       "      <th>trk_fake</th>\n",
       "      <th>is_pv</th>\n",
       "      <th>pca_1</th>\n",
       "    </tr>\n",
       "  </thead>\n",
       "  <tbody>\n",
       "    <tr>\n",
       "      <th>159</th>\n",
       "      <td>1</td>\n",
       "      <td>0</td>\n",
       "      <td>2.085667</td>\n",
       "      <td>0.266370</td>\n",
       "      <td>-0.245917</td>\n",
       "      <td>999.0</td>\n",
       "      <td>-2.578125</td>\n",
       "      <td>2</td>\n",
       "      <td>0</td>\n",
       "      <td>2.585500</td>\n",
       "    </tr>\n",
       "    <tr>\n",
       "      <th>160</th>\n",
       "      <td>1</td>\n",
       "      <td>1</td>\n",
       "      <td>3.187484</td>\n",
       "      <td>0.757485</td>\n",
       "      <td>-0.190312</td>\n",
       "      <td>999.0</td>\n",
       "      <td>2.812500</td>\n",
       "      <td>2</td>\n",
       "      <td>0</td>\n",
       "      <td>-2.802773</td>\n",
       "    </tr>\n",
       "    <tr>\n",
       "      <th>161</th>\n",
       "      <td>1</td>\n",
       "      <td>2</td>\n",
       "      <td>2.119512</td>\n",
       "      <td>-0.136296</td>\n",
       "      <td>-0.057751</td>\n",
       "      <td>999.0</td>\n",
       "      <td>-4.042969</td>\n",
       "      <td>2</td>\n",
       "      <td>0</td>\n",
       "      <td>4.048383</td>\n",
       "    </tr>\n",
       "    <tr>\n",
       "      <th>162</th>\n",
       "      <td>1</td>\n",
       "      <td>3</td>\n",
       "      <td>4.098193</td>\n",
       "      <td>0.348379</td>\n",
       "      <td>-0.048535</td>\n",
       "      <td>999.0</td>\n",
       "      <td>-0.410156</td>\n",
       "      <td>2</td>\n",
       "      <td>0</td>\n",
       "      <td>0.417886</td>\n",
       "    </tr>\n",
       "    <tr>\n",
       "      <th>163</th>\n",
       "      <td>1</td>\n",
       "      <td>4</td>\n",
       "      <td>2.350128</td>\n",
       "      <td>0.005859</td>\n",
       "      <td>-0.134058</td>\n",
       "      <td>999.0</td>\n",
       "      <td>-4.218750</td>\n",
       "      <td>2</td>\n",
       "      <td>0</td>\n",
       "      <td>4.224852</td>\n",
       "    </tr>\n",
       "    <tr>\n",
       "      <th>...</th>\n",
       "      <td>...</td>\n",
       "      <td>...</td>\n",
       "      <td>...</td>\n",
       "      <td>...</td>\n",
       "      <td>...</td>\n",
       "      <td>...</td>\n",
       "      <td>...</td>\n",
       "      <td>...</td>\n",
       "      <td>...</td>\n",
       "      <td>...</td>\n",
       "    </tr>\n",
       "    <tr>\n",
       "      <th>4562332</th>\n",
       "      <td>24998</td>\n",
       "      <td>185</td>\n",
       "      <td>4.531431</td>\n",
       "      <td>0.222762</td>\n",
       "      <td>-0.767229</td>\n",
       "      <td>999.0</td>\n",
       "      <td>-4.218750</td>\n",
       "      <td>1</td>\n",
       "      <td>1</td>\n",
       "      <td>4.226047</td>\n",
       "    </tr>\n",
       "    <tr>\n",
       "      <th>4562333</th>\n",
       "      <td>24998</td>\n",
       "      <td>186</td>\n",
       "      <td>2.781760</td>\n",
       "      <td>0.172964</td>\n",
       "      <td>-0.681181</td>\n",
       "      <td>999.0</td>\n",
       "      <td>-5.273438</td>\n",
       "      <td>1</td>\n",
       "      <td>1</td>\n",
       "      <td>5.280465</td>\n",
       "    </tr>\n",
       "    <tr>\n",
       "      <th>4562334</th>\n",
       "      <td>24998</td>\n",
       "      <td>187</td>\n",
       "      <td>1.970887</td>\n",
       "      <td>-2.213576</td>\n",
       "      <td>-1.162888</td>\n",
       "      <td>999.0</td>\n",
       "      <td>4.218750</td>\n",
       "      <td>2</td>\n",
       "      <td>0</td>\n",
       "      <td>-4.222696</td>\n",
       "    </tr>\n",
       "    <tr>\n",
       "      <th>4562335</th>\n",
       "      <td>24998</td>\n",
       "      <td>188</td>\n",
       "      <td>1.956645</td>\n",
       "      <td>-2.179688</td>\n",
       "      <td>-0.977764</td>\n",
       "      <td>999.0</td>\n",
       "      <td>11.894531</td>\n",
       "      <td>2</td>\n",
       "      <td>0</td>\n",
       "      <td>-11.898286</td>\n",
       "    </tr>\n",
       "    <tr>\n",
       "      <th>4562336</th>\n",
       "      <td>24998</td>\n",
       "      <td>189</td>\n",
       "      <td>2.041936</td>\n",
       "      <td>-2.345230</td>\n",
       "      <td>-0.523041</td>\n",
       "      <td>999.0</td>\n",
       "      <td>-5.332031</td>\n",
       "      <td>2</td>\n",
       "      <td>0</td>\n",
       "      <td>5.327182</td>\n",
       "    </tr>\n",
       "  </tbody>\n",
       "</table>\n",
       "<p>2285950 rows × 10 columns</p>\n",
       "</div>"
      ],
      "text/plain": [
       "         event_number  track_number    trk_pt   trk_eta   trk_phi  trk_d0  \\\n",
       "159                 1             0  2.085667  0.266370 -0.245917   999.0   \n",
       "160                 1             1  3.187484  0.757485 -0.190312   999.0   \n",
       "161                 1             2  2.119512 -0.136296 -0.057751   999.0   \n",
       "162                 1             3  4.098193  0.348379 -0.048535   999.0   \n",
       "163                 1             4  2.350128  0.005859 -0.134058   999.0   \n",
       "...               ...           ...       ...       ...       ...     ...   \n",
       "4562332         24998           185  4.531431  0.222762 -0.767229   999.0   \n",
       "4562333         24998           186  2.781760  0.172964 -0.681181   999.0   \n",
       "4562334         24998           187  1.970887 -2.213576 -1.162888   999.0   \n",
       "4562335         24998           188  1.956645 -2.179688 -0.977764   999.0   \n",
       "4562336         24998           189  2.041936 -2.345230 -0.523041   999.0   \n",
       "\n",
       "            trk_z0  trk_fake  is_pv      pca_1  \n",
       "159      -2.578125         2      0   2.585500  \n",
       "160       2.812500         2      0  -2.802773  \n",
       "161      -4.042969         2      0   4.048383  \n",
       "162      -0.410156         2      0   0.417886  \n",
       "163      -4.218750         2      0   4.224852  \n",
       "...            ...       ...    ...        ...  \n",
       "4562332  -4.218750         1      1   4.226047  \n",
       "4562333  -5.273438         1      1   5.280465  \n",
       "4562334   4.218750         2      0  -4.222696  \n",
       "4562335  11.894531         2      0 -11.898286  \n",
       "4562336  -5.332031         2      0   5.327182  \n",
       "\n",
       "[2285950 rows x 10 columns]"
      ]
     },
     "execution_count": 30,
     "metadata": {},
     "output_type": "execute_result"
    },
    {
     "data": {
      "application/javascript": [
       "\n",
       "            setTimeout(function() {\n",
       "                var nbb_cell_id = 30;\n",
       "                var nbb_unformatted_code = \"trk_test\";\n",
       "                var nbb_formatted_code = \"trk_test\";\n",
       "                var nbb_cells = Jupyter.notebook.get_cells();\n",
       "                for (var i = 0; i < nbb_cells.length; ++i) {\n",
       "                    if (nbb_cells[i].input_prompt_number == nbb_cell_id) {\n",
       "                        if (nbb_cells[i].get_text() == nbb_unformatted_code) {\n",
       "                             nbb_cells[i].set_text(nbb_formatted_code);\n",
       "                        }\n",
       "                        break;\n",
       "                    }\n",
       "                }\n",
       "            }, 500);\n",
       "            "
      ],
      "text/plain": [
       "<IPython.core.display.Javascript object>"
      ]
     },
     "metadata": {},
     "output_type": "display_data"
    }
   ],
   "source": [
    "trk_test"
   ]
  },
  {
   "cell_type": "markdown",
   "id": "490a0409",
   "metadata": {
    "tags": []
   },
   "source": [
    "### t-SNE takes too long."
   ]
  },
  {
   "cell_type": "markdown",
   "id": "5af9dc3e",
   "metadata": {},
   "source": [
    "# Test run of DBSCAN"
   ]
  },
  {
   "cell_type": "markdown",
   "id": "17bef177",
   "metadata": {},
   "source": [
    "Lets test it with the first event"
   ]
  },
  {
   "cell_type": "code",
   "execution_count": 40,
   "id": "09cad2bd",
   "metadata": {},
   "outputs": [
    {
     "data": {
      "application/javascript": [
       "\n",
       "            setTimeout(function() {\n",
       "                var nbb_cell_id = 40;\n",
       "                var nbb_unformatted_code = \"e1 = trk_train.loc[trk_train.event_number == 0].copy()\";\n",
       "                var nbb_formatted_code = \"e1 = trk_train.loc[trk_train.event_number == 0].copy()\";\n",
       "                var nbb_cells = Jupyter.notebook.get_cells();\n",
       "                for (var i = 0; i < nbb_cells.length; ++i) {\n",
       "                    if (nbb_cells[i].input_prompt_number == nbb_cell_id) {\n",
       "                        if (nbb_cells[i].get_text() == nbb_unformatted_code) {\n",
       "                             nbb_cells[i].set_text(nbb_formatted_code);\n",
       "                        }\n",
       "                        break;\n",
       "                    }\n",
       "                }\n",
       "            }, 500);\n",
       "            "
      ],
      "text/plain": [
       "<IPython.core.display.Javascript object>"
      ]
     },
     "metadata": {},
     "output_type": "display_data"
    }
   ],
   "source": [
    "e1 = trk_train.loc[trk_train.event_number == 0].copy()"
   ]
  },
  {
   "cell_type": "code",
   "execution_count": 32,
   "id": "4968e16c",
   "metadata": {},
   "outputs": [
    {
     "data": {
      "application/javascript": [
       "\n",
       "            setTimeout(function() {\n",
       "                var nbb_cell_id = 32;\n",
       "                var nbb_unformatted_code = \"from sklearn.cluster import DBSCAN\";\n",
       "                var nbb_formatted_code = \"from sklearn.cluster import DBSCAN\";\n",
       "                var nbb_cells = Jupyter.notebook.get_cells();\n",
       "                for (var i = 0; i < nbb_cells.length; ++i) {\n",
       "                    if (nbb_cells[i].input_prompt_number == nbb_cell_id) {\n",
       "                        if (nbb_cells[i].get_text() == nbb_unformatted_code) {\n",
       "                             nbb_cells[i].set_text(nbb_formatted_code);\n",
       "                        }\n",
       "                        break;\n",
       "                    }\n",
       "                }\n",
       "            }, 500);\n",
       "            "
      ],
      "text/plain": [
       "<IPython.core.display.Javascript object>"
      ]
     },
     "metadata": {},
     "output_type": "display_data"
    }
   ],
   "source": [
    "from sklearn.cluster import DBSCAN"
   ]
  },
  {
   "cell_type": "code",
   "execution_count": 41,
   "id": "cf435641",
   "metadata": {},
   "outputs": [
    {
     "data": {
      "text/html": [
       "<div>\n",
       "<style scoped>\n",
       "    .dataframe tbody tr th:only-of-type {\n",
       "        vertical-align: middle;\n",
       "    }\n",
       "\n",
       "    .dataframe tbody tr th {\n",
       "        vertical-align: top;\n",
       "    }\n",
       "\n",
       "    .dataframe thead th {\n",
       "        text-align: right;\n",
       "    }\n",
       "</style>\n",
       "<table border=\"1\" class=\"dataframe\">\n",
       "  <thead>\n",
       "    <tr style=\"text-align: right;\">\n",
       "      <th></th>\n",
       "      <th>event_number</th>\n",
       "      <th>track_number</th>\n",
       "      <th>trk_pt</th>\n",
       "      <th>trk_eta</th>\n",
       "      <th>trk_phi</th>\n",
       "      <th>trk_d0</th>\n",
       "      <th>trk_z0</th>\n",
       "      <th>trk_fake</th>\n",
       "      <th>is_pv</th>\n",
       "      <th>pca_1</th>\n",
       "    </tr>\n",
       "  </thead>\n",
       "  <tbody>\n",
       "    <tr>\n",
       "      <th>0</th>\n",
       "      <td>0</td>\n",
       "      <td>0</td>\n",
       "      <td>2.623967</td>\n",
       "      <td>1.301414</td>\n",
       "      <td>-0.289234</td>\n",
       "      <td>999.0</td>\n",
       "      <td>-0.878906</td>\n",
       "      <td>2</td>\n",
       "      <td>0</td>\n",
       "      <td>0.891175</td>\n",
       "    </tr>\n",
       "    <tr>\n",
       "      <th>1</th>\n",
       "      <td>0</td>\n",
       "      <td>1</td>\n",
       "      <td>3.435026</td>\n",
       "      <td>0.566814</td>\n",
       "      <td>-0.159267</td>\n",
       "      <td>999.0</td>\n",
       "      <td>3.339844</td>\n",
       "      <td>2</td>\n",
       "      <td>0</td>\n",
       "      <td>-3.331016</td>\n",
       "    </tr>\n",
       "    <tr>\n",
       "      <th>2</th>\n",
       "      <td>0</td>\n",
       "      <td>2</td>\n",
       "      <td>3.774908</td>\n",
       "      <td>1.815973</td>\n",
       "      <td>-0.240375</td>\n",
       "      <td>999.0</td>\n",
       "      <td>4.921875</td>\n",
       "      <td>1</td>\n",
       "      <td>1</td>\n",
       "      <td>-4.907138</td>\n",
       "    </tr>\n",
       "    <tr>\n",
       "      <th>3</th>\n",
       "      <td>0</td>\n",
       "      <td>3</td>\n",
       "      <td>2.641448</td>\n",
       "      <td>-1.435747</td>\n",
       "      <td>-0.128747</td>\n",
       "      <td>999.0</td>\n",
       "      <td>-0.468750</td>\n",
       "      <td>2</td>\n",
       "      <td>0</td>\n",
       "      <td>0.468118</td>\n",
       "    </tr>\n",
       "    <tr>\n",
       "      <th>4</th>\n",
       "      <td>0</td>\n",
       "      <td>4</td>\n",
       "      <td>2.320653</td>\n",
       "      <td>1.837421</td>\n",
       "      <td>0.032604</td>\n",
       "      <td>999.0</td>\n",
       "      <td>4.980469</td>\n",
       "      <td>1</td>\n",
       "      <td>1</td>\n",
       "      <td>-4.965705</td>\n",
       "    </tr>\n",
       "    <tr>\n",
       "      <th>...</th>\n",
       "      <td>...</td>\n",
       "      <td>...</td>\n",
       "      <td>...</td>\n",
       "      <td>...</td>\n",
       "      <td>...</td>\n",
       "      <td>...</td>\n",
       "      <td>...</td>\n",
       "      <td>...</td>\n",
       "      <td>...</td>\n",
       "      <td>...</td>\n",
       "    </tr>\n",
       "    <tr>\n",
       "      <th>154</th>\n",
       "      <td>0</td>\n",
       "      <td>154</td>\n",
       "      <td>2.026653</td>\n",
       "      <td>-2.021094</td>\n",
       "      <td>-1.062191</td>\n",
       "      <td>999.0</td>\n",
       "      <td>-0.410156</td>\n",
       "      <td>2</td>\n",
       "      <td>0</td>\n",
       "      <td>0.407035</td>\n",
       "    </tr>\n",
       "    <tr>\n",
       "      <th>155</th>\n",
       "      <td>0</td>\n",
       "      <td>155</td>\n",
       "      <td>2.049097</td>\n",
       "      <td>-2.055119</td>\n",
       "      <td>-0.964472</td>\n",
       "      <td>999.0</td>\n",
       "      <td>-0.410156</td>\n",
       "      <td>2</td>\n",
       "      <td>0</td>\n",
       "      <td>0.406848</td>\n",
       "    </tr>\n",
       "    <tr>\n",
       "      <th>156</th>\n",
       "      <td>0</td>\n",
       "      <td>156</td>\n",
       "      <td>2.222179</td>\n",
       "      <td>-2.426809</td>\n",
       "      <td>-0.693084</td>\n",
       "      <td>999.0</td>\n",
       "      <td>5.566406</td>\n",
       "      <td>2</td>\n",
       "      <td>0</td>\n",
       "      <td>-5.571471</td>\n",
       "    </tr>\n",
       "    <tr>\n",
       "      <th>157</th>\n",
       "      <td>0</td>\n",
       "      <td>157</td>\n",
       "      <td>2.563973</td>\n",
       "      <td>2.081842</td>\n",
       "      <td>-0.530004</td>\n",
       "      <td>999.0</td>\n",
       "      <td>-3.046875</td>\n",
       "      <td>2</td>\n",
       "      <td>0</td>\n",
       "      <td>3.062854</td>\n",
       "    </tr>\n",
       "    <tr>\n",
       "      <th>158</th>\n",
       "      <td>0</td>\n",
       "      <td>158</td>\n",
       "      <td>2.303798</td>\n",
       "      <td>1.335547</td>\n",
       "      <td>-0.274176</td>\n",
       "      <td>999.0</td>\n",
       "      <td>4.804688</td>\n",
       "      <td>2</td>\n",
       "      <td>0</td>\n",
       "      <td>-4.792199</td>\n",
       "    </tr>\n",
       "  </tbody>\n",
       "</table>\n",
       "<p>159 rows × 10 columns</p>\n",
       "</div>"
      ],
      "text/plain": [
       "     event_number  track_number    trk_pt   trk_eta   trk_phi  trk_d0  \\\n",
       "0               0             0  2.623967  1.301414 -0.289234   999.0   \n",
       "1               0             1  3.435026  0.566814 -0.159267   999.0   \n",
       "2               0             2  3.774908  1.815973 -0.240375   999.0   \n",
       "3               0             3  2.641448 -1.435747 -0.128747   999.0   \n",
       "4               0             4  2.320653  1.837421  0.032604   999.0   \n",
       "..            ...           ...       ...       ...       ...     ...   \n",
       "154             0           154  2.026653 -2.021094 -1.062191   999.0   \n",
       "155             0           155  2.049097 -2.055119 -0.964472   999.0   \n",
       "156             0           156  2.222179 -2.426809 -0.693084   999.0   \n",
       "157             0           157  2.563973  2.081842 -0.530004   999.0   \n",
       "158             0           158  2.303798  1.335547 -0.274176   999.0   \n",
       "\n",
       "       trk_z0  trk_fake  is_pv     pca_1  \n",
       "0   -0.878906         2      0  0.891175  \n",
       "1    3.339844         2      0 -3.331016  \n",
       "2    4.921875         1      1 -4.907138  \n",
       "3   -0.468750         2      0  0.468118  \n",
       "4    4.980469         1      1 -4.965705  \n",
       "..        ...       ...    ...       ...  \n",
       "154 -0.410156         2      0  0.407035  \n",
       "155 -0.410156         2      0  0.406848  \n",
       "156  5.566406         2      0 -5.571471  \n",
       "157 -3.046875         2      0  3.062854  \n",
       "158  4.804688         2      0 -4.792199  \n",
       "\n",
       "[159 rows x 10 columns]"
      ]
     },
     "execution_count": 41,
     "metadata": {},
     "output_type": "execute_result"
    },
    {
     "data": {
      "application/javascript": [
       "\n",
       "            setTimeout(function() {\n",
       "                var nbb_cell_id = 41;\n",
       "                var nbb_unformatted_code = \"e1\";\n",
       "                var nbb_formatted_code = \"e1\";\n",
       "                var nbb_cells = Jupyter.notebook.get_cells();\n",
       "                for (var i = 0; i < nbb_cells.length; ++i) {\n",
       "                    if (nbb_cells[i].input_prompt_number == nbb_cell_id) {\n",
       "                        if (nbb_cells[i].get_text() == nbb_unformatted_code) {\n",
       "                             nbb_cells[i].set_text(nbb_formatted_code);\n",
       "                        }\n",
       "                        break;\n",
       "                    }\n",
       "                }\n",
       "            }, 500);\n",
       "            "
      ],
      "text/plain": [
       "<IPython.core.display.Javascript object>"
      ]
     },
     "metadata": {},
     "output_type": "display_data"
    }
   ],
   "source": [
    "e1"
   ]
  },
  {
   "cell_type": "code",
   "execution_count": 42,
   "id": "3a031408",
   "metadata": {},
   "outputs": [
    {
     "data": {
      "application/javascript": [
       "\n",
       "            setTimeout(function() {\n",
       "                var nbb_cell_id = 42;\n",
       "                var nbb_unformatted_code = \"_df = pd.DataFrame({})\\n_df[\\\"z0\\\"] = e1[\\\"trk_z0\\\"]\\n_df[\\\"pt\\\"] = e1[\\\"trk_pt\\\"]\\n_df[\\\"pca_1\\\"] = e1[\\\"pca_1\\\"]\";\n",
       "                var nbb_formatted_code = \"_df = pd.DataFrame({})\\n_df[\\\"z0\\\"] = e1[\\\"trk_z0\\\"]\\n_df[\\\"pt\\\"] = e1[\\\"trk_pt\\\"]\\n_df[\\\"pca_1\\\"] = e1[\\\"pca_1\\\"]\";\n",
       "                var nbb_cells = Jupyter.notebook.get_cells();\n",
       "                for (var i = 0; i < nbb_cells.length; ++i) {\n",
       "                    if (nbb_cells[i].input_prompt_number == nbb_cell_id) {\n",
       "                        if (nbb_cells[i].get_text() == nbb_unformatted_code) {\n",
       "                             nbb_cells[i].set_text(nbb_formatted_code);\n",
       "                        }\n",
       "                        break;\n",
       "                    }\n",
       "                }\n",
       "            }, 500);\n",
       "            "
      ],
      "text/plain": [
       "<IPython.core.display.Javascript object>"
      ]
     },
     "metadata": {},
     "output_type": "display_data"
    }
   ],
   "source": [
    "_df = pd.DataFrame({})\n",
    "_df[\"z0\"] = e1[\"trk_z0\"]\n",
    "_df[\"pt\"] = e1[\"trk_pt\"]\n",
    "_df[\"pca_1\"] = e1[\"pca_1\"]"
   ]
  },
  {
   "cell_type": "code",
   "execution_count": 43,
   "id": "e6d40e17",
   "metadata": {},
   "outputs": [
    {
     "data": {
      "text/html": [
       "<div>\n",
       "<style scoped>\n",
       "    .dataframe tbody tr th:only-of-type {\n",
       "        vertical-align: middle;\n",
       "    }\n",
       "\n",
       "    .dataframe tbody tr th {\n",
       "        vertical-align: top;\n",
       "    }\n",
       "\n",
       "    .dataframe thead th {\n",
       "        text-align: right;\n",
       "    }\n",
       "</style>\n",
       "<table border=\"1\" class=\"dataframe\">\n",
       "  <thead>\n",
       "    <tr style=\"text-align: right;\">\n",
       "      <th></th>\n",
       "      <th>event_number</th>\n",
       "      <th>track_number</th>\n",
       "      <th>trk_pt</th>\n",
       "      <th>trk_eta</th>\n",
       "      <th>trk_phi</th>\n",
       "      <th>trk_d0</th>\n",
       "      <th>trk_z0</th>\n",
       "      <th>trk_fake</th>\n",
       "      <th>is_pv</th>\n",
       "      <th>pca_1</th>\n",
       "    </tr>\n",
       "  </thead>\n",
       "  <tbody>\n",
       "    <tr>\n",
       "      <th>0</th>\n",
       "      <td>0</td>\n",
       "      <td>0</td>\n",
       "      <td>2.623967</td>\n",
       "      <td>1.301414</td>\n",
       "      <td>-0.289234</td>\n",
       "      <td>999.0</td>\n",
       "      <td>-0.878906</td>\n",
       "      <td>2</td>\n",
       "      <td>0</td>\n",
       "      <td>0.891175</td>\n",
       "    </tr>\n",
       "    <tr>\n",
       "      <th>1</th>\n",
       "      <td>0</td>\n",
       "      <td>1</td>\n",
       "      <td>3.435026</td>\n",
       "      <td>0.566814</td>\n",
       "      <td>-0.159267</td>\n",
       "      <td>999.0</td>\n",
       "      <td>3.339844</td>\n",
       "      <td>2</td>\n",
       "      <td>0</td>\n",
       "      <td>-3.331016</td>\n",
       "    </tr>\n",
       "    <tr>\n",
       "      <th>2</th>\n",
       "      <td>0</td>\n",
       "      <td>2</td>\n",
       "      <td>3.774908</td>\n",
       "      <td>1.815973</td>\n",
       "      <td>-0.240375</td>\n",
       "      <td>999.0</td>\n",
       "      <td>4.921875</td>\n",
       "      <td>1</td>\n",
       "      <td>1</td>\n",
       "      <td>-4.907138</td>\n",
       "    </tr>\n",
       "    <tr>\n",
       "      <th>3</th>\n",
       "      <td>0</td>\n",
       "      <td>3</td>\n",
       "      <td>2.641448</td>\n",
       "      <td>-1.435747</td>\n",
       "      <td>-0.128747</td>\n",
       "      <td>999.0</td>\n",
       "      <td>-0.468750</td>\n",
       "      <td>2</td>\n",
       "      <td>0</td>\n",
       "      <td>0.468118</td>\n",
       "    </tr>\n",
       "    <tr>\n",
       "      <th>4</th>\n",
       "      <td>0</td>\n",
       "      <td>4</td>\n",
       "      <td>2.320653</td>\n",
       "      <td>1.837421</td>\n",
       "      <td>0.032604</td>\n",
       "      <td>999.0</td>\n",
       "      <td>4.980469</td>\n",
       "      <td>1</td>\n",
       "      <td>1</td>\n",
       "      <td>-4.965705</td>\n",
       "    </tr>\n",
       "  </tbody>\n",
       "</table>\n",
       "</div>"
      ],
      "text/plain": [
       "   event_number  track_number    trk_pt   trk_eta   trk_phi  trk_d0    trk_z0  \\\n",
       "0             0             0  2.623967  1.301414 -0.289234   999.0 -0.878906   \n",
       "1             0             1  3.435026  0.566814 -0.159267   999.0  3.339844   \n",
       "2             0             2  3.774908  1.815973 -0.240375   999.0  4.921875   \n",
       "3             0             3  2.641448 -1.435747 -0.128747   999.0 -0.468750   \n",
       "4             0             4  2.320653  1.837421  0.032604   999.0  4.980469   \n",
       "\n",
       "   trk_fake  is_pv     pca_1  \n",
       "0         2      0  0.891175  \n",
       "1         2      0 -3.331016  \n",
       "2         1      1 -4.907138  \n",
       "3         2      0  0.468118  \n",
       "4         1      1 -4.965705  "
      ]
     },
     "execution_count": 43,
     "metadata": {},
     "output_type": "execute_result"
    },
    {
     "data": {
      "application/javascript": [
       "\n",
       "            setTimeout(function() {\n",
       "                var nbb_cell_id = 43;\n",
       "                var nbb_unformatted_code = \"e1.head()\";\n",
       "                var nbb_formatted_code = \"e1.head()\";\n",
       "                var nbb_cells = Jupyter.notebook.get_cells();\n",
       "                for (var i = 0; i < nbb_cells.length; ++i) {\n",
       "                    if (nbb_cells[i].input_prompt_number == nbb_cell_id) {\n",
       "                        if (nbb_cells[i].get_text() == nbb_unformatted_code) {\n",
       "                             nbb_cells[i].set_text(nbb_formatted_code);\n",
       "                        }\n",
       "                        break;\n",
       "                    }\n",
       "                }\n",
       "            }, 500);\n",
       "            "
      ],
      "text/plain": [
       "<IPython.core.display.Javascript object>"
      ]
     },
     "metadata": {},
     "output_type": "display_data"
    }
   ],
   "source": [
    "e1.head()"
   ]
  },
  {
   "cell_type": "markdown",
   "id": "d9a20de8",
   "metadata": {},
   "source": [
    "eps = 0.1 is a total guess based on having roughly same amount of divisions as in the z0 space."
   ]
  },
  {
   "cell_type": "code",
   "execution_count": 44,
   "id": "37380744",
   "metadata": {},
   "outputs": [
    {
     "data": {
      "application/javascript": [
       "\n",
       "            setTimeout(function() {\n",
       "                var nbb_cell_id = 44;\n",
       "                var nbb_unformatted_code = \"_db = DBSCAN(eps=0.1, min_samples=2).fit(_df[\\\"pca_1\\\"].values.reshape(-1, 1)) \";\n",
       "                var nbb_formatted_code = \"_db = DBSCAN(eps=0.1, min_samples=2).fit(_df[\\\"pca_1\\\"].values.reshape(-1, 1))\";\n",
       "                var nbb_cells = Jupyter.notebook.get_cells();\n",
       "                for (var i = 0; i < nbb_cells.length; ++i) {\n",
       "                    if (nbb_cells[i].input_prompt_number == nbb_cell_id) {\n",
       "                        if (nbb_cells[i].get_text() == nbb_unformatted_code) {\n",
       "                             nbb_cells[i].set_text(nbb_formatted_code);\n",
       "                        }\n",
       "                        break;\n",
       "                    }\n",
       "                }\n",
       "            }, 500);\n",
       "            "
      ],
      "text/plain": [
       "<IPython.core.display.Javascript object>"
      ]
     },
     "metadata": {},
     "output_type": "display_data"
    }
   ],
   "source": [
    "_db = DBSCAN(eps=0.1, min_samples=2).fit(_df[\"pca_1\"].values.reshape(-1, 1)) \n"
   ]
  },
  {
   "cell_type": "code",
   "execution_count": 45,
   "id": "89493055",
   "metadata": {},
   "outputs": [
    {
     "data": {
      "application/javascript": [
       "\n",
       "            setTimeout(function() {\n",
       "                var nbb_cell_id = 45;\n",
       "                var nbb_unformatted_code = \"_df[\\\"label\\\"] = _db.labels_\";\n",
       "                var nbb_formatted_code = \"_df[\\\"label\\\"] = _db.labels_\";\n",
       "                var nbb_cells = Jupyter.notebook.get_cells();\n",
       "                for (var i = 0; i < nbb_cells.length; ++i) {\n",
       "                    if (nbb_cells[i].input_prompt_number == nbb_cell_id) {\n",
       "                        if (nbb_cells[i].get_text() == nbb_unformatted_code) {\n",
       "                             nbb_cells[i].set_text(nbb_formatted_code);\n",
       "                        }\n",
       "                        break;\n",
       "                    }\n",
       "                }\n",
       "            }, 500);\n",
       "            "
      ],
      "text/plain": [
       "<IPython.core.display.Javascript object>"
      ]
     },
     "metadata": {},
     "output_type": "display_data"
    }
   ],
   "source": [
    "_df[\"label\"] = _db.labels_"
   ]
  },
  {
   "cell_type": "code",
   "execution_count": null,
   "id": "72104293",
   "metadata": {},
   "outputs": [],
   "source": []
  },
  {
   "cell_type": "code",
   "execution_count": 46,
   "id": "d34c4bb4",
   "metadata": {},
   "outputs": [
    {
     "data": {
      "application/javascript": [
       "\n",
       "            setTimeout(function() {\n",
       "                var nbb_cell_id = 46;\n",
       "                var nbb_unformatted_code = \"clusters = _df.groupby(\\\"label\\\").agg({\\\"z0\\\": [\\\"median\\\"], \\\"pt\\\": [\\\"sum\\\"]})\\nclusters.columns = [\\\"z0\\\", \\\"pt\\\"]\";\n",
       "                var nbb_formatted_code = \"clusters = _df.groupby(\\\"label\\\").agg({\\\"z0\\\": [\\\"median\\\"], \\\"pt\\\": [\\\"sum\\\"]})\\nclusters.columns = [\\\"z0\\\", \\\"pt\\\"]\";\n",
       "                var nbb_cells = Jupyter.notebook.get_cells();\n",
       "                for (var i = 0; i < nbb_cells.length; ++i) {\n",
       "                    if (nbb_cells[i].input_prompt_number == nbb_cell_id) {\n",
       "                        if (nbb_cells[i].get_text() == nbb_unformatted_code) {\n",
       "                             nbb_cells[i].set_text(nbb_formatted_code);\n",
       "                        }\n",
       "                        break;\n",
       "                    }\n",
       "                }\n",
       "            }, 500);\n",
       "            "
      ],
      "text/plain": [
       "<IPython.core.display.Javascript object>"
      ]
     },
     "metadata": {},
     "output_type": "display_data"
    }
   ],
   "source": [
    "clusters = _df.groupby(\"label\").agg({\"z0\": [\"median\"], \"pt\": [\"sum\"]})\n",
    "clusters.columns = [\"z0\", \"pt\"]"
   ]
  },
  {
   "cell_type": "code",
   "execution_count": 47,
   "id": "93749669",
   "metadata": {},
   "outputs": [
    {
     "data": {
      "application/javascript": [
       "\n",
       "            setTimeout(function() {\n",
       "                var nbb_cell_id = 47;\n",
       "                var nbb_unformatted_code = \"clusters = clusters.sort_values(by=\\\"pt\\\", ascending=False)\";\n",
       "                var nbb_formatted_code = \"clusters = clusters.sort_values(by=\\\"pt\\\", ascending=False)\";\n",
       "                var nbb_cells = Jupyter.notebook.get_cells();\n",
       "                for (var i = 0; i < nbb_cells.length; ++i) {\n",
       "                    if (nbb_cells[i].input_prompt_number == nbb_cell_id) {\n",
       "                        if (nbb_cells[i].get_text() == nbb_unformatted_code) {\n",
       "                             nbb_cells[i].set_text(nbb_formatted_code);\n",
       "                        }\n",
       "                        break;\n",
       "                    }\n",
       "                }\n",
       "            }, 500);\n",
       "            "
      ],
      "text/plain": [
       "<IPython.core.display.Javascript object>"
      ]
     },
     "metadata": {},
     "output_type": "display_data"
    }
   ],
   "source": [
    "clusters = clusters.sort_values(by=\"pt\", ascending=False)"
   ]
  },
  {
   "cell_type": "code",
   "execution_count": 48,
   "id": "d461ba28",
   "metadata": {},
   "outputs": [
    {
     "data": {
      "text/html": [
       "<div>\n",
       "<style scoped>\n",
       "    .dataframe tbody tr th:only-of-type {\n",
       "        vertical-align: middle;\n",
       "    }\n",
       "\n",
       "    .dataframe tbody tr th {\n",
       "        vertical-align: top;\n",
       "    }\n",
       "\n",
       "    .dataframe thead th {\n",
       "        text-align: right;\n",
       "    }\n",
       "</style>\n",
       "<table border=\"1\" class=\"dataframe\">\n",
       "  <thead>\n",
       "    <tr style=\"text-align: right;\">\n",
       "      <th></th>\n",
       "      <th>z0</th>\n",
       "      <th>pt</th>\n",
       "    </tr>\n",
       "    <tr>\n",
       "      <th>label</th>\n",
       "      <th></th>\n",
       "      <th></th>\n",
       "    </tr>\n",
       "  </thead>\n",
       "  <tbody>\n",
       "    <tr>\n",
       "      <th>1</th>\n",
       "      <td>4.980469</td>\n",
       "      <td>84.025032</td>\n",
       "    </tr>\n",
       "    <tr>\n",
       "      <th>-1</th>\n",
       "      <td>1.699219</td>\n",
       "      <td>54.307575</td>\n",
       "    </tr>\n",
       "    <tr>\n",
       "      <th>5</th>\n",
       "      <td>-1.875000</td>\n",
       "      <td>44.067730</td>\n",
       "    </tr>\n",
       "    <tr>\n",
       "      <th>12</th>\n",
       "      <td>2.460938</td>\n",
       "      <td>32.853683</td>\n",
       "    </tr>\n",
       "    <tr>\n",
       "      <th>0</th>\n",
       "      <td>-0.996094</td>\n",
       "      <td>32.500057</td>\n",
       "    </tr>\n",
       "    <tr>\n",
       "      <th>2</th>\n",
       "      <td>-0.468750</td>\n",
       "      <td>27.201271</td>\n",
       "    </tr>\n",
       "    <tr>\n",
       "      <th>8</th>\n",
       "      <td>-3.046875</td>\n",
       "      <td>26.086596</td>\n",
       "    </tr>\n",
       "    <tr>\n",
       "      <th>4</th>\n",
       "      <td>-3.662109</td>\n",
       "      <td>24.711147</td>\n",
       "    </tr>\n",
       "    <tr>\n",
       "      <th>6</th>\n",
       "      <td>5.625000</td>\n",
       "      <td>18.436743</td>\n",
       "    </tr>\n",
       "    <tr>\n",
       "      <th>17</th>\n",
       "      <td>-4.160156</td>\n",
       "      <td>12.045828</td>\n",
       "    </tr>\n",
       "    <tr>\n",
       "      <th>23</th>\n",
       "      <td>-1.318359</td>\n",
       "      <td>11.327824</td>\n",
       "    </tr>\n",
       "    <tr>\n",
       "      <th>20</th>\n",
       "      <td>-2.783203</td>\n",
       "      <td>11.289602</td>\n",
       "    </tr>\n",
       "    <tr>\n",
       "      <th>3</th>\n",
       "      <td>2.753906</td>\n",
       "      <td>11.046275</td>\n",
       "    </tr>\n",
       "    <tr>\n",
       "      <th>10</th>\n",
       "      <td>-4.951172</td>\n",
       "      <td>10.643839</td>\n",
       "    </tr>\n",
       "    <tr>\n",
       "      <th>14</th>\n",
       "      <td>2.167969</td>\n",
       "      <td>9.420139</td>\n",
       "    </tr>\n",
       "    <tr>\n",
       "      <th>16</th>\n",
       "      <td>-2.460938</td>\n",
       "      <td>7.785175</td>\n",
       "    </tr>\n",
       "    <tr>\n",
       "      <th>24</th>\n",
       "      <td>-6.533203</td>\n",
       "      <td>6.605420</td>\n",
       "    </tr>\n",
       "    <tr>\n",
       "      <th>15</th>\n",
       "      <td>-6.328125</td>\n",
       "      <td>6.575880</td>\n",
       "    </tr>\n",
       "    <tr>\n",
       "      <th>13</th>\n",
       "      <td>4.189453</td>\n",
       "      <td>6.295486</td>\n",
       "    </tr>\n",
       "    <tr>\n",
       "      <th>21</th>\n",
       "      <td>3.222656</td>\n",
       "      <td>6.091569</td>\n",
       "    </tr>\n",
       "    <tr>\n",
       "      <th>9</th>\n",
       "      <td>-5.185547</td>\n",
       "      <td>5.879426</td>\n",
       "    </tr>\n",
       "    <tr>\n",
       "      <th>19</th>\n",
       "      <td>3.046875</td>\n",
       "      <td>5.607745</td>\n",
       "    </tr>\n",
       "    <tr>\n",
       "      <th>22</th>\n",
       "      <td>6.533203</td>\n",
       "      <td>5.033670</td>\n",
       "    </tr>\n",
       "    <tr>\n",
       "      <th>7</th>\n",
       "      <td>-2.197266</td>\n",
       "      <td>4.974769</td>\n",
       "    </tr>\n",
       "    <tr>\n",
       "      <th>18</th>\n",
       "      <td>-7.441406</td>\n",
       "      <td>4.722535</td>\n",
       "    </tr>\n",
       "    <tr>\n",
       "      <th>11</th>\n",
       "      <td>0.175781</td>\n",
       "      <td>4.313526</td>\n",
       "    </tr>\n",
       "  </tbody>\n",
       "</table>\n",
       "</div>"
      ],
      "text/plain": [
       "             z0         pt\n",
       "label                     \n",
       " 1     4.980469  84.025032\n",
       "-1     1.699219  54.307575\n",
       " 5    -1.875000  44.067730\n",
       " 12    2.460938  32.853683\n",
       " 0    -0.996094  32.500057\n",
       " 2    -0.468750  27.201271\n",
       " 8    -3.046875  26.086596\n",
       " 4    -3.662109  24.711147\n",
       " 6     5.625000  18.436743\n",
       " 17   -4.160156  12.045828\n",
       " 23   -1.318359  11.327824\n",
       " 20   -2.783203  11.289602\n",
       " 3     2.753906  11.046275\n",
       " 10   -4.951172  10.643839\n",
       " 14    2.167969   9.420139\n",
       " 16   -2.460938   7.785175\n",
       " 24   -6.533203   6.605420\n",
       " 15   -6.328125   6.575880\n",
       " 13    4.189453   6.295486\n",
       " 21    3.222656   6.091569\n",
       " 9    -5.185547   5.879426\n",
       " 19    3.046875   5.607745\n",
       " 22    6.533203   5.033670\n",
       " 7    -2.197266   4.974769\n",
       " 18   -7.441406   4.722535\n",
       " 11    0.175781   4.313526"
      ]
     },
     "execution_count": 48,
     "metadata": {},
     "output_type": "execute_result"
    },
    {
     "data": {
      "application/javascript": [
       "\n",
       "            setTimeout(function() {\n",
       "                var nbb_cell_id = 48;\n",
       "                var nbb_unformatted_code = \"clusters\";\n",
       "                var nbb_formatted_code = \"clusters\";\n",
       "                var nbb_cells = Jupyter.notebook.get_cells();\n",
       "                for (var i = 0; i < nbb_cells.length; ++i) {\n",
       "                    if (nbb_cells[i].input_prompt_number == nbb_cell_id) {\n",
       "                        if (nbb_cells[i].get_text() == nbb_unformatted_code) {\n",
       "                             nbb_cells[i].set_text(nbb_formatted_code);\n",
       "                        }\n",
       "                        break;\n",
       "                    }\n",
       "                }\n",
       "            }, 500);\n",
       "            "
      ],
      "text/plain": [
       "<IPython.core.display.Javascript object>"
      ]
     },
     "metadata": {},
     "output_type": "display_data"
    }
   ],
   "source": [
    "clusters"
   ]
  },
  {
   "cell_type": "code",
   "execution_count": 49,
   "id": "4d69dc83",
   "metadata": {},
   "outputs": [
    {
     "data": {
      "text/html": [
       "<div>\n",
       "<style scoped>\n",
       "    .dataframe tbody tr th:only-of-type {\n",
       "        vertical-align: middle;\n",
       "    }\n",
       "\n",
       "    .dataframe tbody tr th {\n",
       "        vertical-align: top;\n",
       "    }\n",
       "\n",
       "    .dataframe thead th {\n",
       "        text-align: right;\n",
       "    }\n",
       "</style>\n",
       "<table border=\"1\" class=\"dataframe\">\n",
       "  <thead>\n",
       "    <tr style=\"text-align: right;\">\n",
       "      <th></th>\n",
       "      <th></th>\n",
       "      <th>pv_L1reco_z0</th>\n",
       "      <th>pv_L1reco_sum</th>\n",
       "      <th>pv_MC</th>\n",
       "    </tr>\n",
       "    <tr>\n",
       "      <th>entry</th>\n",
       "      <th>subentry</th>\n",
       "      <th></th>\n",
       "      <th></th>\n",
       "      <th></th>\n",
       "    </tr>\n",
       "  </thead>\n",
       "  <tbody>\n",
       "    <tr>\n",
       "      <th>1</th>\n",
       "      <th>0</th>\n",
       "      <td>-2.02108</td>\n",
       "      <td>90.041313</td>\n",
       "      <td>-3.608661</td>\n",
       "    </tr>\n",
       "  </tbody>\n",
       "</table>\n",
       "</div>"
      ],
      "text/plain": [
       "                pv_L1reco_z0  pv_L1reco_sum     pv_MC\n",
       "entry subentry                                       \n",
       "1     0             -2.02108      90.041313 -3.608661"
      ]
     },
     "execution_count": 49,
     "metadata": {},
     "output_type": "execute_result"
    },
    {
     "data": {
      "application/javascript": [
       "\n",
       "            setTimeout(function() {\n",
       "                var nbb_cell_id = 49;\n",
       "                var nbb_unformatted_code = \"mc.query(\\\"entry==1\\\")\";\n",
       "                var nbb_formatted_code = \"mc.query(\\\"entry==1\\\")\";\n",
       "                var nbb_cells = Jupyter.notebook.get_cells();\n",
       "                for (var i = 0; i < nbb_cells.length; ++i) {\n",
       "                    if (nbb_cells[i].input_prompt_number == nbb_cell_id) {\n",
       "                        if (nbb_cells[i].get_text() == nbb_unformatted_code) {\n",
       "                             nbb_cells[i].set_text(nbb_formatted_code);\n",
       "                        }\n",
       "                        break;\n",
       "                    }\n",
       "                }\n",
       "            }, 500);\n",
       "            "
      ],
      "text/plain": [
       "<IPython.core.display.Javascript object>"
      ]
     },
     "metadata": {},
     "output_type": "display_data"
    }
   ],
   "source": [
    "mc.query(\"entry==1\")"
   ]
  },
  {
   "cell_type": "markdown",
   "id": "abd27591",
   "metadata": {},
   "source": [
    "Seems to have worked particularly well. I'm slightly amazed by this single event, however it definetly needs to get expanded further."
   ]
  },
  {
   "cell_type": "markdown",
   "id": "70581184",
   "metadata": {},
   "source": [
    "# Running over all the training set"
   ]
  },
  {
   "cell_type": "code",
   "execution_count": 50,
   "id": "7418afbb",
   "metadata": {},
   "outputs": [
    {
     "data": {
      "application/javascript": [
       "\n",
       "            setTimeout(function() {\n",
       "                var nbb_cell_id = 50;\n",
       "                var nbb_unformatted_code = \"mc = mc.reset_index()\";\n",
       "                var nbb_formatted_code = \"mc = mc.reset_index()\";\n",
       "                var nbb_cells = Jupyter.notebook.get_cells();\n",
       "                for (var i = 0; i < nbb_cells.length; ++i) {\n",
       "                    if (nbb_cells[i].input_prompt_number == nbb_cell_id) {\n",
       "                        if (nbb_cells[i].get_text() == nbb_unformatted_code) {\n",
       "                             nbb_cells[i].set_text(nbb_formatted_code);\n",
       "                        }\n",
       "                        break;\n",
       "                    }\n",
       "                }\n",
       "            }, 500);\n",
       "            "
      ],
      "text/plain": [
       "<IPython.core.display.Javascript object>"
      ]
     },
     "metadata": {},
     "output_type": "display_data"
    }
   ],
   "source": [
    "mc = mc.reset_index()"
   ]
  },
  {
   "cell_type": "code",
   "execution_count": 51,
   "id": "fd2c2ee9",
   "metadata": {},
   "outputs": [
    {
     "data": {
      "application/javascript": [
       "\n",
       "            setTimeout(function() {\n",
       "                var nbb_cell_id = 51;\n",
       "                var nbb_unformatted_code = \"mc = mc.rename(columns={\\\"entry\\\": \\\"event_number\\\"})\";\n",
       "                var nbb_formatted_code = \"mc = mc.rename(columns={\\\"entry\\\": \\\"event_number\\\"})\";\n",
       "                var nbb_cells = Jupyter.notebook.get_cells();\n",
       "                for (var i = 0; i < nbb_cells.length; ++i) {\n",
       "                    if (nbb_cells[i].input_prompt_number == nbb_cell_id) {\n",
       "                        if (nbb_cells[i].get_text() == nbb_unformatted_code) {\n",
       "                             nbb_cells[i].set_text(nbb_formatted_code);\n",
       "                        }\n",
       "                        break;\n",
       "                    }\n",
       "                }\n",
       "            }, 500);\n",
       "            "
      ],
      "text/plain": [
       "<IPython.core.display.Javascript object>"
      ]
     },
     "metadata": {},
     "output_type": "display_data"
    }
   ],
   "source": [
    "mc = mc.rename(columns={\"entry\": \"event_number\"})"
   ]
  },
  {
   "cell_type": "code",
   "execution_count": 52,
   "id": "738eb35e",
   "metadata": {},
   "outputs": [
    {
     "data": {
      "text/html": [
       "<div>\n",
       "<style scoped>\n",
       "    .dataframe tbody tr th:only-of-type {\n",
       "        vertical-align: middle;\n",
       "    }\n",
       "\n",
       "    .dataframe tbody tr th {\n",
       "        vertical-align: top;\n",
       "    }\n",
       "\n",
       "    .dataframe thead th {\n",
       "        text-align: right;\n",
       "    }\n",
       "</style>\n",
       "<table border=\"1\" class=\"dataframe\">\n",
       "  <thead>\n",
       "    <tr style=\"text-align: right;\">\n",
       "      <th></th>\n",
       "      <th>event_number</th>\n",
       "      <th>subentry</th>\n",
       "      <th>pv_L1reco_z0</th>\n",
       "      <th>pv_L1reco_sum</th>\n",
       "      <th>pv_MC</th>\n",
       "    </tr>\n",
       "  </thead>\n",
       "  <tbody>\n",
       "    <tr>\n",
       "      <th>0</th>\n",
       "      <td>0</td>\n",
       "      <td>0</td>\n",
       "      <td>5.026911</td>\n",
       "      <td>79.777252</td>\n",
       "      <td>5.055163</td>\n",
       "    </tr>\n",
       "    <tr>\n",
       "      <th>1</th>\n",
       "      <td>1</td>\n",
       "      <td>0</td>\n",
       "      <td>-2.021080</td>\n",
       "      <td>90.041313</td>\n",
       "      <td>-3.608661</td>\n",
       "    </tr>\n",
       "    <tr>\n",
       "      <th>2</th>\n",
       "      <td>2</td>\n",
       "      <td>0</td>\n",
       "      <td>-0.141508</td>\n",
       "      <td>202.421341</td>\n",
       "      <td>-0.261453</td>\n",
       "    </tr>\n",
       "    <tr>\n",
       "      <th>3</th>\n",
       "      <td>3</td>\n",
       "      <td>0</td>\n",
       "      <td>2.744174</td>\n",
       "      <td>303.983124</td>\n",
       "      <td>2.803285</td>\n",
       "    </tr>\n",
       "    <tr>\n",
       "      <th>4</th>\n",
       "      <td>4</td>\n",
       "      <td>0</td>\n",
       "      <td>-1.279072</td>\n",
       "      <td>218.012939</td>\n",
       "      <td>-1.400667</td>\n",
       "    </tr>\n",
       "  </tbody>\n",
       "</table>\n",
       "</div>"
      ],
      "text/plain": [
       "   event_number  subentry  pv_L1reco_z0  pv_L1reco_sum     pv_MC\n",
       "0             0         0      5.026911      79.777252  5.055163\n",
       "1             1         0     -2.021080      90.041313 -3.608661\n",
       "2             2         0     -0.141508     202.421341 -0.261453\n",
       "3             3         0      2.744174     303.983124  2.803285\n",
       "4             4         0     -1.279072     218.012939 -1.400667"
      ]
     },
     "execution_count": 52,
     "metadata": {},
     "output_type": "execute_result"
    },
    {
     "data": {
      "application/javascript": [
       "\n",
       "            setTimeout(function() {\n",
       "                var nbb_cell_id = 52;\n",
       "                var nbb_unformatted_code = \"mc.head()\";\n",
       "                var nbb_formatted_code = \"mc.head()\";\n",
       "                var nbb_cells = Jupyter.notebook.get_cells();\n",
       "                for (var i = 0; i < nbb_cells.length; ++i) {\n",
       "                    if (nbb_cells[i].input_prompt_number == nbb_cell_id) {\n",
       "                        if (nbb_cells[i].get_text() == nbb_unformatted_code) {\n",
       "                             nbb_cells[i].set_text(nbb_formatted_code);\n",
       "                        }\n",
       "                        break;\n",
       "                    }\n",
       "                }\n",
       "            }, 500);\n",
       "            "
      ],
      "text/plain": [
       "<IPython.core.display.Javascript object>"
      ]
     },
     "metadata": {},
     "output_type": "display_data"
    }
   ],
   "source": [
    "mc.head()"
   ]
  },
  {
   "cell_type": "code",
   "execution_count": 53,
   "id": "6e03d0f8",
   "metadata": {},
   "outputs": [
    {
     "data": {
      "application/javascript": [
       "\n",
       "            setTimeout(function() {\n",
       "                var nbb_cell_id = 53;\n",
       "                var nbb_unformatted_code = \"mc_train = mc.loc[mc.event_number.isin(idx_train), \\\"pv_MC\\\"].copy()\";\n",
       "                var nbb_formatted_code = \"mc_train = mc.loc[mc.event_number.isin(idx_train), \\\"pv_MC\\\"].copy()\";\n",
       "                var nbb_cells = Jupyter.notebook.get_cells();\n",
       "                for (var i = 0; i < nbb_cells.length; ++i) {\n",
       "                    if (nbb_cells[i].input_prompt_number == nbb_cell_id) {\n",
       "                        if (nbb_cells[i].get_text() == nbb_unformatted_code) {\n",
       "                             nbb_cells[i].set_text(nbb_formatted_code);\n",
       "                        }\n",
       "                        break;\n",
       "                    }\n",
       "                }\n",
       "            }, 500);\n",
       "            "
      ],
      "text/plain": [
       "<IPython.core.display.Javascript object>"
      ]
     },
     "metadata": {},
     "output_type": "display_data"
    }
   ],
   "source": [
    "mc_train = mc.loc[mc.event_number.isin(idx_train), \"pv_MC\"].copy()"
   ]
  },
  {
   "cell_type": "code",
   "execution_count": 54,
   "id": "a3cc7e5e",
   "metadata": {},
   "outputs": [
    {
     "data": {
      "application/javascript": [
       "\n",
       "            setTimeout(function() {\n",
       "                var nbb_cell_id = 54;\n",
       "                var nbb_unformatted_code = \"mc_test = mc.loc[mc.event_number.isin(idx_test), \\\"pv_MC\\\"].copy()\";\n",
       "                var nbb_formatted_code = \"mc_test = mc.loc[mc.event_number.isin(idx_test), \\\"pv_MC\\\"].copy()\";\n",
       "                var nbb_cells = Jupyter.notebook.get_cells();\n",
       "                for (var i = 0; i < nbb_cells.length; ++i) {\n",
       "                    if (nbb_cells[i].input_prompt_number == nbb_cell_id) {\n",
       "                        if (nbb_cells[i].get_text() == nbb_unformatted_code) {\n",
       "                             nbb_cells[i].set_text(nbb_formatted_code);\n",
       "                        }\n",
       "                        break;\n",
       "                    }\n",
       "                }\n",
       "            }, 500);\n",
       "            "
      ],
      "text/plain": [
       "<IPython.core.display.Javascript object>"
      ]
     },
     "metadata": {},
     "output_type": "display_data"
    }
   ],
   "source": [
    "mc_test = mc.loc[mc.event_number.isin(idx_test), \"pv_MC\"].copy()"
   ]
  },
  {
   "cell_type": "code",
   "execution_count": 55,
   "id": "bf165944",
   "metadata": {},
   "outputs": [
    {
     "data": {
      "application/javascript": [
       "\n",
       "            setTimeout(function() {\n",
       "                var nbb_cell_id = 55;\n",
       "                var nbb_unformatted_code = \"def db_fit(X, z0, pt, eps=0.1):\\n    _df = pd.DataFrame({})\\n    _df[\\\"z0\\\"] = z0\\n    _df[\\\"pt\\\"] = pt\\n    _df[\\\"X\\\"] = X\\n    _db = DBSCAN(eps=eps, min_samples=2).fit(_df[\\\"X\\\"].values.reshape(-1, 1))\\n\\n    _df[\\\"label\\\"] = _db.labels_\\n    _df.loc[_df[\\\"label\\\"] < 0, \\\"pt\\\"] = 0\\n    pv_label = _df.groupby([\\\"label\\\"])[\\\"pt\\\"].sum().sort_values(ascending=False).index[0]\\n    _df[\\\"pv_label\\\"] = 0\\n    _df.loc[_df[\\\"label\\\"] == pv_label, \\\"pv_label\\\"] = 1\\n\\n    z0_reco = np.median(_df.loc[_df[\\\"pv_label\\\"] == 1, \\\"z0\\\"])\\n\\n    return z0_reco\";\n",
       "                var nbb_formatted_code = \"def db_fit(X, z0, pt, eps=0.1):\\n    _df = pd.DataFrame({})\\n    _df[\\\"z0\\\"] = z0\\n    _df[\\\"pt\\\"] = pt\\n    _df[\\\"X\\\"] = X\\n    _db = DBSCAN(eps=eps, min_samples=2).fit(_df[\\\"X\\\"].values.reshape(-1, 1))\\n\\n    _df[\\\"label\\\"] = _db.labels_\\n    _df.loc[_df[\\\"label\\\"] < 0, \\\"pt\\\"] = 0\\n    pv_label = _df.groupby([\\\"label\\\"])[\\\"pt\\\"].sum().sort_values(ascending=False).index[0]\\n    _df[\\\"pv_label\\\"] = 0\\n    _df.loc[_df[\\\"label\\\"] == pv_label, \\\"pv_label\\\"] = 1\\n\\n    z0_reco = np.median(_df.loc[_df[\\\"pv_label\\\"] == 1, \\\"z0\\\"])\\n\\n    return z0_reco\";\n",
       "                var nbb_cells = Jupyter.notebook.get_cells();\n",
       "                for (var i = 0; i < nbb_cells.length; ++i) {\n",
       "                    if (nbb_cells[i].input_prompt_number == nbb_cell_id) {\n",
       "                        if (nbb_cells[i].get_text() == nbb_unformatted_code) {\n",
       "                             nbb_cells[i].set_text(nbb_formatted_code);\n",
       "                        }\n",
       "                        break;\n",
       "                    }\n",
       "                }\n",
       "            }, 500);\n",
       "            "
      ],
      "text/plain": [
       "<IPython.core.display.Javascript object>"
      ]
     },
     "metadata": {},
     "output_type": "display_data"
    }
   ],
   "source": [
    "def db_fit(X, z0, pt, eps=0.1):\n",
    "    _df = pd.DataFrame({})\n",
    "    _df[\"z0\"] = z0\n",
    "    _df[\"pt\"] = pt\n",
    "    _df[\"X\"] = X\n",
    "    _db = DBSCAN(eps=eps, min_samples=2).fit(_df[\"X\"].values.reshape(-1, 1))\n",
    "\n",
    "    _df[\"label\"] = _db.labels_\n",
    "    _df.loc[_df[\"label\"] < 0, \"pt\"] = 0\n",
    "    pv_label = _df.groupby([\"label\"])[\"pt\"].sum().sort_values(ascending=False).index[0]\n",
    "    _df[\"pv_label\"] = 0\n",
    "    _df.loc[_df[\"label\"] == pv_label, \"pv_label\"] = 1\n",
    "\n",
    "    z0_reco = np.median(_df.loc[_df[\"pv_label\"] == 1, \"z0\"])\n",
    "\n",
    "    return z0_reco"
   ]
  },
  {
   "cell_type": "code",
   "execution_count": 56,
   "id": "ec5abd43",
   "metadata": {},
   "outputs": [
    {
     "data": {
      "application/javascript": [
       "\n",
       "            setTimeout(function() {\n",
       "                var nbb_cell_id = 56;\n",
       "                var nbb_unformatted_code = \"def db_run_fit(tracks, X=\\\"pca_1\\\", eps=0.1):\\n    pv_db = tracks.groupby([\\\"event_number\\\"]).progress_apply(\\n        lambda x: db_fit(tracks[X], tracks[\\\"trk_z0\\\"], tracks[\\\"trk_pt\\\"], eps=eps)\\n    )\\n    return pv_db\";\n",
       "                var nbb_formatted_code = \"def db_run_fit(tracks, X=\\\"pca_1\\\", eps=0.1):\\n    pv_db = tracks.groupby([\\\"event_number\\\"]).progress_apply(\\n        lambda x: db_fit(tracks[X], tracks[\\\"trk_z0\\\"], tracks[\\\"trk_pt\\\"], eps=eps)\\n    )\\n    return pv_db\";\n",
       "                var nbb_cells = Jupyter.notebook.get_cells();\n",
       "                for (var i = 0; i < nbb_cells.length; ++i) {\n",
       "                    if (nbb_cells[i].input_prompt_number == nbb_cell_id) {\n",
       "                        if (nbb_cells[i].get_text() == nbb_unformatted_code) {\n",
       "                             nbb_cells[i].set_text(nbb_formatted_code);\n",
       "                        }\n",
       "                        break;\n",
       "                    }\n",
       "                }\n",
       "            }, 500);\n",
       "            "
      ],
      "text/plain": [
       "<IPython.core.display.Javascript object>"
      ]
     },
     "metadata": {},
     "output_type": "display_data"
    }
   ],
   "source": [
    "def db_run_fit(tracks, X=\"pca_1\", eps=0.1):\n",
    "    pv_db = tracks.groupby([\"event_number\"]).progress_apply(\n",
    "        lambda x: db_fit(tracks[X], tracks[\"trk_z0\"], tracks[\"trk_pt\"], eps=eps)\n",
    "    )\n",
    "    return pv_db"
   ]
  },
  {
   "cell_type": "code",
   "execution_count": 57,
   "id": "3d745e50",
   "metadata": {},
   "outputs": [
    {
     "data": {
      "application/javascript": [
       "\n",
       "            setTimeout(function() {\n",
       "                var nbb_cell_id = 57;\n",
       "                var nbb_unformatted_code = \"trk_small_test = trk_train.loc[trk_train.event_number < 20].copy()\";\n",
       "                var nbb_formatted_code = \"trk_small_test = trk_train.loc[trk_train.event_number < 20].copy()\";\n",
       "                var nbb_cells = Jupyter.notebook.get_cells();\n",
       "                for (var i = 0; i < nbb_cells.length; ++i) {\n",
       "                    if (nbb_cells[i].input_prompt_number == nbb_cell_id) {\n",
       "                        if (nbb_cells[i].get_text() == nbb_unformatted_code) {\n",
       "                             nbb_cells[i].set_text(nbb_formatted_code);\n",
       "                        }\n",
       "                        break;\n",
       "                    }\n",
       "                }\n",
       "            }, 500);\n",
       "            "
      ],
      "text/plain": [
       "<IPython.core.display.Javascript object>"
      ]
     },
     "metadata": {},
     "output_type": "display_data"
    }
   ],
   "source": [
    "trk_small_test = trk_train.loc[trk_train.event_number < 20].copy()"
   ]
  },
  {
   "cell_type": "code",
   "execution_count": 58,
   "id": "cde975eb",
   "metadata": {},
   "outputs": [
    {
     "data": {
      "application/javascript": [
       "\n",
       "            setTimeout(function() {\n",
       "                var nbb_cell_id = 58;\n",
       "                var nbb_unformatted_code = \"train_event_number = trk_train.event_number.unique()\";\n",
       "                var nbb_formatted_code = \"train_event_number = trk_train.event_number.unique()\";\n",
       "                var nbb_cells = Jupyter.notebook.get_cells();\n",
       "                for (var i = 0; i < nbb_cells.length; ++i) {\n",
       "                    if (nbb_cells[i].input_prompt_number == nbb_cell_id) {\n",
       "                        if (nbb_cells[i].get_text() == nbb_unformatted_code) {\n",
       "                             nbb_cells[i].set_text(nbb_formatted_code);\n",
       "                        }\n",
       "                        break;\n",
       "                    }\n",
       "                }\n",
       "            }, 500);\n",
       "            "
      ],
      "text/plain": [
       "<IPython.core.display.Javascript object>"
      ]
     },
     "metadata": {},
     "output_type": "display_data"
    }
   ],
   "source": [
    "train_event_number = trk_train.event_number.unique()"
   ]
  },
  {
   "cell_type": "code",
   "execution_count": 59,
   "id": "7bb41697",
   "metadata": {},
   "outputs": [
    {
     "name": "stderr",
     "output_type": "stream",
     "text": [
      "100%|█████████████████████████████████████████████████████████████████████████████████████████████████████████████████████████████████████████████████████████████████████████████████████████████████████████████████████████████████████████████████████████████████████████████████████████████████████████████████████████████████| 12500/12500 [03:44<00:00, 55.60it/s]\n"
     ]
    },
    {
     "data": {
      "application/javascript": [
       "\n",
       "            setTimeout(function() {\n",
       "                var nbb_cell_id = 59;\n",
       "                var nbb_unformatted_code = \"count = 0\\npv_z0s = []\\nfor i in tqdm(train_event_number):\\n    _df = trk_train.loc[trk_train.event_number == i]\\n\\n    pv_z0 = db_fit(\\n        _df[\\\"pca_1\\\"].values, _df[\\\"trk_z0\\\"].values, _df[\\\"trk_pt\\\"].values, eps=0.1\\n    )\\n    \\n    pv_z0s.append(pv_z0)\";\n",
       "                var nbb_formatted_code = \"count = 0\\npv_z0s = []\\nfor i in tqdm(train_event_number):\\n    _df = trk_train.loc[trk_train.event_number == i]\\n\\n    pv_z0 = db_fit(\\n        _df[\\\"pca_1\\\"].values, _df[\\\"trk_z0\\\"].values, _df[\\\"trk_pt\\\"].values, eps=0.1\\n    )\\n\\n    pv_z0s.append(pv_z0)\";\n",
       "                var nbb_cells = Jupyter.notebook.get_cells();\n",
       "                for (var i = 0; i < nbb_cells.length; ++i) {\n",
       "                    if (nbb_cells[i].input_prompt_number == nbb_cell_id) {\n",
       "                        if (nbb_cells[i].get_text() == nbb_unformatted_code) {\n",
       "                             nbb_cells[i].set_text(nbb_formatted_code);\n",
       "                        }\n",
       "                        break;\n",
       "                    }\n",
       "                }\n",
       "            }, 500);\n",
       "            "
      ],
      "text/plain": [
       "<IPython.core.display.Javascript object>"
      ]
     },
     "metadata": {},
     "output_type": "display_data"
    }
   ],
   "source": [
    "count = 0\n",
    "pv_z0s = []\n",
    "for i in tqdm(train_event_number):\n",
    "    _df = trk_train.loc[trk_train.event_number == i]\n",
    "\n",
    "    pv_z0 = db_fit(\n",
    "        _df[\"pca_1\"].values, _df[\"trk_z0\"].values, _df[\"trk_pt\"].values, eps=0.1\n",
    "    )\n",
    "    \n",
    "    pv_z0s.append(pv_z0)\n"
   ]
  },
  {
   "cell_type": "code",
   "execution_count": 60,
   "id": "2a336ad4",
   "metadata": {},
   "outputs": [
    {
     "name": "stderr",
     "output_type": "stream",
     "text": [
      "100%|█████████████████████████████████████████████████████████████████████████████████████████████████████████████████████████████████████████████████████████████████████████████████████████████████████████████████████████████████████████████████████████████████████████████████████████████████████████████████████████████████| 12500/12500 [04:01<00:00, 51.70it/s]\n"
     ]
    },
    {
     "data": {
      "application/javascript": [
       "\n",
       "            setTimeout(function() {\n",
       "                var nbb_cell_id = 60;\n",
       "                var nbb_unformatted_code = \"pv_z0s_test = []\\ntest_event_number = trk_test.event_number.unique()\\nfor i in tqdm(test_event_number):\\n    _df = trk_test.loc[trk_test.event_number == i]\\n\\n    pv_z0 = db_fit(\\n        _df[\\\"pca_1\\\"].values, _df[\\\"trk_z0\\\"].values, _df[\\\"trk_pt\\\"].values, eps=0.1\\n    )\\n    \\n    pv_z0s_test.append(pv_z0)\";\n",
       "                var nbb_formatted_code = \"pv_z0s_test = []\\ntest_event_number = trk_test.event_number.unique()\\nfor i in tqdm(test_event_number):\\n    _df = trk_test.loc[trk_test.event_number == i]\\n\\n    pv_z0 = db_fit(\\n        _df[\\\"pca_1\\\"].values, _df[\\\"trk_z0\\\"].values, _df[\\\"trk_pt\\\"].values, eps=0.1\\n    )\\n\\n    pv_z0s_test.append(pv_z0)\";\n",
       "                var nbb_cells = Jupyter.notebook.get_cells();\n",
       "                for (var i = 0; i < nbb_cells.length; ++i) {\n",
       "                    if (nbb_cells[i].input_prompt_number == nbb_cell_id) {\n",
       "                        if (nbb_cells[i].get_text() == nbb_unformatted_code) {\n",
       "                             nbb_cells[i].set_text(nbb_formatted_code);\n",
       "                        }\n",
       "                        break;\n",
       "                    }\n",
       "                }\n",
       "            }, 500);\n",
       "            "
      ],
      "text/plain": [
       "<IPython.core.display.Javascript object>"
      ]
     },
     "metadata": {},
     "output_type": "display_data"
    }
   ],
   "source": [
    "pv_z0s_test = []\n",
    "test_event_number = trk_test.event_number.unique()\n",
    "for i in tqdm(test_event_number):\n",
    "    _df = trk_test.loc[trk_test.event_number == i]\n",
    "\n",
    "    pv_z0 = db_fit(\n",
    "        _df[\"pca_1\"].values, _df[\"trk_z0\"].values, _df[\"trk_pt\"].values, eps=0.1\n",
    "    )\n",
    "    \n",
    "    pv_z0s_test.append(pv_z0)\n"
   ]
  },
  {
   "cell_type": "code",
   "execution_count": 61,
   "id": "97bfff58",
   "metadata": {},
   "outputs": [
    {
     "data": {
      "application/javascript": [
       "\n",
       "            setTimeout(function() {\n",
       "                var nbb_cell_id = 61;\n",
       "                var nbb_unformatted_code = \"results_train=pd.DataFrame({})\\nresults_train['mc'] = mc_train\\nresults_train['db'] = pv_z0s\\nresults_train['diff'] = np.abs(results_train['mc'] - results_train['db'])\\nresults_train['reco'] = results_train['diff'] < 0.1\";\n",
       "                var nbb_formatted_code = \"results_train = pd.DataFrame({})\\nresults_train[\\\"mc\\\"] = mc_train\\nresults_train[\\\"db\\\"] = pv_z0s\\nresults_train[\\\"diff\\\"] = np.abs(results_train[\\\"mc\\\"] - results_train[\\\"db\\\"])\\nresults_train[\\\"reco\\\"] = results_train[\\\"diff\\\"] < 0.1\";\n",
       "                var nbb_cells = Jupyter.notebook.get_cells();\n",
       "                for (var i = 0; i < nbb_cells.length; ++i) {\n",
       "                    if (nbb_cells[i].input_prompt_number == nbb_cell_id) {\n",
       "                        if (nbb_cells[i].get_text() == nbb_unformatted_code) {\n",
       "                             nbb_cells[i].set_text(nbb_formatted_code);\n",
       "                        }\n",
       "                        break;\n",
       "                    }\n",
       "                }\n",
       "            }, 500);\n",
       "            "
      ],
      "text/plain": [
       "<IPython.core.display.Javascript object>"
      ]
     },
     "metadata": {},
     "output_type": "display_data"
    }
   ],
   "source": [
    "results_train=pd.DataFrame({})\n",
    "results_train['mc'] = mc_train\n",
    "results_train['db'] = pv_z0s\n",
    "results_train['diff'] = np.abs(results_train['mc'] - results_train['db'])\n",
    "results_train['reco'] = results_train['diff'] < 0.1\n"
   ]
  },
  {
   "cell_type": "code",
   "execution_count": 62,
   "id": "b4649cf8",
   "metadata": {},
   "outputs": [
    {
     "data": {
      "application/javascript": [
       "\n",
       "            setTimeout(function() {\n",
       "                var nbb_cell_id = 62;\n",
       "                var nbb_unformatted_code = \"results_test=pd.DataFrame({})\\nresults_test['mc'] = mc_test\\nresults_test['db'] = pv_z0s_test\\nresults_test['diff'] = np.abs(results_test['mc'] - results_test['db'])\\nresults_test['reco'] = results_test['diff'] < 0.1\";\n",
       "                var nbb_formatted_code = \"results_test = pd.DataFrame({})\\nresults_test[\\\"mc\\\"] = mc_test\\nresults_test[\\\"db\\\"] = pv_z0s_test\\nresults_test[\\\"diff\\\"] = np.abs(results_test[\\\"mc\\\"] - results_test[\\\"db\\\"])\\nresults_test[\\\"reco\\\"] = results_test[\\\"diff\\\"] < 0.1\";\n",
       "                var nbb_cells = Jupyter.notebook.get_cells();\n",
       "                for (var i = 0; i < nbb_cells.length; ++i) {\n",
       "                    if (nbb_cells[i].input_prompt_number == nbb_cell_id) {\n",
       "                        if (nbb_cells[i].get_text() == nbb_unformatted_code) {\n",
       "                             nbb_cells[i].set_text(nbb_formatted_code);\n",
       "                        }\n",
       "                        break;\n",
       "                    }\n",
       "                }\n",
       "            }, 500);\n",
       "            "
      ],
      "text/plain": [
       "<IPython.core.display.Javascript object>"
      ]
     },
     "metadata": {},
     "output_type": "display_data"
    }
   ],
   "source": [
    "results_test=pd.DataFrame({})\n",
    "results_test['mc'] = mc_test\n",
    "results_test['db'] = pv_z0s_test\n",
    "results_test['diff'] = np.abs(results_test['mc'] - results_test['db'])\n",
    "results_test['reco'] = results_test['diff'] < 0.1\n"
   ]
  },
  {
   "cell_type": "code",
   "execution_count": 63,
   "id": "9a297adb",
   "metadata": {},
   "outputs": [
    {
     "data": {
      "text/plain": [
       "74.448"
      ]
     },
     "execution_count": 63,
     "metadata": {},
     "output_type": "execute_result"
    },
    {
     "data": {
      "application/javascript": [
       "\n",
       "            setTimeout(function() {\n",
       "                var nbb_cell_id = 63;\n",
       "                var nbb_unformatted_code = \"100 * results_test[\\\"reco\\\"].sum() / results_test.shape[0]\";\n",
       "                var nbb_formatted_code = \"100 * results_test[\\\"reco\\\"].sum() / results_test.shape[0]\";\n",
       "                var nbb_cells = Jupyter.notebook.get_cells();\n",
       "                for (var i = 0; i < nbb_cells.length; ++i) {\n",
       "                    if (nbb_cells[i].input_prompt_number == nbb_cell_id) {\n",
       "                        if (nbb_cells[i].get_text() == nbb_unformatted_code) {\n",
       "                             nbb_cells[i].set_text(nbb_formatted_code);\n",
       "                        }\n",
       "                        break;\n",
       "                    }\n",
       "                }\n",
       "            }, 500);\n",
       "            "
      ],
      "text/plain": [
       "<IPython.core.display.Javascript object>"
      ]
     },
     "metadata": {},
     "output_type": "display_data"
    }
   ],
   "source": [
    "100 * results_test[\"reco\"].sum() / results_test.shape[0]"
   ]
  },
  {
   "cell_type": "markdown",
   "id": "d2357c16",
   "metadata": {},
   "source": [
    "So it seems that it can be done, but i'm pretty sure PCA has basically ignored the other dimensions and reconstructed z0"
   ]
  },
  {
   "cell_type": "code",
   "execution_count": 64,
   "id": "130d0f5c",
   "metadata": {},
   "outputs": [
    {
     "ename": "SyntaxError",
     "evalue": "invalid syntax (3275565107.py, line 1)",
     "output_type": "error",
     "traceback": [
      "\u001b[0;36m  Cell \u001b[0;32mIn [64], line 1\u001b[0;36m\u001b[0m\n\u001b[0;31m    pca.\u001b[0m\n\u001b[0m        ^\u001b[0m\n\u001b[0;31mSyntaxError\u001b[0m\u001b[0;31m:\u001b[0m invalid syntax\n"
     ]
    },
    {
     "name": "stderr",
     "output_type": "stream",
     "text": [
      "ERROR:root:Cannot parse: 1:4: pca.\n",
      "Traceback (most recent call last):\n",
      "  File \"/home/raichu/miniconda3/envs/db/lib/python3.9/site-packages/lab_black.py\", line 218, in format_cell\n",
      "    formatted_code = _format_code(cell)\n",
      "  File \"/home/raichu/miniconda3/envs/db/lib/python3.9/site-packages/lab_black.py\", line 29, in _format_code\n",
      "    return format_str(src_contents=code, mode=FileMode())\n",
      "  File \"src/black/__init__.py\", line 1067, in format_str\n",
      "  File \"src/black/__init__.py\", line 1077, in _format_str_once\n",
      "  File \"src/black/parsing.py\", line 126, in lib2to3_parse\n",
      "black.parsing.InvalidInput: Cannot parse: 1:4: pca.\n"
     ]
    }
   ],
   "source": [
    "pca."
   ]
  },
  {
   "cell_type": "code",
   "execution_count": 65,
   "id": "68d97b42",
   "metadata": {},
   "outputs": [
    {
     "data": {
      "text/plain": [
       "array([6598.1484], dtype=float32)"
      ]
     },
     "execution_count": 65,
     "metadata": {},
     "output_type": "execute_result"
    },
    {
     "data": {
      "application/javascript": [
       "\n",
       "            setTimeout(function() {\n",
       "                var nbb_cell_id = 65;\n",
       "                var nbb_unformatted_code = \"pca.singular_values_\";\n",
       "                var nbb_formatted_code = \"pca.singular_values_\";\n",
       "                var nbb_cells = Jupyter.notebook.get_cells();\n",
       "                for (var i = 0; i < nbb_cells.length; ++i) {\n",
       "                    if (nbb_cells[i].input_prompt_number == nbb_cell_id) {\n",
       "                        if (nbb_cells[i].get_text() == nbb_unformatted_code) {\n",
       "                             nbb_cells[i].set_text(nbb_formatted_code);\n",
       "                        }\n",
       "                        break;\n",
       "                    }\n",
       "                }\n",
       "            }, 500);\n",
       "            "
      ],
      "text/plain": [
       "<IPython.core.display.Javascript object>"
      ]
     },
     "metadata": {},
     "output_type": "display_data"
    }
   ],
   "source": [
    "pca.singular_values_"
   ]
  },
  {
   "cell_type": "code",
   "execution_count": 66,
   "id": "d085d98e",
   "metadata": {},
   "outputs": [
    {
     "data": {
      "text/plain": [
       "array([0.78599903])"
      ]
     },
     "execution_count": 66,
     "metadata": {},
     "output_type": "execute_result"
    },
    {
     "data": {
      "application/javascript": [
       "\n",
       "            setTimeout(function() {\n",
       "                var nbb_cell_id = 66;\n",
       "                var nbb_unformatted_code = \"pca.explained_variance_ratio_\";\n",
       "                var nbb_formatted_code = \"pca.explained_variance_ratio_\";\n",
       "                var nbb_cells = Jupyter.notebook.get_cells();\n",
       "                for (var i = 0; i < nbb_cells.length; ++i) {\n",
       "                    if (nbb_cells[i].input_prompt_number == nbb_cell_id) {\n",
       "                        if (nbb_cells[i].get_text() == nbb_unformatted_code) {\n",
       "                             nbb_cells[i].set_text(nbb_formatted_code);\n",
       "                        }\n",
       "                        break;\n",
       "                    }\n",
       "                }\n",
       "            }, 500);\n",
       "            "
      ],
      "text/plain": [
       "<IPython.core.display.Javascript object>"
      ]
     },
     "metadata": {},
     "output_type": "display_data"
    }
   ],
   "source": [
    "pca.explained_variance_ratio_"
   ]
  },
  {
   "cell_type": "markdown",
   "id": "fe23507f",
   "metadata": {},
   "source": []
  },
  {
   "cell_type": "code",
   "execution_count": 67,
   "id": "86fc83c1",
   "metadata": {},
   "outputs": [
    {
     "data": {
      "text/plain": [
       "<matplotlib.collections.PathCollection at 0x7fb14555cf10>"
      ]
     },
     "execution_count": 67,
     "metadata": {},
     "output_type": "execute_result"
    },
    {
     "data": {
      "image/png": "[encoded data removed]",
      "text/plain": [
       "<Figure size 640x480 with 1 Axes>"
      ]
     },
     "metadata": {},
     "output_type": "display_data"
    },
    {
     "data": {
      "application/javascript": [
       "\n",
       "            setTimeout(function() {\n",
       "                var nbb_cell_id = 67;\n",
       "                var nbb_unformatted_code = \"plt.scatter(trk_train[\\\"trk_z0\\\"].values, trk_train[\\\"pca_1\\\"].values)\";\n",
       "                var nbb_formatted_code = \"plt.scatter(trk_train[\\\"trk_z0\\\"].values, trk_train[\\\"pca_1\\\"].values)\";\n",
       "                var nbb_cells = Jupyter.notebook.get_cells();\n",
       "                for (var i = 0; i < nbb_cells.length; ++i) {\n",
       "                    if (nbb_cells[i].input_prompt_number == nbb_cell_id) {\n",
       "                        if (nbb_cells[i].get_text() == nbb_unformatted_code) {\n",
       "                             nbb_cells[i].set_text(nbb_formatted_code);\n",
       "                        }\n",
       "                        break;\n",
       "                    }\n",
       "                }\n",
       "            }, 500);\n",
       "            "
      ],
      "text/plain": [
       "<IPython.core.display.Javascript object>"
      ]
     },
     "metadata": {},
     "output_type": "display_data"
    }
   ],
   "source": [
    "plt.scatter(trk_train[\"trk_z0\"].values, trk_train[\"pca_1\"].values)"
   ]
  },
  {
   "cell_type": "code",
   "execution_count": 68,
   "id": "1dad1a4b",
   "metadata": {},
   "outputs": [
    {
     "data": {
      "image/png": "[encoded data removed]",
      "text/plain": [
       "<Figure size 640x480 with 1 Axes>"
      ]
     },
     "metadata": {},
     "output_type": "display_data"
    },
    {
     "data": {
      "application/javascript": [
       "\n",
       "            setTimeout(function() {\n",
       "                var nbb_cell_id = 68;\n",
       "                var nbb_unformatted_code = \"_ = plt.hist(trk_train[\\\"trk_z0\\\"] - trk_train[\\\"pca_1\\\"], bins=50)\";\n",
       "                var nbb_formatted_code = \"_ = plt.hist(trk_train[\\\"trk_z0\\\"] - trk_train[\\\"pca_1\\\"], bins=50)\";\n",
       "                var nbb_cells = Jupyter.notebook.get_cells();\n",
       "                for (var i = 0; i < nbb_cells.length; ++i) {\n",
       "                    if (nbb_cells[i].input_prompt_number == nbb_cell_id) {\n",
       "                        if (nbb_cells[i].get_text() == nbb_unformatted_code) {\n",
       "                             nbb_cells[i].set_text(nbb_formatted_code);\n",
       "                        }\n",
       "                        break;\n",
       "                    }\n",
       "                }\n",
       "            }, 500);\n",
       "            "
      ],
      "text/plain": [
       "<IPython.core.display.Javascript object>"
      ]
     },
     "metadata": {},
     "output_type": "display_data"
    }
   ],
   "source": [
    "_ = plt.hist(trk_train[\"trk_z0\"] - trk_train[\"pca_1\"], bins=50)"
   ]
  },
  {
   "cell_type": "markdown",
   "id": "2519b1aa",
   "metadata": {},
   "source": [
    "Ok so, where do we go from here? "
   ]
  },
  {
   "cell_type": "markdown",
   "id": "0e827b79",
   "metadata": {},
   "source": [
    "Is it that the particular problem we are trying to solve is fully described by the z0 dimension and the other dimensions are not adding any further information? \n",
    "- Do we need to try a more complicated autoencoder that might better capture the three dimensions into the latent space?\n",
    "- Do we need to try this application in with a different dataset, maybe something that is truly a 2D clustering problem? \n",
    "- What happens if we add $p_T$ to the problem?\n",
    "- Do I need to try something more dificult like a sequence to sequence auto encoder? "
   ]
  },
  {
   "cell_type": "markdown",
   "id": "ae2466f1",
   "metadata": {},
   "source": [
    "## 2D Example applications (toy dataset)"
   ]
  },
  {
   "cell_type": "code",
   "execution_count": 183,
   "id": "03ee1f16",
   "metadata": {},
   "outputs": [
    {
     "data": {
      "application/javascript": [
       "\n",
       "            setTimeout(function() {\n",
       "                var nbb_cell_id = 183;\n",
       "                var nbb_unformatted_code = \"from sklearn.datasets import make_blobs\";\n",
       "                var nbb_formatted_code = \"from sklearn.datasets import make_blobs\";\n",
       "                var nbb_cells = Jupyter.notebook.get_cells();\n",
       "                for (var i = 0; i < nbb_cells.length; ++i) {\n",
       "                    if (nbb_cells[i].input_prompt_number == nbb_cell_id) {\n",
       "                        if (nbb_cells[i].get_text() == nbb_unformatted_code) {\n",
       "                             nbb_cells[i].set_text(nbb_formatted_code);\n",
       "                        }\n",
       "                        break;\n",
       "                    }\n",
       "                }\n",
       "            }, 500);\n",
       "            "
      ],
      "text/plain": [
       "<IPython.core.display.Javascript object>"
      ]
     },
     "metadata": {},
     "output_type": "display_data"
    }
   ],
   "source": [
    "from sklearn.datasets import make_blobs"
   ]
  },
  {
   "cell_type": "code",
   "execution_count": 210,
   "id": "96264c47",
   "metadata": {},
   "outputs": [
    {
     "data": {
      "application/javascript": [
       "\n",
       "            setTimeout(function() {\n",
       "                var nbb_cell_id = 210;\n",
       "                var nbb_unformatted_code = \"x, y = make_blobs(n_samples=10000, centers=20, n_features=2, random_state=0)\";\n",
       "                var nbb_formatted_code = \"x, y = make_blobs(n_samples=10000, centers=20, n_features=2, random_state=0)\";\n",
       "                var nbb_cells = Jupyter.notebook.get_cells();\n",
       "                for (var i = 0; i < nbb_cells.length; ++i) {\n",
       "                    if (nbb_cells[i].input_prompt_number == nbb_cell_id) {\n",
       "                        if (nbb_cells[i].get_text() == nbb_unformatted_code) {\n",
       "                             nbb_cells[i].set_text(nbb_formatted_code);\n",
       "                        }\n",
       "                        break;\n",
       "                    }\n",
       "                }\n",
       "            }, 500);\n",
       "            "
      ],
      "text/plain": [
       "<IPython.core.display.Javascript object>"
      ]
     },
     "metadata": {},
     "output_type": "display_data"
    }
   ],
   "source": [
    "x, y = make_blobs(n_samples=10000, centers=20, n_features=2, random_state=0)"
   ]
  },
  {
   "cell_type": "code",
   "execution_count": 211,
   "id": "bf9117ca",
   "metadata": {},
   "outputs": [
    {
     "data": {
      "text/plain": [
       "(10000, 2)"
      ]
     },
     "execution_count": 211,
     "metadata": {},
     "output_type": "execute_result"
    },
    {
     "data": {
      "application/javascript": [
       "\n",
       "            setTimeout(function() {\n",
       "                var nbb_cell_id = 211;\n",
       "                var nbb_unformatted_code = \"x.shape\";\n",
       "                var nbb_formatted_code = \"x.shape\";\n",
       "                var nbb_cells = Jupyter.notebook.get_cells();\n",
       "                for (var i = 0; i < nbb_cells.length; ++i) {\n",
       "                    if (nbb_cells[i].input_prompt_number == nbb_cell_id) {\n",
       "                        if (nbb_cells[i].get_text() == nbb_unformatted_code) {\n",
       "                             nbb_cells[i].set_text(nbb_formatted_code);\n",
       "                        }\n",
       "                        break;\n",
       "                    }\n",
       "                }\n",
       "            }, 500);\n",
       "            "
      ],
      "text/plain": [
       "<IPython.core.display.Javascript object>"
      ]
     },
     "metadata": {},
     "output_type": "display_data"
    }
   ],
   "source": [
    "x.shape"
   ]
  },
  {
   "cell_type": "code",
   "execution_count": 212,
   "id": "6f34ac56",
   "metadata": {},
   "outputs": [
    {
     "data": {
      "text/plain": [
       "<matplotlib.collections.PathCollection at 0x7fed5e060a00>"
      ]
     },
     "execution_count": 212,
     "metadata": {},
     "output_type": "execute_result"
    },
    {
     "data": {
      "image/png": "[encoded data removed]",
      "text/plain": [
       "<Figure size 640x480 with 1 Axes>"
      ]
     },
     "metadata": {},
     "output_type": "display_data"
    },
    {
     "data": {
      "application/javascript": [
       "\n",
       "            setTimeout(function() {\n",
       "                var nbb_cell_id = 212;\n",
       "                var nbb_unformatted_code = \"plt.scatter(x[:, 0], x[:, 1], c=y)\";\n",
       "                var nbb_formatted_code = \"plt.scatter(x[:, 0], x[:, 1], c=y)\";\n",
       "                var nbb_cells = Jupyter.notebook.get_cells();\n",
       "                for (var i = 0; i < nbb_cells.length; ++i) {\n",
       "                    if (nbb_cells[i].input_prompt_number == nbb_cell_id) {\n",
       "                        if (nbb_cells[i].get_text() == nbb_unformatted_code) {\n",
       "                             nbb_cells[i].set_text(nbb_formatted_code);\n",
       "                        }\n",
       "                        break;\n",
       "                    }\n",
       "                }\n",
       "            }, 500);\n",
       "            "
      ],
      "text/plain": [
       "<IPython.core.display.Javascript object>"
      ]
     },
     "metadata": {},
     "output_type": "display_data"
    }
   ],
   "source": [
    "plt.scatter(x[:, 0], x[:, 1], c=y)"
   ]
  },
  {
   "cell_type": "markdown",
   "id": "6a0359fa",
   "metadata": {},
   "source": [
    "Can we use this to form the basis of our approach?"
   ]
  },
  {
   "cell_type": "markdown",
   "id": "6b0411ed",
   "metadata": {},
   "source": [
    "We can use the labels `y` to determine what cluster the point belongs to, then we can use the coordinates in `x` to determine the cluster center. This can be expanded to N-dimensions if necessary."
   ]
  },
  {
   "cell_type": "code",
   "execution_count": null,
   "id": "6b8ca076-7616-4506-b785-877650b20061",
   "metadata": {},
   "outputs": [],
   "source": []
  },
  {
   "cell_type": "code",
   "execution_count": 1,
   "id": "36cd5e64-992a-4d2e-98f7-09024f52e05a",
   "metadata": {},
   "outputs": [
    {
     "ename": "NameError",
     "evalue": "name 'x' is not defined",
     "output_type": "error",
     "traceback": [
      "\u001b[0;31m---------------------------------------------------------------------------\u001b[0m",
      "\u001b[0;31mNameError\u001b[0m                                 Traceback (most recent call last)",
      "Cell \u001b[0;32mIn [1], line 1\u001b[0m\n\u001b[0;32m----> 1\u001b[0m \u001b[43mx\u001b[49m\n",
      "\u001b[0;31mNameError\u001b[0m: name 'x' is not defined"
     ]
    }
   ],
   "source": [
    "x"
   ]
  },
  {
   "cell_type": "markdown",
   "id": "b721f5ce",
   "metadata": {},
   "source": [
    "# Autoencoder example"
   ]
  },
  {
   "cell_type": "code",
   "execution_count": 214,
   "id": "c4f0fe2a",
   "metadata": {},
   "outputs": [
    {
     "name": "stderr",
     "output_type": "stream",
     "text": [
      "2022-11-10 14:54:21.853738: I tensorflow/core/platform/cpu_feature_guard.cc:193] This TensorFlow binary is optimized with oneAPI Deep Neural Network Library (oneDNN) to use the following CPU instructions in performance-critical operations:  AVX2 FMA\n",
      "To enable them in other operations, rebuild TensorFlow with the appropriate compiler flags.\n",
      "2022-11-10 14:54:22.133935: W tensorflow/stream_executor/platform/default/dso_loader.cc:64] Could not load dynamic library 'libcudart.so.11.0'; dlerror: libcudart.so.11.0: cannot open shared object file: No such file or directory\n",
      "2022-11-10 14:54:22.133984: I tensorflow/stream_executor/cuda/cudart_stub.cc:29] Ignore above cudart dlerror if you do not have a GPU set up on your machine.\n",
      "2022-11-10 14:54:22.188469: E tensorflow/stream_executor/cuda/cuda_blas.cc:2981] Unable to register cuBLAS factory: Attempting to register factory for plugin cuBLAS when one has already been registered\n",
      "2022-11-10 14:54:23.199329: W tensorflow/stream_executor/platform/default/dso_loader.cc:64] Could not load dynamic library 'libnvinfer.so.7'; dlerror: libnvinfer.so.7: cannot open shared object file: No such file or directory\n",
      "2022-11-10 14:54:23.199551: W tensorflow/stream_executor/platform/default/dso_loader.cc:64] Could not load dynamic library 'libnvinfer_plugin.so.7'; dlerror: libnvinfer_plugin.so.7: cannot open shared object file: No such file or directory\n",
      "2022-11-10 14:54:23.199566: W tensorflow/compiler/tf2tensorrt/utils/py_utils.cc:38] TF-TRT Warning: Cannot dlopen some TensorRT libraries. If you would like to use Nvidia GPU with TensorRT, please make sure the missing libraries mentioned above are installed properly.\n"
     ]
    },
    {
     "data": {
      "application/javascript": [
       "\n",
       "            setTimeout(function() {\n",
       "                var nbb_cell_id = 214;\n",
       "                var nbb_unformatted_code = \"import tensorflow as tf\";\n",
       "                var nbb_formatted_code = \"import tensorflow as tf\";\n",
       "                var nbb_cells = Jupyter.notebook.get_cells();\n",
       "                for (var i = 0; i < nbb_cells.length; ++i) {\n",
       "                    if (nbb_cells[i].input_prompt_number == nbb_cell_id) {\n",
       "                        if (nbb_cells[i].get_text() == nbb_unformatted_code) {\n",
       "                             nbb_cells[i].set_text(nbb_formatted_code);\n",
       "                        }\n",
       "                        break;\n",
       "                    }\n",
       "                }\n",
       "            }, 500);\n",
       "            "
      ],
      "text/plain": [
       "<IPython.core.display.Javascript object>"
      ]
     },
     "metadata": {},
     "output_type": "display_data"
    }
   ],
   "source": [
    "import tensorflow as tf"
   ]
  },
  {
   "cell_type": "code",
   "execution_count": 215,
   "id": "997e4766",
   "metadata": {},
   "outputs": [
    {
     "data": {
      "application/javascript": [
       "\n",
       "            setTimeout(function() {\n",
       "                var nbb_cell_id = 215;\n",
       "                var nbb_unformatted_code = \"from sklearn.metrics import accuracy_score, precision_score, recall_score\\nfrom sklearn.model_selection import train_test_split\\nfrom tensorflow.keras import layers, losses\\nfrom tensorflow.keras.datasets import fashion_mnist\\nfrom tensorflow.keras.models import Model\";\n",
       "                var nbb_formatted_code = \"from sklearn.metrics import accuracy_score, precision_score, recall_score\\nfrom sklearn.model_selection import train_test_split\\nfrom tensorflow.keras import layers, losses\\nfrom tensorflow.keras.datasets import fashion_mnist\\nfrom tensorflow.keras.models import Model\";\n",
       "                var nbb_cells = Jupyter.notebook.get_cells();\n",
       "                for (var i = 0; i < nbb_cells.length; ++i) {\n",
       "                    if (nbb_cells[i].input_prompt_number == nbb_cell_id) {\n",
       "                        if (nbb_cells[i].get_text() == nbb_unformatted_code) {\n",
       "                             nbb_cells[i].set_text(nbb_formatted_code);\n",
       "                        }\n",
       "                        break;\n",
       "                    }\n",
       "                }\n",
       "            }, 500);\n",
       "            "
      ],
      "text/plain": [
       "<IPython.core.display.Javascript object>"
      ]
     },
     "metadata": {},
     "output_type": "display_data"
    }
   ],
   "source": [
    "from sklearn.metrics import accuracy_score, precision_score, recall_score\n",
    "from sklearn.model_selection import train_test_split\n",
    "from tensorflow.keras import layers, losses\n",
    "from tensorflow.keras.datasets import fashion_mnist\n",
    "from tensorflow.keras.models import Model"
   ]
  },
  {
   "cell_type": "code",
   "execution_count": 264,
   "id": "dbf13e3f",
   "metadata": {},
   "outputs": [
    {
     "data": {
      "application/javascript": [
       "\n",
       "            setTimeout(function() {\n",
       "                var nbb_cell_id = 264;\n",
       "                var nbb_unformatted_code = \"from sklearn.preprocessing import StandardScaler\";\n",
       "                var nbb_formatted_code = \"from sklearn.preprocessing import StandardScaler\";\n",
       "                var nbb_cells = Jupyter.notebook.get_cells();\n",
       "                for (var i = 0; i < nbb_cells.length; ++i) {\n",
       "                    if (nbb_cells[i].input_prompt_number == nbb_cell_id) {\n",
       "                        if (nbb_cells[i].get_text() == nbb_unformatted_code) {\n",
       "                             nbb_cells[i].set_text(nbb_formatted_code);\n",
       "                        }\n",
       "                        break;\n",
       "                    }\n",
       "                }\n",
       "            }, 500);\n",
       "            "
      ],
      "text/plain": [
       "<IPython.core.display.Javascript object>"
      ]
     },
     "metadata": {},
     "output_type": "display_data"
    }
   ],
   "source": [
    "from sklearn.preprocessing import StandardScaler"
   ]
  },
  {
   "cell_type": "code",
   "execution_count": 265,
   "id": "17f09033",
   "metadata": {},
   "outputs": [
    {
     "data": {
      "application/javascript": [
       "\n",
       "            setTimeout(function() {\n",
       "                var nbb_cell_id = 265;\n",
       "                var nbb_unformatted_code = \"scaler = StandardScaler()\";\n",
       "                var nbb_formatted_code = \"scaler = StandardScaler()\";\n",
       "                var nbb_cells = Jupyter.notebook.get_cells();\n",
       "                for (var i = 0; i < nbb_cells.length; ++i) {\n",
       "                    if (nbb_cells[i].input_prompt_number == nbb_cell_id) {\n",
       "                        if (nbb_cells[i].get_text() == nbb_unformatted_code) {\n",
       "                             nbb_cells[i].set_text(nbb_formatted_code);\n",
       "                        }\n",
       "                        break;\n",
       "                    }\n",
       "                }\n",
       "            }, 500);\n",
       "            "
      ],
      "text/plain": [
       "<IPython.core.display.Javascript object>"
      ]
     },
     "metadata": {},
     "output_type": "display_data"
    }
   ],
   "source": [
    "scaler = StandardScaler()"
   ]
  },
  {
   "cell_type": "code",
   "execution_count": 217,
   "id": "00b79572",
   "metadata": {},
   "outputs": [
    {
     "data": {
      "application/javascript": [
       "\n",
       "            setTimeout(function() {\n",
       "                var nbb_cell_id = 217;\n",
       "                var nbb_unformatted_code = \"X_train = trk_train[['trk_z0','trk_eta','trk_phi']].values\\nX_test = trk_test[['trk_z0','trk_eta','trk_phi']].values\";\n",
       "                var nbb_formatted_code = \"X_train = trk_train[[\\\"trk_z0\\\", \\\"trk_eta\\\", \\\"trk_phi\\\"]].values\\nX_test = trk_test[[\\\"trk_z0\\\", \\\"trk_eta\\\", \\\"trk_phi\\\"]].values\";\n",
       "                var nbb_cells = Jupyter.notebook.get_cells();\n",
       "                for (var i = 0; i < nbb_cells.length; ++i) {\n",
       "                    if (nbb_cells[i].input_prompt_number == nbb_cell_id) {\n",
       "                        if (nbb_cells[i].get_text() == nbb_unformatted_code) {\n",
       "                             nbb_cells[i].set_text(nbb_formatted_code);\n",
       "                        }\n",
       "                        break;\n",
       "                    }\n",
       "                }\n",
       "            }, 500);\n",
       "            "
      ],
      "text/plain": [
       "<IPython.core.display.Javascript object>"
      ]
     },
     "metadata": {},
     "output_type": "display_data"
    }
   ],
   "source": [
    "X_train = trk_train[[\"trk_z0\", \"trk_eta\", \"trk_phi\"]].values\n",
    "X_test = trk_test[[\"trk_z0\", \"trk_eta\", \"trk_phi\"]].values"
   ]
  },
  {
   "cell_type": "code",
   "execution_count": 266,
   "id": "30503881",
   "metadata": {},
   "outputs": [
    {
     "data": {
      "application/javascript": [
       "\n",
       "            setTimeout(function() {\n",
       "                var nbb_cell_id = 266;\n",
       "                var nbb_unformatted_code = \"scaled = scaler.fit(X_train)\";\n",
       "                var nbb_formatted_code = \"scaled = scaler.fit(X_train)\";\n",
       "                var nbb_cells = Jupyter.notebook.get_cells();\n",
       "                for (var i = 0; i < nbb_cells.length; ++i) {\n",
       "                    if (nbb_cells[i].input_prompt_number == nbb_cell_id) {\n",
       "                        if (nbb_cells[i].get_text() == nbb_unformatted_code) {\n",
       "                             nbb_cells[i].set_text(nbb_formatted_code);\n",
       "                        }\n",
       "                        break;\n",
       "                    }\n",
       "                }\n",
       "            }, 500);\n",
       "            "
      ],
      "text/plain": [
       "<IPython.core.display.Javascript object>"
      ]
     },
     "metadata": {},
     "output_type": "display_data"
    }
   ],
   "source": [
    "scaled = scaler.fit(X_train)"
   ]
  },
  {
   "cell_type": "code",
   "execution_count": 269,
   "id": "347cbc9f",
   "metadata": {},
   "outputs": [
    {
     "data": {
      "application/javascript": [
       "\n",
       "            setTimeout(function() {\n",
       "                var nbb_cell_id = 269;\n",
       "                var nbb_unformatted_code = \"X_train_sc = scaled.transform(X_train)\\nX_test_sc = scaled.transform(X_test)\";\n",
       "                var nbb_formatted_code = \"X_train_sc = scaled.transform(X_train)\\nX_test_sc = scaled.transform(X_test)\";\n",
       "                var nbb_cells = Jupyter.notebook.get_cells();\n",
       "                for (var i = 0; i < nbb_cells.length; ++i) {\n",
       "                    if (nbb_cells[i].input_prompt_number == nbb_cell_id) {\n",
       "                        if (nbb_cells[i].get_text() == nbb_unformatted_code) {\n",
       "                             nbb_cells[i].set_text(nbb_formatted_code);\n",
       "                        }\n",
       "                        break;\n",
       "                    }\n",
       "                }\n",
       "            }, 500);\n",
       "            "
      ],
      "text/plain": [
       "<IPython.core.display.Javascript object>"
      ]
     },
     "metadata": {},
     "output_type": "display_data"
    }
   ],
   "source": [
    "X_train_sc = scaled.transform(X_train)\n",
    "X_test_sc = scaled.transform(X_test)"
   ]
  },
  {
   "cell_type": "code",
   "execution_count": 274,
   "id": "91e3c1a2",
   "metadata": {},
   "outputs": [
    {
     "data": {
      "application/javascript": [
       "\n",
       "            setTimeout(function() {\n",
       "                var nbb_cell_id = 274;\n",
       "                var nbb_unformatted_code = \"latent_dim = 1\\n\\n\\nclass Autoencoder(Model):\\n    def __init__(self, latent_dim):\\n        super(Autoencoder, self).__init__()\\n        self.latent_dim = latent_dim\\n        self.encoder = tf.keras.Sequential(\\n            [\\n                layers.InputLayer(input_shape=(3)),\\n                layers.Dense(20, activation=\\\"relu\\\"),\\n                layers.Dense(10, activation=\\\"relu\\\"),\\n                #                 layers.Dense(5, activation=\\\"relu\\\"),\\n                layers.Dense(latent_dim, activation=\\\"relu\\\"),\\n            ]\\n        )\\n        self.decoder = tf.keras.Sequential(\\n            [\\n                layers.InputLayer(input_shape=(1)),\\n                layers.Dense(5, activation=\\\"linear\\\"),\\n                layers.Dense(10, activation=\\\"linear\\\"),\\n                #                 layers.Dense(20, activation=\\\"linear\\\"),\\n                layers.Dense(3, activation=\\\"sigmoid\\\"),\\n            ]\\n        )\\n\\n    def call(self, x):\\n        encoded = self.encoder(x)\\n        decoded = self.decoder(encoded)\\n        return decoded\\n\\n\\nautoencoder = Autoencoder(latent_dim)\";\n",
       "                var nbb_formatted_code = \"latent_dim = 1\\n\\n\\nclass Autoencoder(Model):\\n    def __init__(self, latent_dim):\\n        super(Autoencoder, self).__init__()\\n        self.latent_dim = latent_dim\\n        self.encoder = tf.keras.Sequential(\\n            [\\n                layers.InputLayer(input_shape=(3)),\\n                layers.Dense(20, activation=\\\"relu\\\"),\\n                layers.Dense(10, activation=\\\"relu\\\"),\\n                #                 layers.Dense(5, activation=\\\"relu\\\"),\\n                layers.Dense(latent_dim, activation=\\\"relu\\\"),\\n            ]\\n        )\\n        self.decoder = tf.keras.Sequential(\\n            [\\n                layers.InputLayer(input_shape=(1)),\\n                layers.Dense(5, activation=\\\"linear\\\"),\\n                layers.Dense(10, activation=\\\"linear\\\"),\\n                #                 layers.Dense(20, activation=\\\"linear\\\"),\\n                layers.Dense(3, activation=\\\"sigmoid\\\"),\\n            ]\\n        )\\n\\n    def call(self, x):\\n        encoded = self.encoder(x)\\n        decoded = self.decoder(encoded)\\n        return decoded\\n\\n\\nautoencoder = Autoencoder(latent_dim)\";\n",
       "                var nbb_cells = Jupyter.notebook.get_cells();\n",
       "                for (var i = 0; i < nbb_cells.length; ++i) {\n",
       "                    if (nbb_cells[i].input_prompt_number == nbb_cell_id) {\n",
       "                        if (nbb_cells[i].get_text() == nbb_unformatted_code) {\n",
       "                             nbb_cells[i].set_text(nbb_formatted_code);\n",
       "                        }\n",
       "                        break;\n",
       "                    }\n",
       "                }\n",
       "            }, 500);\n",
       "            "
      ],
      "text/plain": [
       "<IPython.core.display.Javascript object>"
      ]
     },
     "metadata": {},
     "output_type": "display_data"
    }
   ],
   "source": [
    "latent_dim = 1\n",
    "\n",
    "\n",
    "class Autoencoder(Model):\n",
    "    def __init__(self, latent_dim):\n",
    "        super(Autoencoder, self).__init__()\n",
    "        self.latent_dim = latent_dim\n",
    "        self.encoder = tf.keras.Sequential(\n",
    "            [\n",
    "                layers.InputLayer(input_shape=(3)),\n",
    "                layers.Dense(20, activation=\"relu\"),\n",
    "                layers.Dense(10, activation=\"relu\"),\n",
    "                #                 layers.Dense(5, activation=\"relu\"),\n",
    "                layers.Dense(latent_dim, activation=\"relu\"),\n",
    "            ]\n",
    "        )\n",
    "        self.decoder = tf.keras.Sequential(\n",
    "            [\n",
    "                layers.InputLayer(input_shape=(1)),\n",
    "                layers.Dense(5, activation=\"linear\"),\n",
    "                layers.Dense(10, activation=\"linear\"),\n",
    "                #                 layers.Dense(20, activation=\"linear\"),\n",
    "                layers.Dense(3, activation=\"sigmoid\"),\n",
    "            ]\n",
    "        )\n",
    "\n",
    "    def call(self, x):\n",
    "        encoded = self.encoder(x)\n",
    "        decoded = self.decoder(encoded)\n",
    "        return decoded\n",
    "\n",
    "\n",
    "autoencoder = Autoencoder(latent_dim)"
   ]
  },
  {
   "cell_type": "code",
   "execution_count": 275,
   "id": "20f45a7a",
   "metadata": {},
   "outputs": [
    {
     "data": {
      "application/javascript": [
       "\n",
       "            setTimeout(function() {\n",
       "                var nbb_cell_id = 275;\n",
       "                var nbb_unformatted_code = \"autoencoder.compile(optimizer='adam', loss= losses.MeanSquaredError())\";\n",
       "                var nbb_formatted_code = \"autoencoder.compile(optimizer=\\\"adam\\\", loss=losses.MeanSquaredError())\";\n",
       "                var nbb_cells = Jupyter.notebook.get_cells();\n",
       "                for (var i = 0; i < nbb_cells.length; ++i) {\n",
       "                    if (nbb_cells[i].input_prompt_number == nbb_cell_id) {\n",
       "                        if (nbb_cells[i].get_text() == nbb_unformatted_code) {\n",
       "                             nbb_cells[i].set_text(nbb_formatted_code);\n",
       "                        }\n",
       "                        break;\n",
       "                    }\n",
       "                }\n",
       "            }, 500);\n",
       "            "
      ],
      "text/plain": [
       "<IPython.core.display.Javascript object>"
      ]
     },
     "metadata": {},
     "output_type": "display_data"
    }
   ],
   "source": [
    "autoencoder.compile(optimizer='adam', loss= losses.MeanSquaredError())\n"
   ]
  },
  {
   "cell_type": "code",
   "execution_count": 276,
   "id": "afb3b150",
   "metadata": {},
   "outputs": [
    {
     "name": "stdout",
     "output_type": "stream",
     "text": [
      "Epoch 1/3\n",
      "15191/15191 [==============================] - 62s 4ms/step - loss: 0.7528 - val_loss: 0.7374\n",
      "Epoch 2/3\n",
      "15191/15191 [==============================] - 79s 5ms/step - loss: 0.7417 - val_loss: 0.7372\n",
      "Epoch 3/3\n",
      "15191/15191 [==============================] - 61s 4ms/step - loss: 0.7411 - val_loss: 0.7352\n"
     ]
    },
    {
     "data": {
      "text/plain": [
       "<keras.callbacks.History at 0x7feca808f6a0>"
      ]
     },
     "execution_count": 276,
     "metadata": {},
     "output_type": "execute_result"
    },
    {
     "data": {
      "application/javascript": [
       "\n",
       "            setTimeout(function() {\n",
       "                var nbb_cell_id = 276;\n",
       "                var nbb_unformatted_code = \"autoencoder.fit(\\n    X_train_sc,\\n    X_train_sc,\\n    epochs=3,\\n    shuffle=True,\\n    validation_data=(X_test_sc, X_test_sc),\\n    batch_size=150,\\n)\";\n",
       "                var nbb_formatted_code = \"autoencoder.fit(\\n    X_train_sc,\\n    X_train_sc,\\n    epochs=3,\\n    shuffle=True,\\n    validation_data=(X_test_sc, X_test_sc),\\n    batch_size=150,\\n)\";\n",
       "                var nbb_cells = Jupyter.notebook.get_cells();\n",
       "                for (var i = 0; i < nbb_cells.length; ++i) {\n",
       "                    if (nbb_cells[i].input_prompt_number == nbb_cell_id) {\n",
       "                        if (nbb_cells[i].get_text() == nbb_unformatted_code) {\n",
       "                             nbb_cells[i].set_text(nbb_formatted_code);\n",
       "                        }\n",
       "                        break;\n",
       "                    }\n",
       "                }\n",
       "            }, 500);\n",
       "            "
      ],
      "text/plain": [
       "<IPython.core.display.Javascript object>"
      ]
     },
     "metadata": {},
     "output_type": "display_data"
    }
   ],
   "source": [
    "autoencoder.fit(\n",
    "    X_train_sc,\n",
    "    X_train_sc,\n",
    "    epochs=3,\n",
    "    shuffle=True,\n",
    "    validation_data=(X_test_sc, X_test_sc),\n",
    "    batch_size=150,\n",
    ")"
   ]
  },
  {
   "cell_type": "code",
   "execution_count": 254,
   "id": "616bdd76",
   "metadata": {},
   "outputs": [
    {
     "name": "stdout",
     "output_type": "stream",
     "text": [
      "hi\n"
     ]
    },
    {
     "data": {
      "application/javascript": [
       "\n",
       "            setTimeout(function() {\n",
       "                var nbb_cell_id = 254;\n",
       "                var nbb_unformatted_code = \"print(\\\"hi\\\")\";\n",
       "                var nbb_formatted_code = \"print(\\\"hi\\\")\";\n",
       "                var nbb_cells = Jupyter.notebook.get_cells();\n",
       "                for (var i = 0; i < nbb_cells.length; ++i) {\n",
       "                    if (nbb_cells[i].input_prompt_number == nbb_cell_id) {\n",
       "                        if (nbb_cells[i].get_text() == nbb_unformatted_code) {\n",
       "                             nbb_cells[i].set_text(nbb_formatted_code);\n",
       "                        }\n",
       "                        break;\n",
       "                    }\n",
       "                }\n",
       "            }, 500);\n",
       "            "
      ],
      "text/plain": [
       "<IPython.core.display.Javascript object>"
      ]
     },
     "metadata": {},
     "output_type": "display_data"
    }
   ],
   "source": [
    "print(\"hi\")"
   ]
  },
  {
   "cell_type": "code",
   "execution_count": 277,
   "id": "8ea239ba",
   "metadata": {},
   "outputs": [
    {
     "name": "stdout",
     "output_type": "stream",
     "text": [
      "Model: \"autoencoder_7\"\n",
      "_________________________________________________________________\n",
      " Layer (type)                Output Shape              Param #   \n",
      "=================================================================\n",
      " sequential_14 (Sequential)  (None, 1)                 301       \n",
      "                                                                 \n",
      " sequential_15 (Sequential)  (None, 3)                 103       \n",
      "                                                                 \n",
      "=================================================================\n",
      "Total params: 404\n",
      "Trainable params: 404\n",
      "Non-trainable params: 0\n",
      "_________________________________________________________________\n"
     ]
    },
    {
     "data": {
      "application/javascript": [
       "\n",
       "            setTimeout(function() {\n",
       "                var nbb_cell_id = 277;\n",
       "                var nbb_unformatted_code = \"autoencoder.summary()\";\n",
       "                var nbb_formatted_code = \"autoencoder.summary()\";\n",
       "                var nbb_cells = Jupyter.notebook.get_cells();\n",
       "                for (var i = 0; i < nbb_cells.length; ++i) {\n",
       "                    if (nbb_cells[i].input_prompt_number == nbb_cell_id) {\n",
       "                        if (nbb_cells[i].get_text() == nbb_unformatted_code) {\n",
       "                             nbb_cells[i].set_text(nbb_formatted_code);\n",
       "                        }\n",
       "                        break;\n",
       "                    }\n",
       "                }\n",
       "            }, 500);\n",
       "            "
      ],
      "text/plain": [
       "<IPython.core.display.Javascript object>"
      ]
     },
     "metadata": {},
     "output_type": "display_data"
    }
   ],
   "source": [
    "autoencoder.summary()"
   ]
  },
  {
   "cell_type": "code",
   "execution_count": 230,
   "id": "d3485107",
   "metadata": {},
   "outputs": [
    {
     "name": "stdout",
     "output_type": "stream",
     "text": [
      "[[1.4051719e-09 1.8363735e-21 2.8953789e-06]\n",
      " [9.9999923e-01 4.4843471e-08 3.2370608e-05]\n",
      " [8.6903466e-14 3.1263332e-25 1.4673828e-06]\n",
      " ...\n",
      " [9.9999923e-01 4.4843471e-08 3.2370608e-05]\n",
      " [9.9999923e-01 4.4843471e-08 3.2370608e-05]\n",
      " [1.7276456e-17 1.5143736e-28 8.0713374e-07]]\n"
     ]
    },
    {
     "data": {
      "application/javascript": [
       "\n",
       "            setTimeout(function() {\n",
       "                var nbb_cell_id = 230;\n",
       "                var nbb_unformatted_code = \"print(reco_train)\";\n",
       "                var nbb_formatted_code = \"print(reco_train)\";\n",
       "                var nbb_cells = Jupyter.notebook.get_cells();\n",
       "                for (var i = 0; i < nbb_cells.length; ++i) {\n",
       "                    if (nbb_cells[i].input_prompt_number == nbb_cell_id) {\n",
       "                        if (nbb_cells[i].get_text() == nbb_unformatted_code) {\n",
       "                             nbb_cells[i].set_text(nbb_formatted_code);\n",
       "                        }\n",
       "                        break;\n",
       "                    }\n",
       "                }\n",
       "            }, 500);\n",
       "            "
      ],
      "text/plain": [
       "<IPython.core.display.Javascript object>"
      ]
     },
     "metadata": {},
     "output_type": "display_data"
    }
   ],
   "source": [
    "print(reco_train)"
   ]
  },
  {
   "cell_type": "code",
   "execution_count": 280,
   "id": "6d6268a1",
   "metadata": {},
   "outputs": [
    {
     "name": "stdout",
     "output_type": "stream",
     "text": [
      "15191/15191 [==============================] - 22s 1ms/step\n"
     ]
    },
    {
     "data": {
      "application/javascript": [
       "\n",
       "            setTimeout(function() {\n",
       "                var nbb_cell_id = 280;\n",
       "                var nbb_unformatted_code = \"encode_train = autoencoder.encoder.predict(X_train_sc, batch_size=150)\";\n",
       "                var nbb_formatted_code = \"encode_train = autoencoder.encoder.predict(X_train_sc, batch_size=150)\";\n",
       "                var nbb_cells = Jupyter.notebook.get_cells();\n",
       "                for (var i = 0; i < nbb_cells.length; ++i) {\n",
       "                    if (nbb_cells[i].input_prompt_number == nbb_cell_id) {\n",
       "                        if (nbb_cells[i].get_text() == nbb_unformatted_code) {\n",
       "                             nbb_cells[i].set_text(nbb_formatted_code);\n",
       "                        }\n",
       "                        break;\n",
       "                    }\n",
       "                }\n",
       "            }, 500);\n",
       "            "
      ],
      "text/plain": [
       "<IPython.core.display.Javascript object>"
      ]
     },
     "metadata": {},
     "output_type": "display_data"
    }
   ],
   "source": [
    "encode_train = autoencoder.encoder.predict(X_train_sc, batch_size=150)"
   ]
  },
  {
   "cell_type": "code",
   "execution_count": 281,
   "id": "de40c9e6",
   "metadata": {},
   "outputs": [
    {
     "data": {
      "text/plain": [
       "array([[ 0.58657545],\n",
       "       [ 0.5681525 ],\n",
       "       [ 0.7011547 ],\n",
       "       ...,\n",
       "       [23.590117  ],\n",
       "       [21.38147   ],\n",
       "       [20.632826  ]], dtype=float32)"
      ]
     },
     "execution_count": 281,
     "metadata": {},
     "output_type": "execute_result"
    },
    {
     "data": {
      "application/javascript": [
       "\n",
       "            setTimeout(function() {\n",
       "                var nbb_cell_id = 281;\n",
       "                var nbb_unformatted_code = \"encode_train\";\n",
       "                var nbb_formatted_code = \"encode_train\";\n",
       "                var nbb_cells = Jupyter.notebook.get_cells();\n",
       "                for (var i = 0; i < nbb_cells.length; ++i) {\n",
       "                    if (nbb_cells[i].input_prompt_number == nbb_cell_id) {\n",
       "                        if (nbb_cells[i].get_text() == nbb_unformatted_code) {\n",
       "                             nbb_cells[i].set_text(nbb_formatted_code);\n",
       "                        }\n",
       "                        break;\n",
       "                    }\n",
       "                }\n",
       "            }, 500);\n",
       "            "
      ],
      "text/plain": [
       "<IPython.core.display.Javascript object>"
      ]
     },
     "metadata": {},
     "output_type": "display_data"
    }
   ],
   "source": [
    "encode_train"
   ]
  },
  {
   "cell_type": "code",
   "execution_count": 234,
   "id": "16288109",
   "metadata": {},
   "outputs": [
    {
     "data": {
      "text/plain": [
       "(2278634, 1)"
      ]
     },
     "execution_count": 234,
     "metadata": {},
     "output_type": "execute_result"
    },
    {
     "data": {
      "application/javascript": [
       "\n",
       "            setTimeout(function() {\n",
       "                var nbb_cell_id = 234;\n",
       "                var nbb_unformatted_code = \"encode_train.shape\";\n",
       "                var nbb_formatted_code = \"encode_train.shape\";\n",
       "                var nbb_cells = Jupyter.notebook.get_cells();\n",
       "                for (var i = 0; i < nbb_cells.length; ++i) {\n",
       "                    if (nbb_cells[i].input_prompt_number == nbb_cell_id) {\n",
       "                        if (nbb_cells[i].get_text() == nbb_unformatted_code) {\n",
       "                             nbb_cells[i].set_text(nbb_formatted_code);\n",
       "                        }\n",
       "                        break;\n",
       "                    }\n",
       "                }\n",
       "            }, 500);\n",
       "            "
      ],
      "text/plain": [
       "<IPython.core.display.Javascript object>"
      ]
     },
     "metadata": {},
     "output_type": "display_data"
    }
   ],
   "source": [
    "encode_train.shape"
   ]
  },
  {
   "cell_type": "code",
   "execution_count": 282,
   "id": "757fa5c1",
   "metadata": {},
   "outputs": [
    {
     "data": {
      "application/javascript": [
       "\n",
       "            setTimeout(function() {\n",
       "                var nbb_cell_id = 282;\n",
       "                var nbb_unformatted_code = \"trk_train[\\\"auto_1\\\"] = encode_train\";\n",
       "                var nbb_formatted_code = \"trk_train[\\\"auto_1\\\"] = encode_train\";\n",
       "                var nbb_cells = Jupyter.notebook.get_cells();\n",
       "                for (var i = 0; i < nbb_cells.length; ++i) {\n",
       "                    if (nbb_cells[i].input_prompt_number == nbb_cell_id) {\n",
       "                        if (nbb_cells[i].get_text() == nbb_unformatted_code) {\n",
       "                             nbb_cells[i].set_text(nbb_formatted_code);\n",
       "                        }\n",
       "                        break;\n",
       "                    }\n",
       "                }\n",
       "            }, 500);\n",
       "            "
      ],
      "text/plain": [
       "<IPython.core.display.Javascript object>"
      ]
     },
     "metadata": {},
     "output_type": "display_data"
    }
   ],
   "source": [
    "trk_train[\"auto_1\"] = encode_train"
   ]
  },
  {
   "cell_type": "code",
   "execution_count": 283,
   "id": "14be2589",
   "metadata": {},
   "outputs": [
    {
     "data": {
      "text/html": [
       "<div>\n",
       "<style scoped>\n",
       "    .dataframe tbody tr th:only-of-type {\n",
       "        vertical-align: middle;\n",
       "    }\n",
       "\n",
       "    .dataframe tbody tr th {\n",
       "        vertical-align: top;\n",
       "    }\n",
       "\n",
       "    .dataframe thead th {\n",
       "        text-align: right;\n",
       "    }\n",
       "</style>\n",
       "<table border=\"1\" class=\"dataframe\">\n",
       "  <thead>\n",
       "    <tr style=\"text-align: right;\">\n",
       "      <th></th>\n",
       "      <th>event_number</th>\n",
       "      <th>track_number</th>\n",
       "      <th>trk_pt</th>\n",
       "      <th>trk_eta</th>\n",
       "      <th>trk_phi</th>\n",
       "      <th>trk_d0</th>\n",
       "      <th>trk_z0</th>\n",
       "      <th>trk_fake</th>\n",
       "      <th>is_pv</th>\n",
       "      <th>pca_1</th>\n",
       "      <th>auto_1</th>\n",
       "    </tr>\n",
       "  </thead>\n",
       "  <tbody>\n",
       "    <tr>\n",
       "      <th>159</th>\n",
       "      <td>1</td>\n",
       "      <td>0</td>\n",
       "      <td>2.085667</td>\n",
       "      <td>0.266370</td>\n",
       "      <td>-0.245917</td>\n",
       "      <td>999.0</td>\n",
       "      <td>-2.578125</td>\n",
       "      <td>2</td>\n",
       "      <td>0</td>\n",
       "      <td>-2.578088</td>\n",
       "      <td>0.586575</td>\n",
       "    </tr>\n",
       "    <tr>\n",
       "      <th>160</th>\n",
       "      <td>1</td>\n",
       "      <td>1</td>\n",
       "      <td>3.187484</td>\n",
       "      <td>0.757485</td>\n",
       "      <td>-0.190312</td>\n",
       "      <td>999.0</td>\n",
       "      <td>2.812500</td>\n",
       "      <td>2</td>\n",
       "      <td>0</td>\n",
       "      <td>2.810160</td>\n",
       "      <td>0.568152</td>\n",
       "    </tr>\n",
       "    <tr>\n",
       "      <th>161</th>\n",
       "      <td>1</td>\n",
       "      <td>2</td>\n",
       "      <td>2.119512</td>\n",
       "      <td>-0.136296</td>\n",
       "      <td>-0.057751</td>\n",
       "      <td>999.0</td>\n",
       "      <td>-4.042969</td>\n",
       "      <td>2</td>\n",
       "      <td>0</td>\n",
       "      <td>-4.041079</td>\n",
       "      <td>0.701155</td>\n",
       "    </tr>\n",
       "    <tr>\n",
       "      <th>162</th>\n",
       "      <td>1</td>\n",
       "      <td>3</td>\n",
       "      <td>4.098193</td>\n",
       "      <td>0.348379</td>\n",
       "      <td>-0.048535</td>\n",
       "      <td>999.0</td>\n",
       "      <td>-0.410156</td>\n",
       "      <td>2</td>\n",
       "      <td>0</td>\n",
       "      <td>-0.410582</td>\n",
       "      <td>0.582385</td>\n",
       "    </tr>\n",
       "    <tr>\n",
       "      <th>163</th>\n",
       "      <td>1</td>\n",
       "      <td>4</td>\n",
       "      <td>2.350128</td>\n",
       "      <td>0.005859</td>\n",
       "      <td>-0.134058</td>\n",
       "      <td>999.0</td>\n",
       "      <td>-4.218750</td>\n",
       "      <td>2</td>\n",
       "      <td>0</td>\n",
       "      <td>-4.217504</td>\n",
       "      <td>0.594477</td>\n",
       "    </tr>\n",
       "    <tr>\n",
       "      <th>...</th>\n",
       "      <td>...</td>\n",
       "      <td>...</td>\n",
       "      <td>...</td>\n",
       "      <td>...</td>\n",
       "      <td>...</td>\n",
       "      <td>...</td>\n",
       "      <td>...</td>\n",
       "      <td>...</td>\n",
       "      <td>...</td>\n",
       "      <td>...</td>\n",
       "      <td>...</td>\n",
       "    </tr>\n",
       "    <tr>\n",
       "      <th>4562332</th>\n",
       "      <td>24998</td>\n",
       "      <td>185</td>\n",
       "      <td>4.531431</td>\n",
       "      <td>0.222762</td>\n",
       "      <td>-0.767229</td>\n",
       "      <td>999.0</td>\n",
       "      <td>-4.218750</td>\n",
       "      <td>1</td>\n",
       "      <td>1</td>\n",
       "      <td>-4.218348</td>\n",
       "      <td>0.588268</td>\n",
       "    </tr>\n",
       "    <tr>\n",
       "      <th>4562333</th>\n",
       "      <td>24998</td>\n",
       "      <td>186</td>\n",
       "      <td>2.781760</td>\n",
       "      <td>0.172964</td>\n",
       "      <td>-0.681181</td>\n",
       "      <td>999.0</td>\n",
       "      <td>-5.273438</td>\n",
       "      <td>1</td>\n",
       "      <td>1</td>\n",
       "      <td>-5.272814</td>\n",
       "      <td>0.589564</td>\n",
       "    </tr>\n",
       "    <tr>\n",
       "      <th>4562334</th>\n",
       "      <td>24998</td>\n",
       "      <td>187</td>\n",
       "      <td>1.970887</td>\n",
       "      <td>-2.213576</td>\n",
       "      <td>-1.162888</td>\n",
       "      <td>999.0</td>\n",
       "      <td>4.218750</td>\n",
       "      <td>2</td>\n",
       "      <td>0</td>\n",
       "      <td>4.230592</td>\n",
       "      <td>23.590117</td>\n",
       "    </tr>\n",
       "    <tr>\n",
       "      <th>4562335</th>\n",
       "      <td>24998</td>\n",
       "      <td>188</td>\n",
       "      <td>1.956645</td>\n",
       "      <td>-2.179688</td>\n",
       "      <td>-0.977764</td>\n",
       "      <td>999.0</td>\n",
       "      <td>11.894531</td>\n",
       "      <td>2</td>\n",
       "      <td>0</td>\n",
       "      <td>11.906079</td>\n",
       "      <td>21.381470</td>\n",
       "    </tr>\n",
       "    <tr>\n",
       "      <th>4562336</th>\n",
       "      <td>24998</td>\n",
       "      <td>189</td>\n",
       "      <td>2.041936</td>\n",
       "      <td>-2.345230</td>\n",
       "      <td>-0.523041</td>\n",
       "      <td>999.0</td>\n",
       "      <td>-5.332031</td>\n",
       "      <td>2</td>\n",
       "      <td>0</td>\n",
       "      <td>-5.319642</td>\n",
       "      <td>20.632826</td>\n",
       "    </tr>\n",
       "  </tbody>\n",
       "</table>\n",
       "<p>2278634 rows × 11 columns</p>\n",
       "</div>"
      ],
      "text/plain": [
       "         event_number  track_number    trk_pt   trk_eta   trk_phi  trk_d0  \\\n",
       "159                 1             0  2.085667  0.266370 -0.245917   999.0   \n",
       "160                 1             1  3.187484  0.757485 -0.190312   999.0   \n",
       "161                 1             2  2.119512 -0.136296 -0.057751   999.0   \n",
       "162                 1             3  4.098193  0.348379 -0.048535   999.0   \n",
       "163                 1             4  2.350128  0.005859 -0.134058   999.0   \n",
       "...               ...           ...       ...       ...       ...     ...   \n",
       "4562332         24998           185  4.531431  0.222762 -0.767229   999.0   \n",
       "4562333         24998           186  2.781760  0.172964 -0.681181   999.0   \n",
       "4562334         24998           187  1.970887 -2.213576 -1.162888   999.0   \n",
       "4562335         24998           188  1.956645 -2.179688 -0.977764   999.0   \n",
       "4562336         24998           189  2.041936 -2.345230 -0.523041   999.0   \n",
       "\n",
       "            trk_z0  trk_fake  is_pv      pca_1     auto_1  \n",
       "159      -2.578125         2      0  -2.578088   0.586575  \n",
       "160       2.812500         2      0   2.810160   0.568152  \n",
       "161      -4.042969         2      0  -4.041079   0.701155  \n",
       "162      -0.410156         2      0  -0.410582   0.582385  \n",
       "163      -4.218750         2      0  -4.217504   0.594477  \n",
       "...            ...       ...    ...        ...        ...  \n",
       "4562332  -4.218750         1      1  -4.218348   0.588268  \n",
       "4562333  -5.273438         1      1  -5.272814   0.589564  \n",
       "4562334   4.218750         2      0   4.230592  23.590117  \n",
       "4562335  11.894531         2      0  11.906079  21.381470  \n",
       "4562336  -5.332031         2      0  -5.319642  20.632826  \n",
       "\n",
       "[2278634 rows x 11 columns]"
      ]
     },
     "execution_count": 283,
     "metadata": {},
     "output_type": "execute_result"
    },
    {
     "data": {
      "application/javascript": [
       "\n",
       "            setTimeout(function() {\n",
       "                var nbb_cell_id = 283;\n",
       "                var nbb_unformatted_code = \"trk_train\";\n",
       "                var nbb_formatted_code = \"trk_train\";\n",
       "                var nbb_cells = Jupyter.notebook.get_cells();\n",
       "                for (var i = 0; i < nbb_cells.length; ++i) {\n",
       "                    if (nbb_cells[i].input_prompt_number == nbb_cell_id) {\n",
       "                        if (nbb_cells[i].get_text() == nbb_unformatted_code) {\n",
       "                             nbb_cells[i].set_text(nbb_formatted_code);\n",
       "                        }\n",
       "                        break;\n",
       "                    }\n",
       "                }\n",
       "            }, 500);\n",
       "            "
      ],
      "text/plain": [
       "<IPython.core.display.Javascript object>"
      ]
     },
     "metadata": {},
     "output_type": "display_data"
    }
   ],
   "source": [
    "trk_train"
   ]
  },
  {
   "cell_type": "code",
   "execution_count": 284,
   "id": "5f12c786",
   "metadata": {},
   "outputs": [
    {
     "data": {
      "text/html": [
       "<div>\n",
       "<style scoped>\n",
       "    .dataframe tbody tr th:only-of-type {\n",
       "        vertical-align: middle;\n",
       "    }\n",
       "\n",
       "    .dataframe tbody tr th {\n",
       "        vertical-align: top;\n",
       "    }\n",
       "\n",
       "    .dataframe thead th {\n",
       "        text-align: right;\n",
       "    }\n",
       "</style>\n",
       "<table border=\"1\" class=\"dataframe\">\n",
       "  <thead>\n",
       "    <tr style=\"text-align: right;\">\n",
       "      <th></th>\n",
       "      <th>event_number</th>\n",
       "      <th>track_number</th>\n",
       "      <th>trk_pt</th>\n",
       "      <th>trk_eta</th>\n",
       "      <th>trk_phi</th>\n",
       "      <th>trk_d0</th>\n",
       "      <th>trk_z0</th>\n",
       "      <th>trk_fake</th>\n",
       "      <th>is_pv</th>\n",
       "      <th>pca_1</th>\n",
       "      <th>auto_1</th>\n",
       "    </tr>\n",
       "  </thead>\n",
       "  <tbody>\n",
       "    <tr>\n",
       "      <th>159</th>\n",
       "      <td>1</td>\n",
       "      <td>0</td>\n",
       "      <td>2.085667</td>\n",
       "      <td>0.266370</td>\n",
       "      <td>-0.245917</td>\n",
       "      <td>999.0</td>\n",
       "      <td>-2.578125</td>\n",
       "      <td>2</td>\n",
       "      <td>0</td>\n",
       "      <td>-2.578088</td>\n",
       "      <td>0.586575</td>\n",
       "    </tr>\n",
       "    <tr>\n",
       "      <th>160</th>\n",
       "      <td>1</td>\n",
       "      <td>1</td>\n",
       "      <td>3.187484</td>\n",
       "      <td>0.757485</td>\n",
       "      <td>-0.190312</td>\n",
       "      <td>999.0</td>\n",
       "      <td>2.812500</td>\n",
       "      <td>2</td>\n",
       "      <td>0</td>\n",
       "      <td>2.810160</td>\n",
       "      <td>0.568152</td>\n",
       "    </tr>\n",
       "    <tr>\n",
       "      <th>161</th>\n",
       "      <td>1</td>\n",
       "      <td>2</td>\n",
       "      <td>2.119512</td>\n",
       "      <td>-0.136296</td>\n",
       "      <td>-0.057751</td>\n",
       "      <td>999.0</td>\n",
       "      <td>-4.042969</td>\n",
       "      <td>2</td>\n",
       "      <td>0</td>\n",
       "      <td>-4.041079</td>\n",
       "      <td>0.701155</td>\n",
       "    </tr>\n",
       "    <tr>\n",
       "      <th>162</th>\n",
       "      <td>1</td>\n",
       "      <td>3</td>\n",
       "      <td>4.098193</td>\n",
       "      <td>0.348379</td>\n",
       "      <td>-0.048535</td>\n",
       "      <td>999.0</td>\n",
       "      <td>-0.410156</td>\n",
       "      <td>2</td>\n",
       "      <td>0</td>\n",
       "      <td>-0.410582</td>\n",
       "      <td>0.582385</td>\n",
       "    </tr>\n",
       "    <tr>\n",
       "      <th>163</th>\n",
       "      <td>1</td>\n",
       "      <td>4</td>\n",
       "      <td>2.350128</td>\n",
       "      <td>0.005859</td>\n",
       "      <td>-0.134058</td>\n",
       "      <td>999.0</td>\n",
       "      <td>-4.218750</td>\n",
       "      <td>2</td>\n",
       "      <td>0</td>\n",
       "      <td>-4.217504</td>\n",
       "      <td>0.594477</td>\n",
       "    </tr>\n",
       "    <tr>\n",
       "      <th>...</th>\n",
       "      <td>...</td>\n",
       "      <td>...</td>\n",
       "      <td>...</td>\n",
       "      <td>...</td>\n",
       "      <td>...</td>\n",
       "      <td>...</td>\n",
       "      <td>...</td>\n",
       "      <td>...</td>\n",
       "      <td>...</td>\n",
       "      <td>...</td>\n",
       "      <td>...</td>\n",
       "    </tr>\n",
       "    <tr>\n",
       "      <th>4562332</th>\n",
       "      <td>24998</td>\n",
       "      <td>185</td>\n",
       "      <td>4.531431</td>\n",
       "      <td>0.222762</td>\n",
       "      <td>-0.767229</td>\n",
       "      <td>999.0</td>\n",
       "      <td>-4.218750</td>\n",
       "      <td>1</td>\n",
       "      <td>1</td>\n",
       "      <td>-4.218348</td>\n",
       "      <td>0.588268</td>\n",
       "    </tr>\n",
       "    <tr>\n",
       "      <th>4562333</th>\n",
       "      <td>24998</td>\n",
       "      <td>186</td>\n",
       "      <td>2.781760</td>\n",
       "      <td>0.172964</td>\n",
       "      <td>-0.681181</td>\n",
       "      <td>999.0</td>\n",
       "      <td>-5.273438</td>\n",
       "      <td>1</td>\n",
       "      <td>1</td>\n",
       "      <td>-5.272814</td>\n",
       "      <td>0.589564</td>\n",
       "    </tr>\n",
       "    <tr>\n",
       "      <th>4562334</th>\n",
       "      <td>24998</td>\n",
       "      <td>187</td>\n",
       "      <td>1.970887</td>\n",
       "      <td>-2.213576</td>\n",
       "      <td>-1.162888</td>\n",
       "      <td>999.0</td>\n",
       "      <td>4.218750</td>\n",
       "      <td>2</td>\n",
       "      <td>0</td>\n",
       "      <td>4.230592</td>\n",
       "      <td>23.590117</td>\n",
       "    </tr>\n",
       "    <tr>\n",
       "      <th>4562335</th>\n",
       "      <td>24998</td>\n",
       "      <td>188</td>\n",
       "      <td>1.956645</td>\n",
       "      <td>-2.179688</td>\n",
       "      <td>-0.977764</td>\n",
       "      <td>999.0</td>\n",
       "      <td>11.894531</td>\n",
       "      <td>2</td>\n",
       "      <td>0</td>\n",
       "      <td>11.906079</td>\n",
       "      <td>21.381470</td>\n",
       "    </tr>\n",
       "    <tr>\n",
       "      <th>4562336</th>\n",
       "      <td>24998</td>\n",
       "      <td>189</td>\n",
       "      <td>2.041936</td>\n",
       "      <td>-2.345230</td>\n",
       "      <td>-0.523041</td>\n",
       "      <td>999.0</td>\n",
       "      <td>-5.332031</td>\n",
       "      <td>2</td>\n",
       "      <td>0</td>\n",
       "      <td>-5.319642</td>\n",
       "      <td>20.632826</td>\n",
       "    </tr>\n",
       "  </tbody>\n",
       "</table>\n",
       "<p>2278634 rows × 11 columns</p>\n",
       "</div>"
      ],
      "text/plain": [
       "         event_number  track_number    trk_pt   trk_eta   trk_phi  trk_d0  \\\n",
       "159                 1             0  2.085667  0.266370 -0.245917   999.0   \n",
       "160                 1             1  3.187484  0.757485 -0.190312   999.0   \n",
       "161                 1             2  2.119512 -0.136296 -0.057751   999.0   \n",
       "162                 1             3  4.098193  0.348379 -0.048535   999.0   \n",
       "163                 1             4  2.350128  0.005859 -0.134058   999.0   \n",
       "...               ...           ...       ...       ...       ...     ...   \n",
       "4562332         24998           185  4.531431  0.222762 -0.767229   999.0   \n",
       "4562333         24998           186  2.781760  0.172964 -0.681181   999.0   \n",
       "4562334         24998           187  1.970887 -2.213576 -1.162888   999.0   \n",
       "4562335         24998           188  1.956645 -2.179688 -0.977764   999.0   \n",
       "4562336         24998           189  2.041936 -2.345230 -0.523041   999.0   \n",
       "\n",
       "            trk_z0  trk_fake  is_pv      pca_1     auto_1  \n",
       "159      -2.578125         2      0  -2.578088   0.586575  \n",
       "160       2.812500         2      0   2.810160   0.568152  \n",
       "161      -4.042969         2      0  -4.041079   0.701155  \n",
       "162      -0.410156         2      0  -0.410582   0.582385  \n",
       "163      -4.218750         2      0  -4.217504   0.594477  \n",
       "...            ...       ...    ...        ...        ...  \n",
       "4562332  -4.218750         1      1  -4.218348   0.588268  \n",
       "4562333  -5.273438         1      1  -5.272814   0.589564  \n",
       "4562334   4.218750         2      0   4.230592  23.590117  \n",
       "4562335  11.894531         2      0  11.906079  21.381470  \n",
       "4562336  -5.332031         2      0  -5.319642  20.632826  \n",
       "\n",
       "[2278634 rows x 11 columns]"
      ]
     },
     "execution_count": 284,
     "metadata": {},
     "output_type": "execute_result"
    },
    {
     "data": {
      "application/javascript": [
       "\n",
       "            setTimeout(function() {\n",
       "                var nbb_cell_id = 284;\n",
       "                var nbb_unformatted_code = \"trk_train\";\n",
       "                var nbb_formatted_code = \"trk_train\";\n",
       "                var nbb_cells = Jupyter.notebook.get_cells();\n",
       "                for (var i = 0; i < nbb_cells.length; ++i) {\n",
       "                    if (nbb_cells[i].input_prompt_number == nbb_cell_id) {\n",
       "                        if (nbb_cells[i].get_text() == nbb_unformatted_code) {\n",
       "                             nbb_cells[i].set_text(nbb_formatted_code);\n",
       "                        }\n",
       "                        break;\n",
       "                    }\n",
       "                }\n",
       "            }, 500);\n",
       "            "
      ],
      "text/plain": [
       "<IPython.core.display.Javascript object>"
      ]
     },
     "metadata": {},
     "output_type": "display_data"
    }
   ],
   "source": [
    "trk_train"
   ]
  },
  {
   "cell_type": "code",
   "execution_count": 285,
   "id": "f22520fc",
   "metadata": {},
   "outputs": [
    {
     "name": "stderr",
     "output_type": "stream",
     "text": [
      "100%|████████████████████████████████████████████████████████████████████████████████████████████| 12500/12500 [02:53<00:00, 71.93it/s]\n"
     ]
    },
    {
     "data": {
      "application/javascript": [
       "\n",
       "            setTimeout(function() {\n",
       "                var nbb_cell_id = 285;\n",
       "                var nbb_unformatted_code = \"count = 0\\npv_z0s_auto = []\\nfor i in tqdm(train_event_number):\\n    _df = trk_train.loc[trk_train.event_number == i]\\n\\n    pv_z0 = db_fit(\\n        _df[\\\"auto_1\\\"].values, _df[\\\"trk_z0\\\"].values, _df[\\\"trk_pt\\\"].values, eps=0.1\\n    )\\n    \\n    pv_z0s_auto.append(pv_z0)\";\n",
       "                var nbb_formatted_code = \"count = 0\\npv_z0s_auto = []\\nfor i in tqdm(train_event_number):\\n    _df = trk_train.loc[trk_train.event_number == i]\\n\\n    pv_z0 = db_fit(\\n        _df[\\\"auto_1\\\"].values, _df[\\\"trk_z0\\\"].values, _df[\\\"trk_pt\\\"].values, eps=0.1\\n    )\\n\\n    pv_z0s_auto.append(pv_z0)\";\n",
       "                var nbb_cells = Jupyter.notebook.get_cells();\n",
       "                for (var i = 0; i < nbb_cells.length; ++i) {\n",
       "                    if (nbb_cells[i].input_prompt_number == nbb_cell_id) {\n",
       "                        if (nbb_cells[i].get_text() == nbb_unformatted_code) {\n",
       "                             nbb_cells[i].set_text(nbb_formatted_code);\n",
       "                        }\n",
       "                        break;\n",
       "                    }\n",
       "                }\n",
       "            }, 500);\n",
       "            "
      ],
      "text/plain": [
       "<IPython.core.display.Javascript object>"
      ]
     },
     "metadata": {},
     "output_type": "display_data"
    }
   ],
   "source": [
    "count = 0\n",
    "pv_z0s_auto = []\n",
    "for i in tqdm(train_event_number):\n",
    "    _df = trk_train.loc[trk_train.event_number == i]\n",
    "\n",
    "    pv_z0 = db_fit(\n",
    "        _df[\"auto_1\"].values, _df[\"trk_z0\"].values, _df[\"trk_pt\"].values, eps=0.1\n",
    "    )\n",
    "    \n",
    "    pv_z0s_auto.append(pv_z0)\n"
   ]
  },
  {
   "cell_type": "code",
   "execution_count": 287,
   "id": "da6d6011",
   "metadata": {},
   "outputs": [
    {
     "data": {
      "application/javascript": [
       "\n",
       "            setTimeout(function() {\n",
       "                var nbb_cell_id = 287;\n",
       "                var nbb_unformatted_code = \"results_train['auto'] = pv_z0s_auto\";\n",
       "                var nbb_formatted_code = \"results_train[\\\"auto\\\"] = pv_z0s_auto\";\n",
       "                var nbb_cells = Jupyter.notebook.get_cells();\n",
       "                for (var i = 0; i < nbb_cells.length; ++i) {\n",
       "                    if (nbb_cells[i].input_prompt_number == nbb_cell_id) {\n",
       "                        if (nbb_cells[i].get_text() == nbb_unformatted_code) {\n",
       "                             nbb_cells[i].set_text(nbb_formatted_code);\n",
       "                        }\n",
       "                        break;\n",
       "                    }\n",
       "                }\n",
       "            }, 500);\n",
       "            "
      ],
      "text/plain": [
       "<IPython.core.display.Javascript object>"
      ]
     },
     "metadata": {},
     "output_type": "display_data"
    }
   ],
   "source": [
    "results_train[\"auto\"] = pv_z0s_auto"
   ]
  },
  {
   "cell_type": "code",
   "execution_count": 288,
   "id": "08f1ecd3",
   "metadata": {},
   "outputs": [
    {
     "data": {
      "text/html": [
       "<div>\n",
       "<style scoped>\n",
       "    .dataframe tbody tr th:only-of-type {\n",
       "        vertical-align: middle;\n",
       "    }\n",
       "\n",
       "    .dataframe tbody tr th {\n",
       "        vertical-align: top;\n",
       "    }\n",
       "\n",
       "    .dataframe thead th {\n",
       "        text-align: right;\n",
       "    }\n",
       "</style>\n",
       "<table border=\"1\" class=\"dataframe\">\n",
       "  <thead>\n",
       "    <tr style=\"text-align: right;\">\n",
       "      <th></th>\n",
       "      <th>mc</th>\n",
       "      <th>db</th>\n",
       "      <th>diff</th>\n",
       "      <th>reco</th>\n",
       "      <th>auto</th>\n",
       "    </tr>\n",
       "  </thead>\n",
       "  <tbody>\n",
       "    <tr>\n",
       "      <th>1</th>\n",
       "      <td>-3.608661</td>\n",
       "      <td>-3.603516</td>\n",
       "      <td>0.005146</td>\n",
       "      <td>True</td>\n",
       "      <td>-1.933594</td>\n",
       "    </tr>\n",
       "    <tr>\n",
       "      <th>2</th>\n",
       "      <td>-0.261453</td>\n",
       "      <td>-0.175781</td>\n",
       "      <td>0.085672</td>\n",
       "      <td>True</td>\n",
       "      <td>0.146484</td>\n",
       "    </tr>\n",
       "    <tr>\n",
       "      <th>3</th>\n",
       "      <td>2.803285</td>\n",
       "      <td>2.753906</td>\n",
       "      <td>0.049379</td>\n",
       "      <td>True</td>\n",
       "      <td>-0.585938</td>\n",
       "    </tr>\n",
       "    <tr>\n",
       "      <th>7</th>\n",
       "      <td>-5.478010</td>\n",
       "      <td>-5.449219</td>\n",
       "      <td>0.028791</td>\n",
       "      <td>True</td>\n",
       "      <td>-0.410156</td>\n",
       "    </tr>\n",
       "    <tr>\n",
       "      <th>8</th>\n",
       "      <td>1.570426</td>\n",
       "      <td>1.582031</td>\n",
       "      <td>0.011605</td>\n",
       "      <td>True</td>\n",
       "      <td>1.435547</td>\n",
       "    </tr>\n",
       "    <tr>\n",
       "      <th>...</th>\n",
       "      <td>...</td>\n",
       "      <td>...</td>\n",
       "      <td>...</td>\n",
       "      <td>...</td>\n",
       "      <td>...</td>\n",
       "    </tr>\n",
       "    <tr>\n",
       "      <th>24988</th>\n",
       "      <td>2.274138</td>\n",
       "      <td>2.109375</td>\n",
       "      <td>0.164763</td>\n",
       "      <td>False</td>\n",
       "      <td>-1.054688</td>\n",
       "    </tr>\n",
       "    <tr>\n",
       "      <th>24989</th>\n",
       "      <td>-6.207245</td>\n",
       "      <td>-1.757812</td>\n",
       "      <td>4.449432</td>\n",
       "      <td>False</td>\n",
       "      <td>-1.113281</td>\n",
       "    </tr>\n",
       "    <tr>\n",
       "      <th>24991</th>\n",
       "      <td>-0.332746</td>\n",
       "      <td>-0.234375</td>\n",
       "      <td>0.098371</td>\n",
       "      <td>True</td>\n",
       "      <td>-0.351562</td>\n",
       "    </tr>\n",
       "    <tr>\n",
       "      <th>24994</th>\n",
       "      <td>1.495518</td>\n",
       "      <td>-0.937500</td>\n",
       "      <td>2.433018</td>\n",
       "      <td>False</td>\n",
       "      <td>-0.468750</td>\n",
       "    </tr>\n",
       "    <tr>\n",
       "      <th>24998</th>\n",
       "      <td>-4.748836</td>\n",
       "      <td>-4.804688</td>\n",
       "      <td>0.055852</td>\n",
       "      <td>True</td>\n",
       "      <td>-3.222656</td>\n",
       "    </tr>\n",
       "  </tbody>\n",
       "</table>\n",
       "<p>12500 rows × 5 columns</p>\n",
       "</div>"
      ],
      "text/plain": [
       "             mc        db      diff   reco      auto\n",
       "1     -3.608661 -3.603516  0.005146   True -1.933594\n",
       "2     -0.261453 -0.175781  0.085672   True  0.146484\n",
       "3      2.803285  2.753906  0.049379   True -0.585938\n",
       "7     -5.478010 -5.449219  0.028791   True -0.410156\n",
       "8      1.570426  1.582031  0.011605   True  1.435547\n",
       "...         ...       ...       ...    ...       ...\n",
       "24988  2.274138  2.109375  0.164763  False -1.054688\n",
       "24989 -6.207245 -1.757812  4.449432  False -1.113281\n",
       "24991 -0.332746 -0.234375  0.098371   True -0.351562\n",
       "24994  1.495518 -0.937500  2.433018  False -0.468750\n",
       "24998 -4.748836 -4.804688  0.055852   True -3.222656\n",
       "\n",
       "[12500 rows x 5 columns]"
      ]
     },
     "execution_count": 288,
     "metadata": {},
     "output_type": "execute_result"
    },
    {
     "data": {
      "application/javascript": [
       "\n",
       "            setTimeout(function() {\n",
       "                var nbb_cell_id = 288;\n",
       "                var nbb_unformatted_code = \"results_train\";\n",
       "                var nbb_formatted_code = \"results_train\";\n",
       "                var nbb_cells = Jupyter.notebook.get_cells();\n",
       "                for (var i = 0; i < nbb_cells.length; ++i) {\n",
       "                    if (nbb_cells[i].input_prompt_number == nbb_cell_id) {\n",
       "                        if (nbb_cells[i].get_text() == nbb_unformatted_code) {\n",
       "                             nbb_cells[i].set_text(nbb_formatted_code);\n",
       "                        }\n",
       "                        break;\n",
       "                    }\n",
       "                }\n",
       "            }, 500);\n",
       "            "
      ],
      "text/plain": [
       "<IPython.core.display.Javascript object>"
      ]
     },
     "metadata": {},
     "output_type": "display_data"
    }
   ],
   "source": [
    "results_train"
   ]
  },
  {
   "cell_type": "code",
   "execution_count": null,
   "id": "3a54243f",
   "metadata": {},
   "outputs": [],
   "source": []
  },
  {
   "cell_type": "markdown",
   "id": "283b5adb",
   "metadata": {},
   "source": [
    "# Sequence to Sequence Autoencoder"
   ]
  },
  {
   "cell_type": "code",
   "execution_count": 304,
   "id": "5ece9cac",
   "metadata": {},
   "outputs": [
    {
     "data": {
      "application/javascript": [
       "\n",
       "            setTimeout(function() {\n",
       "                var nbb_cell_id = 304;\n",
       "                var nbb_unformatted_code = \"from keras.models import Sequential\\nfrom keras.layers import LSTM\\nfrom keras.layers import Dense\\nfrom keras.layers import RepeatVector\\nfrom keras.layers import TimeDistributed\\nfrom keras.utils import plot_model\";\n",
       "                var nbb_formatted_code = \"from keras.models import Sequential\\nfrom keras.layers import LSTM\\nfrom keras.layers import Dense\\nfrom keras.layers import RepeatVector\\nfrom keras.layers import TimeDistributed\\nfrom keras.utils import plot_model\";\n",
       "                var nbb_cells = Jupyter.notebook.get_cells();\n",
       "                for (var i = 0; i < nbb_cells.length; ++i) {\n",
       "                    if (nbb_cells[i].input_prompt_number == nbb_cell_id) {\n",
       "                        if (nbb_cells[i].get_text() == nbb_unformatted_code) {\n",
       "                             nbb_cells[i].set_text(nbb_formatted_code);\n",
       "                        }\n",
       "                        break;\n",
       "                    }\n",
       "                }\n",
       "            }, 500);\n",
       "            "
      ],
      "text/plain": [
       "<IPython.core.display.Javascript object>"
      ]
     },
     "metadata": {},
     "output_type": "display_data"
    }
   ],
   "source": [
    "from keras.models import Sequential\n",
    "from keras.layers import LSTM\n",
    "from keras.layers import Dense\n",
    "from keras.layers import RepeatVector\n",
    "from keras.layers import TimeDistributed\n",
    "from keras.utils import plot_model"
   ]
  },
  {
   "cell_type": "code",
   "execution_count": 295,
   "id": "971b5f4a",
   "metadata": {},
   "outputs": [
    {
     "data": {
      "application/javascript": [
       "\n",
       "            setTimeout(function() {\n",
       "                var nbb_cell_id = 295;\n",
       "                var nbb_unformatted_code = \"e0 = trk_train.loc[trk_train.event_number == 1, 'trk_z0']\";\n",
       "                var nbb_formatted_code = \"e0 = trk_train.loc[trk_train.event_number == 1, \\\"trk_z0\\\"]\";\n",
       "                var nbb_cells = Jupyter.notebook.get_cells();\n",
       "                for (var i = 0; i < nbb_cells.length; ++i) {\n",
       "                    if (nbb_cells[i].input_prompt_number == nbb_cell_id) {\n",
       "                        if (nbb_cells[i].get_text() == nbb_unformatted_code) {\n",
       "                             nbb_cells[i].set_text(nbb_formatted_code);\n",
       "                        }\n",
       "                        break;\n",
       "                    }\n",
       "                }\n",
       "            }, 500);\n",
       "            "
      ],
      "text/plain": [
       "<IPython.core.display.Javascript object>"
      ]
     },
     "metadata": {},
     "output_type": "display_data"
    }
   ],
   "source": [
    "e0 = trk_train.loc[trk_train.event_number == 1, \"trk_z0\"]"
   ]
  },
  {
   "cell_type": "code",
   "execution_count": 300,
   "id": "954cca43",
   "metadata": {},
   "outputs": [
    {
     "data": {
      "application/javascript": [
       "\n",
       "            setTimeout(function() {\n",
       "                var nbb_cell_id = 300;\n",
       "                var nbb_unformatted_code = \"e0 = np.append(e0, 21 * np.ones(250 - e0.shape[0]))\";\n",
       "                var nbb_formatted_code = \"e0 = np.append(e0, 21 * np.ones(250 - e0.shape[0]))\";\n",
       "                var nbb_cells = Jupyter.notebook.get_cells();\n",
       "                for (var i = 0; i < nbb_cells.length; ++i) {\n",
       "                    if (nbb_cells[i].input_prompt_number == nbb_cell_id) {\n",
       "                        if (nbb_cells[i].get_text() == nbb_unformatted_code) {\n",
       "                             nbb_cells[i].set_text(nbb_formatted_code);\n",
       "                        }\n",
       "                        break;\n",
       "                    }\n",
       "                }\n",
       "            }, 500);\n",
       "            "
      ],
      "text/plain": [
       "<IPython.core.display.Javascript object>"
      ]
     },
     "metadata": {},
     "output_type": "display_data"
    }
   ],
   "source": [
    "e0 = np.append(e0, 21 * np.ones(250 - e0.shape[0]))"
   ]
  },
  {
   "cell_type": "code",
   "execution_count": 302,
   "id": "fd433275",
   "metadata": {},
   "outputs": [
    {
     "data": {
      "application/javascript": [
       "\n",
       "            setTimeout(function() {\n",
       "                var nbb_cell_id = 302;\n",
       "                var nbb_unformatted_code = \"seq_in = e0.reshape((1, 250, 1))\";\n",
       "                var nbb_formatted_code = \"seq_in = e0.reshape((1, 250, 1))\";\n",
       "                var nbb_cells = Jupyter.notebook.get_cells();\n",
       "                for (var i = 0; i < nbb_cells.length; ++i) {\n",
       "                    if (nbb_cells[i].input_prompt_number == nbb_cell_id) {\n",
       "                        if (nbb_cells[i].get_text() == nbb_unformatted_code) {\n",
       "                             nbb_cells[i].set_text(nbb_formatted_code);\n",
       "                        }\n",
       "                        break;\n",
       "                    }\n",
       "                }\n",
       "            }, 500);\n",
       "            "
      ],
      "text/plain": [
       "<IPython.core.display.Javascript object>"
      ]
     },
     "metadata": {},
     "output_type": "display_data"
    }
   ],
   "source": [
    "seq_in = e0.reshape((1, 250, 1))"
   ]
  },
  {
   "cell_type": "code",
   "execution_count": 303,
   "id": "40f22665",
   "metadata": {},
   "outputs": [
    {
     "data": {
      "application/javascript": [
       "\n",
       "            setTimeout(function() {\n",
       "                var nbb_cell_id = 303;\n",
       "                var nbb_unformatted_code = \"seq_out = seq_in\";\n",
       "                var nbb_formatted_code = \"seq_out = seq_in\";\n",
       "                var nbb_cells = Jupyter.notebook.get_cells();\n",
       "                for (var i = 0; i < nbb_cells.length; ++i) {\n",
       "                    if (nbb_cells[i].input_prompt_number == nbb_cell_id) {\n",
       "                        if (nbb_cells[i].get_text() == nbb_unformatted_code) {\n",
       "                             nbb_cells[i].set_text(nbb_formatted_code);\n",
       "                        }\n",
       "                        break;\n",
       "                    }\n",
       "                }\n",
       "            }, 500);\n",
       "            "
      ],
      "text/plain": [
       "<IPython.core.display.Javascript object>"
      ]
     },
     "metadata": {},
     "output_type": "display_data"
    }
   ],
   "source": [
    "seq_out = seq_in"
   ]
  },
  {
   "cell_type": "code",
   "execution_count": null,
   "id": "726c669b",
   "metadata": {},
   "outputs": [],
   "source": [
    "\n",
    "model = Sequential()\n",
    "model.add(LSTM(100, activation='relu', input_shape=(250, 1)))\n",
    "model.add(RepeatVector(250))\n",
    "model.add(TimeDistributed(den))"
   ]
  }
 ],
 "metadata": {
  "kernelspec": {
   "display_name": "db",
   "language": "python",
   "name": "db"
  },
  "language_info": {
   "codemirror_mode": {
    "name": "ipython",
    "version": 3
   },
   "file_extension": ".py",
   "mimetype": "text/x-python",
   "name": "python",
   "nbconvert_exporter": "python",
   "pygments_lexer": "ipython3",
   "version": "3.9.13"
  }
 },
 "nbformat": 4,
 "nbformat_minor": 5
}
