{
 "cells": [
  {
   "cell_type": "code",
   "execution_count": 1,
   "id": "a375af40-ed7e-437d-a9f5-06147f52facf",
   "metadata": {},
   "outputs": [],
   "source": [
    "### Reloads modules properly\n",
    "%load_ext autoreload\n",
    "%autoreload 2\n",
    "%load_ext lab_black"
   ]
  },
  {
   "cell_type": "markdown",
   "id": "0fb0acdb-328d-45f6-be0c-595f3e74ec5a",
   "metadata": {},
   "source": [
    "# Batched DBSCAN with top $p_T$ tracks analysis"
   ]
  },
  {
   "cell_type": "markdown",
   "id": "5551fa2b-2913-4433-a8b7-cf0fd5e8901a",
   "metadata": {},
   "source": [
    "Initially we saw extremely positive results when we only kept the top 10 (or N) tracks in each batch. So lets see if there's any more information we can look at because this could be a promising avenue."
   ]
  },
  {
   "cell_type": "code",
   "execution_count": 2,
   "id": "0dd64b47-6d17-46e4-87fb-f4d39e7c35ee",
   "metadata": {},
   "outputs": [],
   "source": [
    "import pandas as pd\n",
    "import numpy as np\n",
    "import matplotlib.pyplot as plt\n",
    "import seaborn as sns\n",
    "from sklearn.cluster import DBSCAN\n",
    "from tqdm import tqdm"
   ]
  },
  {
   "cell_type": "code",
   "execution_count": 3,
   "id": "f2d68aae-26c3-45a2-8e65-751f8ae2a29c",
   "metadata": {},
   "outputs": [],
   "source": [
    "import mplhep as hep"
   ]
  },
  {
   "cell_type": "code",
   "execution_count": 4,
   "id": "a9de2973-ce11-4df5-8e6c-6d57c62cebcc",
   "metadata": {},
   "outputs": [],
   "source": [
    "hep.style.use(\"CMS\")"
   ]
  },
  {
   "cell_type": "code",
   "execution_count": 5,
   "id": "6322e66f-7327-4e9b-85a8-53e5f37397f9",
   "metadata": {},
   "outputs": [],
   "source": [
    "pd.set_option(\"display.max_columns\", None)\n",
    "pd.set_option(\"display.max_rows\", None)\n",
    "pd.set_option(\"display.precision\", 2)"
   ]
  },
  {
   "cell_type": "code",
   "execution_count": 6,
   "id": "0626d49b-890c-41d8-9d6f-18eceb674838",
   "metadata": {},
   "outputs": [],
   "source": [
    "mc_df = pd.read_pickle(\"/home/raichu/data/mc_25k.pkl\")\n",
    "trk_df = pd.read_pickle(\"/home/raichu/data/trk_processed_25k.pkl\")"
   ]
  },
  {
   "cell_type": "code",
   "execution_count": 7,
   "id": "f2117c20-81b1-465a-811f-a9b8c8846b1c",
   "metadata": {},
   "outputs": [],
   "source": [
    "trk_df = trk_df.reset_index()"
   ]
  },
  {
   "cell_type": "code",
   "execution_count": 8,
   "id": "c31d4995-968b-43f5-b304-1e8cf41e9bda",
   "metadata": {},
   "outputs": [],
   "source": [
    "mc_df = mc_df.reset_index()"
   ]
  },
  {
   "cell_type": "code",
   "execution_count": 11,
   "id": "153d2d70-d4e8-4e68-83aa-be4dd990be2a",
   "metadata": {},
   "outputs": [],
   "source": [
    "trk_df = trk_df.rename(columns={\"entry\": \"event_number\", \"subentry\": \"track_number\"})"
   ]
  },
  {
   "cell_type": "code",
   "execution_count": 13,
   "id": "023499d8-495b-4047-9a73-0599050cb17e",
   "metadata": {},
   "outputs": [],
   "source": [
    "mc_df = mc_df.rename(columns={\"entry\": \"event_number\", \"subentry\": \"track_number\"})"
   ]
  },
  {
   "cell_type": "code",
   "execution_count": 14,
   "id": "4ae876a3-bde8-4383-b4c3-6f51723e1586",
   "metadata": {},
   "outputs": [
    {
     "data": {
      "text/html": [
       "<div>\n",
       "<style scoped>\n",
       "    .dataframe tbody tr th:only-of-type {\n",
       "        vertical-align: middle;\n",
       "    }\n",
       "\n",
       "    .dataframe tbody tr th {\n",
       "        vertical-align: top;\n",
       "    }\n",
       "\n",
       "    .dataframe thead th {\n",
       "        text-align: right;\n",
       "    }\n",
       "</style>\n",
       "<table border=\"1\" class=\"dataframe\">\n",
       "  <thead>\n",
       "    <tr style=\"text-align: right;\">\n",
       "      <th></th>\n",
       "      <th>event_number</th>\n",
       "      <th>track_number</th>\n",
       "      <th>trk_pt</th>\n",
       "      <th>trk_eta</th>\n",
       "      <th>trk_phi</th>\n",
       "      <th>trk_d0</th>\n",
       "      <th>trk_z0</th>\n",
       "      <th>trk_fake</th>\n",
       "      <th>is_pv</th>\n",
       "    </tr>\n",
       "  </thead>\n",
       "  <tbody>\n",
       "    <tr>\n",
       "      <th>0</th>\n",
       "      <td>0</td>\n",
       "      <td>0</td>\n",
       "      <td>2.62</td>\n",
       "      <td>1.30</td>\n",
       "      <td>-0.29</td>\n",
       "      <td>999.0</td>\n",
       "      <td>-0.88</td>\n",
       "      <td>2</td>\n",
       "      <td>0</td>\n",
       "    </tr>\n",
       "    <tr>\n",
       "      <th>1</th>\n",
       "      <td>0</td>\n",
       "      <td>1</td>\n",
       "      <td>3.44</td>\n",
       "      <td>0.57</td>\n",
       "      <td>-0.16</td>\n",
       "      <td>999.0</td>\n",
       "      <td>3.34</td>\n",
       "      <td>2</td>\n",
       "      <td>0</td>\n",
       "    </tr>\n",
       "    <tr>\n",
       "      <th>2</th>\n",
       "      <td>0</td>\n",
       "      <td>2</td>\n",
       "      <td>3.77</td>\n",
       "      <td>1.82</td>\n",
       "      <td>-0.24</td>\n",
       "      <td>999.0</td>\n",
       "      <td>4.92</td>\n",
       "      <td>1</td>\n",
       "      <td>1</td>\n",
       "    </tr>\n",
       "    <tr>\n",
       "      <th>3</th>\n",
       "      <td>0</td>\n",
       "      <td>3</td>\n",
       "      <td>2.64</td>\n",
       "      <td>-1.44</td>\n",
       "      <td>-0.13</td>\n",
       "      <td>999.0</td>\n",
       "      <td>-0.47</td>\n",
       "      <td>2</td>\n",
       "      <td>0</td>\n",
       "    </tr>\n",
       "    <tr>\n",
       "      <th>4</th>\n",
       "      <td>0</td>\n",
       "      <td>4</td>\n",
       "      <td>2.32</td>\n",
       "      <td>1.84</td>\n",
       "      <td>0.03</td>\n",
       "      <td>999.0</td>\n",
       "      <td>4.98</td>\n",
       "      <td>1</td>\n",
       "      <td>1</td>\n",
       "    </tr>\n",
       "  </tbody>\n",
       "</table>\n",
       "</div>"
      ],
      "text/plain": [
       "   event_number  track_number  trk_pt  trk_eta  trk_phi  trk_d0  trk_z0  \\\n",
       "0             0             0    2.62     1.30    -0.29   999.0   -0.88   \n",
       "1             0             1    3.44     0.57    -0.16   999.0    3.34   \n",
       "2             0             2    3.77     1.82    -0.24   999.0    4.92   \n",
       "3             0             3    2.64    -1.44    -0.13   999.0   -0.47   \n",
       "4             0             4    2.32     1.84     0.03   999.0    4.98   \n",
       "\n",
       "   trk_fake  is_pv  \n",
       "0         2      0  \n",
       "1         2      0  \n",
       "2         1      1  \n",
       "3         2      0  \n",
       "4         1      1  "
      ]
     },
     "execution_count": 14,
     "metadata": {},
     "output_type": "execute_result"
    }
   ],
   "source": [
    "trk_df.head()"
   ]
  },
  {
   "cell_type": "code",
   "execution_count": null,
   "id": "6e8007d9-8257-4867-afd7-4de74d1e5221",
   "metadata": {},
   "outputs": [],
   "source": []
  },
  {
   "cell_type": "markdown",
   "id": "cc3ce55e-3f78-49a8-8dae-356a83f7a5c2",
   "metadata": {},
   "source": [
    "## Running the script"
   ]
  },
  {
   "cell_type": "code",
   "execution_count": 16,
   "id": "1c2cc481-3bf3-4e6b-975e-d8a561c02c90",
   "metadata": {},
   "outputs": [],
   "source": [
    "import sys\n",
    "\n",
    "sys.path.append(\"..\")"
   ]
  },
  {
   "cell_type": "code",
   "execution_count": 17,
   "id": "00add656-36d2-4be0-9c31-2c970b47ac5b",
   "metadata": {},
   "outputs": [],
   "source": [
    "from notebooks.primaryvertexingtools import PrimaryVertexing, PerformanceMetrics"
   ]
  },
  {
   "cell_type": "code",
   "execution_count": 18,
   "id": "215e2818-fe45-4ab9-a347-62a88e715b8e",
   "metadata": {},
   "outputs": [],
   "source": [
    "fh_bins = np.linspace(-15, 15, 256)"
   ]
  },
  {
   "cell_type": "code",
   "execution_count": 19,
   "id": "85f914d8-abce-403f-9983-f4a6da3c9d09",
   "metadata": {},
   "outputs": [],
   "source": [
    "from run_dbscan import run_normal_dbscan"
   ]
  },
  {
   "cell_type": "code",
   "execution_count": 20,
   "id": "2c7679f5-3894-477e-9526-c9dab72eec16",
   "metadata": {},
   "outputs": [],
   "source": [
    "max_number_of_tracks = 232\n",
    "max_number_of_tracks_power_2 = 256\n",
    "max_number_of_tracks_log_2 = 8\n",
    "batch_size = 50\n",
    "\n",
    "eps = 0.15\n",
    "verbose = False\n",
    "save_intermediate = False"
   ]
  },
  {
   "cell_type": "code",
   "execution_count": 21,
   "id": "76e614d1-eba6-47e4-962f-20edc24618dd",
   "metadata": {},
   "outputs": [],
   "source": [
    "from batched_dbscan import BatchedDBSCAN"
   ]
  },
  {
   "cell_type": "code",
   "execution_count": 27,
   "id": "355aba8e-4575-42c0-a8ad-32ebaec9cfff",
   "metadata": {},
   "outputs": [],
   "source": [
    "def run_efficiency(\n",
    "    mc: pd.DataFrame, trk: pd.DataFrame, nevents: int = 2000, top_pt_n: int = 10\n",
    ") -> float:\n",
    "\n",
    "    z0_mc = []\n",
    "    z0_pvs = []\n",
    "    z0_dbs = []\n",
    "    z0_dbs_wm = []\n",
    "\n",
    "    for i in tqdm(range(nevents)):\n",
    "        mask_trk = trk_df[\"event_number\"] == i\n",
    "        mask_mc = mc_df[\"event_number\"] == i\n",
    "        mc = mc_df.loc[mask_mc, \"pv_MC\"].values\n",
    "\n",
    "        e = trk_df.loc[mask_trk, [\"trk_z0\", \"trk_pt\"]].values\n",
    "        z0 = e[:, 0]\n",
    "        pt = e[:, 1]\n",
    "\n",
    "        if z0.shape[0] >= 232:\n",
    "            # print(\"continued\")\n",
    "            continue\n",
    "\n",
    "        z0_mc.append(mc)\n",
    "        z0_pv, _ = run_normal_dbscan(z0, pt, eps)\n",
    "        z0_pvs.append(z0_pv)\n",
    "\n",
    "        db = BatchedDBSCAN(\n",
    "            z0,\n",
    "            pt,\n",
    "            0.15,\n",
    "            50,\n",
    "            232,\n",
    "            False,\n",
    "            False,\n",
    "            fh_metric=False,\n",
    "            at_end=False,\n",
    "            rank_by_pt=True,\n",
    "            top_pt_n=top_pt_n,\n",
    "        )\n",
    "        db.fit()\n",
    "        z0_dbs.append(db.z0_pv)\n",
    "\n",
    "        db_wm = BatchedDBSCAN(\n",
    "            z0,\n",
    "            pt,\n",
    "            0.15,\n",
    "            50,\n",
    "            232,\n",
    "            False,\n",
    "            False,\n",
    "            fh_metric=True,\n",
    "            at_end=False,\n",
    "            fh_nbins=5,\n",
    "            rank_by_pt=True,\n",
    "            top_pt_n=top_pt_n,\n",
    "        )\n",
    "        db_wm.fit()\n",
    "\n",
    "        z0_dbs_wm.append(db_wm.z0_pv_wm)\n",
    "\n",
    "    r = pd.DataFrame(\n",
    "        {\n",
    "            \"z0_mc\": z0_mc,\n",
    "            \"z0_normal\": z0_pvs,\n",
    "            \"z0_pt_median\": z0_dbs,\n",
    "            \"z0_pt_wm\": z0_dbs_wm,\n",
    "        }\n",
    "    )\n",
    "    effs = {\"eff\": 0, \"eff_med\": 0, \"eff_wm\": 0}\n",
    "    for col, e_name in zip(\n",
    "        [\"z0_normal\", \"z0_pt_median\", \"z0_pt_wm\"], [\"eff\", \"eff_med\", \"eff_wm\"]\n",
    "    ):\n",
    "        eff = 100 * np.sum((np.abs(r[\"z0_mc\"] - r[col]) < 0.15)) / r.shape[0]\n",
    "        effs[e_name] = eff\n",
    "    return effs"
   ]
  },
  {
   "cell_type": "code",
   "execution_count": 29,
   "id": "97cb8fe8-826d-40f9-98f6-f7a254420d11",
   "metadata": {},
   "outputs": [
    {
     "name": "stderr",
     "output_type": "stream",
     "text": [
      "100%|███████████████████████████████████████████████████████████████████████████████████████████████████████████████████████████████████████████████████████████████████████████████████████████████████████████████████████████████████████████████████████████████████████████████████████████████████████████████████████████████████████| 10/10 [00:00<00:00, 18.82it/s]\n"
     ]
    }
   ],
   "source": [
    "test = run_efficiency(mc_df, trk_df, nevents=10, top_pt_n=5)"
   ]
  },
  {
   "cell_type": "code",
   "execution_count": 30,
   "id": "0532ff28-5798-438a-a4fe-8df4fb8e7d88",
   "metadata": {},
   "outputs": [
    {
     "data": {
      "text/plain": [
       "{'eff': 77.77777777777777, 'eff_med': 100.0, 'eff_wm': 88.88888888888889}"
      ]
     },
     "execution_count": 30,
     "metadata": {},
     "output_type": "execute_result"
    }
   ],
   "source": [
    "test"
   ]
  },
  {
   "cell_type": "code",
   "execution_count": 22,
   "id": "b0aa68e4-1d01-4dd0-bacd-4cf13018bb12",
   "metadata": {},
   "outputs": [
    {
     "name": "stderr",
     "output_type": "stream",
     "text": [
      "100%|█████████████████████████████████████████████████████████████████████████████████████████████████████████████████████████████████████████████████████████████████████████████████████████████████████████████████████████████████████████████████████████████████████████████████████████████████████████████████████████████████████████| 1/1 [00:00<00:00,  7.38it/s]\n"
     ]
    },
    {
     "name": "stdout",
     "output_type": "stream",
     "text": [
      "Efficiency z0_normal:  100.0\n",
      "Efficiency z0_batched:  100.0\n",
      "Efficiency z0_batched_acc_pt:  100.0\n",
      "Efficiency z0_batched_acc_pt_wm:  100.0\n"
     ]
    }
   ],
   "source": [
    "z0_pvs = []\n",
    "z0_batched = []\n",
    "z0_batched_skl = []\n",
    "z0_batched_skl_wm = []\n",
    "z0_batched_acc_wm = []\n",
    "z0_batched_acc_pt = []\n",
    "z0_batched_acc_pt_wm = []\n",
    "\n",
    "z0_mc = []\n",
    "\n",
    "pt_pvs = []\n",
    "pt_batched = []\n",
    "pt_batched_skl = []\n",
    "pt_batched_skl_wm = []\n",
    "pt_batched_acc_wm = []\n",
    "pt_batched_acc_pt = []\n",
    "pt_batched_acc_pt_wm = []\n",
    "\n",
    "\n",
    "\n",
    "\n",
    "for i in tqdm(range(1)):\n",
    "    mask_trk = trk_df[\"event_number\"] == i\n",
    "    mask_mc = mc_df[\"event_number\"] == i\n",
    "    mc = mc_df.loc[mask_mc, \"pv_MC\"].values\n",
    "\n",
    "    e = trk_df.loc[mask_trk, [\"trk_z0\", \"trk_pt\"]].values\n",
    "    z0 = e[:, 0]\n",
    "    pt = e[:, 1]\n",
    "\n",
    "    if z0.shape[0] >= 232:\n",
    "        print(\"continued\")\n",
    "        continue\n",
    "\n",
    "    z0_mc.append(mc)\n",
    "\n",
    "    # Running regular dbscan without any batchign (sklearn+median)\n",
    "    z0_pv, pt_pv = run_normal_dbscan(z0, pt, eps)\n",
    "    z0_pvs.append(z0_pv)\n",
    "\n",
    "    # Running regular batched dbscan with median statistic\n",
    "    db = BatchedDBSCAN(\n",
    "        z0,\n",
    "        pt,\n",
    "        eps,\n",
    "        batch_size,\n",
    "        max_number_of_tracks,\n",
    "        verbose,\n",
    "        save_intermediate,\n",
    "        fh_metric=False,\n",
    "        at_end=False,\n",
    "    )\n",
    "\n",
    "    db.fit()\n",
    "    z0_batched.append(db.z0_pv)\n",
    "\n",
    "    # Running batched dbscan with pt ranking and cut (median metric)\n",
    "    db_pt = BatchedDBSCAN(\n",
    "        z0,\n",
    "        pt,\n",
    "        eps,\n",
    "        batch_size,\n",
    "        max_number_of_tracks,\n",
    "        verbose,\n",
    "        save_intermediate,\n",
    "        fh_metric=False,\n",
    "        at_end=False,\n",
    "        rank_by_pt=True,\n",
    "        top_pt_n=10,\n",
    "        fh_nbins=3,\n",
    "    )\n",
    "    db_pt.fit()\n",
    "    z0_batched_acc_pt.append(db_pt.z0_pv)\n",
    "\n",
    "    # Running batched dbscan with pt ranking and cut (weighted mean metric)\n",
    "    db_pt_wm = BatchedDBSCAN(\n",
    "        z0,\n",
    "        pt,\n",
    "        eps,\n",
    "        batch_size,\n",
    "        max_number_of_tracks,\n",
    "        verbose,\n",
    "        save_intermediate,\n",
    "        fh_metric=True,\n",
    "        at_end=False,\n",
    "        rank_by_pt=True,\n",
    "        top_pt_n=10,\n",
    "        fh_nbins=20,\n",
    "    )\n",
    "    db_pt_wm.fit()\n",
    "    z0_batched_acc_pt_wm.append(db_pt_wm.z0_pv_wm)\n",
    "\n",
    "\n",
    "r = pd.DataFrame(\n",
    "    {\n",
    "        \"z0_mc\": z0_mc,\n",
    "        \"z0_normal\": z0_pvs,\n",
    "        \"z0_batched\": z0_batched,\n",
    "        \"z0_batched_acc_pt\": z0_batched_acc_pt,\n",
    "        \"z0_batched_acc_pt_wm\": z0_batched_acc_pt_wm,\n",
    "    }\n",
    ")\n",
    "\n",
    "d = pd.DataFrame({})\n",
    "effs = {}\n",
    "\n",
    "for col in [\"z0_normal\", \"z0_batched\", \"z0_batched_acc_pt\", \"z0_batched_acc_pt_wm\"]:\n",
    "\n",
    "    eff = 100 * np.sum((np.abs(r[\"z0_mc\"] - r[col]) < 0.15)) / r.shape[0]\n",
    "    effs[col] = eff\n",
    "    print(f\"Efficiency {col}: \", eff)"
   ]
  },
  {
   "cell_type": "code",
   "execution_count": 14,
   "id": "45352984-5d87-4b1a-b397-fddf80ec71ba",
   "metadata": {},
   "outputs": [
    {
     "data": {
      "text/plain": [
       "array([-25.97, -19.48, -20.71, -13.23,  -8.95,   9.16,  12.81,   0.  ,\n",
       "         0.  ,   0.  ,   0.  , -19.48,   0.  ,   0.  ,   0.  ,   0.  ,\n",
       "        19.76,   0.  ,   0.  ,   0.  ,   0.  ,   0.  ,   0.  ,   0.  ,\n",
       "         0.  ,   0.  ,   0.  , 168.34,   0.  ,   0.  ,   0.  ,   0.  ,\n",
       "        -0.84,   5.89,   0.  , 168.34,   0.  ,   0.  ,   0.  ,   0.  ,\n",
       "         0.  ,   0.  ,   0.  ,   0.  ,   0.  ,   0.  ,   0.  ,   0.  ,\n",
       "         0.  ,   0.  , -22.98, -20.29, -13.03,  -5.37,   9.87,  10.47,\n",
       "         0.  ,   0.  ,   0.  ,   0.  ,   0.  ,   0.  ,   0.  ,   0.  ,\n",
       "         0.  ,   0.  ,   0.  ,   0.  ,   0.  ,   0.  ,   0.  ,   0.  ,\n",
       "         0.  ,   0.  ,   0.  ,   0.  ,   0.  ,   0.  ,   0.  ,   0.  ,\n",
       "         0.  ,   0.  ,   0.  ,   0.  ,   0.  ,   0.  ,   0.  ,   0.  ,\n",
       "         0.  ,   0.  ,   0.  ,   0.  ,   0.  ,   0.  ,   0.  ,   0.  ,\n",
       "         0.  ,   0.  ,   0.  ,   0.  , -21.53, -12.44,  -3.21,  -1.36,\n",
       "         8.93,  11.67,  13.49,   0.  ,   0.  ,   0.  ,   0.  ,   0.  ,\n",
       "         0.  ,   0.  ,   0.  ,   0.  ,   0.  ,   0.  ,   0.  ,   0.  ,\n",
       "         0.  ,   0.  ,   0.  ,   0.  ,   0.  ,   0.  ,   0.  ,   0.  ,\n",
       "         0.  ,   0.  ,   0.  ,   0.  ,   0.  ,   0.  ,   0.  ,   0.  ,\n",
       "         0.  ,   0.  ,   0.  ,   0.  ,   0.  ,   0.  ,   0.  ,   0.  ,\n",
       "         0.  ,   0.  ,   0.  ,   0.  ,   0.  ,   0.  , -21.63,  -7.81,\n",
       "         0.  ,   0.  ,   9.16,  11.07,   0.  ,   0.  ,   0.  ,   0.  ,\n",
       "         0.  ,   0.  ,   0.  ,   0.  ,   0.  ,   0.  ,   0.  ,   0.  ,\n",
       "         0.  ,   0.  ,   0.  ,   0.  ,   0.  ,   0.  ,   0.  ,   0.  ,\n",
       "         0.  ,   0.  ,   0.  ,   0.  ,   0.  ,   0.  ,   0.  ,   0.  ,\n",
       "         0.  ,   0.  ,   0.  ,   0.  ,   0.  ,   0.  ,   0.  ,   0.  ,\n",
       "         0.  ,   0.  ,   0.  ,   0.  ,   0.  ,   0.  ,   0.  ,   0.  ,\n",
       "         0.  ,   0.  ,   0.  ,   0.  ,   0.  ,   0.  ,   0.  ,   0.  ,\n",
       "         0.  ,   0.  ,   0.  ,   0.  ,   0.  ,   0.  ,   0.  ,   0.  ,\n",
       "         0.  ,   0.  ,   0.  ,   0.  ,   0.  ,   0.  ,   0.  ,   0.  ,\n",
       "         0.  ,   0.  ,   0.  ,   0.  ,   0.  ,   0.  ,   0.  ,   0.  ,\n",
       "         0.  ,   0.  ,   0.  ,   0.  ,   0.  ,   0.  ,   0.  ,   0.  ,\n",
       "         0.  ,   0.  ,   0.  ,   0.  ,   0.  ,   0.  ,   0.  ,   0.  ,\n",
       "         0.  ,   0.  ])"
      ]
     },
     "execution_count": 14,
     "metadata": {},
     "output_type": "execute_result"
    }
   ],
   "source": [
    "db_pt_wm.fxs"
   ]
  },
  {
   "cell_type": "code",
   "execution_count": 15,
   "id": "94fafa36-4546-4c04-b6ee-dd5f085e4677",
   "metadata": {},
   "outputs": [
    {
     "data": {
      "text/plain": [
       "array([ 4.87,  3.78,  5.7 ,  4.11,  4.49,  4.22,  4.55,  0.  ,  0.  ,\n",
       "        0.  ,  0.  ,  3.78,  0.  ,  0.  ,  0.  ,  0.  ,  4.01,  0.  ,\n",
       "        0.  ,  0.  ,  0.  ,  0.  ,  0.  ,  0.  ,  0.  ,  0.  ,  0.  ,\n",
       "       33.84,  0.  ,  0.  ,  0.  ,  0.  ,  2.05,  2.45,  0.  , 33.84,\n",
       "        0.  ,  0.  ,  0.  ,  0.  ,  0.  ,  0.  ,  0.  ,  0.  ,  0.  ,\n",
       "        0.  ,  0.  ,  0.  ,  0.  ,  0.  ,  3.3 ,  4.03,  4.36,  4.16,\n",
       "        3.24,  3.25,  0.  ,  0.  ,  0.  ,  0.  ,  0.  ,  0.  ,  0.  ,\n",
       "        0.  ,  0.  ,  0.  ,  0.  ,  0.  ,  0.  ,  0.  ,  0.  ,  0.  ,\n",
       "        0.  ,  0.  ,  0.  ,  0.  ,  0.  ,  0.  ,  0.  ,  0.  ,  0.  ,\n",
       "        0.  ,  0.  ,  0.  ,  0.  ,  0.  ,  0.  ,  0.  ,  0.  ,  0.  ,\n",
       "        0.  ,  0.  ,  0.  ,  0.  ,  0.  ,  0.  ,  0.  ,  0.  ,  0.  ,\n",
       "        0.  ,  3.31,  4.52,  3.23,  3.32,  3.47,  3.16,  3.38,  0.  ,\n",
       "        0.  ,  0.  ,  0.  ,  0.  ,  0.  ,  0.  ,  0.  ,  0.  ,  0.  ,\n",
       "        0.  ,  0.  ,  0.  ,  0.  ,  0.  ,  0.  ,  0.  ,  0.  ,  0.  ,\n",
       "        0.  ,  0.  ,  0.  ,  0.  ,  0.  ,  0.  ,  0.  ,  0.  ,  0.  ,\n",
       "        0.  ,  0.  ,  0.  ,  0.  ,  0.  ,  0.  ,  0.  ,  0.  ,  0.  ,\n",
       "        0.  ,  0.  ,  0.  ,  0.  ,  0.  ,  0.  ,  3.3 ,  2.56,  0.  ,\n",
       "        0.  ,  2.84,  2.3 ,  0.  ,  0.  ,  0.  ,  0.  ,  0.  ,  0.  ,\n",
       "        0.  ,  0.  ,  0.  ,  0.  ,  0.  ,  0.  ,  0.  ,  0.  ,  0.  ,\n",
       "        0.  ,  0.  ,  0.  ,  0.  ,  0.  ,  0.  ,  0.  ,  0.  ,  0.  ,\n",
       "        0.  ,  0.  ,  0.  ,  0.  ,  0.  ,  0.  ,  0.  ,  0.  ,  0.  ,\n",
       "        0.  ,  0.  ,  0.  ,  0.  ,  0.  ,  0.  ,  0.  ,  0.  ,  0.  ,\n",
       "        0.  ,  0.  ,  0.  ,  0.  ,  0.  ,  0.  ,  0.  ,  0.  ,  0.  ,\n",
       "        0.  ,  0.  ,  0.  ,  0.  ,  0.  ,  0.  ,  0.  ,  0.  ,  0.  ,\n",
       "        0.  ,  0.  ,  0.  ,  0.  ,  0.  ,  0.  ,  0.  ,  0.  ,  0.  ,\n",
       "        0.  ,  0.  ,  0.  ,  0.  ,  0.  ,  0.  ,  0.  ,  0.  ,  0.  ,\n",
       "        0.  ,  0.  ,  0.  ,  0.  ,  0.  ,  0.  ,  0.  ,  0.  ,  0.  ,\n",
       "        0.  ,  0.  ,  0.  ,  0.  ,  0.  ,  0.  ,  0.  ])"
      ]
     },
     "execution_count": 15,
     "metadata": {},
     "output_type": "execute_result"
    }
   ],
   "source": [
    "db_pt_wm.Ns"
   ]
  },
  {
   "cell_type": "code",
   "execution_count": 16,
   "id": "da206ce8-33e4-468d-9bc2-10b4b6d08468",
   "metadata": {},
   "outputs": [
    {
     "data": {
      "text/plain": [
       "(250,)"
      ]
     },
     "execution_count": 16,
     "metadata": {},
     "output_type": "execute_result"
    }
   ],
   "source": [
    "db_pt_wm.Ns.shape"
   ]
  },
  {
   "cell_type": "code",
   "execution_count": 17,
   "id": "cdfcc615-8e7e-4059-9768-bf0a35bb92ed",
   "metadata": {},
   "outputs": [
    {
     "data": {
      "text/plain": [
       "35"
      ]
     },
     "execution_count": 17,
     "metadata": {},
     "output_type": "execute_result"
    }
   ],
   "source": [
    "db_pt_wm.max_pt_i"
   ]
  },
  {
   "cell_type": "code",
   "execution_count": 18,
   "id": "5f31e77e-668a-4109-975c-43e17268814d",
   "metadata": {},
   "outputs": [
    {
     "data": {
      "text/html": [
       "<div>\n",
       "<style scoped>\n",
       "    .dataframe tbody tr th:only-of-type {\n",
       "        vertical-align: middle;\n",
       "    }\n",
       "\n",
       "    .dataframe tbody tr th {\n",
       "        vertical-align: top;\n",
       "    }\n",
       "\n",
       "    .dataframe thead th {\n",
       "        text-align: right;\n",
       "    }\n",
       "</style>\n",
       "<table border=\"1\" class=\"dataframe\">\n",
       "  <thead>\n",
       "    <tr style=\"text-align: right;\">\n",
       "      <th></th>\n",
       "      <th>pt_sum</th>\n",
       "      <th>z0_low</th>\n",
       "      <th>z0_high</th>\n",
       "      <th>noise</th>\n",
       "    </tr>\n",
       "  </thead>\n",
       "  <tbody>\n",
       "    <tr>\n",
       "      <th>35</th>\n",
       "      <td>53.65</td>\n",
       "      <td>4.80</td>\n",
       "      <td>5.04</td>\n",
       "      <td>0.0</td>\n",
       "    </tr>\n",
       "    <tr>\n",
       "      <th>2</th>\n",
       "      <td>10.34</td>\n",
       "      <td>-3.63</td>\n",
       "      <td>-3.63</td>\n",
       "      <td>0.0</td>\n",
       "    </tr>\n",
       "    <tr>\n",
       "      <th>11</th>\n",
       "      <td>7.81</td>\n",
       "      <td>-5.16</td>\n",
       "      <td>-5.04</td>\n",
       "      <td>0.0</td>\n",
       "    </tr>\n",
       "    <tr>\n",
       "      <th>32</th>\n",
       "      <td>7.39</td>\n",
       "      <td>-0.41</td>\n",
       "      <td>-0.41</td>\n",
       "      <td>0.0</td>\n",
       "    </tr>\n",
       "    <tr>\n",
       "      <th>31</th>\n",
       "      <td>6.92</td>\n",
       "      <td>-3.05</td>\n",
       "      <td>-2.99</td>\n",
       "      <td>0.0</td>\n",
       "    </tr>\n",
       "    <tr>\n",
       "      <th>30</th>\n",
       "      <td>6.61</td>\n",
       "      <td>-6.56</td>\n",
       "      <td>-6.50</td>\n",
       "      <td>0.0</td>\n",
       "    </tr>\n",
       "    <tr>\n",
       "      <th>34</th>\n",
       "      <td>6.09</td>\n",
       "      <td>3.22</td>\n",
       "      <td>3.22</td>\n",
       "      <td>0.0</td>\n",
       "    </tr>\n",
       "    <tr>\n",
       "      <th>0</th>\n",
       "      <td>4.87</td>\n",
       "      <td>-5.33</td>\n",
       "      <td>-5.33</td>\n",
       "      <td>1.0</td>\n",
       "    </tr>\n",
       "    <tr>\n",
       "      <th>6</th>\n",
       "      <td>4.55</td>\n",
       "      <td>2.81</td>\n",
       "      <td>2.81</td>\n",
       "      <td>1.0</td>\n",
       "    </tr>\n",
       "    <tr>\n",
       "      <th>21</th>\n",
       "      <td>4.52</td>\n",
       "      <td>-2.75</td>\n",
       "      <td>-2.75</td>\n",
       "      <td>1.0</td>\n",
       "    </tr>\n",
       "    <tr>\n",
       "      <th>4</th>\n",
       "      <td>4.49</td>\n",
       "      <td>-1.99</td>\n",
       "      <td>-1.99</td>\n",
       "      <td>1.0</td>\n",
       "    </tr>\n",
       "    <tr>\n",
       "      <th>33</th>\n",
       "      <td>4.46</td>\n",
       "      <td>2.40</td>\n",
       "      <td>2.40</td>\n",
       "      <td>0.0</td>\n",
       "    </tr>\n",
       "    <tr>\n",
       "      <th>5</th>\n",
       "      <td>4.22</td>\n",
       "      <td>2.17</td>\n",
       "      <td>2.17</td>\n",
       "      <td>1.0</td>\n",
       "    </tr>\n",
       "    <tr>\n",
       "      <th>13</th>\n",
       "      <td>4.16</td>\n",
       "      <td>-1.29</td>\n",
       "      <td>-1.29</td>\n",
       "      <td>1.0</td>\n",
       "    </tr>\n",
       "    <tr>\n",
       "      <th>3</th>\n",
       "      <td>4.11</td>\n",
       "      <td>-3.22</td>\n",
       "      <td>-3.22</td>\n",
       "      <td>1.0</td>\n",
       "    </tr>\n",
       "    <tr>\n",
       "      <th>24</th>\n",
       "      <td>3.47</td>\n",
       "      <td>2.58</td>\n",
       "      <td>2.58</td>\n",
       "      <td>1.0</td>\n",
       "    </tr>\n",
       "    <tr>\n",
       "      <th>26</th>\n",
       "      <td>3.38</td>\n",
       "      <td>3.98</td>\n",
       "      <td>3.98</td>\n",
       "      <td>1.0</td>\n",
       "    </tr>\n",
       "    <tr>\n",
       "      <th>10</th>\n",
       "      <td>3.30</td>\n",
       "      <td>-6.97</td>\n",
       "      <td>-6.97</td>\n",
       "      <td>1.0</td>\n",
       "    </tr>\n",
       "    <tr>\n",
       "      <th>14</th>\n",
       "      <td>3.24</td>\n",
       "      <td>3.05</td>\n",
       "      <td>3.05</td>\n",
       "      <td>1.0</td>\n",
       "    </tr>\n",
       "    <tr>\n",
       "      <th>22</th>\n",
       "      <td>3.23</td>\n",
       "      <td>-1.00</td>\n",
       "      <td>-1.00</td>\n",
       "      <td>1.0</td>\n",
       "    </tr>\n",
       "    <tr>\n",
       "      <th>25</th>\n",
       "      <td>3.16</td>\n",
       "      <td>3.69</td>\n",
       "      <td>3.69</td>\n",
       "      <td>1.0</td>\n",
       "    </tr>\n",
       "    <tr>\n",
       "      <th>20</th>\n",
       "      <td>0.00</td>\n",
       "      <td>21.00</td>\n",
       "      <td>21.00</td>\n",
       "      <td>0.0</td>\n",
       "    </tr>\n",
       "    <tr>\n",
       "      <th>36</th>\n",
       "      <td>0.00</td>\n",
       "      <td>21.00</td>\n",
       "      <td>21.00</td>\n",
       "      <td>0.0</td>\n",
       "    </tr>\n",
       "    <tr>\n",
       "      <th>48</th>\n",
       "      <td>0.00</td>\n",
       "      <td>21.00</td>\n",
       "      <td>21.00</td>\n",
       "      <td>0.0</td>\n",
       "    </tr>\n",
       "    <tr>\n",
       "      <th>47</th>\n",
       "      <td>0.00</td>\n",
       "      <td>21.00</td>\n",
       "      <td>21.00</td>\n",
       "      <td>0.0</td>\n",
       "    </tr>\n",
       "    <tr>\n",
       "      <th>46</th>\n",
       "      <td>0.00</td>\n",
       "      <td>21.00</td>\n",
       "      <td>21.00</td>\n",
       "      <td>0.0</td>\n",
       "    </tr>\n",
       "    <tr>\n",
       "      <th>45</th>\n",
       "      <td>0.00</td>\n",
       "      <td>21.00</td>\n",
       "      <td>21.00</td>\n",
       "      <td>0.0</td>\n",
       "    </tr>\n",
       "    <tr>\n",
       "      <th>44</th>\n",
       "      <td>0.00</td>\n",
       "      <td>21.00</td>\n",
       "      <td>21.00</td>\n",
       "      <td>0.0</td>\n",
       "    </tr>\n",
       "    <tr>\n",
       "      <th>43</th>\n",
       "      <td>0.00</td>\n",
       "      <td>21.00</td>\n",
       "      <td>21.00</td>\n",
       "      <td>0.0</td>\n",
       "    </tr>\n",
       "    <tr>\n",
       "      <th>42</th>\n",
       "      <td>0.00</td>\n",
       "      <td>21.00</td>\n",
       "      <td>21.00</td>\n",
       "      <td>0.0</td>\n",
       "    </tr>\n",
       "    <tr>\n",
       "      <th>41</th>\n",
       "      <td>0.00</td>\n",
       "      <td>21.00</td>\n",
       "      <td>21.00</td>\n",
       "      <td>0.0</td>\n",
       "    </tr>\n",
       "    <tr>\n",
       "      <th>40</th>\n",
       "      <td>0.00</td>\n",
       "      <td>21.00</td>\n",
       "      <td>21.00</td>\n",
       "      <td>0.0</td>\n",
       "    </tr>\n",
       "    <tr>\n",
       "      <th>39</th>\n",
       "      <td>0.00</td>\n",
       "      <td>21.00</td>\n",
       "      <td>21.00</td>\n",
       "      <td>0.0</td>\n",
       "    </tr>\n",
       "    <tr>\n",
       "      <th>38</th>\n",
       "      <td>0.00</td>\n",
       "      <td>21.00</td>\n",
       "      <td>21.00</td>\n",
       "      <td>0.0</td>\n",
       "    </tr>\n",
       "    <tr>\n",
       "      <th>37</th>\n",
       "      <td>0.00</td>\n",
       "      <td>21.00</td>\n",
       "      <td>21.00</td>\n",
       "      <td>0.0</td>\n",
       "    </tr>\n",
       "    <tr>\n",
       "      <th>7</th>\n",
       "      <td>0.00</td>\n",
       "      <td>21.00</td>\n",
       "      <td>21.00</td>\n",
       "      <td>0.0</td>\n",
       "    </tr>\n",
       "    <tr>\n",
       "      <th>19</th>\n",
       "      <td>0.00</td>\n",
       "      <td>21.00</td>\n",
       "      <td>21.00</td>\n",
       "      <td>0.0</td>\n",
       "    </tr>\n",
       "    <tr>\n",
       "      <th>8</th>\n",
       "      <td>0.00</td>\n",
       "      <td>21.00</td>\n",
       "      <td>21.00</td>\n",
       "      <td>0.0</td>\n",
       "    </tr>\n",
       "    <tr>\n",
       "      <th>9</th>\n",
       "      <td>0.00</td>\n",
       "      <td>21.00</td>\n",
       "      <td>21.00</td>\n",
       "      <td>0.0</td>\n",
       "    </tr>\n",
       "    <tr>\n",
       "      <th>12</th>\n",
       "      <td>0.00</td>\n",
       "      <td>21.00</td>\n",
       "      <td>21.00</td>\n",
       "      <td>0.0</td>\n",
       "    </tr>\n",
       "    <tr>\n",
       "      <th>15</th>\n",
       "      <td>0.00</td>\n",
       "      <td>21.00</td>\n",
       "      <td>21.00</td>\n",
       "      <td>0.0</td>\n",
       "    </tr>\n",
       "    <tr>\n",
       "      <th>16</th>\n",
       "      <td>0.00</td>\n",
       "      <td>21.00</td>\n",
       "      <td>21.00</td>\n",
       "      <td>0.0</td>\n",
       "    </tr>\n",
       "    <tr>\n",
       "      <th>29</th>\n",
       "      <td>0.00</td>\n",
       "      <td>21.00</td>\n",
       "      <td>21.00</td>\n",
       "      <td>0.0</td>\n",
       "    </tr>\n",
       "    <tr>\n",
       "      <th>28</th>\n",
       "      <td>0.00</td>\n",
       "      <td>21.00</td>\n",
       "      <td>21.00</td>\n",
       "      <td>0.0</td>\n",
       "    </tr>\n",
       "    <tr>\n",
       "      <th>27</th>\n",
       "      <td>0.00</td>\n",
       "      <td>21.00</td>\n",
       "      <td>21.00</td>\n",
       "      <td>0.0</td>\n",
       "    </tr>\n",
       "    <tr>\n",
       "      <th>17</th>\n",
       "      <td>0.00</td>\n",
       "      <td>21.00</td>\n",
       "      <td>21.00</td>\n",
       "      <td>0.0</td>\n",
       "    </tr>\n",
       "    <tr>\n",
       "      <th>1</th>\n",
       "      <td>0.00</td>\n",
       "      <td>21.00</td>\n",
       "      <td>21.00</td>\n",
       "      <td>0.0</td>\n",
       "    </tr>\n",
       "    <tr>\n",
       "      <th>18</th>\n",
       "      <td>0.00</td>\n",
       "      <td>21.00</td>\n",
       "      <td>21.00</td>\n",
       "      <td>0.0</td>\n",
       "    </tr>\n",
       "    <tr>\n",
       "      <th>23</th>\n",
       "      <td>0.00</td>\n",
       "      <td>21.00</td>\n",
       "      <td>21.00</td>\n",
       "      <td>0.0</td>\n",
       "    </tr>\n",
       "    <tr>\n",
       "      <th>49</th>\n",
       "      <td>0.00</td>\n",
       "      <td>21.00</td>\n",
       "      <td>21.00</td>\n",
       "      <td>0.0</td>\n",
       "    </tr>\n",
       "  </tbody>\n",
       "</table>\n",
       "</div>"
      ],
      "text/plain": [
       "    pt_sum  z0_low  z0_high  noise\n",
       "35   53.65    4.80     5.04    0.0\n",
       "2    10.34   -3.63    -3.63    0.0\n",
       "11    7.81   -5.16    -5.04    0.0\n",
       "32    7.39   -0.41    -0.41    0.0\n",
       "31    6.92   -3.05    -2.99    0.0\n",
       "30    6.61   -6.56    -6.50    0.0\n",
       "34    6.09    3.22     3.22    0.0\n",
       "0     4.87   -5.33    -5.33    1.0\n",
       "6     4.55    2.81     2.81    1.0\n",
       "21    4.52   -2.75    -2.75    1.0\n",
       "4     4.49   -1.99    -1.99    1.0\n",
       "33    4.46    2.40     2.40    0.0\n",
       "5     4.22    2.17     2.17    1.0\n",
       "13    4.16   -1.29    -1.29    1.0\n",
       "3     4.11   -3.22    -3.22    1.0\n",
       "24    3.47    2.58     2.58    1.0\n",
       "26    3.38    3.98     3.98    1.0\n",
       "10    3.30   -6.97    -6.97    1.0\n",
       "14    3.24    3.05     3.05    1.0\n",
       "22    3.23   -1.00    -1.00    1.0\n",
       "25    3.16    3.69     3.69    1.0\n",
       "20    0.00   21.00    21.00    0.0\n",
       "36    0.00   21.00    21.00    0.0\n",
       "48    0.00   21.00    21.00    0.0\n",
       "47    0.00   21.00    21.00    0.0\n",
       "46    0.00   21.00    21.00    0.0\n",
       "45    0.00   21.00    21.00    0.0\n",
       "44    0.00   21.00    21.00    0.0\n",
       "43    0.00   21.00    21.00    0.0\n",
       "42    0.00   21.00    21.00    0.0\n",
       "41    0.00   21.00    21.00    0.0\n",
       "40    0.00   21.00    21.00    0.0\n",
       "39    0.00   21.00    21.00    0.0\n",
       "38    0.00   21.00    21.00    0.0\n",
       "37    0.00   21.00    21.00    0.0\n",
       "7     0.00   21.00    21.00    0.0\n",
       "19    0.00   21.00    21.00    0.0\n",
       "8     0.00   21.00    21.00    0.0\n",
       "9     0.00   21.00    21.00    0.0\n",
       "12    0.00   21.00    21.00    0.0\n",
       "15    0.00   21.00    21.00    0.0\n",
       "16    0.00   21.00    21.00    0.0\n",
       "29    0.00   21.00    21.00    0.0\n",
       "28    0.00   21.00    21.00    0.0\n",
       "27    0.00   21.00    21.00    0.0\n",
       "17    0.00   21.00    21.00    0.0\n",
       "1     0.00   21.00    21.00    0.0\n",
       "18    0.00   21.00    21.00    0.0\n",
       "23    0.00   21.00    21.00    0.0\n",
       "49    0.00   21.00    21.00    0.0"
      ]
     },
     "execution_count": 18,
     "metadata": {},
     "output_type": "execute_result"
    }
   ],
   "source": [
    "db_pt_wm.clusters.sort_values(by=\"pt_sum\", ascending=False)"
   ]
  },
  {
   "cell_type": "code",
   "execution_count": 19,
   "id": "708a3845-fd5c-4bd2-9547-ce71ab9d9607",
   "metadata": {},
   "outputs": [
    {
     "data": {
      "text/html": [
       "<div>\n",
       "<style scoped>\n",
       "    .dataframe tbody tr th:only-of-type {\n",
       "        vertical-align: middle;\n",
       "    }\n",
       "\n",
       "    .dataframe tbody tr th {\n",
       "        vertical-align: top;\n",
       "    }\n",
       "\n",
       "    .dataframe thead th {\n",
       "        text-align: right;\n",
       "    }\n",
       "</style>\n",
       "<table border=\"1\" class=\"dataframe\">\n",
       "  <thead>\n",
       "    <tr style=\"text-align: right;\">\n",
       "      <th></th>\n",
       "      <th>z0_mc</th>\n",
       "      <th>z0_normal</th>\n",
       "      <th>z0_batched</th>\n",
       "      <th>z0_batched_acc_pt</th>\n",
       "      <th>z0_batched_acc_pt_wm</th>\n",
       "    </tr>\n",
       "  </thead>\n",
       "  <tbody>\n",
       "    <tr>\n",
       "      <th>0</th>\n",
       "      <td>[5.055163]</td>\n",
       "      <td>4.98</td>\n",
       "      <td>4.98</td>\n",
       "      <td>4.98</td>\n",
       "      <td>4.97</td>\n",
       "    </tr>\n",
       "  </tbody>\n",
       "</table>\n",
       "</div>"
      ],
      "text/plain": [
       "        z0_mc  z0_normal  z0_batched  z0_batched_acc_pt  z0_batched_acc_pt_wm\n",
       "0  [5.055163]       4.98        4.98               4.98                  4.97"
      ]
     },
     "execution_count": 19,
     "metadata": {},
     "output_type": "execute_result"
    }
   ],
   "source": [
    "r"
   ]
  },
  {
   "cell_type": "code",
   "execution_count": null,
   "id": "3fd47d79-f057-40d8-9694-13078ebe1403",
   "metadata": {},
   "outputs": [],
   "source": [
    "df"
   ]
  },
  {
   "cell_type": "code",
   "execution_count": 26,
   "id": "f605eb37-ac7a-4e6b-89d5-6685d5783497",
   "metadata": {},
   "outputs": [
    {
     "data": {
      "text/plain": [
       "array([-6.15, -5.33, -5.16, -4.86, -3.63, -3.63, -3.22, -3.05, -2.99,\n",
       "       -2.23, -1.99, -1.93, -1.88, -1.7 , -1.64, -1.17, -1.11, -1.11,\n",
       "       -0.88, -0.88, -0.53, -0.47, -0.47, -0.41, -0.35, -0.06,  0.18,\n",
       "        0.18,  0.64,  1.  ,  1.35,  2.05,  2.17,  2.34,  2.46,  2.52,\n",
       "        2.58,  2.64,  2.75,  2.75,  2.81,  3.34,  4.22,  4.92,  4.98,\n",
       "        5.51,  5.62,  5.86,  6.09,  7.85])"
      ]
     },
     "execution_count": 26,
     "metadata": {},
     "output_type": "execute_result"
    }
   ],
   "source": [
    "db.z0_batches[0]"
   ]
  },
  {
   "cell_type": "code",
   "execution_count": 28,
   "id": "4ca72e07-3cdd-44f8-b0da-eb4feec00020",
   "metadata": {},
   "outputs": [
    {
     "data": {
      "text/plain": [
       "array([3.1 , 4.87, 3.78, 1.96, 5.7 , 4.64, 4.11, 2.34, 3.1 , 2.98, 4.49,\n",
       "       3.16, 3.13, 2.45, 3.2 , 3.31, 2.75, 2.36, 2.62, 2.1 , 2.08, 3.03,\n",
       "       2.64, 2.74, 1.97, 2.32, 2.05, 2.26, 2.6 , 2.77, 3.75, 2.22, 4.22,\n",
       "       3.32, 2.46, 3.08, 2.66, 3.46, 2.91, 3.58, 4.55, 3.44, 3.98, 3.77,\n",
       "       2.32, 3.2 , 3.66, 5.55, 2.43, 2.83])"
      ]
     },
     "execution_count": 28,
     "metadata": {},
     "output_type": "execute_result"
    }
   ],
   "source": [
    "db.pt_batches[0]"
   ]
  },
  {
   "cell_type": "code",
   "execution_count": 29,
   "id": "2384ad1c-7877-429c-b90f-526c8d5e1183",
   "metadata": {},
   "outputs": [
    {
     "data": {
      "text/plain": [
       "array([-5.33, -5.16, -3.63, -3.63, -3.22, -1.99,  2.17,  2.81,  4.22,\n",
       "        5.86])"
      ]
     },
     "execution_count": 29,
     "metadata": {},
     "output_type": "execute_result"
    }
   ],
   "source": [
    "db_pt.z0_batches[0]"
   ]
  },
  {
   "cell_type": "code",
   "execution_count": 30,
   "id": "1e4d5463-94f9-4de4-b895-bbaef3c59eec",
   "metadata": {},
   "outputs": [
    {
     "data": {
      "text/plain": [
       "array([4.87, 3.78, 5.7 , 4.64, 4.11, 4.49, 4.22, 4.55, 3.98, 5.55])"
      ]
     },
     "execution_count": 30,
     "metadata": {},
     "output_type": "execute_result"
    }
   ],
   "source": [
    "db_pt.pt_batches[0]"
   ]
  },
  {
   "cell_type": "code",
   "execution_count": 31,
   "id": "e59d8f6e-f68e-45e2-9dda-62155c6d6e63",
   "metadata": {},
   "outputs": [
    {
     "data": {
      "text/plain": [
       "array([5.06], dtype=float32)"
      ]
     },
     "execution_count": 31,
     "metadata": {},
     "output_type": "execute_result"
    }
   ],
   "source": [
    "mc"
   ]
  },
  {
   "cell_type": "code",
   "execution_count": 33,
   "id": "4b193a99-2d63-4785-b290-2818249dcdea",
   "metadata": {},
   "outputs": [
    {
     "name": "stdout",
     "output_type": "stream",
     "text": [
      "[-5.33 -5.16 -3.63 -3.63 -3.22 -1.99  2.17  2.81  4.22  5.86]\n",
      "[4.87 3.78 5.7  4.64 4.11 4.49 4.22 4.55 3.98 5.55]\n",
      "---------------------------\n",
      "[-6.97 -5.04 -2.99 -1.29  3.05  3.22  4.92  4.92  5.1   5.16]\n",
      "[3.3  4.03 4.36 4.16 3.24 3.25 4.01 3.59 3.21 3.65]\n",
      "---------------------------\n",
      "[-6.5  -2.75 -1.   -0.41  2.58  3.69  3.98  4.98  4.98  5.04]\n",
      "[ 3.31  4.52  3.23  3.32  3.47  3.16  3.38 18.57 11.26 13.91]\n",
      "---------------------------\n",
      "[-6.56 -3.05 -0.41 -0.41  2.4   2.4   3.22  4.8   5.57 21.  ]\n",
      "[3.3  2.56 2.05 2.03 2.45 2.01 2.84 2.3  2.22 0.  ]\n",
      "---------------------------\n",
      "[21. 21. 21. 21. 21. 21. 21. 21. 21. 21.]\n",
      "[0. 0. 0. 0. 0. 0. 0. 0. 0. 0.]\n",
      "---------------------------\n"
     ]
    }
   ],
   "source": [
    "for i in range(5):\n",
    "    print(db_pt.z0_batches[i])\n",
    "    print(db_pt.pt_batches[i])\n",
    "    print(\"---------------------------\")"
   ]
  },
  {
   "cell_type": "code",
   "execution_count": 38,
   "id": "461a18d9-7287-406f-b04a-fe68e5419dd2",
   "metadata": {},
   "outputs": [
    {
     "data": {
      "text/html": [
       "<div>\n",
       "<style scoped>\n",
       "    .dataframe tbody tr th:only-of-type {\n",
       "        vertical-align: middle;\n",
       "    }\n",
       "\n",
       "    .dataframe tbody tr th {\n",
       "        vertical-align: top;\n",
       "    }\n",
       "\n",
       "    .dataframe thead th {\n",
       "        text-align: right;\n",
       "    }\n",
       "</style>\n",
       "<table border=\"1\" class=\"dataframe\">\n",
       "  <thead>\n",
       "    <tr style=\"text-align: right;\">\n",
       "      <th></th>\n",
       "      <th>pt_sum</th>\n",
       "      <th>z0_low</th>\n",
       "      <th>z0_high</th>\n",
       "      <th>noise</th>\n",
       "    </tr>\n",
       "  </thead>\n",
       "  <tbody>\n",
       "    <tr>\n",
       "      <th>100</th>\n",
       "      <td>4.72</td>\n",
       "      <td>-7.44</td>\n",
       "      <td>-7.44</td>\n",
       "      <td>0.0</td>\n",
       "    </tr>\n",
       "    <tr>\n",
       "      <th>51</th>\n",
       "      <td>3.30</td>\n",
       "      <td>-6.97</td>\n",
       "      <td>-6.97</td>\n",
       "      <td>1.0</td>\n",
       "    </tr>\n",
       "    <tr>\n",
       "      <th>150</th>\n",
       "      <td>6.61</td>\n",
       "      <td>-6.56</td>\n",
       "      <td>-6.50</td>\n",
       "      <td>0.0</td>\n",
       "    </tr>\n",
       "    <tr>\n",
       "      <th>103</th>\n",
       "      <td>11.66</td>\n",
       "      <td>-6.33</td>\n",
       "      <td>-6.04</td>\n",
       "      <td>0.0</td>\n",
       "    </tr>\n",
       "    <tr>\n",
       "      <th>104</th>\n",
       "      <td>21.39</td>\n",
       "      <td>-5.33</td>\n",
       "      <td>-4.86</td>\n",
       "      <td>0.0</td>\n",
       "    </tr>\n",
       "    <tr>\n",
       "      <th>105</th>\n",
       "      <td>2.30</td>\n",
       "      <td>-4.45</td>\n",
       "      <td>-4.45</td>\n",
       "      <td>1.0</td>\n",
       "    </tr>\n",
       "    <tr>\n",
       "      <th>106</th>\n",
       "      <td>12.05</td>\n",
       "      <td>-4.22</td>\n",
       "      <td>-4.04</td>\n",
       "      <td>0.0</td>\n",
       "    </tr>\n",
       "    <tr>\n",
       "      <th>107</th>\n",
       "      <td>24.71</td>\n",
       "      <td>-3.81</td>\n",
       "      <td>-3.52</td>\n",
       "      <td>0.0</td>\n",
       "    </tr>\n",
       "    <tr>\n",
       "      <th>151</th>\n",
       "      <td>37.38</td>\n",
       "      <td>-3.28</td>\n",
       "      <td>-2.75</td>\n",
       "      <td>0.0</td>\n",
       "    </tr>\n",
       "    <tr>\n",
       "      <th>59</th>\n",
       "      <td>7.79</td>\n",
       "      <td>-2.46</td>\n",
       "      <td>-2.40</td>\n",
       "      <td>0.0</td>\n",
       "    </tr>\n",
       "    <tr>\n",
       "      <th>110</th>\n",
       "      <td>49.04</td>\n",
       "      <td>-2.23</td>\n",
       "      <td>-1.64</td>\n",
       "      <td>0.0</td>\n",
       "    </tr>\n",
       "    <tr>\n",
       "      <th>112</th>\n",
       "      <td>43.83</td>\n",
       "      <td>-1.35</td>\n",
       "      <td>-0.82</td>\n",
       "      <td>0.0</td>\n",
       "    </tr>\n",
       "    <tr>\n",
       "      <th>152</th>\n",
       "      <td>27.20</td>\n",
       "      <td>-0.59</td>\n",
       "      <td>-0.35</td>\n",
       "      <td>0.0</td>\n",
       "    </tr>\n",
       "    <tr>\n",
       "      <th>13</th>\n",
       "      <td>2.32</td>\n",
       "      <td>-0.06</td>\n",
       "      <td>-0.06</td>\n",
       "      <td>1.0</td>\n",
       "    </tr>\n",
       "    <tr>\n",
       "      <th>14</th>\n",
       "      <td>4.31</td>\n",
       "      <td>0.18</td>\n",
       "      <td>0.18</td>\n",
       "      <td>0.0</td>\n",
       "    </tr>\n",
       "    <tr>\n",
       "      <th>15</th>\n",
       "      <td>2.60</td>\n",
       "      <td>0.64</td>\n",
       "      <td>0.64</td>\n",
       "      <td>1.0</td>\n",
       "    </tr>\n",
       "    <tr>\n",
       "      <th>16</th>\n",
       "      <td>2.77</td>\n",
       "      <td>1.00</td>\n",
       "      <td>1.00</td>\n",
       "      <td>1.0</td>\n",
       "    </tr>\n",
       "    <tr>\n",
       "      <th>17</th>\n",
       "      <td>3.75</td>\n",
       "      <td>1.35</td>\n",
       "      <td>1.35</td>\n",
       "      <td>1.0</td>\n",
       "    </tr>\n",
       "    <tr>\n",
       "      <th>153</th>\n",
       "      <td>55.54</td>\n",
       "      <td>2.05</td>\n",
       "      <td>2.81</td>\n",
       "      <td>0.0</td>\n",
       "    </tr>\n",
       "    <tr>\n",
       "      <th>115</th>\n",
       "      <td>5.61</td>\n",
       "      <td>3.05</td>\n",
       "      <td>3.05</td>\n",
       "      <td>0.0</td>\n",
       "    </tr>\n",
       "    <tr>\n",
       "      <th>154</th>\n",
       "      <td>9.53</td>\n",
       "      <td>3.22</td>\n",
       "      <td>3.34</td>\n",
       "      <td>0.0</td>\n",
       "    </tr>\n",
       "    <tr>\n",
       "      <th>116</th>\n",
       "      <td>3.16</td>\n",
       "      <td>3.69</td>\n",
       "      <td>3.69</td>\n",
       "      <td>1.0</td>\n",
       "    </tr>\n",
       "    <tr>\n",
       "      <th>117</th>\n",
       "      <td>3.38</td>\n",
       "      <td>3.98</td>\n",
       "      <td>3.98</td>\n",
       "      <td>1.0</td>\n",
       "    </tr>\n",
       "    <tr>\n",
       "      <th>67</th>\n",
       "      <td>6.30</td>\n",
       "      <td>4.16</td>\n",
       "      <td>4.22</td>\n",
       "      <td>0.0</td>\n",
       "    </tr>\n",
       "    <tr>\n",
       "      <th>118</th>\n",
       "      <td>2.27</td>\n",
       "      <td>4.39</td>\n",
       "      <td>4.39</td>\n",
       "      <td>1.0</td>\n",
       "    </tr>\n",
       "    <tr>\n",
       "      <th>155</th>\n",
       "      <td>84.03</td>\n",
       "      <td>4.80</td>\n",
       "      <td>5.16</td>\n",
       "      <td>0.0</td>\n",
       "    </tr>\n",
       "    <tr>\n",
       "      <th>156</th>\n",
       "      <td>23.98</td>\n",
       "      <td>5.51</td>\n",
       "      <td>5.86</td>\n",
       "      <td>0.0</td>\n",
       "    </tr>\n",
       "    <tr>\n",
       "      <th>25</th>\n",
       "      <td>2.43</td>\n",
       "      <td>6.09</td>\n",
       "      <td>6.09</td>\n",
       "      <td>1.0</td>\n",
       "    </tr>\n",
       "    <tr>\n",
       "      <th>121</th>\n",
       "      <td>5.03</td>\n",
       "      <td>6.50</td>\n",
       "      <td>6.56</td>\n",
       "      <td>0.0</td>\n",
       "    </tr>\n",
       "    <tr>\n",
       "      <th>122</th>\n",
       "      <td>2.03</td>\n",
       "      <td>7.62</td>\n",
       "      <td>7.62</td>\n",
       "      <td>1.0</td>\n",
       "    </tr>\n",
       "    <tr>\n",
       "      <th>26</th>\n",
       "      <td>2.83</td>\n",
       "      <td>7.85</td>\n",
       "      <td>7.85</td>\n",
       "      <td>1.0</td>\n",
       "    </tr>\n",
       "  </tbody>\n",
       "</table>\n",
       "</div>"
      ],
      "text/plain": [
       "     pt_sum  z0_low  z0_high  noise\n",
       "100    4.72   -7.44    -7.44    0.0\n",
       "51     3.30   -6.97    -6.97    1.0\n",
       "150    6.61   -6.56    -6.50    0.0\n",
       "103   11.66   -6.33    -6.04    0.0\n",
       "104   21.39   -5.33    -4.86    0.0\n",
       "105    2.30   -4.45    -4.45    1.0\n",
       "106   12.05   -4.22    -4.04    0.0\n",
       "107   24.71   -3.81    -3.52    0.0\n",
       "151   37.38   -3.28    -2.75    0.0\n",
       "59     7.79   -2.46    -2.40    0.0\n",
       "110   49.04   -2.23    -1.64    0.0\n",
       "112   43.83   -1.35    -0.82    0.0\n",
       "152   27.20   -0.59    -0.35    0.0\n",
       "13     2.32   -0.06    -0.06    1.0\n",
       "14     4.31    0.18     0.18    0.0\n",
       "15     2.60    0.64     0.64    1.0\n",
       "16     2.77    1.00     1.00    1.0\n",
       "17     3.75    1.35     1.35    1.0\n",
       "153   55.54    2.05     2.81    0.0\n",
       "115    5.61    3.05     3.05    0.0\n",
       "154    9.53    3.22     3.34    0.0\n",
       "116    3.16    3.69     3.69    1.0\n",
       "117    3.38    3.98     3.98    1.0\n",
       "67     6.30    4.16     4.22    0.0\n",
       "118    2.27    4.39     4.39    1.0\n",
       "155   84.03    4.80     5.16    0.0\n",
       "156   23.98    5.51     5.86    0.0\n",
       "25     2.43    6.09     6.09    1.0\n",
       "121    5.03    6.50     6.56    0.0\n",
       "122    2.03    7.62     7.62    1.0\n",
       "26     2.83    7.85     7.85    1.0"
      ]
     },
     "execution_count": 38,
     "metadata": {},
     "output_type": "execute_result"
    }
   ],
   "source": [
    "db.clusters[db.clusters.z0_low<21].sort_values(by='z0_low')"
   ]
  },
  {
   "cell_type": "code",
   "execution_count": 41,
   "id": "dd6ada52-3f61-47d5-8a14-df37365ef459",
   "metadata": {},
   "outputs": [
    {
     "data": {
      "text/html": [
       "<div>\n",
       "<style scoped>\n",
       "    .dataframe tbody tr th:only-of-type {\n",
       "        vertical-align: middle;\n",
       "    }\n",
       "\n",
       "    .dataframe tbody tr th {\n",
       "        vertical-align: top;\n",
       "    }\n",
       "\n",
       "    .dataframe thead th {\n",
       "        text-align: right;\n",
       "    }\n",
       "</style>\n",
       "<table border=\"1\" class=\"dataframe\">\n",
       "  <thead>\n",
       "    <tr style=\"text-align: right;\">\n",
       "      <th></th>\n",
       "      <th>pt_sum</th>\n",
       "      <th>z0_low</th>\n",
       "      <th>z0_high</th>\n",
       "      <th>noise</th>\n",
       "    </tr>\n",
       "  </thead>\n",
       "  <tbody>\n",
       "    <tr>\n",
       "      <th>10</th>\n",
       "      <td>3.30</td>\n",
       "      <td>-6.97</td>\n",
       "      <td>-6.97</td>\n",
       "      <td>1.0</td>\n",
       "    </tr>\n",
       "    <tr>\n",
       "      <th>30</th>\n",
       "      <td>6.61</td>\n",
       "      <td>-6.56</td>\n",
       "      <td>-6.50</td>\n",
       "      <td>0.0</td>\n",
       "    </tr>\n",
       "    <tr>\n",
       "      <th>0</th>\n",
       "      <td>4.87</td>\n",
       "      <td>-5.33</td>\n",
       "      <td>-5.33</td>\n",
       "      <td>1.0</td>\n",
       "    </tr>\n",
       "    <tr>\n",
       "      <th>11</th>\n",
       "      <td>7.81</td>\n",
       "      <td>-5.16</td>\n",
       "      <td>-5.04</td>\n",
       "      <td>0.0</td>\n",
       "    </tr>\n",
       "    <tr>\n",
       "      <th>2</th>\n",
       "      <td>10.34</td>\n",
       "      <td>-3.63</td>\n",
       "      <td>-3.63</td>\n",
       "      <td>0.0</td>\n",
       "    </tr>\n",
       "    <tr>\n",
       "      <th>3</th>\n",
       "      <td>4.11</td>\n",
       "      <td>-3.22</td>\n",
       "      <td>-3.22</td>\n",
       "      <td>1.0</td>\n",
       "    </tr>\n",
       "    <tr>\n",
       "      <th>31</th>\n",
       "      <td>6.92</td>\n",
       "      <td>-3.05</td>\n",
       "      <td>-2.99</td>\n",
       "      <td>0.0</td>\n",
       "    </tr>\n",
       "    <tr>\n",
       "      <th>21</th>\n",
       "      <td>4.52</td>\n",
       "      <td>-2.75</td>\n",
       "      <td>-2.75</td>\n",
       "      <td>1.0</td>\n",
       "    </tr>\n",
       "    <tr>\n",
       "      <th>4</th>\n",
       "      <td>4.49</td>\n",
       "      <td>-1.99</td>\n",
       "      <td>-1.99</td>\n",
       "      <td>1.0</td>\n",
       "    </tr>\n",
       "    <tr>\n",
       "      <th>13</th>\n",
       "      <td>4.16</td>\n",
       "      <td>-1.29</td>\n",
       "      <td>-1.29</td>\n",
       "      <td>1.0</td>\n",
       "    </tr>\n",
       "    <tr>\n",
       "      <th>22</th>\n",
       "      <td>3.23</td>\n",
       "      <td>-1.00</td>\n",
       "      <td>-1.00</td>\n",
       "      <td>1.0</td>\n",
       "    </tr>\n",
       "    <tr>\n",
       "      <th>32</th>\n",
       "      <td>7.39</td>\n",
       "      <td>-0.41</td>\n",
       "      <td>-0.41</td>\n",
       "      <td>0.0</td>\n",
       "    </tr>\n",
       "    <tr>\n",
       "      <th>5</th>\n",
       "      <td>4.22</td>\n",
       "      <td>2.17</td>\n",
       "      <td>2.17</td>\n",
       "      <td>1.0</td>\n",
       "    </tr>\n",
       "    <tr>\n",
       "      <th>33</th>\n",
       "      <td>4.46</td>\n",
       "      <td>2.40</td>\n",
       "      <td>2.40</td>\n",
       "      <td>0.0</td>\n",
       "    </tr>\n",
       "    <tr>\n",
       "      <th>24</th>\n",
       "      <td>3.47</td>\n",
       "      <td>2.58</td>\n",
       "      <td>2.58</td>\n",
       "      <td>1.0</td>\n",
       "    </tr>\n",
       "    <tr>\n",
       "      <th>6</th>\n",
       "      <td>4.55</td>\n",
       "      <td>2.81</td>\n",
       "      <td>2.81</td>\n",
       "      <td>1.0</td>\n",
       "    </tr>\n",
       "    <tr>\n",
       "      <th>14</th>\n",
       "      <td>3.24</td>\n",
       "      <td>3.05</td>\n",
       "      <td>3.05</td>\n",
       "      <td>1.0</td>\n",
       "    </tr>\n",
       "    <tr>\n",
       "      <th>34</th>\n",
       "      <td>6.09</td>\n",
       "      <td>3.22</td>\n",
       "      <td>3.22</td>\n",
       "      <td>0.0</td>\n",
       "    </tr>\n",
       "    <tr>\n",
       "      <th>25</th>\n",
       "      <td>3.16</td>\n",
       "      <td>3.69</td>\n",
       "      <td>3.69</td>\n",
       "      <td>1.0</td>\n",
       "    </tr>\n",
       "    <tr>\n",
       "      <th>26</th>\n",
       "      <td>3.38</td>\n",
       "      <td>3.98</td>\n",
       "      <td>3.98</td>\n",
       "      <td>1.0</td>\n",
       "    </tr>\n",
       "    <tr>\n",
       "      <th>35</th>\n",
       "      <td>53.65</td>\n",
       "      <td>4.80</td>\n",
       "      <td>5.04</td>\n",
       "      <td>0.0</td>\n",
       "    </tr>\n",
       "  </tbody>\n",
       "</table>\n",
       "</div>"
      ],
      "text/plain": [
       "    pt_sum  z0_low  z0_high  noise\n",
       "10    3.30   -6.97    -6.97    1.0\n",
       "30    6.61   -6.56    -6.50    0.0\n",
       "0     4.87   -5.33    -5.33    1.0\n",
       "11    7.81   -5.16    -5.04    0.0\n",
       "2    10.34   -3.63    -3.63    0.0\n",
       "3     4.11   -3.22    -3.22    1.0\n",
       "31    6.92   -3.05    -2.99    0.0\n",
       "21    4.52   -2.75    -2.75    1.0\n",
       "4     4.49   -1.99    -1.99    1.0\n",
       "13    4.16   -1.29    -1.29    1.0\n",
       "22    3.23   -1.00    -1.00    1.0\n",
       "32    7.39   -0.41    -0.41    0.0\n",
       "5     4.22    2.17     2.17    1.0\n",
       "33    4.46    2.40     2.40    0.0\n",
       "24    3.47    2.58     2.58    1.0\n",
       "6     4.55    2.81     2.81    1.0\n",
       "14    3.24    3.05     3.05    1.0\n",
       "34    6.09    3.22     3.22    0.0\n",
       "25    3.16    3.69     3.69    1.0\n",
       "26    3.38    3.98     3.98    1.0\n",
       "35   53.65    4.80     5.04    0.0"
      ]
     },
     "execution_count": 41,
     "metadata": {},
     "output_type": "execute_result"
    }
   ],
   "source": [
    "db_pt.clusters[db_pt.clusters.z0_low<21].sort_values(by='z0_low')"
   ]
  },
  {
   "cell_type": "code",
   "execution_count": 44,
   "id": "4e976b11-c52c-44e3-b231-fc9d564f0cf4",
   "metadata": {},
   "outputs": [
    {
     "data": {
      "text/html": [
       "<div>\n",
       "<style scoped>\n",
       "    .dataframe tbody tr th:only-of-type {\n",
       "        vertical-align: middle;\n",
       "    }\n",
       "\n",
       "    .dataframe tbody tr th {\n",
       "        vertical-align: top;\n",
       "    }\n",
       "\n",
       "    .dataframe thead th {\n",
       "        text-align: right;\n",
       "    }\n",
       "</style>\n",
       "<table border=\"1\" class=\"dataframe\">\n",
       "  <thead>\n",
       "    <tr style=\"text-align: right;\">\n",
       "      <th></th>\n",
       "      <th>pt_sum</th>\n",
       "      <th>z0_low</th>\n",
       "      <th>z0_high</th>\n",
       "      <th>noise</th>\n",
       "    </tr>\n",
       "  </thead>\n",
       "  <tbody>\n",
       "    <tr>\n",
       "      <th>10</th>\n",
       "      <td>3.30</td>\n",
       "      <td>-6.97</td>\n",
       "      <td>-6.97</td>\n",
       "      <td>1.0</td>\n",
       "    </tr>\n",
       "    <tr>\n",
       "      <th>30</th>\n",
       "      <td>6.61</td>\n",
       "      <td>-6.56</td>\n",
       "      <td>-6.50</td>\n",
       "      <td>0.0</td>\n",
       "    </tr>\n",
       "    <tr>\n",
       "      <th>0</th>\n",
       "      <td>4.87</td>\n",
       "      <td>-5.33</td>\n",
       "      <td>-5.33</td>\n",
       "      <td>1.0</td>\n",
       "    </tr>\n",
       "    <tr>\n",
       "      <th>11</th>\n",
       "      <td>7.81</td>\n",
       "      <td>-5.16</td>\n",
       "      <td>-5.04</td>\n",
       "      <td>0.0</td>\n",
       "    </tr>\n",
       "    <tr>\n",
       "      <th>2</th>\n",
       "      <td>10.34</td>\n",
       "      <td>-3.63</td>\n",
       "      <td>-3.63</td>\n",
       "      <td>0.0</td>\n",
       "    </tr>\n",
       "    <tr>\n",
       "      <th>3</th>\n",
       "      <td>4.11</td>\n",
       "      <td>-3.22</td>\n",
       "      <td>-3.22</td>\n",
       "      <td>1.0</td>\n",
       "    </tr>\n",
       "    <tr>\n",
       "      <th>31</th>\n",
       "      <td>6.92</td>\n",
       "      <td>-3.05</td>\n",
       "      <td>-2.99</td>\n",
       "      <td>0.0</td>\n",
       "    </tr>\n",
       "    <tr>\n",
       "      <th>21</th>\n",
       "      <td>4.52</td>\n",
       "      <td>-2.75</td>\n",
       "      <td>-2.75</td>\n",
       "      <td>1.0</td>\n",
       "    </tr>\n",
       "    <tr>\n",
       "      <th>4</th>\n",
       "      <td>4.49</td>\n",
       "      <td>-1.99</td>\n",
       "      <td>-1.99</td>\n",
       "      <td>1.0</td>\n",
       "    </tr>\n",
       "    <tr>\n",
       "      <th>13</th>\n",
       "      <td>4.16</td>\n",
       "      <td>-1.29</td>\n",
       "      <td>-1.29</td>\n",
       "      <td>1.0</td>\n",
       "    </tr>\n",
       "    <tr>\n",
       "      <th>22</th>\n",
       "      <td>3.23</td>\n",
       "      <td>-1.00</td>\n",
       "      <td>-1.00</td>\n",
       "      <td>1.0</td>\n",
       "    </tr>\n",
       "    <tr>\n",
       "      <th>32</th>\n",
       "      <td>7.39</td>\n",
       "      <td>-0.41</td>\n",
       "      <td>-0.41</td>\n",
       "      <td>0.0</td>\n",
       "    </tr>\n",
       "    <tr>\n",
       "      <th>5</th>\n",
       "      <td>4.22</td>\n",
       "      <td>2.17</td>\n",
       "      <td>2.17</td>\n",
       "      <td>1.0</td>\n",
       "    </tr>\n",
       "    <tr>\n",
       "      <th>33</th>\n",
       "      <td>4.46</td>\n",
       "      <td>2.40</td>\n",
       "      <td>2.40</td>\n",
       "      <td>0.0</td>\n",
       "    </tr>\n",
       "    <tr>\n",
       "      <th>24</th>\n",
       "      <td>3.47</td>\n",
       "      <td>2.58</td>\n",
       "      <td>2.58</td>\n",
       "      <td>1.0</td>\n",
       "    </tr>\n",
       "    <tr>\n",
       "      <th>6</th>\n",
       "      <td>4.55</td>\n",
       "      <td>2.81</td>\n",
       "      <td>2.81</td>\n",
       "      <td>1.0</td>\n",
       "    </tr>\n",
       "    <tr>\n",
       "      <th>14</th>\n",
       "      <td>3.24</td>\n",
       "      <td>3.05</td>\n",
       "      <td>3.05</td>\n",
       "      <td>1.0</td>\n",
       "    </tr>\n",
       "    <tr>\n",
       "      <th>34</th>\n",
       "      <td>6.09</td>\n",
       "      <td>3.22</td>\n",
       "      <td>3.22</td>\n",
       "      <td>0.0</td>\n",
       "    </tr>\n",
       "    <tr>\n",
       "      <th>25</th>\n",
       "      <td>3.16</td>\n",
       "      <td>3.69</td>\n",
       "      <td>3.69</td>\n",
       "      <td>1.0</td>\n",
       "    </tr>\n",
       "    <tr>\n",
       "      <th>26</th>\n",
       "      <td>3.38</td>\n",
       "      <td>3.98</td>\n",
       "      <td>3.98</td>\n",
       "      <td>1.0</td>\n",
       "    </tr>\n",
       "    <tr>\n",
       "      <th>35</th>\n",
       "      <td>53.65</td>\n",
       "      <td>4.80</td>\n",
       "      <td>5.04</td>\n",
       "      <td>0.0</td>\n",
       "    </tr>\n",
       "  </tbody>\n",
       "</table>\n",
       "</div>"
      ],
      "text/plain": [
       "    pt_sum  z0_low  z0_high  noise\n",
       "10    3.30   -6.97    -6.97    1.0\n",
       "30    6.61   -6.56    -6.50    0.0\n",
       "0     4.87   -5.33    -5.33    1.0\n",
       "11    7.81   -5.16    -5.04    0.0\n",
       "2    10.34   -3.63    -3.63    0.0\n",
       "3     4.11   -3.22    -3.22    1.0\n",
       "31    6.92   -3.05    -2.99    0.0\n",
       "21    4.52   -2.75    -2.75    1.0\n",
       "4     4.49   -1.99    -1.99    1.0\n",
       "13    4.16   -1.29    -1.29    1.0\n",
       "22    3.23   -1.00    -1.00    1.0\n",
       "32    7.39   -0.41    -0.41    0.0\n",
       "5     4.22    2.17     2.17    1.0\n",
       "33    4.46    2.40     2.40    0.0\n",
       "24    3.47    2.58     2.58    1.0\n",
       "6     4.55    2.81     2.81    1.0\n",
       "14    3.24    3.05     3.05    1.0\n",
       "34    6.09    3.22     3.22    0.0\n",
       "25    3.16    3.69     3.69    1.0\n",
       "26    3.38    3.98     3.98    1.0\n",
       "35   53.65    4.80     5.04    0.0"
      ]
     },
     "execution_count": 44,
     "metadata": {},
     "output_type": "execute_result"
    }
   ],
   "source": [
    "db_pt_wm.clusters[db_pt_wm.clusters.z0_low<21].sort_values(by='z0_low')"
   ]
  },
  {
   "cell_type": "code",
   "execution_count": 20,
   "id": "64f08d09-6f23-4228-b893-9c285afb1687",
   "metadata": {},
   "outputs": [
    {
     "name": "stdout",
     "output_type": "stream",
     "text": [
      "hi\n"
     ]
    }
   ],
   "source": [
    "print(\"hi\")"
   ]
  },
  {
   "cell_type": "markdown",
   "id": "06496f3a-8cb3-437f-a2cf-a7e067037cd8",
   "metadata": {},
   "source": [
    "## How many tracks should we drop?"
   ]
  },
  {
   "cell_type": "code",
   "execution_count": null,
   "id": "c577bf63-3c72-430d-97f5-5a0ba3a718ee",
   "metadata": {},
   "outputs": [],
   "source": []
  },
  {
   "cell_type": "code",
   "execution_count": 37,
   "id": "be56f974-fd6b-480b-8a0f-94d72acb51de",
   "metadata": {},
   "outputs": [
    {
     "name": "stderr",
     "output_type": "stream",
     "text": [
      " 10%|████████████████████████████████▌                                                                                                                                                                                                                                                                                                   | 201/2000 [00:09<01:41, 17.71it/s]/home/raichu/Documents/db-clustering/batched_dbscan/batched_dbscan.py:468: RuntimeWarning: invalid value encountered in double_scalars\n",
      "  self.z0_pv_wm = self.fxs[max_pt_i] / self.Ns[max_pt_i]\n",
      " 13%|█████████████████████████████████████████▏                                                                                                                                                                                                                                                                                          | 254/2000 [00:12<01:17, 22.40it/s]/home/raichu/Documents/db-clustering/batched_dbscan/batched_dbscan.py:468: RuntimeWarning: invalid value encountered in double_scalars\n",
      "  self.z0_pv_wm = self.fxs[max_pt_i] / self.Ns[max_pt_i]\n",
      " 17%|██████████████████████████████████████████████████████                                                                                                                                                                                                                                                                              | 334/2000 [00:16<01:18, 21.33it/s]/home/raichu/Documents/db-clustering/batched_dbscan/batched_dbscan.py:468: RuntimeWarning: invalid value encountered in double_scalars\n",
      "  self.z0_pv_wm = self.fxs[max_pt_i] / self.Ns[max_pt_i]\n",
      " 17%|██████████████████████████████████████████████████████▌                                                                                                                                                                                                                                                                             | 337/2000 [00:16<01:31, 18.20it/s]/home/raichu/Documents/db-clustering/batched_dbscan/batched_dbscan.py:468: RuntimeWarning: invalid value encountered in double_scalars\n",
      "  self.z0_pv_wm = self.fxs[max_pt_i] / self.Ns[max_pt_i]\n",
      " 18%|█████████████████████████████████████████████████████████▊                                                                                                                                                                                                                                                                          | 357/2000 [00:17<01:19, 20.64it/s]/home/raichu/Documents/db-clustering/batched_dbscan/batched_dbscan.py:468: RuntimeWarning: invalid value encountered in double_scalars\n",
      "  self.z0_pv_wm = self.fxs[max_pt_i] / self.Ns[max_pt_i]\n",
      " 30%|████████████████████████████████████████████████████████████████████████████████████████████████▏                                                                                                                                                                                                                                   | 594/2000 [00:28<01:01, 22.73it/s]/home/raichu/Documents/db-clustering/batched_dbscan/batched_dbscan.py:468: RuntimeWarning: invalid value encountered in double_scalars\n",
      "  self.z0_pv_wm = self.fxs[max_pt_i] / self.Ns[max_pt_i]\n",
      " 31%|███████████████████████████████████████████████████████████████████████████████████████████████████▏                                                                                                                                                                                                                                | 612/2000 [00:29<01:08, 20.21it/s]/home/raichu/Documents/db-clustering/batched_dbscan/batched_dbscan.py:468: RuntimeWarning: invalid value encountered in double_scalars\n",
      "  self.z0_pv_wm = self.fxs[max_pt_i] / self.Ns[max_pt_i]\n",
      " 31%|████████████████████████████████████████████████████████████████████████████████████████████████████▌                                                                                                                                                                                                                               | 621/2000 [00:30<01:05, 21.00it/s]/home/raichu/Documents/db-clustering/batched_dbscan/batched_dbscan.py:468: RuntimeWarning: invalid value encountered in double_scalars\n",
      "  self.z0_pv_wm = self.fxs[max_pt_i] / self.Ns[max_pt_i]\n",
      " 36%|█████████████████████████████████████████████████████████████████████████████████████████████████████████████████████▉                                                                                                                                                                                                              | 728/2000 [00:34<00:54, 23.20it/s]/home/raichu/Documents/db-clustering/batched_dbscan/batched_dbscan.py:468: RuntimeWarning: invalid value encountered in double_scalars\n",
      "  self.z0_pv_wm = self.fxs[max_pt_i] / self.Ns[max_pt_i]\n",
      " 39%|██████████████████████████████████████████████████████████████████████████████████████████████████████████████████████████████▏                                                                                                                                                                                                     | 779/2000 [00:37<00:52, 23.06it/s]/home/raichu/Documents/db-clustering/batched_dbscan/batched_dbscan.py:468: RuntimeWarning: invalid value encountered in double_scalars\n",
      "  self.z0_pv_wm = self.fxs[max_pt_i] / self.Ns[max_pt_i]\n",
      " 42%|███████████████████████████████████████████████████████████████████████████████████████████████████████████████████████████████████████▉                                                                                                                                                                                            | 839/2000 [00:40<00:58, 20.00it/s]/home/raichu/Documents/db-clustering/batched_dbscan/batched_dbscan.py:468: RuntimeWarning: invalid value encountered in double_scalars\n",
      "  self.z0_pv_wm = self.fxs[max_pt_i] / self.Ns[max_pt_i]\n",
      " 48%|████████████████████████████████████████████████████████████████████████████████████████████████████████████████████████████████████████████████████████████▍                                                                                                                                                                       | 966/2000 [00:46<00:50, 20.38it/s]/home/raichu/Documents/db-clustering/batched_dbscan/batched_dbscan.py:468: RuntimeWarning: invalid value encountered in double_scalars\n",
      "  self.z0_pv_wm = self.fxs[max_pt_i] / self.Ns[max_pt_i]\n",
      " 52%|██████████████████████████████████████████████████████████████████████████████████████████████████████████████████████████████████████████████████████████████████████▋                                                                                                                                                            | 1032/2000 [00:49<01:02, 15.42it/s]/home/raichu/Documents/db-clustering/batched_dbscan/batched_dbscan.py:468: RuntimeWarning: invalid value encountered in double_scalars\n",
      "  self.z0_pv_wm = self.fxs[max_pt_i] / self.Ns[max_pt_i]\n",
      " 54%|████████████████████████████████████████████████████████████████████████████████████████████████████████████████████████████████████████████████████████████████████████████▉                                                                                                                                                      | 1071/2000 [00:51<00:49, 18.67it/s]/home/raichu/Documents/db-clustering/batched_dbscan/batched_dbscan.py:468: RuntimeWarning: invalid value encountered in double_scalars\n",
      "  self.z0_pv_wm = self.fxs[max_pt_i] / self.Ns[max_pt_i]\n",
      " 56%|█████████████████████████████████████████████████████████████████████████████████████████████████████████████████████████████████████████████████████████████████████████████████████▋                                                                                                                                             | 1125/2000 [00:54<00:45, 19.30it/s]/home/raichu/Documents/db-clustering/batched_dbscan/batched_dbscan.py:468: RuntimeWarning: invalid value encountered in double_scalars\n",
      "  self.z0_pv_wm = self.fxs[max_pt_i] / self.Ns[max_pt_i]\n",
      " 60%|████████████████████████████████████████████████████████████████████████████████████████████████████████████████████████████████████████████████████████████████████████████████████████████████▊                                                                                                                                  | 1194/2000 [00:57<00:37, 21.64it/s]/home/raichu/Documents/db-clustering/batched_dbscan/batched_dbscan.py:468: RuntimeWarning: invalid value encountered in double_scalars\n",
      "  self.z0_pv_wm = self.fxs[max_pt_i] / self.Ns[max_pt_i]\n",
      " 60%|███████████████████████████████████████████████████████████████████████████████████████████████████████████████████████████████████████████████████████████████████████████████████████████████████▎                                                                                                                               | 1209/2000 [00:58<00:40, 19.77it/s]/home/raichu/Documents/db-clustering/batched_dbscan/batched_dbscan.py:468: RuntimeWarning: invalid value encountered in double_scalars\n",
      "  self.z0_pv_wm = self.fxs[max_pt_i] / self.Ns[max_pt_i]\n",
      " 63%|███████████████████████████████████████████████████████████████████████████████████████████████████████████████████████████████████████████████████████████████████████████████████████████████████████████▎                                                                                                                       | 1259/2000 [01:00<00:34, 21.69it/s]/home/raichu/Documents/db-clustering/batched_dbscan/batched_dbscan.py:468: RuntimeWarning: invalid value encountered in double_scalars\n",
      "  self.z0_pv_wm = self.fxs[max_pt_i] / self.Ns[max_pt_i]\n",
      " 63%|████████████████████████████████████████████████████████████████████████████████████████████████████████████████████████████████████████████████████████████████████████████████████████████████████████████▎                                                                                                                      | 1265/2000 [01:01<00:33, 21.62it/s]/home/raichu/Documents/db-clustering/batched_dbscan/batched_dbscan.py:468: RuntimeWarning: invalid value encountered in double_scalars\n",
      "  self.z0_pv_wm = self.fxs[max_pt_i] / self.Ns[max_pt_i]\n",
      " 70%|█████████████████████████████████████████████████████████████████████████████████████████████████████████████████████████████████████████████████████████████████████████████████████████████████████████████████████████████████▌                                                                                                 | 1397/2000 [01:07<00:29, 20.65it/s]/home/raichu/Documents/db-clustering/batched_dbscan/batched_dbscan.py:468: RuntimeWarning: invalid value encountered in double_scalars\n",
      "  self.z0_pv_wm = self.fxs[max_pt_i] / self.Ns[max_pt_i]\n",
      " 72%|█████████████████████████████████████████████████████████████████████████████████████████████████████████████████████████████████████████████████████████████████████████████████████████████████████████████████████████████████████████▋                                                                                         | 1447/2000 [01:10<00:29, 18.97it/s]/home/raichu/Documents/db-clustering/batched_dbscan/batched_dbscan.py:468: RuntimeWarning: invalid value encountered in double_scalars\n",
      "  self.z0_pv_wm = self.fxs[max_pt_i] / self.Ns[max_pt_i]\n",
      " 73%|████████████████████████████████████████████████████████████████████████████████████████████████████████████████████████████████████████████████████████████████████████████████████████████████████████████████████████████████████████████▉                                                                                      | 1467/2000 [01:11<00:28, 18.94it/s]/home/raichu/Documents/db-clustering/batched_dbscan/batched_dbscan.py:468: RuntimeWarning: invalid value encountered in double_scalars\n",
      "  self.z0_pv_wm = self.fxs[max_pt_i] / self.Ns[max_pt_i]\n",
      " 75%|█████████████████████████████████████████████████████████████████████████████████████████████████████████████████████████████████████████████████████████████████████████████████████████████████████████████████████████████████████████████████▉                                                                                 | 1498/2000 [01:12<00:24, 20.55it/s]/home/raichu/Documents/db-clustering/batched_dbscan/batched_dbscan.py:468: RuntimeWarning: invalid value encountered in double_scalars\n",
      "  self.z0_pv_wm = self.fxs[max_pt_i] / self.Ns[max_pt_i]\n",
      " 75%|███████████████████████████████████████████████████████████████████████████████████████████████████████████████████████████████████████████████████████████████████████████████████████████████████████████████████████████████████████████████████▍                                                                               | 1507/2000 [01:12<00:23, 21.41it/s]/home/raichu/Documents/db-clustering/batched_dbscan/batched_dbscan.py:468: RuntimeWarning: invalid value encountered in double_scalars\n",
      "  self.z0_pv_wm = self.fxs[max_pt_i] / self.Ns[max_pt_i]\n",
      " 78%|██████████████████████████████████████████████████████████████████████████████████████████████████████████████████████████████████████████████████████████████████████████████████████████████████████████████████████████████████████████████████████████▍                                                                        | 1551/2000 [01:14<00:21, 20.76it/s]/home/raichu/Documents/db-clustering/batched_dbscan/batched_dbscan.py:468: RuntimeWarning: invalid value encountered in double_scalars\n",
      "  self.z0_pv_wm = self.fxs[max_pt_i] / self.Ns[max_pt_i]\n",
      " 81%|██████████████████████████████████████████████████████████████████████████████████████████████████████████████████████████████████████████████████████████████████████████████████████████████████████████████████████████████████████████████████████████████████████                                                             | 1623/2000 [01:18<00:17, 21.84it/s]/home/raichu/Documents/db-clustering/batched_dbscan/batched_dbscan.py:468: RuntimeWarning: invalid value encountered in double_scalars\n",
      "  self.z0_pv_wm = self.fxs[max_pt_i] / self.Ns[max_pt_i]\n",
      " 84%|████████████████████████████████████████████████████████████████████████████████████████████████████████████████████████████████████████████████████████████████████████████████████████████████████████████████████████████████████████████████████████████████████████████████▌                                                  | 1688/2000 [01:21<00:16, 18.59it/s]/home/raichu/Documents/db-clustering/batched_dbscan/batched_dbscan.py:468: RuntimeWarning: invalid value encountered in double_scalars\n",
      "  self.z0_pv_wm = self.fxs[max_pt_i] / self.Ns[max_pt_i]\n",
      " 89%|██████████████████████████████████████████████████████████████████████████████████████████████████████████████████████████████████████████████████████████████████████████████████████████████████████████████████████████████████████████████████████████████████████████████████████████████▉                                    | 1777/2000 [01:25<00:11, 19.95it/s]/home/raichu/Documents/db-clustering/batched_dbscan/batched_dbscan.py:468: RuntimeWarning: invalid value encountered in double_scalars\n",
      "  self.z0_pv_wm = self.fxs[max_pt_i] / self.Ns[max_pt_i]\n",
      " 98%|████████████████████████████████████████████████████████████████████████████████████████████████████████████████████████████████████████████████████████████████████████████████████████████████████████████████████████████████████████████████████████████████████████████████████████████████████████████████████████████▏      | 1958/2000 [01:34<00:02, 18.95it/s]/home/raichu/Documents/db-clustering/batched_dbscan/batched_dbscan.py:468: RuntimeWarning: invalid value encountered in double_scalars\n",
      "  self.z0_pv_wm = self.fxs[max_pt_i] / self.Ns[max_pt_i]\n",
      "100%|███████████████████████████████████████████████████████████████████████████████████████████████████████████████████████████████████████████████████████████████████████████████████████████████████████████████████████████████████████████████████████████████████████████████████████████████████████████████████████████████████| 2000/2000 [01:37<00:00, 20.58it/s]\n",
      "  1%|█▉                                                                                                                                                                                                                                                                                                                                   | 12/2000 [00:00<01:54, 17.38it/s]/home/raichu/Documents/db-clustering/batched_dbscan/batched_dbscan.py:468: RuntimeWarning: invalid value encountered in double_scalars\n",
      "  self.z0_pv_wm = self.fxs[max_pt_i] / self.Ns[max_pt_i]\n",
      " 13%|████████████████████████████████████████▉                                                                                                                                                                                                                                                                                           | 253/2000 [00:15<02:07, 13.65it/s]/home/raichu/Documents/db-clustering/batched_dbscan/batched_dbscan.py:468: RuntimeWarning: invalid value encountered in double_scalars\n",
      "  self.z0_pv_wm = self.fxs[max_pt_i] / self.Ns[max_pt_i]\n",
      " 15%|███████████████████████████████████████████████▉                                                                                                                                                                                                                                                                                    | 296/2000 [00:17<01:35, 17.81it/s]/home/raichu/Documents/db-clustering/batched_dbscan/batched_dbscan.py:468: RuntimeWarning: invalid value encountered in double_scalars\n",
      "  self.z0_pv_wm = self.fxs[max_pt_i] / self.Ns[max_pt_i]\n",
      " 17%|██████████████████████████████████████████████████████▎                                                                                                                                                                                                                                                                             | 335/2000 [00:20<01:34, 17.59it/s]/home/raichu/Documents/db-clustering/batched_dbscan/batched_dbscan.py:468: RuntimeWarning: invalid value encountered in double_scalars\n",
      "  self.z0_pv_wm = self.fxs[max_pt_i] / self.Ns[max_pt_i]\n",
      " 36%|█████████████████████████████████████████████████████████████████████████████████████████████████████████████████████▏                                                                                                                                                                                                              | 723/2000 [00:45<01:08, 18.64it/s]/home/raichu/Documents/db-clustering/batched_dbscan/batched_dbscan.py:468: RuntimeWarning: invalid value encountered in double_scalars\n",
      "  self.z0_pv_wm = self.fxs[max_pt_i] / self.Ns[max_pt_i]\n",
      " 39%|██████████████████████████████████████████████████████████████████████████████████████████████████████████████████████████████                                                                                                                                                                                                      | 778/2000 [00:48<01:14, 16.39it/s]/home/raichu/Documents/db-clustering/batched_dbscan/batched_dbscan.py:468: RuntimeWarning: invalid value encountered in double_scalars\n",
      "  self.z0_pv_wm = self.fxs[max_pt_i] / self.Ns[max_pt_i]\n",
      " 73%|████████████████████████████████████████████████████████████████████████████████████████████████████████████████████████████████████████████████████████████████████████████████████████████████████████████████████████████████████████████▊                                                                                      | 1466/2000 [01:33<00:35, 15.26it/s]/home/raichu/Documents/db-clustering/batched_dbscan/batched_dbscan.py:468: RuntimeWarning: invalid value encountered in double_scalars\n",
      "  self.z0_pv_wm = self.fxs[max_pt_i] / self.Ns[max_pt_i]\n",
      " 75%|███████████████████████████████████████████████████████████████████████████████████████████████████████████████████████████████████████████████████████████████████████████████████████████████████████████████████████████████████████████████████▏                                                                               | 1506/2000 [01:36<00:31, 15.49it/s]/home/raichu/Documents/db-clustering/batched_dbscan/batched_dbscan.py:468: RuntimeWarning: invalid value encountered in double_scalars\n",
      "  self.z0_pv_wm = self.fxs[max_pt_i] / self.Ns[max_pt_i]\n",
      " 78%|██████████████████████████████████████████████████████████████████████████████████████████████████████████████████████████████████████████████████████████████████████████████████████████████████████████████████████████████████████████████████████████▊                                                                        | 1553/2000 [01:38<00:28, 15.80it/s]/home/raichu/Documents/db-clustering/batched_dbscan/batched_dbscan.py:468: RuntimeWarning: invalid value encountered in double_scalars\n",
      "  self.z0_pv_wm = self.fxs[max_pt_i] / self.Ns[max_pt_i]\n",
      " 81%|██████████████████████████████████████████████████████████████████████████████████████████████████████████████████████████████████████████████████████████████████████████████████████████████████████████████████████████████████████████████████████████████████████                                                             | 1623/2000 [01:43<00:22, 16.75it/s]/home/raichu/Documents/db-clustering/batched_dbscan/batched_dbscan.py:468: RuntimeWarning: invalid value encountered in double_scalars\n",
      "  self.z0_pv_wm = self.fxs[max_pt_i] / self.Ns[max_pt_i]\n",
      " 84%|████████████████████████████████████████████████████████████████████████████████████████████████████████████████████████████████████████████████████████████████████████████████████████████████████████████████████████████████████████████████████████████████████████████████▊                                                  | 1689/2000 [01:47<00:22, 13.93it/s]/home/raichu/Documents/db-clustering/batched_dbscan/batched_dbscan.py:468: RuntimeWarning: invalid value encountered in double_scalars\n",
      "  self.z0_pv_wm = self.fxs[max_pt_i] / self.Ns[max_pt_i]\n",
      "100%|███████████████████████████████████████████████████████████████████████████████████████████████████████████████████████████████████████████████████████████████████████████████████████████████████████████████████████████████████████████████████████████████████████████████████████████████████████████████████████████████████| 2000/2000 [02:07<00:00, 15.64it/s]\n",
      " 15%|███████████████████████████████████████████████▉                                                                                                                                                                                                                                                                                    | 296/2000 [00:22<01:48, 15.74it/s]/home/raichu/Documents/db-clustering/batched_dbscan/batched_dbscan.py:468: RuntimeWarning: invalid value encountered in double_scalars\n",
      "  self.z0_pv_wm = self.fxs[max_pt_i] / self.Ns[max_pt_i]\n",
      "100%|███████████████████████████████████████████████████████████████████████████████████████████████████████████████████████████████████████████████████████████████████████████████████████████████████████████████████████████████████████████████████████████████████████████████████████████████████████████████████████████████████| 2000/2000 [02:29<00:00, 13.38it/s]\n",
      " 15%|████████████████████████████████████████████████                                                                                                                                                                                                                                                                                    | 297/2000 [00:27<02:16, 12.45it/s]/home/raichu/Documents/db-clustering/batched_dbscan/batched_dbscan.py:468: RuntimeWarning: invalid value encountered in double_scalars\n",
      "  self.z0_pv_wm = self.fxs[max_pt_i] / self.Ns[max_pt_i]\n",
      " 69%|███████████████████████████████████████████████████████████████████████████████████████████████████████████████████████████████████████████████████████████████████████████████████████████████████████████████████████████████▎                                                                                                   | 1383/2000 [02:09<00:54, 11.35it/s]/home/raichu/Documents/db-clustering/batched_dbscan/batched_dbscan.py:468: RuntimeWarning: invalid value encountered in double_scalars\n",
      "  self.z0_pv_wm = self.fxs[max_pt_i] / self.Ns[max_pt_i]\n",
      "100%|███████████████████████████████████████████████████████████████████████████████████████████████████████████████████████████████████████████████████████████████████████████████████████████████████████████████████████████████████████████████████████████████████████████████████████████████████████████████████████████████████| 2000/2000 [03:05<00:00, 10.79it/s]\n",
      "100%|███████████████████████████████████████████████████████████████████████████████████████████████████████████████████████████████████████████████████████████████████████████████████████████████████████████████████████████████████████████████████████████████████████████████████████████████████████████████████████████████████| 2000/2000 [04:10<00:00,  8.00it/s]\n",
      " 62%|███████████████████████████████████████████████████████████████████████████████████████████████████████████████████████████████████████████████████████████████████████████████████████████████████████▏                                                                                                                           | 1233/2000 [03:21<02:09,  5.91it/s]/home/raichu/Documents/db-clustering/batched_dbscan/batched_dbscan.py:468: RuntimeWarning: invalid value encountered in double_scalars\n",
      "  self.z0_pv_wm = self.fxs[max_pt_i] / self.Ns[max_pt_i]\n",
      "100%|███████████████████████████████████████████████████████████████████████████████████████████████████████████████████████████████████████████████████████████████████████████████████████████████████████████████████████████████████████████████████████████████████████████████████████████████████████████████████████████████████| 2000/2000 [05:29<00:00,  6.07it/s]\n"
     ]
    }
   ],
   "source": [
    "limits = [5, 10, 15, 20, 30, 40]\n",
    "eff_base = []\n",
    "eff_med = []\n",
    "eff_wm = []\n",
    "for lim in limits:\n",
    "    _effs = run_efficiency(mc_df, trk_df, nevents=2000, top_pt_n=lim)\n",
    "    eff_base.append(_effs[\"eff\"])\n",
    "    eff_med.append(_effs[\"eff_med\"])\n",
    "    eff_wm.append(_effs[\"eff_wm\"])"
   ]
  },
  {
   "cell_type": "code",
   "execution_count": 38,
   "id": "77324abe-0318-4f4a-b476-856762438bad",
   "metadata": {},
   "outputs": [
    {
     "data": {
      "text/plain": [
       "[78.05393971443681,\n",
       " 78.05393971443681,\n",
       " 78.05393971443681,\n",
       " 78.05393971443681,\n",
       " 78.05393971443681,\n",
       " 78.05393971443681]"
      ]
     },
     "execution_count": 38,
     "metadata": {},
     "output_type": "execute_result"
    }
   ],
   "source": [
    "eff_base"
   ]
  },
  {
   "cell_type": "code",
   "execution_count": 39,
   "id": "44d26f78-5923-4c5a-85e8-cb648b4f42a9",
   "metadata": {},
   "outputs": [
    {
     "data": {
      "text/plain": [
       "[82.70756213643575,\n",
       " 89.26493918561607,\n",
       " 89.05341089370704,\n",
       " 88.84188260179799,\n",
       " 86.19777895293495,\n",
       " 82.76044420941301]"
      ]
     },
     "execution_count": 39,
     "metadata": {},
     "output_type": "execute_result"
    }
   ],
   "source": [
    "eff_med"
   ]
  },
  {
   "cell_type": "code",
   "execution_count": 40,
   "id": "df4cdc41-0664-4764-afcd-e81f07b2fdc4",
   "metadata": {},
   "outputs": [
    {
     "data": {
      "text/plain": [
       "[79.74616604970915,\n",
       " 86.72659968270756,\n",
       " 78.68852459016394,\n",
       " 76.25594923320995,\n",
       " 70.49180327868852,\n",
       " 68.16499206768906]"
      ]
     },
     "execution_count": 40,
     "metadata": {},
     "output_type": "execute_result"
    }
   ],
   "source": [
    "eff_wm"
   ]
  },
  {
   "cell_type": "code",
   "execution_count": null,
   "id": "75e1b6f3-b9e3-4163-8cfd-bb587e2bdf2a",
   "metadata": {},
   "outputs": [],
   "source": [
    "test = run_efficiency(mc_df, trk_df, nevents=10, top_pt_n=5)"
   ]
  },
  {
   "cell_type": "code",
   "execution_count": 47,
   "id": "58444c4e-3289-469a-8c2b-5a129426e183",
   "metadata": {},
   "outputs": [
    {
     "data": {
      "text/plain": [
       "Text(0, 1, 'Primary Vertex Reconstruction Efficiency [%]')"
      ]
     },
     "execution_count": 47,
     "metadata": {},
     "output_type": "execute_result"
    },
    {
     "data": {
      "image/png": "[encoded data removed]",
      "text/plain": [
       "<Figure size 1000x1000 with 1 Axes>"
      ]
     },
     "metadata": {},
     "output_type": "display_data"
    }
   ],
   "source": [
    "plt.axhline(eff_base[0], ls=\"--\", label=\"Baseline DBSCAN\", color=\"tab:purple\")\n",
    "plt.plot(limits, eff_med, marker=\"o\", label=\"Ranked by pt + median\", color=\"tab:green\")\n",
    "plt.plot(\n",
    "    limits, eff_wm, marker=\"o\", label=\"Ranked by pt + weighted mean\", color=\"tab:blue\"\n",
    ")\n",
    "plt.legend()\n",
    "plt.xlabel(\"Number of highest $p_T$ tracks kept\")\n",
    "plt.ylabel(\"Primary Vertex Reconstruction Efficiency [%]\")"
   ]
  },
  {
   "cell_type": "markdown",
   "id": "1470c3ab-960e-46a8-967d-d7a86c2acac4",
   "metadata": {},
   "source": [
    "As this looks really promising lets do a more detailed comparison with the fasthisto and the normal metrics.\n",
    "For this we will need to incorporate the `BatchedDBSCAN` class into the `primaryvertexingtools`. Shouldn't be a problem."
   ]
  },
  {
   "cell_type": "markdown",
   "id": "14af9038-fe89-4f61-99c6-1c541f6249ef",
   "metadata": {},
   "source": [
    "# Deep analysis"
   ]
  },
  {
   "cell_type": "code",
   "execution_count": 49,
   "id": "d297167c-41dc-4c32-8b19-069ba0c956df",
   "metadata": {},
   "outputs": [],
   "source": [
    "import sys\n",
    "\n",
    "sys.path.append(\"../\")"
   ]
  },
  {
   "cell_type": "code",
   "execution_count": 50,
   "id": "4c487ca1-b647-4fb2-b8d4-a22375571dc5",
   "metadata": {},
   "outputs": [],
   "source": [
    "from notebooks.primaryvertexingtools import PrimaryVertexing, PerformanceMetrics"
   ]
  },
  {
   "cell_type": "code",
   "execution_count": 51,
   "id": "e1393d86-719f-479b-8c4e-2bafd7cd2079",
   "metadata": {},
   "outputs": [],
   "source": [
    "fh_bins = np.linspace(-15, 15, 256)"
   ]
  },
  {
   "cell_type": "code",
   "execution_count": 130,
   "id": "0edeae21-a192-485a-84ea-11140ac37a1c",
   "metadata": {},
   "outputs": [],
   "source": [
    "mc_df2 = pd.read_pickle(\"/home/raichu/data/mc_25k.pkl\")\n",
    "trk_df2 = pd.read_pickle(\"/home/raichu/data/trk_processed_25k.pkl\")"
   ]
  },
  {
   "cell_type": "code",
   "execution_count": 93,
   "id": "7d1f7405-2c32-45cc-8982-d306661f5735",
   "metadata": {},
   "outputs": [],
   "source": [
    "# trk_df2[\"event_number\"] = trk_df2.index.get_level_values(0).values"
   ]
  },
  {
   "cell_type": "code",
   "execution_count": 94,
   "id": "268b87e3-96f8-4b44-914e-56f7c92df748",
   "metadata": {
    "tags": []
   },
   "outputs": [],
   "source": [
    "# trk_count = trk_df2.groupby([\"entry\"])[\"trk_pt\"].count().reset_index()"
   ]
  },
  {
   "cell_type": "code",
   "execution_count": 95,
   "id": "a879878c-a10b-4459-b04c-8e57f221897e",
   "metadata": {},
   "outputs": [],
   "source": [
    "# mask = trk_count.trk_pt > 232"
   ]
  },
  {
   "cell_type": "code",
   "execution_count": 97,
   "id": "0d515c04-f4bc-43e2-adb1-9e3549f77ce0",
   "metadata": {},
   "outputs": [],
   "source": [
    "# trk_count.columns = [\"event_number\", \"trk_pt\"]"
   ]
  },
  {
   "cell_type": "code",
   "execution_count": 98,
   "id": "79f3eef1-a1b8-4c35-b434-1ea99f3cf6c8",
   "metadata": {},
   "outputs": [],
   "source": [
    "# trk_to_drop = trk_count.loc[mask, \"event_number\"].values"
   ]
  },
  {
   "cell_type": "code",
   "execution_count": 99,
   "id": "fa1909aa-9268-46ec-bf4a-0a76c6230202",
   "metadata": {},
   "outputs": [
    {
     "data": {
      "text/plain": [
       "(1411,)"
      ]
     },
     "execution_count": 99,
     "metadata": {},
     "output_type": "execute_result"
    }
   ],
   "source": [
    "# trk_to_drop.shape"
   ]
  },
  {
   "cell_type": "code",
   "execution_count": 100,
   "id": "372d291d-f67a-4280-b63a-0372a6b83c64",
   "metadata": {},
   "outputs": [],
   "source": [
    "# trk_df2 = trk_df2.loc[~trk_df2.event_number.isin(trk_to_drop)].copy()"
   ]
  },
  {
   "cell_type": "code",
   "execution_count": 106,
   "id": "372515be-a4a2-4200-9493-0a0968d04fbf",
   "metadata": {},
   "outputs": [],
   "source": [
    "# mc_df2[\"event_number\"] = mc_df2.index.get_level_values(0).values"
   ]
  },
  {
   "cell_type": "code",
   "execution_count": 107,
   "id": "e3b767c3-de7f-4f85-8540-f2b9b67e98a8",
   "metadata": {},
   "outputs": [],
   "source": [
    "# mc_df2 = mc_df2.loc[~mc_df2.event_number.isin(trk_to_drop)].copy()"
   ]
  },
  {
   "cell_type": "code",
   "execution_count": 149,
   "id": "6c5255da-8ad1-4dc0-94cf-3edc211bd1a8",
   "metadata": {},
   "outputs": [],
   "source": [
    "config = {\n",
    "    \"track_data\": trk_df2,\n",
    "    \"truth_data\": mc_df2,\n",
    "    \"fh_bins\": fh_bins,\n",
    "    \"test_run\": True,\n",
    "    \"nevents_test\": 1500,\n",
    "    \"rank_by_pt\": False,\n",
    "}"
   ]
  },
  {
   "cell_type": "code",
   "execution_count": 150,
   "id": "1ffdb695-e33d-414f-a737-29df37b741b1",
   "metadata": {
    "tags": []
   },
   "outputs": [
    {
     "data": {
      "text/html": [
       "<div>\n",
       "<style scoped>\n",
       "    .dataframe tbody tr th:only-of-type {\n",
       "        vertical-align: middle;\n",
       "    }\n",
       "\n",
       "    .dataframe tbody tr th {\n",
       "        vertical-align: top;\n",
       "    }\n",
       "\n",
       "    .dataframe thead th {\n",
       "        text-align: right;\n",
       "    }\n",
       "</style>\n",
       "<table border=\"1\" class=\"dataframe\">\n",
       "  <thead>\n",
       "    <tr style=\"text-align: right;\">\n",
       "      <th></th>\n",
       "      <th></th>\n",
       "      <th>trk_pt</th>\n",
       "      <th>trk_eta</th>\n",
       "      <th>trk_phi</th>\n",
       "      <th>trk_d0</th>\n",
       "      <th>trk_z0</th>\n",
       "      <th>trk_fake</th>\n",
       "      <th>is_pv</th>\n",
       "    </tr>\n",
       "    <tr>\n",
       "      <th>entry</th>\n",
       "      <th>subentry</th>\n",
       "      <th></th>\n",
       "      <th></th>\n",
       "      <th></th>\n",
       "      <th></th>\n",
       "      <th></th>\n",
       "      <th></th>\n",
       "      <th></th>\n",
       "    </tr>\n",
       "  </thead>\n",
       "  <tbody>\n",
       "    <tr>\n",
       "      <th rowspan=\"5\" valign=\"top\">0</th>\n",
       "      <th>0</th>\n",
       "      <td>2.62</td>\n",
       "      <td>1.30</td>\n",
       "      <td>-0.29</td>\n",
       "      <td>999.0</td>\n",
       "      <td>-0.88</td>\n",
       "      <td>2</td>\n",
       "      <td>0</td>\n",
       "    </tr>\n",
       "    <tr>\n",
       "      <th>1</th>\n",
       "      <td>3.44</td>\n",
       "      <td>0.57</td>\n",
       "      <td>-0.16</td>\n",
       "      <td>999.0</td>\n",
       "      <td>3.34</td>\n",
       "      <td>2</td>\n",
       "      <td>0</td>\n",
       "    </tr>\n",
       "    <tr>\n",
       "      <th>2</th>\n",
       "      <td>3.77</td>\n",
       "      <td>1.82</td>\n",
       "      <td>-0.24</td>\n",
       "      <td>999.0</td>\n",
       "      <td>4.92</td>\n",
       "      <td>1</td>\n",
       "      <td>1</td>\n",
       "    </tr>\n",
       "    <tr>\n",
       "      <th>3</th>\n",
       "      <td>2.64</td>\n",
       "      <td>-1.44</td>\n",
       "      <td>-0.13</td>\n",
       "      <td>999.0</td>\n",
       "      <td>-0.47</td>\n",
       "      <td>2</td>\n",
       "      <td>0</td>\n",
       "    </tr>\n",
       "    <tr>\n",
       "      <th>4</th>\n",
       "      <td>2.32</td>\n",
       "      <td>1.84</td>\n",
       "      <td>0.03</td>\n",
       "      <td>999.0</td>\n",
       "      <td>4.98</td>\n",
       "      <td>1</td>\n",
       "      <td>1</td>\n",
       "    </tr>\n",
       "  </tbody>\n",
       "</table>\n",
       "</div>"
      ],
      "text/plain": [
       "                trk_pt  trk_eta  trk_phi  trk_d0  trk_z0  trk_fake  is_pv\n",
       "entry subentry                                                           \n",
       "0     0           2.62     1.30    -0.29   999.0   -0.88         2      0\n",
       "      1           3.44     0.57    -0.16   999.0    3.34         2      0\n",
       "      2           3.77     1.82    -0.24   999.0    4.92         1      1\n",
       "      3           2.64    -1.44    -0.13   999.0   -0.47         2      0\n",
       "      4           2.32     1.84     0.03   999.0    4.98         1      1"
      ]
     },
     "execution_count": 150,
     "metadata": {},
     "output_type": "execute_result"
    }
   ],
   "source": [
    "trk_df2.head()"
   ]
  },
  {
   "cell_type": "code",
   "execution_count": 151,
   "id": "ba43dd09-098d-4103-bda3-d8213a41b1cb",
   "metadata": {},
   "outputs": [
    {
     "name": "stdout",
     "output_type": "stream",
     "text": [
      "Initialized Primary Vertexing setup\n"
     ]
    }
   ],
   "source": [
    "pv = PrimaryVertexing(config)"
   ]
  },
  {
   "cell_type": "code",
   "execution_count": 152,
   "id": "54e00884-c120-4203-b1e8-b942a867490e",
   "metadata": {},
   "outputs": [
    {
     "name": "stderr",
     "output_type": "stream",
     "text": [
      "100%|█████████████████████████████████████████████████████████████████████████████████████████████████████████████████████████████████████████████████████████████████████████████████████████████████████████████████████████████████████████████████████████████████████████████████████████████████████████████████████████████████| 1501/1501 [00:01<00:00, 1217.03it/s]"
     ]
    },
    {
     "name": "stdout",
     "output_type": "stream",
     "text": [
      "Ran Fast Histo\n"
     ]
    },
    {
     "name": "stderr",
     "output_type": "stream",
     "text": [
      "\n"
     ]
    }
   ],
   "source": [
    "pv.run_fh()"
   ]
  },
  {
   "cell_type": "code",
   "execution_count": 153,
   "id": "eeeefdb2-bd1e-4efc-b952-75aa7de779bb",
   "metadata": {},
   "outputs": [
    {
     "name": "stderr",
     "output_type": "stream",
     "text": [
      "100%|█████████████████████████████████████████████████████████████████████████████████████████████████████████████████████████████████████████████████████████████████████████████████████████████████████████████████████████████████████████████████████████████████████████████████████████████████████████████████████████████████▉ | 1496/1501 [00:24<00:00, 64.48it/s]/home/raichu/miniconda3/envs/db/lib/python3.9/site-packages/tqdm/std.py:814: FutureWarning: Not prepending group keys to the result index of transform-like apply. In the future, the group keys will be included in the index, regardless of whether the applied function returns a like-indexed object.\n",
      "To preserve the previous behavior, use\n",
      "\n",
      "\t>>> .groupby(..., group_keys=False)\n",
      "\n",
      "To adopt the future behavior and silence this warning, use \n",
      "\n",
      "\t>>> .groupby(..., group_keys=True)\n",
      "  return getattr(df, df_function)(wrapper, **kwargs)\n",
      "100%|███████████████████████████████████████████████████████████████████████████████████████████████████████████████████████████████████████████████████████████████████████████████████████████████████████████████████████████████████████████████████████████████████████████████████████████████████████████████████████████████████| 1501/1501 [00:24<00:00, 60.64it/s]"
     ]
    },
    {
     "name": "stdout",
     "output_type": "stream",
     "text": [
      "Ran DBSCAN with eps: 0.08, minPts: 2\n"
     ]
    },
    {
     "name": "stderr",
     "output_type": "stream",
     "text": [
      "\n"
     ]
    }
   ],
   "source": [
    "pv.run_dbscan(stat=\"median\")"
   ]
  },
  {
   "cell_type": "code",
   "execution_count": 157,
   "id": "7fe1733a-83c0-4233-b375-f823453d1182",
   "metadata": {},
   "outputs": [
    {
     "name": "stderr",
     "output_type": "stream",
     "text": [
      "100%|███████████████████████████████████████████████████████████████████████████████████████████████████████████████████████████████████████████████████████████████████████████████████████████████████████████████████████████████████████████████████████████████████████████████████████████████████████████████████████████████████| 1500/1500 [03:31<00:00,  7.11it/s]\n"
     ]
    },
    {
     "name": "stdout",
     "output_type": "stream",
     "text": [
      "Ran Batched DBSCAN\n"
     ]
    }
   ],
   "source": [
    "pv.run_batched_dbscan(rank_by_pt=True, top_pt_n=10, max_number_of_tracks=1665)"
   ]
  },
  {
   "cell_type": "code",
   "execution_count": 138,
   "id": "a492b1c0-4630-480b-8fe8-9526cf4b754b",
   "metadata": {},
   "outputs": [
    {
     "data": {
      "text/plain": [
       "3.92578125"
      ]
     },
     "execution_count": 138,
     "metadata": {},
     "output_type": "execute_result"
    }
   ],
   "source": [
    "pv.z0_reco_bdb"
   ]
  },
  {
   "cell_type": "code",
   "execution_count": 159,
   "id": "1a0d1e3e-3525-4480-87ca-8921243a1e47",
   "metadata": {},
   "outputs": [],
   "source": [
    "pv.z0_reco_bdb = pv.trk.z0_reco_bdb.groupby(\"entry\").first().values"
   ]
  },
  {
   "cell_type": "code",
   "execution_count": 144,
   "id": "02ac2789-51ff-4655-967c-adbcb8220cd4",
   "metadata": {},
   "outputs": [
    {
     "data": {
      "text/plain": [
       "array([ 4.98, -3.6 , -0.18,  2.75, -1.29, -3.84, -0.7 , -5.45,  1.58,\n",
       "       -2.99,  8.96, -3.4 , -0.06, -4.45, -5.16, -1.  ,  1.58, -3.81,\n",
       "       -5.04,  5.8 ,  0.91,  0.62, -3.81,  3.11, -2.23,  1.82, -1.29,\n",
       "       -1.05,  1.35, -3.69,  0.  , -0.12,  0.88,  4.98, -3.46, -0.23,\n",
       "        2.75, -5.51,  1.7 ,  0.18,  0.03,  5.04, -0.18,  2.61, -2.81,\n",
       "       -0.21, -1.35, -0.82, -0.35, -6.33,  1.93, -5.92,  0.29,  2.58,\n",
       "       -3.93,  0.  , -5.8 ,  6.47, -5.74,  3.81,  0.18, -2.29,  1.35,\n",
       "       -2.23, -0.94,  1.7 , -9.67, -0.35, -0.06, -1.35, -3.63,  8.96,\n",
       "        3.98,  1.29,  3.34, -4.16, -5.16,  2.4 ,  2.99,  4.63,  2.64,\n",
       "        9.2 ,  4.63,  5.1 , 10.9 ,  5.04, -1.88, -1.11, -5.62,  4.98,\n",
       "        4.98,  2.4 , -2.46,  9.08,  4.04, -1.82,  4.16,  0.12,  0.82,\n",
       "        3.93, -8.32], dtype=float32)"
      ]
     },
     "execution_count": 144,
     "metadata": {},
     "output_type": "execute_result"
    }
   ],
   "source": [
    "pv.z0_reco_db"
   ]
  },
  {
   "cell_type": "code",
   "execution_count": 160,
   "id": "55e68344-cbf8-4f85-ad62-a8b2d48e47fb",
   "metadata": {},
   "outputs": [
    {
     "name": "stdout",
     "output_type": "stream",
     "text": [
      "0.11212462\n",
      "positive bias 0.03151378\n",
      "negative bias -0.037296772\n",
      "positive bias 0.035238683223724365\n",
      "negative bias -0.03353118896484375\n"
     ]
    }
   ],
   "source": [
    "pm = PerformanceMetrics(pv)"
   ]
  },
  {
   "cell_type": "code",
   "execution_count": 161,
   "id": "ef7e2a63-b087-4eea-ba86-ddfe38d2941f",
   "metadata": {},
   "outputs": [
    {
     "name": "stdout",
     "output_type": "stream",
     "text": [
      "75.55 %\n"
     ]
    }
   ],
   "source": [
    "pm.pv_efficiency((pm.z0_gen - pm.z0_reco_fh_cor), display=True)"
   ]
  },
  {
   "cell_type": "code",
   "execution_count": 162,
   "id": "73712d66-9c60-42f5-a327-30c1a3bbb4c7",
   "metadata": {},
   "outputs": [
    {
     "name": "stdout",
     "output_type": "stream",
     "text": [
      "78.15 %\n"
     ]
    }
   ],
   "source": [
    "pm.pv_efficiency((pm.z0_gen - pm.z0_reco_db_cor), display=True)"
   ]
  },
  {
   "cell_type": "code",
   "execution_count": 163,
   "id": "02eac1a3-fee4-4975-8e10-fef8d37cb289",
   "metadata": {},
   "outputs": [
    {
     "name": "stdout",
     "output_type": "stream",
     "text": [
      "83.81 %\n"
     ]
    }
   ],
   "source": [
    "pm.pv_efficiency((pm.z0_gen - pm.z0_reco_bdb_cor), display=True)"
   ]
  },
  {
   "cell_type": "code",
   "execution_count": null,
   "id": "2a7dc6ba-69cc-45ff-bcef-304bdd2ae061",
   "metadata": {},
   "outputs": [],
   "source": []
  }
 ],
 "metadata": {
  "kernelspec": {
   "display_name": "db",
   "language": "python",
   "name": "db"
  },
  "language_info": {
   "codemirror_mode": {
    "name": "ipython",
    "version": 3
   },
   "file_extension": ".py",
   "mimetype": "text/x-python",
   "name": "python",
   "nbconvert_exporter": "python",
   "pygments_lexer": "ipython3",
   "version": "3.9.13"
  }
 },
 "nbformat": 4,
 "nbformat_minor": 5
}
