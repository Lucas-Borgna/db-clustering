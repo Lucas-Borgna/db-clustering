{
 "cells": [
  {
   "cell_type": "code",
   "execution_count": 44,
   "id": "a375af40-ed7e-437d-a9f5-06147f52facf",
   "metadata": {},
   "outputs": [
    {
     "name": "stdout",
     "output_type": "stream",
     "text": [
      "The autoreload extension is already loaded. To reload it, use:\n",
      "  %reload_ext autoreload\n",
      "The lab_black extension is already loaded. To reload it, use:\n",
      "  %reload_ext lab_black\n"
     ]
    }
   ],
   "source": [
    "### Reloads modules properly\n",
    "%load_ext autoreload\n",
    "%autoreload 2\n",
    "%load_ext lab_black"
   ]
  },
  {
   "cell_type": "markdown",
   "id": "0fb0acdb-328d-45f6-be0c-595f3e74ec5a",
   "metadata": {},
   "source": [
    "# Batched Weighted Mean"
   ]
  },
  {
   "cell_type": "markdown",
   "id": "5551fa2b-2913-4433-a8b7-cf0fd5e8901a",
   "metadata": {},
   "source": [
    "How can we calculate a weighted mean in a batched process. So lets load some data for example"
   ]
  },
  {
   "cell_type": "code",
   "execution_count": 3,
   "id": "e50836f1-817b-4676-be8d-126f5cafc5da",
   "metadata": {
    "collapsed": true,
    "jupyter": {
     "outputs_hidden": true
    },
    "tags": []
   },
   "outputs": [
    {
     "name": "stdout",
     "output_type": "stream",
     "text": [
      "0-0-reconVertices.bin\tb-48-trk-pt.bin\t\tb-87-trk-mc.bin\n",
      "0-1-reconVertices.bin\tb-48-trk-z0.bin\t\tb-87-trk-pt.bin\n",
      "b-0-recon-pt.bin\tb-49-recon-pt.bin\tb-87-trk-z0.bin\n",
      "b-0-reconVertices.bin\tb-49-reconVertices.bin\tb-88-recon-pt.bin\n",
      "b-0-recon-z0.bin\tb-49-recon-z0.bin\tb-88-reconVertices.bin\n",
      "b-0-trk-fake.bin\tb-49-trk-fake.bin\tb-88-recon-z0.bin\n",
      "b-0-trk-mc.bin\t\tb-49-trk-mc.bin\t\tb-88-trk-fake.bin\n",
      "b-0-trk-pt.bin\t\tb-49-trk-pt.bin\t\tb-88-trk-mc.bin\n",
      "b-0-trk-z0.bin\t\tb-49-trk-z0.bin\t\tb-88-trk-pt.bin\n",
      "b-10-recon-pt.bin\tb-4-recon-pt.bin\tb-88-trk-z0.bin\n",
      "b-10-reconVertices.bin\tb-4-reconVertices.bin\tb-89-recon-pt.bin\n",
      "b-10-recon-z0.bin\tb-4-recon-z0.bin\tb-89-reconVertices.bin\n",
      "b-10-trk-fake.bin\tb-4-trk-fake.bin\tb-89-recon-z0.bin\n",
      "b-10-trk-mc.bin\t\tb-4-trk-mc.bin\t\tb-89-trk-fake.bin\n",
      "b-10-trk-pt.bin\t\tb-4-trk-pt.bin\t\tb-89-trk-mc.bin\n",
      "b-10-trk-z0.bin\t\tb-4-trk-z0.bin\t\tb-89-trk-pt.bin\n",
      "b-11-recon-pt.bin\tb-50-recon-pt.bin\tb-89-trk-z0.bin\n",
      "b-11-reconVertices.bin\tb-50-reconVertices.bin\tb-8-recon-pt.bin\n",
      "b-11-recon-z0.bin\tb-50-recon-z0.bin\tb-8-reconVertices.bin\n",
      "b-11-trk-fake.bin\tb-50-trk-fake.bin\tb-8-recon-z0.bin\n",
      "b-11-trk-mc.bin\t\tb-50-trk-mc.bin\t\tb-8-trk-fake.bin\n",
      "b-11-trk-pt.bin\t\tb-50-trk-pt.bin\t\tb-8-trk-mc.bin\n",
      "b-11-trk-z0.bin\t\tb-50-trk-z0.bin\t\tb-8-trk-pt.bin\n",
      "b-12-recon-pt.bin\tb-51-recon-pt.bin\tb-8-trk-z0.bin\n",
      "b-12-reconVertices.bin\tb-51-reconVertices.bin\tb-90-recon-pt.bin\n",
      "b-12-recon-z0.bin\tb-51-recon-z0.bin\tb-90-reconVertices.bin\n",
      "b-12-trk-fake.bin\tb-51-trk-fake.bin\tb-90-recon-z0.bin\n",
      "b-12-trk-mc.bin\t\tb-51-trk-mc.bin\t\tb-90-trk-fake.bin\n",
      "b-12-trk-pt.bin\t\tb-51-trk-pt.bin\t\tb-90-trk-mc.bin\n",
      "b-12-trk-z0.bin\t\tb-51-trk-z0.bin\t\tb-90-trk-pt.bin\n",
      "b-13-recon-pt.bin\tb-52-recon-pt.bin\tb-90-trk-z0.bin\n",
      "b-13-reconVertices.bin\tb-52-reconVertices.bin\tb-91-recon-pt.bin\n",
      "b-13-recon-z0.bin\tb-52-recon-z0.bin\tb-91-reconVertices.bin\n",
      "b-13-trk-fake.bin\tb-52-trk-fake.bin\tb-91-recon-z0.bin\n",
      "b-13-trk-mc.bin\t\tb-52-trk-mc.bin\t\tb-91-trk-fake.bin\n",
      "b-13-trk-pt.bin\t\tb-52-trk-pt.bin\t\tb-91-trk-mc.bin\n",
      "b-13-trk-z0.bin\t\tb-52-trk-z0.bin\t\tb-91-trk-pt.bin\n",
      "b-14-recon-pt.bin\tb-53-recon-pt.bin\tb-91-trk-z0.bin\n",
      "b-14-reconVertices.bin\tb-53-reconVertices.bin\tb-92-recon-pt.bin\n",
      "b-14-recon-z0.bin\tb-53-recon-z0.bin\tb-92-reconVertices.bin\n",
      "b-14-trk-fake.bin\tb-53-trk-fake.bin\tb-92-recon-z0.bin\n",
      "b-14-trk-mc.bin\t\tb-53-trk-mc.bin\t\tb-92-trk-fake.bin\n",
      "b-14-trk-pt.bin\t\tb-53-trk-pt.bin\t\tb-92-trk-mc.bin\n",
      "b-14-trk-z0.bin\t\tb-53-trk-z0.bin\t\tb-92-trk-pt.bin\n",
      "b-15-recon-pt.bin\tb-54-recon-pt.bin\tb-92-trk-z0.bin\n",
      "b-15-reconVertices.bin\tb-54-reconVertices.bin\tb-93-recon-pt.bin\n",
      "b-15-recon-z0.bin\tb-54-recon-z0.bin\tb-93-reconVertices.bin\n",
      "b-15-trk-fake.bin\tb-54-trk-fake.bin\tb-93-recon-z0.bin\n",
      "b-15-trk-mc.bin\t\tb-54-trk-mc.bin\t\tb-93-trk-fake.bin\n",
      "b-15-trk-pt.bin\t\tb-54-trk-pt.bin\t\tb-93-trk-mc.bin\n",
      "b-15-trk-z0.bin\t\tb-54-trk-z0.bin\t\tb-93-trk-pt.bin\n",
      "b-16-recon-pt.bin\tb-55-recon-pt.bin\tb-93-trk-z0.bin\n",
      "b-16-reconVertices.bin\tb-55-reconVertices.bin\tb-94-recon-pt.bin\n",
      "b-16-recon-z0.bin\tb-55-recon-z0.bin\tb-94-reconVertices.bin\n",
      "b-16-trk-fake.bin\tb-55-trk-fake.bin\tb-94-recon-z0.bin\n",
      "b-16-trk-mc.bin\t\tb-55-trk-mc.bin\t\tb-94-trk-fake.bin\n",
      "b-16-trk-pt.bin\t\tb-55-trk-pt.bin\t\tb-94-trk-mc.bin\n",
      "b-16-trk-z0.bin\t\tb-55-trk-z0.bin\t\tb-94-trk-pt.bin\n",
      "b-17-recon-pt.bin\tb-56-recon-pt.bin\tb-94-trk-z0.bin\n",
      "b-17-reconVertices.bin\tb-56-reconVertices.bin\tb-95-recon-pt.bin\n",
      "b-17-recon-z0.bin\tb-56-recon-z0.bin\tb-95-reconVertices.bin\n",
      "b-17-trk-fake.bin\tb-56-trk-fake.bin\tb-95-recon-z0.bin\n",
      "b-17-trk-mc.bin\t\tb-56-trk-mc.bin\t\tb-95-trk-fake.bin\n",
      "b-17-trk-pt.bin\t\tb-56-trk-pt.bin\t\tb-95-trk-mc.bin\n",
      "b-17-trk-z0.bin\t\tb-56-trk-z0.bin\t\tb-95-trk-pt.bin\n",
      "b-18-recon-pt.bin\tb-57-recon-pt.bin\tb-95-trk-z0.bin\n",
      "b-18-reconVertices.bin\tb-57-reconVertices.bin\tb-96-recon-pt.bin\n",
      "b-18-recon-z0.bin\tb-57-recon-z0.bin\tb-96-reconVertices.bin\n",
      "b-18-trk-fake.bin\tb-57-trk-fake.bin\tb-96-recon-z0.bin\n",
      "b-18-trk-mc.bin\t\tb-57-trk-mc.bin\t\tb-96-trk-fake.bin\n",
      "b-18-trk-pt.bin\t\tb-57-trk-pt.bin\t\tb-96-trk-mc.bin\n",
      "b-18-trk-z0.bin\t\tb-57-trk-z0.bin\t\tb-96-trk-pt.bin\n",
      "b-19-recon-pt.bin\tb-58-recon-pt.bin\tb-96-trk-z0.bin\n",
      "b-19-reconVertices.bin\tb-58-reconVertices.bin\tb-97-recon-pt.bin\n",
      "b-19-recon-z0.bin\tb-58-recon-z0.bin\tb-97-reconVertices.bin\n",
      "b-19-trk-fake.bin\tb-58-trk-fake.bin\tb-97-recon-z0.bin\n",
      "b-19-trk-mc.bin\t\tb-58-trk-mc.bin\t\tb-97-trk-fake.bin\n",
      "b-19-trk-pt.bin\t\tb-58-trk-pt.bin\t\tb-97-trk-mc.bin\n",
      "b-19-trk-z0.bin\t\tb-58-trk-z0.bin\t\tb-97-trk-pt.bin\n",
      "b-1-recon-pt.bin\tb-59-recon-pt.bin\tb-97-trk-z0.bin\n",
      "b-1-reconVertices.bin\tb-59-reconVertices.bin\tb-98-recon-pt.bin\n",
      "b-1-recon-z0.bin\tb-59-recon-z0.bin\tb-98-reconVertices.bin\n",
      "b-1-trk-fake.bin\tb-59-trk-fake.bin\tb-98-recon-z0.bin\n",
      "b-1-trk-mc.bin\t\tb-59-trk-mc.bin\t\tb-98-trk-fake.bin\n",
      "b-1-trk-pt.bin\t\tb-59-trk-pt.bin\t\tb-98-trk-mc.bin\n",
      "b-1-trk-z0.bin\t\tb-59-trk-z0.bin\t\tb-98-trk-pt.bin\n",
      "b-20-recon-pt.bin\tb-5-recon-pt.bin\tb-98-trk-z0.bin\n",
      "b-20-reconVertices.bin\tb-5-reconVertices.bin\tb-99-recon-pt.bin\n",
      "b-20-recon-z0.bin\tb-5-recon-z0.bin\tb-99-reconVertices.bin\n",
      "b-20-trk-fake.bin\tb-5-trk-fake.bin\tb-99-recon-z0.bin\n",
      "b-20-trk-mc.bin\t\tb-5-trk-mc.bin\t\tb-99-trk-fake.bin\n",
      "b-20-trk-pt.bin\t\tb-5-trk-pt.bin\t\tb-99-trk-mc.bin\n",
      "b-20-trk-z0.bin\t\tb-5-trk-z0.bin\t\tb-99-trk-pt.bin\n",
      "b-21-recon-pt.bin\tb-60-recon-pt.bin\tb-99-trk-z0.bin\n",
      "b-21-reconVertices.bin\tb-60-reconVertices.bin\tb-9-recon-pt.bin\n",
      "b-21-recon-z0.bin\tb-60-recon-z0.bin\tb-9-reconVertices.bin\n",
      "b-21-trk-fake.bin\tb-60-trk-fake.bin\tb-9-recon-z0.bin\n",
      "b-21-trk-mc.bin\t\tb-60-trk-mc.bin\t\tb-9-trk-fake.bin\n",
      "b-21-trk-pt.bin\t\tb-60-trk-pt.bin\t\tb-9-trk-mc.bin\n",
      "b-21-trk-z0.bin\t\tb-60-trk-z0.bin\t\tb-9-trk-pt.bin\n",
      "b-22-recon-pt.bin\tb-61-recon-pt.bin\tb-9-trk-z0.bin\n",
      "b-22-reconVertices.bin\tb-61-reconVertices.bin\tskl-0-pt.txt\n",
      "b-22-recon-z0.bin\tb-61-recon-z0.bin\tskl-0-z0.txt\n",
      "b-22-trk-fake.bin\tb-61-trk-fake.bin\tskl-10-pt.txt\n",
      "b-22-trk-mc.bin\t\tb-61-trk-mc.bin\t\tskl-10-z0.txt\n",
      "b-22-trk-pt.bin\t\tb-61-trk-pt.bin\t\tskl-11-pt.txt\n",
      "b-22-trk-z0.bin\t\tb-61-trk-z0.bin\t\tskl-11-z0.txt\n",
      "b-23-recon-pt.bin\tb-62-recon-pt.bin\tskl-12-pt.txt\n",
      "b-23-reconVertices.bin\tb-62-reconVertices.bin\tskl-12-z0.txt\n",
      "b-23-recon-z0.bin\tb-62-recon-z0.bin\tskl-13-pt.txt\n",
      "b-23-trk-fake.bin\tb-62-trk-fake.bin\tskl-13-z0.txt\n",
      "b-23-trk-mc.bin\t\tb-62-trk-mc.bin\t\tskl-14-pt.txt\n",
      "b-23-trk-pt.bin\t\tb-62-trk-pt.bin\t\tskl-14-z0.txt\n",
      "b-23-trk-z0.bin\t\tb-62-trk-z0.bin\t\tskl-15-pt.txt\n",
      "b-24-recon-pt.bin\tb-63-recon-pt.bin\tskl-15-z0.txt\n",
      "b-24-reconVertices.bin\tb-63-reconVertices.bin\tskl-16-pt.txt\n",
      "b-24-recon-z0.bin\tb-63-recon-z0.bin\tskl-16-z0.txt\n",
      "b-24-trk-fake.bin\tb-63-trk-fake.bin\tskl-17-pt.txt\n",
      "b-24-trk-mc.bin\t\tb-63-trk-mc.bin\t\tskl-17-z0.txt\n",
      "b-24-trk-pt.bin\t\tb-63-trk-pt.bin\t\tskl-18-pt.txt\n",
      "b-24-trk-z0.bin\t\tb-63-trk-z0.bin\t\tskl-18-z0.txt\n",
      "b-25-recon-pt.bin\tb-64-recon-pt.bin\tskl-19-pt.txt\n",
      "b-25-reconVertices.bin\tb-64-reconVertices.bin\tskl-19-z0.txt\n",
      "b-25-recon-z0.bin\tb-64-recon-z0.bin\tskl-1-pt.txt\n",
      "b-25-trk-fake.bin\tb-64-trk-fake.bin\tskl-1-z0.txt\n",
      "b-25-trk-mc.bin\t\tb-64-trk-mc.bin\t\tskl-20-pt.txt\n",
      "b-25-trk-pt.bin\t\tb-64-trk-pt.bin\t\tskl-20-z0.txt\n",
      "b-25-trk-z0.bin\t\tb-64-trk-z0.bin\t\tskl-21-pt.txt\n",
      "b-26-recon-pt.bin\tb-65-recon-pt.bin\tskl-21-z0.txt\n",
      "b-26-reconVertices.bin\tb-65-reconVertices.bin\tskl-22-pt.txt\n",
      "b-26-recon-z0.bin\tb-65-recon-z0.bin\tskl-22-z0.txt\n",
      "b-26-trk-fake.bin\tb-65-trk-fake.bin\tskl-23-pt.txt\n",
      "b-26-trk-mc.bin\t\tb-65-trk-mc.bin\t\tskl-23-z0.txt\n",
      "b-26-trk-pt.bin\t\tb-65-trk-pt.bin\t\tskl-24-pt.txt\n",
      "b-26-trk-z0.bin\t\tb-65-trk-z0.bin\t\tskl-24-z0.txt\n",
      "b-27-recon-pt.bin\tb-66-recon-pt.bin\tskl-25-pt.txt\n",
      "b-27-reconVertices.bin\tb-66-reconVertices.bin\tskl-25-z0.txt\n",
      "b-27-recon-z0.bin\tb-66-recon-z0.bin\tskl-26-pt.txt\n",
      "b-27-trk-fake.bin\tb-66-trk-fake.bin\tskl-26-z0.txt\n",
      "b-27-trk-mc.bin\t\tb-66-trk-mc.bin\t\tskl-27-pt.txt\n",
      "b-27-trk-pt.bin\t\tb-66-trk-pt.bin\t\tskl-27-z0.txt\n",
      "b-27-trk-z0.bin\t\tb-66-trk-z0.bin\t\tskl-28-pt.txt\n",
      "b-28-recon-pt.bin\tb-67-recon-pt.bin\tskl-28-z0.txt\n",
      "b-28-reconVertices.bin\tb-67-reconVertices.bin\tskl-29-pt.txt\n",
      "b-28-recon-z0.bin\tb-67-recon-z0.bin\tskl-29-z0.txt\n",
      "b-28-trk-fake.bin\tb-67-trk-fake.bin\tskl-2-pt.txt\n",
      "b-28-trk-mc.bin\t\tb-67-trk-mc.bin\t\tskl-2-z0.txt\n",
      "b-28-trk-pt.bin\t\tb-67-trk-pt.bin\t\tskl-30-pt.txt\n",
      "b-28-trk-z0.bin\t\tb-67-trk-z0.bin\t\tskl-30-z0.txt\n",
      "b-29-recon-pt.bin\tb-68-recon-pt.bin\tskl-31-pt.txt\n",
      "b-29-reconVertices.bin\tb-68-reconVertices.bin\tskl-31-z0.txt\n",
      "b-29-recon-z0.bin\tb-68-recon-z0.bin\tskl-32-pt.txt\n",
      "b-29-trk-fake.bin\tb-68-trk-fake.bin\tskl-32-z0.txt\n",
      "b-29-trk-mc.bin\t\tb-68-trk-mc.bin\t\tskl-33-pt.txt\n",
      "b-29-trk-pt.bin\t\tb-68-trk-pt.bin\t\tskl-33-z0.txt\n",
      "b-29-trk-z0.bin\t\tb-68-trk-z0.bin\t\tskl-34-pt.txt\n",
      "b-2-recon-pt.bin\tb-69-recon-pt.bin\tskl-34-z0.txt\n",
      "b-2-reconVertices.bin\tb-69-reconVertices.bin\tskl-35-pt.txt\n",
      "b-2-recon-z0.bin\tb-69-recon-z0.bin\tskl-35-z0.txt\n",
      "b-2-trk-fake.bin\tb-69-trk-fake.bin\tskl-36-pt.txt\n",
      "b-2-trk-mc.bin\t\tb-69-trk-mc.bin\t\tskl-36-z0.txt\n",
      "b-2-trk-pt.bin\t\tb-69-trk-pt.bin\t\tskl-37-pt.txt\n",
      "b-2-trk-z0.bin\t\tb-69-trk-z0.bin\t\tskl-37-z0.txt\n",
      "b-30-recon-pt.bin\tb-6-recon-pt.bin\tskl-38-pt.txt\n",
      "b-30-reconVertices.bin\tb-6-reconVertices.bin\tskl-38-z0.txt\n",
      "b-30-recon-z0.bin\tb-6-recon-z0.bin\tskl-39-pt.txt\n",
      "b-30-trk-fake.bin\tb-6-trk-fake.bin\tskl-39-z0.txt\n",
      "b-30-trk-mc.bin\t\tb-6-trk-mc.bin\t\tskl-3-pt.txt\n",
      "b-30-trk-pt.bin\t\tb-6-trk-mc.txt\t\tskl-3-z0.txt\n",
      "b-30-trk-z0.bin\t\tb-6-trk-pt.bin\t\tskl-40-pt.txt\n",
      "b-31-recon-pt.bin\tb-6-trk-z0.bin\t\tskl-40-z0.txt\n",
      "b-31-reconVertices.bin\tb-70-recon-pt.bin\tskl-41-pt.txt\n",
      "b-31-recon-z0.bin\tb-70-reconVertices.bin\tskl-41-z0.txt\n",
      "b-31-trk-fake.bin\tb-70-recon-z0.bin\tskl-42-pt.txt\n",
      "b-31-trk-mc.bin\t\tb-70-trk-fake.bin\tskl-42-z0.txt\n",
      "b-31-trk-pt.bin\t\tb-70-trk-mc.bin\t\tskl-43-pt.txt\n",
      "b-31-trk-z0.bin\t\tb-70-trk-pt.bin\t\tskl-43-z0.txt\n",
      "b-32-recon-pt.bin\tb-70-trk-z0.bin\t\tskl-44-pt.txt\n",
      "b-32-reconVertices.bin\tb-71-recon-pt.bin\tskl-44-z0.txt\n",
      "b-32-recon-z0.bin\tb-71-reconVertices.bin\tskl-45-pt.txt\n",
      "b-32-trk-fake.bin\tb-71-recon-z0.bin\tskl-45-z0.txt\n",
      "b-32-trk-mc.bin\t\tb-71-trk-fake.bin\tskl-46-pt.txt\n",
      "b-32-trk-pt.bin\t\tb-71-trk-mc.bin\t\tskl-46-z0.txt\n",
      "b-32-trk-z0.bin\t\tb-71-trk-pt.bin\t\tskl-47-pt.txt\n",
      "b-33-recon-pt.bin\tb-71-trk-z0.bin\t\tskl-47-z0.txt\n",
      "b-33-reconVertices.bin\tb-72-recon-pt.bin\tskl-48-pt.txt\n",
      "b-33-recon-z0.bin\tb-72-reconVertices.bin\tskl-48-z0.txt\n",
      "b-33-trk-fake.bin\tb-72-recon-z0.bin\tskl-49-pt.txt\n",
      "b-33-trk-mc.bin\t\tb-72-trk-fake.bin\tskl-49-z0.txt\n",
      "b-33-trk-pt.bin\t\tb-72-trk-mc.bin\t\tskl-4-pt.txt\n",
      "b-33-trk-z0.bin\t\tb-72-trk-pt.bin\t\tskl-4-z0.txt\n",
      "b-34-recon-pt.bin\tb-72-trk-z0.bin\t\tskl-50-pt.txt\n",
      "b-34-reconVertices.bin\tb-73-recon-pt.bin\tskl-50-z0.txt\n",
      "b-34-recon-z0.bin\tb-73-reconVertices.bin\tskl-51-pt.txt\n",
      "b-34-trk-fake.bin\tb-73-recon-z0.bin\tskl-51-z0.txt\n",
      "b-34-trk-mc.bin\t\tb-73-trk-fake.bin\tskl-52-pt.txt\n",
      "b-34-trk-pt.bin\t\tb-73-trk-mc.bin\t\tskl-52-z0.txt\n",
      "b-34-trk-z0.bin\t\tb-73-trk-pt.bin\t\tskl-53-pt.txt\n",
      "b-35-recon-pt.bin\tb-73-trk-z0.bin\t\tskl-53-z0.txt\n",
      "b-35-reconVertices.bin\tb-74-recon-pt.bin\tskl-54-pt.txt\n",
      "b-35-recon-z0.bin\tb-74-reconVertices.bin\tskl-54-z0.txt\n",
      "b-35-trk-fake.bin\tb-74-recon-z0.bin\tskl-55-pt.txt\n",
      "b-35-trk-mc.bin\t\tb-74-trk-fake.bin\tskl-55-z0.txt\n",
      "b-35-trk-pt.bin\t\tb-74-trk-mc.bin\t\tskl-56-pt.txt\n",
      "b-35-trk-z0.bin\t\tb-74-trk-pt.bin\t\tskl-56-z0.txt\n",
      "b-36-recon-pt.bin\tb-74-trk-z0.bin\t\tskl-57-pt.txt\n",
      "b-36-reconVertices.bin\tb-75-recon-pt.bin\tskl-57-z0.txt\n",
      "b-36-recon-z0.bin\tb-75-reconVertices.bin\tskl-58-pt.txt\n",
      "b-36-trk-fake.bin\tb-75-recon-z0.bin\tskl-58-z0.txt\n",
      "b-36-trk-mc.bin\t\tb-75-trk-fake.bin\tskl-59-pt.txt\n",
      "b-36-trk-pt.bin\t\tb-75-trk-mc.bin\t\tskl-59-z0.txt\n",
      "b-36-trk-z0.bin\t\tb-75-trk-pt.bin\t\tskl-5-pt.txt\n",
      "b-37-recon-pt.bin\tb-75-trk-z0.bin\t\tskl-5-z0.txt\n",
      "b-37-reconVertices.bin\tb-76-recon-pt.bin\tskl-60-pt.txt\n",
      "b-37-recon-z0.bin\tb-76-reconVertices.bin\tskl-60-z0.txt\n",
      "b-37-trk-fake.bin\tb-76-recon-z0.bin\tskl-61-pt.txt\n",
      "b-37-trk-mc.bin\t\tb-76-trk-fake.bin\tskl-61-z0.txt\n",
      "b-37-trk-pt.bin\t\tb-76-trk-mc.bin\t\tskl-62-pt.txt\n",
      "b-37-trk-z0.bin\t\tb-76-trk-pt.bin\t\tskl-62-z0.txt\n",
      "b-38-recon-pt.bin\tb-76-trk-z0.bin\t\tskl-63-pt.txt\n",
      "b-38-reconVertices.bin\tb-77-recon-pt.bin\tskl-63-z0.txt\n",
      "b-38-recon-z0.bin\tb-77-reconVertices.bin\tskl-64-pt.txt\n",
      "b-38-trk-fake.bin\tb-77-recon-z0.bin\tskl-64-z0.txt\n",
      "b-38-trk-mc.bin\t\tb-77-trk-fake.bin\tskl-65-pt.txt\n",
      "b-38-trk-pt.bin\t\tb-77-trk-mc.bin\t\tskl-65-z0.txt\n",
      "b-38-trk-z0.bin\t\tb-77-trk-pt.bin\t\tskl-66-pt.txt\n",
      "b-39-recon-pt.bin\tb-77-trk-z0.bin\t\tskl-66-z0.txt\n",
      "b-39-reconVertices.bin\tb-78-recon-pt.bin\tskl-67-pt.txt\n",
      "b-39-recon-z0.bin\tb-78-reconVertices.bin\tskl-67-z0.txt\n",
      "b-39-trk-fake.bin\tb-78-recon-z0.bin\tskl-68-pt.txt\n",
      "b-39-trk-mc.bin\t\tb-78-trk-fake.bin\tskl-68-z0.txt\n",
      "b-39-trk-pt.bin\t\tb-78-trk-mc.bin\t\tskl-69-pt.txt\n",
      "b-39-trk-z0.bin\t\tb-78-trk-pt.bin\t\tskl-69-z0.txt\n",
      "b-3-recon-pt.bin\tb-78-trk-z0.bin\t\tskl-6-pt.txt\n",
      "b-3-reconVertices.bin\tb-79-recon-pt.bin\tskl-6-z0.txt\n",
      "b-3-recon-z0.bin\tb-79-reconVertices.bin\tskl-70-pt.txt\n",
      "b-3-trk-fake.bin\tb-79-recon-z0.bin\tskl-70-z0.txt\n",
      "b-3-trk-mc.bin\t\tb-79-trk-fake.bin\tskl-71-pt.txt\n",
      "b-3-trk-pt.bin\t\tb-79-trk-mc.bin\t\tskl-71-z0.txt\n",
      "b-3-trk-z0.bin\t\tb-79-trk-pt.bin\t\tskl-72-pt.txt\n",
      "b-40-recon-pt.bin\tb-79-trk-z0.bin\t\tskl-72-z0.txt\n",
      "b-40-reconVertices.bin\tb-7-recon-pt.bin\tskl-73-pt.txt\n",
      "b-40-recon-z0.bin\tb-7-reconVertices.bin\tskl-73-z0.txt\n",
      "b-40-trk-fake.bin\tb-7-recon-z0.bin\tskl-74-pt.txt\n",
      "b-40-trk-mc.bin\t\tb-7-trk-fake.bin\tskl-74-z0.txt\n",
      "b-40-trk-pt.bin\t\tb-7-trk-mc.bin\t\tskl-75-pt.txt\n",
      "b-40-trk-z0.bin\t\tb-7-trk-pt.bin\t\tskl-75-z0.txt\n",
      "b-41-recon-pt.bin\tb-7-trk-z0.bin\t\tskl-76-pt.txt\n",
      "b-41-reconVertices.bin\tb-80-recon-pt.bin\tskl-76-z0.txt\n",
      "b-41-recon-z0.bin\tb-80-reconVertices.bin\tskl-77-pt.txt\n",
      "b-41-trk-fake.bin\tb-80-recon-z0.bin\tskl-77-z0.txt\n",
      "b-41-trk-mc.bin\t\tb-80-trk-fake.bin\tskl-78-pt.txt\n",
      "b-41-trk-pt.bin\t\tb-80-trk-mc.bin\t\tskl-78-z0.txt\n",
      "b-41-trk-z0.bin\t\tb-80-trk-pt.bin\t\tskl-79-pt.txt\n",
      "b-42-recon-pt.bin\tb-80-trk-z0.bin\t\tskl-79-z0.txt\n",
      "b-42-reconVertices.bin\tb-81-recon-pt.bin\tskl-7-pt.txt\n",
      "b-42-recon-z0.bin\tb-81-reconVertices.bin\tskl-7-z0.txt\n",
      "b-42-trk-fake.bin\tb-81-recon-z0.bin\tskl-80-pt.txt\n",
      "b-42-trk-mc.bin\t\tb-81-trk-fake.bin\tskl-80-z0.txt\n",
      "b-42-trk-pt.bin\t\tb-81-trk-mc.bin\t\tskl-81-pt.txt\n",
      "b-42-trk-z0.bin\t\tb-81-trk-pt.bin\t\tskl-81-z0.txt\n",
      "b-43-recon-pt.bin\tb-81-trk-z0.bin\t\tskl-82-pt.txt\n",
      "b-43-reconVertices.bin\tb-82-recon-pt.bin\tskl-82-z0.txt\n",
      "b-43-recon-z0.bin\tb-82-reconVertices.bin\tskl-83-pt.txt\n",
      "b-43-trk-fake.bin\tb-82-recon-z0.bin\tskl-83-z0.txt\n",
      "b-43-trk-mc.bin\t\tb-82-trk-fake.bin\tskl-84-pt.txt\n",
      "b-43-trk-pt.bin\t\tb-82-trk-mc.bin\t\tskl-84-z0.txt\n",
      "b-43-trk-z0.bin\t\tb-82-trk-pt.bin\t\tskl-85-pt.txt\n",
      "b-44-recon-pt.bin\tb-82-trk-z0.bin\t\tskl-85-z0.txt\n",
      "b-44-reconVertices.bin\tb-83-recon-pt.bin\tskl-86-pt.txt\n",
      "b-44-recon-z0.bin\tb-83-reconVertices.bin\tskl-86-z0.txt\n",
      "b-44-trk-fake.bin\tb-83-recon-z0.bin\tskl-87-pt.txt\n",
      "b-44-trk-mc.bin\t\tb-83-trk-fake.bin\tskl-87-z0.txt\n",
      "b-44-trk-pt.bin\t\tb-83-trk-mc.bin\t\tskl-88-pt.txt\n",
      "b-44-trk-z0.bin\t\tb-83-trk-pt.bin\t\tskl-88-z0.txt\n",
      "b-45-recon-pt.bin\tb-83-trk-z0.bin\t\tskl-89-pt.txt\n",
      "b-45-reconVertices.bin\tb-84-recon-pt.bin\tskl-89-z0.txt\n",
      "b-45-recon-z0.bin\tb-84-reconVertices.bin\tskl-8-pt.txt\n",
      "b-45-trk-fake.bin\tb-84-recon-z0.bin\tskl-8-z0.txt\n",
      "b-45-trk-mc.bin\t\tb-84-trk-fake.bin\tskl-90-pt.txt\n",
      "b-45-trk-pt.bin\t\tb-84-trk-mc.bin\t\tskl-90-z0.txt\n",
      "b-45-trk-z0.bin\t\tb-84-trk-pt.bin\t\tskl-91-pt.txt\n",
      "b-46-recon-pt.bin\tb-84-trk-z0.bin\t\tskl-91-z0.txt\n",
      "b-46-reconVertices.bin\tb-85-recon-pt.bin\tskl-92-pt.txt\n",
      "b-46-recon-z0.bin\tb-85-reconVertices.bin\tskl-92-z0.txt\n",
      "b-46-trk-fake.bin\tb-85-recon-z0.bin\tskl-93-pt.txt\n",
      "b-46-trk-mc.bin\t\tb-85-trk-fake.bin\tskl-93-z0.txt\n",
      "b-46-trk-pt.bin\t\tb-85-trk-mc.bin\t\tskl-94-pt.txt\n",
      "b-46-trk-z0.bin\t\tb-85-trk-pt.bin\t\tskl-94-z0.txt\n",
      "b-47-recon-pt.bin\tb-85-trk-z0.bin\t\tskl-95-pt.txt\n",
      "b-47-reconVertices.bin\tb-86-recon-pt.bin\tskl-95-z0.txt\n",
      "b-47-recon-z0.bin\tb-86-reconVertices.bin\tskl-96-pt.txt\n",
      "b-47-trk-fake.bin\tb-86-recon-z0.bin\tskl-96-z0.txt\n",
      "b-47-trk-mc.bin\t\tb-86-trk-fake.bin\tskl-97-pt.txt\n",
      "b-47-trk-pt.bin\t\tb-86-trk-mc.bin\t\tskl-97-z0.txt\n",
      "b-47-trk-z0.bin\t\tb-86-trk-pt.bin\t\tskl-98-pt.txt\n",
      "b-48-recon-pt.bin\tb-86-trk-z0.bin\t\tskl-98-z0.txt\n",
      "b-48-reconVertices.bin\tb-87-recon-pt.bin\tskl-99-pt.txt\n",
      "b-48-recon-z0.bin\tb-87-reconVertices.bin\tskl-99-z0.txt\n",
      "b-48-trk-fake.bin\tb-87-recon-z0.bin\tskl-9-pt.txt\n",
      "b-48-trk-mc.bin\t\tb-87-trk-fake.bin\tskl-9-z0.txt\n"
     ]
    }
   ],
   "source": [
    "!ls /home/raichu/data/data/binaries-trk-100/\n",
    "\n",
    "b-0-trk-pt.bin\t\tb-49-trk-pt.bin\t\tb-88-trk-mc.bin\n",
    "b-0-trk-z0.bin"
   ]
  },
  {
   "cell_type": "code",
   "execution_count": 9,
   "id": "c503b8b5-adbc-49ed-ac73-03a43d8b8076",
   "metadata": {},
   "outputs": [],
   "source": [
    "import numpy as np\n",
    "import pandas as pd\n",
    "import matplotlib.pyplot as plt"
   ]
  },
  {
   "cell_type": "code",
   "execution_count": 10,
   "id": "039ee6b4-2064-420b-992c-47a2bd7c7a1d",
   "metadata": {},
   "outputs": [],
   "source": [
    "storage = \"/home/raichu/data/data/binaries-trk-100/\"\n",
    "trk = np.fromfile(storage + \"b-0-trk-z0.bin\", dtype=np.float32)\n",
    "pt = np.fromfile(storage + \"b-0-trk-pt.bin\", dtype=np.float32)"
   ]
  },
  {
   "cell_type": "code",
   "execution_count": 13,
   "id": "0836a1d0-fd7a-4a22-a1be-b9d47a011b93",
   "metadata": {},
   "outputs": [
    {
     "data": {
      "image/png": "[encoded data removed]",
      "text/plain": [
       "<Figure size 640x480 with 1 Axes>"
      ]
     },
     "metadata": {},
     "output_type": "display_data"
    }
   ],
   "source": [
    "h, be, _ = plt.hist(trk, bins=20, weights=pt, histtype=\"step\")"
   ]
  },
  {
   "cell_type": "code",
   "execution_count": 14,
   "id": "0081c8a1-09b1-4a1c-8bd1-cce251430c7a",
   "metadata": {},
   "outputs": [],
   "source": [
    "x = 0.5 * (be[1:] + be[:-1])"
   ]
  },
  {
   "cell_type": "code",
   "execution_count": 27,
   "id": "942f9e16-2c64-4bbe-abf3-9b06c5b8c4a7",
   "metadata": {},
   "outputs": [],
   "source": [
    "top = np.sum(h * x)"
   ]
  },
  {
   "cell_type": "code",
   "execution_count": 28,
   "id": "904c5a63-b6a5-4538-b93a-272fa2fe567a",
   "metadata": {},
   "outputs": [],
   "source": [
    "bottom = np.sum(h)"
   ]
  },
  {
   "cell_type": "code",
   "execution_count": 29,
   "id": "c585c773-8345-4971-8ca8-91fbaafa2eaf",
   "metadata": {},
   "outputs": [
    {
     "data": {
      "text/plain": [
       "0.43439783903059104"
      ]
     },
     "execution_count": 29,
     "metadata": {},
     "output_type": "execute_result"
    }
   ],
   "source": [
    "top / bottom"
   ]
  },
  {
   "cell_type": "code",
   "execution_count": 30,
   "id": "c176f15b-94dd-49cd-8181-740d9b52b87d",
   "metadata": {},
   "outputs": [],
   "source": [
    "trk1 = trk[:59]\n",
    "trk2 = trk[59:]\n",
    "pt1 = pt[:59]\n",
    "pt2 = pt[59:]"
   ]
  },
  {
   "cell_type": "code",
   "execution_count": 40,
   "id": "9e90974a-6440-4e22-8c08-13d4afb0e431",
   "metadata": {},
   "outputs": [
    {
     "data": {
      "text/plain": [
       "<matplotlib.legend.Legend at 0x7efc676c3340>"
      ]
     },
     "execution_count": 40,
     "metadata": {},
     "output_type": "execute_result"
    },
    {
     "data": {
      "image/png": "[encoded data removed]",
      "text/plain": [
       "<Figure size 640x480 with 1 Axes>"
      ]
     },
     "metadata": {},
     "output_type": "display_data"
    }
   ],
   "source": [
    "h1, be1, _ = plt.hist(trk1, bins=10, weights=pt1, histtype=\"step\", label=\"h1\")\n",
    "h2, be2, _ = plt.hist(trk2, bins=10, weights=pt2, histtype=\"step\", label=\"h2\")\n",
    "x1 = 0.5 * (be1[1:] + be1[:-1])\n",
    "x2 = 0.5 * (be2[1:] + be2[:-1])\n",
    "plt.legend()"
   ]
  },
  {
   "cell_type": "code",
   "execution_count": 41,
   "id": "b7c78925-f54e-4882-87da-471ce86c9acc",
   "metadata": {},
   "outputs": [],
   "source": [
    "top1 = np.sum(h1 * x1)\n",
    "top2 = np.sum(h2 * x2)\n",
    "bottom1 = np.sum(h1)\n",
    "bottom2 = np.sum(h2)"
   ]
  },
  {
   "cell_type": "code",
   "execution_count": 42,
   "id": "db59e4b5-2b64-461d-ae23-e61eb6eff73d",
   "metadata": {},
   "outputs": [
    {
     "data": {
      "text/plain": [
       "(78.70399307040498, 126.10909001575783, 180.82379126548767, 293.0247483253479)"
      ]
     },
     "execution_count": 42,
     "metadata": {},
     "output_type": "execute_result"
    }
   ],
   "source": [
    "top1, top2, bottom1, bottom2"
   ]
  },
  {
   "cell_type": "code",
   "execution_count": 43,
   "id": "c83084bf-06fd-4ed6-b3b7-cc0bd6d539a8",
   "metadata": {},
   "outputs": [
    {
     "data": {
      "text/plain": [
       "0.432233226387101"
      ]
     },
     "execution_count": 43,
     "metadata": {},
     "output_type": "execute_result"
    }
   ],
   "source": [
    "(top1 + top2) / (bottom1 + bottom2)"
   ]
  },
  {
   "cell_type": "code",
   "execution_count": null,
   "id": "fd01802b-c125-440a-8379-50b96f3d4a74",
   "metadata": {},
   "outputs": [],
   "source": []
  }
 ],
 "metadata": {
  "kernelspec": {
   "display_name": "db",
   "language": "python",
   "name": "db"
  },
  "language_info": {
   "codemirror_mode": {
    "name": "ipython",
    "version": 3
   },
   "file_extension": ".py",
   "mimetype": "text/x-python",
   "name": "python",
   "nbconvert_exporter": "python",
   "pygments_lexer": "ipython3",
   "version": "3.9.13"
  }
 },
 "nbformat": 4,
 "nbformat_minor": 5
}
