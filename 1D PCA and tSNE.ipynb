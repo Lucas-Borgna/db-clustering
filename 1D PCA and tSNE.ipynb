{
 "cells": [
  {
   "cell_type": "code",
   "execution_count": 2,
   "id": "28707008-53ad-4a43-9263-db8d5065f6f9",
   "metadata": {},
   "outputs": [],
   "source": [
    "%load_ext lab_black"
   ]
  },
  {
   "cell_type": "code",
   "execution_count": 3,
   "id": "d9477534-dac9-433d-a26d-5b76da9b1598",
   "metadata": {},
   "outputs": [],
   "source": [
    "import pandas as pd\n",
    "import numpy as np\n",
    "import matplotlib.pyplot as plt\n",
    "import seaborn as sns"
   ]
  },
  {
   "cell_type": "code",
   "execution_count": 5,
   "id": "8140fcbb-8f75-4aeb-a174-fdb27180d2e4",
   "metadata": {},
   "outputs": [
    {
     "name": "stdout",
     "output_type": "stream",
     "text": [
      "total 14G\n",
      "drwxrwxr-x 2 lucas lucas 4.0K May  2 19:44 binary\n",
      "drwxrwxr-x 2 lucas lucas 4.0K May  2 19:44 binary10\n",
      "drwxrwxr-x 2 lucas lucas  36K May  2 19:44 binary100\n",
      "-rw-r--r-- 1 lucas lucas 2.2M May  2 19:39 mc_25k.pkl\n",
      "-rw-rw-r-- 1 lucas lucas 3.0M May  2 19:44 mc_bin1.pkl\n",
      "-rw-rw-r-- 1 lucas lucas 4.3M May  2 19:44 mc_bin2.pkl\n",
      "-rw-rw-r-- 1 lucas lucas 3.2M May  2 19:44 mc_bin3.pkl\n",
      "-rw-r--r-- 1 lucas lucas 5.4M May  2 19:39 mc.pkl\n",
      "-rw-rw-r-- 1 lucas lucas 6.2K May  2 19:42 n_tracks.pdf\n",
      "-rw-r--r-- 1 lucas lucas 4.9G May  2 19:39 OldKF_TTbar_170K_quality.root\n",
      "-rw-rw-r-- 1 lucas lucas    0 May  2 19:44 pv_gen10.txt\n",
      "-rwxrwxr-x 1 lucas lucas 2.4G May  2 19:42 PV.pickle\n",
      "-rw-rw-r-- 1 lucas lucas  106 May  2 19:44 pv_truth10.txt\n",
      "-rw-r--r-- 1 lucas lucas 128M May  2 19:39 tp_25k.pkl\n",
      "-rw-rw-r-- 1 lucas lucas 272M May  2 19:42 tp_bin1.pkl\n",
      "-rw-rw-r-- 1 lucas lucas 686M May  2 19:42 tp_bin2.pkl\n",
      "-rw-rw-r-- 1 lucas lucas 475M May  2 19:43 tp_bin3.pkl\n",
      "-rw-r--r-- 1 lucas lucas 1.2G May  2 19:39 tp.pkl\n",
      "-rw-r--r-- 1 lucas lucas 133M May  2 19:40 trk_25k.pkl\n",
      "-rw-rw-r-- 1 lucas lucas 426M May  2 19:43 trk_bin1.pkl\n",
      "-rw-rw-r-- 1 lucas lucas 1.1G May  2 19:44 trk_bin2.pkl\n",
      "-rw-rw-r-- 1 lucas lucas 596M May  2 19:44 trk_bin3.pkl\n",
      "-rw-r--r-- 1 lucas lucas 1.2G May  2 19:40 trk.pkl\n"
     ]
    }
   ],
   "source": [
    "!ls -lh /media/lucas/QS/l1_nnt/"
   ]
  },
  {
   "cell_type": "markdown",
   "id": "d69b413c-738f-403c-b9c9-b1186d8079d6",
   "metadata": {},
   "source": [
    "# PCA 1D "
   ]
  },
  {
   "cell_type": "markdown",
   "id": "6ccccb1c-808a-4413-b0f9-d4a3b4c53322",
   "metadata": {},
   "source": [
    "We are going to do a 1D PCA to see if there is anything about the primary vertexing and how they cluster"
   ]
  },
  {
   "cell_type": "code",
   "execution_count": 6,
   "id": "260929e1-9079-48b9-aff6-21577a44a2b1",
   "metadata": {},
   "outputs": [],
   "source": [
    "trk = pd.read_pickle(\"/media/lucas/QS/l1_nnt/trk.pkl\")"
   ]
  },
  {
   "cell_type": "code",
   "execution_count": 7,
   "id": "4675eb13-e56c-43e6-ad3f-2aa7dd58f2e6",
   "metadata": {},
   "outputs": [
    {
     "name": "stdout",
     "output_type": "stream",
     "text": [
      "<class 'pandas.core.frame.DataFrame'>\n",
      "MultiIndex: 40780722 entries, (0, 0) to (222975, 215)\n",
      "Data columns (total 6 columns):\n",
      " #   Column    Dtype  \n",
      "---  ------    -----  \n",
      " 0   trk_pt    float32\n",
      " 1   trk_eta   float32\n",
      " 2   trk_phi   float32\n",
      " 3   trk_d0    float32\n",
      " 4   trk_z0    float32\n",
      " 5   trk_fake  int32  \n",
      "dtypes: float32(5), int32(1)\n",
      "memory usage: 1.1 GB\n"
     ]
    }
   ],
   "source": [
    "trk.info(memory_usage=\"deep\")"
   ]
  },
  {
   "cell_type": "code",
   "execution_count": 15,
   "id": "8ba2c033-8785-4d2f-9334-dfa4d0d00b2f",
   "metadata": {},
   "outputs": [],
   "source": [
    "trk.dropna(inplace=True)"
   ]
  },
  {
   "cell_type": "code",
   "execution_count": 8,
   "id": "a7ecda20-3dc9-4da7-a4cf-e6195266f58f",
   "metadata": {},
   "outputs": [
    {
     "data": {
      "text/html": [
       "<div>\n",
       "<style scoped>\n",
       "    .dataframe tbody tr th:only-of-type {\n",
       "        vertical-align: middle;\n",
       "    }\n",
       "\n",
       "    .dataframe tbody tr th {\n",
       "        vertical-align: top;\n",
       "    }\n",
       "\n",
       "    .dataframe thead th {\n",
       "        text-align: right;\n",
       "    }\n",
       "</style>\n",
       "<table border=\"1\" class=\"dataframe\">\n",
       "  <thead>\n",
       "    <tr style=\"text-align: right;\">\n",
       "      <th></th>\n",
       "      <th></th>\n",
       "      <th>trk_pt</th>\n",
       "      <th>trk_eta</th>\n",
       "      <th>trk_phi</th>\n",
       "      <th>trk_d0</th>\n",
       "      <th>trk_z0</th>\n",
       "      <th>trk_fake</th>\n",
       "    </tr>\n",
       "    <tr>\n",
       "      <th>entry</th>\n",
       "      <th>subentry</th>\n",
       "      <th></th>\n",
       "      <th></th>\n",
       "      <th></th>\n",
       "      <th></th>\n",
       "      <th></th>\n",
       "      <th></th>\n",
       "    </tr>\n",
       "  </thead>\n",
       "  <tbody>\n",
       "    <tr>\n",
       "      <th rowspan=\"5\" valign=\"top\">0</th>\n",
       "      <th>0</th>\n",
       "      <td>2.623967</td>\n",
       "      <td>1.301414</td>\n",
       "      <td>-0.289234</td>\n",
       "      <td>999.0</td>\n",
       "      <td>-0.878906</td>\n",
       "      <td>2</td>\n",
       "    </tr>\n",
       "    <tr>\n",
       "      <th>1</th>\n",
       "      <td>3.435026</td>\n",
       "      <td>0.566814</td>\n",
       "      <td>-0.159267</td>\n",
       "      <td>999.0</td>\n",
       "      <td>3.339844</td>\n",
       "      <td>2</td>\n",
       "    </tr>\n",
       "    <tr>\n",
       "      <th>2</th>\n",
       "      <td>3.774908</td>\n",
       "      <td>1.815973</td>\n",
       "      <td>-0.240375</td>\n",
       "      <td>999.0</td>\n",
       "      <td>4.921875</td>\n",
       "      <td>1</td>\n",
       "    </tr>\n",
       "    <tr>\n",
       "      <th>3</th>\n",
       "      <td>2.641448</td>\n",
       "      <td>-1.435747</td>\n",
       "      <td>-0.128747</td>\n",
       "      <td>999.0</td>\n",
       "      <td>-0.468750</td>\n",
       "      <td>2</td>\n",
       "    </tr>\n",
       "    <tr>\n",
       "      <th>4</th>\n",
       "      <td>2.320653</td>\n",
       "      <td>1.837421</td>\n",
       "      <td>0.032604</td>\n",
       "      <td>999.0</td>\n",
       "      <td>4.980469</td>\n",
       "      <td>1</td>\n",
       "    </tr>\n",
       "  </tbody>\n",
       "</table>\n",
       "</div>"
      ],
      "text/plain": [
       "                  trk_pt   trk_eta   trk_phi  trk_d0    trk_z0  trk_fake\n",
       "entry subentry                                                          \n",
       "0     0         2.623967  1.301414 -0.289234   999.0 -0.878906         2\n",
       "      1         3.435026  0.566814 -0.159267   999.0  3.339844         2\n",
       "      2         3.774908  1.815973 -0.240375   999.0  4.921875         1\n",
       "      3         2.641448 -1.435747 -0.128747   999.0 -0.468750         2\n",
       "      4         2.320653  1.837421  0.032604   999.0  4.980469         1"
      ]
     },
     "execution_count": 8,
     "metadata": {},
     "output_type": "execute_result"
    }
   ],
   "source": [
    "trk.head()"
   ]
  },
  {
   "cell_type": "code",
   "execution_count": 9,
   "id": "ffb6d6d7-e92e-4cb4-b7cd-4f8413c52a66",
   "metadata": {},
   "outputs": [],
   "source": [
    "from sklearn.decomposition import PCA"
   ]
  },
  {
   "cell_type": "code",
   "execution_count": 10,
   "id": "1e3d9d49-5cda-4f2e-a46f-871db607c537",
   "metadata": {},
   "outputs": [],
   "source": [
    "columns = [\"trk_pt\", \"trk_eta\", \"trk_phi\", \"trk_z0\"]"
   ]
  },
  {
   "cell_type": "code",
   "execution_count": 16,
   "id": "855e1029-ec70-41bb-a295-540a28005dec",
   "metadata": {},
   "outputs": [],
   "source": [
    "X = trk[columns].values"
   ]
  },
  {
   "cell_type": "code",
   "execution_count": 17,
   "id": "b6ffcc06-3880-4e7a-b80c-af66b94e0bc7",
   "metadata": {},
   "outputs": [],
   "source": [
    "pca = PCA(n_components=1)"
   ]
  },
  {
   "cell_type": "code",
   "execution_count": 18,
   "id": "5bfd603f-bb11-47b7-a41d-aa742f709f4e",
   "metadata": {},
   "outputs": [
    {
     "data": {
      "text/plain": [
       "PCA(n_components=1)"
      ]
     },
     "execution_count": 18,
     "metadata": {},
     "output_type": "execute_result"
    }
   ],
   "source": [
    "pca.fit(X)"
   ]
  },
  {
   "cell_type": "code",
   "execution_count": 19,
   "id": "c9e04644-a499-4797-90c1-a20ba43b14d3",
   "metadata": {},
   "outputs": [],
   "source": [
    "y = pca.transform(X)"
   ]
  },
  {
   "cell_type": "code",
   "execution_count": 20,
   "id": "01290316-2074-4337-b9f3-a5e9c714ee05",
   "metadata": {},
   "outputs": [
    {
     "data": {
      "text/plain": [
       "array([[-1.0742031 ],\n",
       "       [-0.2633794 ],\n",
       "       [ 0.07640755],\n",
       "       ...,\n",
       "       [-1.0288229 ],\n",
       "       [ 0.06927656],\n",
       "       [-1.7097344 ]], dtype=float32)"
      ]
     },
     "execution_count": 20,
     "metadata": {},
     "output_type": "execute_result"
    }
   ],
   "source": [
    "y"
   ]
  },
  {
   "cell_type": "code",
   "execution_count": 21,
   "id": "92328d9c-14f4-4fc0-b5f6-e691620845ac",
   "metadata": {},
   "outputs": [],
   "source": [
    "trk[\"pca_1\"] = y"
   ]
  },
  {
   "cell_type": "code",
   "execution_count": 22,
   "id": "279831db-a721-4bf2-96aa-ef8e821f386f",
   "metadata": {},
   "outputs": [
    {
     "data": {
      "text/plain": [
       "entry   subentry\n",
       "0       0          -1.074203\n",
       "        1          -0.263379\n",
       "        2           0.076408\n",
       "        3          -1.056735\n",
       "        4          -1.377847\n",
       "                      ...   \n",
       "222975  211        -1.653710\n",
       "        212        -1.207241\n",
       "        213        -1.028823\n",
       "        214         0.069277\n",
       "        215        -1.709734\n",
       "Name: pca_1, Length: 40780640, dtype: float32"
      ]
     },
     "execution_count": 22,
     "metadata": {},
     "output_type": "execute_result"
    }
   ],
   "source": [
    "trk[\"pca_1\"]"
   ]
  },
  {
   "cell_type": "code",
   "execution_count": 24,
   "id": "1c717482-8dcb-4c0f-ac16-ef8f34f90c5d",
   "metadata": {},
   "outputs": [],
   "source": [
    "trk_25k = trk.query(\"entry<25000\").copy()"
   ]
  },
  {
   "cell_type": "code",
   "execution_count": 26,
   "id": "5ddeeb23-75e4-4af2-8164-f78167fb879a",
   "metadata": {},
   "outputs": [
    {
     "data": {
      "image/png": "[encoded data removed]",
      "text/plain": [
       "<Figure size 432x288 with 1 Axes>"
      ]
     },
     "metadata": {
      "needs_background": "light"
     },
     "output_type": "display_data"
    }
   ],
   "source": [
    "ax = sns.stripplot(x=\"trk_fake\", y=\"pca_1\", data=trk_25k)"
   ]
  },
  {
   "cell_type": "markdown",
   "id": "215fc836-1de2-41bf-b98a-80bc731982f9",
   "metadata": {},
   "source": [
    "There no clear separation between them. "
   ]
  },
  {
   "cell_type": "markdown",
   "id": "6320abaf-1b97-4cbf-9c5d-e5cf235bef2f",
   "metadata": {},
   "source": [
    "# 1D tSNE"
   ]
  },
  {
   "cell_type": "markdown",
   "id": "b9f29f55-e6f5-4758-93db-bd014b4a49e2",
   "metadata": {},
   "source": [
    "let's try a 1D tSNE to see if there's some separation"
   ]
  },
  {
   "cell_type": "code",
   "execution_count": 27,
   "id": "6bb81c40-9a8a-467a-9f2b-a158629f25f0",
   "metadata": {},
   "outputs": [],
   "source": [
    "from sklearn.manifold import TSNE"
   ]
  },
  {
   "cell_type": "code",
   "execution_count": 28,
   "id": "1cfd8702-c8b3-46f0-b48e-77424307e907",
   "metadata": {},
   "outputs": [],
   "source": [
    "y_tsne = TSNE(n_components=1, learning_rate=\"auto\", init=\"random\").fit_transform(\n",
    "    trk_25k[columns].values\n",
    ")"
   ]
  },
  {
   "cell_type": "code",
   "execution_count": null,
   "id": "d934db6c-5a65-47da-9b5c-e0b39437b41b",
   "metadata": {},
   "outputs": [],
   "source": []
  }
 ],
 "metadata": {
  "kernelspec": {
   "display_name": "db-clustering",
   "language": "python",
   "name": "db-clustering"
  },
  "language_info": {
   "codemirror_mode": {
    "name": "ipython",
    "version": 3
   },
   "file_extension": ".py",
   "mimetype": "text/x-python",
   "name": "python",
   "nbconvert_exporter": "python",
   "pygments_lexer": "ipython3",
   "version": "3.8.13"
  }
 },
 "nbformat": 4,
 "nbformat_minor": 5
}
