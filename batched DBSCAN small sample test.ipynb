{
 "cells": [
  {
   "cell_type": "code",
   "execution_count": 1,
   "metadata": {},
   "outputs": [],
   "source": [
    "import numpy as np;import pandas as pd"
   ]
  },
  {
   "cell_type": "code",
   "execution_count": 2,
   "metadata": {},
   "outputs": [],
   "source": [
    "np.random.seed(42)"
   ]
  },
  {
   "cell_type": "code",
   "execution_count": 3,
   "metadata": {},
   "outputs": [],
   "source": [
    "    z0_file = \"/media/lucas/QS/binaries-trk/OldKF_TTbar_170K_quality-1-trk-z0.bin\"\n",
    "    pt_file = \"/media/lucas/QS/binaries-trk/OldKF_TTbar_170K_quality-1-trk-pt.bin\"\n",
    "    z0 = np.fromfile(z0_file, dtype=np.float32)\n",
    "    pt = np.fromfile(pt_file, dtype=np.float32)"
   ]
  },
  {
   "cell_type": "code",
   "execution_count": 12,
   "metadata": {},
   "outputs": [],
   "source": [
    "idx = np.random.randint(0,100, 10)"
   ]
  },
  {
   "cell_type": "code",
   "execution_count": 15,
   "metadata": {},
   "outputs": [],
   "source": [
    "z0_s= z0[idx]\n",
    "pt_s=pt[idx]"
   ]
  },
  {
   "cell_type": "code",
   "execution_count": 17,
   "metadata": {},
   "outputs": [],
   "source": [
    "np.save(\"z0_sample.npy\",z0_s)\n",
    "np.save(\"pt_sample.npy\",pt_s)"
   ]
  },
  {
   "cell_type": "code",
   "execution_count": null,
   "metadata": {},
   "outputs": [],
   "source": []
  }
 ],
 "metadata": {
  "interpreter": {
   "hash": "17212318f44a1ff5305ff638e82c506922e786a85ea0359c6399d503679bee0c"
  },
  "kernelspec": {
   "display_name": "Python 3.8.13 ('db-clustering')",
   "language": "python",
   "name": "python3"
  },
  "language_info": {
   "codemirror_mode": {
    "name": "ipython",
    "version": 3
   },
   "file_extension": ".py",
   "mimetype": "text/x-python",
   "name": "python",
   "nbconvert_exporter": "python",
   "pygments_lexer": "ipython3",
   "version": "3.8.13"
  },
  "orig_nbformat": 4
 },
 "nbformat": 4,
 "nbformat_minor": 2
}
