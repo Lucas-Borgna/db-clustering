{
 "cells": [
  {
   "cell_type": "code",
   "execution_count": 1,
   "metadata": {},
   "outputs": [],
   "source": [
    "import numpy as np;import pandas as pd"
   ]
  },
  {
   "cell_type": "code",
   "execution_count": 2,
   "metadata": {},
   "outputs": [],
   "source": [
    "np.random.seed(42)"
   ]
  },
  {
   "cell_type": "code",
   "execution_count": 3,
   "metadata": {},
   "outputs": [],
   "source": [
    "z0 = np.load('z0_sample.npy')\n",
    "pt = np.load('pt_sample.npy')"
   ]
  },
  {
   "cell_type": "code",
   "execution_count": 4,
   "metadata": {},
   "outputs": [],
   "source": [
    "from acceleratedDBSCAN import AccDBSCAN"
   ]
  },
  {
   "cell_type": "code",
   "execution_count": 18,
   "metadata": {},
   "outputs": [],
   "source": [
    "max_number_of_tracks = 13\n",
    "max_number_of_tracks_power_2 = 16\n",
    "max_number_of_tracks_log_2 = 4\n",
    "eps = 1"
   ]
  },
  {
   "cell_type": "code",
   "execution_count": 19,
   "metadata": {},
   "outputs": [],
   "source": [
    "db = AccDBSCAN(z0, pt, eps, max_number_of_tracks, False)"
   ]
  },
  {
   "cell_type": "code",
   "execution_count": 20,
   "metadata": {},
   "outputs": [
    {
     "ename": "IndexError",
     "evalue": "index 13 is out of bounds for axis 0 with size 13",
     "output_type": "error",
     "traceback": [
      "\u001b[0;31m---------------------------------------------------------------------------\u001b[0m",
      "\u001b[0;31mIndexError\u001b[0m                                Traceback (most recent call last)",
      "\u001b[1;32m/home/lucas/Documents/Dropbox/RA/db-clustering/batched DBSCAN small sample analysis.ipynb Cell 7'\u001b[0m in \u001b[0;36m<cell line: 1>\u001b[0;34m()\u001b[0m\n\u001b[0;32m----> <a href='vscode-notebook-cell://ssh-remote%2Bironwolf/home/lucas/Documents/Dropbox/RA/db-clustering/batched%20DBSCAN%20small%20sample%20analysis.ipynb#ch0000007vscode-remote?line=0'>1</a>\u001b[0m db\u001b[39m.\u001b[39;49mfit()\n",
      "File \u001b[0;32m~/Documents/Dropbox/RA/db-clustering/acceleratedDBSCAN.py:87\u001b[0m, in \u001b[0;36mAccDBSCAN.fit\u001b[0;34m(self)\u001b[0m\n\u001b[1;32m     <a href='file:///home/lucas/Documents/Dropbox/RA/db-clustering/acceleratedDBSCAN.py?line=83'>84</a>\u001b[0m     np\u001b[39m.\u001b[39msave(\u001b[39m\"\u001b[39m\u001b[39mright_boundaries.npy\u001b[39m\u001b[39m\"\u001b[39m, \u001b[39mself\u001b[39m\u001b[39m.\u001b[39mboundaries)\n\u001b[1;32m     <a href='file:///home/lucas/Documents/Dropbox/RA/db-clustering/acceleratedDBSCAN.py?line=84'>85</a>\u001b[0m     \u001b[39m# np.save(\"full_boundaries.npy\", self.boundaries)\u001b[39;00m\n\u001b[1;32m     <a href='file:///home/lucas/Documents/Dropbox/RA/db-clustering/acceleratedDBSCAN.py?line=85'>86</a>\u001b[0m \u001b[39m# find vertices\u001b[39;00m\n\u001b[0;32m---> <a href='file:///home/lucas/Documents/Dropbox/RA/db-clustering/acceleratedDBSCAN.py?line=86'>87</a>\u001b[0m \u001b[39mself\u001b[39;49m\u001b[39m.\u001b[39;49mfind_vertices()\n\u001b[1;32m     <a href='file:///home/lucas/Documents/Dropbox/RA/db-clustering/acceleratedDBSCAN.py?line=87'>88</a>\u001b[0m \u001b[39mif\u001b[39;00m \u001b[39mself\u001b[39m\u001b[39m.\u001b[39mverbose:\n\u001b[1;32m     <a href='file:///home/lucas/Documents/Dropbox/RA/db-clustering/acceleratedDBSCAN.py?line=88'>89</a>\u001b[0m     \u001b[39mprint\u001b[39m(\u001b[39m\"\u001b[39m\u001b[39mvertices found...\u001b[39m\u001b[39m\"\u001b[39m)\n",
      "File \u001b[0;32m~/Documents/Dropbox/RA/db-clustering/acceleratedDBSCAN.py:168\u001b[0m, in \u001b[0;36mAccDBSCAN.find_vertices\u001b[0;34m(self)\u001b[0m\n\u001b[1;32m    <a href='file:///home/lucas/Documents/Dropbox/RA/db-clustering/acceleratedDBSCAN.py?line=165'>166</a>\u001b[0m \u001b[39mfor\u001b[39;00m i \u001b[39min\u001b[39;00m \u001b[39mrange\u001b[39m(\u001b[39m0\u001b[39m, max_tracks, \u001b[39m2\u001b[39m):\n\u001b[1;32m    <a href='file:///home/lucas/Documents/Dropbox/RA/db-clustering/acceleratedDBSCAN.py?line=166'>167</a>\u001b[0m     left_boundary \u001b[39m=\u001b[39m \u001b[39mself\u001b[39m\u001b[39m.\u001b[39mboundaries[i]\n\u001b[0;32m--> <a href='file:///home/lucas/Documents/Dropbox/RA/db-clustering/acceleratedDBSCAN.py?line=167'>168</a>\u001b[0m     right_boundary \u001b[39m=\u001b[39m \u001b[39mself\u001b[39;49m\u001b[39m.\u001b[39;49mboundaries[i \u001b[39m+\u001b[39;49m \u001b[39m1\u001b[39;49m]\n\u001b[1;32m    <a href='file:///home/lucas/Documents/Dropbox/RA/db-clustering/acceleratedDBSCAN.py?line=169'>170</a>\u001b[0m     \u001b[39mif\u001b[39;00m left_boundary[\u001b[39m0\u001b[39m] \u001b[39m!=\u001b[39m right_boundary[\u001b[39m0\u001b[39m]:\n\u001b[1;32m    <a href='file:///home/lucas/Documents/Dropbox/RA/db-clustering/acceleratedDBSCAN.py?line=170'>171</a>\u001b[0m         label \u001b[39m+\u001b[39m\u001b[39m=\u001b[39m \u001b[39m1\u001b[39m\n",
      "\u001b[0;31mIndexError\u001b[0m: index 13 is out of bounds for axis 0 with size 13"
     ]
    }
   ],
   "source": [
    "db.fit()"
   ]
  },
  {
   "cell_type": "code",
   "execution_count": null,
   "metadata": {},
   "outputs": [
    {
     "name": "stdout",
     "output_type": "stream",
     "text": [
      "[-0.1171875   0.41015625 -4.04296875  1.34765625 -0.5859375   2.8125\n",
      " -3.10546875  3.57421875  6.62109375  2.8125     21.         21.\n",
      " 21.         21.         21.        ] (15,)\n",
      "[1.95871639 2.4197917  2.11951208 2.79295731 3.06177735 3.18748355\n",
      " 2.00505781 3.30416822 2.07591724 3.18748355 0.         0.\n",
      " 0.         0.         0.        ] (15,)\n",
      "1\n",
      "10\n",
      "[ 0.          1.95871639  4.37850809  6.49802017  9.29097748 12.35275483\n",
      " 15.54023838 17.54529619 20.84946442 22.92538166 26.11286521 26.11286521\n",
      " 26.11286521 26.11286521 26.11286521 26.11286521] (16,)\n",
      "15\n",
      "16\n",
      "4.0\n"
     ]
    }
   ],
   "source": [
    "print(db.z0, db.z0.shape)\n",
    "print(db.pt, db.pt.shape)\n",
    "print(db.eps)\n",
    "print(db.n_tracks)\n",
    "print(db.rs, db.rs.shape)\n",
    "print(db.max_number_of_tracks)\n",
    "print(db.max_number_of_tracks_power_2)\n",
    "print(db.max_number_of_tracks_log_2)"
   ]
  },
  {
   "cell_type": "code",
   "execution_count": 21,
   "metadata": {},
   "outputs": [],
   "source": [
    "from batchedDBSCAN import BatchedDBSCAN"
   ]
  },
  {
   "cell_type": "code",
   "execution_count": 22,
   "metadata": {},
   "outputs": [],
   "source": [
    "db_b = BatchedDBSCAN(z0, pt, eps, 3, max_number_of_tracks)"
   ]
  },
  {
   "cell_type": "code",
   "execution_count": 23,
   "metadata": {},
   "outputs": [
    {
     "ename": "IndexError",
     "evalue": "index 3 is out of bounds for axis 0 with size 3",
     "output_type": "error",
     "traceback": [
      "\u001b[0;31m---------------------------------------------------------------------------\u001b[0m",
      "\u001b[0;31mIndexError\u001b[0m                                Traceback (most recent call last)",
      "\u001b[1;32m/home/lucas/Documents/Dropbox/RA/db-clustering/batched DBSCAN small sample analysis.ipynb Cell 11'\u001b[0m in \u001b[0;36m<cell line: 1>\u001b[0;34m()\u001b[0m\n\u001b[0;32m----> <a href='vscode-notebook-cell://ssh-remote%2Bironwolf/home/lucas/Documents/Dropbox/RA/db-clustering/batched%20DBSCAN%20small%20sample%20analysis.ipynb#ch0000015vscode-remote?line=0'>1</a>\u001b[0m db_b\u001b[39m.\u001b[39;49mfit()\n",
      "File \u001b[0;32m~/Documents/Dropbox/RA/db-clustering/batchedDBSCAN.py:259\u001b[0m, in \u001b[0;36mBatchedDBSCAN.fit\u001b[0;34m(self)\u001b[0m\n\u001b[1;32m    <a href='file:///home/lucas/Documents/Dropbox/RA/db-clustering/batchedDBSCAN.py?line=254'>255</a>\u001b[0m     np\u001b[39m.\u001b[39msave(\u001b[39m\"\u001b[39m\u001b[39mright_boundaries_b.npy\u001b[39m\u001b[39m\"\u001b[39m, boundaries)\n\u001b[1;32m    <a href='file:///home/lucas/Documents/Dropbox/RA/db-clustering/batchedDBSCAN.py?line=256'>257</a>\u001b[0m \u001b[39m# np.save(\"boundaries_1b.npy\", boundaries)\u001b[39;00m\n\u001b[1;32m    <a href='file:///home/lucas/Documents/Dropbox/RA/db-clustering/batchedDBSCAN.py?line=257'>258</a>\u001b[0m \u001b[39m# print(boundaries)\u001b[39;00m\n\u001b[0;32m--> <a href='file:///home/lucas/Documents/Dropbox/RA/db-clustering/batchedDBSCAN.py?line=258'>259</a>\u001b[0m clusters_batch \u001b[39m=\u001b[39m \u001b[39mself\u001b[39;49m\u001b[39m.\u001b[39;49mconvert_boundaries_to_clusters(boundaries)\n\u001b[1;32m    <a href='file:///home/lucas/Documents/Dropbox/RA/db-clustering/batchedDBSCAN.py?line=259'>260</a>\u001b[0m \u001b[39m# print(clusters_batch)\u001b[39;00m\n\u001b[1;32m    <a href='file:///home/lucas/Documents/Dropbox/RA/db-clustering/batchedDBSCAN.py?line=260'>261</a>\u001b[0m \u001b[39m# np.save(f\"clusters_b{i}.npy\", clusters_batch)\u001b[39;00m\n\u001b[1;32m    <a href='file:///home/lucas/Documents/Dropbox/RA/db-clustering/batchedDBSCAN.py?line=261'>262</a>\u001b[0m \u001b[39m# print(clusters_batch.shape)\u001b[39;00m\n\u001b[1;32m    <a href='file:///home/lucas/Documents/Dropbox/RA/db-clustering/batchedDBSCAN.py?line=262'>263</a>\u001b[0m \u001b[39m# print(clusters.shape)\u001b[39;00m\n\u001b[1;32m    <a href='file:///home/lucas/Documents/Dropbox/RA/db-clustering/batchedDBSCAN.py?line=263'>264</a>\u001b[0m \u001b[39m# print(f\"[{i*self.max_n_clusters_batch}, {(i+1)*self.max_n_clusters_batch}]\")\u001b[39;00m\n\u001b[1;32m    <a href='file:///home/lucas/Documents/Dropbox/RA/db-clustering/batchedDBSCAN.py?line=264'>265</a>\u001b[0m clusters[\n\u001b[1;32m    <a href='file:///home/lucas/Documents/Dropbox/RA/db-clustering/batchedDBSCAN.py?line=265'>266</a>\u001b[0m     i \u001b[39m*\u001b[39m \u001b[39mself\u001b[39m\u001b[39m.\u001b[39mmax_n_clusters_batch : (i \u001b[39m+\u001b[39m \u001b[39m1\u001b[39m) \u001b[39m*\u001b[39m \u001b[39mself\u001b[39m\u001b[39m.\u001b[39mmax_n_clusters_batch, :\n\u001b[1;32m    <a href='file:///home/lucas/Documents/Dropbox/RA/db-clustering/batchedDBSCAN.py?line=266'>267</a>\u001b[0m ] \u001b[39m=\u001b[39m clusters_batch\n",
      "File \u001b[0;32m~/Documents/Dropbox/RA/db-clustering/batchedDBSCAN.py:175\u001b[0m, in \u001b[0;36mBatchedDBSCAN.convert_boundaries_to_clusters\u001b[0;34m(self, boundaries)\u001b[0m\n\u001b[1;32m    <a href='file:///home/lucas/Documents/Dropbox/RA/db-clustering/batchedDBSCAN.py?line=172'>173</a>\u001b[0m \u001b[39mfor\u001b[39;00m i \u001b[39min\u001b[39;00m \u001b[39mrange\u001b[39m(\u001b[39m0\u001b[39m, n_boundaries, \u001b[39m2\u001b[39m):\n\u001b[1;32m    <a href='file:///home/lucas/Documents/Dropbox/RA/db-clustering/batchedDBSCAN.py?line=173'>174</a>\u001b[0m     pt_low \u001b[39m=\u001b[39m boundaries[i, \u001b[39m1\u001b[39m]\n\u001b[0;32m--> <a href='file:///home/lucas/Documents/Dropbox/RA/db-clustering/batchedDBSCAN.py?line=174'>175</a>\u001b[0m     pt_high \u001b[39m=\u001b[39m boundaries[i \u001b[39m+\u001b[39;49m \u001b[39m1\u001b[39;49m, \u001b[39m2\u001b[39;49m]\n\u001b[1;32m    <a href='file:///home/lucas/Documents/Dropbox/RA/db-clustering/batchedDBSCAN.py?line=175'>176</a>\u001b[0m     pt_sum \u001b[39m=\u001b[39m pt_high \u001b[39m-\u001b[39m pt_low\n\u001b[1;32m    <a href='file:///home/lucas/Documents/Dropbox/RA/db-clustering/batchedDBSCAN.py?line=176'>177</a>\u001b[0m     z0_low \u001b[39m=\u001b[39m boundaries[i, \u001b[39m4\u001b[39m]\n",
      "\u001b[0;31mIndexError\u001b[0m: index 3 is out of bounds for axis 0 with size 3"
     ]
    }
   ],
   "source": [
    "db_b.fit()"
   ]
  },
  {
   "cell_type": "code",
   "execution_count": null,
   "metadata": {},
   "outputs": [],
   "source": []
  }
 ],
 "metadata": {
  "interpreter": {
   "hash": "17212318f44a1ff5305ff638e82c506922e786a85ea0359c6399d503679bee0c"
  },
  "kernelspec": {
   "display_name": "Python 3 (ipykernel)",
   "language": "python",
   "name": "python3"
  },
  "language_info": {
   "codemirror_mode": {
    "name": "ipython",
    "version": 3
   },
   "file_extension": ".py",
   "mimetype": "text/x-python",
   "name": "python",
   "nbconvert_exporter": "python",
   "pygments_lexer": "ipython3",
   "version": "3.9.7"
  }
 },
 "nbformat": 4,
 "nbformat_minor": 4
}
